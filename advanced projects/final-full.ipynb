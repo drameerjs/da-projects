{
 "cells": [
  {
   "cell_type": "markdown",
   "metadata": {},
   "source": [
    "<div class=\"alert alert-success\"> <b>Team Lead comment:</b>Hi! Thanks for submitting the work, it's a great project! We have everything we need) Technically everything is correctly. But most of all I enjoyed your recommendations and Tableau! Congrats on passing the final project!\n",
    "   \n",
    "</div>"
   ]
  },
  {
   "cell_type": "markdown",
   "metadata": {},
   "source": [
    "# Sources\n",
    "1. I used this to learn how to wrap texts in graphs, so I don't have rotate them in order to see the whole text - https://medium.com/dunder-data/automatically-wrap-graph-labels-in-matplotlib-and-seaborn-a48740bc9ce\n",
    "\n",
    "2. I used this to learn how to add a circle in the center of a pie chart - https://www.tutorialkart.com/matplotlib-tutorial/matplotlib-pyplot-bar-plot-width/#:~:text=To%20set%20width%20for%20bars%20in%2\n",
    "\n",
    "3. I used this whenever I needed to remember a python's function parameters - www.geeksforgeeks.org/\n",
    "\n",
    "4. I used this to learn more about panadas methods - https://pandas.pydata.org/docs/\n",
    "\n",
    "5. Seaborn barplot documnation - https://seaborn.pydata.org/generated/seaborn.barplot.html?highlight=barplot#seaborn.barplot\n",
    "\n",
    "# Tableau Dashboard\n",
    "* https://public.tableau.com/app/profile/ameer.shehadey/viz/final_project_dashboard_16559986069860/Dashboard1\n",
    "\n",
    "# Presentation\n",
    "* https://drive.google.com/file/d/16DzfkWubWJFsEC5MBFTqy-nzHnRshckz/view?usp=sharing"
   ]
  },
  {
   "cell_type": "markdown",
   "id": "19f692ca",
   "metadata": {},
   "source": [
    "## Initilization\n",
    "\n",
    "We work for an E-commerce company, our task is to run a product range analysis - determining which products are the most profitable and most successful and which are on the other side of things.\n",
    "\n",
    "**Purpose of the study:** Determine what line of products is the most successful in our company. Find the top sellers and highest demand items. Study our customers' purchasing behaviours and habits. All that in hopes to boost and increase the company's profits!\n",
    "\n",
    "**Plan of Work:**\n",
    "* Start with importing necessary libraries\n",
    "* Loading and overviewing the datasets\n",
    "* Cleaning the data from duplicates and looking for missing values\n",
    "* Additional preprocessing steps if necessary\n",
    "* Study popular product description keywords\n",
    "* Study most profitable and high demand products\n",
    "* Study the customer base\n",
    "* Testing hypothesis\n",
    "* Recommandations and conclusions\n",
    "\n",
    "\n",
    "### Loading Libraries and Datasets\n",
    "Lets start by loading necessary libraries"
   ]
  },
  {
   "cell_type": "code",
   "execution_count": 1,
   "id": "8386881d",
   "metadata": {},
   "outputs": [],
   "source": [
    "import pandas as pd\n",
    "import seaborn as sns\n",
    "import numpy as np\n",
    "import matplotlib.pyplot as plt\n",
    "from scipy import stats as st\n",
    "import warnings\n",
    "import textwrap # add sources\n",
    "warnings.filterwarnings(\"ignore\")"
   ]
  },
  {
   "cell_type": "markdown",
   "id": "f7fa5493",
   "metadata": {},
   "source": [
    "I think we've got all the necessary libraries, lets continue to load the datasets:"
   ]
  },
  {
   "cell_type": "code",
   "execution_count": 2,
   "id": "cd7a887b",
   "metadata": {},
   "outputs": [
    {
     "name": "stdout",
     "output_type": "stream",
     "text": [
      "<class 'pandas.core.frame.DataFrame'>\n",
      "RangeIndex: 541909 entries, 0 to 541908\n",
      "Data columns (total 7 columns):\n",
      " #   Column       Non-Null Count   Dtype  \n",
      "---  ------       --------------   -----  \n",
      " 0   InvoiceNo    541909 non-null  object \n",
      " 1   StockCode    541909 non-null  object \n",
      " 2   Description  540455 non-null  object \n",
      " 3   Quantity     541909 non-null  int64  \n",
      " 4   InvoiceDate  541909 non-null  object \n",
      " 5   UnitPrice    541909 non-null  float64\n",
      " 6   CustomerID   406829 non-null  float64\n",
      "dtypes: float64(2), int64(1), object(4)\n",
      "memory usage: 157.9 MB\n"
     ]
    },
    {
     "data": {
      "text/html": [
       "<div>\n",
       "<style scoped>\n",
       "    .dataframe tbody tr th:only-of-type {\n",
       "        vertical-align: middle;\n",
       "    }\n",
       "\n",
       "    .dataframe tbody tr th {\n",
       "        vertical-align: top;\n",
       "    }\n",
       "\n",
       "    .dataframe thead th {\n",
       "        text-align: right;\n",
       "    }\n",
       "</style>\n",
       "<table border=\"1\" class=\"dataframe\">\n",
       "  <thead>\n",
       "    <tr style=\"text-align: right;\">\n",
       "      <th></th>\n",
       "      <th>InvoiceNo</th>\n",
       "      <th>StockCode</th>\n",
       "      <th>Description</th>\n",
       "      <th>Quantity</th>\n",
       "      <th>InvoiceDate</th>\n",
       "      <th>UnitPrice</th>\n",
       "      <th>CustomerID</th>\n",
       "    </tr>\n",
       "  </thead>\n",
       "  <tbody>\n",
       "    <tr>\n",
       "      <th>0</th>\n",
       "      <td>536365</td>\n",
       "      <td>85123A</td>\n",
       "      <td>WHITE HANGING HEART T-LIGHT HOLDER</td>\n",
       "      <td>6</td>\n",
       "      <td>11/29/2018 08:26</td>\n",
       "      <td>2.55</td>\n",
       "      <td>17850.0</td>\n",
       "    </tr>\n",
       "    <tr>\n",
       "      <th>1</th>\n",
       "      <td>536365</td>\n",
       "      <td>71053</td>\n",
       "      <td>WHITE METAL LANTERN</td>\n",
       "      <td>6</td>\n",
       "      <td>11/29/2018 08:26</td>\n",
       "      <td>3.39</td>\n",
       "      <td>17850.0</td>\n",
       "    </tr>\n",
       "    <tr>\n",
       "      <th>2</th>\n",
       "      <td>536365</td>\n",
       "      <td>84406B</td>\n",
       "      <td>CREAM CUPID HEARTS COAT HANGER</td>\n",
       "      <td>8</td>\n",
       "      <td>11/29/2018 08:26</td>\n",
       "      <td>2.75</td>\n",
       "      <td>17850.0</td>\n",
       "    </tr>\n",
       "    <tr>\n",
       "      <th>3</th>\n",
       "      <td>536365</td>\n",
       "      <td>84029G</td>\n",
       "      <td>KNITTED UNION FLAG HOT WATER BOTTLE</td>\n",
       "      <td>6</td>\n",
       "      <td>11/29/2018 08:26</td>\n",
       "      <td>3.39</td>\n",
       "      <td>17850.0</td>\n",
       "    </tr>\n",
       "    <tr>\n",
       "      <th>4</th>\n",
       "      <td>536365</td>\n",
       "      <td>84029E</td>\n",
       "      <td>RED WOOLLY HOTTIE WHITE HEART.</td>\n",
       "      <td>6</td>\n",
       "      <td>11/29/2018 08:26</td>\n",
       "      <td>3.39</td>\n",
       "      <td>17850.0</td>\n",
       "    </tr>\n",
       "    <tr>\n",
       "      <th>5</th>\n",
       "      <td>536365</td>\n",
       "      <td>22752</td>\n",
       "      <td>SET 7 BABUSHKA NESTING BOXES</td>\n",
       "      <td>2</td>\n",
       "      <td>11/29/2018 08:26</td>\n",
       "      <td>7.65</td>\n",
       "      <td>17850.0</td>\n",
       "    </tr>\n",
       "    <tr>\n",
       "      <th>6</th>\n",
       "      <td>536365</td>\n",
       "      <td>21730</td>\n",
       "      <td>GLASS STAR FROSTED T-LIGHT HOLDER</td>\n",
       "      <td>6</td>\n",
       "      <td>11/29/2018 08:26</td>\n",
       "      <td>4.25</td>\n",
       "      <td>17850.0</td>\n",
       "    </tr>\n",
       "    <tr>\n",
       "      <th>7</th>\n",
       "      <td>536366</td>\n",
       "      <td>22633</td>\n",
       "      <td>HAND WARMER UNION JACK</td>\n",
       "      <td>6</td>\n",
       "      <td>11/29/2018 08:28</td>\n",
       "      <td>1.85</td>\n",
       "      <td>17850.0</td>\n",
       "    </tr>\n",
       "    <tr>\n",
       "      <th>8</th>\n",
       "      <td>536366</td>\n",
       "      <td>22632</td>\n",
       "      <td>HAND WARMER RED POLKA DOT</td>\n",
       "      <td>6</td>\n",
       "      <td>11/29/2018 08:28</td>\n",
       "      <td>1.85</td>\n",
       "      <td>17850.0</td>\n",
       "    </tr>\n",
       "    <tr>\n",
       "      <th>9</th>\n",
       "      <td>536367</td>\n",
       "      <td>84879</td>\n",
       "      <td>ASSORTED COLOUR BIRD ORNAMENT</td>\n",
       "      <td>32</td>\n",
       "      <td>11/29/2018 08:34</td>\n",
       "      <td>1.69</td>\n",
       "      <td>13047.0</td>\n",
       "    </tr>\n",
       "  </tbody>\n",
       "</table>\n",
       "</div>"
      ],
      "text/plain": [
       "  InvoiceNo StockCode                          Description  Quantity  \\\n",
       "0    536365    85123A   WHITE HANGING HEART T-LIGHT HOLDER         6   \n",
       "1    536365     71053                  WHITE METAL LANTERN         6   \n",
       "2    536365    84406B       CREAM CUPID HEARTS COAT HANGER         8   \n",
       "3    536365    84029G  KNITTED UNION FLAG HOT WATER BOTTLE         6   \n",
       "4    536365    84029E       RED WOOLLY HOTTIE WHITE HEART.         6   \n",
       "5    536365     22752         SET 7 BABUSHKA NESTING BOXES         2   \n",
       "6    536365     21730    GLASS STAR FROSTED T-LIGHT HOLDER         6   \n",
       "7    536366     22633               HAND WARMER UNION JACK         6   \n",
       "8    536366     22632            HAND WARMER RED POLKA DOT         6   \n",
       "9    536367     84879        ASSORTED COLOUR BIRD ORNAMENT        32   \n",
       "\n",
       "        InvoiceDate  UnitPrice  CustomerID  \n",
       "0  11/29/2018 08:26       2.55     17850.0  \n",
       "1  11/29/2018 08:26       3.39     17850.0  \n",
       "2  11/29/2018 08:26       2.75     17850.0  \n",
       "3  11/29/2018 08:26       3.39     17850.0  \n",
       "4  11/29/2018 08:26       3.39     17850.0  \n",
       "5  11/29/2018 08:26       7.65     17850.0  \n",
       "6  11/29/2018 08:26       4.25     17850.0  \n",
       "7  11/29/2018 08:28       1.85     17850.0  \n",
       "8  11/29/2018 08:28       1.85     17850.0  \n",
       "9  11/29/2018 08:34       1.69     13047.0  "
      ]
     },
     "metadata": {},
     "output_type": "display_data"
    }
   ],
   "source": [
    "df = pd.read_csv('/datasets/ecommerce_dataset_us.csv', sep='\\t')\n",
    "df.info(memory_usage='deep')\n",
    "display(df.head(10))"
   ]
  },
  {
   "cell_type": "markdown",
   "id": "f95394ca",
   "metadata": {},
   "source": [
    "**Right off the bat** we can notice that the *memory_usage* is pretty high, lets work on that:"
   ]
  },
  {
   "cell_type": "markdown",
   "id": "8af6e5bf",
   "metadata": {},
   "source": [
    "### Data Preprocessing & Optimization\n",
    "\n",
    "Lets start by looking for duplicates:"
   ]
  },
  {
   "cell_type": "code",
   "execution_count": 3,
   "id": "e1607ed3",
   "metadata": {},
   "outputs": [
    {
     "name": "stdout",
     "output_type": "stream",
     "text": [
      "Duplicates before dropping: 5268\n",
      "Duplicates: 0\n"
     ]
    }
   ],
   "source": [
    "print('Duplicates before dropping:', df.duplicated().sum()) # check for duplicates\n",
    "df.drop_duplicates(inplace = True) \n",
    "print('Duplicates:', df.duplicated().sum()) # check for duplicates again"
   ]
  },
  {
   "cell_type": "markdown",
   "id": "aac2c4a2",
   "metadata": {},
   "source": [
    "We've found around 5000 duplicates. A duplicate in our case is a row that was repeated more than once - meaning, a row with the same InvoiceNo, CustomerId, Quantity, UnitPrice and time which doesn't make sense in our E-commerce company. Therefore, we'll drop all duplicates."
   ]
  },
  {
   "cell_type": "markdown",
   "id": "5e1b54d6",
   "metadata": {},
   "source": [
    "**Next:** *memory_usage* showed earlier as 157MB which is pretty high and may cause some run-times delays, so lets optimize our dataframe."
   ]
  },
  {
   "cell_type": "code",
   "execution_count": 4,
   "id": "353b4f9b",
   "metadata": {},
   "outputs": [
    {
     "name": "stdout",
     "output_type": "stream",
     "text": [
      "<class 'pandas.core.frame.DataFrame'>\n",
      "Int64Index: 536641 entries, 0 to 541908\n",
      "Data columns (total 7 columns):\n",
      " #   Column       Non-Null Count   Dtype         \n",
      "---  ------       --------------   -----         \n",
      " 0   InvoiceNo    536641 non-null  object        \n",
      " 1   StockCode    536641 non-null  object        \n",
      " 2   Description  535187 non-null  object        \n",
      " 3   Quantity     536641 non-null  int64         \n",
      " 4   InvoiceDate  536641 non-null  datetime64[ns]\n",
      " 5   UnitPrice    536641 non-null  float64       \n",
      " 6   CustomerID   401604 non-null  float64       \n",
      "dtypes: datetime64[ns](1), float64(2), int64(1), object(3)\n",
      "memory usage: 127.2 MB\n"
     ]
    }
   ],
   "source": [
    "df['InvoiceDate'] = pd.to_datetime(df['InvoiceDate'])\n",
    "df.info(memory_usage='deep')"
   ]
  },
  {
   "cell_type": "markdown",
   "id": "688f6be8",
   "metadata": {},
   "source": [
    "We've cut around 30MBs by just converting our dates into datetime. Lets move on to see if we can do more about that:"
   ]
  },
  {
   "cell_type": "markdown",
   "id": "a71951d5",
   "metadata": {},
   "source": [
    "**Next:** we're dividing our dataframe into 3 parts - while working with the dataframe, we noticed that we have data about returns, purchases and adjusts; therefore, we will divide the data into 3 dataframes for easier and faster use later on."
   ]
  },
  {
   "cell_type": "code",
   "execution_count": 5,
   "id": "7063319a",
   "metadata": {},
   "outputs": [
    {
     "data": {
      "text/html": [
       "<div>\n",
       "<style scoped>\n",
       "    .dataframe tbody tr th:only-of-type {\n",
       "        vertical-align: middle;\n",
       "    }\n",
       "\n",
       "    .dataframe tbody tr th {\n",
       "        vertical-align: top;\n",
       "    }\n",
       "\n",
       "    .dataframe thead th {\n",
       "        text-align: right;\n",
       "    }\n",
       "</style>\n",
       "<table border=\"1\" class=\"dataframe\">\n",
       "  <thead>\n",
       "    <tr style=\"text-align: right;\">\n",
       "      <th></th>\n",
       "      <th>InvoiceNo</th>\n",
       "      <th>StockCode</th>\n",
       "      <th>Description</th>\n",
       "      <th>Quantity</th>\n",
       "      <th>InvoiceDate</th>\n",
       "      <th>UnitPrice</th>\n",
       "      <th>CustomerID</th>\n",
       "    </tr>\n",
       "  </thead>\n",
       "  <tbody>\n",
       "    <tr>\n",
       "      <th>0</th>\n",
       "      <td>536365</td>\n",
       "      <td>85123A</td>\n",
       "      <td>WHITE HANGING HEART T-LIGHT HOLDER</td>\n",
       "      <td>6</td>\n",
       "      <td>2018-11-29 08:26:00</td>\n",
       "      <td>2.55</td>\n",
       "      <td>17850.0</td>\n",
       "    </tr>\n",
       "    <tr>\n",
       "      <th>1</th>\n",
       "      <td>536365</td>\n",
       "      <td>71053</td>\n",
       "      <td>WHITE METAL LANTERN</td>\n",
       "      <td>6</td>\n",
       "      <td>2018-11-29 08:26:00</td>\n",
       "      <td>3.39</td>\n",
       "      <td>17850.0</td>\n",
       "    </tr>\n",
       "    <tr>\n",
       "      <th>2</th>\n",
       "      <td>536365</td>\n",
       "      <td>84406B</td>\n",
       "      <td>CREAM CUPID HEARTS COAT HANGER</td>\n",
       "      <td>8</td>\n",
       "      <td>2018-11-29 08:26:00</td>\n",
       "      <td>2.75</td>\n",
       "      <td>17850.0</td>\n",
       "    </tr>\n",
       "    <tr>\n",
       "      <th>3</th>\n",
       "      <td>536365</td>\n",
       "      <td>84029G</td>\n",
       "      <td>KNITTED UNION FLAG HOT WATER BOTTLE</td>\n",
       "      <td>6</td>\n",
       "      <td>2018-11-29 08:26:00</td>\n",
       "      <td>3.39</td>\n",
       "      <td>17850.0</td>\n",
       "    </tr>\n",
       "    <tr>\n",
       "      <th>4</th>\n",
       "      <td>536365</td>\n",
       "      <td>84029E</td>\n",
       "      <td>RED WOOLLY HOTTIE WHITE HEART.</td>\n",
       "      <td>6</td>\n",
       "      <td>2018-11-29 08:26:00</td>\n",
       "      <td>3.39</td>\n",
       "      <td>17850.0</td>\n",
       "    </tr>\n",
       "  </tbody>\n",
       "</table>\n",
       "</div>"
      ],
      "text/plain": [
       "  InvoiceNo StockCode                          Description  Quantity  \\\n",
       "0    536365    85123A   WHITE HANGING HEART T-LIGHT HOLDER         6   \n",
       "1    536365     71053                  WHITE METAL LANTERN         6   \n",
       "2    536365    84406B       CREAM CUPID HEARTS COAT HANGER         8   \n",
       "3    536365    84029G  KNITTED UNION FLAG HOT WATER BOTTLE         6   \n",
       "4    536365    84029E       RED WOOLLY HOTTIE WHITE HEART.         6   \n",
       "\n",
       "          InvoiceDate  UnitPrice  CustomerID  \n",
       "0 2018-11-29 08:26:00       2.55     17850.0  \n",
       "1 2018-11-29 08:26:00       3.39     17850.0  \n",
       "2 2018-11-29 08:26:00       2.75     17850.0  \n",
       "3 2018-11-29 08:26:00       3.39     17850.0  \n",
       "4 2018-11-29 08:26:00       3.39     17850.0  "
      ]
     },
     "execution_count": 5,
     "metadata": {},
     "output_type": "execute_result"
    }
   ],
   "source": [
    "# Keeping only purchases (Numerical InvoiceNos)\n",
    "invoices = df[~((df['InvoiceNo'].str.startswith('C')) | (df['InvoiceNo'].str.startswith('A')))]\n",
    "invoices.head()"
   ]
  },
  {
   "cell_type": "code",
   "execution_count": 6,
   "id": "8ab7f408",
   "metadata": {},
   "outputs": [
    {
     "data": {
      "text/html": [
       "<div>\n",
       "<style scoped>\n",
       "    .dataframe tbody tr th:only-of-type {\n",
       "        vertical-align: middle;\n",
       "    }\n",
       "\n",
       "    .dataframe tbody tr th {\n",
       "        vertical-align: top;\n",
       "    }\n",
       "\n",
       "    .dataframe thead th {\n",
       "        text-align: right;\n",
       "    }\n",
       "</style>\n",
       "<table border=\"1\" class=\"dataframe\">\n",
       "  <thead>\n",
       "    <tr style=\"text-align: right;\">\n",
       "      <th></th>\n",
       "      <th>InvoiceNo</th>\n",
       "      <th>StockCode</th>\n",
       "      <th>Description</th>\n",
       "      <th>Quantity</th>\n",
       "      <th>InvoiceDate</th>\n",
       "      <th>UnitPrice</th>\n",
       "      <th>CustomerID</th>\n",
       "    </tr>\n",
       "  </thead>\n",
       "  <tbody>\n",
       "    <tr>\n",
       "      <th>141</th>\n",
       "      <td>C536379</td>\n",
       "      <td>D</td>\n",
       "      <td>Discount</td>\n",
       "      <td>-1</td>\n",
       "      <td>2018-11-29 09:41:00</td>\n",
       "      <td>27.50</td>\n",
       "      <td>14527.0</td>\n",
       "    </tr>\n",
       "    <tr>\n",
       "      <th>154</th>\n",
       "      <td>C536383</td>\n",
       "      <td>35004C</td>\n",
       "      <td>SET OF 3 COLOURED  FLYING DUCKS</td>\n",
       "      <td>-1</td>\n",
       "      <td>2018-11-29 09:49:00</td>\n",
       "      <td>4.65</td>\n",
       "      <td>15311.0</td>\n",
       "    </tr>\n",
       "    <tr>\n",
       "      <th>235</th>\n",
       "      <td>C536391</td>\n",
       "      <td>22556</td>\n",
       "      <td>PLASTERS IN TIN CIRCUS PARADE</td>\n",
       "      <td>-12</td>\n",
       "      <td>2018-11-29 10:24:00</td>\n",
       "      <td>1.65</td>\n",
       "      <td>17548.0</td>\n",
       "    </tr>\n",
       "    <tr>\n",
       "      <th>236</th>\n",
       "      <td>C536391</td>\n",
       "      <td>21984</td>\n",
       "      <td>PACK OF 12 PINK PAISLEY TISSUES</td>\n",
       "      <td>-24</td>\n",
       "      <td>2018-11-29 10:24:00</td>\n",
       "      <td>0.29</td>\n",
       "      <td>17548.0</td>\n",
       "    </tr>\n",
       "    <tr>\n",
       "      <th>237</th>\n",
       "      <td>C536391</td>\n",
       "      <td>21983</td>\n",
       "      <td>PACK OF 12 BLUE PAISLEY TISSUES</td>\n",
       "      <td>-24</td>\n",
       "      <td>2018-11-29 10:24:00</td>\n",
       "      <td>0.29</td>\n",
       "      <td>17548.0</td>\n",
       "    </tr>\n",
       "  </tbody>\n",
       "</table>\n",
       "</div>"
      ],
      "text/plain": [
       "    InvoiceNo StockCode                       Description  Quantity  \\\n",
       "141   C536379         D                          Discount        -1   \n",
       "154   C536383    35004C   SET OF 3 COLOURED  FLYING DUCKS        -1   \n",
       "235   C536391     22556    PLASTERS IN TIN CIRCUS PARADE        -12   \n",
       "236   C536391     21984  PACK OF 12 PINK PAISLEY TISSUES        -24   \n",
       "237   C536391     21983  PACK OF 12 BLUE PAISLEY TISSUES        -24   \n",
       "\n",
       "            InvoiceDate  UnitPrice  CustomerID  \n",
       "141 2018-11-29 09:41:00      27.50     14527.0  \n",
       "154 2018-11-29 09:49:00       4.65     15311.0  \n",
       "235 2018-11-29 10:24:00       1.65     17548.0  \n",
       "236 2018-11-29 10:24:00       0.29     17548.0  \n",
       "237 2018-11-29 10:24:00       0.29     17548.0  "
      ]
     },
     "execution_count": 6,
     "metadata": {},
     "output_type": "execute_result"
    }
   ],
   "source": [
    "# Keeping only returns/cancellations, InvoiceNo includes C\n",
    "returns = df[df['InvoiceNo'].str.startswith('C')]\n",
    "returns.head()"
   ]
  },
  {
   "cell_type": "code",
   "execution_count": 7,
   "id": "e6ad3b82",
   "metadata": {},
   "outputs": [
    {
     "data": {
      "text/html": [
       "<div>\n",
       "<style scoped>\n",
       "    .dataframe tbody tr th:only-of-type {\n",
       "        vertical-align: middle;\n",
       "    }\n",
       "\n",
       "    .dataframe tbody tr th {\n",
       "        vertical-align: top;\n",
       "    }\n",
       "\n",
       "    .dataframe thead th {\n",
       "        text-align: right;\n",
       "    }\n",
       "</style>\n",
       "<table border=\"1\" class=\"dataframe\">\n",
       "  <thead>\n",
       "    <tr style=\"text-align: right;\">\n",
       "      <th></th>\n",
       "      <th>InvoiceNo</th>\n",
       "      <th>StockCode</th>\n",
       "      <th>Description</th>\n",
       "      <th>Quantity</th>\n",
       "      <th>InvoiceDate</th>\n",
       "      <th>UnitPrice</th>\n",
       "      <th>CustomerID</th>\n",
       "    </tr>\n",
       "  </thead>\n",
       "  <tbody>\n",
       "    <tr>\n",
       "      <th>299982</th>\n",
       "      <td>A563185</td>\n",
       "      <td>B</td>\n",
       "      <td>Adjust bad debt</td>\n",
       "      <td>1</td>\n",
       "      <td>2019-08-10 14:50:00</td>\n",
       "      <td>11062.06</td>\n",
       "      <td>NaN</td>\n",
       "    </tr>\n",
       "    <tr>\n",
       "      <th>299983</th>\n",
       "      <td>A563186</td>\n",
       "      <td>B</td>\n",
       "      <td>Adjust bad debt</td>\n",
       "      <td>1</td>\n",
       "      <td>2019-08-10 14:51:00</td>\n",
       "      <td>-11062.06</td>\n",
       "      <td>NaN</td>\n",
       "    </tr>\n",
       "    <tr>\n",
       "      <th>299984</th>\n",
       "      <td>A563187</td>\n",
       "      <td>B</td>\n",
       "      <td>Adjust bad debt</td>\n",
       "      <td>1</td>\n",
       "      <td>2019-08-10 14:52:00</td>\n",
       "      <td>-11062.06</td>\n",
       "      <td>NaN</td>\n",
       "    </tr>\n",
       "  </tbody>\n",
       "</table>\n",
       "</div>"
      ],
      "text/plain": [
       "       InvoiceNo StockCode      Description  Quantity         InvoiceDate  \\\n",
       "299982   A563185         B  Adjust bad debt         1 2019-08-10 14:50:00   \n",
       "299983   A563186         B  Adjust bad debt         1 2019-08-10 14:51:00   \n",
       "299984   A563187         B  Adjust bad debt         1 2019-08-10 14:52:00   \n",
       "\n",
       "        UnitPrice  CustomerID  \n",
       "299982   11062.06         NaN  \n",
       "299983  -11062.06         NaN  \n",
       "299984  -11062.06         NaN  "
      ]
     },
     "execution_count": 7,
     "metadata": {},
     "output_type": "execute_result"
    }
   ],
   "source": [
    "# Adjusts only, InvoiceNo includes A\n",
    "adjusts = df[df['InvoiceNo'].str.startswith('A')]\n",
    "adjusts"
   ]
  },
  {
   "cell_type": "markdown",
   "id": "c1caf5c9",
   "metadata": {},
   "source": [
    "Now that we have 3 seperate dataframes now, lets continue **optimizing**:"
   ]
  },
  {
   "cell_type": "code",
   "execution_count": 8,
   "id": "55873de9",
   "metadata": {},
   "outputs": [],
   "source": [
    "invoices['InvoiceNo'] = invoices['InvoiceNo'].astype('int')"
   ]
  },
  {
   "cell_type": "markdown",
   "id": "c93a644f",
   "metadata": {},
   "source": [
    "Checking for missing values within our first seperate dataframe:"
   ]
  },
  {
   "cell_type": "code",
   "execution_count": 9,
   "id": "4b171613",
   "metadata": {},
   "outputs": [
    {
     "name": "stdout",
     "output_type": "stream",
     "text": [
      "<class 'pandas.core.frame.DataFrame'>\n",
      "Int64Index: 524877 entries, 0 to 541908\n",
      "Data columns (total 7 columns):\n",
      " #   Column       Non-Null Count   Dtype         \n",
      "---  ------       --------------   -----         \n",
      " 0   InvoiceNo    524877 non-null  int64         \n",
      " 1   StockCode    524877 non-null  object        \n",
      " 2   Description  524877 non-null  object        \n",
      " 3   Quantity     524877 non-null  int64         \n",
      " 4   InvoiceDate  524877 non-null  datetime64[ns]\n",
      " 5   UnitPrice    524877 non-null  float64       \n",
      " 6   CustomerID   392692 non-null  float64       \n",
      "dtypes: datetime64[ns](1), float64(2), int64(2), object(2)\n",
      "memory usage: 97.0 MB\n"
     ]
    }
   ],
   "source": [
    "df = df[~df['Description'].isna()] # removing empty descriptions\n",
    "df = df[df['UnitPrice'] > 0] # removing items with price as 0\n",
    "invoices = invoices[~invoices['Description'].isna()] # removing empty descriptions\n",
    "invoices = invoices[invoices['UnitPrice'] > 0] # removing items with price as 0\n",
    "invoices.info(memory_usage='deep')"
   ]
  },
  {
   "cell_type": "markdown",
   "id": "4477491f",
   "metadata": {},
   "source": [
    "### Summary\n",
    "* We have around 134,000 of missing values in CustomerID - according to the team lead, this happened due to an error in the system for new users - we kept the rows because we still have InvoiceNo's in the other hand to identify the row.\n",
    "* Seperated the dataset into 2 main dataframes; Invoices (purchases) and Returns\n",
    "* We've cut memory_usage from 157 MB to 97 MB - 60 MB saved!\n",
    "* We've dropped 5,000 duplicates and dealt with 12,000 missing values.\n",
    "\n",
    "Our data is ready for studying, lets move on to the next **step**."
   ]
  },
  {
   "cell_type": "markdown",
   "id": "238a1b92",
   "metadata": {},
   "source": [
    "## Exploratory Data Analysis\n",
    "\n",
    "We'll start our EDA with product range categorization. At this part, we'll exctract keywords from the product description and see which are most popular.\n",
    "\n",
    "### Product Range Categorization\n",
    "\n",
    "Studying popular keywords or categories is different from studying popular/successful products. I think it is important to study popular keywords because sometimes, certain categories are so vast and include so much products that we don't notice the success of its seperate products but as a collective they are very popular and without this study, we might miss this small hidden details.\n",
    "\n",
    "Example: imagine we have a line of colored towels, 12 colors - now, each towel has an average sales of 30,000 which doesn't give those towels a ticket to the top 10 or top 50 products. But as a collective, they have 12 * 30,000 = 360,000 in sales, here we start to notice that these towels actually are top sellers, just in secrecy!"
   ]
  },
  {
   "cell_type": "code",
   "execution_count": 10,
   "id": "8aeb84e2",
   "metadata": {},
   "outputs": [],
   "source": [
    "set_of_words = {} # we'll save desc keywords here\n",
    "for row in invoices.index:\n",
    "    desc = invoices.loc[row, 'Description']\n",
    "    quan = invoices.loc[row, 'Quantity']\n",
    "    desc = desc.split()\n",
    "    for word in desc:\n",
    "        if word in set_of_words.keys() and word != 'OF' and word not in '1234567890':\n",
    "            set_of_words[word][0] += 1 # once a keyword shows up again we add 1 show-up\n",
    "            set_of_words[word][1] += quan # calculating the cumulative quantity\n",
    "        else:\n",
    "            set_of_words[word] = [1,quan] # once a keyword shows for the first time, we give 1 show-up\n",
    "\n",
    "list_of_words = [[k, v[0], v[1]] for k, v in set_of_words.items()] # saving in a list because dicts cant be sorted"
   ]
  },
  {
   "cell_type": "code",
   "execution_count": 11,
   "id": "5ec08d45",
   "metadata": {},
   "outputs": [
    {
     "data": {
      "text/html": [
       "<div>\n",
       "<style scoped>\n",
       "    .dataframe tbody tr th:only-of-type {\n",
       "        vertical-align: middle;\n",
       "    }\n",
       "\n",
       "    .dataframe tbody tr th {\n",
       "        vertical-align: top;\n",
       "    }\n",
       "\n",
       "    .dataframe thead th {\n",
       "        text-align: right;\n",
       "    }\n",
       "</style>\n",
       "<table border=\"1\" class=\"dataframe\">\n",
       "  <thead>\n",
       "    <tr style=\"text-align: right;\">\n",
       "      <th></th>\n",
       "      <th>Keyword</th>\n",
       "      <th>Repetitions</th>\n",
       "    </tr>\n",
       "  </thead>\n",
       "  <tbody>\n",
       "    <tr>\n",
       "      <th>22</th>\n",
       "      <td>SET</td>\n",
       "      <td>53069</td>\n",
       "    </tr>\n",
       "    <tr>\n",
       "      <th>111</th>\n",
       "      <td>BAG</td>\n",
       "      <td>50823</td>\n",
       "    </tr>\n",
       "    <tr>\n",
       "      <th>18</th>\n",
       "      <td>RED</td>\n",
       "      <td>41742</td>\n",
       "    </tr>\n",
       "    <tr>\n",
       "      <th>2</th>\n",
       "      <td>HEART</td>\n",
       "      <td>37841</td>\n",
       "    </tr>\n",
       "    <tr>\n",
       "      <th>98</th>\n",
       "      <td>RETROSPOT</td>\n",
       "      <td>34124</td>\n",
       "    </tr>\n",
       "  </tbody>\n",
       "</table>\n",
       "</div>"
      ],
      "text/plain": [
       "       Keyword  Repetitions\n",
       "22         SET        53069\n",
       "111        BAG        50823\n",
       "18         RED        41742\n",
       "2        HEART        37841\n",
       "98   RETROSPOT        34124"
      ]
     },
     "metadata": {},
     "output_type": "display_data"
    },
    {
     "data": {
      "text/html": [
       "<div>\n",
       "<style scoped>\n",
       "    .dataframe tbody tr th:only-of-type {\n",
       "        vertical-align: middle;\n",
       "    }\n",
       "\n",
       "    .dataframe tbody tr th {\n",
       "        vertical-align: top;\n",
       "    }\n",
       "\n",
       "    .dataframe thead th {\n",
       "        text-align: right;\n",
       "    }\n",
       "</style>\n",
       "<table border=\"1\" class=\"dataframe\">\n",
       "  <thead>\n",
       "    <tr style=\"text-align: right;\">\n",
       "      <th></th>\n",
       "      <th>Keyword</th>\n",
       "      <th>Quantity</th>\n",
       "    </tr>\n",
       "  </thead>\n",
       "  <tbody>\n",
       "    <tr>\n",
       "      <th>111</th>\n",
       "      <td>BAG</td>\n",
       "      <td>603246</td>\n",
       "    </tr>\n",
       "    <tr>\n",
       "      <th>22</th>\n",
       "      <td>SET</td>\n",
       "      <td>453535</td>\n",
       "    </tr>\n",
       "    <tr>\n",
       "      <th>18</th>\n",
       "      <td>RED</td>\n",
       "      <td>434602</td>\n",
       "    </tr>\n",
       "    <tr>\n",
       "      <th>2</th>\n",
       "      <td>HEART</td>\n",
       "      <td>395938</td>\n",
       "    </tr>\n",
       "    <tr>\n",
       "      <th>98</th>\n",
       "      <td>RETROSPOT</td>\n",
       "      <td>361226</td>\n",
       "    </tr>\n",
       "  </tbody>\n",
       "</table>\n",
       "</div>"
      ],
      "text/plain": [
       "       Keyword  Quantity\n",
       "111        BAG    603246\n",
       "22         SET    453535\n",
       "18         RED    434602\n",
       "2        HEART    395938\n",
       "98   RETROSPOT    361226"
      ]
     },
     "metadata": {},
     "output_type": "display_data"
    }
   ],
   "source": [
    "# transforming the lists to a dataframe\n",
    "popular_keywords = pd.DataFrame(data = {\"Keyword\":[row[0] for row in list_of_words], \"Repetitions\": [row[1] for row in list_of_words], \"Quantity\": [row[2] for row in list_of_words]})\n",
    "popular_keywords_1 = popular_keywords[['Keyword', 'Repetitions']].sort_values(by='Repetitions', ascending = False).head(20)\n",
    "popular_keywords_2 = popular_keywords[['Keyword', 'Quantity']].sort_values(by='Quantity', ascending = False).head(20)\n",
    "\n",
    "display(popular_keywords_1.head())\n",
    "display(popular_keywords_2.head())"
   ]
  },
  {
   "cell_type": "code",
   "execution_count": 12,
   "id": "3f35ee3b",
   "metadata": {},
   "outputs": [
    {
     "data": {
      "image/png": "[encoded data removed]",
      "text/plain": [
       "<Figure size 1080x360 with 2 Axes>"
      ]
     },
     "metadata": {
      "needs_background": "light"
     },
     "output_type": "display_data"
    }
   ],
   "source": [
    "fig, axes = plt.subplots(1, 2, figsize=(15,5))\n",
    "sns.set_theme(style='whitegrid')\n",
    "sns.barplot(data = popular_keywords_1, x = 'Keyword', y = 'Repetitions', ax=axes[0]).set_xticklabels(popular_keywords_1['Keyword'], rotation=55)\n",
    "sns.barplot(data = popular_keywords_2, x = 'Keyword', y = 'Quantity', ax=axes[1]).set_xticklabels(popular_keywords_2['Keyword'], rotation=55)\n",
    "axes[0].set_xlabel('Keyword')\n",
    "axes[1].set_xlabel('Keyword')\n",
    "\n",
    "axes[0].set_ylabel('Repetitions')\n",
    "axes[1].set_ylabel('Quantity')\n",
    "\n",
    "fig.suptitle('Keyword popularity distribution')\n",
    "plt.show()"
   ]
  },
  {
   "cell_type": "markdown",
   "id": "4f2cb866",
   "metadata": {},
   "source": [
    "#### Summary\n",
    "We can see that we successfully found popular keywords that appeared within the invoices.\n",
    "Categories like Red, Blue, White or Metal could mean that our customers like buying stuff that are **red** or **metal** in one hand, which gives this study a reason. On the other hand, it could simply mean that a very popular product has the word **red** or **metal** in its desc and that's why those keywords appear here. For now, we are happy with the results, we have an idea of what to expect, to know more we need to continue investigation."
   ]
  },
  {
   "cell_type": "markdown",
   "id": "d41716bf",
   "metadata": {},
   "source": [
    "**Next:** Product Range Values Analysis, in this part we'll study sucessful and high demand products. Determine what is a top seller and add more information to the study we just conducted above.\n",
    "\n",
    "### Product Range Values Analysis\n",
    "\n",
    "We'll start our product range values analysis by looking at what products generated the most revenue (excluding returns/cancellations):\n",
    "\n",
    "#### Products with highest sales"
   ]
  },
  {
   "cell_type": "code",
   "execution_count": 13,
   "id": "7b7308ac",
   "metadata": {},
   "outputs": [
    {
     "data": {
      "text/html": [
       "<div>\n",
       "<style scoped>\n",
       "    .dataframe tbody tr th:only-of-type {\n",
       "        vertical-align: middle;\n",
       "    }\n",
       "\n",
       "    .dataframe tbody tr th {\n",
       "        vertical-align: top;\n",
       "    }\n",
       "\n",
       "    .dataframe thead th {\n",
       "        text-align: right;\n",
       "    }\n",
       "</style>\n",
       "<table border=\"1\" class=\"dataframe\">\n",
       "  <thead>\n",
       "    <tr style=\"text-align: right;\">\n",
       "      <th></th>\n",
       "      <th>StockCode</th>\n",
       "      <th>Description</th>\n",
       "      <th>UnitPrice</th>\n",
       "      <th>Quantity</th>\n",
       "      <th>Total</th>\n",
       "    </tr>\n",
       "  </thead>\n",
       "  <tbody>\n",
       "    <tr>\n",
       "      <th>4150</th>\n",
       "      <td>M</td>\n",
       "      <td>Manual</td>\n",
       "      <td>234.489652</td>\n",
       "      <td>6984</td>\n",
       "      <td>1637675.72</td>\n",
       "    </tr>\n",
       "    <tr>\n",
       "      <th>4149</th>\n",
       "      <td>DOT</td>\n",
       "      <td>DOTCOM POSTAGE</td>\n",
       "      <td>292.137068</td>\n",
       "      <td>706</td>\n",
       "      <td>206248.77</td>\n",
       "    </tr>\n",
       "    <tr>\n",
       "      <th>1340</th>\n",
       "      <td>22423</td>\n",
       "      <td>REGENCY CAKESTAND 3 TIER</td>\n",
       "      <td>13.983936</td>\n",
       "      <td>13851</td>\n",
       "      <td>193691.50</td>\n",
       "    </tr>\n",
       "    <tr>\n",
       "      <th>2668</th>\n",
       "      <td>23843</td>\n",
       "      <td>PAPER CRAFT , LITTLE BIRDIE</td>\n",
       "      <td>2.080000</td>\n",
       "      <td>80995</td>\n",
       "      <td>168469.60</td>\n",
       "    </tr>\n",
       "    <tr>\n",
       "      <th>3619</th>\n",
       "      <td>85099B</td>\n",
       "      <td>JUMBO BAG RED RETROSPOT</td>\n",
       "      <td>2.486197</td>\n",
       "      <td>48371</td>\n",
       "      <td>120259.84</td>\n",
       "    </tr>\n",
       "    <tr>\n",
       "      <th>3640</th>\n",
       "      <td>85123A</td>\n",
       "      <td>WHITE HANGING HEART T-LIGHT HOLDER</td>\n",
       "      <td>3.116159</td>\n",
       "      <td>37580</td>\n",
       "      <td>117105.24</td>\n",
       "    </tr>\n",
       "    <tr>\n",
       "      <th>2123</th>\n",
       "      <td>23166</td>\n",
       "      <td>MEDIUM CERAMIC TOP STORAGE JAR</td>\n",
       "      <td>1.468480</td>\n",
       "      <td>78033</td>\n",
       "      <td>114589.89</td>\n",
       "    </tr>\n",
       "    <tr>\n",
       "      <th>2877</th>\n",
       "      <td>47566</td>\n",
       "      <td>PARTY BUNTING</td>\n",
       "      <td>5.797928</td>\n",
       "      <td>18283</td>\n",
       "      <td>106003.52</td>\n",
       "    </tr>\n",
       "    <tr>\n",
       "      <th>4152</th>\n",
       "      <td>POST</td>\n",
       "      <td>POSTAGE</td>\n",
       "      <td>31.076581</td>\n",
       "      <td>3150</td>\n",
       "      <td>97891.22</td>\n",
       "    </tr>\n",
       "    <tr>\n",
       "      <th>2029</th>\n",
       "      <td>23084</td>\n",
       "      <td>RABBIT NIGHT LIGHT</td>\n",
       "      <td>2.386401</td>\n",
       "      <td>30739</td>\n",
       "      <td>73355.58</td>\n",
       "    </tr>\n",
       "    <tr>\n",
       "      <th>3059</th>\n",
       "      <td>79321</td>\n",
       "      <td>CHILLI LIGHTS</td>\n",
       "      <td>6.795397</td>\n",
       "      <td>10302</td>\n",
       "      <td>70006.18</td>\n",
       "    </tr>\n",
       "    <tr>\n",
       "      <th>1022</th>\n",
       "      <td>22086</td>\n",
       "      <td>PAPER CHAIN KIT 50'S CHRISTMAS</td>\n",
       "      <td>3.362331</td>\n",
       "      <td>19329</td>\n",
       "      <td>64990.49</td>\n",
       "    </tr>\n",
       "    <tr>\n",
       "      <th>3416</th>\n",
       "      <td>84879</td>\n",
       "      <td>ASSORTED COLOUR BIRD ORNAMENT</td>\n",
       "      <td>1.722575</td>\n",
       "      <td>36362</td>\n",
       "      <td>62636.25</td>\n",
       "    </tr>\n",
       "    <tr>\n",
       "      <th>1307</th>\n",
       "      <td>22386</td>\n",
       "      <td>JUMBO BAG PINK POLKADOT</td>\n",
       "      <td>2.598734</td>\n",
       "      <td>21448</td>\n",
       "      <td>55737.64</td>\n",
       "    </tr>\n",
       "    <tr>\n",
       "      <th>3085</th>\n",
       "      <td>82484</td>\n",
       "      <td>WOOD BLACK BOARD ANT WHITE FINISH</td>\n",
       "      <td>8.440540</td>\n",
       "      <td>6012</td>\n",
       "      <td>50744.52</td>\n",
       "    </tr>\n",
       "    <tr>\n",
       "      <th>397</th>\n",
       "      <td>21137</td>\n",
       "      <td>BLACK RECORD COVER FRAME</td>\n",
       "      <td>4.215585</td>\n",
       "      <td>11651</td>\n",
       "      <td>49115.78</td>\n",
       "    </tr>\n",
       "    <tr>\n",
       "      <th>2269</th>\n",
       "      <td>23284</td>\n",
       "      <td>DOORMAT KEEP CALM AND COME IN</td>\n",
       "      <td>8.776284</td>\n",
       "      <td>5487</td>\n",
       "      <td>48155.47</td>\n",
       "    </tr>\n",
       "    <tr>\n",
       "      <th>2285</th>\n",
       "      <td>23298</td>\n",
       "      <td>SPOTTY BUNTING</td>\n",
       "      <td>5.523960</td>\n",
       "      <td>8320</td>\n",
       "      <td>45959.34</td>\n",
       "    </tr>\n",
       "    <tr>\n",
       "      <th>1882</th>\n",
       "      <td>22960</td>\n",
       "      <td>JAM MAKING SET WITH JARS</td>\n",
       "      <td>5.077670</td>\n",
       "      <td>8695</td>\n",
       "      <td>44150.33</td>\n",
       "    </tr>\n",
       "    <tr>\n",
       "      <th>1630</th>\n",
       "      <td>22720</td>\n",
       "      <td>SET OF 3 CAKE TINS PANTRY DESIGN</td>\n",
       "      <td>5.833714</td>\n",
       "      <td>7483</td>\n",
       "      <td>43653.68</td>\n",
       "    </tr>\n",
       "  </tbody>\n",
       "</table>\n",
       "</div>"
      ],
      "text/plain": [
       "     StockCode                         Description   UnitPrice  Quantity  \\\n",
       "4150         M                              Manual  234.489652      6984   \n",
       "4149       DOT                      DOTCOM POSTAGE  292.137068       706   \n",
       "1340     22423            REGENCY CAKESTAND 3 TIER   13.983936     13851   \n",
       "2668     23843         PAPER CRAFT , LITTLE BIRDIE    2.080000     80995   \n",
       "3619    85099B             JUMBO BAG RED RETROSPOT    2.486197     48371   \n",
       "3640    85123A  WHITE HANGING HEART T-LIGHT HOLDER    3.116159     37580   \n",
       "2123     23166      MEDIUM CERAMIC TOP STORAGE JAR    1.468480     78033   \n",
       "2877     47566                       PARTY BUNTING    5.797928     18283   \n",
       "4152      POST                             POSTAGE   31.076581      3150   \n",
       "2029     23084                  RABBIT NIGHT LIGHT    2.386401     30739   \n",
       "3059     79321                       CHILLI LIGHTS    6.795397     10302   \n",
       "1022     22086     PAPER CHAIN KIT 50'S CHRISTMAS     3.362331     19329   \n",
       "3416     84879       ASSORTED COLOUR BIRD ORNAMENT    1.722575     36362   \n",
       "1307     22386             JUMBO BAG PINK POLKADOT    2.598734     21448   \n",
       "3085     82484   WOOD BLACK BOARD ANT WHITE FINISH    8.440540      6012   \n",
       "397      21137            BLACK RECORD COVER FRAME    4.215585     11651   \n",
       "2269     23284       DOORMAT KEEP CALM AND COME IN    8.776284      5487   \n",
       "2285     23298                      SPOTTY BUNTING    5.523960      8320   \n",
       "1882     22960            JAM MAKING SET WITH JARS    5.077670      8695   \n",
       "1630     22720   SET OF 3 CAKE TINS PANTRY DESIGN     5.833714      7483   \n",
       "\n",
       "           Total  \n",
       "4150  1637675.72  \n",
       "4149   206248.77  \n",
       "1340   193691.50  \n",
       "2668   168469.60  \n",
       "3619   120259.84  \n",
       "3640   117105.24  \n",
       "2123   114589.89  \n",
       "2877   106003.52  \n",
       "4152    97891.22  \n",
       "2029    73355.58  \n",
       "3059    70006.18  \n",
       "1022    64990.49  \n",
       "3416    62636.25  \n",
       "1307    55737.64  \n",
       "3085    50744.52  \n",
       "397     49115.78  \n",
       "2269    48155.47  \n",
       "2285    45959.34  \n",
       "1882    44150.33  \n",
       "1630    43653.68  "
      ]
     },
     "execution_count": 13,
     "metadata": {},
     "output_type": "execute_result"
    }
   ],
   "source": [
    "invoices_grouped = invoices.groupby(['StockCode', 'Description']).agg({'UnitPrice':'mean', 'Quantity':'sum'}).reset_index()\n",
    "# ignore the math here, its basically to have the format .2f in total\n",
    "invoices_grouped['Total'] = np.floor(invoices_grouped['UnitPrice'] * invoices_grouped['Quantity'] * 100)/100\n",
    "invoices_grouped.sort_values(by='Total', ascending = False, inplace=True)\n",
    "invoices_grouped.head(20)"
   ]
  },
  {
   "cell_type": "markdown",
   "id": "e915a657",
   "metadata": {},
   "source": [
    "We **notice** weird product names/stock codes like 'Manual - M' and 'DOTCOM POSTAGE - DOT'. From the name, we can guess it is some sort services that the company offers - meaning it is not a product and shouldn't be among our product line - to make sure, lets investigate a little bit more:"
   ]
  },
  {
   "cell_type": "code",
   "execution_count": 14,
   "id": "fdf2f382",
   "metadata": {},
   "outputs": [
    {
     "name": "stdout",
     "output_type": "stream",
     "text": [
      "MANUAL DESC:\n"
     ]
    },
    {
     "data": {
      "text/plain": [
       "count     316.000000\n",
       "mean      234.489652\n",
       "std       654.055657\n",
       "min         0.060000\n",
       "25%         0.790000\n",
       "50%         1.950000\n",
       "75%        40.460000\n",
       "max      4287.630000\n",
       "Name: UnitPrice, dtype: float64"
      ]
     },
     "metadata": {},
     "output_type": "display_data"
    },
    {
     "name": "stdout",
     "output_type": "stream",
     "text": [
      "POSTAGE DESC:\n"
     ]
    },
    {
     "data": {
      "text/plain": [
       "count     706.000000\n",
       "mean      292.137068\n",
       "std       355.726548\n",
       "min         0.350000\n",
       "25%       131.607500\n",
       "50%       185.470000\n",
       "75%       265.055000\n",
       "max      4505.170000\n",
       "Name: UnitPrice, dtype: float64"
      ]
     },
     "metadata": {},
     "output_type": "display_data"
    },
    {
     "name": "stdout",
     "output_type": "stream",
     "text": [
      "AVERAGE PRODUCT DESC:\n"
     ]
    },
    {
     "data": {
      "text/plain": [
       "count    522729.000000\n",
       "mean          3.314280\n",
       "std          19.252152\n",
       "min           0.001000\n",
       "25%           1.250000\n",
       "50%           2.080000\n",
       "75%           4.130000\n",
       "max       13541.330000\n",
       "Name: UnitPrice, dtype: float64"
      ]
     },
     "metadata": {},
     "output_type": "display_data"
    }
   ],
   "source": [
    "print('MANUAL DESC:')\n",
    "display(invoices[invoices['StockCode'] == 'M']['UnitPrice'].describe())\n",
    "print('POSTAGE DESC:')\n",
    "display(invoices[invoices['StockCode'] == 'DOT']['UnitPrice'].describe())\n",
    "print('AVERAGE PRODUCT DESC:')\n",
    "display(invoices.query('StockCode != \"M\" and StockCode != \"DOT\" and StockCode != \"POST\"')['UnitPrice'].describe())"
   ]
  },
  {
   "cell_type": "markdown",
   "id": "fbbe5c9f",
   "metadata": {},
   "source": [
    "Comparing the data above, we can see that more than 95% of the products sold in the company are below a 100USD while 'Manual' and 'POSTAGE' have items that cost over 4000 which confirms that these items are nothing but services that the company offers. Therefore, we can drop them from our dataframe since they aren't a product."
   ]
  },
  {
   "cell_type": "code",
   "execution_count": 15,
   "id": "1a71c4b7",
   "metadata": {},
   "outputs": [],
   "source": [
    "# this function wraps text instead of having to rotate it to be able to see the whole text\n",
    "def wrap_labels(ax, width, break_long_words=False): # https://medium.com/dunder-data/automatically-wrap-graph-labels-in-matplotlib-and-seaborn-a48740bc9ce\n",
    "    labels = []\n",
    "    for label in ax.get_xticklabels():\n",
    "        text = label.get_text()\n",
    "        labels.append(textwrap.fill(text, width=width,\n",
    "                      break_long_words=break_long_words))\n",
    "    ax.set_xticklabels(labels, rotation=0)"
   ]
  },
  {
   "cell_type": "code",
   "execution_count": 16,
   "id": "8c1488c8",
   "metadata": {},
   "outputs": [
    {
     "data": {
      "image/png": "[encoded data removed]",
      "text/plain": [
       "<Figure size 1080x360 with 1 Axes>"
      ]
     },
     "metadata": {},
     "output_type": "display_data"
    }
   ],
   "source": [
    "invoices_grouped = invoices_grouped.query('StockCode != \"M\" and StockCode != \"DOT\" and StockCode != \"POST\"')\n",
    "plt.figure(figsize=(15,5))\n",
    "ax = sns.barplot(data = invoices_grouped.head(10), x = 'Description', y = 'Total')\n",
    "wrap_labels(ax, 10)\n",
    "plt.show()"
   ]
  },
  {
   "cell_type": "markdown",
   "id": "154fa6af",
   "metadata": {},
   "source": [
    "According to the graph above, the products *Regency cakestand 3 tier* and *Papercraft little birdie* are the top-sellers by far, will the case still be the same when we check for demand? or even when we check for top-sellers including returns and cancellations? We'll know more about it soon!\n",
    "\n",
    "#### Products with highest demand\n",
    "\n",
    "Products with highest demand are simply products that are bought in the highest quantities. Keep in mind in this test we are only checking purchases, not including returns or cancellations therefore this study isn't inclusive, we are just getting to know our products."
   ]
  },
  {
   "cell_type": "code",
   "execution_count": 17,
   "id": "adfa78dc",
   "metadata": {},
   "outputs": [
    {
     "data": {
      "image/png": "[encoded data removed]",
      "text/plain": [
       "<Figure size 1080x360 with 1 Axes>"
      ]
     },
     "metadata": {},
     "output_type": "display_data"
    }
   ],
   "source": [
    "data = invoices_grouped.sort_values(by='Quantity', ascending = False).head(10) # sorting the table from above by quantity rather than total\n",
    "plt.figure(figsize=(15,5))\n",
    "ax = sns.barplot(data = data, x = 'Description', y = 'Quantity')\n",
    "wrap_labels(ax, 10)\n",
    "plt.show()"
   ]
  },
  {
   "cell_type": "markdown",
   "id": "cfff2546",
   "metadata": {},
   "source": [
    "We can see a-lot of the products with the top sales in the highest demands graph as well - this is makes alot of sense. But where did our top seller from above (*Regency cakestand 3 tier*) disappear?\n",
    "\n",
    "- Well top-sellers are one of 3 categories;\n",
    "1. High demand and high price - this is the best!\n",
    "2. Low demand and high price - *Regency cakestand 3 tier* is an example\n",
    "3. High demand and cheap price - *Papercraft little birdie* is an example\n",
    "\n",
    "That's why the product *Regency cakestand 3 tier* doesn't appear in the high demand products.\n",
    "\n",
    "#### Returns and cancellations"
   ]
  },
  {
   "cell_type": "code",
   "execution_count": 18,
   "id": "db6dff20",
   "metadata": {},
   "outputs": [
    {
     "data": {
      "text/html": [
       "<div>\n",
       "<style scoped>\n",
       "    .dataframe tbody tr th:only-of-type {\n",
       "        vertical-align: middle;\n",
       "    }\n",
       "\n",
       "    .dataframe tbody tr th {\n",
       "        vertical-align: top;\n",
       "    }\n",
       "\n",
       "    .dataframe thead th {\n",
       "        text-align: right;\n",
       "    }\n",
       "</style>\n",
       "<table border=\"1\" class=\"dataframe\">\n",
       "  <thead>\n",
       "    <tr style=\"text-align: right;\">\n",
       "      <th></th>\n",
       "      <th>StockCode</th>\n",
       "      <th>Description</th>\n",
       "      <th>UnitPrice</th>\n",
       "      <th>Quantity</th>\n",
       "      <th>Total</th>\n",
       "    </tr>\n",
       "  </thead>\n",
       "  <tbody>\n",
       "    <tr>\n",
       "      <th>1972</th>\n",
       "      <td>M</td>\n",
       "      <td>Manual</td>\n",
       "      <td>575.172869</td>\n",
       "      <td>-4066</td>\n",
       "      <td>-2338652.89</td>\n",
       "    </tr>\n",
       "    <tr>\n",
       "      <th>1966</th>\n",
       "      <td>AMAZONFEE</td>\n",
       "      <td>AMAZON FEE</td>\n",
       "      <td>7352.549688</td>\n",
       "      <td>-32</td>\n",
       "      <td>-235281.60</td>\n",
       "    </tr>\n",
       "    <tr>\n",
       "      <th>1529</th>\n",
       "      <td>23843</td>\n",
       "      <td>PAPER CRAFT , LITTLE BIRDIE</td>\n",
       "      <td>2.080000</td>\n",
       "      <td>-80995</td>\n",
       "      <td>-168469.60</td>\n",
       "    </tr>\n",
       "    <tr>\n",
       "      <th>1270</th>\n",
       "      <td>23166</td>\n",
       "      <td>MEDIUM CERAMIC TOP STORAGE JAR</td>\n",
       "      <td>1.166000</td>\n",
       "      <td>-74494</td>\n",
       "      <td>-86860.01</td>\n",
       "    </tr>\n",
       "    <tr>\n",
       "      <th>1970</th>\n",
       "      <td>D</td>\n",
       "      <td>Discount</td>\n",
       "      <td>72.484545</td>\n",
       "      <td>-1194</td>\n",
       "      <td>-86546.55</td>\n",
       "    </tr>\n",
       "    <tr>\n",
       "      <th>1688</th>\n",
       "      <td>84347</td>\n",
       "      <td>ROTATING SILVER ANGELS T-LIGHT HLDR</td>\n",
       "      <td>1.920000</td>\n",
       "      <td>-9376</td>\n",
       "      <td>-18001.92</td>\n",
       "    </tr>\n",
       "    <tr>\n",
       "      <th>1973</th>\n",
       "      <td>POST</td>\n",
       "      <td>POSTAGE</td>\n",
       "      <td>90.446349</td>\n",
       "      <td>-147</td>\n",
       "      <td>-13295.62</td>\n",
       "    </tr>\n",
       "    <tr>\n",
       "      <th>723</th>\n",
       "      <td>22423</td>\n",
       "      <td>REGENCY CAKESTAND 3 TIER</td>\n",
       "      <td>11.980000</td>\n",
       "      <td>-855</td>\n",
       "      <td>-10242.91</td>\n",
       "    </tr>\n",
       "    <tr>\n",
       "      <th>1969</th>\n",
       "      <td>CRUK</td>\n",
       "      <td>CRUK Commission</td>\n",
       "      <td>495.839375</td>\n",
       "      <td>-16</td>\n",
       "      <td>-7933.43</td>\n",
       "    </tr>\n",
       "    <tr>\n",
       "      <th>1967</th>\n",
       "      <td>BANK CHARGES</td>\n",
       "      <td>Bank Charges</td>\n",
       "      <td>293.625600</td>\n",
       "      <td>-25</td>\n",
       "      <td>-7340.64</td>\n",
       "    </tr>\n",
       "    <tr>\n",
       "      <th>1859</th>\n",
       "      <td>85123A</td>\n",
       "      <td>WHITE HANGING HEART T-LIGHT HOLDER</td>\n",
       "      <td>2.807143</td>\n",
       "      <td>-2578</td>\n",
       "      <td>-7236.82</td>\n",
       "    </tr>\n",
       "    <tr>\n",
       "      <th>133</th>\n",
       "      <td>21108</td>\n",
       "      <td>FAIRY CAKE FLANNEL ASSORTED COLOUR</td>\n",
       "      <td>1.663333</td>\n",
       "      <td>-3150</td>\n",
       "      <td>-5239.50</td>\n",
       "    </tr>\n",
       "    <tr>\n",
       "      <th>1595</th>\n",
       "      <td>48185</td>\n",
       "      <td>DOORMAT FAIRY CAKE</td>\n",
       "      <td>7.650000</td>\n",
       "      <td>-674</td>\n",
       "      <td>-5156.10</td>\n",
       "    </tr>\n",
       "    <tr>\n",
       "      <th>1578</th>\n",
       "      <td>47566B</td>\n",
       "      <td>TEA TIME PARTY BUNTING</td>\n",
       "      <td>3.614286</td>\n",
       "      <td>-1424</td>\n",
       "      <td>-5146.75</td>\n",
       "    </tr>\n",
       "    <tr>\n",
       "      <th>1230</th>\n",
       "      <td>23113</td>\n",
       "      <td>PANTRY CHOPPING BOARD</td>\n",
       "      <td>5.001667</td>\n",
       "      <td>-946</td>\n",
       "      <td>-4731.58</td>\n",
       "    </tr>\n",
       "    <tr>\n",
       "      <th>158</th>\n",
       "      <td>21175</td>\n",
       "      <td>GIN + TONIC DIET METAL SIGN</td>\n",
       "      <td>2.282857</td>\n",
       "      <td>-2030</td>\n",
       "      <td>-4634.20</td>\n",
       "    </tr>\n",
       "    <tr>\n",
       "      <th>624</th>\n",
       "      <td>22273</td>\n",
       "      <td>FELTCRAFT DOLL MOLLY</td>\n",
       "      <td>2.775000</td>\n",
       "      <td>-1447</td>\n",
       "      <td>-4015.43</td>\n",
       "    </tr>\n",
       "    <tr>\n",
       "      <th>1612</th>\n",
       "      <td>71477</td>\n",
       "      <td>COLOUR GLASS. STAR T-LIGHT HOLDER</td>\n",
       "      <td>3.190833</td>\n",
       "      <td>-1174</td>\n",
       "      <td>-3746.04</td>\n",
       "    </tr>\n",
       "    <tr>\n",
       "      <th>381</th>\n",
       "      <td>21843</td>\n",
       "      <td>RED RETROSPOT CAKE STAND</td>\n",
       "      <td>10.594048</td>\n",
       "      <td>-322</td>\n",
       "      <td>-3411.29</td>\n",
       "    </tr>\n",
       "    <tr>\n",
       "      <th>1974</th>\n",
       "      <td>S</td>\n",
       "      <td>SAMPLES</td>\n",
       "      <td>51.711667</td>\n",
       "      <td>-60</td>\n",
       "      <td>-3102.70</td>\n",
       "    </tr>\n",
       "  </tbody>\n",
       "</table>\n",
       "</div>"
      ],
      "text/plain": [
       "         StockCode                          Description    UnitPrice  \\\n",
       "1972             M                               Manual   575.172869   \n",
       "1966     AMAZONFEE                           AMAZON FEE  7352.549688   \n",
       "1529         23843          PAPER CRAFT , LITTLE BIRDIE     2.080000   \n",
       "1270         23166       MEDIUM CERAMIC TOP STORAGE JAR     1.166000   \n",
       "1970             D                             Discount    72.484545   \n",
       "1688         84347  ROTATING SILVER ANGELS T-LIGHT HLDR     1.920000   \n",
       "1973          POST                              POSTAGE    90.446349   \n",
       "723          22423             REGENCY CAKESTAND 3 TIER    11.980000   \n",
       "1969          CRUK                      CRUK Commission   495.839375   \n",
       "1967  BANK CHARGES                         Bank Charges   293.625600   \n",
       "1859        85123A   WHITE HANGING HEART T-LIGHT HOLDER     2.807143   \n",
       "133          21108   FAIRY CAKE FLANNEL ASSORTED COLOUR     1.663333   \n",
       "1595         48185                   DOORMAT FAIRY CAKE     7.650000   \n",
       "1578        47566B               TEA TIME PARTY BUNTING     3.614286   \n",
       "1230         23113                PANTRY CHOPPING BOARD     5.001667   \n",
       "158          21175          GIN + TONIC DIET METAL SIGN     2.282857   \n",
       "624          22273                 FELTCRAFT DOLL MOLLY     2.775000   \n",
       "1612         71477    COLOUR GLASS. STAR T-LIGHT HOLDER     3.190833   \n",
       "381          21843             RED RETROSPOT CAKE STAND    10.594048   \n",
       "1974             S                              SAMPLES    51.711667   \n",
       "\n",
       "      Quantity       Total  \n",
       "1972     -4066 -2338652.89  \n",
       "1966       -32  -235281.60  \n",
       "1529    -80995  -168469.60  \n",
       "1270    -74494   -86860.01  \n",
       "1970     -1194   -86546.55  \n",
       "1688     -9376   -18001.92  \n",
       "1973      -147   -13295.62  \n",
       "723       -855   -10242.91  \n",
       "1969       -16    -7933.43  \n",
       "1967       -25    -7340.64  \n",
       "1859     -2578    -7236.82  \n",
       "133      -3150    -5239.50  \n",
       "1595      -674    -5156.10  \n",
       "1578     -1424    -5146.75  \n",
       "1230      -946    -4731.58  \n",
       "158      -2030    -4634.20  \n",
       "624      -1447    -4015.43  \n",
       "1612     -1174    -3746.04  \n",
       "381       -322    -3411.29  \n",
       "1974       -60    -3102.70  "
      ]
     },
     "execution_count": 18,
     "metadata": {},
     "output_type": "execute_result"
    }
   ],
   "source": [
    "returns_grouped = returns.groupby(['StockCode', 'Description']).agg({'UnitPrice':'mean', 'Quantity':'sum'}).reset_index()\n",
    "returns_grouped['Total'] = np.floor(returns_grouped['UnitPrice'] * returns_grouped['Quantity'] * 100)/100\n",
    "returns_grouped.sort_values(by='Total', ascending = True, inplace=True)\n",
    "returns_grouped.head(20)"
   ]
  },
  {
   "cell_type": "markdown",
   "id": "71d783e2",
   "metadata": {},
   "source": [
    "What we could see in the invoices dataframe, we can see in the returns dataframe as well; services that need to be dropped. Other than the original services we saw already we also see:\n",
    "1. AMAZONFEE - obviously some sort of fee for AMAZON - not a product.\n",
    "2. CRUK - After searching in google, this turns out to be a charity in the name of **Cancer Research UK** - not a product.\n",
    "3. BANK CHARGES - Obviously not a product.\n",
    "\n",
    "Therefore, to continue, we need to drop these items:"
   ]
  },
  {
   "cell_type": "code",
   "execution_count": 19,
   "id": "0a351e45",
   "metadata": {},
   "outputs": [
    {
     "data": {
      "text/html": [
       "<div>\n",
       "<style scoped>\n",
       "    .dataframe tbody tr th:only-of-type {\n",
       "        vertical-align: middle;\n",
       "    }\n",
       "\n",
       "    .dataframe tbody tr th {\n",
       "        vertical-align: top;\n",
       "    }\n",
       "\n",
       "    .dataframe thead th {\n",
       "        text-align: right;\n",
       "    }\n",
       "</style>\n",
       "<table border=\"1\" class=\"dataframe\">\n",
       "  <thead>\n",
       "    <tr style=\"text-align: right;\">\n",
       "      <th></th>\n",
       "      <th>StockCode</th>\n",
       "      <th>Description</th>\n",
       "      <th>UnitPrice</th>\n",
       "      <th>Quantity</th>\n",
       "      <th>Total</th>\n",
       "    </tr>\n",
       "  </thead>\n",
       "  <tbody>\n",
       "    <tr>\n",
       "      <th>1529</th>\n",
       "      <td>23843</td>\n",
       "      <td>PAPER CRAFT , LITTLE BIRDIE</td>\n",
       "      <td>2.080000</td>\n",
       "      <td>-80995</td>\n",
       "      <td>-168469.60</td>\n",
       "    </tr>\n",
       "    <tr>\n",
       "      <th>1270</th>\n",
       "      <td>23166</td>\n",
       "      <td>MEDIUM CERAMIC TOP STORAGE JAR</td>\n",
       "      <td>1.166000</td>\n",
       "      <td>-74494</td>\n",
       "      <td>-86860.01</td>\n",
       "    </tr>\n",
       "    <tr>\n",
       "      <th>1688</th>\n",
       "      <td>84347</td>\n",
       "      <td>ROTATING SILVER ANGELS T-LIGHT HLDR</td>\n",
       "      <td>1.920000</td>\n",
       "      <td>-9376</td>\n",
       "      <td>-18001.92</td>\n",
       "    </tr>\n",
       "    <tr>\n",
       "      <th>723</th>\n",
       "      <td>22423</td>\n",
       "      <td>REGENCY CAKESTAND 3 TIER</td>\n",
       "      <td>11.980000</td>\n",
       "      <td>-855</td>\n",
       "      <td>-10242.91</td>\n",
       "    </tr>\n",
       "    <tr>\n",
       "      <th>1859</th>\n",
       "      <td>85123A</td>\n",
       "      <td>WHITE HANGING HEART T-LIGHT HOLDER</td>\n",
       "      <td>2.807143</td>\n",
       "      <td>-2578</td>\n",
       "      <td>-7236.82</td>\n",
       "    </tr>\n",
       "    <tr>\n",
       "      <th>133</th>\n",
       "      <td>21108</td>\n",
       "      <td>FAIRY CAKE FLANNEL ASSORTED COLOUR</td>\n",
       "      <td>1.663333</td>\n",
       "      <td>-3150</td>\n",
       "      <td>-5239.50</td>\n",
       "    </tr>\n",
       "    <tr>\n",
       "      <th>1595</th>\n",
       "      <td>48185</td>\n",
       "      <td>DOORMAT FAIRY CAKE</td>\n",
       "      <td>7.650000</td>\n",
       "      <td>-674</td>\n",
       "      <td>-5156.10</td>\n",
       "    </tr>\n",
       "    <tr>\n",
       "      <th>1578</th>\n",
       "      <td>47566B</td>\n",
       "      <td>TEA TIME PARTY BUNTING</td>\n",
       "      <td>3.614286</td>\n",
       "      <td>-1424</td>\n",
       "      <td>-5146.75</td>\n",
       "    </tr>\n",
       "    <tr>\n",
       "      <th>1230</th>\n",
       "      <td>23113</td>\n",
       "      <td>PANTRY CHOPPING BOARD</td>\n",
       "      <td>5.001667</td>\n",
       "      <td>-946</td>\n",
       "      <td>-4731.58</td>\n",
       "    </tr>\n",
       "    <tr>\n",
       "      <th>158</th>\n",
       "      <td>21175</td>\n",
       "      <td>GIN + TONIC DIET METAL SIGN</td>\n",
       "      <td>2.282857</td>\n",
       "      <td>-2030</td>\n",
       "      <td>-4634.20</td>\n",
       "    </tr>\n",
       "  </tbody>\n",
       "</table>\n",
       "</div>"
      ],
      "text/plain": [
       "     StockCode                          Description  UnitPrice  Quantity  \\\n",
       "1529     23843          PAPER CRAFT , LITTLE BIRDIE   2.080000    -80995   \n",
       "1270     23166       MEDIUM CERAMIC TOP STORAGE JAR   1.166000    -74494   \n",
       "1688     84347  ROTATING SILVER ANGELS T-LIGHT HLDR   1.920000     -9376   \n",
       "723      22423             REGENCY CAKESTAND 3 TIER  11.980000      -855   \n",
       "1859    85123A   WHITE HANGING HEART T-LIGHT HOLDER   2.807143     -2578   \n",
       "133      21108   FAIRY CAKE FLANNEL ASSORTED COLOUR   1.663333     -3150   \n",
       "1595     48185                   DOORMAT FAIRY CAKE   7.650000      -674   \n",
       "1578    47566B               TEA TIME PARTY BUNTING   3.614286     -1424   \n",
       "1230     23113                PANTRY CHOPPING BOARD   5.001667      -946   \n",
       "158      21175          GIN + TONIC DIET METAL SIGN   2.282857     -2030   \n",
       "\n",
       "          Total  \n",
       "1529 -168469.60  \n",
       "1270  -86860.01  \n",
       "1688  -18001.92  \n",
       "723   -10242.91  \n",
       "1859   -7236.82  \n",
       "133    -5239.50  \n",
       "1595   -5156.10  \n",
       "1578   -5146.75  \n",
       "1230   -4731.58  \n",
       "158    -4634.20  "
      ]
     },
     "execution_count": 19,
     "metadata": {},
     "output_type": "execute_result"
    }
   ],
   "source": [
    "droplist = ['M', 'AMAZONFEE', 'D', 'POST', 'CRUK', 'BANK CHARGES', 'S']\n",
    "returns_grouped = returns_grouped.query('StockCode not in @droplist') # dropping the servies \n",
    "returns_grouped.head(10)"
   ]
  },
  {
   "cell_type": "code",
   "execution_count": 20,
   "id": "0377ee7f",
   "metadata": {},
   "outputs": [
    {
     "data": {
      "image/png": "[encoded data removed]",
      "text/plain": [
       "<Figure size 1080x360 with 1 Axes>"
      ]
     },
     "metadata": {},
     "output_type": "display_data"
    }
   ],
   "source": [
    "plt.figure(figsize=(15,5))\n",
    "ax = sns.barplot(data = returns_grouped.head(10), x = 'Description', y = 'Total')\n",
    "wrap_labels(ax, 10)\n",
    "plt.show()"
   ]
  },
  {
   "cell_type": "markdown",
   "id": "028bf3dd",
   "metadata": {},
   "source": [
    "**Woah!** who would've expected that a top-seller (PAPERCRAFT LITTLE BIRDIE) would've had such return/cancellation rate? It seems like almost all sales were cancelled for this product. However, something feels fishy here, we'll have to ask the developers for this."
   ]
  },
  {
   "cell_type": "code",
   "execution_count": 21,
   "id": "ab028062",
   "metadata": {},
   "outputs": [
    {
     "data": {
      "image/png": "[encoded data removed]",
      "text/plain": [
       "<Figure size 1080x360 with 1 Axes>"
      ]
     },
     "metadata": {},
     "output_type": "display_data"
    }
   ],
   "source": [
    "data = returns_grouped.sort_values(by = 'Quantity').head(10)\n",
    "plt.figure(figsize=(15,5))\n",
    "ax = sns.barplot(data = data, x = 'Description', y = 'Quantity')\n",
    "wrap_labels(ax, 10)\n",
    "plt.show()"
   ]
  },
  {
   "cell_type": "markdown",
   "id": "40f43864",
   "metadata": {},
   "source": [
    "To find the ultimate top-sellers, this time, we will have to consider everything - purchases, cancellations - at the same time - only then we'll know the real top-sellers."
   ]
  },
  {
   "cell_type": "code",
   "execution_count": 22,
   "id": "01e20534",
   "metadata": {},
   "outputs": [],
   "source": [
    "invoices_returns_grouped = df.groupby(['Description', 'StockCode']).agg({'Quantity':'sum', 'UnitPrice':'mean'}).reset_index()\n",
    "droplist = ['B', 'DOT', 'M', 'AMAZONFEE', 'D', 'POST', 'CRUK', 'BANK CHARGES', 'S']\n",
    "invoices_returns_grouped = invoices_returns_grouped.query('StockCode not in @droplist')\n",
    "invoices_returns_grouped['Total'] = np.floor(invoices_returns_grouped['UnitPrice'] * invoices_returns_grouped['Quantity'] * 100)/100\n",
    "invoices_returns_grouped = invoices_returns_grouped.sort_values(by = 'Total', ascending = False).head(10)"
   ]
  },
  {
   "cell_type": "code",
   "execution_count": 23,
   "id": "de438325",
   "metadata": {},
   "outputs": [
    {
     "data": {
      "image/png": "[encoded data removed]",
      "text/plain": [
       "<Figure size 1080x360 with 1 Axes>"
      ]
     },
     "metadata": {},
     "output_type": "display_data"
    }
   ],
   "source": [
    "data_1 = invoices_returns_grouped.head(10) # 10 top sellers\n",
    "\n",
    "data_2 = invoices_grouped[invoices_grouped['Description'].isin(data_1['Description'])].head(10) # 10 top sellers without returns\n",
    "data_2 = data_2.rename(columns = {'Total':'Total_Sales', 'Quantity':'Quantity_Sales'})[['Description', 'Total_Sales', 'Quantity_Sales']]\n",
    "\n",
    "data_3 = returns_grouped[returns_grouped['Description'].isin(data_1['Description'])].head(10) # 10 top returns\n",
    "data_3 = data_3.rename(columns = {'Total':'Total_Returns', 'Quantity':'Quantity_Returns'})[['Description', 'Total_Returns', 'Quantity_Returns']]\n",
    "\n",
    "data = data_1[['Description','Quantity', 'Total']].merge(data_2, how = 'inner', on='Description')\n",
    "data = data.merge(data_3, how ='inner', on ='Description')\n",
    "\n",
    "# found about bar width at: https://www.tutorialkart.com/matplotlib-tutorial/matplotlib-pyplot-bar-plot-width/#:~:text=To%20set%20width%20for%20bars%20in%20a%20Bar%20Plot%20using,for%20width%20parameter%20is%200.8.\n",
    "ax = data.plot.bar(x = 'Description' , y = ['Total_Sales', 'Total', 'Total_Returns'], figsize = (15,5), width = 0.8, color = ['lightblue', 'green', 'red'])\n",
    "wrap_labels(ax, 10)\n",
    "plt.suptitle('Sales Distribution')\n",
    "plt.show()"
   ]
  },
  {
   "cell_type": "markdown",
   "id": "17b3361d",
   "metadata": {},
   "source": [
    "As we expected, with the amount of cancellations the product *PAPERCRAFT LITTLE BIRDIE* had, it is no surprise we don't see it making the final line of top-sellers (It wasn't the only product though, we notice there's another products that didn't make it here) - while on the other hand, *Regency cakestand 3 tier* still made it to **spot 1** even with all the cancellations it had."
   ]
  },
  {
   "cell_type": "code",
   "execution_count": 24,
   "id": "ebb79277",
   "metadata": {},
   "outputs": [
    {
     "data": {
      "image/png": "[encoded data removed]",
      "text/plain": [
       "<Figure size 1080x360 with 1 Axes>"
      ]
     },
     "metadata": {},
     "output_type": "display_data"
    }
   ],
   "source": [
    "data = data.sort_values(by = 'Quantity', ascending = False)\n",
    "ax = data.plot.bar(x = 'Description' , y = ['Quantity_Sales', 'Quantity', 'Quantity_Returns'], figsize = (15,5), width = 0.8, color = ['lightblue', 'green', 'red'])\n",
    "wrap_labels(ax, 10)\n",
    "plt.suptitle('Demand Distribution')\n",
    "plt.show()"
   ]
  },
  {
   "cell_type": "markdown",
   "id": "93cf710e",
   "metadata": {},
   "source": [
    "Following **our first study** on keyword, we can see **Red Bags** and **Pink Bags** are among the final line of top-sellers, just like we noticed on most popular keywords (we had the keywords; red, pink, bag).\n",
    "\n",
    "Also notice that the keyword **SET** was the most popular in our first study, but it doesn't appear here. This means that our theory about vast categories with average products is correct! The keyword or category itself is very popular but none of its products are popular or a high demand product, these products are average products but as a whole category, they are very successful!"
   ]
  },
  {
   "cell_type": "markdown",
   "id": "76b09745",
   "metadata": {},
   "source": [
    "#### Summary\n",
    "\n",
    "We've studied alot about our product range in this part, and here are the fruits of our studies:\n",
    "1. The keywords; *set*, *bag*, *red*, *white*, *metal*, *chirstmas* and *cases* are among the most popular product keywords/categories.\n",
    "2. Our data includes information not only about products, but also about services and charties - such as; Postage or manual services and cancer related charties.\n",
    "3. The products *Papercraft little birdie* and *Medium ceramic top storage jar* had very high demand/sales but on the other hand extremely high returns/cancellation.\n",
    "4. *Regency cakestand 3 tier* and *Jumbo bag red retrospot* are our final top-seller products, among other products.\n",
    "5. *Jumbo bag red retrospot* and *Assorted color bird ornament* are the highest demand products we have - among other products!"
   ]
  },
  {
   "cell_type": "code",
   "execution_count": 25,
   "id": "a25b8d4f",
   "metadata": {},
   "outputs": [],
   "source": [
    "# we dont need to following rows\n",
    "invoices = invoices[(invoices['Description'] != 'PAPER CRAFT , LITTLE BIRDIE') & (invoices['Description'] != 'MEDIUM CERAMIC TOP STORAGE JAR')]\n",
    "df = df[(df['Description'] != 'PAPER CRAFT , LITTLE BIRDIE') & (df['Description'] != 'MEDIUM CERAMIC TOP STORAGE JAR')]"
   ]
  },
  {
   "cell_type": "markdown",
   "id": "e8953da0",
   "metadata": {},
   "source": [
    "**Next:** we'll study our customer base.\n",
    "### Customer-base Analysis\n",
    "\n",
    "We'll start our customer base analysis by grouping customers in cohorts by thier first invoice."
   ]
  },
  {
   "cell_type": "code",
   "execution_count": 26,
   "id": "227a5d7d",
   "metadata": {},
   "outputs": [],
   "source": [
    "# to ensure that we're working with product rows only\n",
    "droplist = ['B', 'DOT', 'M', 'AMAZONFEE', 'D', 'POST', 'CRUK', 'BANK CHARGES', 'S']\n",
    "df = df.query('StockCode not in @droplist')\n",
    "df = df[~df['CustomerID'].isna()] # since we are going to study customers, we need to deal with missing values"
   ]
  },
  {
   "cell_type": "markdown",
   "id": "2bd632ec",
   "metadata": {},
   "source": [
    "At this point, we know that missing customer ids are due to an error for new joiners - since we can't know which date their invoice happened and in order to conduct a study on our customer base, we had to drop all the rows missing a customer id.\n",
    "\n",
    "#### Retention rates"
   ]
  },
  {
   "cell_type": "code",
   "execution_count": 27,
   "id": "1508b8e5",
   "metadata": {},
   "outputs": [
    {
     "data": {
      "text/html": [
       "<div>\n",
       "<style scoped>\n",
       "    .dataframe tbody tr th:only-of-type {\n",
       "        vertical-align: middle;\n",
       "    }\n",
       "\n",
       "    .dataframe tbody tr th {\n",
       "        vertical-align: top;\n",
       "    }\n",
       "\n",
       "    .dataframe thead th {\n",
       "        text-align: right;\n",
       "    }\n",
       "</style>\n",
       "<table border=\"1\" class=\"dataframe\">\n",
       "  <thead>\n",
       "    <tr style=\"text-align: right;\">\n",
       "      <th></th>\n",
       "      <th>InvoiceNo</th>\n",
       "      <th>StockCode</th>\n",
       "      <th>Description</th>\n",
       "      <th>Quantity</th>\n",
       "      <th>InvoiceDate</th>\n",
       "      <th>UnitPrice</th>\n",
       "      <th>CustomerID</th>\n",
       "      <th>Month</th>\n",
       "      <th>CohortGroup</th>\n",
       "    </tr>\n",
       "  </thead>\n",
       "  <tbody>\n",
       "    <tr>\n",
       "      <th>0</th>\n",
       "      <td>536365</td>\n",
       "      <td>85123A</td>\n",
       "      <td>WHITE HANGING HEART T-LIGHT HOLDER</td>\n",
       "      <td>6</td>\n",
       "      <td>2018-11-29 08:26:00</td>\n",
       "      <td>2.55</td>\n",
       "      <td>17850.0</td>\n",
       "      <td>2018-11-01</td>\n",
       "      <td>2018-11</td>\n",
       "    </tr>\n",
       "    <tr>\n",
       "      <th>1</th>\n",
       "      <td>536365</td>\n",
       "      <td>71053</td>\n",
       "      <td>WHITE METAL LANTERN</td>\n",
       "      <td>6</td>\n",
       "      <td>2018-11-29 08:26:00</td>\n",
       "      <td>3.39</td>\n",
       "      <td>17850.0</td>\n",
       "      <td>2018-11-01</td>\n",
       "      <td>2018-11</td>\n",
       "    </tr>\n",
       "    <tr>\n",
       "      <th>2</th>\n",
       "      <td>536365</td>\n",
       "      <td>84406B</td>\n",
       "      <td>CREAM CUPID HEARTS COAT HANGER</td>\n",
       "      <td>8</td>\n",
       "      <td>2018-11-29 08:26:00</td>\n",
       "      <td>2.75</td>\n",
       "      <td>17850.0</td>\n",
       "      <td>2018-11-01</td>\n",
       "      <td>2018-11</td>\n",
       "    </tr>\n",
       "    <tr>\n",
       "      <th>3</th>\n",
       "      <td>536365</td>\n",
       "      <td>84029G</td>\n",
       "      <td>KNITTED UNION FLAG HOT WATER BOTTLE</td>\n",
       "      <td>6</td>\n",
       "      <td>2018-11-29 08:26:00</td>\n",
       "      <td>3.39</td>\n",
       "      <td>17850.0</td>\n",
       "      <td>2018-11-01</td>\n",
       "      <td>2018-11</td>\n",
       "    </tr>\n",
       "    <tr>\n",
       "      <th>4</th>\n",
       "      <td>536365</td>\n",
       "      <td>84029E</td>\n",
       "      <td>RED WOOLLY HOTTIE WHITE HEART.</td>\n",
       "      <td>6</td>\n",
       "      <td>2018-11-29 08:26:00</td>\n",
       "      <td>3.39</td>\n",
       "      <td>17850.0</td>\n",
       "      <td>2018-11-01</td>\n",
       "      <td>2018-11</td>\n",
       "    </tr>\n",
       "    <tr>\n",
       "      <th>...</th>\n",
       "      <td>...</td>\n",
       "      <td>...</td>\n",
       "      <td>...</td>\n",
       "      <td>...</td>\n",
       "      <td>...</td>\n",
       "      <td>...</td>\n",
       "      <td>...</td>\n",
       "      <td>...</td>\n",
       "      <td>...</td>\n",
       "    </tr>\n",
       "    <tr>\n",
       "      <th>399578</th>\n",
       "      <td>581587</td>\n",
       "      <td>22613</td>\n",
       "      <td>PACK OF 20 SPACEBOY NAPKINS</td>\n",
       "      <td>12</td>\n",
       "      <td>2019-12-07 12:50:00</td>\n",
       "      <td>0.85</td>\n",
       "      <td>12680.0</td>\n",
       "      <td>2019-12-01</td>\n",
       "      <td>2019-08</td>\n",
       "    </tr>\n",
       "    <tr>\n",
       "      <th>399579</th>\n",
       "      <td>581587</td>\n",
       "      <td>22899</td>\n",
       "      <td>CHILDREN'S APRON DOLLY GIRL</td>\n",
       "      <td>6</td>\n",
       "      <td>2019-12-07 12:50:00</td>\n",
       "      <td>2.10</td>\n",
       "      <td>12680.0</td>\n",
       "      <td>2019-12-01</td>\n",
       "      <td>2019-08</td>\n",
       "    </tr>\n",
       "    <tr>\n",
       "      <th>399580</th>\n",
       "      <td>581587</td>\n",
       "      <td>23254</td>\n",
       "      <td>CHILDRENS CUTLERY DOLLY GIRL</td>\n",
       "      <td>4</td>\n",
       "      <td>2019-12-07 12:50:00</td>\n",
       "      <td>4.15</td>\n",
       "      <td>12680.0</td>\n",
       "      <td>2019-12-01</td>\n",
       "      <td>2019-08</td>\n",
       "    </tr>\n",
       "    <tr>\n",
       "      <th>399581</th>\n",
       "      <td>581587</td>\n",
       "      <td>23255</td>\n",
       "      <td>CHILDRENS CUTLERY CIRCUS PARADE</td>\n",
       "      <td>4</td>\n",
       "      <td>2019-12-07 12:50:00</td>\n",
       "      <td>4.15</td>\n",
       "      <td>12680.0</td>\n",
       "      <td>2019-12-01</td>\n",
       "      <td>2019-08</td>\n",
       "    </tr>\n",
       "    <tr>\n",
       "      <th>399582</th>\n",
       "      <td>581587</td>\n",
       "      <td>22138</td>\n",
       "      <td>BAKING SET 9 PIECE RETROSPOT</td>\n",
       "      <td>3</td>\n",
       "      <td>2019-12-07 12:50:00</td>\n",
       "      <td>4.95</td>\n",
       "      <td>12680.0</td>\n",
       "      <td>2019-12-01</td>\n",
       "      <td>2019-08</td>\n",
       "    </tr>\n",
       "  </tbody>\n",
       "</table>\n",
       "<p>399583 rows × 9 columns</p>\n",
       "</div>"
      ],
      "text/plain": [
       "       InvoiceNo StockCode                          Description  Quantity  \\\n",
       "0         536365    85123A   WHITE HANGING HEART T-LIGHT HOLDER         6   \n",
       "1         536365     71053                  WHITE METAL LANTERN         6   \n",
       "2         536365    84406B       CREAM CUPID HEARTS COAT HANGER         8   \n",
       "3         536365    84029G  KNITTED UNION FLAG HOT WATER BOTTLE         6   \n",
       "4         536365    84029E       RED WOOLLY HOTTIE WHITE HEART.         6   \n",
       "...          ...       ...                                  ...       ...   \n",
       "399578    581587     22613          PACK OF 20 SPACEBOY NAPKINS        12   \n",
       "399579    581587     22899         CHILDREN'S APRON DOLLY GIRL          6   \n",
       "399580    581587     23254        CHILDRENS CUTLERY DOLLY GIRL          4   \n",
       "399581    581587     23255      CHILDRENS CUTLERY CIRCUS PARADE         4   \n",
       "399582    581587     22138        BAKING SET 9 PIECE RETROSPOT          3   \n",
       "\n",
       "               InvoiceDate  UnitPrice  CustomerID      Month CohortGroup  \n",
       "0      2018-11-29 08:26:00       2.55     17850.0 2018-11-01     2018-11  \n",
       "1      2018-11-29 08:26:00       3.39     17850.0 2018-11-01     2018-11  \n",
       "2      2018-11-29 08:26:00       2.75     17850.0 2018-11-01     2018-11  \n",
       "3      2018-11-29 08:26:00       3.39     17850.0 2018-11-01     2018-11  \n",
       "4      2018-11-29 08:26:00       3.39     17850.0 2018-11-01     2018-11  \n",
       "...                    ...        ...         ...        ...         ...  \n",
       "399578 2019-12-07 12:50:00       0.85     12680.0 2019-12-01     2019-08  \n",
       "399579 2019-12-07 12:50:00       2.10     12680.0 2019-12-01     2019-08  \n",
       "399580 2019-12-07 12:50:00       4.15     12680.0 2019-12-01     2019-08  \n",
       "399581 2019-12-07 12:50:00       4.15     12680.0 2019-12-01     2019-08  \n",
       "399582 2019-12-07 12:50:00       4.95     12680.0 2019-12-01     2019-08  \n",
       "\n",
       "[399583 rows x 9 columns]"
      ]
     },
     "execution_count": 27,
     "metadata": {},
     "output_type": "execute_result"
    }
   ],
   "source": [
    "df['Month'] = df['InvoiceDate'].astype('datetime64[M]') # adding a month column\n",
    "df_grouped = df.groupby('CustomerID')['Month'].min().apply(lambda x: x.strftime('%Y-%m')).reset_index()\n",
    "df_grouped = df_grouped.rename(columns={'Month':'CohortGroup'})\n",
    "df = df.merge(df_grouped, how='left', on='CustomerID') # adding a cohort group column\n",
    "df"
   ]
  },
  {
   "cell_type": "code",
   "execution_count": 28,
   "id": "3e214876",
   "metadata": {},
   "outputs": [
    {
     "data": {
      "text/html": [
       "<div>\n",
       "<style scoped>\n",
       "    .dataframe tbody tr th:only-of-type {\n",
       "        vertical-align: middle;\n",
       "    }\n",
       "\n",
       "    .dataframe tbody tr th {\n",
       "        vertical-align: top;\n",
       "    }\n",
       "\n",
       "    .dataframe thead th {\n",
       "        text-align: right;\n",
       "    }\n",
       "</style>\n",
       "<table border=\"1\" class=\"dataframe\">\n",
       "  <thead>\n",
       "    <tr style=\"text-align: right;\">\n",
       "      <th></th>\n",
       "      <th>InvoiceNo</th>\n",
       "      <th>StockCode</th>\n",
       "      <th>Description</th>\n",
       "      <th>Quantity</th>\n",
       "      <th>InvoiceDate</th>\n",
       "      <th>UnitPrice</th>\n",
       "      <th>CustomerID</th>\n",
       "      <th>Month</th>\n",
       "      <th>CohortGroup</th>\n",
       "      <th>Cohort</th>\n",
       "    </tr>\n",
       "  </thead>\n",
       "  <tbody>\n",
       "    <tr>\n",
       "      <th>399578</th>\n",
       "      <td>581587</td>\n",
       "      <td>22613</td>\n",
       "      <td>PACK OF 20 SPACEBOY NAPKINS</td>\n",
       "      <td>12</td>\n",
       "      <td>2019-12-07 12:50:00</td>\n",
       "      <td>0.85</td>\n",
       "      <td>12680.0</td>\n",
       "      <td>2019-12-01</td>\n",
       "      <td>2019-08</td>\n",
       "      <td>4</td>\n",
       "    </tr>\n",
       "    <tr>\n",
       "      <th>399579</th>\n",
       "      <td>581587</td>\n",
       "      <td>22899</td>\n",
       "      <td>CHILDREN'S APRON DOLLY GIRL</td>\n",
       "      <td>6</td>\n",
       "      <td>2019-12-07 12:50:00</td>\n",
       "      <td>2.10</td>\n",
       "      <td>12680.0</td>\n",
       "      <td>2019-12-01</td>\n",
       "      <td>2019-08</td>\n",
       "      <td>4</td>\n",
       "    </tr>\n",
       "    <tr>\n",
       "      <th>399580</th>\n",
       "      <td>581587</td>\n",
       "      <td>23254</td>\n",
       "      <td>CHILDRENS CUTLERY DOLLY GIRL</td>\n",
       "      <td>4</td>\n",
       "      <td>2019-12-07 12:50:00</td>\n",
       "      <td>4.15</td>\n",
       "      <td>12680.0</td>\n",
       "      <td>2019-12-01</td>\n",
       "      <td>2019-08</td>\n",
       "      <td>4</td>\n",
       "    </tr>\n",
       "    <tr>\n",
       "      <th>399581</th>\n",
       "      <td>581587</td>\n",
       "      <td>23255</td>\n",
       "      <td>CHILDRENS CUTLERY CIRCUS PARADE</td>\n",
       "      <td>4</td>\n",
       "      <td>2019-12-07 12:50:00</td>\n",
       "      <td>4.15</td>\n",
       "      <td>12680.0</td>\n",
       "      <td>2019-12-01</td>\n",
       "      <td>2019-08</td>\n",
       "      <td>4</td>\n",
       "    </tr>\n",
       "    <tr>\n",
       "      <th>399582</th>\n",
       "      <td>581587</td>\n",
       "      <td>22138</td>\n",
       "      <td>BAKING SET 9 PIECE RETROSPOT</td>\n",
       "      <td>3</td>\n",
       "      <td>2019-12-07 12:50:00</td>\n",
       "      <td>4.95</td>\n",
       "      <td>12680.0</td>\n",
       "      <td>2019-12-01</td>\n",
       "      <td>2019-08</td>\n",
       "      <td>4</td>\n",
       "    </tr>\n",
       "  </tbody>\n",
       "</table>\n",
       "</div>"
      ],
      "text/plain": [
       "       InvoiceNo StockCode                      Description  Quantity  \\\n",
       "399578    581587     22613      PACK OF 20 SPACEBOY NAPKINS        12   \n",
       "399579    581587     22899     CHILDREN'S APRON DOLLY GIRL          6   \n",
       "399580    581587     23254    CHILDRENS CUTLERY DOLLY GIRL          4   \n",
       "399581    581587     23255  CHILDRENS CUTLERY CIRCUS PARADE         4   \n",
       "399582    581587     22138    BAKING SET 9 PIECE RETROSPOT          3   \n",
       "\n",
       "               InvoiceDate  UnitPrice  CustomerID      Month CohortGroup  \\\n",
       "399578 2019-12-07 12:50:00       0.85     12680.0 2019-12-01     2019-08   \n",
       "399579 2019-12-07 12:50:00       2.10     12680.0 2019-12-01     2019-08   \n",
       "399580 2019-12-07 12:50:00       4.15     12680.0 2019-12-01     2019-08   \n",
       "399581 2019-12-07 12:50:00       4.15     12680.0 2019-12-01     2019-08   \n",
       "399582 2019-12-07 12:50:00       4.95     12680.0 2019-12-01     2019-08   \n",
       "\n",
       "        Cohort  \n",
       "399578       4  \n",
       "399579       4  \n",
       "399580       4  \n",
       "399581       4  \n",
       "399582       4  "
      ]
     },
     "execution_count": 28,
     "metadata": {},
     "output_type": "execute_result"
    }
   ],
   "source": [
    "df['Cohort'] = ((pd.to_datetime(df['Month']) - pd.to_datetime(df['CohortGroup'])) / np.timedelta64(1,'M')).round().astype('int')\n",
    "df.tail(5)"
   ]
  },
  {
   "cell_type": "markdown",
   "id": "f428374c",
   "metadata": {},
   "source": [
    "Judging by the dataframe above, everything is working fine. Lets calculate retention rates:"
   ]
  },
  {
   "cell_type": "code",
   "execution_count": 29,
   "id": "9e590bd2",
   "metadata": {},
   "outputs": [
    {
     "data": {
      "image/png": "[encoded data removed]",
      "text/plain": [
       "<Figure size 576x576 with 1 Axes>"
      ]
     },
     "metadata": {},
     "output_type": "display_data"
    }
   ],
   "source": [
    "cohort_groups = df.groupby('CohortGroup')['CustomerID'].nunique().reset_index()\n",
    "explode = (0,0,0,0,0,0,0,0,0,0,0,0,0,0.1)\n",
    "# color hexes from: https://learnui.design/tools/data-color-picker.html#divergent\n",
    "colors = ['#00876c','#3d9c73','#63b179','#88c580','#aed987','#d6ec91','#ffff9d','#fee17e','#fcc267','#f7a258','#ef8250','#e4604e','#d43d51','#f43d51']\n",
    "plt.figure(figsize = (8,8))\n",
    "ax = plt.pie(cohort_groups['CustomerID'], labels = cohort_groups['CohortGroup'], autopct='%1.1f%%', rotatelabels = True, explode = explode, colors = colors, labeldistance = 1, pctdistance = 0.85)\n",
    "# source: https://medium.com/@kvnamipara/a-better-visualisation-of-pie-charts-by-matplotlib-935b7667d77f\n",
    "cc = plt.Circle((0,0), 0.7, fc='white')\n",
    "fig = plt.gcf()\n",
    "fig.gca().add_artist(cc)\n",
    "plt.show()"
   ]
  },
  {
   "cell_type": "code",
   "execution_count": 30,
   "id": "52dad408",
   "metadata": {},
   "outputs": [
    {
     "data": {
      "image/png": "[encoded data removed]",
      "text/plain": [
       "<Figure size 936x720 with 2 Axes>"
      ]
     },
     "metadata": {},
     "output_type": "display_data"
    }
   ],
   "source": [
    "cohorts = df.pivot_table(index='CohortGroup', columns='Cohort', values='CustomerID', aggfunc='nunique').fillna(0)\n",
    "retention = cohorts.iloc[:,0:].div(cohorts[0], axis=0)\n",
    "plt.figure(figsize = (13,10))\n",
    "sns.heatmap(data = retention, annot = True, fmt='.1%', linewidths=0.1, linecolor='grey', cbar_kws= {'orientation': 'horizontal'} \n",
    "            ).set(title = 'Retention Rate')\n",
    "plt.show()"
   ]
  },
  {
   "cell_type": "markdown",
   "id": "72a936fe",
   "metadata": {},
   "source": [
    "Looking at the heatmap, we can see a pattern of decreasing retention rate as we go down in cohort groups. The most loyal customers are customers of cohort groups 2018-11 and 2018-12 and they have the highest retention rates. Besides, the cohort group 2018-12 is the biggest cohort group among the groups.\n",
    "\n",
    "Therefore, we decided to study the customers of the cohort group 2018-12 and see some of their behaviours."
   ]
  },
  {
   "cell_type": "markdown",
   "id": "3e10bb4f",
   "metadata": {},
   "source": [
    "#### Cohort Group 2018-12 Breakdown"
   ]
  },
  {
   "cell_type": "code",
   "execution_count": 31,
   "id": "cf62b19d",
   "metadata": {},
   "outputs": [
    {
     "data": {
      "text/html": [
       "<div>\n",
       "<style scoped>\n",
       "    .dataframe tbody tr th:only-of-type {\n",
       "        vertical-align: middle;\n",
       "    }\n",
       "\n",
       "    .dataframe tbody tr th {\n",
       "        vertical-align: top;\n",
       "    }\n",
       "\n",
       "    .dataframe thead th {\n",
       "        text-align: right;\n",
       "    }\n",
       "</style>\n",
       "<table border=\"1\" class=\"dataframe\">\n",
       "  <thead>\n",
       "    <tr style=\"text-align: right;\">\n",
       "      <th></th>\n",
       "      <th>Month</th>\n",
       "      <th>CustomerID</th>\n",
       "      <th>Quantity</th>\n",
       "      <th>UnitPrice</th>\n",
       "      <th>Total</th>\n",
       "    </tr>\n",
       "  </thead>\n",
       "  <tbody>\n",
       "    <tr>\n",
       "      <th>0</th>\n",
       "      <td>2018-12-01</td>\n",
       "      <td>19033</td>\n",
       "      <td>198818</td>\n",
       "      <td>3.107641</td>\n",
       "      <td>617855.06</td>\n",
       "    </tr>\n",
       "    <tr>\n",
       "      <th>1</th>\n",
       "      <td>2019-01-01</td>\n",
       "      <td>8742</td>\n",
       "      <td>121968</td>\n",
       "      <td>3.094337</td>\n",
       "      <td>377410.03</td>\n",
       "    </tr>\n",
       "    <tr>\n",
       "      <th>2</th>\n",
       "      <td>2019-02-01</td>\n",
       "      <td>6522</td>\n",
       "      <td>92768</td>\n",
       "      <td>2.996717</td>\n",
       "      <td>277999.46</td>\n",
       "    </tr>\n",
       "    <tr>\n",
       "      <th>3</th>\n",
       "      <td>2019-03-01</td>\n",
       "      <td>8496</td>\n",
       "      <td>123445</td>\n",
       "      <td>2.949466</td>\n",
       "      <td>364096.78</td>\n",
       "    </tr>\n",
       "    <tr>\n",
       "      <th>4</th>\n",
       "      <td>2019-04-01</td>\n",
       "      <td>7094</td>\n",
       "      <td>91410</td>\n",
       "      <td>2.802082</td>\n",
       "      <td>256138.31</td>\n",
       "    </tr>\n",
       "    <tr>\n",
       "      <th>5</th>\n",
       "      <td>2019-05-01</td>\n",
       "      <td>9182</td>\n",
       "      <td>142837</td>\n",
       "      <td>2.988102</td>\n",
       "      <td>426811.48</td>\n",
       "    </tr>\n",
       "    <tr>\n",
       "      <th>6</th>\n",
       "      <td>2019-06-01</td>\n",
       "      <td>7991</td>\n",
       "      <td>112268</td>\n",
       "      <td>2.998411</td>\n",
       "      <td>336625.57</td>\n",
       "    </tr>\n",
       "    <tr>\n",
       "      <th>7</th>\n",
       "      <td>2019-07-01</td>\n",
       "      <td>8162</td>\n",
       "      <td>122201</td>\n",
       "      <td>2.699637</td>\n",
       "      <td>329898.38</td>\n",
       "    </tr>\n",
       "    <tr>\n",
       "      <th>8</th>\n",
       "      <td>2019-08-01</td>\n",
       "      <td>9014</td>\n",
       "      <td>160237</td>\n",
       "      <td>2.725206</td>\n",
       "      <td>436678.88</td>\n",
       "    </tr>\n",
       "    <tr>\n",
       "      <th>9</th>\n",
       "      <td>2019-09-01</td>\n",
       "      <td>9040</td>\n",
       "      <td>158475</td>\n",
       "      <td>2.820725</td>\n",
       "      <td>447014.32</td>\n",
       "    </tr>\n",
       "    <tr>\n",
       "      <th>10</th>\n",
       "      <td>2019-10-01</td>\n",
       "      <td>10371</td>\n",
       "      <td>183597</td>\n",
       "      <td>2.854606</td>\n",
       "      <td>524097.11</td>\n",
       "    </tr>\n",
       "    <tr>\n",
       "      <th>11</th>\n",
       "      <td>2019-11-01</td>\n",
       "      <td>14916</td>\n",
       "      <td>199958</td>\n",
       "      <td>2.772198</td>\n",
       "      <td>554323.09</td>\n",
       "    </tr>\n",
       "    <tr>\n",
       "      <th>12</th>\n",
       "      <td>2019-12-01</td>\n",
       "      <td>3767</td>\n",
       "      <td>57975</td>\n",
       "      <td>2.557696</td>\n",
       "      <td>148282.41</td>\n",
       "    </tr>\n",
       "  </tbody>\n",
       "</table>\n",
       "</div>"
      ],
      "text/plain": [
       "        Month  CustomerID  Quantity  UnitPrice      Total\n",
       "0  2018-12-01       19033    198818   3.107641  617855.06\n",
       "1  2019-01-01        8742    121968   3.094337  377410.03\n",
       "2  2019-02-01        6522     92768   2.996717  277999.46\n",
       "3  2019-03-01        8496    123445   2.949466  364096.78\n",
       "4  2019-04-01        7094     91410   2.802082  256138.31\n",
       "5  2019-05-01        9182    142837   2.988102  426811.48\n",
       "6  2019-06-01        7991    112268   2.998411  336625.57\n",
       "7  2019-07-01        8162    122201   2.699637  329898.38\n",
       "8  2019-08-01        9014    160237   2.725206  436678.88\n",
       "9  2019-09-01        9040    158475   2.820725  447014.32\n",
       "10 2019-10-01       10371    183597   2.854606  524097.11\n",
       "11 2019-11-01       14916    199958   2.772198  554323.09\n",
       "12 2019-12-01        3767     57975   2.557696  148282.41"
      ]
     },
     "execution_count": 31,
     "metadata": {},
     "output_type": "execute_result"
    }
   ],
   "source": [
    "cohort_group_1218 = df[df['CohortGroup'] == '2018-12'] # filtering the data to keep only the needed cohort group\n",
    "grouped_1218 = cohort_group_1218.groupby('Month').agg({'CustomerID':'count', 'Quantity':'sum', 'UnitPrice':'mean'}).reset_index()\n",
    "grouped_1218['Total'] = np.floor(grouped_1218['UnitPrice'] * grouped_1218['Quantity'] * 100)/100 \n",
    "grouped_1218"
   ]
  },
  {
   "cell_type": "code",
   "execution_count": 32,
   "id": "c20a87f5",
   "metadata": {},
   "outputs": [
    {
     "name": "stdout",
     "output_type": "stream",
     "text": [
      "Quantity per customer:\n",
      " 0     10.445962\n",
      "1     13.951956\n",
      "2     14.223858\n",
      "3     14.529779\n",
      "4     12.885537\n",
      "5     15.556197\n",
      "6     14.049305\n",
      "7     14.971943\n",
      "8     17.776459\n",
      "9     17.530420\n",
      "10    17.702922\n",
      "11    13.405605\n",
      "12    15.390231\n",
      "dtype: float64\n"
     ]
    }
   ],
   "source": [
    "print('Quantity per customer:\\n', grouped_1218['Quantity']/grouped_1218['CustomerID'])"
   ]
  },
  {
   "cell_type": "code",
   "execution_count": 33,
   "id": "4ec786d5",
   "metadata": {},
   "outputs": [
    {
     "name": "stdout",
     "output_type": "stream",
     "text": [
      "Sales per customer:\n",
      " 0     32.462305\n",
      "1     43.172046\n",
      "2     42.624879\n",
      "3     42.855082\n",
      "4     36.106331\n",
      "5     46.483498\n",
      "6     42.125588\n",
      "7     40.418816\n",
      "8     48.444517\n",
      "9     49.448487\n",
      "10    50.534867\n",
      "11    37.162985\n",
      "12    39.363528\n",
      "dtype: float64\n"
     ]
    }
   ],
   "source": [
    "print('Sales per customer:\\n', grouped_1218['Total']/grouped_1218['CustomerID'])"
   ]
  },
  {
   "cell_type": "markdown",
   "id": "b8a92ba5",
   "metadata": {},
   "source": [
    "What we can understand from the information above about our subject cohort:\n",
    "1. The average quantity per month per customer was around 14.\n",
    "2. The average sales per month per customer was around 41.6 USD\n",
    "3. The customers were consistent, the average quantity per user and sales per user didn't change much along the whole year."
   ]
  },
  {
   "cell_type": "code",
   "execution_count": 34,
   "id": "0ac93711",
   "metadata": {
    "scrolled": false
   },
   "outputs": [
    {
     "data": {
      "image/png": "[encoded data removed]",
      "text/plain": [
       "<Figure size 1080x360 with 1 Axes>"
      ]
     },
     "metadata": {},
     "output_type": "display_data"
    },
    {
     "data": {
      "image/png": "[encoded data removed]",
      "text/plain": [
       "<Figure size 1080x360 with 1 Axes>"
      ]
     },
     "metadata": {},
     "output_type": "display_data"
    }
   ],
   "source": [
    "descs = [] \n",
    "totals = []\n",
    "for i,month in enumerate(cohort_group_1218['Month'].unique()):\n",
    "    cohort = cohort_group_1218[cohort_group_1218['Month'] == month]\n",
    "    cohort['Total'] = np.floor(cohort['UnitPrice'] * cohort['Quantity'] * 100)/100 \n",
    "    cohort_desc_grouped = cohort.groupby(\"Description\")['Total'].sum().reset_index().sort_values(by = 'Total', ascending = False).reset_index(drop = True)\n",
    "    descs.append([str(i) + \" \" + cohort_desc_grouped.iloc[0]['Description'],str(i) + \" \" + cohort_desc_grouped.iloc[1]['Description']])\n",
    "    totals.append([cohort_desc_grouped.iloc[0]['Total'],cohort_desc_grouped.iloc[1]['Total']])\n",
    "    \n",
    "plt.figure(figsize = (15,5))    \n",
    "ax = sns.barplot(x = [row[0] for row in descs], y = [row[0] for row in totals] ,palette = 'turbo')\n",
    "wrap_labels(ax, 7)\n",
    "plt.show()\n",
    "plt.figure(figsize = (15,5))\n",
    "ax = sns.barplot(x = [row[1] for row in descs], y = [row[1] for row in totals] ,palette = 'turbo')\n",
    "wrap_labels(ax, 7)\n",
    "plt.show()"
   ]
  },
  {
   "cell_type": "markdown",
   "id": "e470c45e",
   "metadata": {},
   "source": [
    "The graph above shows the two products that was bought the most by our subject group in every month. Here we don't see anything special, this group spent their money on similar products as everyone else."
   ]
  },
  {
   "cell_type": "markdown",
   "id": "e8655938",
   "metadata": {},
   "source": [
    "#### Summary\n",
    "\n",
    "Our main study of the customer base was to detect habits or behaviors of our most loyal customers, what causes them to keep coming back to our store and buy more stuff in order to learn how can we cause other customers to display similar behaviours.\n",
    "\n",
    "* First we divided our customer base into cohort groups, by their first purchase.\n",
    "* Then we checked the sizes of each cohort group, we found out that the cohort group of 2018-12 was the biggest group by far, 17% of our customer base.\n",
    "* We studied the retention rates of our cohort groups, turns out that the cohort groups 2018-11/12 are the groups with highest retention rates.\n",
    "* Cohort group 2018-12 is the biggest and is among the highest in retention rates, thus we decided to study the habits and behaviours of it's customers.\n",
    "* The customers in this group averaged at 14 products (in quantity) and 41.6 USD per month.\n",
    "* They also showed consistency in their purchases - This means that the average quantity per user per month and average sales per user per month didn't change alot during the year.\n",
    "* With an average of 14 items and 41.6 USD per month, this suggests that the customers bought cheap products at most (3 USD per item in average).\n",
    "* During the year, each month, the customers kept coming back to buy the same products - this explains their consistency - This is shown in the graphs above, where we can see that the same products keep taking the top-sellers spots again and again every month."
   ]
  },
  {
   "cell_type": "markdown",
   "id": "81f6e00d",
   "metadata": {},
   "source": [
    "## Hypotheses Testing"
   ]
  },
  {
   "cell_type": "markdown",
   "id": "d4c59e60",
   "metadata": {},
   "source": [
    "At this part we'll discuss and test a couple hypotheses and see whether they are actually true or not.\n",
    "\n",
    "### First Hypothesis\n",
    "\n",
    "To answer the question; What stock categories are more profitable? (cheap & high demand, expensive and normal demand) we'll have to get two samples of our invoices - one of each category.\n",
    "\n",
    "Null hypothesis (H0): The distribution of cheap-high-demand products and expensive-normal-demand products' revenue is similar.\n",
    "\n",
    "Alt. hypothesis (H1): The distribution of cheap-high-demand products and expensive-normal-demand products' revenue is different."
   ]
  },
  {
   "cell_type": "code",
   "execution_count": 35,
   "id": "60bb3275",
   "metadata": {},
   "outputs": [
    {
     "data": {
      "text/html": [
       "<div>\n",
       "<style scoped>\n",
       "    .dataframe tbody tr th:only-of-type {\n",
       "        vertical-align: middle;\n",
       "    }\n",
       "\n",
       "    .dataframe tbody tr th {\n",
       "        vertical-align: top;\n",
       "    }\n",
       "\n",
       "    .dataframe thead th {\n",
       "        text-align: right;\n",
       "    }\n",
       "</style>\n",
       "<table border=\"1\" class=\"dataframe\">\n",
       "  <thead>\n",
       "    <tr style=\"text-align: right;\">\n",
       "      <th></th>\n",
       "      <th>UnitPrice</th>\n",
       "      <th>Quantity</th>\n",
       "    </tr>\n",
       "  </thead>\n",
       "  <tbody>\n",
       "    <tr>\n",
       "      <th>count</th>\n",
       "      <td>3908.000000</td>\n",
       "      <td>3908.000000</td>\n",
       "    </tr>\n",
       "    <tr>\n",
       "      <th>mean</th>\n",
       "      <td>3.552844</td>\n",
       "      <td>1246.363101</td>\n",
       "    </tr>\n",
       "    <tr>\n",
       "      <th>std</th>\n",
       "      <td>12.380760</td>\n",
       "      <td>2778.091743</td>\n",
       "    </tr>\n",
       "    <tr>\n",
       "      <th>min</th>\n",
       "      <td>0.001000</td>\n",
       "      <td>-1475.000000</td>\n",
       "    </tr>\n",
       "    <tr>\n",
       "      <th>25%</th>\n",
       "      <td>1.006607</td>\n",
       "      <td>51.000000</td>\n",
       "    </tr>\n",
       "    <tr>\n",
       "      <th>50%</th>\n",
       "      <td>1.950000</td>\n",
       "      <td>327.000000</td>\n",
       "    </tr>\n",
       "    <tr>\n",
       "      <th>75%</th>\n",
       "      <td>3.868060</td>\n",
       "      <td>1278.000000</td>\n",
       "    </tr>\n",
       "    <tr>\n",
       "      <th>max</th>\n",
       "      <td>649.500000</td>\n",
       "      <td>53119.000000</td>\n",
       "    </tr>\n",
       "  </tbody>\n",
       "</table>\n",
       "</div>"
      ],
      "text/plain": [
       "         UnitPrice      Quantity\n",
       "count  3908.000000   3908.000000\n",
       "mean      3.552844   1246.363101\n",
       "std      12.380760   2778.091743\n",
       "min       0.001000  -1475.000000\n",
       "25%       1.006607     51.000000\n",
       "50%       1.950000    327.000000\n",
       "75%       3.868060   1278.000000\n",
       "max     649.500000  53119.000000"
      ]
     },
     "execution_count": 35,
     "metadata": {},
     "output_type": "execute_result"
    }
   ],
   "source": [
    "df_grouped = df.groupby(['Description', 'StockCode']).agg({'UnitPrice':'mean', 'Quantity':'sum'}).reset_index()\n",
    "df_grouped['Total'] = np.floor(df_grouped['UnitPrice'] * df_grouped['Quantity'] * 100)/100\n",
    "df_grouped[['UnitPrice', 'Quantity']].describe()"
   ]
  },
  {
   "cell_type": "markdown",
   "id": "db5bea55",
   "metadata": {},
   "source": [
    "We can see that 75% of our products are below 4 USD and 1300 in quantity sold. We can use these information to extract the two categories we need to test from it.\n",
    "\n",
    "A relatively cheap product is a product sold for a price less than at least 50% of the products, on the other hand; an expensive product is a product sold at a price higher than 75% of the products. Similarly, a high demand product is a product we would find in the 70-100% of the most sold products, while a normal demand product is a product found between 70-40% of most sold products.\n",
    "\n",
    "Therefore, we'll define our groups as follows:\n",
    "1. Cheap-high-demand: less than 2 usd and demand higher than 2000\n",
    "2. Expensive-normal-demand: more than 4 usd and demand between 2000 and 300"
   ]
  },
  {
   "cell_type": "code",
   "execution_count": 36,
   "id": "d202eb10",
   "metadata": {},
   "outputs": [
    {
     "name": "stdout",
     "output_type": "stream",
     "text": [
      "Cheap-high-demand cumulative sales: 2326871.47\n"
     ]
    }
   ],
   "source": [
    "cheap_hi = df_grouped[(df_grouped['UnitPrice'] <= 2) & (df_grouped['Quantity'] >= 2000)]\n",
    "print('Cheap-high-demand cumulative sales:', cheap_hi['Total'].sum())"
   ]
  },
  {
   "cell_type": "code",
   "execution_count": 37,
   "id": "a6e70cd2",
   "metadata": {},
   "outputs": [
    {
     "name": "stdout",
     "output_type": "stream",
     "text": [
      "Expensive-normal-demand cumulative sales: 1463780.1600000001\n"
     ]
    }
   ],
   "source": [
    "expensive_normal = df_grouped[(df_grouped['UnitPrice'] > 4) & (df_grouped['Quantity'] <= 2000) & (df_grouped['Quantity'] > 200)]\n",
    "print('Expensive-normal-demand cumulative sales:', expensive_normal['Total'].sum())"
   ]
  },
  {
   "cell_type": "markdown",
   "id": "677742da",
   "metadata": {},
   "source": [
    "Now that we have our samples ready, lets test their distributions. To check if there's a significant difference between the categories, we are going to use the **The Wilcoxon-Mann-Whitney Nonparametric Test**:"
   ]
  },
  {
   "cell_type": "code",
   "execution_count": 38,
   "id": "66f60902",
   "metadata": {},
   "outputs": [
    {
     "name": "stdout",
     "output_type": "stream",
     "text": [
      "p-value:  0.49606158643161735\n",
      "Failed to reject the null hypothesis: we can't make conclusions about the difference\n"
     ]
    }
   ],
   "source": [
    "alpha = .05 #significance level\n",
    "\n",
    "results = st.mannwhitneyu(cheap_hi['Total'], expensive_normal['Total'])\n",
    "\n",
    "print('p-value: ', results.pvalue)\n",
    "\n",
    "if (results.pvalue < alpha):\n",
    "    print(\"Null hypothesis rejected: the difference is statistically significant\")\n",
    "else:\n",
    "    print(\"Failed to reject the null hypothesis: we can't make conclusions about the difference\") "
   ]
  },
  {
   "cell_type": "markdown",
   "id": "5f4926a8",
   "metadata": {},
   "source": [
    "The test failed to reject the null-hypothesis. This means that we can't conclude that the distributions of cheap-high-demand and expensive-normal-demand products are different. We already know from the cumulative sales that cheap-high-demand brings in more total profit but on the other hand we can't say that there's a significant difference between the distributions of the two categories!"
   ]
  },
  {
   "cell_type": "markdown",
   "id": "001f24c5",
   "metadata": {},
   "source": [
    "### Second Hypothesis"
   ]
  },
  {
   "cell_type": "markdown",
   "id": "62553388",
   "metadata": {},
   "source": [
    "One to increase profits is to increase the revenue, but that's not the only way! Alternatively, we can lower the expenses. How would we do that? By lowering return rates. For that, we are going to study return rates in different categories:\n",
    "\n",
    "1. High demand category\n",
    "2. Low demand category\n",
    "\n",
    "Null Hypothesis (H0): The distribution of high demand vs low demand return rates is similar.\n",
    "\n",
    "Alt. Hypothesis (H1): The distribution of high demand vs low demand return rates is different."
   ]
  },
  {
   "cell_type": "code",
   "execution_count": 39,
   "id": "221195eb",
   "metadata": {},
   "outputs": [
    {
     "name": "stdout",
     "output_type": "stream",
     "text": [
      "Total high demand products return quantites: -68867 - Expenses: -135258.84$\n",
      "Total low demand products return quantites: -20251 - Expenses: -62804.33$\n"
     ]
    }
   ],
   "source": [
    "high_demand = df_grouped[df_grouped['Quantity'] >= 2000]\n",
    "low_demand = df_grouped[df_grouped['Quantity'] < 200]\n",
    "high_demand_stockcodes = [code for code in high_demand['StockCode'].unique()]\n",
    "low_demand_stockcodes = [code for code in low_demand['StockCode'].unique()]\n",
    "high_demand = returns_grouped[returns_grouped['StockCode'].isin(high_demand_stockcodes)]\n",
    "low_demand = returns_grouped[returns_grouped['StockCode'].isin(low_demand_stockcodes)]\n",
    "print('Total high demand products return quantites:', high_demand['Quantity'].sum(), \"- Expenses: {:.2f}$\".format(high_demand['Total'].sum()))\n",
    "print('Total low demand products return quantites:', low_demand['Quantity'].sum(), \"- Expenses: {:.2f}$\".format(low_demand['Total'].sum()))\n"
   ]
  },
  {
   "cell_type": "code",
   "execution_count": 40,
   "id": "4ace5c58",
   "metadata": {},
   "outputs": [
    {
     "name": "stdout",
     "output_type": "stream",
     "text": [
      "p-value:  8.41266753330034e-82\n",
      "Null hypothesis rejected: the difference is statistically significant\n"
     ]
    }
   ],
   "source": [
    "alpha = .05 #significance level\n",
    "\n",
    "results = st.mannwhitneyu(high_demand['Quantity'], low_demand['Quantity'])\n",
    "\n",
    "print('p-value: ', results.pvalue)\n",
    "\n",
    "if (results.pvalue < alpha):\n",
    "    print(\"Null hypothesis rejected: the difference is statistically significant\")\n",
    "else:\n",
    "    print(\"Failed to reject the null hypothesis: we can't make conclusions about the difference\") "
   ]
  },
  {
   "cell_type": "markdown",
   "id": "28ce80f2",
   "metadata": {},
   "source": [
    "The test rejected the null hypothesis - thus proving that there is a significant difference between the distributions of returns among high demand and low demand products.\n",
    "\n",
    "Looks like high demand products' returns are in much much higher rates and as we saw above, it costs much more in expenses for the company - This result is very reasonable since high demand products are bought in higher rates so we should also expect higher rates in returns/cancellations as well."
   ]
  },
  {
   "cell_type": "markdown",
   "metadata": {},
   "source": [
    "## General Summary\n",
    "\n",
    "### Pre-EDA Points & Summary\n",
    "* We have around 134,000 of missing values in CustomerID - according to the team lead, this happened due to an error in the system for new users - we kept the rows because we still have InvoiceNo's in the other hand to identify the row.\n",
    "* Seperated the dataset into 2 main dataframes; Invoices (purchases) and Returns for easier working later on.\n",
    "* We've cut deep memory_usage from 157 MB to 97 MB - 60 MB saved!\n",
    "* We've dropped 5,000 duplicates and dealt with 12,000 missing values.\n",
    "\n",
    "### EDA Points & Summary\n",
    "1. Product Range Values & Categorization Analysis\n",
    "\n",
    "we successfully found popular keywords that appeared within the invoices. Categories like **Red**, **Blue**, **White**, **Cake**, **Bag** or **Metal** appeared to be among the top keywords/categories. This could be due to this categories actually being popular or simply due to having on overly-popular product with-in this category. After the continuation of the research, we found out that we have categories of both types - This gives a reason for the research, because otherwise it is unnecessary!\n",
    "* Our data includes information not only about products, but also about services and charties - such as; Postage or manual services and cancer related charties.\n",
    "* The products Papercraft little birdie and Medium ceramic top storage jar had very high demand/sales but on the other hand extremely high returns/cancellation.\n",
    "* Regency cakestand 3 tier and Jumbo bag red retrospot are our final top-seller products, among other products.\n",
    "* Jumbo bag red retrospot and Assorted color bird ornament are the highest demand products we have - among other products!\n",
    "\n",
    "2. Customer base analysis\n",
    "\n",
    "Our main study of the customer base was to detect habits or behaviors of our most loyal customers, what causes them to keep coming back to our store and buy more stuff in order to learn how can we cause other customers to display similar behaviours.\n",
    "\n",
    "* We divided our customer base into cohort groups, by their first purchase. Then we checked the sizes of each cohort group, we found out that the cohort group of 2018-12 was the biggest group by far, 17% of our customer base.\n",
    "* We studied the retention rates of our cohort groups, turns out that the cohort groups 2018-11/12 are the groups with highest retention rates.\n",
    "* Cohort group 2018-12 is the biggest and is among the highest in retention rates, thus we decided to study the habits and behaviours of it's customers.\n",
    "* The customers in this group averaged at 14 products (in quantity) and 41.6 USD per month.\n",
    "* They also showed consistency in their purchases - This means that the average quantity per user per month and average sales per user per month didn't change alot during the year.\n",
    "* With an average of 14 items and 41.6 USD per month, this suggests that the customers bought cheap products at most (3 USD per item in average).\n",
    "* During the year, each month, the customers kept coming back to buy the same products - this explains their consistency - This is shown in the graphs above, where we can see that the same products keep taking the top-sellers spots again and again every month.\n",
    "\n",
    "### Post-EDA Points & Summary\n",
    "This part discusses two hypotheses - we used the Mann-Whitney-U test to test similarties between distributions of different samples:\n",
    "\n",
    "1. Null Hypothesis (H0): The distribution of cheap-high-demand products and expensive-normal-demand products' revenue is similar:\n",
    "* Cheap-high-demand: less than 2 usd and demand higher than 2000\n",
    "* Expensive-normal-demand: more than 4 usd and demand between 2000 and 300\n",
    "* The test failed to reject the null-hypothesis. This means that we can't conclude that the distributions of cheap-high-demand and expensive-normal-demand products are different. We already know from the cumulative sales that cheap-high-demand brings in more total profit but on the other hand we can't say that there's a significant difference between the distributions of the two categories!\n",
    "2. The distribution of high demand vs low demand return rates is similar:\n",
    "* The test rejected the null hypothesis - thus proving that there is a significant difference between the distributions of returns among high demand and low demand products.\n",
    "* High demand products' returns have much much higher rates. It costs much more in expenses for the company as well - This result is very reasonable since high demand products are bought in higher rates so we should also expect higher rates in returns/cancellations as well."
   ]
  },
  {
   "cell_type": "code",
   "execution_count": null,
   "metadata": {},
   "outputs": [],
   "source": []
  }
 ],
 "metadata": {
  "ExecuteTimeLog": [
   {
    "duration": 60,
    "start_time": "2022-06-21T18:03:56.827Z"
   },
   {
    "duration": 1346,
    "start_time": "2022-06-21T18:04:03.486Z"
   },
   {
    "duration": 108,
    "start_time": "2022-06-21T18:04:05.192Z"
   },
   {
    "duration": 38,
    "start_time": "2022-06-21T18:04:20.298Z"
   },
   {
    "duration": 38,
    "start_time": "2022-06-21T18:04:25.426Z"
   },
   {
    "duration": 1868,
    "start_time": "2022-06-21T18:04:29.321Z"
   },
   {
    "duration": 298,
    "start_time": "2022-06-21T18:04:35.021Z"
   },
   {
    "duration": 623,
    "start_time": "2022-06-21T18:04:56.665Z"
   },
   {
    "duration": 641,
    "start_time": "2022-06-21T18:06:05.679Z"
   },
   {
    "duration": 659,
    "start_time": "2022-06-21T18:06:27.961Z"
   },
   {
    "duration": 642,
    "start_time": "2022-06-21T18:06:49.436Z"
   },
   {
    "duration": 632,
    "start_time": "2022-06-21T18:06:56.079Z"
   },
   {
    "duration": 652,
    "start_time": "2022-06-21T18:07:09.087Z"
   },
   {
    "duration": 923,
    "start_time": "2022-06-21T18:07:39.333Z"
   },
   {
    "duration": 57,
    "start_time": "2022-06-21T18:08:05.433Z"
   },
   {
    "duration": 901,
    "start_time": "2022-06-21T18:08:11.696Z"
   },
   {
    "duration": 1783,
    "start_time": "2022-06-21T18:11:52.000Z"
   },
   {
    "duration": 11,
    "start_time": "2022-06-21T18:16:28.063Z"
   },
   {
    "duration": 295,
    "start_time": "2022-06-21T18:16:39.759Z"
   },
   {
    "duration": 140,
    "start_time": "2022-06-21T18:16:40.837Z"
   },
   {
    "duration": 136,
    "start_time": "2022-06-21T18:16:41.542Z"
   },
   {
    "duration": 44,
    "start_time": "2022-06-21T18:16:44.397Z"
   },
   {
    "duration": 226,
    "start_time": "2022-06-21T18:17:18.711Z"
   },
   {
    "duration": 5,
    "start_time": "2022-06-21T18:43:18.742Z"
   },
   {
    "duration": 180,
    "start_time": "2022-06-21T18:43:20.122Z"
   },
   {
    "duration": 3,
    "start_time": "2022-06-21T18:46:04.409Z"
   },
   {
    "duration": 790,
    "start_time": "2022-06-21T18:46:05.942Z"
   },
   {
    "duration": 785,
    "start_time": "2022-06-21T18:46:11.548Z"
   },
   {
    "duration": 1751,
    "start_time": "2022-06-21T18:46:26.385Z"
   },
   {
    "duration": 208,
    "start_time": "2022-06-21T18:46:39.179Z"
   },
   {
    "duration": 294,
    "start_time": "2022-06-21T18:46:43.733Z"
   },
   {
    "duration": 130,
    "start_time": "2022-06-21T18:46:44.248Z"
   },
   {
    "duration": 123,
    "start_time": "2022-06-21T18:46:45.938Z"
   },
   {
    "duration": 51,
    "start_time": "2022-06-21T18:46:48.391Z"
   },
   {
    "duration": 194,
    "start_time": "2022-06-21T18:46:50.598Z"
   },
   {
    "duration": 199,
    "start_time": "2022-06-21T19:00:06.685Z"
   },
   {
    "duration": 152,
    "start_time": "2022-06-21T19:00:20.942Z"
   },
   {
    "duration": 929,
    "start_time": "2022-06-21T19:00:51.479Z"
   },
   {
    "duration": 3,
    "start_time": "2022-06-21T19:00:59.253Z"
   },
   {
    "duration": 868,
    "start_time": "2022-06-21T19:00:59.713Z"
   },
   {
    "duration": 843,
    "start_time": "2022-06-21T19:01:00.691Z"
   },
   {
    "duration": 1846,
    "start_time": "2022-06-21T19:01:03.586Z"
   },
   {
    "duration": 310,
    "start_time": "2022-06-21T19:01:05.836Z"
   },
   {
    "duration": 142,
    "start_time": "2022-06-21T19:01:06.837Z"
   },
   {
    "duration": 152,
    "start_time": "2022-06-21T19:01:07.191Z"
   },
   {
    "duration": 56,
    "start_time": "2022-06-21T19:01:08.665Z"
   },
   {
    "duration": 204,
    "start_time": "2022-06-21T19:01:10.503Z"
   },
   {
    "duration": 164,
    "start_time": "2022-06-21T19:25:07.432Z"
   },
   {
    "duration": 140,
    "start_time": "2022-06-21T19:25:20.694Z"
   },
   {
    "duration": 138,
    "start_time": "2022-06-21T19:25:26.721Z"
   },
   {
    "duration": 146,
    "start_time": "2022-06-21T19:25:52.343Z"
   },
   {
    "duration": 136,
    "start_time": "2022-06-21T19:27:50.298Z"
   },
   {
    "duration": 154,
    "start_time": "2022-06-21T19:27:52.198Z"
   },
   {
    "duration": 4,
    "start_time": "2022-06-21T19:27:53.634Z"
   },
   {
    "duration": 280,
    "start_time": "2022-06-21T19:27:54.997Z"
   },
   {
    "duration": 28,
    "start_time": "2022-06-21T19:28:13.664Z"
   },
   {
    "duration": 154,
    "start_time": "2022-06-21T19:28:21.465Z"
   },
   {
    "duration": 232,
    "start_time": "2022-06-21T19:28:26.560Z"
   },
   {
    "duration": 244,
    "start_time": "2022-06-21T19:29:03.544Z"
   },
   {
    "duration": 229,
    "start_time": "2022-06-21T19:30:04.222Z"
   },
   {
    "duration": 211,
    "start_time": "2022-06-21T19:30:13.808Z"
   },
   {
    "duration": 10,
    "start_time": "2022-06-21T19:30:30.294Z"
   },
   {
    "duration": 245,
    "start_time": "2022-06-21T19:30:31.612Z"
   },
   {
    "duration": 8753,
    "start_time": "2022-06-21T19:30:35.428Z"
   },
   {
    "duration": 20,
    "start_time": "2022-06-21T19:30:44.184Z"
   },
   {
    "duration": 744,
    "start_time": "2022-06-21T19:30:44.205Z"
   },
   {
    "duration": 262,
    "start_time": "2022-06-21T19:30:54.928Z"
   },
   {
    "duration": 248,
    "start_time": "2022-06-21T19:30:59.593Z"
   },
   {
    "duration": 25,
    "start_time": "2022-06-21T19:43:39.530Z"
   },
   {
    "duration": 14,
    "start_time": "2022-06-21T19:47:03.624Z"
   },
   {
    "duration": 233,
    "start_time": "2022-06-21T19:47:04.700Z"
   },
   {
    "duration": 113,
    "start_time": "2022-06-21T20:01:17.596Z"
   },
   {
    "duration": 344,
    "start_time": "2022-06-21T20:01:18.497Z"
   },
   {
    "duration": 316,
    "start_time": "2022-06-21T20:03:23.915Z"
   },
   {
    "duration": 320,
    "start_time": "2022-06-21T20:03:36.704Z"
   },
   {
    "duration": 362,
    "start_time": "2022-06-21T20:03:41.132Z"
   },
   {
    "duration": 384,
    "start_time": "2022-06-21T20:04:07.652Z"
   },
   {
    "duration": 19,
    "start_time": "2022-06-21T20:04:30.408Z"
   },
   {
    "duration": 400,
    "start_time": "2022-06-21T20:04:46.835Z"
   },
   {
    "duration": 292,
    "start_time": "2022-06-21T20:04:57.233Z"
   },
   {
    "duration": 182,
    "start_time": "2022-06-21T20:05:24.415Z"
   },
   {
    "duration": 193,
    "start_time": "2022-06-21T20:05:45.808Z"
   },
   {
    "duration": 344,
    "start_time": "2022-06-21T20:05:49.701Z"
   },
   {
    "duration": 357,
    "start_time": "2022-06-21T20:06:01.593Z"
   },
   {
    "duration": 323,
    "start_time": "2022-06-21T20:06:27.586Z"
   },
   {
    "duration": 395,
    "start_time": "2022-06-21T20:06:39.289Z"
   },
   {
    "duration": 289,
    "start_time": "2022-06-21T20:06:55.527Z"
   },
   {
    "duration": 76,
    "start_time": "2022-06-21T20:26:45.453Z"
   },
   {
    "duration": 14,
    "start_time": "2022-06-21T20:28:44.392Z"
   },
   {
    "duration": 289,
    "start_time": "2022-06-21T20:30:17.187Z"
   },
   {
    "duration": 152,
    "start_time": "2022-06-21T20:31:07.885Z"
   },
   {
    "duration": 16,
    "start_time": "2022-06-21T20:31:11.392Z"
   },
   {
    "duration": 295,
    "start_time": "2022-06-21T20:32:21.825Z"
   },
   {
    "duration": 276,
    "start_time": "2022-06-21T20:32:38.046Z"
   },
   {
    "duration": 75,
    "start_time": "2022-06-21T20:33:03.643Z"
   },
   {
    "duration": 211,
    "start_time": "2022-06-21T20:33:15.495Z"
   },
   {
    "duration": 83,
    "start_time": "2022-06-21T20:33:24.243Z"
   },
   {
    "duration": 345,
    "start_time": "2022-06-21T20:34:31.534Z"
   },
   {
    "duration": 278,
    "start_time": "2022-06-21T20:34:37.275Z"
   },
   {
    "duration": 30,
    "start_time": "2022-06-21T20:35:22.926Z"
   },
   {
    "duration": 68,
    "start_time": "2022-06-21T20:35:46.528Z"
   },
   {
    "duration": 50,
    "start_time": "2022-06-21T20:37:31.679Z"
   },
   {
    "duration": 89,
    "start_time": "2022-06-21T20:38:28.927Z"
   },
   {
    "duration": 1240,
    "start_time": "2022-06-21T20:38:36.635Z"
   },
   {
    "duration": 881,
    "start_time": "2022-06-21T20:38:37.877Z"
   },
   {
    "duration": 1030,
    "start_time": "2022-06-21T20:38:38.759Z"
   },
   {
    "duration": 2122,
    "start_time": "2022-06-21T20:38:39.793Z"
   },
   {
    "duration": 428,
    "start_time": "2022-06-21T20:38:41.918Z"
   },
   {
    "duration": 174,
    "start_time": "2022-06-21T20:38:42.347Z"
   },
   {
    "duration": 176,
    "start_time": "2022-06-21T20:38:42.522Z"
   },
   {
    "duration": 57,
    "start_time": "2022-06-21T20:38:42.699Z"
   },
   {
    "duration": 350,
    "start_time": "2022-06-21T20:38:42.757Z"
   },
   {
    "duration": 8947,
    "start_time": "2022-06-21T20:38:43.109Z"
   },
   {
    "duration": 27,
    "start_time": "2022-06-21T20:38:52.058Z"
   },
   {
    "duration": 556,
    "start_time": "2022-06-21T20:38:52.087Z"
   },
   {
    "duration": 152,
    "start_time": "2022-06-21T20:38:52.645Z"
   },
   {
    "duration": 172,
    "start_time": "2022-06-21T20:38:52.800Z"
   },
   {
    "duration": 4,
    "start_time": "2022-06-21T20:38:52.974Z"
   },
   {
    "duration": 296,
    "start_time": "2022-06-21T20:38:52.980Z"
   },
   {
    "duration": 257,
    "start_time": "2022-06-21T20:38:53.278Z"
   },
   {
    "duration": 39,
    "start_time": "2022-06-21T20:38:53.536Z"
   },
   {
    "duration": 14,
    "start_time": "2022-06-21T20:38:53.577Z"
   },
   {
    "duration": 257,
    "start_time": "2022-06-21T20:38:53.593Z"
   },
   {
    "duration": 258,
    "start_time": "2022-06-21T20:38:53.852Z"
   },
   {
    "duration": 129,
    "start_time": "2022-06-21T20:38:54.112Z"
   },
   {
    "duration": 341,
    "start_time": "2022-06-21T20:38:54.242Z"
   },
   {
    "duration": 365,
    "start_time": "2022-06-21T20:38:54.585Z"
   },
   {
    "duration": 166,
    "start_time": "2022-06-21T20:38:54.951Z"
   },
   {
    "duration": 57,
    "start_time": "2022-06-21T20:38:55.119Z"
   },
   {
    "duration": 53,
    "start_time": "2022-06-21T20:38:55.183Z"
   },
   {
    "duration": 29,
    "start_time": "2022-06-21T20:42:43.222Z"
   },
   {
    "duration": 143,
    "start_time": "2022-06-21T20:53:09.239Z"
   },
   {
    "duration": 80,
    "start_time": "2022-06-21T20:54:36.022Z"
   },
   {
    "duration": 104,
    "start_time": "2022-06-21T20:55:34.532Z"
   },
   {
    "duration": 204,
    "start_time": "2022-06-21T20:56:27.714Z"
   },
   {
    "duration": 217,
    "start_time": "2022-06-21T20:56:34.625Z"
   },
   {
    "duration": 1211,
    "start_time": "2022-06-21T20:56:42.542Z"
   },
   {
    "duration": 984,
    "start_time": "2022-06-21T20:56:43.756Z"
   },
   {
    "duration": 989,
    "start_time": "2022-06-21T20:56:44.741Z"
   },
   {
    "duration": 1985,
    "start_time": "2022-06-21T20:56:45.732Z"
   },
   {
    "duration": 324,
    "start_time": "2022-06-21T20:56:47.719Z"
   },
   {
    "duration": 142,
    "start_time": "2022-06-21T20:56:48.045Z"
   },
   {
    "duration": 189,
    "start_time": "2022-06-21T20:56:48.189Z"
   },
   {
    "duration": 55,
    "start_time": "2022-06-21T20:56:48.379Z"
   },
   {
    "duration": 276,
    "start_time": "2022-06-21T20:56:48.436Z"
   },
   {
    "duration": 8511,
    "start_time": "2022-06-21T20:56:48.715Z"
   },
   {
    "duration": 20,
    "start_time": "2022-06-21T20:56:57.228Z"
   },
   {
    "duration": 600,
    "start_time": "2022-06-21T20:56:57.250Z"
   },
   {
    "duration": 138,
    "start_time": "2022-06-21T20:56:57.852Z"
   },
   {
    "duration": 166,
    "start_time": "2022-06-21T20:56:57.992Z"
   },
   {
    "duration": 3,
    "start_time": "2022-06-21T20:56:58.160Z"
   },
   {
    "duration": 300,
    "start_time": "2022-06-21T20:56:58.167Z"
   },
   {
    "duration": 265,
    "start_time": "2022-06-21T20:56:58.469Z"
   },
   {
    "duration": 52,
    "start_time": "2022-06-21T20:56:58.736Z"
   },
   {
    "duration": 15,
    "start_time": "2022-06-21T20:56:58.790Z"
   },
   {
    "duration": 316,
    "start_time": "2022-06-21T20:56:58.807Z"
   },
   {
    "duration": 309,
    "start_time": "2022-06-21T20:56:59.125Z"
   },
   {
    "duration": 137,
    "start_time": "2022-06-21T20:56:59.435Z"
   },
   {
    "duration": 322,
    "start_time": "2022-06-21T20:56:59.574Z"
   },
   {
    "duration": 421,
    "start_time": "2022-06-21T20:56:59.898Z"
   },
   {
    "duration": 139,
    "start_time": "2022-06-21T20:57:00.321Z"
   },
   {
    "duration": 59,
    "start_time": "2022-06-21T20:57:00.461Z"
   },
   {
    "duration": 239,
    "start_time": "2022-06-21T20:57:00.522Z"
   },
   {
    "duration": 79,
    "start_time": "2022-06-21T20:57:00.767Z"
   },
   {
    "duration": 239,
    "start_time": "2022-06-21T21:06:56.924Z"
   },
   {
    "duration": 1132,
    "start_time": "2022-06-21T21:07:04.644Z"
   },
   {
    "duration": 865,
    "start_time": "2022-06-21T21:07:05.781Z"
   },
   {
    "duration": 947,
    "start_time": "2022-06-21T21:07:06.647Z"
   },
   {
    "duration": 1918,
    "start_time": "2022-06-21T21:07:07.596Z"
   },
   {
    "duration": 322,
    "start_time": "2022-06-21T21:07:09.517Z"
   },
   {
    "duration": 160,
    "start_time": "2022-06-21T21:07:09.841Z"
   },
   {
    "duration": 141,
    "start_time": "2022-06-21T21:07:10.002Z"
   },
   {
    "duration": 74,
    "start_time": "2022-06-21T21:07:10.145Z"
   },
   {
    "duration": 281,
    "start_time": "2022-06-21T21:07:10.221Z"
   },
   {
    "duration": 7986,
    "start_time": "2022-06-21T21:07:10.503Z"
   },
   {
    "duration": 16,
    "start_time": "2022-06-21T21:07:18.491Z"
   },
   {
    "duration": 579,
    "start_time": "2022-06-21T21:07:18.509Z"
   },
   {
    "duration": 149,
    "start_time": "2022-06-21T21:07:19.090Z"
   },
   {
    "duration": 164,
    "start_time": "2022-06-21T21:07:19.243Z"
   },
   {
    "duration": 3,
    "start_time": "2022-06-21T21:07:19.409Z"
   },
   {
    "duration": 262,
    "start_time": "2022-06-21T21:07:19.414Z"
   },
   {
    "duration": 238,
    "start_time": "2022-06-21T21:07:19.679Z"
   },
   {
    "duration": 24,
    "start_time": "2022-06-21T21:07:19.919Z"
   },
   {
    "duration": 31,
    "start_time": "2022-06-21T21:07:19.944Z"
   },
   {
    "duration": 263,
    "start_time": "2022-06-21T21:07:19.977Z"
   },
   {
    "duration": 302,
    "start_time": "2022-06-21T21:07:20.242Z"
   },
   {
    "duration": 180,
    "start_time": "2022-06-21T21:07:20.546Z"
   },
   {
    "duration": 328,
    "start_time": "2022-06-21T21:07:20.728Z"
   },
   {
    "duration": 360,
    "start_time": "2022-06-21T21:07:21.058Z"
   },
   {
    "duration": 153,
    "start_time": "2022-06-21T21:07:21.420Z"
   },
   {
    "duration": 52,
    "start_time": "2022-06-21T21:07:21.578Z"
   },
   {
    "duration": 211,
    "start_time": "2022-06-21T21:07:21.632Z"
   },
   {
    "duration": 77,
    "start_time": "2022-06-21T21:07:21.844Z"
   },
   {
    "duration": 1081,
    "start_time": "2022-06-21T21:09:41.931Z"
   },
   {
    "duration": 865,
    "start_time": "2022-06-21T21:09:43.014Z"
   },
   {
    "duration": 920,
    "start_time": "2022-06-21T21:09:43.881Z"
   },
   {
    "duration": 1864,
    "start_time": "2022-06-21T21:09:44.803Z"
   },
   {
    "duration": 317,
    "start_time": "2022-06-21T21:09:46.669Z"
   },
   {
    "duration": 134,
    "start_time": "2022-06-21T21:09:46.988Z"
   },
   {
    "duration": 137,
    "start_time": "2022-06-21T21:09:47.124Z"
   },
   {
    "duration": 61,
    "start_time": "2022-06-21T21:09:47.262Z"
   },
   {
    "duration": 298,
    "start_time": "2022-06-21T21:09:47.325Z"
   },
   {
    "duration": 8875,
    "start_time": "2022-06-21T21:09:47.624Z"
   },
   {
    "duration": 18,
    "start_time": "2022-06-21T21:09:56.501Z"
   },
   {
    "duration": 583,
    "start_time": "2022-06-21T21:09:56.521Z"
   },
   {
    "duration": 143,
    "start_time": "2022-06-21T21:09:57.106Z"
   },
   {
    "duration": 166,
    "start_time": "2022-06-21T21:09:57.252Z"
   },
   {
    "duration": 3,
    "start_time": "2022-06-21T21:09:57.420Z"
   },
   {
    "duration": 270,
    "start_time": "2022-06-21T21:09:57.425Z"
   },
   {
    "duration": 262,
    "start_time": "2022-06-21T21:09:57.697Z"
   },
   {
    "duration": 31,
    "start_time": "2022-06-21T21:09:57.970Z"
   },
   {
    "duration": 14,
    "start_time": "2022-06-21T21:09:58.003Z"
   },
   {
    "duration": 284,
    "start_time": "2022-06-21T21:09:58.018Z"
   },
   {
    "duration": 282,
    "start_time": "2022-06-21T21:09:58.304Z"
   },
   {
    "duration": 154,
    "start_time": "2022-06-21T21:09:58.587Z"
   },
   {
    "duration": 434,
    "start_time": "2022-06-21T21:09:58.742Z"
   },
   {
    "duration": 383,
    "start_time": "2022-06-21T21:09:59.184Z"
   },
   {
    "duration": 165,
    "start_time": "2022-06-21T21:09:59.568Z"
   },
   {
    "duration": 54,
    "start_time": "2022-06-21T21:09:59.735Z"
   },
   {
    "duration": 209,
    "start_time": "2022-06-21T21:09:59.791Z"
   },
   {
    "duration": 187,
    "start_time": "2022-06-21T21:11:30.996Z"
   },
   {
    "duration": 111,
    "start_time": "2022-06-21T21:11:59.816Z"
   },
   {
    "duration": 108,
    "start_time": "2022-06-21T21:12:49.164Z"
   },
   {
    "duration": 1237,
    "start_time": "2022-06-21T21:12:53.593Z"
   },
   {
    "duration": 853,
    "start_time": "2022-06-21T21:12:54.833Z"
   },
   {
    "duration": 844,
    "start_time": "2022-06-21T21:12:55.689Z"
   },
   {
    "duration": 2056,
    "start_time": "2022-06-21T21:12:56.536Z"
   },
   {
    "duration": 414,
    "start_time": "2022-06-21T21:12:58.600Z"
   },
   {
    "duration": 192,
    "start_time": "2022-06-21T21:12:59.015Z"
   },
   {
    "duration": 175,
    "start_time": "2022-06-21T21:12:59.209Z"
   },
   {
    "duration": 57,
    "start_time": "2022-06-21T21:12:59.385Z"
   },
   {
    "duration": 315,
    "start_time": "2022-06-21T21:12:59.445Z"
   },
   {
    "duration": 8433,
    "start_time": "2022-06-21T21:12:59.766Z"
   },
   {
    "duration": 17,
    "start_time": "2022-06-21T21:13:08.201Z"
   },
   {
    "duration": 588,
    "start_time": "2022-06-21T21:13:08.219Z"
   },
   {
    "duration": 127,
    "start_time": "2022-06-21T21:13:08.809Z"
   },
   {
    "duration": 156,
    "start_time": "2022-06-21T21:13:08.938Z"
   },
   {
    "duration": 5,
    "start_time": "2022-06-21T21:13:09.097Z"
   },
   {
    "duration": 385,
    "start_time": "2022-06-21T21:13:09.103Z"
   },
   {
    "duration": 255,
    "start_time": "2022-06-21T21:13:09.490Z"
   },
   {
    "duration": 40,
    "start_time": "2022-06-21T21:13:09.747Z"
   },
   {
    "duration": 14,
    "start_time": "2022-06-21T21:13:09.789Z"
   },
   {
    "duration": 254,
    "start_time": "2022-06-21T21:13:09.805Z"
   },
   {
    "duration": 236,
    "start_time": "2022-06-21T21:13:10.070Z"
   },
   {
    "duration": 135,
    "start_time": "2022-06-21T21:13:10.309Z"
   },
   {
    "duration": 318,
    "start_time": "2022-06-21T21:13:10.445Z"
   },
   {
    "duration": 390,
    "start_time": "2022-06-21T21:13:10.767Z"
   },
   {
    "duration": 156,
    "start_time": "2022-06-21T21:13:11.159Z"
   },
   {
    "duration": 72,
    "start_time": "2022-06-21T21:13:11.316Z"
   },
   {
    "duration": 164,
    "start_time": "2022-06-21T21:13:11.389Z"
   },
   {
    "duration": 108,
    "start_time": "2022-06-21T21:13:11.557Z"
   },
   {
    "duration": 95,
    "start_time": "2022-06-21T21:16:34.613Z"
   },
   {
    "duration": 108,
    "start_time": "2022-06-21T21:18:03.107Z"
   },
   {
    "duration": 153,
    "start_time": "2022-06-21T21:18:07.565Z"
   },
   {
    "duration": 515,
    "start_time": "2022-06-21T21:18:55.104Z"
   },
   {
    "duration": 528,
    "start_time": "2022-06-21T21:19:15.793Z"
   },
   {
    "duration": 1502,
    "start_time": "2022-06-21T21:19:33.111Z"
   },
   {
    "duration": 1681,
    "start_time": "2022-06-21T21:20:19.244Z"
   },
   {
    "duration": 1584,
    "start_time": "2022-06-21T21:20:50.058Z"
   },
   {
    "duration": 1641,
    "start_time": "2022-06-21T21:21:39.456Z"
   },
   {
    "duration": 1581,
    "start_time": "2022-06-21T21:22:39.897Z"
   },
   {
    "duration": 27,
    "start_time": "2022-06-21T21:30:11.703Z"
   },
   {
    "duration": 129,
    "start_time": "2022-06-21T21:30:20.728Z"
   },
   {
    "duration": 241,
    "start_time": "2022-06-21T21:30:30.910Z"
   },
   {
    "duration": 165,
    "start_time": "2022-06-21T21:30:57.390Z"
   },
   {
    "duration": 184,
    "start_time": "2022-06-21T21:31:54.278Z"
   },
   {
    "duration": 221,
    "start_time": "2022-06-21T21:33:21.766Z"
   },
   {
    "duration": 174,
    "start_time": "2022-06-21T21:33:45.095Z"
   },
   {
    "duration": 201,
    "start_time": "2022-06-21T21:34:11.819Z"
   },
   {
    "duration": 223,
    "start_time": "2022-06-21T21:35:36.785Z"
   },
   {
    "duration": 260,
    "start_time": "2022-06-21T21:36:08.397Z"
   },
   {
    "duration": 267,
    "start_time": "2022-06-21T21:37:37.592Z"
   },
   {
    "duration": 255,
    "start_time": "2022-06-21T21:38:05.806Z"
   },
   {
    "duration": 246,
    "start_time": "2022-06-21T21:40:03.650Z"
   },
   {
    "duration": 244,
    "start_time": "2022-06-21T21:40:30.997Z"
   },
   {
    "duration": 357,
    "start_time": "2022-06-21T21:41:08.587Z"
   },
   {
    "duration": 250,
    "start_time": "2022-06-21T21:44:46.111Z"
   },
   {
    "duration": 251,
    "start_time": "2022-06-21T21:48:02.285Z"
   },
   {
    "duration": 286,
    "start_time": "2022-06-21T21:50:03.062Z"
   },
   {
    "duration": 261,
    "start_time": "2022-06-21T21:50:22.151Z"
   },
   {
    "duration": 387,
    "start_time": "2022-06-21T21:50:31.744Z"
   },
   {
    "duration": 265,
    "start_time": "2022-06-21T21:50:55.932Z"
   },
   {
    "duration": 324,
    "start_time": "2022-06-21T21:51:02.285Z"
   },
   {
    "duration": 259,
    "start_time": "2022-06-21T21:51:09.184Z"
   },
   {
    "duration": 245,
    "start_time": "2022-06-21T21:51:54.116Z"
   },
   {
    "duration": 252,
    "start_time": "2022-06-21T21:53:04.408Z"
   },
   {
    "duration": 369,
    "start_time": "2022-06-21T21:53:22.124Z"
   },
   {
    "duration": 256,
    "start_time": "2022-06-21T21:53:53.249Z"
   },
   {
    "duration": 314,
    "start_time": "2022-06-21T21:54:08.797Z"
   },
   {
    "duration": 258,
    "start_time": "2022-06-21T22:32:22.301Z"
   },
   {
    "duration": 265,
    "start_time": "2022-06-21T22:32:36.485Z"
   },
   {
    "duration": 284,
    "start_time": "2022-06-21T22:32:42.444Z"
   },
   {
    "duration": 249,
    "start_time": "2022-06-21T22:32:47.421Z"
   },
   {
    "duration": 268,
    "start_time": "2022-06-21T22:32:59.133Z"
   },
   {
    "duration": 60,
    "start_time": "2022-06-21T22:39:29.452Z"
   },
   {
    "duration": 55,
    "start_time": "2022-06-21T22:45:54.617Z"
   },
   {
    "duration": 95,
    "start_time": "2022-06-21T22:49:31.327Z"
   },
   {
    "duration": 45,
    "start_time": "2022-06-21T22:51:51.209Z"
   },
   {
    "duration": 74,
    "start_time": "2022-06-21T22:52:42.943Z"
   },
   {
    "duration": 56,
    "start_time": "2022-06-21T22:52:48.745Z"
   },
   {
    "duration": 87,
    "start_time": "2022-06-21T22:53:26.218Z"
   },
   {
    "duration": 69,
    "start_time": "2022-06-21T22:53:51.051Z"
   },
   {
    "duration": 53,
    "start_time": "2022-06-21T22:54:09.584Z"
   },
   {
    "duration": 60,
    "start_time": "2022-06-21T22:57:03.888Z"
   },
   {
    "duration": 39,
    "start_time": "2022-06-21T22:58:48.296Z"
   },
   {
    "duration": 4,
    "start_time": "2022-06-21T23:05:43.712Z"
   },
   {
    "duration": 5,
    "start_time": "2022-06-21T23:08:34.419Z"
   },
   {
    "duration": 4,
    "start_time": "2022-06-21T23:08:49.540Z"
   },
   {
    "duration": 5,
    "start_time": "2022-06-21T23:09:18.495Z"
   },
   {
    "duration": 5,
    "start_time": "2022-06-21T23:09:53.981Z"
   },
   {
    "duration": 4,
    "start_time": "2022-06-21T23:12:08.543Z"
   },
   {
    "duration": 16,
    "start_time": "2022-06-21T23:12:12.635Z"
   },
   {
    "duration": 4,
    "start_time": "2022-06-21T23:12:16.187Z"
   },
   {
    "duration": 4,
    "start_time": "2022-06-21T23:13:01.862Z"
   },
   {
    "duration": 5,
    "start_time": "2022-06-21T23:13:07.373Z"
   },
   {
    "duration": 867,
    "start_time": "2022-06-22T00:12:55.642Z"
   },
   {
    "duration": 14,
    "start_time": "2022-06-22T00:15:08.177Z"
   },
   {
    "duration": 75,
    "start_time": "2022-06-22T00:15:43.705Z"
   },
   {
    "duration": 95,
    "start_time": "2022-06-22T00:15:53.122Z"
   },
   {
    "duration": 134,
    "start_time": "2022-06-22T00:16:15.144Z"
   },
   {
    "duration": 126,
    "start_time": "2022-06-22T00:16:50.891Z"
   },
   {
    "duration": 128,
    "start_time": "2022-06-22T00:17:15.953Z"
   },
   {
    "duration": 131,
    "start_time": "2022-06-22T00:17:27.765Z"
   },
   {
    "duration": 137,
    "start_time": "2022-06-22T00:17:52.892Z"
   },
   {
    "duration": 10,
    "start_time": "2022-06-22T00:23:54.326Z"
   },
   {
    "duration": 11,
    "start_time": "2022-06-22T00:24:07.864Z"
   },
   {
    "duration": 9,
    "start_time": "2022-06-22T00:24:12.386Z"
   },
   {
    "duration": 111,
    "start_time": "2022-06-22T00:24:37.403Z"
   },
   {
    "duration": 93,
    "start_time": "2022-06-22T00:26:14.014Z"
   },
   {
    "duration": 173,
    "start_time": "2022-06-22T00:26:21.130Z"
   },
   {
    "duration": 141,
    "start_time": "2022-06-22T00:26:46.145Z"
   },
   {
    "duration": 165,
    "start_time": "2022-06-22T00:27:28.928Z"
   },
   {
    "duration": 147,
    "start_time": "2022-06-22T00:27:55.463Z"
   },
   {
    "duration": 152,
    "start_time": "2022-06-22T00:28:28.446Z"
   },
   {
    "duration": 107,
    "start_time": "2022-06-22T00:28:45.098Z"
   },
   {
    "duration": 187,
    "start_time": "2022-06-22T00:30:17.646Z"
   },
   {
    "duration": 169,
    "start_time": "2022-06-22T00:30:20.873Z"
   },
   {
    "duration": 28,
    "start_time": "2022-06-22T00:33:52.532Z"
   },
   {
    "duration": 858,
    "start_time": "2022-06-22T00:37:13.922Z"
   },
   {
    "duration": 875,
    "start_time": "2022-06-22T00:37:16.258Z"
   },
   {
    "duration": 89,
    "start_time": "2022-06-22T00:37:44.402Z"
   },
   {
    "duration": 183,
    "start_time": "2022-06-22T00:37:52.356Z"
   },
   {
    "duration": 18,
    "start_time": "2022-06-22T00:38:34.128Z"
   },
   {
    "duration": 29,
    "start_time": "2022-06-22T00:39:06.859Z"
   },
   {
    "duration": 183,
    "start_time": "2022-06-22T00:39:48.136Z"
   },
   {
    "duration": 21,
    "start_time": "2022-06-22T00:39:56.131Z"
   },
   {
    "duration": 193,
    "start_time": "2022-06-22T00:40:07.598Z"
   },
   {
    "duration": 16,
    "start_time": "2022-06-22T00:40:30.849Z"
   },
   {
    "duration": 141,
    "start_time": "2022-06-22T00:40:55.167Z"
   },
   {
    "duration": 119,
    "start_time": "2022-06-22T00:41:49.559Z"
   },
   {
    "duration": 183,
    "start_time": "2022-06-22T00:42:43.438Z"
   },
   {
    "duration": 193,
    "start_time": "2022-06-22T00:43:10.919Z"
   },
   {
    "duration": 194,
    "start_time": "2022-06-22T00:43:22.896Z"
   },
   {
    "duration": 206,
    "start_time": "2022-06-22T00:43:38.210Z"
   },
   {
    "duration": 963,
    "start_time": "2022-06-22T00:43:45.418Z"
   },
   {
    "duration": 818,
    "start_time": "2022-06-22T00:44:07.202Z"
   },
   {
    "duration": 36,
    "start_time": "2022-06-22T00:44:25.068Z"
   },
   {
    "duration": 40,
    "start_time": "2022-06-22T00:44:41.708Z"
   },
   {
    "duration": 193,
    "start_time": "2022-06-22T00:45:06.728Z"
   },
   {
    "duration": 197,
    "start_time": "2022-06-22T00:45:23.508Z"
   },
   {
    "duration": 206,
    "start_time": "2022-06-22T00:45:48.414Z"
   },
   {
    "duration": 97,
    "start_time": "2022-06-22T00:45:55.006Z"
   },
   {
    "duration": 104,
    "start_time": "2022-06-22T00:46:52.392Z"
   },
   {
    "duration": 99,
    "start_time": "2022-06-22T00:47:02.291Z"
   },
   {
    "duration": 112,
    "start_time": "2022-06-22T00:48:01.537Z"
   },
   {
    "duration": 99,
    "start_time": "2022-06-22T00:48:20.523Z"
   },
   {
    "duration": 107,
    "start_time": "2022-06-22T00:48:56.248Z"
   },
   {
    "duration": 97,
    "start_time": "2022-06-22T00:49:33.638Z"
   },
   {
    "duration": 101,
    "start_time": "2022-06-22T00:49:39.003Z"
   },
   {
    "duration": 99,
    "start_time": "2022-06-22T00:50:57.779Z"
   },
   {
    "duration": 343,
    "start_time": "2022-06-22T00:51:30.607Z"
   },
   {
    "duration": 318,
    "start_time": "2022-06-22T00:52:11.779Z"
   },
   {
    "duration": 386,
    "start_time": "2022-06-22T00:52:41.385Z"
   },
   {
    "duration": 312,
    "start_time": "2022-06-22T00:53:02.479Z"
   },
   {
    "duration": 354,
    "start_time": "2022-06-22T00:53:43.544Z"
   },
   {
    "duration": 311,
    "start_time": "2022-06-22T00:54:08.142Z"
   },
   {
    "duration": 297,
    "start_time": "2022-06-22T00:55:17.772Z"
   },
   {
    "duration": 286,
    "start_time": "2022-06-22T00:55:25.964Z"
   },
   {
    "duration": 98,
    "start_time": "2022-06-22T00:57:12.387Z"
   },
   {
    "duration": 233,
    "start_time": "2022-06-22T00:57:35.186Z"
   },
   {
    "duration": 292,
    "start_time": "2022-06-22T00:58:42.197Z"
   },
   {
    "duration": 293,
    "start_time": "2022-06-22T00:59:05.810Z"
   },
   {
    "duration": 113,
    "start_time": "2022-06-22T01:00:14.578Z"
   },
   {
    "duration": 914,
    "start_time": "2022-06-22T01:00:24.855Z"
   },
   {
    "duration": 21,
    "start_time": "2022-06-22T01:01:53.551Z"
   },
   {
    "duration": 331,
    "start_time": "2022-06-22T01:02:01.569Z"
   },
   {
    "duration": 323,
    "start_time": "2022-06-22T01:02:11.415Z"
   },
   {
    "duration": 324,
    "start_time": "2022-06-22T01:02:21.854Z"
   },
   {
    "duration": 72,
    "start_time": "2022-06-22T01:02:49.159Z"
   },
   {
    "duration": 301,
    "start_time": "2022-06-22T01:03:02.149Z"
   },
   {
    "duration": 314,
    "start_time": "2022-06-22T01:03:15.086Z"
   },
   {
    "duration": 317,
    "start_time": "2022-06-22T01:03:28.027Z"
   },
   {
    "duration": 55,
    "start_time": "2022-06-22T13:50:45.785Z"
   },
   {
    "duration": 1296,
    "start_time": "2022-06-22T13:50:54.523Z"
   },
   {
    "duration": 1851,
    "start_time": "2022-06-22T13:50:55.824Z"
   },
   {
    "duration": 918,
    "start_time": "2022-06-22T13:50:57.677Z"
   },
   {
    "duration": 1902,
    "start_time": "2022-06-22T13:50:58.597Z"
   },
   {
    "duration": 330,
    "start_time": "2022-06-22T13:51:00.501Z"
   },
   {
    "duration": 148,
    "start_time": "2022-06-22T13:51:00.836Z"
   },
   {
    "duration": 142,
    "start_time": "2022-06-22T13:51:00.986Z"
   },
   {
    "duration": 55,
    "start_time": "2022-06-22T13:51:01.130Z"
   },
   {
    "duration": 313,
    "start_time": "2022-06-22T13:51:01.187Z"
   },
   {
    "duration": 8510,
    "start_time": "2022-06-22T13:51:01.503Z"
   },
   {
    "duration": 25,
    "start_time": "2022-06-22T13:51:10.015Z"
   },
   {
    "duration": 555,
    "start_time": "2022-06-22T13:51:10.041Z"
   },
   {
    "duration": 138,
    "start_time": "2022-06-22T13:51:10.598Z"
   },
   {
    "duration": 157,
    "start_time": "2022-06-22T13:51:10.738Z"
   },
   {
    "duration": 4,
    "start_time": "2022-06-22T13:51:10.897Z"
   },
   {
    "duration": 262,
    "start_time": "2022-06-22T13:51:10.903Z"
   },
   {
    "duration": 250,
    "start_time": "2022-06-22T13:51:11.166Z"
   },
   {
    "duration": 37,
    "start_time": "2022-06-22T13:51:11.418Z"
   },
   {
    "duration": 12,
    "start_time": "2022-06-22T13:51:11.456Z"
   },
   {
    "duration": 250,
    "start_time": "2022-06-22T13:51:11.470Z"
   },
   {
    "duration": 265,
    "start_time": "2022-06-22T13:51:11.723Z"
   },
   {
    "duration": 147,
    "start_time": "2022-06-22T13:51:11.991Z"
   },
   {
    "duration": 312,
    "start_time": "2022-06-22T13:51:12.140Z"
   },
   {
    "duration": 433,
    "start_time": "2022-06-22T13:51:12.454Z"
   },
   {
    "duration": 268,
    "start_time": "2022-06-22T13:51:12.890Z"
   },
   {
    "duration": 101,
    "start_time": "2022-06-22T13:51:13.160Z"
   },
   {
    "duration": 180,
    "start_time": "2022-06-22T13:51:13.263Z"
   },
   {
    "duration": 90,
    "start_time": "2022-06-22T13:51:13.446Z"
   },
   {
    "duration": 268,
    "start_time": "2022-06-22T13:51:13.539Z"
   },
   {
    "duration": 1597,
    "start_time": "2022-06-22T13:51:13.809Z"
   },
   {
    "duration": 70,
    "start_time": "2022-06-22T13:51:15.408Z"
   },
   {
    "duration": 7,
    "start_time": "2022-06-22T13:51:15.480Z"
   },
   {
    "duration": 16,
    "start_time": "2022-06-22T13:51:15.489Z"
   },
   {
    "duration": 536,
    "start_time": "2022-06-22T13:51:15.506Z"
   },
   {
    "duration": 115,
    "start_time": "2022-06-22T13:52:06.423Z"
   },
   {
    "duration": 151,
    "start_time": "2022-06-22T13:52:12.673Z"
   },
   {
    "duration": 584,
    "start_time": "2022-06-22T13:52:47.590Z"
   },
   {
    "duration": 487,
    "start_time": "2022-06-22T13:53:37.669Z"
   },
   {
    "duration": 114,
    "start_time": "2022-06-22T13:53:56.717Z"
   },
   {
    "duration": 120,
    "start_time": "2022-06-22T13:54:20.342Z"
   },
   {
    "duration": 123,
    "start_time": "2022-06-22T13:54:34.717Z"
   },
   {
    "duration": 4495,
    "start_time": "2022-06-22T13:54:50.372Z"
   },
   {
    "duration": 507,
    "start_time": "2022-06-22T13:55:58.331Z"
   },
   {
    "duration": 113,
    "start_time": "2022-06-22T14:12:52.154Z"
   },
   {
    "duration": 598,
    "start_time": "2022-06-22T14:13:18.100Z"
   },
   {
    "duration": 490,
    "start_time": "2022-06-22T14:13:28.755Z"
   },
   {
    "duration": 114,
    "start_time": "2022-06-22T14:13:34.025Z"
   },
   {
    "duration": 657,
    "start_time": "2022-06-22T14:14:06.284Z"
   },
   {
    "duration": 503,
    "start_time": "2022-06-22T14:57:48.876Z"
   },
   {
    "duration": 59,
    "start_time": "2022-06-22T14:58:25.352Z"
   },
   {
    "duration": 233,
    "start_time": "2022-06-22T14:58:36.131Z"
   },
   {
    "duration": 215,
    "start_time": "2022-06-22T14:58:49.490Z"
   },
   {
    "duration": 111,
    "start_time": "2022-06-22T14:59:05.776Z"
   },
   {
    "duration": 472,
    "start_time": "2022-06-22T14:59:29.117Z"
   },
   {
    "duration": 4380,
    "start_time": "2022-06-22T14:59:55.359Z"
   },
   {
    "duration": 124,
    "start_time": "2022-06-22T15:00:15.778Z"
   },
   {
    "duration": 6,
    "start_time": "2022-06-22T15:00:58.985Z"
   },
   {
    "duration": 114,
    "start_time": "2022-06-22T15:01:11.617Z"
   },
   {
    "duration": 106,
    "start_time": "2022-06-22T15:01:41.380Z"
   },
   {
    "duration": 105,
    "start_time": "2022-06-22T15:01:58.231Z"
   },
   {
    "duration": 349,
    "start_time": "2022-06-22T15:03:07.678Z"
   },
   {
    "duration": 551,
    "start_time": "2022-06-22T15:03:31.366Z"
   },
   {
    "duration": 365,
    "start_time": "2022-06-22T15:03:46.538Z"
   },
   {
    "duration": 101,
    "start_time": "2022-06-22T15:07:33.815Z"
   },
   {
    "duration": 226,
    "start_time": "2022-06-22T15:07:41.612Z"
   },
   {
    "duration": 379,
    "start_time": "2022-06-22T15:07:59.761Z"
   },
   {
    "duration": 227,
    "start_time": "2022-06-22T15:08:30.404Z"
   },
   {
    "duration": 485,
    "start_time": "2022-06-22T15:08:57.503Z"
   },
   {
    "duration": 679,
    "start_time": "2022-06-22T15:09:21.539Z"
   },
   {
    "duration": 313,
    "start_time": "2022-06-22T15:15:33.134Z"
   },
   {
    "duration": 304,
    "start_time": "2022-06-22T15:15:44.842Z"
   },
   {
    "duration": 706,
    "start_time": "2022-06-22T15:16:08.440Z"
   },
   {
    "duration": 685,
    "start_time": "2022-06-22T15:16:21.584Z"
   },
   {
    "duration": 402,
    "start_time": "2022-06-22T15:16:43.152Z"
   },
   {
    "duration": 446,
    "start_time": "2022-06-22T15:24:07.761Z"
   },
   {
    "duration": 600,
    "start_time": "2022-06-22T15:24:15.316Z"
   },
   {
    "duration": 20,
    "start_time": "2022-06-22T15:56:16.958Z"
   },
   {
    "duration": 13,
    "start_time": "2022-06-22T15:59:12.890Z"
   },
   {
    "duration": 170,
    "start_time": "2022-06-22T16:00:59.542Z"
   },
   {
    "duration": 106,
    "start_time": "2022-06-22T16:01:13.888Z"
   },
   {
    "duration": 105,
    "start_time": "2022-06-22T16:01:28.434Z"
   },
   {
    "duration": 110,
    "start_time": "2022-06-22T16:02:34.814Z"
   },
   {
    "duration": 113,
    "start_time": "2022-06-22T16:03:00.040Z"
   },
   {
    "duration": 98,
    "start_time": "2022-06-22T16:03:53.602Z"
   },
   {
    "duration": 11,
    "start_time": "2022-06-22T16:08:37.646Z"
   },
   {
    "duration": 16,
    "start_time": "2022-06-22T16:08:47.611Z"
   },
   {
    "duration": 15,
    "start_time": "2022-06-22T16:08:52.040Z"
   },
   {
    "duration": 13,
    "start_time": "2022-06-22T16:08:58.479Z"
   },
   {
    "duration": 16,
    "start_time": "2022-06-22T16:09:08.589Z"
   },
   {
    "duration": 67,
    "start_time": "2022-06-22T16:09:40.697Z"
   },
   {
    "duration": 15,
    "start_time": "2022-06-22T16:09:53.763Z"
   },
   {
    "duration": 15,
    "start_time": "2022-06-22T16:10:00.202Z"
   },
   {
    "duration": 15,
    "start_time": "2022-06-22T16:10:31.862Z"
   },
   {
    "duration": 7,
    "start_time": "2022-06-22T16:32:18.056Z"
   },
   {
    "duration": 8,
    "start_time": "2022-06-22T16:32:31.445Z"
   },
   {
    "duration": 7,
    "start_time": "2022-06-22T16:32:45.432Z"
   },
   {
    "duration": 7,
    "start_time": "2022-06-22T16:34:54.783Z"
   },
   {
    "duration": 6,
    "start_time": "2022-06-22T16:36:50.508Z"
   },
   {
    "duration": 11,
    "start_time": "2022-06-22T16:37:10.383Z"
   },
   {
    "duration": 7,
    "start_time": "2022-06-22T16:37:17.197Z"
   },
   {
    "duration": 6,
    "start_time": "2022-06-22T16:37:40.959Z"
   },
   {
    "duration": 5,
    "start_time": "2022-06-22T16:37:49.030Z"
   },
   {
    "duration": 5,
    "start_time": "2022-06-22T16:38:04.512Z"
   },
   {
    "duration": 6,
    "start_time": "2022-06-22T16:46:30.061Z"
   },
   {
    "duration": 6,
    "start_time": "2022-06-22T16:46:36.156Z"
   },
   {
    "duration": 6,
    "start_time": "2022-06-22T16:46:58.183Z"
   },
   {
    "duration": 6,
    "start_time": "2022-06-22T16:47:10.299Z"
   },
   {
    "duration": 6,
    "start_time": "2022-06-22T16:47:18.014Z"
   },
   {
    "duration": 6,
    "start_time": "2022-06-22T16:47:28.292Z"
   },
   {
    "duration": 9,
    "start_time": "2022-06-22T16:47:30.620Z"
   },
   {
    "duration": 7,
    "start_time": "2022-06-22T16:47:39.018Z"
   },
   {
    "duration": 6,
    "start_time": "2022-06-22T16:47:55.694Z"
   },
   {
    "duration": 6,
    "start_time": "2022-06-22T16:47:59.788Z"
   },
   {
    "duration": 6,
    "start_time": "2022-06-22T16:48:07.611Z"
   },
   {
    "duration": 11,
    "start_time": "2022-06-22T16:49:44.832Z"
   },
   {
    "duration": 7,
    "start_time": "2022-06-22T16:50:40.591Z"
   },
   {
    "duration": 6,
    "start_time": "2022-06-22T16:58:22.207Z"
   },
   {
    "duration": 6,
    "start_time": "2022-06-22T16:58:27.289Z"
   },
   {
    "duration": 6,
    "start_time": "2022-06-22T16:58:34.999Z"
   },
   {
    "duration": 10,
    "start_time": "2022-06-22T16:58:49.119Z"
   },
   {
    "duration": 16,
    "start_time": "2022-06-22T17:18:49.410Z"
   },
   {
    "duration": 17,
    "start_time": "2022-06-22T17:18:52.557Z"
   },
   {
    "duration": 18,
    "start_time": "2022-06-22T17:19:36.291Z"
   },
   {
    "duration": 15,
    "start_time": "2022-06-22T17:19:42.402Z"
   },
   {
    "duration": 18,
    "start_time": "2022-06-22T17:19:45.732Z"
   },
   {
    "duration": 17,
    "start_time": "2022-06-22T18:01:23.948Z"
   },
   {
    "duration": 55,
    "start_time": "2022-06-23T10:48:13.605Z"
   },
   {
    "duration": 1413,
    "start_time": "2022-06-23T10:48:20.931Z"
   },
   {
    "duration": 2150,
    "start_time": "2022-06-23T10:48:22.347Z"
   },
   {
    "duration": 912,
    "start_time": "2022-06-23T10:48:24.499Z"
   },
   {
    "duration": 2026,
    "start_time": "2022-06-23T10:48:25.413Z"
   },
   {
    "duration": 333,
    "start_time": "2022-06-23T10:48:27.445Z"
   },
   {
    "duration": 153,
    "start_time": "2022-06-23T10:48:27.780Z"
   },
   {
    "duration": 156,
    "start_time": "2022-06-23T10:48:27.935Z"
   },
   {
    "duration": 66,
    "start_time": "2022-06-23T10:48:28.093Z"
   },
   {
    "duration": 306,
    "start_time": "2022-06-23T10:48:28.162Z"
   },
   {
    "duration": 8182,
    "start_time": "2022-06-23T10:48:28.471Z"
   },
   {
    "duration": 24,
    "start_time": "2022-06-23T10:48:36.655Z"
   },
   {
    "duration": 557,
    "start_time": "2022-06-23T10:48:36.681Z"
   },
   {
    "duration": 145,
    "start_time": "2022-06-23T10:48:37.239Z"
   },
   {
    "duration": 171,
    "start_time": "2022-06-23T10:48:37.386Z"
   },
   {
    "duration": 3,
    "start_time": "2022-06-23T10:48:37.559Z"
   },
   {
    "duration": 260,
    "start_time": "2022-06-23T10:48:37.564Z"
   },
   {
    "duration": 254,
    "start_time": "2022-06-23T10:48:37.826Z"
   },
   {
    "duration": 24,
    "start_time": "2022-06-23T10:48:38.082Z"
   },
   {
    "duration": 30,
    "start_time": "2022-06-23T10:48:38.108Z"
   },
   {
    "duration": 239,
    "start_time": "2022-06-23T10:48:38.146Z"
   },
   {
    "duration": 252,
    "start_time": "2022-06-23T10:48:38.387Z"
   },
   {
    "duration": 119,
    "start_time": "2022-06-23T10:48:38.644Z"
   },
   {
    "duration": 327,
    "start_time": "2022-06-23T10:48:38.765Z"
   },
   {
    "duration": 399,
    "start_time": "2022-06-23T10:48:39.094Z"
   },
   {
    "duration": 179,
    "start_time": "2022-06-23T10:48:39.495Z"
   },
   {
    "duration": 74,
    "start_time": "2022-06-23T10:48:39.676Z"
   },
   {
    "duration": 189,
    "start_time": "2022-06-23T10:48:39.752Z"
   },
   {
    "duration": 92,
    "start_time": "2022-06-23T10:48:39.946Z"
   },
   {
    "duration": 265,
    "start_time": "2022-06-23T10:48:40.046Z"
   },
   {
    "duration": 1558,
    "start_time": "2022-06-23T10:48:40.312Z"
   },
   {
    "duration": 75,
    "start_time": "2022-06-23T10:48:41.872Z"
   },
   {
    "duration": 6,
    "start_time": "2022-06-23T10:48:41.949Z"
   },
   {
    "duration": 8,
    "start_time": "2022-06-23T10:48:41.956Z"
   },
   {
    "duration": 636,
    "start_time": "2022-06-23T10:48:41.966Z"
   },
   {
    "duration": 106,
    "start_time": "2022-06-23T10:48:42.604Z"
   },
   {
    "duration": 6,
    "start_time": "2022-06-23T10:48:42.711Z"
   },
   {
    "duration": 12,
    "start_time": "2022-06-23T10:48:42.728Z"
   },
   {
    "duration": 20,
    "start_time": "2022-06-23T10:48:42.742Z"
   },
   {
    "duration": 104,
    "start_time": "2022-06-23T10:48:42.764Z"
   },
   {
    "duration": 13,
    "start_time": "2022-06-23T10:49:02.266Z"
   },
   {
    "duration": 23,
    "start_time": "2022-06-23T10:49:26.722Z"
   },
   {
    "duration": 32,
    "start_time": "2022-06-23T10:50:13.516Z"
   },
   {
    "duration": 22,
    "start_time": "2022-06-23T10:50:17.321Z"
   },
   {
    "duration": 27,
    "start_time": "2022-06-23T10:54:41.544Z"
   },
   {
    "duration": 15,
    "start_time": "2022-06-23T10:55:09.388Z"
   },
   {
    "duration": 20,
    "start_time": "2022-06-23T10:56:20.008Z"
   },
   {
    "duration": 18,
    "start_time": "2022-06-23T10:56:48.795Z"
   },
   {
    "duration": 16,
    "start_time": "2022-06-23T10:57:01.896Z"
   },
   {
    "duration": 19,
    "start_time": "2022-06-23T10:57:21.557Z"
   },
   {
    "duration": 20,
    "start_time": "2022-06-23T10:57:48.447Z"
   },
   {
    "duration": 12,
    "start_time": "2022-06-23T10:58:03.080Z"
   },
   {
    "duration": 68,
    "start_time": "2022-06-23T10:58:46.776Z"
   },
   {
    "duration": 17,
    "start_time": "2022-06-23T10:58:58.923Z"
   },
   {
    "duration": 14,
    "start_time": "2022-06-23T10:59:07.990Z"
   },
   {
    "duration": 23,
    "start_time": "2022-06-23T10:59:17.217Z"
   },
   {
    "duration": 18,
    "start_time": "2022-06-23T10:59:21.240Z"
   },
   {
    "duration": 14,
    "start_time": "2022-06-23T10:59:26.347Z"
   },
   {
    "duration": 12,
    "start_time": "2022-06-23T10:59:39.043Z"
   },
   {
    "duration": 6,
    "start_time": "2022-06-23T11:00:05.856Z"
   },
   {
    "duration": 1148,
    "start_time": "2022-06-23T13:41:48.919Z"
   },
   {
    "duration": 861,
    "start_time": "2022-06-23T13:41:50.069Z"
   },
   {
    "duration": 876,
    "start_time": "2022-06-23T13:41:50.932Z"
   },
   {
    "duration": 1807,
    "start_time": "2022-06-23T13:41:51.810Z"
   },
   {
    "duration": 324,
    "start_time": "2022-06-23T13:41:53.618Z"
   },
   {
    "duration": 132,
    "start_time": "2022-06-23T13:41:53.944Z"
   },
   {
    "duration": 133,
    "start_time": "2022-06-23T13:41:54.078Z"
   },
   {
    "duration": 62,
    "start_time": "2022-06-23T13:41:54.213Z"
   },
   {
    "duration": 283,
    "start_time": "2022-06-23T13:41:54.277Z"
   },
   {
    "duration": 7539,
    "start_time": "2022-06-23T13:41:54.564Z"
   },
   {
    "duration": 28,
    "start_time": "2022-06-23T13:42:02.104Z"
   },
   {
    "duration": 529,
    "start_time": "2022-06-23T13:42:02.135Z"
   },
   {
    "duration": 133,
    "start_time": "2022-06-23T13:42:02.666Z"
   },
   {
    "duration": 155,
    "start_time": "2022-06-23T13:42:02.800Z"
   },
   {
    "duration": 3,
    "start_time": "2022-06-23T13:42:02.957Z"
   },
   {
    "duration": 240,
    "start_time": "2022-06-23T13:42:02.962Z"
   },
   {
    "duration": 248,
    "start_time": "2022-06-23T13:42:03.204Z"
   },
   {
    "duration": 25,
    "start_time": "2022-06-23T13:42:03.454Z"
   },
   {
    "duration": 12,
    "start_time": "2022-06-23T13:42:03.481Z"
   },
   {
    "duration": 262,
    "start_time": "2022-06-23T13:42:03.495Z"
   },
   {
    "duration": 255,
    "start_time": "2022-06-23T13:42:03.759Z"
   },
   {
    "duration": 130,
    "start_time": "2022-06-23T13:42:04.016Z"
   },
   {
    "duration": 324,
    "start_time": "2022-06-23T13:42:04.147Z"
   },
   {
    "duration": 387,
    "start_time": "2022-06-23T13:42:04.473Z"
   },
   {
    "duration": 156,
    "start_time": "2022-06-23T13:42:04.862Z"
   },
   {
    "duration": 71,
    "start_time": "2022-06-23T13:42:05.020Z"
   },
   {
    "duration": 180,
    "start_time": "2022-06-23T13:42:05.093Z"
   },
   {
    "duration": 95,
    "start_time": "2022-06-23T13:42:05.277Z"
   },
   {
    "duration": 243,
    "start_time": "2022-06-23T13:42:05.374Z"
   },
   {
    "duration": 1614,
    "start_time": "2022-06-23T13:42:05.627Z"
   },
   {
    "duration": 62,
    "start_time": "2022-06-23T13:42:07.242Z"
   },
   {
    "duration": 25,
    "start_time": "2022-06-23T13:42:07.306Z"
   },
   {
    "duration": 10,
    "start_time": "2022-06-23T13:42:07.333Z"
   },
   {
    "duration": 639,
    "start_time": "2022-06-23T13:42:07.344Z"
   },
   {
    "duration": 108,
    "start_time": "2022-06-23T13:42:07.985Z"
   },
   {
    "duration": 5,
    "start_time": "2022-06-23T13:42:08.095Z"
   },
   {
    "duration": 16,
    "start_time": "2022-06-23T13:42:08.102Z"
   },
   {
    "duration": 11,
    "start_time": "2022-06-23T13:42:08.127Z"
   },
   {
    "duration": 20,
    "start_time": "2022-06-23T13:42:08.139Z"
   },
   {
    "duration": 11,
    "start_time": "2022-06-23T13:42:08.161Z"
   },
   {
    "duration": 7,
    "start_time": "2022-06-23T13:42:08.174Z"
   },
   {
    "duration": 1107,
    "start_time": "2022-06-23T13:59:09.758Z"
   },
   {
    "duration": 980,
    "start_time": "2022-06-23T13:59:10.867Z"
   },
   {
    "duration": 888,
    "start_time": "2022-06-23T13:59:11.848Z"
   },
   {
    "duration": 1874,
    "start_time": "2022-06-23T13:59:12.739Z"
   },
   {
    "duration": 342,
    "start_time": "2022-06-23T13:59:14.615Z"
   },
   {
    "duration": 145,
    "start_time": "2022-06-23T13:59:14.959Z"
   },
   {
    "duration": 136,
    "start_time": "2022-06-23T13:59:15.106Z"
   },
   {
    "duration": 83,
    "start_time": "2022-06-23T13:59:15.244Z"
   },
   {
    "duration": 283,
    "start_time": "2022-06-23T13:59:15.329Z"
   },
   {
    "duration": 7652,
    "start_time": "2022-06-23T13:59:15.616Z"
   },
   {
    "duration": 20,
    "start_time": "2022-06-23T13:59:23.269Z"
   },
   {
    "duration": 631,
    "start_time": "2022-06-23T13:59:23.291Z"
   },
   {
    "duration": 150,
    "start_time": "2022-06-23T13:59:23.924Z"
   },
   {
    "duration": 162,
    "start_time": "2022-06-23T13:59:24.076Z"
   },
   {
    "duration": 4,
    "start_time": "2022-06-23T13:59:24.240Z"
   },
   {
    "duration": 252,
    "start_time": "2022-06-23T13:59:24.246Z"
   },
   {
    "duration": 256,
    "start_time": "2022-06-23T13:59:24.500Z"
   },
   {
    "duration": 29,
    "start_time": "2022-06-23T13:59:24.758Z"
   },
   {
    "duration": 44,
    "start_time": "2022-06-23T13:59:24.789Z"
   },
   {
    "duration": 257,
    "start_time": "2022-06-23T13:59:24.834Z"
   },
   {
    "duration": 246,
    "start_time": "2022-06-23T13:59:25.093Z"
   },
   {
    "duration": 131,
    "start_time": "2022-06-23T13:59:25.341Z"
   },
   {
    "duration": 326,
    "start_time": "2022-06-23T13:59:25.474Z"
   },
   {
    "duration": 373,
    "start_time": "2022-06-23T13:59:25.802Z"
   },
   {
    "duration": 191,
    "start_time": "2022-06-23T13:59:26.177Z"
   },
   {
    "duration": 83,
    "start_time": "2022-06-23T13:59:26.371Z"
   },
   {
    "duration": 188,
    "start_time": "2022-06-23T13:59:26.455Z"
   },
   {
    "duration": 96,
    "start_time": "2022-06-23T13:59:26.647Z"
   },
   {
    "duration": 255,
    "start_time": "2022-06-23T13:59:26.746Z"
   },
   {
    "duration": 1477,
    "start_time": "2022-06-23T13:59:27.003Z"
   },
   {
    "duration": 64,
    "start_time": "2022-06-23T13:59:28.482Z"
   },
   {
    "duration": 5,
    "start_time": "2022-06-23T13:59:28.548Z"
   },
   {
    "duration": 13,
    "start_time": "2022-06-23T13:59:28.555Z"
   },
   {
    "duration": 639,
    "start_time": "2022-06-23T13:59:28.570Z"
   },
   {
    "duration": 116,
    "start_time": "2022-06-23T13:59:29.211Z"
   },
   {
    "duration": 6,
    "start_time": "2022-06-23T13:59:29.329Z"
   },
   {
    "duration": 22,
    "start_time": "2022-06-23T13:59:29.337Z"
   },
   {
    "duration": 23,
    "start_time": "2022-06-23T13:59:29.361Z"
   },
   {
    "duration": 31,
    "start_time": "2022-06-23T13:59:29.386Z"
   },
   {
    "duration": 24,
    "start_time": "2022-06-23T13:59:29.419Z"
   },
   {
    "duration": 1198,
    "start_time": "2022-06-23T15:56:33.626Z"
   },
   {
    "duration": 947,
    "start_time": "2022-06-23T15:56:34.827Z"
   },
   {
    "duration": 1048,
    "start_time": "2022-06-23T15:56:35.776Z"
   },
   {
    "duration": 1781,
    "start_time": "2022-06-23T15:56:36.827Z"
   },
   {
    "duration": 299,
    "start_time": "2022-06-23T15:56:38.610Z"
   },
   {
    "duration": 150,
    "start_time": "2022-06-23T15:56:38.911Z"
   },
   {
    "duration": 144,
    "start_time": "2022-06-23T15:56:39.062Z"
   },
   {
    "duration": 58,
    "start_time": "2022-06-23T15:56:39.208Z"
   },
   {
    "duration": 296,
    "start_time": "2022-06-23T15:56:39.268Z"
   },
   {
    "duration": 7469,
    "start_time": "2022-06-23T15:56:39.566Z"
   },
   {
    "duration": 18,
    "start_time": "2022-06-23T15:56:47.036Z"
   },
   {
    "duration": 524,
    "start_time": "2022-06-23T15:56:47.055Z"
   },
   {
    "duration": 131,
    "start_time": "2022-06-23T15:56:47.581Z"
   },
   {
    "duration": 167,
    "start_time": "2022-06-23T15:56:47.715Z"
   },
   {
    "duration": 5,
    "start_time": "2022-06-23T15:56:47.884Z"
   },
   {
    "duration": 242,
    "start_time": "2022-06-23T15:56:47.890Z"
   },
   {
    "duration": 229,
    "start_time": "2022-06-23T15:56:48.134Z"
   },
   {
    "duration": 26,
    "start_time": "2022-06-23T15:56:48.365Z"
   },
   {
    "duration": 35,
    "start_time": "2022-06-23T15:56:48.392Z"
   },
   {
    "duration": 239,
    "start_time": "2022-06-23T15:56:48.428Z"
   },
   {
    "duration": 236,
    "start_time": "2022-06-23T15:56:48.669Z"
   },
   {
    "duration": 130,
    "start_time": "2022-06-23T15:56:48.907Z"
   },
   {
    "duration": 318,
    "start_time": "2022-06-23T15:56:49.039Z"
   },
   {
    "duration": 375,
    "start_time": "2022-06-23T15:56:49.359Z"
   },
   {
    "duration": 156,
    "start_time": "2022-06-23T15:56:49.736Z"
   },
   {
    "duration": 70,
    "start_time": "2022-06-23T15:56:49.894Z"
   },
   {
    "duration": 178,
    "start_time": "2022-06-23T15:56:49.966Z"
   },
   {
    "duration": 89,
    "start_time": "2022-06-23T15:56:50.145Z"
   },
   {
    "duration": 229,
    "start_time": "2022-06-23T15:56:50.236Z"
   },
   {
    "duration": 1443,
    "start_time": "2022-06-23T15:56:50.467Z"
   },
   {
    "duration": 63,
    "start_time": "2022-06-23T15:56:51.911Z"
   },
   {
    "duration": 5,
    "start_time": "2022-06-23T15:56:51.976Z"
   },
   {
    "duration": 9,
    "start_time": "2022-06-23T15:56:51.983Z"
   },
   {
    "duration": 607,
    "start_time": "2022-06-23T15:56:51.994Z"
   },
   {
    "duration": 104,
    "start_time": "2022-06-23T15:56:52.603Z"
   },
   {
    "duration": 6,
    "start_time": "2022-06-23T15:56:52.708Z"
   },
   {
    "duration": 17,
    "start_time": "2022-06-23T15:56:52.715Z"
   },
   {
    "duration": 14,
    "start_time": "2022-06-23T15:56:52.734Z"
   },
   {
    "duration": 19,
    "start_time": "2022-06-23T15:56:52.750Z"
   },
   {
    "duration": 9,
    "start_time": "2022-06-23T15:56:52.770Z"
   },
   {
    "duration": 1362,
    "start_time": "2022-06-25T20:24:07.022Z"
   },
   {
    "duration": 1841,
    "start_time": "2022-06-25T20:24:08.387Z"
   },
   {
    "duration": 892,
    "start_time": "2022-06-25T20:24:10.229Z"
   },
   {
    "duration": 1742,
    "start_time": "2022-06-25T20:24:11.123Z"
   },
   {
    "duration": 355,
    "start_time": "2022-06-25T20:24:12.868Z"
   },
   {
    "duration": 147,
    "start_time": "2022-06-25T20:24:13.224Z"
   },
   {
    "duration": 163,
    "start_time": "2022-06-25T20:24:13.372Z"
   },
   {
    "duration": 72,
    "start_time": "2022-06-25T20:24:13.537Z"
   },
   {
    "duration": 322,
    "start_time": "2022-06-25T20:24:13.611Z"
   },
   {
    "duration": 8386,
    "start_time": "2022-06-25T20:24:13.935Z"
   },
   {
    "duration": 19,
    "start_time": "2022-06-25T20:24:22.323Z"
   },
   {
    "duration": 602,
    "start_time": "2022-06-25T20:24:22.343Z"
   },
   {
    "duration": 209,
    "start_time": "2022-06-25T20:24:22.947Z"
   },
   {
    "duration": 167,
    "start_time": "2022-06-25T20:24:23.159Z"
   },
   {
    "duration": 4,
    "start_time": "2022-06-25T20:24:23.328Z"
   },
   {
    "duration": 270,
    "start_time": "2022-06-25T20:24:23.334Z"
   },
   {
    "duration": 260,
    "start_time": "2022-06-25T20:24:23.606Z"
   },
   {
    "duration": 38,
    "start_time": "2022-06-25T20:24:23.868Z"
   },
   {
    "duration": 14,
    "start_time": "2022-06-25T20:24:23.907Z"
   },
   {
    "duration": 286,
    "start_time": "2022-06-25T20:24:23.923Z"
   },
   {
    "duration": 253,
    "start_time": "2022-06-25T20:24:24.211Z"
   },
   {
    "duration": 142,
    "start_time": "2022-06-25T20:24:24.466Z"
   },
   {
    "duration": 324,
    "start_time": "2022-06-25T20:24:24.609Z"
   },
   {
    "duration": 380,
    "start_time": "2022-06-25T20:24:24.934Z"
   },
   {
    "duration": 163,
    "start_time": "2022-06-25T20:24:25.316Z"
   },
   {
    "duration": 63,
    "start_time": "2022-06-25T20:24:25.480Z"
   },
   {
    "duration": 187,
    "start_time": "2022-06-25T20:24:25.545Z"
   },
   {
    "duration": 100,
    "start_time": "2022-06-25T20:24:25.734Z"
   },
   {
    "duration": 268,
    "start_time": "2022-06-25T20:24:25.836Z"
   },
   {
    "duration": 1689,
    "start_time": "2022-06-25T20:24:26.105Z"
   },
   {
    "duration": 48,
    "start_time": "2022-06-25T20:24:27.795Z"
   },
   {
    "duration": 19,
    "start_time": "2022-06-25T20:24:27.844Z"
   },
   {
    "duration": 21,
    "start_time": "2022-06-25T20:24:27.865Z"
   },
   {
    "duration": 634,
    "start_time": "2022-06-25T20:24:27.887Z"
   },
   {
    "duration": 115,
    "start_time": "2022-06-25T20:24:28.523Z"
   },
   {
    "duration": 6,
    "start_time": "2022-06-25T20:24:28.640Z"
   },
   {
    "duration": 7,
    "start_time": "2022-06-25T20:24:28.660Z"
   },
   {
    "duration": 23,
    "start_time": "2022-06-25T20:24:28.670Z"
   },
   {
    "duration": 12,
    "start_time": "2022-06-25T20:24:28.695Z"
   },
   {
    "duration": 8,
    "start_time": "2022-06-25T20:24:28.708Z"
   }
  ],
  "kernelspec": {
   "display_name": "Python 3 (ipykernel)",
   "language": "python",
   "name": "python3"
  },
  "language_info": {
   "codemirror_mode": {
    "name": "ipython",
    "version": 3
   },
   "file_extension": ".py",
   "mimetype": "text/x-python",
   "name": "python",
   "nbconvert_exporter": "python",
   "pygments_lexer": "ipython3",
   "version": "3.9.5"
  },
  "toc": {
   "base_numbering": 1,
   "nav_menu": {},
   "number_sections": true,
   "sideBar": true,
   "skip_h1_title": true,
   "title_cell": "Table of Contents",
   "title_sidebar": "Contents",
   "toc_cell": false,
   "toc_position": {
    "height": "calc(100% - 180px)",
    "left": "10px",
    "top": "150px",
    "width": "229px"
   },
   "toc_section_display": true,
   "toc_window_display": false
  }
 },
 "nbformat": 4,
 "nbformat_minor": 2
}
