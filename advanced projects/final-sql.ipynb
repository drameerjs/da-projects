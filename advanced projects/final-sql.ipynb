{
 "cells": [
  {
   "cell_type": "markdown",
   "id": "af8edd68",
   "metadata": {},
   "source": [
    "# Introduction\n",
    "The coronavirus took the entire world by surprise, changing everyone's daily routine. City dwellers no longer spent their free time outside, going to cafes and malls; more people were at home, reading books. That attracted the attention of startups that rushed to develop new apps for book lovers. \n",
    "\n",
    "We've been given a database of one of the services competing in this market. It contains data on books, publishers, authors, and customer ratings and reviews of books. This information will be used to generate a value proposition for a new product.\n",
    "\n",
    "## Loading Libraries and Database\n",
    "\n",
    "Lets start by loading the necessary libraries and continue by connected to the given database:"
   ]
  },
  {
   "cell_type": "code",
   "execution_count": 1,
   "id": "77cc7c23",
   "metadata": {},
   "outputs": [],
   "source": [
    "import pandas as pd\n",
    "from sqlalchemy import create_engine\n",
    "\n",
    "\n",
    "db_config = {'user': 'praktikum_student',         # user name\n",
    "             'pwd': 'Sdf4$2;d-d30pp', # password\n",
    "             'host': 'rc1b-wcoijxj3yxfsf3fs.mdb.yandexcloud.net',\n",
    "             'port': 6432,              # connection port\n",
    "             'db': 'data-analyst-final-project-db'}          # the name of the data base\n",
    "\n",
    "connection_string = 'postgresql://{}:{}@{}:{}/{}'.format(db_config['user'],\n",
    "                                                                     db_config['pwd'],\n",
    "                                                                       db_config['host'],\n",
    "                                                                       db_config['port'],\n",
    "                                                                       db_config['db'])\n",
    "\n",
    "engine = create_engine(connection_string, connect_args={'sslmode':'require'})"
   ]
  },
  {
   "cell_type": "markdown",
   "id": "d1730e7d",
   "metadata": {},
   "source": [
    "## Studying The Data\n",
    "\n",
    "Lets have a look how does each of the tables look like, starting with the ***books*** table:"
   ]
  },
  {
   "cell_type": "code",
   "execution_count": 2,
   "id": "68b0838e",
   "metadata": {},
   "outputs": [
    {
     "data": {
      "text/html": [
       "<div>\n",
       "<style scoped>\n",
       "    .dataframe tbody tr th:only-of-type {\n",
       "        vertical-align: middle;\n",
       "    }\n",
       "\n",
       "    .dataframe tbody tr th {\n",
       "        vertical-align: top;\n",
       "    }\n",
       "\n",
       "    .dataframe thead th {\n",
       "        text-align: right;\n",
       "    }\n",
       "</style>\n",
       "<table border=\"1\" class=\"dataframe\">\n",
       "  <thead>\n",
       "    <tr style=\"text-align: right;\">\n",
       "      <th></th>\n",
       "      <th>book_id</th>\n",
       "      <th>author_id</th>\n",
       "      <th>title</th>\n",
       "      <th>num_pages</th>\n",
       "      <th>publication_date</th>\n",
       "      <th>publisher_id</th>\n",
       "    </tr>\n",
       "  </thead>\n",
       "  <tbody>\n",
       "    <tr>\n",
       "      <th>0</th>\n",
       "      <td>1</td>\n",
       "      <td>546</td>\n",
       "      <td>'Salem's Lot</td>\n",
       "      <td>594</td>\n",
       "      <td>2005-11-01</td>\n",
       "      <td>93</td>\n",
       "    </tr>\n",
       "    <tr>\n",
       "      <th>1</th>\n",
       "      <td>2</td>\n",
       "      <td>465</td>\n",
       "      <td>1 000 Places to See Before You Die</td>\n",
       "      <td>992</td>\n",
       "      <td>2003-05-22</td>\n",
       "      <td>336</td>\n",
       "    </tr>\n",
       "    <tr>\n",
       "      <th>2</th>\n",
       "      <td>3</td>\n",
       "      <td>407</td>\n",
       "      <td>13 Little Blue Envelopes (Little Blue Envelope...</td>\n",
       "      <td>322</td>\n",
       "      <td>2010-12-21</td>\n",
       "      <td>135</td>\n",
       "    </tr>\n",
       "    <tr>\n",
       "      <th>3</th>\n",
       "      <td>4</td>\n",
       "      <td>82</td>\n",
       "      <td>1491: New Revelations of the Americas Before C...</td>\n",
       "      <td>541</td>\n",
       "      <td>2006-10-10</td>\n",
       "      <td>309</td>\n",
       "    </tr>\n",
       "    <tr>\n",
       "      <th>4</th>\n",
       "      <td>5</td>\n",
       "      <td>125</td>\n",
       "      <td>1776</td>\n",
       "      <td>386</td>\n",
       "      <td>2006-07-04</td>\n",
       "      <td>268</td>\n",
       "    </tr>\n",
       "  </tbody>\n",
       "</table>\n",
       "</div>"
      ],
      "text/plain": [
       "   book_id  author_id                                              title  \\\n",
       "0        1        546                                       'Salem's Lot   \n",
       "1        2        465                 1 000 Places to See Before You Die   \n",
       "2        3        407  13 Little Blue Envelopes (Little Blue Envelope...   \n",
       "3        4         82  1491: New Revelations of the Americas Before C...   \n",
       "4        5        125                                               1776   \n",
       "\n",
       "   num_pages publication_date  publisher_id  \n",
       "0        594       2005-11-01            93  \n",
       "1        992       2003-05-22           336  \n",
       "2        322       2010-12-21           135  \n",
       "3        541       2006-10-10           309  \n",
       "4        386       2006-07-04           268  "
      ]
     },
     "metadata": {},
     "output_type": "display_data"
    },
    {
     "name": "stdout",
     "output_type": "stream",
     "text": [
      "<class 'pandas.core.frame.DataFrame'>\n",
      "RangeIndex: 1000 entries, 0 to 999\n",
      "Data columns (total 6 columns):\n",
      " #   Column            Non-Null Count  Dtype \n",
      "---  ------            --------------  ----- \n",
      " 0   book_id           1000 non-null   int64 \n",
      " 1   author_id         1000 non-null   int64 \n",
      " 2   title             1000 non-null   object\n",
      " 3   num_pages         1000 non-null   int64 \n",
      " 4   publication_date  1000 non-null   object\n",
      " 5   publisher_id      1000 non-null   int64 \n",
      "dtypes: int64(4), object(2)\n",
      "memory usage: 47.0+ KB\n",
      "\n",
      "No duplicates!\n"
     ]
    }
   ],
   "source": [
    "query = '''\n",
    "    SELECT * FROM books\n",
    "'''\n",
    "\n",
    "allbooks = pd.io.sql.read_sql(query, con = engine) # reading everything from books table\n",
    "display(allbooks.head())\n",
    "allbooks.info()\n",
    "\n",
    "if pd.io.sql.read_sql('SELECT book_id FROM books GROUP BY book_id', con = engine).shape[0] == allbooks.shape[0]:  # to check for duplicates\n",
    "    print('\\nNo duplicates!')"
   ]
  },
  {
   "cell_type": "markdown",
   "id": "9178c404",
   "metadata": {},
   "source": [
    "Looks great, we have 1000 distinct ***book_id***s and 1000 rows - no dups!\n",
    "**Next** lets look at **authors** table:"
   ]
  },
  {
   "cell_type": "code",
   "execution_count": 3,
   "id": "f503dc35",
   "metadata": {},
   "outputs": [
    {
     "data": {
      "text/html": [
       "<div>\n",
       "<style scoped>\n",
       "    .dataframe tbody tr th:only-of-type {\n",
       "        vertical-align: middle;\n",
       "    }\n",
       "\n",
       "    .dataframe tbody tr th {\n",
       "        vertical-align: top;\n",
       "    }\n",
       "\n",
       "    .dataframe thead th {\n",
       "        text-align: right;\n",
       "    }\n",
       "</style>\n",
       "<table border=\"1\" class=\"dataframe\">\n",
       "  <thead>\n",
       "    <tr style=\"text-align: right;\">\n",
       "      <th></th>\n",
       "      <th>author_id</th>\n",
       "      <th>author</th>\n",
       "    </tr>\n",
       "  </thead>\n",
       "  <tbody>\n",
       "    <tr>\n",
       "      <th>0</th>\n",
       "      <td>1</td>\n",
       "      <td>A.S. Byatt</td>\n",
       "    </tr>\n",
       "    <tr>\n",
       "      <th>1</th>\n",
       "      <td>2</td>\n",
       "      <td>Aesop/Laura Harris/Laura Gibbs</td>\n",
       "    </tr>\n",
       "    <tr>\n",
       "      <th>2</th>\n",
       "      <td>3</td>\n",
       "      <td>Agatha Christie</td>\n",
       "    </tr>\n",
       "    <tr>\n",
       "      <th>3</th>\n",
       "      <td>4</td>\n",
       "      <td>Alan Brennert</td>\n",
       "    </tr>\n",
       "    <tr>\n",
       "      <th>4</th>\n",
       "      <td>5</td>\n",
       "      <td>Alan Moore/David   Lloyd</td>\n",
       "    </tr>\n",
       "  </tbody>\n",
       "</table>\n",
       "</div>"
      ],
      "text/plain": [
       "   author_id                          author\n",
       "0          1                      A.S. Byatt\n",
       "1          2  Aesop/Laura Harris/Laura Gibbs\n",
       "2          3                 Agatha Christie\n",
       "3          4                   Alan Brennert\n",
       "4          5        Alan Moore/David   Lloyd"
      ]
     },
     "metadata": {},
     "output_type": "display_data"
    },
    {
     "name": "stdout",
     "output_type": "stream",
     "text": [
      "<class 'pandas.core.frame.DataFrame'>\n",
      "RangeIndex: 636 entries, 0 to 635\n",
      "Data columns (total 2 columns):\n",
      " #   Column     Non-Null Count  Dtype \n",
      "---  ------     --------------  ----- \n",
      " 0   author_id  636 non-null    int64 \n",
      " 1   author     636 non-null    object\n",
      "dtypes: int64(1), object(1)\n",
      "memory usage: 10.1+ KB\n",
      "\n",
      "No duplicates!\n"
     ]
    }
   ],
   "source": [
    "query = '''\n",
    "    SELECT * FROM authors\n",
    "'''\n",
    "\n",
    "allauthors = pd.io.sql.read_sql(query, con = engine) # reading everything from authors table\n",
    "display(allauthors.head())\n",
    "allauthors.info()\n",
    "\n",
    "\n",
    "if pd.io.sql.read_sql('SELECT author_id FROM authors GROUP BY author_id', con = engine).shape[0] == allauthors.shape[0]:  # to check for duplicates\n",
    "    print('\\nNo duplicates!')"
   ]
  },
  {
   "cell_type": "markdown",
   "id": "8eba5fea",
   "metadata": {},
   "source": [
    "Nothing wrong here, we got all the information we need about the authors. **Now**, lets check the last two tables: ***reviews*** and ***ratings***:"
   ]
  },
  {
   "cell_type": "code",
   "execution_count": 4,
   "id": "e6b870da",
   "metadata": {},
   "outputs": [
    {
     "data": {
      "text/html": [
       "<div>\n",
       "<style scoped>\n",
       "    .dataframe tbody tr th:only-of-type {\n",
       "        vertical-align: middle;\n",
       "    }\n",
       "\n",
       "    .dataframe tbody tr th {\n",
       "        vertical-align: top;\n",
       "    }\n",
       "\n",
       "    .dataframe thead th {\n",
       "        text-align: right;\n",
       "    }\n",
       "</style>\n",
       "<table border=\"1\" class=\"dataframe\">\n",
       "  <thead>\n",
       "    <tr style=\"text-align: right;\">\n",
       "      <th></th>\n",
       "      <th>review_id</th>\n",
       "      <th>book_id</th>\n",
       "      <th>username</th>\n",
       "      <th>text</th>\n",
       "    </tr>\n",
       "  </thead>\n",
       "  <tbody>\n",
       "    <tr>\n",
       "      <th>0</th>\n",
       "      <td>1</td>\n",
       "      <td>1</td>\n",
       "      <td>brandtandrea</td>\n",
       "      <td>Mention society tell send professor analysis. ...</td>\n",
       "    </tr>\n",
       "    <tr>\n",
       "      <th>1</th>\n",
       "      <td>2</td>\n",
       "      <td>1</td>\n",
       "      <td>ryanfranco</td>\n",
       "      <td>Foot glass pretty audience hit themselves. Amo...</td>\n",
       "    </tr>\n",
       "    <tr>\n",
       "      <th>2</th>\n",
       "      <td>3</td>\n",
       "      <td>2</td>\n",
       "      <td>lorichen</td>\n",
       "      <td>Listen treat keep worry. Miss husband tax but ...</td>\n",
       "    </tr>\n",
       "    <tr>\n",
       "      <th>3</th>\n",
       "      <td>4</td>\n",
       "      <td>3</td>\n",
       "      <td>johnsonamanda</td>\n",
       "      <td>Finally month interesting blue could nature cu...</td>\n",
       "    </tr>\n",
       "    <tr>\n",
       "      <th>4</th>\n",
       "      <td>5</td>\n",
       "      <td>3</td>\n",
       "      <td>scotttamara</td>\n",
       "      <td>Nation purpose heavy give wait song will. List...</td>\n",
       "    </tr>\n",
       "  </tbody>\n",
       "</table>\n",
       "</div>"
      ],
      "text/plain": [
       "   review_id  book_id       username  \\\n",
       "0          1        1   brandtandrea   \n",
       "1          2        1     ryanfranco   \n",
       "2          3        2       lorichen   \n",
       "3          4        3  johnsonamanda   \n",
       "4          5        3    scotttamara   \n",
       "\n",
       "                                                text  \n",
       "0  Mention society tell send professor analysis. ...  \n",
       "1  Foot glass pretty audience hit themselves. Amo...  \n",
       "2  Listen treat keep worry. Miss husband tax but ...  \n",
       "3  Finally month interesting blue could nature cu...  \n",
       "4  Nation purpose heavy give wait song will. List...  "
      ]
     },
     "metadata": {},
     "output_type": "display_data"
    },
    {
     "name": "stdout",
     "output_type": "stream",
     "text": [
      "<class 'pandas.core.frame.DataFrame'>\n",
      "RangeIndex: 2793 entries, 0 to 2792\n",
      "Data columns (total 4 columns):\n",
      " #   Column     Non-Null Count  Dtype \n",
      "---  ------     --------------  ----- \n",
      " 0   review_id  2793 non-null   int64 \n",
      " 1   book_id    2793 non-null   int64 \n",
      " 2   username   2793 non-null   object\n",
      " 3   text       2793 non-null   object\n",
      "dtypes: int64(2), object(2)\n",
      "memory usage: 87.4+ KB\n",
      "\n",
      "No duplicates!\n"
     ]
    }
   ],
   "source": [
    "query = '''\n",
    "    SELECT * FROM reviews\n",
    "'''\n",
    "\n",
    "allrev = pd.io.sql.read_sql(query, con = engine) # reading everything from reviews table\n",
    "display(allrev.head())\n",
    "allrev.info()\n",
    "\n",
    "if pd.io.sql.read_sql('SELECT review_id FROM reviews GROUP BY review_id', con = engine).shape[0] == allrev.shape[0]:  # to check for duplicates\n",
    "    print('\\nNo duplicates!')"
   ]
  },
  {
   "cell_type": "markdown",
   "id": "02e7248c",
   "metadata": {},
   "source": [
    "We have actual reviews! We know who made those reviews, how much there are and for what book they belong, this is good.\n",
    "\n",
    "**Lets check** ratings:"
   ]
  },
  {
   "cell_type": "code",
   "execution_count": 5,
   "id": "a990884a",
   "metadata": {},
   "outputs": [
    {
     "data": {
      "text/html": [
       "<div>\n",
       "<style scoped>\n",
       "    .dataframe tbody tr th:only-of-type {\n",
       "        vertical-align: middle;\n",
       "    }\n",
       "\n",
       "    .dataframe tbody tr th {\n",
       "        vertical-align: top;\n",
       "    }\n",
       "\n",
       "    .dataframe thead th {\n",
       "        text-align: right;\n",
       "    }\n",
       "</style>\n",
       "<table border=\"1\" class=\"dataframe\">\n",
       "  <thead>\n",
       "    <tr style=\"text-align: right;\">\n",
       "      <th></th>\n",
       "      <th>rating_id</th>\n",
       "      <th>book_id</th>\n",
       "      <th>username</th>\n",
       "      <th>rating</th>\n",
       "    </tr>\n",
       "  </thead>\n",
       "  <tbody>\n",
       "    <tr>\n",
       "      <th>0</th>\n",
       "      <td>1</td>\n",
       "      <td>1</td>\n",
       "      <td>ryanfranco</td>\n",
       "      <td>4</td>\n",
       "    </tr>\n",
       "    <tr>\n",
       "      <th>1</th>\n",
       "      <td>2</td>\n",
       "      <td>1</td>\n",
       "      <td>grantpatricia</td>\n",
       "      <td>2</td>\n",
       "    </tr>\n",
       "    <tr>\n",
       "      <th>2</th>\n",
       "      <td>3</td>\n",
       "      <td>1</td>\n",
       "      <td>brandtandrea</td>\n",
       "      <td>5</td>\n",
       "    </tr>\n",
       "    <tr>\n",
       "      <th>3</th>\n",
       "      <td>4</td>\n",
       "      <td>2</td>\n",
       "      <td>lorichen</td>\n",
       "      <td>3</td>\n",
       "    </tr>\n",
       "    <tr>\n",
       "      <th>4</th>\n",
       "      <td>5</td>\n",
       "      <td>2</td>\n",
       "      <td>mariokeller</td>\n",
       "      <td>2</td>\n",
       "    </tr>\n",
       "  </tbody>\n",
       "</table>\n",
       "</div>"
      ],
      "text/plain": [
       "   rating_id  book_id       username  rating\n",
       "0          1        1     ryanfranco       4\n",
       "1          2        1  grantpatricia       2\n",
       "2          3        1   brandtandrea       5\n",
       "3          4        2       lorichen       3\n",
       "4          5        2    mariokeller       2"
      ]
     },
     "metadata": {},
     "output_type": "display_data"
    },
    {
     "name": "stdout",
     "output_type": "stream",
     "text": [
      "<class 'pandas.core.frame.DataFrame'>\n",
      "RangeIndex: 6456 entries, 0 to 6455\n",
      "Data columns (total 4 columns):\n",
      " #   Column     Non-Null Count  Dtype \n",
      "---  ------     --------------  ----- \n",
      " 0   rating_id  6456 non-null   int64 \n",
      " 1   book_id    6456 non-null   int64 \n",
      " 2   username   6456 non-null   object\n",
      " 3   rating     6456 non-null   int64 \n",
      "dtypes: int64(3), object(1)\n",
      "memory usage: 201.9+ KB\n",
      "\n",
      "No duplicates!\n"
     ]
    }
   ],
   "source": [
    "query = '''\n",
    "    SELECT * FROM ratings\n",
    "'''\n",
    "\n",
    "allrates = pd.io.sql.read_sql(query, con = engine) # reading everything from ratings table\n",
    "display(allrates.head())\n",
    "allrates.info()\n",
    "\n",
    "if pd.io.sql.read_sql('SELECT rating_id FROM ratings GROUP BY rating_id', con = engine).shape[0] == allrates.shape[0]:  # to check for duplicates\n",
    "    print('\\nNo duplicates!')"
   ]
  },
  {
   "cell_type": "markdown",
   "id": "8581cbb7",
   "metadata": {},
   "source": [
    "Now that we have looked at our tables, we know what we are up to and we know we don't have any problematic data, we can start analyzing them.\n",
    "\n",
    "## Data Analysis\n",
    "\n",
    "In order to estimate how many books were made per year, lets calculate the number of books published after the Jan 1st, 2000:"
   ]
  },
  {
   "cell_type": "code",
   "execution_count": 6,
   "id": "1ffdbd49",
   "metadata": {
    "scrolled": false
   },
   "outputs": [
    {
     "data": {
      "text/html": [
       "<div>\n",
       "<style scoped>\n",
       "    .dataframe tbody tr th:only-of-type {\n",
       "        vertical-align: middle;\n",
       "    }\n",
       "\n",
       "    .dataframe tbody tr th {\n",
       "        vertical-align: top;\n",
       "    }\n",
       "\n",
       "    .dataframe thead th {\n",
       "        text-align: right;\n",
       "    }\n",
       "</style>\n",
       "<table border=\"1\" class=\"dataframe\">\n",
       "  <thead>\n",
       "    <tr style=\"text-align: right;\">\n",
       "      <th></th>\n",
       "      <th>book_count</th>\n",
       "    </tr>\n",
       "  </thead>\n",
       "  <tbody>\n",
       "    <tr>\n",
       "      <th>0</th>\n",
       "      <td>819</td>\n",
       "    </tr>\n",
       "  </tbody>\n",
       "</table>\n",
       "</div>"
      ],
      "text/plain": [
       "   book_count\n",
       "0         819"
      ]
     },
     "execution_count": 6,
     "metadata": {},
     "output_type": "execute_result"
    }
   ],
   "source": [
    "query = '''\n",
    "    SELECT COUNT(title) as book_count\n",
    "    FROM books\n",
    "    WHERE publication_date > '2000-01-01'\n",
    "'''\n",
    "\n",
    "books_after_2000 = pd.io.sql.read_sql(query, con = engine)\n",
    "books_after_2000"
   ]
  },
  {
   "cell_type": "markdown",
   "id": "f75e60b7",
   "metadata": {},
   "source": [
    "636 books - that's impressive. The last date recorded was 2020, meaning 20 years of publishing books - an average of 32 book per year.\n",
    "\n",
    "**Next:** lets check how many reviews did each book get and what was the average rating per book."
   ]
  },
  {
   "cell_type": "code",
   "execution_count": 25,
   "id": "69f8fc26",
   "metadata": {
    "scrolled": false
   },
   "outputs": [
    {
     "data": {
      "text/html": [
       "<div>\n",
       "<style scoped>\n",
       "    .dataframe tbody tr th:only-of-type {\n",
       "        vertical-align: middle;\n",
       "    }\n",
       "\n",
       "    .dataframe tbody tr th {\n",
       "        vertical-align: top;\n",
       "    }\n",
       "\n",
       "    .dataframe thead th {\n",
       "        text-align: right;\n",
       "    }\n",
       "</style>\n",
       "<table border=\"1\" class=\"dataframe\">\n",
       "  <thead>\n",
       "    <tr style=\"text-align: right;\">\n",
       "      <th></th>\n",
       "      <th>book_id</th>\n",
       "      <th>title</th>\n",
       "      <th>review_count</th>\n",
       "      <th>avg_rating</th>\n",
       "    </tr>\n",
       "  </thead>\n",
       "  <tbody>\n",
       "    <tr>\n",
       "      <th>0</th>\n",
       "      <td>1.0</td>\n",
       "      <td>'Salem's Lot</td>\n",
       "      <td>2.0</td>\n",
       "      <td>3.666667</td>\n",
       "    </tr>\n",
       "    <tr>\n",
       "      <th>1</th>\n",
       "      <td>2.0</td>\n",
       "      <td>1 000 Places to See Before You Die</td>\n",
       "      <td>1.0</td>\n",
       "      <td>2.500000</td>\n",
       "    </tr>\n",
       "    <tr>\n",
       "      <th>2</th>\n",
       "      <td>3.0</td>\n",
       "      <td>13 Little Blue Envelopes (Little Blue Envelope...</td>\n",
       "      <td>3.0</td>\n",
       "      <td>4.666667</td>\n",
       "    </tr>\n",
       "    <tr>\n",
       "      <th>3</th>\n",
       "      <td>4.0</td>\n",
       "      <td>1491: New Revelations of the Americas Before C...</td>\n",
       "      <td>2.0</td>\n",
       "      <td>4.500000</td>\n",
       "    </tr>\n",
       "    <tr>\n",
       "      <th>4</th>\n",
       "      <td>5.0</td>\n",
       "      <td>1776</td>\n",
       "      <td>4.0</td>\n",
       "      <td>4.000000</td>\n",
       "    </tr>\n",
       "  </tbody>\n",
       "</table>\n",
       "</div>"
      ],
      "text/plain": [
       "   book_id                                              title  review_count  \\\n",
       "0      1.0                                       'Salem's Lot           2.0   \n",
       "1      2.0                 1 000 Places to See Before You Die           1.0   \n",
       "2      3.0  13 Little Blue Envelopes (Little Blue Envelope...           3.0   \n",
       "3      4.0  1491: New Revelations of the Americas Before C...           2.0   \n",
       "4      5.0                                               1776           4.0   \n",
       "\n",
       "   avg_rating  \n",
       "0    3.666667  \n",
       "1    2.500000  \n",
       "2    4.666667  \n",
       "3    4.500000  \n",
       "4    4.000000  "
      ]
     },
     "execution_count": 25,
     "metadata": {},
     "output_type": "execute_result"
    }
   ],
   "source": [
    "query_1 = '''\n",
    "    SELECT re.book_id, title, re.review_count, ra.avg_rating FROM books\n",
    "    LEFT JOIN (SELECT book_id, COUNT(text) AS review_count FROM reviews GROUP BY book_id) AS re ON books.book_id = re.book_id\n",
    "    LEFT JOIN (SELECT book_id, AVG(rating) AS avg_rating  FROM ratings GROUP BY book_id) AS ra ON re.book_id = ra.book_id\n",
    "'''\n",
    "\n",
    "df = pd.io.sql.read_sql(query_1, con = engine)\n",
    "df.head(5)"
   ]
  },
  {
   "cell_type": "code",
   "execution_count": 19,
   "id": "8a742a56",
   "metadata": {},
   "outputs": [
    {
     "data": {
      "text/html": [
       "<div>\n",
       "<style scoped>\n",
       "    .dataframe tbody tr th:only-of-type {\n",
       "        vertical-align: middle;\n",
       "    }\n",
       "\n",
       "    .dataframe tbody tr th {\n",
       "        vertical-align: top;\n",
       "    }\n",
       "\n",
       "    .dataframe thead th {\n",
       "        text-align: right;\n",
       "    }\n",
       "</style>\n",
       "<table border=\"1\" class=\"dataframe\">\n",
       "  <thead>\n",
       "    <tr style=\"text-align: right;\">\n",
       "      <th></th>\n",
       "      <th>title</th>\n",
       "      <th>reviews_count</th>\n",
       "      <th>average_rating</th>\n",
       "    </tr>\n",
       "  </thead>\n",
       "  <tbody>\n",
       "    <tr>\n",
       "      <th>0</th>\n",
       "      <td>The Body in the Library (Miss Marple  #3)</td>\n",
       "      <td>2.0</td>\n",
       "      <td>4.500000</td>\n",
       "    </tr>\n",
       "    <tr>\n",
       "      <th>1</th>\n",
       "      <td>Galápagos</td>\n",
       "      <td>2.0</td>\n",
       "      <td>4.500000</td>\n",
       "    </tr>\n",
       "    <tr>\n",
       "      <th>2</th>\n",
       "      <td>A Tree Grows in Brooklyn</td>\n",
       "      <td>5.0</td>\n",
       "      <td>4.250000</td>\n",
       "    </tr>\n",
       "    <tr>\n",
       "      <th>3</th>\n",
       "      <td>Undaunted Courage: The Pioneering First Missio...</td>\n",
       "      <td>2.0</td>\n",
       "      <td>4.000000</td>\n",
       "    </tr>\n",
       "    <tr>\n",
       "      <th>4</th>\n",
       "      <td>The Prophet</td>\n",
       "      <td>4.0</td>\n",
       "      <td>4.285714</td>\n",
       "    </tr>\n",
       "    <tr>\n",
       "      <th>...</th>\n",
       "      <td>...</td>\n",
       "      <td>...</td>\n",
       "      <td>...</td>\n",
       "    </tr>\n",
       "    <tr>\n",
       "      <th>995</th>\n",
       "      <td>Alice in Wonderland</td>\n",
       "      <td>4.0</td>\n",
       "      <td>4.230769</td>\n",
       "    </tr>\n",
       "    <tr>\n",
       "      <th>996</th>\n",
       "      <td>A Woman of Substance (Emma Harte Saga #1)</td>\n",
       "      <td>2.0</td>\n",
       "      <td>5.000000</td>\n",
       "    </tr>\n",
       "    <tr>\n",
       "      <th>997</th>\n",
       "      <td>Christine</td>\n",
       "      <td>3.0</td>\n",
       "      <td>3.428571</td>\n",
       "    </tr>\n",
       "    <tr>\n",
       "      <th>998</th>\n",
       "      <td>The Magicians' Guild (Black Magician Trilogy  #1)</td>\n",
       "      <td>2.0</td>\n",
       "      <td>3.500000</td>\n",
       "    </tr>\n",
       "    <tr>\n",
       "      <th>999</th>\n",
       "      <td>The Plot Against America</td>\n",
       "      <td>2.0</td>\n",
       "      <td>3.000000</td>\n",
       "    </tr>\n",
       "  </tbody>\n",
       "</table>\n",
       "<p>1000 rows × 3 columns</p>\n",
       "</div>"
      ],
      "text/plain": [
       "                                                 title  reviews_count  \\\n",
       "0            The Body in the Library (Miss Marple  #3)            2.0   \n",
       "1                                            Galápagos            2.0   \n",
       "2                             A Tree Grows in Brooklyn            5.0   \n",
       "3    Undaunted Courage: The Pioneering First Missio...            2.0   \n",
       "4                                          The Prophet            4.0   \n",
       "..                                                 ...            ...   \n",
       "995                                Alice in Wonderland            4.0   \n",
       "996          A Woman of Substance (Emma Harte Saga #1)            2.0   \n",
       "997                                          Christine            3.0   \n",
       "998  The Magicians' Guild (Black Magician Trilogy  #1)            2.0   \n",
       "999                           The Plot Against America            2.0   \n",
       "\n",
       "     average_rating  \n",
       "0          4.500000  \n",
       "1          4.500000  \n",
       "2          4.250000  \n",
       "3          4.000000  \n",
       "4          4.285714  \n",
       "..              ...  \n",
       "995        4.230769  \n",
       "996        5.000000  \n",
       "997        3.428571  \n",
       "998        3.500000  \n",
       "999        3.000000  \n",
       "\n",
       "[1000 rows x 3 columns]"
      ]
     },
     "execution_count": 19,
     "metadata": {},
     "output_type": "execute_result"
    }
   ],
   "source": [
    "#reviewrs code\n",
    "pd.io.sql.read_sql(\"\"\"SELECT b.title, q1.reviews_count, q2.average_rating FROM books b\n",
    "LEFT JOIN (SELECT book_id, count(text) as reviews_count FROM reviews GROUP BY book_id) as q1 ON b.book_id = q1.book_id\n",
    "LEFT JOIN (SELECT book_id, avg(rating) as average_rating FROM ratings GROUP BY book_id) as q2 ON b.book_id = q2.book_id\n",
    "\"\"\", con = engine)"
   ]
  },
  {
   "cell_type": "markdown",
   "id": "8dcd67d1",
   "metadata": {},
   "source": [
    "Alot of books actually have a full rating of 5.0 - not so much reviews on the other hand.\n",
    "\n",
    "**Lets take a look at** publishers with greatest amount of books - ONLY BOOKS WITH 50 PAGES OR MORE INCLUDED."
   ]
  },
  {
   "cell_type": "code",
   "execution_count": 8,
   "id": "5a23e512",
   "metadata": {},
   "outputs": [
    {
     "data": {
      "text/html": [
       "<div>\n",
       "<style scoped>\n",
       "    .dataframe tbody tr th:only-of-type {\n",
       "        vertical-align: middle;\n",
       "    }\n",
       "\n",
       "    .dataframe tbody tr th {\n",
       "        vertical-align: top;\n",
       "    }\n",
       "\n",
       "    .dataframe thead th {\n",
       "        text-align: right;\n",
       "    }\n",
       "</style>\n",
       "<table border=\"1\" class=\"dataframe\">\n",
       "  <thead>\n",
       "    <tr style=\"text-align: right;\">\n",
       "      <th></th>\n",
       "      <th>publisher</th>\n",
       "      <th>publisher_id</th>\n",
       "      <th>count</th>\n",
       "    </tr>\n",
       "  </thead>\n",
       "  <tbody>\n",
       "    <tr>\n",
       "      <th>0</th>\n",
       "      <td>Penguin Books</td>\n",
       "      <td>212</td>\n",
       "      <td>42</td>\n",
       "    </tr>\n",
       "    <tr>\n",
       "      <th>1</th>\n",
       "      <td>Vintage</td>\n",
       "      <td>309</td>\n",
       "      <td>31</td>\n",
       "    </tr>\n",
       "    <tr>\n",
       "      <th>2</th>\n",
       "      <td>Grand Central Publishing</td>\n",
       "      <td>116</td>\n",
       "      <td>25</td>\n",
       "    </tr>\n",
       "    <tr>\n",
       "      <th>3</th>\n",
       "      <td>Penguin Classics</td>\n",
       "      <td>217</td>\n",
       "      <td>24</td>\n",
       "    </tr>\n",
       "    <tr>\n",
       "      <th>4</th>\n",
       "      <td>Ballantine Books</td>\n",
       "      <td>33</td>\n",
       "      <td>19</td>\n",
       "    </tr>\n",
       "    <tr>\n",
       "      <th>5</th>\n",
       "      <td>Bantam</td>\n",
       "      <td>35</td>\n",
       "      <td>19</td>\n",
       "    </tr>\n",
       "    <tr>\n",
       "      <th>6</th>\n",
       "      <td>Berkley</td>\n",
       "      <td>45</td>\n",
       "      <td>17</td>\n",
       "    </tr>\n",
       "    <tr>\n",
       "      <th>7</th>\n",
       "      <td>St. Martin's Press</td>\n",
       "      <td>284</td>\n",
       "      <td>14</td>\n",
       "    </tr>\n",
       "    <tr>\n",
       "      <th>8</th>\n",
       "      <td>Berkley Books</td>\n",
       "      <td>46</td>\n",
       "      <td>14</td>\n",
       "    </tr>\n",
       "    <tr>\n",
       "      <th>9</th>\n",
       "      <td>Delta</td>\n",
       "      <td>83</td>\n",
       "      <td>13</td>\n",
       "    </tr>\n",
       "  </tbody>\n",
       "</table>\n",
       "</div>"
      ],
      "text/plain": [
       "                  publisher  publisher_id  count\n",
       "0             Penguin Books           212     42\n",
       "1                   Vintage           309     31\n",
       "2  Grand Central Publishing           116     25\n",
       "3          Penguin Classics           217     24\n",
       "4          Ballantine Books            33     19\n",
       "5                    Bantam            35     19\n",
       "6                   Berkley            45     17\n",
       "7        St. Martin's Press           284     14\n",
       "8             Berkley Books            46     14\n",
       "9                     Delta            83     13"
      ]
     },
     "execution_count": 8,
     "metadata": {},
     "output_type": "execute_result"
    }
   ],
   "source": [
    "query = '''\n",
    "    SELECT \n",
    "        p.publisher,\n",
    "        p.publisher_id,\n",
    "        COUNT(b.book_id) AS count\n",
    "    FROM publishers AS p\n",
    "    LEFT JOIN books AS b ON b.publisher_id = p.publisher_id\n",
    "    WHERE b.num_pages > 50\n",
    "    GROUP BY p.publisher_id\n",
    "    ORDER BY count DESC\n",
    "    LIMIT 10;\n",
    "'''\n",
    "\n",
    "greatest_pubs = pd.io.sql.read_sql(query, con = engine)\n",
    "greatest_pubs"
   ]
  },
  {
   "cell_type": "markdown",
   "id": "fc8d4ab7",
   "metadata": {},
   "source": [
    "Above we can see the list of top publishers, with ***Penguin Books*** at the top holding 42 book publishes.\n",
    "\n",
    "What about authors, which authors have the highest average rating? - ONLY BOOKS WITH 50 OR MORE RATINGS WILL BE INCLUDED."
   ]
  },
  {
   "cell_type": "code",
   "execution_count": 9,
   "id": "6328fb05",
   "metadata": {},
   "outputs": [
    {
     "data": {
      "text/html": [
       "<div>\n",
       "<style scoped>\n",
       "    .dataframe tbody tr th:only-of-type {\n",
       "        vertical-align: middle;\n",
       "    }\n",
       "\n",
       "    .dataframe tbody tr th {\n",
       "        vertical-align: top;\n",
       "    }\n",
       "\n",
       "    .dataframe thead th {\n",
       "        text-align: right;\n",
       "    }\n",
       "</style>\n",
       "<table border=\"1\" class=\"dataframe\">\n",
       "  <thead>\n",
       "    <tr style=\"text-align: right;\">\n",
       "      <th></th>\n",
       "      <th>author</th>\n",
       "      <th>ratings</th>\n",
       "    </tr>\n",
       "  </thead>\n",
       "  <tbody>\n",
       "    <tr>\n",
       "      <th>0</th>\n",
       "      <td>J.K. Rowling/Mary GrandPré</td>\n",
       "      <td>4.414634</td>\n",
       "    </tr>\n",
       "  </tbody>\n",
       "</table>\n",
       "</div>"
      ],
      "text/plain": [
       "                       author   ratings\n",
       "0  J.K. Rowling/Mary GrandPré  4.414634"
      ]
     },
     "execution_count": 9,
     "metadata": {},
     "output_type": "execute_result"
    }
   ],
   "source": [
    "query = '''\n",
    "    SELECT \n",
    "        a.author,\n",
    "        br.ratings\n",
    "    FROM (SELECT\n",
    "        b.book_id,\n",
    "        b.author_id,\n",
    "        b.title,\n",
    "        COUNT(ra.rating),\n",
    "        AVG(ra.rating) as ratings\n",
    "        FROM books AS b\n",
    "        LEFT JOIN ratings AS ra ON ra.book_id = b.book_id\n",
    "        GROUP BY b.author_id, b.book_id\n",
    "        HAVING COUNT(ra.rating) > 49\n",
    "        ORDER BY ratings DESC) AS br\n",
    "    LEFT JOIN authors AS a ON a.author_id = br.author_id\n",
    "    LIMIT 1;\n",
    "'''\n",
    "\n",
    "pd.io.sql.read_sql(query, con = engine)"
   ]
  },
  {
   "cell_type": "markdown",
   "id": "a710c7e3",
   "metadata": {},
   "source": [
    "J.K. Rowling/Mary GrandPré are the author of the book with the highest average rating.\n",
    "\n",
    "**Next** we'll look at the average number of reviews per user - ONLY INCLUDING USERS WITH AT LEAST 50 BOOK RATINGS."
   ]
  },
  {
   "cell_type": "code",
   "execution_count": 10,
   "id": "15b03eda",
   "metadata": {},
   "outputs": [
    {
     "data": {
      "text/html": [
       "<div>\n",
       "<style scoped>\n",
       "    .dataframe tbody tr th:only-of-type {\n",
       "        vertical-align: middle;\n",
       "    }\n",
       "\n",
       "    .dataframe tbody tr th {\n",
       "        vertical-align: top;\n",
       "    }\n",
       "\n",
       "    .dataframe thead th {\n",
       "        text-align: right;\n",
       "    }\n",
       "</style>\n",
       "<table border=\"1\" class=\"dataframe\">\n",
       "  <thead>\n",
       "    <tr style=\"text-align: right;\">\n",
       "      <th></th>\n",
       "      <th>avg</th>\n",
       "    </tr>\n",
       "  </thead>\n",
       "  <tbody>\n",
       "    <tr>\n",
       "      <th>0</th>\n",
       "      <td>24.333333</td>\n",
       "    </tr>\n",
       "  </tbody>\n",
       "</table>\n",
       "</div>"
      ],
      "text/plain": [
       "         avg\n",
       "0  24.333333"
      ]
     },
     "execution_count": 10,
     "metadata": {},
     "output_type": "execute_result"
    }
   ],
   "source": [
    "query = '''\n",
    "    SELECT AVG(final.review_count)\n",
    "    FROM (SELECT\n",
    "            re.username,\n",
    "            tr.rating_count,\n",
    "            COUNT(re.review_id) AS review_count\n",
    "        FROM (SELECT \n",
    "            username,\n",
    "            COUNT(rating) as rating_count\n",
    "            FROM ratings\n",
    "            GROUP BY username\n",
    "            HAVING COUNT(rating) > 50) AS tr\n",
    "        LEFT JOIN reviews AS re ON re.username = tr.username\n",
    "        GROUP BY re.username, tr.rating_count) AS final\n",
    "'''\n",
    "\n",
    "pd.io.sql.read_sql(query, con = engine)"
   ]
  },
  {
   "cell_type": "markdown",
   "id": "b23c88c3",
   "metadata": {},
   "source": [
    "Looks like top reviewers had around 24 reviews in average, less than half of the ratings they gave that's for sure!"
   ]
  },
  {
   "cell_type": "markdown",
   "id": "f219cfa0",
   "metadata": {},
   "source": [
    "## Summary\n",
    "After finishing all the necessary studying, we've come up with:\n",
    "1. 636 books were published after the 1st of January, 2000.\n",
    "2. ***Penguin Books*** is the top publisher, holding 42 book publishes.\n",
    "3. J.K. Rowling/Mary GrandPré are the authors of the book with the highest average rating.\n",
    "4. The average number of text reviews among users who rated more than 50 books is 24\n",
    "5. This is a list of all books with the number of reviews and their average rating:"
   ]
  }
 ],
 "metadata": {
  "ExecuteTimeLog": [
   {
    "duration": 12642,
    "start_time": "2022-06-20T12:13:27.109Z"
   },
   {
    "duration": 81,
    "start_time": "2022-06-20T12:13:39.753Z"
   },
   {
    "duration": 21,
    "start_time": "2022-06-20T12:13:39.835Z"
   },
   {
    "duration": 27,
    "start_time": "2022-06-20T12:13:39.858Z"
   },
   {
    "duration": 38,
    "start_time": "2022-06-20T12:13:39.887Z"
   },
   {
    "duration": 13,
    "start_time": "2022-06-20T12:13:39.926Z"
   },
   {
    "duration": 20,
    "start_time": "2022-06-20T12:13:39.940Z"
   },
   {
    "duration": 10,
    "start_time": "2022-06-20T12:13:39.962Z"
   },
   {
    "duration": 14,
    "start_time": "2022-06-20T12:13:39.973Z"
   },
   {
    "duration": 10,
    "start_time": "2022-06-20T12:13:39.988Z"
   },
   {
    "duration": 20,
    "start_time": "2022-06-20T13:11:34.834Z"
   },
   {
    "duration": 19,
    "start_time": "2022-06-20T13:11:43.181Z"
   },
   {
    "duration": 23,
    "start_time": "2022-06-20T13:11:55.105Z"
   },
   {
    "duration": 53,
    "start_time": "2022-06-20T13:12:08.848Z"
   },
   {
    "duration": 22,
    "start_time": "2022-06-20T13:12:17.384Z"
   },
   {
    "duration": 13,
    "start_time": "2022-06-20T13:15:25.278Z"
   },
   {
    "duration": 12,
    "start_time": "2022-06-20T13:15:27.767Z"
   },
   {
    "duration": 57,
    "start_time": "2022-06-20T13:32:56.381Z"
   },
   {
    "duration": 6022,
    "start_time": "2022-06-20T13:33:06.707Z"
   },
   {
    "duration": 342,
    "start_time": "2022-06-20T13:33:12.731Z"
   },
   {
    "duration": 146,
    "start_time": "2022-06-20T13:33:13.075Z"
   },
   {
    "duration": 174,
    "start_time": "2022-06-20T13:33:13.223Z"
   },
   {
    "duration": 179,
    "start_time": "2022-06-20T13:33:13.399Z"
   },
   {
    "duration": 152,
    "start_time": "2022-06-20T13:33:13.581Z"
   },
   {
    "duration": 73,
    "start_time": "2022-06-20T13:33:54.857Z"
   },
   {
    "duration": 73,
    "start_time": "2022-06-20T13:34:01.312Z"
   },
   {
    "duration": 75,
    "start_time": "2022-06-20T13:34:04.737Z"
   },
   {
    "duration": 104,
    "start_time": "2022-06-20T13:35:59.508Z"
   },
   {
    "duration": 102,
    "start_time": "2022-06-20T13:41:15.412Z"
   },
   {
    "duration": 108,
    "start_time": "2022-06-20T13:41:25.106Z"
   },
   {
    "duration": 76,
    "start_time": "2022-06-20T13:46:04.603Z"
   },
   {
    "duration": 135,
    "start_time": "2022-06-20T13:47:35.034Z"
   },
   {
    "duration": 79,
    "start_time": "2022-06-20T13:47:53.904Z"
   },
   {
    "duration": 77,
    "start_time": "2022-06-20T13:49:06.068Z"
   },
   {
    "duration": 74,
    "start_time": "2022-06-20T13:49:23.295Z"
   },
   {
    "duration": 76,
    "start_time": "2022-06-20T13:50:45.910Z"
   },
   {
    "duration": 72,
    "start_time": "2022-06-20T13:58:09.312Z"
   },
   {
    "duration": 74,
    "start_time": "2022-06-20T13:59:14.201Z"
   },
   {
    "duration": 78,
    "start_time": "2022-06-20T13:59:26.409Z"
   },
   {
    "duration": 10,
    "start_time": "2022-06-20T14:11:00.277Z"
   },
   {
    "duration": 6727,
    "start_time": "2022-06-20T14:11:14.078Z"
   },
   {
    "duration": 317,
    "start_time": "2022-06-20T14:11:20.807Z"
   },
   {
    "duration": 138,
    "start_time": "2022-06-20T14:11:21.126Z"
   },
   {
    "duration": 168,
    "start_time": "2022-06-20T14:11:21.267Z"
   },
   {
    "duration": 156,
    "start_time": "2022-06-20T14:11:21.437Z"
   },
   {
    "duration": 69,
    "start_time": "2022-06-20T14:11:21.595Z"
   },
   {
    "duration": 78,
    "start_time": "2022-06-20T14:11:21.666Z"
   },
   {
    "duration": 69,
    "start_time": "2022-06-20T14:11:21.746Z"
   },
   {
    "duration": 70,
    "start_time": "2022-06-20T14:11:21.817Z"
   },
   {
    "duration": 69,
    "start_time": "2022-06-20T14:11:21.890Z"
   },
   {
    "duration": 11,
    "start_time": "2022-06-20T14:11:21.962Z"
   },
   {
    "duration": 9533,
    "start_time": "2022-06-20T20:36:56.275Z"
   },
   {
    "duration": 348,
    "start_time": "2022-06-20T20:37:05.809Z"
   },
   {
    "duration": 147,
    "start_time": "2022-06-20T20:37:06.159Z"
   },
   {
    "duration": 177,
    "start_time": "2022-06-20T20:37:06.308Z"
   },
   {
    "duration": 164,
    "start_time": "2022-06-20T20:37:06.487Z"
   },
   {
    "duration": 72,
    "start_time": "2022-06-20T20:37:06.652Z"
   },
   {
    "duration": 85,
    "start_time": "2022-06-20T20:37:06.727Z"
   },
   {
    "duration": 74,
    "start_time": "2022-06-20T20:37:06.813Z"
   },
   {
    "duration": 75,
    "start_time": "2022-06-20T20:37:06.889Z"
   },
   {
    "duration": 75,
    "start_time": "2022-06-20T20:37:06.966Z"
   },
   {
    "duration": 10,
    "start_time": "2022-06-20T20:37:07.042Z"
   },
   {
    "duration": 71,
    "start_time": "2022-06-20T20:37:42.361Z"
   },
   {
    "duration": 71,
    "start_time": "2022-06-20T20:37:44.261Z"
   },
   {
    "duration": 101,
    "start_time": "2022-06-20T21:00:04.268Z"
   },
   {
    "duration": 226,
    "start_time": "2022-06-20T21:07:19.189Z"
   },
   {
    "duration": 45,
    "start_time": "2022-06-20T22:56:58.676Z"
   },
   {
    "duration": 5884,
    "start_time": "2022-06-20T22:57:04.891Z"
   },
   {
    "duration": 355,
    "start_time": "2022-06-20T22:57:10.776Z"
   },
   {
    "duration": 144,
    "start_time": "2022-06-20T22:57:11.132Z"
   },
   {
    "duration": 173,
    "start_time": "2022-06-20T22:57:11.279Z"
   },
   {
    "duration": 164,
    "start_time": "2022-06-20T22:57:11.454Z"
   },
   {
    "duration": 71,
    "start_time": "2022-06-20T22:57:11.620Z"
   },
   {
    "duration": 72,
    "start_time": "2022-06-20T22:57:11.693Z"
   },
   {
    "duration": 179,
    "start_time": "2022-06-20T22:57:11.766Z"
   },
   {
    "duration": 0,
    "start_time": "2022-06-20T22:57:11.946Z"
   },
   {
    "duration": 0,
    "start_time": "2022-06-20T22:57:11.948Z"
   },
   {
    "duration": 0,
    "start_time": "2022-06-20T22:57:11.949Z"
   },
   {
    "duration": 0,
    "start_time": "2022-06-20T22:57:11.950Z"
   },
   {
    "duration": 70,
    "start_time": "2022-06-20T22:58:13.792Z"
   },
   {
    "duration": 73,
    "start_time": "2022-06-20T22:58:21.051Z"
   },
   {
    "duration": 75,
    "start_time": "2022-06-20T23:00:47.548Z"
   },
   {
    "duration": 72,
    "start_time": "2022-06-20T23:01:14.838Z"
   },
   {
    "duration": 103,
    "start_time": "2022-06-20T23:01:43.187Z"
   },
   {
    "duration": 103,
    "start_time": "2022-06-20T23:05:59.464Z"
   },
   {
    "duration": 171,
    "start_time": "2022-06-20T23:06:09.814Z"
   },
   {
    "duration": 94,
    "start_time": "2022-06-20T23:06:15.319Z"
   },
   {
    "duration": 125,
    "start_time": "2022-06-20T23:07:06.794Z"
   },
   {
    "duration": 96,
    "start_time": "2022-06-20T23:07:20.554Z"
   },
   {
    "duration": 104,
    "start_time": "2022-06-20T23:08:25.921Z"
   },
   {
    "duration": 140,
    "start_time": "2022-06-20T23:08:31.502Z"
   },
   {
    "duration": 108,
    "start_time": "2022-06-20T23:08:47.448Z"
   },
   {
    "duration": 179,
    "start_time": "2022-06-20T23:09:16.542Z"
   },
   {
    "duration": 197,
    "start_time": "2022-06-20T23:09:25.389Z"
   },
   {
    "duration": 183,
    "start_time": "2022-06-20T23:09:33.958Z"
   },
   {
    "duration": 142,
    "start_time": "2022-06-20T23:12:36.297Z"
   },
   {
    "duration": 73,
    "start_time": "2022-06-20T23:12:43.500Z"
   },
   {
    "duration": 416,
    "start_time": "2022-06-20T23:18:18.782Z"
   },
   {
    "duration": 331,
    "start_time": "2022-06-20T23:18:41.019Z"
   },
   {
    "duration": 264,
    "start_time": "2022-06-20T23:18:53.751Z"
   },
   {
    "duration": 263,
    "start_time": "2022-06-20T23:19:41.076Z"
   },
   {
    "duration": 397,
    "start_time": "2022-06-20T23:25:51.174Z"
   },
   {
    "duration": 334,
    "start_time": "2022-06-20T23:26:05.127Z"
   },
   {
    "duration": 344,
    "start_time": "2022-06-20T23:26:25.576Z"
   },
   {
    "duration": 360,
    "start_time": "2022-06-20T23:33:24.192Z"
   },
   {
    "duration": 345,
    "start_time": "2022-06-20T23:34:19.895Z"
   },
   {
    "duration": 234,
    "start_time": "2022-06-20T23:37:32.581Z"
   },
   {
    "duration": 420,
    "start_time": "2022-06-20T23:37:54.321Z"
   },
   {
    "duration": 220,
    "start_time": "2022-06-20T23:38:28.095Z"
   },
   {
    "duration": 443,
    "start_time": "2022-06-20T23:38:43.937Z"
   },
   {
    "duration": 416,
    "start_time": "2022-06-20T23:39:17.855Z"
   },
   {
    "duration": 385,
    "start_time": "2022-06-20T23:40:26.416Z"
   },
   {
    "duration": 239,
    "start_time": "2022-06-20T23:40:53.729Z"
   },
   {
    "duration": 456,
    "start_time": "2022-06-20T23:41:04.254Z"
   },
   {
    "duration": 417,
    "start_time": "2022-06-20T23:43:45.276Z"
   },
   {
    "duration": 382,
    "start_time": "2022-06-20T23:44:26.480Z"
   },
   {
    "duration": 343,
    "start_time": "2022-06-20T23:44:32.997Z"
   },
   {
    "duration": 338,
    "start_time": "2022-06-20T23:52:48.328Z"
   },
   {
    "duration": 346,
    "start_time": "2022-06-20T23:53:16.769Z"
   },
   {
    "duration": 343,
    "start_time": "2022-06-20T23:53:36.388Z"
   },
   {
    "duration": 327,
    "start_time": "2022-06-20T23:53:54.460Z"
   },
   {
    "duration": 10052,
    "start_time": "2022-06-21T08:59:12.575Z"
   },
   {
    "duration": 347,
    "start_time": "2022-06-21T08:59:22.628Z"
   },
   {
    "duration": 155,
    "start_time": "2022-06-21T08:59:22.977Z"
   },
   {
    "duration": 179,
    "start_time": "2022-06-21T08:59:23.133Z"
   },
   {
    "duration": 166,
    "start_time": "2022-06-21T08:59:23.315Z"
   },
   {
    "duration": 71,
    "start_time": "2022-06-21T08:59:23.483Z"
   },
   {
    "duration": 385,
    "start_time": "2022-06-21T08:59:23.556Z"
   },
   {
    "duration": 79,
    "start_time": "2022-06-21T08:59:23.943Z"
   },
   {
    "duration": 76,
    "start_time": "2022-06-21T08:59:24.024Z"
   },
   {
    "duration": 73,
    "start_time": "2022-06-21T08:59:24.102Z"
   },
   {
    "duration": 69,
    "start_time": "2022-06-21T08:59:24.176Z"
   },
   {
    "duration": 8,
    "start_time": "2022-06-21T10:28:17.823Z"
   },
   {
    "duration": 102,
    "start_time": "2022-06-21T10:28:27.400Z"
   },
   {
    "duration": 100,
    "start_time": "2022-06-21T10:28:42.625Z"
   },
   {
    "duration": 100,
    "start_time": "2022-06-21T10:29:02.491Z"
   },
   {
    "duration": 242,
    "start_time": "2022-06-21T11:27:47.490Z"
   },
   {
    "duration": 245,
    "start_time": "2022-06-21T11:28:02.145Z"
   },
   {
    "duration": 362,
    "start_time": "2022-06-21T11:28:49.334Z"
   },
   {
    "duration": 391,
    "start_time": "2022-06-21T11:29:28.780Z"
   },
   {
    "duration": 391,
    "start_time": "2022-06-21T11:29:39.005Z"
   },
   {
    "duration": 359,
    "start_time": "2022-06-21T11:30:37.541Z"
   },
   {
    "duration": 363,
    "start_time": "2022-06-21T11:32:00.869Z"
   },
   {
    "duration": 434,
    "start_time": "2022-06-21T11:32:21.745Z"
   },
   {
    "duration": 241,
    "start_time": "2022-06-21T11:33:43.694Z"
   },
   {
    "duration": 369,
    "start_time": "2022-06-21T11:34:20.313Z"
   },
   {
    "duration": 388,
    "start_time": "2022-06-21T11:34:38.041Z"
   },
   {
    "duration": 134,
    "start_time": "2022-06-21T11:35:08.707Z"
   },
   {
    "duration": 149,
    "start_time": "2022-06-21T11:35:20.406Z"
   },
   {
    "duration": 368,
    "start_time": "2022-06-21T11:35:29.738Z"
   },
   {
    "duration": 141,
    "start_time": "2022-06-21T11:48:55.380Z"
   },
   {
    "duration": 178,
    "start_time": "2022-06-21T11:51:02.803Z"
   },
   {
    "duration": 367,
    "start_time": "2022-06-21T11:52:03.753Z"
   },
   {
    "duration": 367,
    "start_time": "2022-06-21T11:52:50.854Z"
   },
   {
    "duration": 371,
    "start_time": "2022-06-21T11:53:08.188Z"
   },
   {
    "duration": 367,
    "start_time": "2022-06-21T11:53:19.135Z"
   },
   {
    "duration": 370,
    "start_time": "2022-06-21T11:54:05.419Z"
   },
   {
    "duration": 364,
    "start_time": "2022-06-21T11:54:30.446Z"
   },
   {
    "duration": 198,
    "start_time": "2022-06-21T11:55:39.587Z"
   },
   {
    "duration": 211,
    "start_time": "2022-06-21T11:55:55.495Z"
   },
   {
    "duration": 190,
    "start_time": "2022-06-21T11:56:09.543Z"
   },
   {
    "duration": 109,
    "start_time": "2022-06-21T11:56:49.496Z"
   },
   {
    "duration": 6303,
    "start_time": "2022-06-21T12:08:40.529Z"
   },
   {
    "duration": 343,
    "start_time": "2022-06-21T12:08:46.834Z"
   },
   {
    "duration": 150,
    "start_time": "2022-06-21T12:08:47.179Z"
   },
   {
    "duration": 181,
    "start_time": "2022-06-21T12:08:47.331Z"
   },
   {
    "duration": 172,
    "start_time": "2022-06-21T12:08:47.514Z"
   },
   {
    "duration": 75,
    "start_time": "2022-06-21T12:08:47.689Z"
   },
   {
    "duration": 92,
    "start_time": "2022-06-21T12:08:47.766Z"
   },
   {
    "duration": 73,
    "start_time": "2022-06-21T12:08:47.859Z"
   },
   {
    "duration": 81,
    "start_time": "2022-06-21T12:08:47.934Z"
   },
   {
    "duration": 76,
    "start_time": "2022-06-21T12:08:48.017Z"
   },
   {
    "duration": 124,
    "start_time": "2022-06-21T16:46:03.505Z"
   },
   {
    "duration": 101,
    "start_time": "2022-06-21T16:46:09.674Z"
   },
   {
    "duration": 99,
    "start_time": "2022-06-21T16:46:23.319Z"
   },
   {
    "duration": 98,
    "start_time": "2022-06-21T16:46:45.023Z"
   },
   {
    "duration": 99,
    "start_time": "2022-06-21T16:46:59.170Z"
   },
   {
    "duration": 100,
    "start_time": "2022-06-21T16:47:05.299Z"
   },
   {
    "duration": 100,
    "start_time": "2022-06-21T16:49:12.306Z"
   },
   {
    "duration": 100,
    "start_time": "2022-06-21T16:49:45.873Z"
   },
   {
    "duration": 4010,
    "start_time": "2022-06-21T16:49:51.539Z"
   },
   {
    "duration": 105,
    "start_time": "2022-06-21T16:49:59.281Z"
   }
  ],
  "kernelspec": {
   "display_name": "Python 3 (ipykernel)",
   "language": "python",
   "name": "python3"
  },
  "language_info": {
   "codemirror_mode": {
    "name": "ipython",
    "version": 3
   },
   "file_extension": ".py",
   "mimetype": "text/x-python",
   "name": "python",
   "nbconvert_exporter": "python",
   "pygments_lexer": "ipython3",
   "version": "3.9.5"
  },
  "toc": {
   "base_numbering": 1,
   "nav_menu": {},
   "number_sections": true,
   "sideBar": true,
   "skip_h1_title": true,
   "title_cell": "Table of Contents",
   "title_sidebar": "Contents",
   "toc_cell": false,
   "toc_position": {},
   "toc_section_display": true,
   "toc_window_display": false
  }
 },
 "nbformat": 4,
 "nbformat_minor": 5
}
