{
 "cells": [
  {
   "cell_type": "markdown",
   "metadata": {},
   "source": [
    "<div style=\"border:solid green 2px; padding: 20px\"> <h1 style=\"color:green; margin-bottom:20px\">Reviewer's comment v1</h1>\n",
    "\n",
    "Hello Ameer, my name is Dmitrii. Happy to review your project! 🙌\n",
    "\n",
    "You can find my comments under the heading **«Review»**. I will categorize my comments in green, blue or red boxes like this:\n",
    "\n",
    "<div class=\"alert alert-success\">\n",
    "    <b>Success:</b> if everything is done successfully\n",
    "</div>\n",
    "<div class=\"alert alert-warning\">\n",
    "    <b>Remarks:</b> if I can give some recommendations or ways to improve the project\n",
    "</div>\n",
    "<div class=\"alert alert-danger\">\n",
    "    <b>Needs fixing:</b> if the block requires some corrections. Work can't be accepted with the red comments\n",
    "</div>\n",
    "\n",
    "Please don't remove my comments :) If you have any questions don't hesitate to respond to my comments in a different section. \n",
    "<div class=\"alert alert-info\"> <b>Student comments:</b> For example like this</div>    \n"
   ]
  },
  {
   "cell_type": "markdown",
   "metadata": {},
   "source": [
    "<div style=\"border:solid green 2px; padding: 20px\">\n",
    "<b>Reviewer's comment v1:</b>\n",
    "    \n",
    "<b>Overall Feedback</b> \n",
    "    \n",
    "- Overall well done! I can see that a lot of effort has been made! Your project already looks really good and you accomplished impressive results.\n",
    "    \n",
    "    \n",
    "- However, there are some comments/areas left to fix that will help you to make your project even better:\n",
    "    - Formulate hypotheses (null/alternative) for each question. \n",
    "  \n",
    "And of course, if you have any questions along the way, remember that you can always reach out to your tutor for any clarification.\n",
    "\n",
    "I will wait for you to send me a new version of the project :)\n",
    "\n",
    "    \n",
    "</div>"
   ]
  },
  {
   "cell_type": "markdown",
   "metadata": {},
   "source": [
    "<div style=\"border:solid green 2px; padding: 20px\">\n",
    "<b>Reviewer's comment v2:</b>\n",
    "    \n",
    "<b>Overall Feedback</b> \n",
    "    \n",
    "- Hello Ameer, thank you for making corrections and improvements in your project.\n",
    "- Now no critical issues left (only minor comment about relative difference graph) , so your project has been accepted! \n",
    "- To learn further about A/B testing, I can recommend the following articles:\n",
    "  - https://towardsdatascience.com/a-collection-of-a-b-testing-learning-resources-newbie-to-master-6bab1e0d7845 or this cool book \"Trustworthy Online Controlled Experiments: A Practical Guide to A/B Testing\"\n",
    "\n",
    "Please keep up the great work and good luck on the next project! \n",
    "  \n",
    "</div>"
   ]
  },
  {
   "cell_type": "markdown",
   "metadata": {},
   "source": [
    "# Part I\n",
    "I am an analyst at a big online store. Together with the marketing department, we've compiled a list of hypotheses that may help boost the revenue.\n",
    "We need to prioritize these hypotheses, using the datasets we have which include the **Reach, Impact, Confidence and Effort** of each hypotheses.\n",
    "\n",
    "# Part II\n",
    "After we're done with prioritizing hypotheses, we are going to launch an A/B test on a dataset that includes information about the store users that were initially divided into two groups, **A and B** for comparsion and analyze the results.\n",
    "\n",
    "# Plan Of Work\n",
    "* First of all we are going to load the data, have a general look at it.\n",
    "* Second, we'll start optimizing the data in-order to save us some running time.\n",
    "* Third, It is time for preprocessing, removing or correcting any problematic data.\n",
    "* Forth, Enhace and improve our dataframes and make sure that it is ready to be worked with.\n",
    "* Fifth, We'll start studying the information and data that we have in hand\n",
    "* Finally, reach to conclusions and share our conjectures.\n",
    "\n",
    "\n",
    "## Part  I. Prioritizing Hypotheses\n",
    "\n",
    "### Loading the data\n",
    "First we start by loading the libraries that we may need and then loading our csv files into dataframes."
   ]
  },
  {
   "cell_type": "markdown",
   "metadata": {},
   "source": [
    "<div class=\"alert alert-success\">\n",
    "<b>Reviewer's comment v1:</b>\n",
    "    \n",
    "Great that you added additional information about project tasks. It gives an overview of what you are going to achieve in this project.\n",
    "</div>"
   ]
  },
  {
   "cell_type": "code",
   "execution_count": 1,
   "metadata": {},
   "outputs": [],
   "source": [
    "import pandas as pd\n",
    "import numpy as np\n",
    "import matplotlib.pyplot as plt\n",
    "import seaborn as sns\n",
    "import math\n",
    "from scipy import stats"
   ]
  },
  {
   "cell_type": "code",
   "execution_count": 2,
   "metadata": {},
   "outputs": [
    {
     "data": {
      "text/html": [
       "<div>\n",
       "<style scoped>\n",
       "    .dataframe tbody tr th:only-of-type {\n",
       "        vertical-align: middle;\n",
       "    }\n",
       "\n",
       "    .dataframe tbody tr th {\n",
       "        vertical-align: top;\n",
       "    }\n",
       "\n",
       "    .dataframe thead th {\n",
       "        text-align: right;\n",
       "    }\n",
       "</style>\n",
       "<table border=\"1\" class=\"dataframe\">\n",
       "  <thead>\n",
       "    <tr style=\"text-align: right;\">\n",
       "      <th></th>\n",
       "      <th>Hypothesis</th>\n",
       "      <th>Reach</th>\n",
       "      <th>Impact</th>\n",
       "      <th>Confidence</th>\n",
       "      <th>Effort</th>\n",
       "    </tr>\n",
       "  </thead>\n",
       "  <tbody>\n",
       "    <tr>\n",
       "      <th>0</th>\n",
       "      <td>Add two new channels for attracting traffic. This will bring 30% more users</td>\n",
       "      <td>3</td>\n",
       "      <td>10</td>\n",
       "      <td>8</td>\n",
       "      <td>6</td>\n",
       "    </tr>\n",
       "    <tr>\n",
       "      <th>1</th>\n",
       "      <td>Launch your own delivery service. This will shorten delivery time</td>\n",
       "      <td>2</td>\n",
       "      <td>5</td>\n",
       "      <td>4</td>\n",
       "      <td>10</td>\n",
       "    </tr>\n",
       "    <tr>\n",
       "      <th>2</th>\n",
       "      <td>Add product recommendation blocks to the store's site. This will increase conversion and average purchase size</td>\n",
       "      <td>8</td>\n",
       "      <td>3</td>\n",
       "      <td>7</td>\n",
       "      <td>3</td>\n",
       "    </tr>\n",
       "    <tr>\n",
       "      <th>3</th>\n",
       "      <td>Change the category structure. This will increase conversion since users will find the products they want more quickly</td>\n",
       "      <td>8</td>\n",
       "      <td>3</td>\n",
       "      <td>3</td>\n",
       "      <td>8</td>\n",
       "    </tr>\n",
       "    <tr>\n",
       "      <th>4</th>\n",
       "      <td>Change the background color on the main page. This will increase user engagement</td>\n",
       "      <td>3</td>\n",
       "      <td>1</td>\n",
       "      <td>1</td>\n",
       "      <td>1</td>\n",
       "    </tr>\n",
       "    <tr>\n",
       "      <th>5</th>\n",
       "      <td>Add a customer review page. This will increase the number of orders</td>\n",
       "      <td>3</td>\n",
       "      <td>2</td>\n",
       "      <td>2</td>\n",
       "      <td>3</td>\n",
       "    </tr>\n",
       "    <tr>\n",
       "      <th>6</th>\n",
       "      <td>Show banners with current offers and sales on the main page. This will boost conversion</td>\n",
       "      <td>5</td>\n",
       "      <td>3</td>\n",
       "      <td>8</td>\n",
       "      <td>3</td>\n",
       "    </tr>\n",
       "    <tr>\n",
       "      <th>7</th>\n",
       "      <td>Add a subscription form to all the main pages. This will help you compile a mailing list</td>\n",
       "      <td>10</td>\n",
       "      <td>7</td>\n",
       "      <td>8</td>\n",
       "      <td>5</td>\n",
       "    </tr>\n",
       "    <tr>\n",
       "      <th>8</th>\n",
       "      <td>Launch a promotion that gives users discounts on their birthdays</td>\n",
       "      <td>1</td>\n",
       "      <td>9</td>\n",
       "      <td>9</td>\n",
       "      <td>5</td>\n",
       "    </tr>\n",
       "  </tbody>\n",
       "</table>\n",
       "</div>"
      ],
      "text/plain": [
       "                                                                                                               Hypothesis  \\\n",
       "0                                             Add two new channels for attracting traffic. This will bring 30% more users   \n",
       "1                                                       Launch your own delivery service. This will shorten delivery time   \n",
       "2          Add product recommendation blocks to the store's site. This will increase conversion and average purchase size   \n",
       "3  Change the category structure. This will increase conversion since users will find the products they want more quickly   \n",
       "4                                        Change the background color on the main page. This will increase user engagement   \n",
       "5                                                     Add a customer review page. This will increase the number of orders   \n",
       "6                                 Show banners with current offers and sales on the main page. This will boost conversion   \n",
       "7                                Add a subscription form to all the main pages. This will help you compile a mailing list   \n",
       "8                                                        Launch a promotion that gives users discounts on their birthdays   \n",
       "\n",
       "   Reach  Impact  Confidence  Effort  \n",
       "0      3      10           8       6  \n",
       "1      2       5           4      10  \n",
       "2      8       3           7       3  \n",
       "3      8       3           3       8  \n",
       "4      3       1           1       1  \n",
       "5      3       2           2       3  \n",
       "6      5       3           8       3  \n",
       "7     10       7           8       5  \n",
       "8      1       9           9       5  "
      ]
     },
     "execution_count": 2,
     "metadata": {},
     "output_type": "execute_result"
    }
   ],
   "source": [
    "hypos = pd.read_csv('/datasets/hypotheses_us.csv', sep=';')\n",
    "pd.set_option('display.max_colwidth', None) # In order to be able to see the whole hyposthesis column\n",
    "hypos # have a look at the data"
   ]
  },
  {
   "cell_type": "code",
   "execution_count": 3,
   "metadata": {},
   "outputs": [
    {
     "name": "stdout",
     "output_type": "stream",
     "text": [
      "<class 'pandas.core.frame.DataFrame'>\n",
      "RangeIndex: 9 entries, 0 to 8\n",
      "Data columns (total 5 columns):\n",
      " #   Column      Non-Null Count  Dtype \n",
      "---  ------      --------------  ----- \n",
      " 0   Hypothesis  9 non-null      object\n",
      " 1   Reach       9 non-null      int64 \n",
      " 2   Impact      9 non-null      int64 \n",
      " 3   Confidence  9 non-null      int64 \n",
      " 4   Effort      9 non-null      int64 \n",
      "dtypes: int64(4), object(1)\n",
      "memory usage: 488.0+ bytes\n"
     ]
    }
   ],
   "source": [
    "hypos.info() # Check what we are up against"
   ]
  },
  {
   "cell_type": "markdown",
   "metadata": {},
   "source": [
    "The dataframe is very small, there'll be no need for optimizing. Besides, we can tell by looking at the DF that there's no problematic values/data. This means that we're good to move on.\n",
    "\n",
    "**Next:** We are going to prioritize our hypotheses using the ICE A/K/A **(Impact, Confidence and Effort)** method."
   ]
  },
  {
   "cell_type": "markdown",
   "metadata": {},
   "source": [
    "### Calculating ICE and RICE\n",
    "ICE = **(Impact** x **Confidence)** / **Effort**"
   ]
  },
  {
   "cell_type": "code",
   "execution_count": 4,
   "metadata": {},
   "outputs": [
    {
     "data": {
      "text/html": [
       "<div>\n",
       "<style scoped>\n",
       "    .dataframe tbody tr th:only-of-type {\n",
       "        vertical-align: middle;\n",
       "    }\n",
       "\n",
       "    .dataframe tbody tr th {\n",
       "        vertical-align: top;\n",
       "    }\n",
       "\n",
       "    .dataframe thead th {\n",
       "        text-align: right;\n",
       "    }\n",
       "</style>\n",
       "<table border=\"1\" class=\"dataframe\">\n",
       "  <thead>\n",
       "    <tr style=\"text-align: right;\">\n",
       "      <th></th>\n",
       "      <th>Hypothesis</th>\n",
       "      <th>Reach</th>\n",
       "      <th>Impact</th>\n",
       "      <th>Confidence</th>\n",
       "      <th>Effort</th>\n",
       "      <th>ICE</th>\n",
       "    </tr>\n",
       "  </thead>\n",
       "  <tbody>\n",
       "    <tr>\n",
       "      <th>0</th>\n",
       "      <td>Add two new channels for attracting traffic. This will bring 30% more users</td>\n",
       "      <td>3</td>\n",
       "      <td>10</td>\n",
       "      <td>8</td>\n",
       "      <td>6</td>\n",
       "      <td>13.33</td>\n",
       "    </tr>\n",
       "    <tr>\n",
       "      <th>1</th>\n",
       "      <td>Launch your own delivery service. This will shorten delivery time</td>\n",
       "      <td>2</td>\n",
       "      <td>5</td>\n",
       "      <td>4</td>\n",
       "      <td>10</td>\n",
       "      <td>2.00</td>\n",
       "    </tr>\n",
       "    <tr>\n",
       "      <th>2</th>\n",
       "      <td>Add product recommendation blocks to the store's site. This will increase conversion and average purchase size</td>\n",
       "      <td>8</td>\n",
       "      <td>3</td>\n",
       "      <td>7</td>\n",
       "      <td>3</td>\n",
       "      <td>7.00</td>\n",
       "    </tr>\n",
       "    <tr>\n",
       "      <th>3</th>\n",
       "      <td>Change the category structure. This will increase conversion since users will find the products they want more quickly</td>\n",
       "      <td>8</td>\n",
       "      <td>3</td>\n",
       "      <td>3</td>\n",
       "      <td>8</td>\n",
       "      <td>1.12</td>\n",
       "    </tr>\n",
       "    <tr>\n",
       "      <th>4</th>\n",
       "      <td>Change the background color on the main page. This will increase user engagement</td>\n",
       "      <td>3</td>\n",
       "      <td>1</td>\n",
       "      <td>1</td>\n",
       "      <td>1</td>\n",
       "      <td>1.00</td>\n",
       "    </tr>\n",
       "    <tr>\n",
       "      <th>5</th>\n",
       "      <td>Add a customer review page. This will increase the number of orders</td>\n",
       "      <td>3</td>\n",
       "      <td>2</td>\n",
       "      <td>2</td>\n",
       "      <td>3</td>\n",
       "      <td>1.33</td>\n",
       "    </tr>\n",
       "    <tr>\n",
       "      <th>6</th>\n",
       "      <td>Show banners with current offers and sales on the main page. This will boost conversion</td>\n",
       "      <td>5</td>\n",
       "      <td>3</td>\n",
       "      <td>8</td>\n",
       "      <td>3</td>\n",
       "      <td>8.00</td>\n",
       "    </tr>\n",
       "    <tr>\n",
       "      <th>7</th>\n",
       "      <td>Add a subscription form to all the main pages. This will help you compile a mailing list</td>\n",
       "      <td>10</td>\n",
       "      <td>7</td>\n",
       "      <td>8</td>\n",
       "      <td>5</td>\n",
       "      <td>11.20</td>\n",
       "    </tr>\n",
       "    <tr>\n",
       "      <th>8</th>\n",
       "      <td>Launch a promotion that gives users discounts on their birthdays</td>\n",
       "      <td>1</td>\n",
       "      <td>9</td>\n",
       "      <td>9</td>\n",
       "      <td>5</td>\n",
       "      <td>16.20</td>\n",
       "    </tr>\n",
       "  </tbody>\n",
       "</table>\n",
       "</div>"
      ],
      "text/plain": [
       "                                                                                                               Hypothesis  \\\n",
       "0                                             Add two new channels for attracting traffic. This will bring 30% more users   \n",
       "1                                                       Launch your own delivery service. This will shorten delivery time   \n",
       "2          Add product recommendation blocks to the store's site. This will increase conversion and average purchase size   \n",
       "3  Change the category structure. This will increase conversion since users will find the products they want more quickly   \n",
       "4                                        Change the background color on the main page. This will increase user engagement   \n",
       "5                                                     Add a customer review page. This will increase the number of orders   \n",
       "6                                 Show banners with current offers and sales on the main page. This will boost conversion   \n",
       "7                                Add a subscription form to all the main pages. This will help you compile a mailing list   \n",
       "8                                                        Launch a promotion that gives users discounts on their birthdays   \n",
       "\n",
       "   Reach  Impact  Confidence  Effort    ICE  \n",
       "0      3      10           8       6  13.33  \n",
       "1      2       5           4      10   2.00  \n",
       "2      8       3           7       3   7.00  \n",
       "3      8       3           3       8   1.12  \n",
       "4      3       1           1       1   1.00  \n",
       "5      3       2           2       3   1.33  \n",
       "6      5       3           8       3   8.00  \n",
       "7     10       7           8       5  11.20  \n",
       "8      1       9           9       5  16.20  "
      ]
     },
     "execution_count": 4,
     "metadata": {},
     "output_type": "execute_result"
    }
   ],
   "source": [
    "# creating a new column called ICE to store the ICE values in it\n",
    "hypos['ICE'] = np.floor((hypos['Impact']*hypos['Confidence'])/hypos['Effort']*100)/100\n",
    "# the use of np.floor here was to end up with two decimals only\n",
    "hypos"
   ]
  },
  {
   "cell_type": "markdown",
   "metadata": {},
   "source": [
    "**Next:** we are going to prioritize the hypotheses using the RICE A.K.A **(Reach, Impact, Confidence and Effort)** method. Which is very similar to ICE but this method also considers the **Reach** of each hypotheses (How big is the audience it can reach).\n",
    "\n",
    "RICE = **(Reach** x **Confidence** x **Impact)** / **Effort**"
   ]
  },
  {
   "cell_type": "code",
   "execution_count": 5,
   "metadata": {},
   "outputs": [
    {
     "data": {
      "text/html": [
       "<div>\n",
       "<style scoped>\n",
       "    .dataframe tbody tr th:only-of-type {\n",
       "        vertical-align: middle;\n",
       "    }\n",
       "\n",
       "    .dataframe tbody tr th {\n",
       "        vertical-align: top;\n",
       "    }\n",
       "\n",
       "    .dataframe thead th {\n",
       "        text-align: right;\n",
       "    }\n",
       "</style>\n",
       "<table border=\"1\" class=\"dataframe\">\n",
       "  <thead>\n",
       "    <tr style=\"text-align: right;\">\n",
       "      <th></th>\n",
       "      <th>Hypothesis</th>\n",
       "      <th>Reach</th>\n",
       "      <th>Impact</th>\n",
       "      <th>Confidence</th>\n",
       "      <th>Effort</th>\n",
       "      <th>ICE</th>\n",
       "      <th>RICE</th>\n",
       "    </tr>\n",
       "  </thead>\n",
       "  <tbody>\n",
       "    <tr>\n",
       "      <th>0</th>\n",
       "      <td>Add two new channels for attracting traffic. This will bring 30% more users</td>\n",
       "      <td>3</td>\n",
       "      <td>10</td>\n",
       "      <td>8</td>\n",
       "      <td>6</td>\n",
       "      <td>13.33</td>\n",
       "      <td>40.0</td>\n",
       "    </tr>\n",
       "    <tr>\n",
       "      <th>1</th>\n",
       "      <td>Launch your own delivery service. This will shorten delivery time</td>\n",
       "      <td>2</td>\n",
       "      <td>5</td>\n",
       "      <td>4</td>\n",
       "      <td>10</td>\n",
       "      <td>2.00</td>\n",
       "      <td>4.0</td>\n",
       "    </tr>\n",
       "    <tr>\n",
       "      <th>2</th>\n",
       "      <td>Add product recommendation blocks to the store's site. This will increase conversion and average purchase size</td>\n",
       "      <td>8</td>\n",
       "      <td>3</td>\n",
       "      <td>7</td>\n",
       "      <td>3</td>\n",
       "      <td>7.00</td>\n",
       "      <td>56.0</td>\n",
       "    </tr>\n",
       "    <tr>\n",
       "      <th>3</th>\n",
       "      <td>Change the category structure. This will increase conversion since users will find the products they want more quickly</td>\n",
       "      <td>8</td>\n",
       "      <td>3</td>\n",
       "      <td>3</td>\n",
       "      <td>8</td>\n",
       "      <td>1.12</td>\n",
       "      <td>9.0</td>\n",
       "    </tr>\n",
       "    <tr>\n",
       "      <th>4</th>\n",
       "      <td>Change the background color on the main page. This will increase user engagement</td>\n",
       "      <td>3</td>\n",
       "      <td>1</td>\n",
       "      <td>1</td>\n",
       "      <td>1</td>\n",
       "      <td>1.00</td>\n",
       "      <td>3.0</td>\n",
       "    </tr>\n",
       "    <tr>\n",
       "      <th>5</th>\n",
       "      <td>Add a customer review page. This will increase the number of orders</td>\n",
       "      <td>3</td>\n",
       "      <td>2</td>\n",
       "      <td>2</td>\n",
       "      <td>3</td>\n",
       "      <td>1.33</td>\n",
       "      <td>4.0</td>\n",
       "    </tr>\n",
       "    <tr>\n",
       "      <th>6</th>\n",
       "      <td>Show banners with current offers and sales on the main page. This will boost conversion</td>\n",
       "      <td>5</td>\n",
       "      <td>3</td>\n",
       "      <td>8</td>\n",
       "      <td>3</td>\n",
       "      <td>8.00</td>\n",
       "      <td>40.0</td>\n",
       "    </tr>\n",
       "    <tr>\n",
       "      <th>7</th>\n",
       "      <td>Add a subscription form to all the main pages. This will help you compile a mailing list</td>\n",
       "      <td>10</td>\n",
       "      <td>7</td>\n",
       "      <td>8</td>\n",
       "      <td>5</td>\n",
       "      <td>11.20</td>\n",
       "      <td>112.0</td>\n",
       "    </tr>\n",
       "    <tr>\n",
       "      <th>8</th>\n",
       "      <td>Launch a promotion that gives users discounts on their birthdays</td>\n",
       "      <td>1</td>\n",
       "      <td>9</td>\n",
       "      <td>9</td>\n",
       "      <td>5</td>\n",
       "      <td>16.20</td>\n",
       "      <td>16.2</td>\n",
       "    </tr>\n",
       "  </tbody>\n",
       "</table>\n",
       "</div>"
      ],
      "text/plain": [
       "                                                                                                               Hypothesis  \\\n",
       "0                                             Add two new channels for attracting traffic. This will bring 30% more users   \n",
       "1                                                       Launch your own delivery service. This will shorten delivery time   \n",
       "2          Add product recommendation blocks to the store's site. This will increase conversion and average purchase size   \n",
       "3  Change the category structure. This will increase conversion since users will find the products they want more quickly   \n",
       "4                                        Change the background color on the main page. This will increase user engagement   \n",
       "5                                                     Add a customer review page. This will increase the number of orders   \n",
       "6                                 Show banners with current offers and sales on the main page. This will boost conversion   \n",
       "7                                Add a subscription form to all the main pages. This will help you compile a mailing list   \n",
       "8                                                        Launch a promotion that gives users discounts on their birthdays   \n",
       "\n",
       "   Reach  Impact  Confidence  Effort    ICE   RICE  \n",
       "0      3      10           8       6  13.33   40.0  \n",
       "1      2       5           4      10   2.00    4.0  \n",
       "2      8       3           7       3   7.00   56.0  \n",
       "3      8       3           3       8   1.12    9.0  \n",
       "4      3       1           1       1   1.00    3.0  \n",
       "5      3       2           2       3   1.33    4.0  \n",
       "6      5       3           8       3   8.00   40.0  \n",
       "7     10       7           8       5  11.20  112.0  \n",
       "8      1       9           9       5  16.20   16.2  "
      ]
     },
     "execution_count": 5,
     "metadata": {},
     "output_type": "execute_result"
    }
   ],
   "source": [
    "# same stuff as the previous code block\n",
    "hypos['RICE'] = np.floor((hypos['Reach']*hypos['Impact']*hypos['Confidence'])/hypos['Effort']*100)/100\n",
    "hypos"
   ]
  },
  {
   "cell_type": "markdown",
   "metadata": {},
   "source": [
    "### ICE vs RICE\n",
    "In order to prioritize a hypotheses and to choose one method, we have to see which method gives better prioritizing for our case. Therefore, we should sort the **hypos** according to both ICE and RICE and compare the results:"
   ]
  },
  {
   "cell_type": "code",
   "execution_count": 6,
   "metadata": {},
   "outputs": [
    {
     "data": {
      "text/html": [
       "<div>\n",
       "<style scoped>\n",
       "    .dataframe tbody tr th:only-of-type {\n",
       "        vertical-align: middle;\n",
       "    }\n",
       "\n",
       "    .dataframe tbody tr th {\n",
       "        vertical-align: top;\n",
       "    }\n",
       "\n",
       "    .dataframe thead th {\n",
       "        text-align: right;\n",
       "    }\n",
       "</style>\n",
       "<table border=\"1\" class=\"dataframe\">\n",
       "  <thead>\n",
       "    <tr style=\"text-align: right;\">\n",
       "      <th></th>\n",
       "      <th>Hypothesis</th>\n",
       "      <th>Reach</th>\n",
       "      <th>Impact</th>\n",
       "      <th>Confidence</th>\n",
       "      <th>Effort</th>\n",
       "      <th>ICE</th>\n",
       "      <th>RICE</th>\n",
       "    </tr>\n",
       "  </thead>\n",
       "  <tbody>\n",
       "    <tr>\n",
       "      <th>8</th>\n",
       "      <td>Launch a promotion that gives users discounts on their birthdays</td>\n",
       "      <td>1</td>\n",
       "      <td>9</td>\n",
       "      <td>9</td>\n",
       "      <td>5</td>\n",
       "      <td>16.20</td>\n",
       "      <td>16.2</td>\n",
       "    </tr>\n",
       "    <tr>\n",
       "      <th>0</th>\n",
       "      <td>Add two new channels for attracting traffic. This will bring 30% more users</td>\n",
       "      <td>3</td>\n",
       "      <td>10</td>\n",
       "      <td>8</td>\n",
       "      <td>6</td>\n",
       "      <td>13.33</td>\n",
       "      <td>40.0</td>\n",
       "    </tr>\n",
       "    <tr>\n",
       "      <th>7</th>\n",
       "      <td>Add a subscription form to all the main pages. This will help you compile a mailing list</td>\n",
       "      <td>10</td>\n",
       "      <td>7</td>\n",
       "      <td>8</td>\n",
       "      <td>5</td>\n",
       "      <td>11.20</td>\n",
       "      <td>112.0</td>\n",
       "    </tr>\n",
       "    <tr>\n",
       "      <th>6</th>\n",
       "      <td>Show banners with current offers and sales on the main page. This will boost conversion</td>\n",
       "      <td>5</td>\n",
       "      <td>3</td>\n",
       "      <td>8</td>\n",
       "      <td>3</td>\n",
       "      <td>8.00</td>\n",
       "      <td>40.0</td>\n",
       "    </tr>\n",
       "    <tr>\n",
       "      <th>2</th>\n",
       "      <td>Add product recommendation blocks to the store's site. This will increase conversion and average purchase size</td>\n",
       "      <td>8</td>\n",
       "      <td>3</td>\n",
       "      <td>7</td>\n",
       "      <td>3</td>\n",
       "      <td>7.00</td>\n",
       "      <td>56.0</td>\n",
       "    </tr>\n",
       "  </tbody>\n",
       "</table>\n",
       "</div>"
      ],
      "text/plain": [
       "                                                                                                       Hypothesis  \\\n",
       "8                                                Launch a promotion that gives users discounts on their birthdays   \n",
       "0                                     Add two new channels for attracting traffic. This will bring 30% more users   \n",
       "7                        Add a subscription form to all the main pages. This will help you compile a mailing list   \n",
       "6                         Show banners with current offers and sales on the main page. This will boost conversion   \n",
       "2  Add product recommendation blocks to the store's site. This will increase conversion and average purchase size   \n",
       "\n",
       "   Reach  Impact  Confidence  Effort    ICE   RICE  \n",
       "8      1       9           9       5  16.20   16.2  \n",
       "0      3      10           8       6  13.33   40.0  \n",
       "7     10       7           8       5  11.20  112.0  \n",
       "6      5       3           8       3   8.00   40.0  \n",
       "2      8       3           7       3   7.00   56.0  "
      ]
     },
     "metadata": {},
     "output_type": "display_data"
    }
   ],
   "source": [
    "display(hypos.sort_values('ICE', ascending=False).head(5))"
   ]
  },
  {
   "cell_type": "markdown",
   "metadata": {},
   "source": [
    "**VS**"
   ]
  },
  {
   "cell_type": "code",
   "execution_count": 7,
   "metadata": {},
   "outputs": [
    {
     "data": {
      "text/html": [
       "<div>\n",
       "<style scoped>\n",
       "    .dataframe tbody tr th:only-of-type {\n",
       "        vertical-align: middle;\n",
       "    }\n",
       "\n",
       "    .dataframe tbody tr th {\n",
       "        vertical-align: top;\n",
       "    }\n",
       "\n",
       "    .dataframe thead th {\n",
       "        text-align: right;\n",
       "    }\n",
       "</style>\n",
       "<table border=\"1\" class=\"dataframe\">\n",
       "  <thead>\n",
       "    <tr style=\"text-align: right;\">\n",
       "      <th></th>\n",
       "      <th>Hypothesis</th>\n",
       "      <th>Reach</th>\n",
       "      <th>Impact</th>\n",
       "      <th>Confidence</th>\n",
       "      <th>Effort</th>\n",
       "      <th>ICE</th>\n",
       "      <th>RICE</th>\n",
       "    </tr>\n",
       "  </thead>\n",
       "  <tbody>\n",
       "    <tr>\n",
       "      <th>7</th>\n",
       "      <td>Add a subscription form to all the main pages. This will help you compile a mailing list</td>\n",
       "      <td>10</td>\n",
       "      <td>7</td>\n",
       "      <td>8</td>\n",
       "      <td>5</td>\n",
       "      <td>11.20</td>\n",
       "      <td>112.0</td>\n",
       "    </tr>\n",
       "    <tr>\n",
       "      <th>2</th>\n",
       "      <td>Add product recommendation blocks to the store's site. This will increase conversion and average purchase size</td>\n",
       "      <td>8</td>\n",
       "      <td>3</td>\n",
       "      <td>7</td>\n",
       "      <td>3</td>\n",
       "      <td>7.00</td>\n",
       "      <td>56.0</td>\n",
       "    </tr>\n",
       "    <tr>\n",
       "      <th>0</th>\n",
       "      <td>Add two new channels for attracting traffic. This will bring 30% more users</td>\n",
       "      <td>3</td>\n",
       "      <td>10</td>\n",
       "      <td>8</td>\n",
       "      <td>6</td>\n",
       "      <td>13.33</td>\n",
       "      <td>40.0</td>\n",
       "    </tr>\n",
       "    <tr>\n",
       "      <th>6</th>\n",
       "      <td>Show banners with current offers and sales on the main page. This will boost conversion</td>\n",
       "      <td>5</td>\n",
       "      <td>3</td>\n",
       "      <td>8</td>\n",
       "      <td>3</td>\n",
       "      <td>8.00</td>\n",
       "      <td>40.0</td>\n",
       "    </tr>\n",
       "    <tr>\n",
       "      <th>8</th>\n",
       "      <td>Launch a promotion that gives users discounts on their birthdays</td>\n",
       "      <td>1</td>\n",
       "      <td>9</td>\n",
       "      <td>9</td>\n",
       "      <td>5</td>\n",
       "      <td>16.20</td>\n",
       "      <td>16.2</td>\n",
       "    </tr>\n",
       "  </tbody>\n",
       "</table>\n",
       "</div>"
      ],
      "text/plain": [
       "                                                                                                       Hypothesis  \\\n",
       "7                        Add a subscription form to all the main pages. This will help you compile a mailing list   \n",
       "2  Add product recommendation blocks to the store's site. This will increase conversion and average purchase size   \n",
       "0                                     Add two new channels for attracting traffic. This will bring 30% more users   \n",
       "6                         Show banners with current offers and sales on the main page. This will boost conversion   \n",
       "8                                                Launch a promotion that gives users discounts on their birthdays   \n",
       "\n",
       "   Reach  Impact  Confidence  Effort    ICE   RICE  \n",
       "7     10       7           8       5  11.20  112.0  \n",
       "2      8       3           7       3   7.00   56.0  \n",
       "0      3      10           8       6  13.33   40.0  \n",
       "6      5       3           8       3   8.00   40.0  \n",
       "8      1       9           9       5  16.20   16.2  "
      ]
     },
     "metadata": {},
     "output_type": "display_data"
    }
   ],
   "source": [
    "display(hypos.sort_values('RICE', ascending=False).head(5))"
   ]
  },
  {
   "cell_type": "markdown",
   "metadata": {},
   "source": [
    "### Conclusion\n",
    "\n",
    "We can clearly see that the data is sorted differently in each method, that's obviously due to having the **Reach** in the second sorting method. Hypotheses with higher **Reach** tend to go higher in the list of method 2 than in the first sorting method.\n",
    "\n",
    "I think that the **RICE** method is more precise and I would choose it for prioritizing over the ICE method, since the **Reach** can be important in so many cases. Therefore, If we are to prioritize one hypothesis for now, we would prioritize the hypothesis at the top of the RICE-sorted-list because not only it has high **Reach** but also high **Impact and Confidence** (Unlike the top of the ICE-sorted-list which has low **Reach**)."
   ]
  },
  {
   "cell_type": "markdown",
   "metadata": {},
   "source": [
    "<div class=\"alert alert-block alert-success\">\n",
    "<b>Reviewer's comment v1:</b>\n",
    "    \n",
    "Everything is correct here. You correctly applied both `ICE` & `RICE` frameworks. And based on the results, it is clear now what is the impact of the reach factor on overall value.\n",
    "    \n",
    "Additionally, a scatter plot could be used to map all numbers per hypothesis to compare them."
   ]
  },
  {
   "cell_type": "markdown",
   "metadata": {},
   "source": [
    "Now that we're done with prioritizng hypotheses, we should move into conducting the A/B test analysis\n",
    "\n",
    "## Part II. A/B Test Analysis\n",
    "\n",
    "### Loading the data\n",
    "Just like we did earlier, we are going to load the libraries and datasets that are necessary for part 2 and then move on from that."
   ]
  },
  {
   "cell_type": "code",
   "execution_count": 8,
   "metadata": {},
   "outputs": [],
   "source": [
    "# loading the two datasets\n",
    "orders = pd.read_csv('/datasets/orders_us.csv')\n",
    "visits = pd.read_csv('/datasets/visits_us.csv')"
   ]
  },
  {
   "cell_type": "code",
   "execution_count": 9,
   "metadata": {},
   "outputs": [
    {
     "data": {
      "text/html": [
       "<div>\n",
       "<style scoped>\n",
       "    .dataframe tbody tr th:only-of-type {\n",
       "        vertical-align: middle;\n",
       "    }\n",
       "\n",
       "    .dataframe tbody tr th {\n",
       "        vertical-align: top;\n",
       "    }\n",
       "\n",
       "    .dataframe thead th {\n",
       "        text-align: right;\n",
       "    }\n",
       "</style>\n",
       "<table border=\"1\" class=\"dataframe\">\n",
       "  <thead>\n",
       "    <tr style=\"text-align: right;\">\n",
       "      <th></th>\n",
       "      <th>transactionId</th>\n",
       "      <th>visitorId</th>\n",
       "      <th>date</th>\n",
       "      <th>revenue</th>\n",
       "      <th>group</th>\n",
       "    </tr>\n",
       "  </thead>\n",
       "  <tbody>\n",
       "    <tr>\n",
       "      <th>0</th>\n",
       "      <td>3667963787</td>\n",
       "      <td>3312258926</td>\n",
       "      <td>2019-08-15</td>\n",
       "      <td>30.4</td>\n",
       "      <td>B</td>\n",
       "    </tr>\n",
       "    <tr>\n",
       "      <th>1</th>\n",
       "      <td>2804400009</td>\n",
       "      <td>3642806036</td>\n",
       "      <td>2019-08-15</td>\n",
       "      <td>15.2</td>\n",
       "      <td>B</td>\n",
       "    </tr>\n",
       "    <tr>\n",
       "      <th>2</th>\n",
       "      <td>2961555356</td>\n",
       "      <td>4069496402</td>\n",
       "      <td>2019-08-15</td>\n",
       "      <td>10.2</td>\n",
       "      <td>A</td>\n",
       "    </tr>\n",
       "    <tr>\n",
       "      <th>3</th>\n",
       "      <td>3797467345</td>\n",
       "      <td>1196621759</td>\n",
       "      <td>2019-08-15</td>\n",
       "      <td>155.1</td>\n",
       "      <td>B</td>\n",
       "    </tr>\n",
       "    <tr>\n",
       "      <th>4</th>\n",
       "      <td>2282983706</td>\n",
       "      <td>2322279887</td>\n",
       "      <td>2019-08-15</td>\n",
       "      <td>40.5</td>\n",
       "      <td>B</td>\n",
       "    </tr>\n",
       "    <tr>\n",
       "      <th>5</th>\n",
       "      <td>182168103</td>\n",
       "      <td>935554773</td>\n",
       "      <td>2019-08-15</td>\n",
       "      <td>35.0</td>\n",
       "      <td>B</td>\n",
       "    </tr>\n",
       "  </tbody>\n",
       "</table>\n",
       "</div>"
      ],
      "text/plain": [
       "   transactionId   visitorId        date  revenue group\n",
       "0     3667963787  3312258926  2019-08-15     30.4     B\n",
       "1     2804400009  3642806036  2019-08-15     15.2     B\n",
       "2     2961555356  4069496402  2019-08-15     10.2     A\n",
       "3     3797467345  1196621759  2019-08-15    155.1     B\n",
       "4     2282983706  2322279887  2019-08-15     40.5     B\n",
       "5      182168103   935554773  2019-08-15     35.0     B"
      ]
     },
     "metadata": {},
     "output_type": "display_data"
    },
    {
     "data": {
      "text/html": [
       "<div>\n",
       "<style scoped>\n",
       "    .dataframe tbody tr th:only-of-type {\n",
       "        vertical-align: middle;\n",
       "    }\n",
       "\n",
       "    .dataframe tbody tr th {\n",
       "        vertical-align: top;\n",
       "    }\n",
       "\n",
       "    .dataframe thead th {\n",
       "        text-align: right;\n",
       "    }\n",
       "</style>\n",
       "<table border=\"1\" class=\"dataframe\">\n",
       "  <thead>\n",
       "    <tr style=\"text-align: right;\">\n",
       "      <th></th>\n",
       "      <th>date</th>\n",
       "      <th>group</th>\n",
       "      <th>visits</th>\n",
       "    </tr>\n",
       "  </thead>\n",
       "  <tbody>\n",
       "    <tr>\n",
       "      <th>0</th>\n",
       "      <td>2019-08-01</td>\n",
       "      <td>A</td>\n",
       "      <td>719</td>\n",
       "    </tr>\n",
       "    <tr>\n",
       "      <th>1</th>\n",
       "      <td>2019-08-02</td>\n",
       "      <td>A</td>\n",
       "      <td>619</td>\n",
       "    </tr>\n",
       "    <tr>\n",
       "      <th>2</th>\n",
       "      <td>2019-08-03</td>\n",
       "      <td>A</td>\n",
       "      <td>507</td>\n",
       "    </tr>\n",
       "    <tr>\n",
       "      <th>3</th>\n",
       "      <td>2019-08-04</td>\n",
       "      <td>A</td>\n",
       "      <td>717</td>\n",
       "    </tr>\n",
       "    <tr>\n",
       "      <th>4</th>\n",
       "      <td>2019-08-05</td>\n",
       "      <td>A</td>\n",
       "      <td>756</td>\n",
       "    </tr>\n",
       "    <tr>\n",
       "      <th>5</th>\n",
       "      <td>2019-08-06</td>\n",
       "      <td>A</td>\n",
       "      <td>667</td>\n",
       "    </tr>\n",
       "    <tr>\n",
       "      <th>6</th>\n",
       "      <td>2019-08-07</td>\n",
       "      <td>A</td>\n",
       "      <td>644</td>\n",
       "    </tr>\n",
       "    <tr>\n",
       "      <th>7</th>\n",
       "      <td>2019-08-08</td>\n",
       "      <td>A</td>\n",
       "      <td>610</td>\n",
       "    </tr>\n",
       "    <tr>\n",
       "      <th>8</th>\n",
       "      <td>2019-08-09</td>\n",
       "      <td>A</td>\n",
       "      <td>617</td>\n",
       "    </tr>\n",
       "  </tbody>\n",
       "</table>\n",
       "</div>"
      ],
      "text/plain": [
       "         date group  visits\n",
       "0  2019-08-01     A     719\n",
       "1  2019-08-02     A     619\n",
       "2  2019-08-03     A     507\n",
       "3  2019-08-04     A     717\n",
       "4  2019-08-05     A     756\n",
       "5  2019-08-06     A     667\n",
       "6  2019-08-07     A     644\n",
       "7  2019-08-08     A     610\n",
       "8  2019-08-09     A     617"
      ]
     },
     "metadata": {},
     "output_type": "display_data"
    }
   ],
   "source": [
    "display(orders.head(6))\n",
    "display(visits.head(9))"
   ]
  },
  {
   "cell_type": "markdown",
   "metadata": {},
   "source": [
    "### Optimizing the dataframes\n",
    "we don't see any problematic data initially, but before we move on and digg deeper for the problematic data, lets optimize our data first."
   ]
  },
  {
   "cell_type": "code",
   "execution_count": 10,
   "metadata": {},
   "outputs": [
    {
     "name": "stdout",
     "output_type": "stream",
     "text": [
      "<class 'pandas.core.frame.DataFrame'>\n",
      "RangeIndex: 1197 entries, 0 to 1196\n",
      "Data columns (total 5 columns):\n",
      " #   Column         Non-Null Count  Dtype  \n",
      "---  ------         --------------  -----  \n",
      " 0   transactionId  1197 non-null   int64  \n",
      " 1   visitorId      1197 non-null   int64  \n",
      " 2   date           1197 non-null   object \n",
      " 3   revenue        1197 non-null   float64\n",
      " 4   group          1197 non-null   object \n",
      "dtypes: float64(1), int64(2), object(2)\n",
      "memory usage: 174.3 KB\n",
      " ___________________________________ \n",
      "<class 'pandas.core.frame.DataFrame'>\n",
      "RangeIndex: 62 entries, 0 to 61\n",
      "Data columns (total 3 columns):\n",
      " #   Column  Non-Null Count  Dtype \n",
      "---  ------  --------------  ----- \n",
      " 0   date    62 non-null     object\n",
      " 1   group   62 non-null     object\n",
      " 2   visits  62 non-null     int64 \n",
      "dtypes: int64(1), object(2)\n",
      "memory usage: 8.2 KB\n"
     ]
    }
   ],
   "source": [
    "# checking the info of each DF to see which types need to be convereted\n",
    "orders.info(memory_usage='deep')\n",
    "print(' ___________________________________ ')\n",
    "visits.info(memory_usage='deep')"
   ]
  },
  {
   "cell_type": "markdown",
   "metadata": {},
   "source": [
    "We notice that some types here can be converted to save memory. **group** into **category** and **date** into **pd_datetime**:"
   ]
  },
  {
   "cell_type": "code",
   "execution_count": 11,
   "metadata": {},
   "outputs": [
    {
     "name": "stdout",
     "output_type": "stream",
     "text": [
      "<class 'pandas.core.frame.DataFrame'>\n",
      "RangeIndex: 1197 entries, 0 to 1196\n",
      "Data columns (total 5 columns):\n",
      " #   Column         Non-Null Count  Dtype         \n",
      "---  ------         --------------  -----         \n",
      " 0   transactionId  1197 non-null   int64         \n",
      " 1   visitorId      1197 non-null   int64         \n",
      " 2   date           1197 non-null   datetime64[ns]\n",
      " 3   revenue        1197 non-null   float64       \n",
      " 4   group          1197 non-null   category      \n",
      "dtypes: category(1), datetime64[ns](1), float64(1), int64(2)\n",
      "memory usage: 38.9 KB\n"
     ]
    }
   ],
   "source": [
    "# converting strings into datatime/category\n",
    "orders['date'] = pd.to_datetime(orders['date'])\n",
    "orders['group'] = orders['group'].astype('category')\n",
    "orders.info(memory_usage='deep')"
   ]
  },
  {
   "cell_type": "code",
   "execution_count": 12,
   "metadata": {},
   "outputs": [
    {
     "name": "stdout",
     "output_type": "stream",
     "text": [
      "<class 'pandas.core.frame.DataFrame'>\n",
      "RangeIndex: 62 entries, 0 to 61\n",
      "Data columns (total 3 columns):\n",
      " #   Column  Non-Null Count  Dtype         \n",
      "---  ------  --------------  -----         \n",
      " 0   date    62 non-null     datetime64[ns]\n",
      " 1   group   62 non-null     category      \n",
      " 2   visits  62 non-null     int64         \n",
      "dtypes: category(1), datetime64[ns](1), int64(1)\n",
      "memory usage: 1.4 KB\n"
     ]
    }
   ],
   "source": [
    "# converting strings into datatime/category\n",
    "visits['date'] = pd.to_datetime(visits['date'],dayfirst=True)\n",
    "visits['group'] = visits['group'].astype('category')\n",
    "visits.info(memory_usage='deep')"
   ]
  },
  {
   "cell_type": "markdown",
   "metadata": {},
   "source": [
    "By simple steps we were able to scale our dataframes so much, this way we save memory and time.\n",
    "\n",
    "Now that we're done with optimzing, we move on to **preprocessing**"
   ]
  },
  {
   "cell_type": "markdown",
   "metadata": {},
   "source": [
    "### Preprocessing\n",
    "Lets start by checking for missing values:"
   ]
  },
  {
   "cell_type": "code",
   "execution_count": 13,
   "metadata": {},
   "outputs": [
    {
     "data": {
      "text/plain": [
       "transactionId    0\n",
       "visitorId        0\n",
       "date             0\n",
       "revenue          0\n",
       "group            0\n",
       "dtype: int64"
      ]
     },
     "execution_count": 13,
     "metadata": {},
     "output_type": "execute_result"
    }
   ],
   "source": [
    "orders.isna().sum()"
   ]
  },
  {
   "cell_type": "markdown",
   "metadata": {},
   "source": [
    "We have 0 missing values, Great!\n",
    "\n",
    "Lets make sure that we only have **A** and **B** categories as stated in the instructions:"
   ]
  },
  {
   "cell_type": "code",
   "execution_count": 14,
   "metadata": {},
   "outputs": [
    {
     "name": "stdout",
     "output_type": "stream",
     "text": [
      "B    640\n",
      "A    557\n",
      "Name: group, dtype: int64 \n",
      "\n",
      " A    31\n",
      "B    31\n",
      "Name: group, dtype: int64\n"
     ]
    }
   ],
   "source": [
    "print(orders['group'].value_counts(),'\\n\\n',visits['group'].value_counts())"
   ]
  },
  {
   "cell_type": "markdown",
   "metadata": {},
   "source": [
    "We indeed have only **A** and **B** as groups/categories. What also comes to mind is, does all users belong to one group? Having users that belong to both groups doesn't help us and we need to get rid of their data:"
   ]
  },
  {
   "cell_type": "code",
   "execution_count": 15,
   "metadata": {},
   "outputs": [
    {
     "name": "stdout",
     "output_type": "stream",
     "text": [
      "<class 'pandas.core.frame.DataFrame'>\n",
      "Int64Index: 1016 entries, 0 to 1196\n",
      "Data columns (total 5 columns):\n",
      " #   Column         Non-Null Count  Dtype         \n",
      "---  ------         --------------  -----         \n",
      " 0   transactionId  1016 non-null   int64         \n",
      " 1   visitorId      1016 non-null   int64         \n",
      " 2   date           1016 non-null   datetime64[ns]\n",
      " 3   revenue        1016 non-null   float64       \n",
      " 4   group          1016 non-null   category      \n",
      "dtypes: category(1), datetime64[ns](1), float64(1), int64(2)\n",
      "memory usage: 40.8 KB\n",
      "\n",
      "<class 'pandas.core.frame.DataFrame'>\n",
      "RangeIndex: 1197 entries, 0 to 1196\n",
      "Data columns (total 5 columns):\n",
      " #   Column         Non-Null Count  Dtype         \n",
      "---  ------         --------------  -----         \n",
      " 0   transactionId  1197 non-null   int64         \n",
      " 1   visitorId      1197 non-null   int64         \n",
      " 2   date           1197 non-null   datetime64[ns]\n",
      " 3   revenue        1197 non-null   float64       \n",
      " 4   group          1197 non-null   category      \n",
      "dtypes: category(1), datetime64[ns](1), float64(1), int64(2)\n",
      "memory usage: 38.8 KB\n"
     ]
    }
   ],
   "source": [
    "# dividing users\n",
    "a_group = orders.query('group == \"A\"')\n",
    "b_group = orders.query('group == \"B\"')\n",
    "# inner merging the two groups on user id to get users that belong to both groups\n",
    "both_groups = pd.merge(a_group, b_group, how = 'inner', on = ['visitorId'])\n",
    "\n",
    "bad_list = both_groups['visitorId']\n",
    "full_orders = orders.copy() # saving a copy of the original orders DF\n",
    "orders = orders[~orders['visitorId'].isin(bad_list)] # if a user id is in the badlist we created earlier\n",
    "# then this user belong to both groups and should be removed.\n",
    "\n",
    "orders.info()\n",
    "print('')\n",
    "full_orders.info()"
   ]
  },
  {
   "cell_type": "markdown",
   "metadata": {},
   "source": [
    "We actually had users that belonged to both groups **A** and **B**. After removing them we are left with a dataframe that includes only users that belong to one group.\n",
    "\n",
    "One last check to make sure that our data is good for studying is the revenue column in **orders** and the visits column in **visits**, lets make sure that all the rows make sense:"
   ]
  },
  {
   "cell_type": "markdown",
   "metadata": {},
   "source": [
    "<div class=\"alert alert-block alert-success\">\n",
    "<b>Reviewer's comment v1:</b>\n",
    "    \n",
    "Well done! Great, that you identified these users. Indeed, having the same users in both groups contradicts the whole idea of A/B test."
   ]
  },
  {
   "cell_type": "code",
   "execution_count": 16,
   "metadata": {},
   "outputs": [
    {
     "data": {
      "text/plain": [
       "count     1016.000000\n",
       "mean       130.770866\n",
       "std        648.079810\n",
       "min          5.000000\n",
       "25%         20.775000\n",
       "50%         50.100000\n",
       "75%        126.950000\n",
       "max      19920.400000\n",
       "Name: revenue, dtype: float64"
      ]
     },
     "execution_count": 16,
     "metadata": {},
     "output_type": "execute_result"
    }
   ],
   "source": [
    "orders['revenue'].describe()"
   ]
  },
  {
   "cell_type": "code",
   "execution_count": 17,
   "metadata": {},
   "outputs": [
    {
     "data": {
      "text/plain": [
       "count     62.000000\n",
       "mean     607.290323\n",
       "std      114.400560\n",
       "min      361.000000\n",
       "25%      534.000000\n",
       "50%      624.500000\n",
       "75%      710.500000\n",
       "max      770.000000\n",
       "Name: visits, dtype: float64"
      ]
     },
     "execution_count": 17,
     "metadata": {},
     "output_type": "execute_result"
    }
   ],
   "source": [
    "visits['visits'].describe()"
   ]
  },
  {
   "cell_type": "markdown",
   "metadata": {},
   "source": [
    "No missing values and no negative values. The data seem to be good and clean, finally."
   ]
  },
  {
   "cell_type": "markdown",
   "metadata": {},
   "source": [
    "### Test Begins\n",
    "\n",
    "#### Cumulative revenue\n",
    "We'll start by **calculating the cumulative revenue for each group**, this way we can see how much revenue each group was generating every day and how much was accumlated at the end of the month."
   ]
  },
  {
   "cell_type": "code",
   "execution_count": 18,
   "metadata": {},
   "outputs": [],
   "source": [
    "# dividing the groups again after we cleaned the dfs\n",
    "a_group = orders.query('group == \"A\"').sort_values('date')\n",
    "b_group = orders.query('group == \"B\"').sort_values('date')\n",
    "#raw_b = raw_b.sample(n=468).sort_values('date')\n",
    "\n",
    "# grouping by the date to calculate the cumulative revenue later\n",
    "a_grouped_date = a_group.groupby('date')['revenue'].sum().reset_index()\n",
    "b_grouped_date = b_group.groupby('date')['revenue'].sum().reset_index()"
   ]
  },
  {
   "cell_type": "code",
   "execution_count": 19,
   "metadata": {},
   "outputs": [
    {
     "data": {
      "text/html": [
       "<div>\n",
       "<style scoped>\n",
       "    .dataframe tbody tr th:only-of-type {\n",
       "        vertical-align: middle;\n",
       "    }\n",
       "\n",
       "    .dataframe tbody tr th {\n",
       "        vertical-align: top;\n",
       "    }\n",
       "\n",
       "    .dataframe thead th {\n",
       "        text-align: right;\n",
       "    }\n",
       "</style>\n",
       "<table border=\"1\" class=\"dataframe\">\n",
       "  <thead>\n",
       "    <tr style=\"text-align: right;\">\n",
       "      <th></th>\n",
       "      <th>date</th>\n",
       "      <th>revenue</th>\n",
       "      <th>cum_revenue</th>\n",
       "    </tr>\n",
       "  </thead>\n",
       "  <tbody>\n",
       "    <tr>\n",
       "      <th>26</th>\n",
       "      <td>2019-08-27</td>\n",
       "      <td>2934.7</td>\n",
       "      <td>46539.0</td>\n",
       "    </tr>\n",
       "    <tr>\n",
       "      <th>27</th>\n",
       "      <td>2019-08-28</td>\n",
       "      <td>1526.9</td>\n",
       "      <td>48065.9</td>\n",
       "    </tr>\n",
       "    <tr>\n",
       "      <th>28</th>\n",
       "      <td>2019-08-29</td>\n",
       "      <td>3068.9</td>\n",
       "      <td>51134.8</td>\n",
       "    </tr>\n",
       "    <tr>\n",
       "      <th>29</th>\n",
       "      <td>2019-08-30</td>\n",
       "      <td>1228.9</td>\n",
       "      <td>52363.7</td>\n",
       "    </tr>\n",
       "    <tr>\n",
       "      <th>30</th>\n",
       "      <td>2019-08-31</td>\n",
       "      <td>848.3</td>\n",
       "      <td>53212.0</td>\n",
       "    </tr>\n",
       "  </tbody>\n",
       "</table>\n",
       "</div>"
      ],
      "text/plain": [
       "         date  revenue  cum_revenue\n",
       "26 2019-08-27   2934.7      46539.0\n",
       "27 2019-08-28   1526.9      48065.9\n",
       "28 2019-08-29   3068.9      51134.8\n",
       "29 2019-08-30   1228.9      52363.7\n",
       "30 2019-08-31    848.3      53212.0"
      ]
     },
     "metadata": {},
     "output_type": "display_data"
    },
    {
     "data": {
      "text/html": [
       "<div>\n",
       "<style scoped>\n",
       "    .dataframe tbody tr th:only-of-type {\n",
       "        vertical-align: middle;\n",
       "    }\n",
       "\n",
       "    .dataframe tbody tr th {\n",
       "        vertical-align: top;\n",
       "    }\n",
       "\n",
       "    .dataframe thead th {\n",
       "        text-align: right;\n",
       "    }\n",
       "</style>\n",
       "<table border=\"1\" class=\"dataframe\">\n",
       "  <thead>\n",
       "    <tr style=\"text-align: right;\">\n",
       "      <th></th>\n",
       "      <th>date</th>\n",
       "      <th>revenue</th>\n",
       "      <th>cum_revenue</th>\n",
       "    </tr>\n",
       "  </thead>\n",
       "  <tbody>\n",
       "    <tr>\n",
       "      <th>26</th>\n",
       "      <td>2019-08-27</td>\n",
       "      <td>1746.9</td>\n",
       "      <td>71885.0</td>\n",
       "    </tr>\n",
       "    <tr>\n",
       "      <th>27</th>\n",
       "      <td>2019-08-28</td>\n",
       "      <td>1010.5</td>\n",
       "      <td>72895.5</td>\n",
       "    </tr>\n",
       "    <tr>\n",
       "      <th>28</th>\n",
       "      <td>2019-08-29</td>\n",
       "      <td>1681.2</td>\n",
       "      <td>74576.7</td>\n",
       "    </tr>\n",
       "    <tr>\n",
       "      <th>29</th>\n",
       "      <td>2019-08-30</td>\n",
       "      <td>3286.8</td>\n",
       "      <td>77863.5</td>\n",
       "    </tr>\n",
       "    <tr>\n",
       "      <th>30</th>\n",
       "      <td>2019-08-31</td>\n",
       "      <td>1787.7</td>\n",
       "      <td>79651.2</td>\n",
       "    </tr>\n",
       "  </tbody>\n",
       "</table>\n",
       "</div>"
      ],
      "text/plain": [
       "         date  revenue  cum_revenue\n",
       "26 2019-08-27   1746.9      71885.0\n",
       "27 2019-08-28   1010.5      72895.5\n",
       "28 2019-08-29   1681.2      74576.7\n",
       "29 2019-08-30   3286.8      77863.5\n",
       "30 2019-08-31   1787.7      79651.2"
      ]
     },
     "metadata": {},
     "output_type": "display_data"
    }
   ],
   "source": [
    "# calculating the cumulative revenue\n",
    "a_grouped_date['cum_revenue'] = a_grouped_date['revenue'].cumsum()\n",
    "b_grouped_date['cum_revenue'] = b_grouped_date['revenue'].cumsum()\n",
    "display(a_grouped_date.tail())\n",
    "display(b_grouped_date.tail())"
   ]
  },
  {
   "cell_type": "markdown",
   "metadata": {},
   "source": [
    "**Appearently, group B did better than group A. Lets see why:**"
   ]
  },
  {
   "cell_type": "code",
   "execution_count": 20,
   "metadata": {},
   "outputs": [
    {
     "data": {
      "image/png": "[encoded data removed]",
      "text/plain": [
       "<Figure size 1080x432 with 1 Axes>"
      ]
     },
     "metadata": {
      "needs_background": "light"
     },
     "output_type": "display_data"
    }
   ],
   "source": [
    "# drawing a graph to see more precisely how group B beat group A\n",
    "plt.rcParams[\"figure.figsize\"] = (15,6)\n",
    "plt.plot(a_grouped_date['date'], a_grouped_date['cum_revenue'], label='A')\n",
    "plt.plot(b_grouped_date['date'], b_grouped_date['cum_revenue'], label='B')\n",
    "plt.legend()\n",
    "plt.grid()"
   ]
  },
  {
   "cell_type": "markdown",
   "metadata": {},
   "source": [
    "What we missed by looking at the last 5 rows of each DF's cumulative revenue was the jump that B made between August 17th and August 21st. Meaning: B beat A due to one day, could be a day full of orders or it could simply be a normal day that had one abnormally large order. To find out we need to continue investigating.\n",
    "\n",
    "**Next:** We'll calculate the **cumulative average order size by group**. This will give us more insight about the situation.\n",
    "#### Cumulative average order size"
   ]
  },
  {
   "cell_type": "markdown",
   "metadata": {},
   "source": [
    "<div class=\"alert alert-block alert-success\">\n",
    "<b>Reviewer's comment v1:</b>\n",
    "    \n",
    "Very nice data visualization.\n",
    "\n",
    "It is a matter of taste, but you can also use `plt.grid()` to add grid to your graph and rotate x-axis ticks.\n",
    "    \n",
    "In order not to show auxiliary python outputs like \"matplotlib.axes._subplots.AxesSubplot at 0x7f5feaf7fc90 ', you can add a semicolon or plt.show () at the end of the line.\n",
    "    \n",
    "<div class=\"alert alert-info\"> <b>Student comments:</b> \n",
    "    Yep, looks much better!</div> "
   ]
  },
  {
   "cell_type": "markdown",
   "metadata": {},
   "source": [
    "<div class=\"alert alert-block alert-success\">\n",
    "<b>Reviewer's comment v2:</b>\n",
    "    \n",
    "🙌"
   ]
  },
  {
   "cell_type": "code",
   "execution_count": 21,
   "metadata": {},
   "outputs": [],
   "source": [
    "# below we'll create a second groupby df by date with transcation counts and revenue sum\n",
    "a_grouped_date_nd = a_group.groupby('date').agg({'visitorId':'count','revenue':'sum'}).reset_index()\n",
    "b_grouped_date_nd = b_group.groupby('date').agg({'visitorId':'count','revenue':'sum'}).reset_index()\n",
    "\n",
    "a_grouped_date_nd.columns = ['date', 'total_orders', 'revenue']\n",
    "b_grouped_date_nd.columns = ['date', 'total_orders', 'revenue']"
   ]
  },
  {
   "cell_type": "code",
   "execution_count": 22,
   "metadata": {},
   "outputs": [],
   "source": [
    "# calculating cumulative revenue again\n",
    "a_grouped_date_nd['cum_revenue'] = a_grouped_date_nd['revenue'].cumsum()\n",
    "b_grouped_date_nd['cum_revenue'] = b_grouped_date_nd['revenue'].cumsum()"
   ]
  },
  {
   "cell_type": "code",
   "execution_count": 23,
   "metadata": {},
   "outputs": [],
   "source": [
    "# calculating cumulate orders\n",
    "a_grouped_date_nd['cum_orders'] = a_grouped_date_nd['total_orders'].cumsum()\n",
    "b_grouped_date_nd['cum_orders'] = b_grouped_date_nd['total_orders'].cumsum()"
   ]
  },
  {
   "cell_type": "code",
   "execution_count": 24,
   "metadata": {},
   "outputs": [
    {
     "data": {
      "text/html": [
       "<div>\n",
       "<style scoped>\n",
       "    .dataframe tbody tr th:only-of-type {\n",
       "        vertical-align: middle;\n",
       "    }\n",
       "\n",
       "    .dataframe tbody tr th {\n",
       "        vertical-align: top;\n",
       "    }\n",
       "\n",
       "    .dataframe thead th {\n",
       "        text-align: right;\n",
       "    }\n",
       "</style>\n",
       "<table border=\"1\" class=\"dataframe\">\n",
       "  <thead>\n",
       "    <tr style=\"text-align: right;\">\n",
       "      <th></th>\n",
       "      <th>date</th>\n",
       "      <th>total_orders</th>\n",
       "      <th>revenue</th>\n",
       "      <th>cum_revenue</th>\n",
       "      <th>cum_orders</th>\n",
       "      <th>cum_avg_size</th>\n",
       "    </tr>\n",
       "  </thead>\n",
       "  <tbody>\n",
       "    <tr>\n",
       "      <th>23</th>\n",
       "      <td>2019-08-24</td>\n",
       "      <td>13</td>\n",
       "      <td>1912.1</td>\n",
       "      <td>40321.3</td>\n",
       "      <td>372</td>\n",
       "      <td>108.390591</td>\n",
       "    </tr>\n",
       "    <tr>\n",
       "      <th>24</th>\n",
       "      <td>2019-08-25</td>\n",
       "      <td>8</td>\n",
       "      <td>818.2</td>\n",
       "      <td>41139.5</td>\n",
       "      <td>380</td>\n",
       "      <td>108.261842</td>\n",
       "    </tr>\n",
       "    <tr>\n",
       "      <th>25</th>\n",
       "      <td>2019-08-26</td>\n",
       "      <td>16</td>\n",
       "      <td>2464.8</td>\n",
       "      <td>43604.3</td>\n",
       "      <td>396</td>\n",
       "      <td>110.111869</td>\n",
       "    </tr>\n",
       "    <tr>\n",
       "      <th>26</th>\n",
       "      <td>2019-08-27</td>\n",
       "      <td>23</td>\n",
       "      <td>2934.7</td>\n",
       "      <td>46539.0</td>\n",
       "      <td>419</td>\n",
       "      <td>111.071599</td>\n",
       "    </tr>\n",
       "    <tr>\n",
       "      <th>27</th>\n",
       "      <td>2019-08-28</td>\n",
       "      <td>15</td>\n",
       "      <td>1526.9</td>\n",
       "      <td>48065.9</td>\n",
       "      <td>434</td>\n",
       "      <td>110.750922</td>\n",
       "    </tr>\n",
       "    <tr>\n",
       "      <th>28</th>\n",
       "      <td>2019-08-29</td>\n",
       "      <td>17</td>\n",
       "      <td>3068.9</td>\n",
       "      <td>51134.8</td>\n",
       "      <td>451</td>\n",
       "      <td>113.380931</td>\n",
       "    </tr>\n",
       "    <tr>\n",
       "      <th>29</th>\n",
       "      <td>2019-08-30</td>\n",
       "      <td>9</td>\n",
       "      <td>1228.9</td>\n",
       "      <td>52363.7</td>\n",
       "      <td>460</td>\n",
       "      <td>113.834130</td>\n",
       "    </tr>\n",
       "    <tr>\n",
       "      <th>30</th>\n",
       "      <td>2019-08-31</td>\n",
       "      <td>8</td>\n",
       "      <td>848.3</td>\n",
       "      <td>53212.0</td>\n",
       "      <td>468</td>\n",
       "      <td>113.700855</td>\n",
       "    </tr>\n",
       "  </tbody>\n",
       "</table>\n",
       "</div>"
      ],
      "text/plain": [
       "         date  total_orders  revenue  cum_revenue  cum_orders  cum_avg_size\n",
       "23 2019-08-24            13   1912.1      40321.3         372    108.390591\n",
       "24 2019-08-25             8    818.2      41139.5         380    108.261842\n",
       "25 2019-08-26            16   2464.8      43604.3         396    110.111869\n",
       "26 2019-08-27            23   2934.7      46539.0         419    111.071599\n",
       "27 2019-08-28            15   1526.9      48065.9         434    110.750922\n",
       "28 2019-08-29            17   3068.9      51134.8         451    113.380931\n",
       "29 2019-08-30             9   1228.9      52363.7         460    113.834130\n",
       "30 2019-08-31             8    848.3      53212.0         468    113.700855"
      ]
     },
     "metadata": {},
     "output_type": "display_data"
    },
    {
     "data": {
      "text/html": [
       "<div>\n",
       "<style scoped>\n",
       "    .dataframe tbody tr th:only-of-type {\n",
       "        vertical-align: middle;\n",
       "    }\n",
       "\n",
       "    .dataframe tbody tr th {\n",
       "        vertical-align: top;\n",
       "    }\n",
       "\n",
       "    .dataframe thead th {\n",
       "        text-align: right;\n",
       "    }\n",
       "</style>\n",
       "<table border=\"1\" class=\"dataframe\">\n",
       "  <thead>\n",
       "    <tr style=\"text-align: right;\">\n",
       "      <th></th>\n",
       "      <th>date</th>\n",
       "      <th>total_orders</th>\n",
       "      <th>revenue</th>\n",
       "      <th>cum_revenue</th>\n",
       "      <th>cum_orders</th>\n",
       "      <th>cum_avg_size</th>\n",
       "    </tr>\n",
       "  </thead>\n",
       "  <tbody>\n",
       "    <tr>\n",
       "      <th>23</th>\n",
       "      <td>2019-08-24</td>\n",
       "      <td>14</td>\n",
       "      <td>1405.7</td>\n",
       "      <td>66138.5</td>\n",
       "      <td>428</td>\n",
       "      <td>154.529206</td>\n",
       "    </tr>\n",
       "    <tr>\n",
       "      <th>24</th>\n",
       "      <td>2019-08-25</td>\n",
       "      <td>12</td>\n",
       "      <td>1255.3</td>\n",
       "      <td>67393.8</td>\n",
       "      <td>440</td>\n",
       "      <td>153.167727</td>\n",
       "    </tr>\n",
       "    <tr>\n",
       "      <th>25</th>\n",
       "      <td>2019-08-26</td>\n",
       "      <td>22</td>\n",
       "      <td>2744.3</td>\n",
       "      <td>70138.1</td>\n",
       "      <td>462</td>\n",
       "      <td>151.814069</td>\n",
       "    </tr>\n",
       "    <tr>\n",
       "      <th>26</th>\n",
       "      <td>2019-08-27</td>\n",
       "      <td>11</td>\n",
       "      <td>1746.9</td>\n",
       "      <td>71885.0</td>\n",
       "      <td>473</td>\n",
       "      <td>151.976744</td>\n",
       "    </tr>\n",
       "    <tr>\n",
       "      <th>27</th>\n",
       "      <td>2019-08-28</td>\n",
       "      <td>22</td>\n",
       "      <td>1010.5</td>\n",
       "      <td>72895.5</td>\n",
       "      <td>495</td>\n",
       "      <td>147.263636</td>\n",
       "    </tr>\n",
       "    <tr>\n",
       "      <th>28</th>\n",
       "      <td>2019-08-29</td>\n",
       "      <td>15</td>\n",
       "      <td>1681.2</td>\n",
       "      <td>74576.7</td>\n",
       "      <td>510</td>\n",
       "      <td>146.228824</td>\n",
       "    </tr>\n",
       "    <tr>\n",
       "      <th>29</th>\n",
       "      <td>2019-08-30</td>\n",
       "      <td>21</td>\n",
       "      <td>3286.8</td>\n",
       "      <td>77863.5</td>\n",
       "      <td>531</td>\n",
       "      <td>146.635593</td>\n",
       "    </tr>\n",
       "    <tr>\n",
       "      <th>30</th>\n",
       "      <td>2019-08-31</td>\n",
       "      <td>17</td>\n",
       "      <td>1787.7</td>\n",
       "      <td>79651.2</td>\n",
       "      <td>548</td>\n",
       "      <td>145.348905</td>\n",
       "    </tr>\n",
       "  </tbody>\n",
       "</table>\n",
       "</div>"
      ],
      "text/plain": [
       "         date  total_orders  revenue  cum_revenue  cum_orders  cum_avg_size\n",
       "23 2019-08-24            14   1405.7      66138.5         428    154.529206\n",
       "24 2019-08-25            12   1255.3      67393.8         440    153.167727\n",
       "25 2019-08-26            22   2744.3      70138.1         462    151.814069\n",
       "26 2019-08-27            11   1746.9      71885.0         473    151.976744\n",
       "27 2019-08-28            22   1010.5      72895.5         495    147.263636\n",
       "28 2019-08-29            15   1681.2      74576.7         510    146.228824\n",
       "29 2019-08-30            21   3286.8      77863.5         531    146.635593\n",
       "30 2019-08-31            17   1787.7      79651.2         548    145.348905"
      ]
     },
     "metadata": {},
     "output_type": "display_data"
    }
   ],
   "source": [
    "# calculating avg order size\n",
    "a_grouped_date_nd['cum_avg_size'] = a_grouped_date_nd['cum_revenue']/a_grouped_date_nd['cum_orders']\n",
    "b_grouped_date_nd['cum_avg_size'] = b_grouped_date_nd['cum_revenue']/b_grouped_date_nd['cum_orders']\n",
    "display(a_grouped_date_nd.tail(8))\n",
    "display(b_grouped_date_nd.tail(8))"
   ]
  },
  {
   "cell_type": "markdown",
   "metadata": {},
   "source": [
    "Looking at the last 8 rows of each group DF, we don't see anything suspecious. Everything seems to be fine. Lets have a look a graph describing our data:"
   ]
  },
  {
   "cell_type": "code",
   "execution_count": 25,
   "metadata": {},
   "outputs": [
    {
     "data": {
      "text/plain": [
       "<matplotlib.legend.Legend at 0x7f26e2824580>"
      ]
     },
     "execution_count": 25,
     "metadata": {},
     "output_type": "execute_result"
    },
    {
     "data": {
      "image/png": "[encoded data removed]",
      "text/plain": [
       "<Figure size 1080x432 with 1 Axes>"
      ]
     },
     "metadata": {
      "needs_background": "light"
     },
     "output_type": "display_data"
    }
   ],
   "source": [
    "plt.plot(a_grouped_date_nd['date'], a_grouped_date_nd['revenue'], label='A')\n",
    "plt.plot(b_grouped_date_nd['date'], b_grouped_date_nd['revenue'], label='B')\n",
    "plt.legend()"
   ]
  },
  {
   "cell_type": "code",
   "execution_count": 26,
   "metadata": {},
   "outputs": [
    {
     "data": {
      "text/plain": [
       "<matplotlib.legend.Legend at 0x7f26e29c5b50>"
      ]
     },
     "execution_count": 26,
     "metadata": {},
     "output_type": "execute_result"
    },
    {
     "data": {
      "image/png": "[encoded data removed]",
      "text/plain": [
       "<Figure size 1080x432 with 1 Axes>"
      ]
     },
     "metadata": {
      "needs_background": "light"
     },
     "output_type": "display_data"
    }
   ],
   "source": [
    "plt.plot(a_grouped_date_nd['date'], a_grouped_date_nd['cum_avg_size'], label='A')\n",
    "plt.plot(b_grouped_date_nd['date'], b_grouped_date_nd['cum_avg_size'], label='B')\n",
    "plt.legend()"
   ]
  },
  {
   "cell_type": "markdown",
   "metadata": {},
   "source": [
    "Alright, seems like we figured this out. Looking at the revenue by date graph, we can see that between August 17th and August 21st there was a massive spike in revenue. Looking at the average order size, we can see that at the same dates we have a massive spike as well.\n",
    "\n",
    "Average order size was calculated with **Revenue/Orders Count** formula, now since both graphs showed a spike at these dates then that means that the **orders count** didn't change alot or increase massively because if it did then we wouldn't be able to see the spike in the order size graph (if the numerator grew massively [**revenue**] and the value of [**revenue/orders count**] grew massively then that means that the denominator [**orders count**] didn't grow as much or stayed the same). What this suggests is that we had some massive outliers during these dates."
   ]
  },
  {
   "cell_type": "markdown",
   "metadata": {},
   "source": [
    "<div class=\"alert alert-block alert-success\">\n",
    "<b>Reviewer's comment v1:</b>\n",
    "    \n",
    "Once again everything is correct here."
   ]
  },
  {
   "cell_type": "markdown",
   "metadata": {},
   "source": [
    "**To continue our study:** we are going to show a graph of the relative difference in cumulative average order size for group B compared with group A:"
   ]
  },
  {
   "cell_type": "code",
   "execution_count": 27,
   "metadata": {},
   "outputs": [
    {
     "data": {
      "text/plain": [
       "<matplotlib.lines.Line2D at 0x7f26e298b3a0>"
      ]
     },
     "execution_count": 27,
     "metadata": {},
     "output_type": "execute_result"
    },
    {
     "data": {
      "image/png": "[encoded data removed]",
      "text/plain": [
       "<Figure size 1080x432 with 1 Axes>"
      ]
     },
     "metadata": {
      "needs_background": "light"
     },
     "output_type": "display_data"
    }
   ],
   "source": [
    "relative_cumul_av_purch_ba = (b_grouped_date_nd['cum_avg_size'] / a_grouped_date_nd['cum_avg_size']) - 1\n",
    "plt.plot(b_grouped_date_nd['date'], relative_cumul_av_purch_ba)\n",
    "plt.axhline(y=0, color='black', linestyle='--')"
   ]
  },
  {
   "cell_type": "markdown",
   "metadata": {},
   "source": [
    "The relative difference of the groups means how different were values from each others during the testing period. A relative difference of 0 means that the values weren't different. We can see that at the beginning the relative difference wasn't very stable but then it slowly stabilized reaching 0 twice until the August the 18th were the relative difference grew bigger and stayed that way till the end of the test period."
   ]
  },
  {
   "cell_type": "markdown",
   "metadata": {},
   "source": [
    "<div class=\"alert alert-block alert-success\">\n",
    "<b>Reviewer's comment v1:</b>\n",
    "    \n",
    "Indeed, it could be helpful to study data without outliers. Also, interesting to note that difference has been stabilized in the last couple of days."
   ]
  },
  {
   "cell_type": "markdown",
   "metadata": {},
   "source": [
    "#### Conversion rates\n",
    "\n",
    "We'll calculate each group's conversion rate as the ratio of orders to the number of visits for each day. Then plot the daily conversion rates of the two groups and describe the difference."
   ]
  },
  {
   "cell_type": "code",
   "execution_count": 28,
   "metadata": {},
   "outputs": [
    {
     "data": {
      "text/html": [
       "<div>\n",
       "<style scoped>\n",
       "    .dataframe tbody tr th:only-of-type {\n",
       "        vertical-align: middle;\n",
       "    }\n",
       "\n",
       "    .dataframe tbody tr th {\n",
       "        vertical-align: top;\n",
       "    }\n",
       "\n",
       "    .dataframe thead th {\n",
       "        text-align: right;\n",
       "    }\n",
       "</style>\n",
       "<table border=\"1\" class=\"dataframe\">\n",
       "  <thead>\n",
       "    <tr style=\"text-align: right;\">\n",
       "      <th></th>\n",
       "      <th>date</th>\n",
       "      <th>group</th>\n",
       "      <th>visits</th>\n",
       "    </tr>\n",
       "  </thead>\n",
       "  <tbody>\n",
       "    <tr>\n",
       "      <th>25</th>\n",
       "      <td>2019-08-26</td>\n",
       "      <td>A</td>\n",
       "      <td>722</td>\n",
       "    </tr>\n",
       "    <tr>\n",
       "      <th>26</th>\n",
       "      <td>2019-08-27</td>\n",
       "      <td>A</td>\n",
       "      <td>711</td>\n",
       "    </tr>\n",
       "    <tr>\n",
       "      <th>27</th>\n",
       "      <td>2019-08-28</td>\n",
       "      <td>A</td>\n",
       "      <td>594</td>\n",
       "    </tr>\n",
       "    <tr>\n",
       "      <th>28</th>\n",
       "      <td>2019-08-29</td>\n",
       "      <td>A</td>\n",
       "      <td>577</td>\n",
       "    </tr>\n",
       "    <tr>\n",
       "      <th>29</th>\n",
       "      <td>2019-08-30</td>\n",
       "      <td>A</td>\n",
       "      <td>490</td>\n",
       "    </tr>\n",
       "    <tr>\n",
       "      <th>30</th>\n",
       "      <td>2019-08-31</td>\n",
       "      <td>A</td>\n",
       "      <td>699</td>\n",
       "    </tr>\n",
       "  </tbody>\n",
       "</table>\n",
       "</div>"
      ],
      "text/plain": [
       "         date group  visits\n",
       "25 2019-08-26     A     722\n",
       "26 2019-08-27     A     711\n",
       "27 2019-08-28     A     594\n",
       "28 2019-08-29     A     577\n",
       "29 2019-08-30     A     490\n",
       "30 2019-08-31     A     699"
      ]
     },
     "metadata": {},
     "output_type": "display_data"
    },
    {
     "data": {
      "text/html": [
       "<div>\n",
       "<style scoped>\n",
       "    .dataframe tbody tr th:only-of-type {\n",
       "        vertical-align: middle;\n",
       "    }\n",
       "\n",
       "    .dataframe tbody tr th {\n",
       "        vertical-align: top;\n",
       "    }\n",
       "\n",
       "    .dataframe thead th {\n",
       "        text-align: right;\n",
       "    }\n",
       "</style>\n",
       "<table border=\"1\" class=\"dataframe\">\n",
       "  <thead>\n",
       "    <tr style=\"text-align: right;\">\n",
       "      <th></th>\n",
       "      <th>date</th>\n",
       "      <th>group</th>\n",
       "      <th>visits</th>\n",
       "    </tr>\n",
       "  </thead>\n",
       "  <tbody>\n",
       "    <tr>\n",
       "      <th>22</th>\n",
       "      <td>2019-08-23</td>\n",
       "      <td>B</td>\n",
       "      <td>546</td>\n",
       "    </tr>\n",
       "    <tr>\n",
       "      <th>23</th>\n",
       "      <td>2019-08-24</td>\n",
       "      <td>B</td>\n",
       "      <td>378</td>\n",
       "    </tr>\n",
       "    <tr>\n",
       "      <th>24</th>\n",
       "      <td>2019-08-25</td>\n",
       "      <td>B</td>\n",
       "      <td>679</td>\n",
       "    </tr>\n",
       "    <tr>\n",
       "      <th>25</th>\n",
       "      <td>2019-08-26</td>\n",
       "      <td>B</td>\n",
       "      <td>676</td>\n",
       "    </tr>\n",
       "    <tr>\n",
       "      <th>26</th>\n",
       "      <td>2019-08-27</td>\n",
       "      <td>B</td>\n",
       "      <td>720</td>\n",
       "    </tr>\n",
       "    <tr>\n",
       "      <th>27</th>\n",
       "      <td>2019-08-28</td>\n",
       "      <td>B</td>\n",
       "      <td>654</td>\n",
       "    </tr>\n",
       "    <tr>\n",
       "      <th>28</th>\n",
       "      <td>2019-08-29</td>\n",
       "      <td>B</td>\n",
       "      <td>531</td>\n",
       "    </tr>\n",
       "    <tr>\n",
       "      <th>29</th>\n",
       "      <td>2019-08-30</td>\n",
       "      <td>B</td>\n",
       "      <td>490</td>\n",
       "    </tr>\n",
       "    <tr>\n",
       "      <th>30</th>\n",
       "      <td>2019-08-31</td>\n",
       "      <td>B</td>\n",
       "      <td>718</td>\n",
       "    </tr>\n",
       "  </tbody>\n",
       "</table>\n",
       "</div>"
      ],
      "text/plain": [
       "         date group  visits\n",
       "22 2019-08-23     B     546\n",
       "23 2019-08-24     B     378\n",
       "24 2019-08-25     B     679\n",
       "25 2019-08-26     B     676\n",
       "26 2019-08-27     B     720\n",
       "27 2019-08-28     B     654\n",
       "28 2019-08-29     B     531\n",
       "29 2019-08-30     B     490\n",
       "30 2019-08-31     B     718"
      ]
     },
     "metadata": {},
     "output_type": "display_data"
    }
   ],
   "source": [
    "# dividing visits into two groups\n",
    "visits_a = visits.query('group == \"A\"')\n",
    "visits_b = visits.query('group == \"B\"')\n",
    "visits_b.reset_index(drop=True, inplace=True)\n",
    "display(visits_a.tail(6))\n",
    "display(visits_b.tail(9))"
   ]
  },
  {
   "cell_type": "code",
   "execution_count": 29,
   "metadata": {},
   "outputs": [],
   "source": [
    "# mergings orders with visits to have all data in one table\n",
    "a_grouped_date_nd = pd.merge(a_grouped_date_nd, visits_a, how = 'inner', on = ['date'])\n",
    "b_grouped_date_nd = pd.merge(b_grouped_date_nd, visits_b, how = 'inner', on = ['date'])"
   ]
  },
  {
   "cell_type": "code",
   "execution_count": 30,
   "metadata": {},
   "outputs": [
    {
     "data": {
      "text/html": [
       "<div>\n",
       "<style scoped>\n",
       "    .dataframe tbody tr th:only-of-type {\n",
       "        vertical-align: middle;\n",
       "    }\n",
       "\n",
       "    .dataframe tbody tr th {\n",
       "        vertical-align: top;\n",
       "    }\n",
       "\n",
       "    .dataframe thead th {\n",
       "        text-align: right;\n",
       "    }\n",
       "</style>\n",
       "<table border=\"1\" class=\"dataframe\">\n",
       "  <thead>\n",
       "    <tr style=\"text-align: right;\">\n",
       "      <th></th>\n",
       "      <th>date</th>\n",
       "      <th>total_orders</th>\n",
       "      <th>revenue</th>\n",
       "      <th>cum_revenue</th>\n",
       "      <th>cum_orders</th>\n",
       "      <th>cum_avg_size</th>\n",
       "      <th>group</th>\n",
       "      <th>visits</th>\n",
       "    </tr>\n",
       "  </thead>\n",
       "  <tbody>\n",
       "    <tr>\n",
       "      <th>0</th>\n",
       "      <td>2019-08-01</td>\n",
       "      <td>23</td>\n",
       "      <td>2266.6</td>\n",
       "      <td>2266.6</td>\n",
       "      <td>23</td>\n",
       "      <td>98.547826</td>\n",
       "      <td>A</td>\n",
       "      <td>719</td>\n",
       "    </tr>\n",
       "    <tr>\n",
       "      <th>1</th>\n",
       "      <td>2019-08-02</td>\n",
       "      <td>19</td>\n",
       "      <td>1468.3</td>\n",
       "      <td>3734.9</td>\n",
       "      <td>42</td>\n",
       "      <td>88.926190</td>\n",
       "      <td>A</td>\n",
       "      <td>619</td>\n",
       "    </tr>\n",
       "    <tr>\n",
       "      <th>2</th>\n",
       "      <td>2019-08-03</td>\n",
       "      <td>24</td>\n",
       "      <td>1815.2</td>\n",
       "      <td>5550.1</td>\n",
       "      <td>66</td>\n",
       "      <td>84.092424</td>\n",
       "      <td>A</td>\n",
       "      <td>507</td>\n",
       "    </tr>\n",
       "    <tr>\n",
       "      <th>3</th>\n",
       "      <td>2019-08-04</td>\n",
       "      <td>11</td>\n",
       "      <td>675.5</td>\n",
       "      <td>6225.6</td>\n",
       "      <td>77</td>\n",
       "      <td>80.851948</td>\n",
       "      <td>A</td>\n",
       "      <td>717</td>\n",
       "    </tr>\n",
       "    <tr>\n",
       "      <th>4</th>\n",
       "      <td>2019-08-05</td>\n",
       "      <td>22</td>\n",
       "      <td>1398.0</td>\n",
       "      <td>7623.6</td>\n",
       "      <td>99</td>\n",
       "      <td>77.006061</td>\n",
       "      <td>A</td>\n",
       "      <td>756</td>\n",
       "    </tr>\n",
       "  </tbody>\n",
       "</table>\n",
       "</div>"
      ],
      "text/plain": [
       "        date  total_orders  revenue  cum_revenue  cum_orders  cum_avg_size  \\\n",
       "0 2019-08-01            23   2266.6       2266.6          23     98.547826   \n",
       "1 2019-08-02            19   1468.3       3734.9          42     88.926190   \n",
       "2 2019-08-03            24   1815.2       5550.1          66     84.092424   \n",
       "3 2019-08-04            11    675.5       6225.6          77     80.851948   \n",
       "4 2019-08-05            22   1398.0       7623.6          99     77.006061   \n",
       "\n",
       "  group  visits  \n",
       "0     A     719  \n",
       "1     A     619  \n",
       "2     A     507  \n",
       "3     A     717  \n",
       "4     A     756  "
      ]
     },
     "metadata": {},
     "output_type": "display_data"
    },
    {
     "data": {
      "text/html": [
       "<div>\n",
       "<style scoped>\n",
       "    .dataframe tbody tr th:only-of-type {\n",
       "        vertical-align: middle;\n",
       "    }\n",
       "\n",
       "    .dataframe tbody tr th {\n",
       "        vertical-align: top;\n",
       "    }\n",
       "\n",
       "    .dataframe thead th {\n",
       "        text-align: right;\n",
       "    }\n",
       "</style>\n",
       "<table border=\"1\" class=\"dataframe\">\n",
       "  <thead>\n",
       "    <tr style=\"text-align: right;\">\n",
       "      <th></th>\n",
       "      <th>date</th>\n",
       "      <th>total_orders</th>\n",
       "      <th>revenue</th>\n",
       "      <th>cum_revenue</th>\n",
       "      <th>cum_orders</th>\n",
       "      <th>cum_avg_size</th>\n",
       "      <th>group</th>\n",
       "      <th>visits</th>\n",
       "    </tr>\n",
       "  </thead>\n",
       "  <tbody>\n",
       "    <tr>\n",
       "      <th>0</th>\n",
       "      <td>2019-08-01</td>\n",
       "      <td>17</td>\n",
       "      <td>967.2</td>\n",
       "      <td>967.2</td>\n",
       "      <td>17</td>\n",
       "      <td>56.894118</td>\n",
       "      <td>B</td>\n",
       "      <td>713</td>\n",
       "    </tr>\n",
       "    <tr>\n",
       "      <th>1</th>\n",
       "      <td>2019-08-02</td>\n",
       "      <td>23</td>\n",
       "      <td>2568.1</td>\n",
       "      <td>3535.3</td>\n",
       "      <td>40</td>\n",
       "      <td>88.382500</td>\n",
       "      <td>B</td>\n",
       "      <td>581</td>\n",
       "    </tr>\n",
       "    <tr>\n",
       "      <th>2</th>\n",
       "      <td>2019-08-03</td>\n",
       "      <td>14</td>\n",
       "      <td>1071.6</td>\n",
       "      <td>4606.9</td>\n",
       "      <td>54</td>\n",
       "      <td>85.312963</td>\n",
       "      <td>B</td>\n",
       "      <td>509</td>\n",
       "    </tr>\n",
       "    <tr>\n",
       "      <th>3</th>\n",
       "      <td>2019-08-04</td>\n",
       "      <td>14</td>\n",
       "      <td>1531.6</td>\n",
       "      <td>6138.5</td>\n",
       "      <td>68</td>\n",
       "      <td>90.272059</td>\n",
       "      <td>B</td>\n",
       "      <td>770</td>\n",
       "    </tr>\n",
       "    <tr>\n",
       "      <th>4</th>\n",
       "      <td>2019-08-05</td>\n",
       "      <td>21</td>\n",
       "      <td>1449.3</td>\n",
       "      <td>7587.8</td>\n",
       "      <td>89</td>\n",
       "      <td>85.256180</td>\n",
       "      <td>B</td>\n",
       "      <td>707</td>\n",
       "    </tr>\n",
       "  </tbody>\n",
       "</table>\n",
       "</div>"
      ],
      "text/plain": [
       "        date  total_orders  revenue  cum_revenue  cum_orders  cum_avg_size  \\\n",
       "0 2019-08-01            17    967.2        967.2          17     56.894118   \n",
       "1 2019-08-02            23   2568.1       3535.3          40     88.382500   \n",
       "2 2019-08-03            14   1071.6       4606.9          54     85.312963   \n",
       "3 2019-08-04            14   1531.6       6138.5          68     90.272059   \n",
       "4 2019-08-05            21   1449.3       7587.8          89     85.256180   \n",
       "\n",
       "  group  visits  \n",
       "0     B     713  \n",
       "1     B     581  \n",
       "2     B     509  \n",
       "3     B     770  \n",
       "4     B     707  "
      ]
     },
     "metadata": {},
     "output_type": "display_data"
    }
   ],
   "source": [
    "display(a_grouped_date_nd.head())\n",
    "display(b_grouped_date_nd.head())"
   ]
  },
  {
   "cell_type": "code",
   "execution_count": 31,
   "metadata": {
    "scrolled": false
   },
   "outputs": [
    {
     "data": {
      "text/html": [
       "<div>\n",
       "<style scoped>\n",
       "    .dataframe tbody tr th:only-of-type {\n",
       "        vertical-align: middle;\n",
       "    }\n",
       "\n",
       "    .dataframe tbody tr th {\n",
       "        vertical-align: top;\n",
       "    }\n",
       "\n",
       "    .dataframe thead th {\n",
       "        text-align: right;\n",
       "    }\n",
       "</style>\n",
       "<table border=\"1\" class=\"dataframe\">\n",
       "  <thead>\n",
       "    <tr style=\"text-align: right;\">\n",
       "      <th></th>\n",
       "      <th>date</th>\n",
       "      <th>total_orders</th>\n",
       "      <th>revenue</th>\n",
       "      <th>cum_revenue</th>\n",
       "      <th>cum_orders</th>\n",
       "      <th>cum_avg_size</th>\n",
       "      <th>group</th>\n",
       "      <th>visits</th>\n",
       "      <th>conversion</th>\n",
       "    </tr>\n",
       "  </thead>\n",
       "  <tbody>\n",
       "    <tr>\n",
       "      <th>22</th>\n",
       "      <td>2019-08-23</td>\n",
       "      <td>20</td>\n",
       "      <td>954.1</td>\n",
       "      <td>38409.2</td>\n",
       "      <td>359</td>\n",
       "      <td>106.989415</td>\n",
       "      <td>A</td>\n",
       "      <td>468</td>\n",
       "      <td>0.042735</td>\n",
       "    </tr>\n",
       "    <tr>\n",
       "      <th>16</th>\n",
       "      <td>2019-08-17</td>\n",
       "      <td>6</td>\n",
       "      <td>548.5</td>\n",
       "      <td>28770.1</td>\n",
       "      <td>265</td>\n",
       "      <td>108.566415</td>\n",
       "      <td>A</td>\n",
       "      <td>412</td>\n",
       "      <td>0.014563</td>\n",
       "    </tr>\n",
       "    <tr>\n",
       "      <th>6</th>\n",
       "      <td>2019-08-07</td>\n",
       "      <td>16</td>\n",
       "      <td>1942.0</td>\n",
       "      <td>10234.0</td>\n",
       "      <td>130</td>\n",
       "      <td>78.723077</td>\n",
       "      <td>A</td>\n",
       "      <td>644</td>\n",
       "      <td>0.024845</td>\n",
       "    </tr>\n",
       "    <tr>\n",
       "      <th>17</th>\n",
       "      <td>2019-08-18</td>\n",
       "      <td>13</td>\n",
       "      <td>965.6</td>\n",
       "      <td>29735.7</td>\n",
       "      <td>278</td>\n",
       "      <td>106.962950</td>\n",
       "      <td>A</td>\n",
       "      <td>668</td>\n",
       "      <td>0.019461</td>\n",
       "    </tr>\n",
       "    <tr>\n",
       "      <th>19</th>\n",
       "      <td>2019-08-20</td>\n",
       "      <td>10</td>\n",
       "      <td>936.0</td>\n",
       "      <td>33325.3</td>\n",
       "      <td>309</td>\n",
       "      <td>107.848867</td>\n",
       "      <td>A</td>\n",
       "      <td>575</td>\n",
       "      <td>0.017391</td>\n",
       "    </tr>\n",
       "    <tr>\n",
       "      <th>24</th>\n",
       "      <td>2019-08-25</td>\n",
       "      <td>8</td>\n",
       "      <td>818.2</td>\n",
       "      <td>41139.5</td>\n",
       "      <td>380</td>\n",
       "      <td>108.261842</td>\n",
       "      <td>A</td>\n",
       "      <td>621</td>\n",
       "      <td>0.012882</td>\n",
       "    </tr>\n",
       "  </tbody>\n",
       "</table>\n",
       "</div>"
      ],
      "text/plain": [
       "         date  total_orders  revenue  cum_revenue  cum_orders  cum_avg_size  \\\n",
       "22 2019-08-23            20    954.1      38409.2         359    106.989415   \n",
       "16 2019-08-17             6    548.5      28770.1         265    108.566415   \n",
       "6  2019-08-07            16   1942.0      10234.0         130     78.723077   \n",
       "17 2019-08-18            13    965.6      29735.7         278    106.962950   \n",
       "19 2019-08-20            10    936.0      33325.3         309    107.848867   \n",
       "24 2019-08-25             8    818.2      41139.5         380    108.261842   \n",
       "\n",
       "   group  visits  conversion  \n",
       "22     A     468    0.042735  \n",
       "16     A     412    0.014563  \n",
       "6      A     644    0.024845  \n",
       "17     A     668    0.019461  \n",
       "19     A     575    0.017391  \n",
       "24     A     621    0.012882  "
      ]
     },
     "metadata": {},
     "output_type": "display_data"
    },
    {
     "data": {
      "text/html": [
       "<div>\n",
       "<style scoped>\n",
       "    .dataframe tbody tr th:only-of-type {\n",
       "        vertical-align: middle;\n",
       "    }\n",
       "\n",
       "    .dataframe tbody tr th {\n",
       "        vertical-align: top;\n",
       "    }\n",
       "\n",
       "    .dataframe thead th {\n",
       "        text-align: right;\n",
       "    }\n",
       "</style>\n",
       "<table border=\"1\" class=\"dataframe\">\n",
       "  <thead>\n",
       "    <tr style=\"text-align: right;\">\n",
       "      <th></th>\n",
       "      <th>date</th>\n",
       "      <th>total_orders</th>\n",
       "      <th>revenue</th>\n",
       "      <th>cum_revenue</th>\n",
       "      <th>cum_orders</th>\n",
       "      <th>cum_avg_size</th>\n",
       "      <th>group</th>\n",
       "      <th>visits</th>\n",
       "      <th>conversion</th>\n",
       "    </tr>\n",
       "  </thead>\n",
       "  <tbody>\n",
       "    <tr>\n",
       "      <th>23</th>\n",
       "      <td>2019-08-24</td>\n",
       "      <td>14</td>\n",
       "      <td>1405.7</td>\n",
       "      <td>66138.5</td>\n",
       "      <td>428</td>\n",
       "      <td>154.529206</td>\n",
       "      <td>B</td>\n",
       "      <td>378</td>\n",
       "      <td>0.037037</td>\n",
       "    </tr>\n",
       "    <tr>\n",
       "      <th>11</th>\n",
       "      <td>2019-08-12</td>\n",
       "      <td>19</td>\n",
       "      <td>1657.8</td>\n",
       "      <td>22616.8</td>\n",
       "      <td>229</td>\n",
       "      <td>98.763319</td>\n",
       "      <td>B</td>\n",
       "      <td>543</td>\n",
       "      <td>0.034991</td>\n",
       "    </tr>\n",
       "    <tr>\n",
       "      <th>1</th>\n",
       "      <td>2019-08-02</td>\n",
       "      <td>23</td>\n",
       "      <td>2568.1</td>\n",
       "      <td>3535.3</td>\n",
       "      <td>40</td>\n",
       "      <td>88.382500</td>\n",
       "      <td>B</td>\n",
       "      <td>581</td>\n",
       "      <td>0.039587</td>\n",
       "    </tr>\n",
       "    <tr>\n",
       "      <th>7</th>\n",
       "      <td>2019-08-08</td>\n",
       "      <td>22</td>\n",
       "      <td>2379.9</td>\n",
       "      <td>16772.6</td>\n",
       "      <td>157</td>\n",
       "      <td>106.831847</td>\n",
       "      <td>B</td>\n",
       "      <td>654</td>\n",
       "      <td>0.033639</td>\n",
       "    </tr>\n",
       "    <tr>\n",
       "      <th>13</th>\n",
       "      <td>2019-08-14</td>\n",
       "      <td>14</td>\n",
       "      <td>1692.4</td>\n",
       "      <td>26183.7</td>\n",
       "      <td>263</td>\n",
       "      <td>99.557795</td>\n",
       "      <td>B</td>\n",
       "      <td>746</td>\n",
       "      <td>0.018767</td>\n",
       "    </tr>\n",
       "    <tr>\n",
       "      <th>24</th>\n",
       "      <td>2019-08-25</td>\n",
       "      <td>12</td>\n",
       "      <td>1255.3</td>\n",
       "      <td>67393.8</td>\n",
       "      <td>440</td>\n",
       "      <td>153.167727</td>\n",
       "      <td>B</td>\n",
       "      <td>679</td>\n",
       "      <td>0.017673</td>\n",
       "    </tr>\n",
       "    <tr>\n",
       "      <th>26</th>\n",
       "      <td>2019-08-27</td>\n",
       "      <td>11</td>\n",
       "      <td>1746.9</td>\n",
       "      <td>71885.0</td>\n",
       "      <td>473</td>\n",
       "      <td>151.976744</td>\n",
       "      <td>B</td>\n",
       "      <td>720</td>\n",
       "      <td>0.015278</td>\n",
       "    </tr>\n",
       "    <tr>\n",
       "      <th>4</th>\n",
       "      <td>2019-08-05</td>\n",
       "      <td>21</td>\n",
       "      <td>1449.3</td>\n",
       "      <td>7587.8</td>\n",
       "      <td>89</td>\n",
       "      <td>85.256180</td>\n",
       "      <td>B</td>\n",
       "      <td>707</td>\n",
       "      <td>0.029703</td>\n",
       "    </tr>\n",
       "    <tr>\n",
       "      <th>16</th>\n",
       "      <td>2019-08-17</td>\n",
       "      <td>13</td>\n",
       "      <td>1276.0</td>\n",
       "      <td>34116.2</td>\n",
       "      <td>320</td>\n",
       "      <td>106.613125</td>\n",
       "      <td>B</td>\n",
       "      <td>421</td>\n",
       "      <td>0.030879</td>\n",
       "    </tr>\n",
       "  </tbody>\n",
       "</table>\n",
       "</div>"
      ],
      "text/plain": [
       "         date  total_orders  revenue  cum_revenue  cum_orders  cum_avg_size  \\\n",
       "23 2019-08-24            14   1405.7      66138.5         428    154.529206   \n",
       "11 2019-08-12            19   1657.8      22616.8         229     98.763319   \n",
       "1  2019-08-02            23   2568.1       3535.3          40     88.382500   \n",
       "7  2019-08-08            22   2379.9      16772.6         157    106.831847   \n",
       "13 2019-08-14            14   1692.4      26183.7         263     99.557795   \n",
       "24 2019-08-25            12   1255.3      67393.8         440    153.167727   \n",
       "26 2019-08-27            11   1746.9      71885.0         473    151.976744   \n",
       "4  2019-08-05            21   1449.3       7587.8          89     85.256180   \n",
       "16 2019-08-17            13   1276.0      34116.2         320    106.613125   \n",
       "\n",
       "   group  visits  conversion  \n",
       "23     B     378    0.037037  \n",
       "11     B     543    0.034991  \n",
       "1      B     581    0.039587  \n",
       "7      B     654    0.033639  \n",
       "13     B     746    0.018767  \n",
       "24     B     679    0.017673  \n",
       "26     B     720    0.015278  \n",
       "4      B     707    0.029703  \n",
       "16     B     421    0.030879  "
      ]
     },
     "metadata": {},
     "output_type": "display_data"
    }
   ],
   "source": [
    "# calculating the conversion rate\n",
    "a_grouped_date_nd['conversion'] = a_grouped_date_nd['total_orders'] / a_grouped_date_nd['visits']\n",
    "b_grouped_date_nd['conversion'] = b_grouped_date_nd['total_orders'] / b_grouped_date_nd['visits']\n",
    "display(a_grouped_date_nd.sample(n=6))\n",
    "display(b_grouped_date_nd.sample(n=9))"
   ]
  },
  {
   "cell_type": "code",
   "execution_count": 32,
   "metadata": {},
   "outputs": [
    {
     "data": {
      "image/png": "[encoded data removed]",
      "text/plain": [
       "<Figure size 1080x432 with 1 Axes>"
      ]
     },
     "metadata": {
      "needs_background": "light"
     },
     "output_type": "display_data"
    }
   ],
   "source": [
    "plt.plot(a_grouped_date_nd['date'], a_grouped_date_nd['conversion'], label='A')\n",
    "plt.plot(b_grouped_date_nd['date'], b_grouped_date_nd['conversion'], label='B')\n",
    "plt.legend()\n",
    "plt.show()"
   ]
  },
  {
   "cell_type": "code",
   "execution_count": 33,
   "metadata": {},
   "outputs": [
    {
     "data": {
      "image/png": "[encoded data removed]",
      "text/plain": [
       "<Figure size 1080x432 with 1 Axes>"
      ]
     },
     "metadata": {
      "needs_background": "light"
     },
     "output_type": "display_data"
    }
   ],
   "source": [
    "a_grouped_date_nd['cum_conversion'] = a_grouped_date_nd['conversion'].cumsum()\n",
    "b_grouped_date_nd['cum_conversion'] = b_grouped_date_nd['conversion'].cumsum()\n",
    "\n",
    "relative_cumul_conv_ba = (b_grouped_date_nd['cum_conversion'] / a_grouped_date_nd['cum_conversion']) - 1\n",
    "plt.plot(b_grouped_date_nd['date'], relative_cumul_conv_ba)\n",
    "plt.axhline(y=0, color='black', linestyle='--')\n",
    "plt.show()"
   ]
  },
  {
   "cell_type": "markdown",
   "metadata": {},
   "source": [
    "<div class=\"alert alert-success\">\n",
    "<b>Reviewer's comment v1:</b>\n",
    "    \n",
    "Thanks for adding that. I think with this it is more easier to say that Group B is indeed doing better."
   ]
  },
  {
   "cell_type": "code",
   "execution_count": 34,
   "metadata": {},
   "outputs": [
    {
     "name": "stdout",
     "output_type": "stream",
     "text": [
      "A group overall conversion:\n"
     ]
    },
    {
     "data": {
      "text/plain": [
       "0.02497865072587532"
      ]
     },
     "metadata": {},
     "output_type": "display_data"
    },
    {
     "name": "stdout",
     "output_type": "stream",
     "text": [
      "B group overall conversion:\n"
     ]
    },
    {
     "data": {
      "text/plain": [
       "0.02897018397124128"
      ]
     },
     "metadata": {},
     "output_type": "display_data"
    }
   ],
   "source": [
    "# overall conversion\n",
    "print('A group overall conversion:')\n",
    "display(a_grouped_date_nd['total_orders'].sum()/a_grouped_date_nd['visits'].sum())\n",
    "print('B group overall conversion:')\n",
    "display(b_grouped_date_nd['total_orders'].sum()/b_grouped_date_nd['visits'].sum())"
   ]
  },
  {
   "cell_type": "markdown",
   "metadata": {},
   "source": [
    "Judging by the graph and the overall conversion rates, we can say that group B had a higher conversion rate (16% relatively higher than group A).\n",
    "\n",
    "**Next:** we are going to study the number of orders per user in order to check for outliers out there that may have disturbed our results up until now.\n",
    "\n",
    "#### #Orders per user"
   ]
  },
  {
   "cell_type": "code",
   "execution_count": 35,
   "metadata": {},
   "outputs": [
    {
     "data": {
      "text/html": [
       "<div>\n",
       "<style scoped>\n",
       "    .dataframe tbody tr th:only-of-type {\n",
       "        vertical-align: middle;\n",
       "    }\n",
       "\n",
       "    .dataframe tbody tr th {\n",
       "        vertical-align: top;\n",
       "    }\n",
       "\n",
       "    .dataframe thead th {\n",
       "        text-align: right;\n",
       "    }\n",
       "</style>\n",
       "<table border=\"1\" class=\"dataframe\">\n",
       "  <thead>\n",
       "    <tr style=\"text-align: right;\">\n",
       "      <th></th>\n",
       "      <th>users</th>\n",
       "      <th>orders</th>\n",
       "    </tr>\n",
       "  </thead>\n",
       "  <tbody>\n",
       "    <tr>\n",
       "      <th>842</th>\n",
       "      <td>3659263677</td>\n",
       "      <td>1</td>\n",
       "    </tr>\n",
       "    <tr>\n",
       "      <th>591</th>\n",
       "      <td>2592727107</td>\n",
       "      <td>1</td>\n",
       "    </tr>\n",
       "    <tr>\n",
       "      <th>696</th>\n",
       "      <td>3024988998</td>\n",
       "      <td>1</td>\n",
       "    </tr>\n",
       "    <tr>\n",
       "      <th>217</th>\n",
       "      <td>938079215</td>\n",
       "      <td>1</td>\n",
       "    </tr>\n",
       "    <tr>\n",
       "      <th>51</th>\n",
       "      <td>236764260</td>\n",
       "      <td>1</td>\n",
       "    </tr>\n",
       "    <tr>\n",
       "      <th>819</th>\n",
       "      <td>3573155649</td>\n",
       "      <td>1</td>\n",
       "    </tr>\n",
       "    <tr>\n",
       "      <th>948</th>\n",
       "      <td>4171878080</td>\n",
       "      <td>1</td>\n",
       "    </tr>\n",
       "    <tr>\n",
       "      <th>469</th>\n",
       "      <td>2067508917</td>\n",
       "      <td>1</td>\n",
       "    </tr>\n",
       "    <tr>\n",
       "      <th>523</th>\n",
       "      <td>2283224496</td>\n",
       "      <td>1</td>\n",
       "    </tr>\n",
       "  </tbody>\n",
       "</table>\n",
       "</div>"
      ],
      "text/plain": [
       "          users  orders\n",
       "842  3659263677       1\n",
       "591  2592727107       1\n",
       "696  3024988998       1\n",
       "217   938079215       1\n",
       "51    236764260       1\n",
       "819  3573155649       1\n",
       "948  4171878080       1\n",
       "469  2067508917       1\n",
       "523  2283224496       1"
      ]
     },
     "execution_count": 35,
     "metadata": {},
     "output_type": "execute_result"
    }
   ],
   "source": [
    "# grouping orders by visitorId to find out how much orders each user had\n",
    "orders_grouped = orders.groupby('visitorId').agg({'transactionId' : 'count'}).reset_index()\n",
    "orders_grouped.columns = ['users', 'orders']\n",
    "orders_grouped.sample(n=9)"
   ]
  },
  {
   "cell_type": "code",
   "execution_count": 36,
   "metadata": {},
   "outputs": [
    {
     "data": {
      "image/png": "[encoded data removed]",
      "text/plain": [
       "<Figure size 1080x432 with 1 Axes>"
      ]
     },
     "metadata": {
      "needs_background": "light"
     },
     "output_type": "display_data"
    }
   ],
   "source": [
    "x_values = pd.Series(range(0,len(orders_grouped)))\n",
    "plt.scatter(x_values, orders_grouped['orders'], label='Orders Per User')\n",
    "plt.legend()\n",
    "plt.show()"
   ]
  },
  {
   "cell_type": "markdown",
   "metadata": {},
   "source": [
    "**We've had very few users order 3 times while the majority ordered once or twice.**"
   ]
  },
  {
   "cell_type": "markdown",
   "metadata": {},
   "source": [
    "Lets calculate the 95th and 99th percentiles for the number of orders per user to see where does our users stand"
   ]
  },
  {
   "cell_type": "code",
   "execution_count": 37,
   "metadata": {},
   "outputs": [
    {
     "name": "stdout",
     "output_type": "stream",
     "text": [
      "[1. 2. 3.]\n"
     ]
    }
   ],
   "source": [
    "print(np.percentile(orders_grouped['orders'], [95, 99, 99.9])) "
   ]
  },
  {
   "cell_type": "markdown",
   "metadata": {},
   "source": [
    "This means that less than 5% of our users have more than 1 order and less than 1% have more than 2 orders.\n",
    "Looking at the graph, it is reasonable to keep users with 2 orders or less and consider users with more than 2 orders (the 0.1% of our users) as an anomaly."
   ]
  },
  {
   "cell_type": "markdown",
   "metadata": {},
   "source": [
    "We've calculated how many orders per user we had, but it is not enough. Next we'll calculate the revenue per order to look for more outliers since what we really considered as **outliers** in the previous section could be just normal orders and have zero disturbance to the results.\n",
    "\n",
    "#### Revenue per order"
   ]
  },
  {
   "cell_type": "code",
   "execution_count": 38,
   "metadata": {},
   "outputs": [
    {
     "data": {
      "image/png": "[encoded data removed]",
      "text/plain": [
       "<Figure size 1080x432 with 1 Axes>"
      ]
     },
     "metadata": {
      "needs_background": "light"
     },
     "output_type": "display_data"
    }
   ],
   "source": [
    "x_values = pd.Series(range(0,len(orders)))\n",
    "sns.scatterplot(x = x_values, y = orders['revenue'], label='Revenue per order', hue=orders['group'])\n",
    "plt.legend()\n",
    "plt.show()"
   ]
  },
  {
   "cell_type": "markdown",
   "metadata": {},
   "source": [
    "<div class=\"alert alert-block alert-success\">\n",
    "<b>Reviewer's comment v1:</b>\n",
    "    \n",
    "Great scaterplots. Additionally you can color two groups on this graph using other 'hue' parameter (https://seaborn.pydata.org/generated/seaborn.scatterplot.html) or different data sources (https://moonbooks.org/Articles/How-to-create-a-scatter-plot-with-several-colors-in-matplotlib-/)\n",
    "    \n",
    " <div class=\"alert alert-info\"> <b>Student comments:</b> \n",
    "    Thanks for comment, I know about this feature but I just didn't know how helpful it would be in this case since all dots are scattered in one dense area. But yeah, at least it helps us see where outliers belong!</div>  "
   ]
  },
  {
   "cell_type": "markdown",
   "metadata": {},
   "source": [
    "**Here it is, we can clearly see the outliers here.** Lets find where the belong in our data and remove them."
   ]
  },
  {
   "cell_type": "code",
   "execution_count": 39,
   "metadata": {},
   "outputs": [
    {
     "name": "stdout",
     "output_type": "stream",
     "text": [
      "[ 414.275   830.3    3094.6855]\n"
     ]
    }
   ],
   "source": [
    "print(np.percentile(orders['revenue'], [95, 99, 99.9])) "
   ]
  },
  {
   "cell_type": "markdown",
   "metadata": {},
   "source": [
    "This means that less than 5% of our orders are more than 414 dollars and less than 1% are more than 830 dollars. Looking at the graph, most of the orders generate from 0 to 2500$ in revenue thus it is reasonable to keep orders with revenues ranging from 0 to 2500 and consider everything else as an anomaly (Which is 0.1% according percentiles)."
   ]
  },
  {
   "cell_type": "markdown",
   "metadata": {},
   "source": [
    "<div class=\"alert alert-block alert-success\">\n",
    "<b>Reviewer's comment v1:</b>\n",
    "    \n",
    "You correctly identified 95th and 99th percentiles of order prices. Now you have a threshold and data could be filtered."
   ]
  },
  {
   "cell_type": "markdown",
   "metadata": {},
   "source": [
    "#### Statistical significance\n",
    "\n",
    "Now that we've found the outliers, we'll calculate the statistical significance of the difference in conversion and in average order size between the groups using both the raw data (unfiltered) and the filtered data without the outliers.\n",
    "\n",
    "We'll be testing the null hypotheses:\n",
    "1. H0(1) = **there is no difference in conversion** between the groups A and B\n",
    "\n",
    "   H1(1) = **there is difference in conversion** between the groups A and B\n",
    "   \n",
    "   \n",
    "2. H0(2) = **there is no difference in average order size** between the groups A and B\n",
    "\n",
    "   H1(2) = **there is difference in average order size** between the groups A and B\n",
    "\n",
    "We'll be testing those hypothese twice, once on raw data and once on filtered data.\n",
    "\n",
    "Rejecting the H0 means there's difference between the groups and for a high degree of certainty this difference is due to a change in our product and isn't just accedintal. Failing to reject the H0 means there might be difference between the groups but it's by chance.\n",
    "\n",
    "##### Raw groups: conversion\n",
    "Testing H0(1) on raw groups"
   ]
  },
  {
   "cell_type": "code",
   "execution_count": 40,
   "metadata": {},
   "outputs": [],
   "source": [
    "def testing_average(sample1,sample2,alpha=0.05):\n",
    "    #checking normality\n",
    "    sample1=sample1.dropna()\n",
    "    sample2=sample2.dropna()\n",
    "    stat1, p1_norm=stats.shapiro(sample1)\n",
    "    stat2, p2_norm=stats.shapiro(sample2)\n",
    "    if p1_norm > alpha and p2_norm > alpha:\n",
    "        #then both normal, perform t-test.\n",
    "        #for t-test also should check the equality of variances\n",
    "        statslev,p_levene=stats.levene(sample1, sample2)\n",
    "        if p_levene<alpha:\n",
    "           #variances are not equal\n",
    "            statist, p_value = stats.ttest_ind(sample1, sample2,equal_var=False)\n",
    "        else:\n",
    "            statist, p_value = stats.ttest_ind(sample1, sample2,equal_var=True) \n",
    "    else:\n",
    "        statist, p_value = stats.mannwhitneyu(sample1, sample2)\n",
    "    print(p_value)\n",
    "    if p_value < alpha:\n",
    "        print('Reject H0')\n",
    "    else:\n",
    "        print('Fail to Reject H0')"
   ]
  },
  {
   "cell_type": "markdown",
   "metadata": {},
   "source": [
    "We'll be using this function to test our hypotheses. The function perfroms a t-test or a Mann-Whitney U test according to the case. Why is that? because the Mann-Whitney U test is the nonparametric equivalent of the two sample t-test. While the t-test makes an assumption about the distribution of a population, the Mann Whitney U Test doesn't!\n",
    "\n",
    "We'll be testing the populations with a 95% confidence level."
   ]
  },
  {
   "cell_type": "code",
   "execution_count": 41,
   "metadata": {},
   "outputs": [],
   "source": [
    "a_grouped_date_nd['conversion'] = a_grouped_date_nd['total_orders']/a_grouped_date_nd['visits']\n",
    "b_grouped_date_nd['conversion'] = b_grouped_date_nd['total_orders']/b_grouped_date_nd['visits']"
   ]
  },
  {
   "cell_type": "code",
   "execution_count": 42,
   "metadata": {},
   "outputs": [
    {
     "name": "stdout",
     "output_type": "stream",
     "text": [
      "0.09573715593918651\n",
      "Fail to Reject H0\n"
     ]
    }
   ],
   "source": [
    "testing_average(a_grouped_date_nd['conversion'],b_grouped_date_nd['conversion'],alpha=0.05)"
   ]
  },
  {
   "cell_type": "markdown",
   "metadata": {},
   "source": [
    "##### Raw groups: average order size\n",
    "Testing H0(2) on raw groups"
   ]
  },
  {
   "cell_type": "code",
   "execution_count": 43,
   "metadata": {},
   "outputs": [],
   "source": [
    "a_grouped_date_nd['avg_ord_size'] = a_grouped_date_nd['revenue']/a_grouped_date_nd['total_orders']\n",
    "b_grouped_date_nd['avg_ord_size'] = b_grouped_date_nd['revenue']/b_grouped_date_nd['total_orders']"
   ]
  },
  {
   "cell_type": "code",
   "execution_count": 44,
   "metadata": {},
   "outputs": [
    {
     "name": "stdout",
     "output_type": "stream",
     "text": [
      "0.9550914317372012\n",
      "Fail to Reject H0\n"
     ]
    }
   ],
   "source": [
    "testing_average(a_grouped_date_nd['avg_ord_size'],b_grouped_date_nd['avg_ord_size'],alpha=0.05)"
   ]
  },
  {
   "cell_type": "markdown",
   "metadata": {},
   "source": [
    "##### Filtering groups"
   ]
  },
  {
   "cell_type": "code",
   "execution_count": 45,
   "metadata": {},
   "outputs": [],
   "source": [
    "# filtering the orders to have only orders with revenue below 2500\n",
    "filtered_orders = orders.query('revenue < 2500')"
   ]
  },
  {
   "cell_type": "code",
   "execution_count": 46,
   "metadata": {},
   "outputs": [],
   "source": [
    "# filtering the orders again to exclude users with 3 or more orders\n",
    "bad_list2 = orders_grouped[orders_grouped['orders'] >= 3]['users']"
   ]
  },
  {
   "cell_type": "code",
   "execution_count": 47,
   "metadata": {},
   "outputs": [
    {
     "data": {
      "text/html": [
       "<div>\n",
       "<style scoped>\n",
       "    .dataframe tbody tr th:only-of-type {\n",
       "        vertical-align: middle;\n",
       "    }\n",
       "\n",
       "    .dataframe tbody tr th {\n",
       "        vertical-align: top;\n",
       "    }\n",
       "\n",
       "    .dataframe thead th {\n",
       "        text-align: right;\n",
       "    }\n",
       "</style>\n",
       "<table border=\"1\" class=\"dataframe\">\n",
       "  <thead>\n",
       "    <tr style=\"text-align: right;\">\n",
       "      <th></th>\n",
       "      <th>transactionId</th>\n",
       "      <th>visitorId</th>\n",
       "      <th>date</th>\n",
       "      <th>revenue</th>\n",
       "      <th>group</th>\n",
       "    </tr>\n",
       "  </thead>\n",
       "  <tbody>\n",
       "    <tr>\n",
       "      <th>306</th>\n",
       "      <td>1275337321</td>\n",
       "      <td>3043080596</td>\n",
       "      <td>2019-08-28</td>\n",
       "      <td>35.6</td>\n",
       "      <td>A</td>\n",
       "    </tr>\n",
       "    <tr>\n",
       "      <th>564</th>\n",
       "      <td>3649785329</td>\n",
       "      <td>1341752722</td>\n",
       "      <td>2019-08-26</td>\n",
       "      <td>20.2</td>\n",
       "      <td>B</td>\n",
       "    </tr>\n",
       "    <tr>\n",
       "      <th>946</th>\n",
       "      <td>210558688</td>\n",
       "      <td>2733145037</td>\n",
       "      <td>2019-08-21</td>\n",
       "      <td>55.2</td>\n",
       "      <td>A</td>\n",
       "    </tr>\n",
       "    <tr>\n",
       "      <th>441</th>\n",
       "      <td>2396420873</td>\n",
       "      <td>2171487014</td>\n",
       "      <td>2019-08-03</td>\n",
       "      <td>50.5</td>\n",
       "      <td>B</td>\n",
       "    </tr>\n",
       "    <tr>\n",
       "      <th>719</th>\n",
       "      <td>1676073049</td>\n",
       "      <td>2696599598</td>\n",
       "      <td>2019-08-05</td>\n",
       "      <td>15.6</td>\n",
       "      <td>A</td>\n",
       "    </tr>\n",
       "    <tr>\n",
       "      <th>13</th>\n",
       "      <td>3044797713</td>\n",
       "      <td>728063420</td>\n",
       "      <td>2019-08-15</td>\n",
       "      <td>185.4</td>\n",
       "      <td>B</td>\n",
       "    </tr>\n",
       "  </tbody>\n",
       "</table>\n",
       "</div>"
      ],
      "text/plain": [
       "     transactionId   visitorId       date  revenue group\n",
       "306     1275337321  3043080596 2019-08-28     35.6     A\n",
       "564     3649785329  1341752722 2019-08-26     20.2     B\n",
       "946      210558688  2733145037 2019-08-21     55.2     A\n",
       "441     2396420873  2171487014 2019-08-03     50.5     B\n",
       "719     1676073049  2696599598 2019-08-05     15.6     A\n",
       "13      3044797713   728063420 2019-08-15    185.4     B"
      ]
     },
     "execution_count": 47,
     "metadata": {},
     "output_type": "execute_result"
    }
   ],
   "source": [
    "filtered_orders = filtered_orders[~(filtered_orders['visitorId'].isin(bad_list2))]\n",
    "filtered_orders.sample(n=6)"
   ]
  },
  {
   "cell_type": "markdown",
   "metadata": {},
   "source": [
    "Now that we have the filtered orders DF, we can define the **A** group and **B** group again and continue our research:"
   ]
  },
  {
   "cell_type": "code",
   "execution_count": 48,
   "metadata": {},
   "outputs": [],
   "source": [
    "filt_a_group = filtered_orders.query('group == \"A\"').sort_values('date')\n",
    "filt_b_group = filtered_orders.query('group == \"B\"').sort_values('date')\n",
    "#raw_b = raw_b.sample(n=468).sort_values('date')\n",
    "\n",
    "filt_a_grouped_date = filt_a_group.groupby('date').agg({'visitorId':'count','revenue':'sum'}).reset_index()\n",
    "filt_b_grouped_date = filt_b_group.groupby('date').agg({'visitorId':'count','revenue':'sum'}).reset_index()\n",
    "\n",
    "# chaning the column names\n",
    "filt_a_grouped_date.columns = ['date', 'total_orders', 'revenue']\n",
    "filt_b_grouped_date.columns = ['date', 'total_orders', 'revenue']"
   ]
  },
  {
   "cell_type": "code",
   "execution_count": 49,
   "metadata": {},
   "outputs": [],
   "source": [
    "# just like we did before, merging with visits DF to have the visits column in our DF\n",
    "filt_a_grouped_date = pd.merge(filt_a_grouped_date, visits_a, how = 'inner', on = ['date'])\n",
    "filt_b_grouped_date = pd.merge(filt_b_grouped_date, visits_b, how = 'inner', on = ['date'])\n",
    "\n",
    "filt_a_grouped_date['conversion'] = filt_a_grouped_date['total_orders']/filt_a_grouped_date['visits']\n",
    "filt_b_grouped_date['conversion'] = filt_b_grouped_date['total_orders']/filt_b_grouped_date['visits']"
   ]
  },
  {
   "cell_type": "markdown",
   "metadata": {},
   "source": [
    "**Before we move on to testing again, Lets have a look at the new graphs of the filtered data and see how much have they changed from the graphs of the raw data.**"
   ]
  },
  {
   "cell_type": "code",
   "execution_count": 50,
   "metadata": {},
   "outputs": [
    {
     "data": {
      "text/plain": [
       "<matplotlib.legend.Legend at 0x7f26e28dce20>"
      ]
     },
     "execution_count": 50,
     "metadata": {},
     "output_type": "execute_result"
    },
    {
     "data": {
      "image/png": "[encoded data removed]",
      "text/plain": [
       "<Figure size 1080x432 with 1 Axes>"
      ]
     },
     "metadata": {
      "needs_background": "light"
     },
     "output_type": "display_data"
    }
   ],
   "source": [
    "plt.plot(filt_a_grouped_date['date'], filt_a_grouped_date['revenue'], label='A')\n",
    "plt.plot(filt_b_grouped_date['date'], filt_b_grouped_date['revenue'], label='B')\n",
    "plt.legend()"
   ]
  },
  {
   "cell_type": "markdown",
   "metadata": {},
   "source": [
    "<div class=\"alert alert-block alert-danger\">\n",
    "<b>Reviewer's comment v.1</b> \n",
    "\n",
    "Сould you please formulate a null hypothesis and an alternative hypothesis for each question before actual testing in the markdown box: \n",
    "    \n",
    "    H0 (Null):\n",
    "    \n",
    "    H1 (Alternative):\n",
    "    \n",
    "Additionally could you please elaborate on overall results and why you used this test?\n",
    "    \n",
    "<div class=\"alert alert-info\"> <b>Student comments:</b> \n",
    "    Thanks for the comment, I added the H0 and H1 formulations at the top and then used the  symbols at each test to make clear of what we're testing at each point.\n",
    "\n",
    "I also elaborted a bit of why we used this test and updated my overall results. I hope its correct and you like it.</div> "
   ]
  },
  {
   "cell_type": "markdown",
   "metadata": {},
   "source": [
    "<div class=\"alert alert-block alert-success\">\n",
    "<b>Reviewer's comment v2:</b>\n",
    "    \n",
    "Great job! Hypotheses have been formulated and tested correctly. \n",
    "I know, it could be annoying but it really helps to structure your conclusions and avoid mistakes."
   ]
  },
  {
   "cell_type": "markdown",
   "metadata": {},
   "source": [
    "->\n",
    "\n",
    "**Graph describing the conversion rates for each group:**\n",
    "\n",
    "->"
   ]
  },
  {
   "cell_type": "code",
   "execution_count": 51,
   "metadata": {},
   "outputs": [
    {
     "data": {
      "text/plain": [
       "<matplotlib.legend.Legend at 0x7f26e2d23dc0>"
      ]
     },
     "execution_count": 51,
     "metadata": {},
     "output_type": "execute_result"
    },
    {
     "data": {
      "image/png": "[encoded data removed]",
      "text/plain": [
       "<Figure size 1080x432 with 1 Axes>"
      ]
     },
     "metadata": {
      "needs_background": "light"
     },
     "output_type": "display_data"
    }
   ],
   "source": [
    "plt.plot(filt_a_grouped_date['date'], filt_a_grouped_date['conversion'], label='A')\n",
    "plt.plot(filt_b_grouped_date['date'], filt_b_grouped_date['conversion'], label='B')\n",
    "plt.legend()"
   ]
  },
  {
   "cell_type": "markdown",
   "metadata": {},
   "source": [
    "->\n",
    "\n",
    "**Graph describing the relative difference between cumulative conversion rates for each group**\n",
    "\n",
    "->"
   ]
  },
  {
   "cell_type": "code",
   "execution_count": 52,
   "metadata": {},
   "outputs": [
    {
     "data": {
      "text/plain": [
       "<matplotlib.lines.Line2D at 0x7f26e2d81670>"
      ]
     },
     "execution_count": 52,
     "metadata": {},
     "output_type": "execute_result"
    },
    {
     "data": {
      "image/png": "[encoded data removed]",
      "text/plain": [
       "<Figure size 1080x432 with 1 Axes>"
      ]
     },
     "metadata": {
      "needs_background": "light"
     },
     "output_type": "display_data"
    }
   ],
   "source": [
    "filt_a_grouped_date['cum_conversion'] = filt_a_grouped_date['conversion'].cumsum()\n",
    "filt_b_grouped_date['cum_conversion'] = filt_b_grouped_date['conversion'].cumsum()\n",
    "\n",
    "f_relative_cumul_conv_ba = (filt_b_grouped_date['cum_conversion'] / filt_a_grouped_date['cum_conversion']) - 1\n",
    "plt.plot(filt_b_grouped_date['date'], f_relative_cumul_conv_ba)\n",
    "plt.axhline(y=0, color='black', linestyle='--')"
   ]
  },
  {
   "cell_type": "code",
   "execution_count": 53,
   "metadata": {},
   "outputs": [
    {
     "name": "stdout",
     "output_type": "stream",
     "text": [
      "A group overall conversion:\n"
     ]
    },
    {
     "data": {
      "text/plain": [
       "0.02417805294619983"
      ]
     },
     "metadata": {},
     "output_type": "display_data"
    },
    {
     "name": "stdout",
     "output_type": "stream",
     "text": [
      "B group overall conversion:\n"
     ]
    },
    {
     "data": {
      "text/plain": [
       "0.028547261577500527"
      ]
     },
     "metadata": {},
     "output_type": "display_data"
    }
   ],
   "source": [
    "# overall conversion\n",
    "print('A group overall conversion:')\n",
    "display(filt_a_grouped_date['total_orders'].sum()/filt_a_grouped_date['visits'].sum())\n",
    "print('B group overall conversion:')\n",
    "display(filt_b_grouped_date['total_orders'].sum()/filt_b_grouped_date['visits'].sum())"
   ]
  },
  {
   "cell_type": "markdown",
   "metadata": {},
   "source": [
    "We can say that the conversion rate of the group B is still higher than the conversion rate of group A even when we removed the outliers from the  groups."
   ]
  },
  {
   "cell_type": "markdown",
   "metadata": {},
   "source": [
    "##### Filtered groups: conversion\n",
    "Testing H0(1) on filtered groups"
   ]
  },
  {
   "cell_type": "code",
   "execution_count": 54,
   "metadata": {},
   "outputs": [
    {
     "name": "stdout",
     "output_type": "stream",
     "text": [
      "0.04713291665843557\n",
      "Reject H0\n"
     ]
    }
   ],
   "source": [
    "testing_average(filt_a_grouped_date['conversion'],filt_b_grouped_date['conversion'],alpha=0.05)"
   ]
  },
  {
   "cell_type": "markdown",
   "metadata": {},
   "source": [
    "##### Filtered groups: average order size\n",
    "Testing H0(2) on fiiltered groups"
   ]
  },
  {
   "cell_type": "code",
   "execution_count": 55,
   "metadata": {},
   "outputs": [],
   "source": [
    "filt_a_grouped_date['avg_ord_size'] = filt_a_grouped_date['revenue']/filt_a_grouped_date['total_orders']\n",
    "filt_b_grouped_date['avg_ord_size'] = filt_b_grouped_date['revenue']/filt_b_grouped_date['total_orders']"
   ]
  },
  {
   "cell_type": "code",
   "execution_count": 56,
   "metadata": {},
   "outputs": [
    {
     "name": "stdout",
     "output_type": "stream",
     "text": [
      "0.8327479062272571\n",
      "Fail to Reject H0\n"
     ]
    }
   ],
   "source": [
    "testing_average(filt_a_grouped_date['avg_ord_size'],filt_b_grouped_date['avg_ord_size'],alpha=0.05)"
   ]
  },
  {
   "cell_type": "markdown",
   "metadata": {},
   "source": [
    "##### Summary"
   ]
  },
  {
   "cell_type": "markdown",
   "metadata": {},
   "source": [
    "We've tested 2 hypotheses, the difference of **conversion and average order size** in raw data, and their difference in filtered and clean data.\n",
    "\n",
    "- Test(1.1) is the test on difference of conversion in raw data.\n",
    "- Test(1.2) is the test on difference of average order size in raw data.\n",
    "- Test(2.1) is the test on difference of conversion in filtered data.\n",
    "- Test(2.2) is the test on difference of average order size in filtered data.\n",
    "\n",
    "\n",
    "* Test(1.1) failed to reject the null hypothesis, meaning that conversion might've had changes across the groups but this change isn't certain to be due to a change in our product but rather it is an accidental change. Test(1.2) had similar results implying the same idea.\n",
    "\n",
    "\n",
    "* In the other hand, Test(2.1) rejected the H0. That means that the changes that happened were due to a change in our product and we're more certain now that the increase of 16% in conversion in group B wasn't accidental and we can expect it to happen again and again in every test.\n",
    "\n",
    "\n",
    "* Test(2.2) failed to reject the H0, there wasn't change in average order size in both groups so this is very reasonable.\n",
    "\n",
    "\n",
    "* What we can conclude from all of this is that the difference between conversion between the filtered groups was statistically significant. "
   ]
  },
  {
   "cell_type": "markdown",
   "metadata": {},
   "source": [
    "## General Summary"
   ]
  },
  {
   "cell_type": "markdown",
   "metadata": {},
   "source": [
    "This project was divided into 2 parts, in the **first part** we prioritized hypotheses according to **RICE** and **ICE** methods. We got different prioritizations for each method due to the **reach** parameter that was calculated in the **RICE** method but was left out in the **ICE** method.\n",
    "\n",
    "In my opinion, both **ICE** and **RICE** methods have their uses in the industry but I'd still rather be using **RICE** in most of the cases due to it having more parameters considered, especially that **reach** is usually a good parameter to be considered since it represents the range of **impact**, a parameter that is included in both methods. On the other hand, where **reach** isn't quite significant to our interests, then surely **ICE** is the way to go.\n",
    "\n",
    "**Part II**\n",
    "\n",
    "* We studied data about two groups of users on our online store, group A and group B. The data we were able to study was revenue, orders count, cumulative revenue, conversion rates etc. After analyizng the data and drawing graphs, we were able to conclude that group B had done better than group A in general during the whole period and during certain days as well. Later on we found out that group B performed better in certain days due to outliers, massive ones, which contributed to its success. Those outliers disturb our results so we had to remove them and see how all of this changes.\n",
    "\n",
    "* After we filtered the data from outliers, group B still had a slight advantage in conversion rates while the advantage that it had earlier in revenue disappeared since it was due to outliers that we removed earlier. Then we tested 2 hypotheses on whether certain parameters had a statistical significance on our interests (statistical significance of the difference in conversion and in average order size) and in most of the tests the null hypothesis was failed to be rejected, meaning there was enough confidence that these parameters were impactless on our results, and the change (if there's any) was purely accidental. Except for one test, Test(2.1), the test of statistical significance of the difference in conversion on the filtered groups where the null hypothesis was rejected meaning that this parameters is of impact in our interests actually and any change that happened in the results was actually due to changes that we made to the product.\n",
    "\n",
    "With the results that we got, we can actually stop the test and call it a success with 16% conversion rate increase for group B and a similar average order size on both groups. What I also suggest is to run the test again under the same conditions to double down on our results and really be confident of what we concluded in this test."
   ]
  },
  {
   "cell_type": "markdown",
   "metadata": {},
   "source": [
    "<div class=\"alert alert-block alert-success\">\n",
    "<b>Reviewer's comment v1</b> \n",
    "\n",
    "Great that you wrote about all important steps and findings in your project. \n",
    " \n",
    "And overall, you conducted great research with correct interim findings, clean code and nice visualization. I really like that you applied functions and your code has comments and good structure.\n",
    "    \n",
    "One comment about running the test is that we can mistakenly wait till the moment we get correct results (to face a peeking problem). \n",
    "    \n",
    "You can check an article about it here: https://gopractice.io/blog/peeking-problem/#:~:text=by%20Oleg%20Yakubenkov-,Peeking%20problem%20%E2%80%93%20the%20fatal%20mistake%20in%20A%2FB%20testing%20and,A%2FB%20test%20is%20over\n",
    "\n",
    "<div class=\"alert alert-info\"> <b>Student comments:</b> \n",
    "   Thank you so much for your feedback. I appreciate the links that you sent me through your comments, learned much from them. I also changed the final decision after reading about the peeking problem and updated the conclusions slightly.</div> \n"
   ]
  },
  {
   "cell_type": "markdown",
   "metadata": {},
   "source": [
    "<div class=\"alert alert-block alert-success\">\n",
    "<b>Reviewer's comment v2:</b>\n",
    "    \n",
    "Thank you very much for your feedback and glad that smth was usefull!"
   ]
  }
 ],
 "metadata": {
  "ExecuteTimeLog": [
   {
    "duration": 421,
    "start_time": "2022-04-22T16:20:25.746Z"
   },
   {
    "duration": 178,
    "start_time": "2022-04-22T16:20:27.054Z"
   },
   {
    "duration": 107,
    "start_time": "2022-04-22T16:21:08.143Z"
   },
   {
    "duration": 21,
    "start_time": "2022-04-22T16:21:12.629Z"
   },
   {
    "duration": 15,
    "start_time": "2022-04-22T16:21:34.661Z"
   },
   {
    "duration": 29,
    "start_time": "2022-04-22T16:22:17.595Z"
   },
   {
    "duration": 14,
    "start_time": "2022-04-22T16:26:16.633Z"
   },
   {
    "duration": 12,
    "start_time": "2022-04-22T16:27:13.424Z"
   },
   {
    "duration": 11,
    "start_time": "2022-04-22T16:27:23.167Z"
   },
   {
    "duration": 17,
    "start_time": "2022-04-22T16:28:32.451Z"
   },
   {
    "duration": 13,
    "start_time": "2022-04-22T16:29:02.228Z"
   },
   {
    "duration": 12,
    "start_time": "2022-04-22T16:29:20.845Z"
   },
   {
    "duration": 13,
    "start_time": "2022-04-22T16:29:29.854Z"
   },
   {
    "duration": 16,
    "start_time": "2022-04-22T16:30:19.569Z"
   },
   {
    "duration": 18,
    "start_time": "2022-04-22T16:30:56.509Z"
   },
   {
    "duration": 11,
    "start_time": "2022-04-22T16:32:02.128Z"
   },
   {
    "duration": 13,
    "start_time": "2022-04-22T16:32:23.908Z"
   },
   {
    "duration": 11,
    "start_time": "2022-04-22T16:32:43.568Z"
   },
   {
    "duration": 731,
    "start_time": "2022-04-22T16:36:17.531Z"
   },
   {
    "duration": 19,
    "start_time": "2022-04-22T16:36:33.546Z"
   },
   {
    "duration": 541,
    "start_time": "2022-04-22T16:36:42.980Z"
   },
   {
    "duration": 28,
    "start_time": "2022-04-22T16:36:43.949Z"
   },
   {
    "duration": 328,
    "start_time": "2022-04-22T16:36:56.929Z"
   },
   {
    "duration": 24,
    "start_time": "2022-04-22T16:36:57.410Z"
   },
   {
    "duration": 667,
    "start_time": "2022-04-22T16:37:03.530Z"
   },
   {
    "duration": 20,
    "start_time": "2022-04-22T16:37:04.432Z"
   },
   {
    "duration": 565,
    "start_time": "2022-04-22T16:37:17.020Z"
   },
   {
    "duration": 21,
    "start_time": "2022-04-22T16:37:18.488Z"
   },
   {
    "duration": 195,
    "start_time": "2022-04-22T16:39:58.596Z"
   },
   {
    "duration": 496,
    "start_time": "2022-04-22T16:40:08.091Z"
   },
   {
    "duration": 17,
    "start_time": "2022-04-22T16:40:09.239Z"
   },
   {
    "duration": 260,
    "start_time": "2022-04-22T16:40:16.358Z"
   },
   {
    "duration": 20,
    "start_time": "2022-04-22T16:40:16.988Z"
   },
   {
    "duration": 485,
    "start_time": "2022-04-22T16:40:46.442Z"
   },
   {
    "duration": 645,
    "start_time": "2022-04-22T16:41:00.815Z"
   },
   {
    "duration": 542,
    "start_time": "2022-04-22T16:41:09.559Z"
   },
   {
    "duration": 167,
    "start_time": "2022-04-22T16:48:24.045Z"
   },
   {
    "duration": 592,
    "start_time": "2022-04-22T16:48:29.718Z"
   },
   {
    "duration": 58,
    "start_time": "2022-04-22T16:49:22.672Z"
   },
   {
    "duration": 549,
    "start_time": "2022-04-22T16:49:33.529Z"
   },
   {
    "duration": 17,
    "start_time": "2022-04-22T16:49:36.352Z"
   },
   {
    "duration": 41,
    "start_time": "2022-04-22T16:52:26.242Z"
   },
   {
    "duration": 53,
    "start_time": "2022-04-22T16:52:46.298Z"
   },
   {
    "duration": 24,
    "start_time": "2022-04-22T16:52:47.623Z"
   },
   {
    "duration": 21,
    "start_time": "2022-04-22T16:55:43.629Z"
   },
   {
    "duration": 16,
    "start_time": "2022-04-22T16:56:43.539Z"
   },
   {
    "duration": 22,
    "start_time": "2022-04-22T16:57:10.806Z"
   },
   {
    "duration": 20,
    "start_time": "2022-04-22T16:57:13.510Z"
   },
   {
    "duration": 6,
    "start_time": "2022-04-22T16:58:04.665Z"
   },
   {
    "duration": 9,
    "start_time": "2022-04-22T16:58:17.062Z"
   },
   {
    "duration": 6,
    "start_time": "2022-04-22T16:58:23.555Z"
   },
   {
    "duration": 5,
    "start_time": "2022-04-22T16:58:39.847Z"
   },
   {
    "duration": 6,
    "start_time": "2022-04-22T17:00:05.165Z"
   },
   {
    "duration": 14,
    "start_time": "2022-04-22T17:00:25.624Z"
   },
   {
    "duration": 15,
    "start_time": "2022-04-22T17:00:36.326Z"
   },
   {
    "duration": 15,
    "start_time": "2022-04-22T17:00:53.041Z"
   },
   {
    "duration": 8,
    "start_time": "2022-04-22T17:07:01.046Z"
   },
   {
    "duration": 3072,
    "start_time": "2022-04-22T17:07:07.271Z"
   },
   {
    "duration": 9,
    "start_time": "2022-04-22T17:07:21.756Z"
   },
   {
    "duration": 8,
    "start_time": "2022-04-22T17:12:17.418Z"
   },
   {
    "duration": 9,
    "start_time": "2022-04-22T17:12:29.818Z"
   },
   {
    "duration": 13,
    "start_time": "2022-04-22T17:12:52.906Z"
   },
   {
    "duration": 14,
    "start_time": "2022-04-22T17:13:15.723Z"
   },
   {
    "duration": 18,
    "start_time": "2022-04-22T17:15:17.591Z"
   },
   {
    "duration": 12,
    "start_time": "2022-04-22T17:15:29.985Z"
   },
   {
    "duration": 177,
    "start_time": "2022-04-22T17:15:38.216Z"
   },
   {
    "duration": 17,
    "start_time": "2022-04-22T17:15:43.690Z"
   },
   {
    "duration": 15,
    "start_time": "2022-04-22T17:16:09.102Z"
   },
   {
    "duration": 15,
    "start_time": "2022-04-22T17:24:37.715Z"
   },
   {
    "duration": 4,
    "start_time": "2022-04-22T17:27:54.244Z"
   },
   {
    "duration": 4,
    "start_time": "2022-04-22T17:28:03.289Z"
   },
   {
    "duration": 16,
    "start_time": "2022-04-22T17:28:08.962Z"
   },
   {
    "duration": 191,
    "start_time": "2022-04-22T17:29:37.977Z"
   },
   {
    "duration": 200,
    "start_time": "2022-04-22T17:30:02.040Z"
   },
   {
    "duration": 10,
    "start_time": "2022-04-22T17:30:19.450Z"
   },
   {
    "duration": 15,
    "start_time": "2022-04-22T17:30:30.289Z"
   },
   {
    "duration": 8,
    "start_time": "2022-04-22T17:32:17.832Z"
   },
   {
    "duration": 14,
    "start_time": "2022-04-22T17:33:06.271Z"
   },
   {
    "duration": 24,
    "start_time": "2022-04-22T17:43:36.505Z"
   },
   {
    "duration": 12,
    "start_time": "2022-04-22T17:43:55.133Z"
   },
   {
    "duration": 18,
    "start_time": "2022-04-22T17:44:18.717Z"
   },
   {
    "duration": 16,
    "start_time": "2022-04-22T17:44:22.817Z"
   },
   {
    "duration": 17,
    "start_time": "2022-04-22T17:44:28.562Z"
   },
   {
    "duration": 15,
    "start_time": "2022-04-22T17:44:34.823Z"
   },
   {
    "duration": 30,
    "start_time": "2022-04-22T17:52:40.817Z"
   },
   {
    "duration": 15,
    "start_time": "2022-04-22T17:52:59.664Z"
   },
   {
    "duration": 64,
    "start_time": "2022-04-22T17:53:56.560Z"
   },
   {
    "duration": 4,
    "start_time": "2022-04-22T17:55:04.018Z"
   },
   {
    "duration": 20,
    "start_time": "2022-04-22T17:56:12.017Z"
   },
   {
    "duration": 21,
    "start_time": "2022-04-22T17:57:39.863Z"
   },
   {
    "duration": 17,
    "start_time": "2022-04-22T17:58:15.478Z"
   },
   {
    "duration": 19,
    "start_time": "2022-04-22T17:59:10.753Z"
   },
   {
    "duration": 20,
    "start_time": "2022-04-22T17:59:15.837Z"
   },
   {
    "duration": 13,
    "start_time": "2022-04-22T17:59:23.778Z"
   },
   {
    "duration": 28,
    "start_time": "2022-04-22T17:59:44.794Z"
   },
   {
    "duration": 21,
    "start_time": "2022-04-22T18:00:02.062Z"
   },
   {
    "duration": 17,
    "start_time": "2022-04-22T18:01:29.485Z"
   },
   {
    "duration": 32,
    "start_time": "2022-04-22T18:01:39.196Z"
   },
   {
    "duration": 13,
    "start_time": "2022-04-22T18:01:42.789Z"
   },
   {
    "duration": 11,
    "start_time": "2022-04-22T18:01:45.216Z"
   },
   {
    "duration": 21,
    "start_time": "2022-04-22T18:04:41.365Z"
   },
   {
    "duration": 13,
    "start_time": "2022-04-22T18:06:39.951Z"
   },
   {
    "duration": 27,
    "start_time": "2022-04-22T18:06:45.369Z"
   },
   {
    "duration": 14,
    "start_time": "2022-04-22T18:10:22.769Z"
   },
   {
    "duration": 13,
    "start_time": "2022-04-22T18:10:24.224Z"
   },
   {
    "duration": 14,
    "start_time": "2022-04-22T18:10:37.206Z"
   },
   {
    "duration": 13,
    "start_time": "2022-04-22T18:11:05.008Z"
   },
   {
    "duration": 33,
    "start_time": "2022-04-22T18:14:09.374Z"
   },
   {
    "duration": 21,
    "start_time": "2022-04-22T18:17:02.706Z"
   },
   {
    "duration": 9,
    "start_time": "2022-04-22T18:22:16.716Z"
   },
   {
    "duration": 8,
    "start_time": "2022-04-22T18:22:27.524Z"
   },
   {
    "duration": 5,
    "start_time": "2022-04-22T18:22:33.373Z"
   },
   {
    "duration": 23,
    "start_time": "2022-04-22T18:22:38.887Z"
   },
   {
    "duration": 8,
    "start_time": "2022-04-22T18:23:10.526Z"
   },
   {
    "duration": 453,
    "start_time": "2022-04-22T18:23:20.419Z"
   },
   {
    "duration": 234,
    "start_time": "2022-04-22T18:23:25.017Z"
   },
   {
    "duration": 371,
    "start_time": "2022-04-22T18:24:06.365Z"
   },
   {
    "duration": 21,
    "start_time": "2022-04-22T18:25:13.529Z"
   },
   {
    "duration": 36,
    "start_time": "2022-04-22T18:25:16.986Z"
   },
   {
    "duration": 15,
    "start_time": "2022-04-22T18:25:33.728Z"
   },
   {
    "duration": 15,
    "start_time": "2022-04-22T18:25:38.556Z"
   },
   {
    "duration": 24,
    "start_time": "2022-04-22T18:26:06.321Z"
   },
   {
    "duration": 39,
    "start_time": "2022-04-22T18:26:20.894Z"
   },
   {
    "duration": 34,
    "start_time": "2022-04-22T18:26:52.185Z"
   },
   {
    "duration": 18,
    "start_time": "2022-04-22T18:26:58.497Z"
   },
   {
    "duration": 18,
    "start_time": "2022-04-22T18:27:13.165Z"
   },
   {
    "duration": 19,
    "start_time": "2022-04-22T18:27:18.135Z"
   },
   {
    "duration": 20,
    "start_time": "2022-04-22T18:27:22.310Z"
   },
   {
    "duration": 18,
    "start_time": "2022-04-22T18:27:37.657Z"
   },
   {
    "duration": 21,
    "start_time": "2022-04-22T18:27:52.808Z"
   },
   {
    "duration": 15,
    "start_time": "2022-04-22T18:28:36.763Z"
   },
   {
    "duration": 28,
    "start_time": "2022-04-22T18:28:44.481Z"
   },
   {
    "duration": 687,
    "start_time": "2022-04-22T18:35:24.311Z"
   },
   {
    "duration": 27,
    "start_time": "2022-04-22T18:35:25.000Z"
   },
   {
    "duration": 11,
    "start_time": "2022-04-22T18:35:25.029Z"
   },
   {
    "duration": 15,
    "start_time": "2022-04-22T18:35:25.042Z"
   },
   {
    "duration": 11,
    "start_time": "2022-04-22T18:35:25.059Z"
   },
   {
    "duration": 28,
    "start_time": "2022-04-22T18:35:25.072Z"
   },
   {
    "duration": 33,
    "start_time": "2022-04-22T18:35:25.102Z"
   },
   {
    "duration": 325,
    "start_time": "2022-04-22T18:35:25.137Z"
   },
   {
    "duration": 0,
    "start_time": "2022-04-22T18:35:25.464Z"
   },
   {
    "duration": 0,
    "start_time": "2022-04-22T18:35:25.465Z"
   },
   {
    "duration": 0,
    "start_time": "2022-04-22T18:35:25.467Z"
   },
   {
    "duration": 0,
    "start_time": "2022-04-22T18:35:25.468Z"
   },
   {
    "duration": 0,
    "start_time": "2022-04-22T18:35:25.469Z"
   },
   {
    "duration": 0,
    "start_time": "2022-04-22T18:35:25.470Z"
   },
   {
    "duration": 0,
    "start_time": "2022-04-22T18:35:25.471Z"
   },
   {
    "duration": 753,
    "start_time": "2022-04-22T18:35:41.091Z"
   },
   {
    "duration": 20,
    "start_time": "2022-04-22T18:35:41.846Z"
   },
   {
    "duration": 11,
    "start_time": "2022-04-22T18:35:41.867Z"
   },
   {
    "duration": 31,
    "start_time": "2022-04-22T18:35:41.880Z"
   },
   {
    "duration": 19,
    "start_time": "2022-04-22T18:35:41.912Z"
   },
   {
    "duration": 17,
    "start_time": "2022-04-22T18:35:41.933Z"
   },
   {
    "duration": 16,
    "start_time": "2022-04-22T18:35:41.952Z"
   },
   {
    "duration": 35,
    "start_time": "2022-04-22T18:35:41.969Z"
   },
   {
    "duration": 21,
    "start_time": "2022-04-22T18:35:42.008Z"
   },
   {
    "duration": 16,
    "start_time": "2022-04-22T18:35:42.031Z"
   },
   {
    "duration": 14,
    "start_time": "2022-04-22T18:35:42.049Z"
   },
   {
    "duration": 19,
    "start_time": "2022-04-22T18:35:42.065Z"
   },
   {
    "duration": 12,
    "start_time": "2022-04-22T18:35:42.092Z"
   },
   {
    "duration": 32,
    "start_time": "2022-04-22T18:35:42.106Z"
   },
   {
    "duration": 30,
    "start_time": "2022-04-22T18:35:59.318Z"
   },
   {
    "duration": 746,
    "start_time": "2022-04-22T18:36:56.673Z"
   },
   {
    "duration": 29,
    "start_time": "2022-04-22T18:36:57.421Z"
   },
   {
    "duration": 12,
    "start_time": "2022-04-22T18:36:57.451Z"
   },
   {
    "duration": 16,
    "start_time": "2022-04-22T18:36:57.466Z"
   },
   {
    "duration": 50,
    "start_time": "2022-04-22T18:36:57.484Z"
   },
   {
    "duration": 22,
    "start_time": "2022-04-22T18:36:57.536Z"
   },
   {
    "duration": 25,
    "start_time": "2022-04-22T18:36:57.560Z"
   },
   {
    "duration": 67,
    "start_time": "2022-04-22T18:36:57.586Z"
   },
   {
    "duration": 22,
    "start_time": "2022-04-22T18:36:57.655Z"
   },
   {
    "duration": 26,
    "start_time": "2022-04-22T18:36:57.679Z"
   },
   {
    "duration": 23,
    "start_time": "2022-04-22T18:36:57.707Z"
   },
   {
    "duration": 19,
    "start_time": "2022-04-22T18:36:57.732Z"
   },
   {
    "duration": 22,
    "start_time": "2022-04-22T18:36:57.753Z"
   },
   {
    "duration": 64,
    "start_time": "2022-04-22T18:36:57.777Z"
   },
   {
    "duration": 8,
    "start_time": "2022-04-22T18:38:04.525Z"
   },
   {
    "duration": 23,
    "start_time": "2022-04-22T18:38:12.026Z"
   },
   {
    "duration": 19,
    "start_time": "2022-04-22T18:38:19.529Z"
   },
   {
    "duration": 28,
    "start_time": "2022-04-22T18:39:06.391Z"
   },
   {
    "duration": 24,
    "start_time": "2022-04-22T18:39:37.288Z"
   },
   {
    "duration": 18,
    "start_time": "2022-04-22T18:39:46.335Z"
   },
   {
    "duration": 25,
    "start_time": "2022-04-22T18:40:02.077Z"
   },
   {
    "duration": 19,
    "start_time": "2022-04-22T18:43:01.661Z"
   },
   {
    "duration": 86,
    "start_time": "2022-04-22T18:43:42.962Z"
   },
   {
    "duration": 16,
    "start_time": "2022-04-22T18:43:55.096Z"
   },
   {
    "duration": 24,
    "start_time": "2022-04-22T18:44:00.288Z"
   },
   {
    "duration": 22,
    "start_time": "2022-04-22T18:44:33.310Z"
   },
   {
    "duration": 18,
    "start_time": "2022-04-22T18:45:32.205Z"
   },
   {
    "duration": 10,
    "start_time": "2022-04-22T18:45:44.158Z"
   },
   {
    "duration": 4,
    "start_time": "2022-04-22T18:46:28.179Z"
   },
   {
    "duration": 16,
    "start_time": "2022-04-22T18:47:23.631Z"
   },
   {
    "duration": 10,
    "start_time": "2022-04-22T18:47:47.656Z"
   },
   {
    "duration": 17,
    "start_time": "2022-04-22T18:47:51.695Z"
   },
   {
    "duration": 14,
    "start_time": "2022-04-22T18:47:55.458Z"
   },
   {
    "duration": 11,
    "start_time": "2022-04-22T18:48:15.321Z"
   },
   {
    "duration": 15,
    "start_time": "2022-04-22T18:48:16.174Z"
   },
   {
    "duration": 4,
    "start_time": "2022-04-22T18:48:22.255Z"
   },
   {
    "duration": 5,
    "start_time": "2022-04-22T18:48:32.318Z"
   },
   {
    "duration": 2518,
    "start_time": "2022-04-22T18:49:04.627Z"
   },
   {
    "duration": 274,
    "start_time": "2022-04-22T18:49:32.127Z"
   },
   {
    "duration": 18,
    "start_time": "2022-04-22T18:50:24.322Z"
   },
   {
    "duration": 15,
    "start_time": "2022-04-22T18:52:45.390Z"
   },
   {
    "duration": 6,
    "start_time": "2022-04-22T18:53:09.706Z"
   },
   {
    "duration": 3055,
    "start_time": "2022-04-22T18:53:18.840Z"
   },
   {
    "duration": 0,
    "start_time": "2022-04-22T18:53:21.897Z"
   },
   {
    "duration": 817,
    "start_time": "2022-04-22T18:54:07.483Z"
   },
   {
    "duration": 22,
    "start_time": "2022-04-22T18:54:08.303Z"
   },
   {
    "duration": 12,
    "start_time": "2022-04-22T18:54:08.327Z"
   },
   {
    "duration": 16,
    "start_time": "2022-04-22T18:54:08.342Z"
   },
   {
    "duration": 44,
    "start_time": "2022-04-22T18:54:08.361Z"
   },
   {
    "duration": 13,
    "start_time": "2022-04-22T18:54:08.407Z"
   },
   {
    "duration": 14,
    "start_time": "2022-04-22T18:54:08.422Z"
   },
   {
    "duration": 32,
    "start_time": "2022-04-22T18:54:08.438Z"
   },
   {
    "duration": 27,
    "start_time": "2022-04-22T18:54:08.472Z"
   },
   {
    "duration": 19,
    "start_time": "2022-04-22T18:54:08.503Z"
   },
   {
    "duration": 20,
    "start_time": "2022-04-22T18:54:08.524Z"
   },
   {
    "duration": 52,
    "start_time": "2022-04-22T18:54:08.546Z"
   },
   {
    "duration": 12,
    "start_time": "2022-04-22T18:54:08.601Z"
   },
   {
    "duration": 49,
    "start_time": "2022-04-22T18:54:08.615Z"
   },
   {
    "duration": 40,
    "start_time": "2022-04-22T18:54:08.667Z"
   },
   {
    "duration": 18,
    "start_time": "2022-04-22T18:54:08.710Z"
   },
   {
    "duration": 3062,
    "start_time": "2022-04-22T18:54:08.731Z"
   },
   {
    "duration": 2920,
    "start_time": "2022-04-22T18:54:47.143Z"
   },
   {
    "duration": 2886,
    "start_time": "2022-04-22T18:55:25.215Z"
   },
   {
    "duration": 0,
    "start_time": "2022-04-22T18:55:28.103Z"
   },
   {
    "duration": 736,
    "start_time": "2022-04-22T18:55:46.409Z"
   },
   {
    "duration": 26,
    "start_time": "2022-04-22T18:55:47.147Z"
   },
   {
    "duration": 21,
    "start_time": "2022-04-22T18:55:47.175Z"
   },
   {
    "duration": 14,
    "start_time": "2022-04-22T18:55:47.199Z"
   },
   {
    "duration": 19,
    "start_time": "2022-04-22T18:55:47.215Z"
   },
   {
    "duration": 34,
    "start_time": "2022-04-22T18:55:47.236Z"
   },
   {
    "duration": 26,
    "start_time": "2022-04-22T18:55:47.273Z"
   },
   {
    "duration": 34,
    "start_time": "2022-04-22T18:55:47.301Z"
   },
   {
    "duration": 22,
    "start_time": "2022-04-22T18:55:47.337Z"
   },
   {
    "duration": 19,
    "start_time": "2022-04-22T18:55:47.363Z"
   },
   {
    "duration": 19,
    "start_time": "2022-04-22T18:55:47.384Z"
   },
   {
    "duration": 13,
    "start_time": "2022-04-22T18:55:47.406Z"
   },
   {
    "duration": 7,
    "start_time": "2022-04-22T18:55:47.422Z"
   },
   {
    "duration": 62,
    "start_time": "2022-04-22T18:55:47.431Z"
   },
   {
    "duration": 11,
    "start_time": "2022-04-22T18:55:47.495Z"
   },
   {
    "duration": 11,
    "start_time": "2022-04-22T18:55:47.508Z"
   },
   {
    "duration": 336,
    "start_time": "2022-04-22T18:55:47.521Z"
   },
   {
    "duration": 14,
    "start_time": "2022-04-22T18:58:42.391Z"
   },
   {
    "duration": 3096,
    "start_time": "2022-04-22T18:58:51.989Z"
   },
   {
    "duration": 0,
    "start_time": "2022-04-22T18:58:55.087Z"
   },
   {
    "duration": 732,
    "start_time": "2022-04-22T18:59:11.176Z"
   },
   {
    "duration": 20,
    "start_time": "2022-04-22T18:59:11.910Z"
   },
   {
    "duration": 11,
    "start_time": "2022-04-22T18:59:11.932Z"
   },
   {
    "duration": 13,
    "start_time": "2022-04-22T18:59:11.946Z"
   },
   {
    "duration": 12,
    "start_time": "2022-04-22T18:59:11.961Z"
   },
   {
    "duration": 28,
    "start_time": "2022-04-22T18:59:11.975Z"
   },
   {
    "duration": 14,
    "start_time": "2022-04-22T18:59:12.005Z"
   },
   {
    "duration": 32,
    "start_time": "2022-04-22T18:59:12.021Z"
   },
   {
    "duration": 21,
    "start_time": "2022-04-22T18:59:12.055Z"
   },
   {
    "duration": 26,
    "start_time": "2022-04-22T18:59:12.080Z"
   },
   {
    "duration": 18,
    "start_time": "2022-04-22T18:59:12.109Z"
   },
   {
    "duration": 13,
    "start_time": "2022-04-22T18:59:12.129Z"
   },
   {
    "duration": 9,
    "start_time": "2022-04-22T18:59:12.144Z"
   },
   {
    "duration": 61,
    "start_time": "2022-04-22T18:59:12.154Z"
   },
   {
    "duration": 15,
    "start_time": "2022-04-22T18:59:12.217Z"
   },
   {
    "duration": 2925,
    "start_time": "2022-04-22T18:59:12.234Z"
   },
   {
    "duration": 0,
    "start_time": "2022-04-22T18:59:15.161Z"
   },
   {
    "duration": 743,
    "start_time": "2022-04-22T18:59:32.962Z"
   },
   {
    "duration": 25,
    "start_time": "2022-04-22T18:59:33.707Z"
   },
   {
    "duration": 12,
    "start_time": "2022-04-22T18:59:33.733Z"
   },
   {
    "duration": 16,
    "start_time": "2022-04-22T18:59:33.747Z"
   },
   {
    "duration": 12,
    "start_time": "2022-04-22T18:59:33.765Z"
   },
   {
    "duration": 23,
    "start_time": "2022-04-22T18:59:33.779Z"
   },
   {
    "duration": 13,
    "start_time": "2022-04-22T18:59:33.804Z"
   },
   {
    "duration": 30,
    "start_time": "2022-04-22T18:59:33.819Z"
   },
   {
    "duration": 20,
    "start_time": "2022-04-22T18:59:33.851Z"
   },
   {
    "duration": 28,
    "start_time": "2022-04-22T18:59:33.874Z"
   },
   {
    "duration": 20,
    "start_time": "2022-04-22T18:59:33.904Z"
   },
   {
    "duration": 18,
    "start_time": "2022-04-22T18:59:33.926Z"
   },
   {
    "duration": 10,
    "start_time": "2022-04-22T18:59:33.946Z"
   },
   {
    "duration": 71,
    "start_time": "2022-04-22T18:59:33.957Z"
   },
   {
    "duration": 21,
    "start_time": "2022-04-22T18:59:34.030Z"
   },
   {
    "duration": 7,
    "start_time": "2022-04-22T18:59:34.053Z"
   },
   {
    "duration": 495,
    "start_time": "2022-04-22T18:59:34.062Z"
   },
   {
    "duration": 679,
    "start_time": "2022-04-22T19:01:05.613Z"
   },
   {
    "duration": 23,
    "start_time": "2022-04-22T19:01:06.294Z"
   },
   {
    "duration": 12,
    "start_time": "2022-04-22T19:01:06.319Z"
   },
   {
    "duration": 14,
    "start_time": "2022-04-22T19:01:06.334Z"
   },
   {
    "duration": 12,
    "start_time": "2022-04-22T19:01:06.350Z"
   },
   {
    "duration": 34,
    "start_time": "2022-04-22T19:01:06.364Z"
   },
   {
    "duration": 12,
    "start_time": "2022-04-22T19:01:06.400Z"
   },
   {
    "duration": 39,
    "start_time": "2022-04-22T19:01:06.414Z"
   },
   {
    "duration": 20,
    "start_time": "2022-04-22T19:01:06.455Z"
   },
   {
    "duration": 23,
    "start_time": "2022-04-22T19:01:06.479Z"
   },
   {
    "duration": 14,
    "start_time": "2022-04-22T19:01:06.504Z"
   },
   {
    "duration": 12,
    "start_time": "2022-04-22T19:01:06.521Z"
   },
   {
    "duration": 7,
    "start_time": "2022-04-22T19:01:06.535Z"
   },
   {
    "duration": 70,
    "start_time": "2022-04-22T19:01:06.544Z"
   },
   {
    "duration": 15,
    "start_time": "2022-04-22T19:01:06.615Z"
   },
   {
    "duration": 4,
    "start_time": "2022-04-22T19:01:06.632Z"
   },
   {
    "duration": 305,
    "start_time": "2022-04-22T19:01:06.638Z"
   },
   {
    "duration": 655,
    "start_time": "2022-04-22T19:01:19.130Z"
   },
   {
    "duration": 22,
    "start_time": "2022-04-22T19:01:19.787Z"
   },
   {
    "duration": 12,
    "start_time": "2022-04-22T19:01:19.810Z"
   },
   {
    "duration": 21,
    "start_time": "2022-04-22T19:01:19.825Z"
   },
   {
    "duration": 12,
    "start_time": "2022-04-22T19:01:19.847Z"
   },
   {
    "duration": 39,
    "start_time": "2022-04-22T19:01:19.860Z"
   },
   {
    "duration": 12,
    "start_time": "2022-04-22T19:01:19.900Z"
   },
   {
    "duration": 46,
    "start_time": "2022-04-22T19:01:19.913Z"
   },
   {
    "duration": 18,
    "start_time": "2022-04-22T19:01:19.961Z"
   },
   {
    "duration": 16,
    "start_time": "2022-04-22T19:01:19.982Z"
   },
   {
    "duration": 23,
    "start_time": "2022-04-22T19:01:20.000Z"
   },
   {
    "duration": 12,
    "start_time": "2022-04-22T19:01:20.025Z"
   },
   {
    "duration": 9,
    "start_time": "2022-04-22T19:01:20.039Z"
   },
   {
    "duration": 44,
    "start_time": "2022-04-22T19:01:20.049Z"
   },
   {
    "duration": 15,
    "start_time": "2022-04-22T19:01:20.095Z"
   },
   {
    "duration": 5,
    "start_time": "2022-04-22T19:01:20.111Z"
   },
   {
    "duration": 2545,
    "start_time": "2022-04-22T19:01:20.117Z"
   },
   {
    "duration": 5,
    "start_time": "2022-04-22T19:02:01.109Z"
   },
   {
    "duration": 2313,
    "start_time": "2022-04-22T19:02:02.129Z"
   },
   {
    "duration": 720,
    "start_time": "2022-04-22T19:02:13.374Z"
   },
   {
    "duration": 20,
    "start_time": "2022-04-22T19:02:14.097Z"
   },
   {
    "duration": 12,
    "start_time": "2022-04-22T19:02:14.118Z"
   },
   {
    "duration": 17,
    "start_time": "2022-04-22T19:02:14.131Z"
   },
   {
    "duration": 11,
    "start_time": "2022-04-22T19:02:14.150Z"
   },
   {
    "duration": 31,
    "start_time": "2022-04-22T19:02:14.163Z"
   },
   {
    "duration": 14,
    "start_time": "2022-04-22T19:02:14.196Z"
   },
   {
    "duration": 32,
    "start_time": "2022-04-22T19:02:14.211Z"
   },
   {
    "duration": 20,
    "start_time": "2022-04-22T19:02:14.245Z"
   },
   {
    "duration": 17,
    "start_time": "2022-04-22T19:02:14.267Z"
   },
   {
    "duration": 12,
    "start_time": "2022-04-22T19:02:14.293Z"
   },
   {
    "duration": 12,
    "start_time": "2022-04-22T19:02:14.307Z"
   },
   {
    "duration": 6,
    "start_time": "2022-04-22T19:02:14.321Z"
   },
   {
    "duration": 29,
    "start_time": "2022-04-22T19:02:14.330Z"
   },
   {
    "duration": 44,
    "start_time": "2022-04-22T19:02:14.361Z"
   },
   {
    "duration": 4,
    "start_time": "2022-04-22T19:02:14.407Z"
   },
   {
    "duration": 2409,
    "start_time": "2022-04-22T19:02:14.413Z"
   },
   {
    "duration": 284,
    "start_time": "2022-04-22T19:02:26.868Z"
   },
   {
    "duration": 785,
    "start_time": "2022-04-22T19:04:49.046Z"
   },
   {
    "duration": 20,
    "start_time": "2022-04-22T19:04:49.833Z"
   },
   {
    "duration": 12,
    "start_time": "2022-04-22T19:04:49.855Z"
   },
   {
    "duration": 31,
    "start_time": "2022-04-22T19:04:49.870Z"
   },
   {
    "duration": 13,
    "start_time": "2022-04-22T19:04:49.903Z"
   },
   {
    "duration": 12,
    "start_time": "2022-04-22T19:04:49.918Z"
   },
   {
    "duration": 25,
    "start_time": "2022-04-22T19:04:49.932Z"
   },
   {
    "duration": 48,
    "start_time": "2022-04-22T19:04:49.959Z"
   },
   {
    "duration": 29,
    "start_time": "2022-04-22T19:04:50.010Z"
   },
   {
    "duration": 25,
    "start_time": "2022-04-22T19:04:50.043Z"
   },
   {
    "duration": 25,
    "start_time": "2022-04-22T19:04:50.071Z"
   },
   {
    "duration": 13,
    "start_time": "2022-04-22T19:04:50.098Z"
   },
   {
    "duration": 8,
    "start_time": "2022-04-22T19:04:50.113Z"
   },
   {
    "duration": 32,
    "start_time": "2022-04-22T19:04:50.123Z"
   },
   {
    "duration": 47,
    "start_time": "2022-04-22T19:04:50.156Z"
   },
   {
    "duration": 4,
    "start_time": "2022-04-22T19:04:50.205Z"
   },
   {
    "duration": 300,
    "start_time": "2022-04-22T19:04:50.211Z"
   },
   {
    "duration": 815,
    "start_time": "2022-04-22T19:05:01.143Z"
   },
   {
    "duration": 20,
    "start_time": "2022-04-22T19:05:01.959Z"
   },
   {
    "duration": 18,
    "start_time": "2022-04-22T19:05:01.980Z"
   },
   {
    "duration": 27,
    "start_time": "2022-04-22T19:05:02.000Z"
   },
   {
    "duration": 14,
    "start_time": "2022-04-22T19:05:02.029Z"
   },
   {
    "duration": 30,
    "start_time": "2022-04-22T19:05:02.045Z"
   },
   {
    "duration": 50,
    "start_time": "2022-04-22T19:05:02.077Z"
   },
   {
    "duration": 47,
    "start_time": "2022-04-22T19:05:02.129Z"
   },
   {
    "duration": 18,
    "start_time": "2022-04-22T19:05:02.178Z"
   },
   {
    "duration": 27,
    "start_time": "2022-04-22T19:05:02.199Z"
   },
   {
    "duration": 22,
    "start_time": "2022-04-22T19:05:02.228Z"
   },
   {
    "duration": 16,
    "start_time": "2022-04-22T19:05:02.252Z"
   },
   {
    "duration": 21,
    "start_time": "2022-04-22T19:05:02.270Z"
   },
   {
    "duration": 44,
    "start_time": "2022-04-22T19:05:02.294Z"
   },
   {
    "duration": 17,
    "start_time": "2022-04-22T19:05:02.340Z"
   },
   {
    "duration": 9,
    "start_time": "2022-04-22T19:05:02.359Z"
   },
   {
    "duration": 313,
    "start_time": "2022-04-22T19:05:02.370Z"
   },
   {
    "duration": 670,
    "start_time": "2022-04-22T19:05:12.829Z"
   },
   {
    "duration": 20,
    "start_time": "2022-04-22T19:05:13.501Z"
   },
   {
    "duration": 12,
    "start_time": "2022-04-22T19:05:13.522Z"
   },
   {
    "duration": 17,
    "start_time": "2022-04-22T19:05:13.536Z"
   },
   {
    "duration": 12,
    "start_time": "2022-04-22T19:05:13.554Z"
   },
   {
    "duration": 35,
    "start_time": "2022-04-22T19:05:13.568Z"
   },
   {
    "duration": 12,
    "start_time": "2022-04-22T19:05:13.605Z"
   },
   {
    "duration": 29,
    "start_time": "2022-04-22T19:05:13.618Z"
   },
   {
    "duration": 21,
    "start_time": "2022-04-22T19:05:13.649Z"
   },
   {
    "duration": 26,
    "start_time": "2022-04-22T19:05:13.673Z"
   },
   {
    "duration": 14,
    "start_time": "2022-04-22T19:05:13.702Z"
   },
   {
    "duration": 13,
    "start_time": "2022-04-22T19:05:13.718Z"
   },
   {
    "duration": 9,
    "start_time": "2022-04-22T19:05:13.733Z"
   },
   {
    "duration": 63,
    "start_time": "2022-04-22T19:05:13.744Z"
   },
   {
    "duration": 15,
    "start_time": "2022-04-22T19:05:13.809Z"
   },
   {
    "duration": 5,
    "start_time": "2022-04-22T19:05:13.826Z"
   },
   {
    "duration": 308,
    "start_time": "2022-04-22T19:05:13.832Z"
   },
   {
    "duration": 706,
    "start_time": "2022-04-22T19:05:50.054Z"
   },
   {
    "duration": 21,
    "start_time": "2022-04-22T19:05:50.762Z"
   },
   {
    "duration": 19,
    "start_time": "2022-04-22T19:05:50.785Z"
   },
   {
    "duration": 22,
    "start_time": "2022-04-22T19:05:50.806Z"
   },
   {
    "duration": 19,
    "start_time": "2022-04-22T19:05:50.831Z"
   },
   {
    "duration": 41,
    "start_time": "2022-04-22T19:05:50.852Z"
   },
   {
    "duration": 12,
    "start_time": "2022-04-22T19:05:50.895Z"
   },
   {
    "duration": 28,
    "start_time": "2022-04-22T19:05:50.909Z"
   },
   {
    "duration": 19,
    "start_time": "2022-04-22T19:05:50.939Z"
   },
   {
    "duration": 17,
    "start_time": "2022-04-22T19:05:50.959Z"
   },
   {
    "duration": 25,
    "start_time": "2022-04-22T19:05:50.978Z"
   },
   {
    "duration": 18,
    "start_time": "2022-04-22T19:05:51.005Z"
   },
   {
    "duration": 8,
    "start_time": "2022-04-22T19:05:51.026Z"
   },
   {
    "duration": 75,
    "start_time": "2022-04-22T19:05:51.037Z"
   },
   {
    "duration": 21,
    "start_time": "2022-04-22T19:05:51.114Z"
   },
   {
    "duration": 6,
    "start_time": "2022-04-22T19:05:51.138Z"
   },
   {
    "duration": 486,
    "start_time": "2022-04-22T19:05:51.146Z"
   },
   {
    "duration": 721,
    "start_time": "2022-04-22T19:06:12.128Z"
   },
   {
    "duration": 20,
    "start_time": "2022-04-22T19:06:12.851Z"
   },
   {
    "duration": 11,
    "start_time": "2022-04-22T19:06:12.872Z"
   },
   {
    "duration": 13,
    "start_time": "2022-04-22T19:06:12.893Z"
   },
   {
    "duration": 13,
    "start_time": "2022-04-22T19:06:12.908Z"
   },
   {
    "duration": 13,
    "start_time": "2022-04-22T19:06:12.923Z"
   },
   {
    "duration": 14,
    "start_time": "2022-04-22T19:06:12.938Z"
   },
   {
    "duration": 48,
    "start_time": "2022-04-22T19:06:12.953Z"
   },
   {
    "duration": 19,
    "start_time": "2022-04-22T19:06:13.003Z"
   },
   {
    "duration": 17,
    "start_time": "2022-04-22T19:06:13.024Z"
   },
   {
    "duration": 21,
    "start_time": "2022-04-22T19:06:13.042Z"
   },
   {
    "duration": 39,
    "start_time": "2022-04-22T19:06:13.065Z"
   },
   {
    "duration": 9,
    "start_time": "2022-04-22T19:06:13.105Z"
   },
   {
    "duration": 30,
    "start_time": "2022-04-22T19:06:13.116Z"
   },
   {
    "duration": 45,
    "start_time": "2022-04-22T19:06:13.148Z"
   },
   {
    "duration": 5,
    "start_time": "2022-04-22T19:06:13.195Z"
   },
   {
    "duration": 299,
    "start_time": "2022-04-22T19:06:13.202Z"
   },
   {
    "duration": 678,
    "start_time": "2022-04-22T19:07:45.136Z"
   },
   {
    "duration": 23,
    "start_time": "2022-04-22T19:07:45.817Z"
   },
   {
    "duration": 13,
    "start_time": "2022-04-22T19:07:45.841Z"
   },
   {
    "duration": 15,
    "start_time": "2022-04-22T19:07:45.856Z"
   },
   {
    "duration": 12,
    "start_time": "2022-04-22T19:07:45.892Z"
   },
   {
    "duration": 12,
    "start_time": "2022-04-22T19:07:45.906Z"
   },
   {
    "duration": 12,
    "start_time": "2022-04-22T19:07:45.920Z"
   },
   {
    "duration": 30,
    "start_time": "2022-04-22T19:07:45.934Z"
   },
   {
    "duration": 34,
    "start_time": "2022-04-22T19:07:45.965Z"
   },
   {
    "duration": 19,
    "start_time": "2022-04-22T19:07:46.002Z"
   },
   {
    "duration": 13,
    "start_time": "2022-04-22T19:07:46.023Z"
   },
   {
    "duration": 12,
    "start_time": "2022-04-22T19:07:46.038Z"
   },
   {
    "duration": 42,
    "start_time": "2022-04-22T19:07:46.052Z"
   },
   {
    "duration": 46,
    "start_time": "2022-04-22T19:07:46.096Z"
   },
   {
    "duration": 21,
    "start_time": "2022-04-22T19:07:46.144Z"
   },
   {
    "duration": 27,
    "start_time": "2022-04-22T19:07:46.168Z"
   },
   {
    "duration": 396,
    "start_time": "2022-04-22T19:07:46.198Z"
   },
   {
    "duration": 959,
    "start_time": "2022-04-22T19:07:52.375Z"
   },
   {
    "duration": 25,
    "start_time": "2022-04-22T19:07:53.337Z"
   },
   {
    "duration": 11,
    "start_time": "2022-04-22T19:07:53.364Z"
   },
   {
    "duration": 11,
    "start_time": "2022-04-22T19:07:53.378Z"
   },
   {
    "duration": 11,
    "start_time": "2022-04-22T19:07:53.393Z"
   },
   {
    "duration": 17,
    "start_time": "2022-04-22T19:07:53.406Z"
   },
   {
    "duration": 11,
    "start_time": "2022-04-22T19:07:53.424Z"
   },
   {
    "duration": 30,
    "start_time": "2022-04-22T19:07:53.437Z"
   },
   {
    "duration": 18,
    "start_time": "2022-04-22T19:07:53.469Z"
   },
   {
    "duration": 18,
    "start_time": "2022-04-22T19:07:53.490Z"
   },
   {
    "duration": 12,
    "start_time": "2022-04-22T19:07:53.510Z"
   },
   {
    "duration": 14,
    "start_time": "2022-04-22T19:07:53.524Z"
   },
   {
    "duration": 9,
    "start_time": "2022-04-22T19:07:53.540Z"
   },
   {
    "duration": 33,
    "start_time": "2022-04-22T19:07:53.551Z"
   },
   {
    "duration": 13,
    "start_time": "2022-04-22T19:07:53.586Z"
   },
   {
    "duration": 4,
    "start_time": "2022-04-22T19:07:53.600Z"
   },
   {
    "duration": 299,
    "start_time": "2022-04-22T19:07:53.606Z"
   },
   {
    "duration": 795,
    "start_time": "2022-04-22T19:07:58.935Z"
   },
   {
    "duration": 20,
    "start_time": "2022-04-22T19:07:59.732Z"
   },
   {
    "duration": 11,
    "start_time": "2022-04-22T19:07:59.753Z"
   },
   {
    "duration": 31,
    "start_time": "2022-04-22T19:07:59.766Z"
   },
   {
    "duration": 13,
    "start_time": "2022-04-22T19:07:59.798Z"
   },
   {
    "duration": 14,
    "start_time": "2022-04-22T19:07:59.812Z"
   },
   {
    "duration": 10,
    "start_time": "2022-04-22T19:07:59.828Z"
   },
   {
    "duration": 31,
    "start_time": "2022-04-22T19:07:59.840Z"
   },
   {
    "duration": 33,
    "start_time": "2022-04-22T19:07:59.872Z"
   },
   {
    "duration": 18,
    "start_time": "2022-04-22T19:07:59.907Z"
   },
   {
    "duration": 20,
    "start_time": "2022-04-22T19:07:59.926Z"
   },
   {
    "duration": 18,
    "start_time": "2022-04-22T19:07:59.947Z"
   },
   {
    "duration": 27,
    "start_time": "2022-04-22T19:07:59.967Z"
   },
   {
    "duration": 41,
    "start_time": "2022-04-22T19:07:59.995Z"
   },
   {
    "duration": 15,
    "start_time": "2022-04-22T19:08:00.038Z"
   },
   {
    "duration": 8,
    "start_time": "2022-04-22T19:08:00.054Z"
   },
   {
    "duration": 306,
    "start_time": "2022-04-22T19:08:00.064Z"
   },
   {
    "duration": 85,
    "start_time": "2022-04-22T19:08:57.854Z"
   },
   {
    "duration": 19,
    "start_time": "2022-04-22T19:11:01.631Z"
   },
   {
    "duration": 18,
    "start_time": "2022-04-22T19:11:05.075Z"
   },
   {
    "duration": 23,
    "start_time": "2022-04-22T19:11:11.834Z"
   },
   {
    "duration": 20,
    "start_time": "2022-04-22T19:11:23.338Z"
   },
   {
    "duration": 6,
    "start_time": "2022-04-22T19:11:24.794Z"
   },
   {
    "duration": 326,
    "start_time": "2022-04-22T19:11:25.636Z"
   },
   {
    "duration": 665,
    "start_time": "2022-04-22T19:12:32.616Z"
   },
   {
    "duration": 25,
    "start_time": "2022-04-22T19:12:33.282Z"
   },
   {
    "duration": 11,
    "start_time": "2022-04-22T19:12:33.309Z"
   },
   {
    "duration": 13,
    "start_time": "2022-04-22T19:12:33.322Z"
   },
   {
    "duration": 12,
    "start_time": "2022-04-22T19:12:33.337Z"
   },
   {
    "duration": 11,
    "start_time": "2022-04-22T19:12:33.351Z"
   },
   {
    "duration": 37,
    "start_time": "2022-04-22T19:12:33.364Z"
   },
   {
    "duration": 29,
    "start_time": "2022-04-22T19:12:33.403Z"
   },
   {
    "duration": 19,
    "start_time": "2022-04-22T19:12:33.433Z"
   },
   {
    "duration": 16,
    "start_time": "2022-04-22T19:12:33.455Z"
   },
   {
    "duration": 26,
    "start_time": "2022-04-22T19:12:33.472Z"
   },
   {
    "duration": 12,
    "start_time": "2022-04-22T19:12:33.499Z"
   },
   {
    "duration": 8,
    "start_time": "2022-04-22T19:12:33.513Z"
   },
   {
    "duration": 29,
    "start_time": "2022-04-22T19:12:33.522Z"
   },
   {
    "duration": 47,
    "start_time": "2022-04-22T19:12:33.553Z"
   },
   {
    "duration": 4,
    "start_time": "2022-04-22T19:12:33.602Z"
   },
   {
    "duration": 295,
    "start_time": "2022-04-22T19:12:33.608Z"
   },
   {
    "duration": 19,
    "start_time": "2022-04-22T19:51:50.366Z"
   },
   {
    "duration": 19,
    "start_time": "2022-04-22T19:51:59.579Z"
   },
   {
    "duration": 15,
    "start_time": "2022-04-22T19:53:14.847Z"
   },
   {
    "duration": 28,
    "start_time": "2022-04-22T19:53:28.760Z"
   },
   {
    "duration": 6,
    "start_time": "2022-04-22T19:55:15.251Z"
   },
   {
    "duration": 4,
    "start_time": "2022-04-22T19:55:16.193Z"
   },
   {
    "duration": 13,
    "start_time": "2022-04-22T19:55:23.060Z"
   },
   {
    "duration": 5,
    "start_time": "2022-04-22T19:56:30.680Z"
   },
   {
    "duration": 15,
    "start_time": "2022-04-22T19:56:33.484Z"
   },
   {
    "duration": 201,
    "start_time": "2022-04-22T19:58:21.395Z"
   },
   {
    "duration": 192,
    "start_time": "2022-04-22T19:58:47.586Z"
   },
   {
    "duration": 242,
    "start_time": "2022-04-22T20:01:31.204Z"
   },
   {
    "duration": 197,
    "start_time": "2022-04-22T20:02:28.458Z"
   },
   {
    "duration": 7,
    "start_time": "2022-04-22T20:11:04.135Z"
   },
   {
    "duration": 137,
    "start_time": "2022-04-22T20:11:35.024Z"
   },
   {
    "duration": 148,
    "start_time": "2022-04-22T20:11:53.751Z"
   },
   {
    "duration": 147,
    "start_time": "2022-04-22T20:12:40.426Z"
   },
   {
    "duration": 291,
    "start_time": "2022-04-22T20:15:46.011Z"
   },
   {
    "duration": 281,
    "start_time": "2022-04-22T20:17:50.540Z"
   },
   {
    "duration": 784,
    "start_time": "2022-04-23T11:04:34.397Z"
   },
   {
    "duration": 25,
    "start_time": "2022-04-23T11:04:35.183Z"
   },
   {
    "duration": 9,
    "start_time": "2022-04-23T11:04:35.209Z"
   },
   {
    "duration": 12,
    "start_time": "2022-04-23T11:04:35.220Z"
   },
   {
    "duration": 10,
    "start_time": "2022-04-23T11:04:35.233Z"
   },
   {
    "duration": 10,
    "start_time": "2022-04-23T11:04:35.244Z"
   },
   {
    "duration": 10,
    "start_time": "2022-04-23T11:04:35.256Z"
   },
   {
    "duration": 39,
    "start_time": "2022-04-23T11:04:35.268Z"
   },
   {
    "duration": 15,
    "start_time": "2022-04-23T11:04:35.309Z"
   },
   {
    "duration": 16,
    "start_time": "2022-04-23T11:04:35.326Z"
   },
   {
    "duration": 10,
    "start_time": "2022-04-23T11:04:35.344Z"
   },
   {
    "duration": 12,
    "start_time": "2022-04-23T11:04:35.355Z"
   },
   {
    "duration": 11,
    "start_time": "2022-04-23T11:04:35.369Z"
   },
   {
    "duration": 43,
    "start_time": "2022-04-23T11:04:35.381Z"
   },
   {
    "duration": 11,
    "start_time": "2022-04-23T11:04:35.425Z"
   },
   {
    "duration": 14,
    "start_time": "2022-04-23T11:04:35.437Z"
   },
   {
    "duration": 252,
    "start_time": "2022-04-23T11:04:35.452Z"
   },
   {
    "duration": 10,
    "start_time": "2022-04-23T11:04:35.705Z"
   },
   {
    "duration": 7,
    "start_time": "2022-04-23T11:04:35.716Z"
   },
   {
    "duration": 6,
    "start_time": "2022-04-23T11:04:35.725Z"
   },
   {
    "duration": 7,
    "start_time": "2022-04-23T11:04:35.732Z"
   },
   {
    "duration": 174,
    "start_time": "2022-04-23T11:04:35.740Z"
   },
   {
    "duration": 174,
    "start_time": "2022-04-23T11:04:35.916Z"
   },
   {
    "duration": 349,
    "start_time": "2022-04-23T11:04:36.092Z"
   },
   {
    "duration": 20,
    "start_time": "2022-04-23T11:04:36.443Z"
   },
   {
    "duration": 65,
    "start_time": "2022-04-23T11:06:22.851Z"
   },
   {
    "duration": 37,
    "start_time": "2022-04-23T11:06:31.584Z"
   },
   {
    "duration": 180,
    "start_time": "2022-04-23T11:08:31.534Z"
   },
   {
    "duration": 604,
    "start_time": "2022-04-23T11:08:40.180Z"
   },
   {
    "duration": 21,
    "start_time": "2022-04-23T11:08:40.786Z"
   },
   {
    "duration": 9,
    "start_time": "2022-04-23T11:08:40.809Z"
   },
   {
    "duration": 11,
    "start_time": "2022-04-23T11:08:40.820Z"
   },
   {
    "duration": 11,
    "start_time": "2022-04-23T11:08:40.832Z"
   },
   {
    "duration": 10,
    "start_time": "2022-04-23T11:08:40.845Z"
   },
   {
    "duration": 10,
    "start_time": "2022-04-23T11:08:40.856Z"
   },
   {
    "duration": 26,
    "start_time": "2022-04-23T11:08:40.868Z"
   },
   {
    "duration": 29,
    "start_time": "2022-04-23T11:08:40.896Z"
   },
   {
    "duration": 14,
    "start_time": "2022-04-23T11:08:40.928Z"
   },
   {
    "duration": 17,
    "start_time": "2022-04-23T11:08:40.944Z"
   },
   {
    "duration": 10,
    "start_time": "2022-04-23T11:08:40.963Z"
   },
   {
    "duration": 7,
    "start_time": "2022-04-23T11:08:40.975Z"
   },
   {
    "duration": 47,
    "start_time": "2022-04-23T11:08:40.984Z"
   },
   {
    "duration": 12,
    "start_time": "2022-04-23T11:08:41.032Z"
   },
   {
    "duration": 4,
    "start_time": "2022-04-23T11:08:41.045Z"
   },
   {
    "duration": 263,
    "start_time": "2022-04-23T11:08:41.050Z"
   },
   {
    "duration": 15,
    "start_time": "2022-04-23T11:08:41.315Z"
   },
   {
    "duration": 9,
    "start_time": "2022-04-23T11:08:41.332Z"
   },
   {
    "duration": 5,
    "start_time": "2022-04-23T11:08:41.343Z"
   },
   {
    "duration": 6,
    "start_time": "2022-04-23T11:08:41.349Z"
   },
   {
    "duration": 185,
    "start_time": "2022-04-23T11:08:41.357Z"
   },
   {
    "duration": 169,
    "start_time": "2022-04-23T11:08:41.544Z"
   },
   {
    "duration": 290,
    "start_time": "2022-04-23T11:08:41.715Z"
   },
   {
    "duration": 28,
    "start_time": "2022-04-23T11:08:42.006Z"
   },
   {
    "duration": 33,
    "start_time": "2022-04-23T11:08:42.036Z"
   },
   {
    "duration": 2229,
    "start_time": "2022-04-23T11:09:27.897Z"
   },
   {
    "duration": 18,
    "start_time": "2022-04-23T11:10:01.236Z"
   },
   {
    "duration": 2094,
    "start_time": "2022-04-23T11:10:05.547Z"
   },
   {
    "duration": 165,
    "start_time": "2022-04-23T11:10:16.919Z"
   },
   {
    "duration": 34,
    "start_time": "2022-04-23T11:13:04.325Z"
   },
   {
    "duration": 762,
    "start_time": "2022-04-23T11:13:14.996Z"
   },
   {
    "duration": 23,
    "start_time": "2022-04-23T11:13:15.760Z"
   },
   {
    "duration": 10,
    "start_time": "2022-04-23T11:13:15.784Z"
   },
   {
    "duration": 11,
    "start_time": "2022-04-23T11:13:15.796Z"
   },
   {
    "duration": 19,
    "start_time": "2022-04-23T11:13:15.808Z"
   },
   {
    "duration": 20,
    "start_time": "2022-04-23T11:13:15.829Z"
   },
   {
    "duration": 11,
    "start_time": "2022-04-23T11:13:15.850Z"
   },
   {
    "duration": 31,
    "start_time": "2022-04-23T11:13:15.863Z"
   },
   {
    "duration": 17,
    "start_time": "2022-04-23T11:13:15.896Z"
   },
   {
    "duration": 14,
    "start_time": "2022-04-23T11:13:15.915Z"
   },
   {
    "duration": 14,
    "start_time": "2022-04-23T11:13:15.931Z"
   },
   {
    "duration": 11,
    "start_time": "2022-04-23T11:13:15.947Z"
   },
   {
    "duration": 8,
    "start_time": "2022-04-23T11:13:15.959Z"
   },
   {
    "duration": 32,
    "start_time": "2022-04-23T11:13:15.968Z"
   },
   {
    "duration": 22,
    "start_time": "2022-04-23T11:13:16.002Z"
   },
   {
    "duration": 9,
    "start_time": "2022-04-23T11:13:16.026Z"
   },
   {
    "duration": 252,
    "start_time": "2022-04-23T11:13:16.036Z"
   },
   {
    "duration": 10,
    "start_time": "2022-04-23T11:13:16.290Z"
   },
   {
    "duration": 7,
    "start_time": "2022-04-23T11:13:16.302Z"
   },
   {
    "duration": 5,
    "start_time": "2022-04-23T11:13:16.323Z"
   },
   {
    "duration": 8,
    "start_time": "2022-04-23T11:13:16.330Z"
   },
   {
    "duration": 202,
    "start_time": "2022-04-23T11:13:16.340Z"
   },
   {
    "duration": 229,
    "start_time": "2022-04-23T11:13:16.544Z"
   },
   {
    "duration": 328,
    "start_time": "2022-04-23T11:13:16.774Z"
   },
   {
    "duration": 28,
    "start_time": "2022-04-23T11:13:17.103Z"
   },
   {
    "duration": 9,
    "start_time": "2022-04-23T11:13:17.132Z"
   },
   {
    "duration": 24,
    "start_time": "2022-04-23T11:13:17.142Z"
   },
   {
    "duration": 36,
    "start_time": "2022-04-23T11:13:17.169Z"
   },
   {
    "duration": 176,
    "start_time": "2022-04-23T11:13:54.665Z"
   },
   {
    "duration": 16,
    "start_time": "2022-04-23T11:14:58.982Z"
   },
   {
    "duration": 17,
    "start_time": "2022-04-23T11:15:03.525Z"
   },
   {
    "duration": 11,
    "start_time": "2022-04-23T11:15:27.320Z"
   },
   {
    "duration": 2128,
    "start_time": "2022-04-23T11:15:42.487Z"
   },
   {
    "duration": 4,
    "start_time": "2022-04-23T11:16:07.124Z"
   },
   {
    "duration": 13,
    "start_time": "2022-04-23T11:16:12.681Z"
   },
   {
    "duration": 14,
    "start_time": "2022-04-23T11:16:25.598Z"
   },
   {
    "duration": 15,
    "start_time": "2022-04-23T11:16:32.645Z"
   },
   {
    "duration": 171,
    "start_time": "2022-04-23T11:16:38.826Z"
   },
   {
    "duration": 166,
    "start_time": "2022-04-23T11:16:46.249Z"
   },
   {
    "duration": 290,
    "start_time": "2022-04-23T11:16:50.214Z"
   },
   {
    "duration": 19,
    "start_time": "2022-04-23T11:16:52.608Z"
   },
   {
    "duration": 9,
    "start_time": "2022-04-23T11:16:56.899Z"
   },
   {
    "duration": 17,
    "start_time": "2022-04-23T11:16:58.607Z"
   },
   {
    "duration": 16,
    "start_time": "2022-04-23T11:18:10.730Z"
   },
   {
    "duration": 576,
    "start_time": "2022-04-23T11:18:15.170Z"
   },
   {
    "duration": 17,
    "start_time": "2022-04-23T11:18:15.749Z"
   },
   {
    "duration": 10,
    "start_time": "2022-04-23T11:18:15.767Z"
   },
   {
    "duration": 11,
    "start_time": "2022-04-23T11:18:15.779Z"
   },
   {
    "duration": 9,
    "start_time": "2022-04-23T11:18:15.791Z"
   },
   {
    "duration": 23,
    "start_time": "2022-04-23T11:18:15.801Z"
   },
   {
    "duration": 9,
    "start_time": "2022-04-23T11:18:15.826Z"
   },
   {
    "duration": 29,
    "start_time": "2022-04-23T11:18:15.836Z"
   },
   {
    "duration": 15,
    "start_time": "2022-04-23T11:18:15.866Z"
   },
   {
    "duration": 16,
    "start_time": "2022-04-23T11:18:15.884Z"
   },
   {
    "duration": 11,
    "start_time": "2022-04-23T11:18:15.901Z"
   },
   {
    "duration": 59,
    "start_time": "2022-04-23T11:18:15.923Z"
   },
   {
    "duration": 6,
    "start_time": "2022-04-23T11:18:15.984Z"
   },
   {
    "duration": 26,
    "start_time": "2022-04-23T11:18:15.991Z"
   },
   {
    "duration": 10,
    "start_time": "2022-04-23T11:18:16.019Z"
   },
   {
    "duration": 4,
    "start_time": "2022-04-23T11:18:16.031Z"
   },
   {
    "duration": 252,
    "start_time": "2022-04-23T11:18:16.037Z"
   },
   {
    "duration": 15,
    "start_time": "2022-04-23T11:18:16.291Z"
   },
   {
    "duration": 16,
    "start_time": "2022-04-23T11:18:16.307Z"
   },
   {
    "duration": 3,
    "start_time": "2022-04-23T11:18:16.325Z"
   },
   {
    "duration": 16,
    "start_time": "2022-04-23T11:18:16.329Z"
   },
   {
    "duration": 171,
    "start_time": "2022-04-23T11:18:16.347Z"
   },
   {
    "duration": 173,
    "start_time": "2022-04-23T11:18:16.523Z"
   },
   {
    "duration": 316,
    "start_time": "2022-04-23T11:18:16.697Z"
   },
   {
    "duration": 24,
    "start_time": "2022-04-23T11:18:17.014Z"
   },
   {
    "duration": 8,
    "start_time": "2022-04-23T11:18:17.040Z"
   },
   {
    "duration": 16,
    "start_time": "2022-04-23T11:18:17.050Z"
   },
   {
    "duration": 27,
    "start_time": "2022-04-23T11:18:17.069Z"
   },
   {
    "duration": 31,
    "start_time": "2022-04-23T11:23:12.721Z"
   },
   {
    "duration": 599,
    "start_time": "2022-04-23T11:24:16.332Z"
   },
   {
    "duration": 18,
    "start_time": "2022-04-23T11:24:16.933Z"
   },
   {
    "duration": 10,
    "start_time": "2022-04-23T11:24:16.953Z"
   },
   {
    "duration": 19,
    "start_time": "2022-04-23T11:24:16.965Z"
   },
   {
    "duration": 10,
    "start_time": "2022-04-23T11:24:16.986Z"
   },
   {
    "duration": 16,
    "start_time": "2022-04-23T11:24:16.997Z"
   },
   {
    "duration": 15,
    "start_time": "2022-04-23T11:24:17.014Z"
   },
   {
    "duration": 30,
    "start_time": "2022-04-23T11:24:17.031Z"
   },
   {
    "duration": 17,
    "start_time": "2022-04-23T11:24:17.062Z"
   },
   {
    "duration": 14,
    "start_time": "2022-04-23T11:24:17.083Z"
   },
   {
    "duration": 19,
    "start_time": "2022-04-23T11:24:17.099Z"
   },
   {
    "duration": 11,
    "start_time": "2022-04-23T11:24:17.120Z"
   },
   {
    "duration": 9,
    "start_time": "2022-04-23T11:24:17.133Z"
   },
   {
    "duration": 28,
    "start_time": "2022-04-23T11:24:17.144Z"
   },
   {
    "duration": 11,
    "start_time": "2022-04-23T11:24:17.174Z"
   },
   {
    "duration": 7,
    "start_time": "2022-04-23T11:24:17.186Z"
   },
   {
    "duration": 272,
    "start_time": "2022-04-23T11:24:17.194Z"
   },
   {
    "duration": 17,
    "start_time": "2022-04-23T11:24:17.467Z"
   },
   {
    "duration": 6,
    "start_time": "2022-04-23T11:24:17.485Z"
   },
   {
    "duration": 7,
    "start_time": "2022-04-23T11:24:17.492Z"
   },
   {
    "duration": 29,
    "start_time": "2022-04-23T11:24:17.500Z"
   },
   {
    "duration": 179,
    "start_time": "2022-04-23T11:24:17.530Z"
   },
   {
    "duration": 185,
    "start_time": "2022-04-23T11:24:17.711Z"
   },
   {
    "duration": 303,
    "start_time": "2022-04-23T11:24:17.897Z"
   },
   {
    "duration": 29,
    "start_time": "2022-04-23T11:24:18.202Z"
   },
   {
    "duration": 10,
    "start_time": "2022-04-23T11:24:18.232Z"
   },
   {
    "duration": 21,
    "start_time": "2022-04-23T11:24:18.243Z"
   },
   {
    "duration": 28,
    "start_time": "2022-04-23T11:24:18.266Z"
   },
   {
    "duration": 22,
    "start_time": "2022-04-23T11:25:34.109Z"
   },
   {
    "duration": 23,
    "start_time": "2022-04-23T11:25:49.228Z"
   },
   {
    "duration": 19,
    "start_time": "2022-04-23T11:25:59.537Z"
   },
   {
    "duration": 585,
    "start_time": "2022-04-23T11:27:06.947Z"
   },
   {
    "duration": 17,
    "start_time": "2022-04-23T11:27:07.534Z"
   },
   {
    "duration": 9,
    "start_time": "2022-04-23T11:27:07.553Z"
   },
   {
    "duration": 12,
    "start_time": "2022-04-23T11:27:07.564Z"
   },
   {
    "duration": 11,
    "start_time": "2022-04-23T11:27:07.579Z"
   },
   {
    "duration": 32,
    "start_time": "2022-04-23T11:27:07.592Z"
   },
   {
    "duration": 14,
    "start_time": "2022-04-23T11:27:07.625Z"
   },
   {
    "duration": 28,
    "start_time": "2022-04-23T11:27:07.641Z"
   },
   {
    "duration": 17,
    "start_time": "2022-04-23T11:27:07.670Z"
   },
   {
    "duration": 15,
    "start_time": "2022-04-23T11:27:07.688Z"
   },
   {
    "duration": 30,
    "start_time": "2022-04-23T11:27:07.704Z"
   },
   {
    "duration": 18,
    "start_time": "2022-04-23T11:27:07.736Z"
   },
   {
    "duration": 5,
    "start_time": "2022-04-23T11:27:07.756Z"
   },
   {
    "duration": 26,
    "start_time": "2022-04-23T11:27:07.764Z"
   },
   {
    "duration": 40,
    "start_time": "2022-04-23T11:27:07.792Z"
   },
   {
    "duration": 4,
    "start_time": "2022-04-23T11:27:07.834Z"
   },
   {
    "duration": 254,
    "start_time": "2022-04-23T11:27:07.840Z"
   },
   {
    "duration": 28,
    "start_time": "2022-04-23T11:27:08.096Z"
   },
   {
    "duration": 5,
    "start_time": "2022-04-23T11:27:08.126Z"
   },
   {
    "duration": 7,
    "start_time": "2022-04-23T11:27:08.132Z"
   },
   {
    "duration": 21,
    "start_time": "2022-04-23T11:27:08.140Z"
   },
   {
    "duration": 284,
    "start_time": "2022-04-23T11:27:08.163Z"
   },
   {
    "duration": 181,
    "start_time": "2022-04-23T11:27:08.449Z"
   },
   {
    "duration": 303,
    "start_time": "2022-04-23T11:27:08.631Z"
   },
   {
    "duration": 20,
    "start_time": "2022-04-23T11:27:08.936Z"
   },
   {
    "duration": 8,
    "start_time": "2022-04-23T11:27:08.958Z"
   },
   {
    "duration": 18,
    "start_time": "2022-04-23T11:27:08.968Z"
   },
   {
    "duration": 56,
    "start_time": "2022-04-23T11:27:08.988Z"
   },
   {
    "duration": 219,
    "start_time": "2022-04-23T11:27:49.373Z"
   },
   {
    "duration": 65,
    "start_time": "2022-04-23T11:27:58.785Z"
   },
   {
    "duration": 2177,
    "start_time": "2022-04-23T11:28:15.661Z"
   },
   {
    "duration": 570,
    "start_time": "2022-04-23T11:29:36.766Z"
   },
   {
    "duration": 17,
    "start_time": "2022-04-23T11:29:37.338Z"
   },
   {
    "duration": 9,
    "start_time": "2022-04-23T11:29:37.356Z"
   },
   {
    "duration": 12,
    "start_time": "2022-04-23T11:29:37.368Z"
   },
   {
    "duration": 10,
    "start_time": "2022-04-23T11:29:37.382Z"
   },
   {
    "duration": 31,
    "start_time": "2022-04-23T11:29:37.394Z"
   },
   {
    "duration": 11,
    "start_time": "2022-04-23T11:29:37.427Z"
   },
   {
    "duration": 28,
    "start_time": "2022-04-23T11:29:37.439Z"
   },
   {
    "duration": 17,
    "start_time": "2022-04-23T11:29:37.469Z"
   },
   {
    "duration": 15,
    "start_time": "2022-04-23T11:29:37.489Z"
   },
   {
    "duration": 32,
    "start_time": "2022-04-23T11:29:37.506Z"
   },
   {
    "duration": 18,
    "start_time": "2022-04-23T11:29:37.539Z"
   },
   {
    "duration": 9,
    "start_time": "2022-04-23T11:29:37.559Z"
   },
   {
    "duration": 25,
    "start_time": "2022-04-23T11:29:37.570Z"
   },
   {
    "duration": 37,
    "start_time": "2022-04-23T11:29:37.596Z"
   },
   {
    "duration": 4,
    "start_time": "2022-04-23T11:29:37.635Z"
   },
   {
    "duration": 259,
    "start_time": "2022-04-23T11:29:37.640Z"
   },
   {
    "duration": 10,
    "start_time": "2022-04-23T11:29:37.900Z"
   },
   {
    "duration": 11,
    "start_time": "2022-04-23T11:29:37.912Z"
   },
   {
    "duration": 5,
    "start_time": "2022-04-23T11:29:37.925Z"
   },
   {
    "duration": 15,
    "start_time": "2022-04-23T11:29:37.932Z"
   },
   {
    "duration": 177,
    "start_time": "2022-04-23T11:29:37.949Z"
   },
   {
    "duration": 176,
    "start_time": "2022-04-23T11:29:38.128Z"
   },
   {
    "duration": 303,
    "start_time": "2022-04-23T11:29:38.306Z"
   },
   {
    "duration": 27,
    "start_time": "2022-04-23T11:29:38.611Z"
   },
   {
    "duration": 8,
    "start_time": "2022-04-23T11:29:38.639Z"
   },
   {
    "duration": 21,
    "start_time": "2022-04-23T11:29:38.649Z"
   },
   {
    "duration": 27,
    "start_time": "2022-04-23T11:29:38.673Z"
   },
   {
    "duration": 215,
    "start_time": "2022-04-23T11:29:38.701Z"
   },
   {
    "duration": 9,
    "start_time": "2022-04-23T11:29:38.918Z"
   },
   {
    "duration": 62,
    "start_time": "2022-04-23T11:35:43.760Z"
   },
   {
    "duration": 178,
    "start_time": "2022-04-23T11:35:50.699Z"
   },
   {
    "duration": 179,
    "start_time": "2022-04-23T11:37:06.916Z"
   },
   {
    "duration": 12,
    "start_time": "2022-04-23T11:37:36.695Z"
   },
   {
    "duration": 8,
    "start_time": "2022-04-23T11:39:19.668Z"
   },
   {
    "duration": 8,
    "start_time": "2022-04-23T11:39:50.756Z"
   },
   {
    "duration": 7,
    "start_time": "2022-04-23T11:40:28.271Z"
   },
   {
    "duration": 10,
    "start_time": "2022-04-23T11:40:36.479Z"
   },
   {
    "duration": 19,
    "start_time": "2022-04-23T11:41:25.712Z"
   },
   {
    "duration": 15,
    "start_time": "2022-04-23T11:41:38.741Z"
   },
   {
    "duration": 17,
    "start_time": "2022-04-23T11:41:48.948Z"
   },
   {
    "duration": 14,
    "start_time": "2022-04-23T11:42:06.504Z"
   },
   {
    "duration": 2142,
    "start_time": "2022-04-23T11:42:52.825Z"
   },
   {
    "duration": 2245,
    "start_time": "2022-04-23T11:43:02.416Z"
   },
   {
    "duration": 173,
    "start_time": "2022-04-23T11:43:15.853Z"
   },
   {
    "duration": 10,
    "start_time": "2022-04-23T11:47:52.517Z"
   },
   {
    "duration": 13,
    "start_time": "2022-04-23T11:48:13.191Z"
   },
   {
    "duration": 13,
    "start_time": "2022-04-23T11:48:22.467Z"
   },
   {
    "duration": 8,
    "start_time": "2022-04-23T11:50:00.220Z"
   },
   {
    "duration": 12,
    "start_time": "2022-04-23T11:50:09.207Z"
   },
   {
    "duration": 11,
    "start_time": "2022-04-23T11:50:19.351Z"
   },
   {
    "duration": 11,
    "start_time": "2022-04-23T11:50:32.281Z"
   },
   {
    "duration": 10,
    "start_time": "2022-04-23T11:50:35.662Z"
   },
   {
    "duration": 165,
    "start_time": "2022-04-23T11:50:43.938Z"
   },
   {
    "duration": 7,
    "start_time": "2022-04-23T11:51:17.158Z"
   },
   {
    "duration": 7,
    "start_time": "2022-04-23T11:51:31.512Z"
   },
   {
    "duration": 1476,
    "start_time": "2022-04-23T11:56:10.983Z"
   },
   {
    "duration": 567,
    "start_time": "2022-04-23T11:56:36.172Z"
   },
   {
    "duration": 23,
    "start_time": "2022-04-23T11:56:36.741Z"
   },
   {
    "duration": 10,
    "start_time": "2022-04-23T11:56:36.766Z"
   },
   {
    "duration": 12,
    "start_time": "2022-04-23T11:56:36.779Z"
   },
   {
    "duration": 10,
    "start_time": "2022-04-23T11:56:36.792Z"
   },
   {
    "duration": 10,
    "start_time": "2022-04-23T11:56:36.823Z"
   },
   {
    "duration": 11,
    "start_time": "2022-04-23T11:56:36.835Z"
   },
   {
    "duration": 28,
    "start_time": "2022-04-23T11:56:36.848Z"
   },
   {
    "duration": 18,
    "start_time": "2022-04-23T11:56:36.877Z"
   },
   {
    "duration": 14,
    "start_time": "2022-04-23T11:56:36.899Z"
   },
   {
    "duration": 27,
    "start_time": "2022-04-23T11:56:36.915Z"
   },
   {
    "duration": 18,
    "start_time": "2022-04-23T11:56:36.944Z"
   },
   {
    "duration": 6,
    "start_time": "2022-04-23T11:56:36.964Z"
   },
   {
    "duration": 58,
    "start_time": "2022-04-23T11:56:36.972Z"
   },
   {
    "duration": 11,
    "start_time": "2022-04-23T11:56:37.032Z"
   },
   {
    "duration": 4,
    "start_time": "2022-04-23T11:56:37.044Z"
   },
   {
    "duration": 253,
    "start_time": "2022-04-23T11:56:37.049Z"
   },
   {
    "duration": 21,
    "start_time": "2022-04-23T11:56:37.304Z"
   },
   {
    "duration": 6,
    "start_time": "2022-04-23T11:56:37.326Z"
   },
   {
    "duration": 5,
    "start_time": "2022-04-23T11:56:37.334Z"
   },
   {
    "duration": 17,
    "start_time": "2022-04-23T11:56:37.340Z"
   },
   {
    "duration": 181,
    "start_time": "2022-04-23T11:56:37.359Z"
   },
   {
    "duration": 183,
    "start_time": "2022-04-23T11:56:37.542Z"
   },
   {
    "duration": 307,
    "start_time": "2022-04-23T11:56:37.727Z"
   },
   {
    "duration": 18,
    "start_time": "2022-04-23T11:56:38.036Z"
   },
   {
    "duration": 8,
    "start_time": "2022-04-23T11:56:38.056Z"
   },
   {
    "duration": 18,
    "start_time": "2022-04-23T11:56:38.066Z"
   },
   {
    "duration": 49,
    "start_time": "2022-04-23T11:56:38.087Z"
   },
   {
    "duration": 198,
    "start_time": "2022-04-23T11:56:38.138Z"
   },
   {
    "duration": 7,
    "start_time": "2022-04-23T11:56:38.338Z"
   },
   {
    "duration": 15,
    "start_time": "2022-04-23T11:56:38.346Z"
   },
   {
    "duration": 9,
    "start_time": "2022-04-23T11:56:38.363Z"
   },
   {
    "duration": 148,
    "start_time": "2022-04-23T11:56:38.373Z"
   },
   {
    "duration": 6,
    "start_time": "2022-04-23T11:56:38.524Z"
   },
   {
    "duration": 70,
    "start_time": "2022-04-23T11:57:55.205Z"
   },
   {
    "duration": 1560,
    "start_time": "2022-04-23T12:03:55.517Z"
   },
   {
    "duration": 662,
    "start_time": "2022-04-23T12:04:11.809Z"
   },
   {
    "duration": 22,
    "start_time": "2022-04-23T12:04:12.472Z"
   },
   {
    "duration": 9,
    "start_time": "2022-04-23T12:04:12.495Z"
   },
   {
    "duration": 18,
    "start_time": "2022-04-23T12:04:12.506Z"
   },
   {
    "duration": 10,
    "start_time": "2022-04-23T12:04:12.526Z"
   },
   {
    "duration": 11,
    "start_time": "2022-04-23T12:04:12.537Z"
   },
   {
    "duration": 11,
    "start_time": "2022-04-23T12:04:12.549Z"
   },
   {
    "duration": 26,
    "start_time": "2022-04-23T12:04:12.562Z"
   },
   {
    "duration": 17,
    "start_time": "2022-04-23T12:04:12.589Z"
   },
   {
    "duration": 22,
    "start_time": "2022-04-23T12:04:12.608Z"
   },
   {
    "duration": 21,
    "start_time": "2022-04-23T12:04:12.631Z"
   },
   {
    "duration": 15,
    "start_time": "2022-04-23T12:04:12.654Z"
   },
   {
    "duration": 5,
    "start_time": "2022-04-23T12:04:12.671Z"
   },
   {
    "duration": 56,
    "start_time": "2022-04-23T12:04:12.677Z"
   },
   {
    "duration": 12,
    "start_time": "2022-04-23T12:04:12.734Z"
   },
   {
    "duration": 4,
    "start_time": "2022-04-23T12:04:12.747Z"
   },
   {
    "duration": 261,
    "start_time": "2022-04-23T12:04:12.752Z"
   },
   {
    "duration": 13,
    "start_time": "2022-04-23T12:04:13.015Z"
   },
   {
    "duration": 7,
    "start_time": "2022-04-23T12:04:13.029Z"
   },
   {
    "duration": 6,
    "start_time": "2022-04-23T12:04:13.037Z"
   },
   {
    "duration": 16,
    "start_time": "2022-04-23T12:04:13.044Z"
   },
   {
    "duration": 182,
    "start_time": "2022-04-23T12:04:13.062Z"
   },
   {
    "duration": 183,
    "start_time": "2022-04-23T12:04:13.246Z"
   },
   {
    "duration": 281,
    "start_time": "2022-04-23T12:04:13.430Z"
   },
   {
    "duration": 19,
    "start_time": "2022-04-23T12:04:13.723Z"
   },
   {
    "duration": 9,
    "start_time": "2022-04-23T12:04:13.743Z"
   },
   {
    "duration": 18,
    "start_time": "2022-04-23T12:04:13.753Z"
   },
   {
    "duration": 50,
    "start_time": "2022-04-23T12:04:13.774Z"
   },
   {
    "duration": 202,
    "start_time": "2022-04-23T12:04:13.826Z"
   },
   {
    "duration": 6,
    "start_time": "2022-04-23T12:04:14.030Z"
   },
   {
    "duration": 13,
    "start_time": "2022-04-23T12:04:14.038Z"
   },
   {
    "duration": 8,
    "start_time": "2022-04-23T12:04:14.052Z"
   },
   {
    "duration": 142,
    "start_time": "2022-04-23T12:04:14.062Z"
   },
   {
    "duration": 4,
    "start_time": "2022-04-23T12:04:14.206Z"
   },
   {
    "duration": 12,
    "start_time": "2022-04-23T12:07:34.338Z"
   },
   {
    "duration": 189,
    "start_time": "2022-04-23T12:08:32.419Z"
   },
   {
    "duration": 181,
    "start_time": "2022-04-23T12:09:09.568Z"
   },
   {
    "duration": 207,
    "start_time": "2022-04-23T12:09:37.678Z"
   },
   {
    "duration": 5,
    "start_time": "2022-04-23T12:09:54.946Z"
   },
   {
    "duration": 148,
    "start_time": "2022-04-23T12:20:06.065Z"
   },
   {
    "duration": 5,
    "start_time": "2022-04-23T12:20:30.987Z"
   },
   {
    "duration": 5,
    "start_time": "2022-04-23T12:44:42.943Z"
   },
   {
    "duration": 4,
    "start_time": "2022-04-23T12:47:35.741Z"
   },
   {
    "duration": 5,
    "start_time": "2022-04-23T12:48:26.533Z"
   },
   {
    "duration": 4,
    "start_time": "2022-04-23T12:48:37.794Z"
   },
   {
    "duration": 5,
    "start_time": "2022-04-23T12:48:43.413Z"
   },
   {
    "duration": 2188,
    "start_time": "2022-04-23T13:22:48.245Z"
   },
   {
    "duration": 885,
    "start_time": "2022-04-23T13:23:07.785Z"
   },
   {
    "duration": 25,
    "start_time": "2022-04-23T13:23:08.672Z"
   },
   {
    "duration": 27,
    "start_time": "2022-04-23T13:23:08.700Z"
   },
   {
    "duration": 24,
    "start_time": "2022-04-23T13:23:08.730Z"
   },
   {
    "duration": 16,
    "start_time": "2022-04-23T13:23:08.756Z"
   },
   {
    "duration": 15,
    "start_time": "2022-04-23T13:23:08.774Z"
   },
   {
    "duration": 39,
    "start_time": "2022-04-23T13:23:08.790Z"
   },
   {
    "duration": 30,
    "start_time": "2022-04-23T13:23:08.831Z"
   },
   {
    "duration": 26,
    "start_time": "2022-04-23T13:23:08.862Z"
   },
   {
    "duration": 33,
    "start_time": "2022-04-23T13:23:08.891Z"
   },
   {
    "duration": 37,
    "start_time": "2022-04-23T13:23:08.927Z"
   },
   {
    "duration": 24,
    "start_time": "2022-04-23T13:23:08.966Z"
   },
   {
    "duration": 32,
    "start_time": "2022-04-23T13:23:08.992Z"
   },
   {
    "duration": 45,
    "start_time": "2022-04-23T13:23:09.026Z"
   },
   {
    "duration": 12,
    "start_time": "2022-04-23T13:23:09.073Z"
   },
   {
    "duration": 9,
    "start_time": "2022-04-23T13:23:09.087Z"
   },
   {
    "duration": 286,
    "start_time": "2022-04-23T13:23:09.098Z"
   },
   {
    "duration": 11,
    "start_time": "2022-04-23T13:23:09.386Z"
   },
   {
    "duration": 7,
    "start_time": "2022-04-23T13:23:09.399Z"
   },
   {
    "duration": 21,
    "start_time": "2022-04-23T13:23:09.408Z"
   },
   {
    "duration": 21,
    "start_time": "2022-04-23T13:23:09.431Z"
   },
   {
    "duration": 193,
    "start_time": "2022-04-23T13:23:09.454Z"
   },
   {
    "duration": 278,
    "start_time": "2022-04-23T13:23:09.649Z"
   },
   {
    "duration": 440,
    "start_time": "2022-04-23T13:23:09.930Z"
   },
   {
    "duration": 24,
    "start_time": "2022-04-23T13:23:10.372Z"
   },
   {
    "duration": 27,
    "start_time": "2022-04-23T13:23:10.398Z"
   },
   {
    "duration": 29,
    "start_time": "2022-04-23T13:23:10.427Z"
   },
   {
    "duration": 65,
    "start_time": "2022-04-23T13:23:10.460Z"
   },
   {
    "duration": 261,
    "start_time": "2022-04-23T13:23:10.527Z"
   },
   {
    "duration": 7,
    "start_time": "2022-04-23T13:23:10.790Z"
   },
   {
    "duration": 150,
    "start_time": "2022-04-23T13:23:10.799Z"
   },
   {
    "duration": 0,
    "start_time": "2022-04-23T13:23:10.951Z"
   },
   {
    "duration": 0,
    "start_time": "2022-04-23T13:23:10.953Z"
   },
   {
    "duration": 0,
    "start_time": "2022-04-23T13:23:10.954Z"
   },
   {
    "duration": 0,
    "start_time": "2022-04-23T13:23:10.955Z"
   },
   {
    "duration": 0,
    "start_time": "2022-04-23T13:23:10.956Z"
   },
   {
    "duration": 636,
    "start_time": "2022-04-23T13:23:24.640Z"
   },
   {
    "duration": 19,
    "start_time": "2022-04-23T13:23:25.277Z"
   },
   {
    "duration": 12,
    "start_time": "2022-04-23T13:23:25.297Z"
   },
   {
    "duration": 22,
    "start_time": "2022-04-23T13:23:25.311Z"
   },
   {
    "duration": 12,
    "start_time": "2022-04-23T13:23:25.335Z"
   },
   {
    "duration": 14,
    "start_time": "2022-04-23T13:23:25.349Z"
   },
   {
    "duration": 11,
    "start_time": "2022-04-23T13:23:25.365Z"
   },
   {
    "duration": 30,
    "start_time": "2022-04-23T13:23:25.378Z"
   },
   {
    "duration": 30,
    "start_time": "2022-04-23T13:23:25.410Z"
   },
   {
    "duration": 24,
    "start_time": "2022-04-23T13:23:25.444Z"
   },
   {
    "duration": 22,
    "start_time": "2022-04-23T13:23:25.469Z"
   },
   {
    "duration": 49,
    "start_time": "2022-04-23T13:23:25.493Z"
   },
   {
    "duration": 7,
    "start_time": "2022-04-23T13:23:25.544Z"
   },
   {
    "duration": 28,
    "start_time": "2022-04-23T13:23:25.553Z"
   },
   {
    "duration": 13,
    "start_time": "2022-04-23T13:23:25.583Z"
   },
   {
    "duration": 5,
    "start_time": "2022-04-23T13:23:25.624Z"
   },
   {
    "duration": 417,
    "start_time": "2022-04-23T13:23:25.631Z"
   },
   {
    "duration": 16,
    "start_time": "2022-04-23T13:23:26.050Z"
   },
   {
    "duration": 6,
    "start_time": "2022-04-23T13:23:26.068Z"
   },
   {
    "duration": 8,
    "start_time": "2022-04-23T13:23:26.075Z"
   },
   {
    "duration": 43,
    "start_time": "2022-04-23T13:23:26.085Z"
   },
   {
    "duration": 233,
    "start_time": "2022-04-23T13:23:26.131Z"
   },
   {
    "duration": 306,
    "start_time": "2022-04-23T13:23:26.366Z"
   },
   {
    "duration": 445,
    "start_time": "2022-04-23T13:23:26.675Z"
   },
   {
    "duration": 28,
    "start_time": "2022-04-23T13:23:27.124Z"
   },
   {
    "duration": 10,
    "start_time": "2022-04-23T13:23:27.153Z"
   },
   {
    "duration": 22,
    "start_time": "2022-04-23T13:23:27.164Z"
   },
   {
    "duration": 61,
    "start_time": "2022-04-23T13:23:27.189Z"
   },
   {
    "duration": 212,
    "start_time": "2022-04-23T13:23:27.252Z"
   },
   {
    "duration": 10,
    "start_time": "2022-04-23T13:23:27.466Z"
   },
   {
    "duration": 15,
    "start_time": "2022-04-23T13:23:27.477Z"
   },
   {
    "duration": 189,
    "start_time": "2022-04-23T13:23:27.494Z"
   },
   {
    "duration": 4,
    "start_time": "2022-04-23T13:23:27.685Z"
   },
   {
    "duration": 170,
    "start_time": "2022-04-23T13:23:27.691Z"
   },
   {
    "duration": 4,
    "start_time": "2022-04-23T13:23:27.863Z"
   },
   {
    "duration": 2340,
    "start_time": "2022-04-23T13:23:27.869Z"
   },
   {
    "duration": 2176,
    "start_time": "2022-04-23T13:23:52.363Z"
   },
   {
    "duration": 4,
    "start_time": "2022-04-23T13:23:57.758Z"
   },
   {
    "duration": 5,
    "start_time": "2022-04-23T13:24:14.056Z"
   },
   {
    "duration": 6,
    "start_time": "2022-04-23T13:24:29.857Z"
   },
   {
    "duration": 127,
    "start_time": "2022-04-23T13:25:05.624Z"
   },
   {
    "duration": 9,
    "start_time": "2022-04-23T13:25:33.933Z"
   },
   {
    "duration": 2,
    "start_time": "2022-04-23T13:25:50.213Z"
   },
   {
    "duration": 9,
    "start_time": "2022-04-23T13:25:53.941Z"
   },
   {
    "duration": 407,
    "start_time": "2022-04-23T13:26:12.280Z"
   },
   {
    "duration": 34,
    "start_time": "2022-04-23T13:26:16.850Z"
   },
   {
    "duration": 3,
    "start_time": "2022-04-23T13:26:29.170Z"
   },
   {
    "duration": 6,
    "start_time": "2022-04-23T13:26:32.957Z"
   },
   {
    "duration": 6,
    "start_time": "2022-04-23T13:35:12.663Z"
   },
   {
    "duration": 5,
    "start_time": "2022-04-23T13:46:22.688Z"
   },
   {
    "duration": 4,
    "start_time": "2022-04-23T13:46:32.227Z"
   },
   {
    "duration": 4,
    "start_time": "2022-04-23T13:46:51.342Z"
   },
   {
    "duration": 1404,
    "start_time": "2022-04-23T13:47:02.880Z"
   },
   {
    "duration": 26,
    "start_time": "2022-04-23T13:47:04.287Z"
   },
   {
    "duration": 22,
    "start_time": "2022-04-23T13:47:04.316Z"
   },
   {
    "duration": 16,
    "start_time": "2022-04-23T13:47:04.341Z"
   },
   {
    "duration": 12,
    "start_time": "2022-04-23T13:47:04.358Z"
   },
   {
    "duration": 13,
    "start_time": "2022-04-23T13:47:04.372Z"
   },
   {
    "duration": 39,
    "start_time": "2022-04-23T13:47:04.387Z"
   },
   {
    "duration": 27,
    "start_time": "2022-04-23T13:47:04.428Z"
   },
   {
    "duration": 20,
    "start_time": "2022-04-23T13:47:04.457Z"
   },
   {
    "duration": 16,
    "start_time": "2022-04-23T13:47:04.480Z"
   },
   {
    "duration": 40,
    "start_time": "2022-04-23T13:47:04.498Z"
   },
   {
    "duration": 19,
    "start_time": "2022-04-23T13:47:04.540Z"
   },
   {
    "duration": 9,
    "start_time": "2022-04-23T13:47:04.560Z"
   },
   {
    "duration": 57,
    "start_time": "2022-04-23T13:47:04.570Z"
   },
   {
    "duration": 14,
    "start_time": "2022-04-23T13:47:04.629Z"
   },
   {
    "duration": 6,
    "start_time": "2022-04-23T13:47:04.645Z"
   },
   {
    "duration": 278,
    "start_time": "2022-04-23T13:47:04.653Z"
   },
   {
    "duration": 12,
    "start_time": "2022-04-23T13:47:04.932Z"
   },
   {
    "duration": 8,
    "start_time": "2022-04-23T13:47:04.946Z"
   },
   {
    "duration": 8,
    "start_time": "2022-04-23T13:47:04.955Z"
   },
   {
    "duration": 21,
    "start_time": "2022-04-23T13:47:04.965Z"
   },
   {
    "duration": 203,
    "start_time": "2022-04-23T13:47:04.988Z"
   },
   {
    "duration": 197,
    "start_time": "2022-04-23T13:47:05.193Z"
   },
   {
    "duration": 390,
    "start_time": "2022-04-23T13:47:05.392Z"
   },
   {
    "duration": 41,
    "start_time": "2022-04-23T13:47:05.784Z"
   },
   {
    "duration": 12,
    "start_time": "2022-04-23T13:47:05.827Z"
   },
   {
    "duration": 21,
    "start_time": "2022-04-23T13:47:05.840Z"
   },
   {
    "duration": 33,
    "start_time": "2022-04-23T13:47:05.864Z"
   },
   {
    "duration": 246,
    "start_time": "2022-04-23T13:47:05.899Z"
   },
   {
    "duration": 9,
    "start_time": "2022-04-23T13:47:06.147Z"
   },
   {
    "duration": 15,
    "start_time": "2022-04-23T13:47:06.159Z"
   },
   {
    "duration": 274,
    "start_time": "2022-04-23T13:47:06.176Z"
   },
   {
    "duration": 6,
    "start_time": "2022-04-23T13:47:06.452Z"
   },
   {
    "duration": 271,
    "start_time": "2022-04-23T13:47:06.460Z"
   },
   {
    "duration": 5,
    "start_time": "2022-04-23T13:47:06.733Z"
   },
   {
    "duration": 21,
    "start_time": "2022-04-23T13:47:06.740Z"
   },
   {
    "duration": 26,
    "start_time": "2022-04-23T13:47:06.764Z"
   },
   {
    "duration": 12,
    "start_time": "2022-04-23T13:47:06.792Z"
   },
   {
    "duration": 9,
    "start_time": "2022-04-23T13:47:06.807Z"
   },
   {
    "duration": 14,
    "start_time": "2022-04-23T13:47:06.818Z"
   },
   {
    "duration": 26,
    "start_time": "2022-04-23T13:47:06.834Z"
   },
   {
    "duration": 166,
    "start_time": "2022-04-23T13:47:06.863Z"
   },
   {
    "duration": 6,
    "start_time": "2022-04-23T13:47:12.985Z"
   },
   {
    "duration": 18,
    "start_time": "2022-04-23T13:50:43.805Z"
   },
   {
    "duration": 87,
    "start_time": "2022-04-23T13:59:17.399Z"
   },
   {
    "duration": 5,
    "start_time": "2022-04-23T13:59:36.976Z"
   },
   {
    "duration": 11,
    "start_time": "2022-04-23T14:42:54.218Z"
   },
   {
    "duration": 11,
    "start_time": "2022-04-23T14:43:00.011Z"
   },
   {
    "duration": 12,
    "start_time": "2022-04-23T14:43:04.621Z"
   },
   {
    "duration": 5,
    "start_time": "2022-04-23T14:43:12.806Z"
   },
   {
    "duration": 16,
    "start_time": "2022-04-23T14:43:16.959Z"
   },
   {
    "duration": 9,
    "start_time": "2022-04-23T14:46:11.208Z"
   },
   {
    "duration": 16,
    "start_time": "2022-04-23T14:47:14.806Z"
   },
   {
    "duration": 4,
    "start_time": "2022-04-23T14:48:17.271Z"
   },
   {
    "duration": 16,
    "start_time": "2022-04-23T14:48:19.053Z"
   },
   {
    "duration": 8,
    "start_time": "2022-04-23T14:48:36.764Z"
   },
   {
    "duration": 15,
    "start_time": "2022-04-23T14:49:03.627Z"
   },
   {
    "duration": 4,
    "start_time": "2022-04-23T14:50:13.114Z"
   },
   {
    "duration": 14,
    "start_time": "2022-04-23T14:50:14.071Z"
   },
   {
    "duration": 13,
    "start_time": "2022-04-23T14:53:49.122Z"
   },
   {
    "duration": 16,
    "start_time": "2022-04-23T14:55:31.385Z"
   },
   {
    "duration": 9,
    "start_time": "2022-04-23T14:56:10.995Z"
   },
   {
    "duration": 6,
    "start_time": "2022-04-23T14:56:40.853Z"
   },
   {
    "duration": 5,
    "start_time": "2022-04-23T14:57:07.971Z"
   },
   {
    "duration": 6,
    "start_time": "2022-04-23T14:57:46.723Z"
   },
   {
    "duration": 6,
    "start_time": "2022-04-23T14:59:52.989Z"
   },
   {
    "duration": 6,
    "start_time": "2022-04-23T15:00:11.432Z"
   },
   {
    "duration": 27,
    "start_time": "2022-04-23T15:10:54.224Z"
   },
   {
    "duration": 2276,
    "start_time": "2022-04-23T15:17:33.335Z"
   },
   {
    "duration": 12,
    "start_time": "2022-04-23T15:17:44.859Z"
   },
   {
    "duration": 5,
    "start_time": "2022-04-23T15:17:46.890Z"
   },
   {
    "duration": 1215,
    "start_time": "2022-04-23T15:18:08.036Z"
   },
   {
    "duration": 19,
    "start_time": "2022-04-23T15:18:09.253Z"
   },
   {
    "duration": 10,
    "start_time": "2022-04-23T15:18:09.273Z"
   },
   {
    "duration": 13,
    "start_time": "2022-04-23T15:18:09.285Z"
   },
   {
    "duration": 25,
    "start_time": "2022-04-23T15:18:09.300Z"
   },
   {
    "duration": 13,
    "start_time": "2022-04-23T15:18:09.327Z"
   },
   {
    "duration": 9,
    "start_time": "2022-04-23T15:18:09.341Z"
   },
   {
    "duration": 28,
    "start_time": "2022-04-23T15:18:09.352Z"
   },
   {
    "duration": 18,
    "start_time": "2022-04-23T15:18:09.381Z"
   },
   {
    "duration": 27,
    "start_time": "2022-04-23T15:18:09.401Z"
   },
   {
    "duration": 26,
    "start_time": "2022-04-23T15:18:09.430Z"
   },
   {
    "duration": 18,
    "start_time": "2022-04-23T15:18:09.458Z"
   },
   {
    "duration": 9,
    "start_time": "2022-04-23T15:18:09.477Z"
   },
   {
    "duration": 50,
    "start_time": "2022-04-23T15:18:09.489Z"
   },
   {
    "duration": 13,
    "start_time": "2022-04-23T15:18:09.540Z"
   },
   {
    "duration": 4,
    "start_time": "2022-04-23T15:18:09.555Z"
   },
   {
    "duration": 256,
    "start_time": "2022-04-23T15:18:09.560Z"
   },
   {
    "duration": 12,
    "start_time": "2022-04-23T15:18:09.818Z"
   },
   {
    "duration": 6,
    "start_time": "2022-04-23T15:18:09.832Z"
   },
   {
    "duration": 7,
    "start_time": "2022-04-23T15:18:09.839Z"
   },
   {
    "duration": 15,
    "start_time": "2022-04-23T15:18:09.848Z"
   },
   {
    "duration": 200,
    "start_time": "2022-04-23T15:18:09.865Z"
   },
   {
    "duration": 189,
    "start_time": "2022-04-23T15:18:10.067Z"
   },
   {
    "duration": 268,
    "start_time": "2022-04-23T15:18:10.258Z"
   },
   {
    "duration": 24,
    "start_time": "2022-04-23T15:18:10.529Z"
   },
   {
    "duration": 14,
    "start_time": "2022-04-23T15:18:10.556Z"
   },
   {
    "duration": 20,
    "start_time": "2022-04-23T15:18:10.572Z"
   },
   {
    "duration": 64,
    "start_time": "2022-04-23T15:18:10.594Z"
   },
   {
    "duration": 233,
    "start_time": "2022-04-23T15:18:10.660Z"
   },
   {
    "duration": 9,
    "start_time": "2022-04-23T15:18:10.895Z"
   },
   {
    "duration": 18,
    "start_time": "2022-04-23T15:18:10.907Z"
   },
   {
    "duration": 208,
    "start_time": "2022-04-23T15:18:10.927Z"
   },
   {
    "duration": 4,
    "start_time": "2022-04-23T15:18:11.137Z"
   },
   {
    "duration": 169,
    "start_time": "2022-04-23T15:18:11.143Z"
   },
   {
    "duration": 10,
    "start_time": "2022-04-23T15:18:11.314Z"
   },
   {
    "duration": 4,
    "start_time": "2022-04-23T15:18:11.326Z"
   },
   {
    "duration": 9,
    "start_time": "2022-04-23T15:18:11.332Z"
   },
   {
    "duration": 5,
    "start_time": "2022-04-23T15:18:11.343Z"
   },
   {
    "duration": 8,
    "start_time": "2022-04-23T15:18:11.349Z"
   },
   {
    "duration": 8,
    "start_time": "2022-04-23T15:18:11.359Z"
   },
   {
    "duration": 6,
    "start_time": "2022-04-23T15:18:11.372Z"
   },
   {
    "duration": 9,
    "start_time": "2022-04-23T15:18:11.380Z"
   },
   {
    "duration": 8,
    "start_time": "2022-04-23T15:18:11.424Z"
   },
   {
    "duration": 8,
    "start_time": "2022-04-23T15:18:11.433Z"
   },
   {
    "duration": 4,
    "start_time": "2022-04-23T15:18:11.443Z"
   },
   {
    "duration": 23,
    "start_time": "2022-04-23T15:18:11.449Z"
   },
   {
    "duration": 15,
    "start_time": "2022-04-23T15:18:11.474Z"
   },
   {
    "duration": 33,
    "start_time": "2022-04-23T15:18:11.491Z"
   },
   {
    "duration": 6,
    "start_time": "2022-04-23T15:18:11.527Z"
   },
   {
    "duration": 7,
    "start_time": "2022-04-23T15:18:11.535Z"
   },
   {
    "duration": 10,
    "start_time": "2022-04-23T15:18:11.544Z"
   },
   {
    "duration": 6,
    "start_time": "2022-04-23T15:18:11.555Z"
   },
   {
    "duration": 8,
    "start_time": "2022-04-23T15:18:11.563Z"
   },
   {
    "duration": 6,
    "start_time": "2022-04-23T15:20:31.416Z"
   },
   {
    "duration": 13,
    "start_time": "2022-04-23T15:20:54.572Z"
   },
   {
    "duration": 5,
    "start_time": "2022-04-23T15:25:58.038Z"
   },
   {
    "duration": 5,
    "start_time": "2022-04-23T15:27:25.775Z"
   },
   {
    "duration": 44,
    "start_time": "2022-04-24T15:16:35.055Z"
   },
   {
    "duration": 1493,
    "start_time": "2022-04-24T15:16:39.629Z"
   },
   {
    "duration": 36,
    "start_time": "2022-04-24T15:16:41.125Z"
   },
   {
    "duration": 11,
    "start_time": "2022-04-24T15:16:41.164Z"
   },
   {
    "duration": 14,
    "start_time": "2022-04-24T15:16:45.333Z"
   },
   {
    "duration": 12,
    "start_time": "2022-04-24T15:16:47.726Z"
   },
   {
    "duration": 11,
    "start_time": "2022-04-24T15:16:49.574Z"
   },
   {
    "duration": 9,
    "start_time": "2022-04-24T15:17:01.129Z"
   },
   {
    "duration": 93,
    "start_time": "2022-04-24T15:33:34.437Z"
   },
   {
    "duration": 30,
    "start_time": "2022-04-24T15:33:37.158Z"
   },
   {
    "duration": 13,
    "start_time": "2022-04-24T15:33:38.380Z"
   },
   {
    "duration": 17,
    "start_time": "2022-04-24T15:35:04.307Z"
   },
   {
    "duration": 17,
    "start_time": "2022-04-24T15:35:26.691Z"
   },
   {
    "duration": 17,
    "start_time": "2022-04-24T15:35:37.250Z"
   },
   {
    "duration": 17,
    "start_time": "2022-04-24T15:35:54.024Z"
   },
   {
    "duration": 26,
    "start_time": "2022-04-24T15:36:00.599Z"
   },
   {
    "duration": 18,
    "start_time": "2022-04-24T15:36:12.406Z"
   },
   {
    "duration": 13,
    "start_time": "2022-04-24T15:36:38.771Z"
   },
   {
    "duration": 7,
    "start_time": "2022-04-24T15:38:31.507Z"
   },
   {
    "duration": 13,
    "start_time": "2022-04-24T15:38:51.111Z"
   },
   {
    "duration": 11,
    "start_time": "2022-04-24T15:39:14.942Z"
   },
   {
    "duration": 7,
    "start_time": "2022-04-24T15:53:06.393Z"
   },
   {
    "duration": 5,
    "start_time": "2022-04-24T15:53:23.033Z"
   },
   {
    "duration": 6,
    "start_time": "2022-04-24T15:53:47.282Z"
   },
   {
    "duration": 6,
    "start_time": "2022-04-24T15:53:52.212Z"
   },
   {
    "duration": 31,
    "start_time": "2022-04-24T15:58:14.905Z"
   },
   {
    "duration": 30,
    "start_time": "2022-04-24T15:58:24.606Z"
   },
   {
    "duration": 1144,
    "start_time": "2022-04-24T15:59:05.220Z"
   },
   {
    "duration": 24,
    "start_time": "2022-04-24T15:59:06.366Z"
   },
   {
    "duration": 10,
    "start_time": "2022-04-24T15:59:06.392Z"
   },
   {
    "duration": 23,
    "start_time": "2022-04-24T15:59:06.405Z"
   },
   {
    "duration": 11,
    "start_time": "2022-04-24T15:59:06.430Z"
   },
   {
    "duration": 11,
    "start_time": "2022-04-24T15:59:06.443Z"
   },
   {
    "duration": 10,
    "start_time": "2022-04-24T15:59:06.456Z"
   },
   {
    "duration": 53,
    "start_time": "2022-04-24T15:59:06.467Z"
   },
   {
    "duration": 12,
    "start_time": "2022-04-24T15:59:06.521Z"
   },
   {
    "duration": 13,
    "start_time": "2022-04-24T15:59:06.536Z"
   },
   {
    "duration": 14,
    "start_time": "2022-04-24T15:59:06.551Z"
   },
   {
    "duration": 10,
    "start_time": "2022-04-24T15:59:06.566Z"
   },
   {
    "duration": 10,
    "start_time": "2022-04-24T15:59:06.578Z"
   },
   {
    "duration": 35,
    "start_time": "2022-04-24T15:59:06.590Z"
   },
   {
    "duration": 29,
    "start_time": "2022-04-24T15:59:06.627Z"
   },
   {
    "duration": 12,
    "start_time": "2022-04-24T15:59:06.657Z"
   },
   {
    "duration": 4,
    "start_time": "2022-04-24T15:59:06.673Z"
   },
   {
    "duration": 308,
    "start_time": "2022-04-24T15:59:06.679Z"
   },
   {
    "duration": 12,
    "start_time": "2022-04-24T15:59:06.990Z"
   },
   {
    "duration": 20,
    "start_time": "2022-04-24T15:59:07.003Z"
   },
   {
    "duration": 5,
    "start_time": "2022-04-24T15:59:07.024Z"
   },
   {
    "duration": 16,
    "start_time": "2022-04-24T15:59:07.031Z"
   },
   {
    "duration": 212,
    "start_time": "2022-04-24T15:59:07.049Z"
   },
   {
    "duration": 196,
    "start_time": "2022-04-24T15:59:07.262Z"
   },
   {
    "duration": 253,
    "start_time": "2022-04-24T15:59:07.459Z"
   },
   {
    "duration": 28,
    "start_time": "2022-04-24T15:59:07.714Z"
   },
   {
    "duration": 10,
    "start_time": "2022-04-24T15:59:07.744Z"
   },
   {
    "duration": 20,
    "start_time": "2022-04-24T15:59:07.758Z"
   },
   {
    "duration": 70,
    "start_time": "2022-04-24T15:59:07.780Z"
   },
   {
    "duration": 228,
    "start_time": "2022-04-24T15:59:07.851Z"
   },
   {
    "duration": 8,
    "start_time": "2022-04-24T15:59:08.081Z"
   },
   {
    "duration": 11,
    "start_time": "2022-04-24T15:59:08.091Z"
   },
   {
    "duration": 188,
    "start_time": "2022-04-24T15:59:08.104Z"
   },
   {
    "duration": 4,
    "start_time": "2022-04-24T15:59:08.293Z"
   },
   {
    "duration": 169,
    "start_time": "2022-04-24T15:59:08.299Z"
   },
   {
    "duration": 4,
    "start_time": "2022-04-24T15:59:08.471Z"
   },
   {
    "duration": 6,
    "start_time": "2022-04-24T15:59:08.476Z"
   },
   {
    "duration": 5,
    "start_time": "2022-04-24T15:59:08.483Z"
   },
   {
    "duration": 111,
    "start_time": "2022-04-24T15:59:08.489Z"
   },
   {
    "duration": 0,
    "start_time": "2022-04-24T15:59:08.602Z"
   },
   {
    "duration": 0,
    "start_time": "2022-04-24T15:59:08.603Z"
   },
   {
    "duration": 0,
    "start_time": "2022-04-24T15:59:08.604Z"
   },
   {
    "duration": 0,
    "start_time": "2022-04-24T15:59:08.605Z"
   },
   {
    "duration": 0,
    "start_time": "2022-04-24T15:59:08.622Z"
   },
   {
    "duration": 0,
    "start_time": "2022-04-24T15:59:08.624Z"
   },
   {
    "duration": 0,
    "start_time": "2022-04-24T15:59:08.625Z"
   },
   {
    "duration": 0,
    "start_time": "2022-04-24T15:59:08.627Z"
   },
   {
    "duration": 0,
    "start_time": "2022-04-24T15:59:08.628Z"
   },
   {
    "duration": 0,
    "start_time": "2022-04-24T15:59:08.629Z"
   },
   {
    "duration": 8,
    "start_time": "2022-04-24T16:04:09.920Z"
   },
   {
    "duration": 8,
    "start_time": "2022-04-24T16:04:13.808Z"
   },
   {
    "duration": 9,
    "start_time": "2022-04-24T16:04:48.985Z"
   },
   {
    "duration": 15,
    "start_time": "2022-04-24T16:10:42.771Z"
   },
   {
    "duration": 6,
    "start_time": "2022-04-24T16:12:12.337Z"
   },
   {
    "duration": 0,
    "start_time": "2022-04-24T16:12:23.703Z"
   },
   {
    "duration": 198,
    "start_time": "2022-04-24T16:12:24.549Z"
   },
   {
    "duration": 14,
    "start_time": "2022-04-24T16:12:38.951Z"
   },
   {
    "duration": 11,
    "start_time": "2022-04-24T16:12:50.732Z"
   },
   {
    "duration": 12,
    "start_time": "2022-04-24T16:13:00.711Z"
   },
   {
    "duration": 19,
    "start_time": "2022-04-24T16:13:09.937Z"
   },
   {
    "duration": 26,
    "start_time": "2022-04-24T16:13:22.915Z"
   },
   {
    "duration": 17,
    "start_time": "2022-04-24T16:14:11.915Z"
   },
   {
    "duration": 21,
    "start_time": "2022-04-24T16:14:42.046Z"
   },
   {
    "duration": 14,
    "start_time": "2022-04-24T16:21:39.014Z"
   },
   {
    "duration": 12,
    "start_time": "2022-04-24T16:26:16.418Z"
   },
   {
    "duration": 6,
    "start_time": "2022-04-24T16:26:17.033Z"
   },
   {
    "duration": 5,
    "start_time": "2022-04-24T16:26:17.536Z"
   },
   {
    "duration": 16,
    "start_time": "2022-04-24T16:26:23.086Z"
   },
   {
    "duration": 11,
    "start_time": "2022-04-24T16:26:33.002Z"
   },
   {
    "duration": 11,
    "start_time": "2022-04-24T16:26:35.920Z"
   },
   {
    "duration": 22,
    "start_time": "2022-04-24T16:27:20.765Z"
   },
   {
    "duration": 181,
    "start_time": "2022-04-24T16:28:56.852Z"
   },
   {
    "duration": 256,
    "start_time": "2022-04-24T16:29:29.068Z"
   },
   {
    "duration": 3158,
    "start_time": "2022-04-24T16:41:57.400Z"
   },
   {
    "duration": 266,
    "start_time": "2022-04-24T16:42:12.330Z"
   },
   {
    "duration": 266,
    "start_time": "2022-04-24T16:42:19.064Z"
   },
   {
    "duration": 269,
    "start_time": "2022-04-24T16:42:26.642Z"
   },
   {
    "duration": 21,
    "start_time": "2022-04-24T16:49:15.896Z"
   },
   {
    "duration": 12,
    "start_time": "2022-04-24T16:50:18.985Z"
   },
   {
    "duration": 20,
    "start_time": "2022-04-24T16:50:21.537Z"
   },
   {
    "duration": 18,
    "start_time": "2022-04-24T16:50:36.056Z"
   },
   {
    "duration": 24,
    "start_time": "2022-04-24T16:51:25.687Z"
   },
   {
    "duration": 175,
    "start_time": "2022-04-24T16:51:56.586Z"
   },
   {
    "duration": 9,
    "start_time": "2022-04-24T16:52:15.024Z"
   },
   {
    "duration": 11,
    "start_time": "2022-04-24T16:57:53.458Z"
   },
   {
    "duration": 11,
    "start_time": "2022-04-24T16:57:56.707Z"
   },
   {
    "duration": 280,
    "start_time": "2022-04-24T16:57:58.831Z"
   },
   {
    "duration": 17,
    "start_time": "2022-04-24T16:58:00.571Z"
   },
   {
    "duration": 271,
    "start_time": "2022-04-24T16:58:01.631Z"
   },
   {
    "duration": 284,
    "start_time": "2022-04-24T16:58:11.159Z"
   },
   {
    "duration": 157,
    "start_time": "2022-04-24T17:03:52.254Z"
   },
   {
    "duration": 5,
    "start_time": "2022-04-24T17:05:00.829Z"
   },
   {
    "duration": 4,
    "start_time": "2022-04-24T17:05:07.527Z"
   },
   {
    "duration": 4,
    "start_time": "2022-04-24T17:14:11.470Z"
   },
   {
    "duration": 5,
    "start_time": "2022-04-24T17:14:13.556Z"
   },
   {
    "duration": 9,
    "start_time": "2022-04-24T17:14:15.461Z"
   },
   {
    "duration": 6,
    "start_time": "2022-04-24T17:14:31.544Z"
   },
   {
    "duration": 5,
    "start_time": "2022-04-24T17:17:16.953Z"
   },
   {
    "duration": 6,
    "start_time": "2022-04-24T17:17:17.576Z"
   },
   {
    "duration": 6,
    "start_time": "2022-04-24T17:18:28.403Z"
   },
   {
    "duration": 17,
    "start_time": "2022-04-24T17:18:28.864Z"
   },
   {
    "duration": 12,
    "start_time": "2022-04-24T17:18:38.862Z"
   },
   {
    "duration": 4,
    "start_time": "2022-04-24T17:18:50.438Z"
   },
   {
    "duration": 3,
    "start_time": "2022-04-24T17:19:34.586Z"
   },
   {
    "duration": 17,
    "start_time": "2022-04-24T17:19:35.123Z"
   },
   {
    "duration": 12,
    "start_time": "2022-04-24T17:19:45.056Z"
   },
   {
    "duration": 19,
    "start_time": "2022-04-24T17:24:22.030Z"
   },
   {
    "duration": 13,
    "start_time": "2022-04-24T17:24:23.603Z"
   },
   {
    "duration": 6,
    "start_time": "2022-04-24T17:24:32.962Z"
   },
   {
    "duration": 5,
    "start_time": "2022-04-24T17:25:49.061Z"
   },
   {
    "duration": 6,
    "start_time": "2022-04-24T17:25:54.781Z"
   },
   {
    "duration": 180,
    "start_time": "2022-04-24T18:10:21.249Z"
   },
   {
    "duration": 184,
    "start_time": "2022-04-24T18:11:58.123Z"
   },
   {
    "duration": 3205,
    "start_time": "2022-04-24T18:12:52.120Z"
   },
   {
    "duration": 273,
    "start_time": "2022-04-24T18:16:55.470Z"
   },
   {
    "duration": 303,
    "start_time": "2022-04-24T18:19:07.490Z"
   },
   {
    "duration": 389,
    "start_time": "2022-04-24T18:19:35.934Z"
   },
   {
    "duration": 313,
    "start_time": "2022-04-24T18:19:58.018Z"
   },
   {
    "duration": 323,
    "start_time": "2022-04-24T18:20:12.489Z"
   },
   {
    "duration": 6,
    "start_time": "2022-04-24T18:28:50.358Z"
   },
   {
    "duration": 5,
    "start_time": "2022-04-24T18:28:57.784Z"
   },
   {
    "duration": 8,
    "start_time": "2022-04-24T18:29:58.259Z"
   },
   {
    "duration": 1200,
    "start_time": "2022-04-24T18:48:28.272Z"
   },
   {
    "duration": 24,
    "start_time": "2022-04-24T18:48:29.474Z"
   },
   {
    "duration": 10,
    "start_time": "2022-04-24T18:48:29.499Z"
   },
   {
    "duration": 14,
    "start_time": "2022-04-24T18:48:29.511Z"
   },
   {
    "duration": 10,
    "start_time": "2022-04-24T18:48:29.526Z"
   },
   {
    "duration": 10,
    "start_time": "2022-04-24T18:48:29.537Z"
   },
   {
    "duration": 12,
    "start_time": "2022-04-24T18:48:29.548Z"
   },
   {
    "duration": 63,
    "start_time": "2022-04-24T18:48:29.561Z"
   },
   {
    "duration": 15,
    "start_time": "2022-04-24T18:48:29.626Z"
   },
   {
    "duration": 14,
    "start_time": "2022-04-24T18:48:29.645Z"
   },
   {
    "duration": 14,
    "start_time": "2022-04-24T18:48:29.661Z"
   },
   {
    "duration": 12,
    "start_time": "2022-04-24T18:48:29.677Z"
   },
   {
    "duration": 35,
    "start_time": "2022-04-24T18:48:29.691Z"
   },
   {
    "duration": 7,
    "start_time": "2022-04-24T18:48:29.727Z"
   },
   {
    "duration": 50,
    "start_time": "2022-04-24T18:48:29.736Z"
   },
   {
    "duration": 8,
    "start_time": "2022-04-24T18:48:29.787Z"
   },
   {
    "duration": 20,
    "start_time": "2022-04-24T18:48:29.796Z"
   },
   {
    "duration": 16,
    "start_time": "2022-04-24T18:48:29.818Z"
   },
   {
    "duration": 24,
    "start_time": "2022-04-24T18:48:29.836Z"
   },
   {
    "duration": 295,
    "start_time": "2022-04-24T18:48:29.861Z"
   },
   {
    "duration": 11,
    "start_time": "2022-04-24T18:48:30.158Z"
   },
   {
    "duration": 74,
    "start_time": "2022-04-24T18:48:30.171Z"
   },
   {
    "duration": 25,
    "start_time": "2022-04-24T18:48:30.246Z"
   },
   {
    "duration": 29,
    "start_time": "2022-04-24T18:48:30.273Z"
   },
   {
    "duration": 180,
    "start_time": "2022-04-24T18:48:30.304Z"
   },
   {
    "duration": 195,
    "start_time": "2022-04-24T18:48:30.485Z"
   },
   {
    "duration": 317,
    "start_time": "2022-04-24T18:48:30.682Z"
   },
   {
    "duration": 26,
    "start_time": "2022-04-24T18:48:31.003Z"
   },
   {
    "duration": 28,
    "start_time": "2022-04-24T18:48:31.031Z"
   },
   {
    "duration": 39,
    "start_time": "2022-04-24T18:48:31.061Z"
   },
   {
    "duration": 25,
    "start_time": "2022-04-24T18:48:31.101Z"
   },
   {
    "duration": 203,
    "start_time": "2022-04-24T18:48:31.128Z"
   },
   {
    "duration": 263,
    "start_time": "2022-04-24T18:48:31.333Z"
   },
   {
    "duration": 8,
    "start_time": "2022-04-24T18:48:31.597Z"
   },
   {
    "duration": 20,
    "start_time": "2022-04-24T18:48:31.606Z"
   },
   {
    "duration": 183,
    "start_time": "2022-04-24T18:48:31.627Z"
   },
   {
    "duration": 4,
    "start_time": "2022-04-24T18:48:31.812Z"
   },
   {
    "duration": 154,
    "start_time": "2022-04-24T18:48:31.817Z"
   },
   {
    "duration": 4,
    "start_time": "2022-04-24T18:48:31.972Z"
   },
   {
    "duration": 6,
    "start_time": "2022-04-24T18:48:31.977Z"
   },
   {
    "duration": 7,
    "start_time": "2022-04-24T18:48:31.984Z"
   },
   {
    "duration": 7,
    "start_time": "2022-04-24T18:48:31.992Z"
   },
   {
    "duration": 5,
    "start_time": "2022-04-24T18:48:32.000Z"
   },
   {
    "duration": 9,
    "start_time": "2022-04-24T18:48:32.006Z"
   },
   {
    "duration": 9,
    "start_time": "2022-04-24T18:48:32.017Z"
   },
   {
    "duration": 9,
    "start_time": "2022-04-24T18:48:32.027Z"
   },
   {
    "duration": 16,
    "start_time": "2022-04-24T18:48:32.038Z"
   },
   {
    "duration": 15,
    "start_time": "2022-04-24T18:48:32.056Z"
   },
   {
    "duration": 18,
    "start_time": "2022-04-24T18:48:32.072Z"
   },
   {
    "duration": 186,
    "start_time": "2022-04-24T18:48:32.091Z"
   },
   {
    "duration": 262,
    "start_time": "2022-04-24T18:48:32.278Z"
   },
   {
    "duration": 283,
    "start_time": "2022-04-24T18:48:32.542Z"
   },
   {
    "duration": 8,
    "start_time": "2022-04-24T18:48:32.826Z"
   },
   {
    "duration": 7,
    "start_time": "2022-04-24T18:48:32.835Z"
   },
   {
    "duration": 5,
    "start_time": "2022-04-24T18:48:32.843Z"
   },
   {
    "duration": 7,
    "start_time": "2022-04-24T18:48:32.850Z"
   },
   {
    "duration": 1297,
    "start_time": "2022-04-24T20:01:51.451Z"
   },
   {
    "duration": 25,
    "start_time": "2022-04-24T20:01:52.750Z"
   },
   {
    "duration": 13,
    "start_time": "2022-04-24T20:01:52.777Z"
   },
   {
    "duration": 14,
    "start_time": "2022-04-24T20:01:52.791Z"
   },
   {
    "duration": 11,
    "start_time": "2022-04-24T20:01:52.807Z"
   },
   {
    "duration": 13,
    "start_time": "2022-04-24T20:01:52.820Z"
   },
   {
    "duration": 39,
    "start_time": "2022-04-24T20:01:52.834Z"
   },
   {
    "duration": 42,
    "start_time": "2022-04-24T20:01:52.875Z"
   },
   {
    "duration": 13,
    "start_time": "2022-04-24T20:01:52.919Z"
   },
   {
    "duration": 16,
    "start_time": "2022-04-24T20:01:52.933Z"
   },
   {
    "duration": 22,
    "start_time": "2022-04-24T20:01:52.951Z"
   },
   {
    "duration": 11,
    "start_time": "2022-04-24T20:01:52.975Z"
   },
   {
    "duration": 8,
    "start_time": "2022-04-24T20:01:52.988Z"
   },
   {
    "duration": 7,
    "start_time": "2022-04-24T20:01:53.000Z"
   },
   {
    "duration": 31,
    "start_time": "2022-04-24T20:01:53.009Z"
   },
   {
    "duration": 8,
    "start_time": "2022-04-24T20:01:53.041Z"
   },
   {
    "duration": 8,
    "start_time": "2022-04-24T20:01:53.074Z"
   },
   {
    "duration": 16,
    "start_time": "2022-04-24T20:01:53.083Z"
   },
   {
    "duration": 15,
    "start_time": "2022-04-24T20:01:53.101Z"
   },
   {
    "duration": 310,
    "start_time": "2022-04-24T20:01:53.118Z"
   },
   {
    "duration": 12,
    "start_time": "2022-04-24T20:01:53.430Z"
   },
   {
    "duration": 5,
    "start_time": "2022-04-24T20:01:53.443Z"
   },
   {
    "duration": 24,
    "start_time": "2022-04-24T20:01:53.449Z"
   },
   {
    "duration": 21,
    "start_time": "2022-04-24T20:01:53.475Z"
   },
   {
    "duration": 206,
    "start_time": "2022-04-24T20:01:53.497Z"
   },
   {
    "duration": 201,
    "start_time": "2022-04-24T20:01:53.704Z"
   },
   {
    "duration": 311,
    "start_time": "2022-04-24T20:01:53.906Z"
   },
   {
    "duration": 20,
    "start_time": "2022-04-24T20:01:54.218Z"
   },
   {
    "duration": 11,
    "start_time": "2022-04-24T20:01:54.240Z"
   },
   {
    "duration": 38,
    "start_time": "2022-04-24T20:01:54.253Z"
   },
   {
    "duration": 28,
    "start_time": "2022-04-24T20:01:54.293Z"
   },
   {
    "duration": 247,
    "start_time": "2022-04-24T20:01:54.323Z"
   },
   {
    "duration": 291,
    "start_time": "2022-04-24T20:01:54.571Z"
   },
   {
    "duration": 14,
    "start_time": "2022-04-24T20:01:54.863Z"
   },
   {
    "duration": 12,
    "start_time": "2022-04-24T20:01:54.879Z"
   },
   {
    "duration": 222,
    "start_time": "2022-04-24T20:01:54.893Z"
   },
   {
    "duration": 5,
    "start_time": "2022-04-24T20:01:55.116Z"
   },
   {
    "duration": 191,
    "start_time": "2022-04-24T20:01:55.122Z"
   },
   {
    "duration": 4,
    "start_time": "2022-04-24T20:01:55.314Z"
   },
   {
    "duration": 6,
    "start_time": "2022-04-24T20:01:55.320Z"
   },
   {
    "duration": 9,
    "start_time": "2022-04-24T20:01:55.329Z"
   },
   {
    "duration": 8,
    "start_time": "2022-04-24T20:01:55.339Z"
   },
   {
    "duration": 5,
    "start_time": "2022-04-24T20:01:55.349Z"
   },
   {
    "duration": 5,
    "start_time": "2022-04-24T20:01:55.374Z"
   },
   {
    "duration": 9,
    "start_time": "2022-04-24T20:01:55.381Z"
   },
   {
    "duration": 7,
    "start_time": "2022-04-24T20:01:55.392Z"
   },
   {
    "duration": 13,
    "start_time": "2022-04-24T20:01:55.401Z"
   },
   {
    "duration": 18,
    "start_time": "2022-04-24T20:01:55.416Z"
   },
   {
    "duration": 38,
    "start_time": "2022-04-24T20:01:55.435Z"
   },
   {
    "duration": 224,
    "start_time": "2022-04-24T20:01:55.475Z"
   },
   {
    "duration": 313,
    "start_time": "2022-04-24T20:01:55.701Z"
   },
   {
    "duration": 285,
    "start_time": "2022-04-24T20:01:56.016Z"
   },
   {
    "duration": 7,
    "start_time": "2022-04-24T20:01:56.303Z"
   },
   {
    "duration": 8,
    "start_time": "2022-04-24T20:01:56.312Z"
   },
   {
    "duration": 6,
    "start_time": "2022-04-24T20:01:56.321Z"
   },
   {
    "duration": 7,
    "start_time": "2022-04-24T20:01:56.328Z"
   },
   {
    "duration": 1670,
    "start_time": "2022-04-24T20:02:30.051Z"
   },
   {
    "duration": 22,
    "start_time": "2022-04-24T20:02:31.723Z"
   },
   {
    "duration": 13,
    "start_time": "2022-04-24T20:02:31.746Z"
   },
   {
    "duration": 17,
    "start_time": "2022-04-24T20:02:31.773Z"
   },
   {
    "duration": 13,
    "start_time": "2022-04-24T20:02:31.792Z"
   },
   {
    "duration": 21,
    "start_time": "2022-04-24T20:02:31.808Z"
   },
   {
    "duration": 20,
    "start_time": "2022-04-24T20:02:31.831Z"
   },
   {
    "duration": 43,
    "start_time": "2022-04-24T20:02:31.853Z"
   },
   {
    "duration": 15,
    "start_time": "2022-04-24T20:02:31.898Z"
   },
   {
    "duration": 54,
    "start_time": "2022-04-24T20:02:31.914Z"
   },
   {
    "duration": 16,
    "start_time": "2022-04-24T20:02:31.970Z"
   },
   {
    "duration": 19,
    "start_time": "2022-04-24T20:02:31.988Z"
   },
   {
    "duration": 10,
    "start_time": "2022-04-24T20:02:32.009Z"
   },
   {
    "duration": 24,
    "start_time": "2022-04-24T20:02:32.023Z"
   },
   {
    "duration": 44,
    "start_time": "2022-04-24T20:02:32.049Z"
   },
   {
    "duration": 9,
    "start_time": "2022-04-24T20:02:32.094Z"
   },
   {
    "duration": 9,
    "start_time": "2022-04-24T20:02:32.104Z"
   },
   {
    "duration": 39,
    "start_time": "2022-04-24T20:02:32.115Z"
   },
   {
    "duration": 55,
    "start_time": "2022-04-24T20:02:32.156Z"
   },
   {
    "duration": 293,
    "start_time": "2022-04-24T20:02:32.212Z"
   },
   {
    "duration": 11,
    "start_time": "2022-04-24T20:02:32.507Z"
   },
   {
    "duration": 7,
    "start_time": "2022-04-24T20:02:32.521Z"
   },
   {
    "duration": 7,
    "start_time": "2022-04-24T20:02:32.530Z"
   },
   {
    "duration": 40,
    "start_time": "2022-04-24T20:02:32.539Z"
   },
   {
    "duration": 211,
    "start_time": "2022-04-24T20:02:32.581Z"
   },
   {
    "duration": 200,
    "start_time": "2022-04-24T20:02:32.794Z"
   },
   {
    "duration": 300,
    "start_time": "2022-04-24T20:02:32.996Z"
   },
   {
    "duration": 22,
    "start_time": "2022-04-24T20:02:33.298Z"
   },
   {
    "duration": 14,
    "start_time": "2022-04-24T20:02:33.322Z"
   },
   {
    "duration": 52,
    "start_time": "2022-04-24T20:02:33.338Z"
   },
   {
    "duration": 26,
    "start_time": "2022-04-24T20:02:33.391Z"
   },
   {
    "duration": 264,
    "start_time": "2022-04-24T20:02:33.418Z"
   },
   {
    "duration": 283,
    "start_time": "2022-04-24T20:02:33.683Z"
   },
   {
    "duration": 10,
    "start_time": "2022-04-24T20:02:33.973Z"
   },
   {
    "duration": 13,
    "start_time": "2022-04-24T20:02:33.985Z"
   },
   {
    "duration": 229,
    "start_time": "2022-04-24T20:02:33.999Z"
   },
   {
    "duration": 5,
    "start_time": "2022-04-24T20:02:34.230Z"
   },
   {
    "duration": 189,
    "start_time": "2022-04-24T20:02:34.237Z"
   },
   {
    "duration": 5,
    "start_time": "2022-04-24T20:02:34.428Z"
   },
   {
    "duration": 11,
    "start_time": "2022-04-24T20:02:34.435Z"
   },
   {
    "duration": 22,
    "start_time": "2022-04-24T20:02:34.451Z"
   },
   {
    "duration": 6,
    "start_time": "2022-04-24T20:02:34.475Z"
   },
   {
    "duration": 7,
    "start_time": "2022-04-24T20:02:34.483Z"
   },
   {
    "duration": 9,
    "start_time": "2022-04-24T20:02:34.491Z"
   },
   {
    "duration": 8,
    "start_time": "2022-04-24T20:02:34.501Z"
   },
   {
    "duration": 5,
    "start_time": "2022-04-24T20:02:34.511Z"
   },
   {
    "duration": 19,
    "start_time": "2022-04-24T20:02:34.518Z"
   },
   {
    "duration": 46,
    "start_time": "2022-04-24T20:02:34.539Z"
   },
   {
    "duration": 13,
    "start_time": "2022-04-24T20:02:34.587Z"
   },
   {
    "duration": 227,
    "start_time": "2022-04-24T20:02:34.601Z"
   },
   {
    "duration": 297,
    "start_time": "2022-04-24T20:02:34.830Z"
   },
   {
    "duration": 295,
    "start_time": "2022-04-24T20:02:35.129Z"
   },
   {
    "duration": 8,
    "start_time": "2022-04-24T20:02:35.426Z"
   },
   {
    "duration": 18,
    "start_time": "2022-04-24T20:02:35.435Z"
   },
   {
    "duration": 18,
    "start_time": "2022-04-24T20:02:35.455Z"
   },
   {
    "duration": 6,
    "start_time": "2022-04-24T20:02:35.475Z"
   },
   {
    "duration": 1769,
    "start_time": "2022-04-25T09:25:56.502Z"
   },
   {
    "duration": 38,
    "start_time": "2022-04-25T09:25:58.274Z"
   },
   {
    "duration": 16,
    "start_time": "2022-04-25T09:25:58.314Z"
   },
   {
    "duration": 19,
    "start_time": "2022-04-25T09:25:58.333Z"
   },
   {
    "duration": 44,
    "start_time": "2022-04-25T09:25:58.354Z"
   },
   {
    "duration": 22,
    "start_time": "2022-04-25T09:25:58.401Z"
   },
   {
    "duration": 21,
    "start_time": "2022-04-25T09:25:58.426Z"
   },
   {
    "duration": 80,
    "start_time": "2022-04-25T09:25:58.450Z"
   },
   {
    "duration": 29,
    "start_time": "2022-04-25T09:25:58.533Z"
   },
   {
    "duration": 37,
    "start_time": "2022-04-25T09:25:58.568Z"
   },
   {
    "duration": 27,
    "start_time": "2022-04-25T09:25:58.608Z"
   },
   {
    "duration": 51,
    "start_time": "2022-04-25T09:25:58.638Z"
   },
   {
    "duration": 13,
    "start_time": "2022-04-25T09:25:58.692Z"
   },
   {
    "duration": 10,
    "start_time": "2022-04-25T09:25:58.707Z"
   },
   {
    "duration": 67,
    "start_time": "2022-04-25T09:25:58.718Z"
   },
   {
    "duration": 16,
    "start_time": "2022-04-25T09:25:58.789Z"
   },
   {
    "duration": 11,
    "start_time": "2022-04-25T09:25:58.808Z"
   },
   {
    "duration": 22,
    "start_time": "2022-04-25T09:25:58.821Z"
   },
   {
    "duration": 70,
    "start_time": "2022-04-25T09:25:58.845Z"
   },
   {
    "duration": 503,
    "start_time": "2022-04-25T09:25:58.917Z"
   },
   {
    "duration": 16,
    "start_time": "2022-04-25T09:25:59.422Z"
   },
   {
    "duration": 9,
    "start_time": "2022-04-25T09:25:59.441Z"
   },
   {
    "duration": 34,
    "start_time": "2022-04-25T09:25:59.452Z"
   },
   {
    "duration": 44,
    "start_time": "2022-04-25T09:25:59.488Z"
   },
   {
    "duration": 343,
    "start_time": "2022-04-25T09:25:59.535Z"
   },
   {
    "duration": 342,
    "start_time": "2022-04-25T09:25:59.881Z"
   },
   {
    "duration": 484,
    "start_time": "2022-04-25T09:26:00.225Z"
   },
   {
    "duration": 28,
    "start_time": "2022-04-25T09:26:00.715Z"
   },
   {
    "duration": 43,
    "start_time": "2022-04-25T09:26:00.745Z"
   },
   {
    "duration": 32,
    "start_time": "2022-04-25T09:26:00.791Z"
   },
   {
    "duration": 80,
    "start_time": "2022-04-25T09:26:00.826Z"
   },
   {
    "duration": 529,
    "start_time": "2022-04-25T09:26:00.909Z"
   },
   {
    "duration": 439,
    "start_time": "2022-04-25T09:26:01.441Z"
   },
   {
    "duration": 22,
    "start_time": "2022-04-25T09:26:01.883Z"
   },
   {
    "duration": 34,
    "start_time": "2022-04-25T09:26:01.908Z"
   },
   {
    "duration": 352,
    "start_time": "2022-04-25T09:26:01.944Z"
   },
   {
    "duration": 10,
    "start_time": "2022-04-25T09:26:02.298Z"
   },
   {
    "duration": 394,
    "start_time": "2022-04-25T09:26:02.311Z"
   },
   {
    "duration": 0,
    "start_time": "2022-04-25T09:26:02.708Z"
   },
   {
    "duration": 0,
    "start_time": "2022-04-25T09:26:02.709Z"
   },
   {
    "duration": 0,
    "start_time": "2022-04-25T09:26:02.711Z"
   },
   {
    "duration": 0,
    "start_time": "2022-04-25T09:26:02.712Z"
   },
   {
    "duration": 0,
    "start_time": "2022-04-25T09:26:02.714Z"
   },
   {
    "duration": 0,
    "start_time": "2022-04-25T09:26:02.715Z"
   },
   {
    "duration": 0,
    "start_time": "2022-04-25T09:26:02.717Z"
   },
   {
    "duration": 0,
    "start_time": "2022-04-25T09:26:02.718Z"
   },
   {
    "duration": 0,
    "start_time": "2022-04-25T09:26:02.719Z"
   },
   {
    "duration": 1,
    "start_time": "2022-04-25T09:26:02.720Z"
   },
   {
    "duration": 0,
    "start_time": "2022-04-25T09:26:02.722Z"
   },
   {
    "duration": 0,
    "start_time": "2022-04-25T09:26:02.723Z"
   },
   {
    "duration": 0,
    "start_time": "2022-04-25T09:26:02.724Z"
   },
   {
    "duration": 0,
    "start_time": "2022-04-25T09:26:02.725Z"
   },
   {
    "duration": 0,
    "start_time": "2022-04-25T09:26:02.727Z"
   },
   {
    "duration": 0,
    "start_time": "2022-04-25T09:26:02.728Z"
   },
   {
    "duration": 0,
    "start_time": "2022-04-25T09:26:02.730Z"
   },
   {
    "duration": 0,
    "start_time": "2022-04-25T09:26:02.731Z"
   },
   {
    "duration": 334,
    "start_time": "2022-04-25T09:30:02.655Z"
   },
   {
    "duration": 13,
    "start_time": "2022-04-25T09:31:33.739Z"
   },
   {
    "duration": 167,
    "start_time": "2022-04-25T09:31:41.212Z"
   },
   {
    "duration": 22,
    "start_time": "2022-04-25T09:32:00.911Z"
   },
   {
    "duration": 428,
    "start_time": "2022-04-25T09:32:13.788Z"
   },
   {
    "duration": 1553,
    "start_time": "2022-04-25T09:39:32.705Z"
   },
   {
    "duration": 26,
    "start_time": "2022-04-25T09:39:34.261Z"
   },
   {
    "duration": 16,
    "start_time": "2022-04-25T09:39:34.289Z"
   },
   {
    "duration": 20,
    "start_time": "2022-04-25T09:39:34.308Z"
   },
   {
    "duration": 17,
    "start_time": "2022-04-25T09:39:34.330Z"
   },
   {
    "duration": 15,
    "start_time": "2022-04-25T09:39:34.381Z"
   },
   {
    "duration": 18,
    "start_time": "2022-04-25T09:39:34.398Z"
   },
   {
    "duration": 38,
    "start_time": "2022-04-25T09:39:34.418Z"
   },
   {
    "duration": 19,
    "start_time": "2022-04-25T09:39:34.458Z"
   },
   {
    "duration": 19,
    "start_time": "2022-04-25T09:39:34.483Z"
   },
   {
    "duration": 19,
    "start_time": "2022-04-25T09:39:34.504Z"
   },
   {
    "duration": 15,
    "start_time": "2022-04-25T09:39:34.525Z"
   },
   {
    "duration": 44,
    "start_time": "2022-04-25T09:39:34.542Z"
   },
   {
    "duration": 8,
    "start_time": "2022-04-25T09:39:34.588Z"
   },
   {
    "duration": 43,
    "start_time": "2022-04-25T09:39:34.599Z"
   },
   {
    "duration": 38,
    "start_time": "2022-04-25T09:39:34.644Z"
   },
   {
    "duration": 10,
    "start_time": "2022-04-25T09:39:34.684Z"
   },
   {
    "duration": 22,
    "start_time": "2022-04-25T09:39:34.696Z"
   },
   {
    "duration": 23,
    "start_time": "2022-04-25T09:39:34.720Z"
   },
   {
    "duration": 615,
    "start_time": "2022-04-25T09:39:34.746Z"
   },
   {
    "duration": 32,
    "start_time": "2022-04-25T09:39:35.364Z"
   },
   {
    "duration": 8,
    "start_time": "2022-04-25T09:39:35.398Z"
   },
   {
    "duration": 8,
    "start_time": "2022-04-25T09:39:35.409Z"
   },
   {
    "duration": 75,
    "start_time": "2022-04-25T09:39:35.420Z"
   },
   {
    "duration": 519,
    "start_time": "2022-04-25T09:39:35.498Z"
   },
   {
    "duration": 508,
    "start_time": "2022-04-25T09:39:36.020Z"
   },
   {
    "duration": 575,
    "start_time": "2022-04-25T09:39:36.531Z"
   },
   {
    "duration": 44,
    "start_time": "2022-04-25T09:39:37.115Z"
   },
   {
    "duration": 40,
    "start_time": "2022-04-25T09:39:37.161Z"
   },
   {
    "duration": 32,
    "start_time": "2022-04-25T09:39:37.205Z"
   },
   {
    "duration": 68,
    "start_time": "2022-04-25T09:39:37.239Z"
   },
   {
    "duration": 388,
    "start_time": "2022-04-25T09:39:37.310Z"
   },
   {
    "duration": 437,
    "start_time": "2022-04-25T09:39:37.702Z"
   },
   {
    "duration": 11,
    "start_time": "2022-04-25T09:39:38.142Z"
   },
   {
    "duration": 36,
    "start_time": "2022-04-25T09:39:38.156Z"
   },
   {
    "duration": 338,
    "start_time": "2022-04-25T09:39:38.195Z"
   },
   {
    "duration": 5,
    "start_time": "2022-04-25T09:39:38.535Z"
   },
   {
    "duration": 479,
    "start_time": "2022-04-25T09:39:38.542Z"
   },
   {
    "duration": 5,
    "start_time": "2022-04-25T09:39:39.023Z"
   },
   {
    "duration": 11,
    "start_time": "2022-04-25T09:39:39.030Z"
   },
   {
    "duration": 10,
    "start_time": "2022-04-25T09:39:39.043Z"
   },
   {
    "duration": 28,
    "start_time": "2022-04-25T09:39:39.055Z"
   },
   {
    "duration": 7,
    "start_time": "2022-04-25T09:39:39.086Z"
   },
   {
    "duration": 14,
    "start_time": "2022-04-25T09:39:39.095Z"
   },
   {
    "duration": 8,
    "start_time": "2022-04-25T09:39:39.111Z"
   },
   {
    "duration": 8,
    "start_time": "2022-04-25T09:39:39.121Z"
   },
   {
    "duration": 51,
    "start_time": "2022-04-25T09:39:39.131Z"
   },
   {
    "duration": 27,
    "start_time": "2022-04-25T09:39:39.184Z"
   },
   {
    "duration": 16,
    "start_time": "2022-04-25T09:39:39.213Z"
   },
   {
    "duration": 368,
    "start_time": "2022-04-25T09:39:39.232Z"
   },
   {
    "duration": 363,
    "start_time": "2022-04-25T09:39:39.602Z"
   },
   {
    "duration": 460,
    "start_time": "2022-04-25T09:39:39.967Z"
   },
   {
    "duration": 11,
    "start_time": "2022-04-25T09:39:40.429Z"
   },
   {
    "duration": 9,
    "start_time": "2022-04-25T09:39:40.443Z"
   },
   {
    "duration": 8,
    "start_time": "2022-04-25T09:39:40.483Z"
   },
   {
    "duration": 9,
    "start_time": "2022-04-25T09:39:40.494Z"
   },
   {
    "duration": 366,
    "start_time": "2022-04-25T09:40:10.799Z"
   },
   {
    "duration": 534,
    "start_time": "2022-04-25T09:40:18.103Z"
   },
   {
    "duration": 334,
    "start_time": "2022-04-25T09:40:27.100Z"
   },
   {
    "duration": 397,
    "start_time": "2022-04-25T09:40:38.682Z"
   },
   {
    "duration": 325,
    "start_time": "2022-04-25T09:40:44.867Z"
   },
   {
    "duration": 341,
    "start_time": "2022-04-25T09:41:08.857Z"
   },
   {
    "duration": 1537,
    "start_time": "2022-04-25T09:41:34.767Z"
   },
   {
    "duration": 25,
    "start_time": "2022-04-25T09:41:36.308Z"
   },
   {
    "duration": 19,
    "start_time": "2022-04-25T09:41:36.335Z"
   },
   {
    "duration": 48,
    "start_time": "2022-04-25T09:41:36.357Z"
   },
   {
    "duration": 19,
    "start_time": "2022-04-25T09:41:36.408Z"
   },
   {
    "duration": 23,
    "start_time": "2022-04-25T09:41:36.429Z"
   },
   {
    "duration": 43,
    "start_time": "2022-04-25T09:41:36.454Z"
   },
   {
    "duration": 49,
    "start_time": "2022-04-25T09:41:36.499Z"
   },
   {
    "duration": 19,
    "start_time": "2022-04-25T09:41:36.551Z"
   },
   {
    "duration": 34,
    "start_time": "2022-04-25T09:41:36.574Z"
   },
   {
    "duration": 17,
    "start_time": "2022-04-25T09:41:36.610Z"
   },
   {
    "duration": 24,
    "start_time": "2022-04-25T09:41:36.629Z"
   },
   {
    "duration": 26,
    "start_time": "2022-04-25T09:41:36.655Z"
   },
   {
    "duration": 27,
    "start_time": "2022-04-25T09:41:36.684Z"
   },
   {
    "duration": 55,
    "start_time": "2022-04-25T09:41:36.713Z"
   },
   {
    "duration": 10,
    "start_time": "2022-04-25T09:41:36.770Z"
   },
   {
    "duration": 26,
    "start_time": "2022-04-25T09:41:36.782Z"
   },
   {
    "duration": 30,
    "start_time": "2022-04-25T09:41:36.810Z"
   },
   {
    "duration": 29,
    "start_time": "2022-04-25T09:41:36.843Z"
   },
   {
    "duration": 492,
    "start_time": "2022-04-25T09:41:36.874Z"
   },
   {
    "duration": 26,
    "start_time": "2022-04-25T09:41:37.368Z"
   },
   {
    "duration": 16,
    "start_time": "2022-04-25T09:41:37.396Z"
   },
   {
    "duration": 32,
    "start_time": "2022-04-25T09:41:37.415Z"
   },
   {
    "duration": 62,
    "start_time": "2022-04-25T09:41:37.449Z"
   },
   {
    "duration": 324,
    "start_time": "2022-04-25T09:41:37.515Z"
   },
   {
    "duration": 377,
    "start_time": "2022-04-25T09:41:37.842Z"
   },
   {
    "duration": 420,
    "start_time": "2022-04-25T09:41:38.222Z"
   },
   {
    "duration": 42,
    "start_time": "2022-04-25T09:41:38.649Z"
   },
   {
    "duration": 18,
    "start_time": "2022-04-25T09:41:38.694Z"
   },
   {
    "duration": 40,
    "start_time": "2022-04-25T09:41:38.715Z"
   },
   {
    "duration": 61,
    "start_time": "2022-04-25T09:41:38.757Z"
   },
   {
    "duration": 370,
    "start_time": "2022-04-25T09:41:38.820Z"
   },
   {
    "duration": 402,
    "start_time": "2022-04-25T09:41:39.192Z"
   },
   {
    "duration": 11,
    "start_time": "2022-04-25T09:41:39.596Z"
   },
   {
    "duration": 15,
    "start_time": "2022-04-25T09:41:39.610Z"
   },
   {
    "duration": 398,
    "start_time": "2022-04-25T09:41:39.627Z"
   },
   {
    "duration": 6,
    "start_time": "2022-04-25T09:41:40.028Z"
   },
   {
    "duration": 462,
    "start_time": "2022-04-25T09:41:40.037Z"
   },
   {
    "duration": 6,
    "start_time": "2022-04-25T09:41:40.501Z"
   },
   {
    "duration": 14,
    "start_time": "2022-04-25T09:41:40.510Z"
   },
   {
    "duration": 11,
    "start_time": "2022-04-25T09:41:40.526Z"
   },
   {
    "duration": 16,
    "start_time": "2022-04-25T09:41:40.540Z"
   },
   {
    "duration": 7,
    "start_time": "2022-04-25T09:41:40.582Z"
   },
   {
    "duration": 16,
    "start_time": "2022-04-25T09:41:40.591Z"
   },
   {
    "duration": 14,
    "start_time": "2022-04-25T09:41:40.609Z"
   },
   {
    "duration": 16,
    "start_time": "2022-04-25T09:41:40.626Z"
   },
   {
    "duration": 25,
    "start_time": "2022-04-25T09:41:40.645Z"
   },
   {
    "duration": 27,
    "start_time": "2022-04-25T09:41:40.682Z"
   },
   {
    "duration": 20,
    "start_time": "2022-04-25T09:41:40.711Z"
   },
   {
    "duration": 368,
    "start_time": "2022-04-25T09:41:40.734Z"
   },
   {
    "duration": 382,
    "start_time": "2022-04-25T09:41:41.104Z"
   },
   {
    "duration": 424,
    "start_time": "2022-04-25T09:41:41.488Z"
   },
   {
    "duration": 11,
    "start_time": "2022-04-25T09:41:41.914Z"
   },
   {
    "duration": 21,
    "start_time": "2022-04-25T09:41:41.927Z"
   },
   {
    "duration": 25,
    "start_time": "2022-04-25T09:41:41.949Z"
   },
   {
    "duration": 22,
    "start_time": "2022-04-25T09:41:41.976Z"
   }
  ],
  "kernelspec": {
   "display_name": "Python 3 (ipykernel)",
   "language": "python",
   "name": "python3"
  },
  "language_info": {
   "codemirror_mode": {
    "name": "ipython",
    "version": 3
   },
   "file_extension": ".py",
   "mimetype": "text/x-python",
   "name": "python",
   "nbconvert_exporter": "python",
   "pygments_lexer": "ipython3",
   "version": "3.9.5"
  },
  "toc": {
   "base_numbering": 1,
   "nav_menu": {},
   "number_sections": true,
   "sideBar": true,
   "skip_h1_title": true,
   "title_cell": "Table of Contents",
   "title_sidebar": "Contents",
   "toc_cell": false,
   "toc_position": {
    "height": "calc(100% - 180px)",
    "left": "10px",
    "top": "150px",
    "width": "227.042px"
   },
   "toc_section_display": true,
   "toc_window_display": false
  }
 },
 "nbformat": 4,
 "nbformat_minor": 2
}
