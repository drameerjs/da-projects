{
 "cells": [
  {
   "cell_type": "markdown",
   "metadata": {},
   "source": [
    "<div style=\"border:solid green 2px; padding: 20px\"> <h1 style=\"color:green; margin-bottom:20px\">Reviewer's comment v1</h1>\n",
    "\n",
    "Hello Ameer, my name is Dmitrii Pyshnenko. Happy to review your project! 🙌\n",
    "\n",
    "As usual you can find my comments under the heading **«Review»**. I will categorize my comments in green, blue or red boxes like this:\n",
    "\n",
    "<div class=\"alert alert-success\">\n",
    "    <b>Success:</b> if everything is done successfully\n",
    "</div>\n",
    "<div class=\"alert alert-warning\">\n",
    "    <b>Remarks:</b> if I can give some recommendations or ways to improve the project\n",
    "</div>\n",
    "<div class=\"alert alert-danger\">\n",
    "    <b>Needs fixing:</b> if the block requires some corrections. Work can't be accepted with the red comments\n",
    "</div>\n",
    "\n",
    "Please don't remove my comments :) If you have any questions don't hesitate to respond to my comments in a different section. \n",
    "\n"
   ]
  },
  {
   "cell_type": "markdown",
   "metadata": {},
   "source": [
    "<div style=\"border:solid green 2px; padding: 20px\">\n",
    "<b>Reviewer's comment v1</b>\n",
    "    \n",
    "<b>Overall Feedback</b> \n",
    "    \n",
    "Overall well done! I can see that a lot of effort has been made! Your project already looks really good, and you accomplished impressive results.\n",
    "\n",
    "However, there are some comments/areas left to fix that will help you to make your project even better:\n",
    "\n",
    "- Fix a typo in the data aggregation for calls. \n",
    "  \n",
    "And of course, if you have any questions along the way, remember that you can always reach out to your tutor for any clarification.\n",
    "</div>\n",
    "\n",
    "Hi Dimitri!\n",
    "Thanks for your review, really helpful insights! \n",
    "I fixed the typo and changed duraion into duration :) (it is easy to miss the small things when the project is sorta big)\n",
    "Thanks for all the other tips as well, I will surely be looking into them next monday (when I have some free time finally :/)\n",
    "Have a good day!"
   ]
  },
  {
   "cell_type": "markdown",
   "metadata": {},
   "source": [
    "<div style=\"border:solid green 2px; padding: 20px\">\n",
    "<b>Reviewer's comment v2:</b>\n",
    "    \n",
    "<b>Overall Feedback</b> \n",
    "    \n",
    "Hi Ameer! Very glad that smth was useful for you and thank you for submitting your project with all corrections! \n",
    "- Now everything is perfect. No critical issues left, so your project has been accepted! \n",
    "- Wish you cool projects in the next sprints! ☘️\n",
    "    \n",
    "PS: As a last thing, I can recommend cool lectures on stat analysis here: https://www.youtube.com/playlist?list=PL2SOU6wwxB0uwwH80KTQ6ht66KWxbzTIo  🙌\n",
    "\n",
    "</div>"
   ]
  },
  {
   "cell_type": "markdown",
   "metadata": {},
   "source": [
    "# Which plan is more profitable?\n",
    "\n",
    "We work as an analyst for the telecom operator Megaline. The company offers its clients two prepaid plans, *Surf* and *Ultimate*. The commercial department wants to know which of the plans brings in more revenue in order to adjust the advertising budget.\n",
    "\n",
    "**Purpose of the project:** We are going to carry out a preliminary analysis of the plans based on a relatively small client selection. We'll have the data on 500 Megaline clients: who the clients are, where they're from, which plan they use, and the number of calls they made and text messages they sent in 2018. The job is to analyze clients' behavior and determine which prepaid plan brings in more revenue.\n",
    "\n",
    "**Plan of work:** We are going to start by inspecting the data we were given, evaluate it by looking from an overall and general prespective and then look closer for errors, duplicates, missing values etc. Once we are done with these steps, we can proceed to fixing these problematic data by removing unnecessary trash data, correcting all the values that can be corrected and retaining missing values where possible. Then we move on with our clean data and start studying the relation between the factors we have through graphs and a wide range of methods that python offer us, and finally decide which plan of the prepaid plans that the company offers is more profitable!\n",
    "\n"
   ]
  },
  {
   "cell_type": "markdown",
   "metadata": {},
   "source": [
    "<div class=\"alert alert-block alert-success\">\n",
    "<b>Reviewer's comment v1</b>\n",
    " \n",
    "Great that you added additional information about the project goal and tasks."
   ]
  },
  {
   "cell_type": "markdown",
   "metadata": {},
   "source": [
    "## Initialization\n",
    "\n",
    "### Loading the data\n",
    "\n",
    "We start by loading the libraries"
   ]
  },
  {
   "cell_type": "code",
   "execution_count": 1,
   "metadata": {},
   "outputs": [],
   "source": [
    "import pandas as pd\n",
    "import numpy as np\n",
    "import math as mt\n",
    "import datetime as dt\n",
    "from scipy import stats as st"
   ]
  },
  {
   "cell_type": "markdown",
   "metadata": {},
   "source": [
    "Next we load the data:"
   ]
  },
  {
   "cell_type": "code",
   "execution_count": 2,
   "metadata": {},
   "outputs": [],
   "source": [
    "calls = pd.read_csv('/datasets/megaline_calls.csv')\n",
    "internet = pd.read_csv('/datasets/megaline_internet.csv')\n",
    "messages = pd.read_csv('/datasets/megaline_messages.csv')\n",
    "plans = pd.read_csv('/datasets/megaline_plans.csv')\n",
    "users = pd.read_csv('/datasets/megaline_users.csv')"
   ]
  },
  {
   "cell_type": "markdown",
   "metadata": {},
   "source": [
    "We loaded all the data, seperated them into 5 different dataframes, a dataframe for each category.\n",
    "\n",
    "Next we are going to have a general look at the data that we have, just to get an idea of what we are up against:"
   ]
  },
  {
   "cell_type": "code",
   "execution_count": 3,
   "metadata": {},
   "outputs": [
    {
     "name": "stdout",
     "output_type": "stream",
     "text": [
      "<class 'pandas.core.frame.DataFrame'>\n",
      "RangeIndex: 137735 entries, 0 to 137734\n",
      "Data columns (total 4 columns):\n",
      "id           137735 non-null object\n",
      "user_id      137735 non-null int64\n",
      "call_date    137735 non-null object\n",
      "duration     137735 non-null float64\n",
      "dtypes: float64(1), int64(1), object(2)\n",
      "memory usage: 4.2+ MB\n"
     ]
    },
    {
     "data": {
      "text/html": [
       "<div>\n",
       "<style scoped>\n",
       "    .dataframe tbody tr th:only-of-type {\n",
       "        vertical-align: middle;\n",
       "    }\n",
       "\n",
       "    .dataframe tbody tr th {\n",
       "        vertical-align: top;\n",
       "    }\n",
       "\n",
       "    .dataframe thead th {\n",
       "        text-align: right;\n",
       "    }\n",
       "</style>\n",
       "<table border=\"1\" class=\"dataframe\">\n",
       "  <thead>\n",
       "    <tr style=\"text-align: right;\">\n",
       "      <th></th>\n",
       "      <th>id</th>\n",
       "      <th>user_id</th>\n",
       "      <th>call_date</th>\n",
       "      <th>duration</th>\n",
       "    </tr>\n",
       "  </thead>\n",
       "  <tbody>\n",
       "    <tr>\n",
       "      <td>0</td>\n",
       "      <td>1000_93</td>\n",
       "      <td>1000</td>\n",
       "      <td>2018-12-27</td>\n",
       "      <td>8.52</td>\n",
       "    </tr>\n",
       "    <tr>\n",
       "      <td>1</td>\n",
       "      <td>1000_145</td>\n",
       "      <td>1000</td>\n",
       "      <td>2018-12-27</td>\n",
       "      <td>13.66</td>\n",
       "    </tr>\n",
       "    <tr>\n",
       "      <td>2</td>\n",
       "      <td>1000_247</td>\n",
       "      <td>1000</td>\n",
       "      <td>2018-12-27</td>\n",
       "      <td>14.48</td>\n",
       "    </tr>\n",
       "    <tr>\n",
       "      <td>3</td>\n",
       "      <td>1000_309</td>\n",
       "      <td>1000</td>\n",
       "      <td>2018-12-28</td>\n",
       "      <td>5.76</td>\n",
       "    </tr>\n",
       "    <tr>\n",
       "      <td>4</td>\n",
       "      <td>1000_380</td>\n",
       "      <td>1000</td>\n",
       "      <td>2018-12-30</td>\n",
       "      <td>4.22</td>\n",
       "    </tr>\n",
       "    <tr>\n",
       "      <td>5</td>\n",
       "      <td>1000_388</td>\n",
       "      <td>1000</td>\n",
       "      <td>2018-12-31</td>\n",
       "      <td>2.20</td>\n",
       "    </tr>\n",
       "    <tr>\n",
       "      <td>6</td>\n",
       "      <td>1000_510</td>\n",
       "      <td>1000</td>\n",
       "      <td>2018-12-27</td>\n",
       "      <td>5.75</td>\n",
       "    </tr>\n",
       "    <tr>\n",
       "      <td>7</td>\n",
       "      <td>1000_521</td>\n",
       "      <td>1000</td>\n",
       "      <td>2018-12-28</td>\n",
       "      <td>14.18</td>\n",
       "    </tr>\n",
       "    <tr>\n",
       "      <td>8</td>\n",
       "      <td>1000_530</td>\n",
       "      <td>1000</td>\n",
       "      <td>2018-12-28</td>\n",
       "      <td>5.77</td>\n",
       "    </tr>\n",
       "    <tr>\n",
       "      <td>9</td>\n",
       "      <td>1000_544</td>\n",
       "      <td>1000</td>\n",
       "      <td>2018-12-26</td>\n",
       "      <td>4.40</td>\n",
       "    </tr>\n",
       "    <tr>\n",
       "      <td>10</td>\n",
       "      <td>1000_693</td>\n",
       "      <td>1000</td>\n",
       "      <td>2018-12-31</td>\n",
       "      <td>4.31</td>\n",
       "    </tr>\n",
       "    <tr>\n",
       "      <td>11</td>\n",
       "      <td>1000_705</td>\n",
       "      <td>1000</td>\n",
       "      <td>2018-12-31</td>\n",
       "      <td>12.78</td>\n",
       "    </tr>\n",
       "    <tr>\n",
       "      <td>12</td>\n",
       "      <td>1000_735</td>\n",
       "      <td>1000</td>\n",
       "      <td>2018-12-29</td>\n",
       "      <td>1.70</td>\n",
       "    </tr>\n",
       "    <tr>\n",
       "      <td>13</td>\n",
       "      <td>1000_778</td>\n",
       "      <td>1000</td>\n",
       "      <td>2018-12-28</td>\n",
       "      <td>3.29</td>\n",
       "    </tr>\n",
       "    <tr>\n",
       "      <td>14</td>\n",
       "      <td>1000_826</td>\n",
       "      <td>1000</td>\n",
       "      <td>2018-12-26</td>\n",
       "      <td>9.96</td>\n",
       "    </tr>\n",
       "  </tbody>\n",
       "</table>\n",
       "</div>"
      ],
      "text/plain": [
       "          id  user_id   call_date  duration\n",
       "0    1000_93     1000  2018-12-27      8.52\n",
       "1   1000_145     1000  2018-12-27     13.66\n",
       "2   1000_247     1000  2018-12-27     14.48\n",
       "3   1000_309     1000  2018-12-28      5.76\n",
       "4   1000_380     1000  2018-12-30      4.22\n",
       "5   1000_388     1000  2018-12-31      2.20\n",
       "6   1000_510     1000  2018-12-27      5.75\n",
       "7   1000_521     1000  2018-12-28     14.18\n",
       "8   1000_530     1000  2018-12-28      5.77\n",
       "9   1000_544     1000  2018-12-26      4.40\n",
       "10  1000_693     1000  2018-12-31      4.31\n",
       "11  1000_705     1000  2018-12-31     12.78\n",
       "12  1000_735     1000  2018-12-29      1.70\n",
       "13  1000_778     1000  2018-12-28      3.29\n",
       "14  1000_826     1000  2018-12-26      9.96"
      ]
     },
     "execution_count": 3,
     "metadata": {},
     "output_type": "execute_result"
    }
   ],
   "source": [
    "calls.info()\n",
    "calls.head(15)"
   ]
  },
  {
   "cell_type": "markdown",
   "metadata": {},
   "source": [
    "**Calls** dataset contains the following fields:\n",
    "* id — unique call identifier\n",
    "* call_date — call date\n",
    "* duration — call duration (in minutes)\n",
    "* user_id — the identifier of the user making the call"
   ]
  },
  {
   "cell_type": "code",
   "execution_count": 4,
   "metadata": {},
   "outputs": [
    {
     "name": "stdout",
     "output_type": "stream",
     "text": [
      "<class 'pandas.core.frame.DataFrame'>\n",
      "RangeIndex: 104825 entries, 0 to 104824\n",
      "Data columns (total 4 columns):\n",
      "id              104825 non-null object\n",
      "user_id         104825 non-null int64\n",
      "session_date    104825 non-null object\n",
      "mb_used         104825 non-null float64\n",
      "dtypes: float64(1), int64(1), object(2)\n",
      "memory usage: 3.2+ MB\n"
     ]
    },
    {
     "data": {
      "text/html": [
       "<div>\n",
       "<style scoped>\n",
       "    .dataframe tbody tr th:only-of-type {\n",
       "        vertical-align: middle;\n",
       "    }\n",
       "\n",
       "    .dataframe tbody tr th {\n",
       "        vertical-align: top;\n",
       "    }\n",
       "\n",
       "    .dataframe thead th {\n",
       "        text-align: right;\n",
       "    }\n",
       "</style>\n",
       "<table border=\"1\" class=\"dataframe\">\n",
       "  <thead>\n",
       "    <tr style=\"text-align: right;\">\n",
       "      <th></th>\n",
       "      <th>id</th>\n",
       "      <th>user_id</th>\n",
       "      <th>session_date</th>\n",
       "      <th>mb_used</th>\n",
       "    </tr>\n",
       "  </thead>\n",
       "  <tbody>\n",
       "    <tr>\n",
       "      <td>0</td>\n",
       "      <td>1000_13</td>\n",
       "      <td>1000</td>\n",
       "      <td>2018-12-29</td>\n",
       "      <td>89.86</td>\n",
       "    </tr>\n",
       "    <tr>\n",
       "      <td>1</td>\n",
       "      <td>1000_204</td>\n",
       "      <td>1000</td>\n",
       "      <td>2018-12-31</td>\n",
       "      <td>0.00</td>\n",
       "    </tr>\n",
       "    <tr>\n",
       "      <td>2</td>\n",
       "      <td>1000_379</td>\n",
       "      <td>1000</td>\n",
       "      <td>2018-12-28</td>\n",
       "      <td>660.40</td>\n",
       "    </tr>\n",
       "    <tr>\n",
       "      <td>3</td>\n",
       "      <td>1000_413</td>\n",
       "      <td>1000</td>\n",
       "      <td>2018-12-26</td>\n",
       "      <td>270.99</td>\n",
       "    </tr>\n",
       "    <tr>\n",
       "      <td>4</td>\n",
       "      <td>1000_442</td>\n",
       "      <td>1000</td>\n",
       "      <td>2018-12-27</td>\n",
       "      <td>880.22</td>\n",
       "    </tr>\n",
       "    <tr>\n",
       "      <td>5</td>\n",
       "      <td>1001_0</td>\n",
       "      <td>1001</td>\n",
       "      <td>2018-08-24</td>\n",
       "      <td>284.68</td>\n",
       "    </tr>\n",
       "    <tr>\n",
       "      <td>6</td>\n",
       "      <td>1001_3</td>\n",
       "      <td>1001</td>\n",
       "      <td>2018-12-09</td>\n",
       "      <td>656.04</td>\n",
       "    </tr>\n",
       "    <tr>\n",
       "      <td>7</td>\n",
       "      <td>1001_4</td>\n",
       "      <td>1001</td>\n",
       "      <td>2018-11-04</td>\n",
       "      <td>16.97</td>\n",
       "    </tr>\n",
       "    <tr>\n",
       "      <td>8</td>\n",
       "      <td>1001_10</td>\n",
       "      <td>1001</td>\n",
       "      <td>2018-11-27</td>\n",
       "      <td>135.18</td>\n",
       "    </tr>\n",
       "    <tr>\n",
       "      <td>9</td>\n",
       "      <td>1001_15</td>\n",
       "      <td>1001</td>\n",
       "      <td>2018-12-13</td>\n",
       "      <td>761.92</td>\n",
       "    </tr>\n",
       "    <tr>\n",
       "      <td>10</td>\n",
       "      <td>1001_16</td>\n",
       "      <td>1001</td>\n",
       "      <td>2018-10-28</td>\n",
       "      <td>501.53</td>\n",
       "    </tr>\n",
       "    <tr>\n",
       "      <td>11</td>\n",
       "      <td>1001_17</td>\n",
       "      <td>1001</td>\n",
       "      <td>2018-09-05</td>\n",
       "      <td>727.29</td>\n",
       "    </tr>\n",
       "    <tr>\n",
       "      <td>12</td>\n",
       "      <td>1001_24</td>\n",
       "      <td>1001</td>\n",
       "      <td>2018-09-05</td>\n",
       "      <td>622.03</td>\n",
       "    </tr>\n",
       "    <tr>\n",
       "      <td>13</td>\n",
       "      <td>1001_25</td>\n",
       "      <td>1001</td>\n",
       "      <td>2018-10-14</td>\n",
       "      <td>310.43</td>\n",
       "    </tr>\n",
       "    <tr>\n",
       "      <td>14</td>\n",
       "      <td>1001_26</td>\n",
       "      <td>1001</td>\n",
       "      <td>2018-09-17</td>\n",
       "      <td>0.00</td>\n",
       "    </tr>\n",
       "  </tbody>\n",
       "</table>\n",
       "</div>"
      ],
      "text/plain": [
       "          id  user_id session_date  mb_used\n",
       "0    1000_13     1000   2018-12-29    89.86\n",
       "1   1000_204     1000   2018-12-31     0.00\n",
       "2   1000_379     1000   2018-12-28   660.40\n",
       "3   1000_413     1000   2018-12-26   270.99\n",
       "4   1000_442     1000   2018-12-27   880.22\n",
       "5     1001_0     1001   2018-08-24   284.68\n",
       "6     1001_3     1001   2018-12-09   656.04\n",
       "7     1001_4     1001   2018-11-04    16.97\n",
       "8    1001_10     1001   2018-11-27   135.18\n",
       "9    1001_15     1001   2018-12-13   761.92\n",
       "10   1001_16     1001   2018-10-28   501.53\n",
       "11   1001_17     1001   2018-09-05   727.29\n",
       "12   1001_24     1001   2018-09-05   622.03\n",
       "13   1001_25     1001   2018-10-14   310.43\n",
       "14   1001_26     1001   2018-09-17     0.00"
      ]
     },
     "execution_count": 4,
     "metadata": {},
     "output_type": "execute_result"
    }
   ],
   "source": [
    "internet.info()\n",
    "internet.head(15)"
   ]
  },
  {
   "cell_type": "markdown",
   "metadata": {},
   "source": [
    "**Internet** dataset contains the following fields:\n",
    "* id — unique session identifier\n",
    "* mb_used — the volume of data spent during the session (in megabytes)\n",
    "* session_date — web session date\n",
    "* user_id — user identifier"
   ]
  },
  {
   "cell_type": "code",
   "execution_count": 5,
   "metadata": {},
   "outputs": [
    {
     "name": "stdout",
     "output_type": "stream",
     "text": [
      "<class 'pandas.core.frame.DataFrame'>\n",
      "RangeIndex: 76051 entries, 0 to 76050\n",
      "Data columns (total 3 columns):\n",
      "id              76051 non-null object\n",
      "user_id         76051 non-null int64\n",
      "message_date    76051 non-null object\n",
      "dtypes: int64(1), object(2)\n",
      "memory usage: 1.7+ MB\n"
     ]
    },
    {
     "data": {
      "text/html": [
       "<div>\n",
       "<style scoped>\n",
       "    .dataframe tbody tr th:only-of-type {\n",
       "        vertical-align: middle;\n",
       "    }\n",
       "\n",
       "    .dataframe tbody tr th {\n",
       "        vertical-align: top;\n",
       "    }\n",
       "\n",
       "    .dataframe thead th {\n",
       "        text-align: right;\n",
       "    }\n",
       "</style>\n",
       "<table border=\"1\" class=\"dataframe\">\n",
       "  <thead>\n",
       "    <tr style=\"text-align: right;\">\n",
       "      <th></th>\n",
       "      <th>id</th>\n",
       "      <th>user_id</th>\n",
       "      <th>message_date</th>\n",
       "    </tr>\n",
       "  </thead>\n",
       "  <tbody>\n",
       "    <tr>\n",
       "      <td>0</td>\n",
       "      <td>1000_125</td>\n",
       "      <td>1000</td>\n",
       "      <td>2018-12-27</td>\n",
       "    </tr>\n",
       "    <tr>\n",
       "      <td>1</td>\n",
       "      <td>1000_160</td>\n",
       "      <td>1000</td>\n",
       "      <td>2018-12-31</td>\n",
       "    </tr>\n",
       "    <tr>\n",
       "      <td>2</td>\n",
       "      <td>1000_223</td>\n",
       "      <td>1000</td>\n",
       "      <td>2018-12-31</td>\n",
       "    </tr>\n",
       "    <tr>\n",
       "      <td>3</td>\n",
       "      <td>1000_251</td>\n",
       "      <td>1000</td>\n",
       "      <td>2018-12-27</td>\n",
       "    </tr>\n",
       "    <tr>\n",
       "      <td>4</td>\n",
       "      <td>1000_255</td>\n",
       "      <td>1000</td>\n",
       "      <td>2018-12-26</td>\n",
       "    </tr>\n",
       "    <tr>\n",
       "      <td>5</td>\n",
       "      <td>1000_346</td>\n",
       "      <td>1000</td>\n",
       "      <td>2018-12-29</td>\n",
       "    </tr>\n",
       "    <tr>\n",
       "      <td>6</td>\n",
       "      <td>1000_386</td>\n",
       "      <td>1000</td>\n",
       "      <td>2018-12-30</td>\n",
       "    </tr>\n",
       "    <tr>\n",
       "      <td>7</td>\n",
       "      <td>1000_413</td>\n",
       "      <td>1000</td>\n",
       "      <td>2018-12-31</td>\n",
       "    </tr>\n",
       "    <tr>\n",
       "      <td>8</td>\n",
       "      <td>1000_502</td>\n",
       "      <td>1000</td>\n",
       "      <td>2018-12-27</td>\n",
       "    </tr>\n",
       "    <tr>\n",
       "      <td>9</td>\n",
       "      <td>1000_525</td>\n",
       "      <td>1000</td>\n",
       "      <td>2018-12-28</td>\n",
       "    </tr>\n",
       "    <tr>\n",
       "      <td>10</td>\n",
       "      <td>1000_567</td>\n",
       "      <td>1000</td>\n",
       "      <td>2018-12-25</td>\n",
       "    </tr>\n",
       "    <tr>\n",
       "      <td>11</td>\n",
       "      <td>1001_1</td>\n",
       "      <td>1001</td>\n",
       "      <td>2018-11-14</td>\n",
       "    </tr>\n",
       "    <tr>\n",
       "      <td>12</td>\n",
       "      <td>1001_2</td>\n",
       "      <td>1001</td>\n",
       "      <td>2018-08-17</td>\n",
       "    </tr>\n",
       "    <tr>\n",
       "      <td>13</td>\n",
       "      <td>1001_5</td>\n",
       "      <td>1001</td>\n",
       "      <td>2018-12-05</td>\n",
       "    </tr>\n",
       "    <tr>\n",
       "      <td>14</td>\n",
       "      <td>1001_7</td>\n",
       "      <td>1001</td>\n",
       "      <td>2018-11-28</td>\n",
       "    </tr>\n",
       "  </tbody>\n",
       "</table>\n",
       "</div>"
      ],
      "text/plain": [
       "          id  user_id message_date\n",
       "0   1000_125     1000   2018-12-27\n",
       "1   1000_160     1000   2018-12-31\n",
       "2   1000_223     1000   2018-12-31\n",
       "3   1000_251     1000   2018-12-27\n",
       "4   1000_255     1000   2018-12-26\n",
       "5   1000_346     1000   2018-12-29\n",
       "6   1000_386     1000   2018-12-30\n",
       "7   1000_413     1000   2018-12-31\n",
       "8   1000_502     1000   2018-12-27\n",
       "9   1000_525     1000   2018-12-28\n",
       "10  1000_567     1000   2018-12-25\n",
       "11    1001_1     1001   2018-11-14\n",
       "12    1001_2     1001   2018-08-17\n",
       "13    1001_5     1001   2018-12-05\n",
       "14    1001_7     1001   2018-11-28"
      ]
     },
     "execution_count": 5,
     "metadata": {},
     "output_type": "execute_result"
    }
   ],
   "source": [
    "messages.info()\n",
    "messages.head(15)"
   ]
  },
  {
   "cell_type": "markdown",
   "metadata": {},
   "source": [
    "**Messages** dataset contains the followings fields:\n",
    "* id — unique text message identifier\n",
    "* message_date — text message date\n",
    "* user_id — the identifier of the user sending the text"
   ]
  },
  {
   "cell_type": "code",
   "execution_count": 6,
   "metadata": {},
   "outputs": [
    {
     "data": {
      "text/html": [
       "<div>\n",
       "<style scoped>\n",
       "    .dataframe tbody tr th:only-of-type {\n",
       "        vertical-align: middle;\n",
       "    }\n",
       "\n",
       "    .dataframe tbody tr th {\n",
       "        vertical-align: top;\n",
       "    }\n",
       "\n",
       "    .dataframe thead th {\n",
       "        text-align: right;\n",
       "    }\n",
       "</style>\n",
       "<table border=\"1\" class=\"dataframe\">\n",
       "  <thead>\n",
       "    <tr style=\"text-align: right;\">\n",
       "      <th></th>\n",
       "      <th>messages_included</th>\n",
       "      <th>mb_per_month_included</th>\n",
       "      <th>minutes_included</th>\n",
       "      <th>usd_monthly_pay</th>\n",
       "      <th>usd_per_gb</th>\n",
       "      <th>usd_per_message</th>\n",
       "      <th>usd_per_minute</th>\n",
       "      <th>plan_name</th>\n",
       "    </tr>\n",
       "  </thead>\n",
       "  <tbody>\n",
       "    <tr>\n",
       "      <td>0</td>\n",
       "      <td>50</td>\n",
       "      <td>15360</td>\n",
       "      <td>500</td>\n",
       "      <td>20</td>\n",
       "      <td>10</td>\n",
       "      <td>0.03</td>\n",
       "      <td>0.03</td>\n",
       "      <td>surf</td>\n",
       "    </tr>\n",
       "    <tr>\n",
       "      <td>1</td>\n",
       "      <td>1000</td>\n",
       "      <td>30720</td>\n",
       "      <td>3000</td>\n",
       "      <td>70</td>\n",
       "      <td>7</td>\n",
       "      <td>0.01</td>\n",
       "      <td>0.01</td>\n",
       "      <td>ultimate</td>\n",
       "    </tr>\n",
       "  </tbody>\n",
       "</table>\n",
       "</div>"
      ],
      "text/plain": [
       "   messages_included  mb_per_month_included  minutes_included  \\\n",
       "0                 50                  15360               500   \n",
       "1               1000                  30720              3000   \n",
       "\n",
       "   usd_monthly_pay  usd_per_gb  usd_per_message  usd_per_minute plan_name  \n",
       "0               20          10             0.03            0.03      surf  \n",
       "1               70           7             0.01            0.01  ultimate  "
      ]
     },
     "execution_count": 6,
     "metadata": {},
     "output_type": "execute_result"
    }
   ],
   "source": [
    "plans"
   ]
  },
  {
   "cell_type": "markdown",
   "metadata": {},
   "source": [
    "**Plans** dataset contains the following fields:\n",
    "* plan_name — calling plan name\n",
    "* usd_monthly_fee — monthly charge in US dollars\n",
    "* minutes_included — monthly minute allowance\n",
    "* messages_included — monthly text allowance\n",
    "* mb_per_month_included — data volume allowance (in megabytes)\n",
    "* usd_per_minute — price per minute after exceeding the package limits (e.g., if the package includes 100 minutes, the 101st * minute will be charged)\n",
    "* usd_per_message — price per text after exceeding the package limits\n",
    "* usd_per_gb — price per extra gigabyte of data after exceeding the package limits (1 GB = 1024 megabytes)"
   ]
  },
  {
   "cell_type": "code",
   "execution_count": 7,
   "metadata": {},
   "outputs": [
    {
     "name": "stdout",
     "output_type": "stream",
     "text": [
      "<class 'pandas.core.frame.DataFrame'>\n",
      "RangeIndex: 500 entries, 0 to 499\n",
      "Data columns (total 8 columns):\n",
      "user_id       500 non-null int64\n",
      "first_name    500 non-null object\n",
      "last_name     500 non-null object\n",
      "age           500 non-null int64\n",
      "city          500 non-null object\n",
      "reg_date      500 non-null object\n",
      "plan          500 non-null object\n",
      "churn_date    34 non-null object\n",
      "dtypes: int64(2), object(6)\n",
      "memory usage: 31.4+ KB\n"
     ]
    },
    {
     "data": {
      "text/html": [
       "<div>\n",
       "<style scoped>\n",
       "    .dataframe tbody tr th:only-of-type {\n",
       "        vertical-align: middle;\n",
       "    }\n",
       "\n",
       "    .dataframe tbody tr th {\n",
       "        vertical-align: top;\n",
       "    }\n",
       "\n",
       "    .dataframe thead th {\n",
       "        text-align: right;\n",
       "    }\n",
       "</style>\n",
       "<table border=\"1\" class=\"dataframe\">\n",
       "  <thead>\n",
       "    <tr style=\"text-align: right;\">\n",
       "      <th></th>\n",
       "      <th>user_id</th>\n",
       "      <th>first_name</th>\n",
       "      <th>last_name</th>\n",
       "      <th>age</th>\n",
       "      <th>city</th>\n",
       "      <th>reg_date</th>\n",
       "      <th>plan</th>\n",
       "      <th>churn_date</th>\n",
       "    </tr>\n",
       "  </thead>\n",
       "  <tbody>\n",
       "    <tr>\n",
       "      <td>0</td>\n",
       "      <td>1000</td>\n",
       "      <td>Anamaria</td>\n",
       "      <td>Bauer</td>\n",
       "      <td>45</td>\n",
       "      <td>Atlanta-Sandy Springs-Roswell, GA MSA</td>\n",
       "      <td>2018-12-24</td>\n",
       "      <td>ultimate</td>\n",
       "      <td>NaN</td>\n",
       "    </tr>\n",
       "    <tr>\n",
       "      <td>1</td>\n",
       "      <td>1001</td>\n",
       "      <td>Mickey</td>\n",
       "      <td>Wilkerson</td>\n",
       "      <td>28</td>\n",
       "      <td>Seattle-Tacoma-Bellevue, WA MSA</td>\n",
       "      <td>2018-08-13</td>\n",
       "      <td>surf</td>\n",
       "      <td>NaN</td>\n",
       "    </tr>\n",
       "    <tr>\n",
       "      <td>2</td>\n",
       "      <td>1002</td>\n",
       "      <td>Carlee</td>\n",
       "      <td>Hoffman</td>\n",
       "      <td>36</td>\n",
       "      <td>Las Vegas-Henderson-Paradise, NV MSA</td>\n",
       "      <td>2018-10-21</td>\n",
       "      <td>surf</td>\n",
       "      <td>NaN</td>\n",
       "    </tr>\n",
       "    <tr>\n",
       "      <td>3</td>\n",
       "      <td>1003</td>\n",
       "      <td>Reynaldo</td>\n",
       "      <td>Jenkins</td>\n",
       "      <td>52</td>\n",
       "      <td>Tulsa, OK MSA</td>\n",
       "      <td>2018-01-28</td>\n",
       "      <td>surf</td>\n",
       "      <td>NaN</td>\n",
       "    </tr>\n",
       "    <tr>\n",
       "      <td>4</td>\n",
       "      <td>1004</td>\n",
       "      <td>Leonila</td>\n",
       "      <td>Thompson</td>\n",
       "      <td>40</td>\n",
       "      <td>Seattle-Tacoma-Bellevue, WA MSA</td>\n",
       "      <td>2018-05-23</td>\n",
       "      <td>surf</td>\n",
       "      <td>NaN</td>\n",
       "    </tr>\n",
       "    <tr>\n",
       "      <td>5</td>\n",
       "      <td>1005</td>\n",
       "      <td>Livia</td>\n",
       "      <td>Shields</td>\n",
       "      <td>31</td>\n",
       "      <td>Dallas-Fort Worth-Arlington, TX MSA</td>\n",
       "      <td>2018-11-29</td>\n",
       "      <td>surf</td>\n",
       "      <td>NaN</td>\n",
       "    </tr>\n",
       "    <tr>\n",
       "      <td>6</td>\n",
       "      <td>1006</td>\n",
       "      <td>Jesusa</td>\n",
       "      <td>Bradford</td>\n",
       "      <td>73</td>\n",
       "      <td>San Francisco-Oakland-Berkeley, CA MSA</td>\n",
       "      <td>2018-11-27</td>\n",
       "      <td>ultimate</td>\n",
       "      <td>2018-12-18</td>\n",
       "    </tr>\n",
       "    <tr>\n",
       "      <td>7</td>\n",
       "      <td>1007</td>\n",
       "      <td>Eusebio</td>\n",
       "      <td>Welch</td>\n",
       "      <td>42</td>\n",
       "      <td>Grand Rapids-Kentwood, MI MSA</td>\n",
       "      <td>2018-07-11</td>\n",
       "      <td>surf</td>\n",
       "      <td>NaN</td>\n",
       "    </tr>\n",
       "    <tr>\n",
       "      <td>8</td>\n",
       "      <td>1008</td>\n",
       "      <td>Emely</td>\n",
       "      <td>Hoffman</td>\n",
       "      <td>53</td>\n",
       "      <td>Orlando-Kissimmee-Sanford, FL MSA</td>\n",
       "      <td>2018-08-03</td>\n",
       "      <td>ultimate</td>\n",
       "      <td>NaN</td>\n",
       "    </tr>\n",
       "    <tr>\n",
       "      <td>9</td>\n",
       "      <td>1009</td>\n",
       "      <td>Gerry</td>\n",
       "      <td>Little</td>\n",
       "      <td>19</td>\n",
       "      <td>San Jose-Sunnyvale-Santa Clara, CA MSA</td>\n",
       "      <td>2018-04-22</td>\n",
       "      <td>surf</td>\n",
       "      <td>NaN</td>\n",
       "    </tr>\n",
       "    <tr>\n",
       "      <td>10</td>\n",
       "      <td>1010</td>\n",
       "      <td>Wilber</td>\n",
       "      <td>Blair</td>\n",
       "      <td>52</td>\n",
       "      <td>Dallas-Fort Worth-Arlington, TX MSA</td>\n",
       "      <td>2018-03-09</td>\n",
       "      <td>surf</td>\n",
       "      <td>NaN</td>\n",
       "    </tr>\n",
       "    <tr>\n",
       "      <td>11</td>\n",
       "      <td>1011</td>\n",
       "      <td>Halina</td>\n",
       "      <td>Henry</td>\n",
       "      <td>73</td>\n",
       "      <td>Cleveland-Elyria, OH MSA</td>\n",
       "      <td>2018-01-18</td>\n",
       "      <td>ultimate</td>\n",
       "      <td>NaN</td>\n",
       "    </tr>\n",
       "    <tr>\n",
       "      <td>12</td>\n",
       "      <td>1012</td>\n",
       "      <td>Jonelle</td>\n",
       "      <td>Mcbride</td>\n",
       "      <td>59</td>\n",
       "      <td>Chicago-Naperville-Elgin, IL-IN-WI MSA</td>\n",
       "      <td>2018-06-28</td>\n",
       "      <td>surf</td>\n",
       "      <td>2018-11-16</td>\n",
       "    </tr>\n",
       "    <tr>\n",
       "      <td>13</td>\n",
       "      <td>1013</td>\n",
       "      <td>Nicolas</td>\n",
       "      <td>Snider</td>\n",
       "      <td>50</td>\n",
       "      <td>Knoxville, TN MSA</td>\n",
       "      <td>2018-12-01</td>\n",
       "      <td>ultimate</td>\n",
       "      <td>NaN</td>\n",
       "    </tr>\n",
       "    <tr>\n",
       "      <td>14</td>\n",
       "      <td>1014</td>\n",
       "      <td>Edmundo</td>\n",
       "      <td>Simon</td>\n",
       "      <td>61</td>\n",
       "      <td>New York-Newark-Jersey City, NY-NJ-PA MSA</td>\n",
       "      <td>2018-11-25</td>\n",
       "      <td>surf</td>\n",
       "      <td>NaN</td>\n",
       "    </tr>\n",
       "  </tbody>\n",
       "</table>\n",
       "</div>"
      ],
      "text/plain": [
       "    user_id first_name  last_name  age  \\\n",
       "0      1000   Anamaria      Bauer   45   \n",
       "1      1001     Mickey  Wilkerson   28   \n",
       "2      1002     Carlee    Hoffman   36   \n",
       "3      1003   Reynaldo    Jenkins   52   \n",
       "4      1004    Leonila   Thompson   40   \n",
       "5      1005      Livia    Shields   31   \n",
       "6      1006     Jesusa   Bradford   73   \n",
       "7      1007    Eusebio      Welch   42   \n",
       "8      1008      Emely    Hoffman   53   \n",
       "9      1009      Gerry     Little   19   \n",
       "10     1010     Wilber      Blair   52   \n",
       "11     1011     Halina      Henry   73   \n",
       "12     1012    Jonelle    Mcbride   59   \n",
       "13     1013    Nicolas     Snider   50   \n",
       "14     1014    Edmundo      Simon   61   \n",
       "\n",
       "                                         city    reg_date      plan  \\\n",
       "0       Atlanta-Sandy Springs-Roswell, GA MSA  2018-12-24  ultimate   \n",
       "1             Seattle-Tacoma-Bellevue, WA MSA  2018-08-13      surf   \n",
       "2        Las Vegas-Henderson-Paradise, NV MSA  2018-10-21      surf   \n",
       "3                               Tulsa, OK MSA  2018-01-28      surf   \n",
       "4             Seattle-Tacoma-Bellevue, WA MSA  2018-05-23      surf   \n",
       "5         Dallas-Fort Worth-Arlington, TX MSA  2018-11-29      surf   \n",
       "6      San Francisco-Oakland-Berkeley, CA MSA  2018-11-27  ultimate   \n",
       "7               Grand Rapids-Kentwood, MI MSA  2018-07-11      surf   \n",
       "8           Orlando-Kissimmee-Sanford, FL MSA  2018-08-03  ultimate   \n",
       "9      San Jose-Sunnyvale-Santa Clara, CA MSA  2018-04-22      surf   \n",
       "10        Dallas-Fort Worth-Arlington, TX MSA  2018-03-09      surf   \n",
       "11                   Cleveland-Elyria, OH MSA  2018-01-18  ultimate   \n",
       "12     Chicago-Naperville-Elgin, IL-IN-WI MSA  2018-06-28      surf   \n",
       "13                          Knoxville, TN MSA  2018-12-01  ultimate   \n",
       "14  New York-Newark-Jersey City, NY-NJ-PA MSA  2018-11-25      surf   \n",
       "\n",
       "    churn_date  \n",
       "0          NaN  \n",
       "1          NaN  \n",
       "2          NaN  \n",
       "3          NaN  \n",
       "4          NaN  \n",
       "5          NaN  \n",
       "6   2018-12-18  \n",
       "7          NaN  \n",
       "8          NaN  \n",
       "9          NaN  \n",
       "10         NaN  \n",
       "11         NaN  \n",
       "12  2018-11-16  \n",
       "13         NaN  \n",
       "14         NaN  "
      ]
     },
     "execution_count": 7,
     "metadata": {},
     "output_type": "execute_result"
    }
   ],
   "source": [
    "users.info()\n",
    "users.head(15)"
   ]
  },
  {
   "cell_type": "markdown",
   "metadata": {},
   "source": [
    "**Users** dataset contain the following fields:\n",
    "* user_id — unique user identifier\n",
    "* first_name — user's name\n",
    "* last_name — user's last name\n",
    "* age — user's age (years)\n",
    "* reg_date — subscription date (dd, mm, yy)\n",
    "* churn_date — the date the user stopped using the service (if the value is missing, the calling plan was being used when this data was retrieved)\n",
    "* city — user's city of residence\n",
    "* plan — calling plan name"
   ]
  },
  {
   "cell_type": "markdown",
   "metadata": {},
   "source": [
    "Our thoughts after the very first look at the data, we can see we have minimal number of errors. There's no missing values in any of the datasets we received and the data looks very clean. Except for one thing that we notice and that is the dates are in string format and it would be helpful to convert them into a datetime format.\n",
    "\n",
    "*We also noticed alot of missing values in the **users** dataset in the **churn_date** column, but this is actually completely fine since missing values in this column, specifically, means that the user still didn't stop the service, as stated in the information of the dataset fields above.*\n",
    "\n",
    "Still, we cannot proceed to study our data before we make a thorough and deep look into it. Looking remotely and in general doesn't always give us the best idea about the data. Therefore, **next** we are going to evaluate the data even more and dig deeper to check for any hidden errors, duplicates etc."
   ]
  },
  {
   "cell_type": "markdown",
   "metadata": {},
   "source": [
    "<div class=\"alert alert-success\">\n",
    "<b>Reviewer's comment v1:</b>\n",
    "    \n",
    "Good start, first view on data and next steps!"
   ]
  },
  {
   "cell_type": "markdown",
   "metadata": {},
   "source": [
    "### Exploring the data and Treating problematic values\n",
    "#### Exploring the data and treating missing values\n",
    "We are going to start our data exploration by looking for incorrect values and types, for instance; rows with the same values but with different letter cases this will help us get rid of any duplicates, if there's any, later.\n",
    "\n",
    "Only the **users** dataframe contains strings of names and cities so we start with it:"
   ]
  },
  {
   "cell_type": "code",
   "execution_count": 8,
   "metadata": {},
   "outputs": [
    {
     "data": {
      "text/plain": [
       "array(['Atlanta-Sandy Springs-Roswell, GA MSA',\n",
       "       'Seattle-Tacoma-Bellevue, WA MSA',\n",
       "       'Las Vegas-Henderson-Paradise, NV MSA', 'Tulsa, OK MSA',\n",
       "       'Dallas-Fort Worth-Arlington, TX MSA',\n",
       "       'San Francisco-Oakland-Berkeley, CA MSA',\n",
       "       'Grand Rapids-Kentwood, MI MSA',\n",
       "       'Orlando-Kissimmee-Sanford, FL MSA',\n",
       "       'San Jose-Sunnyvale-Santa Clara, CA MSA',\n",
       "       'Cleveland-Elyria, OH MSA',\n",
       "       'Chicago-Naperville-Elgin, IL-IN-WI MSA', 'Knoxville, TN MSA',\n",
       "       'New York-Newark-Jersey City, NY-NJ-PA MSA', 'Pittsburgh, PA MSA',\n",
       "       'Fresno, CA MSA',\n",
       "       'Washington-Arlington-Alexandria, DC-VA-MD-WV MSA',\n",
       "       'Indianapolis-Carmel-Anderson, IN MSA', 'Jacksonville, FL MSA',\n",
       "       'Los Angeles-Long Beach-Anaheim, CA MSA',\n",
       "       'Omaha-Council Bluffs, NE-IA MSA',\n",
       "       'Houston-The Woodlands-Sugar Land, TX MSA',\n",
       "       'Philadelphia-Camden-Wilmington, PA-NJ-DE-MD MSA',\n",
       "       'Tampa-St. Petersburg-Clearwater, FL MSA',\n",
       "       'Birmingham-Hoover, AL MSA', 'Oklahoma City, OK MSA',\n",
       "       'Charlotte-Concord-Gastonia, NC-SC MSA',\n",
       "       'Denver-Aurora-Lakewood, CO MSA',\n",
       "       'Nashville-Davidson–Murfreesboro–Franklin, TN MSA',\n",
       "       'Columbus, OH MSA', 'Albuquerque, NM MSA',\n",
       "       'Boston-Cambridge-Newton, MA-NH MSA',\n",
       "       'Miami-Fort Lauderdale-West Palm Beach, FL MSA',\n",
       "       'San Diego-Chula Vista-Carlsbad, CA MSA',\n",
       "       'Phoenix-Mesa-Chandler, AZ MSA',\n",
       "       'Portland-Vancouver-Hillsboro, OR-WA MSA',\n",
       "       'Cincinnati, OH-KY-IN MSA', 'Columbia, SC MSA',\n",
       "       'San Antonio-New Braunfels, TX MSA', 'Buffalo-Cheektowaga, NY MSA',\n",
       "       'Memphis, TN-MS-AR MSA',\n",
       "       'Riverside-San Bernardino-Ontario, CA MSA',\n",
       "       'Louisville/Jefferson County, KY-IN MSA',\n",
       "       'Albany-Schenectady-Troy, NY MSA', 'Providence-Warwick, RI-MA MSA',\n",
       "       'Salt Lake City, UT MSA', 'Urban Honolulu, HI MSA',\n",
       "       'El Paso, TX MSA', 'New Haven-Milford, CT MSA',\n",
       "       'North Port-Sarasota-Bradenton, FL MSA', 'Baton Rouge, LA MSA',\n",
       "       'New Orleans-Metairie, LA MSA',\n",
       "       'Bridgeport-Stamford-Norwalk, CT MSA',\n",
       "       'Virginia Beach-Norfolk-Newport News, VA-NC MSA',\n",
       "       'Baltimore-Columbia-Towson, MD MSA', 'Milwaukee-Waukesha, WI MSA',\n",
       "       'Oxnard-Thousand Oaks-Ventura, CA MSA',\n",
       "       'Sacramento–Roseville–Folsom, CA MSA',\n",
       "       'Austin-Round Rock-Georgetown, TX MSA', 'Richmond, VA MSA',\n",
       "       'St. Louis, MO-IL MSA',\n",
       "       'Minneapolis-St. Paul-Bloomington, MN-WI MSA',\n",
       "       'Dayton-Kettering, OH MSA', 'Bakersfield, CA MSA',\n",
       "       'Detroit-Warren-Dearborn, MI MSA', 'Kansas City, MO-KS MSA',\n",
       "       'Charleston-North Charleston, SC MSA', 'Rochester, NY MSA',\n",
       "       'Raleigh-Cary, NC MSA', 'Colorado Springs, CO MSA',\n",
       "       'Greensboro-High Point, NC MSA', 'Tucson, AZ MSA',\n",
       "       'Stockton, CA MSA', 'Cape Coral-Fort Myers, FL MSA'], dtype=object)"
      ]
     },
     "execution_count": 8,
     "metadata": {},
     "output_type": "execute_result"
    }
   ],
   "source": [
    "# The following line of code generates a long list, no need to run if not interested\n",
    "# we could've used the RE library to check for formats but this is sort of unnecessary here...\n",
    "users['city'].unique()"
   ]
  },
  {
   "cell_type": "code",
   "execution_count": 9,
   "metadata": {},
   "outputs": [
    {
     "data": {
      "text/plain": [
       "array(['Anamaria', 'Mickey', 'Carlee', 'Reynaldo', 'Leonila', 'Livia',\n",
       "       'Jesusa', 'Eusebio', 'Emely', 'Gerry', 'Wilber', 'Halina',\n",
       "       'Jonelle', 'Nicolas', 'Edmundo', 'Beata', 'Jann', 'Boris',\n",
       "       'Dennis', 'Shizue', 'Rutha', 'Ricarda', 'Bo', 'Jack', 'Yuki',\n",
       "       'Jess', 'Meggan', 'Georgeanna', 'Jefferey', 'Franklyn', 'Chase',\n",
       "       'Lane', 'Delila', 'Latoyia', 'Jc', 'Jeff', 'Myron', 'Reena',\n",
       "       'Olympia', 'Flo', 'Paris', 'Drucilla', 'Clementina', 'Carlos',\n",
       "       'Devora', 'Barney', 'Yuk', 'Linwood', 'Loise', 'Jone', 'Rosario',\n",
       "       'Edmond', 'Piper', 'Denis', 'Patrick', 'Theo', 'Reinaldo', 'Avril',\n",
       "       'Denisse', 'Maryam', 'Kristeen', 'Larhonda', 'Gerardo', 'Sherlyn',\n",
       "       'Ariel', 'Robt', 'Marcel', 'Dino', 'Jacelyn', 'Isa', 'Seymour',\n",
       "       'Grady', 'Particia', 'Salena', 'Ronny', 'Chau', 'Earnest', 'Brian',\n",
       "       'Neal', 'Grayce', 'Dominic', 'Lyndia', 'Wiley', 'Ignacio', 'Adena',\n",
       "       'Lenard', 'Malena', 'Brock', 'Taylor', 'Taren', 'Karima', 'Walter',\n",
       "       'Lilliam', 'Song', 'Deandre', 'Collin', 'Shavon', 'Aaron', 'Sage',\n",
       "       'Marquitta', 'Moises', 'Thurman', 'Micheal', 'Eddy', 'Porfirio',\n",
       "       'Anderson', 'Booker', 'Amal', 'Spencer', 'Esta', 'Yevette',\n",
       "       'Moriah', 'Hank', 'Deane', 'Abraham', 'Kathaleen', 'Lashay',\n",
       "       'Dierdre', 'Jenell', 'Assunta', 'Jermaine', 'Marchelle', 'Lucius',\n",
       "       'Marin', 'Clarence', 'Shane', 'Edward', 'Larry', 'Shannon',\n",
       "       'Scotty', 'Jasper', 'Allegra', 'Arlie', 'Thomas', 'Randolph',\n",
       "       'Kirstie', 'Charlesetta', 'Lorina', 'Kaycee', 'Venice', 'Loma',\n",
       "       'Duncan', 'Dwana', 'Jamaal', 'Earlie', 'Ralph', 'Merrill',\n",
       "       'Humberto', 'Claude', 'Anette', 'Luciano', 'Robin', 'Steven',\n",
       "       'Florance', 'Mark', 'Lanie', 'Kam', 'Nigel', 'Rebbecca', 'Shay',\n",
       "       'Hai', 'Olin', 'Devin', 'Weldon', 'Tristan', 'Larisa', 'Shiloh',\n",
       "       'Terrance', 'Charlsie', 'Darcey', 'Wonda', 'Ron', 'Fredric',\n",
       "       'Loria', 'Josiah', 'Tanner', 'Ethelene', 'Terrence', 'Troy',\n",
       "       'Zack', 'Korey', 'Lacresha', 'Robert', 'Roy', 'Noel', 'Lon',\n",
       "       'Russ', 'Antonetta', 'Delmar', 'Jeanelle', 'Osvaldo', 'Manie',\n",
       "       'Sherly', 'Rafael', 'Angelic', 'Samuel', 'Enrique', 'Garret',\n",
       "       'Shanae', 'Vito', 'Alfredo', 'Carl', 'Emil', 'Adelle', 'Reita',\n",
       "       'Ned', 'Stanford', 'Gavin', 'Mckenzie', 'Cleo', 'Patience',\n",
       "       'Kelly', 'Margarito', 'Denver', 'Vanesa', 'Jude', 'Augustus',\n",
       "       'Andre', 'Gaylord', 'Elidia', 'Janee', 'Matt', 'Felton', 'Odell',\n",
       "       'Leighann', 'Jackeline', 'Quentin', 'Drema', 'Lala', 'Lashunda',\n",
       "       'Isaias', 'Demarcus', 'Quinn', 'Stevie', 'Marion', 'Leigha',\n",
       "       'Milan', 'Tifany', 'Mitsue', 'Sumiko', 'Billy', 'Kennith',\n",
       "       'Johnny', 'Gabriel', 'Kai', 'Etsuko', 'Alia', 'Dusti', 'Michelina',\n",
       "       'Lucio', 'Jessie', 'Alec', 'Dorie', 'Gia', 'Britni', 'Irving',\n",
       "       'Anjelica', 'Darrin', 'Ernest', 'Hermila', 'Dudley', 'Elvie',\n",
       "       'Karmen', 'Andrew', 'Masako', 'Annice', 'Alan', 'Yuri', 'Joesph',\n",
       "       'Casie', 'Heide', 'Jenette', 'Steve', 'Thaddeus', 'Angeles',\n",
       "       'Cassey', 'Lanny', 'Demetrius', 'Hung', 'Weston', 'Nicky', 'Loyce',\n",
       "       'Keitha', 'Rene', 'Tomas', 'Rosamaria', 'Dominque', 'Gwenn',\n",
       "       'Darron', 'Kristopher', 'Samara', 'Winfred', 'Vincent', 'Cherlyn',\n",
       "       'Kory', 'Antoine', 'Brice', 'Mora', 'Lucilla', 'Ruthanne', 'Huey',\n",
       "       'Eliseo', 'Bert', 'Karlyn', 'Tyler', 'Pamelia', 'Romana', 'Cleora',\n",
       "       'Johnathon', 'Natosha', 'Tamesha', 'Doyle', 'Tobi', 'Lashandra',\n",
       "       'Lucas', 'Macy', 'Donovan', 'Gail', 'Vance', 'Janise', 'Mariette',\n",
       "       'Vanna', 'Kaila', 'Eugene', 'Teresia', 'Hugo', 'Pasquale', 'Emmie',\n",
       "       'Trey', 'Florentina', 'Al', 'Kyle', 'Emerson', 'Leonel', 'Digna',\n",
       "       'Hae', 'Ria', 'Vaughn', 'Sherley', 'Arturo', 'Kenyetta', 'Sandee',\n",
       "       'Clarine', 'Milford', 'Rod', 'Minh', 'Enola', 'Bernard', 'Nenita',\n",
       "       'Roderick', 'Patria', 'Lindsey', 'Ching', 'Andy', 'Mika', 'Vallie',\n",
       "       'Mckinley', 'Jarrett', 'Lajuana', 'German', 'Luci', 'Dominique',\n",
       "       'Nohemi', 'Jeni', 'Raymonde', 'Thu', 'Earleen', 'Deloras', 'Errol',\n",
       "       'Gale', 'Wilfredo', 'Alejandro', 'Leonard', 'Ardelia', 'Willow',\n",
       "       'Kenton', 'Charmain', 'Jesus', 'Jae', 'Paulita', 'Shella', 'Noble',\n",
       "       'Alaine', 'Elvis', 'Wendell', 'Man', 'Cortez', 'Georgianne',\n",
       "       'Rosette', 'Deja', 'Jorge', 'Hal', 'Bryon', 'Season', 'Zane',\n",
       "       'Malcom', 'Kasandra', 'Latrisha', 'Lamont', 'Zofia', 'Asuncion',\n",
       "       'Arianna', 'Myung', 'Napoleon', 'Azucena', 'Lyndon', 'Darnell',\n",
       "       'Jennine', 'Louis', 'Harvey', 'Moses', 'France', 'Piedad',\n",
       "       'Terrell', 'Genaro', 'Glinda', 'Elodia', 'Ramon', 'Elayne', 'Boyd',\n",
       "       'Miguel', 'Kymberly', 'Janean', 'Joella', 'Santos', 'Winford',\n",
       "       'Rupert', 'Lesley', 'Dinorah', 'Burt', 'Alphonse', 'Nickolas',\n",
       "       'Johana', 'Rory', 'Gerald', 'Maximo', 'Kirk', 'Randee', 'Arlen',\n",
       "       'Tammara', 'Magaly', 'Elane', 'Keesha', 'Roni', 'Armand', 'Delpha',\n",
       "       'Damion', 'Sang', 'Elton', 'Shirley', 'Londa', 'Terina', 'Cicely',\n",
       "       'Preston', 'Fidel', 'Donte', 'Scot', 'Shena'], dtype=object)"
      ]
     },
     "execution_count": 9,
     "metadata": {},
     "output_type": "execute_result"
    }
   ],
   "source": [
    "# The following line of code generates a long list, no need to run if not interested\n",
    "users['first_name'].unique()"
   ]
  },
  {
   "cell_type": "code",
   "execution_count": 10,
   "metadata": {},
   "outputs": [
    {
     "data": {
      "text/plain": [
       "array(['Bauer', 'Wilkerson', 'Hoffman', 'Jenkins', 'Thompson', 'Shields',\n",
       "       'Bradford', 'Welch', 'Little', 'Blair', 'Henry', 'Mcbride',\n",
       "       'Snider', 'Simon', 'Carpenter', 'Salinas', 'Gates', 'Grimes',\n",
       "       'Landry', 'Bell', 'Booker', 'Snow', 'Delaney', 'Tyson',\n",
       "       'Wilkinson', 'Hamilton', 'Cardenas', 'Rasmussen', 'Henson', 'Kane',\n",
       "       'Martin', 'Dalton', 'Moran', 'Gentry', 'Cummings', 'Hodge',\n",
       "       'Velazquez', 'Hicks', 'Santos', 'Lynn', 'Mclaughlin', 'Hinton',\n",
       "       'Galloway', 'Ortega', 'Hooper', 'French', 'Terrell', 'Avery',\n",
       "       'Owen', 'Gibbs', 'Hopkins', 'Espinoza', 'Frost', 'Mclean',\n",
       "       'Chandler', 'Sargent', 'Colon', 'Richardson', 'Valencia', 'Head',\n",
       "       'Hartman', 'Ashley', 'Noel', 'Woods', 'Allen', 'Jimenez', 'Fry',\n",
       "       'Contreras', 'Roy', 'Spence', 'Crawford', 'Fuller', 'Bates',\n",
       "       'Browning', 'Webster', 'Gray', 'Mccall', 'Mcgee', 'Sears', 'Witt',\n",
       "       'Acevedo', 'Mckinney', 'Bennett', 'Macias', 'Atkinson',\n",
       "       'Robertson', 'Kelley', 'Skinner', 'Oliver', 'Strickland',\n",
       "       'Hampton', 'Petersen', 'Alvarado', 'Cline', 'Powell', 'Sims',\n",
       "       'Banks', 'Rowe', 'Conley', 'Walton', 'Weeks', 'Stephens', 'Poole',\n",
       "       'Garrison', 'Cash', 'Cotton', 'Hahn', 'Pacheco', 'Powers', 'Estes',\n",
       "       'Yang', 'Yates', 'Taylor', 'Ramirez', 'Palmer', 'Mcconnell',\n",
       "       'Albert', 'Reese', 'Nash', 'Navarro', 'Carver', 'Mcguire', 'Brock',\n",
       "       'Fernandez', 'Bolton', 'Cunningham', 'Morrison', 'Roberts', 'Barr',\n",
       "       'Nichols', 'White', 'Caldwell', 'Higgins', 'Lawson', 'Graves',\n",
       "       'Hodges', 'Dillard', 'Stevens', 'Peterson', 'Brooks', 'Mcneil',\n",
       "       'Malone', 'Moore', 'Camacho', 'Giles', 'Monroe', 'Hogan', 'Pruitt',\n",
       "       'Chambers', 'Sheppard', 'Thornton', 'Baker', 'Morgan', 'Estrada',\n",
       "       'Farley', 'Washington', 'Huber', 'Bryant', 'Nicholson', 'Weaver',\n",
       "       'Bean', 'Adkins', 'Robinson', 'Cain', 'Ellis', 'Stafford',\n",
       "       'Shaffer', 'Anderson', 'Reid', 'Baird', 'Hays', 'Kaufman', 'Burt',\n",
       "       'Gallegos', 'Middleton', 'Freeman', 'Douglas', 'Goodman', 'Smith',\n",
       "       'Hutchinson', 'Waters', 'Goodwin', 'Olsen', 'Velez', 'Dawson',\n",
       "       'Parker', 'Horne', 'Finley', 'Cross', 'Mayer', 'Levy', 'Wade',\n",
       "       'Singleton', 'Porter', 'Paul', 'Carrillo', 'Cameron', 'Newman',\n",
       "       'Robles', 'Knapp', 'Atkins', 'Thomas', 'Pena', 'Keller', 'Strong',\n",
       "       'Wilson', 'Cole', 'Barker', 'Harrell', 'Willis', 'Hale', 'Russell',\n",
       "       'Perkins', 'Nguyen', 'Juarez', 'Wheeler', 'Byrd', 'Hancock',\n",
       "       'Lopez', 'Walls', 'Johns', 'Compton', 'David', 'Sellers', 'York',\n",
       "       'Dudley', 'Webb', 'Rowland', 'Wise', \"O'donnell\", 'Perry',\n",
       "       'Aguilar', 'Forbes', 'Duffy', 'Hill', 'Bowers', 'Chan', 'Rose',\n",
       "       'Mercado', 'Ryan', 'Massey', 'Carney', 'Faulkner', 'Montgomery',\n",
       "       'Duke', 'Berry', 'Hardy', 'Calhoun', 'Burgess', 'Odom', 'Barry',\n",
       "       'Castaneda', 'Gill', 'Rush', 'Mejia', 'Nolan', 'Russo', 'Flowers',\n",
       "       'Tucker', 'Cooley', 'Harrison', 'Horton', 'Morris', 'Reeves',\n",
       "       'Gross', 'Craig', 'Lang', 'Zimmerman', 'Saunders', 'Emerson',\n",
       "       'Schroeder', 'Heath', 'Walsh', 'Carson', 'Wells', 'Sweeney',\n",
       "       'Lyons', 'Branch', 'Peck', 'Nunez', 'Kinney', 'Ramos', 'Coleman',\n",
       "       'Bradshaw', 'Arnold', 'Bowman', 'Stanton', 'Andrews', 'Patton',\n",
       "       'Ewing', 'Daugherty', 'Gonzalez', 'Lynch', 'Rutledge', 'Diaz',\n",
       "       'Whitfield', 'Dyer', 'Beach', 'Maldonado', 'Norris', 'Mullins',\n",
       "       'Mcknight', 'Lott', 'Bonner', 'Huff', 'Fischer', 'Ray', 'Mckee',\n",
       "       'Vasquez', 'Slater', 'Kim', 'Dickerson', 'Watts', 'Holden',\n",
       "       'Williams', 'Conway', 'Clayton', 'Spencer', 'Burris', 'Kidd',\n",
       "       'Mccoy', 'Good', 'Erickson', 'Gilbert', 'Lowe', 'Glass', 'Cooke',\n",
       "       'Mcfadden', 'Rosa', 'Wooten', 'Benton', 'Steele', 'Hickman',\n",
       "       'Gardner', 'Hunter', 'Jefferson', 'Vargas', 'Lloyd', 'Fleming',\n",
       "       'Hensley', 'Herring', 'Mendez', 'Moss', 'Madden', 'Barnes',\n",
       "       'Gordon', 'Hobbs', 'Neal', 'Keith', 'Larsen', 'Conner', 'Conrad',\n",
       "       'Pugh', 'Cabrera', 'Barrett', 'Myers', 'Quinn', 'Donovan', 'Ball',\n",
       "       'Hester', 'Foley', 'Marquez', 'Harding', 'Sparks', 'Tyler',\n",
       "       'Cohen', 'Munoz', 'Underwood', 'Santana', 'Workman', 'Simmons',\n",
       "       'Burke', 'Harmon', 'Deleon', 'Nixon', 'Mitchell', 'Mendoza',\n",
       "       'Sutton', 'Dorsey', 'Rivas', 'Burnett', 'Buchanan', 'Frye',\n",
       "       'Glenn', 'Farrell', 'Baldwin', 'Woodard', 'Solis', 'Simpson',\n",
       "       'Jones', 'Cortez', 'Jensen', 'Wynn', 'Downs', 'Sharpe', 'Shepherd',\n",
       "       'Barrera', 'Williamson', 'Dickson'], dtype=object)"
      ]
     },
     "execution_count": 10,
     "metadata": {},
     "output_type": "execute_result"
    }
   ],
   "source": [
    "# The following line of code generates a long list, no need to run if not interested\n",
    "users['last_name'].unique()"
   ]
  },
  {
   "cell_type": "code",
   "execution_count": 11,
   "metadata": {},
   "outputs": [
    {
     "name": "stdout",
     "output_type": "stream",
     "text": [
      "Age range 18 - 75\n"
     ]
    }
   ],
   "source": [
    "# Check for any errors in the age category\n",
    "print('Age range', users['age'].min(), '-', users['age'].max())"
   ]
  },
  {
   "cell_type": "code",
   "execution_count": 12,
   "metadata": {},
   "outputs": [
    {
     "data": {
      "text/plain": [
       "array(['ultimate', 'surf'], dtype=object)"
      ]
     },
     "execution_count": 12,
     "metadata": {},
     "output_type": "execute_result"
    }
   ],
   "source": [
    "# Check for errors in the plans field\n",
    "users['plan'].unique()"
   ]
  },
  {
   "cell_type": "code",
   "execution_count": 13,
   "metadata": {},
   "outputs": [
    {
     "data": {
      "text/plain": [
       "0"
      ]
     },
     "execution_count": 13,
     "metadata": {},
     "output_type": "execute_result"
    }
   ],
   "source": [
    "# Check for dups in the id column\n",
    "users['user_id'].duplicated().sum()"
   ]
  },
  {
   "cell_type": "markdown",
   "metadata": {},
   "source": [
    "After inspecting the data of the **users** dataset closely, we didn't find any major issues, other than the type of the dates.\n",
    "Therefore, next we are going to convert the dates from strings into datetimes."
   ]
  },
  {
   "cell_type": "code",
   "execution_count": 14,
   "metadata": {},
   "outputs": [],
   "source": [
    "# Converting dates to datetime\n",
    "users['reg_date'] = pd.to_datetime(users['reg_date'], format='%Y-%m-%d')"
   ]
  },
  {
   "cell_type": "code",
   "execution_count": 15,
   "metadata": {},
   "outputs": [
    {
     "name": "stdout",
     "output_type": "stream",
     "text": [
      "<class 'pandas.core.frame.DataFrame'>\n",
      "RangeIndex: 500 entries, 0 to 499\n",
      "Data columns (total 8 columns):\n",
      "user_id       500 non-null int64\n",
      "first_name    500 non-null object\n",
      "last_name     500 non-null object\n",
      "age           500 non-null int64\n",
      "city          500 non-null object\n",
      "reg_date      500 non-null datetime64[ns]\n",
      "plan          500 non-null object\n",
      "churn_date    34 non-null object\n",
      "dtypes: datetime64[ns](1), int64(2), object(5)\n",
      "memory usage: 31.4+ KB\n"
     ]
    }
   ],
   "source": [
    "# Checking if the conversion worked\n",
    "users.info()"
   ]
  },
  {
   "cell_type": "markdown",
   "metadata": {},
   "source": [
    "We converted the dates into datetime and we're finished with the **users** dataframe. Lets move on to another dataframe.\n",
    "Next we are going to deal with errors in the **internet** dataframe"
   ]
  },
  {
   "cell_type": "code",
   "execution_count": 16,
   "metadata": {},
   "outputs": [
    {
     "name": "stdout",
     "output_type": "stream",
     "text": [
      "User_id range 1000 - 1499\n",
      "Mb_used range 0.0 - 1693.47\n"
     ]
    }
   ],
   "source": [
    "# Checking if the ranges make sense\n",
    "print('User_id range', internet['user_id'].min(), '-', internet['user_id'].max())\n",
    "print('Mb_used range', internet['mb_used'].min(), '-', internet['mb_used'].max())"
   ]
  },
  {
   "cell_type": "code",
   "execution_count": 17,
   "metadata": {},
   "outputs": [],
   "source": [
    "# Remvoing rows with 0 as mb_used\n",
    "internet = internet.query('mb_used > 0')"
   ]
  },
  {
   "cell_type": "markdown",
   "metadata": {},
   "source": [
    "<div class=\"alert alert-block alert-success\">\n",
    "<b>Reviewer's comment v1</b>\n",
    " \n",
    "Great that you've added a solution for zero-based internet sessions.\n",
    "\n",
    "On a real project, of course, you can always find out the reason for such zeros. But in this case, it is enough to consider the alternatives and the impact of each decision."
   ]
  },
  {
   "cell_type": "code",
   "execution_count": 18,
   "metadata": {},
   "outputs": [
    {
     "data": {
      "text/plain": [
       "False    91078\n",
       "Name: id, dtype: int64"
      ]
     },
     "execution_count": 18,
     "metadata": {},
     "output_type": "execute_result"
    }
   ],
   "source": [
    "# check for dups in the id column\n",
    "internet['id'].duplicated().value_counts()"
   ]
  },
  {
   "cell_type": "code",
   "execution_count": 19,
   "metadata": {},
   "outputs": [
    {
     "name": "stdout",
     "output_type": "stream",
     "text": [
      "<class 'pandas.core.frame.DataFrame'>\n",
      "Int64Index: 91078 entries, 0 to 104824\n",
      "Data columns (total 4 columns):\n",
      "id              91078 non-null object\n",
      "user_id         91078 non-null int64\n",
      "session_date    91078 non-null datetime64[ns]\n",
      "mb_used         91078 non-null float64\n",
      "dtypes: datetime64[ns](1), float64(1), int64(1), object(1)\n",
      "memory usage: 3.5+ MB\n"
     ]
    }
   ],
   "source": [
    "# converting the dates into datetime type\n",
    "internet['session_date'] = pd.to_datetime(internet['session_date'], format='%Y-%m-%d')\n",
    "internet.info()"
   ]
  },
  {
   "cell_type": "code",
   "execution_count": 20,
   "metadata": {},
   "outputs": [
    {
     "data": {
      "text/html": [
       "<div>\n",
       "<style scoped>\n",
       "    .dataframe tbody tr th:only-of-type {\n",
       "        vertical-align: middle;\n",
       "    }\n",
       "\n",
       "    .dataframe tbody tr th {\n",
       "        vertical-align: top;\n",
       "    }\n",
       "\n",
       "    .dataframe thead th {\n",
       "        text-align: right;\n",
       "    }\n",
       "</style>\n",
       "<table border=\"1\" class=\"dataframe\">\n",
       "  <thead>\n",
       "    <tr style=\"text-align: right;\">\n",
       "      <th></th>\n",
       "      <th>id</th>\n",
       "      <th>user_id</th>\n",
       "      <th>session_date</th>\n",
       "      <th>mb_used</th>\n",
       "      <th>month</th>\n",
       "      <th>gb_used</th>\n",
       "    </tr>\n",
       "  </thead>\n",
       "  <tbody>\n",
       "    <tr>\n",
       "      <td>0</td>\n",
       "      <td>1000_13</td>\n",
       "      <td>1000</td>\n",
       "      <td>2018-12-29</td>\n",
       "      <td>89.86</td>\n",
       "      <td>12</td>\n",
       "      <td>0.087754</td>\n",
       "    </tr>\n",
       "    <tr>\n",
       "      <td>2</td>\n",
       "      <td>1000_379</td>\n",
       "      <td>1000</td>\n",
       "      <td>2018-12-28</td>\n",
       "      <td>660.40</td>\n",
       "      <td>12</td>\n",
       "      <td>0.644922</td>\n",
       "    </tr>\n",
       "    <tr>\n",
       "      <td>3</td>\n",
       "      <td>1000_413</td>\n",
       "      <td>1000</td>\n",
       "      <td>2018-12-26</td>\n",
       "      <td>270.99</td>\n",
       "      <td>12</td>\n",
       "      <td>0.264639</td>\n",
       "    </tr>\n",
       "    <tr>\n",
       "      <td>4</td>\n",
       "      <td>1000_442</td>\n",
       "      <td>1000</td>\n",
       "      <td>2018-12-27</td>\n",
       "      <td>880.22</td>\n",
       "      <td>12</td>\n",
       "      <td>0.859590</td>\n",
       "    </tr>\n",
       "    <tr>\n",
       "      <td>5</td>\n",
       "      <td>1001_0</td>\n",
       "      <td>1001</td>\n",
       "      <td>2018-08-24</td>\n",
       "      <td>284.68</td>\n",
       "      <td>8</td>\n",
       "      <td>0.278008</td>\n",
       "    </tr>\n",
       "  </tbody>\n",
       "</table>\n",
       "</div>"
      ],
      "text/plain": [
       "         id  user_id session_date  mb_used  month   gb_used\n",
       "0   1000_13     1000   2018-12-29    89.86     12  0.087754\n",
       "2  1000_379     1000   2018-12-28   660.40     12  0.644922\n",
       "3  1000_413     1000   2018-12-26   270.99     12  0.264639\n",
       "4  1000_442     1000   2018-12-27   880.22     12  0.859590\n",
       "5    1001_0     1001   2018-08-24   284.68      8  0.278008"
      ]
     },
     "execution_count": 20,
     "metadata": {},
     "output_type": "execute_result"
    }
   ],
   "source": [
    "# Adding a gigabyte column and a month column\n",
    "internet['month'] = internet['session_date'].dt.month\n",
    "internet['gb_used'] = internet['mb_used']/1024\n",
    "internet.head(5)"
   ]
  },
  {
   "cell_type": "markdown",
   "metadata": {},
   "source": [
    "<div class=\"alert alert-block alert-warning\">\n",
    "<b>Reviewer's comment v1:</b>\n",
    "    \n",
    "Everything is correct here but usually, it is always helpful to double-check whether we indeed have data within one year/time period. If not then selecting and aggregating data by the month number will cause an issue. So here it is safer to use datetime64[M] which provides a complete date. "
   ]
  },
  {
   "cell_type": "markdown",
   "metadata": {},
   "source": [
    "There is not much to check in the **internet** dataframe, other than the ranges for the **user_id** and **mb_used**, and by the looks of it; they make complete sense. We also checked for duplicates in the **id** column and found none, then we converted the dates from strings to datetime and added a **gb_used** column since the company measures the data usage by Gigabyte and not Megabyte and a **month** column for later use. Other than that, we decided to remove all the rows with 0 mbs used since they won't be included when charging the customer and having useless rows isn't a good idea.\n",
    "\n",
    "Next we'll check the **messages** dataframe for any problematic values"
   ]
  },
  {
   "cell_type": "code",
   "execution_count": 21,
   "metadata": {},
   "outputs": [
    {
     "name": "stdout",
     "output_type": "stream",
     "text": [
      "0\n"
     ]
    }
   ],
   "source": [
    "# check for dups in the message ids\n",
    "print(messages['id'].duplicated().sum())"
   ]
  },
  {
   "cell_type": "code",
   "execution_count": 22,
   "metadata": {},
   "outputs": [
    {
     "name": "stdout",
     "output_type": "stream",
     "text": [
      "user_id range 1000 - 1497\n"
     ]
    }
   ],
   "source": [
    "# Check for the range of user_ids\n",
    "print('user_id range', messages['user_id'].min(), '-', messages['user_id'].max())"
   ]
  },
  {
   "cell_type": "code",
   "execution_count": 23,
   "metadata": {},
   "outputs": [
    {
     "name": "stdout",
     "output_type": "stream",
     "text": [
      "<class 'pandas.core.frame.DataFrame'>\n",
      "RangeIndex: 76051 entries, 0 to 76050\n",
      "Data columns (total 3 columns):\n",
      "id              76051 non-null object\n",
      "user_id         76051 non-null int64\n",
      "message_date    76051 non-null datetime64[ns]\n",
      "dtypes: datetime64[ns](1), int64(1), object(1)\n",
      "memory usage: 1.7+ MB\n"
     ]
    }
   ],
   "source": [
    "# converting the dates into datetime type\n",
    "messages['message_date'] = pd.to_datetime(messages['message_date'], format='%Y-%m-%d')\n",
    "messages.info()"
   ]
  },
  {
   "cell_type": "code",
   "execution_count": 24,
   "metadata": {},
   "outputs": [
    {
     "data": {
      "text/html": [
       "<div>\n",
       "<style scoped>\n",
       "    .dataframe tbody tr th:only-of-type {\n",
       "        vertical-align: middle;\n",
       "    }\n",
       "\n",
       "    .dataframe tbody tr th {\n",
       "        vertical-align: top;\n",
       "    }\n",
       "\n",
       "    .dataframe thead th {\n",
       "        text-align: right;\n",
       "    }\n",
       "</style>\n",
       "<table border=\"1\" class=\"dataframe\">\n",
       "  <thead>\n",
       "    <tr style=\"text-align: right;\">\n",
       "      <th></th>\n",
       "      <th>id</th>\n",
       "      <th>user_id</th>\n",
       "      <th>message_date</th>\n",
       "      <th>month</th>\n",
       "    </tr>\n",
       "  </thead>\n",
       "  <tbody>\n",
       "    <tr>\n",
       "      <td>0</td>\n",
       "      <td>1000_125</td>\n",
       "      <td>1000</td>\n",
       "      <td>2018-12-27</td>\n",
       "      <td>12</td>\n",
       "    </tr>\n",
       "    <tr>\n",
       "      <td>1</td>\n",
       "      <td>1000_160</td>\n",
       "      <td>1000</td>\n",
       "      <td>2018-12-31</td>\n",
       "      <td>12</td>\n",
       "    </tr>\n",
       "    <tr>\n",
       "      <td>2</td>\n",
       "      <td>1000_223</td>\n",
       "      <td>1000</td>\n",
       "      <td>2018-12-31</td>\n",
       "      <td>12</td>\n",
       "    </tr>\n",
       "    <tr>\n",
       "      <td>3</td>\n",
       "      <td>1000_251</td>\n",
       "      <td>1000</td>\n",
       "      <td>2018-12-27</td>\n",
       "      <td>12</td>\n",
       "    </tr>\n",
       "    <tr>\n",
       "      <td>4</td>\n",
       "      <td>1000_255</td>\n",
       "      <td>1000</td>\n",
       "      <td>2018-12-26</td>\n",
       "      <td>12</td>\n",
       "    </tr>\n",
       "  </tbody>\n",
       "</table>\n",
       "</div>"
      ],
      "text/plain": [
       "         id  user_id message_date  month\n",
       "0  1000_125     1000   2018-12-27     12\n",
       "1  1000_160     1000   2018-12-31     12\n",
       "2  1000_223     1000   2018-12-31     12\n",
       "3  1000_251     1000   2018-12-27     12\n",
       "4  1000_255     1000   2018-12-26     12"
      ]
     },
     "execution_count": 24,
     "metadata": {},
     "output_type": "execute_result"
    }
   ],
   "source": [
    "# adding a message month column\n",
    "messages['month'] = messages['message_date'].dt.month\n",
    "messages.head(5)"
   ]
  },
  {
   "cell_type": "markdown",
   "metadata": {},
   "source": [
    "After checking for errors in the **messages** dataframes, we ended up with 0 duplicates, and a range of 498 user ids. This means we have some missing user ids, but this is fine, because it only means that some users didn't send messages at all while using the service. Other than that, we also converted dates from strings into datetimes and then added a **month** column for later use!\n",
    "\n",
    "Now that we're done with **messages** we are left with one dataframe to inspect, the **calls** dataframe"
   ]
  },
  {
   "cell_type": "code",
   "execution_count": 25,
   "metadata": {},
   "outputs": [
    {
     "data": {
      "text/plain": [
       "0"
      ]
     },
     "execution_count": 25,
     "metadata": {},
     "output_type": "execute_result"
    }
   ],
   "source": [
    "# Check for dups in the id column\n",
    "calls['id'].duplicated().sum()"
   ]
  },
  {
   "cell_type": "code",
   "execution_count": 26,
   "metadata": {},
   "outputs": [
    {
     "data": {
      "text/plain": [
       "481"
      ]
     },
     "execution_count": 26,
     "metadata": {},
     "output_type": "execute_result"
    }
   ],
   "source": [
    "# Check for user ids\n",
    "calls['user_id'].unique().shape[0]"
   ]
  },
  {
   "cell_type": "code",
   "execution_count": 27,
   "metadata": {},
   "outputs": [
    {
     "name": "stdout",
     "output_type": "stream",
     "text": [
      "Zeros calls percentage: 19.48%\n"
     ]
    }
   ],
   "source": [
    "# Checking for calls with 0 mins\n",
    "print('Zeros calls percentage: {:.2%}'.format(calls.query('duration == 0').shape[0]/calls.shape[0]))"
   ]
  },
  {
   "cell_type": "markdown",
   "metadata": {},
   "source": [
    "Looking at the results we got, there are no duplicates, we have 481 user ids in the dataframe (which is very reasonable). But, we found a high percentage of calls with duration of 0 minutes (0 seconds), since 0 minutes = 0 seconds this means we can remove those calls from our dataframe without losing anything significant value at all because the company won't be charging for them."
   ]
  },
  {
   "cell_type": "code",
   "execution_count": 28,
   "metadata": {},
   "outputs": [
    {
     "data": {
      "text/plain": [
       "110901"
      ]
     },
     "execution_count": 28,
     "metadata": {},
     "output_type": "execute_result"
    }
   ],
   "source": [
    "# Remvoing the 0 mins rows from our dataframe\n",
    "calls = calls.query('duration > 0')\n",
    "calls.shape[0]"
   ]
  },
  {
   "cell_type": "code",
   "execution_count": 29,
   "metadata": {},
   "outputs": [
    {
     "name": "stdout",
     "output_type": "stream",
     "text": [
      "<class 'pandas.core.frame.DataFrame'>\n",
      "Int64Index: 110901 entries, 0 to 137734\n",
      "Data columns (total 4 columns):\n",
      "id           110901 non-null object\n",
      "user_id      110901 non-null int64\n",
      "call_date    110901 non-null datetime64[ns]\n",
      "duration     110901 non-null float64\n",
      "dtypes: datetime64[ns](1), float64(1), int64(1), object(1)\n",
      "memory usage: 4.2+ MB\n"
     ]
    }
   ],
   "source": [
    "# converting the dates into datetime type\n",
    "calls['call_date'] = pd.to_datetime(calls['call_date'], format='%Y-%m-%d')\n",
    "calls.info()"
   ]
  },
  {
   "cell_type": "code",
   "execution_count": 30,
   "metadata": {},
   "outputs": [
    {
     "data": {
      "text/html": [
       "<div>\n",
       "<style scoped>\n",
       "    .dataframe tbody tr th:only-of-type {\n",
       "        vertical-align: middle;\n",
       "    }\n",
       "\n",
       "    .dataframe tbody tr th {\n",
       "        vertical-align: top;\n",
       "    }\n",
       "\n",
       "    .dataframe thead th {\n",
       "        text-align: right;\n",
       "    }\n",
       "</style>\n",
       "<table border=\"1\" class=\"dataframe\">\n",
       "  <thead>\n",
       "    <tr style=\"text-align: right;\">\n",
       "      <th></th>\n",
       "      <th>id</th>\n",
       "      <th>user_id</th>\n",
       "      <th>call_date</th>\n",
       "      <th>duration</th>\n",
       "      <th>month</th>\n",
       "    </tr>\n",
       "  </thead>\n",
       "  <tbody>\n",
       "    <tr>\n",
       "      <td>0</td>\n",
       "      <td>1000_93</td>\n",
       "      <td>1000</td>\n",
       "      <td>2018-12-27</td>\n",
       "      <td>8.52</td>\n",
       "      <td>12</td>\n",
       "    </tr>\n",
       "    <tr>\n",
       "      <td>1</td>\n",
       "      <td>1000_145</td>\n",
       "      <td>1000</td>\n",
       "      <td>2018-12-27</td>\n",
       "      <td>13.66</td>\n",
       "      <td>12</td>\n",
       "    </tr>\n",
       "    <tr>\n",
       "      <td>2</td>\n",
       "      <td>1000_247</td>\n",
       "      <td>1000</td>\n",
       "      <td>2018-12-27</td>\n",
       "      <td>14.48</td>\n",
       "      <td>12</td>\n",
       "    </tr>\n",
       "    <tr>\n",
       "      <td>3</td>\n",
       "      <td>1000_309</td>\n",
       "      <td>1000</td>\n",
       "      <td>2018-12-28</td>\n",
       "      <td>5.76</td>\n",
       "      <td>12</td>\n",
       "    </tr>\n",
       "    <tr>\n",
       "      <td>4</td>\n",
       "      <td>1000_380</td>\n",
       "      <td>1000</td>\n",
       "      <td>2018-12-30</td>\n",
       "      <td>4.22</td>\n",
       "      <td>12</td>\n",
       "    </tr>\n",
       "  </tbody>\n",
       "</table>\n",
       "</div>"
      ],
      "text/plain": [
       "         id  user_id  call_date  duration  month\n",
       "0   1000_93     1000 2018-12-27      8.52     12\n",
       "1  1000_145     1000 2018-12-27     13.66     12\n",
       "2  1000_247     1000 2018-12-27     14.48     12\n",
       "3  1000_309     1000 2018-12-28      5.76     12\n",
       "4  1000_380     1000 2018-12-30      4.22     12"
      ]
     },
     "execution_count": 30,
     "metadata": {},
     "output_type": "execute_result"
    }
   ],
   "source": [
    "# adding a call month column\n",
    "calls['month'] = calls['call_date'].dt.month\n",
    "calls.head(5)"
   ]
  },
  {
   "cell_type": "code",
   "execution_count": 31,
   "metadata": {},
   "outputs": [
    {
     "data": {
      "text/html": [
       "<div>\n",
       "<style scoped>\n",
       "    .dataframe tbody tr th:only-of-type {\n",
       "        vertical-align: middle;\n",
       "    }\n",
       "\n",
       "    .dataframe tbody tr th {\n",
       "        vertical-align: top;\n",
       "    }\n",
       "\n",
       "    .dataframe thead th {\n",
       "        text-align: right;\n",
       "    }\n",
       "</style>\n",
       "<table border=\"1\" class=\"dataframe\">\n",
       "  <thead>\n",
       "    <tr style=\"text-align: right;\">\n",
       "      <th></th>\n",
       "      <th>id</th>\n",
       "      <th>user_id</th>\n",
       "      <th>call_date</th>\n",
       "      <th>duration</th>\n",
       "      <th>month</th>\n",
       "    </tr>\n",
       "  </thead>\n",
       "  <tbody>\n",
       "    <tr>\n",
       "      <td>0</td>\n",
       "      <td>1000_93</td>\n",
       "      <td>1000</td>\n",
       "      <td>2018-12-27</td>\n",
       "      <td>9.0</td>\n",
       "      <td>12</td>\n",
       "    </tr>\n",
       "    <tr>\n",
       "      <td>1</td>\n",
       "      <td>1000_145</td>\n",
       "      <td>1000</td>\n",
       "      <td>2018-12-27</td>\n",
       "      <td>14.0</td>\n",
       "      <td>12</td>\n",
       "    </tr>\n",
       "    <tr>\n",
       "      <td>2</td>\n",
       "      <td>1000_247</td>\n",
       "      <td>1000</td>\n",
       "      <td>2018-12-27</td>\n",
       "      <td>15.0</td>\n",
       "      <td>12</td>\n",
       "    </tr>\n",
       "    <tr>\n",
       "      <td>3</td>\n",
       "      <td>1000_309</td>\n",
       "      <td>1000</td>\n",
       "      <td>2018-12-28</td>\n",
       "      <td>6.0</td>\n",
       "      <td>12</td>\n",
       "    </tr>\n",
       "    <tr>\n",
       "      <td>4</td>\n",
       "      <td>1000_380</td>\n",
       "      <td>1000</td>\n",
       "      <td>2018-12-30</td>\n",
       "      <td>5.0</td>\n",
       "      <td>12</td>\n",
       "    </tr>\n",
       "  </tbody>\n",
       "</table>\n",
       "</div>"
      ],
      "text/plain": [
       "         id  user_id  call_date  duration  month\n",
       "0   1000_93     1000 2018-12-27       9.0     12\n",
       "1  1000_145     1000 2018-12-27      14.0     12\n",
       "2  1000_247     1000 2018-12-27      15.0     12\n",
       "3  1000_309     1000 2018-12-28       6.0     12\n",
       "4  1000_380     1000 2018-12-30       5.0     12"
      ]
     },
     "execution_count": 31,
     "metadata": {},
     "output_type": "execute_result"
    }
   ],
   "source": [
    "# Rounding up the minutes\n",
    "calls['duration'] = np.ceil(calls['duration'])\n",
    "calls.head(5)"
   ]
  },
  {
   "cell_type": "markdown",
   "metadata": {},
   "source": [
    "<div class=\"alert alert-block alert-success\">\n",
    "<b>Reviewer's comment v1:</b>\n",
    "    \n",
    "Ok, great job! Good that you did not forget about data rounding. Also, great choice of np.ceil () method :)\n",
    "\n"
   ]
  },
  {
   "cell_type": "markdown",
   "metadata": {},
   "source": [
    "We removed the zero mins from the calls dataframe and converted the dates from strings to datetimes and then added a **month** column for later use. We then rounded up the call durations because that's the more accurate look on the data according to the company.\n",
    "\n",
    "By this, we have completed our initial exploration of the data!\n",
    "\n",
    "#### Enriching the data\n",
    "**Next** we are going to organize the data in our hands to make it look better and easier for use. What are our plans? The plan is to move all the data into one big dataframe that include all the necessary data, and only the necessary data.\n",
    "* Sum call durations and seperate them by month\n",
    "* Sum internet sessions MB used and seperate them by month\n",
    "* Sum messages and seperate them by month\n",
    "\n",
    "Why this approach? In order to compare which plan is more profitable, we have to look for the stats of each plan on a monthly basis since that's how the company charges their users/customers. Message, call and Internet usage dates aren't of siginficant importance to our research, what really matters to us is their counts per month and we can figure that out with the  help of each data's registered date."
   ]
  },
  {
   "cell_type": "code",
   "execution_count": 32,
   "metadata": {},
   "outputs": [
    {
     "data": {
      "text/html": [
       "<div>\n",
       "<style scoped>\n",
       "    .dataframe tbody tr th:only-of-type {\n",
       "        vertical-align: middle;\n",
       "    }\n",
       "\n",
       "    .dataframe tbody tr th {\n",
       "        vertical-align: top;\n",
       "    }\n",
       "\n",
       "    .dataframe thead th {\n",
       "        text-align: right;\n",
       "    }\n",
       "</style>\n",
       "<table border=\"1\" class=\"dataframe\">\n",
       "  <thead>\n",
       "    <tr style=\"text-align: right;\">\n",
       "      <th></th>\n",
       "      <th>user_id</th>\n",
       "      <th>month</th>\n",
       "      <th>messages_per_month</th>\n",
       "    </tr>\n",
       "  </thead>\n",
       "  <tbody>\n",
       "    <tr>\n",
       "      <td>0</td>\n",
       "      <td>1000</td>\n",
       "      <td>12</td>\n",
       "      <td>11</td>\n",
       "    </tr>\n",
       "    <tr>\n",
       "      <td>1</td>\n",
       "      <td>1001</td>\n",
       "      <td>8</td>\n",
       "      <td>30</td>\n",
       "    </tr>\n",
       "    <tr>\n",
       "      <td>2</td>\n",
       "      <td>1001</td>\n",
       "      <td>9</td>\n",
       "      <td>44</td>\n",
       "    </tr>\n",
       "    <tr>\n",
       "      <td>3</td>\n",
       "      <td>1001</td>\n",
       "      <td>10</td>\n",
       "      <td>53</td>\n",
       "    </tr>\n",
       "    <tr>\n",
       "      <td>4</td>\n",
       "      <td>1001</td>\n",
       "      <td>11</td>\n",
       "      <td>36</td>\n",
       "    </tr>\n",
       "    <tr>\n",
       "      <td>...</td>\n",
       "      <td>...</td>\n",
       "      <td>...</td>\n",
       "      <td>...</td>\n",
       "    </tr>\n",
       "    <tr>\n",
       "      <td>1801</td>\n",
       "      <td>1496</td>\n",
       "      <td>9</td>\n",
       "      <td>21</td>\n",
       "    </tr>\n",
       "    <tr>\n",
       "      <td>1802</td>\n",
       "      <td>1496</td>\n",
       "      <td>10</td>\n",
       "      <td>18</td>\n",
       "    </tr>\n",
       "    <tr>\n",
       "      <td>1803</td>\n",
       "      <td>1496</td>\n",
       "      <td>11</td>\n",
       "      <td>13</td>\n",
       "    </tr>\n",
       "    <tr>\n",
       "      <td>1804</td>\n",
       "      <td>1496</td>\n",
       "      <td>12</td>\n",
       "      <td>11</td>\n",
       "    </tr>\n",
       "    <tr>\n",
       "      <td>1805</td>\n",
       "      <td>1497</td>\n",
       "      <td>12</td>\n",
       "      <td>50</td>\n",
       "    </tr>\n",
       "  </tbody>\n",
       "</table>\n",
       "<p>1806 rows × 3 columns</p>\n",
       "</div>"
      ],
      "text/plain": [
       "      user_id  month  messages_per_month\n",
       "0        1000     12                  11\n",
       "1        1001      8                  30\n",
       "2        1001      9                  44\n",
       "3        1001     10                  53\n",
       "4        1001     11                  36\n",
       "...       ...    ...                 ...\n",
       "1801     1496      9                  21\n",
       "1802     1496     10                  18\n",
       "1803     1496     11                  13\n",
       "1804     1496     12                  11\n",
       "1805     1497     12                  50\n",
       "\n",
       "[1806 rows x 3 columns]"
      ]
     },
     "execution_count": 32,
     "metadata": {},
     "output_type": "execute_result"
    }
   ],
   "source": [
    "# Grouping messages by user_id per month\n",
    "messages_grouped_by_month = messages.pivot_table('id', index=['user_id', 'month'], aggfunc = ['count']).reset_index()\n",
    "messages_grouped_by_month.columns = ['user_id', 'month', 'messages_per_month']\n",
    "messages_grouped_by_month"
   ]
  },
  {
   "cell_type": "code",
   "execution_count": 33,
   "metadata": {},
   "outputs": [
    {
     "data": {
      "text/html": [
       "<div>\n",
       "<style scoped>\n",
       "    .dataframe tbody tr th:only-of-type {\n",
       "        vertical-align: middle;\n",
       "    }\n",
       "\n",
       "    .dataframe tbody tr th {\n",
       "        vertical-align: top;\n",
       "    }\n",
       "\n",
       "    .dataframe thead th {\n",
       "        text-align: right;\n",
       "    }\n",
       "</style>\n",
       "<table border=\"1\" class=\"dataframe\">\n",
       "  <thead>\n",
       "    <tr style=\"text-align: right;\">\n",
       "      <th></th>\n",
       "      <th>user_id</th>\n",
       "      <th>month</th>\n",
       "      <th>calls_duration</th>\n",
       "      <th>total_calls</th>\n",
       "    </tr>\n",
       "  </thead>\n",
       "  <tbody>\n",
       "    <tr>\n",
       "      <td>0</td>\n",
       "      <td>1000</td>\n",
       "      <td>12</td>\n",
       "      <td>124.0</td>\n",
       "      <td>16</td>\n",
       "    </tr>\n",
       "    <tr>\n",
       "      <td>1</td>\n",
       "      <td>1001</td>\n",
       "      <td>8</td>\n",
       "      <td>182.0</td>\n",
       "      <td>22</td>\n",
       "    </tr>\n",
       "    <tr>\n",
       "      <td>2</td>\n",
       "      <td>1001</td>\n",
       "      <td>9</td>\n",
       "      <td>315.0</td>\n",
       "      <td>38</td>\n",
       "    </tr>\n",
       "    <tr>\n",
       "      <td>3</td>\n",
       "      <td>1001</td>\n",
       "      <td>10</td>\n",
       "      <td>393.0</td>\n",
       "      <td>47</td>\n",
       "    </tr>\n",
       "    <tr>\n",
       "      <td>4</td>\n",
       "      <td>1001</td>\n",
       "      <td>11</td>\n",
       "      <td>426.0</td>\n",
       "      <td>49</td>\n",
       "    </tr>\n",
       "    <tr>\n",
       "      <td>...</td>\n",
       "      <td>...</td>\n",
       "      <td>...</td>\n",
       "      <td>...</td>\n",
       "      <td>...</td>\n",
       "    </tr>\n",
       "    <tr>\n",
       "      <td>2251</td>\n",
       "      <td>1498</td>\n",
       "      <td>12</td>\n",
       "      <td>339.0</td>\n",
       "      <td>32</td>\n",
       "    </tr>\n",
       "    <tr>\n",
       "      <td>2252</td>\n",
       "      <td>1499</td>\n",
       "      <td>9</td>\n",
       "      <td>346.0</td>\n",
       "      <td>35</td>\n",
       "    </tr>\n",
       "    <tr>\n",
       "      <td>2253</td>\n",
       "      <td>1499</td>\n",
       "      <td>10</td>\n",
       "      <td>385.0</td>\n",
       "      <td>41</td>\n",
       "    </tr>\n",
       "    <tr>\n",
       "      <td>2254</td>\n",
       "      <td>1499</td>\n",
       "      <td>11</td>\n",
       "      <td>308.0</td>\n",
       "      <td>39</td>\n",
       "    </tr>\n",
       "    <tr>\n",
       "      <td>2255</td>\n",
       "      <td>1499</td>\n",
       "      <td>12</td>\n",
       "      <td>496.0</td>\n",
       "      <td>56</td>\n",
       "    </tr>\n",
       "  </tbody>\n",
       "</table>\n",
       "<p>2256 rows × 4 columns</p>\n",
       "</div>"
      ],
      "text/plain": [
       "      user_id  month  calls_duration  total_calls\n",
       "0        1000     12           124.0           16\n",
       "1        1001      8           182.0           22\n",
       "2        1001      9           315.0           38\n",
       "3        1001     10           393.0           47\n",
       "4        1001     11           426.0           49\n",
       "...       ...    ...             ...          ...\n",
       "2251     1498     12           339.0           32\n",
       "2252     1499      9           346.0           35\n",
       "2253     1499     10           385.0           41\n",
       "2254     1499     11           308.0           39\n",
       "2255     1499     12           496.0           56\n",
       "\n",
       "[2256 rows x 4 columns]"
      ]
     },
     "execution_count": 33,
     "metadata": {},
     "output_type": "execute_result"
    }
   ],
   "source": [
    "# Grouping calls duration by user_id per month\n",
    "calls_grouped_by_month = calls.pivot_table('duration', index=['user_id', 'month'], aggfunc = ['sum', 'count']).reset_index()\n",
    "calls_grouped_by_month.columns = ['user_id', 'month','calls_duration', 'total_calls']\n",
    "calls_grouped_by_month"
   ]
  },
  {
   "cell_type": "markdown",
   "metadata": {},
   "source": [
    "<div class=\"alert alert-block alert-danger\">\n",
    "<b>Reviewer's comment v1:</b>\n",
    "    \n",
    "Unfortunately, you have a typo here and because of that not rounded calls have been aggregated. \n",
    "    \n",
    "Can you please check that?"
   ]
  },
  {
   "cell_type": "markdown",
   "metadata": {},
   "source": [
    "<div class=\"alert alert-block alert-success\">\n",
    "<b>Reviewer's comment v2</b>\n",
    " \n",
    "Awesome! Now everything is perfect. "
   ]
  },
  {
   "cell_type": "code",
   "execution_count": 34,
   "metadata": {},
   "outputs": [],
   "source": [
    "# Grouping calls duration by user_id per month\n",
    "internet_grouped_by_month = internet.pivot_table('gb_used', index=['user_id', 'month'], aggfunc = ['sum']).reset_index()\n",
    "internet_grouped_by_month.columns = ['user_id', 'month', 'gb_per_month']"
   ]
  },
  {
   "cell_type": "code",
   "execution_count": 35,
   "metadata": {},
   "outputs": [
    {
     "data": {
      "text/html": [
       "<div>\n",
       "<style scoped>\n",
       "    .dataframe tbody tr th:only-of-type {\n",
       "        vertical-align: middle;\n",
       "    }\n",
       "\n",
       "    .dataframe tbody tr th {\n",
       "        vertical-align: top;\n",
       "    }\n",
       "\n",
       "    .dataframe thead th {\n",
       "        text-align: right;\n",
       "    }\n",
       "</style>\n",
       "<table border=\"1\" class=\"dataframe\">\n",
       "  <thead>\n",
       "    <tr style=\"text-align: right;\">\n",
       "      <th></th>\n",
       "      <th>user_id</th>\n",
       "      <th>month</th>\n",
       "      <th>gb_per_month</th>\n",
       "    </tr>\n",
       "  </thead>\n",
       "  <tbody>\n",
       "    <tr>\n",
       "      <td>0</td>\n",
       "      <td>1000</td>\n",
       "      <td>12</td>\n",
       "      <td>2.0</td>\n",
       "    </tr>\n",
       "    <tr>\n",
       "      <td>1</td>\n",
       "      <td>1001</td>\n",
       "      <td>8</td>\n",
       "      <td>7.0</td>\n",
       "    </tr>\n",
       "    <tr>\n",
       "      <td>2</td>\n",
       "      <td>1001</td>\n",
       "      <td>9</td>\n",
       "      <td>14.0</td>\n",
       "    </tr>\n",
       "    <tr>\n",
       "      <td>3</td>\n",
       "      <td>1001</td>\n",
       "      <td>10</td>\n",
       "      <td>22.0</td>\n",
       "    </tr>\n",
       "    <tr>\n",
       "      <td>4</td>\n",
       "      <td>1001</td>\n",
       "      <td>11</td>\n",
       "      <td>19.0</td>\n",
       "    </tr>\n",
       "    <tr>\n",
       "      <td>...</td>\n",
       "      <td>...</td>\n",
       "      <td>...</td>\n",
       "      <td>...</td>\n",
       "    </tr>\n",
       "    <tr>\n",
       "      <td>2272</td>\n",
       "      <td>1498</td>\n",
       "      <td>12</td>\n",
       "      <td>23.0</td>\n",
       "    </tr>\n",
       "    <tr>\n",
       "      <td>2273</td>\n",
       "      <td>1499</td>\n",
       "      <td>9</td>\n",
       "      <td>13.0</td>\n",
       "    </tr>\n",
       "    <tr>\n",
       "      <td>2274</td>\n",
       "      <td>1499</td>\n",
       "      <td>10</td>\n",
       "      <td>20.0</td>\n",
       "    </tr>\n",
       "    <tr>\n",
       "      <td>2275</td>\n",
       "      <td>1499</td>\n",
       "      <td>11</td>\n",
       "      <td>17.0</td>\n",
       "    </tr>\n",
       "    <tr>\n",
       "      <td>2276</td>\n",
       "      <td>1499</td>\n",
       "      <td>12</td>\n",
       "      <td>22.0</td>\n",
       "    </tr>\n",
       "  </tbody>\n",
       "</table>\n",
       "<p>2277 rows × 3 columns</p>\n",
       "</div>"
      ],
      "text/plain": [
       "      user_id  month  gb_per_month\n",
       "0        1000     12           2.0\n",
       "1        1001      8           7.0\n",
       "2        1001      9          14.0\n",
       "3        1001     10          22.0\n",
       "4        1001     11          19.0\n",
       "...       ...    ...           ...\n",
       "2272     1498     12          23.0\n",
       "2273     1499      9          13.0\n",
       "2274     1499     10          20.0\n",
       "2275     1499     11          17.0\n",
       "2276     1499     12          22.0\n",
       "\n",
       "[2277 rows x 3 columns]"
      ]
     },
     "execution_count": 35,
     "metadata": {},
     "output_type": "execute_result"
    }
   ],
   "source": [
    "# Rounding GBs used per month up since that's what the company does\n",
    "internet_grouped_by_month['gb_per_month'] = np.ceil(internet_grouped_by_month['gb_per_month'])\n",
    "internet_grouped_by_month"
   ]
  },
  {
   "cell_type": "markdown",
   "metadata": {},
   "source": [
    "<div class=\"alert alert-block alert-success\">\n",
    "<b>Reviewer's comment v1</b>\n",
    " \n",
    "You performed correct data aggregation and rounding."
   ]
  },
  {
   "cell_type": "markdown",
   "metadata": {},
   "source": [
    "Currently we have organized the tables in a better way, we can clearly see how much calls each user made per month and how long these calls lasted in total, we can see how much messages per month were made for every user and so on. This is what really matters for our research. But still, we have to merge all these tables into one big dataframe that includes all the needed data so we don't end up using too much dataframes, something that may cause confusions and mistakes.\n",
    "\n",
    "**Next** we merge all the dataframes into one dataframe:"
   ]
  },
  {
   "cell_type": "code",
   "execution_count": 36,
   "metadata": {},
   "outputs": [
    {
     "name": "stdout",
     "output_type": "stream",
     "text": [
      "<class 'pandas.core.frame.DataFrame'>\n",
      "Int64Index: 2303 entries, 0 to 2302\n",
      "Data columns (total 13 columns):\n",
      "user_id               2303 non-null int64\n",
      "month                 2303 non-null float64\n",
      "calls_duration        2303 non-null float64\n",
      "total_calls           2303 non-null float64\n",
      "messages_per_month    2303 non-null float64\n",
      "gb_per_month          2303 non-null float64\n",
      "first_name            2303 non-null object\n",
      "last_name             2303 non-null object\n",
      "age                   2303 non-null int64\n",
      "city                  2303 non-null object\n",
      "reg_date              2303 non-null datetime64[ns]\n",
      "plan                  2303 non-null object\n",
      "churn_date            2303 non-null object\n",
      "dtypes: datetime64[ns](1), float64(5), int64(2), object(5)\n",
      "memory usage: 251.9+ KB\n"
     ]
    },
    {
     "data": {
      "text/html": [
       "<div>\n",
       "<style scoped>\n",
       "    .dataframe tbody tr th:only-of-type {\n",
       "        vertical-align: middle;\n",
       "    }\n",
       "\n",
       "    .dataframe tbody tr th {\n",
       "        vertical-align: top;\n",
       "    }\n",
       "\n",
       "    .dataframe thead th {\n",
       "        text-align: right;\n",
       "    }\n",
       "</style>\n",
       "<table border=\"1\" class=\"dataframe\">\n",
       "  <thead>\n",
       "    <tr style=\"text-align: right;\">\n",
       "      <th></th>\n",
       "      <th>user_id</th>\n",
       "      <th>month</th>\n",
       "      <th>calls_duration</th>\n",
       "      <th>total_calls</th>\n",
       "      <th>messages_per_month</th>\n",
       "      <th>gb_per_month</th>\n",
       "      <th>first_name</th>\n",
       "      <th>last_name</th>\n",
       "      <th>age</th>\n",
       "      <th>city</th>\n",
       "      <th>reg_date</th>\n",
       "      <th>plan</th>\n",
       "      <th>churn_date</th>\n",
       "    </tr>\n",
       "  </thead>\n",
       "  <tbody>\n",
       "    <tr>\n",
       "      <td>0</td>\n",
       "      <td>1000</td>\n",
       "      <td>12.0</td>\n",
       "      <td>124.0</td>\n",
       "      <td>16.0</td>\n",
       "      <td>11.0</td>\n",
       "      <td>2.0</td>\n",
       "      <td>Anamaria</td>\n",
       "      <td>Bauer</td>\n",
       "      <td>45</td>\n",
       "      <td>Atlanta-Sandy Springs-Roswell, GA MSA</td>\n",
       "      <td>2018-12-24</td>\n",
       "      <td>ultimate</td>\n",
       "      <td>0</td>\n",
       "    </tr>\n",
       "    <tr>\n",
       "      <td>1</td>\n",
       "      <td>1001</td>\n",
       "      <td>8.0</td>\n",
       "      <td>182.0</td>\n",
       "      <td>22.0</td>\n",
       "      <td>30.0</td>\n",
       "      <td>7.0</td>\n",
       "      <td>Mickey</td>\n",
       "      <td>Wilkerson</td>\n",
       "      <td>28</td>\n",
       "      <td>Seattle-Tacoma-Bellevue, WA MSA</td>\n",
       "      <td>2018-08-13</td>\n",
       "      <td>surf</td>\n",
       "      <td>0</td>\n",
       "    </tr>\n",
       "    <tr>\n",
       "      <td>2</td>\n",
       "      <td>1001</td>\n",
       "      <td>9.0</td>\n",
       "      <td>315.0</td>\n",
       "      <td>38.0</td>\n",
       "      <td>44.0</td>\n",
       "      <td>14.0</td>\n",
       "      <td>Mickey</td>\n",
       "      <td>Wilkerson</td>\n",
       "      <td>28</td>\n",
       "      <td>Seattle-Tacoma-Bellevue, WA MSA</td>\n",
       "      <td>2018-08-13</td>\n",
       "      <td>surf</td>\n",
       "      <td>0</td>\n",
       "    </tr>\n",
       "    <tr>\n",
       "      <td>3</td>\n",
       "      <td>1001</td>\n",
       "      <td>10.0</td>\n",
       "      <td>393.0</td>\n",
       "      <td>47.0</td>\n",
       "      <td>53.0</td>\n",
       "      <td>22.0</td>\n",
       "      <td>Mickey</td>\n",
       "      <td>Wilkerson</td>\n",
       "      <td>28</td>\n",
       "      <td>Seattle-Tacoma-Bellevue, WA MSA</td>\n",
       "      <td>2018-08-13</td>\n",
       "      <td>surf</td>\n",
       "      <td>0</td>\n",
       "    </tr>\n",
       "    <tr>\n",
       "      <td>4</td>\n",
       "      <td>1001</td>\n",
       "      <td>11.0</td>\n",
       "      <td>426.0</td>\n",
       "      <td>49.0</td>\n",
       "      <td>36.0</td>\n",
       "      <td>19.0</td>\n",
       "      <td>Mickey</td>\n",
       "      <td>Wilkerson</td>\n",
       "      <td>28</td>\n",
       "      <td>Seattle-Tacoma-Bellevue, WA MSA</td>\n",
       "      <td>2018-08-13</td>\n",
       "      <td>surf</td>\n",
       "      <td>0</td>\n",
       "    </tr>\n",
       "  </tbody>\n",
       "</table>\n",
       "</div>"
      ],
      "text/plain": [
       "   user_id  month  calls_duration  total_calls  messages_per_month  \\\n",
       "0     1000   12.0           124.0         16.0                11.0   \n",
       "1     1001    8.0           182.0         22.0                30.0   \n",
       "2     1001    9.0           315.0         38.0                44.0   \n",
       "3     1001   10.0           393.0         47.0                53.0   \n",
       "4     1001   11.0           426.0         49.0                36.0   \n",
       "\n",
       "   gb_per_month first_name  last_name  age  \\\n",
       "0           2.0   Anamaria      Bauer   45   \n",
       "1           7.0     Mickey  Wilkerson   28   \n",
       "2          14.0     Mickey  Wilkerson   28   \n",
       "3          22.0     Mickey  Wilkerson   28   \n",
       "4          19.0     Mickey  Wilkerson   28   \n",
       "\n",
       "                                    city   reg_date      plan churn_date  \n",
       "0  Atlanta-Sandy Springs-Roswell, GA MSA 2018-12-24  ultimate          0  \n",
       "1        Seattle-Tacoma-Bellevue, WA MSA 2018-08-13      surf          0  \n",
       "2        Seattle-Tacoma-Bellevue, WA MSA 2018-08-13      surf          0  \n",
       "3        Seattle-Tacoma-Bellevue, WA MSA 2018-08-13      surf          0  \n",
       "4        Seattle-Tacoma-Bellevue, WA MSA 2018-08-13      surf          0  "
      ]
     },
     "execution_count": 36,
     "metadata": {},
     "output_type": "execute_result"
    }
   ],
   "source": [
    "# Merging the table that we created above into one dataframe\n",
    "final_dataframe = calls_grouped_by_month.merge(messages_grouped_by_month, how = 'outer', on = ['user_id', 'month'])\n",
    "final_dataframe = final_dataframe.merge(internet_grouped_by_month, how = 'outer', on = ['user_id', 'month']).fillna(0)\n",
    "final_dataframe = final_dataframe.merge(users, how = 'outer', on = 'user_id').fillna(0)\n",
    "final_dataframe.info()\n",
    "final_dataframe.head(5)"
   ]
  },
  {
   "cell_type": "markdown",
   "metadata": {},
   "source": [
    "<div class=\"alert alert-block alert-success\">\n",
    "<b>Reviewer's comment v1:</b>\n",
    "    \n",
    "Indeed `how = 'outer' can be used here to prevent data loss.\n",
    "    \n",
    "By the way, it is also possible to group 3 tables at once using reduce. You can read about it here: https://www.codegrepper.com/code-examples/python/merge+more+than+2+dataframes+in+pandas"
   ]
  },
  {
   "cell_type": "markdown",
   "metadata": {},
   "source": [
    "*We filled the **churn_date** with 0 as a sign that the user still didn't stop the service and all the other missing values also with **0** since that is the real value for them.*\n",
    "\n",
    "So far we have treated all the problematic values and fixed all the data types, we collected all the data in one place and everything looks clean, we are ready to start studying the data.\n",
    "\n",
    "We are officially done with the first part of the project. We have an organized dataframe that includes all the necessary data to compare between in order to come up with conclusion regarding the purpose of our project. "
   ]
  },
  {
   "cell_type": "markdown",
   "metadata": {},
   "source": [
    "## Studying the data\n",
    "### Study the core parameters\n",
    "\n",
    "Given the data we have, we can already calculate the monthly charges for each user of the users in the dataframe. This will be our first step into calculating which plan is more profitable:\n",
    "\n",
    "We do so by creating a function that calculates the monthly payment for each row/user according to the stats in each month."
   ]
  },
  {
   "cell_type": "code",
   "execution_count": 37,
   "metadata": {},
   "outputs": [],
   "source": [
    "# Creating a function to calculate the monthly payment for each user for each month\n",
    "def calculate_monthly_payment(row):\n",
    "    call_minutes, t_messages, gb_used = row['calls_duration'], row['messages_per_month'], row['gb_per_month']\n",
    "    vars_ = [call_minutes, t_messages, gb_used] # inserting our variables into a list\n",
    "    limits = {'ultimate' : [3000, 1000, 30], 'surf': [500, 50, 15]} # setting up the limits for each plan in respect to vars_\n",
    "    prices = {'ultimate' : [0.01, 0.01, 7], 'surf': [0.03, 0.03, 10]} # setting up the prices for each plan in respect to vars_\n",
    "    base_payments = {'ultimate' : 70, 'surf': 20}\n",
    "    plan = row['plan']\n",
    "    total = base_payments[plan]\n",
    "    \n",
    "    for index, var in enumerate(vars_): # we use enumerate here in order to get the index of each var (0 to 2) and use it on the limit and prices lists\n",
    "        var_limit = limits[plan][index] # each variable limit according to the plan and index\n",
    "        var_overlimit_price = prices[plan][index] # each variable overlimit price according to the plan and index\n",
    "        if var > var_limit:\n",
    "            total += (var - var_limit)*var_overlimit_price # if a var is over the limit, we calculate the difference and multiply by the overlimit price\n",
    "    return total"
   ]
  },
  {
   "cell_type": "code",
   "execution_count": 38,
   "metadata": {},
   "outputs": [
    {
     "data": {
      "text/plain": [
       "90.09"
      ]
     },
     "execution_count": 38,
     "metadata": {},
     "output_type": "execute_result"
    }
   ],
   "source": [
    "# Testing the function\n",
    "calculate_monthly_payment(final_dataframe.loc[3])"
   ]
  },
  {
   "cell_type": "code",
   "execution_count": 39,
   "metadata": {},
   "outputs": [
    {
     "data": {
      "text/html": [
       "<div>\n",
       "<style scoped>\n",
       "    .dataframe tbody tr th:only-of-type {\n",
       "        vertical-align: middle;\n",
       "    }\n",
       "\n",
       "    .dataframe tbody tr th {\n",
       "        vertical-align: top;\n",
       "    }\n",
       "\n",
       "    .dataframe thead th {\n",
       "        text-align: right;\n",
       "    }\n",
       "</style>\n",
       "<table border=\"1\" class=\"dataframe\">\n",
       "  <thead>\n",
       "    <tr style=\"text-align: right;\">\n",
       "      <th></th>\n",
       "      <th>user_id</th>\n",
       "      <th>month</th>\n",
       "      <th>calls_duration</th>\n",
       "      <th>total_calls</th>\n",
       "      <th>messages_per_month</th>\n",
       "      <th>gb_per_month</th>\n",
       "      <th>first_name</th>\n",
       "      <th>last_name</th>\n",
       "      <th>age</th>\n",
       "      <th>city</th>\n",
       "      <th>reg_date</th>\n",
       "      <th>plan</th>\n",
       "      <th>churn_date</th>\n",
       "      <th>monthly_payment</th>\n",
       "    </tr>\n",
       "  </thead>\n",
       "  <tbody>\n",
       "    <tr>\n",
       "      <td>0</td>\n",
       "      <td>1000</td>\n",
       "      <td>12.0</td>\n",
       "      <td>124.0</td>\n",
       "      <td>16.0</td>\n",
       "      <td>11.0</td>\n",
       "      <td>2.0</td>\n",
       "      <td>Anamaria</td>\n",
       "      <td>Bauer</td>\n",
       "      <td>45</td>\n",
       "      <td>Atlanta-Sandy Springs-Roswell, GA MSA</td>\n",
       "      <td>2018-12-24</td>\n",
       "      <td>ultimate</td>\n",
       "      <td>0</td>\n",
       "      <td>70.00</td>\n",
       "    </tr>\n",
       "    <tr>\n",
       "      <td>1</td>\n",
       "      <td>1001</td>\n",
       "      <td>8.0</td>\n",
       "      <td>182.0</td>\n",
       "      <td>22.0</td>\n",
       "      <td>30.0</td>\n",
       "      <td>7.0</td>\n",
       "      <td>Mickey</td>\n",
       "      <td>Wilkerson</td>\n",
       "      <td>28</td>\n",
       "      <td>Seattle-Tacoma-Bellevue, WA MSA</td>\n",
       "      <td>2018-08-13</td>\n",
       "      <td>surf</td>\n",
       "      <td>0</td>\n",
       "      <td>20.00</td>\n",
       "    </tr>\n",
       "    <tr>\n",
       "      <td>2</td>\n",
       "      <td>1001</td>\n",
       "      <td>9.0</td>\n",
       "      <td>315.0</td>\n",
       "      <td>38.0</td>\n",
       "      <td>44.0</td>\n",
       "      <td>14.0</td>\n",
       "      <td>Mickey</td>\n",
       "      <td>Wilkerson</td>\n",
       "      <td>28</td>\n",
       "      <td>Seattle-Tacoma-Bellevue, WA MSA</td>\n",
       "      <td>2018-08-13</td>\n",
       "      <td>surf</td>\n",
       "      <td>0</td>\n",
       "      <td>20.00</td>\n",
       "    </tr>\n",
       "    <tr>\n",
       "      <td>3</td>\n",
       "      <td>1001</td>\n",
       "      <td>10.0</td>\n",
       "      <td>393.0</td>\n",
       "      <td>47.0</td>\n",
       "      <td>53.0</td>\n",
       "      <td>22.0</td>\n",
       "      <td>Mickey</td>\n",
       "      <td>Wilkerson</td>\n",
       "      <td>28</td>\n",
       "      <td>Seattle-Tacoma-Bellevue, WA MSA</td>\n",
       "      <td>2018-08-13</td>\n",
       "      <td>surf</td>\n",
       "      <td>0</td>\n",
       "      <td>90.09</td>\n",
       "    </tr>\n",
       "    <tr>\n",
       "      <td>4</td>\n",
       "      <td>1001</td>\n",
       "      <td>11.0</td>\n",
       "      <td>426.0</td>\n",
       "      <td>49.0</td>\n",
       "      <td>36.0</td>\n",
       "      <td>19.0</td>\n",
       "      <td>Mickey</td>\n",
       "      <td>Wilkerson</td>\n",
       "      <td>28</td>\n",
       "      <td>Seattle-Tacoma-Bellevue, WA MSA</td>\n",
       "      <td>2018-08-13</td>\n",
       "      <td>surf</td>\n",
       "      <td>0</td>\n",
       "      <td>60.00</td>\n",
       "    </tr>\n",
       "    <tr>\n",
       "      <td>5</td>\n",
       "      <td>1001</td>\n",
       "      <td>12.0</td>\n",
       "      <td>412.0</td>\n",
       "      <td>46.0</td>\n",
       "      <td>44.0</td>\n",
       "      <td>19.0</td>\n",
       "      <td>Mickey</td>\n",
       "      <td>Wilkerson</td>\n",
       "      <td>28</td>\n",
       "      <td>Seattle-Tacoma-Bellevue, WA MSA</td>\n",
       "      <td>2018-08-13</td>\n",
       "      <td>surf</td>\n",
       "      <td>0</td>\n",
       "      <td>60.00</td>\n",
       "    </tr>\n",
       "    <tr>\n",
       "      <td>6</td>\n",
       "      <td>1002</td>\n",
       "      <td>10.0</td>\n",
       "      <td>59.0</td>\n",
       "      <td>8.0</td>\n",
       "      <td>15.0</td>\n",
       "      <td>7.0</td>\n",
       "      <td>Carlee</td>\n",
       "      <td>Hoffman</td>\n",
       "      <td>36</td>\n",
       "      <td>Las Vegas-Henderson-Paradise, NV MSA</td>\n",
       "      <td>2018-10-21</td>\n",
       "      <td>surf</td>\n",
       "      <td>0</td>\n",
       "      <td>20.00</td>\n",
       "    </tr>\n",
       "    <tr>\n",
       "      <td>7</td>\n",
       "      <td>1002</td>\n",
       "      <td>11.0</td>\n",
       "      <td>386.0</td>\n",
       "      <td>48.0</td>\n",
       "      <td>32.0</td>\n",
       "      <td>19.0</td>\n",
       "      <td>Carlee</td>\n",
       "      <td>Hoffman</td>\n",
       "      <td>36</td>\n",
       "      <td>Las Vegas-Henderson-Paradise, NV MSA</td>\n",
       "      <td>2018-10-21</td>\n",
       "      <td>surf</td>\n",
       "      <td>0</td>\n",
       "      <td>60.00</td>\n",
       "    </tr>\n",
       "    <tr>\n",
       "      <td>8</td>\n",
       "      <td>1002</td>\n",
       "      <td>12.0</td>\n",
       "      <td>384.0</td>\n",
       "      <td>38.0</td>\n",
       "      <td>41.0</td>\n",
       "      <td>15.0</td>\n",
       "      <td>Carlee</td>\n",
       "      <td>Hoffman</td>\n",
       "      <td>36</td>\n",
       "      <td>Las Vegas-Henderson-Paradise, NV MSA</td>\n",
       "      <td>2018-10-21</td>\n",
       "      <td>surf</td>\n",
       "      <td>0</td>\n",
       "      <td>20.00</td>\n",
       "    </tr>\n",
       "    <tr>\n",
       "      <td>9</td>\n",
       "      <td>1003</td>\n",
       "      <td>12.0</td>\n",
       "      <td>1104.0</td>\n",
       "      <td>118.0</td>\n",
       "      <td>50.0</td>\n",
       "      <td>27.0</td>\n",
       "      <td>Reynaldo</td>\n",
       "      <td>Jenkins</td>\n",
       "      <td>52</td>\n",
       "      <td>Tulsa, OK MSA</td>\n",
       "      <td>2018-01-28</td>\n",
       "      <td>surf</td>\n",
       "      <td>0</td>\n",
       "      <td>158.12</td>\n",
       "    </tr>\n",
       "    <tr>\n",
       "      <td>10</td>\n",
       "      <td>1004</td>\n",
       "      <td>5.0</td>\n",
       "      <td>193.0</td>\n",
       "      <td>19.0</td>\n",
       "      <td>7.0</td>\n",
       "      <td>7.0</td>\n",
       "      <td>Leonila</td>\n",
       "      <td>Thompson</td>\n",
       "      <td>40</td>\n",
       "      <td>Seattle-Tacoma-Bellevue, WA MSA</td>\n",
       "      <td>2018-05-23</td>\n",
       "      <td>surf</td>\n",
       "      <td>0</td>\n",
       "      <td>20.00</td>\n",
       "    </tr>\n",
       "    <tr>\n",
       "      <td>11</td>\n",
       "      <td>1004</td>\n",
       "      <td>6.0</td>\n",
       "      <td>275.0</td>\n",
       "      <td>33.0</td>\n",
       "      <td>18.0</td>\n",
       "      <td>21.0</td>\n",
       "      <td>Leonila</td>\n",
       "      <td>Thompson</td>\n",
       "      <td>40</td>\n",
       "      <td>Seattle-Tacoma-Bellevue, WA MSA</td>\n",
       "      <td>2018-05-23</td>\n",
       "      <td>surf</td>\n",
       "      <td>0</td>\n",
       "      <td>80.00</td>\n",
       "    </tr>\n",
       "    <tr>\n",
       "      <td>12</td>\n",
       "      <td>1004</td>\n",
       "      <td>7.0</td>\n",
       "      <td>381.0</td>\n",
       "      <td>45.0</td>\n",
       "      <td>26.0</td>\n",
       "      <td>24.0</td>\n",
       "      <td>Leonila</td>\n",
       "      <td>Thompson</td>\n",
       "      <td>40</td>\n",
       "      <td>Seattle-Tacoma-Bellevue, WA MSA</td>\n",
       "      <td>2018-05-23</td>\n",
       "      <td>surf</td>\n",
       "      <td>0</td>\n",
       "      <td>110.00</td>\n",
       "    </tr>\n",
       "    <tr>\n",
       "      <td>13</td>\n",
       "      <td>1004</td>\n",
       "      <td>8.0</td>\n",
       "      <td>354.0</td>\n",
       "      <td>42.0</td>\n",
       "      <td>25.0</td>\n",
       "      <td>28.0</td>\n",
       "      <td>Leonila</td>\n",
       "      <td>Thompson</td>\n",
       "      <td>40</td>\n",
       "      <td>Seattle-Tacoma-Bellevue, WA MSA</td>\n",
       "      <td>2018-05-23</td>\n",
       "      <td>surf</td>\n",
       "      <td>0</td>\n",
       "      <td>150.00</td>\n",
       "    </tr>\n",
       "    <tr>\n",
       "      <td>14</td>\n",
       "      <td>1004</td>\n",
       "      <td>9.0</td>\n",
       "      <td>301.0</td>\n",
       "      <td>32.0</td>\n",
       "      <td>21.0</td>\n",
       "      <td>19.0</td>\n",
       "      <td>Leonila</td>\n",
       "      <td>Thompson</td>\n",
       "      <td>40</td>\n",
       "      <td>Seattle-Tacoma-Bellevue, WA MSA</td>\n",
       "      <td>2018-05-23</td>\n",
       "      <td>surf</td>\n",
       "      <td>0</td>\n",
       "      <td>60.00</td>\n",
       "    </tr>\n",
       "    <tr>\n",
       "      <td>15</td>\n",
       "      <td>1004</td>\n",
       "      <td>10.0</td>\n",
       "      <td>365.0</td>\n",
       "      <td>47.0</td>\n",
       "      <td>24.0</td>\n",
       "      <td>15.0</td>\n",
       "      <td>Leonila</td>\n",
       "      <td>Thompson</td>\n",
       "      <td>40</td>\n",
       "      <td>Seattle-Tacoma-Bellevue, WA MSA</td>\n",
       "      <td>2018-05-23</td>\n",
       "      <td>surf</td>\n",
       "      <td>0</td>\n",
       "      <td>20.00</td>\n",
       "    </tr>\n",
       "    <tr>\n",
       "      <td>16</td>\n",
       "      <td>1004</td>\n",
       "      <td>11.0</td>\n",
       "      <td>476.0</td>\n",
       "      <td>45.0</td>\n",
       "      <td>25.0</td>\n",
       "      <td>22.0</td>\n",
       "      <td>Leonila</td>\n",
       "      <td>Thompson</td>\n",
       "      <td>40</td>\n",
       "      <td>Seattle-Tacoma-Bellevue, WA MSA</td>\n",
       "      <td>2018-05-23</td>\n",
       "      <td>surf</td>\n",
       "      <td>0</td>\n",
       "      <td>90.00</td>\n",
       "    </tr>\n",
       "    <tr>\n",
       "      <td>17</td>\n",
       "      <td>1004</td>\n",
       "      <td>12.0</td>\n",
       "      <td>427.0</td>\n",
       "      <td>43.0</td>\n",
       "      <td>31.0</td>\n",
       "      <td>21.0</td>\n",
       "      <td>Leonila</td>\n",
       "      <td>Thompson</td>\n",
       "      <td>40</td>\n",
       "      <td>Seattle-Tacoma-Bellevue, WA MSA</td>\n",
       "      <td>2018-05-23</td>\n",
       "      <td>surf</td>\n",
       "      <td>0</td>\n",
       "      <td>80.00</td>\n",
       "    </tr>\n",
       "    <tr>\n",
       "      <td>18</td>\n",
       "      <td>1005</td>\n",
       "      <td>12.0</td>\n",
       "      <td>496.0</td>\n",
       "      <td>50.0</td>\n",
       "      <td>11.0</td>\n",
       "      <td>17.0</td>\n",
       "      <td>Livia</td>\n",
       "      <td>Shields</td>\n",
       "      <td>31</td>\n",
       "      <td>Dallas-Fort Worth-Arlington, TX MSA</td>\n",
       "      <td>2018-11-29</td>\n",
       "      <td>surf</td>\n",
       "      <td>0</td>\n",
       "      <td>40.00</td>\n",
       "    </tr>\n",
       "    <tr>\n",
       "      <td>19</td>\n",
       "      <td>1006</td>\n",
       "      <td>11.0</td>\n",
       "      <td>10.0</td>\n",
       "      <td>2.0</td>\n",
       "      <td>15.0</td>\n",
       "      <td>3.0</td>\n",
       "      <td>Jesusa</td>\n",
       "      <td>Bradford</td>\n",
       "      <td>73</td>\n",
       "      <td>San Francisco-Oakland-Berkeley, CA MSA</td>\n",
       "      <td>2018-11-27</td>\n",
       "      <td>ultimate</td>\n",
       "      <td>2018-12-18</td>\n",
       "      <td>70.00</td>\n",
       "    </tr>\n",
       "  </tbody>\n",
       "</table>\n",
       "</div>"
      ],
      "text/plain": [
       "    user_id  month  calls_duration  total_calls  messages_per_month  \\\n",
       "0      1000   12.0           124.0         16.0                11.0   \n",
       "1      1001    8.0           182.0         22.0                30.0   \n",
       "2      1001    9.0           315.0         38.0                44.0   \n",
       "3      1001   10.0           393.0         47.0                53.0   \n",
       "4      1001   11.0           426.0         49.0                36.0   \n",
       "5      1001   12.0           412.0         46.0                44.0   \n",
       "6      1002   10.0            59.0          8.0                15.0   \n",
       "7      1002   11.0           386.0         48.0                32.0   \n",
       "8      1002   12.0           384.0         38.0                41.0   \n",
       "9      1003   12.0          1104.0        118.0                50.0   \n",
       "10     1004    5.0           193.0         19.0                 7.0   \n",
       "11     1004    6.0           275.0         33.0                18.0   \n",
       "12     1004    7.0           381.0         45.0                26.0   \n",
       "13     1004    8.0           354.0         42.0                25.0   \n",
       "14     1004    9.0           301.0         32.0                21.0   \n",
       "15     1004   10.0           365.0         47.0                24.0   \n",
       "16     1004   11.0           476.0         45.0                25.0   \n",
       "17     1004   12.0           427.0         43.0                31.0   \n",
       "18     1005   12.0           496.0         50.0                11.0   \n",
       "19     1006   11.0            10.0          2.0                15.0   \n",
       "\n",
       "    gb_per_month first_name  last_name  age  \\\n",
       "0            2.0   Anamaria      Bauer   45   \n",
       "1            7.0     Mickey  Wilkerson   28   \n",
       "2           14.0     Mickey  Wilkerson   28   \n",
       "3           22.0     Mickey  Wilkerson   28   \n",
       "4           19.0     Mickey  Wilkerson   28   \n",
       "5           19.0     Mickey  Wilkerson   28   \n",
       "6            7.0     Carlee    Hoffman   36   \n",
       "7           19.0     Carlee    Hoffman   36   \n",
       "8           15.0     Carlee    Hoffman   36   \n",
       "9           27.0   Reynaldo    Jenkins   52   \n",
       "10           7.0    Leonila   Thompson   40   \n",
       "11          21.0    Leonila   Thompson   40   \n",
       "12          24.0    Leonila   Thompson   40   \n",
       "13          28.0    Leonila   Thompson   40   \n",
       "14          19.0    Leonila   Thompson   40   \n",
       "15          15.0    Leonila   Thompson   40   \n",
       "16          22.0    Leonila   Thompson   40   \n",
       "17          21.0    Leonila   Thompson   40   \n",
       "18          17.0      Livia    Shields   31   \n",
       "19           3.0     Jesusa   Bradford   73   \n",
       "\n",
       "                                      city   reg_date      plan  churn_date  \\\n",
       "0    Atlanta-Sandy Springs-Roswell, GA MSA 2018-12-24  ultimate           0   \n",
       "1          Seattle-Tacoma-Bellevue, WA MSA 2018-08-13      surf           0   \n",
       "2          Seattle-Tacoma-Bellevue, WA MSA 2018-08-13      surf           0   \n",
       "3          Seattle-Tacoma-Bellevue, WA MSA 2018-08-13      surf           0   \n",
       "4          Seattle-Tacoma-Bellevue, WA MSA 2018-08-13      surf           0   \n",
       "5          Seattle-Tacoma-Bellevue, WA MSA 2018-08-13      surf           0   \n",
       "6     Las Vegas-Henderson-Paradise, NV MSA 2018-10-21      surf           0   \n",
       "7     Las Vegas-Henderson-Paradise, NV MSA 2018-10-21      surf           0   \n",
       "8     Las Vegas-Henderson-Paradise, NV MSA 2018-10-21      surf           0   \n",
       "9                            Tulsa, OK MSA 2018-01-28      surf           0   \n",
       "10         Seattle-Tacoma-Bellevue, WA MSA 2018-05-23      surf           0   \n",
       "11         Seattle-Tacoma-Bellevue, WA MSA 2018-05-23      surf           0   \n",
       "12         Seattle-Tacoma-Bellevue, WA MSA 2018-05-23      surf           0   \n",
       "13         Seattle-Tacoma-Bellevue, WA MSA 2018-05-23      surf           0   \n",
       "14         Seattle-Tacoma-Bellevue, WA MSA 2018-05-23      surf           0   \n",
       "15         Seattle-Tacoma-Bellevue, WA MSA 2018-05-23      surf           0   \n",
       "16         Seattle-Tacoma-Bellevue, WA MSA 2018-05-23      surf           0   \n",
       "17         Seattle-Tacoma-Bellevue, WA MSA 2018-05-23      surf           0   \n",
       "18     Dallas-Fort Worth-Arlington, TX MSA 2018-11-29      surf           0   \n",
       "19  San Francisco-Oakland-Berkeley, CA MSA 2018-11-27  ultimate  2018-12-18   \n",
       "\n",
       "    monthly_payment  \n",
       "0             70.00  \n",
       "1             20.00  \n",
       "2             20.00  \n",
       "3             90.09  \n",
       "4             60.00  \n",
       "5             60.00  \n",
       "6             20.00  \n",
       "7             60.00  \n",
       "8             20.00  \n",
       "9            158.12  \n",
       "10            20.00  \n",
       "11            80.00  \n",
       "12           110.00  \n",
       "13           150.00  \n",
       "14            60.00  \n",
       "15            20.00  \n",
       "16            90.00  \n",
       "17            80.00  \n",
       "18            40.00  \n",
       "19            70.00  "
      ]
     },
     "execution_count": 39,
     "metadata": {},
     "output_type": "execute_result"
    }
   ],
   "source": [
    "# Adding a monthly payment column\n",
    "final_dataframe['monthly_payment'] = final_dataframe.apply(calculate_monthly_payment, axis = 1)\n",
    "final_dataframe.head(20)"
   ]
  },
  {
   "cell_type": "markdown",
   "metadata": {},
   "source": [
    "<div class=\"alert alert-success\">\n",
    "<b>Reviewer's comment v1:</b>\n",
    "    \n",
    "Everything is correct here and great that you created a function here.\n",
    "    \n",
    "Btw it is also possible to make the calculation of revenue a little bit differently using np.where - [https://numpy.org/doc/stable/reference/generated/numpy.where.html](https://numpy.org/doc/stable/reference/generated/numpy.where.html)\n",
    "\n",
    "```\n",
    "  np.where ('condition: if exceeding the package limit', 'multiply the difference by the price of additional services', '0')\n",
    "```\n",
    "    \n",
    "Great thing about python is that there are so many libraries and ready-to-use functions. For example, this task can also be solved using .clip() (a useful method in many tasks). You can read about it here: https://www.pythonpool.com/numpy-clip/\n",
    "\n",
    "```\n",
    "total5['gb_surcharge'] = (total5['gb_used'] - total5['gb_per_month_included']).clip(0) * total5['usd_per_gb']\n",
    "```"
   ]
  },
  {
   "cell_type": "markdown",
   "metadata": {},
   "source": [
    "### Analyzing the data\n",
    "\n",
    "Now  that we have a proper evaluation of how much does every user paid each month, we can start making conclusions regarding that matter and finally find out which plan is more profitable.\n",
    "\n",
    "Lets dive deeper into our data and find more features about it, like averages, medians, distributions and so on.\n",
    "We'll start by a seperating the data by the plan and displaying the information we have about each plan data:"
   ]
  },
  {
   "cell_type": "code",
   "execution_count": 40,
   "metadata": {},
   "outputs": [
    {
     "data": {
      "text/html": [
       "<div>\n",
       "<style scoped>\n",
       "    .dataframe tbody tr th:only-of-type {\n",
       "        vertical-align: middle;\n",
       "    }\n",
       "\n",
       "    .dataframe tbody tr th {\n",
       "        vertical-align: top;\n",
       "    }\n",
       "\n",
       "    .dataframe thead th {\n",
       "        text-align: right;\n",
       "    }\n",
       "</style>\n",
       "<table border=\"1\" class=\"dataframe\">\n",
       "  <thead>\n",
       "    <tr style=\"text-align: right;\">\n",
       "      <th></th>\n",
       "      <th>user_id</th>\n",
       "      <th>month</th>\n",
       "      <th>calls_duration</th>\n",
       "      <th>total_calls</th>\n",
       "      <th>messages_per_month</th>\n",
       "      <th>gb_per_month</th>\n",
       "      <th>first_name</th>\n",
       "      <th>last_name</th>\n",
       "      <th>age</th>\n",
       "      <th>city</th>\n",
       "      <th>reg_date</th>\n",
       "      <th>plan</th>\n",
       "      <th>churn_date</th>\n",
       "      <th>monthly_payment</th>\n",
       "    </tr>\n",
       "  </thead>\n",
       "  <tbody>\n",
       "    <tr>\n",
       "      <td>0</td>\n",
       "      <td>1000</td>\n",
       "      <td>12.0</td>\n",
       "      <td>124.0</td>\n",
       "      <td>16.0</td>\n",
       "      <td>11.0</td>\n",
       "      <td>2.0</td>\n",
       "      <td>Anamaria</td>\n",
       "      <td>Bauer</td>\n",
       "      <td>45</td>\n",
       "      <td>Atlanta-Sandy Springs-Roswell, GA MSA</td>\n",
       "      <td>2018-12-24</td>\n",
       "      <td>ultimate</td>\n",
       "      <td>0</td>\n",
       "      <td>70.0</td>\n",
       "    </tr>\n",
       "    <tr>\n",
       "      <td>19</td>\n",
       "      <td>1006</td>\n",
       "      <td>11.0</td>\n",
       "      <td>10.0</td>\n",
       "      <td>2.0</td>\n",
       "      <td>15.0</td>\n",
       "      <td>3.0</td>\n",
       "      <td>Jesusa</td>\n",
       "      <td>Bradford</td>\n",
       "      <td>73</td>\n",
       "      <td>San Francisco-Oakland-Berkeley, CA MSA</td>\n",
       "      <td>2018-11-27</td>\n",
       "      <td>ultimate</td>\n",
       "      <td>2018-12-18</td>\n",
       "      <td>70.0</td>\n",
       "    </tr>\n",
       "    <tr>\n",
       "      <td>20</td>\n",
       "      <td>1006</td>\n",
       "      <td>12.0</td>\n",
       "      <td>59.0</td>\n",
       "      <td>7.0</td>\n",
       "      <td>139.0</td>\n",
       "      <td>32.0</td>\n",
       "      <td>Jesusa</td>\n",
       "      <td>Bradford</td>\n",
       "      <td>73</td>\n",
       "      <td>San Francisco-Oakland-Berkeley, CA MSA</td>\n",
       "      <td>2018-11-27</td>\n",
       "      <td>ultimate</td>\n",
       "      <td>2018-12-18</td>\n",
       "      <td>84.0</td>\n",
       "    </tr>\n",
       "    <tr>\n",
       "      <td>26</td>\n",
       "      <td>1008</td>\n",
       "      <td>10.0</td>\n",
       "      <td>476.0</td>\n",
       "      <td>54.0</td>\n",
       "      <td>21.0</td>\n",
       "      <td>17.0</td>\n",
       "      <td>Emely</td>\n",
       "      <td>Hoffman</td>\n",
       "      <td>53</td>\n",
       "      <td>Orlando-Kissimmee-Sanford, FL MSA</td>\n",
       "      <td>2018-08-03</td>\n",
       "      <td>ultimate</td>\n",
       "      <td>0</td>\n",
       "      <td>70.0</td>\n",
       "    </tr>\n",
       "    <tr>\n",
       "      <td>27</td>\n",
       "      <td>1008</td>\n",
       "      <td>11.0</td>\n",
       "      <td>446.0</td>\n",
       "      <td>50.0</td>\n",
       "      <td>37.0</td>\n",
       "      <td>24.0</td>\n",
       "      <td>Emely</td>\n",
       "      <td>Hoffman</td>\n",
       "      <td>53</td>\n",
       "      <td>Orlando-Kissimmee-Sanford, FL MSA</td>\n",
       "      <td>2018-08-03</td>\n",
       "      <td>ultimate</td>\n",
       "      <td>0</td>\n",
       "      <td>70.0</td>\n",
       "    </tr>\n",
       "    <tr>\n",
       "      <td>...</td>\n",
       "      <td>...</td>\n",
       "      <td>...</td>\n",
       "      <td>...</td>\n",
       "      <td>...</td>\n",
       "      <td>...</td>\n",
       "      <td>...</td>\n",
       "      <td>...</td>\n",
       "      <td>...</td>\n",
       "      <td>...</td>\n",
       "      <td>...</td>\n",
       "      <td>...</td>\n",
       "      <td>...</td>\n",
       "      <td>...</td>\n",
       "      <td>...</td>\n",
       "    </tr>\n",
       "    <tr>\n",
       "      <td>2292</td>\n",
       "      <td>1108</td>\n",
       "      <td>12.0</td>\n",
       "      <td>0.0</td>\n",
       "      <td>0.0</td>\n",
       "      <td>0.0</td>\n",
       "      <td>1.0</td>\n",
       "      <td>Porfirio</td>\n",
       "      <td>Kane</td>\n",
       "      <td>45</td>\n",
       "      <td>Salt Lake City, UT MSA</td>\n",
       "      <td>2018-12-30</td>\n",
       "      <td>ultimate</td>\n",
       "      <td>0</td>\n",
       "      <td>70.0</td>\n",
       "    </tr>\n",
       "    <tr>\n",
       "      <td>2293</td>\n",
       "      <td>1025</td>\n",
       "      <td>0.0</td>\n",
       "      <td>0.0</td>\n",
       "      <td>0.0</td>\n",
       "      <td>0.0</td>\n",
       "      <td>0.0</td>\n",
       "      <td>Jess</td>\n",
       "      <td>Wilkinson</td>\n",
       "      <td>64</td>\n",
       "      <td>Atlanta-Sandy Springs-Roswell, GA MSA</td>\n",
       "      <td>2018-10-28</td>\n",
       "      <td>ultimate</td>\n",
       "      <td>0</td>\n",
       "      <td>70.0</td>\n",
       "    </tr>\n",
       "    <tr>\n",
       "      <td>2296</td>\n",
       "      <td>1269</td>\n",
       "      <td>0.0</td>\n",
       "      <td>0.0</td>\n",
       "      <td>0.0</td>\n",
       "      <td>0.0</td>\n",
       "      <td>0.0</td>\n",
       "      <td>Irving</td>\n",
       "      <td>Thompson</td>\n",
       "      <td>39</td>\n",
       "      <td>Dallas-Fort Worth-Arlington, TX MSA</td>\n",
       "      <td>2018-09-13</td>\n",
       "      <td>ultimate</td>\n",
       "      <td>2018-12-15</td>\n",
       "      <td>70.0</td>\n",
       "    </tr>\n",
       "    <tr>\n",
       "      <td>2297</td>\n",
       "      <td>1275</td>\n",
       "      <td>0.0</td>\n",
       "      <td>0.0</td>\n",
       "      <td>0.0</td>\n",
       "      <td>0.0</td>\n",
       "      <td>0.0</td>\n",
       "      <td>Elvie</td>\n",
       "      <td>Velazquez</td>\n",
       "      <td>33</td>\n",
       "      <td>New York-Newark-Jersey City, NY-NJ-PA MSA</td>\n",
       "      <td>2018-11-29</td>\n",
       "      <td>ultimate</td>\n",
       "      <td>0</td>\n",
       "      <td>70.0</td>\n",
       "    </tr>\n",
       "    <tr>\n",
       "      <td>2301</td>\n",
       "      <td>1463</td>\n",
       "      <td>0.0</td>\n",
       "      <td>0.0</td>\n",
       "      <td>0.0</td>\n",
       "      <td>0.0</td>\n",
       "      <td>0.0</td>\n",
       "      <td>Dinorah</td>\n",
       "      <td>Simmons</td>\n",
       "      <td>30</td>\n",
       "      <td>Atlanta-Sandy Springs-Roswell, GA MSA</td>\n",
       "      <td>2018-11-27</td>\n",
       "      <td>ultimate</td>\n",
       "      <td>0</td>\n",
       "      <td>70.0</td>\n",
       "    </tr>\n",
       "  </tbody>\n",
       "</table>\n",
       "<p>724 rows × 14 columns</p>\n",
       "</div>"
      ],
      "text/plain": [
       "      user_id  month  calls_duration  total_calls  messages_per_month  \\\n",
       "0        1000   12.0           124.0         16.0                11.0   \n",
       "19       1006   11.0            10.0          2.0                15.0   \n",
       "20       1006   12.0            59.0          7.0               139.0   \n",
       "26       1008   10.0           476.0         54.0                21.0   \n",
       "27       1008   11.0           446.0         50.0                37.0   \n",
       "...       ...    ...             ...          ...                 ...   \n",
       "2292     1108   12.0             0.0          0.0                 0.0   \n",
       "2293     1025    0.0             0.0          0.0                 0.0   \n",
       "2296     1269    0.0             0.0          0.0                 0.0   \n",
       "2297     1275    0.0             0.0          0.0                 0.0   \n",
       "2301     1463    0.0             0.0          0.0                 0.0   \n",
       "\n",
       "      gb_per_month first_name  last_name  age  \\\n",
       "0              2.0   Anamaria      Bauer   45   \n",
       "19             3.0     Jesusa   Bradford   73   \n",
       "20            32.0     Jesusa   Bradford   73   \n",
       "26            17.0      Emely    Hoffman   53   \n",
       "27            24.0      Emely    Hoffman   53   \n",
       "...            ...        ...        ...  ...   \n",
       "2292           1.0   Porfirio       Kane   45   \n",
       "2293           0.0       Jess  Wilkinson   64   \n",
       "2296           0.0     Irving   Thompson   39   \n",
       "2297           0.0      Elvie  Velazquez   33   \n",
       "2301           0.0    Dinorah    Simmons   30   \n",
       "\n",
       "                                           city   reg_date      plan  \\\n",
       "0         Atlanta-Sandy Springs-Roswell, GA MSA 2018-12-24  ultimate   \n",
       "19       San Francisco-Oakland-Berkeley, CA MSA 2018-11-27  ultimate   \n",
       "20       San Francisco-Oakland-Berkeley, CA MSA 2018-11-27  ultimate   \n",
       "26            Orlando-Kissimmee-Sanford, FL MSA 2018-08-03  ultimate   \n",
       "27            Orlando-Kissimmee-Sanford, FL MSA 2018-08-03  ultimate   \n",
       "...                                         ...        ...       ...   \n",
       "2292                     Salt Lake City, UT MSA 2018-12-30  ultimate   \n",
       "2293      Atlanta-Sandy Springs-Roswell, GA MSA 2018-10-28  ultimate   \n",
       "2296        Dallas-Fort Worth-Arlington, TX MSA 2018-09-13  ultimate   \n",
       "2297  New York-Newark-Jersey City, NY-NJ-PA MSA 2018-11-29  ultimate   \n",
       "2301      Atlanta-Sandy Springs-Roswell, GA MSA 2018-11-27  ultimate   \n",
       "\n",
       "      churn_date  monthly_payment  \n",
       "0              0             70.0  \n",
       "19    2018-12-18             70.0  \n",
       "20    2018-12-18             84.0  \n",
       "26             0             70.0  \n",
       "27             0             70.0  \n",
       "...          ...              ...  \n",
       "2292           0             70.0  \n",
       "2293           0             70.0  \n",
       "2296  2018-12-15             70.0  \n",
       "2297           0             70.0  \n",
       "2301           0             70.0  \n",
       "\n",
       "[724 rows x 14 columns]"
      ]
     },
     "execution_count": 40,
     "metadata": {},
     "output_type": "execute_result"
    }
   ],
   "source": [
    "ultimate_data = final_dataframe.query('plan == \"ultimate\"')\n",
    "ultimate_data"
   ]
  },
  {
   "cell_type": "code",
   "execution_count": 41,
   "metadata": {},
   "outputs": [
    {
     "data": {
      "text/html": [
       "<div>\n",
       "<style scoped>\n",
       "    .dataframe tbody tr th:only-of-type {\n",
       "        vertical-align: middle;\n",
       "    }\n",
       "\n",
       "    .dataframe tbody tr th {\n",
       "        vertical-align: top;\n",
       "    }\n",
       "\n",
       "    .dataframe thead th {\n",
       "        text-align: right;\n",
       "    }\n",
       "</style>\n",
       "<table border=\"1\" class=\"dataframe\">\n",
       "  <thead>\n",
       "    <tr style=\"text-align: right;\">\n",
       "      <th></th>\n",
       "      <th>user_id</th>\n",
       "      <th>month</th>\n",
       "      <th>calls_duration</th>\n",
       "      <th>total_calls</th>\n",
       "      <th>messages_per_month</th>\n",
       "      <th>gb_per_month</th>\n",
       "      <th>first_name</th>\n",
       "      <th>last_name</th>\n",
       "      <th>age</th>\n",
       "      <th>city</th>\n",
       "      <th>reg_date</th>\n",
       "      <th>plan</th>\n",
       "      <th>churn_date</th>\n",
       "      <th>monthly_payment</th>\n",
       "    </tr>\n",
       "  </thead>\n",
       "  <tbody>\n",
       "    <tr>\n",
       "      <td>1</td>\n",
       "      <td>1001</td>\n",
       "      <td>8.0</td>\n",
       "      <td>182.0</td>\n",
       "      <td>22.0</td>\n",
       "      <td>30.0</td>\n",
       "      <td>7.0</td>\n",
       "      <td>Mickey</td>\n",
       "      <td>Wilkerson</td>\n",
       "      <td>28</td>\n",
       "      <td>Seattle-Tacoma-Bellevue, WA MSA</td>\n",
       "      <td>2018-08-13</td>\n",
       "      <td>surf</td>\n",
       "      <td>0</td>\n",
       "      <td>20.00</td>\n",
       "    </tr>\n",
       "    <tr>\n",
       "      <td>2</td>\n",
       "      <td>1001</td>\n",
       "      <td>9.0</td>\n",
       "      <td>315.0</td>\n",
       "      <td>38.0</td>\n",
       "      <td>44.0</td>\n",
       "      <td>14.0</td>\n",
       "      <td>Mickey</td>\n",
       "      <td>Wilkerson</td>\n",
       "      <td>28</td>\n",
       "      <td>Seattle-Tacoma-Bellevue, WA MSA</td>\n",
       "      <td>2018-08-13</td>\n",
       "      <td>surf</td>\n",
       "      <td>0</td>\n",
       "      <td>20.00</td>\n",
       "    </tr>\n",
       "    <tr>\n",
       "      <td>3</td>\n",
       "      <td>1001</td>\n",
       "      <td>10.0</td>\n",
       "      <td>393.0</td>\n",
       "      <td>47.0</td>\n",
       "      <td>53.0</td>\n",
       "      <td>22.0</td>\n",
       "      <td>Mickey</td>\n",
       "      <td>Wilkerson</td>\n",
       "      <td>28</td>\n",
       "      <td>Seattle-Tacoma-Bellevue, WA MSA</td>\n",
       "      <td>2018-08-13</td>\n",
       "      <td>surf</td>\n",
       "      <td>0</td>\n",
       "      <td>90.09</td>\n",
       "    </tr>\n",
       "    <tr>\n",
       "      <td>4</td>\n",
       "      <td>1001</td>\n",
       "      <td>11.0</td>\n",
       "      <td>426.0</td>\n",
       "      <td>49.0</td>\n",
       "      <td>36.0</td>\n",
       "      <td>19.0</td>\n",
       "      <td>Mickey</td>\n",
       "      <td>Wilkerson</td>\n",
       "      <td>28</td>\n",
       "      <td>Seattle-Tacoma-Bellevue, WA MSA</td>\n",
       "      <td>2018-08-13</td>\n",
       "      <td>surf</td>\n",
       "      <td>0</td>\n",
       "      <td>60.00</td>\n",
       "    </tr>\n",
       "    <tr>\n",
       "      <td>5</td>\n",
       "      <td>1001</td>\n",
       "      <td>12.0</td>\n",
       "      <td>412.0</td>\n",
       "      <td>46.0</td>\n",
       "      <td>44.0</td>\n",
       "      <td>19.0</td>\n",
       "      <td>Mickey</td>\n",
       "      <td>Wilkerson</td>\n",
       "      <td>28</td>\n",
       "      <td>Seattle-Tacoma-Bellevue, WA MSA</td>\n",
       "      <td>2018-08-13</td>\n",
       "      <td>surf</td>\n",
       "      <td>0</td>\n",
       "      <td>60.00</td>\n",
       "    </tr>\n",
       "    <tr>\n",
       "      <td>...</td>\n",
       "      <td>...</td>\n",
       "      <td>...</td>\n",
       "      <td>...</td>\n",
       "      <td>...</td>\n",
       "      <td>...</td>\n",
       "      <td>...</td>\n",
       "      <td>...</td>\n",
       "      <td>...</td>\n",
       "      <td>...</td>\n",
       "      <td>...</td>\n",
       "      <td>...</td>\n",
       "      <td>...</td>\n",
       "      <td>...</td>\n",
       "      <td>...</td>\n",
       "    </tr>\n",
       "    <tr>\n",
       "      <td>2295</td>\n",
       "      <td>1143</td>\n",
       "      <td>0.0</td>\n",
       "      <td>0.0</td>\n",
       "      <td>0.0</td>\n",
       "      <td>0.0</td>\n",
       "      <td>0.0</td>\n",
       "      <td>Lorina</td>\n",
       "      <td>Stevens</td>\n",
       "      <td>69</td>\n",
       "      <td>Cincinnati, OH-KY-IN MSA</td>\n",
       "      <td>2018-10-26</td>\n",
       "      <td>surf</td>\n",
       "      <td>0</td>\n",
       "      <td>20.00</td>\n",
       "    </tr>\n",
       "    <tr>\n",
       "      <td>2298</td>\n",
       "      <td>1307</td>\n",
       "      <td>0.0</td>\n",
       "      <td>0.0</td>\n",
       "      <td>0.0</td>\n",
       "      <td>0.0</td>\n",
       "      <td>0.0</td>\n",
       "      <td>Kristopher</td>\n",
       "      <td>Lang</td>\n",
       "      <td>28</td>\n",
       "      <td>Boston-Cambridge-Newton, MA-NH MSA</td>\n",
       "      <td>2018-12-31</td>\n",
       "      <td>surf</td>\n",
       "      <td>0</td>\n",
       "      <td>20.00</td>\n",
       "    </tr>\n",
       "    <tr>\n",
       "      <td>2299</td>\n",
       "      <td>1319</td>\n",
       "      <td>0.0</td>\n",
       "      <td>0.0</td>\n",
       "      <td>0.0</td>\n",
       "      <td>0.0</td>\n",
       "      <td>0.0</td>\n",
       "      <td>Eliseo</td>\n",
       "      <td>Carson</td>\n",
       "      <td>21</td>\n",
       "      <td>Colorado Springs, CO MSA</td>\n",
       "      <td>2018-06-17</td>\n",
       "      <td>surf</td>\n",
       "      <td>0</td>\n",
       "      <td>20.00</td>\n",
       "    </tr>\n",
       "    <tr>\n",
       "      <td>2300</td>\n",
       "      <td>1378</td>\n",
       "      <td>0.0</td>\n",
       "      <td>0.0</td>\n",
       "      <td>0.0</td>\n",
       "      <td>0.0</td>\n",
       "      <td>0.0</td>\n",
       "      <td>Mckinley</td>\n",
       "      <td>Clayton</td>\n",
       "      <td>22</td>\n",
       "      <td>Denver-Aurora-Lakewood, CO MSA</td>\n",
       "      <td>2018-12-17</td>\n",
       "      <td>surf</td>\n",
       "      <td>0</td>\n",
       "      <td>20.00</td>\n",
       "    </tr>\n",
       "    <tr>\n",
       "      <td>2302</td>\n",
       "      <td>1473</td>\n",
       "      <td>0.0</td>\n",
       "      <td>0.0</td>\n",
       "      <td>0.0</td>\n",
       "      <td>0.0</td>\n",
       "      <td>0.0</td>\n",
       "      <td>Kirk</td>\n",
       "      <td>Velez</td>\n",
       "      <td>61</td>\n",
       "      <td>Louisville/Jefferson County, KY-IN MSA</td>\n",
       "      <td>2018-12-31</td>\n",
       "      <td>surf</td>\n",
       "      <td>0</td>\n",
       "      <td>20.00</td>\n",
       "    </tr>\n",
       "  </tbody>\n",
       "</table>\n",
       "<p>1579 rows × 14 columns</p>\n",
       "</div>"
      ],
      "text/plain": [
       "      user_id  month  calls_duration  total_calls  messages_per_month  \\\n",
       "1        1001    8.0           182.0         22.0                30.0   \n",
       "2        1001    9.0           315.0         38.0                44.0   \n",
       "3        1001   10.0           393.0         47.0                53.0   \n",
       "4        1001   11.0           426.0         49.0                36.0   \n",
       "5        1001   12.0           412.0         46.0                44.0   \n",
       "...       ...    ...             ...          ...                 ...   \n",
       "2295     1143    0.0             0.0          0.0                 0.0   \n",
       "2298     1307    0.0             0.0          0.0                 0.0   \n",
       "2299     1319    0.0             0.0          0.0                 0.0   \n",
       "2300     1378    0.0             0.0          0.0                 0.0   \n",
       "2302     1473    0.0             0.0          0.0                 0.0   \n",
       "\n",
       "      gb_per_month  first_name  last_name  age  \\\n",
       "1              7.0      Mickey  Wilkerson   28   \n",
       "2             14.0      Mickey  Wilkerson   28   \n",
       "3             22.0      Mickey  Wilkerson   28   \n",
       "4             19.0      Mickey  Wilkerson   28   \n",
       "5             19.0      Mickey  Wilkerson   28   \n",
       "...            ...         ...        ...  ...   \n",
       "2295           0.0      Lorina    Stevens   69   \n",
       "2298           0.0  Kristopher       Lang   28   \n",
       "2299           0.0      Eliseo     Carson   21   \n",
       "2300           0.0    Mckinley    Clayton   22   \n",
       "2302           0.0        Kirk      Velez   61   \n",
       "\n",
       "                                        city   reg_date  plan churn_date  \\\n",
       "1            Seattle-Tacoma-Bellevue, WA MSA 2018-08-13  surf          0   \n",
       "2            Seattle-Tacoma-Bellevue, WA MSA 2018-08-13  surf          0   \n",
       "3            Seattle-Tacoma-Bellevue, WA MSA 2018-08-13  surf          0   \n",
       "4            Seattle-Tacoma-Bellevue, WA MSA 2018-08-13  surf          0   \n",
       "5            Seattle-Tacoma-Bellevue, WA MSA 2018-08-13  surf          0   \n",
       "...                                      ...        ...   ...        ...   \n",
       "2295                Cincinnati, OH-KY-IN MSA 2018-10-26  surf          0   \n",
       "2298      Boston-Cambridge-Newton, MA-NH MSA 2018-12-31  surf          0   \n",
       "2299                Colorado Springs, CO MSA 2018-06-17  surf          0   \n",
       "2300          Denver-Aurora-Lakewood, CO MSA 2018-12-17  surf          0   \n",
       "2302  Louisville/Jefferson County, KY-IN MSA 2018-12-31  surf          0   \n",
       "\n",
       "      monthly_payment  \n",
       "1               20.00  \n",
       "2               20.00  \n",
       "3               90.09  \n",
       "4               60.00  \n",
       "5               60.00  \n",
       "...               ...  \n",
       "2295            20.00  \n",
       "2298            20.00  \n",
       "2299            20.00  \n",
       "2300            20.00  \n",
       "2302            20.00  \n",
       "\n",
       "[1579 rows x 14 columns]"
      ]
     },
     "execution_count": 41,
     "metadata": {},
     "output_type": "execute_result"
    }
   ],
   "source": [
    "surf_data = final_dataframe.query('plan == \"surf\"')\n",
    "surf_data"
   ]
  },
  {
   "cell_type": "markdown",
   "metadata": {},
   "source": [
    "Step two is to display the information about each of the dataframes that we ended up with, starting with the **Surf dataframe** and then **Ultimate dataframe**:"
   ]
  },
  {
   "cell_type": "code",
   "execution_count": 42,
   "metadata": {},
   "outputs": [
    {
     "name": "stdout",
     "output_type": "stream",
     "text": [
      "Information about the averages, variances and standards for the surf dataframe\n",
      "\n",
      "MESSAGES_PER_MONTH\n",
      "The mean for messages_per_month is 31.041165294490185\n",
      "The median for messages_per_month is 24.0\n",
      "The variance for messages_per_month is 1125.404891865648\n",
      "The standard deviation for messages_per_month is 33.547054891087654 \n",
      "\n",
      "\n",
      "CALLS_DURATION\n",
      "The mean for calls_duration is 427.12032932235593\n",
      "The median for calls_duration is 424.0\n",
      "The variance for calls_duration is 55420.45670514804\n",
      "The standard deviation for calls_duration is 235.4154980139329 \n",
      "\n",
      "\n",
      "TOTAL_CALLS\n",
      "The mean for total_calls is 48.0538315389487\n",
      "The median for total_calls is 47.0\n",
      "The variance for total_calls is 678.0522003288089\n",
      "The standard deviation for total_calls is 26.03943548406549 \n",
      "\n",
      "\n",
      "GB_PER_MONTH\n",
      "The mean for gb_per_month is 16.60734642178594\n",
      "The median for gb_per_month is 17.0\n",
      "The variance for gb_per_month is 62.36260594142324\n",
      "The standard deviation for gb_per_month is 7.896999806345651 \n",
      "\n",
      "\n",
      "MONTHLY_PAYMENT\n",
      "The mean for monthly_payment is 60.551728942368584\n",
      "The median for monthly_payment is 40.18\n",
      "The variance for monthly_payment is 3060.5073785813724\n",
      "The standard deviation for monthly_payment is 55.321852631499716 \n",
      "\n",
      "\n"
     ]
    }
   ],
   "source": [
    "factors = ['messages_per_month', 'calls_duration', 'total_calls', 'gb_per_month', 'monthly_payment']\n",
    "print('Information about the averages, variances and standards for the surf dataframe\\n')\n",
    "for factor in factors:\n",
    "    print(factor.upper())\n",
    "    variance = np.var(surf_data[factor])\n",
    "    print('The mean for', factor, 'is', surf_data[factor].mean())\n",
    "    print('The median for', factor, 'is', surf_data[factor].median())\n",
    "    print('The variance for', factor, 'is', variance)\n",
    "    print('The standard deviation for', factor, 'is', np.sqrt(variance), '\\n\\n')"
   ]
  },
  {
   "cell_type": "markdown",
   "metadata": {},
   "source": [
    "<div class=\"alert alert-success\">\n",
    "<b>Reviewer's comment v1:</b>\n",
    "    \n",
    "It's great that you managed to calculate all the necessary metrics and display it.\n",
    "\n",
    "There is also a way to display all statistical metrics in one table (you can pass all metrics to aggfunc at once.), using, for example, pivot_table:\n",
    "\n",
    "`data.pivot_table(index= 'tariff', values= '...', aggfunc= ['mean', 'var','std', 'median'])`"
   ]
  },
  {
   "cell_type": "code",
   "execution_count": 43,
   "metadata": {},
   "outputs": [
    {
     "name": "stdout",
     "output_type": "stream",
     "text": [
      "Information about the averages, variances and standards for the ultimate dataframe\n",
      "\n",
      "MESSAGES_PER_MONTH\n",
      "The mean for messages_per_month is 37.3439226519337\n",
      "The median for messages_per_month is 30.0\n",
      "The variance for messages_per_month is 1208.15657908794\n",
      "The standard deviation for messages_per_month is 34.758546849486386 \n",
      "\n",
      "\n",
      "CALLS_DURATION\n",
      "The mean for calls_duration is 428.0718232044199\n",
      "The median for calls_duration is 421.5\n",
      "The variance for calls_duration is 58463.016940874826\n",
      "The standard deviation for calls_duration is 241.7912672965565 \n",
      "\n",
      "\n",
      "TOTAL_CALLS\n",
      "The mean for total_calls is 48.3756906077348\n",
      "The median for total_calls is 48.0\n",
      "The variance for total_calls is 726.8754311528952\n",
      "The standard deviation for total_calls is 26.960627425059958 \n",
      "\n",
      "\n",
      "GB_PER_MONTH\n",
      "The mean for gb_per_month is 17.21132596685083\n",
      "The median for gb_per_month is 17.0\n",
      "The variance for gb_per_month is 60.06998221971246\n",
      "The standard deviation for gb_per_month is 7.750482708819655 \n",
      "\n",
      "\n",
      "MONTHLY_PAYMENT\n",
      "The mean for monthly_payment is 72.3011049723757\n",
      "The median for monthly_payment is 70.0\n",
      "The variance for monthly_payment is 128.98115900003052\n",
      "The standard deviation for monthly_payment is 11.356987232537973 \n",
      "\n",
      "\n"
     ]
    }
   ],
   "source": [
    "print('Information about the averages, variances and standards for the ultimate dataframe\\n')\n",
    "for factor in factors:\n",
    "    print(factor.upper())\n",
    "    variance = np.var(ultimate_data[factor])\n",
    "    print('The mean for', factor, 'is', ultimate_data[factor].mean())\n",
    "    print('The median for', factor, 'is', ultimate_data[factor].median())\n",
    "    print('The variance for', factor, 'is', variance)\n",
    "    print('The standard deviation for', factor, 'is', np.sqrt(variance), '\\n\\n')"
   ]
  },
  {
   "cell_type": "markdown",
   "metadata": {},
   "source": [
    "Looking at the information above, we have pretty close averages on the similar categories from each dataframe (ultimate and surf). In the ultimate dataframe there's quite a little more variance in the values than in the surf dataframe. This means that most of the graphs for the surf dataframe will look tighter than the graphs for the ultimate dataframe since 99% of the values will be squeezed between mu (the mean) +/- 3*sigma (the standard dav.), excluding the monthly_payment graph where the variance for the surf plan is much more bigger than the ultimate plan, this we can clearly see next when we are plotting histograms!\n",
    "\n",
    "### Plotting histograms\n",
    "\n",
    "We'll plot the surf and ultimate histograms in one graph for better comparision"
   ]
  },
  {
   "cell_type": "code",
   "execution_count": 44,
   "metadata": {},
   "outputs": [
    {
     "data": {
      "image/png": "[encoded data removed]",
      "text/plain": [
       "<Figure size 1080x360 with 1 Axes>"
      ]
     },
     "metadata": {
      "needs_background": "light"
     },
     "output_type": "display_data"
    },
    {
     "data": {
      "image/png": "[encoded data removed]",
      "text/plain": [
       "<Figure size 1080x360 with 1 Axes>"
      ]
     },
     "metadata": {
      "needs_background": "light"
     },
     "output_type": "display_data"
    },
    {
     "data": {
      "image/png": "[encoded data removed]",
      "text/plain": [
       "<Figure size 1080x360 with 1 Axes>"
      ]
     },
     "metadata": {
      "needs_background": "light"
     },
     "output_type": "display_data"
    },
    {
     "data": {
      "image/png": "[encoded data removed]",
      "text/plain": [
       "<Figure size 1080x360 with 1 Axes>"
      ]
     },
     "metadata": {
      "needs_background": "light"
     },
     "output_type": "display_data"
    },
    {
     "data": {
      "image/png": "[encoded data removed]",
      "text/plain": [
       "<Figure size 1080x360 with 1 Axes>"
      ]
     },
     "metadata": {
      "needs_background": "light"
     },
     "output_type": "display_data"
    }
   ],
   "source": [
    "factors = ['messages_per_month', 'calls_duration', 'total_calls', 'gb_per_month', 'monthly_payment']\n",
    "\n",
    "for factor in factors:\n",
    "    ax = ultimate_data.hist(factor, density=True, figsize = (15,5), bins = 20)\n",
    "    surf_data.hist(factor, density=True, ax = ax, alpha = 0.5, bins = 20)"
   ]
  },
  {
   "cell_type": "markdown",
   "metadata": {},
   "source": [
    "With similar averages and variances, we expected for the graphs to be quite similiar and this is what we can see in the histograms/distributions above. Of-course its not perfectly similar but similar enough to represent the information we displayed in the previous chapter!\n",
    "\n",
    "That's for the first 4 graphs, while the last graph, which is the monthly_payment graph displays a complete different story. And that's due to the fact that the surf plan dataframe variance is much much bigger than the ultimate plan dataframe variance."
   ]
  },
  {
   "cell_type": "markdown",
   "metadata": {},
   "source": [
    "<div class=\"alert alert-success\">\n",
    "<b>Reviewer's comment v1:</b>\n",
    "    \n",
    "- I will write overall thoughts about the data analysis section:\n",
    "- Very nice visualization of the data. Great that you used different graph types to check available data.\n",
    "- Also, nice that you managed to add both plans on one graph.\n",
    "- It's a matter of taste, but sometimes it is easier to analyze the data (spread, averages, etc.) for each feature using a boxplot in addition to histograms. If you have time and willing to practice, you can display two charts (histogram and a boxplot) using a two-column subplot.\n",
    "\n",
    "```\n",
    "    # Create one row with 2 columns\n",
    "\t  fig, axes = plt.subplots(1, 2, figsize=(16, 5))\n",
    "\n",
    "\t  # Create a histogram for the surf plan\n",
    "\t  sns.distplot(... ax=axes[0])\n",
    "\t  # Create a histogram for the second plan\n",
    "\t  sns.distplot(... ax=axes[0])\n",
    "\t\n",
    "\t  # Create a boxplot for both plans\n",
    "\t  sns.boxplot(... ax=axes[1])\n",
    "```"
   ]
  },
  {
   "cell_type": "markdown",
   "metadata": {},
   "source": [
    "### Testing the hyptheses\n",
    "\n",
    "(1)\n",
    "\n",
    "Null hypotheses: The average revenue from users of Ultimate and Surf calling plans doesn't differ.\n",
    "\n",
    "Alt. hypotheses: The average revenue from users of Ultimate and Surf calling plans differs.\n",
    "\n",
    "We'll start by checking the relation between the variances, are they equal/similar or not:"
   ]
  },
  {
   "cell_type": "code",
   "execution_count": 45,
   "metadata": {},
   "outputs": [
    {
     "data": {
      "text/plain": [
       "LeveneResult(statistic=598.0794664776852, pvalue=1.3114884106236739e-117)"
      ]
     },
     "execution_count": 45,
     "metadata": {},
     "output_type": "execute_result"
    }
   ],
   "source": [
    "# Testing if the variances are similar using the st.levene() method\n",
    "st.levene(surf_data['monthly_payment'], ultimate_data['monthly_payment'], center = 'mean') "
   ]
  },
  {
   "cell_type": "markdown",
   "metadata": {},
   "source": [
    "The p-value of the test is very small, if we choose the alpha to be 5% then the p-value is way smaller than the alpha and this means that the variances are not equal. Therefore, in our hypotheses test we can give the var_equal parameter the value **False**:"
   ]
  },
  {
   "cell_type": "code",
   "execution_count": 46,
   "metadata": {},
   "outputs": [
    {
     "name": "stdout",
     "output_type": "stream",
     "text": [
      "p-value:  1.2184115852123163e-15\n",
      "We reject the null hypothesis\n"
     ]
    }
   ],
   "source": [
    "alpha = 0.05 #  if the p-value is less than alpha, we reject the hypothesis\n",
    "\n",
    "result = st.ttest_ind(surf_data['monthly_payment'], ultimate_data['monthly_payment'], equal_var = False) \n",
    "\n",
    "print('p-value: ', result.pvalue)\n",
    "if (result.pvalue < alpha):\n",
    "    print('We reject the null hypothesis')\n",
    "else:\n",
    "    print(\"We can't reject the null hypothesis\")"
   ]
  },
  {
   "cell_type": "markdown",
   "metadata": {},
   "source": [
    "After testing our hypotheses, it turns out that the pvalue is very small, way smaller than the  alpha that we chose (5%). Thus rejecting the null hypotheses is the answer. By rejecting the null hypotheses, we have to accept the alternative hypotheses which states that the average revenue from users of Ultimate and Surf calling plans differs. This can be seen in the information part at the first part of **Analyzing data** as well."
   ]
  },
  {
   "cell_type": "markdown",
   "metadata": {},
   "source": [
    "(2)\n",
    "\n",
    "Null hypotheses: The average revenue from users in NY-NJ area is not different from that of the users from other regions.\n",
    "\n",
    "Alt. hypotheses: The average revenue from users in NY-NJ area is different from that of the users from other regions.\n",
    "\n",
    "We'll start by checking the relation between the variances, are they equal/similar or not:"
   ]
  },
  {
   "cell_type": "code",
   "execution_count": 47,
   "metadata": {},
   "outputs": [],
   "source": [
    "# Seperating the groups (NY-NJ) and not (NY-NJ)\n",
    "ny_nj_data = final_dataframe[final_dataframe['city'].str.contains('NY-NJ')]\n",
    "rest_of_data = final_dataframe[~final_dataframe['city'].str.contains('NY-NJ')]"
   ]
  },
  {
   "cell_type": "code",
   "execution_count": 48,
   "metadata": {},
   "outputs": [
    {
     "data": {
      "text/plain": [
       "LeveneResult(statistic=1.7386932171327514, pvalue=0.18743571504599707)"
      ]
     },
     "execution_count": 48,
     "metadata": {},
     "output_type": "execute_result"
    }
   ],
   "source": [
    "# Testing if the variances are similar using the st.levene() method\n",
    "st.levene(ny_nj_data['monthly_payment'], rest_of_data['monthly_payment'], center = 'mean') "
   ]
  },
  {
   "cell_type": "markdown",
   "metadata": {},
   "source": [
    "The p-value of the test is very big, if we choose the alpha to be 5% then the p-value is way bigger than the alpha and this means that the variances are actually equal/similar. Therefore, in our hypotheses test we can give the var_equal parameter the value **True**:"
   ]
  },
  {
   "cell_type": "code",
   "execution_count": 49,
   "metadata": {},
   "outputs": [
    {
     "name": "stdout",
     "output_type": "stream",
     "text": [
      "p-value:  0.049745282774076104\n",
      "We reject the null hypothesis\n"
     ]
    }
   ],
   "source": [
    "alpha = 0.05 #  if the p-value is less than alpha, we reject the hypothesis\n",
    "\n",
    "result = st.ttest_ind(ny_nj_data['monthly_payment'], rest_of_data['monthly_payment'], equal_var = True) \n",
    "\n",
    "print('p-value: ', result.pvalue)\n",
    "if (result.pvalue < alpha):\n",
    "    print('We reject the null hypothesis')\n",
    "else:\n",
    "    print(\"We can't reject the null hypothesis\")"
   ]
  },
  {
   "cell_type": "markdown",
   "metadata": {},
   "source": [
    "After testing our second hypotheses, it turns out that the pvalue is small, smaller than the alpha that we chose (5%). Thus rejecting the null hypotheses is the answer. By rejecting the null hypotheses, we have to accept the alternative hypotheses which states that the average revenue from users in NY-NJ area is different from that of the users from other regions. That means that despite the very similar variances for both of these dataframes, but the average revenue from users from NY-NJ area isn't similar to the average revenue of the rest of the users."
   ]
  },
  {
   "cell_type": "markdown",
   "metadata": {},
   "source": [
    "<div class=\"alert alert-success\">\n",
    "<b>Reviewer's comment v1:</b>\n",
    "    \n",
    "- Overall great job! Hypotheses have been formulated and tested correctly. Great that you additionally checked data that has been used for the test. \n",
    "- Your conclusions based on the results are also correct.\n",
    "- Great that you additionally correctly compared the variances using Levene test."
   ]
  },
  {
   "cell_type": "markdown",
   "metadata": {},
   "source": [
    "## General Conclusions"
   ]
  },
  {
   "cell_type": "markdown",
   "metadata": {},
   "source": [
    "To sum everything up,\n",
    "\n",
    "(1) Step 1:\n",
    "* We started with semi-clean data, we had minor updates and fixes in the data such as; fixing certain types and dropping useless rows.\n",
    "* After we cleaned the data entirely, we started working on organizing the data in hand, into dataframes that represent the purpose of the  project more easily and clearly.\n",
    "* Once we had everything organized in seperate dataframes, we again, chose the most important parameters from each dataframe and collected them all in one big dataframe and called it the **final_dataframe**. This dataframe included all the values and factors we needed to test our hypotheses and come with conclusions.\n",
    "\n",
    "(2) Step 2: \n",
    "* We gathered information about our new dataframe, we calculated the mean, variance and deviation for each category\n",
    "* After we gathered enough information, we then displayed our data distribution using histograms, confirming the information we got in step 2.1\n",
    "\n",
    "(3) Step 3:\n",
    "* Testing our first hypotheses, with null hypotheses: The average revenue from users of Ultimate and Surf calling plans doesn't differ. We figured out that the hypotheses isn't correct and we had to accept the alternative hypotheses that states that the average revenue from users of Ultimate and Surf calling plans differ.\n",
    "* Testing our second hypotheses, with null hypotheses: The average revenue from users in NY-NJ area is not different from that of the users from other regions. We figured out that the hypotheses isn't correct and we had to accept the alternative hypotheses that states that the average revenue from users in NY-NJ area is different from that of the users from other regions.\n",
    "\n",
    "(4) Final conclusion:\n",
    "* The mean for the monthly payments of the surf plan data was 60.17 with a variance of 3046.5 and standard deviation of 55.19 and a median of ~40 and a total count of \n",
    "* The mean for the monthly payments of the ultimate plan data was 72.30 with a variance of 128.98 and standard deviation of 11.35 and a median of 70.0.\n",
    "* Despite that the Ultimate plan had a higher average, but the **Surf plan was generating more profits**\n",
    "1. The average monthly payment was way greater than the base payment for the Surf plan, as well as the median. While, on the Ultimate plan, both the mean and the median were almost equal to the base payment of 70 meaning people don't tend to go over the limits when using the Ultimate plan.\n",
    "2. People tend to go over the limits of the plan and be charged extra money in the Surf plan, generating much more money over the base payment.\n",
    "3. The prices of extra charges on the Surf plan are greater than those of the Ultimate plan, meaning the company will make x3 one texts and calls and ~x1.5 on data usage more profit of users from the Surf plan than from users from the Ultimate plan. With too much users going over the limits of the Surf plan, compared to users of the  Ultimate plan, then way much profits were being generated on the Surf plan.\n",
    "4. The surf plan had more monthly payments in general than the Ultimate plan (1579 rows in surf plan df vs 724 rows in ultimate plan df) and this should be counted in to calculate the total profits from each plan. (60.17*1500 = 90,000 in total vs 72*724 = ~52,000 - Mulitplying the averages with the number of rows of each dataframe to see how much profit each plan generated in total - **Surf plan wins**) "
   ]
  },
  {
   "cell_type": "markdown",
   "metadata": {},
   "source": [
    "<div class=\"alert alert-success\" role=\"alert\">\n",
    "<b>Reviewer's comment v1:</b>\n",
    "    \n",
    "- You conducted an outstanding research with correct interim findings, clean code and nice visualisation.\n",
    "- I also like your overall conclusion. It is very structured and provides insights and recommendations to the business."
   ]
  }
 ],
 "metadata": {
  "ExecuteTimeLog": [
   {
    "duration": 680,
    "start_time": "2022-02-14T21:55:24.777Z"
   },
   {
    "duration": 339,
    "start_time": "2022-02-14T21:55:27.156Z"
   },
   {
    "duration": 29,
    "start_time": "2022-02-14T21:55:29.778Z"
   },
   {
    "duration": 13,
    "start_time": "2022-02-14T21:55:38.929Z"
   },
   {
    "duration": 20,
    "start_time": "2022-02-14T21:55:52.738Z"
   },
   {
    "duration": 11,
    "start_time": "2022-02-14T21:55:58.877Z"
   },
   {
    "duration": 13,
    "start_time": "2022-02-14T21:56:06.867Z"
   },
   {
    "duration": 13,
    "start_time": "2022-02-14T21:56:16.613Z"
   },
   {
    "duration": 17,
    "start_time": "2022-02-14T21:56:49.152Z"
   },
   {
    "duration": 22,
    "start_time": "2022-02-14T22:07:23.431Z"
   },
   {
    "duration": 30,
    "start_time": "2022-02-14T22:07:34.294Z"
   },
   {
    "duration": 28,
    "start_time": "2022-02-14T22:08:43.073Z"
   },
   {
    "duration": 22,
    "start_time": "2022-02-14T22:11:58.156Z"
   },
   {
    "duration": 22,
    "start_time": "2022-02-14T22:16:05.426Z"
   },
   {
    "duration": 61,
    "start_time": "2022-02-14T22:53:01.223Z"
   },
   {
    "duration": 68,
    "start_time": "2022-02-14T22:53:14.924Z"
   },
   {
    "duration": 49,
    "start_time": "2022-02-14T22:53:53.957Z"
   },
   {
    "duration": 9,
    "start_time": "2022-02-14T22:54:04.151Z"
   },
   {
    "duration": 3,
    "start_time": "2022-02-14T22:55:12.110Z"
   },
   {
    "duration": 336,
    "start_time": "2022-02-14T23:01:04.597Z"
   },
   {
    "duration": 247,
    "start_time": "2022-02-14T23:01:19.930Z"
   },
   {
    "duration": 9,
    "start_time": "2022-02-14T23:01:29.599Z"
   },
   {
    "duration": 7,
    "start_time": "2022-02-14T23:01:45.498Z"
   },
   {
    "duration": 6,
    "start_time": "2022-02-14T23:02:07.206Z"
   },
   {
    "duration": 7,
    "start_time": "2022-02-14T23:02:12.583Z"
   },
   {
    "duration": 6473,
    "start_time": "2022-02-14T23:03:14.429Z"
   },
   {
    "duration": 8,
    "start_time": "2022-02-14T23:03:28.438Z"
   },
   {
    "duration": 9,
    "start_time": "2022-02-14T23:05:07.283Z"
   },
   {
    "duration": 8,
    "start_time": "2022-02-14T23:05:17.272Z"
   },
   {
    "duration": 8,
    "start_time": "2022-02-14T23:05:21.323Z"
   },
   {
    "duration": 245,
    "start_time": "2022-02-14T23:05:28.565Z"
   },
   {
    "duration": 9,
    "start_time": "2022-02-14T23:05:35.881Z"
   },
   {
    "duration": 9,
    "start_time": "2022-02-14T23:07:33.999Z"
   },
   {
    "duration": 8,
    "start_time": "2022-02-14T23:08:00.041Z"
   },
   {
    "duration": 7,
    "start_time": "2022-02-14T23:08:23.079Z"
   },
   {
    "duration": 7,
    "start_time": "2022-02-14T23:08:37.755Z"
   },
   {
    "duration": 8,
    "start_time": "2022-02-14T23:08:52.396Z"
   },
   {
    "duration": 8,
    "start_time": "2022-02-14T23:10:00.466Z"
   },
   {
    "duration": 1394,
    "start_time": "2022-02-14T23:11:01.650Z"
   },
   {
    "duration": 7,
    "start_time": "2022-02-14T23:11:05.119Z"
   },
   {
    "duration": 8,
    "start_time": "2022-02-14T23:11:22.602Z"
   },
   {
    "duration": 6,
    "start_time": "2022-02-14T23:11:52.195Z"
   },
   {
    "duration": 228,
    "start_time": "2022-02-14T23:12:23.598Z"
   },
   {
    "duration": 6138,
    "start_time": "2022-02-14T23:12:28.611Z"
   },
   {
    "duration": 231,
    "start_time": "2022-02-14T23:12:41.145Z"
   },
   {
    "duration": 6,
    "start_time": "2022-02-14T23:13:11.304Z"
   },
   {
    "duration": 5,
    "start_time": "2022-02-14T23:18:37.752Z"
   },
   {
    "duration": 8,
    "start_time": "2022-02-14T23:18:59.141Z"
   },
   {
    "duration": 17,
    "start_time": "2022-02-14T23:20:59.159Z"
   },
   {
    "duration": 6,
    "start_time": "2022-02-14T23:21:18.779Z"
   },
   {
    "duration": 6,
    "start_time": "2022-02-14T23:21:22.010Z"
   },
   {
    "duration": 18,
    "start_time": "2022-02-14T23:22:18.089Z"
   },
   {
    "duration": 6,
    "start_time": "2022-02-14T23:23:41.600Z"
   },
   {
    "duration": 7,
    "start_time": "2022-02-14T23:24:15.371Z"
   },
   {
    "duration": 5,
    "start_time": "2022-02-14T23:25:00.045Z"
   },
   {
    "duration": 386,
    "start_time": "2022-02-15T12:14:41.373Z"
   },
   {
    "duration": 528,
    "start_time": "2022-02-15T12:14:52.898Z"
   },
   {
    "duration": 273,
    "start_time": "2022-02-15T12:14:54.998Z"
   },
   {
    "duration": 27,
    "start_time": "2022-02-15T12:14:56.008Z"
   },
   {
    "duration": 18,
    "start_time": "2022-02-15T12:14:57.020Z"
   },
   {
    "duration": 23,
    "start_time": "2022-02-15T12:14:57.801Z"
   },
   {
    "duration": 11,
    "start_time": "2022-02-15T12:14:59.115Z"
   },
   {
    "duration": 19,
    "start_time": "2022-02-15T12:14:59.906Z"
   },
   {
    "duration": 5,
    "start_time": "2022-02-15T12:15:03.930Z"
   },
   {
    "duration": 5,
    "start_time": "2022-02-15T12:15:05.610Z"
   },
   {
    "duration": 6,
    "start_time": "2022-02-15T12:15:09.290Z"
   },
   {
    "duration": 6,
    "start_time": "2022-02-15T12:15:16.123Z"
   },
   {
    "duration": 4,
    "start_time": "2022-02-15T12:15:18.896Z"
   },
   {
    "duration": 4,
    "start_time": "2022-02-15T12:15:21.425Z"
   },
   {
    "duration": 4,
    "start_time": "2022-02-15T12:15:22.709Z"
   },
   {
    "duration": 4,
    "start_time": "2022-02-15T12:15:24.188Z"
   },
   {
    "duration": 6,
    "start_time": "2022-02-15T12:15:24.651Z"
   },
   {
    "duration": 6,
    "start_time": "2022-02-15T12:15:28.191Z"
   },
   {
    "duration": 26,
    "start_time": "2022-02-15T12:15:33.146Z"
   },
   {
    "duration": 26,
    "start_time": "2022-02-15T12:15:41.411Z"
   },
   {
    "duration": 2,
    "start_time": "2022-02-15T12:16:39.830Z"
   },
   {
    "duration": 4,
    "start_time": "2022-02-15T12:17:23.176Z"
   },
   {
    "duration": 11,
    "start_time": "2022-02-15T12:18:42.546Z"
   },
   {
    "duration": 17,
    "start_time": "2022-02-15T12:18:53.050Z"
   },
   {
    "duration": 9,
    "start_time": "2022-02-15T12:19:22.651Z"
   },
   {
    "duration": 1449,
    "start_time": "2022-02-15T12:20:03.716Z"
   },
   {
    "duration": 4,
    "start_time": "2022-02-15T12:20:13.391Z"
   },
   {
    "duration": 12,
    "start_time": "2022-02-15T12:22:51.578Z"
   },
   {
    "duration": 18,
    "start_time": "2022-02-15T12:35:00.724Z"
   },
   {
    "duration": 6,
    "start_time": "2022-02-15T12:35:29.927Z"
   },
   {
    "duration": 7,
    "start_time": "2022-02-15T12:35:40.141Z"
   },
   {
    "duration": 4,
    "start_time": "2022-02-15T12:35:47.674Z"
   },
   {
    "duration": 4,
    "start_time": "2022-02-15T12:36:03.325Z"
   },
   {
    "duration": 4,
    "start_time": "2022-02-15T12:36:12.670Z"
   },
   {
    "duration": 13,
    "start_time": "2022-02-15T12:37:03.081Z"
   },
   {
    "duration": 9,
    "start_time": "2022-02-15T12:37:12.450Z"
   },
   {
    "duration": 5,
    "start_time": "2022-02-15T12:39:11.729Z"
   },
   {
    "duration": 9,
    "start_time": "2022-02-15T12:39:43.006Z"
   },
   {
    "duration": 12,
    "start_time": "2022-02-15T12:44:06.509Z"
   },
   {
    "duration": 13,
    "start_time": "2022-02-15T12:44:14.794Z"
   },
   {
    "duration": 600,
    "start_time": "2022-02-15T15:12:47.360Z"
   },
   {
    "duration": 2414,
    "start_time": "2022-02-15T15:12:47.962Z"
   },
   {
    "duration": 2211,
    "start_time": "2022-02-15T15:12:48.169Z"
   },
   {
    "duration": 2207,
    "start_time": "2022-02-15T15:12:48.175Z"
   },
   {
    "duration": 2203,
    "start_time": "2022-02-15T15:12:48.181Z"
   },
   {
    "duration": 2200,
    "start_time": "2022-02-15T15:12:48.185Z"
   },
   {
    "duration": 2199,
    "start_time": "2022-02-15T15:12:48.187Z"
   },
   {
    "duration": 2197,
    "start_time": "2022-02-15T15:12:48.191Z"
   },
   {
    "duration": 2190,
    "start_time": "2022-02-15T15:12:48.199Z"
   },
   {
    "duration": 2188,
    "start_time": "2022-02-15T15:12:48.203Z"
   },
   {
    "duration": 2187,
    "start_time": "2022-02-15T15:12:48.205Z"
   },
   {
    "duration": 2187,
    "start_time": "2022-02-15T15:12:48.207Z"
   },
   {
    "duration": 2186,
    "start_time": "2022-02-15T15:12:48.209Z"
   },
   {
    "duration": 2185,
    "start_time": "2022-02-15T15:12:48.212Z"
   },
   {
    "duration": 2184,
    "start_time": "2022-02-15T15:12:48.214Z"
   },
   {
    "duration": 2183,
    "start_time": "2022-02-15T15:12:48.216Z"
   },
   {
    "duration": 2183,
    "start_time": "2022-02-15T15:12:48.218Z"
   },
   {
    "duration": 2152,
    "start_time": "2022-02-15T15:12:48.250Z"
   },
   {
    "duration": 2141,
    "start_time": "2022-02-15T15:12:48.262Z"
   },
   {
    "duration": 2140,
    "start_time": "2022-02-15T15:12:48.264Z"
   },
   {
    "duration": 2139,
    "start_time": "2022-02-15T15:12:48.266Z"
   },
   {
    "duration": 2137,
    "start_time": "2022-02-15T15:12:48.269Z"
   },
   {
    "duration": 2136,
    "start_time": "2022-02-15T15:12:48.271Z"
   },
   {
    "duration": 2135,
    "start_time": "2022-02-15T15:12:48.273Z"
   },
   {
    "duration": 2134,
    "start_time": "2022-02-15T15:12:48.275Z"
   },
   {
    "duration": 2133,
    "start_time": "2022-02-15T15:12:48.277Z"
   },
   {
    "duration": 2133,
    "start_time": "2022-02-15T15:12:48.278Z"
   },
   {
    "duration": 2131,
    "start_time": "2022-02-15T15:12:48.281Z"
   },
   {
    "duration": 2131,
    "start_time": "2022-02-15T15:12:48.283Z"
   },
   {
    "duration": 2129,
    "start_time": "2022-02-15T15:12:48.286Z"
   },
   {
    "duration": 2128,
    "start_time": "2022-02-15T15:12:48.288Z"
   },
   {
    "duration": 2127,
    "start_time": "2022-02-15T15:12:48.290Z"
   },
   {
    "duration": 2126,
    "start_time": "2022-02-15T15:12:48.292Z"
   },
   {
    "duration": 2125,
    "start_time": "2022-02-15T15:12:48.294Z"
   },
   {
    "duration": 2124,
    "start_time": "2022-02-15T15:12:48.296Z"
   },
   {
    "duration": 2123,
    "start_time": "2022-02-15T15:12:48.298Z"
   },
   {
    "duration": 651,
    "start_time": "2022-02-15T15:13:24.189Z"
   },
   {
    "duration": 285,
    "start_time": "2022-02-15T15:13:24.842Z"
   },
   {
    "duration": 32,
    "start_time": "2022-02-15T15:13:25.130Z"
   },
   {
    "duration": 26,
    "start_time": "2022-02-15T15:13:25.164Z"
   },
   {
    "duration": 38,
    "start_time": "2022-02-15T15:13:25.192Z"
   },
   {
    "duration": 9,
    "start_time": "2022-02-15T15:13:25.232Z"
   },
   {
    "duration": 31,
    "start_time": "2022-02-15T15:13:25.243Z"
   },
   {
    "duration": 15,
    "start_time": "2022-02-15T15:13:25.277Z"
   },
   {
    "duration": 25,
    "start_time": "2022-02-15T15:13:25.295Z"
   },
   {
    "duration": 12,
    "start_time": "2022-02-15T15:13:25.322Z"
   },
   {
    "duration": 10,
    "start_time": "2022-02-15T15:13:25.336Z"
   },
   {
    "duration": 17,
    "start_time": "2022-02-15T15:13:25.348Z"
   },
   {
    "duration": 9,
    "start_time": "2022-02-15T15:13:25.367Z"
   },
   {
    "duration": 11,
    "start_time": "2022-02-15T15:13:25.378Z"
   },
   {
    "duration": 13,
    "start_time": "2022-02-15T15:13:25.391Z"
   },
   {
    "duration": 15,
    "start_time": "2022-02-15T15:13:25.406Z"
   },
   {
    "duration": 28,
    "start_time": "2022-02-15T15:13:25.423Z"
   },
   {
    "duration": 26,
    "start_time": "2022-02-15T15:13:25.453Z"
   },
   {
    "duration": 37,
    "start_time": "2022-02-15T15:13:25.481Z"
   },
   {
    "duration": 22,
    "start_time": "2022-02-15T15:13:25.521Z"
   },
   {
    "duration": 13,
    "start_time": "2022-02-15T15:13:25.545Z"
   },
   {
    "duration": 13,
    "start_time": "2022-02-15T15:13:25.560Z"
   },
   {
    "duration": 24,
    "start_time": "2022-02-15T15:13:25.576Z"
   },
   {
    "duration": 17,
    "start_time": "2022-02-15T15:13:25.619Z"
   },
   {
    "duration": 40,
    "start_time": "2022-02-15T15:13:25.637Z"
   },
   {
    "duration": 43,
    "start_time": "2022-02-15T15:13:25.679Z"
   },
   {
    "duration": 19,
    "start_time": "2022-02-15T15:13:25.724Z"
   },
   {
    "duration": 14,
    "start_time": "2022-02-15T15:13:25.746Z"
   },
   {
    "duration": 27,
    "start_time": "2022-02-15T15:13:25.761Z"
   },
   {
    "duration": 42,
    "start_time": "2022-02-15T15:13:25.790Z"
   },
   {
    "duration": 11,
    "start_time": "2022-02-15T15:13:25.833Z"
   },
   {
    "duration": 32,
    "start_time": "2022-02-15T15:13:25.846Z"
   },
   {
    "duration": 68,
    "start_time": "2022-02-15T15:13:25.880Z"
   },
   {
    "duration": 19,
    "start_time": "2022-02-15T15:13:25.950Z"
   },
   {
    "duration": 11,
    "start_time": "2022-02-15T15:13:25.971Z"
   },
   {
    "duration": 60,
    "start_time": "2022-02-15T15:13:25.984Z"
   },
   {
    "duration": 37,
    "start_time": "2022-02-15T15:58:09.088Z"
   },
   {
    "duration": 4,
    "start_time": "2022-02-15T16:12:21.632Z"
   },
   {
    "duration": 98,
    "start_time": "2022-02-15T16:25:07.371Z"
   },
   {
    "duration": 4,
    "start_time": "2022-02-15T16:26:25.487Z"
   },
   {
    "duration": 5,
    "start_time": "2022-02-15T16:26:30.151Z"
   },
   {
    "duration": 5,
    "start_time": "2022-02-15T16:26:31.792Z"
   },
   {
    "duration": 102,
    "start_time": "2022-02-15T16:26:39.575Z"
   },
   {
    "duration": 125,
    "start_time": "2022-02-15T16:26:55.005Z"
   },
   {
    "duration": 36,
    "start_time": "2022-02-15T16:55:22.015Z"
   },
   {
    "duration": 11,
    "start_time": "2022-02-15T16:55:57.875Z"
   },
   {
    "duration": 18,
    "start_time": "2022-02-15T16:56:11.900Z"
   },
   {
    "duration": 38,
    "start_time": "2022-02-15T16:56:53.525Z"
   },
   {
    "duration": 29,
    "start_time": "2022-02-15T16:57:18.674Z"
   },
   {
    "duration": 38,
    "start_time": "2022-02-15T16:57:41.738Z"
   },
   {
    "duration": 12,
    "start_time": "2022-02-15T17:01:06.020Z"
   },
   {
    "duration": 11,
    "start_time": "2022-02-15T17:01:36.805Z"
   },
   {
    "duration": 12,
    "start_time": "2022-02-15T17:01:46.742Z"
   },
   {
    "duration": 14,
    "start_time": "2022-02-15T17:01:55.117Z"
   },
   {
    "duration": 11,
    "start_time": "2022-02-15T17:02:27.000Z"
   },
   {
    "duration": 12,
    "start_time": "2022-02-15T17:02:33.704Z"
   },
   {
    "duration": 25,
    "start_time": "2022-02-15T17:31:26.039Z"
   },
   {
    "duration": 23,
    "start_time": "2022-02-15T17:31:59.604Z"
   },
   {
    "duration": 5,
    "start_time": "2022-02-15T17:34:00.403Z"
   },
   {
    "duration": 7,
    "start_time": "2022-02-15T17:36:47.425Z"
   },
   {
    "duration": 8,
    "start_time": "2022-02-15T17:37:17.419Z"
   },
   {
    "duration": 13,
    "start_time": "2022-02-15T17:37:52.118Z"
   },
   {
    "duration": 312,
    "start_time": "2022-02-15T17:40:24.738Z"
   },
   {
    "duration": 258,
    "start_time": "2022-02-15T17:40:48.379Z"
   },
   {
    "duration": 248,
    "start_time": "2022-02-15T17:41:18.171Z"
   },
   {
    "duration": 252,
    "start_time": "2022-02-15T17:41:26.093Z"
   },
   {
    "duration": 252,
    "start_time": "2022-02-15T17:41:53.716Z"
   },
   {
    "duration": 21,
    "start_time": "2022-02-15T17:42:09.961Z"
   },
   {
    "duration": 27,
    "start_time": "2022-02-15T17:45:05.111Z"
   },
   {
    "duration": 21,
    "start_time": "2022-02-15T17:46:38.130Z"
   },
   {
    "duration": 18,
    "start_time": "2022-02-15T20:20:34.195Z"
   },
   {
    "duration": 14040,
    "start_time": "2022-02-15T20:20:36.547Z"
   },
   {
    "duration": 25,
    "start_time": "2022-02-15T20:21:32.752Z"
   },
   {
    "duration": 26,
    "start_time": "2022-02-15T20:21:33.477Z"
   },
   {
    "duration": 19,
    "start_time": "2022-02-15T20:21:35.119Z"
   },
   {
    "duration": 17,
    "start_time": "2022-02-15T20:21:41.400Z"
   },
   {
    "duration": 938,
    "start_time": "2022-02-15T20:21:52.367Z"
   },
   {
    "duration": 2122,
    "start_time": "2022-02-15T20:21:53.306Z"
   },
   {
    "duration": 2050,
    "start_time": "2022-02-15T20:21:53.383Z"
   },
   {
    "duration": 2037,
    "start_time": "2022-02-15T20:21:53.397Z"
   },
   {
    "duration": 2033,
    "start_time": "2022-02-15T20:21:53.402Z"
   },
   {
    "duration": 2003,
    "start_time": "2022-02-15T20:21:53.433Z"
   },
   {
    "duration": 1977,
    "start_time": "2022-02-15T20:21:53.460Z"
   },
   {
    "duration": 1902,
    "start_time": "2022-02-15T20:21:53.536Z"
   },
   {
    "duration": 1901,
    "start_time": "2022-02-15T20:21:53.538Z"
   },
   {
    "duration": 1900,
    "start_time": "2022-02-15T20:21:53.540Z"
   },
   {
    "duration": 1868,
    "start_time": "2022-02-15T20:21:53.573Z"
   },
   {
    "duration": 1855,
    "start_time": "2022-02-15T20:21:53.587Z"
   },
   {
    "duration": 1854,
    "start_time": "2022-02-15T20:21:53.589Z"
   },
   {
    "duration": 1853,
    "start_time": "2022-02-15T20:21:53.591Z"
   },
   {
    "duration": 1823,
    "start_time": "2022-02-15T20:21:53.622Z"
   },
   {
    "duration": 1799,
    "start_time": "2022-02-15T20:21:53.647Z"
   },
   {
    "duration": 1771,
    "start_time": "2022-02-15T20:21:53.676Z"
   },
   {
    "duration": 1745,
    "start_time": "2022-02-15T20:21:53.703Z"
   },
   {
    "duration": 1722,
    "start_time": "2022-02-15T20:21:53.727Z"
   },
   {
    "duration": 1721,
    "start_time": "2022-02-15T20:21:53.729Z"
   },
   {
    "duration": 1708,
    "start_time": "2022-02-15T20:21:53.743Z"
   },
   {
    "duration": 1693,
    "start_time": "2022-02-15T20:21:53.759Z"
   },
   {
    "duration": 1691,
    "start_time": "2022-02-15T20:21:53.762Z"
   },
   {
    "duration": 1689,
    "start_time": "2022-02-15T20:21:53.765Z"
   },
   {
    "duration": 1657,
    "start_time": "2022-02-15T20:21:53.798Z"
   },
   {
    "duration": 1651,
    "start_time": "2022-02-15T20:21:53.805Z"
   },
   {
    "duration": 1650,
    "start_time": "2022-02-15T20:21:53.807Z"
   },
   {
    "duration": 1650,
    "start_time": "2022-02-15T20:21:53.809Z"
   },
   {
    "duration": 1634,
    "start_time": "2022-02-15T20:21:53.826Z"
   },
   {
    "duration": 1616,
    "start_time": "2022-02-15T20:21:53.845Z"
   },
   {
    "duration": 1593,
    "start_time": "2022-02-15T20:21:53.869Z"
   },
   {
    "duration": 1581,
    "start_time": "2022-02-15T20:21:53.882Z"
   },
   {
    "duration": 1581,
    "start_time": "2022-02-15T20:21:53.884Z"
   },
   {
    "duration": 1572,
    "start_time": "2022-02-15T20:21:53.894Z"
   },
   {
    "duration": 1571,
    "start_time": "2022-02-15T20:21:53.896Z"
   },
   {
    "duration": 1535,
    "start_time": "2022-02-15T20:21:53.933Z"
   },
   {
    "duration": 1399,
    "start_time": "2022-02-15T20:21:54.070Z"
   },
   {
    "duration": 1441,
    "start_time": "2022-02-15T20:21:54.077Z"
   },
   {
    "duration": 1440,
    "start_time": "2022-02-15T20:21:54.079Z"
   },
   {
    "duration": 1438,
    "start_time": "2022-02-15T20:21:54.082Z"
   },
   {
    "duration": 1436,
    "start_time": "2022-02-15T20:21:54.085Z"
   },
   {
    "duration": 1435,
    "start_time": "2022-02-15T20:21:54.087Z"
   },
   {
    "duration": 1434,
    "start_time": "2022-02-15T20:21:54.089Z"
   },
   {
    "duration": 1433,
    "start_time": "2022-02-15T20:21:54.091Z"
   },
   {
    "duration": 1432,
    "start_time": "2022-02-15T20:21:54.093Z"
   },
   {
    "duration": 1430,
    "start_time": "2022-02-15T20:21:54.096Z"
   },
   {
    "duration": 1428,
    "start_time": "2022-02-15T20:21:54.099Z"
   },
   {
    "duration": 1422,
    "start_time": "2022-02-15T20:21:54.106Z"
   },
   {
    "duration": 1357,
    "start_time": "2022-02-15T20:21:54.173Z"
   },
   {
    "duration": 990,
    "start_time": "2022-02-15T20:22:17.845Z"
   },
   {
    "duration": 2028,
    "start_time": "2022-02-15T20:22:18.836Z"
   },
   {
    "duration": 2265,
    "start_time": "2022-02-15T20:22:18.602Z"
   },
   {
    "duration": 2262,
    "start_time": "2022-02-15T20:22:18.606Z"
   },
   {
    "duration": 2260,
    "start_time": "2022-02-15T20:22:18.609Z"
   },
   {
    "duration": 2257,
    "start_time": "2022-02-15T20:22:18.613Z"
   },
   {
    "duration": 2255,
    "start_time": "2022-02-15T20:22:18.615Z"
   },
   {
    "duration": 2253,
    "start_time": "2022-02-15T20:22:18.618Z"
   },
   {
    "duration": 2251,
    "start_time": "2022-02-15T20:22:18.621Z"
   },
   {
    "duration": 2249,
    "start_time": "2022-02-15T20:22:18.624Z"
   },
   {
    "duration": 2240,
    "start_time": "2022-02-15T20:22:18.634Z"
   },
   {
    "duration": 2237,
    "start_time": "2022-02-15T20:22:18.637Z"
   },
   {
    "duration": 2236,
    "start_time": "2022-02-15T20:22:18.639Z"
   },
   {
    "duration": 2234,
    "start_time": "2022-02-15T20:22:18.642Z"
   },
   {
    "duration": 2232,
    "start_time": "2022-02-15T20:22:18.645Z"
   },
   {
    "duration": 2231,
    "start_time": "2022-02-15T20:22:18.647Z"
   },
   {
    "duration": 2229,
    "start_time": "2022-02-15T20:22:18.650Z"
   },
   {
    "duration": 2227,
    "start_time": "2022-02-15T20:22:18.653Z"
   },
   {
    "duration": 2191,
    "start_time": "2022-02-15T20:22:18.690Z"
   },
   {
    "duration": 2175,
    "start_time": "2022-02-15T20:22:18.707Z"
   },
   {
    "duration": 2158,
    "start_time": "2022-02-15T20:22:18.725Z"
   },
   {
    "duration": 2156,
    "start_time": "2022-02-15T20:22:18.728Z"
   },
   {
    "duration": 2154,
    "start_time": "2022-02-15T20:22:18.731Z"
   },
   {
    "duration": 2152,
    "start_time": "2022-02-15T20:22:18.734Z"
   },
   {
    "duration": 2150,
    "start_time": "2022-02-15T20:22:18.737Z"
   },
   {
    "duration": 2149,
    "start_time": "2022-02-15T20:22:18.739Z"
   },
   {
    "duration": 2147,
    "start_time": "2022-02-15T20:22:18.742Z"
   },
   {
    "duration": 2145,
    "start_time": "2022-02-15T20:22:18.745Z"
   },
   {
    "duration": 2144,
    "start_time": "2022-02-15T20:22:18.747Z"
   },
   {
    "duration": 2142,
    "start_time": "2022-02-15T20:22:18.750Z"
   },
   {
    "duration": 2141,
    "start_time": "2022-02-15T20:22:18.752Z"
   },
   {
    "duration": 2139,
    "start_time": "2022-02-15T20:22:18.755Z"
   },
   {
    "duration": 2138,
    "start_time": "2022-02-15T20:22:18.757Z"
   },
   {
    "duration": 2135,
    "start_time": "2022-02-15T20:22:18.761Z"
   },
   {
    "duration": 2134,
    "start_time": "2022-02-15T20:22:18.763Z"
   },
   {
    "duration": 2132,
    "start_time": "2022-02-15T20:22:18.766Z"
   },
   {
    "duration": 2131,
    "start_time": "2022-02-15T20:22:18.768Z"
   },
   {
    "duration": 2129,
    "start_time": "2022-02-15T20:22:18.771Z"
   },
   {
    "duration": 2125,
    "start_time": "2022-02-15T20:22:18.776Z"
   },
   {
    "duration": 2123,
    "start_time": "2022-02-15T20:22:18.779Z"
   },
   {
    "duration": 2123,
    "start_time": "2022-02-15T20:22:18.781Z"
   },
   {
    "duration": 2135,
    "start_time": "2022-02-15T20:22:18.783Z"
   },
   {
    "duration": 2134,
    "start_time": "2022-02-15T20:22:18.785Z"
   },
   {
    "duration": 2132,
    "start_time": "2022-02-15T20:22:18.788Z"
   },
   {
    "duration": 2132,
    "start_time": "2022-02-15T20:22:18.790Z"
   },
   {
    "duration": 2129,
    "start_time": "2022-02-15T20:22:18.794Z"
   },
   {
    "duration": 2128,
    "start_time": "2022-02-15T20:22:18.796Z"
   },
   {
    "duration": 2127,
    "start_time": "2022-02-15T20:22:18.798Z"
   },
   {
    "duration": 2127,
    "start_time": "2022-02-15T20:22:18.800Z"
   },
   {
    "duration": 893,
    "start_time": "2022-02-15T20:22:49.266Z"
   },
   {
    "duration": 273,
    "start_time": "2022-02-15T20:22:50.160Z"
   },
   {
    "duration": 30,
    "start_time": "2022-02-15T20:22:50.435Z"
   },
   {
    "duration": 19,
    "start_time": "2022-02-15T20:22:50.467Z"
   },
   {
    "duration": 19,
    "start_time": "2022-02-15T20:22:50.487Z"
   },
   {
    "duration": 16,
    "start_time": "2022-02-15T20:22:50.507Z"
   },
   {
    "duration": 19,
    "start_time": "2022-02-15T20:22:50.524Z"
   },
   {
    "duration": 8,
    "start_time": "2022-02-15T20:22:50.545Z"
   },
   {
    "duration": 7,
    "start_time": "2022-02-15T20:22:50.555Z"
   },
   {
    "duration": 15,
    "start_time": "2022-02-15T20:22:50.563Z"
   },
   {
    "duration": 6,
    "start_time": "2022-02-15T20:22:50.579Z"
   },
   {
    "duration": 7,
    "start_time": "2022-02-15T20:22:50.587Z"
   },
   {
    "duration": 16,
    "start_time": "2022-02-15T20:22:50.595Z"
   },
   {
    "duration": 11,
    "start_time": "2022-02-15T20:22:50.617Z"
   },
   {
    "duration": 18,
    "start_time": "2022-02-15T20:22:50.629Z"
   },
   {
    "duration": 11,
    "start_time": "2022-02-15T20:22:50.649Z"
   },
   {
    "duration": 17,
    "start_time": "2022-02-15T20:22:50.662Z"
   },
   {
    "duration": 19,
    "start_time": "2022-02-15T20:22:50.680Z"
   },
   {
    "duration": 25,
    "start_time": "2022-02-15T20:22:50.701Z"
   },
   {
    "duration": 21,
    "start_time": "2022-02-15T20:22:50.729Z"
   },
   {
    "duration": 12,
    "start_time": "2022-02-15T20:22:50.752Z"
   },
   {
    "duration": 10,
    "start_time": "2022-02-15T20:22:50.766Z"
   },
   {
    "duration": 43,
    "start_time": "2022-02-15T20:22:50.780Z"
   },
   {
    "duration": 15,
    "start_time": "2022-02-15T20:22:50.825Z"
   },
   {
    "duration": 18,
    "start_time": "2022-02-15T20:22:50.842Z"
   },
   {
    "duration": 9,
    "start_time": "2022-02-15T20:22:50.861Z"
   },
   {
    "duration": 10,
    "start_time": "2022-02-15T20:22:50.872Z"
   },
   {
    "duration": 36,
    "start_time": "2022-02-15T20:22:50.883Z"
   },
   {
    "duration": 24,
    "start_time": "2022-02-15T20:22:50.921Z"
   },
   {
    "duration": 18,
    "start_time": "2022-02-15T20:22:50.947Z"
   },
   {
    "duration": 10,
    "start_time": "2022-02-15T20:22:50.967Z"
   },
   {
    "duration": 60,
    "start_time": "2022-02-15T20:22:50.978Z"
   },
   {
    "duration": 43,
    "start_time": "2022-02-15T20:22:51.040Z"
   },
   {
    "duration": 35,
    "start_time": "2022-02-15T20:22:51.085Z"
   },
   {
    "duration": 10,
    "start_time": "2022-02-15T20:22:51.122Z"
   },
   {
    "duration": 38,
    "start_time": "2022-02-15T20:22:51.134Z"
   },
   {
    "duration": 5,
    "start_time": "2022-02-15T20:22:51.174Z"
   },
   {
    "duration": 17,
    "start_time": "2022-02-15T20:22:51.180Z"
   },
   {
    "duration": 113,
    "start_time": "2022-02-15T20:22:51.198Z"
   },
   {
    "duration": 26,
    "start_time": "2022-02-15T20:22:51.312Z"
   },
   {
    "duration": 26,
    "start_time": "2022-02-15T20:22:51.339Z"
   },
   {
    "duration": 52,
    "start_time": "2022-02-15T20:22:51.366Z"
   },
   {
    "duration": 23,
    "start_time": "2022-02-15T20:22:51.420Z"
   },
   {
    "duration": 1735,
    "start_time": "2022-02-15T20:22:51.445Z"
   },
   {
    "duration": 6,
    "start_time": "2022-02-15T20:22:53.183Z"
   },
   {
    "duration": 7,
    "start_time": "2022-02-15T20:22:53.191Z"
   },
   {
    "duration": 9,
    "start_time": "2022-02-15T20:22:53.218Z"
   },
   {
    "duration": 9,
    "start_time": "2022-02-15T20:22:53.229Z"
   },
   {
    "duration": 12,
    "start_time": "2022-02-15T20:22:53.240Z"
   },
   {
    "duration": 1098,
    "start_time": "2022-02-15T20:45:30.144Z"
   },
   {
    "duration": 375,
    "start_time": "2022-02-15T20:45:31.244Z"
   },
   {
    "duration": 29,
    "start_time": "2022-02-15T20:45:31.622Z"
   },
   {
    "duration": 26,
    "start_time": "2022-02-15T20:45:31.654Z"
   },
   {
    "duration": 23,
    "start_time": "2022-02-15T20:45:31.681Z"
   },
   {
    "duration": 23,
    "start_time": "2022-02-15T20:45:31.706Z"
   },
   {
    "duration": 17,
    "start_time": "2022-02-15T20:45:31.731Z"
   },
   {
    "duration": 8,
    "start_time": "2022-02-15T20:45:31.749Z"
   },
   {
    "duration": 7,
    "start_time": "2022-02-15T20:45:31.760Z"
   },
   {
    "duration": 10,
    "start_time": "2022-02-15T20:45:31.770Z"
   },
   {
    "duration": 15,
    "start_time": "2022-02-15T20:45:31.782Z"
   },
   {
    "duration": 4,
    "start_time": "2022-02-15T20:45:31.818Z"
   },
   {
    "duration": 22,
    "start_time": "2022-02-15T20:45:31.823Z"
   },
   {
    "duration": 6,
    "start_time": "2022-02-15T20:45:31.846Z"
   },
   {
    "duration": 10,
    "start_time": "2022-02-15T20:45:31.854Z"
   },
   {
    "duration": 9,
    "start_time": "2022-02-15T20:45:31.866Z"
   },
   {
    "duration": 18,
    "start_time": "2022-02-15T20:45:31.877Z"
   },
   {
    "duration": 23,
    "start_time": "2022-02-15T20:45:31.897Z"
   },
   {
    "duration": 30,
    "start_time": "2022-02-15T20:45:31.922Z"
   },
   {
    "duration": 21,
    "start_time": "2022-02-15T20:45:31.954Z"
   },
   {
    "duration": 11,
    "start_time": "2022-02-15T20:45:31.976Z"
   },
   {
    "duration": 9,
    "start_time": "2022-02-15T20:45:32.022Z"
   },
   {
    "duration": 23,
    "start_time": "2022-02-15T20:45:32.033Z"
   },
   {
    "duration": 17,
    "start_time": "2022-02-15T20:45:32.058Z"
   },
   {
    "duration": 22,
    "start_time": "2022-02-15T20:45:32.076Z"
   },
   {
    "duration": 6,
    "start_time": "2022-02-15T20:45:32.118Z"
   },
   {
    "duration": 11,
    "start_time": "2022-02-15T20:45:32.128Z"
   },
   {
    "duration": 14,
    "start_time": "2022-02-15T20:45:32.141Z"
   },
   {
    "duration": 27,
    "start_time": "2022-02-15T20:45:32.156Z"
   },
   {
    "duration": 45,
    "start_time": "2022-02-15T20:45:32.185Z"
   },
   {
    "duration": 11,
    "start_time": "2022-02-15T20:45:32.232Z"
   },
   {
    "duration": 34,
    "start_time": "2022-02-15T20:45:32.244Z"
   },
   {
    "duration": 75,
    "start_time": "2022-02-15T20:45:32.280Z"
   },
   {
    "duration": 18,
    "start_time": "2022-02-15T20:45:32.357Z"
   },
   {
    "duration": 11,
    "start_time": "2022-02-15T20:45:32.377Z"
   },
   {
    "duration": 56,
    "start_time": "2022-02-15T20:45:32.390Z"
   },
   {
    "duration": 6,
    "start_time": "2022-02-15T20:45:32.448Z"
   },
   {
    "duration": 11,
    "start_time": "2022-02-15T20:45:32.456Z"
   },
   {
    "duration": 122,
    "start_time": "2022-02-15T20:45:32.469Z"
   },
   {
    "duration": 34,
    "start_time": "2022-02-15T20:45:32.592Z"
   },
   {
    "duration": 29,
    "start_time": "2022-02-15T20:45:32.628Z"
   },
   {
    "duration": 22,
    "start_time": "2022-02-15T20:45:32.658Z"
   },
   {
    "duration": 52,
    "start_time": "2022-02-15T20:45:32.682Z"
   },
   {
    "duration": 1715,
    "start_time": "2022-02-15T20:45:32.738Z"
   },
   {
    "duration": 5,
    "start_time": "2022-02-15T20:45:34.455Z"
   },
   {
    "duration": 20,
    "start_time": "2022-02-15T20:45:34.461Z"
   },
   {
    "duration": 28,
    "start_time": "2022-02-15T20:45:34.483Z"
   },
   {
    "duration": 17,
    "start_time": "2022-02-15T20:45:34.513Z"
   },
   {
    "duration": 25,
    "start_time": "2022-02-15T20:45:34.531Z"
   },
   {
    "duration": 916,
    "start_time": "2022-02-16T16:07:42.499Z"
   },
   {
    "duration": 280,
    "start_time": "2022-02-16T16:07:43.417Z"
   },
   {
    "duration": 31,
    "start_time": "2022-02-16T16:07:43.699Z"
   },
   {
    "duration": 20,
    "start_time": "2022-02-16T16:07:43.732Z"
   },
   {
    "duration": 16,
    "start_time": "2022-02-16T16:07:43.754Z"
   },
   {
    "duration": 8,
    "start_time": "2022-02-16T16:07:43.771Z"
   },
   {
    "duration": 49,
    "start_time": "2022-02-16T16:07:43.781Z"
   },
   {
    "duration": 4,
    "start_time": "2022-02-16T16:07:43.832Z"
   },
   {
    "duration": 6,
    "start_time": "2022-02-16T16:07:43.839Z"
   },
   {
    "duration": 6,
    "start_time": "2022-02-16T16:07:43.848Z"
   },
   {
    "duration": 6,
    "start_time": "2022-02-16T16:07:43.855Z"
   },
   {
    "duration": 8,
    "start_time": "2022-02-16T16:07:43.863Z"
   },
   {
    "duration": 8,
    "start_time": "2022-02-16T16:07:43.873Z"
   },
   {
    "duration": 5,
    "start_time": "2022-02-16T16:07:43.883Z"
   },
   {
    "duration": 41,
    "start_time": "2022-02-16T16:07:43.890Z"
   },
   {
    "duration": 7,
    "start_time": "2022-02-16T16:07:43.933Z"
   },
   {
    "duration": 12,
    "start_time": "2022-02-16T16:07:43.942Z"
   },
   {
    "duration": 15,
    "start_time": "2022-02-16T16:07:43.956Z"
   },
   {
    "duration": 22,
    "start_time": "2022-02-16T16:07:43.973Z"
   },
   {
    "duration": 48,
    "start_time": "2022-02-16T16:07:43.998Z"
   },
   {
    "duration": 11,
    "start_time": "2022-02-16T16:07:44.047Z"
   },
   {
    "duration": 6,
    "start_time": "2022-02-16T16:07:44.059Z"
   },
   {
    "duration": 20,
    "start_time": "2022-02-16T16:07:44.066Z"
   },
   {
    "duration": 47,
    "start_time": "2022-02-16T16:07:44.088Z"
   },
   {
    "duration": 20,
    "start_time": "2022-02-16T16:07:44.137Z"
   },
   {
    "duration": 13,
    "start_time": "2022-02-16T16:07:44.160Z"
   },
   {
    "duration": 10,
    "start_time": "2022-02-16T16:07:44.177Z"
   },
   {
    "duration": 14,
    "start_time": "2022-02-16T16:07:44.190Z"
   },
   {
    "duration": 42,
    "start_time": "2022-02-16T16:07:44.230Z"
   },
   {
    "duration": 21,
    "start_time": "2022-02-16T16:07:44.274Z"
   },
   {
    "duration": 12,
    "start_time": "2022-02-16T16:07:44.298Z"
   },
   {
    "duration": 52,
    "start_time": "2022-02-16T16:07:44.313Z"
   },
   {
    "duration": 71,
    "start_time": "2022-02-16T16:07:44.367Z"
   },
   {
    "duration": 18,
    "start_time": "2022-02-16T16:07:44.440Z"
   },
   {
    "duration": 10,
    "start_time": "2022-02-16T16:07:44.460Z"
   },
   {
    "duration": 36,
    "start_time": "2022-02-16T16:07:44.471Z"
   },
   {
    "duration": 5,
    "start_time": "2022-02-16T16:07:44.530Z"
   },
   {
    "duration": 9,
    "start_time": "2022-02-16T16:07:44.537Z"
   },
   {
    "duration": 111,
    "start_time": "2022-02-16T16:07:44.548Z"
   },
   {
    "duration": 25,
    "start_time": "2022-02-16T16:07:44.661Z"
   },
   {
    "duration": 42,
    "start_time": "2022-02-16T16:07:44.688Z"
   },
   {
    "duration": 22,
    "start_time": "2022-02-16T16:07:44.732Z"
   },
   {
    "duration": 20,
    "start_time": "2022-02-16T16:07:44.756Z"
   },
   {
    "duration": 1562,
    "start_time": "2022-02-16T16:07:44.778Z"
   },
   {
    "duration": 5,
    "start_time": "2022-02-16T16:07:46.341Z"
   },
   {
    "duration": 7,
    "start_time": "2022-02-16T16:07:46.347Z"
   },
   {
    "duration": 7,
    "start_time": "2022-02-16T16:07:46.356Z"
   },
   {
    "duration": 6,
    "start_time": "2022-02-16T16:07:46.365Z"
   },
   {
    "duration": 10,
    "start_time": "2022-02-16T16:07:46.373Z"
   },
   {
    "duration": 17,
    "start_time": "2022-02-16T16:55:31.089Z"
   },
   {
    "duration": 1375,
    "start_time": "2022-02-17T11:13:39.054Z"
   },
   {
    "duration": 437,
    "start_time": "2022-02-17T11:13:40.432Z"
   },
   {
    "duration": 46,
    "start_time": "2022-02-17T11:13:40.873Z"
   },
   {
    "duration": 53,
    "start_time": "2022-02-17T11:13:40.922Z"
   },
   {
    "duration": 30,
    "start_time": "2022-02-17T11:13:40.978Z"
   },
   {
    "duration": 14,
    "start_time": "2022-02-17T11:13:41.011Z"
   },
   {
    "duration": 65,
    "start_time": "2022-02-17T11:13:41.027Z"
   },
   {
    "duration": 7,
    "start_time": "2022-02-17T11:13:41.098Z"
   },
   {
    "duration": 13,
    "start_time": "2022-02-17T11:13:41.113Z"
   },
   {
    "duration": 59,
    "start_time": "2022-02-17T11:13:41.128Z"
   },
   {
    "duration": 11,
    "start_time": "2022-02-17T11:13:41.190Z"
   },
   {
    "duration": 12,
    "start_time": "2022-02-17T11:13:41.204Z"
   },
   {
    "duration": 5,
    "start_time": "2022-02-17T11:13:41.219Z"
   },
   {
    "duration": 7,
    "start_time": "2022-02-17T11:13:41.226Z"
   },
   {
    "duration": 28,
    "start_time": "2022-02-17T11:13:41.235Z"
   },
   {
    "duration": 30,
    "start_time": "2022-02-17T11:13:41.266Z"
   },
   {
    "duration": 22,
    "start_time": "2022-02-17T11:13:41.298Z"
   },
   {
    "duration": 21,
    "start_time": "2022-02-17T11:13:41.323Z"
   },
   {
    "duration": 39,
    "start_time": "2022-02-17T11:13:41.362Z"
   },
   {
    "duration": 28,
    "start_time": "2022-02-17T11:13:41.404Z"
   },
   {
    "duration": 42,
    "start_time": "2022-02-17T11:13:41.435Z"
   },
   {
    "duration": 23,
    "start_time": "2022-02-17T11:13:41.481Z"
   },
   {
    "duration": 26,
    "start_time": "2022-02-17T11:13:41.511Z"
   },
   {
    "duration": 33,
    "start_time": "2022-02-17T11:13:41.561Z"
   },
   {
    "duration": 20,
    "start_time": "2022-02-17T11:13:41.597Z"
   },
   {
    "duration": 7,
    "start_time": "2022-02-17T11:13:41.619Z"
   },
   {
    "duration": 36,
    "start_time": "2022-02-17T11:13:41.629Z"
   },
   {
    "duration": 22,
    "start_time": "2022-02-17T11:13:41.668Z"
   },
   {
    "duration": 37,
    "start_time": "2022-02-17T11:13:41.693Z"
   },
   {
    "duration": 64,
    "start_time": "2022-02-17T11:13:41.732Z"
   },
   {
    "duration": 14,
    "start_time": "2022-02-17T11:13:41.799Z"
   },
   {
    "duration": 75,
    "start_time": "2022-02-17T11:13:41.815Z"
   },
   {
    "duration": 70,
    "start_time": "2022-02-17T11:13:41.893Z"
   },
   {
    "duration": 36,
    "start_time": "2022-02-17T11:13:41.968Z"
   },
   {
    "duration": 17,
    "start_time": "2022-02-17T11:13:42.006Z"
   },
   {
    "duration": 82,
    "start_time": "2022-02-17T11:13:42.025Z"
   },
   {
    "duration": 7,
    "start_time": "2022-02-17T11:13:42.110Z"
   },
   {
    "duration": 26,
    "start_time": "2022-02-17T11:13:42.120Z"
   },
   {
    "duration": 192,
    "start_time": "2022-02-17T11:13:42.149Z"
   },
   {
    "duration": 54,
    "start_time": "2022-02-17T11:13:42.343Z"
   },
   {
    "duration": 37,
    "start_time": "2022-02-17T11:13:42.399Z"
   },
   {
    "duration": 48,
    "start_time": "2022-02-17T11:13:42.439Z"
   },
   {
    "duration": 29,
    "start_time": "2022-02-17T11:13:42.490Z"
   },
   {
    "duration": 2930,
    "start_time": "2022-02-17T11:13:42.522Z"
   },
   {
    "duration": 16,
    "start_time": "2022-02-17T11:13:45.462Z"
   },
   {
    "duration": 11,
    "start_time": "2022-02-17T11:13:45.482Z"
   },
   {
    "duration": 21,
    "start_time": "2022-02-17T11:13:45.496Z"
   },
   {
    "duration": 21,
    "start_time": "2022-02-17T11:13:45.520Z"
   },
   {
    "duration": 22,
    "start_time": "2022-02-17T11:13:45.544Z"
   },
   {
    "duration": 878,
    "start_time": "2022-02-17T16:57:08.022Z"
   },
   {
    "duration": 344,
    "start_time": "2022-02-17T16:57:08.902Z"
   },
   {
    "duration": 29,
    "start_time": "2022-02-17T16:57:09.249Z"
   },
   {
    "duration": 20,
    "start_time": "2022-02-17T16:57:09.280Z"
   },
   {
    "duration": 17,
    "start_time": "2022-02-17T16:57:09.302Z"
   },
   {
    "duration": 9,
    "start_time": "2022-02-17T16:57:09.322Z"
   },
   {
    "duration": 17,
    "start_time": "2022-02-17T16:57:09.360Z"
   },
   {
    "duration": 10,
    "start_time": "2022-02-17T16:57:09.379Z"
   },
   {
    "duration": 8,
    "start_time": "2022-02-17T16:57:09.391Z"
   },
   {
    "duration": 8,
    "start_time": "2022-02-17T16:57:09.401Z"
   },
   {
    "duration": 7,
    "start_time": "2022-02-17T16:57:09.411Z"
   },
   {
    "duration": 13,
    "start_time": "2022-02-17T16:57:09.420Z"
   },
   {
    "duration": 28,
    "start_time": "2022-02-17T16:57:09.434Z"
   },
   {
    "duration": 21,
    "start_time": "2022-02-17T16:57:09.465Z"
   },
   {
    "duration": 20,
    "start_time": "2022-02-17T16:57:09.487Z"
   },
   {
    "duration": 11,
    "start_time": "2022-02-17T16:57:09.510Z"
   },
   {
    "duration": 15,
    "start_time": "2022-02-17T16:57:09.523Z"
   },
   {
    "duration": 19,
    "start_time": "2022-02-17T16:57:09.540Z"
   },
   {
    "duration": 24,
    "start_time": "2022-02-17T16:57:09.561Z"
   },
   {
    "duration": 22,
    "start_time": "2022-02-17T16:57:09.587Z"
   },
   {
    "duration": 13,
    "start_time": "2022-02-17T16:57:09.611Z"
   },
   {
    "duration": 35,
    "start_time": "2022-02-17T16:57:09.626Z"
   },
   {
    "duration": 22,
    "start_time": "2022-02-17T16:57:09.665Z"
   },
   {
    "duration": 17,
    "start_time": "2022-02-17T16:57:09.689Z"
   },
   {
    "duration": 21,
    "start_time": "2022-02-17T16:57:09.707Z"
   },
   {
    "duration": 34,
    "start_time": "2022-02-17T16:57:09.730Z"
   },
   {
    "duration": 11,
    "start_time": "2022-02-17T16:57:09.766Z"
   },
   {
    "duration": 12,
    "start_time": "2022-02-17T16:57:09.779Z"
   },
   {
    "duration": 25,
    "start_time": "2022-02-17T16:57:09.792Z"
   },
   {
    "duration": 49,
    "start_time": "2022-02-17T16:57:09.819Z"
   },
   {
    "duration": 11,
    "start_time": "2022-02-17T16:57:09.870Z"
   },
   {
    "duration": 33,
    "start_time": "2022-02-17T16:57:09.883Z"
   },
   {
    "duration": 68,
    "start_time": "2022-02-17T16:57:09.918Z"
   },
   {
    "duration": 19,
    "start_time": "2022-02-17T16:57:09.988Z"
   },
   {
    "duration": 11,
    "start_time": "2022-02-17T16:57:10.009Z"
   },
   {
    "duration": 75,
    "start_time": "2022-02-17T16:57:10.022Z"
   },
   {
    "duration": 5,
    "start_time": "2022-02-17T16:57:10.099Z"
   },
   {
    "duration": 12,
    "start_time": "2022-02-17T16:57:10.105Z"
   },
   {
    "duration": 105,
    "start_time": "2022-02-17T16:57:10.119Z"
   },
   {
    "duration": 33,
    "start_time": "2022-02-17T16:57:10.226Z"
   },
   {
    "duration": 25,
    "start_time": "2022-02-17T16:57:10.261Z"
   },
   {
    "duration": 18,
    "start_time": "2022-02-17T16:57:10.288Z"
   },
   {
    "duration": 17,
    "start_time": "2022-02-17T16:57:10.307Z"
   },
   {
    "duration": 1647,
    "start_time": "2022-02-17T16:57:10.326Z"
   },
   {
    "duration": 5,
    "start_time": "2022-02-17T16:57:11.975Z"
   },
   {
    "duration": 6,
    "start_time": "2022-02-17T16:57:11.982Z"
   },
   {
    "duration": 17,
    "start_time": "2022-02-17T16:57:11.990Z"
   },
   {
    "duration": 8,
    "start_time": "2022-02-17T16:57:12.008Z"
   },
   {
    "duration": 10,
    "start_time": "2022-02-17T16:57:12.018Z"
   }
  ],
  "kernelspec": {
   "display_name": "Python 3 (ipykernel)",
   "language": "python",
   "name": "python3"
  },
  "language_info": {
   "codemirror_mode": {
    "name": "ipython",
    "version": 3
   },
   "file_extension": ".py",
   "mimetype": "text/x-python",
   "name": "python",
   "nbconvert_exporter": "python",
   "pygments_lexer": "ipython3",
   "version": "3.9.5"
  },
  "toc": {
   "base_numbering": 1,
   "nav_menu": {},
   "number_sections": true,
   "sideBar": true,
   "skip_h1_title": true,
   "title_cell": "Table of Contents",
   "title_sidebar": "Contents",
   "toc_cell": false,
   "toc_position": {},
   "toc_section_display": true,
   "toc_window_display": false
  }
 },
 "nbformat": 4,
 "nbformat_minor": 2
}
