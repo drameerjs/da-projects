{
 "cells": [
  {
   "cell_type": "markdown",
   "metadata": {},
   "source": [
    "Hello Ameer!\n",
    "\n",
    "My name is Olga. I'm happy to review your project today. \n",
    "\n",
    "When I will see mistake at the first time, I will just point it out. I let you find it and fix it by yourself. I'm trying to prepare you to work as an Data Analyst. SO, at a real job, your team lead will do the same. But if you can't handle this task yet, I will give you a more accurate hint at the next iteration.\n",
    "\n",
    "Below you will find my comments - **please do not move, modify or delete them**.\n",
    "\n",
    "You can find my comments in green, yellow or red boxes like this:\n",
    "\n",
    "\n",
    "<div class=\"alert alert-block alert-success\">\n",
    "<b>Reviewer's comment</b> <a class=\"tocSkip\"></a>\n",
    "    \n",
    "Success. Everything is done succesfully.\n",
    "</div>\n",
    "\n",
    "\n",
    "<div class=\"alert alert-block alert-warning\">\n",
    "<b>Reviewer's comment</b> <a class=\"tocSkip\"></a>\n",
    "    \n",
    "Remarks. Some recommendations.\n",
    "</div>\n",
    "\n",
    "\n",
    "<div class=\"alert alert-block alert-danger\">\n",
    "    \n",
    "<b>Reviewer's comment</b> <a class=\"tocSkip\"></a>\n",
    "    \n",
    "    \n",
    "Needs fixing. The block requires some corrections. Work can't be accepted with the red comments.\n",
    "</div>\n",
    "\n",
    "\n",
    "You can answer me by using this: \n",
    "\n",
    "<div class=\"alert alert-block alert-info\">\n",
    "<b>Student answer.</b> <a class=\"tocSkip\"></a>\n",
    "\n",
    "Text here.\n",
    "</div>"
   ]
  },
  {
   "cell_type": "markdown",
   "metadata": {},
   "source": [
    "<div class=\"alert alert-block alert-success\">\n",
    "<b>Overallv reviewer's comment</b> <a class=\"tocSkip\"></a>\n",
    "    \n",
    "Ameer, thank you for sending your project. You've done a really good job on it!\n",
    "\n",
    "While there's room for improvement, on the whole, your project is impressive good.I like your filling missing numbers in your project. Also you ploted excellent graphs! You did a great job! I am really impressed!\n",
    "\n",
    "<span class=\"text-danger\">There are few things that need to be corrected in your project. They're mostly minor issues that are easy to fix. I wrote comments, please, check them. </span>\n",
    "    \n",
    "Every issue with our code is a chance for us to learn something new.\n",
    "\n",
    "Good luck! :)\n",
    "    \n",
    "</div>\n",
    "\n",
    "<div class=\"alert alert-block alert-success\">\n",
    "<b>Overallv reviewer's comment. V.2.</b> <a class=\"tocSkip\"></a>   \n",
    "    \n",
    "Hello Ameer! I really appreciate the corrections you sent in! Thanks for taking the time to do so.\n",
    "    \n",
    "\n",
    "I'm glad to say that your project has been accepted.Congratulations!    \n",
    "\n",
    "Keep up the good work, and good luck on the next sprint! :) </div>\n",
    "\n",
    "<div class=\"alert alert-block alert-warning\">\n",
    "<b>For your future projects</b> <a class=\"tocSkip\"></a>\n",
    "    \n",
    "\n",
    "- We should always add a title, axis labels and grid on graph. It help to understand our graph correctly.\n",
    "\n",
    "\n",
    "\n",
    "\n",
    "</div>"
   ]
  },
  {
   "cell_type": "markdown",
   "metadata": {},
   "source": [
    "# What sells a car?\n",
    "\n",
    "I'm an analyst at Crankshaft List. Hundreds of free advertisements for vehicles are published on the site every day. I need to study data collected over the last few years and determine which factors influence the price of a vehicle."
   ]
  },
  {
   "cell_type": "markdown",
   "metadata": {},
   "source": [
    "**Purpose of Project:**\n",
    "The purpose of the project is to study and analyze the data we have in hand about an advertising website for selling vehicles of all types. We need to find the correlation between several factors such as; vehicle color, vehicle model , vehicle type etc, to the price and conclude whether those factors have an impact on it (price) or not.\n",
    "\n",
    "**Plan of Work:**\n",
    "We are going to start by inspecting the data we were given, look for errors, duplicates, missing values etc. Once we are done with these steps, we proceed into fixing these problematic data by removing unnecessary trash data, correcting all the values that can be corrected and retaining missing values where possible. Then we move on with our clean data and start studying the correlations between the factors we have, in-order to conclude whether any of them really affects the price the vehicle was advertisied for."
   ]
  },
  {
   "cell_type": "markdown",
   "metadata": {},
   "source": [
    "<div class=\"alert alert-block alert-success\">\n",
    "<b>Reviewer's comment</b> <a class=\"tocSkip\"></a>\n",
    "    \n",
    "Thank you for the introduction!\n",
    "</div>"
   ]
  },
  {
   "cell_type": "markdown",
   "metadata": {},
   "source": [
    "## Initialization"
   ]
  },
  {
   "cell_type": "markdown",
   "metadata": {},
   "source": [
    "We start by loading the required libraries for our project:"
   ]
  },
  {
   "cell_type": "code",
   "execution_count": 1,
   "metadata": {},
   "outputs": [],
   "source": [
    "# Loading all the libraries\n",
    "import pandas as pd\n",
    "import numpy as np\n",
    "import datetime as dt\n"
   ]
  },
  {
   "cell_type": "markdown",
   "metadata": {},
   "source": [
    "<div class=\"alert alert-block alert-success\">\n",
    "<b>Reviewer's comment</b> <a class=\"tocSkip\"></a>\n",
    "    \n",
    "Good idea to import all libraries here! </div>\n"
   ]
  },
  {
   "cell_type": "markdown",
   "metadata": {},
   "source": [
    "### Loading data"
   ]
  },
  {
   "cell_type": "markdown",
   "metadata": {},
   "source": [
    "Next we load the files of data that we have:"
   ]
  },
  {
   "cell_type": "code",
   "execution_count": 2,
   "metadata": {},
   "outputs": [],
   "source": [
    "# Loading the data file into a DataFrame\n",
    "vehicle_data = pd.read_csv('/datasets/vehicles_us.csv')"
   ]
  },
  {
   "cell_type": "code",
   "execution_count": 3,
   "metadata": {},
   "outputs": [
    {
     "data": {
      "text/html": [
       "<div>\n",
       "<style scoped>\n",
       "    .dataframe tbody tr th:only-of-type {\n",
       "        vertical-align: middle;\n",
       "    }\n",
       "\n",
       "    .dataframe tbody tr th {\n",
       "        vertical-align: top;\n",
       "    }\n",
       "\n",
       "    .dataframe thead th {\n",
       "        text-align: right;\n",
       "    }\n",
       "</style>\n",
       "<table border=\"1\" class=\"dataframe\">\n",
       "  <thead>\n",
       "    <tr style=\"text-align: right;\">\n",
       "      <th></th>\n",
       "      <th>price</th>\n",
       "      <th>model_year</th>\n",
       "      <th>model</th>\n",
       "      <th>condition</th>\n",
       "      <th>cylinders</th>\n",
       "      <th>fuel</th>\n",
       "      <th>odometer</th>\n",
       "      <th>transmission</th>\n",
       "      <th>type</th>\n",
       "      <th>paint_color</th>\n",
       "      <th>is_4wd</th>\n",
       "      <th>date_posted</th>\n",
       "      <th>days_listed</th>\n",
       "    </tr>\n",
       "  </thead>\n",
       "  <tbody>\n",
       "    <tr>\n",
       "      <td>0</td>\n",
       "      <td>9400</td>\n",
       "      <td>2011.0</td>\n",
       "      <td>bmw x5</td>\n",
       "      <td>good</td>\n",
       "      <td>6.0</td>\n",
       "      <td>gas</td>\n",
       "      <td>145000.0</td>\n",
       "      <td>automatic</td>\n",
       "      <td>SUV</td>\n",
       "      <td>NaN</td>\n",
       "      <td>1.0</td>\n",
       "      <td>2018-06-23</td>\n",
       "      <td>19</td>\n",
       "    </tr>\n",
       "    <tr>\n",
       "      <td>1</td>\n",
       "      <td>25500</td>\n",
       "      <td>NaN</td>\n",
       "      <td>ford f-150</td>\n",
       "      <td>good</td>\n",
       "      <td>6.0</td>\n",
       "      <td>gas</td>\n",
       "      <td>88705.0</td>\n",
       "      <td>automatic</td>\n",
       "      <td>pickup</td>\n",
       "      <td>white</td>\n",
       "      <td>1.0</td>\n",
       "      <td>2018-10-19</td>\n",
       "      <td>50</td>\n",
       "    </tr>\n",
       "    <tr>\n",
       "      <td>2</td>\n",
       "      <td>5500</td>\n",
       "      <td>2013.0</td>\n",
       "      <td>hyundai sonata</td>\n",
       "      <td>like new</td>\n",
       "      <td>4.0</td>\n",
       "      <td>gas</td>\n",
       "      <td>110000.0</td>\n",
       "      <td>automatic</td>\n",
       "      <td>sedan</td>\n",
       "      <td>red</td>\n",
       "      <td>NaN</td>\n",
       "      <td>2019-02-07</td>\n",
       "      <td>79</td>\n",
       "    </tr>\n",
       "    <tr>\n",
       "      <td>3</td>\n",
       "      <td>1500</td>\n",
       "      <td>2003.0</td>\n",
       "      <td>ford f-150</td>\n",
       "      <td>fair</td>\n",
       "      <td>8.0</td>\n",
       "      <td>gas</td>\n",
       "      <td>NaN</td>\n",
       "      <td>automatic</td>\n",
       "      <td>pickup</td>\n",
       "      <td>NaN</td>\n",
       "      <td>NaN</td>\n",
       "      <td>2019-03-22</td>\n",
       "      <td>9</td>\n",
       "    </tr>\n",
       "    <tr>\n",
       "      <td>4</td>\n",
       "      <td>14900</td>\n",
       "      <td>2017.0</td>\n",
       "      <td>chrysler 200</td>\n",
       "      <td>excellent</td>\n",
       "      <td>4.0</td>\n",
       "      <td>gas</td>\n",
       "      <td>80903.0</td>\n",
       "      <td>automatic</td>\n",
       "      <td>sedan</td>\n",
       "      <td>black</td>\n",
       "      <td>NaN</td>\n",
       "      <td>2019-04-02</td>\n",
       "      <td>28</td>\n",
       "    </tr>\n",
       "    <tr>\n",
       "      <td>...</td>\n",
       "      <td>...</td>\n",
       "      <td>...</td>\n",
       "      <td>...</td>\n",
       "      <td>...</td>\n",
       "      <td>...</td>\n",
       "      <td>...</td>\n",
       "      <td>...</td>\n",
       "      <td>...</td>\n",
       "      <td>...</td>\n",
       "      <td>...</td>\n",
       "      <td>...</td>\n",
       "      <td>...</td>\n",
       "      <td>...</td>\n",
       "    </tr>\n",
       "    <tr>\n",
       "      <td>51520</td>\n",
       "      <td>9249</td>\n",
       "      <td>2013.0</td>\n",
       "      <td>nissan maxima</td>\n",
       "      <td>like new</td>\n",
       "      <td>6.0</td>\n",
       "      <td>gas</td>\n",
       "      <td>88136.0</td>\n",
       "      <td>automatic</td>\n",
       "      <td>sedan</td>\n",
       "      <td>black</td>\n",
       "      <td>NaN</td>\n",
       "      <td>2018-10-03</td>\n",
       "      <td>37</td>\n",
       "    </tr>\n",
       "    <tr>\n",
       "      <td>51521</td>\n",
       "      <td>2700</td>\n",
       "      <td>2002.0</td>\n",
       "      <td>honda civic</td>\n",
       "      <td>salvage</td>\n",
       "      <td>4.0</td>\n",
       "      <td>gas</td>\n",
       "      <td>181500.0</td>\n",
       "      <td>automatic</td>\n",
       "      <td>sedan</td>\n",
       "      <td>white</td>\n",
       "      <td>NaN</td>\n",
       "      <td>2018-11-14</td>\n",
       "      <td>22</td>\n",
       "    </tr>\n",
       "    <tr>\n",
       "      <td>51522</td>\n",
       "      <td>3950</td>\n",
       "      <td>2009.0</td>\n",
       "      <td>hyundai sonata</td>\n",
       "      <td>excellent</td>\n",
       "      <td>4.0</td>\n",
       "      <td>gas</td>\n",
       "      <td>128000.0</td>\n",
       "      <td>automatic</td>\n",
       "      <td>sedan</td>\n",
       "      <td>blue</td>\n",
       "      <td>NaN</td>\n",
       "      <td>2018-11-15</td>\n",
       "      <td>32</td>\n",
       "    </tr>\n",
       "    <tr>\n",
       "      <td>51523</td>\n",
       "      <td>7455</td>\n",
       "      <td>2013.0</td>\n",
       "      <td>toyota corolla</td>\n",
       "      <td>good</td>\n",
       "      <td>4.0</td>\n",
       "      <td>gas</td>\n",
       "      <td>139573.0</td>\n",
       "      <td>automatic</td>\n",
       "      <td>sedan</td>\n",
       "      <td>black</td>\n",
       "      <td>NaN</td>\n",
       "      <td>2018-07-02</td>\n",
       "      <td>71</td>\n",
       "    </tr>\n",
       "    <tr>\n",
       "      <td>51524</td>\n",
       "      <td>6300</td>\n",
       "      <td>2014.0</td>\n",
       "      <td>nissan altima</td>\n",
       "      <td>good</td>\n",
       "      <td>4.0</td>\n",
       "      <td>gas</td>\n",
       "      <td>NaN</td>\n",
       "      <td>automatic</td>\n",
       "      <td>sedan</td>\n",
       "      <td>NaN</td>\n",
       "      <td>NaN</td>\n",
       "      <td>2018-06-05</td>\n",
       "      <td>10</td>\n",
       "    </tr>\n",
       "  </tbody>\n",
       "</table>\n",
       "<p>51525 rows × 13 columns</p>\n",
       "</div>"
      ],
      "text/plain": [
       "       price  model_year           model  condition  cylinders fuel  odometer  \\\n",
       "0       9400      2011.0          bmw x5       good        6.0  gas  145000.0   \n",
       "1      25500         NaN      ford f-150       good        6.0  gas   88705.0   \n",
       "2       5500      2013.0  hyundai sonata   like new        4.0  gas  110000.0   \n",
       "3       1500      2003.0      ford f-150       fair        8.0  gas       NaN   \n",
       "4      14900      2017.0    chrysler 200  excellent        4.0  gas   80903.0   \n",
       "...      ...         ...             ...        ...        ...  ...       ...   \n",
       "51520   9249      2013.0   nissan maxima   like new        6.0  gas   88136.0   \n",
       "51521   2700      2002.0     honda civic    salvage        4.0  gas  181500.0   \n",
       "51522   3950      2009.0  hyundai sonata  excellent        4.0  gas  128000.0   \n",
       "51523   7455      2013.0  toyota corolla       good        4.0  gas  139573.0   \n",
       "51524   6300      2014.0   nissan altima       good        4.0  gas       NaN   \n",
       "\n",
       "      transmission    type paint_color  is_4wd date_posted  days_listed  \n",
       "0        automatic     SUV         NaN     1.0  2018-06-23           19  \n",
       "1        automatic  pickup       white     1.0  2018-10-19           50  \n",
       "2        automatic   sedan         red     NaN  2019-02-07           79  \n",
       "3        automatic  pickup         NaN     NaN  2019-03-22            9  \n",
       "4        automatic   sedan       black     NaN  2019-04-02           28  \n",
       "...            ...     ...         ...     ...         ...          ...  \n",
       "51520    automatic   sedan       black     NaN  2018-10-03           37  \n",
       "51521    automatic   sedan       white     NaN  2018-11-14           22  \n",
       "51522    automatic   sedan        blue     NaN  2018-11-15           32  \n",
       "51523    automatic   sedan       black     NaN  2018-07-02           71  \n",
       "51524    automatic   sedan         NaN     NaN  2018-06-05           10  \n",
       "\n",
       "[51525 rows x 13 columns]"
      ]
     },
     "execution_count": 3,
     "metadata": {},
     "output_type": "execute_result"
    }
   ],
   "source": [
    "# Taking a look at our dataframe\n",
    "vehicle_data"
   ]
  },
  {
   "cell_type": "markdown",
   "metadata": {},
   "source": [
    "### Explore initial data"
   ]
  },
  {
   "cell_type": "markdown",
   "metadata": {},
   "source": [
    "The dataset contains the following fields:\n",
    "- `price`\n",
    "- `model_year`\n",
    "- `model`\n",
    "- `condition`\n",
    "- `cylinders`\n",
    "- `fuel` — gas, diesel, etc.\n",
    "- `odometer` — the vehicle's mileage when the ad was published\n",
    "- `transmission`\n",
    "- `paint_color`\n",
    "- `is_4wd` — whether the vehicle has 4-wheel drive (Boolean type)\n",
    "- `date_posted` — the date the ad was published\n",
    "- `days_listed` — from publication to removal\n",
    "\n",
    "**Next** we are going to look at the dataframe information/describition:"
   ]
  },
  {
   "cell_type": "code",
   "execution_count": 4,
   "metadata": {},
   "outputs": [
    {
     "name": "stdout",
     "output_type": "stream",
     "text": [
      "<class 'pandas.core.frame.DataFrame'>\n",
      "RangeIndex: 51525 entries, 0 to 51524\n",
      "Data columns (total 13 columns):\n",
      "price           51525 non-null int64\n",
      "model_year      47906 non-null float64\n",
      "model           51525 non-null object\n",
      "condition       51525 non-null object\n",
      "cylinders       46265 non-null float64\n",
      "fuel            51525 non-null object\n",
      "odometer        43633 non-null float64\n",
      "transmission    51525 non-null object\n",
      "type            51525 non-null object\n",
      "paint_color     42258 non-null object\n",
      "is_4wd          25572 non-null float64\n",
      "date_posted     51525 non-null object\n",
      "days_listed     51525 non-null int64\n",
      "dtypes: float64(4), int64(2), object(7)\n",
      "memory usage: 5.1+ MB\n"
     ]
    }
   ],
   "source": [
    "# print the general/summary information about the DataFrame\n",
    "vehicle_data.info()"
   ]
  },
  {
   "cell_type": "code",
   "execution_count": 5,
   "metadata": {},
   "outputs": [
    {
     "data": {
      "text/html": [
       "<div>\n",
       "<style scoped>\n",
       "    .dataframe tbody tr th:only-of-type {\n",
       "        vertical-align: middle;\n",
       "    }\n",
       "\n",
       "    .dataframe tbody tr th {\n",
       "        vertical-align: top;\n",
       "    }\n",
       "\n",
       "    .dataframe thead th {\n",
       "        text-align: right;\n",
       "    }\n",
       "</style>\n",
       "<table border=\"1\" class=\"dataframe\">\n",
       "  <thead>\n",
       "    <tr style=\"text-align: right;\">\n",
       "      <th></th>\n",
       "      <th>price</th>\n",
       "      <th>model_year</th>\n",
       "      <th>cylinders</th>\n",
       "      <th>odometer</th>\n",
       "      <th>is_4wd</th>\n",
       "      <th>days_listed</th>\n",
       "    </tr>\n",
       "  </thead>\n",
       "  <tbody>\n",
       "    <tr>\n",
       "      <td>count</td>\n",
       "      <td>51525.000000</td>\n",
       "      <td>47906.000000</td>\n",
       "      <td>46265.000000</td>\n",
       "      <td>43633.000000</td>\n",
       "      <td>25572.0</td>\n",
       "      <td>51525.00000</td>\n",
       "    </tr>\n",
       "    <tr>\n",
       "      <td>mean</td>\n",
       "      <td>12132.464920</td>\n",
       "      <td>2009.750470</td>\n",
       "      <td>6.125235</td>\n",
       "      <td>115553.461738</td>\n",
       "      <td>1.0</td>\n",
       "      <td>39.55476</td>\n",
       "    </tr>\n",
       "    <tr>\n",
       "      <td>std</td>\n",
       "      <td>10040.803015</td>\n",
       "      <td>6.282065</td>\n",
       "      <td>1.660360</td>\n",
       "      <td>65094.611341</td>\n",
       "      <td>0.0</td>\n",
       "      <td>28.20427</td>\n",
       "    </tr>\n",
       "    <tr>\n",
       "      <td>min</td>\n",
       "      <td>1.000000</td>\n",
       "      <td>1908.000000</td>\n",
       "      <td>3.000000</td>\n",
       "      <td>0.000000</td>\n",
       "      <td>1.0</td>\n",
       "      <td>0.00000</td>\n",
       "    </tr>\n",
       "    <tr>\n",
       "      <td>25%</td>\n",
       "      <td>5000.000000</td>\n",
       "      <td>2006.000000</td>\n",
       "      <td>4.000000</td>\n",
       "      <td>70000.000000</td>\n",
       "      <td>1.0</td>\n",
       "      <td>19.00000</td>\n",
       "    </tr>\n",
       "    <tr>\n",
       "      <td>50%</td>\n",
       "      <td>9000.000000</td>\n",
       "      <td>2011.000000</td>\n",
       "      <td>6.000000</td>\n",
       "      <td>113000.000000</td>\n",
       "      <td>1.0</td>\n",
       "      <td>33.00000</td>\n",
       "    </tr>\n",
       "    <tr>\n",
       "      <td>75%</td>\n",
       "      <td>16839.000000</td>\n",
       "      <td>2014.000000</td>\n",
       "      <td>8.000000</td>\n",
       "      <td>155000.000000</td>\n",
       "      <td>1.0</td>\n",
       "      <td>53.00000</td>\n",
       "    </tr>\n",
       "    <tr>\n",
       "      <td>max</td>\n",
       "      <td>375000.000000</td>\n",
       "      <td>2019.000000</td>\n",
       "      <td>12.000000</td>\n",
       "      <td>990000.000000</td>\n",
       "      <td>1.0</td>\n",
       "      <td>271.00000</td>\n",
       "    </tr>\n",
       "  </tbody>\n",
       "</table>\n",
       "</div>"
      ],
      "text/plain": [
       "               price    model_year     cylinders       odometer   is_4wd  \\\n",
       "count   51525.000000  47906.000000  46265.000000   43633.000000  25572.0   \n",
       "mean    12132.464920   2009.750470      6.125235  115553.461738      1.0   \n",
       "std     10040.803015      6.282065      1.660360   65094.611341      0.0   \n",
       "min         1.000000   1908.000000      3.000000       0.000000      1.0   \n",
       "25%      5000.000000   2006.000000      4.000000   70000.000000      1.0   \n",
       "50%      9000.000000   2011.000000      6.000000  113000.000000      1.0   \n",
       "75%     16839.000000   2014.000000      8.000000  155000.000000      1.0   \n",
       "max    375000.000000   2019.000000     12.000000  990000.000000      1.0   \n",
       "\n",
       "       days_listed  \n",
       "count  51525.00000  \n",
       "mean      39.55476  \n",
       "std       28.20427  \n",
       "min        0.00000  \n",
       "25%       19.00000  \n",
       "50%       33.00000  \n",
       "75%       53.00000  \n",
       "max      271.00000  "
      ]
     },
     "execution_count": 5,
     "metadata": {},
     "output_type": "execute_result"
    }
   ],
   "source": [
    "vehicle_data.describe()"
   ]
  },
  {
   "cell_type": "markdown",
   "metadata": {},
   "source": [
    "We haven't started yet and we can already see some errors in our data just by looking at the information and the dataframe itself. The *info()* method provided us with information about missing values in columns like; model_year, cylinders, odometer, paint_color and is_4wd. the *describe()* method provided us with information about the values we have in our dataframes, here we can see some problematic values as well such as; **minimum price is 1**.\n",
    "\n",
    "Now that we know that we have some problematic values/missing values, lets move on and find them:"
   ]
  },
  {
   "cell_type": "code",
   "execution_count": 6,
   "metadata": {},
   "outputs": [
    {
     "data": {
      "text/plain": [
       "price               0\n",
       "model_year       3619\n",
       "model               0\n",
       "condition           0\n",
       "cylinders        5260\n",
       "fuel                0\n",
       "odometer         7892\n",
       "transmission        0\n",
       "type                0\n",
       "paint_color      9267\n",
       "is_4wd          25953\n",
       "date_posted         0\n",
       "days_listed         0\n",
       "dtype: int64"
      ]
     },
     "execution_count": 6,
     "metadata": {},
     "output_type": "execute_result"
    }
   ],
   "source": [
    "# Find how many missing values we got\n",
    "vehicle_data.isnull().sum()"
   ]
  },
  {
   "cell_type": "markdown",
   "metadata": {},
   "source": [
    "As we mentioned above, we have some columns that include alot of missing values. It is interesting to find the distribution of missing values in every column. Below we check this matter:"
   ]
  },
  {
   "cell_type": "code",
   "execution_count": 7,
   "metadata": {},
   "outputs": [
    {
     "name": "stdout",
     "output_type": "stream",
     "text": [
      "price : 0%\n",
      "model_year : 7%\n",
      "model : 0%\n",
      "condition : 0%\n",
      "cylinders : 10%\n",
      "fuel : 0%\n",
      "odometer : 15%\n",
      "transmission : 0%\n",
      "type : 0%\n",
      "paint_color : 18%\n",
      "is_4wd : 50%\n",
      "date_posted : 0%\n",
      "days_listed : 0%\n"
     ]
    }
   ],
   "source": [
    "for col in vehicle_data:\n",
    "    col_missing = vehicle_data[col].isna().sum()\n",
    "    print('{} : {:.0%}'.format(col, col_missing/len(vehicle_data)))"
   ]
  },
  {
   "cell_type": "markdown",
   "metadata": {},
   "source": [
    "Looking at the percentages of missing values in each column, they all are greater than 5% (which is ~2500 values) therefore we have to work on getting them back as correctly as humanily possible using all the data we have in hand and using the mean/median of each column when needed."
   ]
  },
  {
   "cell_type": "markdown",
   "metadata": {},
   "source": [
    "### Conclusions and further steps\n",
    "\n",
    "So far, we only looked at the data from the outside (using *info()* and *describe()* methods). We already calculated how much missing values we have and which columns excatly has them. Surprisingly the **price** has no missing values, hoo-ray!\n",
    "But on the other hand, some other columns have some massive amounts of missing values like the **is_4wd** column and **paint_color** column. As bad as that looks, there is still hope that we still can find the main factors that may have an impact on the prices, because for instance; missing values in **cylinders** column can be retrieved using data from different rows with similar values (similar models have similar cylinders) and other values can be filled with mean/median. Besides, it is safe to assume that paint color or wheel-drive type aren't really among those factors and it is more likely to be the **condition**, **odometer**, **model** and **model_year**.\n",
    "\n",
    "**Next:** we are going to treat the missing values we have found in this phase of the project and then correct any values that need to be corrected (or removed when necessary). Then removing any duplicates (Although our data doesn't have a unique identifier for every row, but it is still safe to assume that two rows with identical values and identical **date_posted** are possibily duplicates, *BUT ITS EVEN BETTER IF WE FIND OUT THAT THERE'S NO DUPLICATES ANYWAY*)"
   ]
  },
  {
   "cell_type": "markdown",
   "metadata": {},
   "source": [
    "<div class=\"alert alert-block alert-success\">\n",
    "<b>Reviewer's comment</b> <a class=\"tocSkip\"></a>\n",
    "    \n",
    "So, we see basic information about our data. Too much missing values here. Let's do something!:) </div>\n"
   ]
  },
  {
   "cell_type": "markdown",
   "metadata": {},
   "source": [
    "## Treating missing values (if any)"
   ]
  },
  {
   "cell_type": "markdown",
   "metadata": {},
   "source": [
    "We'll start with filling the values of the **model_year** column since it has the least amount of missing values:\n",
    "\n",
    "Since we can't really guess what years each of these missing values were therefore we are going to be using the mean or median to fill in the missing values."
   ]
  },
  {
   "cell_type": "code",
   "execution_count": 8,
   "metadata": {},
   "outputs": [
    {
     "data": {
      "text/plain": [
       "3619"
      ]
     },
     "execution_count": 8,
     "metadata": {},
     "output_type": "execute_result"
    }
   ],
   "source": [
    "# Check how many missing values we have again\n",
    "vehicle_data['model_year'].isna().sum()"
   ]
  },
  {
   "cell_type": "code",
   "execution_count": 9,
   "metadata": {
    "scrolled": true
   },
   "outputs": [
    {
     "data": {
      "text/plain": [
       "count    47906.000000\n",
       "mean      2009.750470\n",
       "std          6.282065\n",
       "min       1908.000000\n",
       "25%       2006.000000\n",
       "50%       2011.000000\n",
       "75%       2014.000000\n",
       "max       2019.000000\n",
       "Name: model_year, dtype: float64"
      ]
     },
     "execution_count": 9,
     "metadata": {},
     "output_type": "execute_result"
    }
   ],
   "source": [
    "# Checking for mean and median\n",
    "vehicle_data['model_year'].describe()"
   ]
  },
  {
   "cell_type": "code",
   "execution_count": 10,
   "metadata": {},
   "outputs": [],
   "source": [
    "# filling model year missing values with the median\n",
    "vehicle_data['model_year'] = vehicle_data.groupby('model')['model_year'].transform(lambda grp: grp.fillna(grp.median()))"
   ]
  },
  {
   "cell_type": "code",
   "execution_count": 11,
   "metadata": {
    "scrolled": true
   },
   "outputs": [
    {
     "data": {
      "text/plain": [
       "0"
      ]
     },
     "execution_count": 11,
     "metadata": {},
     "output_type": "execute_result"
    }
   ],
   "source": [
    "# checking if we still have missing values\n",
    "vehicle_data['model_year'].isna().sum()"
   ]
  },
  {
   "cell_type": "markdown",
   "metadata": {},
   "source": [
    "<div class=\"alert alert-block alert-danger\">\n",
    "<s><b>Reviewer's comment</b> <a class=\"tocSkip\"></a>\n",
    "    \n",
    "We should use model and model year for filling missing numbers.It show us more real numbers. </div>\n",
    "\n",
    "<div class=\"alert alert-block alert-info\">\n",
    "<b>Student answer.</b> <a class=\"tocSkip\"></a>\n",
    "Thanks for the tip! Although I don't think this method will help us get more accurate results but I agree with you about that this may give us  more real numbers (For instance, old models with missing values will now have old model years since I am comparing them with their group now and not with the whole dataset, we might not end up with more accurate numbers, but we're defenitely ending with more real numbers) \n",
    "    \n",
    "    (FIXED)\n",
    "</div>\n",
    "    \n",
    "<div class=\"alert alert-block alert-success\">\n",
    "<b>Reviewer's comment. V.2.</b> <a class=\"tocSkip\"></a>\n",
    "    \n",
    "Here we need mean results, so, this method is good. Well done! :)  </div>"
   ]
  },
  {
   "cell_type": "markdown",
   "metadata": {},
   "source": [
    "We filled the missing values of the **model_year** column with the median because the mean was pulled down due to the minimum model year being very low (1908).\n",
    "\n",
    "Next we'll treat missing values in the **cylinders** column:"
   ]
  },
  {
   "cell_type": "code",
   "execution_count": 12,
   "metadata": {},
   "outputs": [
    {
     "data": {
      "text/plain": [
       "5260"
      ]
     },
     "execution_count": 12,
     "metadata": {},
     "output_type": "execute_result"
    }
   ],
   "source": [
    "# Check how many missing values we have again\n",
    "vehicle_data['cylinders'].isna().sum()"
   ]
  },
  {
   "cell_type": "code",
   "execution_count": 13,
   "metadata": {},
   "outputs": [],
   "source": [
    "# filling cylinder's missing values using data we already have\n",
    "vehicle_data['cylinders'] = vehicle_data.groupby('model')['cylinders'].transform(lambda grp: grp.fillna(grp.median()))\n"
   ]
  },
  {
   "cell_type": "code",
   "execution_count": 14,
   "metadata": {},
   "outputs": [
    {
     "data": {
      "text/plain": [
       "0"
      ]
     },
     "execution_count": 14,
     "metadata": {},
     "output_type": "execute_result"
    }
   ],
   "source": [
    "# Checking if we still have missing values\n",
    "vehicle_data['cylinders'].isnull().sum()"
   ]
  },
  {
   "cell_type": "markdown",
   "metadata": {},
   "source": [
    "We are aware that some models of similar types have different cylinders number (due to an error possibily) therefore we grouped the data by the **model** and filled in the missing values for vehicles according to the median of the group it belongs to. (Assuming that the majority of vehicles of each model have the correct cylinders number, then the median is the right choice here!)\n",
    "\n",
    "Next we we'll treat missing values in the **odometer** column:"
   ]
  },
  {
   "cell_type": "code",
   "execution_count": 15,
   "metadata": {},
   "outputs": [
    {
     "data": {
      "text/plain": [
       "7892"
      ]
     },
     "execution_count": 15,
     "metadata": {},
     "output_type": "execute_result"
    }
   ],
   "source": [
    "# Check how many missing values we have again\n",
    "vehicle_data['odometer'].isna().sum()"
   ]
  },
  {
   "cell_type": "code",
   "execution_count": 16,
   "metadata": {},
   "outputs": [],
   "source": [
    "# filling missing values in odometer with the help of grouping by model_year\n",
    "vehicle_data['odometer'] = vehicle_data.groupby('model_year')['odometer'].transform(lambda grp: grp.fillna(grp.median()) if len(grp) > 1 else grp.fillna(vehicle_data['odometer'].median()))"
   ]
  },
  {
   "cell_type": "markdown",
   "metadata": {},
   "source": [
    "<div class=\"alert alert-block alert-warning\">\n",
    "<b>Reviewer's comment</b> <a class=\"tocSkip\"></a>\n",
    "    \n",
    "Tha same here about model. :)  </div>\n",
    "\n",
    "<div class=\"alert alert-block alert-info\">\n",
    "<b>Student answer.</b> <a class=\"tocSkip\"></a>\n",
    "    Hello Olga, here I grouped by the <b>model_year</b> only because , on average, people drive more or less the same mileage per year (the average driver) so I wanted to base my work on that. I don't think that the <b>model</b> is actually a factor to be considered here because mileage driven is after all related to the vehicle owner/driver and not to the model. For instance, you can have two Skodas (same model), one belongs to someone that travels 30km to work, and the other Skoda belongs to someone else that travels 100km for work, although both are the same <b>model</b> but that doesn't mean they travel the same amount of miles/kms just because they are the same model. I hope I made myself clear! If you meant something else above then I will be glad to know about that in your response.\n",
    "    Thank you by the way!\n",
    "</div>\n",
    "\n"
   ]
  },
  {
   "cell_type": "markdown",
   "metadata": {},
   "source": [
    "<div class=\"alert alert-block alert-warning\">\n",
    "<b>Reviewer's comment. V.2.</b> <a class=\"tocSkip\"></a>\n",
    "    \n",
    "You explanation is very good. Than you! Here in model coulmn we have full name: bmw x5, hyundai sonata,toyota corolla,honda civic, etc. So, we can say, for example bmw x5 can have bigger odometrs value than honda civic. Because this car is SUV and perhaps owner use it often. We cannot use type because we have very different  models. \n",
    "\n",
    "By the way, only year is a great idea. :)  </div>"
   ]
  },
  {
   "cell_type": "code",
   "execution_count": 17,
   "metadata": {},
   "outputs": [
    {
     "data": {
      "text/plain": [
       "0"
      ]
     },
     "execution_count": 17,
     "metadata": {},
     "output_type": "execute_result"
    }
   ],
   "source": [
    "# Checking if we still have missing values\n",
    "vehicle_data['odometer'].isnull().sum()"
   ]
  },
  {
   "cell_type": "markdown",
   "metadata": {},
   "source": [
    "What we did above is; we filled the missing values of the **odometer** column with the help of groups of the same **model_year**. We divided the vehicles into groups of the same model year and filled in missing values according to the median of each group.\n",
    "\n",
    "Next we'll treat missing values in the **paint_color** column:"
   ]
  },
  {
   "cell_type": "code",
   "execution_count": 18,
   "metadata": {},
   "outputs": [
    {
     "data": {
      "text/plain": [
       "9267"
      ]
     },
     "execution_count": 18,
     "metadata": {},
     "output_type": "execute_result"
    }
   ],
   "source": [
    "# Check how many missing values we have again\n",
    "vehicle_data['paint_color'].isna().sum()"
   ]
  },
  {
   "cell_type": "code",
   "execution_count": 19,
   "metadata": {},
   "outputs": [],
   "source": [
    "# Filling the missing values in the paint column\n",
    "vehicle_data['paint_color'] = vehicle_data['paint_color'].fillna(\"unknown\")"
   ]
  },
  {
   "cell_type": "code",
   "execution_count": 20,
   "metadata": {},
   "outputs": [
    {
     "data": {
      "text/plain": [
       "white      10029\n",
       "unknown     9267\n",
       "black       7692\n",
       "silver      6244\n",
       "grey        5037\n",
       "blue        4475\n",
       "red         4421\n",
       "green       1396\n",
       "brown       1223\n",
       "custom      1153\n",
       "yellow       255\n",
       "orange       231\n",
       "purple       102\n",
       "Name: paint_color, dtype: int64"
      ]
     },
     "execution_count": 20,
     "metadata": {},
     "output_type": "execute_result"
    }
   ],
   "source": [
    "# checking for value counts\n",
    "vehicle_data['paint_color'].value_counts()"
   ]
  },
  {
   "cell_type": "markdown",
   "metadata": {},
   "source": [
    "Regarding missing values in the **paint_color** column, we decided to fill them with the value 'unknown' due to the fact that there's no median/mean for non-numeric values and we don't have a way to guess each vehicles colors. Besides, missing values in this column could've been intentional due to vehicle owners not filling in this information.\n",
    "\n",
    "Finally, we'll treat the missing values in the column with most missing values which is **is_4wd**:"
   ]
  },
  {
   "cell_type": "code",
   "execution_count": 21,
   "metadata": {},
   "outputs": [
    {
     "data": {
      "text/plain": [
       "25953"
      ]
     },
     "execution_count": 21,
     "metadata": {},
     "output_type": "execute_result"
    }
   ],
   "source": [
    "# Check how many missing values we have again\n",
    "vehicle_data['is_4wd'].isna().sum()"
   ]
  },
  {
   "cell_type": "code",
   "execution_count": 22,
   "metadata": {},
   "outputs": [],
   "source": [
    "# we fill missing values of the 4wd\n",
    "vehicle_data['is_4wd'] = vehicle_data['is_4wd'].fillna(0)"
   ]
  },
  {
   "cell_type": "markdown",
   "metadata": {},
   "source": [
    "<div class=\"alert alert-block alert-danger\">\n",
    "<s><b>Reviewer's comment</b> <a class=\"tocSkip\"></a>\n",
    "    \n",
    "is 4wd is a bool column. We should fill by 0 here. </div>\n",
    "\n",
    "<div class=\"alert alert-block alert-info\">\n",
    "<b>Student answer.</b> <a class=\"tocSkip\"></a>\n",
    "Hey again!\n",
    "    Thanks for the tip, I didn't bother to check the values of this column at the start. But when I read your message, I checked for them and found out that all of the values that weren't missing were 1's that means it is safe to assume that the ones that are missing are actually/possibly zeros.\n",
    "    \n",
    "    (FIXED)\n",
    "</div>\n"
   ]
  },
  {
   "cell_type": "markdown",
   "metadata": {},
   "source": [
    "<div class=\"alert alert-block alert-success\">\n",
    "<b>Reviewer's comment. V.2.</b> <a class=\"tocSkip\"></a>\n",
    "    \n",
    "Good practice to check columns at the beginning. :)   </div>"
   ]
  },
  {
   "cell_type": "code",
   "execution_count": 23,
   "metadata": {
    "scrolled": true
   },
   "outputs": [
    {
     "data": {
      "text/plain": [
       "0"
      ]
     },
     "execution_count": 23,
     "metadata": {},
     "output_type": "execute_result"
    }
   ],
   "source": [
    "# Check if have any missing values still\n",
    "vehicle_data['is_4wd'].isnull().sum()\n"
   ]
  },
  {
   "cell_type": "markdown",
   "metadata": {},
   "source": [
    "We had alot of missing values in the **is_4wd** column. But one thing that we noticed was that all the values we had were 1's, that means it is pretty reasonable to assume that all of the missing values are actually 0's and they were missing due to a systematic error. Therefore we decided to fill all the missing values with zeros.\n",
    "\n",
    "Thusfar, we filled all the missing values we detected at the start, to make sure of that we can run another test:"
   ]
  },
  {
   "cell_type": "code",
   "execution_count": 24,
   "metadata": {},
   "outputs": [
    {
     "name": "stdout",
     "output_type": "stream",
     "text": [
      "<class 'pandas.core.frame.DataFrame'>\n",
      "RangeIndex: 51525 entries, 0 to 51524\n",
      "Data columns (total 13 columns):\n",
      "price           51525 non-null int64\n",
      "model_year      51525 non-null float64\n",
      "model           51525 non-null object\n",
      "condition       51525 non-null object\n",
      "cylinders       51525 non-null float64\n",
      "fuel            51525 non-null object\n",
      "odometer        51525 non-null float64\n",
      "transmission    51525 non-null object\n",
      "type            51525 non-null object\n",
      "paint_color     51525 non-null object\n",
      "is_4wd          51525 non-null float64\n",
      "date_posted     51525 non-null object\n",
      "days_listed     51525 non-null int64\n",
      "dtypes: float64(4), int64(2), object(7)\n",
      "memory usage: 5.1+ MB\n"
     ]
    }
   ],
   "source": [
    "# one last check to check if we still have missing values\n",
    "vehicle_data.info()"
   ]
  },
  {
   "cell_type": "markdown",
   "metadata": {},
   "source": [
    "All columns have 51525 non-null values. We don't have any missing values."
   ]
  },
  {
   "cell_type": "markdown",
   "metadata": {},
   "source": [
    "## Fixing data types and values"
   ]
  },
  {
   "cell_type": "markdown",
   "metadata": {},
   "source": [
    "Looking at the dataframe we have, we have some other issues to deal with.\n",
    "\n",
    "First, it is good to cast the **date_posted** column from str to datetime since datetime has alot more features as a date than a normal str."
   ]
  },
  {
   "cell_type": "code",
   "execution_count": 25,
   "metadata": {},
   "outputs": [
    {
     "name": "stdout",
     "output_type": "stream",
     "text": [
      "<class 'pandas.core.frame.DataFrame'>\n",
      "RangeIndex: 51525 entries, 0 to 51524\n",
      "Data columns (total 13 columns):\n",
      "price           51525 non-null int64\n",
      "model_year      51525 non-null float64\n",
      "model           51525 non-null object\n",
      "condition       51525 non-null object\n",
      "cylinders       51525 non-null float64\n",
      "fuel            51525 non-null object\n",
      "odometer        51525 non-null float64\n",
      "transmission    51525 non-null object\n",
      "type            51525 non-null object\n",
      "paint_color     51525 non-null object\n",
      "is_4wd          51525 non-null float64\n",
      "date_posted     51525 non-null datetime64[ns]\n",
      "days_listed     51525 non-null int64\n",
      "dtypes: datetime64[ns](1), float64(4), int64(2), object(6)\n",
      "memory usage: 5.1+ MB\n"
     ]
    }
   ],
   "source": [
    "# Changing the type of date_posted to dt\n",
    "vehicle_data['date_posted'] = pd.to_datetime(vehicle_data['date_posted'], format='%Y-%m-%d')\n",
    "vehicle_data.info()"
   ]
  },
  {
   "cell_type": "code",
   "execution_count": 26,
   "metadata": {},
   "outputs": [],
   "source": [
    "# Adding 3 new columns for the day of the week, month and year the advert was posted on\n",
    "vehicle_data['day_posted'] = pd.to_datetime(vehicle_data['date_posted']).dt.weekday\n",
    "vehicle_data['month_posted'] = pd.to_datetime(vehicle_data['date_posted']).dt.month\n",
    "vehicle_data['year_posted'] = pd.to_datetime(vehicle_data['date_posted']).dt.year"
   ]
  },
  {
   "cell_type": "code",
   "execution_count": 27,
   "metadata": {},
   "outputs": [
    {
     "data": {
      "text/html": [
       "<div>\n",
       "<style scoped>\n",
       "    .dataframe tbody tr th:only-of-type {\n",
       "        vertical-align: middle;\n",
       "    }\n",
       "\n",
       "    .dataframe tbody tr th {\n",
       "        vertical-align: top;\n",
       "    }\n",
       "\n",
       "    .dataframe thead th {\n",
       "        text-align: right;\n",
       "    }\n",
       "</style>\n",
       "<table border=\"1\" class=\"dataframe\">\n",
       "  <thead>\n",
       "    <tr style=\"text-align: right;\">\n",
       "      <th></th>\n",
       "      <th>price</th>\n",
       "      <th>model_year</th>\n",
       "      <th>model</th>\n",
       "      <th>condition</th>\n",
       "      <th>cylinders</th>\n",
       "      <th>fuel</th>\n",
       "      <th>odometer</th>\n",
       "      <th>transmission</th>\n",
       "      <th>type</th>\n",
       "      <th>paint_color</th>\n",
       "      <th>is_4wd</th>\n",
       "      <th>date_posted</th>\n",
       "      <th>days_listed</th>\n",
       "      <th>day_posted</th>\n",
       "      <th>month_posted</th>\n",
       "      <th>year_posted</th>\n",
       "    </tr>\n",
       "  </thead>\n",
       "  <tbody>\n",
       "    <tr>\n",
       "      <td>0</td>\n",
       "      <td>9400</td>\n",
       "      <td>2011.0</td>\n",
       "      <td>bmw x5</td>\n",
       "      <td>good</td>\n",
       "      <td>6.0</td>\n",
       "      <td>gas</td>\n",
       "      <td>145000.0</td>\n",
       "      <td>automatic</td>\n",
       "      <td>SUV</td>\n",
       "      <td>unknown</td>\n",
       "      <td>1.0</td>\n",
       "      <td>2018-06-23</td>\n",
       "      <td>19</td>\n",
       "      <td>5</td>\n",
       "      <td>6</td>\n",
       "      <td>2018</td>\n",
       "    </tr>\n",
       "    <tr>\n",
       "      <td>1</td>\n",
       "      <td>25500</td>\n",
       "      <td>2011.0</td>\n",
       "      <td>ford f-150</td>\n",
       "      <td>good</td>\n",
       "      <td>6.0</td>\n",
       "      <td>gas</td>\n",
       "      <td>88705.0</td>\n",
       "      <td>automatic</td>\n",
       "      <td>pickup</td>\n",
       "      <td>white</td>\n",
       "      <td>1.0</td>\n",
       "      <td>2018-10-19</td>\n",
       "      <td>50</td>\n",
       "      <td>4</td>\n",
       "      <td>10</td>\n",
       "      <td>2018</td>\n",
       "    </tr>\n",
       "    <tr>\n",
       "      <td>2</td>\n",
       "      <td>5500</td>\n",
       "      <td>2013.0</td>\n",
       "      <td>hyundai sonata</td>\n",
       "      <td>like new</td>\n",
       "      <td>4.0</td>\n",
       "      <td>gas</td>\n",
       "      <td>110000.0</td>\n",
       "      <td>automatic</td>\n",
       "      <td>sedan</td>\n",
       "      <td>red</td>\n",
       "      <td>0.0</td>\n",
       "      <td>2019-02-07</td>\n",
       "      <td>79</td>\n",
       "      <td>3</td>\n",
       "      <td>2</td>\n",
       "      <td>2019</td>\n",
       "    </tr>\n",
       "    <tr>\n",
       "      <td>3</td>\n",
       "      <td>1500</td>\n",
       "      <td>2003.0</td>\n",
       "      <td>ford f-150</td>\n",
       "      <td>fair</td>\n",
       "      <td>8.0</td>\n",
       "      <td>gas</td>\n",
       "      <td>161397.0</td>\n",
       "      <td>automatic</td>\n",
       "      <td>pickup</td>\n",
       "      <td>unknown</td>\n",
       "      <td>0.0</td>\n",
       "      <td>2019-03-22</td>\n",
       "      <td>9</td>\n",
       "      <td>4</td>\n",
       "      <td>3</td>\n",
       "      <td>2019</td>\n",
       "    </tr>\n",
       "    <tr>\n",
       "      <td>4</td>\n",
       "      <td>14900</td>\n",
       "      <td>2017.0</td>\n",
       "      <td>chrysler 200</td>\n",
       "      <td>excellent</td>\n",
       "      <td>4.0</td>\n",
       "      <td>gas</td>\n",
       "      <td>80903.0</td>\n",
       "      <td>automatic</td>\n",
       "      <td>sedan</td>\n",
       "      <td>black</td>\n",
       "      <td>0.0</td>\n",
       "      <td>2019-04-02</td>\n",
       "      <td>28</td>\n",
       "      <td>1</td>\n",
       "      <td>4</td>\n",
       "      <td>2019</td>\n",
       "    </tr>\n",
       "  </tbody>\n",
       "</table>\n",
       "</div>"
      ],
      "text/plain": [
       "   price  model_year           model  condition  cylinders fuel  odometer  \\\n",
       "0   9400      2011.0          bmw x5       good        6.0  gas  145000.0   \n",
       "1  25500      2011.0      ford f-150       good        6.0  gas   88705.0   \n",
       "2   5500      2013.0  hyundai sonata   like new        4.0  gas  110000.0   \n",
       "3   1500      2003.0      ford f-150       fair        8.0  gas  161397.0   \n",
       "4  14900      2017.0    chrysler 200  excellent        4.0  gas   80903.0   \n",
       "\n",
       "  transmission    type paint_color  is_4wd date_posted  days_listed  \\\n",
       "0    automatic     SUV     unknown     1.0  2018-06-23           19   \n",
       "1    automatic  pickup       white     1.0  2018-10-19           50   \n",
       "2    automatic   sedan         red     0.0  2019-02-07           79   \n",
       "3    automatic  pickup     unknown     0.0  2019-03-22            9   \n",
       "4    automatic   sedan       black     0.0  2019-04-02           28   \n",
       "\n",
       "   day_posted  month_posted  year_posted  \n",
       "0           5             6         2018  \n",
       "1           4            10         2018  \n",
       "2           3             2         2019  \n",
       "3           4             3         2019  \n",
       "4           1             4         2019  "
      ]
     },
     "execution_count": 27,
     "metadata": {},
     "output_type": "execute_result"
    }
   ],
   "source": [
    "vehicle_data.head()"
   ]
  },
  {
   "cell_type": "markdown",
   "metadata": {},
   "source": [
    "Now that we have convereted **date_posted** from str to datetime, there's one other change we can do to our dateframe, which is changing the type of the **condition** from str to a numerical type (out of 5 for example, 5 for best condition, 0 for worst)."
   ]
  },
  {
   "cell_type": "code",
   "execution_count": 28,
   "metadata": {},
   "outputs": [
    {
     "data": {
      "text/plain": [
       "3    24773\n",
       "2    20145\n",
       "4     4742\n",
       "1     1607\n",
       "5      143\n",
       "0      115\n",
       "Name: condition, dtype: int64"
      ]
     },
     "execution_count": 28,
     "metadata": {},
     "output_type": "execute_result"
    }
   ],
   "source": [
    "# It might help to replace the condition values with something that can be manipulated more easily\n",
    "conditions = ['salvage', 'fair', 'good', 'excellent', 'like new', 'new']\n",
    "for index, cond in enumerate(conditions):\n",
    "    vehicle_data['condition'] = vehicle_data['condition'].replace([cond],index)\n",
    "\n",
    "vehicle_data['condition'].value_counts()"
   ]
  },
  {
   "cell_type": "markdown",
   "metadata": {},
   "source": [
    "**Next** we are going to dive more in our dataframe, check for more values that needs to be added or changed!"
   ]
  },
  {
   "cell_type": "markdown",
   "metadata": {},
   "source": [
    "## Enrich data"
   ]
  },
  {
   "cell_type": "markdown",
   "metadata": {},
   "source": [
    "For easier analysis, it is always good to get as much information as possible from the data we have and add this information into the dataframe for later use if it was of importance. For example, we can add vehicle **age** to our dataframe, this can help us determine whether the age of a vehicle has an impact on the price it was advertisied for."
   ]
  },
  {
   "cell_type": "code",
   "execution_count": 29,
   "metadata": {},
   "outputs": [],
   "source": [
    "# Adding the vehicle's age when the ad was placed\n",
    "vehicle_data['model_year'].astype('int64').dtypes\n",
    "vehicle_data['age'] = vehicle_data['year_posted'] - vehicle_data['model_year'] + 1"
   ]
  },
  {
   "cell_type": "markdown",
   "metadata": {},
   "source": [
    "<div class=\"alert alert-block alert-danger\">\n",
    "<s><b>Reviewer's comment</b> <a class=\"tocSkip\"></a>\n",
    "    \n",
    "For age we need to use:\n",
    "vehicle_data['age'] = vehicle_data['year_posted'] - vehicle_data['model_year'] + 1\n",
    "    \n",
    "It help us to avoid nulls. :)\n",
    "\n",
    "</div>\n",
    "\n",
    "<div class=\"alert alert-block alert-info\">\n",
    "<b>Student answer.</b> <a class=\"tocSkip\"></a>\n",
    "I fixed this one. Thanks!\n",
    "    Though, I didn't quite understand how we could end up with a null after a simple arithmetic, would love to know more about this for future projects!\n",
    "    \n",
    "    (FIXED)\n",
    "</div>\n",
    "\n",
    "<div class=\"alert alert-block alert-success\">\n",
    "<b>Reviewer's comment. V.2.</b> <a class=\"tocSkip\"></a>\n",
    "    \n",
    "It is not real arithmetic. It is arithmetic from car dealers. Thay said: \"you bought a car and it is not new. 1 years old.\". \n",
    "   \n",
    "Perhas, I bought a carin 1st of January. And I want to sell it now. Februrary. Really, not full year, but we should write 1. The also reason that our age column is int and it cannot be 0 for mile_per_year.  :)  </div>"
   ]
  },
  {
   "cell_type": "code",
   "execution_count": 30,
   "metadata": {},
   "outputs": [
    {
     "data": {
      "text/plain": [
       "111.0"
      ]
     },
     "execution_count": 30,
     "metadata": {},
     "output_type": "execute_result"
    }
   ],
   "source": [
    "# checking that we have filled the column correctly\n",
    "vehicle_data['age'].max()"
   ]
  },
  {
   "cell_type": "code",
   "execution_count": 31,
   "metadata": {},
   "outputs": [
    {
     "data": {
      "text/plain": [
       "1.0"
      ]
     },
     "execution_count": 31,
     "metadata": {},
     "output_type": "execute_result"
    }
   ],
   "source": [
    "vehicle_data['age'].min()"
   ]
  },
  {
   "cell_type": "code",
   "execution_count": 32,
   "metadata": {},
   "outputs": [
    {
     "data": {
      "text/plain": [
       "0"
      ]
     },
     "execution_count": 32,
     "metadata": {},
     "output_type": "execute_result"
    }
   ],
   "source": [
    "# Checking if we missed any values\n",
    "vehicle_data['age'].isna().sum()"
   ]
  },
  {
   "cell_type": "markdown",
   "metadata": {},
   "source": [
    "Another example would be, adding vehicle's average mile per year (according to a vehicle's age & odometer) as done below:"
   ]
  },
  {
   "cell_type": "code",
   "execution_count": 33,
   "metadata": {},
   "outputs": [],
   "source": [
    "# Adding the vehicle's average mileage per year\n",
    "vehicle_data['mile_per_year'] = vehicle_data['odometer'] // vehicle_data['age']\n",
    "vehicle_data.loc[vehicle_data['age'] == 0, 'mile_per_year'] = vehicle_data['odometer'] # because we had some NaN values and zero-division"
   ]
  },
  {
   "cell_type": "code",
   "execution_count": 34,
   "metadata": {},
   "outputs": [
    {
     "data": {
      "text/plain": [
       "0"
      ]
     },
     "execution_count": 34,
     "metadata": {},
     "output_type": "execute_result"
    }
   ],
   "source": [
    "# Checking if we have any missing values\n",
    "vehicle_data['mile_per_year'].isna().sum()"
   ]
  },
  {
   "cell_type": "markdown",
   "metadata": {},
   "source": [
    "We created a new column **mile_per_year** and filled it with the average total miles/age for any vehicle with age above 1 year(s). For vehicles with 1 or 0 year(s) we simply copied the data of the vehicle's odometer.\n",
    "\n",
    "Now we have two new columns, **age** and **mile_per_year** that will help us in our further investigation!\n",
    "\n",
    "Lets take a look at the dataframe after the changes:"
   ]
  },
  {
   "cell_type": "code",
   "execution_count": 35,
   "metadata": {},
   "outputs": [
    {
     "data": {
      "text/html": [
       "<div>\n",
       "<style scoped>\n",
       "    .dataframe tbody tr th:only-of-type {\n",
       "        vertical-align: middle;\n",
       "    }\n",
       "\n",
       "    .dataframe tbody tr th {\n",
       "        vertical-align: top;\n",
       "    }\n",
       "\n",
       "    .dataframe thead th {\n",
       "        text-align: right;\n",
       "    }\n",
       "</style>\n",
       "<table border=\"1\" class=\"dataframe\">\n",
       "  <thead>\n",
       "    <tr style=\"text-align: right;\">\n",
       "      <th></th>\n",
       "      <th>price</th>\n",
       "      <th>model_year</th>\n",
       "      <th>model</th>\n",
       "      <th>condition</th>\n",
       "      <th>cylinders</th>\n",
       "      <th>fuel</th>\n",
       "      <th>odometer</th>\n",
       "      <th>transmission</th>\n",
       "      <th>type</th>\n",
       "      <th>paint_color</th>\n",
       "      <th>is_4wd</th>\n",
       "      <th>date_posted</th>\n",
       "      <th>days_listed</th>\n",
       "      <th>day_posted</th>\n",
       "      <th>month_posted</th>\n",
       "      <th>year_posted</th>\n",
       "      <th>age</th>\n",
       "      <th>mile_per_year</th>\n",
       "    </tr>\n",
       "  </thead>\n",
       "  <tbody>\n",
       "    <tr>\n",
       "      <td>0</td>\n",
       "      <td>9400</td>\n",
       "      <td>2011.0</td>\n",
       "      <td>bmw x5</td>\n",
       "      <td>2</td>\n",
       "      <td>6.0</td>\n",
       "      <td>gas</td>\n",
       "      <td>145000.0</td>\n",
       "      <td>automatic</td>\n",
       "      <td>SUV</td>\n",
       "      <td>unknown</td>\n",
       "      <td>1.0</td>\n",
       "      <td>2018-06-23</td>\n",
       "      <td>19</td>\n",
       "      <td>5</td>\n",
       "      <td>6</td>\n",
       "      <td>2018</td>\n",
       "      <td>8.0</td>\n",
       "      <td>18125.0</td>\n",
       "    </tr>\n",
       "    <tr>\n",
       "      <td>1</td>\n",
       "      <td>25500</td>\n",
       "      <td>2011.0</td>\n",
       "      <td>ford f-150</td>\n",
       "      <td>2</td>\n",
       "      <td>6.0</td>\n",
       "      <td>gas</td>\n",
       "      <td>88705.0</td>\n",
       "      <td>automatic</td>\n",
       "      <td>pickup</td>\n",
       "      <td>white</td>\n",
       "      <td>1.0</td>\n",
       "      <td>2018-10-19</td>\n",
       "      <td>50</td>\n",
       "      <td>4</td>\n",
       "      <td>10</td>\n",
       "      <td>2018</td>\n",
       "      <td>8.0</td>\n",
       "      <td>11088.0</td>\n",
       "    </tr>\n",
       "    <tr>\n",
       "      <td>2</td>\n",
       "      <td>5500</td>\n",
       "      <td>2013.0</td>\n",
       "      <td>hyundai sonata</td>\n",
       "      <td>4</td>\n",
       "      <td>4.0</td>\n",
       "      <td>gas</td>\n",
       "      <td>110000.0</td>\n",
       "      <td>automatic</td>\n",
       "      <td>sedan</td>\n",
       "      <td>red</td>\n",
       "      <td>0.0</td>\n",
       "      <td>2019-02-07</td>\n",
       "      <td>79</td>\n",
       "      <td>3</td>\n",
       "      <td>2</td>\n",
       "      <td>2019</td>\n",
       "      <td>7.0</td>\n",
       "      <td>15714.0</td>\n",
       "    </tr>\n",
       "    <tr>\n",
       "      <td>3</td>\n",
       "      <td>1500</td>\n",
       "      <td>2003.0</td>\n",
       "      <td>ford f-150</td>\n",
       "      <td>1</td>\n",
       "      <td>8.0</td>\n",
       "      <td>gas</td>\n",
       "      <td>161397.0</td>\n",
       "      <td>automatic</td>\n",
       "      <td>pickup</td>\n",
       "      <td>unknown</td>\n",
       "      <td>0.0</td>\n",
       "      <td>2019-03-22</td>\n",
       "      <td>9</td>\n",
       "      <td>4</td>\n",
       "      <td>3</td>\n",
       "      <td>2019</td>\n",
       "      <td>17.0</td>\n",
       "      <td>9493.0</td>\n",
       "    </tr>\n",
       "    <tr>\n",
       "      <td>4</td>\n",
       "      <td>14900</td>\n",
       "      <td>2017.0</td>\n",
       "      <td>chrysler 200</td>\n",
       "      <td>3</td>\n",
       "      <td>4.0</td>\n",
       "      <td>gas</td>\n",
       "      <td>80903.0</td>\n",
       "      <td>automatic</td>\n",
       "      <td>sedan</td>\n",
       "      <td>black</td>\n",
       "      <td>0.0</td>\n",
       "      <td>2019-04-02</td>\n",
       "      <td>28</td>\n",
       "      <td>1</td>\n",
       "      <td>4</td>\n",
       "      <td>2019</td>\n",
       "      <td>3.0</td>\n",
       "      <td>26967.0</td>\n",
       "    </tr>\n",
       "    <tr>\n",
       "      <td>5</td>\n",
       "      <td>14990</td>\n",
       "      <td>2014.0</td>\n",
       "      <td>chrysler 300</td>\n",
       "      <td>3</td>\n",
       "      <td>6.0</td>\n",
       "      <td>gas</td>\n",
       "      <td>57954.0</td>\n",
       "      <td>automatic</td>\n",
       "      <td>sedan</td>\n",
       "      <td>black</td>\n",
       "      <td>1.0</td>\n",
       "      <td>2018-06-20</td>\n",
       "      <td>15</td>\n",
       "      <td>2</td>\n",
       "      <td>6</td>\n",
       "      <td>2018</td>\n",
       "      <td>5.0</td>\n",
       "      <td>11590.0</td>\n",
       "    </tr>\n",
       "    <tr>\n",
       "      <td>6</td>\n",
       "      <td>12990</td>\n",
       "      <td>2015.0</td>\n",
       "      <td>toyota camry</td>\n",
       "      <td>3</td>\n",
       "      <td>4.0</td>\n",
       "      <td>gas</td>\n",
       "      <td>79212.0</td>\n",
       "      <td>automatic</td>\n",
       "      <td>sedan</td>\n",
       "      <td>white</td>\n",
       "      <td>0.0</td>\n",
       "      <td>2018-12-27</td>\n",
       "      <td>73</td>\n",
       "      <td>3</td>\n",
       "      <td>12</td>\n",
       "      <td>2018</td>\n",
       "      <td>4.0</td>\n",
       "      <td>19803.0</td>\n",
       "    </tr>\n",
       "    <tr>\n",
       "      <td>7</td>\n",
       "      <td>15990</td>\n",
       "      <td>2013.0</td>\n",
       "      <td>honda pilot</td>\n",
       "      <td>3</td>\n",
       "      <td>6.0</td>\n",
       "      <td>gas</td>\n",
       "      <td>109473.0</td>\n",
       "      <td>automatic</td>\n",
       "      <td>SUV</td>\n",
       "      <td>black</td>\n",
       "      <td>1.0</td>\n",
       "      <td>2019-01-07</td>\n",
       "      <td>68</td>\n",
       "      <td>0</td>\n",
       "      <td>1</td>\n",
       "      <td>2019</td>\n",
       "      <td>7.0</td>\n",
       "      <td>15639.0</td>\n",
       "    </tr>\n",
       "    <tr>\n",
       "      <td>8</td>\n",
       "      <td>11500</td>\n",
       "      <td>2012.0</td>\n",
       "      <td>kia sorento</td>\n",
       "      <td>3</td>\n",
       "      <td>4.0</td>\n",
       "      <td>gas</td>\n",
       "      <td>104174.0</td>\n",
       "      <td>automatic</td>\n",
       "      <td>SUV</td>\n",
       "      <td>unknown</td>\n",
       "      <td>1.0</td>\n",
       "      <td>2018-07-16</td>\n",
       "      <td>19</td>\n",
       "      <td>0</td>\n",
       "      <td>7</td>\n",
       "      <td>2018</td>\n",
       "      <td>7.0</td>\n",
       "      <td>14882.0</td>\n",
       "    </tr>\n",
       "    <tr>\n",
       "      <td>9</td>\n",
       "      <td>9200</td>\n",
       "      <td>2008.0</td>\n",
       "      <td>honda pilot</td>\n",
       "      <td>3</td>\n",
       "      <td>6.0</td>\n",
       "      <td>gas</td>\n",
       "      <td>147191.0</td>\n",
       "      <td>automatic</td>\n",
       "      <td>SUV</td>\n",
       "      <td>blue</td>\n",
       "      <td>1.0</td>\n",
       "      <td>2019-02-15</td>\n",
       "      <td>17</td>\n",
       "      <td>4</td>\n",
       "      <td>2</td>\n",
       "      <td>2019</td>\n",
       "      <td>12.0</td>\n",
       "      <td>12265.0</td>\n",
       "    </tr>\n",
       "    <tr>\n",
       "      <td>10</td>\n",
       "      <td>19500</td>\n",
       "      <td>2011.0</td>\n",
       "      <td>chevrolet silverado 1500</td>\n",
       "      <td>3</td>\n",
       "      <td>8.0</td>\n",
       "      <td>gas</td>\n",
       "      <td>128413.0</td>\n",
       "      <td>automatic</td>\n",
       "      <td>pickup</td>\n",
       "      <td>black</td>\n",
       "      <td>1.0</td>\n",
       "      <td>2018-09-17</td>\n",
       "      <td>38</td>\n",
       "      <td>0</td>\n",
       "      <td>9</td>\n",
       "      <td>2018</td>\n",
       "      <td>8.0</td>\n",
       "      <td>16051.0</td>\n",
       "    </tr>\n",
       "    <tr>\n",
       "      <td>11</td>\n",
       "      <td>8990</td>\n",
       "      <td>2012.0</td>\n",
       "      <td>honda accord</td>\n",
       "      <td>3</td>\n",
       "      <td>4.0</td>\n",
       "      <td>gas</td>\n",
       "      <td>111142.0</td>\n",
       "      <td>automatic</td>\n",
       "      <td>sedan</td>\n",
       "      <td>grey</td>\n",
       "      <td>0.0</td>\n",
       "      <td>2019-03-28</td>\n",
       "      <td>29</td>\n",
       "      <td>3</td>\n",
       "      <td>3</td>\n",
       "      <td>2019</td>\n",
       "      <td>8.0</td>\n",
       "      <td>13892.0</td>\n",
       "    </tr>\n",
       "    <tr>\n",
       "      <td>12</td>\n",
       "      <td>18990</td>\n",
       "      <td>2012.0</td>\n",
       "      <td>ram 1500</td>\n",
       "      <td>3</td>\n",
       "      <td>8.0</td>\n",
       "      <td>gas</td>\n",
       "      <td>140742.0</td>\n",
       "      <td>automatic</td>\n",
       "      <td>pickup</td>\n",
       "      <td>unknown</td>\n",
       "      <td>1.0</td>\n",
       "      <td>2019-04-02</td>\n",
       "      <td>37</td>\n",
       "      <td>1</td>\n",
       "      <td>4</td>\n",
       "      <td>2019</td>\n",
       "      <td>8.0</td>\n",
       "      <td>17592.0</td>\n",
       "    </tr>\n",
       "    <tr>\n",
       "      <td>13</td>\n",
       "      <td>16500</td>\n",
       "      <td>2018.0</td>\n",
       "      <td>hyundai sonata</td>\n",
       "      <td>3</td>\n",
       "      <td>4.0</td>\n",
       "      <td>gas</td>\n",
       "      <td>22104.0</td>\n",
       "      <td>automatic</td>\n",
       "      <td>sedan</td>\n",
       "      <td>silver</td>\n",
       "      <td>0.0</td>\n",
       "      <td>2019-01-14</td>\n",
       "      <td>29</td>\n",
       "      <td>0</td>\n",
       "      <td>1</td>\n",
       "      <td>2019</td>\n",
       "      <td>2.0</td>\n",
       "      <td>11052.0</td>\n",
       "    </tr>\n",
       "    <tr>\n",
       "      <td>14</td>\n",
       "      <td>12990</td>\n",
       "      <td>2009.0</td>\n",
       "      <td>gmc yukon</td>\n",
       "      <td>3</td>\n",
       "      <td>8.0</td>\n",
       "      <td>gas</td>\n",
       "      <td>132285.0</td>\n",
       "      <td>automatic</td>\n",
       "      <td>SUV</td>\n",
       "      <td>black</td>\n",
       "      <td>1.0</td>\n",
       "      <td>2019-01-31</td>\n",
       "      <td>24</td>\n",
       "      <td>3</td>\n",
       "      <td>1</td>\n",
       "      <td>2019</td>\n",
       "      <td>11.0</td>\n",
       "      <td>12025.0</td>\n",
       "    </tr>\n",
       "    <tr>\n",
       "      <td>15</td>\n",
       "      <td>17990</td>\n",
       "      <td>2013.0</td>\n",
       "      <td>ram 1500</td>\n",
       "      <td>3</td>\n",
       "      <td>8.0</td>\n",
       "      <td>gas</td>\n",
       "      <td>99840.0</td>\n",
       "      <td>automatic</td>\n",
       "      <td>pickup</td>\n",
       "      <td>red</td>\n",
       "      <td>1.0</td>\n",
       "      <td>2018-05-15</td>\n",
       "      <td>111</td>\n",
       "      <td>1</td>\n",
       "      <td>5</td>\n",
       "      <td>2018</td>\n",
       "      <td>6.0</td>\n",
       "      <td>16640.0</td>\n",
       "    </tr>\n",
       "    <tr>\n",
       "      <td>16</td>\n",
       "      <td>14990</td>\n",
       "      <td>2010.0</td>\n",
       "      <td>ram 1500</td>\n",
       "      <td>3</td>\n",
       "      <td>8.0</td>\n",
       "      <td>gas</td>\n",
       "      <td>130725.0</td>\n",
       "      <td>automatic</td>\n",
       "      <td>pickup</td>\n",
       "      <td>red</td>\n",
       "      <td>1.0</td>\n",
       "      <td>2018-12-30</td>\n",
       "      <td>13</td>\n",
       "      <td>6</td>\n",
       "      <td>12</td>\n",
       "      <td>2018</td>\n",
       "      <td>9.0</td>\n",
       "      <td>14525.0</td>\n",
       "    </tr>\n",
       "    <tr>\n",
       "      <td>17</td>\n",
       "      <td>13990</td>\n",
       "      <td>2014.0</td>\n",
       "      <td>jeep cherokee</td>\n",
       "      <td>3</td>\n",
       "      <td>6.0</td>\n",
       "      <td>gas</td>\n",
       "      <td>100669.0</td>\n",
       "      <td>automatic</td>\n",
       "      <td>SUV</td>\n",
       "      <td>red</td>\n",
       "      <td>1.0</td>\n",
       "      <td>2018-08-16</td>\n",
       "      <td>25</td>\n",
       "      <td>3</td>\n",
       "      <td>8</td>\n",
       "      <td>2018</td>\n",
       "      <td>5.0</td>\n",
       "      <td>20133.0</td>\n",
       "    </tr>\n",
       "    <tr>\n",
       "      <td>18</td>\n",
       "      <td>12500</td>\n",
       "      <td>2013.0</td>\n",
       "      <td>chevrolet traverse</td>\n",
       "      <td>3</td>\n",
       "      <td>6.0</td>\n",
       "      <td>gas</td>\n",
       "      <td>128325.0</td>\n",
       "      <td>automatic</td>\n",
       "      <td>SUV</td>\n",
       "      <td>white</td>\n",
       "      <td>1.0</td>\n",
       "      <td>2019-04-09</td>\n",
       "      <td>13</td>\n",
       "      <td>1</td>\n",
       "      <td>4</td>\n",
       "      <td>2019</td>\n",
       "      <td>7.0</td>\n",
       "      <td>18332.0</td>\n",
       "    </tr>\n",
       "    <tr>\n",
       "      <td>19</td>\n",
       "      <td>13990</td>\n",
       "      <td>2018.0</td>\n",
       "      <td>hyundai elantra</td>\n",
       "      <td>3</td>\n",
       "      <td>4.0</td>\n",
       "      <td>gas</td>\n",
       "      <td>31932.0</td>\n",
       "      <td>automatic</td>\n",
       "      <td>sedan</td>\n",
       "      <td>red</td>\n",
       "      <td>0.0</td>\n",
       "      <td>2018-08-25</td>\n",
       "      <td>27</td>\n",
       "      <td>5</td>\n",
       "      <td>8</td>\n",
       "      <td>2018</td>\n",
       "      <td>1.0</td>\n",
       "      <td>31932.0</td>\n",
       "    </tr>\n",
       "  </tbody>\n",
       "</table>\n",
       "</div>"
      ],
      "text/plain": [
       "    price  model_year                     model  condition  cylinders fuel  \\\n",
       "0    9400      2011.0                    bmw x5          2        6.0  gas   \n",
       "1   25500      2011.0                ford f-150          2        6.0  gas   \n",
       "2    5500      2013.0            hyundai sonata          4        4.0  gas   \n",
       "3    1500      2003.0                ford f-150          1        8.0  gas   \n",
       "4   14900      2017.0              chrysler 200          3        4.0  gas   \n",
       "5   14990      2014.0              chrysler 300          3        6.0  gas   \n",
       "6   12990      2015.0              toyota camry          3        4.0  gas   \n",
       "7   15990      2013.0               honda pilot          3        6.0  gas   \n",
       "8   11500      2012.0               kia sorento          3        4.0  gas   \n",
       "9    9200      2008.0               honda pilot          3        6.0  gas   \n",
       "10  19500      2011.0  chevrolet silverado 1500          3        8.0  gas   \n",
       "11   8990      2012.0              honda accord          3        4.0  gas   \n",
       "12  18990      2012.0                  ram 1500          3        8.0  gas   \n",
       "13  16500      2018.0            hyundai sonata          3        4.0  gas   \n",
       "14  12990      2009.0                 gmc yukon          3        8.0  gas   \n",
       "15  17990      2013.0                  ram 1500          3        8.0  gas   \n",
       "16  14990      2010.0                  ram 1500          3        8.0  gas   \n",
       "17  13990      2014.0             jeep cherokee          3        6.0  gas   \n",
       "18  12500      2013.0        chevrolet traverse          3        6.0  gas   \n",
       "19  13990      2018.0           hyundai elantra          3        4.0  gas   \n",
       "\n",
       "    odometer transmission    type paint_color  is_4wd date_posted  \\\n",
       "0   145000.0    automatic     SUV     unknown     1.0  2018-06-23   \n",
       "1    88705.0    automatic  pickup       white     1.0  2018-10-19   \n",
       "2   110000.0    automatic   sedan         red     0.0  2019-02-07   \n",
       "3   161397.0    automatic  pickup     unknown     0.0  2019-03-22   \n",
       "4    80903.0    automatic   sedan       black     0.0  2019-04-02   \n",
       "5    57954.0    automatic   sedan       black     1.0  2018-06-20   \n",
       "6    79212.0    automatic   sedan       white     0.0  2018-12-27   \n",
       "7   109473.0    automatic     SUV       black     1.0  2019-01-07   \n",
       "8   104174.0    automatic     SUV     unknown     1.0  2018-07-16   \n",
       "9   147191.0    automatic     SUV        blue     1.0  2019-02-15   \n",
       "10  128413.0    automatic  pickup       black     1.0  2018-09-17   \n",
       "11  111142.0    automatic   sedan        grey     0.0  2019-03-28   \n",
       "12  140742.0    automatic  pickup     unknown     1.0  2019-04-02   \n",
       "13   22104.0    automatic   sedan      silver     0.0  2019-01-14   \n",
       "14  132285.0    automatic     SUV       black     1.0  2019-01-31   \n",
       "15   99840.0    automatic  pickup         red     1.0  2018-05-15   \n",
       "16  130725.0    automatic  pickup         red     1.0  2018-12-30   \n",
       "17  100669.0    automatic     SUV         red     1.0  2018-08-16   \n",
       "18  128325.0    automatic     SUV       white     1.0  2019-04-09   \n",
       "19   31932.0    automatic   sedan         red     0.0  2018-08-25   \n",
       "\n",
       "    days_listed  day_posted  month_posted  year_posted   age  mile_per_year  \n",
       "0            19           5             6         2018   8.0        18125.0  \n",
       "1            50           4            10         2018   8.0        11088.0  \n",
       "2            79           3             2         2019   7.0        15714.0  \n",
       "3             9           4             3         2019  17.0         9493.0  \n",
       "4            28           1             4         2019   3.0        26967.0  \n",
       "5            15           2             6         2018   5.0        11590.0  \n",
       "6            73           3            12         2018   4.0        19803.0  \n",
       "7            68           0             1         2019   7.0        15639.0  \n",
       "8            19           0             7         2018   7.0        14882.0  \n",
       "9            17           4             2         2019  12.0        12265.0  \n",
       "10           38           0             9         2018   8.0        16051.0  \n",
       "11           29           3             3         2019   8.0        13892.0  \n",
       "12           37           1             4         2019   8.0        17592.0  \n",
       "13           29           0             1         2019   2.0        11052.0  \n",
       "14           24           3             1         2019  11.0        12025.0  \n",
       "15          111           1             5         2018   6.0        16640.0  \n",
       "16           13           6            12         2018   9.0        14525.0  \n",
       "17           25           3             8         2018   5.0        20133.0  \n",
       "18           13           1             4         2019   7.0        18332.0  \n",
       "19           27           5             8         2018   1.0        31932.0  "
      ]
     },
     "execution_count": 35,
     "metadata": {},
     "output_type": "execute_result"
    }
   ],
   "source": [
    "vehicle_data.head(20)"
   ]
  },
  {
   "cell_type": "markdown",
   "metadata": {},
   "source": [
    "## Checking clean data"
   ]
  },
  {
   "cell_type": "markdown",
   "metadata": {},
   "source": [
    "Before we move on to the analysis part, we take a final look at our data, at a deep level, to make sure we have our data as clean as possible. This makes our analysis much more accurate and easier.\n",
    "\n",
    "First we want to check for any zeros in places it shouldn't be at:"
   ]
  },
  {
   "cell_type": "code",
   "execution_count": 36,
   "metadata": {},
   "outputs": [
    {
     "name": "stdout",
     "output_type": "stream",
     "text": [
      "price 0\n",
      "model_year 0\n",
      "model 0\n",
      "condition 115\n",
      "cylinders 0\n",
      "fuel 0\n",
      "odometer 185\n",
      "transmission 0\n",
      "type 0\n",
      "paint_color 0\n",
      "is_4wd 25953\n",
      "date_posted 0\n",
      "days_listed 54\n",
      "day_posted 7339\n",
      "month_posted 0\n",
      "year_posted 0\n",
      "age 0\n",
      "mile_per_year 220\n"
     ]
    }
   ],
   "source": [
    "for i in vehicle_data: #checking for any zeros.\n",
    "    print(i, len(vehicle_data[vehicle_data[i] == 0]))"
   ]
  },
  {
   "cell_type": "markdown",
   "metadata": {},
   "source": [
    "Looking at the list generated by the code above, we can see that;\n",
    "price, model_year, model, cylinders, fuel, transmission, type, ..., year_posted has 0 zeros, which is good and expected.\n",
    "while condition, odometer, is_4wd, days_listed, days_posted actually have zeros, but again this is very fine since these columns are supposed to have zeros in them (For instance, 0 on day_posted means 'Monday' and 0 in condition means 'Salvage' etc).\n",
    "\n",
    "**Next** we look at the general values for some of our coulmns:"
   ]
  },
  {
   "cell_type": "code",
   "execution_count": 37,
   "metadata": {},
   "outputs": [
    {
     "data": {
      "text/plain": [
       "gas         47288\n",
       "diesel       3714\n",
       "hybrid        409\n",
       "other         108\n",
       "electric        6\n",
       "Name: fuel, dtype: int64"
      ]
     },
     "execution_count": 37,
     "metadata": {},
     "output_type": "execute_result"
    }
   ],
   "source": [
    "vehicle_data['fuel'].value_counts()"
   ]
  },
  {
   "cell_type": "code",
   "execution_count": 38,
   "metadata": {},
   "outputs": [
    {
     "data": {
      "text/plain": [
       "automatic    46902\n",
       "manual        2829\n",
       "other         1794\n",
       "Name: transmission, dtype: int64"
      ]
     },
     "execution_count": 38,
     "metadata": {},
     "output_type": "execute_result"
    }
   ],
   "source": [
    "vehicle_data['transmission'].value_counts()"
   ]
  },
  {
   "cell_type": "code",
   "execution_count": 39,
   "metadata": {},
   "outputs": [
    {
     "data": {
      "text/plain": [
       "SUV            12405\n",
       "truck          12353\n",
       "sedan          12154\n",
       "pickup          6988\n",
       "coupe           2303\n",
       "wagon           1541\n",
       "mini-van        1161\n",
       "hatchback       1047\n",
       "van              633\n",
       "convertible      446\n",
       "other            256\n",
       "offroad          214\n",
       "bus               24\n",
       "Name: type, dtype: int64"
      ]
     },
     "execution_count": 39,
     "metadata": {},
     "output_type": "execute_result"
    }
   ],
   "source": [
    "vehicle_data['type'].value_counts()"
   ]
  },
  {
   "cell_type": "code",
   "execution_count": 40,
   "metadata": {},
   "outputs": [
    {
     "data": {
      "text/plain": [
       "count    51525.000000\n",
       "mean      2009.793954\n",
       "std          6.099296\n",
       "min       1908.000000\n",
       "25%       2007.000000\n",
       "50%       2011.000000\n",
       "75%       2014.000000\n",
       "max       2019.000000\n",
       "Name: model_year, dtype: float64"
      ]
     },
     "execution_count": 40,
     "metadata": {},
     "output_type": "execute_result"
    }
   ],
   "source": [
    "vehicle_data['model_year'].describe()"
   ]
  },
  {
   "cell_type": "code",
   "execution_count": 41,
   "metadata": {},
   "outputs": [
    {
     "data": {
      "text/plain": [
       "count          51525\n",
       "unique           100\n",
       "top       ford f-150\n",
       "freq            2796\n",
       "Name: model, dtype: object"
      ]
     },
     "execution_count": 41,
     "metadata": {},
     "output_type": "execute_result"
    }
   ],
   "source": [
    "vehicle_data['model'].describe()"
   ]
  },
  {
   "cell_type": "code",
   "execution_count": 42,
   "metadata": {},
   "outputs": [
    {
     "data": {
      "text/plain": [
       "count     51525.000000\n",
       "mean     115199.667559\n",
       "std       62082.598563\n",
       "min           0.000000\n",
       "25%       73500.000000\n",
       "50%      114072.000000\n",
       "75%      152862.000000\n",
       "max      990000.000000\n",
       "Name: odometer, dtype: float64"
      ]
     },
     "execution_count": 42,
     "metadata": {},
     "output_type": "execute_result"
    }
   ],
   "source": [
    "vehicle_data['odometer'].describe()"
   ]
  },
  {
   "cell_type": "markdown",
   "metadata": {},
   "source": [
    "None of the columns seem to have any values that it shouldn't have, everything seems fine. "
   ]
  },
  {
   "cell_type": "code",
   "execution_count": 43,
   "metadata": {},
   "outputs": [
    {
     "data": {
      "text/plain": [
       "count     51525.000000\n",
       "mean      12132.464920\n",
       "std       10040.803015\n",
       "min           1.000000\n",
       "25%        5000.000000\n",
       "50%        9000.000000\n",
       "75%       16839.000000\n",
       "max      375000.000000\n",
       "Name: price, dtype: float64"
      ]
     },
     "execution_count": 43,
     "metadata": {},
     "output_type": "execute_result"
    }
   ],
   "source": [
    "# Checking for dirty values in price\n",
    "vehicle_data['price'].describe()"
   ]
  },
  {
   "cell_type": "code",
   "execution_count": 44,
   "metadata": {},
   "outputs": [
    {
     "data": {
      "text/html": [
       "<div>\n",
       "<style scoped>\n",
       "    .dataframe tbody tr th:only-of-type {\n",
       "        vertical-align: middle;\n",
       "    }\n",
       "\n",
       "    .dataframe tbody tr th {\n",
       "        vertical-align: top;\n",
       "    }\n",
       "\n",
       "    .dataframe thead th {\n",
       "        text-align: right;\n",
       "    }\n",
       "</style>\n",
       "<table border=\"1\" class=\"dataframe\">\n",
       "  <thead>\n",
       "    <tr style=\"text-align: right;\">\n",
       "      <th></th>\n",
       "      <th>price</th>\n",
       "      <th>model_year</th>\n",
       "      <th>model</th>\n",
       "      <th>condition</th>\n",
       "      <th>cylinders</th>\n",
       "      <th>fuel</th>\n",
       "      <th>odometer</th>\n",
       "      <th>transmission</th>\n",
       "      <th>type</th>\n",
       "      <th>paint_color</th>\n",
       "      <th>is_4wd</th>\n",
       "      <th>date_posted</th>\n",
       "      <th>days_listed</th>\n",
       "      <th>day_posted</th>\n",
       "      <th>month_posted</th>\n",
       "      <th>year_posted</th>\n",
       "      <th>age</th>\n",
       "      <th>mile_per_year</th>\n",
       "    </tr>\n",
       "  </thead>\n",
       "  <tbody>\n",
       "    <tr>\n",
       "      <td>405</td>\n",
       "      <td>1</td>\n",
       "      <td>2014.0</td>\n",
       "      <td>chevrolet camaro</td>\n",
       "      <td>3</td>\n",
       "      <td>6.0</td>\n",
       "      <td>gas</td>\n",
       "      <td>71310.0</td>\n",
       "      <td>automatic</td>\n",
       "      <td>coupe</td>\n",
       "      <td>unknown</td>\n",
       "      <td>0.0</td>\n",
       "      <td>2018-07-14</td>\n",
       "      <td>29</td>\n",
       "      <td>5</td>\n",
       "      <td>7</td>\n",
       "      <td>2018</td>\n",
       "      <td>5.0</td>\n",
       "      <td>14262.0</td>\n",
       "    </tr>\n",
       "    <tr>\n",
       "      <td>3063</td>\n",
       "      <td>1</td>\n",
       "      <td>1998.0</td>\n",
       "      <td>chevrolet silverado</td>\n",
       "      <td>2</td>\n",
       "      <td>8.0</td>\n",
       "      <td>gas</td>\n",
       "      <td>164000.0</td>\n",
       "      <td>automatic</td>\n",
       "      <td>pickup</td>\n",
       "      <td>unknown</td>\n",
       "      <td>1.0</td>\n",
       "      <td>2018-10-11</td>\n",
       "      <td>49</td>\n",
       "      <td>3</td>\n",
       "      <td>10</td>\n",
       "      <td>2018</td>\n",
       "      <td>21.0</td>\n",
       "      <td>7809.0</td>\n",
       "    </tr>\n",
       "    <tr>\n",
       "      <td>3808</td>\n",
       "      <td>1</td>\n",
       "      <td>2007.0</td>\n",
       "      <td>chevrolet tahoe</td>\n",
       "      <td>2</td>\n",
       "      <td>8.0</td>\n",
       "      <td>gas</td>\n",
       "      <td>200.0</td>\n",
       "      <td>automatic</td>\n",
       "      <td>SUV</td>\n",
       "      <td>red</td>\n",
       "      <td>0.0</td>\n",
       "      <td>2019-03-18</td>\n",
       "      <td>63</td>\n",
       "      <td>0</td>\n",
       "      <td>3</td>\n",
       "      <td>2019</td>\n",
       "      <td>13.0</td>\n",
       "      <td>15.0</td>\n",
       "    </tr>\n",
       "    <tr>\n",
       "      <td>3902</td>\n",
       "      <td>1</td>\n",
       "      <td>1996.0</td>\n",
       "      <td>ford f-150</td>\n",
       "      <td>1</td>\n",
       "      <td>8.0</td>\n",
       "      <td>gas</td>\n",
       "      <td>163000.0</td>\n",
       "      <td>manual</td>\n",
       "      <td>truck</td>\n",
       "      <td>white</td>\n",
       "      <td>0.0</td>\n",
       "      <td>2019-02-23</td>\n",
       "      <td>54</td>\n",
       "      <td>5</td>\n",
       "      <td>2</td>\n",
       "      <td>2019</td>\n",
       "      <td>24.0</td>\n",
       "      <td>6791.0</td>\n",
       "    </tr>\n",
       "    <tr>\n",
       "      <td>4140</td>\n",
       "      <td>1</td>\n",
       "      <td>2004.0</td>\n",
       "      <td>chevrolet silverado</td>\n",
       "      <td>3</td>\n",
       "      <td>8.0</td>\n",
       "      <td>diesel</td>\n",
       "      <td>83000.0</td>\n",
       "      <td>automatic</td>\n",
       "      <td>pickup</td>\n",
       "      <td>unknown</td>\n",
       "      <td>1.0</td>\n",
       "      <td>2019-02-04</td>\n",
       "      <td>14</td>\n",
       "      <td>0</td>\n",
       "      <td>2</td>\n",
       "      <td>2019</td>\n",
       "      <td>16.0</td>\n",
       "      <td>5187.0</td>\n",
       "    </tr>\n",
       "    <tr>\n",
       "      <td>...</td>\n",
       "      <td>...</td>\n",
       "      <td>...</td>\n",
       "      <td>...</td>\n",
       "      <td>...</td>\n",
       "      <td>...</td>\n",
       "      <td>...</td>\n",
       "      <td>...</td>\n",
       "      <td>...</td>\n",
       "      <td>...</td>\n",
       "      <td>...</td>\n",
       "      <td>...</td>\n",
       "      <td>...</td>\n",
       "      <td>...</td>\n",
       "      <td>...</td>\n",
       "      <td>...</td>\n",
       "      <td>...</td>\n",
       "      <td>...</td>\n",
       "      <td>...</td>\n",
       "    </tr>\n",
       "    <tr>\n",
       "      <td>50245</td>\n",
       "      <td>1</td>\n",
       "      <td>1986.0</td>\n",
       "      <td>chevrolet silverado</td>\n",
       "      <td>2</td>\n",
       "      <td>8.0</td>\n",
       "      <td>gas</td>\n",
       "      <td>90420.0</td>\n",
       "      <td>automatic</td>\n",
       "      <td>truck</td>\n",
       "      <td>red</td>\n",
       "      <td>1.0</td>\n",
       "      <td>2018-11-30</td>\n",
       "      <td>50</td>\n",
       "      <td>4</td>\n",
       "      <td>11</td>\n",
       "      <td>2018</td>\n",
       "      <td>33.0</td>\n",
       "      <td>2740.0</td>\n",
       "    </tr>\n",
       "    <tr>\n",
       "      <td>50393</td>\n",
       "      <td>1</td>\n",
       "      <td>2003.0</td>\n",
       "      <td>gmc sierra 2500hd</td>\n",
       "      <td>2</td>\n",
       "      <td>8.0</td>\n",
       "      <td>diesel</td>\n",
       "      <td>212300.0</td>\n",
       "      <td>automatic</td>\n",
       "      <td>pickup</td>\n",
       "      <td>black</td>\n",
       "      <td>1.0</td>\n",
       "      <td>2019-04-12</td>\n",
       "      <td>28</td>\n",
       "      <td>4</td>\n",
       "      <td>4</td>\n",
       "      <td>2019</td>\n",
       "      <td>17.0</td>\n",
       "      <td>12488.0</td>\n",
       "    </tr>\n",
       "    <tr>\n",
       "      <td>50430</td>\n",
       "      <td>5</td>\n",
       "      <td>2011.0</td>\n",
       "      <td>toyota sienna</td>\n",
       "      <td>2</td>\n",
       "      <td>6.0</td>\n",
       "      <td>gas</td>\n",
       "      <td>123025.0</td>\n",
       "      <td>automatic</td>\n",
       "      <td>SUV</td>\n",
       "      <td>green</td>\n",
       "      <td>0.0</td>\n",
       "      <td>2018-12-03</td>\n",
       "      <td>5</td>\n",
       "      <td>0</td>\n",
       "      <td>12</td>\n",
       "      <td>2018</td>\n",
       "      <td>8.0</td>\n",
       "      <td>15378.0</td>\n",
       "    </tr>\n",
       "    <tr>\n",
       "      <td>50971</td>\n",
       "      <td>10</td>\n",
       "      <td>2012.0</td>\n",
       "      <td>toyota prius</td>\n",
       "      <td>3</td>\n",
       "      <td>4.0</td>\n",
       "      <td>hybrid</td>\n",
       "      <td>101000.0</td>\n",
       "      <td>automatic</td>\n",
       "      <td>hatchback</td>\n",
       "      <td>green</td>\n",
       "      <td>0.0</td>\n",
       "      <td>2019-03-16</td>\n",
       "      <td>29</td>\n",
       "      <td>5</td>\n",
       "      <td>3</td>\n",
       "      <td>2019</td>\n",
       "      <td>8.0</td>\n",
       "      <td>12625.0</td>\n",
       "    </tr>\n",
       "    <tr>\n",
       "      <td>51256</td>\n",
       "      <td>1</td>\n",
       "      <td>2012.0</td>\n",
       "      <td>honda civic lx</td>\n",
       "      <td>3</td>\n",
       "      <td>4.0</td>\n",
       "      <td>gas</td>\n",
       "      <td>71262.0</td>\n",
       "      <td>automatic</td>\n",
       "      <td>sedan</td>\n",
       "      <td>blue</td>\n",
       "      <td>0.0</td>\n",
       "      <td>2018-05-06</td>\n",
       "      <td>53</td>\n",
       "      <td>6</td>\n",
       "      <td>5</td>\n",
       "      <td>2018</td>\n",
       "      <td>7.0</td>\n",
       "      <td>10180.0</td>\n",
       "    </tr>\n",
       "  </tbody>\n",
       "</table>\n",
       "<p>863 rows × 18 columns</p>\n",
       "</div>"
      ],
      "text/plain": [
       "       price  model_year                model  condition  cylinders    fuel  \\\n",
       "405        1      2014.0     chevrolet camaro          3        6.0     gas   \n",
       "3063       1      1998.0  chevrolet silverado          2        8.0     gas   \n",
       "3808       1      2007.0      chevrolet tahoe          2        8.0     gas   \n",
       "3902       1      1996.0           ford f-150          1        8.0     gas   \n",
       "4140       1      2004.0  chevrolet silverado          3        8.0  diesel   \n",
       "...      ...         ...                  ...        ...        ...     ...   \n",
       "50245      1      1986.0  chevrolet silverado          2        8.0     gas   \n",
       "50393      1      2003.0    gmc sierra 2500hd          2        8.0  diesel   \n",
       "50430      5      2011.0        toyota sienna          2        6.0     gas   \n",
       "50971     10      2012.0         toyota prius          3        4.0  hybrid   \n",
       "51256      1      2012.0       honda civic lx          3        4.0     gas   \n",
       "\n",
       "       odometer transmission       type paint_color  is_4wd date_posted  \\\n",
       "405     71310.0    automatic      coupe     unknown     0.0  2018-07-14   \n",
       "3063   164000.0    automatic     pickup     unknown     1.0  2018-10-11   \n",
       "3808      200.0    automatic        SUV         red     0.0  2019-03-18   \n",
       "3902   163000.0       manual      truck       white     0.0  2019-02-23   \n",
       "4140    83000.0    automatic     pickup     unknown     1.0  2019-02-04   \n",
       "...         ...          ...        ...         ...     ...         ...   \n",
       "50245   90420.0    automatic      truck         red     1.0  2018-11-30   \n",
       "50393  212300.0    automatic     pickup       black     1.0  2019-04-12   \n",
       "50430  123025.0    automatic        SUV       green     0.0  2018-12-03   \n",
       "50971  101000.0    automatic  hatchback       green     0.0  2019-03-16   \n",
       "51256   71262.0    automatic      sedan        blue     0.0  2018-05-06   \n",
       "\n",
       "       days_listed  day_posted  month_posted  year_posted   age  mile_per_year  \n",
       "405             29           5             7         2018   5.0        14262.0  \n",
       "3063            49           3            10         2018  21.0         7809.0  \n",
       "3808            63           0             3         2019  13.0           15.0  \n",
       "3902            54           5             2         2019  24.0         6791.0  \n",
       "4140            14           0             2         2019  16.0         5187.0  \n",
       "...            ...         ...           ...          ...   ...            ...  \n",
       "50245           50           4            11         2018  33.0         2740.0  \n",
       "50393           28           4             4         2019  17.0        12488.0  \n",
       "50430            5           0            12         2018   8.0        15378.0  \n",
       "50971           29           5             3         2019   8.0        12625.0  \n",
       "51256           53           6             5         2018   7.0        10180.0  \n",
       "\n",
       "[863 rows x 18 columns]"
      ]
     },
     "execution_count": 44,
     "metadata": {},
     "output_type": "execute_result"
    }
   ],
   "source": [
    "# Checking how many cases of price below $100 there is\n",
    "vehicle_data[vehicle_data['price'] <= 100]"
   ]
  },
  {
   "cell_type": "code",
   "execution_count": 45,
   "metadata": {},
   "outputs": [],
   "source": [
    "# Changing the values of prices below $100 to x100\n",
    "vehicle_data.loc[vehicle_data['price'] <= 100, 'price'] = vehicle_data['price']*100"
   ]
  },
  {
   "cell_type": "code",
   "execution_count": 46,
   "metadata": {},
   "outputs": [
    {
     "data": {
      "text/plain": [
       "count     51525.000000\n",
       "mean      12140.555924\n",
       "std       10033.169588\n",
       "min         100.000000\n",
       "25%        5000.000000\n",
       "50%        9000.000000\n",
       "75%       16839.000000\n",
       "max      375000.000000\n",
       "Name: price, dtype: float64"
      ]
     },
     "execution_count": 46,
     "metadata": {},
     "output_type": "execute_result"
    }
   ],
   "source": [
    "# Checking the price column again\n",
    "vehicle_data['price'].describe()"
   ]
  },
  {
   "cell_type": "markdown",
   "metadata": {},
   "source": [
    "The minimum price was 1 dollar, after checking how many vehicles were advertisied for less than 100 dollar we found out only 18 cases. We can drop these cases or we can change their values to something that makes more sense (it doesn't really matter, it is a very small portion of our data). We decided to multiply all values below 100 by 100, assuming people misconfigurated the prices when filling the details.\n",
    "\n",
    "With this behind ourbacks, we are left with one last task and it is to check for duplicates, and drop them if there's any:"
   ]
  },
  {
   "cell_type": "code",
   "execution_count": 47,
   "metadata": {},
   "outputs": [
    {
     "data": {
      "text/plain": [
       "0"
      ]
     },
     "execution_count": 47,
     "metadata": {},
     "output_type": "execute_result"
    }
   ],
   "source": [
    "# Check for dups\n",
    "vehicle_data.duplicated().sum() # checking for duplicates"
   ]
  },
  {
   "cell_type": "markdown",
   "metadata": {},
   "source": [
    "**Our data is very clean and it is ready for analysis!**"
   ]
  },
  {
   "cell_type": "markdown",
   "metadata": {},
   "source": [
    "<div class=\"alert alert-block alert-success\">\n",
    "<b>Reviewer's comment.</b> <a class=\"tocSkip\"></a>\n",
    "    \n",
    "So, we are ready for the next part! </div>"
   ]
  },
  {
   "cell_type": "markdown",
   "metadata": {},
   "source": [
    "## Study core parameters\n",
    "\n",
    "Below we'll study some parameters using histograms, find possible outliers and see how these outliers affect the form/readability of these histograms.\n",
    "\n",
    "The parameters are\n",
    "- Price\n",
    "- The vehicle's age when the ad was placed\n",
    "- Mileage\n",
    "- Number of cylinders\n",
    "- Condition"
   ]
  },
  {
   "cell_type": "code",
   "execution_count": 48,
   "metadata": {},
   "outputs": [
    {
     "data": {
      "image/png": "[encoded data removed]",
      "text/plain": [
       "<Figure size 720x540 with 1 Axes>"
      ]
     },
     "metadata": {
      "needs_background": "light"
     },
     "output_type": "display_data"
    },
    {
     "data": {
      "image/png": "[encoded data removed]",
      "text/plain": [
       "<Figure size 720x540 with 1 Axes>"
      ]
     },
     "metadata": {
      "needs_background": "light"
     },
     "output_type": "display_data"
    },
    {
     "data": {
      "image/png": "[encoded data removed]",
      "text/plain": [
       "<Figure size 720x540 with 1 Axes>"
      ]
     },
     "metadata": {
      "needs_background": "light"
     },
     "output_type": "display_data"
    },
    {
     "data": {
      "image/png": "[encoded data removed]",
      "text/plain": [
       "<Figure size 720x540 with 1 Axes>"
      ]
     },
     "metadata": {
      "needs_background": "light"
     },
     "output_type": "display_data"
    },
    {
     "data": {
      "image/png": "[encoded data removed]",
      "text/plain": [
       "<Figure size 720x540 with 1 Axes>"
      ]
     },
     "metadata": {
      "needs_background": "light"
     },
     "output_type": "display_data"
    },
    {
     "data": {
      "image/png": "[encoded data removed]",
      "text/plain": [
       "<Figure size 720x540 with 1 Axes>"
      ]
     },
     "metadata": {
      "needs_background": "light"
     },
     "output_type": "display_data"
    }
   ],
   "source": [
    "#\n",
    "params = {'price' : (0,100000), 'age' : (0,75) , 'odometer' : (0, 500000) , 'mile_per_year' : (0, 120000) , 'cylinders' : (0, 12) , 'condition' : (0, 5)}\n",
    "params2 = {'price' : (0,50000), 'age' : (0,35) , 'odometer' : (0, 300000) , 'mile_per_year' : (0, 60000) , 'cylinders' : (0, 12) , 'condition' : (0, 5)}\n",
    "\n",
    "for param in params:\n",
    "    ax = vehicle_data.hist(param, figsize=(10,7.5), bins = 20, range=params[param])\n",
    "    vehicle_data.hist(param, figsize=(10,7.5), bins = 20, range=params2[param], ax=ax)"
   ]
  },
  {
   "cell_type": "markdown",
   "metadata": {},
   "source": [
    "If we are to find any outliers, it is definetly going to be among the columns with the highest range of values, such as **price** or **odometer**. Below we continue to check how much outliers does each column has:"
   ]
  },
  {
   "cell_type": "code",
   "execution_count": 49,
   "metadata": {},
   "outputs": [
    {
     "name": "stdout",
     "output_type": "stream",
     "text": [
      "price : 227\n",
      "66888.34801762115 \n",
      "\n",
      "age : 233\n",
      "47.772532188841204 \n",
      "\n",
      "odometer : 287\n",
      "375554.88850174216 \n",
      "\n",
      "mile_per_year : 115\n",
      "89988.33913043479 \n",
      "\n",
      "cylinders : 0\n",
      "nan \n",
      "\n",
      "condition : 0\n",
      "nan \n",
      "\n"
     ]
    }
   ],
   "source": [
    "#\n",
    "for param in params2:\n",
    "    outliers = vehicle_data[vehicle_data[param] > params2[param][1]]\n",
    "    print(param, \":\", outliers.shape[0])\n",
    "    print(outliers[param].mean(), '\\n')\n"
   ]
  },
  {
   "cell_type": "markdown",
   "metadata": {},
   "source": [
    "As expected, cylinders and condition doesn't have any outliers. While on the other hand, price, odometer and mile_per_year have some. Those outliers appear as a small lines far away from the condensed area of values in the histogram, and including them in our plots will only make our histogram less readable and less ideal. Below is our histograms without these outliers:"
   ]
  },
  {
   "cell_type": "markdown",
   "metadata": {},
   "source": [
    "According to the histograms above, all outliers were an upper limit outlier meaning that all the outliers we spotted were on the very right side of the histograms. The histograms that showed outliers were the histograms of **odometer, price, age & mile_per_year**. The histograms were more pleasnt to read without the outliers (when they were out of range). The outliers don't only affect the histograms, they also impact the mean of a certain column leading into incorrect results. But in our case, the outliers are a very very small portion of our data contributing in a very very small average pull up (for instance around 300 miles for **odometer**, that has average of around 115,000 which is considered insignificant change).\n",
    "\n",
    "**Next** we are going to study ads lifetime:"
   ]
  },
  {
   "cell_type": "markdown",
   "metadata": {},
   "source": [
    "<div class=\"alert alert-block alert-success\">\n",
    "<b>Reviewer's comment</b> <a class=\"tocSkip\"></a>\n",
    "    \n",
    "So, we compared old and new data. Good choice of outliries! Now we know more infromation and can move on.\n",
    "\n",
    "</div>\n",
    "\n",
    "<div class=\"alert alert-block alert-warning\">\n",
    "<b>Reviewer's comment</b> <a class=\"tocSkip\"></a>\n",
    "    \n",
    "Also we can show 2 graphs nearby or compare old and new data on the one graph. :) \n",
    "\n",
    "</div>\n",
    "\n",
    "<div class=\"alert alert-block alert-info\">\n",
    "<b>Student answer.</b> <a class=\"tocSkip\"></a>\n",
    "Thanks for the tip, now it is easier to compare between each 2 graphs!\n",
    "    \n",
    "    (FIXED)\n",
    "</div>"
   ]
  },
  {
   "cell_type": "markdown",
   "metadata": {},
   "source": [
    "<div class=\"alert alert-block alert-success\">\n",
    "<b>Reviewer's comment. V.2.</b> <a class=\"tocSkip\"></a>\n",
    "    \n",
    "Excellent! </div>"
   ]
  },
  {
   "cell_type": "markdown",
   "metadata": {},
   "source": [
    "## Ads lifetime\n",
    "\n",
    "Different ads had different lifetime, which is determined by the values of the **days_listed** column. Lets take a look at the describition of this column. Is there a reason behind ads being removed very quickly? or being listed for an abnormally long time?"
   ]
  },
  {
   "cell_type": "code",
   "execution_count": 50,
   "metadata": {},
   "outputs": [
    {
     "data": {
      "text/plain": [
       "count    51525.00000\n",
       "mean        39.55476\n",
       "std         28.20427\n",
       "min          0.00000\n",
       "25%         19.00000\n",
       "50%         33.00000\n",
       "75%         53.00000\n",
       "max        271.00000\n",
       "Name: days_listed, dtype: float64"
      ]
     },
     "execution_count": 50,
     "metadata": {},
     "output_type": "execute_result"
    }
   ],
   "source": [
    "# Checking the days_listed column\n",
    "vehicle_data['days_listed'].describe()"
   ]
  },
  {
   "cell_type": "code",
   "execution_count": 51,
   "metadata": {},
   "outputs": [
    {
     "data": {
      "text/plain": [
       "<matplotlib.axes._subplots.AxesSubplot at 0x7f255fc48b10>"
      ]
     },
     "execution_count": 51,
     "metadata": {},
     "output_type": "execute_result"
    },
    {
     "data": {
      "image/png": "[encoded data removed]",
      "text/plain": [
       "<Figure size 432x288 with 1 Axes>"
      ]
     },
     "metadata": {
      "needs_background": "light"
     },
     "output_type": "display_data"
    }
   ],
   "source": [
    "vehicle_data['days_listed'].hist()"
   ]
  },
  {
   "cell_type": "markdown",
   "metadata": {},
   "source": [
    "Assuming 2-4 days is quick enough and 100+ abnormally long, we continue to check:"
   ]
  },
  {
   "cell_type": "code",
   "execution_count": 52,
   "metadata": {},
   "outputs": [
    {
     "data": {
      "text/plain": [
       "1308"
      ]
     },
     "execution_count": 52,
     "metadata": {},
     "output_type": "execute_result"
    }
   ],
   "source": [
    "# We dont have alot of values here\n",
    "vd_quick_list = vehicle_data.query('days_listed <= 4')\n",
    "vd_quick_list.shape[0]"
   ]
  },
  {
   "cell_type": "code",
   "execution_count": 53,
   "metadata": {},
   "outputs": [
    {
     "data": {
      "text/plain": [
       "3    634\n",
       "2    500\n",
       "4    131\n",
       "1     33\n",
       "5      8\n",
       "0      2\n",
       "Name: condition, dtype: int64"
      ]
     },
     "execution_count": 53,
     "metadata": {},
     "output_type": "execute_result"
    }
   ],
   "source": [
    "# Checking whether vehicle condition has anything to do with how quick an ad was removed\n",
    "vd_quick_list['condition'].value_counts()"
   ]
  },
  {
   "cell_type": "code",
   "execution_count": 54,
   "metadata": {},
   "outputs": [
    {
     "data": {
      "text/plain": [
       "truck          308\n",
       "sedan          306\n",
       "SUV            299\n",
       "pickup         193\n",
       "wagon           55\n",
       "coupe           47\n",
       "hatchback       32\n",
       "mini-van        32\n",
       "van             12\n",
       "convertible     12\n",
       "offroad          7\n",
       "other            5\n",
       "Name: type, dtype: int64"
      ]
     },
     "execution_count": 54,
     "metadata": {},
     "output_type": "execute_result"
    }
   ],
   "source": [
    "# Checking if the vehicle's type has anything to do with how quick an ad was removed\n",
    "vd_quick_list['type'].value_counts()"
   ]
  },
  {
   "cell_type": "code",
   "execution_count": 55,
   "metadata": {},
   "outputs": [
    {
     "data": {
      "text/plain": [
       "count    1308.000000\n",
       "mean        9.455275\n",
       "std         6.056615\n",
       "min         1.000000\n",
       "25%         5.000000\n",
       "50%         8.000000\n",
       "75%        13.000000\n",
       "max        56.000000\n",
       "Name: age, dtype: float64"
      ]
     },
     "execution_count": 55,
     "metadata": {},
     "output_type": "execute_result"
    }
   ],
   "source": [
    "# Checking whether a vehicle's age had an impact on the ad lifetime.\n",
    "vd_quick_list['age'].describe()"
   ]
  },
  {
   "cell_type": "code",
   "execution_count": 56,
   "metadata": {},
   "outputs": [
    {
     "data": {
      "text/plain": [
       "count     1308.000000\n",
       "mean     12488.420489\n",
       "std       9846.851150\n",
       "min        100.000000\n",
       "25%       5000.000000\n",
       "50%       9814.500000\n",
       "75%      16995.000000\n",
       "max      66000.000000\n",
       "Name: price, dtype: float64"
      ]
     },
     "execution_count": 56,
     "metadata": {},
     "output_type": "execute_result"
    }
   ],
   "source": [
    "# Checking whether vehicle prices has an impact on the ad lifetime\n",
    "vd_quick_list['price'].describe()"
   ]
  },
  {
   "cell_type": "code",
   "execution_count": 57,
   "metadata": {},
   "outputs": [
    {
     "data": {
      "text/plain": [
       "count      1308.000000\n",
       "mean     115173.226682\n",
       "std       66181.998454\n",
       "min           0.000000\n",
       "25%       70849.000000\n",
       "50%      114671.500000\n",
       "75%      152314.000000\n",
       "max      990000.000000\n",
       "Name: odometer, dtype: float64"
      ]
     },
     "execution_count": 57,
     "metadata": {},
     "output_type": "execute_result"
    }
   ],
   "source": [
    "# Checking whether vehicle odometer has an impact on the ad lifetime\n",
    "vd_quick_list['odometer'].describe()"
   ]
  },
  {
   "cell_type": "markdown",
   "metadata": {},
   "source": [
    "By the data collected above, we can say that the **condition** could've been the reason for those ads to quickly get removed since the majority of these ads are related to vehicles of good or excellent conditions! \n",
    "The rest of the factors don't seem to be a reason for the ads to be removed quickly since they are very close to the total average.\n",
    "\n",
    "As for the other part of this research, the abnormally long time:"
   ]
  },
  {
   "cell_type": "code",
   "execution_count": 58,
   "metadata": {},
   "outputs": [
    {
     "data": {
      "text/plain": [
       "2036"
      ]
     },
     "execution_count": 58,
     "metadata": {},
     "output_type": "execute_result"
    }
   ],
   "source": [
    "vd_slow_list = vehicle_data.query('days_listed >= 100')\n",
    "vd_slow_list.shape[0]"
   ]
  },
  {
   "cell_type": "code",
   "execution_count": 59,
   "metadata": {},
   "outputs": [
    {
     "data": {
      "text/plain": [
       "3    1000\n",
       "2     785\n",
       "4     184\n",
       "1      57\n",
       "0       6\n",
       "5       4\n",
       "Name: condition, dtype: int64"
      ]
     },
     "execution_count": 59,
     "metadata": {},
     "output_type": "execute_result"
    }
   ],
   "source": [
    "# Checking whether vehicle condition has anything to do with how quick an ad was removed\n",
    "vd_slow_list['condition'].value_counts()"
   ]
  },
  {
   "cell_type": "code",
   "execution_count": 60,
   "metadata": {},
   "outputs": [
    {
     "data": {
      "text/plain": [
       "SUV            516\n",
       "sedan          481\n",
       "truck          458\n",
       "pickup         244\n",
       "coupe           98\n",
       "wagon           76\n",
       "mini-van        53\n",
       "hatchback       41\n",
       "van             35\n",
       "convertible     18\n",
       "offroad         10\n",
       "other            6\n",
       "Name: type, dtype: int64"
      ]
     },
     "execution_count": 60,
     "metadata": {},
     "output_type": "execute_result"
    }
   ],
   "source": [
    "# Checking if the vehicle's type has anything to do with how quick an ad was removed\n",
    "vd_slow_list['type'].value_counts()"
   ]
  },
  {
   "cell_type": "code",
   "execution_count": 61,
   "metadata": {},
   "outputs": [
    {
     "data": {
      "text/plain": [
       "count    2036.000000\n",
       "mean        9.763016\n",
       "std         6.337746\n",
       "min         1.000000\n",
       "25%         6.000000\n",
       "50%         9.000000\n",
       "75%        13.000000\n",
       "max        56.000000\n",
       "Name: age, dtype: float64"
      ]
     },
     "execution_count": 61,
     "metadata": {},
     "output_type": "execute_result"
    }
   ],
   "source": [
    "# Checking whether a vehicle's age had an impact on the ad lifetime.\n",
    "vd_slow_list['age'].describe()"
   ]
  },
  {
   "cell_type": "code",
   "execution_count": 62,
   "metadata": {},
   "outputs": [
    {
     "data": {
      "text/plain": [
       "count      2036.000000\n",
       "mean      11989.168468\n",
       "std       10168.972843\n",
       "min         100.000000\n",
       "25%        5146.250000\n",
       "50%        8998.000000\n",
       "75%       15995.000000\n",
       "max      189000.000000\n",
       "Name: price, dtype: float64"
      ]
     },
     "execution_count": 62,
     "metadata": {},
     "output_type": "execute_result"
    }
   ],
   "source": [
    "# Checking whether vehicle prices has an impact on the ad lifetime\n",
    "vd_slow_list['price'].describe()"
   ]
  },
  {
   "cell_type": "code",
   "execution_count": 63,
   "metadata": {},
   "outputs": [
    {
     "data": {
      "text/plain": [
       "count      2036.000000\n",
       "mean     116466.953094\n",
       "std       60365.889107\n",
       "min           0.000000\n",
       "25%       76000.000000\n",
       "50%      117716.500000\n",
       "75%      153108.000000\n",
       "max      500000.000000\n",
       "Name: odometer, dtype: float64"
      ]
     },
     "execution_count": 63,
     "metadata": {},
     "output_type": "execute_result"
    }
   ],
   "source": [
    "# Checking whether vehicle odometer has an impact on the ad lifetime\n",
    "vd_slow_list['odometer'].describe()"
   ]
  },
  {
   "cell_type": "markdown",
   "metadata": {},
   "source": [
    "From the results above, there doesn't appear to be a specific reason for why those ads took so long to be removed. The **odometer, price, age** are very close to average, meaning they should take just as long as an average ad for them to get removed. Looking at the **condition** values counts, most of the values are in the good/excellent category, meaning that the condition wasn't the reason behind them taking a long time to get removed. We are left with **type**, with SUV, sedan and truck at the top. Maybe people don't like these types of vehicles? we don't think so, those same types were at the top among the quickest ads as well, so it doesn't seem like it."
   ]
  },
  {
   "cell_type": "markdown",
   "metadata": {},
   "source": [
    "<div class=\"alert alert-block alert-success\">\n",
    "<b>Reviewer's comment</b> <a class=\"tocSkip\"></a>\n",
    "    \n",
    "Now we have more information about days. Very good that you plot many graphs and tables! \n",
    "    \n",
    "Describe is great variant to show all information.\n",
    "</div>"
   ]
  },
  {
   "cell_type": "markdown",
   "metadata": {},
   "source": [
    "## Average price per each type of vehicle"
   ]
  },
  {
   "cell_type": "markdown",
   "metadata": {},
   "source": [
    "Now we are going to analyze the number of ads and the average price for each type of vehicle, to check the dependence of the number of ads on the vehicle type."
   ]
  },
  {
   "cell_type": "code",
   "execution_count": 64,
   "metadata": {},
   "outputs": [
    {
     "data": {
      "text/html": [
       "<div>\n",
       "<style scoped>\n",
       "    .dataframe tbody tr th:only-of-type {\n",
       "        vertical-align: middle;\n",
       "    }\n",
       "\n",
       "    .dataframe tbody tr th {\n",
       "        vertical-align: top;\n",
       "    }\n",
       "\n",
       "    .dataframe thead th {\n",
       "        text-align: right;\n",
       "    }\n",
       "</style>\n",
       "<table border=\"1\" class=\"dataframe\">\n",
       "  <thead>\n",
       "    <tr style=\"text-align: right;\">\n",
       "      <th></th>\n",
       "      <th>Count</th>\n",
       "      <th>Median</th>\n",
       "      <th>Mean</th>\n",
       "    </tr>\n",
       "    <tr>\n",
       "      <th>type</th>\n",
       "      <th></th>\n",
       "      <th></th>\n",
       "      <th></th>\n",
       "    </tr>\n",
       "  </thead>\n",
       "  <tbody>\n",
       "    <tr>\n",
       "      <td>SUV</td>\n",
       "      <td>12405</td>\n",
       "      <td>8900</td>\n",
       "      <td>11160.836276</td>\n",
       "    </tr>\n",
       "    <tr>\n",
       "      <td>truck</td>\n",
       "      <td>12353</td>\n",
       "      <td>14995</td>\n",
       "      <td>16738.693678</td>\n",
       "    </tr>\n",
       "    <tr>\n",
       "      <td>sedan</td>\n",
       "      <td>12154</td>\n",
       "      <td>5995</td>\n",
       "      <td>6981.014234</td>\n",
       "    </tr>\n",
       "    <tr>\n",
       "      <td>pickup</td>\n",
       "      <td>6988</td>\n",
       "      <td>14200</td>\n",
       "      <td>16058.090441</td>\n",
       "    </tr>\n",
       "    <tr>\n",
       "      <td>coupe</td>\n",
       "      <td>2303</td>\n",
       "      <td>12950</td>\n",
       "      <td>14359.418150</td>\n",
       "    </tr>\n",
       "    <tr>\n",
       "      <td>wagon</td>\n",
       "      <td>1541</td>\n",
       "      <td>7900</td>\n",
       "      <td>9088.134328</td>\n",
       "    </tr>\n",
       "    <tr>\n",
       "      <td>mini-van</td>\n",
       "      <td>1161</td>\n",
       "      <td>6495</td>\n",
       "      <td>8193.347976</td>\n",
       "    </tr>\n",
       "    <tr>\n",
       "      <td>hatchback</td>\n",
       "      <td>1047</td>\n",
       "      <td>5980</td>\n",
       "      <td>6873.714422</td>\n",
       "    </tr>\n",
       "    <tr>\n",
       "      <td>van</td>\n",
       "      <td>633</td>\n",
       "      <td>7990</td>\n",
       "      <td>10560.235387</td>\n",
       "    </tr>\n",
       "    <tr>\n",
       "      <td>convertible</td>\n",
       "      <td>446</td>\n",
       "      <td>12250</td>\n",
       "      <td>14580.764574</td>\n",
       "    </tr>\n",
       "    <tr>\n",
       "      <td>other</td>\n",
       "      <td>256</td>\n",
       "      <td>8995</td>\n",
       "      <td>10990.101562</td>\n",
       "    </tr>\n",
       "    <tr>\n",
       "      <td>offroad</td>\n",
       "      <td>214</td>\n",
       "      <td>11650</td>\n",
       "      <td>14306.172897</td>\n",
       "    </tr>\n",
       "    <tr>\n",
       "      <td>bus</td>\n",
       "      <td>24</td>\n",
       "      <td>10500</td>\n",
       "      <td>17135.666667</td>\n",
       "    </tr>\n",
       "  </tbody>\n",
       "</table>\n",
       "</div>"
      ],
      "text/plain": [
       "             Count  Median          Mean\n",
       "type                                    \n",
       "SUV          12405    8900  11160.836276\n",
       "truck        12353   14995  16738.693678\n",
       "sedan        12154    5995   6981.014234\n",
       "pickup        6988   14200  16058.090441\n",
       "coupe         2303   12950  14359.418150\n",
       "wagon         1541    7900   9088.134328\n",
       "mini-van      1161    6495   8193.347976\n",
       "hatchback     1047    5980   6873.714422\n",
       "van            633    7990  10560.235387\n",
       "convertible    446   12250  14580.764574\n",
       "other          256    8995  10990.101562\n",
       "offroad        214   11650  14306.172897\n",
       "bus             24   10500  17135.666667"
      ]
     },
     "execution_count": 64,
     "metadata": {},
     "output_type": "execute_result"
    }
   ],
   "source": [
    "new_vd_grouped = vehicle_data.pivot_table(index = 'type', values = 'price', aggfunc=['count', 'median', 'mean']).sort_values(ascending = False, by = ('count', 'price'))\n",
    "new_vd_grouped.columns = ['Count', 'Median', 'Mean']\n",
    "new_vd_grouped"
   ]
  },
  {
   "cell_type": "code",
   "execution_count": 65,
   "metadata": {
    "scrolled": true
   },
   "outputs": [
    {
     "data": {
      "text/plain": [
       "<matplotlib.axes._subplots.AxesSubplot at 0x7f255fbcf6d0>"
      ]
     },
     "execution_count": 65,
     "metadata": {},
     "output_type": "execute_result"
    },
    {
     "data": {
      "image/png": "[encoded data removed]",
      "text/plain": [
       "<Figure size 720x360 with 1 Axes>"
      ]
     },
     "metadata": {
      "needs_background": "light"
     },
     "output_type": "display_data"
    }
   ],
   "source": [
    "new_vd_grouped.plot( y = 'Count', kind = 'bar', grid = True, figsize = (10, 5))"
   ]
  },
  {
   "cell_type": "markdown",
   "metadata": {},
   "source": [
    "Looking at the histogram, we can see that SUVs and trucks had the majority of ads on the website. Below we have of the average price per each vehicle type: "
   ]
  },
  {
   "cell_type": "code",
   "execution_count": 66,
   "metadata": {},
   "outputs": [
    {
     "data": {
      "text/plain": [
       "<matplotlib.axes._subplots.AxesSubplot at 0x7f255fac5bd0>"
      ]
     },
     "execution_count": 66,
     "metadata": {},
     "output_type": "execute_result"
    },
    {
     "data": {
      "image/png": "[encoded data removed]",
      "text/plain": [
       "<Figure size 720x360 with 1 Axes>"
      ]
     },
     "metadata": {
      "needs_background": "light"
     },
     "output_type": "display_data"
    }
   ],
   "source": [
    "new_vd_grouped.sort_values(ascending = False, by = 'Mean').plot( y = 'Mean', kind = 'bar', grid = True, figsize = (10, 5))"
   ]
  },
  {
   "cell_type": "code",
   "execution_count": 67,
   "metadata": {},
   "outputs": [
    {
     "data": {
      "text/plain": [
       "<matplotlib.axes._subplots.AxesSubplot at 0x7f255fa12490>"
      ]
     },
     "execution_count": 67,
     "metadata": {},
     "output_type": "execute_result"
    },
    {
     "data": {
      "image/png": "[encoded data removed]",
      "text/plain": [
       "<Figure size 432x288 with 1 Axes>"
      ]
     },
     "metadata": {
      "needs_background": "light"
     },
     "output_type": "display_data"
    }
   ],
   "source": [
    "# Checking the distribution of the prices on our filtered dataframe\n",
    "vehicle_data.query('type == \"SUV\" or type == \"truck\"')['price'].hist(range=(0,75000), bins = 15)"
   ]
  },
  {
   "cell_type": "markdown",
   "metadata": {},
   "source": [
    "Earlier we found out that SUVs and trucks had the most ads among all other types. On the second histogram we see that bus and truck vehicle types had the highest price average.\n",
    "On the third histogram, we check the distribution of the prices among the new filtered dataframe that only includes our most popular vehicle types and the distribution is pretty similar to the distribution we seen earlier for the whole dataframe.\n",
    "\n",
    "**Next** we move on to calculate the impact of factors like age, odomter etc on the price of the vehicle types SUV and truck (top vehicle types with according to number of ads on the website)"
   ]
  },
  {
   "cell_type": "markdown",
   "metadata": {},
   "source": [
    "<div class=\"alert alert-block alert-danger\">\n",
    "<s><b>Reviewer's comment</b> <a class=\"tocSkip\"></a>\n",
    "    \n",
    "So, we choosed 2 most popular types. After that we need:\n",
    "    \n",
    "- For categorical variables (transmission type and color) plot box-and-whisker charts. For each type. **Note that the categories must have at least 50 ads; otherwise, their parameters won't be valid for analysis.**\n",
    "    \n",
    "- For age, mileage, condition create scatterplots. For each type. \n",
    "    \n",
    "Could you change your code below?\n",
    "</div>\n",
    "\n",
    "<div class=\"alert alert-block alert-info\">\n",
    "<b>Student's comment</b> <a class=\"tocSkip\"></a>\n",
    "Thanks for the tips again!\n",
    "    I have seperated the graphs for each type and changed the graphs into scatterplots & boxplots and changed my conclusions respectively!\n",
    "    Please note that I didn't include any conclusion about paint colors because almost 50% of the data were missing when we started our research. This means, it doesn't matter how much we try to reach for a conclusion here, the chances that it is a wrong conclusion is 50% and that's way too high (The unknown category could include data about any of the \n",
    "    \n",
    "    (FIXED)\n",
    "</div>"
   ]
  },
  {
   "cell_type": "markdown",
   "metadata": {},
   "source": [
    "## Price factors"
   ]
  },
  {
   "cell_type": "markdown",
   "metadata": {},
   "source": [
    "In this part of the project, we are going to check for dependencies between the price and the other factors; **age**, **odometer**, **transmission** and **condition**. We need to decide whether those factors really impacted the price of sale. Does higher age mean higher price, or lower price? Does the condition really affect the price as expected? we'd expect to have higher prices for better conditions and so on. We'll find out below!\n",
    "\n",
    "We'll start with the correlation between price and age:"
   ]
  },
  {
   "cell_type": "code",
   "execution_count": 68,
   "metadata": {
    "scrolled": true
   },
   "outputs": [
    {
     "data": {
      "text/plain": [
       "<matplotlib.axes._subplots.AxesSubplot at 0x7f255f9586d0>"
      ]
     },
     "execution_count": 68,
     "metadata": {},
     "output_type": "execute_result"
    },
    {
     "data": {
      "image/png": "[encoded data removed]",
      "text/plain": [
       "<Figure size 720x360 with 1 Axes>"
      ]
     },
     "metadata": {
      "needs_background": "light"
     },
     "output_type": "display_data"
    },
    {
     "data": {
      "image/png": "[encoded data removed]",
      "text/plain": [
       "<Figure size 720x360 with 1 Axes>"
      ]
     },
     "metadata": {
      "needs_background": "light"
     },
     "output_type": "display_data"
    }
   ],
   "source": [
    "# creating a new dataframe that includes only the filtered data (by type) \n",
    "new_vd_top1 = vehicle_data.query('type == \"SUV\"')\n",
    "new_vd_top2 = vehicle_data.query('type == \"truck\"')\n",
    "\n",
    "new_vd_top1.plot.scatter(x='age', y = 'price', figsize = (10,5), grid = True)\n",
    "new_vd_top2.plot.scatter(x='age', y = 'price', figsize = (10,5), grid = True)"
   ]
  },
  {
   "cell_type": "markdown",
   "metadata": {},
   "source": [
    "The scatter plots of the age x price are almost perfect. We can see that the older the vehicle is, the lower it's average price becomes and the lower the max price for that age. This isn't displayed accurately in the first plot but in the second plot (which belongs to the 'truck' type) we can clearly see this relation between the age and the price!\n",
    "\n",
    "Next we'll investigate odometer x price:"
   ]
  },
  {
   "cell_type": "code",
   "execution_count": 69,
   "metadata": {},
   "outputs": [
    {
     "data": {
      "text/plain": [
       "<matplotlib.axes._subplots.AxesSubplot at 0x7f255f8ae2d0>"
      ]
     },
     "execution_count": 69,
     "metadata": {},
     "output_type": "execute_result"
    },
    {
     "data": {
      "image/png": "[encoded data removed]",
      "text/plain": [
       "<Figure size 720x360 with 1 Axes>"
      ]
     },
     "metadata": {
      "needs_background": "light"
     },
     "output_type": "display_data"
    },
    {
     "data": {
      "image/png": "[encoded data removed]",
      "text/plain": [
       "<Figure size 720x360 with 1 Axes>"
      ]
     },
     "metadata": {
      "needs_background": "light"
     },
     "output_type": "display_data"
    }
   ],
   "source": [
    "new_vd_top1.plot.scatter(x='odometer', y = 'price', figsize = (10,5), grid = True)\n",
    "new_vd_top2.plot.scatter(x='odometer', y = 'price', figsize = (10,5), grid = True)"
   ]
  },
  {
   "cell_type": "markdown",
   "metadata": {},
   "source": [
    "Looking at the scatterplot above, we can see that we have a negative correlation between median price and the odometer (The higher the odometer gets, the lower the mean and max price gets) on both vehicle types. This is pretty normal and very reasonable, vehicles with higher odometers tend to have more problems than other vehicles because of how long it was on the streets, therefore people will be less interested in such vehicles and prices drop down!\n",
    "\n",
    "Next we'll investigate the correlation between the price and the condition:"
   ]
  },
  {
   "cell_type": "code",
   "execution_count": 70,
   "metadata": {},
   "outputs": [
    {
     "data": {
      "text/plain": [
       "<matplotlib.axes._subplots.AxesSubplot at 0x7f255f8e80d0>"
      ]
     },
     "execution_count": 70,
     "metadata": {},
     "output_type": "execute_result"
    },
    {
     "data": {
      "image/png": "[encoded data removed]",
      "text/plain": [
       "<Figure size 720x360 with 1 Axes>"
      ]
     },
     "metadata": {
      "needs_background": "light"
     },
     "output_type": "display_data"
    },
    {
     "data": {
      "image/png": "[encoded data removed]",
      "text/plain": [
       "<Figure size 720x360 with 1 Axes>"
      ]
     },
     "metadata": {
      "needs_background": "light"
     },
     "output_type": "display_data"
    }
   ],
   "source": [
    "new_vd_top1.plot.scatter(x='condition', y = 'price', figsize = (10,5), grid = True)\n",
    "new_vd_top2.plot.scatter(x='condition', y = 'price', figsize = (10,5), grid = True)"
   ]
  },
  {
   "cell_type": "markdown",
   "metadata": {},
   "source": [
    "The plot above is very reasonable. We'd expect that the better the condition, the higher the price, and that's exactly the case here. We can see higher conditions (3,4 & 5) have the highest average's and maxes on each type. So there's defenitely a good correlation between the condition and the price!\n",
    "\n",
    "Next we'll check the correlation between price and transmission:"
   ]
  },
  {
   "cell_type": "code",
   "execution_count": 71,
   "metadata": {},
   "outputs": [
    {
     "data": {
      "text/plain": [
       "automatic         AxesSubplot(0.1,0.559091;0.363636x0.340909)\n",
       "manual       AxesSubplot(0.536364,0.559091;0.363636x0.340909)\n",
       "other                 AxesSubplot(0.1,0.15;0.363636x0.340909)\n",
       "dtype: object"
      ]
     },
     "execution_count": 71,
     "metadata": {},
     "output_type": "execute_result"
    },
    {
     "data": {
      "image/png": "[encoded data removed]",
      "text/plain": [
       "<Figure size 576x576 with 4 Axes>"
      ]
     },
     "metadata": {
      "needs_background": "light"
     },
     "output_type": "display_data"
    },
    {
     "data": {
      "image/png": "[encoded data removed]",
      "text/plain": [
       "<Figure size 576x576 with 4 Axes>"
      ]
     },
     "metadata": {
      "needs_background": "light"
     },
     "output_type": "display_data"
    }
   ],
   "source": [
    "new_vd_top1.groupby('transmission').boxplot(by = 'transmission', column = 'price', figsize=(8,8))\n",
    "new_vd_top2.groupby('transmission').boxplot(by = 'transmission', column = 'price', figsize=(8,8))"
   ]
  },
  {
   "cell_type": "markdown",
   "metadata": {},
   "source": [
    "Finally, to check the relation between the transmission and the price we used a 'box' plot, showing us that 'automatic' vehicles had a higher max and average price than the manual transmission and other transmissions on each category. This implies that transmission type has an impact on the price, and automatic vehicles cost more than manual vehicles of the same model/type."
   ]
  },
  {
   "cell_type": "markdown",
   "metadata": {},
   "source": [
    "<div class=\"alert alert-block alert-warning\">\n",
    "<b>Reviewer's comment. V.2.</b> <a class=\"tocSkip\"></a>\n",
    "    \n",
    "We should compare transmissions type on the one graph.And color on the another. I create graphs for SUV. Coud you check it? \n",
    "\n",
    "I hope my example will be helpful. :) </div>"
   ]
  },
  {
   "cell_type": "code",
   "execution_count": 80,
   "metadata": {},
   "outputs": [],
   "source": [
    "import seaborn as sns\n",
    "import matplotlib.pyplot as plt"
   ]
  },
  {
   "cell_type": "code",
   "execution_count": 82,
   "metadata": {},
   "outputs": [
    {
     "data": {
      "image/png": "[encoded data removed]",
      "text/plain": [
       "<Figure size 432x288 with 1 Axes>"
      ]
     },
     "metadata": {
      "needs_background": "light"
     },
     "output_type": "display_data"
    }
   ],
   "source": [
    "sns.boxplot(x ='transmission', y ='price', data = new_vd_top1)\n",
    "plt.title('SUV transmission to color', fontsize = 15);"
   ]
  },
  {
   "cell_type": "code",
   "execution_count": 83,
   "metadata": {},
   "outputs": [
    {
     "data": {
      "image/png": "[encoded data removed]",
      "text/plain": [
       "<Figure size 432x288 with 1 Axes>"
      ]
     },
     "metadata": {
      "needs_background": "light"
     },
     "output_type": "display_data"
    }
   ],
   "source": [
    "sns.boxplot(x ='paint_color', y ='price', data = new_vd_top1)\n",
    "plt.title('SUV price to color', fontsize = 15);"
   ]
  },
  {
   "cell_type": "markdown",
   "metadata": {},
   "source": [
    "## General conclusion\n"
   ]
  },
  {
   "cell_type": "markdown",
   "metadata": {},
   "source": [
    "To summarize everything in one place:\n",
    "**(1)** We started our investigation with **looking for outliers** by looking at the data and the histograms representing these data.\n",
    "We expected to find outliers among the columns with the greatest ranges of values like **odometer** or **price** or **age** and less or close to nothing on columns like **condition** and **transmission**. We ended up being correct:\n",
    "\n",
    "**price** with 227 outliers with the average of 66888.34, **age** with 225 outliers with the average of 47.19, **odometer** with 287 outliers with the average of 375554.88 and **mile_per_year** with 677 outliers with the  average of 82173.85. While **cylinders or condition** had 0 outliers.\n",
    "\n",
    "After checking the histograms with the outliers and without the outliers, we decided that the histograms without the outliers were more accurate and more representitative of our data and the outliers only contributed to an unclear version of the histograms that is harder to read.\n",
    "\n",
    "**(2)** Then after we were finished with outliers, we started investigating the lifetimes of ads, some of them were removed quickly and the some actually took a long time to be removed. After studying these ads, we found out that the first part had one thing in common, which is a **Good+** condition, something that could've lead to the quick removal of these ads regardless of the rest of the data. While on the other hand, the second part (ads that lasted long), didn't have much in common, judging by the first part of the investigation, we assumed that vehicles that lasted very long are probably vehicles with bad condition, but that wasn't the case here and most of the ads that last longed were actually ads of vehicles that surprisingly were in a **Good+** condition as well.\n",
    "\n",
    "**(3)** Next we started investigating the relation between the vehicles' price and the number of ads to continue our research. Here we found out that the most popular vehicle ads were ads of **SUVs, trucks and sedans**, through the histograms we also came to the conclusion that the most popular vehicle types represent the rest of the dataframe ideally and can be used for our further investigations instead of using the whole dataframe.\n",
    "\n",
    "**(4)** Finally we are in the final phase of the research, after all the investigations we have made, we move on to check for dependencies between the price and the rest of the factors. Is there a dependcy? For some of the factors that was a positive, for the rest, not really.\n",
    "\n",
    "- When we checked for dependcy of price with age we found an interesting result; the newest and the oldest vehicles are the vehicles with the highest prices. And as we explained earlier, this is very reasonable because new cars tend to be good cars with good conditions and old cars tend to be rare which helps the price go up and up. The rest of the ads didn't have any specific order and it was scattered randomly implying that there's no relation between the age of the vehicles they presented and their price.\n",
    "\n",
    "- When we checked the impact of odometer on the price, we ended up with; The  higher the odometer > the lower the price. This means there is a dependncy between those two factors. In my opinion this is very logical as well, since vehicles with higher odometers tend to have more problems due to the time it spent running/on the roads.\n",
    "\n",
    "- When we checked for dependcy of price with **condition** we found out the pretty obvious: vehicles with better conditions had higher prices. There's nothing to explain here, that's what any reasonable person would've expected and that's what we got. So there is a dependcy between those two factors.\n",
    "\n",
    "- And finally when we checked for the relation between transmission and vehicles' median price, we ended up with the conclusion that automatic vehicles are more expensive than manual vehicles. This is pretty normal, automatic vehicles have higher prices because they include more components to help automate the gear shifting process thus making the vehicle itself more expensive.\n",
    "\n",
    "* The paint color column had alot of missing values at the start of the research and we had to fill them with uncertain values instead. Therefore, we decided to exclude this factor from our research. Beside that, paint color shouldn't really be of any impact on the price considering normal paint colors have similar prices.. (unless your painting your vehicle with gold eh?)\n",
    "\n",
    "To sum up once and for all, what factors really had an impact on the price over the research? Mainly the vehicle condition, odometer and age at some level. Is that what we would've expected before we started? It is safe to "
   ]
  },
  {
   "cell_type": "markdown",
   "metadata": {},
   "source": [
    "<div class=\"alert alert-block alert-success\">\n",
    "<b>Reviewer's comment</b> <a class=\"tocSkip\"></a>\n",
    "    \n",
    "Very good final conclusion! We desribe our results with details. It is informative for clients. They often read only this part. :) </div>"
   ]
  }
 ],
 "metadata": {
  "ExecuteTimeLog": [
   {
    "duration": 828,
    "start_time": "2021-11-16T09:21:11.304Z"
   },
   {
    "duration": 893,
    "start_time": "2021-11-16T09:21:17.728Z"
   },
   {
    "duration": 1150,
    "start_time": "2021-11-16T09:21:29.568Z"
   },
   {
    "duration": 3,
    "start_time": "2021-11-16T09:24:14.495Z"
   },
   {
    "duration": 120,
    "start_time": "2021-11-16T09:24:46.630Z"
   },
   {
    "duration": 3,
    "start_time": "2021-11-16T09:28:27.882Z"
   },
   {
    "duration": 4,
    "start_time": "2021-11-16T09:29:54.281Z"
   },
   {
    "duration": 3,
    "start_time": "2021-11-16T09:30:45.936Z"
   },
   {
    "duration": 4,
    "start_time": "2021-11-16T09:31:06.300Z"
   },
   {
    "duration": 113,
    "start_time": "2021-11-16T09:31:37.208Z"
   },
   {
    "duration": 143,
    "start_time": "2021-11-16T09:31:48.656Z"
   },
   {
    "duration": 98,
    "start_time": "2021-11-16T09:31:55.678Z"
   },
   {
    "duration": 3,
    "start_time": "2021-11-16T09:32:08.535Z"
   },
   {
    "duration": 111,
    "start_time": "2021-11-16T09:32:10.120Z"
   },
   {
    "duration": 3,
    "start_time": "2021-11-16T09:32:15.732Z"
   },
   {
    "duration": 4,
    "start_time": "2021-11-16T09:32:29.423Z"
   },
   {
    "duration": 3,
    "start_time": "2021-11-16T10:03:03.074Z"
   },
   {
    "duration": 3,
    "start_time": "2021-11-16T10:10:01.288Z"
   },
   {
    "duration": 3,
    "start_time": "2021-11-16T10:10:46.923Z"
   },
   {
    "duration": 121,
    "start_time": "2021-11-16T10:37:46.494Z"
   },
   {
    "duration": 125,
    "start_time": "2021-11-16T10:38:20.632Z"
   },
   {
    "duration": 112,
    "start_time": "2021-11-16T10:46:53.001Z"
   },
   {
    "duration": 110,
    "start_time": "2021-11-16T10:48:25.775Z"
   },
   {
    "duration": 3,
    "start_time": "2021-11-16T10:50:18.720Z"
   },
   {
    "duration": 4,
    "start_time": "2021-11-16T10:50:37.649Z"
   },
   {
    "duration": 2,
    "start_time": "2021-11-16T10:50:51.884Z"
   },
   {
    "duration": 3,
    "start_time": "2021-11-16T10:51:56.237Z"
   },
   {
    "duration": 101,
    "start_time": "2021-11-16T10:53:13.791Z"
   },
   {
    "duration": 3,
    "start_time": "2021-11-16T10:55:59.186Z"
   },
   {
    "duration": 3,
    "start_time": "2021-11-16T10:56:10.751Z"
   },
   {
    "duration": 3,
    "start_time": "2021-11-16T10:56:49.038Z"
   },
   {
    "duration": 3,
    "start_time": "2021-11-16T10:56:49.174Z"
   },
   {
    "duration": 4,
    "start_time": "2021-11-16T10:56:49.414Z"
   },
   {
    "duration": 3,
    "start_time": "2021-11-16T10:56:49.680Z"
   },
   {
    "duration": 3,
    "start_time": "2021-11-16T10:56:50.370Z"
   },
   {
    "duration": 114,
    "start_time": "2021-11-16T10:59:34.518Z"
   },
   {
    "duration": 3,
    "start_time": "2021-11-16T11:01:41.201Z"
   },
   {
    "duration": 116,
    "start_time": "2021-11-16T11:01:48.754Z"
   },
   {
    "duration": 3,
    "start_time": "2021-11-16T11:02:16.685Z"
   },
   {
    "duration": 3,
    "start_time": "2021-11-16T11:02:19.479Z"
   },
   {
    "duration": 3,
    "start_time": "2021-11-16T11:02:47.067Z"
   },
   {
    "duration": 3,
    "start_time": "2021-11-16T11:02:49.353Z"
   },
   {
    "duration": 3,
    "start_time": "2021-11-16T11:03:07.835Z"
   },
   {
    "duration": 3,
    "start_time": "2021-11-16T11:03:07.953Z"
   },
   {
    "duration": 112,
    "start_time": "2021-11-16T11:07:52.072Z"
   },
   {
    "duration": 187,
    "start_time": "2021-11-16T11:09:23.468Z"
   },
   {
    "duration": 4,
    "start_time": "2021-11-16T11:10:01.455Z"
   },
   {
    "duration": 3,
    "start_time": "2021-11-16T11:10:05.069Z"
   },
   {
    "duration": 4,
    "start_time": "2021-11-16T11:10:13.376Z"
   },
   {
    "duration": 3,
    "start_time": "2021-11-16T11:10:14.434Z"
   },
   {
    "duration": 3,
    "start_time": "2021-11-16T11:10:22.853Z"
   },
   {
    "duration": 4,
    "start_time": "2021-11-16T11:27:29.279Z"
   },
   {
    "duration": 4,
    "start_time": "2021-11-16T11:29:08.919Z"
   },
   {
    "duration": 118,
    "start_time": "2021-11-16T11:29:46.703Z"
   },
   {
    "duration": 437,
    "start_time": "2021-11-16T11:36:02.181Z"
   },
   {
    "duration": 157,
    "start_time": "2021-11-16T11:36:14.388Z"
   },
   {
    "duration": 207,
    "start_time": "2021-11-16T11:47:15.898Z"
   },
   {
    "duration": 3,
    "start_time": "2021-11-16T11:53:52.092Z"
   },
   {
    "duration": 3,
    "start_time": "2021-11-16T11:53:52.236Z"
   },
   {
    "duration": 3,
    "start_time": "2021-11-16T11:59:12.005Z"
   },
   {
    "duration": 112,
    "start_time": "2021-11-16T12:00:33.446Z"
   },
   {
    "duration": 3,
    "start_time": "2021-11-16T12:02:14.453Z"
   },
   {
    "duration": 3,
    "start_time": "2021-11-16T12:02:39.512Z"
   },
   {
    "duration": 106,
    "start_time": "2021-11-16T12:03:03.460Z"
   },
   {
    "duration": 784,
    "start_time": "2022-01-31T14:26:15.893Z"
   },
   {
    "duration": 145,
    "start_time": "2022-01-31T14:26:18.685Z"
   },
   {
    "duration": 28,
    "start_time": "2022-01-31T14:27:32.147Z"
   },
   {
    "duration": 548,
    "start_time": "2022-01-31T14:27:56.844Z"
   },
   {
    "duration": 77,
    "start_time": "2022-01-31T14:28:03.775Z"
   },
   {
    "duration": 372,
    "start_time": "2022-01-31T14:30:44.539Z"
   },
   {
    "duration": 39,
    "start_time": "2022-01-31T14:30:52.014Z"
   },
   {
    "duration": 456,
    "start_time": "2022-01-31T14:32:23.500Z"
   },
   {
    "duration": 30,
    "start_time": "2022-01-31T14:32:27.174Z"
   },
   {
    "duration": 9,
    "start_time": "2022-01-31T14:36:05.248Z"
   },
   {
    "duration": 7,
    "start_time": "2022-01-31T14:39:19.422Z"
   },
   {
    "duration": 114,
    "start_time": "2022-01-31T14:46:29.493Z"
   },
   {
    "duration": 6,
    "start_time": "2022-01-31T14:46:38.943Z"
   },
   {
    "duration": 77,
    "start_time": "2022-01-31T14:53:07.350Z"
   },
   {
    "duration": 6,
    "start_time": "2022-01-31T14:53:27.083Z"
   },
   {
    "duration": 385,
    "start_time": "2022-01-31T14:54:42.901Z"
   },
   {
    "duration": 8,
    "start_time": "2022-01-31T14:54:49.117Z"
   },
   {
    "duration": 7,
    "start_time": "2022-01-31T14:55:01.162Z"
   },
   {
    "duration": 7,
    "start_time": "2022-01-31T14:57:52.799Z"
   },
   {
    "duration": 8,
    "start_time": "2022-01-31T14:58:02.888Z"
   },
   {
    "duration": 347,
    "start_time": "2022-01-31T14:58:15.346Z"
   },
   {
    "duration": 12,
    "start_time": "2022-01-31T14:58:19.123Z"
   },
   {
    "duration": 8,
    "start_time": "2022-01-31T15:02:39.507Z"
   },
   {
    "duration": 6,
    "start_time": "2022-01-31T15:03:02.438Z"
   },
   {
    "duration": 109,
    "start_time": "2022-01-31T15:03:19.456Z"
   },
   {
    "duration": 7,
    "start_time": "2022-01-31T15:03:20.800Z"
   },
   {
    "duration": 38,
    "start_time": "2022-01-31T15:04:07.379Z"
   },
   {
    "duration": 385,
    "start_time": "2022-01-31T15:07:19.633Z"
   },
   {
    "duration": 7,
    "start_time": "2022-01-31T15:07:49.704Z"
   },
   {
    "duration": 7,
    "start_time": "2022-01-31T15:07:54.128Z"
   },
   {
    "duration": 23,
    "start_time": "2022-01-31T15:08:26.786Z"
   },
   {
    "duration": 15,
    "start_time": "2022-01-31T15:14:01.870Z"
   },
   {
    "duration": 30,
    "start_time": "2022-01-31T15:14:41.660Z"
   },
   {
    "duration": 37,
    "start_time": "2022-01-31T15:15:22.138Z"
   },
   {
    "duration": 23,
    "start_time": "2022-01-31T15:15:33.595Z"
   },
   {
    "duration": -106,
    "start_time": "2022-01-31T15:18:38.847Z"
   },
   {
    "duration": 493,
    "start_time": "2022-01-31T15:18:40.009Z"
   },
   {
    "duration": 6,
    "start_time": "2022-01-31T15:18:48.041Z"
   },
   {
    "duration": 41,
    "start_time": "2022-01-31T15:18:50.128Z"
   },
   {
    "duration": 599,
    "start_time": "2022-01-31T15:19:04.874Z"
   },
   {
    "duration": 410,
    "start_time": "2022-01-31T15:19:14.314Z"
   },
   {
    "duration": 864,
    "start_time": "2022-01-31T15:19:40.550Z"
   },
   {
    "duration": 425,
    "start_time": "2022-01-31T15:22:29.992Z"
   },
   {
    "duration": 21,
    "start_time": "2022-01-31T15:22:41.158Z"
   },
   {
    "duration": 26,
    "start_time": "2022-01-31T15:22:50.891Z"
   },
   {
    "duration": 18,
    "start_time": "2022-01-31T15:23:01.670Z"
   },
   {
    "duration": 22,
    "start_time": "2022-01-31T15:23:05.021Z"
   },
   {
    "duration": 52,
    "start_time": "2022-01-31T15:23:10.955Z"
   },
   {
    "duration": 57,
    "start_time": "2022-01-31T15:23:24.444Z"
   },
   {
    "duration": 30,
    "start_time": "2022-01-31T15:23:39.798Z"
   },
   {
    "duration": 52,
    "start_time": "2022-01-31T15:25:36.108Z"
   },
   {
    "duration": 31,
    "start_time": "2022-01-31T15:26:06.631Z"
   },
   {
    "duration": 24,
    "start_time": "2022-01-31T15:26:37.109Z"
   },
   {
    "duration": 40,
    "start_time": "2022-01-31T15:26:54.424Z"
   },
   {
    "duration": 125,
    "start_time": "2022-01-31T15:28:34.889Z"
   },
   {
    "duration": 142,
    "start_time": "2022-01-31T15:28:42.169Z"
   },
   {
    "duration": 391,
    "start_time": "2022-01-31T15:30:06.096Z"
   },
   {
    "duration": 24,
    "start_time": "2022-01-31T15:30:13.996Z"
   },
   {
    "duration": 28,
    "start_time": "2022-01-31T15:30:29.159Z"
   },
   {
    "duration": 34,
    "start_time": "2022-01-31T15:30:38.774Z"
   },
   {
    "duration": 44,
    "start_time": "2022-01-31T15:31:56.013Z"
   },
   {
    "duration": 43,
    "start_time": "2022-01-31T15:32:05.959Z"
   },
   {
    "duration": 35,
    "start_time": "2022-01-31T15:32:13.121Z"
   },
   {
    "duration": 91,
    "start_time": "2022-01-31T15:32:46.177Z"
   },
   {
    "duration": 43,
    "start_time": "2022-01-31T15:37:18.536Z"
   },
   {
    "duration": 371,
    "start_time": "2022-01-31T15:38:27.447Z"
   },
   {
    "duration": 61,
    "start_time": "2022-01-31T15:38:36.392Z"
   },
   {
    "duration": 33,
    "start_time": "2022-01-31T15:40:57.921Z"
   },
   {
    "duration": 12,
    "start_time": "2022-01-31T15:42:53.940Z"
   },
   {
    "duration": 48,
    "start_time": "2022-01-31T15:43:07.961Z"
   },
   {
    "duration": 10091,
    "start_time": "2022-01-31T15:43:22.093Z"
   },
   {
    "duration": 19,
    "start_time": "2022-01-31T15:43:47.330Z"
   },
   {
    "duration": 47,
    "start_time": "2022-01-31T15:43:54.487Z"
   },
   {
    "duration": 48,
    "start_time": "2022-01-31T15:44:24.802Z"
   },
   {
    "duration": 86,
    "start_time": "2022-01-31T15:44:40.247Z"
   },
   {
    "duration": 19,
    "start_time": "2022-01-31T15:44:45.244Z"
   },
   {
    "duration": 22,
    "start_time": "2022-01-31T15:46:02.197Z"
   },
   {
    "duration": 107,
    "start_time": "2022-01-31T15:46:20.137Z"
   },
   {
    "duration": 75,
    "start_time": "2022-01-31T15:47:56.118Z"
   },
   {
    "duration": 39,
    "start_time": "2022-01-31T15:48:06.826Z"
   },
   {
    "duration": 96,
    "start_time": "2022-01-31T15:48:21.005Z"
   },
   {
    "duration": 36,
    "start_time": "2022-01-31T15:50:10.583Z"
   },
   {
    "duration": 109,
    "start_time": "2022-01-31T15:50:46.656Z"
   },
   {
    "duration": 84,
    "start_time": "2022-01-31T15:51:26.029Z"
   },
   {
    "duration": 502,
    "start_time": "2022-01-31T15:53:38.345Z"
   },
   {
    "duration": 339,
    "start_time": "2022-01-31T15:54:29.423Z"
   },
   {
    "duration": 331,
    "start_time": "2022-01-31T15:54:39.819Z"
   },
   {
    "duration": 469,
    "start_time": "2022-01-31T15:55:00.327Z"
   },
   {
    "duration": 825,
    "start_time": "2022-01-31T15:55:26.009Z"
   },
   {
    "duration": 457,
    "start_time": "2022-01-31T15:55:30.635Z"
   },
   {
    "duration": 321,
    "start_time": "2022-01-31T15:55:39.350Z"
   },
   {
    "duration": 325,
    "start_time": "2022-01-31T15:57:16.391Z"
   },
   {
    "duration": 335,
    "start_time": "2022-01-31T15:58:08.286Z"
   },
   {
    "duration": 312,
    "start_time": "2022-01-31T15:59:01.920Z"
   },
   {
    "duration": 687,
    "start_time": "2022-01-31T15:59:20.539Z"
   },
   {
    "duration": 362,
    "start_time": "2022-01-31T15:59:25.107Z"
   },
   {
    "duration": 286,
    "start_time": "2022-01-31T15:59:45.292Z"
   },
   {
    "duration": 400,
    "start_time": "2022-01-31T16:00:26.043Z"
   },
   {
    "duration": 322,
    "start_time": "2022-01-31T16:00:59.013Z"
   },
   {
    "duration": 376,
    "start_time": "2022-01-31T16:01:12.567Z"
   },
   {
    "duration": 755,
    "start_time": "2022-01-31T16:01:20.932Z"
   },
   {
    "duration": 363,
    "start_time": "2022-01-31T16:01:25.091Z"
   },
   {
    "duration": 302,
    "start_time": "2022-01-31T16:02:34.994Z"
   },
   {
    "duration": 307,
    "start_time": "2022-01-31T16:03:02.375Z"
   },
   {
    "duration": 289,
    "start_time": "2022-01-31T16:04:18.092Z"
   },
   {
    "duration": 303,
    "start_time": "2022-01-31T16:05:39.063Z"
   },
   {
    "duration": 19,
    "start_time": "2022-01-31T16:07:43.712Z"
   },
   {
    "duration": 23,
    "start_time": "2022-01-31T16:08:27.637Z"
   },
   {
    "duration": 14,
    "start_time": "2022-01-31T16:13:06.238Z"
   },
   {
    "duration": 55,
    "start_time": "2022-01-31T16:15:25.015Z"
   },
   {
    "duration": 412,
    "start_time": "2022-01-31T16:16:09.000Z"
   },
   {
    "duration": 10,
    "start_time": "2022-01-31T16:16:22.998Z"
   },
   {
    "duration": 8,
    "start_time": "2022-01-31T16:16:33.448Z"
   },
   {
    "duration": 66,
    "start_time": "2022-01-31T16:16:49.115Z"
   },
   {
    "duration": 10,
    "start_time": "2022-01-31T16:17:02.381Z"
   },
   {
    "duration": 54,
    "start_time": "2022-01-31T16:17:52.012Z"
   },
   {
    "duration": 9,
    "start_time": "2022-01-31T16:21:26.025Z"
   },
   {
    "duration": 593,
    "start_time": "2022-01-31T16:21:37.431Z"
   },
   {
    "duration": 40,
    "start_time": "2022-01-31T16:21:42.619Z"
   },
   {
    "duration": 443,
    "start_time": "2022-01-31T16:21:59.274Z"
   },
   {
    "duration": 43,
    "start_time": "2022-01-31T16:22:05.991Z"
   },
   {
    "duration": 21,
    "start_time": "2022-01-31T16:22:52.274Z"
   },
   {
    "duration": 440,
    "start_time": "2022-01-31T16:23:45.313Z"
   },
   {
    "duration": 40,
    "start_time": "2022-01-31T16:24:44.424Z"
   },
   {
    "duration": 10,
    "start_time": "2022-01-31T16:28:09.384Z"
   },
   {
    "duration": 10,
    "start_time": "2022-01-31T16:28:27.508Z"
   },
   {
    "duration": 50,
    "start_time": "2022-01-31T16:29:41.474Z"
   },
   {
    "duration": 17,
    "start_time": "2022-01-31T16:30:04.711Z"
   },
   {
    "duration": 20,
    "start_time": "2022-01-31T16:30:48.707Z"
   },
   {
    "duration": 19,
    "start_time": "2022-01-31T16:32:27.941Z"
   },
   {
    "duration": 54,
    "start_time": "2022-01-31T16:32:51.685Z"
   },
   {
    "duration": 27,
    "start_time": "2022-01-31T16:33:36.240Z"
   },
   {
    "duration": 12,
    "start_time": "2022-01-31T16:35:09.650Z"
   },
   {
    "duration": 14,
    "start_time": "2022-01-31T16:36:35.542Z"
   },
   {
    "duration": 43,
    "start_time": "2022-01-31T16:36:44.950Z"
   },
   {
    "duration": 12,
    "start_time": "2022-01-31T16:37:10.742Z"
   },
   {
    "duration": 13,
    "start_time": "2022-01-31T16:37:46.408Z"
   },
   {
    "duration": 15,
    "start_time": "2022-01-31T16:38:01.544Z"
   },
   {
    "duration": 11,
    "start_time": "2022-01-31T16:38:07.778Z"
   },
   {
    "duration": 20,
    "start_time": "2022-01-31T16:38:28.039Z"
   },
   {
    "duration": 16,
    "start_time": "2022-01-31T16:38:44.846Z"
   },
   {
    "duration": 34,
    "start_time": "2022-01-31T16:39:16.629Z"
   },
   {
    "duration": 23,
    "start_time": "2022-01-31T16:39:42.145Z"
   },
   {
    "duration": 16,
    "start_time": "2022-01-31T16:39:48.464Z"
   },
   {
    "duration": 18,
    "start_time": "2022-01-31T16:39:52.634Z"
   },
   {
    "duration": 17,
    "start_time": "2022-01-31T16:40:36.702Z"
   },
   {
    "duration": 17,
    "start_time": "2022-01-31T16:40:41.829Z"
   },
   {
    "duration": 17,
    "start_time": "2022-01-31T16:40:44.811Z"
   },
   {
    "duration": 21,
    "start_time": "2022-01-31T16:41:02.837Z"
   },
   {
    "duration": 28,
    "start_time": "2022-01-31T16:59:39.795Z"
   },
   {
    "duration": 33,
    "start_time": "2022-01-31T16:59:48.981Z"
   },
   {
    "duration": 385,
    "start_time": "2022-01-31T17:00:12.342Z"
   },
   {
    "duration": 29,
    "start_time": "2022-01-31T17:00:30.198Z"
   },
   {
    "duration": 35,
    "start_time": "2022-01-31T17:03:32.089Z"
   },
   {
    "duration": 30,
    "start_time": "2022-01-31T17:03:52.367Z"
   },
   {
    "duration": 30,
    "start_time": "2022-01-31T17:04:09.278Z"
   },
   {
    "duration": 20,
    "start_time": "2022-01-31T17:10:03.995Z"
   },
   {
    "duration": 416,
    "start_time": "2022-01-31T17:10:06.415Z"
   },
   {
    "duration": 337,
    "start_time": "2022-01-31T17:10:12.618Z"
   },
   {
    "duration": 315,
    "start_time": "2022-01-31T17:13:29.307Z"
   },
   {
    "duration": 324,
    "start_time": "2022-01-31T17:13:40.635Z"
   },
   {
    "duration": 320,
    "start_time": "2022-01-31T17:17:12.472Z"
   },
   {
    "duration": 322,
    "start_time": "2022-01-31T17:17:20.605Z"
   },
   {
    "duration": 352,
    "start_time": "2022-01-31T17:18:34.173Z"
   },
   {
    "duration": 426,
    "start_time": "2022-01-31T17:32:44.450Z"
   },
   {
    "duration": 670,
    "start_time": "2022-01-31T17:34:44.526Z"
   },
   {
    "duration": 387,
    "start_time": "2022-01-31T17:34:58.861Z"
   },
   {
    "duration": 1896,
    "start_time": "2022-01-31T17:35:21.101Z"
   },
   {
    "duration": 432,
    "start_time": "2022-01-31T17:35:36.859Z"
   },
   {
    "duration": 450,
    "start_time": "2022-01-31T17:36:23.302Z"
   },
   {
    "duration": 25,
    "start_time": "2022-01-31T17:37:28.321Z"
   },
   {
    "duration": 566,
    "start_time": "2022-01-31T17:41:16.054Z"
   },
   {
    "duration": 12281,
    "start_time": "2022-01-31T17:43:25.352Z"
   },
   {
    "duration": 19,
    "start_time": "2022-01-31T17:43:52.201Z"
   },
   {
    "duration": 15925,
    "start_time": "2022-01-31T17:43:54.197Z"
   },
   {
    "duration": 2977,
    "start_time": "2022-01-31T17:44:40.460Z"
   },
   {
    "duration": 2801,
    "start_time": "2022-01-31T17:44:57.534Z"
   },
   {
    "duration": 9285,
    "start_time": "2022-01-31T17:45:19.821Z"
   },
   {
    "duration": 33,
    "start_time": "2022-01-31T17:46:00.049Z"
   },
   {
    "duration": 35,
    "start_time": "2022-01-31T17:46:07.370Z"
   },
   {
    "duration": 2792,
    "start_time": "2022-01-31T17:47:29.420Z"
   },
   {
    "duration": 28,
    "start_time": "2022-01-31T17:48:05.518Z"
   },
   {
    "duration": 500,
    "start_time": "2022-01-31T17:48:11.083Z"
   },
   {
    "duration": 53646,
    "start_time": "2022-01-31T17:53:58.116Z"
   },
   {
    "duration": 59,
    "start_time": "2022-01-31T18:04:58.671Z"
   },
   {
    "duration": 54,
    "start_time": "2022-01-31T18:05:08.930Z"
   },
   {
    "duration": 46,
    "start_time": "2022-01-31T18:05:30.088Z"
   },
   {
    "duration": 52,
    "start_time": "2022-01-31T18:05:35.359Z"
   },
   {
    "duration": 429,
    "start_time": "2022-01-31T18:07:30.713Z"
   },
   {
    "duration": 505,
    "start_time": "2022-01-31T18:07:46.292Z"
   },
   {
    "duration": 59,
    "start_time": "2022-01-31T18:08:01.350Z"
   },
   {
    "duration": 121,
    "start_time": "2022-01-31T18:08:12.181Z"
   },
   {
    "duration": 11273,
    "start_time": "2022-01-31T18:11:51.117Z"
   },
   {
    "duration": 399,
    "start_time": "2022-01-31T18:12:25.001Z"
   },
   {
    "duration": 9846,
    "start_time": "2022-01-31T18:18:17.390Z"
   },
   {
    "duration": 9863,
    "start_time": "2022-01-31T18:19:32.085Z"
   },
   {
    "duration": 9674,
    "start_time": "2022-01-31T18:20:54.289Z"
   },
   {
    "duration": 42956,
    "start_time": "2022-01-31T18:21:46.512Z"
   },
   {
    "duration": 2057,
    "start_time": "2022-01-31T18:23:19.993Z"
   },
   {
    "duration": 184476,
    "start_time": "2022-01-31T18:23:32.688Z"
   },
   {
    "duration": 250,
    "start_time": "2022-01-31T18:26:42.972Z"
   },
   {
    "duration": 237,
    "start_time": "2022-01-31T18:26:46.325Z"
   },
   {
    "duration": 129,
    "start_time": "2022-01-31T19:18:42.543Z"
   },
   {
    "duration": 35,
    "start_time": "2022-01-31T19:18:57.742Z"
   },
   {
    "duration": 27,
    "start_time": "2022-01-31T19:20:21.019Z"
   },
   {
    "duration": 54,
    "start_time": "2022-01-31T19:20:31.368Z"
   },
   {
    "duration": 22,
    "start_time": "2022-01-31T19:31:54.545Z"
   },
   {
    "duration": 362,
    "start_time": "2022-01-31T19:34:33.286Z"
   },
   {
    "duration": 7,
    "start_time": "2022-01-31T19:34:49.576Z"
   },
   {
    "duration": 359,
    "start_time": "2022-01-31T19:35:23.832Z"
   },
   {
    "duration": 418,
    "start_time": "2022-01-31T19:35:42.480Z"
   },
   {
    "duration": 399,
    "start_time": "2022-01-31T19:36:14.763Z"
   },
   {
    "duration": 437,
    "start_time": "2022-01-31T19:36:26.393Z"
   },
   {
    "duration": 7,
    "start_time": "2022-01-31T19:36:37.596Z"
   },
   {
    "duration": 8,
    "start_time": "2022-01-31T19:36:45.466Z"
   },
   {
    "duration": 9,
    "start_time": "2022-01-31T19:37:36.314Z"
   },
   {
    "duration": 8,
    "start_time": "2022-01-31T19:38:15.843Z"
   },
   {
    "duration": 7,
    "start_time": "2022-01-31T19:39:02.374Z"
   },
   {
    "duration": 9,
    "start_time": "2022-01-31T19:39:24.560Z"
   },
   {
    "duration": 8,
    "start_time": "2022-01-31T19:39:43.549Z"
   },
   {
    "duration": 8,
    "start_time": "2022-01-31T19:39:56.135Z"
   },
   {
    "duration": 27,
    "start_time": "2022-01-31T19:40:23.369Z"
   },
   {
    "duration": 28,
    "start_time": "2022-01-31T19:40:44.339Z"
   },
   {
    "duration": 27,
    "start_time": "2022-01-31T19:41:07.880Z"
   },
   {
    "duration": 33,
    "start_time": "2022-01-31T19:41:29.723Z"
   },
   {
    "duration": 27,
    "start_time": "2022-01-31T19:41:36.538Z"
   },
   {
    "duration": 29,
    "start_time": "2022-01-31T19:41:44.575Z"
   },
   {
    "duration": 481,
    "start_time": "2022-01-31T19:42:00.260Z"
   },
   {
    "duration": 34,
    "start_time": "2022-01-31T19:42:29.124Z"
   },
   {
    "duration": 6,
    "start_time": "2022-01-31T20:13:28.436Z"
   },
   {
    "duration": 7,
    "start_time": "2022-01-31T20:15:11.379Z"
   },
   {
    "duration": 17,
    "start_time": "2022-01-31T20:15:42.720Z"
   },
   {
    "duration": 8,
    "start_time": "2022-01-31T20:16:26.749Z"
   },
   {
    "duration": 7,
    "start_time": "2022-01-31T20:16:32.161Z"
   },
   {
    "duration": 7,
    "start_time": "2022-01-31T20:22:21.359Z"
   },
   {
    "duration": 13,
    "start_time": "2022-01-31T20:22:34.169Z"
   },
   {
    "duration": 7,
    "start_time": "2022-01-31T20:23:34.658Z"
   },
   {
    "duration": 26,
    "start_time": "2022-01-31T20:23:45.608Z"
   },
   {
    "duration": 111,
    "start_time": "2022-01-31T20:24:15.137Z"
   },
   {
    "duration": 111,
    "start_time": "2022-01-31T20:24:17.038Z"
   },
   {
    "duration": 6,
    "start_time": "2022-01-31T20:24:18.948Z"
   },
   {
    "duration": 6,
    "start_time": "2022-01-31T20:28:35.713Z"
   },
   {
    "duration": 137,
    "start_time": "2022-01-31T20:30:11.170Z"
   },
   {
    "duration": 80,
    "start_time": "2022-01-31T20:32:57.166Z"
   },
   {
    "duration": 20,
    "start_time": "2022-01-31T20:33:00.101Z"
   },
   {
    "duration": 363,
    "start_time": "2022-01-31T20:33:34.899Z"
   },
   {
    "duration": 77,
    "start_time": "2022-01-31T20:33:44.540Z"
   },
   {
    "duration": 119,
    "start_time": "2022-01-31T20:33:49.325Z"
   },
   {
    "duration": 8,
    "start_time": "2022-01-31T20:33:52.865Z"
   },
   {
    "duration": 164,
    "start_time": "2022-01-31T20:35:08.831Z"
   },
   {
    "duration": 104,
    "start_time": "2022-01-31T20:35:51.822Z"
   },
   {
    "duration": 134,
    "start_time": "2022-01-31T20:37:59.344Z"
   },
   {
    "duration": 103,
    "start_time": "2022-01-31T20:38:37.597Z"
   },
   {
    "duration": 7,
    "start_time": "2022-01-31T20:38:41.236Z"
   },
   {
    "duration": 156,
    "start_time": "2022-01-31T20:40:02.024Z"
   },
   {
    "duration": 156,
    "start_time": "2022-01-31T20:40:55.137Z"
   },
   {
    "duration": 175,
    "start_time": "2022-01-31T20:41:02.896Z"
   },
   {
    "duration": 210,
    "start_time": "2022-01-31T20:42:02.082Z"
   },
   {
    "duration": 130,
    "start_time": "2022-01-31T20:42:37.963Z"
   },
   {
    "duration": 625,
    "start_time": "2022-01-31T20:43:27.502Z"
   },
   {
    "duration": 83,
    "start_time": "2022-01-31T20:43:36.405Z"
   },
   {
    "duration": 7,
    "start_time": "2022-01-31T20:43:39.403Z"
   },
   {
    "duration": 898,
    "start_time": "2022-01-31T20:44:11.276Z"
   },
   {
    "duration": 127,
    "start_time": "2022-01-31T20:44:12.176Z"
   },
   {
    "duration": 59,
    "start_time": "2022-01-31T20:44:12.306Z"
   },
   {
    "duration": 32,
    "start_time": "2022-01-31T20:44:12.369Z"
   },
   {
    "duration": 103,
    "start_time": "2022-01-31T20:44:12.404Z"
   },
   {
    "duration": 27,
    "start_time": "2022-01-31T20:44:12.510Z"
   },
   {
    "duration": 51,
    "start_time": "2022-01-31T20:44:12.539Z"
   },
   {
    "duration": 8,
    "start_time": "2022-01-31T20:44:12.596Z"
   },
   {
    "duration": 58,
    "start_time": "2022-01-31T20:44:12.607Z"
   },
   {
    "duration": 12,
    "start_time": "2022-01-31T20:44:12.669Z"
   },
   {
    "duration": 7,
    "start_time": "2022-01-31T20:44:12.683Z"
   },
   {
    "duration": 6,
    "start_time": "2022-01-31T20:44:12.693Z"
   },
   {
    "duration": 197,
    "start_time": "2022-01-31T20:44:12.701Z"
   },
   {
    "duration": 7,
    "start_time": "2022-01-31T20:44:12.901Z"
   },
   {
    "duration": 9,
    "start_time": "2022-01-31T20:44:12.910Z"
   },
   {
    "duration": 112,
    "start_time": "2022-01-31T20:44:12.921Z"
   },
   {
    "duration": 6,
    "start_time": "2022-01-31T20:44:13.035Z"
   },
   {
    "duration": 21,
    "start_time": "2022-01-31T20:44:13.043Z"
   },
   {
    "duration": 20,
    "start_time": "2022-01-31T20:44:13.067Z"
   },
   {
    "duration": 7,
    "start_time": "2022-01-31T20:44:13.089Z"
   },
   {
    "duration": 13,
    "start_time": "2022-01-31T20:44:13.098Z"
   },
   {
    "duration": 193,
    "start_time": "2022-01-31T20:44:13.113Z"
   },
   {
    "duration": 6,
    "start_time": "2022-01-31T20:44:13.315Z"
   },
   {
    "duration": 70,
    "start_time": "2022-01-31T20:44:13.326Z"
   },
   {
    "duration": 9,
    "start_time": "2022-01-31T20:44:13.399Z"
   },
   {
    "duration": 49,
    "start_time": "2022-01-31T20:44:13.411Z"
   },
   {
    "duration": 28,
    "start_time": "2022-01-31T20:44:13.463Z"
   },
   {
    "duration": 68,
    "start_time": "2022-01-31T20:44:13.493Z"
   },
   {
    "duration": 40,
    "start_time": "2022-01-31T20:44:13.564Z"
   },
   {
    "duration": 23,
    "start_time": "2022-01-31T20:44:13.607Z"
   },
   {
    "duration": 17,
    "start_time": "2022-01-31T20:44:13.661Z"
   },
   {
    "duration": 1006,
    "start_time": "2022-01-31T20:44:13.681Z"
   },
   {
    "duration": 92,
    "start_time": "2022-01-31T20:44:14.689Z"
   },
   {
    "duration": 44,
    "start_time": "2022-01-31T20:44:14.784Z"
   },
   {
    "duration": 92,
    "start_time": "2022-01-31T20:44:14.831Z"
   },
   {
    "duration": 35,
    "start_time": "2022-01-31T20:44:14.926Z"
   },
   {
    "duration": 113,
    "start_time": "2022-01-31T20:44:14.964Z"
   },
   {
    "duration": 133,
    "start_time": "2022-01-31T20:44:15.080Z"
   },
   {
    "duration": 470,
    "start_time": "2022-01-31T20:44:15.216Z"
   },
   {
    "duration": 352,
    "start_time": "2022-01-31T20:44:15.689Z"
   },
   {
    "duration": 461,
    "start_time": "2022-01-31T20:44:16.043Z"
   },
   {
    "duration": 346,
    "start_time": "2022-01-31T20:44:16.507Z"
   },
   {
    "duration": 338,
    "start_time": "2022-01-31T20:44:16.855Z"
   },
   {
    "duration": 4,
    "start_time": "2022-01-31T20:44:17.196Z"
   },
   {
    "duration": 20,
    "start_time": "2022-01-31T20:44:17.203Z"
   },
   {
    "duration": 3,
    "start_time": "2022-01-31T20:44:17.259Z"
   },
   {
    "duration": 5,
    "start_time": "2022-01-31T20:44:17.265Z"
   },
   {
    "duration": 24,
    "start_time": "2022-01-31T20:44:17.273Z"
   },
   {
    "duration": 10,
    "start_time": "2022-01-31T20:44:17.299Z"
   },
   {
    "duration": 74,
    "start_time": "2022-01-31T20:44:17.311Z"
   },
   {
    "duration": 80,
    "start_time": "2022-01-31T20:44:17.388Z"
   },
   {
    "duration": 449,
    "start_time": "2022-01-31T20:44:17.470Z"
   },
   {
    "duration": 496,
    "start_time": "2022-01-31T20:44:17.921Z"
   },
   {
    "duration": 3,
    "start_time": "2022-01-31T20:47:27.259Z"
   },
   {
    "duration": 4,
    "start_time": "2022-01-31T21:18:41.632Z"
   },
   {
    "duration": 872,
    "start_time": "2022-01-31T21:19:20.750Z"
   },
   {
    "duration": 116,
    "start_time": "2022-01-31T21:19:23.872Z"
   },
   {
    "duration": 48,
    "start_time": "2022-01-31T21:19:25.511Z"
   },
   {
    "duration": 26,
    "start_time": "2022-01-31T21:19:28.554Z"
   },
   {
    "duration": 54,
    "start_time": "2022-01-31T21:19:29.324Z"
   },
   {
    "duration": 26,
    "start_time": "2022-01-31T21:19:32.252Z"
   },
   {
    "duration": 30,
    "start_time": "2022-01-31T21:19:33.912Z"
   },
   {
    "duration": 7,
    "start_time": "2022-01-31T21:19:38.329Z"
   },
   {
    "duration": 13,
    "start_time": "2022-01-31T21:19:39.179Z"
   },
   {
    "duration": 9,
    "start_time": "2022-01-31T21:19:40.130Z"
   },
   {
    "duration": 6,
    "start_time": "2022-01-31T21:19:41.641Z"
   },
   {
    "duration": 7,
    "start_time": "2022-01-31T21:19:43.903Z"
   },
   {
    "duration": 120,
    "start_time": "2022-01-31T21:19:44.945Z"
   },
   {
    "duration": 7,
    "start_time": "2022-01-31T21:19:50.575Z"
   },
   {
    "duration": 6,
    "start_time": "2022-01-31T21:19:53.264Z"
   },
   {
    "duration": 72,
    "start_time": "2022-01-31T21:19:57.134Z"
   },
   {
    "duration": 7,
    "start_time": "2022-01-31T21:19:58.744Z"
   },
   {
    "duration": 1516,
    "start_time": "2022-01-31T21:20:50.412Z"
   },
   {
    "duration": 6,
    "start_time": "2022-01-31T21:20:54.055Z"
   },
   {
    "duration": 93,
    "start_time": "2022-01-31T21:21:24.142Z"
   },
   {
    "duration": 7,
    "start_time": "2022-01-31T21:21:25.273Z"
   },
   {
    "duration": 9,
    "start_time": "2022-01-31T21:25:33.280Z"
   },
   {
    "duration": 8,
    "start_time": "2022-01-31T21:25:47.819Z"
   },
   {
    "duration": 19,
    "start_time": "2022-01-31T21:25:49.959Z"
   },
   {
    "duration": 24,
    "start_time": "2022-01-31T21:26:06.203Z"
   },
   {
    "duration": 20,
    "start_time": "2022-01-31T21:26:13.590Z"
   },
   {
    "duration": 6,
    "start_time": "2022-01-31T21:30:30.600Z"
   },
   {
    "duration": 110,
    "start_time": "2022-01-31T21:30:41.914Z"
   },
   {
    "duration": 112,
    "start_time": "2022-01-31T21:31:09.491Z"
   },
   {
    "duration": 7,
    "start_time": "2022-01-31T21:31:12.325Z"
   },
   {
    "duration": 37,
    "start_time": "2022-01-31T21:31:21.219Z"
   },
   {
    "duration": 7,
    "start_time": "2022-01-31T21:36:30.956Z"
   },
   {
    "duration": 7,
    "start_time": "2022-01-31T21:36:32.394Z"
   },
   {
    "duration": 25,
    "start_time": "2022-01-31T21:47:48.551Z"
   },
   {
    "duration": 37,
    "start_time": "2022-01-31T21:52:20.895Z"
   },
   {
    "duration": 29,
    "start_time": "2022-01-31T21:55:14.816Z"
   },
   {
    "duration": 37,
    "start_time": "2022-01-31T21:58:48.148Z"
   },
   {
    "duration": 23,
    "start_time": "2022-01-31T21:58:49.841Z"
   },
   {
    "duration": 510,
    "start_time": "2022-01-31T22:00:45.727Z"
   },
   {
    "duration": 392,
    "start_time": "2022-01-31T22:02:00.827Z"
   },
   {
    "duration": 36,
    "start_time": "2022-01-31T22:04:24.673Z"
   },
   {
    "duration": 38,
    "start_time": "2022-01-31T22:04:34.760Z"
   },
   {
    "duration": 404,
    "start_time": "2022-01-31T22:06:02.013Z"
   },
   {
    "duration": 378,
    "start_time": "2022-01-31T22:06:29.085Z"
   },
   {
    "duration": 39,
    "start_time": "2022-01-31T22:06:39.136Z"
   },
   {
    "duration": 384,
    "start_time": "2022-01-31T22:13:05.737Z"
   },
   {
    "duration": 476,
    "start_time": "2022-01-31T22:14:53.455Z"
   },
   {
    "duration": 37,
    "start_time": "2022-01-31T22:15:53.214Z"
   },
   {
    "duration": 24,
    "start_time": "2022-01-31T22:15:54.995Z"
   },
   {
    "duration": 402,
    "start_time": "2022-01-31T22:25:25.079Z"
   },
   {
    "duration": 55,
    "start_time": "2022-01-31T22:28:09.953Z"
   },
   {
    "duration": 12,
    "start_time": "2022-01-31T22:41:18.411Z"
   },
   {
    "duration": 31,
    "start_time": "2022-01-31T22:41:21.602Z"
   },
   {
    "duration": 817,
    "start_time": "2022-01-31T22:45:22.125Z"
   },
   {
    "duration": 6,
    "start_time": "2022-01-31T22:45:31.213Z"
   },
   {
    "duration": 878,
    "start_time": "2022-01-31T22:45:32.455Z"
   },
   {
    "duration": 898,
    "start_time": "2022-01-31T22:45:42.719Z"
   },
   {
    "duration": 407,
    "start_time": "2022-01-31T22:46:11.296Z"
   },
   {
    "duration": 7,
    "start_time": "2022-01-31T22:46:35.017Z"
   },
   {
    "duration": 6,
    "start_time": "2022-01-31T22:46:44.399Z"
   },
   {
    "duration": 15,
    "start_time": "2022-01-31T22:49:06.089Z"
   },
   {
    "duration": 6,
    "start_time": "2022-01-31T22:49:07.267Z"
   },
   {
    "duration": 34,
    "start_time": "2022-01-31T22:50:29.860Z"
   },
   {
    "duration": 59,
    "start_time": "2022-01-31T22:55:39.170Z"
   },
   {
    "duration": 14,
    "start_time": "2022-01-31T22:59:28.152Z"
   },
   {
    "duration": 18,
    "start_time": "2022-01-31T22:59:38.792Z"
   },
   {
    "duration": 13,
    "start_time": "2022-01-31T22:59:50.188Z"
   },
   {
    "duration": 13,
    "start_time": "2022-01-31T23:00:40.920Z"
   },
   {
    "duration": 17,
    "start_time": "2022-01-31T23:00:52.398Z"
   },
   {
    "duration": 14,
    "start_time": "2022-01-31T23:01:17.924Z"
   },
   {
    "duration": 49,
    "start_time": "2022-01-31T23:02:42.869Z"
   },
   {
    "duration": 12,
    "start_time": "2022-01-31T23:03:58.660Z"
   },
   {
    "duration": 11,
    "start_time": "2022-01-31T23:04:51.120Z"
   },
   {
    "duration": 44,
    "start_time": "2022-01-31T23:05:39.213Z"
   },
   {
    "duration": 43,
    "start_time": "2022-01-31T23:05:47.167Z"
   },
   {
    "duration": 43,
    "start_time": "2022-01-31T23:06:11.770Z"
   },
   {
    "duration": 62,
    "start_time": "2022-01-31T23:07:01.678Z"
   },
   {
    "duration": 9,
    "start_time": "2022-01-31T23:08:45.910Z"
   },
   {
    "duration": 11,
    "start_time": "2022-01-31T23:08:55.682Z"
   },
   {
    "duration": 1825,
    "start_time": "2022-01-31T23:19:41.975Z"
   },
   {
    "duration": 1890,
    "start_time": "2022-01-31T23:19:59.737Z"
   },
   {
    "duration": 2011,
    "start_time": "2022-01-31T23:20:31.038Z"
   },
   {
    "duration": 1883,
    "start_time": "2022-01-31T23:20:40.641Z"
   },
   {
    "duration": 1836,
    "start_time": "2022-01-31T23:26:57.344Z"
   },
   {
    "duration": 1857,
    "start_time": "2022-01-31T23:27:41.805Z"
   },
   {
    "duration": 687,
    "start_time": "2022-01-31T23:28:39.151Z"
   },
   {
    "duration": 1937,
    "start_time": "2022-01-31T23:28:58.257Z"
   },
   {
    "duration": 1844,
    "start_time": "2022-01-31T23:29:17.941Z"
   },
   {
    "duration": 1944,
    "start_time": "2022-01-31T23:31:55.146Z"
   },
   {
    "duration": 1813,
    "start_time": "2022-01-31T23:34:23.318Z"
   },
   {
    "duration": 386,
    "start_time": "2022-01-31T23:38:55.679Z"
   },
   {
    "duration": 385,
    "start_time": "2022-01-31T23:39:05.370Z"
   },
   {
    "duration": 506,
    "start_time": "2022-01-31T23:40:33.832Z"
   },
   {
    "duration": 16,
    "start_time": "2022-01-31T23:40:53.552Z"
   },
   {
    "duration": 243,
    "start_time": "2022-01-31T23:42:53.803Z"
   },
   {
    "duration": 264,
    "start_time": "2022-01-31T23:42:58.529Z"
   },
   {
    "duration": 298,
    "start_time": "2022-01-31T23:43:11.833Z"
   },
   {
    "duration": 297,
    "start_time": "2022-01-31T23:44:59.239Z"
   },
   {
    "duration": 312,
    "start_time": "2022-01-31T23:45:18.952Z"
   },
   {
    "duration": 321,
    "start_time": "2022-01-31T23:46:11.450Z"
   },
   {
    "duration": 68,
    "start_time": "2022-01-31T23:47:43.490Z"
   },
   {
    "duration": 21,
    "start_time": "2022-01-31T23:48:14.608Z"
   },
   {
    "duration": 24,
    "start_time": "2022-01-31T23:48:39.959Z"
   },
   {
    "duration": 13,
    "start_time": "2022-01-31T23:49:57.182Z"
   },
   {
    "duration": 1930,
    "start_time": "2022-01-31T23:50:39.909Z"
   },
   {
    "duration": 1954,
    "start_time": "2022-02-01T00:04:29.517Z"
   },
   {
    "duration": 2021,
    "start_time": "2022-02-01T00:08:59.217Z"
   },
   {
    "duration": 2034,
    "start_time": "2022-02-01T00:09:33.052Z"
   },
   {
    "duration": 1957,
    "start_time": "2022-02-01T00:11:37.723Z"
   },
   {
    "duration": 2280,
    "start_time": "2022-02-01T00:11:50.028Z"
   },
   {
    "duration": 2683,
    "start_time": "2022-02-01T00:12:23.591Z"
   },
   {
    "duration": 2546,
    "start_time": "2022-02-01T00:12:38.125Z"
   },
   {
    "duration": 3293,
    "start_time": "2022-02-01T00:12:56.997Z"
   },
   {
    "duration": 3352,
    "start_time": "2022-02-01T00:13:30.400Z"
   },
   {
    "duration": 3378,
    "start_time": "2022-02-01T00:13:40.652Z"
   },
   {
    "duration": 3063,
    "start_time": "2022-02-01T00:13:58.891Z"
   },
   {
    "duration": 2873,
    "start_time": "2022-02-01T00:14:13.281Z"
   },
   {
    "duration": 2401,
    "start_time": "2022-02-01T00:14:23.409Z"
   },
   {
    "duration": 2636,
    "start_time": "2022-02-01T00:14:44.370Z"
   },
   {
    "duration": 2606,
    "start_time": "2022-02-01T00:15:45.555Z"
   },
   {
    "duration": 2481,
    "start_time": "2022-02-01T00:16:05.919Z"
   },
   {
    "duration": 2569,
    "start_time": "2022-02-01T00:16:19.871Z"
   },
   {
    "duration": 2519,
    "start_time": "2022-02-01T00:16:31.363Z"
   },
   {
    "duration": 2484,
    "start_time": "2022-02-01T00:16:45.659Z"
   },
   {
    "duration": 2678,
    "start_time": "2022-02-01T00:17:03.698Z"
   },
   {
    "duration": 2489,
    "start_time": "2022-02-01T00:17:19.248Z"
   },
   {
    "duration": 2568,
    "start_time": "2022-02-01T00:21:46.055Z"
   },
   {
    "duration": 22,
    "start_time": "2022-02-01T00:22:01.184Z"
   },
   {
    "duration": 2485,
    "start_time": "2022-02-01T00:22:48.288Z"
   },
   {
    "duration": 25,
    "start_time": "2022-02-01T00:23:01.467Z"
   },
   {
    "duration": 2068,
    "start_time": "2022-02-01T00:23:12.870Z"
   },
   {
    "duration": 2939,
    "start_time": "2022-02-01T00:23:23.171Z"
   },
   {
    "duration": 2583,
    "start_time": "2022-02-01T00:23:32.756Z"
   },
   {
    "duration": 2482,
    "start_time": "2022-02-01T00:23:46.573Z"
   },
   {
    "duration": 2714,
    "start_time": "2022-02-01T00:24:05.217Z"
   },
   {
    "duration": 2474,
    "start_time": "2022-02-01T00:24:25.271Z"
   },
   {
    "duration": 2705,
    "start_time": "2022-02-01T00:24:40.617Z"
   },
   {
    "duration": 3,
    "start_time": "2022-02-01T00:33:09.901Z"
   },
   {
    "duration": 2476,
    "start_time": "2022-02-01T00:34:33.259Z"
   },
   {
    "duration": 2243,
    "start_time": "2022-02-01T00:34:51.502Z"
   },
   {
    "duration": 2477,
    "start_time": "2022-02-01T00:35:36.979Z"
   },
   {
    "duration": 2476,
    "start_time": "2022-02-01T00:35:50.298Z"
   },
   {
    "duration": 2392,
    "start_time": "2022-02-01T00:44:40.254Z"
   },
   {
    "duration": 2429,
    "start_time": "2022-02-01T00:44:50.513Z"
   },
   {
    "duration": 12,
    "start_time": "2022-02-01T00:45:19.170Z"
   },
   {
    "duration": 9,
    "start_time": "2022-02-01T00:45:30.790Z"
   },
   {
    "duration": 11,
    "start_time": "2022-02-01T00:50:48.180Z"
   },
   {
    "duration": 361,
    "start_time": "2022-02-01T00:51:52.487Z"
   },
   {
    "duration": 10,
    "start_time": "2022-02-01T00:52:10.868Z"
   },
   {
    "duration": 9,
    "start_time": "2022-02-01T00:52:13.196Z"
   },
   {
    "duration": 10,
    "start_time": "2022-02-01T00:53:44.847Z"
   },
   {
    "duration": 10,
    "start_time": "2022-02-01T00:54:30.929Z"
   },
   {
    "duration": 9,
    "start_time": "2022-02-01T00:54:59.248Z"
   },
   {
    "duration": 11,
    "start_time": "2022-02-01T00:55:16.997Z"
   },
   {
    "duration": 43,
    "start_time": "2022-02-01T00:57:09.029Z"
   },
   {
    "duration": 14,
    "start_time": "2022-02-01T00:57:30.138Z"
   },
   {
    "duration": 11,
    "start_time": "2022-02-01T00:57:44.434Z"
   },
   {
    "duration": 11,
    "start_time": "2022-02-01T01:05:23.981Z"
   },
   {
    "duration": 8,
    "start_time": "2022-02-01T01:05:49.688Z"
   },
   {
    "duration": 9,
    "start_time": "2022-02-01T01:06:14.830Z"
   },
   {
    "duration": 11,
    "start_time": "2022-02-01T01:06:27.632Z"
   },
   {
    "duration": 10,
    "start_time": "2022-02-01T01:06:50.266Z"
   },
   {
    "duration": 11,
    "start_time": "2022-02-01T01:07:02.239Z"
   },
   {
    "duration": 12,
    "start_time": "2022-02-01T01:07:04.479Z"
   },
   {
    "duration": 13,
    "start_time": "2022-02-01T01:07:38.613Z"
   },
   {
    "duration": 13,
    "start_time": "2022-02-01T01:07:45.063Z"
   },
   {
    "duration": 297,
    "start_time": "2022-02-01T01:13:49.564Z"
   },
   {
    "duration": 341,
    "start_time": "2022-02-01T11:53:54.972Z"
   },
   {
    "duration": 262,
    "start_time": "2022-02-01T11:54:04.807Z"
   },
   {
    "duration": 685,
    "start_time": "2022-02-01T11:54:10.336Z"
   },
   {
    "duration": 97,
    "start_time": "2022-02-01T11:54:11.024Z"
   },
   {
    "duration": 34,
    "start_time": "2022-02-01T11:54:11.123Z"
   },
   {
    "duration": 23,
    "start_time": "2022-02-01T11:54:11.159Z"
   },
   {
    "duration": 63,
    "start_time": "2022-02-01T11:54:11.184Z"
   },
   {
    "duration": 20,
    "start_time": "2022-02-01T11:54:11.249Z"
   },
   {
    "duration": 52,
    "start_time": "2022-02-01T11:54:11.271Z"
   },
   {
    "duration": 4,
    "start_time": "2022-02-01T11:54:11.325Z"
   },
   {
    "duration": 12,
    "start_time": "2022-02-01T11:54:11.332Z"
   },
   {
    "duration": 8,
    "start_time": "2022-02-01T11:54:11.346Z"
   },
   {
    "duration": 5,
    "start_time": "2022-02-01T11:54:11.356Z"
   },
   {
    "duration": 49,
    "start_time": "2022-02-01T11:54:11.362Z"
   },
   {
    "duration": 94,
    "start_time": "2022-02-01T11:54:11.413Z"
   },
   {
    "duration": 4,
    "start_time": "2022-02-01T11:54:11.510Z"
   },
   {
    "duration": 8,
    "start_time": "2022-02-01T11:54:11.516Z"
   },
   {
    "duration": 82,
    "start_time": "2022-02-01T11:54:11.526Z"
   },
   {
    "duration": 4,
    "start_time": "2022-02-01T11:54:11.611Z"
   },
   {
    "duration": 11,
    "start_time": "2022-02-01T11:54:11.617Z"
   },
   {
    "duration": 6,
    "start_time": "2022-02-01T11:54:11.630Z"
   },
   {
    "duration": 17,
    "start_time": "2022-02-01T11:54:11.638Z"
   },
   {
    "duration": 10,
    "start_time": "2022-02-01T11:54:11.657Z"
   },
   {
    "duration": 107,
    "start_time": "2022-02-01T11:54:11.669Z"
   },
   {
    "duration": 5,
    "start_time": "2022-02-01T11:54:11.778Z"
   },
   {
    "duration": 43,
    "start_time": "2022-02-01T11:54:11.785Z"
   },
   {
    "duration": 5,
    "start_time": "2022-02-01T11:54:11.830Z"
   },
   {
    "duration": 9,
    "start_time": "2022-02-01T11:54:11.837Z"
   },
   {
    "duration": 21,
    "start_time": "2022-02-01T11:54:11.851Z"
   },
   {
    "duration": 31,
    "start_time": "2022-02-01T11:54:11.908Z"
   },
   {
    "duration": 31,
    "start_time": "2022-02-01T11:54:11.941Z"
   },
   {
    "duration": 42,
    "start_time": "2022-02-01T11:54:11.974Z"
   },
   {
    "duration": 33,
    "start_time": "2022-02-01T11:54:12.018Z"
   },
   {
    "duration": 10,
    "start_time": "2022-02-01T11:54:12.053Z"
   },
   {
    "duration": 14,
    "start_time": "2022-02-01T11:54:12.065Z"
   },
   {
    "duration": 418,
    "start_time": "2022-02-01T11:54:12.081Z"
   },
   {
    "duration": 10,
    "start_time": "2022-02-01T11:54:12.501Z"
   },
   {
    "duration": 16,
    "start_time": "2022-02-01T11:54:12.513Z"
   },
   {
    "duration": 5,
    "start_time": "2022-02-01T11:54:12.531Z"
   },
   {
    "duration": 39,
    "start_time": "2022-02-01T11:54:12.538Z"
   },
   {
    "duration": 73,
    "start_time": "2022-02-01T11:54:12.579Z"
   },
   {
    "duration": 10,
    "start_time": "2022-02-01T11:54:12.654Z"
   },
   {
    "duration": 30,
    "start_time": "2022-02-01T11:54:12.666Z"
   },
   {
    "duration": 13,
    "start_time": "2022-02-01T11:54:12.698Z"
   },
   {
    "duration": 12,
    "start_time": "2022-02-01T11:54:12.713Z"
   },
   {
    "duration": 14,
    "start_time": "2022-02-01T11:54:12.727Z"
   },
   {
    "duration": 17,
    "start_time": "2022-02-01T11:54:12.743Z"
   },
   {
    "duration": 51,
    "start_time": "2022-02-01T11:54:12.763Z"
   },
   {
    "duration": 31,
    "start_time": "2022-02-01T11:54:12.815Z"
   },
   {
    "duration": 7,
    "start_time": "2022-02-01T11:54:12.848Z"
   },
   {
    "duration": 12,
    "start_time": "2022-02-01T11:54:12.857Z"
   },
   {
    "duration": 72,
    "start_time": "2022-02-01T11:54:12.871Z"
   },
   {
    "duration": 1884,
    "start_time": "2022-02-01T11:54:12.945Z"
   },
   {
    "duration": 18,
    "start_time": "2022-02-01T11:54:14.832Z"
   },
   {
    "duration": 1785,
    "start_time": "2022-02-01T11:54:14.853Z"
   },
   {
    "duration": 12,
    "start_time": "2022-02-01T11:54:16.641Z"
   },
   {
    "duration": 233,
    "start_time": "2022-02-01T11:54:16.655Z"
   },
   {
    "duration": 18,
    "start_time": "2022-02-01T11:54:16.890Z"
   },
   {
    "duration": 7,
    "start_time": "2022-02-01T11:54:16.911Z"
   },
   {
    "duration": 9,
    "start_time": "2022-02-01T11:54:16.920Z"
   },
   {
    "duration": 13,
    "start_time": "2022-02-01T11:54:16.931Z"
   },
   {
    "duration": 15,
    "start_time": "2022-02-01T11:54:16.946Z"
   },
   {
    "duration": 13,
    "start_time": "2022-02-01T11:54:16.964Z"
   },
   {
    "duration": 9,
    "start_time": "2022-02-01T11:54:17.008Z"
   },
   {
    "duration": 7,
    "start_time": "2022-02-01T11:54:17.019Z"
   },
   {
    "duration": 11,
    "start_time": "2022-02-01T11:54:17.028Z"
   },
   {
    "duration": 16,
    "start_time": "2022-02-01T11:54:17.041Z"
   },
   {
    "duration": 47,
    "start_time": "2022-02-01T11:54:17.059Z"
   },
   {
    "duration": 27,
    "start_time": "2022-02-01T11:54:17.109Z"
   },
   {
    "duration": 356,
    "start_time": "2022-02-01T11:54:17.138Z"
   },
   {
    "duration": 285,
    "start_time": "2022-02-01T11:54:17.211Z"
   },
   {
    "duration": 281,
    "start_time": "2022-02-01T11:54:17.216Z"
   },
   {
    "duration": 278,
    "start_time": "2022-02-01T11:54:17.220Z"
   },
   {
    "duration": 277,
    "start_time": "2022-02-01T11:54:17.223Z"
   },
   {
    "duration": 273,
    "start_time": "2022-02-01T11:54:17.228Z"
   },
   {
    "duration": 6,
    "start_time": "2022-02-01T11:55:02.277Z"
   },
   {
    "duration": 20,
    "start_time": "2022-02-01T12:12:42.569Z"
   },
   {
    "duration": 1565,
    "start_time": "2022-02-01T12:13:11.217Z"
   },
   {
    "duration": 254,
    "start_time": "2022-02-01T12:27:35.558Z"
   },
   {
    "duration": 42,
    "start_time": "2022-02-01T12:27:44.435Z"
   },
   {
    "duration": 273,
    "start_time": "2022-02-01T12:28:24.018Z"
   },
   {
    "duration": 276,
    "start_time": "2022-02-01T12:33:09.081Z"
   },
   {
    "duration": 249,
    "start_time": "2022-02-01T12:33:56.874Z"
   },
   {
    "duration": 500,
    "start_time": "2022-02-01T12:34:03.535Z"
   },
   {
    "duration": 317,
    "start_time": "2022-02-01T12:34:52.624Z"
   },
   {
    "duration": 499,
    "start_time": "2022-02-01T12:34:57.356Z"
   },
   {
    "duration": 125556,
    "start_time": "2022-02-01T12:34:59.814Z"
   },
   {
    "duration": 189,
    "start_time": "2022-02-01T12:37:05.372Z"
   },
   {
    "duration": 183,
    "start_time": "2022-02-01T12:37:05.564Z"
   },
   {
    "duration": 134960,
    "start_time": "2022-02-01T12:38:21.411Z"
   },
   {
    "duration": 745,
    "start_time": "2022-02-01T12:46:07.282Z"
   },
   {
    "duration": 85,
    "start_time": "2022-02-01T12:47:00.799Z"
   },
   {
    "duration": 109,
    "start_time": "2022-02-01T12:49:27.174Z"
   },
   {
    "duration": 6481,
    "start_time": "2022-02-01T12:51:24.692Z"
   },
   {
    "duration": 348,
    "start_time": "2022-02-01T12:51:48.303Z"
   },
   {
    "duration": 349,
    "start_time": "2022-02-01T12:52:09.416Z"
   },
   {
    "duration": 1345,
    "start_time": "2022-02-01T12:52:36.654Z"
   },
   {
    "duration": 284,
    "start_time": "2022-02-01T12:55:23.478Z"
   },
   {
    "duration": 102,
    "start_time": "2022-02-01T12:56:26.316Z"
   },
   {
    "duration": 285,
    "start_time": "2022-02-01T12:56:37.540Z"
   },
   {
    "duration": 2260,
    "start_time": "2022-02-01T13:04:59.835Z"
   },
   {
    "duration": 283,
    "start_time": "2022-02-01T13:06:03.252Z"
   },
   {
    "duration": 1660,
    "start_time": "2022-02-01T13:06:16.094Z"
   },
   {
    "duration": 1526,
    "start_time": "2022-02-01T13:07:14.131Z"
   },
   {
    "duration": 1568,
    "start_time": "2022-02-01T13:08:02.589Z"
   },
   {
    "duration": 1571,
    "start_time": "2022-02-01T13:08:55.900Z"
   },
   {
    "duration": 1739,
    "start_time": "2022-02-01T13:09:43.927Z"
   },
   {
    "duration": 3355,
    "start_time": "2022-02-01T13:10:11.209Z"
   },
   {
    "duration": 277,
    "start_time": "2022-02-01T13:10:28.341Z"
   },
   {
    "duration": 1186,
    "start_time": "2022-02-01T13:10:35.352Z"
   },
   {
    "duration": 1241,
    "start_time": "2022-02-01T13:10:43.720Z"
   },
   {
    "duration": 1543,
    "start_time": "2022-02-01T13:11:05.507Z"
   },
   {
    "duration": 88,
    "start_time": "2022-02-01T13:13:57.637Z"
   },
   {
    "duration": 715,
    "start_time": "2022-02-01T13:14:09.879Z"
   },
   {
    "duration": 121588,
    "start_time": "2022-02-01T13:14:15.852Z"
   },
   {
    "duration": 279,
    "start_time": "2022-02-01T13:28:17.101Z"
   },
   {
    "duration": 7252,
    "start_time": "2022-02-01T13:28:35.343Z"
   },
   {
    "duration": 269,
    "start_time": "2022-02-01T13:31:36.328Z"
   },
   {
    "duration": 515,
    "start_time": "2022-02-01T13:31:44.599Z"
   },
   {
    "duration": 573,
    "start_time": "2022-02-01T13:31:55.289Z"
   },
   {
    "duration": 120250,
    "start_time": "2022-02-01T13:38:34.649Z"
   },
   {
    "duration": 650,
    "start_time": "2022-02-01T13:48:27.209Z"
   },
   {
    "duration": 477,
    "start_time": "2022-02-01T13:48:34.383Z"
   },
   {
    "duration": 343,
    "start_time": "2022-02-01T13:49:20.444Z"
   },
   {
    "duration": 306,
    "start_time": "2022-02-01T13:49:51.578Z"
   },
   {
    "duration": 262,
    "start_time": "2022-02-01T13:50:36.150Z"
   },
   {
    "duration": 249,
    "start_time": "2022-02-01T13:50:51.072Z"
   },
   {
    "duration": 165,
    "start_time": "2022-02-01T13:51:35.324Z"
   },
   {
    "duration": 178,
    "start_time": "2022-02-01T13:52:00.185Z"
   },
   {
    "duration": 152,
    "start_time": "2022-02-01T14:01:36.771Z"
   },
   {
    "duration": 168,
    "start_time": "2022-02-01T14:02:44.220Z"
   },
   {
    "duration": 177,
    "start_time": "2022-02-01T14:03:19.289Z"
   },
   {
    "duration": 502,
    "start_time": "2022-02-01T14:04:00.780Z"
   },
   {
    "duration": 185,
    "start_time": "2022-02-01T14:04:21.454Z"
   },
   {
    "duration": 350,
    "start_time": "2022-02-01T14:04:35.539Z"
   },
   {
    "duration": 612,
    "start_time": "2022-02-01T14:04:48.831Z"
   },
   {
    "duration": 819,
    "start_time": "2022-02-01T14:04:57.545Z"
   },
   {
    "duration": 567,
    "start_time": "2022-02-01T14:05:11.372Z"
   },
   {
    "duration": 834,
    "start_time": "2022-02-01T14:05:58.257Z"
   },
   {
    "duration": 392,
    "start_time": "2022-02-01T14:06:05.378Z"
   },
   {
    "duration": 574,
    "start_time": "2022-02-01T14:06:38.462Z"
   },
   {
    "duration": 607,
    "start_time": "2022-02-01T14:07:02.168Z"
   },
   {
    "duration": 293,
    "start_time": "2022-02-01T14:07:16.162Z"
   },
   {
    "duration": 225,
    "start_time": "2022-02-01T14:07:31.850Z"
   },
   {
    "duration": 178,
    "start_time": "2022-02-01T14:07:50.813Z"
   },
   {
    "duration": 178,
    "start_time": "2022-02-01T14:07:56.636Z"
   },
   {
    "duration": 186,
    "start_time": "2022-02-01T14:09:12.078Z"
   },
   {
    "duration": 197,
    "start_time": "2022-02-01T14:09:31.401Z"
   },
   {
    "duration": 193,
    "start_time": "2022-02-01T14:10:08.761Z"
   },
   {
    "duration": 538,
    "start_time": "2022-02-01T14:10:42.736Z"
   },
   {
    "duration": 294,
    "start_time": "2022-02-01T14:10:55.364Z"
   },
   {
    "duration": 301,
    "start_time": "2022-02-01T14:11:04.489Z"
   },
   {
    "duration": 248,
    "start_time": "2022-02-01T14:11:14.696Z"
   },
   {
    "duration": 131,
    "start_time": "2022-02-01T14:11:56.321Z"
   },
   {
    "duration": 267,
    "start_time": "2022-02-01T14:11:57.609Z"
   },
   {
    "duration": 615,
    "start_time": "2022-02-01T14:12:18.477Z"
   },
   {
    "duration": 262,
    "start_time": "2022-02-01T14:12:41.435Z"
   },
   {
    "duration": 273,
    "start_time": "2022-02-01T14:13:09.172Z"
   },
   {
    "duration": 628,
    "start_time": "2022-02-01T14:13:15.009Z"
   },
   {
    "duration": 182,
    "start_time": "2022-02-01T14:15:14.885Z"
   },
   {
    "duration": 163,
    "start_time": "2022-02-01T14:19:18.034Z"
   },
   {
    "duration": 165,
    "start_time": "2022-02-01T14:20:47.426Z"
   },
   {
    "duration": 399,
    "start_time": "2022-02-01T14:24:22.245Z"
   },
   {
    "duration": 176,
    "start_time": "2022-02-01T14:24:37.200Z"
   },
   {
    "duration": 179,
    "start_time": "2022-02-01T14:24:52.056Z"
   },
   {
    "duration": 173,
    "start_time": "2022-02-01T14:25:45.376Z"
   },
   {
    "duration": 156,
    "start_time": "2022-02-01T14:25:54.682Z"
   },
   {
    "duration": 145,
    "start_time": "2022-02-01T14:26:15.231Z"
   },
   {
    "duration": 169,
    "start_time": "2022-02-01T14:26:47.975Z"
   },
   {
    "duration": 569,
    "start_time": "2022-02-01T14:33:50.933Z"
   },
   {
    "duration": 194,
    "start_time": "2022-02-01T15:00:31.440Z"
   },
   {
    "duration": 217,
    "start_time": "2022-02-01T15:00:39.519Z"
   },
   {
    "duration": 213,
    "start_time": "2022-02-01T15:00:55.115Z"
   },
   {
    "duration": 685,
    "start_time": "2022-02-01T15:02:51.875Z"
   },
   {
    "duration": 98,
    "start_time": "2022-02-01T15:02:52.562Z"
   },
   {
    "duration": 34,
    "start_time": "2022-02-01T15:02:52.663Z"
   },
   {
    "duration": 27,
    "start_time": "2022-02-01T15:02:52.699Z"
   },
   {
    "duration": 45,
    "start_time": "2022-02-01T15:02:52.728Z"
   },
   {
    "duration": 42,
    "start_time": "2022-02-01T15:02:52.774Z"
   },
   {
    "duration": 25,
    "start_time": "2022-02-01T15:02:52.818Z"
   },
   {
    "duration": 5,
    "start_time": "2022-02-01T15:02:52.845Z"
   },
   {
    "duration": 11,
    "start_time": "2022-02-01T15:02:52.854Z"
   },
   {
    "duration": 44,
    "start_time": "2022-02-01T15:02:52.868Z"
   },
   {
    "duration": 5,
    "start_time": "2022-02-01T15:02:52.914Z"
   },
   {
    "duration": 22,
    "start_time": "2022-02-01T15:02:52.921Z"
   },
   {
    "duration": 88,
    "start_time": "2022-02-01T15:02:52.945Z"
   },
   {
    "duration": 5,
    "start_time": "2022-02-01T15:02:53.035Z"
   },
   {
    "duration": 14,
    "start_time": "2022-02-01T15:02:53.042Z"
   },
   {
    "duration": 69,
    "start_time": "2022-02-01T15:02:53.057Z"
   },
   {
    "duration": 5,
    "start_time": "2022-02-01T15:02:53.128Z"
   },
   {
    "duration": 16,
    "start_time": "2022-02-01T15:02:53.135Z"
   },
   {
    "duration": 9,
    "start_time": "2022-02-01T15:02:53.153Z"
   },
   {
    "duration": 13,
    "start_time": "2022-02-01T15:02:53.164Z"
   },
   {
    "duration": 6,
    "start_time": "2022-02-01T15:02:53.179Z"
   },
   {
    "duration": 95,
    "start_time": "2022-02-01T15:02:53.187Z"
   },
   {
    "duration": 5,
    "start_time": "2022-02-01T15:02:53.283Z"
   },
   {
    "duration": 41,
    "start_time": "2022-02-01T15:02:53.290Z"
   },
   {
    "duration": 6,
    "start_time": "2022-02-01T15:02:53.333Z"
   },
   {
    "duration": 7,
    "start_time": "2022-02-01T15:02:53.341Z"
   },
   {
    "duration": 21,
    "start_time": "2022-02-01T15:02:53.352Z"
   },
   {
    "duration": 58,
    "start_time": "2022-02-01T15:02:53.376Z"
   },
   {
    "duration": 29,
    "start_time": "2022-02-01T15:02:53.437Z"
   },
   {
    "duration": 17,
    "start_time": "2022-02-01T15:02:53.468Z"
   },
   {
    "duration": 55,
    "start_time": "2022-02-01T15:02:53.487Z"
   },
   {
    "duration": 10,
    "start_time": "2022-02-01T15:02:53.544Z"
   },
   {
    "duration": 4,
    "start_time": "2022-02-01T15:02:53.556Z"
   },
   {
    "duration": 6,
    "start_time": "2022-02-01T15:02:53.562Z"
   },
   {
    "duration": 37,
    "start_time": "2022-02-01T15:02:53.570Z"
   },
   {
    "duration": 20,
    "start_time": "2022-02-01T15:02:53.609Z"
   },
   {
    "duration": 5,
    "start_time": "2022-02-01T15:02:53.631Z"
   },
   {
    "duration": 32,
    "start_time": "2022-02-01T15:02:53.638Z"
   },
   {
    "duration": 70,
    "start_time": "2022-02-01T15:02:53.672Z"
   },
   {
    "duration": 10,
    "start_time": "2022-02-01T15:02:53.743Z"
   },
   {
    "duration": 18,
    "start_time": "2022-02-01T15:02:53.755Z"
   },
   {
    "duration": 81,
    "start_time": "2022-02-01T15:02:53.774Z"
   },
   {
    "duration": 20,
    "start_time": "2022-02-01T15:02:53.857Z"
   },
   {
    "duration": 16,
    "start_time": "2022-02-01T15:02:53.879Z"
   },
   {
    "duration": 15,
    "start_time": "2022-02-01T15:02:53.897Z"
   },
   {
    "duration": 9,
    "start_time": "2022-02-01T15:02:53.914Z"
   },
   {
    "duration": 29,
    "start_time": "2022-02-01T15:02:53.925Z"
   },
   {
    "duration": 7,
    "start_time": "2022-02-01T15:02:53.956Z"
   },
   {
    "duration": 12,
    "start_time": "2022-02-01T15:02:53.965Z"
   },
   {
    "duration": 64,
    "start_time": "2022-02-01T15:02:53.978Z"
   },
   {
    "duration": 1858,
    "start_time": "2022-02-01T15:02:54.044Z"
   },
   {
    "duration": 22,
    "start_time": "2022-02-01T15:02:55.908Z"
   },
   {
    "duration": 1677,
    "start_time": "2022-02-01T15:02:55.932Z"
   },
   {
    "duration": 10,
    "start_time": "2022-02-01T15:02:57.611Z"
   },
   {
    "duration": 212,
    "start_time": "2022-02-01T15:02:57.622Z"
   },
   {
    "duration": 8,
    "start_time": "2022-02-01T15:02:57.836Z"
   },
   {
    "duration": 6,
    "start_time": "2022-02-01T15:02:57.846Z"
   },
   {
    "duration": 10,
    "start_time": "2022-02-01T15:02:57.853Z"
   },
   {
    "duration": 10,
    "start_time": "2022-02-01T15:02:57.865Z"
   },
   {
    "duration": 35,
    "start_time": "2022-02-01T15:02:57.877Z"
   },
   {
    "duration": 10,
    "start_time": "2022-02-01T15:02:57.914Z"
   },
   {
    "duration": 10,
    "start_time": "2022-02-01T15:02:57.926Z"
   },
   {
    "duration": 7,
    "start_time": "2022-02-01T15:02:57.938Z"
   },
   {
    "duration": 11,
    "start_time": "2022-02-01T15:02:57.947Z"
   },
   {
    "duration": 10,
    "start_time": "2022-02-01T15:02:57.961Z"
   },
   {
    "duration": 43,
    "start_time": "2022-02-01T15:02:57.973Z"
   },
   {
    "duration": 10,
    "start_time": "2022-02-01T15:02:58.018Z"
   },
   {
    "duration": 43,
    "start_time": "2022-02-01T15:02:58.030Z"
   },
   {
    "duration": 297,
    "start_time": "2022-02-01T15:02:58.075Z"
   },
   {
    "duration": 280,
    "start_time": "2022-02-01T15:02:58.375Z"
   },
   {
    "duration": 233,
    "start_time": "2022-02-01T15:02:58.658Z"
   },
   {
    "duration": 651,
    "start_time": "2022-02-01T15:02:58.894Z"
   },
   {
    "duration": 317,
    "start_time": "2022-02-01T15:02:59.548Z"
   },
   {
    "duration": 187,
    "start_time": "2022-02-01T15:02:59.867Z"
   },
   {
    "duration": 179,
    "start_time": "2022-02-01T15:03:00.057Z"
   },
   {
    "duration": 560,
    "start_time": "2022-02-02T16:34:07.299Z"
   },
   {
    "duration": 84,
    "start_time": "2022-02-02T16:34:07.861Z"
   },
   {
    "duration": 29,
    "start_time": "2022-02-02T16:34:07.947Z"
   },
   {
    "duration": 18,
    "start_time": "2022-02-02T16:34:07.978Z"
   },
   {
    "duration": 32,
    "start_time": "2022-02-02T16:34:07.998Z"
   },
   {
    "duration": 15,
    "start_time": "2022-02-02T16:34:08.032Z"
   },
   {
    "duration": 50,
    "start_time": "2022-02-02T16:34:08.049Z"
   },
   {
    "duration": 5,
    "start_time": "2022-02-02T16:34:08.102Z"
   },
   {
    "duration": 8,
    "start_time": "2022-02-02T16:34:08.109Z"
   },
   {
    "duration": 5,
    "start_time": "2022-02-02T16:34:08.118Z"
   },
   {
    "duration": 4,
    "start_time": "2022-02-02T16:34:08.125Z"
   },
   {
    "duration": 5,
    "start_time": "2022-02-02T16:34:08.131Z"
   },
   {
    "duration": 101,
    "start_time": "2022-02-02T16:34:08.138Z"
   },
   {
    "duration": 4,
    "start_time": "2022-02-02T16:34:08.241Z"
   },
   {
    "duration": 5,
    "start_time": "2022-02-02T16:34:08.247Z"
   },
   {
    "duration": 49,
    "start_time": "2022-02-02T16:34:08.272Z"
   },
   {
    "duration": 4,
    "start_time": "2022-02-02T16:34:08.322Z"
   },
   {
    "duration": 7,
    "start_time": "2022-02-02T16:34:08.327Z"
   },
   {
    "duration": 5,
    "start_time": "2022-02-02T16:34:08.336Z"
   },
   {
    "duration": 33,
    "start_time": "2022-02-02T16:34:08.343Z"
   },
   {
    "duration": 4,
    "start_time": "2022-02-02T16:34:08.377Z"
   },
   {
    "duration": 107,
    "start_time": "2022-02-02T16:34:08.382Z"
   },
   {
    "duration": 4,
    "start_time": "2022-02-02T16:34:08.493Z"
   },
   {
    "duration": 27,
    "start_time": "2022-02-02T16:34:08.499Z"
   },
   {
    "duration": 4,
    "start_time": "2022-02-02T16:34:08.527Z"
   },
   {
    "duration": 7,
    "start_time": "2022-02-02T16:34:08.532Z"
   },
   {
    "duration": 35,
    "start_time": "2022-02-02T16:34:08.541Z"
   },
   {
    "duration": 24,
    "start_time": "2022-02-02T16:34:08.577Z"
   },
   {
    "duration": 24,
    "start_time": "2022-02-02T16:34:08.603Z"
   },
   {
    "duration": 12,
    "start_time": "2022-02-02T16:34:08.629Z"
   },
   {
    "duration": 53,
    "start_time": "2022-02-02T16:34:08.643Z"
   },
   {
    "duration": 7,
    "start_time": "2022-02-02T16:34:08.697Z"
   },
   {
    "duration": 4,
    "start_time": "2022-02-02T16:34:08.705Z"
   },
   {
    "duration": 4,
    "start_time": "2022-02-02T16:34:08.711Z"
   },
   {
    "duration": 4,
    "start_time": "2022-02-02T16:34:08.716Z"
   },
   {
    "duration": 18,
    "start_time": "2022-02-02T16:34:08.722Z"
   },
   {
    "duration": 3,
    "start_time": "2022-02-02T16:34:08.742Z"
   },
   {
    "duration": 20,
    "start_time": "2022-02-02T16:34:08.771Z"
   },
   {
    "duration": 38,
    "start_time": "2022-02-02T16:34:08.793Z"
   },
   {
    "duration": 8,
    "start_time": "2022-02-02T16:34:08.833Z"
   },
   {
    "duration": 9,
    "start_time": "2022-02-02T16:34:08.871Z"
   },
   {
    "duration": 8,
    "start_time": "2022-02-02T16:34:08.882Z"
   },
   {
    "duration": 9,
    "start_time": "2022-02-02T16:34:08.892Z"
   },
   {
    "duration": 11,
    "start_time": "2022-02-02T16:34:08.903Z"
   },
   {
    "duration": 12,
    "start_time": "2022-02-02T16:34:08.915Z"
   },
   {
    "duration": 7,
    "start_time": "2022-02-02T16:34:08.928Z"
   },
   {
    "duration": 54,
    "start_time": "2022-02-02T16:34:08.937Z"
   },
   {
    "duration": 5,
    "start_time": "2022-02-02T16:34:08.992Z"
   },
   {
    "duration": 8,
    "start_time": "2022-02-02T16:34:08.999Z"
   },
   {
    "duration": 32,
    "start_time": "2022-02-02T16:34:09.008Z"
   },
   {
    "duration": 2098,
    "start_time": "2022-02-02T16:34:09.041Z"
   },
   {
    "duration": 31,
    "start_time": "2022-02-02T16:34:11.141Z"
   },
   {
    "duration": 1295,
    "start_time": "2022-02-02T16:34:11.173Z"
   },
   {
    "duration": 8,
    "start_time": "2022-02-02T16:34:12.469Z"
   },
   {
    "duration": 178,
    "start_time": "2022-02-02T16:34:12.478Z"
   },
   {
    "duration": 15,
    "start_time": "2022-02-02T16:34:12.657Z"
   },
   {
    "duration": 4,
    "start_time": "2022-02-02T16:34:12.674Z"
   },
   {
    "duration": 7,
    "start_time": "2022-02-02T16:34:12.679Z"
   },
   {
    "duration": 7,
    "start_time": "2022-02-02T16:34:12.687Z"
   },
   {
    "duration": 6,
    "start_time": "2022-02-02T16:34:12.695Z"
   },
   {
    "duration": 7,
    "start_time": "2022-02-02T16:34:12.702Z"
   },
   {
    "duration": 6,
    "start_time": "2022-02-02T16:34:12.710Z"
   },
   {
    "duration": 6,
    "start_time": "2022-02-02T16:34:12.718Z"
   },
   {
    "duration": 10,
    "start_time": "2022-02-02T16:34:12.725Z"
   },
   {
    "duration": 36,
    "start_time": "2022-02-02T16:34:12.736Z"
   },
   {
    "duration": 8,
    "start_time": "2022-02-02T16:34:12.774Z"
   },
   {
    "duration": 11,
    "start_time": "2022-02-02T16:34:12.784Z"
   },
   {
    "duration": 30,
    "start_time": "2022-02-02T16:34:12.801Z"
   },
   {
    "duration": 248,
    "start_time": "2022-02-02T16:34:12.833Z"
   },
   {
    "duration": 227,
    "start_time": "2022-02-02T16:34:13.083Z"
   },
   {
    "duration": 182,
    "start_time": "2022-02-02T16:34:13.311Z"
   },
   {
    "duration": 531,
    "start_time": "2022-02-02T16:34:13.495Z"
   },
   {
    "duration": 245,
    "start_time": "2022-02-02T16:34:14.028Z"
   },
   {
    "duration": 146,
    "start_time": "2022-02-02T16:34:14.275Z"
   },
   {
    "duration": 136,
    "start_time": "2022-02-02T16:34:14.423Z"
   },
   {
    "duration": 336,
    "start_time": "2022-02-02T22:10:05.834Z"
   },
   {
    "duration": 660,
    "start_time": "2022-02-02T22:10:13.577Z"
   },
   {
    "duration": 93,
    "start_time": "2022-02-02T22:10:16.695Z"
   },
   {
    "duration": 32,
    "start_time": "2022-02-02T22:10:16.897Z"
   },
   {
    "duration": 22,
    "start_time": "2022-02-02T22:10:18.520Z"
   },
   {
    "duration": 45,
    "start_time": "2022-02-02T22:10:19.118Z"
   },
   {
    "duration": 19,
    "start_time": "2022-02-02T22:10:20.556Z"
   },
   {
    "duration": 24,
    "start_time": "2022-02-02T22:10:22.062Z"
   },
   {
    "duration": 4,
    "start_time": "2022-02-02T22:10:27.957Z"
   },
   {
    "duration": 10,
    "start_time": "2022-02-02T22:10:29.587Z"
   },
   {
    "duration": 77,
    "start_time": "2022-02-02T22:10:31.279Z"
   },
   {
    "duration": 4,
    "start_time": "2022-02-02T22:10:33.914Z"
   },
   {
    "duration": 5,
    "start_time": "2022-02-02T22:16:38.749Z"
   },
   {
    "duration": 6,
    "start_time": "2022-02-02T22:16:40.525Z"
   },
   {
    "duration": 73,
    "start_time": "2022-02-02T22:16:41.412Z"
   },
   {
    "duration": 5,
    "start_time": "2022-02-02T22:16:48.956Z"
   },
   {
    "duration": 5,
    "start_time": "2022-02-02T22:16:51.683Z"
   },
   {
    "duration": 1435,
    "start_time": "2022-02-02T22:16:52.360Z"
   },
   {
    "duration": 6,
    "start_time": "2022-02-02T22:16:58.196Z"
   },
   {
    "duration": 5,
    "start_time": "2022-02-02T22:17:26.470Z"
   },
   {
    "duration": 5,
    "start_time": "2022-02-02T22:17:37.932Z"
   },
   {
    "duration": 4,
    "start_time": "2022-02-02T22:17:49.012Z"
   },
   {
    "duration": 72,
    "start_time": "2022-02-02T22:42:22.698Z"
   },
   {
    "duration": 9,
    "start_time": "2022-02-02T22:42:42.914Z"
   },
   {
    "duration": 85,
    "start_time": "2022-02-02T22:44:35.477Z"
   },
   {
    "duration": 99,
    "start_time": "2022-02-02T22:44:53.539Z"
   },
   {
    "duration": 98,
    "start_time": "2022-02-02T22:45:02.629Z"
   },
   {
    "duration": 528,
    "start_time": "2022-02-02T22:45:18.909Z"
   },
   {
    "duration": 147,
    "start_time": "2022-02-02T22:45:29.369Z"
   },
   {
    "duration": 614,
    "start_time": "2022-02-02T22:46:23.471Z"
   },
   {
    "duration": 96,
    "start_time": "2022-02-02T22:46:24.106Z"
   },
   {
    "duration": 31,
    "start_time": "2022-02-02T22:46:24.274Z"
   },
   {
    "duration": 21,
    "start_time": "2022-02-02T22:46:24.747Z"
   },
   {
    "duration": 42,
    "start_time": "2022-02-02T22:46:25.181Z"
   },
   {
    "duration": 19,
    "start_time": "2022-02-02T22:46:27.137Z"
   },
   {
    "duration": 24,
    "start_time": "2022-02-02T22:46:30.666Z"
   },
   {
    "duration": 5,
    "start_time": "2022-02-02T22:46:32.718Z"
   },
   {
    "duration": 10,
    "start_time": "2022-02-02T22:46:32.886Z"
   },
   {
    "duration": 73,
    "start_time": "2022-02-02T22:46:33.040Z"
   },
   {
    "duration": 6,
    "start_time": "2022-02-02T22:46:34.426Z"
   },
   {
    "duration": 5,
    "start_time": "2022-02-02T22:46:37.320Z"
   },
   {
    "duration": 72,
    "start_time": "2022-02-02T22:46:37.494Z"
   },
   {
    "duration": 5,
    "start_time": "2022-02-02T22:46:37.666Z"
   },
   {
    "duration": 5,
    "start_time": "2022-02-02T22:46:41.398Z"
   },
   {
    "duration": 56,
    "start_time": "2022-02-02T22:46:41.776Z"
   },
   {
    "duration": 5,
    "start_time": "2022-02-02T22:46:44.575Z"
   },
   {
    "duration": 7,
    "start_time": "2022-02-02T22:46:47.006Z"
   },
   {
    "duration": 6,
    "start_time": "2022-02-02T22:46:47.671Z"
   },
   {
    "duration": 12,
    "start_time": "2022-02-02T22:46:48.771Z"
   },
   {
    "duration": 5,
    "start_time": "2022-02-02T22:46:56.363Z"
   },
   {
    "duration": 149,
    "start_time": "2022-02-02T22:47:12.890Z"
   },
   {
    "duration": 6,
    "start_time": "2022-02-02T22:47:57.838Z"
   },
   {
    "duration": 640,
    "start_time": "2022-02-02T22:48:22.390Z"
   },
   {
    "duration": 93,
    "start_time": "2022-02-02T22:48:23.032Z"
   },
   {
    "duration": 31,
    "start_time": "2022-02-02T22:48:23.185Z"
   },
   {
    "duration": 22,
    "start_time": "2022-02-02T22:48:23.664Z"
   },
   {
    "duration": 41,
    "start_time": "2022-02-02T22:48:23.822Z"
   },
   {
    "duration": 19,
    "start_time": "2022-02-02T22:48:24.147Z"
   },
   {
    "duration": 23,
    "start_time": "2022-02-02T22:48:24.473Z"
   },
   {
    "duration": 5,
    "start_time": "2022-02-02T22:48:25.500Z"
   },
   {
    "duration": 10,
    "start_time": "2022-02-02T22:48:25.674Z"
   },
   {
    "duration": 85,
    "start_time": "2022-02-02T22:48:25.830Z"
   },
   {
    "duration": 5,
    "start_time": "2022-02-02T22:48:25.988Z"
   },
   {
    "duration": 5,
    "start_time": "2022-02-02T22:48:27.267Z"
   },
   {
    "duration": 71,
    "start_time": "2022-02-02T22:48:28.059Z"
   },
   {
    "duration": 5,
    "start_time": "2022-02-02T22:48:28.215Z"
   },
   {
    "duration": 4,
    "start_time": "2022-02-02T22:48:29.852Z"
   },
   {
    "duration": 63,
    "start_time": "2022-02-02T22:48:30.003Z"
   },
   {
    "duration": 5,
    "start_time": "2022-02-02T22:48:30.317Z"
   },
   {
    "duration": 7,
    "start_time": "2022-02-02T22:48:35.996Z"
   },
   {
    "duration": 6,
    "start_time": "2022-02-02T22:48:36.202Z"
   },
   {
    "duration": 10,
    "start_time": "2022-02-02T22:48:36.488Z"
   },
   {
    "duration": 4,
    "start_time": "2022-02-02T22:48:47.398Z"
   },
   {
    "duration": 7,
    "start_time": "2022-02-02T22:48:48.182Z"
   },
   {
    "duration": 75,
    "start_time": "2022-02-02T22:53:34.823Z"
   },
   {
    "duration": 7,
    "start_time": "2022-02-02T22:53:40.453Z"
   },
   {
    "duration": 601,
    "start_time": "2022-02-02T22:55:07.238Z"
   },
   {
    "duration": 89,
    "start_time": "2022-02-02T22:55:07.841Z"
   },
   {
    "duration": 30,
    "start_time": "2022-02-02T22:55:07.932Z"
   },
   {
    "duration": 20,
    "start_time": "2022-02-02T22:55:07.964Z"
   },
   {
    "duration": 44,
    "start_time": "2022-02-02T22:55:07.998Z"
   },
   {
    "duration": 21,
    "start_time": "2022-02-02T22:55:08.044Z"
   },
   {
    "duration": 51,
    "start_time": "2022-02-02T22:55:08.068Z"
   },
   {
    "duration": 5,
    "start_time": "2022-02-02T22:55:08.123Z"
   },
   {
    "duration": 11,
    "start_time": "2022-02-02T22:55:08.131Z"
   },
   {
    "duration": 98,
    "start_time": "2022-02-02T22:55:08.143Z"
   },
   {
    "duration": 6,
    "start_time": "2022-02-02T22:55:08.242Z"
   },
   {
    "duration": 5,
    "start_time": "2022-02-02T22:55:08.250Z"
   },
   {
    "duration": 96,
    "start_time": "2022-02-02T22:55:08.257Z"
   },
   {
    "duration": 5,
    "start_time": "2022-02-02T22:55:08.355Z"
   },
   {
    "duration": 8,
    "start_time": "2022-02-02T22:55:08.362Z"
   },
   {
    "duration": 74,
    "start_time": "2022-02-02T22:55:08.372Z"
   },
   {
    "duration": 5,
    "start_time": "2022-02-02T22:55:08.447Z"
   },
   {
    "duration": 9,
    "start_time": "2022-02-02T22:55:08.454Z"
   },
   {
    "duration": 8,
    "start_time": "2022-02-02T22:55:08.465Z"
   },
   {
    "duration": 29,
    "start_time": "2022-02-02T22:55:08.475Z"
   },
   {
    "duration": 7,
    "start_time": "2022-02-02T22:55:08.506Z"
   },
   {
    "duration": 71,
    "start_time": "2022-02-02T22:55:08.514Z"
   },
   {
    "duration": 17,
    "start_time": "2022-02-02T22:55:08.599Z"
   },
   {
    "duration": 26,
    "start_time": "2022-02-02T22:55:08.618Z"
   },
   {
    "duration": 15,
    "start_time": "2022-02-02T22:55:08.646Z"
   },
   {
    "duration": 5,
    "start_time": "2022-02-02T22:55:08.662Z"
   },
   {
    "duration": 44,
    "start_time": "2022-02-02T22:55:08.669Z"
   },
   {
    "duration": 27,
    "start_time": "2022-02-02T22:55:08.715Z"
   },
   {
    "duration": 26,
    "start_time": "2022-02-02T22:55:08.744Z"
   },
   {
    "duration": 39,
    "start_time": "2022-02-02T22:55:08.772Z"
   },
   {
    "duration": 31,
    "start_time": "2022-02-02T22:55:08.813Z"
   },
   {
    "duration": 5,
    "start_time": "2022-02-02T22:55:08.846Z"
   },
   {
    "duration": 7,
    "start_time": "2022-02-02T22:55:08.853Z"
   },
   {
    "duration": 8,
    "start_time": "2022-02-02T22:55:08.861Z"
   },
   {
    "duration": 30,
    "start_time": "2022-02-02T22:55:08.871Z"
   },
   {
    "duration": 26,
    "start_time": "2022-02-02T22:55:08.903Z"
   },
   {
    "duration": 4,
    "start_time": "2022-02-02T22:55:08.931Z"
   },
   {
    "duration": 24,
    "start_time": "2022-02-02T22:55:08.937Z"
   },
   {
    "duration": 61,
    "start_time": "2022-02-02T22:55:08.963Z"
   },
   {
    "duration": 9,
    "start_time": "2022-02-02T22:55:09.026Z"
   },
   {
    "duration": 12,
    "start_time": "2022-02-02T22:55:09.037Z"
   },
   {
    "duration": 10,
    "start_time": "2022-02-02T22:55:09.051Z"
   },
   {
    "duration": 36,
    "start_time": "2022-02-02T22:55:09.063Z"
   },
   {
    "duration": 13,
    "start_time": "2022-02-02T22:55:09.101Z"
   },
   {
    "duration": 11,
    "start_time": "2022-02-02T22:55:09.116Z"
   },
   {
    "duration": 9,
    "start_time": "2022-02-02T22:55:09.129Z"
   },
   {
    "duration": 27,
    "start_time": "2022-02-02T22:55:09.139Z"
   },
   {
    "duration": 36,
    "start_time": "2022-02-02T22:55:09.168Z"
   },
   {
    "duration": 11,
    "start_time": "2022-02-02T22:55:09.205Z"
   },
   {
    "duration": 39,
    "start_time": "2022-02-02T22:55:09.217Z"
   },
   {
    "duration": 1855,
    "start_time": "2022-02-02T22:55:09.258Z"
   },
   {
    "duration": 18,
    "start_time": "2022-02-02T22:55:11.115Z"
   },
   {
    "duration": 1644,
    "start_time": "2022-02-02T22:55:11.134Z"
   },
   {
    "duration": 8,
    "start_time": "2022-02-02T22:55:12.780Z"
   },
   {
    "duration": 226,
    "start_time": "2022-02-02T22:55:12.799Z"
   },
   {
    "duration": 7,
    "start_time": "2022-02-02T22:55:13.027Z"
   },
   {
    "duration": 8,
    "start_time": "2022-02-02T22:55:13.036Z"
   },
   {
    "duration": 9,
    "start_time": "2022-02-02T22:55:13.046Z"
   },
   {
    "duration": 13,
    "start_time": "2022-02-02T22:55:13.056Z"
   },
   {
    "duration": 32,
    "start_time": "2022-02-02T22:55:13.071Z"
   },
   {
    "duration": 8,
    "start_time": "2022-02-02T22:55:13.104Z"
   },
   {
    "duration": 11,
    "start_time": "2022-02-02T22:55:13.114Z"
   },
   {
    "duration": 6,
    "start_time": "2022-02-02T22:55:13.127Z"
   },
   {
    "duration": 9,
    "start_time": "2022-02-02T22:55:13.134Z"
   },
   {
    "duration": 12,
    "start_time": "2022-02-02T22:55:13.145Z"
   },
   {
    "duration": 7,
    "start_time": "2022-02-02T22:55:13.159Z"
   },
   {
    "duration": 35,
    "start_time": "2022-02-02T22:55:13.168Z"
   },
   {
    "duration": 40,
    "start_time": "2022-02-02T22:55:13.208Z"
   },
   {
    "duration": 304,
    "start_time": "2022-02-02T22:55:13.250Z"
   },
   {
    "duration": 305,
    "start_time": "2022-02-02T22:55:13.555Z"
   },
   {
    "duration": 244,
    "start_time": "2022-02-02T22:55:13.862Z"
   },
   {
    "duration": 705,
    "start_time": "2022-02-02T22:55:14.107Z"
   },
   {
    "duration": 328,
    "start_time": "2022-02-02T22:55:14.814Z"
   },
   {
    "duration": 187,
    "start_time": "2022-02-02T22:55:15.144Z"
   },
   {
    "duration": 179,
    "start_time": "2022-02-02T22:55:15.333Z"
   },
   {
    "duration": 663,
    "start_time": "2022-02-02T22:55:52.892Z"
   },
   {
    "duration": 91,
    "start_time": "2022-02-02T22:55:53.558Z"
   },
   {
    "duration": 30,
    "start_time": "2022-02-02T22:55:53.651Z"
   },
   {
    "duration": 33,
    "start_time": "2022-02-02T22:55:53.683Z"
   },
   {
    "duration": 44,
    "start_time": "2022-02-02T22:55:53.718Z"
   },
   {
    "duration": 18,
    "start_time": "2022-02-02T22:55:53.764Z"
   },
   {
    "duration": 37,
    "start_time": "2022-02-02T22:55:53.783Z"
   },
   {
    "duration": 4,
    "start_time": "2022-02-02T22:55:53.823Z"
   },
   {
    "duration": 22,
    "start_time": "2022-02-02T22:55:53.829Z"
   },
   {
    "duration": 91,
    "start_time": "2022-02-02T22:55:53.853Z"
   },
   {
    "duration": 5,
    "start_time": "2022-02-02T22:55:53.945Z"
   },
   {
    "duration": 8,
    "start_time": "2022-02-02T22:55:53.951Z"
   },
   {
    "duration": 87,
    "start_time": "2022-02-02T22:55:53.961Z"
   },
   {
    "duration": 4,
    "start_time": "2022-02-02T22:55:54.050Z"
   },
   {
    "duration": 7,
    "start_time": "2022-02-02T22:55:54.056Z"
   },
   {
    "duration": 74,
    "start_time": "2022-02-02T22:55:54.065Z"
   },
   {
    "duration": 4,
    "start_time": "2022-02-02T22:55:54.141Z"
   },
   {
    "duration": 11,
    "start_time": "2022-02-02T22:55:54.147Z"
   },
   {
    "duration": 8,
    "start_time": "2022-02-02T22:55:54.160Z"
   },
   {
    "duration": 29,
    "start_time": "2022-02-02T22:55:54.170Z"
   },
   {
    "duration": 4,
    "start_time": "2022-02-02T22:55:54.201Z"
   },
   {
    "duration": 5,
    "start_time": "2022-02-02T22:55:54.207Z"
   },
   {
    "duration": 8,
    "start_time": "2022-02-02T22:55:54.216Z"
   },
   {
    "duration": 9,
    "start_time": "2022-02-02T22:55:54.227Z"
   },
   {
    "duration": 7,
    "start_time": "2022-02-02T22:55:54.238Z"
   },
   {
    "duration": 5,
    "start_time": "2022-02-02T22:55:54.247Z"
   },
   {
    "duration": 62,
    "start_time": "2022-02-02T22:55:54.253Z"
   },
   {
    "duration": 29,
    "start_time": "2022-02-02T22:55:54.317Z"
   },
   {
    "duration": 27,
    "start_time": "2022-02-02T22:55:54.348Z"
   },
   {
    "duration": 34,
    "start_time": "2022-02-02T22:55:54.377Z"
   },
   {
    "duration": 34,
    "start_time": "2022-02-02T22:55:54.413Z"
   },
   {
    "duration": 6,
    "start_time": "2022-02-02T22:55:54.449Z"
   },
   {
    "duration": 8,
    "start_time": "2022-02-02T22:55:54.456Z"
   },
   {
    "duration": 32,
    "start_time": "2022-02-02T22:55:54.466Z"
   },
   {
    "duration": 5,
    "start_time": "2022-02-02T22:55:54.500Z"
   },
   {
    "duration": 25,
    "start_time": "2022-02-02T22:55:54.506Z"
   },
   {
    "duration": 4,
    "start_time": "2022-02-02T22:55:54.533Z"
   },
   {
    "duration": 26,
    "start_time": "2022-02-02T22:55:54.539Z"
   },
   {
    "duration": 73,
    "start_time": "2022-02-02T22:55:54.567Z"
   },
   {
    "duration": 9,
    "start_time": "2022-02-02T22:55:54.642Z"
   },
   {
    "duration": 12,
    "start_time": "2022-02-02T22:55:54.652Z"
   },
   {
    "duration": 10,
    "start_time": "2022-02-02T22:55:54.666Z"
   },
   {
    "duration": 13,
    "start_time": "2022-02-02T22:55:54.699Z"
   },
   {
    "duration": 14,
    "start_time": "2022-02-02T22:55:54.714Z"
   },
   {
    "duration": 13,
    "start_time": "2022-02-02T22:55:54.730Z"
   },
   {
    "duration": 9,
    "start_time": "2022-02-02T22:55:54.745Z"
   },
   {
    "duration": 60,
    "start_time": "2022-02-02T22:55:54.756Z"
   },
   {
    "duration": 6,
    "start_time": "2022-02-02T22:55:54.818Z"
   },
   {
    "duration": 10,
    "start_time": "2022-02-02T22:55:54.826Z"
   },
   {
    "duration": 62,
    "start_time": "2022-02-02T22:55:54.838Z"
   },
   {
    "duration": 1869,
    "start_time": "2022-02-02T22:55:54.902Z"
   },
   {
    "duration": 33,
    "start_time": "2022-02-02T22:55:56.773Z"
   },
   {
    "duration": 1663,
    "start_time": "2022-02-02T22:55:56.808Z"
   },
   {
    "duration": 9,
    "start_time": "2022-02-02T22:55:58.473Z"
   },
   {
    "duration": 239,
    "start_time": "2022-02-02T22:55:58.483Z"
   },
   {
    "duration": 8,
    "start_time": "2022-02-02T22:55:58.724Z"
   },
   {
    "duration": 7,
    "start_time": "2022-02-02T22:55:58.734Z"
   },
   {
    "duration": 8,
    "start_time": "2022-02-02T22:55:58.742Z"
   },
   {
    "duration": 11,
    "start_time": "2022-02-02T22:55:58.751Z"
   },
   {
    "duration": 39,
    "start_time": "2022-02-02T22:55:58.764Z"
   },
   {
    "duration": 8,
    "start_time": "2022-02-02T22:55:58.805Z"
   },
   {
    "duration": 9,
    "start_time": "2022-02-02T22:55:58.815Z"
   },
   {
    "duration": 5,
    "start_time": "2022-02-02T22:55:58.826Z"
   },
   {
    "duration": 7,
    "start_time": "2022-02-02T22:55:58.832Z"
   },
   {
    "duration": 9,
    "start_time": "2022-02-02T22:55:58.841Z"
   },
   {
    "duration": 7,
    "start_time": "2022-02-02T22:55:58.852Z"
   },
   {
    "duration": 44,
    "start_time": "2022-02-02T22:55:58.861Z"
   },
   {
    "duration": 40,
    "start_time": "2022-02-02T22:55:58.910Z"
   },
   {
    "duration": 304,
    "start_time": "2022-02-02T22:55:58.952Z"
   },
   {
    "duration": 302,
    "start_time": "2022-02-02T22:55:59.257Z"
   },
   {
    "duration": 252,
    "start_time": "2022-02-02T22:55:59.561Z"
   },
   {
    "duration": 702,
    "start_time": "2022-02-02T22:55:59.815Z"
   },
   {
    "duration": 325,
    "start_time": "2022-02-02T22:56:00.519Z"
   },
   {
    "duration": 180,
    "start_time": "2022-02-02T22:56:00.845Z"
   },
   {
    "duration": 184,
    "start_time": "2022-02-02T22:56:01.026Z"
   },
   {
    "duration": 6,
    "start_time": "2022-02-02T22:56:26.727Z"
   },
   {
    "duration": 5,
    "start_time": "2022-02-02T23:05:13.880Z"
   },
   {
    "duration": 5,
    "start_time": "2022-02-02T23:05:15.372Z"
   },
   {
    "duration": 5,
    "start_time": "2022-02-02T23:05:16.242Z"
   },
   {
    "duration": 5,
    "start_time": "2022-02-02T23:05:17.579Z"
   },
   {
    "duration": 1886,
    "start_time": "2022-02-02T23:16:32.606Z"
   },
   {
    "duration": 2065,
    "start_time": "2022-02-02T23:16:58.890Z"
   },
   {
    "duration": 88,
    "start_time": "2022-02-02T23:18:15.391Z"
   },
   {
    "duration": 1996,
    "start_time": "2022-02-02T23:18:32.007Z"
   },
   {
    "duration": 2117,
    "start_time": "2022-02-02T23:18:35.714Z"
   },
   {
    "duration": 1915,
    "start_time": "2022-02-02T23:18:54.472Z"
   },
   {
    "duration": 2116,
    "start_time": "2022-02-02T23:19:23.476Z"
   },
   {
    "duration": 366,
    "start_time": "2022-02-02T23:29:19.648Z"
   },
   {
    "duration": 288,
    "start_time": "2022-02-02T23:30:06.007Z"
   },
   {
    "duration": 6640,
    "start_time": "2022-02-02T23:30:16.538Z"
   },
   {
    "duration": 293,
    "start_time": "2022-02-02T23:30:35.932Z"
   },
   {
    "duration": 420,
    "start_time": "2022-02-02T23:31:10.120Z"
   },
   {
    "duration": 865,
    "start_time": "2022-02-02T23:31:40.834Z"
   },
   {
    "duration": 642,
    "start_time": "2022-02-02T23:36:06.771Z"
   },
   {
    "duration": 832,
    "start_time": "2022-02-02T23:36:33.656Z"
   },
   {
    "duration": 797,
    "start_time": "2022-02-02T23:37:07.688Z"
   },
   {
    "duration": 883,
    "start_time": "2022-02-02T23:38:28.936Z"
   },
   {
    "duration": 844,
    "start_time": "2022-02-02T23:38:39.342Z"
   },
   {
    "duration": 840,
    "start_time": "2022-02-02T23:38:48.367Z"
   },
   {
    "duration": 859,
    "start_time": "2022-02-02T23:38:58.407Z"
   },
   {
    "duration": 957,
    "start_time": "2022-02-02T23:39:19.904Z"
   },
   {
    "duration": 899,
    "start_time": "2022-02-02T23:39:48.735Z"
   },
   {
    "duration": 893,
    "start_time": "2022-02-02T23:40:38.820Z"
   },
   {
    "duration": 272,
    "start_time": "2022-02-02T23:42:32.623Z"
   },
   {
    "duration": 431,
    "start_time": "2022-02-02T23:42:37.133Z"
   },
   {
    "duration": 260,
    "start_time": "2022-02-02T23:43:56.245Z"
   },
   {
    "duration": 293,
    "start_time": "2022-02-02T23:44:09.457Z"
   },
   {
    "duration": 164,
    "start_time": "2022-02-02T23:44:20.698Z"
   },
   {
    "duration": 267,
    "start_time": "2022-02-02T23:44:41.804Z"
   },
   {
    "duration": 157,
    "start_time": "2022-02-02T23:44:57.946Z"
   },
   {
    "duration": 161,
    "start_time": "2022-02-02T23:46:16.016Z"
   },
   {
    "duration": 166,
    "start_time": "2022-02-02T23:47:26.887Z"
   },
   {
    "duration": 282,
    "start_time": "2022-02-02T23:52:45.911Z"
   },
   {
    "duration": 124,
    "start_time": "2022-02-02T23:52:58.290Z"
   },
   {
    "duration": 24,
    "start_time": "2022-02-02T23:53:25.294Z"
   },
   {
    "duration": 265,
    "start_time": "2022-02-02T23:53:36.316Z"
   },
   {
    "duration": 157,
    "start_time": "2022-02-02T23:55:47.468Z"
   },
   {
    "duration": 271,
    "start_time": "2022-02-02T23:56:02.365Z"
   },
   {
    "duration": 153,
    "start_time": "2022-02-02T23:56:13.323Z"
   },
   {
    "duration": 427,
    "start_time": "2022-02-02T23:57:18.701Z"
   },
   {
    "duration": 30,
    "start_time": "2022-02-02T23:58:03.841Z"
   },
   {
    "duration": 98,
    "start_time": "2022-02-02T23:59:29.711Z"
   },
   {
    "duration": 239,
    "start_time": "2022-02-02T23:59:35.236Z"
   },
   {
    "duration": 319,
    "start_time": "2022-02-02T23:59:42.213Z"
   },
   {
    "duration": 3889,
    "start_time": "2022-02-03T00:02:34.547Z"
   },
   {
    "duration": 217,
    "start_time": "2022-02-03T00:02:52.107Z"
   },
   {
    "duration": 218,
    "start_time": "2022-02-03T00:02:57.247Z"
   },
   {
    "duration": 162,
    "start_time": "2022-02-03T00:04:38.801Z"
   },
   {
    "duration": 226,
    "start_time": "2022-02-03T00:05:04.289Z"
   },
   {
    "duration": 225,
    "start_time": "2022-02-03T00:08:15.416Z"
   },
   {
    "duration": 405,
    "start_time": "2022-02-03T00:08:50.933Z"
   },
   {
    "duration": 411,
    "start_time": "2022-02-03T00:09:06.397Z"
   },
   {
    "duration": 1212,
    "start_time": "2022-02-03T00:09:49.898Z"
   },
   {
    "duration": 1153,
    "start_time": "2022-02-03T00:10:57.957Z"
   },
   {
    "duration": 398,
    "start_time": "2022-02-03T00:11:39.179Z"
   },
   {
    "duration": 94,
    "start_time": "2022-02-03T00:11:54.039Z"
   },
   {
    "duration": 424,
    "start_time": "2022-02-03T00:12:00.685Z"
   },
   {
    "duration": 93,
    "start_time": "2022-02-03T00:12:33.682Z"
   },
   {
    "duration": 236,
    "start_time": "2022-02-03T00:12:37.458Z"
   },
   {
    "duration": 217,
    "start_time": "2022-02-03T00:12:41.531Z"
   },
   {
    "duration": 576,
    "start_time": "2022-02-03T00:14:07.567Z"
   },
   {
    "duration": 644,
    "start_time": "2022-02-03T00:15:06.698Z"
   },
   {
    "duration": 695,
    "start_time": "2022-02-03T00:15:18.726Z"
   },
   {
    "duration": 891,
    "start_time": "2022-02-03T00:15:36.055Z"
   },
   {
    "duration": 1030,
    "start_time": "2022-02-03T00:15:51.328Z"
   },
   {
    "duration": 1048,
    "start_time": "2022-02-03T00:23:21.574Z"
   },
   {
    "duration": 1237,
    "start_time": "2022-02-03T00:23:38.358Z"
   },
   {
    "duration": 1062,
    "start_time": "2022-02-03T00:23:49.188Z"
   },
   {
    "duration": 3799,
    "start_time": "2022-02-03T00:25:08.810Z"
   },
   {
    "duration": 4048,
    "start_time": "2022-02-03T00:27:37.248Z"
   },
   {
    "duration": 2898,
    "start_time": "2022-02-03T00:29:00.903Z"
   },
   {
    "duration": 2493,
    "start_time": "2022-02-03T00:31:46.653Z"
   },
   {
    "duration": 2829,
    "start_time": "2022-02-03T00:32:03.686Z"
   },
   {
    "duration": 2560,
    "start_time": "2022-02-03T00:32:30.301Z"
   },
   {
    "duration": 6367,
    "start_time": "2022-02-03T00:33:25.602Z"
   },
   {
    "duration": 2515,
    "start_time": "2022-02-03T00:34:00.888Z"
   },
   {
    "duration": 5,
    "start_time": "2022-02-03T00:37:04.871Z"
   },
   {
    "duration": 655,
    "start_time": "2022-02-03T00:37:36.671Z"
   },
   {
    "duration": 95,
    "start_time": "2022-02-03T00:37:37.328Z"
   },
   {
    "duration": 31,
    "start_time": "2022-02-03T00:37:37.426Z"
   },
   {
    "duration": 21,
    "start_time": "2022-02-03T00:37:37.459Z"
   },
   {
    "duration": 43,
    "start_time": "2022-02-03T00:37:37.498Z"
   },
   {
    "duration": 19,
    "start_time": "2022-02-03T00:37:37.542Z"
   },
   {
    "duration": 48,
    "start_time": "2022-02-03T00:37:37.563Z"
   },
   {
    "duration": 5,
    "start_time": "2022-02-03T00:37:37.613Z"
   },
   {
    "duration": 19,
    "start_time": "2022-02-03T00:37:37.620Z"
   },
   {
    "duration": 89,
    "start_time": "2022-02-03T00:37:37.641Z"
   },
   {
    "duration": 5,
    "start_time": "2022-02-03T00:37:37.731Z"
   },
   {
    "duration": 6,
    "start_time": "2022-02-03T00:37:37.738Z"
   },
   {
    "duration": 85,
    "start_time": "2022-02-03T00:37:37.746Z"
   },
   {
    "duration": 4,
    "start_time": "2022-02-03T00:37:37.833Z"
   },
   {
    "duration": 5,
    "start_time": "2022-02-03T00:37:37.839Z"
   },
   {
    "duration": 76,
    "start_time": "2022-02-03T00:37:37.846Z"
   },
   {
    "duration": 5,
    "start_time": "2022-02-03T00:37:37.923Z"
   },
   {
    "duration": 7,
    "start_time": "2022-02-03T00:37:37.930Z"
   },
   {
    "duration": 8,
    "start_time": "2022-02-03T00:37:37.939Z"
   },
   {
    "duration": 11,
    "start_time": "2022-02-03T00:37:37.949Z"
   },
   {
    "duration": 6,
    "start_time": "2022-02-03T00:37:37.962Z"
   },
   {
    "duration": 4,
    "start_time": "2022-02-03T00:37:37.999Z"
   },
   {
    "duration": 7,
    "start_time": "2022-02-03T00:37:38.007Z"
   },
   {
    "duration": 23,
    "start_time": "2022-02-03T00:37:38.017Z"
   },
   {
    "duration": 29,
    "start_time": "2022-02-03T00:37:38.042Z"
   },
   {
    "duration": 50,
    "start_time": "2022-02-03T00:37:38.073Z"
   },
   {
    "duration": 17,
    "start_time": "2022-02-03T00:37:38.125Z"
   },
   {
    "duration": 54,
    "start_time": "2022-02-03T00:37:38.144Z"
   },
   {
    "duration": 6,
    "start_time": "2022-02-03T00:37:38.200Z"
   },
   {
    "duration": 15,
    "start_time": "2022-02-03T00:37:38.208Z"
   },
   {
    "duration": 19,
    "start_time": "2022-02-03T00:37:38.225Z"
   },
   {
    "duration": 18,
    "start_time": "2022-02-03T00:37:38.246Z"
   },
   {
    "duration": 29,
    "start_time": "2022-02-03T00:37:38.266Z"
   },
   {
    "duration": 4,
    "start_time": "2022-02-03T00:37:38.297Z"
   },
   {
    "duration": 33,
    "start_time": "2022-02-03T00:37:38.303Z"
   },
   {
    "duration": 45,
    "start_time": "2022-02-03T00:37:38.338Z"
   },
   {
    "duration": 19,
    "start_time": "2022-02-03T00:37:38.385Z"
   },
   {
    "duration": 15,
    "start_time": "2022-02-03T00:37:38.405Z"
   },
   {
    "duration": 11,
    "start_time": "2022-02-03T00:37:38.422Z"
   },
   {
    "duration": 16,
    "start_time": "2022-02-03T00:37:38.435Z"
   },
   {
    "duration": 14,
    "start_time": "2022-02-03T00:37:38.453Z"
   },
   {
    "duration": 35,
    "start_time": "2022-02-03T00:37:38.468Z"
   },
   {
    "duration": 9,
    "start_time": "2022-02-03T00:37:38.504Z"
   },
   {
    "duration": 29,
    "start_time": "2022-02-03T00:37:38.515Z"
   },
   {
    "duration": 6,
    "start_time": "2022-02-03T00:37:38.545Z"
   },
   {
    "duration": 12,
    "start_time": "2022-02-03T00:37:38.553Z"
   },
   {
    "duration": 37,
    "start_time": "2022-02-03T00:37:38.599Z"
   },
   {
    "duration": 2289,
    "start_time": "2022-02-03T00:37:38.638Z"
   },
   {
    "duration": 15,
    "start_time": "2022-02-03T00:37:40.929Z"
   },
   {
    "duration": 20,
    "start_time": "2022-02-03T00:37:40.946Z"
   },
   {
    "duration": 242,
    "start_time": "2022-02-03T00:37:40.968Z"
   },
   {
    "duration": 8,
    "start_time": "2022-02-03T00:37:41.212Z"
   },
   {
    "duration": 25,
    "start_time": "2022-02-03T00:37:41.221Z"
   },
   {
    "duration": 22,
    "start_time": "2022-02-03T00:37:41.247Z"
   },
   {
    "duration": 18,
    "start_time": "2022-02-03T00:37:41.271Z"
   },
   {
    "duration": 27,
    "start_time": "2022-02-03T00:37:41.291Z"
   },
   {
    "duration": 23,
    "start_time": "2022-02-03T00:37:41.320Z"
   },
   {
    "duration": 35,
    "start_time": "2022-02-03T00:37:41.345Z"
   },
   {
    "duration": 36,
    "start_time": "2022-02-03T00:37:41.381Z"
   },
   {
    "duration": 34,
    "start_time": "2022-02-03T00:37:41.418Z"
   },
   {
    "duration": 37,
    "start_time": "2022-02-03T00:37:41.454Z"
   },
   {
    "duration": 42,
    "start_time": "2022-02-03T00:37:41.493Z"
   },
   {
    "duration": 17,
    "start_time": "2022-02-03T00:37:41.537Z"
   },
   {
    "duration": 71,
    "start_time": "2022-02-03T00:37:41.556Z"
   },
   {
    "duration": 291,
    "start_time": "2022-02-03T00:37:41.629Z"
   },
   {
    "duration": 302,
    "start_time": "2022-02-03T00:37:41.922Z"
   },
   {
    "duration": 251,
    "start_time": "2022-02-03T00:37:42.226Z"
   },
   {
    "duration": 951,
    "start_time": "2022-02-03T00:37:42.482Z"
   },
   {
    "duration": 897,
    "start_time": "2022-02-03T00:37:43.435Z"
   },
   {
    "duration": 907,
    "start_time": "2022-02-03T00:37:44.333Z"
   },
   {
    "duration": 1109,
    "start_time": "2022-02-03T00:37:45.242Z"
   },
   {
    "duration": 17,
    "start_time": "2022-02-03T00:38:38.734Z"
   },
   {
    "duration": 622,
    "start_time": "2022-02-03T21:27:04.857Z"
   },
   {
    "duration": 96,
    "start_time": "2022-02-03T21:27:05.480Z"
   },
   {
    "duration": 29,
    "start_time": "2022-02-03T21:27:05.579Z"
   },
   {
    "duration": 30,
    "start_time": "2022-02-03T21:27:05.609Z"
   },
   {
    "duration": 55,
    "start_time": "2022-02-03T21:27:05.641Z"
   },
   {
    "duration": 23,
    "start_time": "2022-02-03T21:27:05.698Z"
   },
   {
    "duration": 42,
    "start_time": "2022-02-03T21:27:05.723Z"
   },
   {
    "duration": 5,
    "start_time": "2022-02-03T21:27:05.769Z"
   },
   {
    "duration": 21,
    "start_time": "2022-02-03T21:27:05.776Z"
   },
   {
    "duration": 74,
    "start_time": "2022-02-03T21:27:05.799Z"
   },
   {
    "duration": 4,
    "start_time": "2022-02-03T21:27:05.875Z"
   },
   {
    "duration": 29,
    "start_time": "2022-02-03T21:27:05.881Z"
   },
   {
    "duration": 91,
    "start_time": "2022-02-03T21:27:05.912Z"
   },
   {
    "duration": 6,
    "start_time": "2022-02-03T21:27:06.005Z"
   },
   {
    "duration": 25,
    "start_time": "2022-02-03T21:27:06.013Z"
   },
   {
    "duration": 86,
    "start_time": "2022-02-03T21:27:06.039Z"
   },
   {
    "duration": 5,
    "start_time": "2022-02-03T21:27:06.127Z"
   },
   {
    "duration": 28,
    "start_time": "2022-02-03T21:27:06.133Z"
   },
   {
    "duration": 20,
    "start_time": "2022-02-03T21:27:06.163Z"
   },
   {
    "duration": 29,
    "start_time": "2022-02-03T21:27:06.185Z"
   },
   {
    "duration": 25,
    "start_time": "2022-02-03T21:27:06.215Z"
   },
   {
    "duration": 20,
    "start_time": "2022-02-03T21:27:06.242Z"
   },
   {
    "duration": 23,
    "start_time": "2022-02-03T21:27:06.268Z"
   },
   {
    "duration": 41,
    "start_time": "2022-02-03T21:27:06.294Z"
   },
   {
    "duration": 34,
    "start_time": "2022-02-03T21:27:06.337Z"
   },
   {
    "duration": 29,
    "start_time": "2022-02-03T21:27:06.373Z"
   },
   {
    "duration": 25,
    "start_time": "2022-02-03T21:27:06.404Z"
   },
   {
    "duration": 49,
    "start_time": "2022-02-03T21:27:06.431Z"
   },
   {
    "duration": 11,
    "start_time": "2022-02-03T21:27:06.482Z"
   },
   {
    "duration": 27,
    "start_time": "2022-02-03T21:27:06.495Z"
   },
   {
    "duration": 28,
    "start_time": "2022-02-03T21:27:06.524Z"
   },
   {
    "duration": 20,
    "start_time": "2022-02-03T21:27:06.555Z"
   },
   {
    "duration": 30,
    "start_time": "2022-02-03T21:27:06.577Z"
   },
   {
    "duration": 21,
    "start_time": "2022-02-03T21:27:06.609Z"
   },
   {
    "duration": 64,
    "start_time": "2022-02-03T21:27:06.632Z"
   },
   {
    "duration": 70,
    "start_time": "2022-02-03T21:27:06.698Z"
   },
   {
    "duration": 9,
    "start_time": "2022-02-03T21:27:06.770Z"
   },
   {
    "duration": 41,
    "start_time": "2022-02-03T21:27:06.780Z"
   },
   {
    "duration": 31,
    "start_time": "2022-02-03T21:27:06.823Z"
   },
   {
    "duration": 32,
    "start_time": "2022-02-03T21:27:06.855Z"
   },
   {
    "duration": 27,
    "start_time": "2022-02-03T21:27:06.889Z"
   },
   {
    "duration": 23,
    "start_time": "2022-02-03T21:27:06.918Z"
   },
   {
    "duration": 21,
    "start_time": "2022-02-03T21:27:06.943Z"
   },
   {
    "duration": 37,
    "start_time": "2022-02-03T21:27:06.966Z"
   },
   {
    "duration": 18,
    "start_time": "2022-02-03T21:27:07.006Z"
   },
   {
    "duration": 35,
    "start_time": "2022-02-03T21:27:07.026Z"
   },
   {
    "duration": 44,
    "start_time": "2022-02-03T21:27:07.063Z"
   },
   {
    "duration": 2379,
    "start_time": "2022-02-03T21:27:07.109Z"
   },
   {
    "duration": 31,
    "start_time": "2022-02-03T21:27:09.490Z"
   },
   {
    "duration": 8,
    "start_time": "2022-02-03T21:27:09.523Z"
   },
   {
    "duration": 228,
    "start_time": "2022-02-03T21:27:09.533Z"
   },
   {
    "duration": 8,
    "start_time": "2022-02-03T21:27:09.763Z"
   },
   {
    "duration": 11,
    "start_time": "2022-02-03T21:27:09.772Z"
   },
   {
    "duration": 9,
    "start_time": "2022-02-03T21:27:09.784Z"
   },
   {
    "duration": 11,
    "start_time": "2022-02-03T21:27:09.794Z"
   },
   {
    "duration": 7,
    "start_time": "2022-02-03T21:27:09.807Z"
   },
   {
    "duration": 7,
    "start_time": "2022-02-03T21:27:09.816Z"
   },
   {
    "duration": 10,
    "start_time": "2022-02-03T21:27:09.825Z"
   },
   {
    "duration": 5,
    "start_time": "2022-02-03T21:27:09.837Z"
   },
   {
    "duration": 8,
    "start_time": "2022-02-03T21:27:09.844Z"
   },
   {
    "duration": 13,
    "start_time": "2022-02-03T21:27:09.853Z"
   },
   {
    "duration": 13,
    "start_time": "2022-02-03T21:27:09.868Z"
   },
   {
    "duration": 6,
    "start_time": "2022-02-03T21:27:09.883Z"
   },
   {
    "duration": 36,
    "start_time": "2022-02-03T21:27:09.891Z"
   },
   {
    "duration": 245,
    "start_time": "2022-02-03T21:27:09.928Z"
   },
   {
    "duration": 258,
    "start_time": "2022-02-03T21:27:10.174Z"
   },
   {
    "duration": 293,
    "start_time": "2022-02-03T21:27:10.434Z"
   },
   {
    "duration": 988,
    "start_time": "2022-02-03T21:27:10.732Z"
   },
   {
    "duration": 882,
    "start_time": "2022-02-03T21:27:11.722Z"
   },
   {
    "duration": 903,
    "start_time": "2022-02-03T21:27:12.605Z"
   },
   {
    "duration": 972,
    "start_time": "2022-02-03T21:27:13.510Z"
   },
   {
    "duration": 27,
    "start_time": "2022-02-03T21:30:37.736Z"
   },
   {
    "duration": 2976,
    "start_time": "2022-02-03T21:42:55.459Z"
   },
   {
    "duration": 3032,
    "start_time": "2022-02-03T21:43:01.259Z"
   },
   {
    "duration": 303,
    "start_time": "2022-02-03T21:43:36.598Z"
   },
   {
    "duration": 605,
    "start_time": "2022-02-03T21:43:53.367Z"
   },
   {
    "duration": 288,
    "start_time": "2022-02-03T21:43:53.975Z"
   },
   {
    "duration": 244,
    "start_time": "2022-02-03T21:44:07.568Z"
   },
   {
    "duration": 420,
    "start_time": "2022-02-03T21:44:15.181Z"
   },
   {
    "duration": 3,
    "start_time": "2022-02-03T21:44:42.403Z"
   },
   {
    "duration": 187,
    "start_time": "2022-02-03T21:44:42.914Z"
   },
   {
    "duration": 185,
    "start_time": "2022-02-03T21:44:46.039Z"
   },
   {
    "duration": 346,
    "start_time": "2022-02-03T21:45:18.940Z"
   }
  ],
  "kernelspec": {
   "display_name": "Python 3 (ipykernel)",
   "language": "python",
   "name": "python3"
  },
  "language_info": {
   "codemirror_mode": {
    "name": "ipython",
    "version": 3
   },
   "file_extension": ".py",
   "mimetype": "text/x-python",
   "name": "python",
   "nbconvert_exporter": "python",
   "pygments_lexer": "ipython3",
   "version": "3.9.5"
  },
  "toc": {
   "base_numbering": 1,
   "nav_menu": {},
   "number_sections": true,
   "sideBar": true,
   "skip_h1_title": false,
   "title_cell": "Table of Contents",
   "title_sidebar": "Contents",
   "toc_cell": false,
   "toc_position": {
    "height": "calc(100% - 180px)",
    "left": "10px",
    "top": "150px",
    "width": "165px"
   },
   "toc_section_display": true,
   "toc_window_display": true
  }
 },
 "nbformat": 4,
 "nbformat_minor": 2
}
