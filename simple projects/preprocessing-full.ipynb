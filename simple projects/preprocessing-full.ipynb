{
 "cells": [
  {
   "cell_type": "markdown",
   "metadata": {},
   "source": [
    "Hello Ameer!\n",
    "\n",
    "My name is Elena. I'm happy to review your project today. \n",
    "\n",
    "When I will see mistake at the first time, I will just point it out. I let you find it and fix it by yourself. I'm trying to prepare you to work as an Data Analyst. SO, at a real job, your team lead will do the same. But if you can't handle this task yet, I will give you a more accurate hint at the next iteration.\n",
    "\n",
    "Below you will find my comments - please do not move, modify or delete them.\n",
    "\n",
    "You can find my comments in green, yellow or red boxes like this:\n",
    "\n",
    "<div class=\"alert alert-block alert-success\">\n",
    "<b>Reviewer's comment</b> <a class=\"tocSkip\"></a>\n",
    "Success. Everything is done succesfully.\n",
    "</div>\n",
    "\n",
    "<div class=\"alert alert-block alert-warning\">\n",
    "<b>Reviewer's comment</b> <a class=\"tocSkip\"></a>\n",
    "Remarks. Some recommendations.\n",
    "</div>\n",
    "\n",
    "<div class=\"alert alert-block alert-danger\">\n",
    "<b>Reviewer's comment</b> <a class=\"tocSkip\"></a>\n",
    "Needs fixing. The block requires some corrections. Work can't be accepted with the red comments.\n",
    "</div>\n",
    "\n",
    "You can answer me by using this: \n",
    "\n",
    "<div class=\"alert alert-block alert-info\">\n",
    "<b>Student answer.</b> <a class=\"tocSkip\"></a>\n",
    "</div>"
   ]
  },
  {
   "cell_type": "markdown",
   "metadata": {},
   "source": [
    "<div class=\"alert alert-block alert-success\">\n",
    "<b>Final reviewer's comment</b> <a class=\"tocSkip\"></a>\n",
    "\n",
    "The work is well structured, each step is described in detail. You've done a great job! \n",
    "    \n",
    "Ready:\n",
    "1. There is an excellent structure with the addition of subtotals and commenting on your steps;\n",
    "2. All available gaps are filled in, and duplicates are found and removed;\n",
    "3. Well done data categorization;\n",
    "4. The necessary replacements have been made in the \"children\" , \"gender\", \"income_type\" and \"education\" columns.\n",
    "</div>"
   ]
  },
  {
   "cell_type": "markdown",
   "metadata": {},
   "source": [
    "<div class=\"alert alert-block alert-danger\">\n",
    "<b>Final reviewer's comment</b> <a class=\"tocSkip\"></a>\n",
    "\n",
    "~~But there are a few remarks that need to be completed so that the work can be accepted:~~\n",
    "~~1. Indicate possible reasons for data gaps and incorrect data;~~\n",
    "~~2. Correct the data in the \"days_employed\" column (translate from hours to days);~~\n",
    "~~3. Add your opinion about the presence of dependencies with logical reasoning to the conclusions in the \"Hypothesis Test\" block.~~\n",
    "\n",
    "If you have any questions - write, I will definitely help to solve them.\n",
    "    \n",
    "I know you will succeed!\n",
    "</div>\n",
    "\n",
    "<div class=\"alert alert-block alert-info\">\n",
    "<b>Student answer</b> \n",
    "\n",
    "1. Indicate possible reasons for data gaps and incorrect data; Done\n",
    "\n",
    "2. Correct the data in the \"days_employed\" column (translate from hours to days); Done\n",
    "\n",
    "3. Add your opinion about the presence of dependencies with logical reasoning to the conclusions in the \"Hypothesis Test\" block; Done\n",
    "\n",
    "I appreciate your comments, really helped me understand my job way better and let me realize things I missed in my first submition. Thanks!<a class=\"tocSkip\"></a>\n",
    "</div>"
   ]
  },
  {
   "cell_type": "markdown",
   "metadata": {},
   "source": [
    "<div class=\"alert alert-block alert-success\">\n",
    "<b>Final reviewer's comment 2</b> <a class=\"tocSkip\"></a>\n",
    "\n",
    "Thanks for fixing all the points. You've done well. You have a great job!\n",
    "    \n",
    "</div>"
   ]
  },
  {
   "cell_type": "markdown",
   "metadata": {},
   "source": [
    "# Analyzing borrowers’ risk of defaulting\n",
    "\n",
    "Your project is to prepare a report for a bank’s loan division. You’ll need to find out if a customer’s marital status and number of children has an impact on whether they will default on a loan. The bank already has some data on customers’ credit worthiness.\n",
    "\n",
    "Your report will be considered when building the **credit score** of a potential customer. The **credit score** is used to evaluate the ability of a potential borrower to repay their loan.\n",
    "\n",
    "The purpose of this project is to check whether factors like; **number of children**, **family status**, **income level** and a couple other factors, have an impact on a customer defaulting a loan. Upon receiving the data about the bank customers' credit worthiness, we are going to analyze it bit by bit and hopefully conclude at the end which factors have the biggest impact on the bank customers on defaulting their loans.\n",
    "\n",
    "**Plan of work:** We are going to start with preprocessing our data, looking for duplicates, errors in the data, missing values and any other problematic data that may be hiding in our dataset. Once we are done with the first step, we start with correcting the problematic data and then refill any missing values if there's any. when we are done with the preprocessing part, we move on into the analyzing part, in this part we process the data and compare it to one another, find certain dependencies and then conclude according to the results we achieved!"
   ]
  },
  {
   "cell_type": "markdown",
   "metadata": {},
   "source": [
    "<div class=\"alert alert-block alert-success\">\n",
    "<b>Reviewer's comment</b> <a class=\"tocSkip\"></a>\n",
    "You did the right thing by adding a description of the projects and purpose.\n",
    "This is a good indicator of the quality work of the Data Analyst.\n",
    "</div>"
   ]
  },
  {
   "cell_type": "markdown",
   "metadata": {},
   "source": [
    "<div class=\"alert alert-block alert-warning\">\n",
    "<b>Reviewer's comment</b> <a class=\"tocSkip\"></a>\n",
    "I would also suggest adding a Short Plan of Work.\n",
    "A short plan of work - here, highlight the points and, if necessary, sub-points, what actions you are going to perform. With it, it will be more convenient for you to complete the project yourself and know which stages you have already completed, and which ones you need to add.\n",
    "This will allow you to reach a new level and show future employers that you know what to do, you know how you will do it, and understand why. I am sure that you will succeed!\n",
    "</div>\n",
    "\n",
    "<div class=\"alert alert-block alert-info\">\n",
    "<b>Student answer</b> I actually had such list/plan on my tablet, checking (with a tick) every checkpoint I finish to make sure I covered everything. I didn't include it in the project because I thought it wasn't professional. I'll make sure to add such plan in my upcoming projects! (Added one here as well) <a class=\"tocSkip\"></a>\n",
    "</div>"
   ]
  },
  {
   "cell_type": "markdown",
   "metadata": {},
   "source": [
    "<div class=\"alert alert-block alert-success\">\n",
    "<b>Reviewer's comment</b> <a class=\"tocSkip\"></a>\n",
    "Well done! Glad to hear it!\n",
    "</div>"
   ]
  },
  {
   "cell_type": "markdown",
   "metadata": {},
   "source": [
    "## Open the data file and have a look at the general information. "
   ]
  },
  {
   "cell_type": "code",
   "execution_count": 1,
   "metadata": {},
   "outputs": [],
   "source": [
    "import pandas as pd\n",
    "from nltk.stem import SnowballStemmer\n",
    "\n",
    "bank_data = pd.read_csv('/datasets/credit_scoring_eng.csv')"
   ]
  },
  {
   "cell_type": "code",
   "execution_count": 2,
   "metadata": {},
   "outputs": [
    {
     "data": {
      "text/html": [
       "<div>\n",
       "<style scoped>\n",
       "    .dataframe tbody tr th:only-of-type {\n",
       "        vertical-align: middle;\n",
       "    }\n",
       "\n",
       "    .dataframe tbody tr th {\n",
       "        vertical-align: top;\n",
       "    }\n",
       "\n",
       "    .dataframe thead th {\n",
       "        text-align: right;\n",
       "    }\n",
       "</style>\n",
       "<table border=\"1\" class=\"dataframe\">\n",
       "  <thead>\n",
       "    <tr style=\"text-align: right;\">\n",
       "      <th></th>\n",
       "      <th>children</th>\n",
       "      <th>days_employed</th>\n",
       "      <th>dob_years</th>\n",
       "      <th>education</th>\n",
       "      <th>education_id</th>\n",
       "      <th>family_status</th>\n",
       "      <th>family_status_id</th>\n",
       "      <th>gender</th>\n",
       "      <th>income_type</th>\n",
       "      <th>debt</th>\n",
       "      <th>total_income</th>\n",
       "      <th>purpose</th>\n",
       "    </tr>\n",
       "  </thead>\n",
       "  <tbody>\n",
       "    <tr>\n",
       "      <td>0</td>\n",
       "      <td>1</td>\n",
       "      <td>-8437.673028</td>\n",
       "      <td>42</td>\n",
       "      <td>bachelor's degree</td>\n",
       "      <td>0</td>\n",
       "      <td>married</td>\n",
       "      <td>0</td>\n",
       "      <td>F</td>\n",
       "      <td>employee</td>\n",
       "      <td>0</td>\n",
       "      <td>40620.102</td>\n",
       "      <td>purchase of the house</td>\n",
       "    </tr>\n",
       "    <tr>\n",
       "      <td>1</td>\n",
       "      <td>1</td>\n",
       "      <td>-4024.803754</td>\n",
       "      <td>36</td>\n",
       "      <td>secondary education</td>\n",
       "      <td>1</td>\n",
       "      <td>married</td>\n",
       "      <td>0</td>\n",
       "      <td>F</td>\n",
       "      <td>employee</td>\n",
       "      <td>0</td>\n",
       "      <td>17932.802</td>\n",
       "      <td>car purchase</td>\n",
       "    </tr>\n",
       "    <tr>\n",
       "      <td>2</td>\n",
       "      <td>0</td>\n",
       "      <td>-5623.422610</td>\n",
       "      <td>33</td>\n",
       "      <td>Secondary Education</td>\n",
       "      <td>1</td>\n",
       "      <td>married</td>\n",
       "      <td>0</td>\n",
       "      <td>M</td>\n",
       "      <td>employee</td>\n",
       "      <td>0</td>\n",
       "      <td>23341.752</td>\n",
       "      <td>purchase of the house</td>\n",
       "    </tr>\n",
       "    <tr>\n",
       "      <td>3</td>\n",
       "      <td>3</td>\n",
       "      <td>-4124.747207</td>\n",
       "      <td>32</td>\n",
       "      <td>secondary education</td>\n",
       "      <td>1</td>\n",
       "      <td>married</td>\n",
       "      <td>0</td>\n",
       "      <td>M</td>\n",
       "      <td>employee</td>\n",
       "      <td>0</td>\n",
       "      <td>42820.568</td>\n",
       "      <td>supplementary education</td>\n",
       "    </tr>\n",
       "    <tr>\n",
       "      <td>4</td>\n",
       "      <td>0</td>\n",
       "      <td>340266.072047</td>\n",
       "      <td>53</td>\n",
       "      <td>secondary education</td>\n",
       "      <td>1</td>\n",
       "      <td>civil partnership</td>\n",
       "      <td>1</td>\n",
       "      <td>F</td>\n",
       "      <td>retiree</td>\n",
       "      <td>0</td>\n",
       "      <td>25378.572</td>\n",
       "      <td>to have a wedding</td>\n",
       "    </tr>\n",
       "    <tr>\n",
       "      <td>...</td>\n",
       "      <td>...</td>\n",
       "      <td>...</td>\n",
       "      <td>...</td>\n",
       "      <td>...</td>\n",
       "      <td>...</td>\n",
       "      <td>...</td>\n",
       "      <td>...</td>\n",
       "      <td>...</td>\n",
       "      <td>...</td>\n",
       "      <td>...</td>\n",
       "      <td>...</td>\n",
       "      <td>...</td>\n",
       "    </tr>\n",
       "    <tr>\n",
       "      <td>21520</td>\n",
       "      <td>1</td>\n",
       "      <td>-4529.316663</td>\n",
       "      <td>43</td>\n",
       "      <td>secondary education</td>\n",
       "      <td>1</td>\n",
       "      <td>civil partnership</td>\n",
       "      <td>1</td>\n",
       "      <td>F</td>\n",
       "      <td>business</td>\n",
       "      <td>0</td>\n",
       "      <td>35966.698</td>\n",
       "      <td>housing transactions</td>\n",
       "    </tr>\n",
       "    <tr>\n",
       "      <td>21521</td>\n",
       "      <td>0</td>\n",
       "      <td>343937.404131</td>\n",
       "      <td>67</td>\n",
       "      <td>secondary education</td>\n",
       "      <td>1</td>\n",
       "      <td>married</td>\n",
       "      <td>0</td>\n",
       "      <td>F</td>\n",
       "      <td>retiree</td>\n",
       "      <td>0</td>\n",
       "      <td>24959.969</td>\n",
       "      <td>purchase of a car</td>\n",
       "    </tr>\n",
       "    <tr>\n",
       "      <td>21522</td>\n",
       "      <td>1</td>\n",
       "      <td>-2113.346888</td>\n",
       "      <td>38</td>\n",
       "      <td>secondary education</td>\n",
       "      <td>1</td>\n",
       "      <td>civil partnership</td>\n",
       "      <td>1</td>\n",
       "      <td>M</td>\n",
       "      <td>employee</td>\n",
       "      <td>1</td>\n",
       "      <td>14347.610</td>\n",
       "      <td>property</td>\n",
       "    </tr>\n",
       "    <tr>\n",
       "      <td>21523</td>\n",
       "      <td>3</td>\n",
       "      <td>-3112.481705</td>\n",
       "      <td>38</td>\n",
       "      <td>secondary education</td>\n",
       "      <td>1</td>\n",
       "      <td>married</td>\n",
       "      <td>0</td>\n",
       "      <td>M</td>\n",
       "      <td>employee</td>\n",
       "      <td>1</td>\n",
       "      <td>39054.888</td>\n",
       "      <td>buying my own car</td>\n",
       "    </tr>\n",
       "    <tr>\n",
       "      <td>21524</td>\n",
       "      <td>2</td>\n",
       "      <td>-1984.507589</td>\n",
       "      <td>40</td>\n",
       "      <td>secondary education</td>\n",
       "      <td>1</td>\n",
       "      <td>married</td>\n",
       "      <td>0</td>\n",
       "      <td>F</td>\n",
       "      <td>employee</td>\n",
       "      <td>0</td>\n",
       "      <td>13127.587</td>\n",
       "      <td>to buy a car</td>\n",
       "    </tr>\n",
       "  </tbody>\n",
       "</table>\n",
       "<p>21525 rows × 12 columns</p>\n",
       "</div>"
      ],
      "text/plain": [
       "       children  days_employed  dob_years            education  education_id  \\\n",
       "0             1   -8437.673028         42    bachelor's degree             0   \n",
       "1             1   -4024.803754         36  secondary education             1   \n",
       "2             0   -5623.422610         33  Secondary Education             1   \n",
       "3             3   -4124.747207         32  secondary education             1   \n",
       "4             0  340266.072047         53  secondary education             1   \n",
       "...         ...            ...        ...                  ...           ...   \n",
       "21520         1   -4529.316663         43  secondary education             1   \n",
       "21521         0  343937.404131         67  secondary education             1   \n",
       "21522         1   -2113.346888         38  secondary education             1   \n",
       "21523         3   -3112.481705         38  secondary education             1   \n",
       "21524         2   -1984.507589         40  secondary education             1   \n",
       "\n",
       "           family_status  family_status_id gender income_type  debt  \\\n",
       "0                married                 0      F    employee     0   \n",
       "1                married                 0      F    employee     0   \n",
       "2                married                 0      M    employee     0   \n",
       "3                married                 0      M    employee     0   \n",
       "4      civil partnership                 1      F     retiree     0   \n",
       "...                  ...               ...    ...         ...   ...   \n",
       "21520  civil partnership                 1      F    business     0   \n",
       "21521            married                 0      F     retiree     0   \n",
       "21522  civil partnership                 1      M    employee     1   \n",
       "21523            married                 0      M    employee     1   \n",
       "21524            married                 0      F    employee     0   \n",
       "\n",
       "       total_income                  purpose  \n",
       "0         40620.102    purchase of the house  \n",
       "1         17932.802             car purchase  \n",
       "2         23341.752    purchase of the house  \n",
       "3         42820.568  supplementary education  \n",
       "4         25378.572        to have a wedding  \n",
       "...             ...                      ...  \n",
       "21520     35966.698     housing transactions  \n",
       "21521     24959.969        purchase of a car  \n",
       "21522     14347.610                 property  \n",
       "21523     39054.888        buying my own car  \n",
       "21524     13127.587             to buy a car  \n",
       "\n",
       "[21525 rows x 12 columns]"
      ]
     },
     "execution_count": 2,
     "metadata": {},
     "output_type": "execute_result"
    }
   ],
   "source": [
    "# Taking a look at the data\n",
    "bank_data"
   ]
  },
  {
   "cell_type": "markdown",
   "metadata": {},
   "source": [
    "<div class=\"alert alert-block alert-warning\">\n",
    "<b>Reviewer's comment</b> <a class=\"tocSkip\"></a>\n",
    "It's good practice to split cells: 1st cell with library loading and 2nd cell with dataset reading. Please pay attention to this!\n",
    "</div>\n",
    "\n",
    "<div class=\"alert alert-block alert-info\">\n",
    "<b>Student answer</b> I am aware of that, it helps alot while still in testing phase since I don't need to run a-lot of code at once when everything is seperated in different cells. I should pay more attention to that. <a class=\"tocSkip\"></a>\n",
    "</div>"
   ]
  },
  {
   "cell_type": "markdown",
   "metadata": {},
   "source": [
    "<div class=\"alert alert-block alert-success\">\n",
    "<b>Reviewer's comment</b> <a class=\"tocSkip\"></a>\n",
    "If you need to restart all the above code, then it is most convenient to do this using the following method: find Kernel on the toolbar -> Restart & Run All\n",
    "</div>"
   ]
  },
  {
   "cell_type": "markdown",
   "metadata": {},
   "source": [
    "## Task 1. Data exploration\n",
    "\n",
    "**Description of the data**\n",
    "- `children` - the number of children in the family\n",
    "- `days_employed` - work experience in days\n",
    "- `dob_years` - client's age in years\n",
    "- `education` - client's education\n",
    "- `education_id` - education identifier\n",
    "- `family_status` - marital status\n",
    "- `family_status_id` - marital status identifier\n",
    "- `gender` - gender of the client\n",
    "- `income_type` - type of employment\n",
    "- `debt` - was there any debt on loan repayment\n",
    "- `total_income` - monthly income\n",
    "- `purpose` - the purpose of obtaining a loan"
   ]
  },
  {
   "cell_type": "code",
   "execution_count": 3,
   "metadata": {},
   "outputs": [
    {
     "name": "stdout",
     "output_type": "stream",
     "text": [
      "Our data has 21525 rows and 12 columns!\n",
      "\n"
     ]
    }
   ],
   "source": [
    "# Checking how many columns and rows does our data have\n",
    "print('Our data has', bank_data.shape[0], 'rows and', bank_data.shape[1], 'columns!\\n')"
   ]
  },
  {
   "cell_type": "code",
   "execution_count": 4,
   "metadata": {
    "scrolled": false
   },
   "outputs": [
    {
     "data": {
      "text/html": [
       "<div>\n",
       "<style scoped>\n",
       "    .dataframe tbody tr th:only-of-type {\n",
       "        vertical-align: middle;\n",
       "    }\n",
       "\n",
       "    .dataframe tbody tr th {\n",
       "        vertical-align: top;\n",
       "    }\n",
       "\n",
       "    .dataframe thead th {\n",
       "        text-align: right;\n",
       "    }\n",
       "</style>\n",
       "<table border=\"1\" class=\"dataframe\">\n",
       "  <thead>\n",
       "    <tr style=\"text-align: right;\">\n",
       "      <th></th>\n",
       "      <th>children</th>\n",
       "      <th>days_employed</th>\n",
       "      <th>dob_years</th>\n",
       "      <th>education</th>\n",
       "      <th>education_id</th>\n",
       "      <th>family_status</th>\n",
       "      <th>family_status_id</th>\n",
       "      <th>gender</th>\n",
       "      <th>income_type</th>\n",
       "      <th>debt</th>\n",
       "      <th>total_income</th>\n",
       "      <th>purpose</th>\n",
       "    </tr>\n",
       "  </thead>\n",
       "  <tbody>\n",
       "    <tr>\n",
       "      <td>0</td>\n",
       "      <td>1</td>\n",
       "      <td>-8437.673028</td>\n",
       "      <td>42</td>\n",
       "      <td>bachelor's degree</td>\n",
       "      <td>0</td>\n",
       "      <td>married</td>\n",
       "      <td>0</td>\n",
       "      <td>F</td>\n",
       "      <td>employee</td>\n",
       "      <td>0</td>\n",
       "      <td>40620.102</td>\n",
       "      <td>purchase of the house</td>\n",
       "    </tr>\n",
       "    <tr>\n",
       "      <td>1</td>\n",
       "      <td>1</td>\n",
       "      <td>-4024.803754</td>\n",
       "      <td>36</td>\n",
       "      <td>secondary education</td>\n",
       "      <td>1</td>\n",
       "      <td>married</td>\n",
       "      <td>0</td>\n",
       "      <td>F</td>\n",
       "      <td>employee</td>\n",
       "      <td>0</td>\n",
       "      <td>17932.802</td>\n",
       "      <td>car purchase</td>\n",
       "    </tr>\n",
       "    <tr>\n",
       "      <td>2</td>\n",
       "      <td>0</td>\n",
       "      <td>-5623.422610</td>\n",
       "      <td>33</td>\n",
       "      <td>Secondary Education</td>\n",
       "      <td>1</td>\n",
       "      <td>married</td>\n",
       "      <td>0</td>\n",
       "      <td>M</td>\n",
       "      <td>employee</td>\n",
       "      <td>0</td>\n",
       "      <td>23341.752</td>\n",
       "      <td>purchase of the house</td>\n",
       "    </tr>\n",
       "    <tr>\n",
       "      <td>3</td>\n",
       "      <td>3</td>\n",
       "      <td>-4124.747207</td>\n",
       "      <td>32</td>\n",
       "      <td>secondary education</td>\n",
       "      <td>1</td>\n",
       "      <td>married</td>\n",
       "      <td>0</td>\n",
       "      <td>M</td>\n",
       "      <td>employee</td>\n",
       "      <td>0</td>\n",
       "      <td>42820.568</td>\n",
       "      <td>supplementary education</td>\n",
       "    </tr>\n",
       "    <tr>\n",
       "      <td>4</td>\n",
       "      <td>0</td>\n",
       "      <td>340266.072047</td>\n",
       "      <td>53</td>\n",
       "      <td>secondary education</td>\n",
       "      <td>1</td>\n",
       "      <td>civil partnership</td>\n",
       "      <td>1</td>\n",
       "      <td>F</td>\n",
       "      <td>retiree</td>\n",
       "      <td>0</td>\n",
       "      <td>25378.572</td>\n",
       "      <td>to have a wedding</td>\n",
       "    </tr>\n",
       "    <tr>\n",
       "      <td>5</td>\n",
       "      <td>0</td>\n",
       "      <td>-926.185831</td>\n",
       "      <td>27</td>\n",
       "      <td>bachelor's degree</td>\n",
       "      <td>0</td>\n",
       "      <td>civil partnership</td>\n",
       "      <td>1</td>\n",
       "      <td>M</td>\n",
       "      <td>business</td>\n",
       "      <td>0</td>\n",
       "      <td>40922.170</td>\n",
       "      <td>purchase of the house</td>\n",
       "    </tr>\n",
       "    <tr>\n",
       "      <td>6</td>\n",
       "      <td>0</td>\n",
       "      <td>-2879.202052</td>\n",
       "      <td>43</td>\n",
       "      <td>bachelor's degree</td>\n",
       "      <td>0</td>\n",
       "      <td>married</td>\n",
       "      <td>0</td>\n",
       "      <td>F</td>\n",
       "      <td>business</td>\n",
       "      <td>0</td>\n",
       "      <td>38484.156</td>\n",
       "      <td>housing transactions</td>\n",
       "    </tr>\n",
       "    <tr>\n",
       "      <td>7</td>\n",
       "      <td>0</td>\n",
       "      <td>-152.779569</td>\n",
       "      <td>50</td>\n",
       "      <td>SECONDARY EDUCATION</td>\n",
       "      <td>1</td>\n",
       "      <td>married</td>\n",
       "      <td>0</td>\n",
       "      <td>M</td>\n",
       "      <td>employee</td>\n",
       "      <td>0</td>\n",
       "      <td>21731.829</td>\n",
       "      <td>education</td>\n",
       "    </tr>\n",
       "    <tr>\n",
       "      <td>8</td>\n",
       "      <td>2</td>\n",
       "      <td>-6929.865299</td>\n",
       "      <td>35</td>\n",
       "      <td>BACHELOR'S DEGREE</td>\n",
       "      <td>0</td>\n",
       "      <td>civil partnership</td>\n",
       "      <td>1</td>\n",
       "      <td>F</td>\n",
       "      <td>employee</td>\n",
       "      <td>0</td>\n",
       "      <td>15337.093</td>\n",
       "      <td>having a wedding</td>\n",
       "    </tr>\n",
       "    <tr>\n",
       "      <td>9</td>\n",
       "      <td>0</td>\n",
       "      <td>-2188.756445</td>\n",
       "      <td>41</td>\n",
       "      <td>secondary education</td>\n",
       "      <td>1</td>\n",
       "      <td>married</td>\n",
       "      <td>0</td>\n",
       "      <td>M</td>\n",
       "      <td>employee</td>\n",
       "      <td>0</td>\n",
       "      <td>23108.150</td>\n",
       "      <td>purchase of the house for my family</td>\n",
       "    </tr>\n",
       "    <tr>\n",
       "      <td>10</td>\n",
       "      <td>2</td>\n",
       "      <td>-4171.483647</td>\n",
       "      <td>36</td>\n",
       "      <td>bachelor's degree</td>\n",
       "      <td>0</td>\n",
       "      <td>married</td>\n",
       "      <td>0</td>\n",
       "      <td>M</td>\n",
       "      <td>business</td>\n",
       "      <td>0</td>\n",
       "      <td>18230.959</td>\n",
       "      <td>buy real estate</td>\n",
       "    </tr>\n",
       "    <tr>\n",
       "      <td>11</td>\n",
       "      <td>0</td>\n",
       "      <td>-792.701887</td>\n",
       "      <td>40</td>\n",
       "      <td>secondary education</td>\n",
       "      <td>1</td>\n",
       "      <td>married</td>\n",
       "      <td>0</td>\n",
       "      <td>F</td>\n",
       "      <td>employee</td>\n",
       "      <td>0</td>\n",
       "      <td>12331.077</td>\n",
       "      <td>buy commercial real estate</td>\n",
       "    </tr>\n",
       "    <tr>\n",
       "      <td>12</td>\n",
       "      <td>0</td>\n",
       "      <td>NaN</td>\n",
       "      <td>65</td>\n",
       "      <td>secondary education</td>\n",
       "      <td>1</td>\n",
       "      <td>civil partnership</td>\n",
       "      <td>1</td>\n",
       "      <td>M</td>\n",
       "      <td>retiree</td>\n",
       "      <td>0</td>\n",
       "      <td>NaN</td>\n",
       "      <td>to have a wedding</td>\n",
       "    </tr>\n",
       "    <tr>\n",
       "      <td>13</td>\n",
       "      <td>0</td>\n",
       "      <td>-1846.641941</td>\n",
       "      <td>54</td>\n",
       "      <td>some college</td>\n",
       "      <td>2</td>\n",
       "      <td>married</td>\n",
       "      <td>0</td>\n",
       "      <td>F</td>\n",
       "      <td>employee</td>\n",
       "      <td>0</td>\n",
       "      <td>20873.317</td>\n",
       "      <td>car purchase</td>\n",
       "    </tr>\n",
       "    <tr>\n",
       "      <td>14</td>\n",
       "      <td>0</td>\n",
       "      <td>-1844.956182</td>\n",
       "      <td>56</td>\n",
       "      <td>bachelor's degree</td>\n",
       "      <td>0</td>\n",
       "      <td>civil partnership</td>\n",
       "      <td>1</td>\n",
       "      <td>F</td>\n",
       "      <td>business</td>\n",
       "      <td>1</td>\n",
       "      <td>26420.466</td>\n",
       "      <td>buy residential real estate</td>\n",
       "    </tr>\n",
       "    <tr>\n",
       "      <td>15</td>\n",
       "      <td>1</td>\n",
       "      <td>-972.364419</td>\n",
       "      <td>26</td>\n",
       "      <td>secondary education</td>\n",
       "      <td>1</td>\n",
       "      <td>married</td>\n",
       "      <td>0</td>\n",
       "      <td>F</td>\n",
       "      <td>employee</td>\n",
       "      <td>0</td>\n",
       "      <td>18691.345</td>\n",
       "      <td>construction of own property</td>\n",
       "    </tr>\n",
       "    <tr>\n",
       "      <td>16</td>\n",
       "      <td>0</td>\n",
       "      <td>-1719.934226</td>\n",
       "      <td>35</td>\n",
       "      <td>secondary education</td>\n",
       "      <td>1</td>\n",
       "      <td>married</td>\n",
       "      <td>0</td>\n",
       "      <td>F</td>\n",
       "      <td>employee</td>\n",
       "      <td>0</td>\n",
       "      <td>46272.433</td>\n",
       "      <td>property</td>\n",
       "    </tr>\n",
       "    <tr>\n",
       "      <td>17</td>\n",
       "      <td>0</td>\n",
       "      <td>-2369.999720</td>\n",
       "      <td>33</td>\n",
       "      <td>bachelor's degree</td>\n",
       "      <td>0</td>\n",
       "      <td>civil partnership</td>\n",
       "      <td>1</td>\n",
       "      <td>M</td>\n",
       "      <td>employee</td>\n",
       "      <td>0</td>\n",
       "      <td>14465.694</td>\n",
       "      <td>building a property</td>\n",
       "    </tr>\n",
       "    <tr>\n",
       "      <td>18</td>\n",
       "      <td>0</td>\n",
       "      <td>400281.136913</td>\n",
       "      <td>53</td>\n",
       "      <td>secondary education</td>\n",
       "      <td>1</td>\n",
       "      <td>widow / widower</td>\n",
       "      <td>2</td>\n",
       "      <td>F</td>\n",
       "      <td>retiree</td>\n",
       "      <td>0</td>\n",
       "      <td>9091.804</td>\n",
       "      <td>buying a second-hand car</td>\n",
       "    </tr>\n",
       "    <tr>\n",
       "      <td>19</td>\n",
       "      <td>0</td>\n",
       "      <td>-10038.818549</td>\n",
       "      <td>48</td>\n",
       "      <td>SECONDARY EDUCATION</td>\n",
       "      <td>1</td>\n",
       "      <td>divorced</td>\n",
       "      <td>3</td>\n",
       "      <td>F</td>\n",
       "      <td>employee</td>\n",
       "      <td>0</td>\n",
       "      <td>38852.977</td>\n",
       "      <td>buying my own car</td>\n",
       "    </tr>\n",
       "  </tbody>\n",
       "</table>\n",
       "</div>"
      ],
      "text/plain": [
       "    children  days_employed  dob_years            education  education_id  \\\n",
       "0          1   -8437.673028         42    bachelor's degree             0   \n",
       "1          1   -4024.803754         36  secondary education             1   \n",
       "2          0   -5623.422610         33  Secondary Education             1   \n",
       "3          3   -4124.747207         32  secondary education             1   \n",
       "4          0  340266.072047         53  secondary education             1   \n",
       "5          0    -926.185831         27    bachelor's degree             0   \n",
       "6          0   -2879.202052         43    bachelor's degree             0   \n",
       "7          0    -152.779569         50  SECONDARY EDUCATION             1   \n",
       "8          2   -6929.865299         35    BACHELOR'S DEGREE             0   \n",
       "9          0   -2188.756445         41  secondary education             1   \n",
       "10         2   -4171.483647         36    bachelor's degree             0   \n",
       "11         0    -792.701887         40  secondary education             1   \n",
       "12         0            NaN         65  secondary education             1   \n",
       "13         0   -1846.641941         54         some college             2   \n",
       "14         0   -1844.956182         56    bachelor's degree             0   \n",
       "15         1    -972.364419         26  secondary education             1   \n",
       "16         0   -1719.934226         35  secondary education             1   \n",
       "17         0   -2369.999720         33    bachelor's degree             0   \n",
       "18         0  400281.136913         53  secondary education             1   \n",
       "19         0  -10038.818549         48  SECONDARY EDUCATION             1   \n",
       "\n",
       "        family_status  family_status_id gender income_type  debt  \\\n",
       "0             married                 0      F    employee     0   \n",
       "1             married                 0      F    employee     0   \n",
       "2             married                 0      M    employee     0   \n",
       "3             married                 0      M    employee     0   \n",
       "4   civil partnership                 1      F     retiree     0   \n",
       "5   civil partnership                 1      M    business     0   \n",
       "6             married                 0      F    business     0   \n",
       "7             married                 0      M    employee     0   \n",
       "8   civil partnership                 1      F    employee     0   \n",
       "9             married                 0      M    employee     0   \n",
       "10            married                 0      M    business     0   \n",
       "11            married                 0      F    employee     0   \n",
       "12  civil partnership                 1      M     retiree     0   \n",
       "13            married                 0      F    employee     0   \n",
       "14  civil partnership                 1      F    business     1   \n",
       "15            married                 0      F    employee     0   \n",
       "16            married                 0      F    employee     0   \n",
       "17  civil partnership                 1      M    employee     0   \n",
       "18    widow / widower                 2      F     retiree     0   \n",
       "19           divorced                 3      F    employee     0   \n",
       "\n",
       "    total_income                              purpose  \n",
       "0      40620.102                purchase of the house  \n",
       "1      17932.802                         car purchase  \n",
       "2      23341.752                purchase of the house  \n",
       "3      42820.568              supplementary education  \n",
       "4      25378.572                    to have a wedding  \n",
       "5      40922.170                purchase of the house  \n",
       "6      38484.156                 housing transactions  \n",
       "7      21731.829                            education  \n",
       "8      15337.093                     having a wedding  \n",
       "9      23108.150  purchase of the house for my family  \n",
       "10     18230.959                      buy real estate  \n",
       "11     12331.077           buy commercial real estate  \n",
       "12           NaN                    to have a wedding  \n",
       "13     20873.317                         car purchase  \n",
       "14     26420.466          buy residential real estate  \n",
       "15     18691.345         construction of own property  \n",
       "16     46272.433                             property  \n",
       "17     14465.694                  building a property  \n",
       "18      9091.804             buying a second-hand car  \n",
       "19     38852.977                    buying my own car  "
      ]
     },
     "execution_count": 4,
     "metadata": {},
     "output_type": "execute_result"
    }
   ],
   "source": [
    "# Checking the first 20 rows in our dataset, to look for obvious errors/patterns\n",
    "bank_data.head(20)\n",
    "\n"
   ]
  },
  {
   "cell_type": "markdown",
   "metadata": {},
   "source": [
    "Judging by looking at the first 20 rows in our data, I can already see errors in the data that will require further investigation. Some of these errors are; **missing values**, **negative time**, **different letter cases** (Look at  'education' column for instance, it has values of lower-case letters and other values of upper-case letters).\n",
    "\n",
    "Below we have more information about the data we were given:"
   ]
  },
  {
   "cell_type": "code",
   "execution_count": 5,
   "metadata": {
    "scrolled": false
   },
   "outputs": [
    {
     "name": "stdout",
     "output_type": "stream",
     "text": [
      "<class 'pandas.core.frame.DataFrame'>\n",
      "RangeIndex: 21525 entries, 0 to 21524\n",
      "Data columns (total 12 columns):\n",
      "children            21525 non-null int64\n",
      "days_employed       19351 non-null float64\n",
      "dob_years           21525 non-null int64\n",
      "education           21525 non-null object\n",
      "education_id        21525 non-null int64\n",
      "family_status       21525 non-null object\n",
      "family_status_id    21525 non-null int64\n",
      "gender              21525 non-null object\n",
      "income_type         21525 non-null object\n",
      "debt                21525 non-null int64\n",
      "total_income        19351 non-null float64\n",
      "purpose             21525 non-null object\n",
      "dtypes: float64(2), int64(5), object(5)\n",
      "memory usage: 2.0+ MB\n"
     ]
    }
   ],
   "source": [
    "# Retreiving more information on our dataset\n",
    "bank_data.info()"
   ]
  },
  {
   "cell_type": "markdown",
   "metadata": {},
   "source": [
    "If we look at the information that the **info()** method has provided, we can clearly see that most columns have 21525 values while 2 columns stand out for having less values. **days_employed** and **total_income** with only 19351 values, these columns have missing values obviously."
   ]
  },
  {
   "cell_type": "code",
   "execution_count": 6,
   "metadata": {},
   "outputs": [
    {
     "data": {
      "text/html": [
       "<div>\n",
       "<style scoped>\n",
       "    .dataframe tbody tr th:only-of-type {\n",
       "        vertical-align: middle;\n",
       "    }\n",
       "\n",
       "    .dataframe tbody tr th {\n",
       "        vertical-align: top;\n",
       "    }\n",
       "\n",
       "    .dataframe thead th {\n",
       "        text-align: right;\n",
       "    }\n",
       "</style>\n",
       "<table border=\"1\" class=\"dataframe\">\n",
       "  <thead>\n",
       "    <tr style=\"text-align: right;\">\n",
       "      <th></th>\n",
       "      <th>children</th>\n",
       "      <th>days_employed</th>\n",
       "      <th>dob_years</th>\n",
       "      <th>education</th>\n",
       "      <th>education_id</th>\n",
       "      <th>family_status</th>\n",
       "      <th>family_status_id</th>\n",
       "      <th>gender</th>\n",
       "      <th>income_type</th>\n",
       "      <th>debt</th>\n",
       "      <th>total_income</th>\n",
       "      <th>purpose</th>\n",
       "    </tr>\n",
       "  </thead>\n",
       "  <tbody>\n",
       "    <tr>\n",
       "      <td>12</td>\n",
       "      <td>0</td>\n",
       "      <td>NaN</td>\n",
       "      <td>65</td>\n",
       "      <td>secondary education</td>\n",
       "      <td>1</td>\n",
       "      <td>civil partnership</td>\n",
       "      <td>1</td>\n",
       "      <td>M</td>\n",
       "      <td>retiree</td>\n",
       "      <td>0</td>\n",
       "      <td>NaN</td>\n",
       "      <td>to have a wedding</td>\n",
       "    </tr>\n",
       "    <tr>\n",
       "      <td>26</td>\n",
       "      <td>0</td>\n",
       "      <td>NaN</td>\n",
       "      <td>41</td>\n",
       "      <td>secondary education</td>\n",
       "      <td>1</td>\n",
       "      <td>married</td>\n",
       "      <td>0</td>\n",
       "      <td>M</td>\n",
       "      <td>civil servant</td>\n",
       "      <td>0</td>\n",
       "      <td>NaN</td>\n",
       "      <td>education</td>\n",
       "    </tr>\n",
       "    <tr>\n",
       "      <td>29</td>\n",
       "      <td>0</td>\n",
       "      <td>NaN</td>\n",
       "      <td>63</td>\n",
       "      <td>secondary education</td>\n",
       "      <td>1</td>\n",
       "      <td>unmarried</td>\n",
       "      <td>4</td>\n",
       "      <td>F</td>\n",
       "      <td>retiree</td>\n",
       "      <td>0</td>\n",
       "      <td>NaN</td>\n",
       "      <td>building a real estate</td>\n",
       "    </tr>\n",
       "    <tr>\n",
       "      <td>41</td>\n",
       "      <td>0</td>\n",
       "      <td>NaN</td>\n",
       "      <td>50</td>\n",
       "      <td>secondary education</td>\n",
       "      <td>1</td>\n",
       "      <td>married</td>\n",
       "      <td>0</td>\n",
       "      <td>F</td>\n",
       "      <td>civil servant</td>\n",
       "      <td>0</td>\n",
       "      <td>NaN</td>\n",
       "      <td>second-hand car purchase</td>\n",
       "    </tr>\n",
       "    <tr>\n",
       "      <td>55</td>\n",
       "      <td>0</td>\n",
       "      <td>NaN</td>\n",
       "      <td>54</td>\n",
       "      <td>secondary education</td>\n",
       "      <td>1</td>\n",
       "      <td>civil partnership</td>\n",
       "      <td>1</td>\n",
       "      <td>F</td>\n",
       "      <td>retiree</td>\n",
       "      <td>1</td>\n",
       "      <td>NaN</td>\n",
       "      <td>to have a wedding</td>\n",
       "    </tr>\n",
       "    <tr>\n",
       "      <td>65</td>\n",
       "      <td>0</td>\n",
       "      <td>NaN</td>\n",
       "      <td>21</td>\n",
       "      <td>secondary education</td>\n",
       "      <td>1</td>\n",
       "      <td>unmarried</td>\n",
       "      <td>4</td>\n",
       "      <td>M</td>\n",
       "      <td>business</td>\n",
       "      <td>0</td>\n",
       "      <td>NaN</td>\n",
       "      <td>transactions with commercial real estate</td>\n",
       "    </tr>\n",
       "    <tr>\n",
       "      <td>67</td>\n",
       "      <td>0</td>\n",
       "      <td>NaN</td>\n",
       "      <td>52</td>\n",
       "      <td>bachelor's degree</td>\n",
       "      <td>0</td>\n",
       "      <td>married</td>\n",
       "      <td>0</td>\n",
       "      <td>F</td>\n",
       "      <td>retiree</td>\n",
       "      <td>0</td>\n",
       "      <td>NaN</td>\n",
       "      <td>purchase of the house for my family</td>\n",
       "    </tr>\n",
       "    <tr>\n",
       "      <td>72</td>\n",
       "      <td>1</td>\n",
       "      <td>NaN</td>\n",
       "      <td>32</td>\n",
       "      <td>bachelor's degree</td>\n",
       "      <td>0</td>\n",
       "      <td>married</td>\n",
       "      <td>0</td>\n",
       "      <td>M</td>\n",
       "      <td>civil servant</td>\n",
       "      <td>0</td>\n",
       "      <td>NaN</td>\n",
       "      <td>transactions with commercial real estate</td>\n",
       "    </tr>\n",
       "    <tr>\n",
       "      <td>82</td>\n",
       "      <td>2</td>\n",
       "      <td>NaN</td>\n",
       "      <td>50</td>\n",
       "      <td>bachelor's degree</td>\n",
       "      <td>0</td>\n",
       "      <td>married</td>\n",
       "      <td>0</td>\n",
       "      <td>F</td>\n",
       "      <td>employee</td>\n",
       "      <td>0</td>\n",
       "      <td>NaN</td>\n",
       "      <td>housing</td>\n",
       "    </tr>\n",
       "    <tr>\n",
       "      <td>83</td>\n",
       "      <td>0</td>\n",
       "      <td>NaN</td>\n",
       "      <td>52</td>\n",
       "      <td>secondary education</td>\n",
       "      <td>1</td>\n",
       "      <td>married</td>\n",
       "      <td>0</td>\n",
       "      <td>M</td>\n",
       "      <td>employee</td>\n",
       "      <td>0</td>\n",
       "      <td>NaN</td>\n",
       "      <td>housing</td>\n",
       "    </tr>\n",
       "    <tr>\n",
       "      <td>90</td>\n",
       "      <td>2</td>\n",
       "      <td>NaN</td>\n",
       "      <td>35</td>\n",
       "      <td>bachelor's degree</td>\n",
       "      <td>0</td>\n",
       "      <td>married</td>\n",
       "      <td>0</td>\n",
       "      <td>F</td>\n",
       "      <td>employee</td>\n",
       "      <td>0</td>\n",
       "      <td>NaN</td>\n",
       "      <td>housing transactions</td>\n",
       "    </tr>\n",
       "    <tr>\n",
       "      <td>94</td>\n",
       "      <td>1</td>\n",
       "      <td>NaN</td>\n",
       "      <td>34</td>\n",
       "      <td>bachelor's degree</td>\n",
       "      <td>0</td>\n",
       "      <td>civil partnership</td>\n",
       "      <td>1</td>\n",
       "      <td>F</td>\n",
       "      <td>business</td>\n",
       "      <td>0</td>\n",
       "      <td>NaN</td>\n",
       "      <td>having a wedding</td>\n",
       "    </tr>\n",
       "    <tr>\n",
       "      <td>96</td>\n",
       "      <td>0</td>\n",
       "      <td>NaN</td>\n",
       "      <td>44</td>\n",
       "      <td>SECONDARY EDUCATION</td>\n",
       "      <td>1</td>\n",
       "      <td>married</td>\n",
       "      <td>0</td>\n",
       "      <td>F</td>\n",
       "      <td>employee</td>\n",
       "      <td>0</td>\n",
       "      <td>NaN</td>\n",
       "      <td>buy residential real estate</td>\n",
       "    </tr>\n",
       "    <tr>\n",
       "      <td>97</td>\n",
       "      <td>0</td>\n",
       "      <td>NaN</td>\n",
       "      <td>47</td>\n",
       "      <td>bachelor's degree</td>\n",
       "      <td>0</td>\n",
       "      <td>married</td>\n",
       "      <td>0</td>\n",
       "      <td>F</td>\n",
       "      <td>employee</td>\n",
       "      <td>0</td>\n",
       "      <td>NaN</td>\n",
       "      <td>profile education</td>\n",
       "    </tr>\n",
       "    <tr>\n",
       "      <td>120</td>\n",
       "      <td>0</td>\n",
       "      <td>NaN</td>\n",
       "      <td>46</td>\n",
       "      <td>secondary education</td>\n",
       "      <td>1</td>\n",
       "      <td>married</td>\n",
       "      <td>0</td>\n",
       "      <td>F</td>\n",
       "      <td>employee</td>\n",
       "      <td>0</td>\n",
       "      <td>NaN</td>\n",
       "      <td>university education</td>\n",
       "    </tr>\n",
       "    <tr>\n",
       "      <td>121</td>\n",
       "      <td>0</td>\n",
       "      <td>NaN</td>\n",
       "      <td>29</td>\n",
       "      <td>bachelor's degree</td>\n",
       "      <td>0</td>\n",
       "      <td>married</td>\n",
       "      <td>0</td>\n",
       "      <td>F</td>\n",
       "      <td>business</td>\n",
       "      <td>0</td>\n",
       "      <td>NaN</td>\n",
       "      <td>car</td>\n",
       "    </tr>\n",
       "    <tr>\n",
       "      <td>135</td>\n",
       "      <td>0</td>\n",
       "      <td>NaN</td>\n",
       "      <td>27</td>\n",
       "      <td>secondary education</td>\n",
       "      <td>1</td>\n",
       "      <td>married</td>\n",
       "      <td>0</td>\n",
       "      <td>M</td>\n",
       "      <td>business</td>\n",
       "      <td>0</td>\n",
       "      <td>NaN</td>\n",
       "      <td>housing</td>\n",
       "    </tr>\n",
       "    <tr>\n",
       "      <td>141</td>\n",
       "      <td>0</td>\n",
       "      <td>NaN</td>\n",
       "      <td>39</td>\n",
       "      <td>secondary education</td>\n",
       "      <td>1</td>\n",
       "      <td>civil partnership</td>\n",
       "      <td>1</td>\n",
       "      <td>M</td>\n",
       "      <td>employee</td>\n",
       "      <td>0</td>\n",
       "      <td>NaN</td>\n",
       "      <td>wedding ceremony</td>\n",
       "    </tr>\n",
       "    <tr>\n",
       "      <td>145</td>\n",
       "      <td>0</td>\n",
       "      <td>NaN</td>\n",
       "      <td>62</td>\n",
       "      <td>secondary education</td>\n",
       "      <td>1</td>\n",
       "      <td>married</td>\n",
       "      <td>0</td>\n",
       "      <td>M</td>\n",
       "      <td>retiree</td>\n",
       "      <td>0</td>\n",
       "      <td>NaN</td>\n",
       "      <td>building a property</td>\n",
       "    </tr>\n",
       "    <tr>\n",
       "      <td>174</td>\n",
       "      <td>0</td>\n",
       "      <td>NaN</td>\n",
       "      <td>55</td>\n",
       "      <td>bachelor's degree</td>\n",
       "      <td>0</td>\n",
       "      <td>widow / widower</td>\n",
       "      <td>2</td>\n",
       "      <td>F</td>\n",
       "      <td>business</td>\n",
       "      <td>0</td>\n",
       "      <td>NaN</td>\n",
       "      <td>to own a car</td>\n",
       "    </tr>\n",
       "    <tr>\n",
       "      <td>181</td>\n",
       "      <td>0</td>\n",
       "      <td>NaN</td>\n",
       "      <td>26</td>\n",
       "      <td>secondary education</td>\n",
       "      <td>1</td>\n",
       "      <td>civil partnership</td>\n",
       "      <td>1</td>\n",
       "      <td>F</td>\n",
       "      <td>business</td>\n",
       "      <td>1</td>\n",
       "      <td>NaN</td>\n",
       "      <td>purchase of the house for my family</td>\n",
       "    </tr>\n",
       "    <tr>\n",
       "      <td>189</td>\n",
       "      <td>1</td>\n",
       "      <td>NaN</td>\n",
       "      <td>30</td>\n",
       "      <td>secondary education</td>\n",
       "      <td>1</td>\n",
       "      <td>unmarried</td>\n",
       "      <td>4</td>\n",
       "      <td>F</td>\n",
       "      <td>employee</td>\n",
       "      <td>0</td>\n",
       "      <td>NaN</td>\n",
       "      <td>to own a car</td>\n",
       "    </tr>\n",
       "    <tr>\n",
       "      <td>205</td>\n",
       "      <td>1</td>\n",
       "      <td>NaN</td>\n",
       "      <td>31</td>\n",
       "      <td>bachelor's degree</td>\n",
       "      <td>0</td>\n",
       "      <td>married</td>\n",
       "      <td>0</td>\n",
       "      <td>F</td>\n",
       "      <td>employee</td>\n",
       "      <td>0</td>\n",
       "      <td>NaN</td>\n",
       "      <td>buying a second-hand car</td>\n",
       "    </tr>\n",
       "    <tr>\n",
       "      <td>220</td>\n",
       "      <td>1</td>\n",
       "      <td>NaN</td>\n",
       "      <td>23</td>\n",
       "      <td>some college</td>\n",
       "      <td>2</td>\n",
       "      <td>civil partnership</td>\n",
       "      <td>1</td>\n",
       "      <td>F</td>\n",
       "      <td>business</td>\n",
       "      <td>0</td>\n",
       "      <td>NaN</td>\n",
       "      <td>to have a wedding</td>\n",
       "    </tr>\n",
       "    <tr>\n",
       "      <td>241</td>\n",
       "      <td>0</td>\n",
       "      <td>NaN</td>\n",
       "      <td>47</td>\n",
       "      <td>secondary education</td>\n",
       "      <td>1</td>\n",
       "      <td>married</td>\n",
       "      <td>0</td>\n",
       "      <td>M</td>\n",
       "      <td>employee</td>\n",
       "      <td>0</td>\n",
       "      <td>NaN</td>\n",
       "      <td>construction of own property</td>\n",
       "    </tr>\n",
       "    <tr>\n",
       "      <td>242</td>\n",
       "      <td>0</td>\n",
       "      <td>NaN</td>\n",
       "      <td>58</td>\n",
       "      <td>secondary education</td>\n",
       "      <td>1</td>\n",
       "      <td>married</td>\n",
       "      <td>0</td>\n",
       "      <td>F</td>\n",
       "      <td>civil servant</td>\n",
       "      <td>0</td>\n",
       "      <td>NaN</td>\n",
       "      <td>purchase of my own house</td>\n",
       "    </tr>\n",
       "    <tr>\n",
       "      <td>247</td>\n",
       "      <td>1</td>\n",
       "      <td>NaN</td>\n",
       "      <td>60</td>\n",
       "      <td>bachelor's degree</td>\n",
       "      <td>0</td>\n",
       "      <td>married</td>\n",
       "      <td>0</td>\n",
       "      <td>F</td>\n",
       "      <td>retiree</td>\n",
       "      <td>1</td>\n",
       "      <td>NaN</td>\n",
       "      <td>going to university</td>\n",
       "    </tr>\n",
       "    <tr>\n",
       "      <td>250</td>\n",
       "      <td>0</td>\n",
       "      <td>NaN</td>\n",
       "      <td>54</td>\n",
       "      <td>bachelor's degree</td>\n",
       "      <td>0</td>\n",
       "      <td>married</td>\n",
       "      <td>0</td>\n",
       "      <td>F</td>\n",
       "      <td>employee</td>\n",
       "      <td>0</td>\n",
       "      <td>NaN</td>\n",
       "      <td>second-hand car purchase</td>\n",
       "    </tr>\n",
       "    <tr>\n",
       "      <td>264</td>\n",
       "      <td>2</td>\n",
       "      <td>NaN</td>\n",
       "      <td>40</td>\n",
       "      <td>secondary education</td>\n",
       "      <td>1</td>\n",
       "      <td>divorced</td>\n",
       "      <td>3</td>\n",
       "      <td>F</td>\n",
       "      <td>employee</td>\n",
       "      <td>0</td>\n",
       "      <td>NaN</td>\n",
       "      <td>property</td>\n",
       "    </tr>\n",
       "    <tr>\n",
       "      <td>278</td>\n",
       "      <td>1</td>\n",
       "      <td>NaN</td>\n",
       "      <td>23</td>\n",
       "      <td>Secondary Education</td>\n",
       "      <td>1</td>\n",
       "      <td>civil partnership</td>\n",
       "      <td>1</td>\n",
       "      <td>F</td>\n",
       "      <td>employee</td>\n",
       "      <td>1</td>\n",
       "      <td>NaN</td>\n",
       "      <td>car</td>\n",
       "    </tr>\n",
       "  </tbody>\n",
       "</table>\n",
       "</div>"
      ],
      "text/plain": [
       "     children  days_employed  dob_years            education  education_id  \\\n",
       "12          0            NaN         65  secondary education             1   \n",
       "26          0            NaN         41  secondary education             1   \n",
       "29          0            NaN         63  secondary education             1   \n",
       "41          0            NaN         50  secondary education             1   \n",
       "55          0            NaN         54  secondary education             1   \n",
       "65          0            NaN         21  secondary education             1   \n",
       "67          0            NaN         52    bachelor's degree             0   \n",
       "72          1            NaN         32    bachelor's degree             0   \n",
       "82          2            NaN         50    bachelor's degree             0   \n",
       "83          0            NaN         52  secondary education             1   \n",
       "90          2            NaN         35    bachelor's degree             0   \n",
       "94          1            NaN         34    bachelor's degree             0   \n",
       "96          0            NaN         44  SECONDARY EDUCATION             1   \n",
       "97          0            NaN         47    bachelor's degree             0   \n",
       "120         0            NaN         46  secondary education             1   \n",
       "121         0            NaN         29    bachelor's degree             0   \n",
       "135         0            NaN         27  secondary education             1   \n",
       "141         0            NaN         39  secondary education             1   \n",
       "145         0            NaN         62  secondary education             1   \n",
       "174         0            NaN         55    bachelor's degree             0   \n",
       "181         0            NaN         26  secondary education             1   \n",
       "189         1            NaN         30  secondary education             1   \n",
       "205         1            NaN         31    bachelor's degree             0   \n",
       "220         1            NaN         23         some college             2   \n",
       "241         0            NaN         47  secondary education             1   \n",
       "242         0            NaN         58  secondary education             1   \n",
       "247         1            NaN         60    bachelor's degree             0   \n",
       "250         0            NaN         54    bachelor's degree             0   \n",
       "264         2            NaN         40  secondary education             1   \n",
       "278         1            NaN         23  Secondary Education             1   \n",
       "\n",
       "         family_status  family_status_id gender    income_type  debt  \\\n",
       "12   civil partnership                 1      M        retiree     0   \n",
       "26             married                 0      M  civil servant     0   \n",
       "29           unmarried                 4      F        retiree     0   \n",
       "41             married                 0      F  civil servant     0   \n",
       "55   civil partnership                 1      F        retiree     1   \n",
       "65           unmarried                 4      M       business     0   \n",
       "67             married                 0      F        retiree     0   \n",
       "72             married                 0      M  civil servant     0   \n",
       "82             married                 0      F       employee     0   \n",
       "83             married                 0      M       employee     0   \n",
       "90             married                 0      F       employee     0   \n",
       "94   civil partnership                 1      F       business     0   \n",
       "96             married                 0      F       employee     0   \n",
       "97             married                 0      F       employee     0   \n",
       "120            married                 0      F       employee     0   \n",
       "121            married                 0      F       business     0   \n",
       "135            married                 0      M       business     0   \n",
       "141  civil partnership                 1      M       employee     0   \n",
       "145            married                 0      M        retiree     0   \n",
       "174    widow / widower                 2      F       business     0   \n",
       "181  civil partnership                 1      F       business     1   \n",
       "189          unmarried                 4      F       employee     0   \n",
       "205            married                 0      F       employee     0   \n",
       "220  civil partnership                 1      F       business     0   \n",
       "241            married                 0      M       employee     0   \n",
       "242            married                 0      F  civil servant     0   \n",
       "247            married                 0      F        retiree     1   \n",
       "250            married                 0      F       employee     0   \n",
       "264           divorced                 3      F       employee     0   \n",
       "278  civil partnership                 1      F       employee     1   \n",
       "\n",
       "     total_income                                   purpose  \n",
       "12            NaN                         to have a wedding  \n",
       "26            NaN                                 education  \n",
       "29            NaN                    building a real estate  \n",
       "41            NaN                  second-hand car purchase  \n",
       "55            NaN                         to have a wedding  \n",
       "65            NaN  transactions with commercial real estate  \n",
       "67            NaN       purchase of the house for my family  \n",
       "72            NaN  transactions with commercial real estate  \n",
       "82            NaN                                   housing  \n",
       "83            NaN                                   housing  \n",
       "90            NaN                      housing transactions  \n",
       "94            NaN                          having a wedding  \n",
       "96            NaN               buy residential real estate  \n",
       "97            NaN                         profile education  \n",
       "120           NaN                      university education  \n",
       "121           NaN                                       car  \n",
       "135           NaN                                   housing  \n",
       "141           NaN                          wedding ceremony  \n",
       "145           NaN                       building a property  \n",
       "174           NaN                              to own a car  \n",
       "181           NaN       purchase of the house for my family  \n",
       "189           NaN                              to own a car  \n",
       "205           NaN                  buying a second-hand car  \n",
       "220           NaN                         to have a wedding  \n",
       "241           NaN              construction of own property  \n",
       "242           NaN                  purchase of my own house  \n",
       "247           NaN                       going to university  \n",
       "250           NaN                  second-hand car purchase  \n",
       "264           NaN                                  property  \n",
       "278           NaN                                       car  "
      ]
     },
     "execution_count": 6,
     "metadata": {},
     "output_type": "execute_result"
    }
   ],
   "source": [
    "# Let's look at the filtered table with missing values in the the first column with missing data\n",
    "bank_data[bank_data['days_employed'].isna()].head(30)\n"
   ]
  },
  {
   "cell_type": "markdown",
   "metadata": {},
   "source": [
    "After filtering the data we have, keeping only rows with missing values in the **days_employed** column, we can notice symmetry between the **days_employed** column's missing values and the **total_income** column's missing values. But to prove that this symmetry is running through all the dataset we have to filter the dataset completely. \n",
    "\n",
    "Please check the table below:"
   ]
  },
  {
   "cell_type": "code",
   "execution_count": 7,
   "metadata": {},
   "outputs": [
    {
     "data": {
      "text/html": [
       "<div>\n",
       "<style scoped>\n",
       "    .dataframe tbody tr th:only-of-type {\n",
       "        vertical-align: middle;\n",
       "    }\n",
       "\n",
       "    .dataframe tbody tr th {\n",
       "        vertical-align: top;\n",
       "    }\n",
       "\n",
       "    .dataframe thead th {\n",
       "        text-align: right;\n",
       "    }\n",
       "</style>\n",
       "<table border=\"1\" class=\"dataframe\">\n",
       "  <thead>\n",
       "    <tr style=\"text-align: right;\">\n",
       "      <th></th>\n",
       "      <th>children</th>\n",
       "      <th>days_employed</th>\n",
       "      <th>dob_years</th>\n",
       "      <th>education</th>\n",
       "      <th>education_id</th>\n",
       "      <th>family_status</th>\n",
       "      <th>family_status_id</th>\n",
       "      <th>gender</th>\n",
       "      <th>income_type</th>\n",
       "      <th>debt</th>\n",
       "      <th>total_income</th>\n",
       "      <th>purpose</th>\n",
       "    </tr>\n",
       "  </thead>\n",
       "  <tbody>\n",
       "    <tr>\n",
       "      <td>12</td>\n",
       "      <td>0</td>\n",
       "      <td>NaN</td>\n",
       "      <td>65</td>\n",
       "      <td>secondary education</td>\n",
       "      <td>1</td>\n",
       "      <td>civil partnership</td>\n",
       "      <td>1</td>\n",
       "      <td>M</td>\n",
       "      <td>retiree</td>\n",
       "      <td>0</td>\n",
       "      <td>NaN</td>\n",
       "      <td>to have a wedding</td>\n",
       "    </tr>\n",
       "    <tr>\n",
       "      <td>26</td>\n",
       "      <td>0</td>\n",
       "      <td>NaN</td>\n",
       "      <td>41</td>\n",
       "      <td>secondary education</td>\n",
       "      <td>1</td>\n",
       "      <td>married</td>\n",
       "      <td>0</td>\n",
       "      <td>M</td>\n",
       "      <td>civil servant</td>\n",
       "      <td>0</td>\n",
       "      <td>NaN</td>\n",
       "      <td>education</td>\n",
       "    </tr>\n",
       "    <tr>\n",
       "      <td>29</td>\n",
       "      <td>0</td>\n",
       "      <td>NaN</td>\n",
       "      <td>63</td>\n",
       "      <td>secondary education</td>\n",
       "      <td>1</td>\n",
       "      <td>unmarried</td>\n",
       "      <td>4</td>\n",
       "      <td>F</td>\n",
       "      <td>retiree</td>\n",
       "      <td>0</td>\n",
       "      <td>NaN</td>\n",
       "      <td>building a real estate</td>\n",
       "    </tr>\n",
       "    <tr>\n",
       "      <td>41</td>\n",
       "      <td>0</td>\n",
       "      <td>NaN</td>\n",
       "      <td>50</td>\n",
       "      <td>secondary education</td>\n",
       "      <td>1</td>\n",
       "      <td>married</td>\n",
       "      <td>0</td>\n",
       "      <td>F</td>\n",
       "      <td>civil servant</td>\n",
       "      <td>0</td>\n",
       "      <td>NaN</td>\n",
       "      <td>second-hand car purchase</td>\n",
       "    </tr>\n",
       "    <tr>\n",
       "      <td>55</td>\n",
       "      <td>0</td>\n",
       "      <td>NaN</td>\n",
       "      <td>54</td>\n",
       "      <td>secondary education</td>\n",
       "      <td>1</td>\n",
       "      <td>civil partnership</td>\n",
       "      <td>1</td>\n",
       "      <td>F</td>\n",
       "      <td>retiree</td>\n",
       "      <td>1</td>\n",
       "      <td>NaN</td>\n",
       "      <td>to have a wedding</td>\n",
       "    </tr>\n",
       "    <tr>\n",
       "      <td>...</td>\n",
       "      <td>...</td>\n",
       "      <td>...</td>\n",
       "      <td>...</td>\n",
       "      <td>...</td>\n",
       "      <td>...</td>\n",
       "      <td>...</td>\n",
       "      <td>...</td>\n",
       "      <td>...</td>\n",
       "      <td>...</td>\n",
       "      <td>...</td>\n",
       "      <td>...</td>\n",
       "      <td>...</td>\n",
       "    </tr>\n",
       "    <tr>\n",
       "      <td>21489</td>\n",
       "      <td>2</td>\n",
       "      <td>NaN</td>\n",
       "      <td>47</td>\n",
       "      <td>Secondary Education</td>\n",
       "      <td>1</td>\n",
       "      <td>married</td>\n",
       "      <td>0</td>\n",
       "      <td>M</td>\n",
       "      <td>business</td>\n",
       "      <td>0</td>\n",
       "      <td>NaN</td>\n",
       "      <td>purchase of a car</td>\n",
       "    </tr>\n",
       "    <tr>\n",
       "      <td>21495</td>\n",
       "      <td>1</td>\n",
       "      <td>NaN</td>\n",
       "      <td>50</td>\n",
       "      <td>secondary education</td>\n",
       "      <td>1</td>\n",
       "      <td>civil partnership</td>\n",
       "      <td>1</td>\n",
       "      <td>F</td>\n",
       "      <td>employee</td>\n",
       "      <td>0</td>\n",
       "      <td>NaN</td>\n",
       "      <td>wedding ceremony</td>\n",
       "    </tr>\n",
       "    <tr>\n",
       "      <td>21497</td>\n",
       "      <td>0</td>\n",
       "      <td>NaN</td>\n",
       "      <td>48</td>\n",
       "      <td>BACHELOR'S DEGREE</td>\n",
       "      <td>0</td>\n",
       "      <td>married</td>\n",
       "      <td>0</td>\n",
       "      <td>F</td>\n",
       "      <td>business</td>\n",
       "      <td>0</td>\n",
       "      <td>NaN</td>\n",
       "      <td>building a property</td>\n",
       "    </tr>\n",
       "    <tr>\n",
       "      <td>21502</td>\n",
       "      <td>1</td>\n",
       "      <td>NaN</td>\n",
       "      <td>42</td>\n",
       "      <td>secondary education</td>\n",
       "      <td>1</td>\n",
       "      <td>married</td>\n",
       "      <td>0</td>\n",
       "      <td>F</td>\n",
       "      <td>employee</td>\n",
       "      <td>0</td>\n",
       "      <td>NaN</td>\n",
       "      <td>building a real estate</td>\n",
       "    </tr>\n",
       "    <tr>\n",
       "      <td>21510</td>\n",
       "      <td>2</td>\n",
       "      <td>NaN</td>\n",
       "      <td>28</td>\n",
       "      <td>secondary education</td>\n",
       "      <td>1</td>\n",
       "      <td>married</td>\n",
       "      <td>0</td>\n",
       "      <td>F</td>\n",
       "      <td>employee</td>\n",
       "      <td>0</td>\n",
       "      <td>NaN</td>\n",
       "      <td>car purchase</td>\n",
       "    </tr>\n",
       "  </tbody>\n",
       "</table>\n",
       "<p>2174 rows × 12 columns</p>\n",
       "</div>"
      ],
      "text/plain": [
       "       children  days_employed  dob_years            education  education_id  \\\n",
       "12            0            NaN         65  secondary education             1   \n",
       "26            0            NaN         41  secondary education             1   \n",
       "29            0            NaN         63  secondary education             1   \n",
       "41            0            NaN         50  secondary education             1   \n",
       "55            0            NaN         54  secondary education             1   \n",
       "...         ...            ...        ...                  ...           ...   \n",
       "21489         2            NaN         47  Secondary Education             1   \n",
       "21495         1            NaN         50  secondary education             1   \n",
       "21497         0            NaN         48    BACHELOR'S DEGREE             0   \n",
       "21502         1            NaN         42  secondary education             1   \n",
       "21510         2            NaN         28  secondary education             1   \n",
       "\n",
       "           family_status  family_status_id gender    income_type  debt  \\\n",
       "12     civil partnership                 1      M        retiree     0   \n",
       "26               married                 0      M  civil servant     0   \n",
       "29             unmarried                 4      F        retiree     0   \n",
       "41               married                 0      F  civil servant     0   \n",
       "55     civil partnership                 1      F        retiree     1   \n",
       "...                  ...               ...    ...            ...   ...   \n",
       "21489            married                 0      M       business     0   \n",
       "21495  civil partnership                 1      F       employee     0   \n",
       "21497            married                 0      F       business     0   \n",
       "21502            married                 0      F       employee     0   \n",
       "21510            married                 0      F       employee     0   \n",
       "\n",
       "       total_income                   purpose  \n",
       "12              NaN         to have a wedding  \n",
       "26              NaN                 education  \n",
       "29              NaN    building a real estate  \n",
       "41              NaN  second-hand car purchase  \n",
       "55              NaN         to have a wedding  \n",
       "...             ...                       ...  \n",
       "21489           NaN         purchase of a car  \n",
       "21495           NaN          wedding ceremony  \n",
       "21497           NaN       building a property  \n",
       "21502           NaN    building a real estate  \n",
       "21510           NaN              car purchase  \n",
       "\n",
       "[2174 rows x 12 columns]"
      ]
     },
     "execution_count": 7,
     "metadata": {},
     "output_type": "execute_result"
    }
   ],
   "source": [
    "#Let's apply multiple conditions for filtering data and look at the number of rows in the filtered table\n",
    "bank_data[(bank_data['days_employed'].isna()) & (bank_data['total_income'].isna())]\n"
   ]
  },
  {
   "cell_type": "markdown",
   "metadata": {},
   "source": [
    "In the table above (The table filtered according to missing values in both **days_employed** and **total_income**) we got the same results of data we got in the first table (The one filtered only according to **one of the conditions**). This means that the symmetry between **days_employed** and **total_income** runs through the whole dataset. \n",
    "In my opinion, this makes perfect sense because most of the people who do not work also do not have a reported income, this possibily means that the missing values are missing for a reason and it is not due to a mistake."
   ]
  },
  {
   "cell_type": "code",
   "execution_count": 8,
   "metadata": {},
   "outputs": [
    {
     "name": "stdout",
     "output_type": "stream",
     "text": [
      "The percentage of the missing data is 10.10%\n"
     ]
    }
   ],
   "source": [
    "#Checking the percentage of the missing data among all data\n",
    "percentage = bank_data[(bank_data['days_employed'].isna()) & (bank_data['total_income'].isna())].shape[0]/bank_data.shape[0]\n",
    "print('The percentage of the missing data is {:.2%}'.format(percentage))"
   ]
  },
  {
   "cell_type": "markdown",
   "metadata": {},
   "source": [
    "**Intermediate conclusion**\n",
    "\n",
    "**Does the number of rows in the filtered table match the number of missing values? What conclusion can we make from this?**\n",
    "\n",
    "According to the results above, the number of rows in the filtered table, the table with missing values in columns **days_employed** and **total_income**, is 2174 which is exactly the number of missing values in each column. This means that there's a complete symmetry between missing values in the **days_employed** and **total_income** columns.\n",
    "\n",
    "After comparing the missing values with the whole dataset, we found that their percentage is ~10% which is actually a big piece of data. Therefore, we should fill those missing values. But first of all, we need to consider whether the missing data is due to a specific client characterisitic. Other than that, we are going to check any dependencies between missing values and other client characterisitics.\n",
    "\n",
    "**Next**: We continue to check the correlation between the missing values and other values in our dataset to see if those missing values are missing for a specific reason like we said earlier or just randomly."
   ]
  },
  {
   "cell_type": "markdown",
   "metadata": {},
   "source": [
    "<div class=\"alert alert-block alert-success\">\n",
    "<b>Reviewer's comment</b> <a class=\"tocSkip\"></a>\n",
    "Great start! You're absolutely right about 10% - that's too much data to delete. That's right\n",
    "</div>"
   ]
  },
  {
   "cell_type": "code",
   "execution_count": 9,
   "metadata": {},
   "outputs": [
    {
     "name": "stdout",
     "output_type": "stream",
     "text": [
      "secondary education    1408\n",
      "bachelor's degree       496\n",
      "SECONDARY EDUCATION      67\n",
      "Secondary Education      65\n",
      "some college             55\n",
      "Bachelor's Degree        25\n",
      "BACHELOR'S DEGREE        23\n",
      "primary education        19\n",
      "SOME COLLEGE              7\n",
      "Some College              7\n",
      "Primary Education         1\n",
      "PRIMARY EDUCATION         1\n",
      "Name: education, dtype: int64 \n",
      "\n",
      "employee         1105\n",
      "business          508\n",
      "retiree           413\n",
      "civil servant     147\n",
      "entrepreneur        1\n",
      "Name: income_type, dtype: int64 \n",
      "\n",
      "married              1237\n",
      "civil partnership     442\n",
      "unmarried             288\n",
      "divorced              112\n",
      "widow / widower        95\n",
      "Name: family_status, dtype: int64 \n",
      "\n"
     ]
    }
   ],
   "source": [
    "#Below we print more information about the data we have, the distribution of missing values among other characterisitics:\n",
    "print((bank_data[bank_data['total_income'].isnull()]['education']).value_counts(),'\\n')\n",
    "print((bank_data[bank_data['total_income'].isnull()]['income_type']).value_counts(),'\\n')\n",
    "print((bank_data[bank_data['total_income'].isnull()]['family_status']).value_counts(),'\\n')"
   ]
  },
  {
   "cell_type": "code",
   "execution_count": 10,
   "metadata": {
    "scrolled": true
   },
   "outputs": [
    {
     "name": "stdout",
     "output_type": "stream",
     "text": [
      "secondary education    0.647654\n",
      "bachelor's degree      0.228151\n",
      "SECONDARY EDUCATION    0.030819\n",
      "Secondary Education    0.029899\n",
      "some college           0.025299\n",
      "Bachelor's Degree      0.011500\n",
      "BACHELOR'S DEGREE      0.010580\n",
      "primary education      0.008740\n",
      "SOME COLLEGE           0.003220\n",
      "Some College           0.003220\n",
      "Primary Education      0.000460\n",
      "PRIMARY EDUCATION      0.000460\n",
      "Name: education, dtype: float64 \n",
      "\n",
      "employee         0.508280\n",
      "business         0.233671\n",
      "retiree          0.189972\n",
      "civil servant    0.067617\n",
      "entrepreneur     0.000460\n",
      "Name: income_type, dtype: float64 \n",
      "\n",
      "married              0.568997\n",
      "civil partnership    0.203312\n",
      "unmarried            0.132475\n",
      "divorced             0.051518\n",
      "widow / widower      0.043698\n",
      "Name: family_status, dtype: float64 \n",
      "\n"
     ]
    }
   ],
   "source": [
    "#Here we calculate the percentages of every characteristic with missing values of the total missing values\n",
    "total_missing_rows = bank_data[bank_data['total_income'].isna()].shape[0]\n",
    "education_missing = (bank_data[bank_data['total_income'].isna()]['education']).value_counts()\n",
    "income_missing = (bank_data[bank_data['total_income'].isna()]['income_type']).value_counts()\n",
    "family_missing = (bank_data[bank_data['total_income'].isna()]['family_status']).value_counts()\n",
    "\n",
    "education_missing_dist = education_missing / total_missing_rows\n",
    "income_missing_dist = income_missing / total_missing_rows\n",
    "family_missing_dist = family_missing / total_missing_rows\n",
    "\n",
    "print(education_missing_dist, '\\n')\n",
    "print(income_missing_dist,'\\n')\n",
    "print(family_missing_dist,'\\n')"
   ]
  },
  {
   "cell_type": "markdown",
   "metadata": {},
   "source": [
    "Looking at the results we have above, we don't see any obvious relation between missing values and other characteristics. We actually expected that rows with missing values should have had **retiree** or **unemployed** as an **income_type** but what we actually got is around **70%** of rows had either **employee or buisness**, which adds up to the possibility that these missing values were random due to a human or a system error. This opposes to the assumption we assumed earlier that the missing values could've been due to a specific reason. \n",
    "\n",
    "**Possible reasons for missing values in data**\n",
    "\n",
    "In my opinion, the reason is most probably by humans collecting the data or simply a systematic error that caused values to disappear. But we cannot conclude on that yet, therefore we have to conduct yet further investigations, dig deep into our data.\n"
   ]
  },
  {
   "cell_type": "markdown",
   "metadata": {},
   "source": [
    "<div class=\"alert alert-block alert-success\">\n",
    "<b>Reviewer's comment</b> <a class=\"tocSkip\"></a>\n",
    "You are on the right track.\n",
    "</div>"
   ]
  },
  {
   "cell_type": "code",
   "execution_count": 11,
   "metadata": {},
   "outputs": [
    {
     "name": "stdout",
     "output_type": "stream",
     "text": [
      "secondary education    0.065412\n",
      "bachelor's degree      0.023043\n",
      "SECONDARY EDUCATION    0.003113\n",
      "Secondary Education    0.003020\n",
      "some college           0.002555\n",
      "Bachelor's Degree      0.001161\n",
      "BACHELOR'S DEGREE      0.001069\n",
      "primary education      0.000883\n",
      "SOME COLLEGE           0.000325\n",
      "Some College           0.000325\n",
      "Primary Education      0.000046\n",
      "PRIMARY EDUCATION      0.000046\n",
      "Name: education, dtype: float64 \n",
      "\n",
      "employee         0.051336\n",
      "business         0.023600\n",
      "retiree          0.019187\n",
      "civil servant    0.006829\n",
      "entrepreneur     0.000046\n",
      "Name: income_type, dtype: float64 \n",
      "\n",
      "married              0.057468\n",
      "civil partnership    0.020534\n",
      "unmarried            0.013380\n",
      "divorced             0.005203\n",
      "widow / widower      0.004413\n",
      "Name: family_status, dtype: float64 \n",
      "\n"
     ]
    }
   ],
   "source": [
    "# calculating the percentages of missing values according different specific characteristics compared to the whole dataset\n",
    "education_missing_dist_whole = education_missing / len(bank_data)\n",
    "income_missing_dist_whole = income_missing / len(bank_data)\n",
    "family_missing_dist_whole = family_missing / len(bank_data)\n",
    "\n",
    "print(education_missing_dist_whole, '\\n')\n",
    "print(income_missing_dist_whole, '\\n')\n",
    "print(family_missing_dist_whole, '\\n')\n"
   ]
  },
  {
   "cell_type": "markdown",
   "metadata": {},
   "source": [
    "**Intermediate conclusion**\n",
    "\n",
    "The distribution in the original dataset is pretty similar to the distribution of the filtered data, this adds to the possibilty that these mistakes were more of random mistakes than anything else, but we still have to consider other factors and parameters in order to confirm this.\n",
    "\n",
    "In order to confirm that the missing values are random, we will want to look for every parameter that could lead to errors if it was inserted incorrectly. One factor that comes to mind is zeros in the column **dob_years** because it doesn't make sense for a customer to have the age of 0. While we check whether the **dob_years** column has any zeros, we can also check for zeros on other columns where it doesn't make sense to be zero just to make sure (Check the code below)\n"
   ]
  },
  {
   "cell_type": "code",
   "execution_count": 12,
   "metadata": {},
   "outputs": [
    {
     "name": "stdout",
     "output_type": "stream",
     "text": [
      "dob_years\n"
     ]
    }
   ],
   "source": [
    "mylist  = ['dob_years', 'days_employed', 'education', 'family_status', 'gender', 'income_type']\n",
    "\n",
    "for value in mylist:\n",
    "    if bank_data[bank_data[value] == 0].shape[0] > 0:\n",
    "        print(value)"
   ]
  },
  {
   "cell_type": "code",
   "execution_count": 13,
   "metadata": {},
   "outputs": [
    {
     "data": {
      "text/html": [
       "<div>\n",
       "<style scoped>\n",
       "    .dataframe tbody tr th:only-of-type {\n",
       "        vertical-align: middle;\n",
       "    }\n",
       "\n",
       "    .dataframe tbody tr th {\n",
       "        vertical-align: top;\n",
       "    }\n",
       "\n",
       "    .dataframe thead th {\n",
       "        text-align: right;\n",
       "    }\n",
       "</style>\n",
       "<table border=\"1\" class=\"dataframe\">\n",
       "  <thead>\n",
       "    <tr style=\"text-align: right;\">\n",
       "      <th></th>\n",
       "      <th>children</th>\n",
       "      <th>days_employed</th>\n",
       "      <th>dob_years</th>\n",
       "      <th>education</th>\n",
       "      <th>education_id</th>\n",
       "      <th>family_status</th>\n",
       "      <th>family_status_id</th>\n",
       "      <th>gender</th>\n",
       "      <th>income_type</th>\n",
       "      <th>debt</th>\n",
       "      <th>total_income</th>\n",
       "      <th>purpose</th>\n",
       "    </tr>\n",
       "  </thead>\n",
       "  <tbody>\n",
       "    <tr>\n",
       "      <td>1890</td>\n",
       "      <td>0</td>\n",
       "      <td>NaN</td>\n",
       "      <td>0</td>\n",
       "      <td>bachelor's degree</td>\n",
       "      <td>0</td>\n",
       "      <td>unmarried</td>\n",
       "      <td>4</td>\n",
       "      <td>F</td>\n",
       "      <td>employee</td>\n",
       "      <td>0</td>\n",
       "      <td>NaN</td>\n",
       "      <td>housing</td>\n",
       "    </tr>\n",
       "    <tr>\n",
       "      <td>2284</td>\n",
       "      <td>0</td>\n",
       "      <td>NaN</td>\n",
       "      <td>0</td>\n",
       "      <td>secondary education</td>\n",
       "      <td>1</td>\n",
       "      <td>widow / widower</td>\n",
       "      <td>2</td>\n",
       "      <td>F</td>\n",
       "      <td>retiree</td>\n",
       "      <td>0</td>\n",
       "      <td>NaN</td>\n",
       "      <td>property</td>\n",
       "    </tr>\n",
       "    <tr>\n",
       "      <td>4064</td>\n",
       "      <td>1</td>\n",
       "      <td>NaN</td>\n",
       "      <td>0</td>\n",
       "      <td>secondary education</td>\n",
       "      <td>1</td>\n",
       "      <td>civil partnership</td>\n",
       "      <td>1</td>\n",
       "      <td>M</td>\n",
       "      <td>business</td>\n",
       "      <td>0</td>\n",
       "      <td>NaN</td>\n",
       "      <td>housing renovation</td>\n",
       "    </tr>\n",
       "    <tr>\n",
       "      <td>5014</td>\n",
       "      <td>0</td>\n",
       "      <td>NaN</td>\n",
       "      <td>0</td>\n",
       "      <td>secondary education</td>\n",
       "      <td>1</td>\n",
       "      <td>married</td>\n",
       "      <td>0</td>\n",
       "      <td>F</td>\n",
       "      <td>business</td>\n",
       "      <td>0</td>\n",
       "      <td>NaN</td>\n",
       "      <td>buy real estate</td>\n",
       "    </tr>\n",
       "    <tr>\n",
       "      <td>6411</td>\n",
       "      <td>0</td>\n",
       "      <td>NaN</td>\n",
       "      <td>0</td>\n",
       "      <td>bachelor's degree</td>\n",
       "      <td>0</td>\n",
       "      <td>civil partnership</td>\n",
       "      <td>1</td>\n",
       "      <td>F</td>\n",
       "      <td>retiree</td>\n",
       "      <td>0</td>\n",
       "      <td>NaN</td>\n",
       "      <td>wedding ceremony</td>\n",
       "    </tr>\n",
       "    <tr>\n",
       "      <td>6670</td>\n",
       "      <td>0</td>\n",
       "      <td>NaN</td>\n",
       "      <td>0</td>\n",
       "      <td>Bachelor's Degree</td>\n",
       "      <td>0</td>\n",
       "      <td>divorced</td>\n",
       "      <td>3</td>\n",
       "      <td>F</td>\n",
       "      <td>retiree</td>\n",
       "      <td>0</td>\n",
       "      <td>NaN</td>\n",
       "      <td>buy residential real estate</td>\n",
       "    </tr>\n",
       "    <tr>\n",
       "      <td>8574</td>\n",
       "      <td>0</td>\n",
       "      <td>NaN</td>\n",
       "      <td>0</td>\n",
       "      <td>secondary education</td>\n",
       "      <td>1</td>\n",
       "      <td>married</td>\n",
       "      <td>0</td>\n",
       "      <td>F</td>\n",
       "      <td>employee</td>\n",
       "      <td>0</td>\n",
       "      <td>NaN</td>\n",
       "      <td>property</td>\n",
       "    </tr>\n",
       "    <tr>\n",
       "      <td>12403</td>\n",
       "      <td>3</td>\n",
       "      <td>NaN</td>\n",
       "      <td>0</td>\n",
       "      <td>secondary education</td>\n",
       "      <td>1</td>\n",
       "      <td>married</td>\n",
       "      <td>0</td>\n",
       "      <td>M</td>\n",
       "      <td>employee</td>\n",
       "      <td>0</td>\n",
       "      <td>NaN</td>\n",
       "      <td>transactions with commercial real estate</td>\n",
       "    </tr>\n",
       "    <tr>\n",
       "      <td>13741</td>\n",
       "      <td>0</td>\n",
       "      <td>NaN</td>\n",
       "      <td>0</td>\n",
       "      <td>secondary education</td>\n",
       "      <td>1</td>\n",
       "      <td>civil partnership</td>\n",
       "      <td>1</td>\n",
       "      <td>F</td>\n",
       "      <td>employee</td>\n",
       "      <td>0</td>\n",
       "      <td>NaN</td>\n",
       "      <td>having a wedding</td>\n",
       "    </tr>\n",
       "    <tr>\n",
       "      <td>19829</td>\n",
       "      <td>0</td>\n",
       "      <td>NaN</td>\n",
       "      <td>0</td>\n",
       "      <td>secondary education</td>\n",
       "      <td>1</td>\n",
       "      <td>married</td>\n",
       "      <td>0</td>\n",
       "      <td>F</td>\n",
       "      <td>employee</td>\n",
       "      <td>0</td>\n",
       "      <td>NaN</td>\n",
       "      <td>housing</td>\n",
       "    </tr>\n",
       "  </tbody>\n",
       "</table>\n",
       "</div>"
      ],
      "text/plain": [
       "       children  days_employed  dob_years            education  education_id  \\\n",
       "1890          0            NaN          0    bachelor's degree             0   \n",
       "2284          0            NaN          0  secondary education             1   \n",
       "4064          1            NaN          0  secondary education             1   \n",
       "5014          0            NaN          0  secondary education             1   \n",
       "6411          0            NaN          0    bachelor's degree             0   \n",
       "6670          0            NaN          0    Bachelor's Degree             0   \n",
       "8574          0            NaN          0  secondary education             1   \n",
       "12403         3            NaN          0  secondary education             1   \n",
       "13741         0            NaN          0  secondary education             1   \n",
       "19829         0            NaN          0  secondary education             1   \n",
       "\n",
       "           family_status  family_status_id gender income_type  debt  \\\n",
       "1890           unmarried                 4      F    employee     0   \n",
       "2284     widow / widower                 2      F     retiree     0   \n",
       "4064   civil partnership                 1      M    business     0   \n",
       "5014             married                 0      F    business     0   \n",
       "6411   civil partnership                 1      F     retiree     0   \n",
       "6670            divorced                 3      F     retiree     0   \n",
       "8574             married                 0      F    employee     0   \n",
       "12403            married                 0      M    employee     0   \n",
       "13741  civil partnership                 1      F    employee     0   \n",
       "19829            married                 0      F    employee     0   \n",
       "\n",
       "       total_income                                   purpose  \n",
       "1890            NaN                                   housing  \n",
       "2284            NaN                                  property  \n",
       "4064            NaN                        housing renovation  \n",
       "5014            NaN                           buy real estate  \n",
       "6411            NaN                          wedding ceremony  \n",
       "6670            NaN               buy residential real estate  \n",
       "8574            NaN                                  property  \n",
       "12403           NaN  transactions with commercial real estate  \n",
       "13741           NaN                          having a wedding  \n",
       "19829           NaN                                   housing  "
      ]
     },
     "execution_count": 13,
     "metadata": {},
     "output_type": "execute_result"
    }
   ],
   "source": [
    "bank_data[(bank_data['total_income'].isna()) & (bank_data['dob_years'] == 0)]"
   ]
  },
  {
   "cell_type": "markdown",
   "metadata": {},
   "source": [
    "We only found 10 records of dob_year as 0 which is a very very small portion of our dataset and despite that all 10 records have missing values on the columns **days_employed and total_income** which is what we expected, but the fact that this is a very small portion of our dataset means we can completely neglect this information as it doesn't explain the reason why the rest of the missing values exist.\n",
    "\n",
    "**Intermediate conclusion**\n",
    "After the initial investigations we already conducted, we can say that the majority of missing values are not dependat on other values in our dataset and they exist due to random mistake and not due to a specific reason."
   ]
  },
  {
   "cell_type": "markdown",
   "metadata": {},
   "source": [
    "**Conclusions**\n",
    "To sum up, we already checked the correlation between the missing values with several other factors and we haven't reached to a conclusion where these missing values happened for a specific reason. Evenmore, with every check we conducted, we arrived to the conclusion that these missing values occured randomly, *This means that the missing values are possibily due to a human error (when filling the data) or to a systematic error (bugs in the programs that process the dataset)*.\n",
    "\n",
    "Since the rows with missing values comprise a very large piece of our dataset, therefore we are going to have to refill them instead of dropping them entirely. To do so, with **days_employed** we can refill them according to specific age categories, by this I mean that we will split the customers's ages into several categories and refill missing values with mean/median of the category it belongs to. When it comes to **total_income** we can refill them according to several other factors combined like **Education**, **Income Type** in a similar way to the way we are going to fill the missing data for **days_employed**.\n",
    "\n",
    "**Our next steps:**\n",
    "1. Check for duplicates\n",
    "2. Transform exisitng values accordingly\n",
    "3. Drop unneccasisry values\n",
    "4. Refill missing values"
   ]
  },
  {
   "cell_type": "markdown",
   "metadata": {},
   "source": [
    "<div class=\"alert alert-block alert-success\">\n",
    "<b>Reviewer's comment</b> <a class=\"tocSkip\"></a>\n",
    "I am very pleased to check your work. You structured it well, adding intermediate conclusions and commenting on your steps. This is a very important quality of Analytics given. Thank you. Keep it up!\n",
    "</div>"
   ]
  },
  {
   "cell_type": "markdown",
   "metadata": {},
   "source": [
    "<div class=\"alert alert-block alert-danger\">\n",
    "<b>Reviewer's comment</b> <a class=\"tocSkip\"></a>\n",
    "\n",
    "~~And what are your assumptions about the possible reasons for the presence of missing values?~~\n",
    "~~Please complete the project with your assumptions about the possible reasons for the missed readings.~~\n",
    "</div>\n",
    "\n",
    "<div class=\"alert alert-block alert-info\">\n",
    "<b>Student answer</b> I added another line, explaining why would the data be missing in our case.<a class=\"tocSkip\"></a>\n",
    "</div>"
   ]
  },
  {
   "cell_type": "markdown",
   "metadata": {},
   "source": [
    "<div class=\"alert alert-block alert-success\">\n",
    "<b>Reviewer's comment</b> <a class=\"tocSkip\"></a>\n",
    "Thanks for updating your answer.\n",
    "</div>"
   ]
  },
  {
   "cell_type": "markdown",
   "metadata": {},
   "source": [
    "## Data transformation\n",
    "\n",
    "Our first step is to check for **duplicates**. Unfortunately, the data we were given doesn't include any identifying characterisitc for every unique customer which means we do not have customer names or ids in order to identify them by these characterisitcs. Therefore, we can not assume we have any duplicates just according to rows with similar values because it is very likely that there are many customers with very similar data since our dataset is quite large.\n",
    "\n",
    "Next we are going to check the **education** column for any errors that might be:"
   ]
  },
  {
   "cell_type": "code",
   "execution_count": 14,
   "metadata": {},
   "outputs": [
    {
     "data": {
      "text/plain": [
       "secondary education    13750\n",
       "bachelor's degree       4718\n",
       "SECONDARY EDUCATION      772\n",
       "Secondary Education      711\n",
       "some college             668\n",
       "BACHELOR'S DEGREE        274\n",
       "Bachelor's Degree        268\n",
       "primary education        250\n",
       "Some College              47\n",
       "SOME COLLEGE              29\n",
       "PRIMARY EDUCATION         17\n",
       "Primary Education         15\n",
       "graduate degree            4\n",
       "GRADUATE DEGREE            1\n",
       "Graduate Degree            1\n",
       "Name: education, dtype: int64"
      ]
     },
     "execution_count": 14,
     "metadata": {},
     "output_type": "execute_result"
    }
   ],
   "source": [
    "# Let's see the distribution of values in the `education` column\n",
    "bank_data['education'].value_counts()"
   ]
  },
  {
   "cell_type": "code",
   "execution_count": 15,
   "metadata": {
    "scrolled": true
   },
   "outputs": [],
   "source": [
    "# Transforming the education column to all lower case letters\n",
    "bank_data['education'] = bank_data['education'].str.lower()"
   ]
  },
  {
   "cell_type": "code",
   "execution_count": 16,
   "metadata": {},
   "outputs": [
    {
     "data": {
      "text/plain": [
       "secondary education    15233\n",
       "bachelor's degree       5260\n",
       "some college             744\n",
       "primary education        282\n",
       "graduate degree            6\n",
       "Name: education, dtype: int64"
      ]
     },
     "execution_count": 16,
     "metadata": {},
     "output_type": "execute_result"
    }
   ],
   "source": [
    "bank_data['education'].value_counts()"
   ]
  },
  {
   "cell_type": "markdown",
   "metadata": {},
   "source": [
    "We noticed that the **education** column had similar values with different letter cases so we had to transform these values all into one form/letter case in order to have a better understanding of the data we have and for easier work with it later on.\n",
    "\n",
    "Next we are going to check the **children** column for any errors that might be:"
   ]
  },
  {
   "cell_type": "code",
   "execution_count": 17,
   "metadata": {},
   "outputs": [
    {
     "data": {
      "text/plain": [
       " 0     14149\n",
       " 1      4818\n",
       " 2      2055\n",
       " 3       330\n",
       " 20       76\n",
       "-1        47\n",
       " 4        41\n",
       " 5         9\n",
       "Name: children, dtype: int64"
      ]
     },
     "execution_count": 17,
     "metadata": {},
     "output_type": "execute_result"
    }
   ],
   "source": [
    "# Let's see the distribution of values in the `children` column\n",
    "bank_data['children'].value_counts()"
   ]
  },
  {
   "cell_type": "markdown",
   "metadata": {},
   "source": [
    "Here we see that we have the values 20 and -1, which don't make alot of sense. These are most likely mistakes that should be dealt with.\n",
    "If we consider these mistakes as human mistakes, then it is reasonable to assume that these numbers have been 1 and 2 instead of -1 and 20. On the other hand, those could be systematic mistakes and we could replace them with the mean/median. Eitherway, the percentage of these values is very low that choosing either method won't really have a big impact on the conclusion.\n",
    "Therefore, we chose to replace them with the values 2 for 20 and 1 for -1:"
   ]
  },
  {
   "cell_type": "markdown",
   "metadata": {},
   "source": [
    "<div class=\"alert alert-block alert-success\">\n",
    "<b>Reviewer's comment</b> <a class=\"tocSkip\"></a>\n",
    "Great guess and correct solution. Well done!\n",
    "</div>"
   ]
  },
  {
   "cell_type": "code",
   "execution_count": 18,
   "metadata": {},
   "outputs": [],
   "source": [
    "# [fix the data based on your decision]\n",
    "bank_data.loc[bank_data['children'] == 20, 'children'] = 2\n",
    "bank_data.loc[bank_data['children'] == -1, 'children'] = 1\n"
   ]
  },
  {
   "cell_type": "code",
   "execution_count": 19,
   "metadata": {},
   "outputs": [
    {
     "data": {
      "text/plain": [
       "0    14149\n",
       "1     4865\n",
       "2     2131\n",
       "3      330\n",
       "4       41\n",
       "5        9\n",
       "Name: children, dtype: int64"
      ]
     },
     "execution_count": 19,
     "metadata": {},
     "output_type": "execute_result"
    }
   ],
   "source": [
    "# Checking the `children` column again to make sure it's all fixed\n",
    "bank_data['children'].value_counts()"
   ]
  },
  {
   "cell_type": "markdown",
   "metadata": {},
   "source": [
    "**Next** we are going to check the **days_employed** column for any errors that might be:"
   ]
  },
  {
   "cell_type": "code",
   "execution_count": 20,
   "metadata": {},
   "outputs": [
    {
     "name": "stdout",
     "output_type": "stream",
     "text": [
      "Negative values: 15906 rows, their percentage: 73.90%\n"
     ]
    }
   ],
   "source": [
    "# Find problematic data in `days_employed`, if they exist, and calculate the percentage\n",
    "negative_values = bank_data[bank_data['days_employed'] < 0].shape[0]\n",
    "neg_per = negative_values/bank_data.shape[0]\n",
    "\n",
    "print('Negative values: {} rows, their percentage: {:.2%}'.format(negative_values, neg_per))"
   ]
  },
  {
   "cell_type": "markdown",
   "metadata": {},
   "source": [
    "We found that the problematic values in the **days_employed** column is very large. The problem is negative number of days which makes no sense. Since this portion of problematic values is very large, we need to find a way to deal with it. A very reasonable assumption here is to assume (We should first check this with the sources for better results) that the problematic/negative data is accutally right in the **absolute** form and change all negative values into positive values:"
   ]
  },
  {
   "cell_type": "code",
   "execution_count": 21,
   "metadata": {},
   "outputs": [],
   "source": [
    "# Address the problematic values, if they exist\n",
    "bank_data['days_employed'] = bank_data['days_employed'].abs()"
   ]
  },
  {
   "cell_type": "code",
   "execution_count": 22,
   "metadata": {},
   "outputs": [
    {
     "data": {
      "text/plain": [
       "0"
      ]
     },
     "execution_count": 22,
     "metadata": {},
     "output_type": "execute_result"
    }
   ],
   "source": [
    "# Check the result - make sure it's fixed\n",
    "bank_data[bank_data['days_employed'] < 0].shape[0]"
   ]
  },
  {
   "cell_type": "code",
   "execution_count": 23,
   "metadata": {},
   "outputs": [
    {
     "name": "stdout",
     "output_type": "stream",
     "text": [
      "24.14163324048118\n",
      "401755.40047533\n"
     ]
    },
    {
     "data": {
      "text/plain": [
       "5215"
      ]
     },
     "execution_count": 23,
     "metadata": {},
     "output_type": "execute_result"
    }
   ],
   "source": [
    "print(bank_data['days_employed'].min())\n",
    "print(bank_data['days_employed'].max())\n",
    "bank_data[bank_data['days_employed'] >= 5000].shape[0]"
   ]
  },
  {
   "cell_type": "markdown",
   "metadata": {},
   "source": [
    "Looking at this range of values, we can see that there is something wrong in the **days_employed** column. If we divide any value above 15,000 with 365 (to count how many years each customer worked) we end up with 50 to 1000 years of work, which obviously doesn't make alot of sense. With so many cells of that type, we can only assume one of two assumptions; \n",
    "1. The data we got is completely incorrect (we ask our sources for correct data)\n",
    "2. The data we got is partly incorrect (we received the **days_employed** data as hours and not as days, we can also check with our sources here)\n",
    "We'll assume that in our situation we have case #2, therefore we should fix the values in the **days_employed** column by dividing it by 24."
   ]
  },
  {
   "cell_type": "code",
   "execution_count": 24,
   "metadata": {},
   "outputs": [],
   "source": [
    "bank_data['days_employed'] = bank_data['days_employed']/24"
   ]
  },
  {
   "cell_type": "code",
   "execution_count": 25,
   "metadata": {},
   "outputs": [
    {
     "data": {
      "text/plain": [
       "16739.80835313875"
      ]
     },
     "execution_count": 25,
     "metadata": {},
     "output_type": "execute_result"
    }
   ],
   "source": [
    "bank_data['days_employed'].max()"
   ]
  },
  {
   "cell_type": "markdown",
   "metadata": {},
   "source": [
    "Now the data makes more sense, with our max as 16739, this means the maximum number of years a customer has worked is 45 years instead of 1000 years as was previously."
   ]
  },
  {
   "cell_type": "markdown",
   "metadata": {},
   "source": [
    "<div class=\"alert alert-block alert-success\">\n",
    "<b>Reviewer's comment</b> <a class=\"tocSkip\"></a>\n",
    "Yes, you have solved this problem.\n",
    "</div>"
   ]
  },
  {
   "cell_type": "markdown",
   "metadata": {},
   "source": [
    "**Next** we are going to check the **dob_years** column for any errors that might be:"
   ]
  },
  {
   "cell_type": "code",
   "execution_count": 26,
   "metadata": {
    "scrolled": true
   },
   "outputs": [
    {
     "data": {
      "text/plain": [
       "35    617\n",
       "40    609\n",
       "41    607\n",
       "34    603\n",
       "38    598\n",
       "42    597\n",
       "33    581\n",
       "39    573\n",
       "31    560\n",
       "36    555\n",
       "44    547\n",
       "29    545\n",
       "30    540\n",
       "48    538\n",
       "37    537\n",
       "50    514\n",
       "43    513\n",
       "32    510\n",
       "49    508\n",
       "28    503\n",
       "45    497\n",
       "27    493\n",
       "56    487\n",
       "52    484\n",
       "47    480\n",
       "54    479\n",
       "46    475\n",
       "58    461\n",
       "57    460\n",
       "53    459\n",
       "51    448\n",
       "59    444\n",
       "55    443\n",
       "26    408\n",
       "60    377\n",
       "25    357\n",
       "61    355\n",
       "62    352\n",
       "63    269\n",
       "64    265\n",
       "24    264\n",
       "23    254\n",
       "65    194\n",
       "66    183\n",
       "22    183\n",
       "67    167\n",
       "21    111\n",
       "0     101\n",
       "68     99\n",
       "69     85\n",
       "70     65\n",
       "71     58\n",
       "20     51\n",
       "72     33\n",
       "19     14\n",
       "73      8\n",
       "74      6\n",
       "75      1\n",
       "Name: dob_years, dtype: int64"
      ]
     },
     "execution_count": 26,
     "metadata": {},
     "output_type": "execute_result"
    }
   ],
   "source": [
    "# Check the `dob_years` for suspicious values and count the percentage\n",
    "bank_data['dob_years'].value_counts()\n"
   ]
  },
  {
   "cell_type": "markdown",
   "metadata": {},
   "source": [
    "The dataset is about a bank's customers' credit worthiness and it doesn't make sense that some customers are of the age 0. Therefore, since the number of cases with 0 **dob_years** is close to nothing, we decided to drop them of the table."
   ]
  },
  {
   "cell_type": "code",
   "execution_count": 27,
   "metadata": {},
   "outputs": [],
   "source": [
    "# Address the issues in the `dob_years` column, if they exist\n",
    "bank_data.loc[bank_data['dob_years'] == 0] = None\n",
    "bank_data = bank_data.dropna(how='all').reset_index(drop=True)"
   ]
  },
  {
   "cell_type": "code",
   "execution_count": 28,
   "metadata": {},
   "outputs": [
    {
     "name": "stdout",
     "output_type": "stream",
     "text": [
      "Empty DataFrame\n",
      "Columns: [children, days_employed, dob_years, education, education_id, family_status, family_status_id, gender, income_type, debt, total_income, purpose]\n",
      "Index: []\n"
     ]
    },
    {
     "data": {
      "text/plain": [
       "35.0    617\n",
       "40.0    609\n",
       "41.0    607\n",
       "34.0    603\n",
       "38.0    598\n",
       "42.0    597\n",
       "33.0    581\n",
       "39.0    573\n",
       "31.0    560\n",
       "36.0    555\n",
       "44.0    547\n",
       "29.0    545\n",
       "30.0    540\n",
       "48.0    538\n",
       "37.0    537\n",
       "50.0    514\n",
       "43.0    513\n",
       "32.0    510\n",
       "49.0    508\n",
       "28.0    503\n",
       "45.0    497\n",
       "27.0    493\n",
       "56.0    487\n",
       "52.0    484\n",
       "47.0    480\n",
       "54.0    479\n",
       "46.0    475\n",
       "58.0    461\n",
       "57.0    460\n",
       "53.0    459\n",
       "51.0    448\n",
       "59.0    444\n",
       "55.0    443\n",
       "26.0    408\n",
       "60.0    377\n",
       "25.0    357\n",
       "61.0    355\n",
       "62.0    352\n",
       "63.0    269\n",
       "64.0    265\n",
       "24.0    264\n",
       "23.0    254\n",
       "65.0    194\n",
       "66.0    183\n",
       "22.0    183\n",
       "67.0    167\n",
       "21.0    111\n",
       "68.0     99\n",
       "69.0     85\n",
       "70.0     65\n",
       "71.0     58\n",
       "20.0     51\n",
       "72.0     33\n",
       "19.0     14\n",
       "73.0      8\n",
       "74.0      6\n",
       "75.0      1\n",
       "Name: dob_years, dtype: int64"
      ]
     },
     "execution_count": 28,
     "metadata": {},
     "output_type": "execute_result"
    }
   ],
   "source": [
    "# Check the result - make sure it's fixed\n",
    "print(bank_data[bank_data['dob_years'].isna()])\n",
    "bank_data['dob_years'].value_counts()"
   ]
  },
  {
   "cell_type": "markdown",
   "metadata": {},
   "source": [
    "**Next** we are going to check the **family_status** column for any errors that might be:"
   ]
  },
  {
   "cell_type": "code",
   "execution_count": 29,
   "metadata": {},
   "outputs": [
    {
     "data": {
      "text/plain": [
       "married              12331\n",
       "civil partnership     4156\n",
       "unmarried             2797\n",
       "divorced              1185\n",
       "widow / widower        955\n",
       "Name: family_status, dtype: int64"
      ]
     },
     "execution_count": 29,
     "metadata": {},
     "output_type": "execute_result"
    }
   ],
   "source": [
    "# Let's see the values for the column\n",
    "bank_data['family_status'].value_counts()"
   ]
  },
  {
   "cell_type": "markdown",
   "metadata": {},
   "source": [
    "**family_status** doesn't seem to have any errors or problematic values.\n",
    "\n",
    "**Next** we are going to check the **gender** column for any errors that might be:"
   ]
  },
  {
   "cell_type": "code",
   "execution_count": 30,
   "metadata": {},
   "outputs": [
    {
     "data": {
      "text/plain": [
       "F      14164\n",
       "M       7259\n",
       "XNA        1\n",
       "Name: gender, dtype: int64"
      ]
     },
     "execution_count": 30,
     "metadata": {},
     "output_type": "execute_result"
    }
   ],
   "source": [
    "# Check for gender counts\n",
    "bank_data['gender'].value_counts()"
   ]
  },
  {
   "cell_type": "code",
   "execution_count": 31,
   "metadata": {
    "scrolled": true
   },
   "outputs": [],
   "source": [
    "# Address the problematic values, if they exist\n",
    "bank_data.loc[bank_data['gender'] == 'XNA', 'gender'] = 'F'"
   ]
  },
  {
   "cell_type": "code",
   "execution_count": 32,
   "metadata": {},
   "outputs": [
    {
     "data": {
      "text/plain": [
       "F    14165\n",
       "M     7259\n",
       "Name: gender, dtype: int64"
      ]
     },
     "execution_count": 32,
     "metadata": {},
     "output_type": "execute_result"
    }
   ],
   "source": [
    "# Check the result - make sure it's fixed\n",
    "bank_data['gender'].value_counts()\n"
   ]
  },
  {
   "cell_type": "markdown",
   "metadata": {},
   "source": [
    "**gender** column had one error. It was one row with the gender **XNA**. We dealt with it by transforming it into **F**, the bigger audience among the customers.\n",
    "**Next** we are going to check the **income_type** column for any errors that might be:"
   ]
  },
  {
   "cell_type": "code",
   "execution_count": 33,
   "metadata": {},
   "outputs": [
    {
     "data": {
      "text/plain": [
       "employee                       11064\n",
       "business                        5065\n",
       "retiree                         3836\n",
       "civil servant                   1453\n",
       "entrepreneur                       2\n",
       "unemployed                         2\n",
       "student                            1\n",
       "paternity / maternity leave        1\n",
       "Name: income_type, dtype: int64"
      ]
     },
     "execution_count": 33,
     "metadata": {},
     "output_type": "execute_result"
    }
   ],
   "source": [
    "# Let's see the values in the column'\n",
    "bank_data['income_type'].value_counts()\n"
   ]
  },
  {
   "cell_type": "markdown",
   "metadata": {},
   "source": [
    "We didn't find any problematic values among the **income_type** values.\n",
    "\n",
    "In this part of the project, we basically transformed a very small part of the dataset in order to make it reasonable and less problematic. Most of the dataset values were accurate and we didn't have to change alot in the general dataset.\n",
    "\n",
    "**Next**: we move on to refilling the missing values!"
   ]
  },
  {
   "cell_type": "markdown",
   "metadata": {},
   "source": [
    "<div class=\"alert alert-block alert-success\">\n",
    "<b>Reviewer's comment</b> <a class=\"tocSkip\"></a>\n",
    "You did a great job with this section. Made all the necessary changes.\n",
    "</div>"
   ]
  },
  {
   "cell_type": "markdown",
   "metadata": {},
   "source": [
    "# Working with missing values"
   ]
  },
  {
   "cell_type": "markdown",
   "metadata": {},
   "source": [
    "### Restoring missing values in `total_income`"
   ]
  },
  {
   "cell_type": "markdown",
   "metadata": {},
   "source": [
    "As we mentioned earlier, now we have to address missing values in the **days_employed** and **total_income** columns. To do so, with **days_employed** we can refill them according to specific age categories, by this I mean that we will split the customers's ages into several categories and refill missing values with mean/median of the category it belongs to. When it comes to **total_income** we can refill them according to several other factors combined like **Education**, **Income Type**, **Age category** in a similar way to the way we are going to fill the missing data for **days_employed**.\n",
    "\n",
    "First we want to create the **age_category** column:"
   ]
  },
  {
   "cell_type": "code",
   "execution_count": 34,
   "metadata": {},
   "outputs": [],
   "source": [
    "# Let's write a function that calculates the age category\n",
    "def get_age_category(age):\n",
    "    if age < 25:\n",
    "        return 'Age Group 1'\n",
    "    elif age >= 25 and age < 35:\n",
    "        return 'Age Group 2'\n",
    "    elif age >= 35 and age < 50:\n",
    "        return 'Age Group 3'\n",
    "    else:\n",
    "        return 'Age Group 4'\n",
    "    "
   ]
  },
  {
   "cell_type": "code",
   "execution_count": 35,
   "metadata": {},
   "outputs": [
    {
     "name": "stdout",
     "output_type": "stream",
     "text": [
      "Age Group 1\n",
      "Age Group 4\n",
      "Age Group 4\n",
      "Age Group 3\n",
      "Age Group 2\n"
     ]
    }
   ],
   "source": [
    "# Test if the function works\n",
    "print(get_age_category(1))\n",
    "print(get_age_category(120))\n",
    "print(get_age_category(51))\n",
    "print(get_age_category(49))\n",
    "print(get_age_category(29))"
   ]
  },
  {
   "cell_type": "code",
   "execution_count": 36,
   "metadata": {},
   "outputs": [],
   "source": [
    "# Creating new column based on function\n",
    "bank_data['age_category'] = bank_data['dob_years'].apply(get_age_category)\n"
   ]
  },
  {
   "cell_type": "code",
   "execution_count": 37,
   "metadata": {},
   "outputs": [
    {
     "data": {
      "text/html": [
       "<div>\n",
       "<style scoped>\n",
       "    .dataframe tbody tr th:only-of-type {\n",
       "        vertical-align: middle;\n",
       "    }\n",
       "\n",
       "    .dataframe tbody tr th {\n",
       "        vertical-align: top;\n",
       "    }\n",
       "\n",
       "    .dataframe thead th {\n",
       "        text-align: right;\n",
       "    }\n",
       "</style>\n",
       "<table border=\"1\" class=\"dataframe\">\n",
       "  <thead>\n",
       "    <tr style=\"text-align: right;\">\n",
       "      <th></th>\n",
       "      <th>children</th>\n",
       "      <th>days_employed</th>\n",
       "      <th>dob_years</th>\n",
       "      <th>education</th>\n",
       "      <th>education_id</th>\n",
       "      <th>family_status</th>\n",
       "      <th>family_status_id</th>\n",
       "      <th>gender</th>\n",
       "      <th>income_type</th>\n",
       "      <th>debt</th>\n",
       "      <th>total_income</th>\n",
       "      <th>purpose</th>\n",
       "      <th>age_category</th>\n",
       "    </tr>\n",
       "  </thead>\n",
       "  <tbody>\n",
       "    <tr>\n",
       "      <td>0</td>\n",
       "      <td>1.0</td>\n",
       "      <td>351.569709</td>\n",
       "      <td>42.0</td>\n",
       "      <td>bachelor's degree</td>\n",
       "      <td>0.0</td>\n",
       "      <td>married</td>\n",
       "      <td>0.0</td>\n",
       "      <td>F</td>\n",
       "      <td>employee</td>\n",
       "      <td>0.0</td>\n",
       "      <td>40620.102</td>\n",
       "      <td>purchase of the house</td>\n",
       "      <td>Age Group 3</td>\n",
       "    </tr>\n",
       "    <tr>\n",
       "      <td>1</td>\n",
       "      <td>1.0</td>\n",
       "      <td>167.700156</td>\n",
       "      <td>36.0</td>\n",
       "      <td>secondary education</td>\n",
       "      <td>1.0</td>\n",
       "      <td>married</td>\n",
       "      <td>0.0</td>\n",
       "      <td>F</td>\n",
       "      <td>employee</td>\n",
       "      <td>0.0</td>\n",
       "      <td>17932.802</td>\n",
       "      <td>car purchase</td>\n",
       "      <td>Age Group 3</td>\n",
       "    </tr>\n",
       "    <tr>\n",
       "      <td>2</td>\n",
       "      <td>0.0</td>\n",
       "      <td>234.309275</td>\n",
       "      <td>33.0</td>\n",
       "      <td>secondary education</td>\n",
       "      <td>1.0</td>\n",
       "      <td>married</td>\n",
       "      <td>0.0</td>\n",
       "      <td>M</td>\n",
       "      <td>employee</td>\n",
       "      <td>0.0</td>\n",
       "      <td>23341.752</td>\n",
       "      <td>purchase of the house</td>\n",
       "      <td>Age Group 2</td>\n",
       "    </tr>\n",
       "    <tr>\n",
       "      <td>3</td>\n",
       "      <td>3.0</td>\n",
       "      <td>171.864467</td>\n",
       "      <td>32.0</td>\n",
       "      <td>secondary education</td>\n",
       "      <td>1.0</td>\n",
       "      <td>married</td>\n",
       "      <td>0.0</td>\n",
       "      <td>M</td>\n",
       "      <td>employee</td>\n",
       "      <td>0.0</td>\n",
       "      <td>42820.568</td>\n",
       "      <td>supplementary education</td>\n",
       "      <td>Age Group 2</td>\n",
       "    </tr>\n",
       "    <tr>\n",
       "      <td>4</td>\n",
       "      <td>0.0</td>\n",
       "      <td>14177.753002</td>\n",
       "      <td>53.0</td>\n",
       "      <td>secondary education</td>\n",
       "      <td>1.0</td>\n",
       "      <td>civil partnership</td>\n",
       "      <td>1.0</td>\n",
       "      <td>F</td>\n",
       "      <td>retiree</td>\n",
       "      <td>0.0</td>\n",
       "      <td>25378.572</td>\n",
       "      <td>to have a wedding</td>\n",
       "      <td>Age Group 4</td>\n",
       "    </tr>\n",
       "    <tr>\n",
       "      <td>5</td>\n",
       "      <td>0.0</td>\n",
       "      <td>38.591076</td>\n",
       "      <td>27.0</td>\n",
       "      <td>bachelor's degree</td>\n",
       "      <td>0.0</td>\n",
       "      <td>civil partnership</td>\n",
       "      <td>1.0</td>\n",
       "      <td>M</td>\n",
       "      <td>business</td>\n",
       "      <td>0.0</td>\n",
       "      <td>40922.170</td>\n",
       "      <td>purchase of the house</td>\n",
       "      <td>Age Group 2</td>\n",
       "    </tr>\n",
       "    <tr>\n",
       "      <td>6</td>\n",
       "      <td>0.0</td>\n",
       "      <td>119.966752</td>\n",
       "      <td>43.0</td>\n",
       "      <td>bachelor's degree</td>\n",
       "      <td>0.0</td>\n",
       "      <td>married</td>\n",
       "      <td>0.0</td>\n",
       "      <td>F</td>\n",
       "      <td>business</td>\n",
       "      <td>0.0</td>\n",
       "      <td>38484.156</td>\n",
       "      <td>housing transactions</td>\n",
       "      <td>Age Group 3</td>\n",
       "    </tr>\n",
       "    <tr>\n",
       "      <td>7</td>\n",
       "      <td>0.0</td>\n",
       "      <td>6.365815</td>\n",
       "      <td>50.0</td>\n",
       "      <td>secondary education</td>\n",
       "      <td>1.0</td>\n",
       "      <td>married</td>\n",
       "      <td>0.0</td>\n",
       "      <td>M</td>\n",
       "      <td>employee</td>\n",
       "      <td>0.0</td>\n",
       "      <td>21731.829</td>\n",
       "      <td>education</td>\n",
       "      <td>Age Group 4</td>\n",
       "    </tr>\n",
       "    <tr>\n",
       "      <td>8</td>\n",
       "      <td>2.0</td>\n",
       "      <td>288.744387</td>\n",
       "      <td>35.0</td>\n",
       "      <td>bachelor's degree</td>\n",
       "      <td>0.0</td>\n",
       "      <td>civil partnership</td>\n",
       "      <td>1.0</td>\n",
       "      <td>F</td>\n",
       "      <td>employee</td>\n",
       "      <td>0.0</td>\n",
       "      <td>15337.093</td>\n",
       "      <td>having a wedding</td>\n",
       "      <td>Age Group 3</td>\n",
       "    </tr>\n",
       "    <tr>\n",
       "      <td>9</td>\n",
       "      <td>0.0</td>\n",
       "      <td>91.198185</td>\n",
       "      <td>41.0</td>\n",
       "      <td>secondary education</td>\n",
       "      <td>1.0</td>\n",
       "      <td>married</td>\n",
       "      <td>0.0</td>\n",
       "      <td>M</td>\n",
       "      <td>employee</td>\n",
       "      <td>0.0</td>\n",
       "      <td>23108.150</td>\n",
       "      <td>purchase of the house for my family</td>\n",
       "      <td>Age Group 3</td>\n",
       "    </tr>\n",
       "    <tr>\n",
       "      <td>10</td>\n",
       "      <td>2.0</td>\n",
       "      <td>173.811819</td>\n",
       "      <td>36.0</td>\n",
       "      <td>bachelor's degree</td>\n",
       "      <td>0.0</td>\n",
       "      <td>married</td>\n",
       "      <td>0.0</td>\n",
       "      <td>M</td>\n",
       "      <td>business</td>\n",
       "      <td>0.0</td>\n",
       "      <td>18230.959</td>\n",
       "      <td>buy real estate</td>\n",
       "      <td>Age Group 3</td>\n",
       "    </tr>\n",
       "    <tr>\n",
       "      <td>11</td>\n",
       "      <td>0.0</td>\n",
       "      <td>33.029245</td>\n",
       "      <td>40.0</td>\n",
       "      <td>secondary education</td>\n",
       "      <td>1.0</td>\n",
       "      <td>married</td>\n",
       "      <td>0.0</td>\n",
       "      <td>F</td>\n",
       "      <td>employee</td>\n",
       "      <td>0.0</td>\n",
       "      <td>12331.077</td>\n",
       "      <td>buy commercial real estate</td>\n",
       "      <td>Age Group 3</td>\n",
       "    </tr>\n",
       "    <tr>\n",
       "      <td>12</td>\n",
       "      <td>0.0</td>\n",
       "      <td>NaN</td>\n",
       "      <td>65.0</td>\n",
       "      <td>secondary education</td>\n",
       "      <td>1.0</td>\n",
       "      <td>civil partnership</td>\n",
       "      <td>1.0</td>\n",
       "      <td>M</td>\n",
       "      <td>retiree</td>\n",
       "      <td>0.0</td>\n",
       "      <td>NaN</td>\n",
       "      <td>to have a wedding</td>\n",
       "      <td>Age Group 4</td>\n",
       "    </tr>\n",
       "    <tr>\n",
       "      <td>13</td>\n",
       "      <td>0.0</td>\n",
       "      <td>76.943414</td>\n",
       "      <td>54.0</td>\n",
       "      <td>some college</td>\n",
       "      <td>2.0</td>\n",
       "      <td>married</td>\n",
       "      <td>0.0</td>\n",
       "      <td>F</td>\n",
       "      <td>employee</td>\n",
       "      <td>0.0</td>\n",
       "      <td>20873.317</td>\n",
       "      <td>car purchase</td>\n",
       "      <td>Age Group 4</td>\n",
       "    </tr>\n",
       "    <tr>\n",
       "      <td>14</td>\n",
       "      <td>0.0</td>\n",
       "      <td>76.873174</td>\n",
       "      <td>56.0</td>\n",
       "      <td>bachelor's degree</td>\n",
       "      <td>0.0</td>\n",
       "      <td>civil partnership</td>\n",
       "      <td>1.0</td>\n",
       "      <td>F</td>\n",
       "      <td>business</td>\n",
       "      <td>1.0</td>\n",
       "      <td>26420.466</td>\n",
       "      <td>buy residential real estate</td>\n",
       "      <td>Age Group 4</td>\n",
       "    </tr>\n",
       "    <tr>\n",
       "      <td>15</td>\n",
       "      <td>1.0</td>\n",
       "      <td>40.515184</td>\n",
       "      <td>26.0</td>\n",
       "      <td>secondary education</td>\n",
       "      <td>1.0</td>\n",
       "      <td>married</td>\n",
       "      <td>0.0</td>\n",
       "      <td>F</td>\n",
       "      <td>employee</td>\n",
       "      <td>0.0</td>\n",
       "      <td>18691.345</td>\n",
       "      <td>construction of own property</td>\n",
       "      <td>Age Group 2</td>\n",
       "    </tr>\n",
       "    <tr>\n",
       "      <td>16</td>\n",
       "      <td>0.0</td>\n",
       "      <td>71.663926</td>\n",
       "      <td>35.0</td>\n",
       "      <td>secondary education</td>\n",
       "      <td>1.0</td>\n",
       "      <td>married</td>\n",
       "      <td>0.0</td>\n",
       "      <td>F</td>\n",
       "      <td>employee</td>\n",
       "      <td>0.0</td>\n",
       "      <td>46272.433</td>\n",
       "      <td>property</td>\n",
       "      <td>Age Group 3</td>\n",
       "    </tr>\n",
       "    <tr>\n",
       "      <td>17</td>\n",
       "      <td>0.0</td>\n",
       "      <td>98.749988</td>\n",
       "      <td>33.0</td>\n",
       "      <td>bachelor's degree</td>\n",
       "      <td>0.0</td>\n",
       "      <td>civil partnership</td>\n",
       "      <td>1.0</td>\n",
       "      <td>M</td>\n",
       "      <td>employee</td>\n",
       "      <td>0.0</td>\n",
       "      <td>14465.694</td>\n",
       "      <td>building a property</td>\n",
       "      <td>Age Group 2</td>\n",
       "    </tr>\n",
       "    <tr>\n",
       "      <td>18</td>\n",
       "      <td>0.0</td>\n",
       "      <td>16678.380705</td>\n",
       "      <td>53.0</td>\n",
       "      <td>secondary education</td>\n",
       "      <td>1.0</td>\n",
       "      <td>widow / widower</td>\n",
       "      <td>2.0</td>\n",
       "      <td>F</td>\n",
       "      <td>retiree</td>\n",
       "      <td>0.0</td>\n",
       "      <td>9091.804</td>\n",
       "      <td>buying a second-hand car</td>\n",
       "      <td>Age Group 4</td>\n",
       "    </tr>\n",
       "    <tr>\n",
       "      <td>19</td>\n",
       "      <td>0.0</td>\n",
       "      <td>418.284106</td>\n",
       "      <td>48.0</td>\n",
       "      <td>secondary education</td>\n",
       "      <td>1.0</td>\n",
       "      <td>divorced</td>\n",
       "      <td>3.0</td>\n",
       "      <td>F</td>\n",
       "      <td>employee</td>\n",
       "      <td>0.0</td>\n",
       "      <td>38852.977</td>\n",
       "      <td>buying my own car</td>\n",
       "      <td>Age Group 3</td>\n",
       "    </tr>\n",
       "    <tr>\n",
       "      <td>20</td>\n",
       "      <td>1.0</td>\n",
       "      <td>54.650174</td>\n",
       "      <td>36.0</td>\n",
       "      <td>secondary education</td>\n",
       "      <td>1.0</td>\n",
       "      <td>married</td>\n",
       "      <td>0.0</td>\n",
       "      <td>M</td>\n",
       "      <td>employee</td>\n",
       "      <td>0.0</td>\n",
       "      <td>33528.423</td>\n",
       "      <td>property</td>\n",
       "      <td>Age Group 3</td>\n",
       "    </tr>\n",
       "    <tr>\n",
       "      <td>21</td>\n",
       "      <td>1.0</td>\n",
       "      <td>10.570215</td>\n",
       "      <td>33.0</td>\n",
       "      <td>secondary education</td>\n",
       "      <td>1.0</td>\n",
       "      <td>civil partnership</td>\n",
       "      <td>1.0</td>\n",
       "      <td>F</td>\n",
       "      <td>employee</td>\n",
       "      <td>0.0</td>\n",
       "      <td>21089.953</td>\n",
       "      <td>car purchase</td>\n",
       "      <td>Age Group 2</td>\n",
       "    </tr>\n",
       "    <tr>\n",
       "      <td>22</td>\n",
       "      <td>1.0</td>\n",
       "      <td>73.610172</td>\n",
       "      <td>24.0</td>\n",
       "      <td>secondary education</td>\n",
       "      <td>1.0</td>\n",
       "      <td>civil partnership</td>\n",
       "      <td>1.0</td>\n",
       "      <td>F</td>\n",
       "      <td>employee</td>\n",
       "      <td>0.0</td>\n",
       "      <td>23948.983</td>\n",
       "      <td>buying a second-hand car</td>\n",
       "      <td>Age Group 1</td>\n",
       "    </tr>\n",
       "    <tr>\n",
       "      <td>23</td>\n",
       "      <td>0.0</td>\n",
       "      <td>11.374224</td>\n",
       "      <td>21.0</td>\n",
       "      <td>bachelor's degree</td>\n",
       "      <td>0.0</td>\n",
       "      <td>civil partnership</td>\n",
       "      <td>1.0</td>\n",
       "      <td>M</td>\n",
       "      <td>employee</td>\n",
       "      <td>0.0</td>\n",
       "      <td>20522.515</td>\n",
       "      <td>to have a wedding</td>\n",
       "      <td>Age Group 1</td>\n",
       "    </tr>\n",
       "    <tr>\n",
       "      <td>24</td>\n",
       "      <td>1.0</td>\n",
       "      <td>14106.331371</td>\n",
       "      <td>57.0</td>\n",
       "      <td>secondary education</td>\n",
       "      <td>1.0</td>\n",
       "      <td>unmarried</td>\n",
       "      <td>4.0</td>\n",
       "      <td>F</td>\n",
       "      <td>retiree</td>\n",
       "      <td>0.0</td>\n",
       "      <td>46487.558</td>\n",
       "      <td>transactions with commercial real estate</td>\n",
       "      <td>Age Group 4</td>\n",
       "    </tr>\n",
       "    <tr>\n",
       "      <td>25</td>\n",
       "      <td>0.0</td>\n",
       "      <td>15147.853723</td>\n",
       "      <td>67.0</td>\n",
       "      <td>secondary education</td>\n",
       "      <td>1.0</td>\n",
       "      <td>married</td>\n",
       "      <td>0.0</td>\n",
       "      <td>M</td>\n",
       "      <td>retiree</td>\n",
       "      <td>0.0</td>\n",
       "      <td>8818.041</td>\n",
       "      <td>buy real estate</td>\n",
       "      <td>Age Group 4</td>\n",
       "    </tr>\n",
       "    <tr>\n",
       "      <td>26</td>\n",
       "      <td>0.0</td>\n",
       "      <td>NaN</td>\n",
       "      <td>41.0</td>\n",
       "      <td>secondary education</td>\n",
       "      <td>1.0</td>\n",
       "      <td>married</td>\n",
       "      <td>0.0</td>\n",
       "      <td>M</td>\n",
       "      <td>civil servant</td>\n",
       "      <td>0.0</td>\n",
       "      <td>NaN</td>\n",
       "      <td>education</td>\n",
       "      <td>Age Group 3</td>\n",
       "    </tr>\n",
       "    <tr>\n",
       "      <td>27</td>\n",
       "      <td>0.0</td>\n",
       "      <td>22.049651</td>\n",
       "      <td>28.0</td>\n",
       "      <td>bachelor's degree</td>\n",
       "      <td>0.0</td>\n",
       "      <td>married</td>\n",
       "      <td>0.0</td>\n",
       "      <td>M</td>\n",
       "      <td>employee</td>\n",
       "      <td>0.0</td>\n",
       "      <td>49415.837</td>\n",
       "      <td>construction of own property</td>\n",
       "      <td>Age Group 2</td>\n",
       "    </tr>\n",
       "    <tr>\n",
       "      <td>28</td>\n",
       "      <td>1.0</td>\n",
       "      <td>29.886430</td>\n",
       "      <td>26.0</td>\n",
       "      <td>bachelor's degree</td>\n",
       "      <td>0.0</td>\n",
       "      <td>married</td>\n",
       "      <td>0.0</td>\n",
       "      <td>F</td>\n",
       "      <td>employee</td>\n",
       "      <td>0.0</td>\n",
       "      <td>30058.118</td>\n",
       "      <td>construction of own property</td>\n",
       "      <td>Age Group 2</td>\n",
       "    </tr>\n",
       "    <tr>\n",
       "      <td>29</td>\n",
       "      <td>0.0</td>\n",
       "      <td>NaN</td>\n",
       "      <td>63.0</td>\n",
       "      <td>secondary education</td>\n",
       "      <td>1.0</td>\n",
       "      <td>unmarried</td>\n",
       "      <td>4.0</td>\n",
       "      <td>F</td>\n",
       "      <td>retiree</td>\n",
       "      <td>0.0</td>\n",
       "      <td>NaN</td>\n",
       "      <td>building a real estate</td>\n",
       "      <td>Age Group 4</td>\n",
       "    </tr>\n",
       "  </tbody>\n",
       "</table>\n",
       "</div>"
      ],
      "text/plain": [
       "    children  days_employed  dob_years            education  education_id  \\\n",
       "0        1.0     351.569709       42.0    bachelor's degree           0.0   \n",
       "1        1.0     167.700156       36.0  secondary education           1.0   \n",
       "2        0.0     234.309275       33.0  secondary education           1.0   \n",
       "3        3.0     171.864467       32.0  secondary education           1.0   \n",
       "4        0.0   14177.753002       53.0  secondary education           1.0   \n",
       "5        0.0      38.591076       27.0    bachelor's degree           0.0   \n",
       "6        0.0     119.966752       43.0    bachelor's degree           0.0   \n",
       "7        0.0       6.365815       50.0  secondary education           1.0   \n",
       "8        2.0     288.744387       35.0    bachelor's degree           0.0   \n",
       "9        0.0      91.198185       41.0  secondary education           1.0   \n",
       "10       2.0     173.811819       36.0    bachelor's degree           0.0   \n",
       "11       0.0      33.029245       40.0  secondary education           1.0   \n",
       "12       0.0            NaN       65.0  secondary education           1.0   \n",
       "13       0.0      76.943414       54.0         some college           2.0   \n",
       "14       0.0      76.873174       56.0    bachelor's degree           0.0   \n",
       "15       1.0      40.515184       26.0  secondary education           1.0   \n",
       "16       0.0      71.663926       35.0  secondary education           1.0   \n",
       "17       0.0      98.749988       33.0    bachelor's degree           0.0   \n",
       "18       0.0   16678.380705       53.0  secondary education           1.0   \n",
       "19       0.0     418.284106       48.0  secondary education           1.0   \n",
       "20       1.0      54.650174       36.0  secondary education           1.0   \n",
       "21       1.0      10.570215       33.0  secondary education           1.0   \n",
       "22       1.0      73.610172       24.0  secondary education           1.0   \n",
       "23       0.0      11.374224       21.0    bachelor's degree           0.0   \n",
       "24       1.0   14106.331371       57.0  secondary education           1.0   \n",
       "25       0.0   15147.853723       67.0  secondary education           1.0   \n",
       "26       0.0            NaN       41.0  secondary education           1.0   \n",
       "27       0.0      22.049651       28.0    bachelor's degree           0.0   \n",
       "28       1.0      29.886430       26.0    bachelor's degree           0.0   \n",
       "29       0.0            NaN       63.0  secondary education           1.0   \n",
       "\n",
       "        family_status  family_status_id gender    income_type  debt  \\\n",
       "0             married               0.0      F       employee   0.0   \n",
       "1             married               0.0      F       employee   0.0   \n",
       "2             married               0.0      M       employee   0.0   \n",
       "3             married               0.0      M       employee   0.0   \n",
       "4   civil partnership               1.0      F        retiree   0.0   \n",
       "5   civil partnership               1.0      M       business   0.0   \n",
       "6             married               0.0      F       business   0.0   \n",
       "7             married               0.0      M       employee   0.0   \n",
       "8   civil partnership               1.0      F       employee   0.0   \n",
       "9             married               0.0      M       employee   0.0   \n",
       "10            married               0.0      M       business   0.0   \n",
       "11            married               0.0      F       employee   0.0   \n",
       "12  civil partnership               1.0      M        retiree   0.0   \n",
       "13            married               0.0      F       employee   0.0   \n",
       "14  civil partnership               1.0      F       business   1.0   \n",
       "15            married               0.0      F       employee   0.0   \n",
       "16            married               0.0      F       employee   0.0   \n",
       "17  civil partnership               1.0      M       employee   0.0   \n",
       "18    widow / widower               2.0      F        retiree   0.0   \n",
       "19           divorced               3.0      F       employee   0.0   \n",
       "20            married               0.0      M       employee   0.0   \n",
       "21  civil partnership               1.0      F       employee   0.0   \n",
       "22  civil partnership               1.0      F       employee   0.0   \n",
       "23  civil partnership               1.0      M       employee   0.0   \n",
       "24          unmarried               4.0      F        retiree   0.0   \n",
       "25            married               0.0      M        retiree   0.0   \n",
       "26            married               0.0      M  civil servant   0.0   \n",
       "27            married               0.0      M       employee   0.0   \n",
       "28            married               0.0      F       employee   0.0   \n",
       "29          unmarried               4.0      F        retiree   0.0   \n",
       "\n",
       "    total_income                                   purpose age_category  \n",
       "0      40620.102                     purchase of the house  Age Group 3  \n",
       "1      17932.802                              car purchase  Age Group 3  \n",
       "2      23341.752                     purchase of the house  Age Group 2  \n",
       "3      42820.568                   supplementary education  Age Group 2  \n",
       "4      25378.572                         to have a wedding  Age Group 4  \n",
       "5      40922.170                     purchase of the house  Age Group 2  \n",
       "6      38484.156                      housing transactions  Age Group 3  \n",
       "7      21731.829                                 education  Age Group 4  \n",
       "8      15337.093                          having a wedding  Age Group 3  \n",
       "9      23108.150       purchase of the house for my family  Age Group 3  \n",
       "10     18230.959                           buy real estate  Age Group 3  \n",
       "11     12331.077                buy commercial real estate  Age Group 3  \n",
       "12           NaN                         to have a wedding  Age Group 4  \n",
       "13     20873.317                              car purchase  Age Group 4  \n",
       "14     26420.466               buy residential real estate  Age Group 4  \n",
       "15     18691.345              construction of own property  Age Group 2  \n",
       "16     46272.433                                  property  Age Group 3  \n",
       "17     14465.694                       building a property  Age Group 2  \n",
       "18      9091.804                  buying a second-hand car  Age Group 4  \n",
       "19     38852.977                         buying my own car  Age Group 3  \n",
       "20     33528.423                                  property  Age Group 3  \n",
       "21     21089.953                              car purchase  Age Group 2  \n",
       "22     23948.983                  buying a second-hand car  Age Group 1  \n",
       "23     20522.515                         to have a wedding  Age Group 1  \n",
       "24     46487.558  transactions with commercial real estate  Age Group 4  \n",
       "25      8818.041                           buy real estate  Age Group 4  \n",
       "26           NaN                                 education  Age Group 3  \n",
       "27     49415.837              construction of own property  Age Group 2  \n",
       "28     30058.118              construction of own property  Age Group 2  \n",
       "29           NaN                    building a real estate  Age Group 4  "
      ]
     },
     "execution_count": 37,
     "metadata": {},
     "output_type": "execute_result"
    }
   ],
   "source": [
    "# Checking how values in the new column\n",
    "bank_data.head(30)\n"
   ]
  },
  {
   "cell_type": "markdown",
   "metadata": {},
   "source": [
    "We created the new column **age_category**, now we can check whether age categorization is a good factor to use in order to refill our missing values in the **total_income** column."
   ]
  },
  {
   "cell_type": "code",
   "execution_count": 38,
   "metadata": {},
   "outputs": [],
   "source": [
    "# Create a table without missing values and print a few of its rows to make sure it looks fine\n",
    "no_missing_data = bank_data[bank_data['total_income'].notna()]"
   ]
  },
  {
   "cell_type": "code",
   "execution_count": 39,
   "metadata": {},
   "outputs": [
    {
     "data": {
      "text/plain": [
       "age_category\n",
       "Age Group 1    22703.351103\n",
       "Age Group 2    27337.934929\n",
       "Age Group 3    28583.378718\n",
       "Age Group 4    24833.682909\n",
       "Name: total_income, dtype: float64"
      ]
     },
     "execution_count": 39,
     "metadata": {},
     "output_type": "execute_result"
    }
   ],
   "source": [
    "# Look at the mean values for income based on your identified factors\n",
    "no_missing_data.groupby('age_category')['total_income'].mean()"
   ]
  },
  {
   "cell_type": "code",
   "execution_count": 40,
   "metadata": {
    "scrolled": true
   },
   "outputs": [
    {
     "data": {
      "text/plain": [
       "age_category\n",
       "Age Group 1    20572.209\n",
       "Age Group 2    23990.901\n",
       "Age Group 3    24795.835\n",
       "Age Group 4    21387.208\n",
       "Name: total_income, dtype: float64"
      ]
     },
     "execution_count": 40,
     "metadata": {},
     "output_type": "execute_result"
    }
   ],
   "source": [
    "# Look at the median values for income based on your identified factors\n",
    "no_missing_data.groupby('age_category')['total_income'].median()"
   ]
  },
  {
   "cell_type": "markdown",
   "metadata": {},
   "source": [
    "We also want to consider other factors to refill the missing values in the **total_income** column like; **education** and **income_type**."
   ]
  },
  {
   "cell_type": "code",
   "execution_count": 41,
   "metadata": {},
   "outputs": [
    {
     "data": {
      "text/html": [
       "<div>\n",
       "<style scoped>\n",
       "    .dataframe tbody tr th:only-of-type {\n",
       "        vertical-align: middle;\n",
       "    }\n",
       "\n",
       "    .dataframe tbody tr th {\n",
       "        vertical-align: top;\n",
       "    }\n",
       "\n",
       "    .dataframe thead tr th {\n",
       "        text-align: left;\n",
       "    }\n",
       "\n",
       "    .dataframe thead tr:last-of-type th {\n",
       "        text-align: right;\n",
       "    }\n",
       "</style>\n",
       "<table border=\"1\" class=\"dataframe\">\n",
       "  <thead>\n",
       "    <tr>\n",
       "      <th></th>\n",
       "      <th colspan=\"2\" halign=\"left\">total_income</th>\n",
       "    </tr>\n",
       "    <tr>\n",
       "      <th></th>\n",
       "      <th>mean</th>\n",
       "      <th>median</th>\n",
       "    </tr>\n",
       "    <tr>\n",
       "      <th>education</th>\n",
       "      <th></th>\n",
       "      <th></th>\n",
       "    </tr>\n",
       "  </thead>\n",
       "  <tbody>\n",
       "    <tr>\n",
       "      <td>bachelor's degree</td>\n",
       "      <td>33172.428387</td>\n",
       "      <td>28054.5310</td>\n",
       "    </tr>\n",
       "    <tr>\n",
       "      <td>graduate degree</td>\n",
       "      <td>27960.024667</td>\n",
       "      <td>25161.5835</td>\n",
       "    </tr>\n",
       "    <tr>\n",
       "      <td>primary education</td>\n",
       "      <td>21144.882211</td>\n",
       "      <td>18741.9760</td>\n",
       "    </tr>\n",
       "    <tr>\n",
       "      <td>secondary education</td>\n",
       "      <td>24600.353617</td>\n",
       "      <td>21839.4075</td>\n",
       "    </tr>\n",
       "    <tr>\n",
       "      <td>some college</td>\n",
       "      <td>29040.391842</td>\n",
       "      <td>25618.4640</td>\n",
       "    </tr>\n",
       "  </tbody>\n",
       "</table>\n",
       "</div>"
      ],
      "text/plain": [
       "                     total_income            \n",
       "                             mean      median\n",
       "education                                    \n",
       "bachelor's degree    33172.428387  28054.5310\n",
       "graduate degree      27960.024667  25161.5835\n",
       "primary education    21144.882211  18741.9760\n",
       "secondary education  24600.353617  21839.4075\n",
       "some college         29040.391842  25618.4640"
      ]
     },
     "execution_count": 41,
     "metadata": {},
     "output_type": "execute_result"
    }
   ],
   "source": [
    "# Look at the median/mean values for income based on your identified factors\n",
    "no_missing_data.groupby('education').agg({'total_income' : ['mean', 'median']})"
   ]
  },
  {
   "cell_type": "code",
   "execution_count": 42,
   "metadata": {},
   "outputs": [
    {
     "data": {
      "text/html": [
       "<div>\n",
       "<style scoped>\n",
       "    .dataframe tbody tr th:only-of-type {\n",
       "        vertical-align: middle;\n",
       "    }\n",
       "\n",
       "    .dataframe tbody tr th {\n",
       "        vertical-align: top;\n",
       "    }\n",
       "\n",
       "    .dataframe thead tr th {\n",
       "        text-align: left;\n",
       "    }\n",
       "\n",
       "    .dataframe thead tr:last-of-type th {\n",
       "        text-align: right;\n",
       "    }\n",
       "</style>\n",
       "<table border=\"1\" class=\"dataframe\">\n",
       "  <thead>\n",
       "    <tr>\n",
       "      <th></th>\n",
       "      <th colspan=\"2\" halign=\"left\">total_income</th>\n",
       "    </tr>\n",
       "    <tr>\n",
       "      <th></th>\n",
       "      <th>mean</th>\n",
       "      <th>median</th>\n",
       "    </tr>\n",
       "    <tr>\n",
       "      <th>income_type</th>\n",
       "      <th></th>\n",
       "      <th></th>\n",
       "    </tr>\n",
       "  </thead>\n",
       "  <tbody>\n",
       "    <tr>\n",
       "      <td>business</td>\n",
       "      <td>32397.357125</td>\n",
       "      <td>27564.8930</td>\n",
       "    </tr>\n",
       "    <tr>\n",
       "      <td>civil servant</td>\n",
       "      <td>27361.316126</td>\n",
       "      <td>24083.5065</td>\n",
       "    </tr>\n",
       "    <tr>\n",
       "      <td>employee</td>\n",
       "      <td>25824.679592</td>\n",
       "      <td>22815.1035</td>\n",
       "    </tr>\n",
       "    <tr>\n",
       "      <td>entrepreneur</td>\n",
       "      <td>79866.103000</td>\n",
       "      <td>79866.1030</td>\n",
       "    </tr>\n",
       "    <tr>\n",
       "      <td>paternity / maternity leave</td>\n",
       "      <td>8612.661000</td>\n",
       "      <td>8612.6610</td>\n",
       "    </tr>\n",
       "    <tr>\n",
       "      <td>retiree</td>\n",
       "      <td>21939.310393</td>\n",
       "      <td>18969.1490</td>\n",
       "    </tr>\n",
       "    <tr>\n",
       "      <td>student</td>\n",
       "      <td>15712.260000</td>\n",
       "      <td>15712.2600</td>\n",
       "    </tr>\n",
       "    <tr>\n",
       "      <td>unemployed</td>\n",
       "      <td>21014.360500</td>\n",
       "      <td>21014.3605</td>\n",
       "    </tr>\n",
       "  </tbody>\n",
       "</table>\n",
       "</div>"
      ],
      "text/plain": [
       "                             total_income            \n",
       "                                     mean      median\n",
       "income_type                                          \n",
       "business                     32397.357125  27564.8930\n",
       "civil servant                27361.316126  24083.5065\n",
       "employee                     25824.679592  22815.1035\n",
       "entrepreneur                 79866.103000  79866.1030\n",
       "paternity / maternity leave   8612.661000   8612.6610\n",
       "retiree                      21939.310393  18969.1490\n",
       "student                      15712.260000  15712.2600\n",
       "unemployed                   21014.360500  21014.3605"
      ]
     },
     "execution_count": 42,
     "metadata": {},
     "output_type": "execute_result"
    }
   ],
   "source": [
    "# Look at the median/mean values for income based on your identified factors\n",
    "no_missing_data.groupby('income_type').agg({'total_income' : ['mean', 'median']})"
   ]
  },
  {
   "cell_type": "markdown",
   "metadata": {},
   "source": [
    "We decided to choose the  **income_type** in order to refill the missing values in **total_income** because we think that the income type is most representitative over an individual income. Besides, the **income_type** is the more versatile column in terms of unique values and it covers more categories than other factors.\n",
    "We also decided to favor the use of **median** over **mean** in this case because in most cases mean is >10% bigger than the median which means there are some customers with very high incomes that push the mean up thus using the mean here doesn't reflect the data in the best way.\n",
    "\n",
    "Next we want to refill the data according to the conclusion we reach to, first we start with writing a refill function:"
   ]
  },
  {
   "cell_type": "code",
   "execution_count": 43,
   "metadata": {},
   "outputs": [],
   "source": [
    "#  Write a function that we will use for filling in missing values\n",
    "def fill_missing_incomes(row):\n",
    "    if not row['total_income'] >= 0:\n",
    "        median = no_missing_data.groupby('income_type')['total_income'].median()\n",
    "        return median[row['income_type']]\n",
    "    else:\n",
    "        return row['total_income']\n",
    "        "
   ]
  },
  {
   "cell_type": "code",
   "execution_count": 44,
   "metadata": {},
   "outputs": [
    {
     "name": "stdout",
     "output_type": "stream",
     "text": [
      "18969.148999999998\n"
     ]
    }
   ],
   "source": [
    "# Check if it works\n",
    "print(fill_missing_incomes(bank_data.loc[12]))"
   ]
  },
  {
   "cell_type": "code",
   "execution_count": 45,
   "metadata": {},
   "outputs": [],
   "source": [
    "# Apply it to every row\n",
    "bank_data['total_income'] = bank_data.apply(fill_missing_incomes, axis=1)"
   ]
  },
  {
   "cell_type": "code",
   "execution_count": 46,
   "metadata": {},
   "outputs": [
    {
     "name": "stdout",
     "output_type": "stream",
     "text": [
      "<class 'pandas.core.frame.DataFrame'>\n",
      "RangeIndex: 21424 entries, 0 to 21423\n",
      "Data columns (total 13 columns):\n",
      "children            21424 non-null float64\n",
      "days_employed       19260 non-null float64\n",
      "dob_years           21424 non-null float64\n",
      "education           21424 non-null object\n",
      "education_id        21424 non-null float64\n",
      "family_status       21424 non-null object\n",
      "family_status_id    21424 non-null float64\n",
      "gender              21424 non-null object\n",
      "income_type         21424 non-null object\n",
      "debt                21424 non-null float64\n",
      "total_income        21424 non-null float64\n",
      "purpose             21424 non-null object\n",
      "age_category        21424 non-null object\n",
      "dtypes: float64(7), object(6)\n",
      "memory usage: 2.1+ MB\n"
     ]
    }
   ],
   "source": [
    "# Check if we got any errors\n",
    "bank_data.info()"
   ]
  },
  {
   "cell_type": "markdown",
   "metadata": {},
   "source": [
    "We obviously can see that now we have 21424/21424 values in the **total_income** column which means there is no missing values no more."
   ]
  },
  {
   "cell_type": "markdown",
   "metadata": {},
   "source": [
    "<div class=\"alert alert-block alert-success\">\n",
    "<b>Reviewer's comment</b> <a class=\"tocSkip\"></a>\n",
    "Great job. Missing in the \"total_income\" column are filled in correctly and logically. You're doing great!\n",
    "</div>"
   ]
  },
  {
   "cell_type": "markdown",
   "metadata": {},
   "source": [
    "###  Restoring values in `days_employed`\n",
    "Below we will refill missing values in the **days_employed** column according to the factors we mentioned earlier. But first lets check the correlation between **days_employed** and several other factors in order to decide which factor is the most representitative to be used to refill the missing values."
   ]
  },
  {
   "cell_type": "code",
   "execution_count": 47,
   "metadata": {
    "pycharm": {
     "name": "#%%\n"
    }
   },
   "outputs": [
    {
     "data": {
      "text/html": [
       "<div>\n",
       "<style scoped>\n",
       "    .dataframe tbody tr th:only-of-type {\n",
       "        vertical-align: middle;\n",
       "    }\n",
       "\n",
       "    .dataframe tbody tr th {\n",
       "        vertical-align: top;\n",
       "    }\n",
       "\n",
       "    .dataframe thead tr th {\n",
       "        text-align: left;\n",
       "    }\n",
       "\n",
       "    .dataframe thead tr:last-of-type th {\n",
       "        text-align: right;\n",
       "    }\n",
       "</style>\n",
       "<table border=\"1\" class=\"dataframe\">\n",
       "  <thead>\n",
       "    <tr>\n",
       "      <th></th>\n",
       "      <th></th>\n",
       "      <th colspan=\"2\" halign=\"left\">days_employed</th>\n",
       "    </tr>\n",
       "    <tr>\n",
       "      <th></th>\n",
       "      <th></th>\n",
       "      <th>mean</th>\n",
       "      <th>median</th>\n",
       "    </tr>\n",
       "    <tr>\n",
       "      <th>income_type</th>\n",
       "      <th>age_category</th>\n",
       "      <th></th>\n",
       "      <th></th>\n",
       "    </tr>\n",
       "  </thead>\n",
       "  <tbody>\n",
       "    <tr>\n",
       "      <td rowspan=\"4\" valign=\"top\">business</td>\n",
       "      <td>Age Group 1</td>\n",
       "      <td>33.064881</td>\n",
       "      <td>28.998706</td>\n",
       "    </tr>\n",
       "    <tr>\n",
       "      <td>Age Group 2</td>\n",
       "      <td>61.705389</td>\n",
       "      <td>48.687276</td>\n",
       "    </tr>\n",
       "    <tr>\n",
       "      <td>Age Group 3</td>\n",
       "      <td>96.457813</td>\n",
       "      <td>75.790021</td>\n",
       "    </tr>\n",
       "    <tr>\n",
       "      <td>Age Group 4</td>\n",
       "      <td>122.131050</td>\n",
       "      <td>86.089392</td>\n",
       "    </tr>\n",
       "    <tr>\n",
       "      <td rowspan=\"4\" valign=\"top\">civil servant</td>\n",
       "      <td>Age Group 1</td>\n",
       "      <td>40.639499</td>\n",
       "      <td>38.432189</td>\n",
       "    </tr>\n",
       "    <tr>\n",
       "      <td>Age Group 2</td>\n",
       "      <td>83.494639</td>\n",
       "      <td>77.704239</td>\n",
       "    </tr>\n",
       "    <tr>\n",
       "      <td>Age Group 3</td>\n",
       "      <td>157.204027</td>\n",
       "      <td>140.430529</td>\n",
       "    </tr>\n",
       "    <tr>\n",
       "      <td>Age Group 4</td>\n",
       "      <td>197.230892</td>\n",
       "      <td>156.132698</td>\n",
       "    </tr>\n",
       "    <tr>\n",
       "      <td rowspan=\"4\" valign=\"top\">employee</td>\n",
       "      <td>Age Group 1</td>\n",
       "      <td>36.411008</td>\n",
       "      <td>32.073291</td>\n",
       "    </tr>\n",
       "    <tr>\n",
       "      <td>Age Group 2</td>\n",
       "      <td>65.946306</td>\n",
       "      <td>53.086425</td>\n",
       "    </tr>\n",
       "    <tr>\n",
       "      <td>Age Group 3</td>\n",
       "      <td>104.843795</td>\n",
       "      <td>75.916553</td>\n",
       "    </tr>\n",
       "    <tr>\n",
       "      <td>Age Group 4</td>\n",
       "      <td>139.465015</td>\n",
       "      <td>95.581961</td>\n",
       "    </tr>\n",
       "    <tr>\n",
       "      <td rowspan=\"2\" valign=\"top\">entrepreneur</td>\n",
       "      <td>Age Group 2</td>\n",
       "      <td>21.702003</td>\n",
       "      <td>21.702003</td>\n",
       "    </tr>\n",
       "    <tr>\n",
       "      <td>Age Group 4</td>\n",
       "      <td>NaN</td>\n",
       "      <td>NaN</td>\n",
       "    </tr>\n",
       "    <tr>\n",
       "      <td>paternity / maternity leave</td>\n",
       "      <td>Age Group 3</td>\n",
       "      <td>137.364998</td>\n",
       "      <td>137.364998</td>\n",
       "    </tr>\n",
       "    <tr>\n",
       "      <td rowspan=\"4\" valign=\"top\">retiree</td>\n",
       "      <td>Age Group 1</td>\n",
       "      <td>13948.510826</td>\n",
       "      <td>13948.510826</td>\n",
       "    </tr>\n",
       "    <tr>\n",
       "      <td>Age Group 2</td>\n",
       "      <td>15171.566528</td>\n",
       "      <td>15268.837661</td>\n",
       "    </tr>\n",
       "    <tr>\n",
       "      <td>Age Group 3</td>\n",
       "      <td>15285.831115</td>\n",
       "      <td>15285.042446</td>\n",
       "    </tr>\n",
       "    <tr>\n",
       "      <td>Age Group 4</td>\n",
       "      <td>15206.050157</td>\n",
       "      <td>15207.727471</td>\n",
       "    </tr>\n",
       "    <tr>\n",
       "      <td>student</td>\n",
       "      <td>Age Group 1</td>\n",
       "      <td>24.114648</td>\n",
       "      <td>24.114648</td>\n",
       "    </tr>\n",
       "    <tr>\n",
       "      <td rowspan=\"2\" valign=\"top\">unemployed</td>\n",
       "      <td>Age Group 2</td>\n",
       "      <td>14063.519451</td>\n",
       "      <td>14063.519451</td>\n",
       "    </tr>\n",
       "    <tr>\n",
       "      <td>Age Group 3</td>\n",
       "      <td>16470.951611</td>\n",
       "      <td>16470.951611</td>\n",
       "    </tr>\n",
       "  </tbody>\n",
       "</table>\n",
       "</div>"
      ],
      "text/plain": [
       "                                         days_employed              \n",
       "                                                  mean        median\n",
       "income_type                 age_category                            \n",
       "business                    Age Group 1      33.064881     28.998706\n",
       "                            Age Group 2      61.705389     48.687276\n",
       "                            Age Group 3      96.457813     75.790021\n",
       "                            Age Group 4     122.131050     86.089392\n",
       "civil servant               Age Group 1      40.639499     38.432189\n",
       "                            Age Group 2      83.494639     77.704239\n",
       "                            Age Group 3     157.204027    140.430529\n",
       "                            Age Group 4     197.230892    156.132698\n",
       "employee                    Age Group 1      36.411008     32.073291\n",
       "                            Age Group 2      65.946306     53.086425\n",
       "                            Age Group 3     104.843795     75.916553\n",
       "                            Age Group 4     139.465015     95.581961\n",
       "entrepreneur                Age Group 2      21.702003     21.702003\n",
       "                            Age Group 4            NaN           NaN\n",
       "paternity / maternity leave Age Group 3     137.364998    137.364998\n",
       "retiree                     Age Group 1   13948.510826  13948.510826\n",
       "                            Age Group 2   15171.566528  15268.837661\n",
       "                            Age Group 3   15285.831115  15285.042446\n",
       "                            Age Group 4   15206.050157  15207.727471\n",
       "student                     Age Group 1      24.114648     24.114648\n",
       "unemployed                  Age Group 2   14063.519451  14063.519451\n",
       "                            Age Group 3   16470.951611  16470.951611"
      ]
     },
     "execution_count": 47,
     "metadata": {},
     "output_type": "execute_result"
    }
   ],
   "source": [
    "# Distribution of `days_employed` medians based on your identified parameters\n",
    "no_missing_data = bank_data[bank_data['total_income'].notna()]\n",
    "no_missing_data.groupby(['income_type', 'age_category']).agg({'days_employed' : ['mean', 'median']})"
   ]
  },
  {
   "cell_type": "code",
   "execution_count": 48,
   "metadata": {},
   "outputs": [
    {
     "data": {
      "text/html": [
       "<div>\n",
       "<style scoped>\n",
       "    .dataframe tbody tr th:only-of-type {\n",
       "        vertical-align: middle;\n",
       "    }\n",
       "\n",
       "    .dataframe tbody tr th {\n",
       "        vertical-align: top;\n",
       "    }\n",
       "\n",
       "    .dataframe thead tr th {\n",
       "        text-align: left;\n",
       "    }\n",
       "\n",
       "    .dataframe thead tr:last-of-type th {\n",
       "        text-align: right;\n",
       "    }\n",
       "</style>\n",
       "<table border=\"1\" class=\"dataframe\">\n",
       "  <thead>\n",
       "    <tr>\n",
       "      <th></th>\n",
       "      <th colspan=\"2\" halign=\"left\">days_employed</th>\n",
       "    </tr>\n",
       "    <tr>\n",
       "      <th></th>\n",
       "      <th>mean</th>\n",
       "      <th>median</th>\n",
       "    </tr>\n",
       "    <tr>\n",
       "      <th>age_category</th>\n",
       "      <th></th>\n",
       "      <th></th>\n",
       "    </tr>\n",
       "  </thead>\n",
       "  <tbody>\n",
       "    <tr>\n",
       "      <td>Age Group 1</td>\n",
       "      <td>53.443768</td>\n",
       "      <td>31.022589</td>\n",
       "    </tr>\n",
       "    <tr>\n",
       "      <td>Age Group 2</td>\n",
       "      <td>114.937151</td>\n",
       "      <td>53.842542</td>\n",
       "    </tr>\n",
       "    <tr>\n",
       "      <td>Age Group 3</td>\n",
       "      <td>411.425535</td>\n",
       "      <td>82.684296</td>\n",
       "    </tr>\n",
       "    <tr>\n",
       "      <td>Age Group 4</td>\n",
       "      <td>7781.781237</td>\n",
       "      <td>13739.269426</td>\n",
       "    </tr>\n",
       "  </tbody>\n",
       "</table>\n",
       "</div>"
      ],
      "text/plain": [
       "             days_employed              \n",
       "                      mean        median\n",
       "age_category                            \n",
       "Age Group 1      53.443768     31.022589\n",
       "Age Group 2     114.937151     53.842542\n",
       "Age Group 3     411.425535     82.684296\n",
       "Age Group 4    7781.781237  13739.269426"
      ]
     },
     "execution_count": 48,
     "metadata": {},
     "output_type": "execute_result"
    }
   ],
   "source": [
    "no_missing_data.groupby('age_category').agg({'days_employed' : ['mean', 'median']})"
   ]
  },
  {
   "cell_type": "code",
   "execution_count": 49,
   "metadata": {},
   "outputs": [
    {
     "data": {
      "text/html": [
       "<div>\n",
       "<style scoped>\n",
       "    .dataframe tbody tr th:only-of-type {\n",
       "        vertical-align: middle;\n",
       "    }\n",
       "\n",
       "    .dataframe tbody tr th {\n",
       "        vertical-align: top;\n",
       "    }\n",
       "\n",
       "    .dataframe thead tr th {\n",
       "        text-align: left;\n",
       "    }\n",
       "\n",
       "    .dataframe thead tr:last-of-type th {\n",
       "        text-align: right;\n",
       "    }\n",
       "</style>\n",
       "<table border=\"1\" class=\"dataframe\">\n",
       "  <thead>\n",
       "    <tr>\n",
       "      <th></th>\n",
       "      <th colspan=\"2\" halign=\"left\">days_employed</th>\n",
       "    </tr>\n",
       "    <tr>\n",
       "      <th></th>\n",
       "      <th>mean</th>\n",
       "      <th>median</th>\n",
       "    </tr>\n",
       "    <tr>\n",
       "      <th>income_type</th>\n",
       "      <th></th>\n",
       "      <th></th>\n",
       "    </tr>\n",
       "  </thead>\n",
       "  <tbody>\n",
       "    <tr>\n",
       "      <td>business</td>\n",
       "      <td>88.033264</td>\n",
       "      <td>64.526564</td>\n",
       "    </tr>\n",
       "    <tr>\n",
       "      <td>civil servant</td>\n",
       "      <td>141.187856</td>\n",
       "      <td>111.391873</td>\n",
       "    </tr>\n",
       "    <tr>\n",
       "      <td>employee</td>\n",
       "      <td>97.025155</td>\n",
       "      <td>65.669487</td>\n",
       "    </tr>\n",
       "    <tr>\n",
       "      <td>entrepreneur</td>\n",
       "      <td>21.702003</td>\n",
       "      <td>21.702003</td>\n",
       "    </tr>\n",
       "    <tr>\n",
       "      <td>paternity / maternity leave</td>\n",
       "      <td>137.364998</td>\n",
       "      <td>137.364998</td>\n",
       "    </tr>\n",
       "    <tr>\n",
       "      <td>retiree</td>\n",
       "      <td>15208.988648</td>\n",
       "      <td>15215.680699</td>\n",
       "    </tr>\n",
       "    <tr>\n",
       "      <td>student</td>\n",
       "      <td>24.114648</td>\n",
       "      <td>24.114648</td>\n",
       "    </tr>\n",
       "    <tr>\n",
       "      <td>unemployed</td>\n",
       "      <td>15267.235531</td>\n",
       "      <td>15267.235531</td>\n",
       "    </tr>\n",
       "  </tbody>\n",
       "</table>\n",
       "</div>"
      ],
      "text/plain": [
       "                            days_employed              \n",
       "                                     mean        median\n",
       "income_type                                            \n",
       "business                        88.033264     64.526564\n",
       "civil servant                  141.187856    111.391873\n",
       "employee                        97.025155     65.669487\n",
       "entrepreneur                    21.702003     21.702003\n",
       "paternity / maternity leave    137.364998    137.364998\n",
       "retiree                      15208.988648  15215.680699\n",
       "student                         24.114648     24.114648\n",
       "unemployed                   15267.235531  15267.235531"
      ]
     },
     "execution_count": 49,
     "metadata": {},
     "output_type": "execute_result"
    }
   ],
   "source": [
    "no_missing_data.groupby('income_type').agg({'days_employed' : ['mean', 'median']})"
   ]
  },
  {
   "cell_type": "markdown",
   "metadata": {},
   "source": [
    "According to the data we gathered so far, we decided to refill missing values in the **days_employed** column according the **age_category** because it represents it more than **income_type**. **income_type** doesn't really give perfect insight about **days_employed**, while **age_category** could be a better representatitive because most people of the similar age groups tend to work similar work hours/days since this is how our world works.\n",
    "We also decided to favor the **mean** this time due to the close results of mean and median."
   ]
  },
  {
   "cell_type": "code",
   "execution_count": 50,
   "metadata": {},
   "outputs": [],
   "source": [
    "# Let's write a function that calculates means or medians (depending on your decision) based on your identified parameter\n",
    "def fill_missing_days(row):\n",
    "    if not row['days_employed'] >= 0:\n",
    "        mean = no_missing_data.groupby('age_category')['days_employed'].mean()\n",
    "        return mean[row['age_category']]\n",
    "    else:\n",
    "        return row['days_employed']"
   ]
  },
  {
   "cell_type": "code",
   "execution_count": 51,
   "metadata": {
    "scrolled": true
   },
   "outputs": [
    {
     "data": {
      "text/plain": [
       "411.42553533149845"
      ]
     },
     "execution_count": 51,
     "metadata": {},
     "output_type": "execute_result"
    }
   ],
   "source": [
    "# Check that the function works\n",
    "fill_missing_days(bank_data.loc[26])\n"
   ]
  },
  {
   "cell_type": "code",
   "execution_count": 52,
   "metadata": {},
   "outputs": [],
   "source": [
    "# Replacing missing values\n",
    "bank_data['days_employed'] = bank_data.apply(fill_missing_days, axis=1)\n"
   ]
  },
  {
   "cell_type": "code",
   "execution_count": 53,
   "metadata": {
    "scrolled": true
   },
   "outputs": [
    {
     "name": "stdout",
     "output_type": "stream",
     "text": [
      "<class 'pandas.core.frame.DataFrame'>\n",
      "RangeIndex: 21424 entries, 0 to 21423\n",
      "Data columns (total 13 columns):\n",
      "children            21424 non-null float64\n",
      "days_employed       21424 non-null float64\n",
      "dob_years           21424 non-null float64\n",
      "education           21424 non-null object\n",
      "education_id        21424 non-null float64\n",
      "family_status       21424 non-null object\n",
      "family_status_id    21424 non-null float64\n",
      "gender              21424 non-null object\n",
      "income_type         21424 non-null object\n",
      "debt                21424 non-null float64\n",
      "total_income        21424 non-null float64\n",
      "purpose             21424 non-null object\n",
      "age_category        21424 non-null object\n",
      "dtypes: float64(7), object(6)\n",
      "memory usage: 2.1+ MB\n"
     ]
    }
   ],
   "source": [
    "# Check the entries in all columns - make sure we fixed all missing values\n",
    "bank_data.info()"
   ]
  },
  {
   "cell_type": "markdown",
   "metadata": {},
   "source": [
    "Obviously, also here, we can see that we have 21424/21424 values on the **days_employed** column and this means that all missing values were filled (with the mean of each customer's age category)"
   ]
  },
  {
   "cell_type": "markdown",
   "metadata": {},
   "source": [
    "<div class=\"alert alert-block alert-danger\">\n",
    "<b>Reviewer's comment</b> <a class=\"tocSkip\"></a>\n",
    "\n",
    "~~A very important quality of data analytics is the desire to understand why such data is presented in the data set and if there is a lot of it, is it possible to correct the situation on our own in order to answer questions of interest. There was a situation with the \"days_employed\" column when the data is presented not in the form of days that is convenient for us, but in the format of hours. Therefore, to get the correct numbers, you need to convert hours to days. Please complete this step.~~\n",
    "</div>\n",
    "\n",
    "<div class=\"alert alert-block alert-info\">\n",
    "<b>Student answer</b> I fixed this issue in the data transformation section rather in this one, thanks for the comment!<a class=\"tocSkip\"></a>\n",
    "</div>"
   ]
  },
  {
   "cell_type": "markdown",
   "metadata": {},
   "source": [
    "<div class=\"alert alert-block alert-warning\">\n",
    "<b>Reviewer's comment</b> <a class=\"tocSkip\"></a>\n",
    "Thanks for correction. Please note that sometimes you have to find out of all the data only those that correspond to reality and correct only them :) This is because, ideally, it was necessary to make an adjustment not for the entire column, but only for a certain category.\n",
    "</div>"
   ]
  },
  {
   "cell_type": "markdown",
   "metadata": {},
   "source": [
    "## Categorization of data\n",
    "\n",
    "To answer the questions and test the hypotheses, we will want to work with categorized data. This way we can be more specific when testing our hypotheses on a very versatile column. \n",
    "\n",
    "Among the very versatile datas are **purpose** and **total_income** therefore we are going to categorize these data into:\n",
    "\n",
    "**purpose** - several categories; Wedding, Housing, Education and Car purchase.\n",
    "**total_income** - several levels; Very high, High, Normal, Average, Below average and Low.\n"
   ]
  },
  {
   "cell_type": "code",
   "execution_count": 54,
   "metadata": {
    "scrolled": true
   },
   "outputs": [
    {
     "data": {
      "text/plain": [
       "0          purchase of the house\n",
       "1                   car purchase\n",
       "2          purchase of the house\n",
       "3        supplementary education\n",
       "4              to have a wedding\n",
       "                  ...           \n",
       "21419       housing transactions\n",
       "21420          purchase of a car\n",
       "21421                   property\n",
       "21422          buying my own car\n",
       "21423               to buy a car\n",
       "Name: purpose, Length: 21424, dtype: object"
      ]
     },
     "execution_count": 54,
     "metadata": {},
     "output_type": "execute_result"
    }
   ],
   "source": [
    "# Print the values for your selected data for categorization\n",
    "bank_data['purpose']"
   ]
  },
  {
   "cell_type": "code",
   "execution_count": 55,
   "metadata": {},
   "outputs": [
    {
     "data": {
      "text/plain": [
       "array(['purchase of the house', 'car purchase', 'supplementary education',\n",
       "       'to have a wedding', 'housing transactions', 'education',\n",
       "       'having a wedding', 'purchase of the house for my family',\n",
       "       'buy real estate', 'buy commercial real estate',\n",
       "       'buy residential real estate', 'construction of own property',\n",
       "       'property', 'building a property', 'buying a second-hand car',\n",
       "       'buying my own car', 'transactions with commercial real estate',\n",
       "       'building a real estate', 'housing',\n",
       "       'transactions with my real estate', 'cars', 'to become educated',\n",
       "       'second-hand car purchase', 'getting an education', 'car',\n",
       "       'wedding ceremony', 'to get a supplementary education',\n",
       "       'purchase of my own house', 'real estate transactions',\n",
       "       'getting higher education', 'to own a car', 'purchase of a car',\n",
       "       'profile education', 'university education',\n",
       "       'buying property for renting out', 'to buy a car',\n",
       "       'housing renovation', 'going to university'], dtype=object)"
      ]
     },
     "execution_count": 55,
     "metadata": {},
     "output_type": "execute_result"
    }
   ],
   "source": [
    "# Check the unique values\n",
    "bank_data['purpose'].unique()"
   ]
  },
  {
   "cell_type": "code",
   "execution_count": 56,
   "metadata": {},
   "outputs": [
    {
     "name": "stdout",
     "output_type": "stream",
     "text": [
      "wed\n",
      "hous\n",
      "car\n",
      "properti\n",
      "estat\n",
      "educ\n",
      "univers\n"
     ]
    }
   ],
   "source": [
    "# Getting the stems of each purpose in order to use later\n",
    "english_stemmer = SnowballStemmer('english')\n",
    "list_of_purposes = ['wedding', 'house', 'car', 'property', 'estate', 'education', 'university']\n",
    "for word in list_of_purposes:\n",
    "    print(english_stemmer.stem(word))"
   ]
  },
  {
   "cell_type": "code",
   "execution_count": 57,
   "metadata": {},
   "outputs": [],
   "source": [
    "# Let's write a function to categorize the data based on common topics\n",
    "def get_purpose_category(purpose):\n",
    "    list_of_stems = {'wed': 'Wedding', 'car': 'Car purchase', 'properti': 'Housing', 'estat': 'Housing', 'educ': 'Education', 'hous': 'Housing', 'univers': 'Education'}\n",
    "    eng_stem = SnowballStemmer('english')\n",
    "    words = purpose.split(' ')\n",
    "    for word in words:\n",
    "        word = eng_stem.stem(word)\n",
    "        if word in list_of_stems:\n",
    "            return list_of_stems[word]\n",
    "    "
   ]
  },
  {
   "cell_type": "code",
   "execution_count": 58,
   "metadata": {},
   "outputs": [
    {
     "name": "stdout",
     "output_type": "stream",
     "text": [
      "Wedding\n",
      "Housing\n",
      "Education\n"
     ]
    }
   ],
   "source": [
    "# Test the function\n",
    "print(get_purpose_category('for the wedding'))\n",
    "print(get_purpose_category('to buy a house'))\n",
    "print(get_purpose_category('going for university'))"
   ]
  },
  {
   "cell_type": "code",
   "execution_count": 59,
   "metadata": {
    "scrolled": true
   },
   "outputs": [],
   "source": [
    "# Create a column with the categories and count the values for them\n",
    "bank_data['purpose_category'] = bank_data['purpose'].apply(get_purpose_category)"
   ]
  },
  {
   "cell_type": "code",
   "execution_count": 60,
   "metadata": {},
   "outputs": [
    {
     "data": {
      "text/plain": [
       "Housing         10793\n",
       "Car purchase     4293\n",
       "Education        4004\n",
       "Wedding          2334\n",
       "Name: purpose_category, dtype: int64"
      ]
     },
     "execution_count": 60,
     "metadata": {},
     "output_type": "execute_result"
    }
   ],
   "source": [
    "bank_data['purpose_category'].value_counts()"
   ]
  },
  {
   "cell_type": "markdown",
   "metadata": {},
   "source": [
    "<div class=\"alert alert-block alert-success\">\n",
    "<b>Reviewer's comment</b> <a class=\"tocSkip\"></a>\n",
    "All right!\n",
    "</div>"
   ]
  },
  {
   "cell_type": "markdown",
   "metadata": {},
   "source": [
    "Next we categorize the **total_income** into several **income levels**:"
   ]
  },
  {
   "cell_type": "code",
   "execution_count": 61,
   "metadata": {},
   "outputs": [],
   "source": [
    "# Looking through all the numerical data in your selected column for categorization\n",
    "def get_income_level(income):\n",
    "    if income <= 2500:\n",
    "        return 'Low'\n",
    "    if income <= 5000:\n",
    "        return 'Below Average'\n",
    "    if income <= 10000:\n",
    "        return 'Average'\n",
    "    if income <= 20000:\n",
    "        return 'Normal'\n",
    "    if income <= 50000:\n",
    "        return 'High'\n",
    "    else:\n",
    "        return 'Very high'"
   ]
  },
  {
   "cell_type": "code",
   "execution_count": 62,
   "metadata": {},
   "outputs": [
    {
     "name": "stdout",
     "output_type": "stream",
     "text": [
      "Low\n",
      "Average\n",
      "High\n",
      "Very high\n"
     ]
    }
   ],
   "source": [
    "# Test the function\n",
    "print(get_income_level(2499))\n",
    "print(get_income_level(10000))\n",
    "print(get_income_level(45000))\n",
    "print(get_income_level(350000))"
   ]
  },
  {
   "cell_type": "code",
   "execution_count": 63,
   "metadata": {},
   "outputs": [],
   "source": [
    "# Applying the function to every row\n",
    "bank_data['income_level'] = bank_data['total_income'].apply(get_income_level)"
   ]
  },
  {
   "cell_type": "code",
   "execution_count": 64,
   "metadata": {},
   "outputs": [
    {
     "data": {
      "text/html": [
       "<div>\n",
       "<style scoped>\n",
       "    .dataframe tbody tr th:only-of-type {\n",
       "        vertical-align: middle;\n",
       "    }\n",
       "\n",
       "    .dataframe tbody tr th {\n",
       "        vertical-align: top;\n",
       "    }\n",
       "\n",
       "    .dataframe thead th {\n",
       "        text-align: right;\n",
       "    }\n",
       "</style>\n",
       "<table border=\"1\" class=\"dataframe\">\n",
       "  <thead>\n",
       "    <tr style=\"text-align: right;\">\n",
       "      <th></th>\n",
       "      <th>children</th>\n",
       "      <th>days_employed</th>\n",
       "      <th>dob_years</th>\n",
       "      <th>education</th>\n",
       "      <th>education_id</th>\n",
       "      <th>family_status</th>\n",
       "      <th>family_status_id</th>\n",
       "      <th>gender</th>\n",
       "      <th>income_type</th>\n",
       "      <th>debt</th>\n",
       "      <th>total_income</th>\n",
       "      <th>purpose</th>\n",
       "      <th>age_category</th>\n",
       "      <th>purpose_category</th>\n",
       "      <th>income_level</th>\n",
       "    </tr>\n",
       "  </thead>\n",
       "  <tbody>\n",
       "    <tr>\n",
       "      <td>0</td>\n",
       "      <td>1.0</td>\n",
       "      <td>351.569709</td>\n",
       "      <td>42.0</td>\n",
       "      <td>bachelor's degree</td>\n",
       "      <td>0.0</td>\n",
       "      <td>married</td>\n",
       "      <td>0.0</td>\n",
       "      <td>F</td>\n",
       "      <td>employee</td>\n",
       "      <td>0.0</td>\n",
       "      <td>40620.1020</td>\n",
       "      <td>purchase of the house</td>\n",
       "      <td>Age Group 3</td>\n",
       "      <td>Housing</td>\n",
       "      <td>High</td>\n",
       "    </tr>\n",
       "    <tr>\n",
       "      <td>1</td>\n",
       "      <td>1.0</td>\n",
       "      <td>167.700156</td>\n",
       "      <td>36.0</td>\n",
       "      <td>secondary education</td>\n",
       "      <td>1.0</td>\n",
       "      <td>married</td>\n",
       "      <td>0.0</td>\n",
       "      <td>F</td>\n",
       "      <td>employee</td>\n",
       "      <td>0.0</td>\n",
       "      <td>17932.8020</td>\n",
       "      <td>car purchase</td>\n",
       "      <td>Age Group 3</td>\n",
       "      <td>Car purchase</td>\n",
       "      <td>Normal</td>\n",
       "    </tr>\n",
       "    <tr>\n",
       "      <td>2</td>\n",
       "      <td>0.0</td>\n",
       "      <td>234.309275</td>\n",
       "      <td>33.0</td>\n",
       "      <td>secondary education</td>\n",
       "      <td>1.0</td>\n",
       "      <td>married</td>\n",
       "      <td>0.0</td>\n",
       "      <td>M</td>\n",
       "      <td>employee</td>\n",
       "      <td>0.0</td>\n",
       "      <td>23341.7520</td>\n",
       "      <td>purchase of the house</td>\n",
       "      <td>Age Group 2</td>\n",
       "      <td>Housing</td>\n",
       "      <td>High</td>\n",
       "    </tr>\n",
       "    <tr>\n",
       "      <td>3</td>\n",
       "      <td>3.0</td>\n",
       "      <td>171.864467</td>\n",
       "      <td>32.0</td>\n",
       "      <td>secondary education</td>\n",
       "      <td>1.0</td>\n",
       "      <td>married</td>\n",
       "      <td>0.0</td>\n",
       "      <td>M</td>\n",
       "      <td>employee</td>\n",
       "      <td>0.0</td>\n",
       "      <td>42820.5680</td>\n",
       "      <td>supplementary education</td>\n",
       "      <td>Age Group 2</td>\n",
       "      <td>Education</td>\n",
       "      <td>High</td>\n",
       "    </tr>\n",
       "    <tr>\n",
       "      <td>4</td>\n",
       "      <td>0.0</td>\n",
       "      <td>14177.753002</td>\n",
       "      <td>53.0</td>\n",
       "      <td>secondary education</td>\n",
       "      <td>1.0</td>\n",
       "      <td>civil partnership</td>\n",
       "      <td>1.0</td>\n",
       "      <td>F</td>\n",
       "      <td>retiree</td>\n",
       "      <td>0.0</td>\n",
       "      <td>25378.5720</td>\n",
       "      <td>to have a wedding</td>\n",
       "      <td>Age Group 4</td>\n",
       "      <td>Wedding</td>\n",
       "      <td>High</td>\n",
       "    </tr>\n",
       "    <tr>\n",
       "      <td>5</td>\n",
       "      <td>0.0</td>\n",
       "      <td>38.591076</td>\n",
       "      <td>27.0</td>\n",
       "      <td>bachelor's degree</td>\n",
       "      <td>0.0</td>\n",
       "      <td>civil partnership</td>\n",
       "      <td>1.0</td>\n",
       "      <td>M</td>\n",
       "      <td>business</td>\n",
       "      <td>0.0</td>\n",
       "      <td>40922.1700</td>\n",
       "      <td>purchase of the house</td>\n",
       "      <td>Age Group 2</td>\n",
       "      <td>Housing</td>\n",
       "      <td>High</td>\n",
       "    </tr>\n",
       "    <tr>\n",
       "      <td>6</td>\n",
       "      <td>0.0</td>\n",
       "      <td>119.966752</td>\n",
       "      <td>43.0</td>\n",
       "      <td>bachelor's degree</td>\n",
       "      <td>0.0</td>\n",
       "      <td>married</td>\n",
       "      <td>0.0</td>\n",
       "      <td>F</td>\n",
       "      <td>business</td>\n",
       "      <td>0.0</td>\n",
       "      <td>38484.1560</td>\n",
       "      <td>housing transactions</td>\n",
       "      <td>Age Group 3</td>\n",
       "      <td>Housing</td>\n",
       "      <td>High</td>\n",
       "    </tr>\n",
       "    <tr>\n",
       "      <td>7</td>\n",
       "      <td>0.0</td>\n",
       "      <td>6.365815</td>\n",
       "      <td>50.0</td>\n",
       "      <td>secondary education</td>\n",
       "      <td>1.0</td>\n",
       "      <td>married</td>\n",
       "      <td>0.0</td>\n",
       "      <td>M</td>\n",
       "      <td>employee</td>\n",
       "      <td>0.0</td>\n",
       "      <td>21731.8290</td>\n",
       "      <td>education</td>\n",
       "      <td>Age Group 4</td>\n",
       "      <td>Education</td>\n",
       "      <td>High</td>\n",
       "    </tr>\n",
       "    <tr>\n",
       "      <td>8</td>\n",
       "      <td>2.0</td>\n",
       "      <td>288.744387</td>\n",
       "      <td>35.0</td>\n",
       "      <td>bachelor's degree</td>\n",
       "      <td>0.0</td>\n",
       "      <td>civil partnership</td>\n",
       "      <td>1.0</td>\n",
       "      <td>F</td>\n",
       "      <td>employee</td>\n",
       "      <td>0.0</td>\n",
       "      <td>15337.0930</td>\n",
       "      <td>having a wedding</td>\n",
       "      <td>Age Group 3</td>\n",
       "      <td>Wedding</td>\n",
       "      <td>Normal</td>\n",
       "    </tr>\n",
       "    <tr>\n",
       "      <td>9</td>\n",
       "      <td>0.0</td>\n",
       "      <td>91.198185</td>\n",
       "      <td>41.0</td>\n",
       "      <td>secondary education</td>\n",
       "      <td>1.0</td>\n",
       "      <td>married</td>\n",
       "      <td>0.0</td>\n",
       "      <td>M</td>\n",
       "      <td>employee</td>\n",
       "      <td>0.0</td>\n",
       "      <td>23108.1500</td>\n",
       "      <td>purchase of the house for my family</td>\n",
       "      <td>Age Group 3</td>\n",
       "      <td>Housing</td>\n",
       "      <td>High</td>\n",
       "    </tr>\n",
       "    <tr>\n",
       "      <td>10</td>\n",
       "      <td>2.0</td>\n",
       "      <td>173.811819</td>\n",
       "      <td>36.0</td>\n",
       "      <td>bachelor's degree</td>\n",
       "      <td>0.0</td>\n",
       "      <td>married</td>\n",
       "      <td>0.0</td>\n",
       "      <td>M</td>\n",
       "      <td>business</td>\n",
       "      <td>0.0</td>\n",
       "      <td>18230.9590</td>\n",
       "      <td>buy real estate</td>\n",
       "      <td>Age Group 3</td>\n",
       "      <td>Housing</td>\n",
       "      <td>Normal</td>\n",
       "    </tr>\n",
       "    <tr>\n",
       "      <td>11</td>\n",
       "      <td>0.0</td>\n",
       "      <td>33.029245</td>\n",
       "      <td>40.0</td>\n",
       "      <td>secondary education</td>\n",
       "      <td>1.0</td>\n",
       "      <td>married</td>\n",
       "      <td>0.0</td>\n",
       "      <td>F</td>\n",
       "      <td>employee</td>\n",
       "      <td>0.0</td>\n",
       "      <td>12331.0770</td>\n",
       "      <td>buy commercial real estate</td>\n",
       "      <td>Age Group 3</td>\n",
       "      <td>Housing</td>\n",
       "      <td>Normal</td>\n",
       "    </tr>\n",
       "    <tr>\n",
       "      <td>12</td>\n",
       "      <td>0.0</td>\n",
       "      <td>7781.781237</td>\n",
       "      <td>65.0</td>\n",
       "      <td>secondary education</td>\n",
       "      <td>1.0</td>\n",
       "      <td>civil partnership</td>\n",
       "      <td>1.0</td>\n",
       "      <td>M</td>\n",
       "      <td>retiree</td>\n",
       "      <td>0.0</td>\n",
       "      <td>18969.1490</td>\n",
       "      <td>to have a wedding</td>\n",
       "      <td>Age Group 4</td>\n",
       "      <td>Wedding</td>\n",
       "      <td>Normal</td>\n",
       "    </tr>\n",
       "    <tr>\n",
       "      <td>13</td>\n",
       "      <td>0.0</td>\n",
       "      <td>76.943414</td>\n",
       "      <td>54.0</td>\n",
       "      <td>some college</td>\n",
       "      <td>2.0</td>\n",
       "      <td>married</td>\n",
       "      <td>0.0</td>\n",
       "      <td>F</td>\n",
       "      <td>employee</td>\n",
       "      <td>0.0</td>\n",
       "      <td>20873.3170</td>\n",
       "      <td>car purchase</td>\n",
       "      <td>Age Group 4</td>\n",
       "      <td>Car purchase</td>\n",
       "      <td>High</td>\n",
       "    </tr>\n",
       "    <tr>\n",
       "      <td>14</td>\n",
       "      <td>0.0</td>\n",
       "      <td>76.873174</td>\n",
       "      <td>56.0</td>\n",
       "      <td>bachelor's degree</td>\n",
       "      <td>0.0</td>\n",
       "      <td>civil partnership</td>\n",
       "      <td>1.0</td>\n",
       "      <td>F</td>\n",
       "      <td>business</td>\n",
       "      <td>1.0</td>\n",
       "      <td>26420.4660</td>\n",
       "      <td>buy residential real estate</td>\n",
       "      <td>Age Group 4</td>\n",
       "      <td>Housing</td>\n",
       "      <td>High</td>\n",
       "    </tr>\n",
       "    <tr>\n",
       "      <td>15</td>\n",
       "      <td>1.0</td>\n",
       "      <td>40.515184</td>\n",
       "      <td>26.0</td>\n",
       "      <td>secondary education</td>\n",
       "      <td>1.0</td>\n",
       "      <td>married</td>\n",
       "      <td>0.0</td>\n",
       "      <td>F</td>\n",
       "      <td>employee</td>\n",
       "      <td>0.0</td>\n",
       "      <td>18691.3450</td>\n",
       "      <td>construction of own property</td>\n",
       "      <td>Age Group 2</td>\n",
       "      <td>Housing</td>\n",
       "      <td>Normal</td>\n",
       "    </tr>\n",
       "    <tr>\n",
       "      <td>16</td>\n",
       "      <td>0.0</td>\n",
       "      <td>71.663926</td>\n",
       "      <td>35.0</td>\n",
       "      <td>secondary education</td>\n",
       "      <td>1.0</td>\n",
       "      <td>married</td>\n",
       "      <td>0.0</td>\n",
       "      <td>F</td>\n",
       "      <td>employee</td>\n",
       "      <td>0.0</td>\n",
       "      <td>46272.4330</td>\n",
       "      <td>property</td>\n",
       "      <td>Age Group 3</td>\n",
       "      <td>Housing</td>\n",
       "      <td>High</td>\n",
       "    </tr>\n",
       "    <tr>\n",
       "      <td>17</td>\n",
       "      <td>0.0</td>\n",
       "      <td>98.749988</td>\n",
       "      <td>33.0</td>\n",
       "      <td>bachelor's degree</td>\n",
       "      <td>0.0</td>\n",
       "      <td>civil partnership</td>\n",
       "      <td>1.0</td>\n",
       "      <td>M</td>\n",
       "      <td>employee</td>\n",
       "      <td>0.0</td>\n",
       "      <td>14465.6940</td>\n",
       "      <td>building a property</td>\n",
       "      <td>Age Group 2</td>\n",
       "      <td>Housing</td>\n",
       "      <td>Normal</td>\n",
       "    </tr>\n",
       "    <tr>\n",
       "      <td>18</td>\n",
       "      <td>0.0</td>\n",
       "      <td>16678.380705</td>\n",
       "      <td>53.0</td>\n",
       "      <td>secondary education</td>\n",
       "      <td>1.0</td>\n",
       "      <td>widow / widower</td>\n",
       "      <td>2.0</td>\n",
       "      <td>F</td>\n",
       "      <td>retiree</td>\n",
       "      <td>0.0</td>\n",
       "      <td>9091.8040</td>\n",
       "      <td>buying a second-hand car</td>\n",
       "      <td>Age Group 4</td>\n",
       "      <td>Car purchase</td>\n",
       "      <td>Average</td>\n",
       "    </tr>\n",
       "    <tr>\n",
       "      <td>19</td>\n",
       "      <td>0.0</td>\n",
       "      <td>418.284106</td>\n",
       "      <td>48.0</td>\n",
       "      <td>secondary education</td>\n",
       "      <td>1.0</td>\n",
       "      <td>divorced</td>\n",
       "      <td>3.0</td>\n",
       "      <td>F</td>\n",
       "      <td>employee</td>\n",
       "      <td>0.0</td>\n",
       "      <td>38852.9770</td>\n",
       "      <td>buying my own car</td>\n",
       "      <td>Age Group 3</td>\n",
       "      <td>Car purchase</td>\n",
       "      <td>High</td>\n",
       "    </tr>\n",
       "    <tr>\n",
       "      <td>20</td>\n",
       "      <td>1.0</td>\n",
       "      <td>54.650174</td>\n",
       "      <td>36.0</td>\n",
       "      <td>secondary education</td>\n",
       "      <td>1.0</td>\n",
       "      <td>married</td>\n",
       "      <td>0.0</td>\n",
       "      <td>M</td>\n",
       "      <td>employee</td>\n",
       "      <td>0.0</td>\n",
       "      <td>33528.4230</td>\n",
       "      <td>property</td>\n",
       "      <td>Age Group 3</td>\n",
       "      <td>Housing</td>\n",
       "      <td>High</td>\n",
       "    </tr>\n",
       "    <tr>\n",
       "      <td>21</td>\n",
       "      <td>1.0</td>\n",
       "      <td>10.570215</td>\n",
       "      <td>33.0</td>\n",
       "      <td>secondary education</td>\n",
       "      <td>1.0</td>\n",
       "      <td>civil partnership</td>\n",
       "      <td>1.0</td>\n",
       "      <td>F</td>\n",
       "      <td>employee</td>\n",
       "      <td>0.0</td>\n",
       "      <td>21089.9530</td>\n",
       "      <td>car purchase</td>\n",
       "      <td>Age Group 2</td>\n",
       "      <td>Car purchase</td>\n",
       "      <td>High</td>\n",
       "    </tr>\n",
       "    <tr>\n",
       "      <td>22</td>\n",
       "      <td>1.0</td>\n",
       "      <td>73.610172</td>\n",
       "      <td>24.0</td>\n",
       "      <td>secondary education</td>\n",
       "      <td>1.0</td>\n",
       "      <td>civil partnership</td>\n",
       "      <td>1.0</td>\n",
       "      <td>F</td>\n",
       "      <td>employee</td>\n",
       "      <td>0.0</td>\n",
       "      <td>23948.9830</td>\n",
       "      <td>buying a second-hand car</td>\n",
       "      <td>Age Group 1</td>\n",
       "      <td>Car purchase</td>\n",
       "      <td>High</td>\n",
       "    </tr>\n",
       "    <tr>\n",
       "      <td>23</td>\n",
       "      <td>0.0</td>\n",
       "      <td>11.374224</td>\n",
       "      <td>21.0</td>\n",
       "      <td>bachelor's degree</td>\n",
       "      <td>0.0</td>\n",
       "      <td>civil partnership</td>\n",
       "      <td>1.0</td>\n",
       "      <td>M</td>\n",
       "      <td>employee</td>\n",
       "      <td>0.0</td>\n",
       "      <td>20522.5150</td>\n",
       "      <td>to have a wedding</td>\n",
       "      <td>Age Group 1</td>\n",
       "      <td>Wedding</td>\n",
       "      <td>High</td>\n",
       "    </tr>\n",
       "    <tr>\n",
       "      <td>24</td>\n",
       "      <td>1.0</td>\n",
       "      <td>14106.331371</td>\n",
       "      <td>57.0</td>\n",
       "      <td>secondary education</td>\n",
       "      <td>1.0</td>\n",
       "      <td>unmarried</td>\n",
       "      <td>4.0</td>\n",
       "      <td>F</td>\n",
       "      <td>retiree</td>\n",
       "      <td>0.0</td>\n",
       "      <td>46487.5580</td>\n",
       "      <td>transactions with commercial real estate</td>\n",
       "      <td>Age Group 4</td>\n",
       "      <td>Housing</td>\n",
       "      <td>High</td>\n",
       "    </tr>\n",
       "    <tr>\n",
       "      <td>25</td>\n",
       "      <td>0.0</td>\n",
       "      <td>15147.853723</td>\n",
       "      <td>67.0</td>\n",
       "      <td>secondary education</td>\n",
       "      <td>1.0</td>\n",
       "      <td>married</td>\n",
       "      <td>0.0</td>\n",
       "      <td>M</td>\n",
       "      <td>retiree</td>\n",
       "      <td>0.0</td>\n",
       "      <td>8818.0410</td>\n",
       "      <td>buy real estate</td>\n",
       "      <td>Age Group 4</td>\n",
       "      <td>Housing</td>\n",
       "      <td>Average</td>\n",
       "    </tr>\n",
       "    <tr>\n",
       "      <td>26</td>\n",
       "      <td>0.0</td>\n",
       "      <td>411.425535</td>\n",
       "      <td>41.0</td>\n",
       "      <td>secondary education</td>\n",
       "      <td>1.0</td>\n",
       "      <td>married</td>\n",
       "      <td>0.0</td>\n",
       "      <td>M</td>\n",
       "      <td>civil servant</td>\n",
       "      <td>0.0</td>\n",
       "      <td>24083.5065</td>\n",
       "      <td>education</td>\n",
       "      <td>Age Group 3</td>\n",
       "      <td>Education</td>\n",
       "      <td>High</td>\n",
       "    </tr>\n",
       "    <tr>\n",
       "      <td>27</td>\n",
       "      <td>0.0</td>\n",
       "      <td>22.049651</td>\n",
       "      <td>28.0</td>\n",
       "      <td>bachelor's degree</td>\n",
       "      <td>0.0</td>\n",
       "      <td>married</td>\n",
       "      <td>0.0</td>\n",
       "      <td>M</td>\n",
       "      <td>employee</td>\n",
       "      <td>0.0</td>\n",
       "      <td>49415.8370</td>\n",
       "      <td>construction of own property</td>\n",
       "      <td>Age Group 2</td>\n",
       "      <td>Housing</td>\n",
       "      <td>High</td>\n",
       "    </tr>\n",
       "    <tr>\n",
       "      <td>28</td>\n",
       "      <td>1.0</td>\n",
       "      <td>29.886430</td>\n",
       "      <td>26.0</td>\n",
       "      <td>bachelor's degree</td>\n",
       "      <td>0.0</td>\n",
       "      <td>married</td>\n",
       "      <td>0.0</td>\n",
       "      <td>F</td>\n",
       "      <td>employee</td>\n",
       "      <td>0.0</td>\n",
       "      <td>30058.1180</td>\n",
       "      <td>construction of own property</td>\n",
       "      <td>Age Group 2</td>\n",
       "      <td>Housing</td>\n",
       "      <td>High</td>\n",
       "    </tr>\n",
       "    <tr>\n",
       "      <td>29</td>\n",
       "      <td>0.0</td>\n",
       "      <td>7781.781237</td>\n",
       "      <td>63.0</td>\n",
       "      <td>secondary education</td>\n",
       "      <td>1.0</td>\n",
       "      <td>unmarried</td>\n",
       "      <td>4.0</td>\n",
       "      <td>F</td>\n",
       "      <td>retiree</td>\n",
       "      <td>0.0</td>\n",
       "      <td>18969.1490</td>\n",
       "      <td>building a real estate</td>\n",
       "      <td>Age Group 4</td>\n",
       "      <td>Housing</td>\n",
       "      <td>Normal</td>\n",
       "    </tr>\n",
       "  </tbody>\n",
       "</table>\n",
       "</div>"
      ],
      "text/plain": [
       "    children  days_employed  dob_years            education  education_id  \\\n",
       "0        1.0     351.569709       42.0    bachelor's degree           0.0   \n",
       "1        1.0     167.700156       36.0  secondary education           1.0   \n",
       "2        0.0     234.309275       33.0  secondary education           1.0   \n",
       "3        3.0     171.864467       32.0  secondary education           1.0   \n",
       "4        0.0   14177.753002       53.0  secondary education           1.0   \n",
       "5        0.0      38.591076       27.0    bachelor's degree           0.0   \n",
       "6        0.0     119.966752       43.0    bachelor's degree           0.0   \n",
       "7        0.0       6.365815       50.0  secondary education           1.0   \n",
       "8        2.0     288.744387       35.0    bachelor's degree           0.0   \n",
       "9        0.0      91.198185       41.0  secondary education           1.0   \n",
       "10       2.0     173.811819       36.0    bachelor's degree           0.0   \n",
       "11       0.0      33.029245       40.0  secondary education           1.0   \n",
       "12       0.0    7781.781237       65.0  secondary education           1.0   \n",
       "13       0.0      76.943414       54.0         some college           2.0   \n",
       "14       0.0      76.873174       56.0    bachelor's degree           0.0   \n",
       "15       1.0      40.515184       26.0  secondary education           1.0   \n",
       "16       0.0      71.663926       35.0  secondary education           1.0   \n",
       "17       0.0      98.749988       33.0    bachelor's degree           0.0   \n",
       "18       0.0   16678.380705       53.0  secondary education           1.0   \n",
       "19       0.0     418.284106       48.0  secondary education           1.0   \n",
       "20       1.0      54.650174       36.0  secondary education           1.0   \n",
       "21       1.0      10.570215       33.0  secondary education           1.0   \n",
       "22       1.0      73.610172       24.0  secondary education           1.0   \n",
       "23       0.0      11.374224       21.0    bachelor's degree           0.0   \n",
       "24       1.0   14106.331371       57.0  secondary education           1.0   \n",
       "25       0.0   15147.853723       67.0  secondary education           1.0   \n",
       "26       0.0     411.425535       41.0  secondary education           1.0   \n",
       "27       0.0      22.049651       28.0    bachelor's degree           0.0   \n",
       "28       1.0      29.886430       26.0    bachelor's degree           0.0   \n",
       "29       0.0    7781.781237       63.0  secondary education           1.0   \n",
       "\n",
       "        family_status  family_status_id gender    income_type  debt  \\\n",
       "0             married               0.0      F       employee   0.0   \n",
       "1             married               0.0      F       employee   0.0   \n",
       "2             married               0.0      M       employee   0.0   \n",
       "3             married               0.0      M       employee   0.0   \n",
       "4   civil partnership               1.0      F        retiree   0.0   \n",
       "5   civil partnership               1.0      M       business   0.0   \n",
       "6             married               0.0      F       business   0.0   \n",
       "7             married               0.0      M       employee   0.0   \n",
       "8   civil partnership               1.0      F       employee   0.0   \n",
       "9             married               0.0      M       employee   0.0   \n",
       "10            married               0.0      M       business   0.0   \n",
       "11            married               0.0      F       employee   0.0   \n",
       "12  civil partnership               1.0      M        retiree   0.0   \n",
       "13            married               0.0      F       employee   0.0   \n",
       "14  civil partnership               1.0      F       business   1.0   \n",
       "15            married               0.0      F       employee   0.0   \n",
       "16            married               0.0      F       employee   0.0   \n",
       "17  civil partnership               1.0      M       employee   0.0   \n",
       "18    widow / widower               2.0      F        retiree   0.0   \n",
       "19           divorced               3.0      F       employee   0.0   \n",
       "20            married               0.0      M       employee   0.0   \n",
       "21  civil partnership               1.0      F       employee   0.0   \n",
       "22  civil partnership               1.0      F       employee   0.0   \n",
       "23  civil partnership               1.0      M       employee   0.0   \n",
       "24          unmarried               4.0      F        retiree   0.0   \n",
       "25            married               0.0      M        retiree   0.0   \n",
       "26            married               0.0      M  civil servant   0.0   \n",
       "27            married               0.0      M       employee   0.0   \n",
       "28            married               0.0      F       employee   0.0   \n",
       "29          unmarried               4.0      F        retiree   0.0   \n",
       "\n",
       "    total_income                                   purpose age_category  \\\n",
       "0     40620.1020                     purchase of the house  Age Group 3   \n",
       "1     17932.8020                              car purchase  Age Group 3   \n",
       "2     23341.7520                     purchase of the house  Age Group 2   \n",
       "3     42820.5680                   supplementary education  Age Group 2   \n",
       "4     25378.5720                         to have a wedding  Age Group 4   \n",
       "5     40922.1700                     purchase of the house  Age Group 2   \n",
       "6     38484.1560                      housing transactions  Age Group 3   \n",
       "7     21731.8290                                 education  Age Group 4   \n",
       "8     15337.0930                          having a wedding  Age Group 3   \n",
       "9     23108.1500       purchase of the house for my family  Age Group 3   \n",
       "10    18230.9590                           buy real estate  Age Group 3   \n",
       "11    12331.0770                buy commercial real estate  Age Group 3   \n",
       "12    18969.1490                         to have a wedding  Age Group 4   \n",
       "13    20873.3170                              car purchase  Age Group 4   \n",
       "14    26420.4660               buy residential real estate  Age Group 4   \n",
       "15    18691.3450              construction of own property  Age Group 2   \n",
       "16    46272.4330                                  property  Age Group 3   \n",
       "17    14465.6940                       building a property  Age Group 2   \n",
       "18     9091.8040                  buying a second-hand car  Age Group 4   \n",
       "19    38852.9770                         buying my own car  Age Group 3   \n",
       "20    33528.4230                                  property  Age Group 3   \n",
       "21    21089.9530                              car purchase  Age Group 2   \n",
       "22    23948.9830                  buying a second-hand car  Age Group 1   \n",
       "23    20522.5150                         to have a wedding  Age Group 1   \n",
       "24    46487.5580  transactions with commercial real estate  Age Group 4   \n",
       "25     8818.0410                           buy real estate  Age Group 4   \n",
       "26    24083.5065                                 education  Age Group 3   \n",
       "27    49415.8370              construction of own property  Age Group 2   \n",
       "28    30058.1180              construction of own property  Age Group 2   \n",
       "29    18969.1490                    building a real estate  Age Group 4   \n",
       "\n",
       "   purpose_category income_level  \n",
       "0           Housing         High  \n",
       "1      Car purchase       Normal  \n",
       "2           Housing         High  \n",
       "3         Education         High  \n",
       "4           Wedding         High  \n",
       "5           Housing         High  \n",
       "6           Housing         High  \n",
       "7         Education         High  \n",
       "8           Wedding       Normal  \n",
       "9           Housing         High  \n",
       "10          Housing       Normal  \n",
       "11          Housing       Normal  \n",
       "12          Wedding       Normal  \n",
       "13     Car purchase         High  \n",
       "14          Housing         High  \n",
       "15          Housing       Normal  \n",
       "16          Housing         High  \n",
       "17          Housing       Normal  \n",
       "18     Car purchase      Average  \n",
       "19     Car purchase         High  \n",
       "20          Housing         High  \n",
       "21     Car purchase         High  \n",
       "22     Car purchase         High  \n",
       "23          Wedding         High  \n",
       "24          Housing         High  \n",
       "25          Housing      Average  \n",
       "26        Education         High  \n",
       "27          Housing         High  \n",
       "28          Housing         High  \n",
       "29          Housing       Normal  "
      ]
     },
     "execution_count": 64,
     "metadata": {},
     "output_type": "execute_result"
    }
   ],
   "source": [
    "bank_data.head(30)"
   ]
  },
  {
   "cell_type": "markdown",
   "metadata": {},
   "source": [
    "<div class=\"alert alert-block alert-success\">\n",
    "<b>Reviewer's comment</b> <a class=\"tocSkip\"></a>\n",
    "You correctly performed the categorization of the data.\n",
    "</div>"
   ]
  },
  {
   "cell_type": "markdown",
   "metadata": {},
   "source": [
    "## Checking the Hypotheses\n"
   ]
  },
  {
   "cell_type": "markdown",
   "metadata": {},
   "source": [
    "<div class=\"alert alert-block alert-danger\">\n",
    "<b>Reviewer's comment</b> <a class=\"tocSkip\"></a>\n",
    "\n",
    "~~One of the components of the work of a data analyst is the interpretation of the results obtained. The statement of facts is only part of this point. Please supplement each of the intermediate conclusions of this section with your opinion - why such results were obtained in the context of the existing groups.~~\n",
    "~~Please note that for big data, a deviation of 1% is of great importance.~~\n",
    "</div>\n",
    "\n",
    "<div class=\"alert alert-block alert-info\">\n",
    "<b>Student answer</b> Added my personal opinion on each and every one of the conclusions, hope they are good enough!\n",
    "    \n",
    "Regarding the deviation of 1%, I completely understand this fact now. I didn't look at the results from this POV first but now I understand that even a deviation of 1% is important when looking at the whole data. (Great example is the the 'married' group in the family_status category, while it was 0.5% percent below general percent, it actually comprised 50% of all those in debt. Imagine it was 1% greater than the general percentage, it would've comrpised much more than 50% of all those in debt and I would've actually thought about considering it one of the factors of our research!<a class=\"tocSkip\"></a>\n",
    "</div>"
   ]
  },
  {
   "cell_type": "markdown",
   "metadata": {},
   "source": [
    "**Is there a correlation between having children and paying back on time?**"
   ]
  },
  {
   "cell_type": "code",
   "execution_count": 65,
   "metadata": {},
   "outputs": [
    {
     "data": {
      "text/plain": [
       "children  debt\n",
       "0.0       0.0     13022\n",
       "          1.0      1058\n",
       "1.0       0.0      4407\n",
       "          1.0       442\n",
       "2.0       0.0      1915\n",
       "          1.0       202\n",
       "3.0       0.0       301\n",
       "          1.0        27\n",
       "4.0       0.0        37\n",
       "          1.0         4\n",
       "5.0       0.0         9\n",
       "Name: debt, dtype: int64"
      ]
     },
     "execution_count": 65,
     "metadata": {},
     "output_type": "execute_result"
    }
   ],
   "source": [
    "# Check the children data and paying back on time\n",
    "child_loan_data = bank_data.groupby('children')\n",
    "child_loan_data['debt'].value_counts()"
   ]
  },
  {
   "cell_type": "code",
   "execution_count": 66,
   "metadata": {},
   "outputs": [
    {
     "name": "stdout",
     "output_type": "stream",
     "text": [
      "People with 0 children debt ratio: 7.51%\n",
      "People with 1 children debt ratio: 9.12%\n",
      "People with 2 children debt ratio: 9.54%\n",
      "People with 3 children debt ratio: 8.23%\n",
      "People with 4 children debt ratio: 9.76%\n"
     ]
    }
   ],
   "source": [
    "# Checking the precentages of people in debt according to children number\n",
    "for i in range(5):\n",
    "    people_with_debt = bank_data[(bank_data['debt'] == 1) & (bank_data['children'] == i)].shape[0]\n",
    "    people_without_debt = bank_data[bank_data['children'] == i].shape[0]\n",
    "    print('People with {} children debt ratio: {:.2%}'.format(i,people_with_debt/people_without_debt ))"
   ]
  },
  {
   "cell_type": "code",
   "execution_count": 67,
   "metadata": {},
   "outputs": [
    {
     "name": "stdout",
     "output_type": "stream",
     "text": [
      "The percentage of people on debt from the overall is 8.09%\n"
     ]
    }
   ],
   "source": [
    "# Calculating default-rate based on the number of children\n",
    "people_on_debt = bank_data[bank_data['debt'] == 1].shape[0]\n",
    "data_shape = bank_data.shape[0]\n",
    "print('The percentage of people on debt from the overall is {:.2%}'.format(people_on_debt/data_shape))"
   ]
  },
  {
   "cell_type": "markdown",
   "metadata": {},
   "source": [
    "**Conclusion**\n",
    "First we checked the percentage of people having debt compared to overall people with the same number of children and got the results:\n",
    "People with 0 children debt ratio: 7.51%\n",
    "People with 1 children debt ratio: 9.12%\n",
    "People with 2 children debt ratio: 9.54%\n",
    "People with 3 children debt ratio: 8.23%\n",
    "People with 4 children debt ratio: 9.76%\n",
    "(The number of customers that defaulted on a loan with x children / the number of customers with x children)\n",
    "\n",
    "What we notice immediately here is that customers with 0 children had the least percentage, which makes perfect sense since they have to spend less. On the other hand, people with 4 children had the highest percentage among all of the groups, that's one thing that we should've also expected, since they have to spend the most. But despite these facts, we expected the percentages to have a wider range, a range of at least 10% instead of just 2.03% given the fact that raising kids nowadays isn't an easy task and is very expensive.\n",
    "\n",
    "Later we calculated the overall percentage for people on debt and found it to be 8.09% which is very close to each and every one of other percentages. This means that the number of children doesn't really have an impact on a customer defaulting on a loan or not.\n"
   ]
  },
  {
   "cell_type": "markdown",
   "metadata": {},
   "source": [
    "<div class=\"alert alert-block alert-success\">\n",
    "<b>Reviewer's comment</b> <a class=\"tocSkip\"></a>\n",
    "Excellent findings. Thank you for completing the research.\n",
    "</div>"
   ]
  },
  {
   "cell_type": "markdown",
   "metadata": {},
   "source": [
    "**Is there a correlation between family status and paying back on time?**"
   ]
  },
  {
   "cell_type": "code",
   "execution_count": 68,
   "metadata": {},
   "outputs": [
    {
     "data": {
      "text/plain": [
       "family_status      debt\n",
       "civil partnership  0.0      3770\n",
       "                   1.0       386\n",
       "divorced           0.0      1100\n",
       "                   1.0        85\n",
       "married            0.0     11404\n",
       "                   1.0       927\n",
       "unmarried          0.0      2524\n",
       "                   1.0       273\n",
       "widow / widower    0.0       893\n",
       "                   1.0        62\n",
       "Name: debt, dtype: int64"
      ]
     },
     "execution_count": 68,
     "metadata": {},
     "output_type": "execute_result"
    }
   ],
   "source": [
    "# Check the family status data and paying back on time\n",
    "child_loan_data = bank_data.groupby('family_status')\n",
    "child_loan_data['debt'].value_counts()"
   ]
  },
  {
   "cell_type": "code",
   "execution_count": 69,
   "metadata": {},
   "outputs": [
    {
     "name": "stdout",
     "output_type": "stream",
     "text": [
      "People who are married debt ratio: 7.52%\n",
      "People who are civil partnership debt ratio: 9.29%\n",
      "People who are widow / widower debt ratio: 6.49%\n",
      "People who are divorced debt ratio: 7.17%\n",
      "People who are unmarried debt ratio: 9.76%\n"
     ]
    }
   ],
   "source": [
    "# Checking the precentages of people in debt according to family status\n",
    "family_statuses = bank_data['family_status'].unique()\n",
    "for i in family_statuses:\n",
    "    people_with_debt = bank_data[(bank_data['debt'] == 1) & (bank_data['family_status'] == i)].shape[0]\n",
    "    people_without_debt = bank_data[bank_data['family_status'] == i].shape[0]\n",
    "    print('People who are {} debt ratio: {:.2%}'.format(i,people_with_debt/people_without_debt ))"
   ]
  },
  {
   "cell_type": "markdown",
   "metadata": {},
   "source": [
    "**Conclusion**\n",
    "\n",
    "First we checked the percentage of people having debt that belong to a specific family status compared to the overall people with the same family status and got the results:\n",
    "People who are married debt ratio: 7.52%\n",
    "People who are civil partnership debt ratio: 9.29%\n",
    "People who are widow / widower debt ratio: 6.49%\n",
    "People who are divorced debt ratio: 7.17%\n",
    "People who are unmarried debt ratio: 9.76%\n",
    "(The number of customers that defaulted on a loan and are of x family status / the number of customers with x family status)\n",
    "\n",
    "What we first notice here is that we have a wider range of percentages (3.27%) than previously (~2%). But still, no group really stands out to be elected as a possible factor for customers to default on loan. Why? If we look at the group with:\n",
    "1. Highest percentage (unmarried), it turns out that in numbers it is 273 customers out of 1733 (All those in debt), which is only 15% of all in debt.\n",
    "2. Highest number of customers in debt (married), with 927 of 1733 , around 50% of all those in debt.\n",
    "#2 shows that married people comprise around 50% of those in debt, more than unmarried people according to #1 (in perc.), but due to the fact that married people are actually around 57% of all the customers therefore it only makes sense that they comprise 50% of all of those in debt. (In my opinion, if the married group had 3%-4% higher ratio at least, only then we can consider it as a main factor of impact on customers defaulting their loans, but in the current situation it is not correct to confirm such thing) "
   ]
  },
  {
   "cell_type": "markdown",
   "metadata": {},
   "source": [
    "<div class=\"alert alert-block alert-success\">\n",
    "<b>Reviewer's comment</b> <a class=\"tocSkip\"></a>\n",
    "Excellent!\n",
    "</div>"
   ]
  },
  {
   "cell_type": "markdown",
   "metadata": {},
   "source": [
    "**Is there a correlation between income level and paying back on time?**"
   ]
  },
  {
   "cell_type": "code",
   "execution_count": 70,
   "metadata": {},
   "outputs": [
    {
     "data": {
      "text/plain": [
       "income_level   debt\n",
       "Average        0.0       839\n",
       "               1.0        56\n",
       "Below Average  0.0        24\n",
       "               1.0         2\n",
       "High           0.0     11362\n",
       "               1.0      1001\n",
       "Normal         0.0      6239\n",
       "               1.0       582\n",
       "Very high      0.0      1227\n",
       "               1.0        92\n",
       "Name: debt, dtype: int64"
      ]
     },
     "execution_count": 70,
     "metadata": {},
     "output_type": "execute_result"
    }
   ],
   "source": [
    "# Check the income level data and paying back on time\n",
    "child_loan_data = bank_data.groupby('income_level')\n",
    "child_loan_data['debt'].value_counts()"
   ]
  },
  {
   "cell_type": "code",
   "execution_count": 71,
   "metadata": {},
   "outputs": [
    {
     "name": "stdout",
     "output_type": "stream",
     "text": [
      "People with High income level debt ratio: 8.10%\n",
      "People with Normal income level debt ratio: 8.53%\n",
      "People with Average income level debt ratio: 6.26%\n",
      "People with Very high income level debt ratio: 6.97%\n",
      "People with Below Average income level debt ratio: 7.69%\n"
     ]
    }
   ],
   "source": [
    "# Checking the precentages of people in debt according to income level\n",
    "income_levels = bank_data['income_level'].unique()\n",
    "for i in income_levels:\n",
    "    people_with_debt = bank_data[(bank_data['debt'] == 1) & (bank_data['income_level'] == i)].shape[0]\n",
    "    people_without_debt = bank_data[bank_data['income_level'] == i].shape[0]\n",
    "    print('People with {} income level debt ratio: {:.2%}'.format(i,people_with_debt/people_without_debt ))"
   ]
  },
  {
   "cell_type": "markdown",
   "metadata": {},
   "source": [
    "**Conclusion**\n",
    "\n",
    "First we checked the percentage of people having debt that belong to a specific income level compared to the overall people with the same income level and got the results:\n",
    "People with High income level debt ratio: 8.10%\n",
    "People with Normal income level debt ratio: 8.53%\n",
    "People with Average income level debt ratio: 6.26%\n",
    "People with Very high income level debt ratio: 6.97%\n",
    "People with Below Average income level debt ratio: 7.69%\n",
    "(The number of customers that defaulted on a loan of the x income level / the number of customers with x in come level)\n",
    "\n",
    "At this part of our research, we expect people with Average and Below average incomes to have the highest percentages and/or numbers. For our surprise, people with Very high/High/Normal incomes comprise more than 80% of all those in debt (Due to the fact that they also comprise more than 70% of the whole customer base). We expect that this group of people should have the least amount of debts due to their high incomes but this isn't the case here.\n",
    "Yet, High/Normal income groups ratios are 8.10%/8.53% which is very close to the total ratio. Meaning, we cannot confirm that the income level really have an impact on our customers defaulting on a loan."
   ]
  },
  {
   "cell_type": "markdown",
   "metadata": {},
   "source": [
    "<div class=\"alert alert-block alert-success\">\n",
    "<b>Reviewer's comment</b> <a class=\"tocSkip\"></a>\n",
    "Good\n",
    "</div>"
   ]
  },
  {
   "cell_type": "markdown",
   "metadata": {},
   "source": [
    "**How does credit purpose affect the default rate?**"
   ]
  },
  {
   "cell_type": "code",
   "execution_count": 72,
   "metadata": {},
   "outputs": [
    {
     "data": {
      "text/plain": [
       "purpose_category  debt\n",
       "Car purchase      0.0      3893\n",
       "                  1.0       400\n",
       "Education         0.0      3634\n",
       "                  1.0       370\n",
       "Housing           0.0     10014\n",
       "                  1.0       779\n",
       "Wedding           0.0      2150\n",
       "                  1.0       184\n",
       "Name: debt, dtype: int64"
      ]
     },
     "execution_count": 72,
     "metadata": {},
     "output_type": "execute_result"
    }
   ],
   "source": [
    "# Check the percentages for default rate for each credit purpose and analyze them\n",
    "child_loan_data = bank_data.groupby('purpose_category')\n",
    "child_loan_data['debt'].value_counts()"
   ]
  },
  {
   "cell_type": "code",
   "execution_count": 73,
   "metadata": {},
   "outputs": [
    {
     "name": "stdout",
     "output_type": "stream",
     "text": [
      "People in Housing purpose category debt ratio: 7.22%\n",
      "People in Car purchase purpose category debt ratio: 9.32%\n",
      "People in Education purpose category debt ratio: 9.24%\n",
      "People in Wedding purpose category debt ratio: 7.88%\n"
     ]
    }
   ],
   "source": [
    "purpose_cats = bank_data['purpose_category'].unique()\n",
    "for i in purpose_cats:\n",
    "    people_with_debt = bank_data[(bank_data['debt'] == 1) & (bank_data['purpose_category'] == i)].shape[0]\n",
    "    people_without_debt = bank_data[bank_data['purpose_category'] == i].shape[0]\n",
    "    print('People in {} purpose category debt ratio: {:.2%}'.format(i,people_with_debt/people_without_debt ))"
   ]
  },
  {
   "cell_type": "markdown",
   "metadata": {},
   "source": [
    "**Conclusion**\n",
    "\n",
    "First we checked the percentage of people having debt that belong to a specific purpose category compared to the overall people with the same purpose category and got the results:\n",
    "People in Housing purpose category debt ratio: 7.22%\n",
    "People in Car purchase purpose category debt ratio: 9.32%\n",
    "People in Education purpose category debt ratio: 9.24%\n",
    "People in Wedding purpose category debt ratio: 7.88%\n",
    "(The number of customers that defaulted on a loan of the x purpose category / the number of customers with x in the purpose category)\n",
    "\n",
    "Looking at the numbers, the Housing purpose group include 779 out of 1733 people in debt (due to the fact that there's ~10000 in this group/category) yet it's ratio is only 7.22% the lowest among all the other groups in this category. The Car purchase purpose group and the Education purpose group have the highest percentages with 400 and 370 customers in debt in each category respectively (23% and 21% of all people in debt respectively), together not even comprising 50% of all people in debt. None of the groups in this category stands out among the rest in this matter, therefore we can't consider any of them of high impact on the bank customers defaulting on their loans."
   ]
  },
  {
   "cell_type": "markdown",
   "metadata": {},
   "source": [
    "<div class=\"alert alert-block alert-success\">\n",
    "<b>Reviewer's comment</b> <a class=\"tocSkip\"></a>\n",
    "Fine. Thank you for adding each of the intermediate conclusions!\n",
    "</div>"
   ]
  },
  {
   "cell_type": "markdown",
   "metadata": {},
   "source": [
    "# General Conclusion \n",
    "\n",
    "To conclude generally I would like to sum up all conclusions mentioned above here:\n",
    "*In the following conclusion we may refer to our customers as either customers or people*\n",
    "\n",
    "When we compared whether a customer would default on a loan according to the number of children, we ended up with those results:\n",
    "People with; 0 children: 7.51% had debt among all people with 0 children and its the lowest among this categories, 1 children: 9.12% had debt among all people with 1 children, 2 children: 9.54% had debt among all people with 2 children, 3 children: 8.23% had debt among all people with 3 children, 4 children: 9.76% had debt among all people with 4 children. While the overall percentage of people on debt was 8.09%. This means the percentages in each category were very close to the overall category and no category stands out in this matter (We actaully expected that people with more children would struggle on paying the loans therefore we would have higher percentages but this isn't the case here). Therefore, the number of children doesn't really have an impact on customers defaulting on their loans.\n",
    "\n",
    "Next we compared whether a customer would default on a loan according to their family status, this part of the project we got these results: \n",
    "Married people had 7.52% percent in debt, people who were in a civil partnership with 9.29% people in debt, widow / widowers had 6.49% and the lowest percent of people on debt, divorced people had 7.17% people on debt and lastly unmarried people had 9.76% of the unmarried people in debt compared to all of the unmarried people. For this data we can conclude that family status doesn't really impact on customers defaulting on their loans since the overall percentage of people deafulting was, again, 8.09% which is very close to the rest of the percentages here which means no specific category stands out on customers defaulting loans.\n",
    "\n",
    "In the third part we compared whether a customer would default on a loan according to their income level. The results we got were:\n",
    "People with a very high income had 6.97% of the people in this category in debt, while people with high income had 8.10% of the people in this category in debt. We expect that those categories have low people in debt ratio due to their high incomes and that is the case here. People with normal incomes had 8.53% of the people on this category in debt which completely makes sense, since we are still talking about people with relatively high incomes. People with average and below average incomes we got 6.26% and 7.69% respectively, the lowest among the percentages in these categories, which isn't really expected.\n",
    "Again, the percentages in these categories turn out to be very close to the overall percentage of people in debt (8.09%) and therefore we can not say that this factor has impact on customers defaulting on loans.\n",
    "\n",
    "The last part, we compared whether  a customer would default on a loan according to their initial purpose when they took the loan. The results we got were:\n",
    "People in Housing purpose category debt ratio was 7.22%, people in Car purchase purpose category debt ratio was 9.32%, people in Education purpose category debt ratio was 9.24% and people in Wedding purpose category debt ratio was 7.88%. We didn't expect to have any sub-category stand out here since all categories can be very costy in terms of loans. Our expectations were in place and all sub-categories had similar and close percentages, and those percentages were also very close to the overall percentage of people in debt which means that this factor didn't really have an impact on customers defaulting on their loans.\n",
    "\n",
    "Going through all the conclusions we found out, we got some expected results on some data, on other data we got unexpected results. But despite all that, all conclusions shared the same theme, they **didn't have a direct impact on the customers defaulting on loans**. Perhaps, as the conclusions assume, there isn't a specific factor that really affects customer to default on loan or not, or maybe perhaps there is, but to find out, we'll have to conduct more investigations, include more data and take into consideration even more factors that could lead to that.\n",
    "\n"
   ]
  },
  {
   "cell_type": "markdown",
   "metadata": {},
   "source": [
    "<div class=\"alert alert-block alert-success\">\n",
    "<b>Final reviewer's comment</b> <a class=\"tocSkip\"></a>\n",
    "\n",
    "The work is well structured, each step is described in detail. You've done a great job! \n",
    "    \n",
    "Ready:\n",
    "1. There is an excellent structure with the addition of subtotals and commenting on your steps;\n",
    "2. All available gaps are filled in, and duplicates are found and removed;\n",
    "3. Well done data categorization;\n",
    "4. The necessary replacements have been made in the \"children\" , \"gender\", \"income_type\" and \"education\" columns.\n",
    "</div>"
   ]
  },
  {
   "cell_type": "markdown",
   "metadata": {},
   "source": [
    "<div class=\"alert alert-block alert-danger\">\n",
    "<b>Final reviewer's comment</b> <a class=\"tocSkip\"></a>\n",
    "\n",
    "~~But there are a few remarks that need to be completed so that the work can be accepted:~~\n",
    "~~1. Indicate possible reasons for data gaps and incorrect data;~~\n",
    "~~2. Correct the data in the \"days_employed\" column (translate from hours to days);~~\n",
    "~~3. Add your opinion about the presence of dependencies with logical reasoning to the conclusions in the \"Hypothesis Test\" block.~~\n",
    "\n",
    "If you have any questions - write, I will definitely help to solve them.\n",
    "    \n",
    "I know you will succeed!\n",
    "</div>\n",
    "\n",
    "<div class=\"alert alert-block alert-info\">\n",
    "<b>Student answer</b> Thanks for your time!\n",
    " <a class=\"tocSkip\"></a>\n",
    "</div>"
   ]
  },
  {
   "cell_type": "markdown",
   "metadata": {},
   "source": [
    "<div class=\"alert alert-block alert-success\">\n",
    "<b>Final reviewer's comment 2</b> <a class=\"tocSkip\"></a>\n",
    "\n",
    "Thanks for fixing all the points. You've done well. You have a great job!\n",
    "    \n",
    "</div>"
   ]
  },
  {
   "cell_type": "code",
   "execution_count": null,
   "metadata": {},
   "outputs": [],
   "source": []
  }
 ],
 "metadata": {
  "ExecuteTimeLog": [
   {
    "duration": 2741,
    "start_time": "2021-10-21T01:08:49.480Z"
   },
   {
    "duration": 52,
    "start_time": "2021-10-21T01:08:53.315Z"
   },
   {
    "duration": 49,
    "start_time": "2021-10-21T01:08:57.432Z"
   },
   {
    "duration": 70,
    "start_time": "2021-10-21T01:09:07.706Z"
   },
   {
    "duration": 901,
    "start_time": "2022-01-10T23:18:22.156Z"
   },
   {
    "duration": 80,
    "start_time": "2022-01-10T23:19:03.594Z"
   },
   {
    "duration": 17,
    "start_time": "2022-01-10T23:19:31.180Z"
   },
   {
    "duration": 498,
    "start_time": "2022-01-10T23:19:46.708Z"
   },
   {
    "duration": 5,
    "start_time": "2022-01-10T23:19:53.303Z"
   },
   {
    "duration": 553,
    "start_time": "2022-01-10T23:20:29.149Z"
   },
   {
    "duration": 5,
    "start_time": "2022-01-10T23:21:16.148Z"
   },
   {
    "duration": 18,
    "start_time": "2022-01-10T23:21:52.731Z"
   },
   {
    "duration": 17,
    "start_time": "2022-01-10T23:21:58.752Z"
   },
   {
    "duration": 16,
    "start_time": "2022-01-10T23:22:30.374Z"
   },
   {
    "duration": 16,
    "start_time": "2022-01-10T23:22:40.548Z"
   },
   {
    "duration": 23,
    "start_time": "2022-01-10T23:23:06.292Z"
   },
   {
    "duration": 6,
    "start_time": "2022-01-10T23:24:11.471Z"
   },
   {
    "duration": 15,
    "start_time": "2022-01-10T23:24:19.758Z"
   },
   {
    "duration": 759,
    "start_time": "2022-01-11T11:45:17.398Z"
   },
   {
    "duration": 1099,
    "start_time": "2022-01-11T11:45:33.613Z"
   },
   {
    "duration": 8,
    "start_time": "2022-01-11T11:45:44.105Z"
   },
   {
    "duration": 25,
    "start_time": "2022-01-11T11:45:46.721Z"
   },
   {
    "duration": 15,
    "start_time": "2022-01-11T11:45:50.805Z"
   },
   {
    "duration": 14,
    "start_time": "2022-01-11T11:51:42.646Z"
   },
   {
    "duration": 339,
    "start_time": "2022-01-11T11:52:16.773Z"
   },
   {
    "duration": 14,
    "start_time": "2022-01-11T11:52:23.707Z"
   },
   {
    "duration": 12,
    "start_time": "2022-01-11T11:52:31.687Z"
   },
   {
    "duration": 12,
    "start_time": "2022-01-11T11:53:33.800Z"
   },
   {
    "duration": 76,
    "start_time": "2022-01-11T11:55:13.760Z"
   },
   {
    "duration": 13,
    "start_time": "2022-01-11T11:55:19.343Z"
   },
   {
    "duration": 860,
    "start_time": "2022-01-11T11:58:01.944Z"
   },
   {
    "duration": 13,
    "start_time": "2022-01-11T11:58:11.393Z"
   },
   {
    "duration": 12,
    "start_time": "2022-01-11T12:02:13.999Z"
   },
   {
    "duration": 22,
    "start_time": "2022-01-11T12:02:49.480Z"
   },
   {
    "duration": 28,
    "start_time": "2022-01-11T12:03:19.952Z"
   },
   {
    "duration": 416,
    "start_time": "2022-01-11T12:06:54.022Z"
   },
   {
    "duration": 36,
    "start_time": "2022-01-11T12:07:00.675Z"
   },
   {
    "duration": 36,
    "start_time": "2022-01-11T12:12:00.651Z"
   },
   {
    "duration": -820,
    "start_time": "2022-01-11T12:23:54.628Z"
   },
   {
    "duration": 8209,
    "start_time": "2022-01-11T12:24:11.751Z"
   },
   {
    "duration": 35,
    "start_time": "2022-01-11T12:24:57.960Z"
   },
   {
    "duration": 11,
    "start_time": "2022-01-11T12:25:07.017Z"
   },
   {
    "duration": 9,
    "start_time": "2022-01-11T12:25:17.545Z"
   },
   {
    "duration": 8,
    "start_time": "2022-01-11T12:25:26.997Z"
   },
   {
    "duration": 9,
    "start_time": "2022-01-11T12:25:33.788Z"
   },
   {
    "duration": 8,
    "start_time": "2022-01-11T12:25:40.903Z"
   },
   {
    "duration": 9,
    "start_time": "2022-01-11T12:25:47.140Z"
   },
   {
    "duration": 9,
    "start_time": "2022-01-11T12:25:58.968Z"
   },
   {
    "duration": 9,
    "start_time": "2022-01-11T12:28:35.348Z"
   },
   {
    "duration": 9,
    "start_time": "2022-01-11T12:29:09.285Z"
   },
   {
    "duration": 123,
    "start_time": "2022-01-11T12:33:28.332Z"
   },
   {
    "duration": 14,
    "start_time": "2022-01-11T12:33:35.019Z"
   },
   {
    "duration": 12,
    "start_time": "2022-01-11T12:33:47.802Z"
   },
   {
    "duration": 434,
    "start_time": "2022-01-11T12:34:00.685Z"
   },
   {
    "duration": 720,
    "start_time": "2022-01-11T12:34:08.089Z"
   },
   {
    "duration": 364,
    "start_time": "2022-01-11T12:34:43.776Z"
   },
   {
    "duration": 11,
    "start_time": "2022-01-11T12:34:51.640Z"
   },
   {
    "duration": 10,
    "start_time": "2022-01-11T12:38:04.597Z"
   },
   {
    "duration": 30,
    "start_time": "2022-01-11T13:00:36.595Z"
   },
   {
    "duration": 9,
    "start_time": "2022-01-11T13:08:26.298Z"
   },
   {
    "duration": 504,
    "start_time": "2022-01-11T13:59:39.110Z"
   },
   {
    "duration": 12,
    "start_time": "2022-01-11T14:00:10.169Z"
   },
   {
    "duration": 24,
    "start_time": "2022-01-11T14:01:05.422Z"
   },
   {
    "duration": 26,
    "start_time": "2022-01-11T14:01:33.115Z"
   },
   {
    "duration": 22,
    "start_time": "2022-01-11T14:01:41.757Z"
   },
   {
    "duration": 24,
    "start_time": "2022-01-11T14:01:55.131Z"
   },
   {
    "duration": 27,
    "start_time": "2022-01-11T14:02:52.617Z"
   },
   {
    "duration": 28,
    "start_time": "2022-01-11T14:03:19.595Z"
   },
   {
    "duration": 314,
    "start_time": "2022-01-11T14:03:38.979Z"
   },
   {
    "duration": 28,
    "start_time": "2022-01-11T14:04:06.777Z"
   },
   {
    "duration": 23,
    "start_time": "2022-01-11T14:04:28.783Z"
   },
   {
    "duration": 10,
    "start_time": "2022-01-11T14:34:15.611Z"
   },
   {
    "duration": 7868,
    "start_time": "2022-01-11T15:07:39.411Z"
   },
   {
    "duration": 13,
    "start_time": "2022-01-11T15:08:14.672Z"
   },
   {
    "duration": 13,
    "start_time": "2022-01-11T15:08:39.514Z"
   },
   {
    "duration": 12,
    "start_time": "2022-01-11T15:08:45.304Z"
   },
   {
    "duration": 14,
    "start_time": "2022-01-11T15:09:19.719Z"
   },
   {
    "duration": 347,
    "start_time": "2022-01-11T15:10:52.371Z"
   },
   {
    "duration": 12,
    "start_time": "2022-01-11T15:11:04.046Z"
   },
   {
    "duration": 14,
    "start_time": "2022-01-11T15:11:34.011Z"
   },
   {
    "duration": 12,
    "start_time": "2022-01-11T15:12:05.369Z"
   },
   {
    "duration": 11,
    "start_time": "2022-01-11T15:12:18.888Z"
   },
   {
    "duration": 11,
    "start_time": "2022-01-11T15:12:39.067Z"
   },
   {
    "duration": 15,
    "start_time": "2022-01-11T15:12:48.389Z"
   },
   {
    "duration": 15,
    "start_time": "2022-01-11T15:13:02.323Z"
   },
   {
    "duration": 18,
    "start_time": "2022-01-11T15:13:25.448Z"
   },
   {
    "duration": 22,
    "start_time": "2022-01-11T15:13:58.445Z"
   },
   {
    "duration": 313,
    "start_time": "2022-01-11T15:17:55.737Z"
   },
   {
    "duration": 17,
    "start_time": "2022-01-11T15:18:06.675Z"
   },
   {
    "duration": 37,
    "start_time": "2022-01-11T15:19:48.197Z"
   },
   {
    "duration": 15,
    "start_time": "2022-01-11T15:20:03.881Z"
   },
   {
    "duration": 13,
    "start_time": "2022-01-11T15:20:16.315Z"
   },
   {
    "duration": 12,
    "start_time": "2022-01-11T15:21:36.857Z"
   },
   {
    "duration": 12,
    "start_time": "2022-01-11T15:22:03.205Z"
   },
   {
    "duration": 12,
    "start_time": "2022-01-11T15:22:11.460Z"
   },
   {
    "duration": 12,
    "start_time": "2022-01-11T15:22:21.583Z"
   },
   {
    "duration": 13,
    "start_time": "2022-01-11T15:22:32.950Z"
   },
   {
    "duration": 16,
    "start_time": "2022-01-11T15:41:59.806Z"
   },
   {
    "duration": 17,
    "start_time": "2022-01-11T15:42:10.494Z"
   },
   {
    "duration": 14,
    "start_time": "2022-01-11T15:42:31.603Z"
   },
   {
    "duration": 12,
    "start_time": "2022-01-11T15:42:54.857Z"
   },
   {
    "duration": 15,
    "start_time": "2022-01-11T15:43:02.249Z"
   },
   {
    "duration": 11,
    "start_time": "2022-01-11T15:43:08.721Z"
   },
   {
    "duration": 13,
    "start_time": "2022-01-11T15:43:16.201Z"
   },
   {
    "duration": 14,
    "start_time": "2022-01-11T15:43:27.190Z"
   },
   {
    "duration": 77,
    "start_time": "2022-01-11T16:05:58.203Z"
   },
   {
    "duration": 38,
    "start_time": "2022-01-11T16:06:08.293Z"
   },
   {
    "duration": 37,
    "start_time": "2022-01-11T16:06:37.085Z"
   },
   {
    "duration": 37,
    "start_time": "2022-01-11T16:07:05.696Z"
   },
   {
    "duration": 342,
    "start_time": "2022-01-13T06:40:23.229Z"
   },
   {
    "duration": 658,
    "start_time": "2022-01-13T06:40:34.067Z"
   },
   {
    "duration": 18,
    "start_time": "2022-01-13T06:40:40.776Z"
   },
   {
    "duration": 21,
    "start_time": "2022-01-13T06:40:43.972Z"
   },
   {
    "duration": 287,
    "start_time": "2022-01-13T06:56:40.193Z"
   },
   {
    "duration": 32,
    "start_time": "2022-01-13T06:56:47.376Z"
   },
   {
    "duration": 283,
    "start_time": "2022-01-13T07:12:16.434Z"
   },
   {
    "duration": 18,
    "start_time": "2022-01-13T07:12:47.432Z"
   },
   {
    "duration": 17,
    "start_time": "2022-01-13T07:16:07.328Z"
   },
   {
    "duration": 15,
    "start_time": "2022-01-13T07:16:11.622Z"
   },
   {
    "duration": 5,
    "start_time": "2022-01-13T07:18:56.419Z"
   },
   {
    "duration": 6,
    "start_time": "2022-01-13T07:19:00.751Z"
   },
   {
    "duration": 6,
    "start_time": "2022-01-13T07:19:26.054Z"
   },
   {
    "duration": 7,
    "start_time": "2022-01-13T07:20:16.906Z"
   },
   {
    "duration": 15,
    "start_time": "2022-01-13T07:25:38.289Z"
   },
   {
    "duration": 81,
    "start_time": "2022-01-13T07:30:35.141Z"
   },
   {
    "duration": 260,
    "start_time": "2022-01-13T07:31:13.020Z"
   },
   {
    "duration": 259,
    "start_time": "2022-01-13T07:31:29.437Z"
   },
   {
    "duration": 246,
    "start_time": "2022-01-13T07:31:34.332Z"
   },
   {
    "duration": 282,
    "start_time": "2022-01-13T07:31:46.638Z"
   },
   {
    "duration": 643,
    "start_time": "2022-01-13T07:32:20.371Z"
   },
   {
    "duration": 4,
    "start_time": "2022-01-13T07:32:24.919Z"
   },
   {
    "duration": 14,
    "start_time": "2022-01-13T07:32:26.582Z"
   },
   {
    "duration": 12,
    "start_time": "2022-01-13T07:32:31.150Z"
   },
   {
    "duration": 18,
    "start_time": "2022-01-13T07:32:36.218Z"
   },
   {
    "duration": 21,
    "start_time": "2022-01-13T07:32:40.020Z"
   },
   {
    "duration": 324,
    "start_time": "2022-01-13T07:32:43.355Z"
   },
   {
    "duration": 271,
    "start_time": "2022-01-13T07:33:15.669Z"
   },
   {
    "duration": 12,
    "start_time": "2022-01-13T07:33:41.835Z"
   },
   {
    "duration": 13,
    "start_time": "2022-01-13T07:33:57.217Z"
   },
   {
    "duration": 122,
    "start_time": "2022-01-13T07:34:14.980Z"
   },
   {
    "duration": 14,
    "start_time": "2022-01-13T07:34:27.698Z"
   },
   {
    "duration": 13,
    "start_time": "2022-01-13T07:34:43.562Z"
   },
   {
    "duration": 7,
    "start_time": "2022-01-13T07:35:50.612Z"
   },
   {
    "duration": 250,
    "start_time": "2022-01-13T07:43:29.005Z"
   },
   {
    "duration": 19,
    "start_time": "2022-01-13T07:43:34.738Z"
   },
   {
    "duration": 6,
    "start_time": "2022-01-13T07:43:37.082Z"
   },
   {
    "duration": 90,
    "start_time": "2022-01-13T07:50:46.798Z"
   },
   {
    "duration": 7,
    "start_time": "2022-01-13T07:50:56.851Z"
   },
   {
    "duration": 7,
    "start_time": "2022-01-13T07:51:19.237Z"
   },
   {
    "duration": 8,
    "start_time": "2022-01-13T07:52:35.902Z"
   },
   {
    "duration": 9,
    "start_time": "2022-01-13T07:52:53.941Z"
   },
   {
    "duration": 11,
    "start_time": "2022-01-13T07:53:08.361Z"
   },
   {
    "duration": 14,
    "start_time": "2022-01-13T07:53:32.450Z"
   },
   {
    "duration": 10,
    "start_time": "2022-01-13T08:05:06.806Z"
   },
   {
    "duration": 8,
    "start_time": "2022-01-13T08:05:31.366Z"
   },
   {
    "duration": 14,
    "start_time": "2022-01-13T08:06:05.581Z"
   },
   {
    "duration": 29,
    "start_time": "2022-01-13T08:06:42.840Z"
   },
   {
    "duration": 14,
    "start_time": "2022-01-13T08:07:24.565Z"
   },
   {
    "duration": 10,
    "start_time": "2022-01-13T08:31:56.786Z"
   },
   {
    "duration": 8,
    "start_time": "2022-01-13T08:32:47.364Z"
   },
   {
    "duration": 16,
    "start_time": "2022-01-13T08:36:09.517Z"
   },
   {
    "duration": 12,
    "start_time": "2022-01-13T08:37:15.050Z"
   },
   {
    "duration": 9,
    "start_time": "2022-01-13T08:37:58.793Z"
   },
   {
    "duration": 9,
    "start_time": "2022-01-13T08:38:09.194Z"
   },
   {
    "duration": 6,
    "start_time": "2022-01-13T08:38:30.194Z"
   },
   {
    "duration": 24,
    "start_time": "2022-01-13T08:43:54.760Z"
   },
   {
    "duration": 32,
    "start_time": "2022-01-13T08:44:27.759Z"
   },
   {
    "duration": 7,
    "start_time": "2022-01-13T08:44:32.701Z"
   },
   {
    "duration": 8,
    "start_time": "2022-01-13T08:45:29.264Z"
   },
   {
    "duration": 5,
    "start_time": "2022-01-13T08:47:01.545Z"
   },
   {
    "duration": 5,
    "start_time": "2022-01-13T08:47:05.490Z"
   },
   {
    "duration": 4,
    "start_time": "2022-01-13T08:47:17.366Z"
   },
   {
    "duration": 4,
    "start_time": "2022-01-13T08:47:52.709Z"
   },
   {
    "duration": 12,
    "start_time": "2022-01-13T08:53:02.129Z"
   },
   {
    "duration": 10,
    "start_time": "2022-01-13T08:53:11.277Z"
   },
   {
    "duration": 8,
    "start_time": "2022-01-13T08:56:00.216Z"
   },
   {
    "duration": 6,
    "start_time": "2022-01-13T08:57:49.001Z"
   },
   {
    "duration": 5,
    "start_time": "2022-01-13T08:58:15.130Z"
   },
   {
    "duration": 7,
    "start_time": "2022-01-13T08:58:20.194Z"
   },
   {
    "duration": 5,
    "start_time": "2022-01-13T08:59:00.789Z"
   },
   {
    "duration": 4,
    "start_time": "2022-01-13T08:59:02.602Z"
   },
   {
    "duration": 290,
    "start_time": "2022-01-13T09:39:50.202Z"
   },
   {
    "duration": 24,
    "start_time": "2022-01-13T09:40:15.884Z"
   },
   {
    "duration": 99,
    "start_time": "2022-01-13T10:09:39.811Z"
   },
   {
    "duration": 11,
    "start_time": "2022-01-13T10:09:50.964Z"
   },
   {
    "duration": 676,
    "start_time": "2022-01-15T16:28:32.380Z"
   },
   {
    "duration": 4,
    "start_time": "2022-01-15T16:28:33.058Z"
   },
   {
    "duration": 16,
    "start_time": "2022-01-15T16:28:33.065Z"
   },
   {
    "duration": 11,
    "start_time": "2022-01-15T16:28:33.091Z"
   },
   {
    "duration": 16,
    "start_time": "2022-01-15T16:28:33.104Z"
   },
   {
    "duration": 22,
    "start_time": "2022-01-15T16:28:33.122Z"
   },
   {
    "duration": 6,
    "start_time": "2022-01-15T16:28:33.145Z"
   },
   {
    "duration": 49,
    "start_time": "2022-01-15T16:28:33.154Z"
   },
   {
    "duration": 15,
    "start_time": "2022-01-15T16:28:33.205Z"
   },
   {
    "duration": 7,
    "start_time": "2022-01-15T16:28:33.221Z"
   },
   {
    "duration": 20,
    "start_time": "2022-01-15T16:28:33.229Z"
   },
   {
    "duration": 14,
    "start_time": "2022-01-15T16:28:33.250Z"
   },
   {
    "duration": 27,
    "start_time": "2022-01-15T16:28:33.266Z"
   },
   {
    "duration": 10,
    "start_time": "2022-01-15T16:28:33.295Z"
   },
   {
    "duration": 13,
    "start_time": "2022-01-15T16:28:33.307Z"
   },
   {
    "duration": 9,
    "start_time": "2022-01-15T16:28:33.322Z"
   },
   {
    "duration": 7,
    "start_time": "2022-01-15T16:28:33.333Z"
   },
   {
    "duration": 9,
    "start_time": "2022-01-15T16:28:33.341Z"
   },
   {
    "duration": 5,
    "start_time": "2022-01-15T16:28:33.351Z"
   },
   {
    "duration": 35,
    "start_time": "2022-01-15T16:28:33.357Z"
   },
   {
    "duration": 3,
    "start_time": "2022-01-15T16:28:33.393Z"
   },
   {
    "duration": 7,
    "start_time": "2022-01-15T16:28:33.398Z"
   },
   {
    "duration": 2,
    "start_time": "2022-01-15T16:28:33.409Z"
   },
   {
    "duration": 3,
    "start_time": "2022-01-15T16:28:33.413Z"
   },
   {
    "duration": 4,
    "start_time": "2022-01-15T16:28:33.417Z"
   },
   {
    "duration": 4,
    "start_time": "2022-01-15T16:28:33.423Z"
   },
   {
    "duration": 6,
    "start_time": "2022-01-15T16:28:33.428Z"
   },
   {
    "duration": 4,
    "start_time": "2022-01-15T16:28:33.435Z"
   },
   {
    "duration": 6,
    "start_time": "2022-01-15T16:28:33.441Z"
   },
   {
    "duration": 5,
    "start_time": "2022-01-15T16:28:33.448Z"
   },
   {
    "duration": 4,
    "start_time": "2022-01-15T16:28:33.455Z"
   },
   {
    "duration": 3,
    "start_time": "2022-01-15T16:28:33.491Z"
   },
   {
    "duration": 6,
    "start_time": "2022-01-15T16:28:33.495Z"
   },
   {
    "duration": 4,
    "start_time": "2022-01-15T16:28:33.502Z"
   },
   {
    "duration": 4,
    "start_time": "2022-01-15T16:28:33.508Z"
   },
   {
    "duration": 4,
    "start_time": "2022-01-15T16:28:33.514Z"
   },
   {
    "duration": 5,
    "start_time": "2022-01-15T16:28:33.519Z"
   },
   {
    "duration": 5,
    "start_time": "2022-01-15T16:28:33.525Z"
   },
   {
    "duration": 4,
    "start_time": "2022-01-15T16:28:33.531Z"
   },
   {
    "duration": 4,
    "start_time": "2022-01-15T16:28:33.537Z"
   },
   {
    "duration": 6,
    "start_time": "2022-01-15T16:28:33.543Z"
   },
   {
    "duration": 5,
    "start_time": "2022-01-15T16:28:33.550Z"
   },
   {
    "duration": 5,
    "start_time": "2022-01-15T16:28:33.556Z"
   },
   {
    "duration": 29,
    "start_time": "2022-01-15T16:28:33.563Z"
   },
   {
    "duration": 6,
    "start_time": "2022-01-15T16:28:33.593Z"
   },
   {
    "duration": 5,
    "start_time": "2022-01-15T16:28:33.600Z"
   },
   {
    "duration": 5,
    "start_time": "2022-01-15T16:28:33.606Z"
   },
   {
    "duration": 5,
    "start_time": "2022-01-15T16:28:33.612Z"
   },
   {
    "duration": 4,
    "start_time": "2022-01-15T16:28:33.619Z"
   },
   {
    "duration": 5,
    "start_time": "2022-01-15T16:28:33.625Z"
   },
   {
    "duration": 5,
    "start_time": "2022-01-15T16:28:33.631Z"
   },
   {
    "duration": 4,
    "start_time": "2022-01-15T16:28:33.638Z"
   },
   {
    "duration": 4,
    "start_time": "2022-01-15T16:28:33.644Z"
   },
   {
    "duration": 4,
    "start_time": "2022-01-15T16:28:33.650Z"
   },
   {
    "duration": 4,
    "start_time": "2022-01-15T16:28:33.656Z"
   },
   {
    "duration": 30,
    "start_time": "2022-01-15T16:28:33.662Z"
   },
   {
    "duration": 4,
    "start_time": "2022-01-15T16:28:33.694Z"
   },
   {
    "duration": 5,
    "start_time": "2022-01-15T16:28:33.700Z"
   },
   {
    "duration": 4,
    "start_time": "2022-01-15T16:28:33.706Z"
   },
   {
    "duration": 5,
    "start_time": "2022-01-15T16:28:33.712Z"
   },
   {
    "duration": 5,
    "start_time": "2022-01-15T16:28:33.718Z"
   },
   {
    "duration": 5,
    "start_time": "2022-01-15T16:28:33.724Z"
   },
   {
    "duration": 4,
    "start_time": "2022-01-15T16:28:33.731Z"
   },
   {
    "duration": 5,
    "start_time": "2022-01-15T16:28:33.736Z"
   },
   {
    "duration": 6,
    "start_time": "2022-01-15T16:28:33.743Z"
   },
   {
    "duration": 4,
    "start_time": "2022-01-15T16:28:33.751Z"
   },
   {
    "duration": 4,
    "start_time": "2022-01-15T16:28:33.757Z"
   },
   {
    "duration": 3,
    "start_time": "2022-01-15T16:28:33.765Z"
   },
   {
    "duration": 23,
    "start_time": "2022-01-15T16:28:33.769Z"
   },
   {
    "duration": 5,
    "start_time": "2022-01-15T16:28:33.794Z"
   },
   {
    "duration": 4,
    "start_time": "2022-01-15T16:28:33.800Z"
   },
   {
    "duration": 5,
    "start_time": "2022-01-15T16:28:33.805Z"
   },
   {
    "duration": 5,
    "start_time": "2022-01-15T16:28:33.811Z"
   },
   {
    "duration": 9,
    "start_time": "2022-01-15T16:28:47.310Z"
   },
   {
    "duration": 5,
    "start_time": "2022-01-15T16:35:08.772Z"
   },
   {
    "duration": 7,
    "start_time": "2022-01-15T16:38:08.151Z"
   },
   {
    "duration": 23,
    "start_time": "2022-01-15T16:43:08.170Z"
   },
   {
    "duration": 43,
    "start_time": "2022-01-15T16:45:12.470Z"
   },
   {
    "duration": 264,
    "start_time": "2022-01-15T16:47:22.396Z"
   },
   {
    "duration": 38,
    "start_time": "2022-01-15T16:48:03.317Z"
   },
   {
    "duration": 671,
    "start_time": "2022-01-15T16:48:19.764Z"
   },
   {
    "duration": 5,
    "start_time": "2022-01-15T16:48:20.437Z"
   },
   {
    "duration": 17,
    "start_time": "2022-01-15T16:48:20.444Z"
   },
   {
    "duration": 33,
    "start_time": "2022-01-15T16:48:20.463Z"
   },
   {
    "duration": 21,
    "start_time": "2022-01-15T16:48:20.498Z"
   },
   {
    "duration": 24,
    "start_time": "2022-01-15T16:48:20.521Z"
   },
   {
    "duration": 7,
    "start_time": "2022-01-15T16:48:20.546Z"
   },
   {
    "duration": 49,
    "start_time": "2022-01-15T16:48:20.555Z"
   },
   {
    "duration": 17,
    "start_time": "2022-01-15T16:48:20.606Z"
   },
   {
    "duration": 6,
    "start_time": "2022-01-15T16:48:20.625Z"
   },
   {
    "duration": 18,
    "start_time": "2022-01-15T16:48:20.633Z"
   },
   {
    "duration": 49,
    "start_time": "2022-01-15T16:48:20.653Z"
   },
   {
    "duration": 2,
    "start_time": "2022-01-15T16:48:20.704Z"
   },
   {
    "duration": 10,
    "start_time": "2022-01-15T16:48:20.708Z"
   },
   {
    "duration": 13,
    "start_time": "2022-01-15T16:48:20.719Z"
   },
   {
    "duration": 10,
    "start_time": "2022-01-15T16:48:20.734Z"
   },
   {
    "duration": 7,
    "start_time": "2022-01-15T16:48:20.745Z"
   },
   {
    "duration": 37,
    "start_time": "2022-01-15T16:48:20.754Z"
   },
   {
    "duration": 7,
    "start_time": "2022-01-15T16:48:20.793Z"
   },
   {
    "duration": 7,
    "start_time": "2022-01-15T16:48:20.802Z"
   },
   {
    "duration": 4,
    "start_time": "2022-01-15T16:48:20.811Z"
   },
   {
    "duration": 7,
    "start_time": "2022-01-15T16:48:20.817Z"
   },
   {
    "duration": 6,
    "start_time": "2022-01-15T16:48:20.828Z"
   },
   {
    "duration": 71,
    "start_time": "2022-01-15T16:48:20.836Z"
   },
   {
    "duration": 2,
    "start_time": "2022-01-15T16:48:20.909Z"
   },
   {
    "duration": 6,
    "start_time": "2022-01-15T16:48:20.913Z"
   },
   {
    "duration": 5,
    "start_time": "2022-01-15T16:48:20.920Z"
   },
   {
    "duration": 5,
    "start_time": "2022-01-15T16:48:20.927Z"
   },
   {
    "duration": 4,
    "start_time": "2022-01-15T16:48:20.934Z"
   },
   {
    "duration": 5,
    "start_time": "2022-01-15T16:48:20.940Z"
   },
   {
    "duration": 4,
    "start_time": "2022-01-15T16:48:20.947Z"
   },
   {
    "duration": 8,
    "start_time": "2022-01-15T16:48:20.953Z"
   },
   {
    "duration": 10,
    "start_time": "2022-01-15T16:48:20.963Z"
   },
   {
    "duration": 3,
    "start_time": "2022-01-15T16:48:20.992Z"
   },
   {
    "duration": 6,
    "start_time": "2022-01-15T16:48:20.996Z"
   },
   {
    "duration": 5,
    "start_time": "2022-01-15T16:48:21.005Z"
   },
   {
    "duration": 4,
    "start_time": "2022-01-15T16:48:21.012Z"
   },
   {
    "duration": 4,
    "start_time": "2022-01-15T16:48:21.018Z"
   },
   {
    "duration": 6,
    "start_time": "2022-01-15T16:48:21.024Z"
   },
   {
    "duration": 14,
    "start_time": "2022-01-15T16:48:21.032Z"
   },
   {
    "duration": 5,
    "start_time": "2022-01-15T16:48:21.048Z"
   },
   {
    "duration": 5,
    "start_time": "2022-01-15T16:48:21.054Z"
   },
   {
    "duration": 5,
    "start_time": "2022-01-15T16:48:21.061Z"
   },
   {
    "duration": 4,
    "start_time": "2022-01-15T16:48:21.092Z"
   },
   {
    "duration": 5,
    "start_time": "2022-01-15T16:48:21.098Z"
   },
   {
    "duration": 8,
    "start_time": "2022-01-15T16:48:21.105Z"
   },
   {
    "duration": 10,
    "start_time": "2022-01-15T16:48:21.115Z"
   },
   {
    "duration": 7,
    "start_time": "2022-01-15T16:48:21.127Z"
   },
   {
    "duration": 5,
    "start_time": "2022-01-15T16:48:21.136Z"
   },
   {
    "duration": 5,
    "start_time": "2022-01-15T16:48:21.142Z"
   },
   {
    "duration": 5,
    "start_time": "2022-01-15T16:48:21.148Z"
   },
   {
    "duration": 5,
    "start_time": "2022-01-15T16:48:21.154Z"
   },
   {
    "duration": 5,
    "start_time": "2022-01-15T16:48:21.161Z"
   },
   {
    "duration": 5,
    "start_time": "2022-01-15T16:48:21.167Z"
   },
   {
    "duration": 2,
    "start_time": "2022-01-15T16:48:21.192Z"
   },
   {
    "duration": 5,
    "start_time": "2022-01-15T16:48:21.196Z"
   },
   {
    "duration": 3,
    "start_time": "2022-01-15T16:48:21.204Z"
   },
   {
    "duration": 7,
    "start_time": "2022-01-15T16:48:21.209Z"
   },
   {
    "duration": 8,
    "start_time": "2022-01-15T16:48:21.218Z"
   },
   {
    "duration": 9,
    "start_time": "2022-01-15T16:48:21.228Z"
   },
   {
    "duration": 5,
    "start_time": "2022-01-15T16:48:21.238Z"
   },
   {
    "duration": 4,
    "start_time": "2022-01-15T16:48:21.245Z"
   },
   {
    "duration": 4,
    "start_time": "2022-01-15T16:48:21.251Z"
   },
   {
    "duration": 4,
    "start_time": "2022-01-15T16:48:21.256Z"
   },
   {
    "duration": 6,
    "start_time": "2022-01-15T16:48:21.262Z"
   },
   {
    "duration": 23,
    "start_time": "2022-01-15T16:48:21.269Z"
   },
   {
    "duration": 5,
    "start_time": "2022-01-15T16:48:21.294Z"
   },
   {
    "duration": 2,
    "start_time": "2022-01-15T16:48:21.304Z"
   },
   {
    "duration": 5,
    "start_time": "2022-01-15T16:48:21.308Z"
   },
   {
    "duration": 5,
    "start_time": "2022-01-15T16:48:21.314Z"
   },
   {
    "duration": 4,
    "start_time": "2022-01-15T16:48:21.321Z"
   },
   {
    "duration": 6,
    "start_time": "2022-01-15T16:48:21.326Z"
   },
   {
    "duration": 5,
    "start_time": "2022-01-15T16:48:21.333Z"
   },
   {
    "duration": 5,
    "start_time": "2022-01-15T16:49:01.519Z"
   },
   {
    "duration": 8,
    "start_time": "2022-01-15T16:49:27.243Z"
   },
   {
    "duration": 7,
    "start_time": "2022-01-15T16:50:00.889Z"
   },
   {
    "duration": 7,
    "start_time": "2022-01-15T16:51:27.339Z"
   },
   {
    "duration": 7,
    "start_time": "2022-01-15T16:53:34.253Z"
   },
   {
    "duration": 237,
    "start_time": "2022-01-15T16:53:38.454Z"
   },
   {
    "duration": 179,
    "start_time": "2022-01-15T16:53:55.337Z"
   },
   {
    "duration": 177,
    "start_time": "2022-01-15T16:53:58.643Z"
   },
   {
    "duration": 173,
    "start_time": "2022-01-15T16:55:26.253Z"
   },
   {
    "duration": 177,
    "start_time": "2022-01-15T16:55:59.789Z"
   },
   {
    "duration": 176,
    "start_time": "2022-01-15T16:56:12.411Z"
   },
   {
    "duration": 186,
    "start_time": "2022-01-15T16:56:30.822Z"
   },
   {
    "duration": 207,
    "start_time": "2022-01-15T16:57:06.462Z"
   },
   {
    "duration": 169,
    "start_time": "2022-01-15T16:57:15.184Z"
   },
   {
    "duration": 9,
    "start_time": "2022-01-15T17:07:47.159Z"
   },
   {
    "duration": 26,
    "start_time": "2022-01-15T17:07:59.427Z"
   },
   {
    "duration": 191,
    "start_time": "2022-01-15T17:17:05.785Z"
   },
   {
    "duration": 9,
    "start_time": "2022-01-15T17:18:37.947Z"
   },
   {
    "duration": 7,
    "start_time": "2022-01-15T17:19:18.536Z"
   },
   {
    "duration": 7,
    "start_time": "2022-01-15T17:19:19.773Z"
   },
   {
    "duration": 7,
    "start_time": "2022-01-15T17:19:43.227Z"
   },
   {
    "duration": 7,
    "start_time": "2022-01-15T17:21:16.155Z"
   },
   {
    "duration": 12,
    "start_time": "2022-01-15T17:23:13.639Z"
   },
   {
    "duration": 18,
    "start_time": "2022-01-15T17:23:59.483Z"
   },
   {
    "duration": 7,
    "start_time": "2022-01-15T17:44:00.404Z"
   },
   {
    "duration": 665,
    "start_time": "2022-01-15T17:45:08.378Z"
   },
   {
    "duration": 3,
    "start_time": "2022-01-15T17:45:09.045Z"
   },
   {
    "duration": 19,
    "start_time": "2022-01-15T17:45:09.050Z"
   },
   {
    "duration": 26,
    "start_time": "2022-01-15T17:45:09.070Z"
   },
   {
    "duration": 18,
    "start_time": "2022-01-15T17:45:09.098Z"
   },
   {
    "duration": 22,
    "start_time": "2022-01-15T17:45:09.117Z"
   },
   {
    "duration": 6,
    "start_time": "2022-01-15T17:45:09.141Z"
   },
   {
    "duration": 43,
    "start_time": "2022-01-15T17:45:09.149Z"
   },
   {
    "duration": 16,
    "start_time": "2022-01-15T17:45:09.194Z"
   },
   {
    "duration": 6,
    "start_time": "2022-01-15T17:45:09.212Z"
   },
   {
    "duration": 13,
    "start_time": "2022-01-15T17:45:09.220Z"
   },
   {
    "duration": 15,
    "start_time": "2022-01-15T17:45:09.234Z"
   },
   {
    "duration": 4,
    "start_time": "2022-01-15T17:45:09.251Z"
   },
   {
    "duration": 44,
    "start_time": "2022-01-15T17:45:09.257Z"
   },
   {
    "duration": 11,
    "start_time": "2022-01-15T17:45:09.303Z"
   },
   {
    "duration": 9,
    "start_time": "2022-01-15T17:45:09.315Z"
   },
   {
    "duration": 7,
    "start_time": "2022-01-15T17:45:09.326Z"
   },
   {
    "duration": 8,
    "start_time": "2022-01-15T17:45:09.334Z"
   },
   {
    "duration": 7,
    "start_time": "2022-01-15T17:45:09.343Z"
   },
   {
    "duration": 7,
    "start_time": "2022-01-15T17:45:09.352Z"
   },
   {
    "duration": 3,
    "start_time": "2022-01-15T17:45:09.391Z"
   },
   {
    "duration": 8,
    "start_time": "2022-01-15T17:45:09.395Z"
   },
   {
    "duration": 6,
    "start_time": "2022-01-15T17:45:09.407Z"
   },
   {
    "duration": 25,
    "start_time": "2022-01-15T17:45:09.415Z"
   },
   {
    "duration": 9,
    "start_time": "2022-01-15T17:45:09.441Z"
   },
   {
    "duration": 6,
    "start_time": "2022-01-15T17:45:09.451Z"
   },
   {
    "duration": 2,
    "start_time": "2022-01-15T17:45:09.492Z"
   },
   {
    "duration": 5,
    "start_time": "2022-01-15T17:45:09.496Z"
   },
   {
    "duration": 19,
    "start_time": "2022-01-15T17:45:09.503Z"
   },
   {
    "duration": 11,
    "start_time": "2022-01-15T17:45:09.524Z"
   },
   {
    "duration": 8,
    "start_time": "2022-01-15T17:45:09.537Z"
   },
   {
    "duration": 7,
    "start_time": "2022-01-15T17:45:09.547Z"
   },
   {
    "duration": 4,
    "start_time": "2022-01-15T17:45:09.555Z"
   },
   {
    "duration": 4,
    "start_time": "2022-01-15T17:45:09.561Z"
   },
   {
    "duration": 4,
    "start_time": "2022-01-15T17:45:09.567Z"
   },
   {
    "duration": 2,
    "start_time": "2022-01-15T17:45:09.592Z"
   },
   {
    "duration": 4,
    "start_time": "2022-01-15T17:45:09.595Z"
   },
   {
    "duration": 4,
    "start_time": "2022-01-15T17:45:09.601Z"
   },
   {
    "duration": 4,
    "start_time": "2022-01-15T17:45:09.606Z"
   },
   {
    "duration": 4,
    "start_time": "2022-01-15T17:45:09.612Z"
   },
   {
    "duration": 4,
    "start_time": "2022-01-15T17:45:09.618Z"
   },
   {
    "duration": 4,
    "start_time": "2022-01-15T17:45:09.624Z"
   },
   {
    "duration": 8,
    "start_time": "2022-01-15T17:45:09.629Z"
   },
   {
    "duration": 4,
    "start_time": "2022-01-15T17:45:09.638Z"
   },
   {
    "duration": 4,
    "start_time": "2022-01-15T17:45:09.644Z"
   },
   {
    "duration": 4,
    "start_time": "2022-01-15T17:45:09.649Z"
   },
   {
    "duration": 5,
    "start_time": "2022-01-15T17:45:09.654Z"
   },
   {
    "duration": 4,
    "start_time": "2022-01-15T17:45:09.660Z"
   },
   {
    "duration": 1,
    "start_time": "2022-01-15T17:45:09.666Z"
   },
   {
    "duration": 7,
    "start_time": "2022-01-15T17:45:09.691Z"
   },
   {
    "duration": 3,
    "start_time": "2022-01-15T17:45:09.700Z"
   },
   {
    "duration": 5,
    "start_time": "2022-01-15T17:45:09.705Z"
   },
   {
    "duration": 5,
    "start_time": "2022-01-15T17:45:09.711Z"
   },
   {
    "duration": 5,
    "start_time": "2022-01-15T17:45:09.717Z"
   },
   {
    "duration": 6,
    "start_time": "2022-01-15T17:45:09.723Z"
   },
   {
    "duration": 6,
    "start_time": "2022-01-15T17:45:09.730Z"
   },
   {
    "duration": 4,
    "start_time": "2022-01-15T17:45:09.738Z"
   },
   {
    "duration": 4,
    "start_time": "2022-01-15T17:45:09.743Z"
   },
   {
    "duration": 4,
    "start_time": "2022-01-15T17:45:09.749Z"
   },
   {
    "duration": 4,
    "start_time": "2022-01-15T17:45:09.755Z"
   },
   {
    "duration": 5,
    "start_time": "2022-01-15T17:45:09.760Z"
   },
   {
    "duration": 1,
    "start_time": "2022-01-15T17:45:09.792Z"
   },
   {
    "duration": 5,
    "start_time": "2022-01-15T17:45:09.795Z"
   },
   {
    "duration": 5,
    "start_time": "2022-01-15T17:45:09.801Z"
   },
   {
    "duration": 5,
    "start_time": "2022-01-15T17:45:09.807Z"
   },
   {
    "duration": 5,
    "start_time": "2022-01-15T17:45:09.813Z"
   },
   {
    "duration": 4,
    "start_time": "2022-01-15T17:45:09.820Z"
   },
   {
    "duration": 2,
    "start_time": "2022-01-15T17:45:09.828Z"
   },
   {
    "duration": 5,
    "start_time": "2022-01-15T17:45:09.832Z"
   },
   {
    "duration": 4,
    "start_time": "2022-01-15T17:45:09.839Z"
   },
   {
    "duration": 5,
    "start_time": "2022-01-15T17:45:09.844Z"
   },
   {
    "duration": 6,
    "start_time": "2022-01-15T17:45:09.850Z"
   },
   {
    "duration": 7,
    "start_time": "2022-01-15T17:45:09.857Z"
   },
   {
    "duration": 633,
    "start_time": "2022-01-15T18:15:25.111Z"
   },
   {
    "duration": 3,
    "start_time": "2022-01-15T18:15:25.746Z"
   },
   {
    "duration": 17,
    "start_time": "2022-01-15T18:15:25.751Z"
   },
   {
    "duration": 28,
    "start_time": "2022-01-15T18:15:25.770Z"
   },
   {
    "duration": 20,
    "start_time": "2022-01-15T18:15:25.800Z"
   },
   {
    "duration": 20,
    "start_time": "2022-01-15T18:15:25.822Z"
   },
   {
    "duration": 5,
    "start_time": "2022-01-15T18:15:25.844Z"
   },
   {
    "duration": 44,
    "start_time": "2022-01-15T18:15:25.851Z"
   },
   {
    "duration": 15,
    "start_time": "2022-01-15T18:15:25.897Z"
   },
   {
    "duration": 6,
    "start_time": "2022-01-15T18:15:25.914Z"
   },
   {
    "duration": 13,
    "start_time": "2022-01-15T18:15:25.922Z"
   },
   {
    "duration": 19,
    "start_time": "2022-01-15T18:15:25.936Z"
   },
   {
    "duration": 5,
    "start_time": "2022-01-15T18:15:25.957Z"
   },
   {
    "duration": 33,
    "start_time": "2022-01-15T18:15:25.963Z"
   },
   {
    "duration": 21,
    "start_time": "2022-01-15T18:15:25.998Z"
   },
   {
    "duration": 16,
    "start_time": "2022-01-15T18:15:26.021Z"
   },
   {
    "duration": 25,
    "start_time": "2022-01-15T18:15:26.038Z"
   },
   {
    "duration": 16,
    "start_time": "2022-01-15T18:15:26.065Z"
   },
   {
    "duration": 7,
    "start_time": "2022-01-15T18:15:26.083Z"
   },
   {
    "duration": 24,
    "start_time": "2022-01-15T18:15:26.091Z"
   },
   {
    "duration": 16,
    "start_time": "2022-01-15T18:15:26.117Z"
   },
   {
    "duration": 16,
    "start_time": "2022-01-15T18:15:26.135Z"
   },
   {
    "duration": 23,
    "start_time": "2022-01-15T18:15:26.155Z"
   },
   {
    "duration": 34,
    "start_time": "2022-01-15T18:15:26.181Z"
   },
   {
    "duration": 8,
    "start_time": "2022-01-15T18:15:26.217Z"
   },
   {
    "duration": 19,
    "start_time": "2022-01-15T18:15:26.226Z"
   },
   {
    "duration": 16,
    "start_time": "2022-01-15T18:15:26.246Z"
   },
   {
    "duration": 22,
    "start_time": "2022-01-15T18:15:26.263Z"
   },
   {
    "duration": 19,
    "start_time": "2022-01-15T18:15:26.287Z"
   },
   {
    "duration": 11,
    "start_time": "2022-01-15T18:15:26.307Z"
   },
   {
    "duration": 9,
    "start_time": "2022-01-15T18:15:26.319Z"
   },
   {
    "duration": 11,
    "start_time": "2022-01-15T18:15:26.330Z"
   },
   {
    "duration": 5,
    "start_time": "2022-01-15T18:15:26.343Z"
   },
   {
    "duration": 5,
    "start_time": "2022-01-15T18:15:26.349Z"
   },
   {
    "duration": 4,
    "start_time": "2022-01-15T18:15:26.356Z"
   },
   {
    "duration": 5,
    "start_time": "2022-01-15T18:15:26.362Z"
   },
   {
    "duration": 4,
    "start_time": "2022-01-15T18:15:26.369Z"
   },
   {
    "duration": 17,
    "start_time": "2022-01-15T18:15:26.375Z"
   },
   {
    "duration": 26,
    "start_time": "2022-01-15T18:15:26.394Z"
   },
   {
    "duration": 6,
    "start_time": "2022-01-15T18:15:26.422Z"
   },
   {
    "duration": 18,
    "start_time": "2022-01-15T18:15:26.430Z"
   },
   {
    "duration": 13,
    "start_time": "2022-01-15T18:15:26.450Z"
   },
   {
    "duration": 13,
    "start_time": "2022-01-15T18:15:26.465Z"
   },
   {
    "duration": 16,
    "start_time": "2022-01-15T18:15:26.479Z"
   },
   {
    "duration": 24,
    "start_time": "2022-01-15T18:15:26.497Z"
   },
   {
    "duration": 18,
    "start_time": "2022-01-15T18:15:26.523Z"
   },
   {
    "duration": 16,
    "start_time": "2022-01-15T18:15:26.542Z"
   },
   {
    "duration": 6,
    "start_time": "2022-01-15T18:15:26.560Z"
   },
   {
    "duration": 20,
    "start_time": "2022-01-15T18:15:26.568Z"
   },
   {
    "duration": 15,
    "start_time": "2022-01-15T18:15:26.590Z"
   },
   {
    "duration": 12,
    "start_time": "2022-01-15T18:15:26.606Z"
   },
   {
    "duration": 8,
    "start_time": "2022-01-15T18:15:26.620Z"
   },
   {
    "duration": 9,
    "start_time": "2022-01-15T18:15:26.630Z"
   },
   {
    "duration": 15,
    "start_time": "2022-01-15T18:15:26.641Z"
   },
   {
    "duration": 13,
    "start_time": "2022-01-15T18:15:26.658Z"
   },
   {
    "duration": 10,
    "start_time": "2022-01-15T18:15:26.673Z"
   },
   {
    "duration": 5,
    "start_time": "2022-01-15T18:15:26.684Z"
   },
   {
    "duration": 12,
    "start_time": "2022-01-15T18:15:26.691Z"
   },
   {
    "duration": 9,
    "start_time": "2022-01-15T18:15:26.704Z"
   },
   {
    "duration": 21,
    "start_time": "2022-01-15T18:15:26.714Z"
   },
   {
    "duration": 8,
    "start_time": "2022-01-15T18:15:26.737Z"
   },
   {
    "duration": 5,
    "start_time": "2022-01-15T18:15:26.747Z"
   },
   {
    "duration": 6,
    "start_time": "2022-01-15T18:15:26.753Z"
   },
   {
    "duration": 5,
    "start_time": "2022-01-15T18:15:26.760Z"
   },
   {
    "duration": 5,
    "start_time": "2022-01-15T18:15:26.767Z"
   },
   {
    "duration": 6,
    "start_time": "2022-01-15T18:15:26.774Z"
   },
   {
    "duration": 5,
    "start_time": "2022-01-15T18:15:26.782Z"
   },
   {
    "duration": 3,
    "start_time": "2022-01-15T18:15:26.792Z"
   },
   {
    "duration": 7,
    "start_time": "2022-01-15T18:15:26.797Z"
   },
   {
    "duration": 5,
    "start_time": "2022-01-15T18:15:26.806Z"
   },
   {
    "duration": 7,
    "start_time": "2022-01-15T18:15:26.813Z"
   },
   {
    "duration": 5,
    "start_time": "2022-01-15T18:15:26.822Z"
   },
   {
    "duration": 8,
    "start_time": "2022-01-15T18:15:26.829Z"
   },
   {
    "duration": 7,
    "start_time": "2022-01-15T18:16:38.074Z"
   },
   {
    "duration": 240,
    "start_time": "2022-01-15T19:07:46.604Z"
   },
   {
    "duration": 3,
    "start_time": "2022-01-15T19:07:52.049Z"
   },
   {
    "duration": 174,
    "start_time": "2022-01-15T19:07:53.284Z"
   },
   {
    "duration": 4,
    "start_time": "2022-01-15T19:08:05.628Z"
   },
   {
    "duration": 3,
    "start_time": "2022-01-15T19:08:23.317Z"
   },
   {
    "duration": 383,
    "start_time": "2022-01-15T19:08:44.882Z"
   },
   {
    "duration": 4,
    "start_time": "2022-01-15T19:10:52.090Z"
   },
   {
    "duration": 21,
    "start_time": "2022-01-15T19:14:57.673Z"
   },
   {
    "duration": 11,
    "start_time": "2022-01-15T19:15:11.614Z"
   },
   {
    "duration": 23,
    "start_time": "2022-01-15T19:15:13.005Z"
   },
   {
    "duration": 18,
    "start_time": "2022-01-15T19:15:42.155Z"
   },
   {
    "duration": 707,
    "start_time": "2022-01-15T19:20:30.592Z"
   },
   {
    "duration": 6,
    "start_time": "2022-01-15T19:20:31.303Z"
   },
   {
    "duration": 21,
    "start_time": "2022-01-15T19:20:31.312Z"
   },
   {
    "duration": 13,
    "start_time": "2022-01-15T19:20:31.335Z"
   },
   {
    "duration": 44,
    "start_time": "2022-01-15T19:20:31.350Z"
   },
   {
    "duration": 26,
    "start_time": "2022-01-15T19:20:31.397Z"
   },
   {
    "duration": 7,
    "start_time": "2022-01-15T19:20:31.425Z"
   },
   {
    "duration": 19,
    "start_time": "2022-01-15T19:20:31.434Z"
   },
   {
    "duration": 48,
    "start_time": "2022-01-15T19:20:31.455Z"
   },
   {
    "duration": 8,
    "start_time": "2022-01-15T19:20:31.506Z"
   },
   {
    "duration": 18,
    "start_time": "2022-01-15T19:20:31.516Z"
   },
   {
    "duration": 16,
    "start_time": "2022-01-15T19:20:31.535Z"
   },
   {
    "duration": 3,
    "start_time": "2022-01-15T19:20:31.553Z"
   },
   {
    "duration": 40,
    "start_time": "2022-01-15T19:20:31.558Z"
   },
   {
    "duration": 19,
    "start_time": "2022-01-15T19:20:31.600Z"
   },
   {
    "duration": 11,
    "start_time": "2022-01-15T19:20:31.620Z"
   },
   {
    "duration": 8,
    "start_time": "2022-01-15T19:20:31.633Z"
   },
   {
    "duration": 8,
    "start_time": "2022-01-15T19:20:31.642Z"
   },
   {
    "duration": 5,
    "start_time": "2022-01-15T19:20:31.652Z"
   },
   {
    "duration": 7,
    "start_time": "2022-01-15T19:20:31.658Z"
   },
   {
    "duration": 9,
    "start_time": "2022-01-15T19:20:31.692Z"
   },
   {
    "duration": 11,
    "start_time": "2022-01-15T19:20:31.705Z"
   },
   {
    "duration": 6,
    "start_time": "2022-01-15T19:20:31.719Z"
   },
   {
    "duration": 23,
    "start_time": "2022-01-15T19:20:31.728Z"
   },
   {
    "duration": 8,
    "start_time": "2022-01-15T19:20:31.753Z"
   },
   {
    "duration": 37,
    "start_time": "2022-01-15T19:20:31.762Z"
   },
   {
    "duration": 5,
    "start_time": "2022-01-15T19:20:31.802Z"
   },
   {
    "duration": 5,
    "start_time": "2022-01-15T19:20:31.809Z"
   },
   {
    "duration": 11,
    "start_time": "2022-01-15T19:20:31.816Z"
   },
   {
    "duration": 9,
    "start_time": "2022-01-15T19:20:31.828Z"
   },
   {
    "duration": 8,
    "start_time": "2022-01-15T19:20:31.838Z"
   },
   {
    "duration": 11,
    "start_time": "2022-01-15T19:20:31.848Z"
   },
   {
    "duration": 3,
    "start_time": "2022-01-15T19:20:31.860Z"
   },
   {
    "duration": 26,
    "start_time": "2022-01-15T19:20:31.865Z"
   },
   {
    "duration": 3,
    "start_time": "2022-01-15T19:20:31.895Z"
   },
   {
    "duration": 5,
    "start_time": "2022-01-15T19:20:31.901Z"
   },
   {
    "duration": 8,
    "start_time": "2022-01-15T19:20:31.909Z"
   },
   {
    "duration": 8,
    "start_time": "2022-01-15T19:20:31.919Z"
   },
   {
    "duration": 7,
    "start_time": "2022-01-15T19:20:31.929Z"
   },
   {
    "duration": 6,
    "start_time": "2022-01-15T19:20:31.938Z"
   },
   {
    "duration": 16,
    "start_time": "2022-01-15T19:20:31.946Z"
   },
   {
    "duration": 35,
    "start_time": "2022-01-15T19:20:31.963Z"
   },
   {
    "duration": 7,
    "start_time": "2022-01-15T19:20:32.002Z"
   },
   {
    "duration": 6,
    "start_time": "2022-01-15T19:20:32.011Z"
   },
   {
    "duration": 6,
    "start_time": "2022-01-15T19:20:32.018Z"
   },
   {
    "duration": 8,
    "start_time": "2022-01-15T19:20:32.025Z"
   },
   {
    "duration": 9,
    "start_time": "2022-01-15T19:20:32.034Z"
   },
   {
    "duration": 6,
    "start_time": "2022-01-15T19:20:32.045Z"
   },
   {
    "duration": 8,
    "start_time": "2022-01-15T19:20:32.053Z"
   },
   {
    "duration": 5,
    "start_time": "2022-01-15T19:20:32.062Z"
   },
   {
    "duration": 5,
    "start_time": "2022-01-15T19:20:32.069Z"
   },
   {
    "duration": 5,
    "start_time": "2022-01-15T19:20:32.076Z"
   },
   {
    "duration": 7,
    "start_time": "2022-01-15T19:20:32.090Z"
   },
   {
    "duration": 7,
    "start_time": "2022-01-15T19:20:32.099Z"
   },
   {
    "duration": 4,
    "start_time": "2022-01-15T19:20:32.108Z"
   },
   {
    "duration": 5,
    "start_time": "2022-01-15T19:20:32.114Z"
   },
   {
    "duration": 6,
    "start_time": "2022-01-15T19:20:32.120Z"
   },
   {
    "duration": 7,
    "start_time": "2022-01-15T19:20:32.127Z"
   },
   {
    "duration": 7,
    "start_time": "2022-01-15T19:20:32.135Z"
   },
   {
    "duration": 5,
    "start_time": "2022-01-15T19:20:32.144Z"
   },
   {
    "duration": 4,
    "start_time": "2022-01-15T19:20:32.151Z"
   },
   {
    "duration": 5,
    "start_time": "2022-01-15T19:20:32.156Z"
   },
   {
    "duration": 5,
    "start_time": "2022-01-15T19:20:32.162Z"
   },
   {
    "duration": 23,
    "start_time": "2022-01-15T19:20:32.169Z"
   },
   {
    "duration": 3,
    "start_time": "2022-01-15T19:20:32.195Z"
   },
   {
    "duration": 4,
    "start_time": "2022-01-15T19:20:32.201Z"
   },
   {
    "duration": 7,
    "start_time": "2022-01-15T19:20:32.208Z"
   },
   {
    "duration": 5,
    "start_time": "2022-01-15T19:20:32.219Z"
   },
   {
    "duration": 5,
    "start_time": "2022-01-15T19:20:32.225Z"
   },
   {
    "duration": 7,
    "start_time": "2022-01-15T19:20:32.232Z"
   },
   {
    "duration": 5,
    "start_time": "2022-01-15T19:20:32.240Z"
   },
   {
    "duration": 5,
    "start_time": "2022-01-15T19:20:32.247Z"
   },
   {
    "duration": 14,
    "start_time": "2022-01-15T19:22:25.596Z"
   },
   {
    "duration": 12,
    "start_time": "2022-01-15T19:25:15.810Z"
   },
   {
    "duration": 10,
    "start_time": "2022-01-15T19:25:18.444Z"
   },
   {
    "duration": 10,
    "start_time": "2022-01-15T19:25:22.436Z"
   },
   {
    "duration": 11,
    "start_time": "2022-01-15T19:25:29.086Z"
   },
   {
    "duration": 2,
    "start_time": "2022-01-15T19:25:29.662Z"
   },
   {
    "duration": 10,
    "start_time": "2022-01-15T19:25:34.446Z"
   },
   {
    "duration": 2,
    "start_time": "2022-01-15T19:25:35.046Z"
   },
   {
    "duration": 20,
    "start_time": "2022-01-15T19:25:45.608Z"
   },
   {
    "duration": 321,
    "start_time": "2022-01-15T19:32:00.004Z"
   },
   {
    "duration": 26,
    "start_time": "2022-01-15T19:32:13.135Z"
   },
   {
    "duration": 7,
    "start_time": "2022-01-15T19:45:58.497Z"
   },
   {
    "duration": 9,
    "start_time": "2022-01-15T19:46:39.152Z"
   },
   {
    "duration": 14,
    "start_time": "2022-01-15T19:52:51.407Z"
   },
   {
    "duration": 13,
    "start_time": "2022-01-15T19:53:37.631Z"
   },
   {
    "duration": 4318,
    "start_time": "2022-01-15T20:31:57.367Z"
   },
   {
    "duration": 11,
    "start_time": "2022-01-15T20:32:16.643Z"
   },
   {
    "duration": 55,
    "start_time": "2022-01-15T20:32:28.347Z"
   },
   {
    "duration": 32,
    "start_time": "2022-01-15T20:32:43.104Z"
   },
   {
    "duration": 11,
    "start_time": "2022-01-15T20:32:46.160Z"
   },
   {
    "duration": 7,
    "start_time": "2022-01-15T20:40:59.970Z"
   },
   {
    "duration": 8,
    "start_time": "2022-01-15T20:41:13.192Z"
   },
   {
    "duration": 574,
    "start_time": "2022-01-15T20:41:45.647Z"
   },
   {
    "duration": 3,
    "start_time": "2022-01-15T20:41:50.788Z"
   },
   {
    "duration": 178,
    "start_time": "2022-01-15T20:46:43.454Z"
   },
   {
    "duration": 4,
    "start_time": "2022-01-15T20:46:48.199Z"
   },
   {
    "duration": 4179,
    "start_time": "2022-01-15T20:46:55.118Z"
   },
   {
    "duration": 6,
    "start_time": "2022-01-15T20:47:16.963Z"
   },
   {
    "duration": 6,
    "start_time": "2022-01-15T20:48:23.091Z"
   },
   {
    "duration": 13,
    "start_time": "2022-01-15T20:48:34.441Z"
   },
   {
    "duration": 3,
    "start_time": "2022-01-15T20:48:56.292Z"
   },
   {
    "duration": 6,
    "start_time": "2022-01-15T20:49:00.216Z"
   },
   {
    "duration": 7,
    "start_time": "2022-01-15T20:57:25.860Z"
   },
   {
    "duration": 181,
    "start_time": "2022-01-15T21:12:05.819Z"
   },
   {
    "duration": 3,
    "start_time": "2022-01-15T21:12:12.179Z"
   },
   {
    "duration": 36486,
    "start_time": "2022-01-15T21:12:13.842Z"
   },
   {
    "duration": 5,
    "start_time": "2022-01-15T21:13:07.938Z"
   },
   {
    "duration": 2261,
    "start_time": "2022-01-15T21:14:07.318Z"
   },
   {
    "duration": 653,
    "start_time": "2022-01-15T21:14:15.490Z"
   },
   {
    "duration": 4,
    "start_time": "2022-01-15T21:14:16.145Z"
   },
   {
    "duration": 25,
    "start_time": "2022-01-15T21:14:16.151Z"
   },
   {
    "duration": 19,
    "start_time": "2022-01-15T21:14:16.178Z"
   },
   {
    "duration": 18,
    "start_time": "2022-01-15T21:14:16.198Z"
   },
   {
    "duration": 20,
    "start_time": "2022-01-15T21:14:16.218Z"
   },
   {
    "duration": 5,
    "start_time": "2022-01-15T21:14:16.240Z"
   },
   {
    "duration": 12,
    "start_time": "2022-01-15T21:14:16.247Z"
   },
   {
    "duration": 43,
    "start_time": "2022-01-15T21:14:16.261Z"
   },
   {
    "duration": 6,
    "start_time": "2022-01-15T21:14:16.305Z"
   },
   {
    "duration": 13,
    "start_time": "2022-01-15T21:14:16.313Z"
   },
   {
    "duration": 13,
    "start_time": "2022-01-15T21:14:16.328Z"
   },
   {
    "duration": 5,
    "start_time": "2022-01-15T21:14:16.342Z"
   },
   {
    "duration": 10,
    "start_time": "2022-01-15T21:14:16.349Z"
   },
   {
    "duration": 36,
    "start_time": "2022-01-15T21:14:16.360Z"
   },
   {
    "duration": 13,
    "start_time": "2022-01-15T21:14:16.397Z"
   },
   {
    "duration": 6,
    "start_time": "2022-01-15T21:14:16.412Z"
   },
   {
    "duration": 8,
    "start_time": "2022-01-15T21:14:16.419Z"
   },
   {
    "duration": 5,
    "start_time": "2022-01-15T21:14:16.429Z"
   },
   {
    "duration": 7,
    "start_time": "2022-01-15T21:14:16.436Z"
   },
   {
    "duration": 12,
    "start_time": "2022-01-15T21:14:16.445Z"
   },
   {
    "duration": 20,
    "start_time": "2022-01-15T21:14:16.458Z"
   },
   {
    "duration": 15,
    "start_time": "2022-01-15T21:14:16.481Z"
   },
   {
    "duration": 41,
    "start_time": "2022-01-15T21:14:16.498Z"
   },
   {
    "duration": 8,
    "start_time": "2022-01-15T21:14:16.541Z"
   },
   {
    "duration": 13,
    "start_time": "2022-01-15T21:14:16.550Z"
   },
   {
    "duration": 9,
    "start_time": "2022-01-15T21:14:16.565Z"
   },
   {
    "duration": 9,
    "start_time": "2022-01-15T21:14:16.575Z"
   },
   {
    "duration": 20,
    "start_time": "2022-01-15T21:14:16.585Z"
   },
   {
    "duration": 13,
    "start_time": "2022-01-15T21:14:16.606Z"
   },
   {
    "duration": 15,
    "start_time": "2022-01-15T21:14:16.620Z"
   },
   {
    "duration": 26,
    "start_time": "2022-01-15T21:14:16.637Z"
   },
   {
    "duration": 13,
    "start_time": "2022-01-15T21:14:16.664Z"
   },
   {
    "duration": 23,
    "start_time": "2022-01-15T21:14:16.679Z"
   },
   {
    "duration": 21,
    "start_time": "2022-01-15T21:14:16.703Z"
   },
   {
    "duration": 10,
    "start_time": "2022-01-15T21:14:16.726Z"
   },
   {
    "duration": 18,
    "start_time": "2022-01-15T21:14:16.737Z"
   },
   {
    "duration": 16,
    "start_time": "2022-01-15T21:14:16.757Z"
   },
   {
    "duration": 14,
    "start_time": "2022-01-15T21:14:16.774Z"
   },
   {
    "duration": 23,
    "start_time": "2022-01-15T21:14:16.790Z"
   },
   {
    "duration": 30,
    "start_time": "2022-01-15T21:14:16.814Z"
   },
   {
    "duration": 23,
    "start_time": "2022-01-15T21:14:16.846Z"
   },
   {
    "duration": 6,
    "start_time": "2022-01-15T21:14:16.871Z"
   },
   {
    "duration": 24,
    "start_time": "2022-01-15T21:14:16.879Z"
   },
   {
    "duration": 36,
    "start_time": "2022-01-15T21:14:16.905Z"
   },
   {
    "duration": 36,
    "start_time": "2022-01-15T21:14:16.943Z"
   },
   {
    "duration": 12,
    "start_time": "2022-01-15T21:14:16.980Z"
   },
   {
    "duration": 9,
    "start_time": "2022-01-15T21:14:16.993Z"
   },
   {
    "duration": 29,
    "start_time": "2022-01-15T21:14:17.003Z"
   },
   {
    "duration": 799,
    "start_time": "2022-01-15T21:14:17.033Z"
   },
   {
    "duration": 0,
    "start_time": "2022-01-15T21:14:17.834Z"
   },
   {
    "duration": -61,
    "start_time": "2022-01-15T21:14:17.897Z"
   },
   {
    "duration": -64,
    "start_time": "2022-01-15T21:14:17.901Z"
   },
   {
    "duration": -68,
    "start_time": "2022-01-15T21:14:17.905Z"
   },
   {
    "duration": -74,
    "start_time": "2022-01-15T21:14:17.913Z"
   },
   {
    "duration": -77,
    "start_time": "2022-01-15T21:14:17.917Z"
   },
   {
    "duration": -80,
    "start_time": "2022-01-15T21:14:17.921Z"
   },
   {
    "duration": -83,
    "start_time": "2022-01-15T21:14:17.925Z"
   },
   {
    "duration": -86,
    "start_time": "2022-01-15T21:14:17.928Z"
   },
   {
    "duration": -89,
    "start_time": "2022-01-15T21:14:17.932Z"
   },
   {
    "duration": -91,
    "start_time": "2022-01-15T21:14:17.935Z"
   },
   {
    "duration": -95,
    "start_time": "2022-01-15T21:14:17.940Z"
   },
   {
    "duration": -99,
    "start_time": "2022-01-15T21:14:17.945Z"
   },
   {
    "duration": -103,
    "start_time": "2022-01-15T21:14:17.950Z"
   },
   {
    "duration": -104,
    "start_time": "2022-01-15T21:14:17.953Z"
   },
   {
    "duration": -107,
    "start_time": "2022-01-15T21:14:17.957Z"
   },
   {
    "duration": -109,
    "start_time": "2022-01-15T21:14:17.960Z"
   },
   {
    "duration": -113,
    "start_time": "2022-01-15T21:14:17.965Z"
   },
   {
    "duration": -116,
    "start_time": "2022-01-15T21:14:17.969Z"
   },
   {
    "duration": -119,
    "start_time": "2022-01-15T21:14:17.973Z"
   },
   {
    "duration": -122,
    "start_time": "2022-01-15T21:14:17.977Z"
   },
   {
    "duration": -125,
    "start_time": "2022-01-15T21:14:17.981Z"
   },
   {
    "duration": -127,
    "start_time": "2022-01-15T21:14:17.984Z"
   },
   {
    "duration": -130,
    "start_time": "2022-01-15T21:14:17.988Z"
   },
   {
    "duration": 649,
    "start_time": "2022-01-15T21:16:19.092Z"
   },
   {
    "duration": 4,
    "start_time": "2022-01-15T21:16:19.743Z"
   },
   {
    "duration": 16,
    "start_time": "2022-01-15T21:16:19.749Z"
   },
   {
    "duration": 28,
    "start_time": "2022-01-15T21:16:19.767Z"
   },
   {
    "duration": 18,
    "start_time": "2022-01-15T21:16:19.797Z"
   },
   {
    "duration": 19,
    "start_time": "2022-01-15T21:16:19.817Z"
   },
   {
    "duration": 5,
    "start_time": "2022-01-15T21:16:19.838Z"
   },
   {
    "duration": 12,
    "start_time": "2022-01-15T21:16:19.845Z"
   },
   {
    "duration": 44,
    "start_time": "2022-01-15T21:16:19.859Z"
   },
   {
    "duration": 5,
    "start_time": "2022-01-15T21:16:19.905Z"
   },
   {
    "duration": 18,
    "start_time": "2022-01-15T21:16:19.912Z"
   },
   {
    "duration": 13,
    "start_time": "2022-01-15T21:16:19.931Z"
   },
   {
    "duration": 5,
    "start_time": "2022-01-15T21:16:19.946Z"
   },
   {
    "duration": 11,
    "start_time": "2022-01-15T21:16:19.952Z"
   },
   {
    "duration": 36,
    "start_time": "2022-01-15T21:16:19.964Z"
   },
   {
    "duration": 18,
    "start_time": "2022-01-15T21:16:20.001Z"
   },
   {
    "duration": 15,
    "start_time": "2022-01-15T21:16:20.021Z"
   },
   {
    "duration": 16,
    "start_time": "2022-01-15T21:16:20.037Z"
   },
   {
    "duration": 6,
    "start_time": "2022-01-15T21:16:20.054Z"
   },
   {
    "duration": 10,
    "start_time": "2022-01-15T21:16:20.061Z"
   },
   {
    "duration": 22,
    "start_time": "2022-01-15T21:16:20.073Z"
   },
   {
    "duration": 9,
    "start_time": "2022-01-15T21:16:20.096Z"
   },
   {
    "duration": 5,
    "start_time": "2022-01-15T21:16:20.109Z"
   },
   {
    "duration": 29,
    "start_time": "2022-01-15T21:16:20.117Z"
   },
   {
    "duration": 9,
    "start_time": "2022-01-15T21:16:20.148Z"
   },
   {
    "duration": 7,
    "start_time": "2022-01-15T21:16:20.158Z"
   },
   {
    "duration": 2,
    "start_time": "2022-01-15T21:16:20.191Z"
   },
   {
    "duration": 6,
    "start_time": "2022-01-15T21:16:20.195Z"
   },
   {
    "duration": 11,
    "start_time": "2022-01-15T21:16:20.202Z"
   },
   {
    "duration": 10,
    "start_time": "2022-01-15T21:16:20.214Z"
   },
   {
    "duration": 10,
    "start_time": "2022-01-15T21:16:20.225Z"
   },
   {
    "duration": 7,
    "start_time": "2022-01-15T21:16:20.237Z"
   },
   {
    "duration": 5,
    "start_time": "2022-01-15T21:16:20.246Z"
   },
   {
    "duration": 5,
    "start_time": "2022-01-15T21:16:20.252Z"
   },
   {
    "duration": 6,
    "start_time": "2022-01-15T21:16:20.258Z"
   },
   {
    "duration": 25,
    "start_time": "2022-01-15T21:16:20.266Z"
   },
   {
    "duration": 3,
    "start_time": "2022-01-15T21:16:20.293Z"
   },
   {
    "duration": 4,
    "start_time": "2022-01-15T21:16:20.298Z"
   },
   {
    "duration": 5,
    "start_time": "2022-01-15T21:16:20.304Z"
   },
   {
    "duration": 5,
    "start_time": "2022-01-15T21:16:20.311Z"
   },
   {
    "duration": 11,
    "start_time": "2022-01-15T21:16:20.318Z"
   },
   {
    "duration": 26,
    "start_time": "2022-01-15T21:16:20.331Z"
   },
   {
    "duration": 33,
    "start_time": "2022-01-15T21:16:20.359Z"
   },
   {
    "duration": 7,
    "start_time": "2022-01-15T21:16:20.393Z"
   },
   {
    "duration": 8,
    "start_time": "2022-01-15T21:16:20.401Z"
   },
   {
    "duration": 13,
    "start_time": "2022-01-15T21:16:20.410Z"
   },
   {
    "duration": 11,
    "start_time": "2022-01-15T21:16:20.425Z"
   },
   {
    "duration": 3,
    "start_time": "2022-01-15T21:16:20.437Z"
   },
   {
    "duration": 8,
    "start_time": "2022-01-15T21:16:20.442Z"
   },
   {
    "duration": 763,
    "start_time": "2022-01-15T21:16:20.451Z"
   },
   {
    "duration": -116,
    "start_time": "2022-01-15T21:16:21.332Z"
   },
   {
    "duration": -120,
    "start_time": "2022-01-15T21:16:21.337Z"
   },
   {
    "duration": -124,
    "start_time": "2022-01-15T21:16:21.342Z"
   },
   {
    "duration": -133,
    "start_time": "2022-01-15T21:16:21.353Z"
   },
   {
    "duration": -141,
    "start_time": "2022-01-15T21:16:21.362Z"
   },
   {
    "duration": -145,
    "start_time": "2022-01-15T21:16:21.367Z"
   },
   {
    "duration": -148,
    "start_time": "2022-01-15T21:16:21.371Z"
   },
   {
    "duration": -154,
    "start_time": "2022-01-15T21:16:21.378Z"
   },
   {
    "duration": -156,
    "start_time": "2022-01-15T21:16:21.381Z"
   },
   {
    "duration": -157,
    "start_time": "2022-01-15T21:16:21.384Z"
   },
   {
    "duration": -160,
    "start_time": "2022-01-15T21:16:21.388Z"
   },
   {
    "duration": -163,
    "start_time": "2022-01-15T21:16:21.392Z"
   },
   {
    "duration": -165,
    "start_time": "2022-01-15T21:16:21.395Z"
   },
   {
    "duration": -166,
    "start_time": "2022-01-15T21:16:21.397Z"
   },
   {
    "duration": -168,
    "start_time": "2022-01-15T21:16:21.400Z"
   },
   {
    "duration": -170,
    "start_time": "2022-01-15T21:16:21.404Z"
   },
   {
    "duration": -172,
    "start_time": "2022-01-15T21:16:21.407Z"
   },
   {
    "duration": -174,
    "start_time": "2022-01-15T21:16:21.410Z"
   },
   {
    "duration": -176,
    "start_time": "2022-01-15T21:16:21.413Z"
   },
   {
    "duration": -178,
    "start_time": "2022-01-15T21:16:21.416Z"
   },
   {
    "duration": -180,
    "start_time": "2022-01-15T21:16:21.419Z"
   },
   {
    "duration": -182,
    "start_time": "2022-01-15T21:16:21.423Z"
   },
   {
    "duration": -185,
    "start_time": "2022-01-15T21:16:21.427Z"
   },
   {
    "duration": -187,
    "start_time": "2022-01-15T21:16:21.430Z"
   },
   {
    "duration": 600,
    "start_time": "2022-01-15T21:18:18.647Z"
   },
   {
    "duration": 4,
    "start_time": "2022-01-15T21:18:19.249Z"
   },
   {
    "duration": 16,
    "start_time": "2022-01-15T21:18:19.255Z"
   },
   {
    "duration": 23,
    "start_time": "2022-01-15T21:18:19.273Z"
   },
   {
    "duration": 19,
    "start_time": "2022-01-15T21:18:19.298Z"
   },
   {
    "duration": 22,
    "start_time": "2022-01-15T21:18:19.319Z"
   },
   {
    "duration": 6,
    "start_time": "2022-01-15T21:18:19.342Z"
   },
   {
    "duration": 12,
    "start_time": "2022-01-15T21:18:19.351Z"
   },
   {
    "duration": 16,
    "start_time": "2022-01-15T21:18:19.392Z"
   },
   {
    "duration": 7,
    "start_time": "2022-01-15T21:18:19.410Z"
   },
   {
    "duration": 16,
    "start_time": "2022-01-15T21:18:19.418Z"
   },
   {
    "duration": 21,
    "start_time": "2022-01-15T21:18:19.436Z"
   },
   {
    "duration": 2,
    "start_time": "2022-01-15T21:18:19.459Z"
   },
   {
    "duration": 8,
    "start_time": "2022-01-15T21:18:19.491Z"
   },
   {
    "duration": 11,
    "start_time": "2022-01-15T21:18:19.501Z"
   },
   {
    "duration": 10,
    "start_time": "2022-01-15T21:18:19.514Z"
   },
   {
    "duration": 6,
    "start_time": "2022-01-15T21:18:19.526Z"
   },
   {
    "duration": 20,
    "start_time": "2022-01-15T21:18:19.533Z"
   },
   {
    "duration": 6,
    "start_time": "2022-01-15T21:18:19.554Z"
   },
   {
    "duration": 32,
    "start_time": "2022-01-15T21:18:19.561Z"
   },
   {
    "duration": 8,
    "start_time": "2022-01-15T21:18:19.594Z"
   },
   {
    "duration": 7,
    "start_time": "2022-01-15T21:18:19.604Z"
   },
   {
    "duration": 8,
    "start_time": "2022-01-15T21:18:19.616Z"
   },
   {
    "duration": 31,
    "start_time": "2022-01-15T21:18:19.628Z"
   },
   {
    "duration": 32,
    "start_time": "2022-01-15T21:18:19.661Z"
   },
   {
    "duration": 8,
    "start_time": "2022-01-15T21:18:19.696Z"
   },
   {
    "duration": 5,
    "start_time": "2022-01-15T21:18:19.705Z"
   },
   {
    "duration": 6,
    "start_time": "2022-01-15T21:18:19.712Z"
   },
   {
    "duration": 11,
    "start_time": "2022-01-15T21:18:19.720Z"
   },
   {
    "duration": 10,
    "start_time": "2022-01-15T21:18:19.733Z"
   },
   {
    "duration": 9,
    "start_time": "2022-01-15T21:18:19.744Z"
   },
   {
    "duration": 42,
    "start_time": "2022-01-15T21:18:19.755Z"
   },
   {
    "duration": 4,
    "start_time": "2022-01-15T21:18:19.798Z"
   },
   {
    "duration": 5,
    "start_time": "2022-01-15T21:18:19.803Z"
   },
   {
    "duration": 8,
    "start_time": "2022-01-15T21:18:19.809Z"
   },
   {
    "duration": 4,
    "start_time": "2022-01-15T21:18:19.818Z"
   },
   {
    "duration": 6,
    "start_time": "2022-01-15T21:18:19.824Z"
   },
   {
    "duration": 6,
    "start_time": "2022-01-15T21:18:19.832Z"
   },
   {
    "duration": 6,
    "start_time": "2022-01-15T21:18:19.840Z"
   },
   {
    "duration": 15,
    "start_time": "2022-01-15T21:18:19.848Z"
   },
   {
    "duration": 28,
    "start_time": "2022-01-15T21:18:19.865Z"
   },
   {
    "duration": 20,
    "start_time": "2022-01-15T21:18:19.895Z"
   },
   {
    "duration": 8,
    "start_time": "2022-01-15T21:18:19.916Z"
   },
   {
    "duration": 7,
    "start_time": "2022-01-15T21:18:19.925Z"
   },
   {
    "duration": 6,
    "start_time": "2022-01-15T21:18:19.933Z"
   },
   {
    "duration": 13,
    "start_time": "2022-01-15T21:18:19.940Z"
   },
   {
    "duration": 45,
    "start_time": "2022-01-15T21:18:19.954Z"
   },
   {
    "duration": 6,
    "start_time": "2022-01-15T21:18:20.001Z"
   },
   {
    "duration": 8,
    "start_time": "2022-01-15T21:18:20.009Z"
   },
   {
    "duration": 36510,
    "start_time": "2022-01-15T21:18:20.018Z"
   },
   {
    "duration": 4,
    "start_time": "2022-01-15T21:18:56.553Z"
   },
   {
    "duration": 7,
    "start_time": "2022-01-15T21:18:56.558Z"
   },
   {
    "duration": 6,
    "start_time": "2022-01-15T21:18:56.566Z"
   },
   {
    "duration": 18,
    "start_time": "2022-01-15T21:18:56.573Z"
   },
   {
    "duration": 2,
    "start_time": "2022-01-15T21:18:56.593Z"
   },
   {
    "duration": 5,
    "start_time": "2022-01-15T21:18:56.596Z"
   },
   {
    "duration": 5,
    "start_time": "2022-01-15T21:18:56.602Z"
   },
   {
    "duration": 5,
    "start_time": "2022-01-15T21:18:56.608Z"
   },
   {
    "duration": 5,
    "start_time": "2022-01-15T21:18:56.614Z"
   },
   {
    "duration": 5,
    "start_time": "2022-01-15T21:18:56.620Z"
   },
   {
    "duration": 4,
    "start_time": "2022-01-15T21:18:56.626Z"
   },
   {
    "duration": 4,
    "start_time": "2022-01-15T21:18:56.632Z"
   },
   {
    "duration": 4,
    "start_time": "2022-01-15T21:18:56.638Z"
   },
   {
    "duration": 4,
    "start_time": "2022-01-15T21:18:56.643Z"
   },
   {
    "duration": 5,
    "start_time": "2022-01-15T21:18:56.649Z"
   },
   {
    "duration": 4,
    "start_time": "2022-01-15T21:18:56.656Z"
   },
   {
    "duration": 2,
    "start_time": "2022-01-15T21:18:56.693Z"
   },
   {
    "duration": 6,
    "start_time": "2022-01-15T21:18:56.697Z"
   },
   {
    "duration": 5,
    "start_time": "2022-01-15T21:18:56.704Z"
   },
   {
    "duration": 5,
    "start_time": "2022-01-15T21:18:56.711Z"
   },
   {
    "duration": 5,
    "start_time": "2022-01-15T21:18:56.717Z"
   },
   {
    "duration": 3,
    "start_time": "2022-01-15T21:18:56.725Z"
   },
   {
    "duration": 5,
    "start_time": "2022-01-15T21:18:56.730Z"
   },
   {
    "duration": 26,
    "start_time": "2022-01-15T21:18:56.737Z"
   },
   {
    "duration": 18,
    "start_time": "2022-01-15T21:19:12.373Z"
   },
   {
    "duration": 636,
    "start_time": "2022-01-15T21:29:46.001Z"
   },
   {
    "duration": 4,
    "start_time": "2022-01-15T21:29:46.639Z"
   },
   {
    "duration": 17,
    "start_time": "2022-01-15T21:29:46.645Z"
   },
   {
    "duration": 27,
    "start_time": "2022-01-15T21:29:46.664Z"
   },
   {
    "duration": 19,
    "start_time": "2022-01-15T21:29:46.693Z"
   },
   {
    "duration": 22,
    "start_time": "2022-01-15T21:29:46.714Z"
   },
   {
    "duration": 6,
    "start_time": "2022-01-15T21:29:46.738Z"
   },
   {
    "duration": 50,
    "start_time": "2022-01-15T21:29:46.748Z"
   },
   {
    "duration": 16,
    "start_time": "2022-01-15T21:29:46.801Z"
   },
   {
    "duration": 7,
    "start_time": "2022-01-15T21:29:46.819Z"
   },
   {
    "duration": 15,
    "start_time": "2022-01-15T21:29:46.828Z"
   },
   {
    "duration": 15,
    "start_time": "2022-01-15T21:29:46.845Z"
   },
   {
    "duration": 3,
    "start_time": "2022-01-15T21:29:46.892Z"
   },
   {
    "duration": 9,
    "start_time": "2022-01-15T21:29:46.897Z"
   },
   {
    "duration": 11,
    "start_time": "2022-01-15T21:29:46.908Z"
   },
   {
    "duration": 10,
    "start_time": "2022-01-15T21:29:46.920Z"
   },
   {
    "duration": 7,
    "start_time": "2022-01-15T21:29:46.932Z"
   },
   {
    "duration": 8,
    "start_time": "2022-01-15T21:29:46.941Z"
   },
   {
    "duration": 41,
    "start_time": "2022-01-15T21:29:46.951Z"
   },
   {
    "duration": 8,
    "start_time": "2022-01-15T21:29:46.994Z"
   },
   {
    "duration": 4,
    "start_time": "2022-01-15T21:29:47.004Z"
   },
   {
    "duration": 10,
    "start_time": "2022-01-15T21:29:47.010Z"
   },
   {
    "duration": 6,
    "start_time": "2022-01-15T21:29:47.025Z"
   },
   {
    "duration": 65,
    "start_time": "2022-01-15T21:29:47.034Z"
   },
   {
    "duration": 10,
    "start_time": "2022-01-15T21:29:47.101Z"
   },
   {
    "duration": 14,
    "start_time": "2022-01-15T21:29:47.113Z"
   },
   {
    "duration": 4,
    "start_time": "2022-01-15T21:29:47.129Z"
   },
   {
    "duration": 5,
    "start_time": "2022-01-15T21:29:47.135Z"
   },
   {
    "duration": 9,
    "start_time": "2022-01-15T21:29:47.141Z"
   },
   {
    "duration": 7,
    "start_time": "2022-01-15T21:29:47.152Z"
   },
   {
    "duration": 32,
    "start_time": "2022-01-15T21:29:47.161Z"
   },
   {
    "duration": 9,
    "start_time": "2022-01-15T21:29:47.195Z"
   },
   {
    "duration": 3,
    "start_time": "2022-01-15T21:29:47.206Z"
   },
   {
    "duration": 5,
    "start_time": "2022-01-15T21:29:47.211Z"
   },
   {
    "duration": 8,
    "start_time": "2022-01-15T21:29:47.217Z"
   },
   {
    "duration": 7,
    "start_time": "2022-01-15T21:29:47.227Z"
   },
   {
    "duration": 5,
    "start_time": "2022-01-15T21:29:47.236Z"
   },
   {
    "duration": 5,
    "start_time": "2022-01-15T21:29:47.243Z"
   },
   {
    "duration": 6,
    "start_time": "2022-01-15T21:29:47.250Z"
   },
   {
    "duration": 36,
    "start_time": "2022-01-15T21:29:47.258Z"
   },
   {
    "duration": 10,
    "start_time": "2022-01-15T21:29:47.296Z"
   },
   {
    "duration": 21,
    "start_time": "2022-01-15T21:29:47.308Z"
   },
   {
    "duration": 8,
    "start_time": "2022-01-15T21:29:47.331Z"
   },
   {
    "duration": 6,
    "start_time": "2022-01-15T21:29:47.341Z"
   },
   {
    "duration": 8,
    "start_time": "2022-01-15T21:29:47.349Z"
   },
   {
    "duration": 14,
    "start_time": "2022-01-15T21:29:47.392Z"
   },
   {
    "duration": 12,
    "start_time": "2022-01-15T21:29:47.407Z"
   },
   {
    "duration": 3,
    "start_time": "2022-01-15T21:29:47.420Z"
   },
   {
    "duration": 428,
    "start_time": "2022-01-15T21:29:47.425Z"
   },
   {
    "duration": -364,
    "start_time": "2022-01-15T21:29:48.221Z"
   },
   {
    "duration": -367,
    "start_time": "2022-01-15T21:29:48.225Z"
   },
   {
    "duration": -369,
    "start_time": "2022-01-15T21:29:48.228Z"
   },
   {
    "duration": -372,
    "start_time": "2022-01-15T21:29:48.232Z"
   },
   {
    "duration": -376,
    "start_time": "2022-01-15T21:29:48.236Z"
   },
   {
    "duration": -377,
    "start_time": "2022-01-15T21:29:48.238Z"
   },
   {
    "duration": -380,
    "start_time": "2022-01-15T21:29:48.242Z"
   },
   {
    "duration": -382,
    "start_time": "2022-01-15T21:29:48.245Z"
   },
   {
    "duration": -385,
    "start_time": "2022-01-15T21:29:48.249Z"
   },
   {
    "duration": -387,
    "start_time": "2022-01-15T21:29:48.252Z"
   },
   {
    "duration": -389,
    "start_time": "2022-01-15T21:29:48.255Z"
   },
   {
    "duration": -391,
    "start_time": "2022-01-15T21:29:48.258Z"
   },
   {
    "duration": -394,
    "start_time": "2022-01-15T21:29:48.261Z"
   },
   {
    "duration": -398,
    "start_time": "2022-01-15T21:29:48.266Z"
   },
   {
    "duration": -400,
    "start_time": "2022-01-15T21:29:48.269Z"
   },
   {
    "duration": -422,
    "start_time": "2022-01-15T21:29:48.292Z"
   },
   {
    "duration": -425,
    "start_time": "2022-01-15T21:29:48.296Z"
   },
   {
    "duration": -446,
    "start_time": "2022-01-15T21:29:48.318Z"
   },
   {
    "duration": -448,
    "start_time": "2022-01-15T21:29:48.321Z"
   },
   {
    "duration": -450,
    "start_time": "2022-01-15T21:29:48.324Z"
   },
   {
    "duration": -453,
    "start_time": "2022-01-15T21:29:48.327Z"
   },
   {
    "duration": -455,
    "start_time": "2022-01-15T21:29:48.330Z"
   },
   {
    "duration": -458,
    "start_time": "2022-01-15T21:29:48.334Z"
   },
   {
    "duration": -461,
    "start_time": "2022-01-15T21:29:48.338Z"
   },
   {
    "duration": -465,
    "start_time": "2022-01-15T21:29:48.343Z"
   },
   {
    "duration": 694,
    "start_time": "2022-01-15T21:30:11.370Z"
   },
   {
    "duration": 5,
    "start_time": "2022-01-15T21:30:12.066Z"
   },
   {
    "duration": 19,
    "start_time": "2022-01-15T21:30:12.073Z"
   },
   {
    "duration": 13,
    "start_time": "2022-01-15T21:30:12.094Z"
   },
   {
    "duration": 17,
    "start_time": "2022-01-15T21:30:12.109Z"
   },
   {
    "duration": 22,
    "start_time": "2022-01-15T21:30:12.128Z"
   },
   {
    "duration": 6,
    "start_time": "2022-01-15T21:30:12.152Z"
   },
   {
    "duration": 42,
    "start_time": "2022-01-15T21:30:12.161Z"
   },
   {
    "duration": 15,
    "start_time": "2022-01-15T21:30:12.206Z"
   },
   {
    "duration": 6,
    "start_time": "2022-01-15T21:30:12.223Z"
   },
   {
    "duration": 14,
    "start_time": "2022-01-15T21:30:12.231Z"
   },
   {
    "duration": 49,
    "start_time": "2022-01-15T21:30:12.247Z"
   },
   {
    "duration": 3,
    "start_time": "2022-01-15T21:30:12.297Z"
   },
   {
    "duration": 12,
    "start_time": "2022-01-15T21:30:12.302Z"
   },
   {
    "duration": 12,
    "start_time": "2022-01-15T21:30:12.315Z"
   },
   {
    "duration": 9,
    "start_time": "2022-01-15T21:30:12.329Z"
   },
   {
    "duration": 7,
    "start_time": "2022-01-15T21:30:12.340Z"
   },
   {
    "duration": 17,
    "start_time": "2022-01-15T21:30:12.348Z"
   },
   {
    "duration": 26,
    "start_time": "2022-01-15T21:30:12.366Z"
   },
   {
    "duration": 7,
    "start_time": "2022-01-15T21:30:12.394Z"
   },
   {
    "duration": 4,
    "start_time": "2022-01-15T21:30:12.403Z"
   },
   {
    "duration": 8,
    "start_time": "2022-01-15T21:30:12.408Z"
   },
   {
    "duration": 6,
    "start_time": "2022-01-15T21:30:12.420Z"
   },
   {
    "duration": 24,
    "start_time": "2022-01-15T21:30:12.429Z"
   },
   {
    "duration": 44,
    "start_time": "2022-01-15T21:30:12.455Z"
   },
   {
    "duration": 7,
    "start_time": "2022-01-15T21:30:12.501Z"
   },
   {
    "duration": 3,
    "start_time": "2022-01-15T21:30:12.510Z"
   },
   {
    "duration": 5,
    "start_time": "2022-01-15T21:30:12.515Z"
   },
   {
    "duration": 10,
    "start_time": "2022-01-15T21:30:12.522Z"
   },
   {
    "duration": 7,
    "start_time": "2022-01-15T21:30:12.534Z"
   },
   {
    "duration": 9,
    "start_time": "2022-01-15T21:30:12.542Z"
   },
   {
    "duration": 40,
    "start_time": "2022-01-15T21:30:12.553Z"
   },
   {
    "duration": 4,
    "start_time": "2022-01-15T21:30:12.595Z"
   },
   {
    "duration": 5,
    "start_time": "2022-01-15T21:30:12.601Z"
   },
   {
    "duration": 7,
    "start_time": "2022-01-15T21:30:12.607Z"
   },
   {
    "duration": 5,
    "start_time": "2022-01-15T21:30:12.615Z"
   },
   {
    "duration": 5,
    "start_time": "2022-01-15T21:30:12.622Z"
   },
   {
    "duration": 6,
    "start_time": "2022-01-15T21:30:12.629Z"
   },
   {
    "duration": 8,
    "start_time": "2022-01-15T21:30:12.636Z"
   },
   {
    "duration": 7,
    "start_time": "2022-01-15T21:30:12.646Z"
   },
   {
    "duration": 11,
    "start_time": "2022-01-15T21:30:12.655Z"
   },
   {
    "duration": 42,
    "start_time": "2022-01-15T21:30:12.668Z"
   },
   {
    "duration": 8,
    "start_time": "2022-01-15T21:30:12.712Z"
   },
   {
    "duration": 8,
    "start_time": "2022-01-15T21:30:12.721Z"
   },
   {
    "duration": 9,
    "start_time": "2022-01-15T21:30:12.730Z"
   },
   {
    "duration": 15,
    "start_time": "2022-01-15T21:30:12.741Z"
   },
   {
    "duration": 15,
    "start_time": "2022-01-15T21:30:12.792Z"
   },
   {
    "duration": 5,
    "start_time": "2022-01-15T21:30:12.809Z"
   },
   {
    "duration": 6,
    "start_time": "2022-01-15T21:30:12.816Z"
   },
   {
    "duration": 267,
    "start_time": "2022-01-15T21:30:12.824Z"
   },
   {
    "duration": 20,
    "start_time": "2022-01-15T21:30:13.093Z"
   },
   {
    "duration": 11,
    "start_time": "2022-01-15T21:30:13.115Z"
   },
   {
    "duration": 10,
    "start_time": "2022-01-15T21:30:13.127Z"
   },
   {
    "duration": 12,
    "start_time": "2022-01-15T21:30:13.138Z"
   },
   {
    "duration": 11,
    "start_time": "2022-01-15T21:30:13.152Z"
   },
   {
    "duration": 19,
    "start_time": "2022-01-15T21:30:13.165Z"
   },
   {
    "duration": 14,
    "start_time": "2022-01-15T21:30:13.186Z"
   },
   {
    "duration": 18,
    "start_time": "2022-01-15T21:30:13.202Z"
   },
   {
    "duration": 5,
    "start_time": "2022-01-15T21:30:13.222Z"
   },
   {
    "duration": 14,
    "start_time": "2022-01-15T21:30:13.228Z"
   },
   {
    "duration": 9,
    "start_time": "2022-01-15T21:30:13.243Z"
   },
   {
    "duration": 7,
    "start_time": "2022-01-15T21:30:13.254Z"
   },
   {
    "duration": 12,
    "start_time": "2022-01-15T21:30:13.262Z"
   },
   {
    "duration": 6,
    "start_time": "2022-01-15T21:30:13.276Z"
   },
   {
    "duration": 15,
    "start_time": "2022-01-15T21:30:13.284Z"
   },
   {
    "duration": 5,
    "start_time": "2022-01-15T21:30:13.301Z"
   },
   {
    "duration": 8,
    "start_time": "2022-01-15T21:30:13.308Z"
   },
   {
    "duration": 10,
    "start_time": "2022-01-15T21:30:13.321Z"
   },
   {
    "duration": 11,
    "start_time": "2022-01-15T21:30:13.333Z"
   },
   {
    "duration": 16,
    "start_time": "2022-01-15T21:30:13.345Z"
   },
   {
    "duration": 10,
    "start_time": "2022-01-15T21:30:13.363Z"
   },
   {
    "duration": 11,
    "start_time": "2022-01-15T21:30:13.374Z"
   },
   {
    "duration": 16,
    "start_time": "2022-01-15T21:30:13.387Z"
   },
   {
    "duration": 9,
    "start_time": "2022-01-15T21:30:13.405Z"
   },
   {
    "duration": 678,
    "start_time": "2022-01-15T21:31:19.548Z"
   },
   {
    "duration": 4,
    "start_time": "2022-01-15T21:31:20.228Z"
   },
   {
    "duration": 18,
    "start_time": "2022-01-15T21:31:20.233Z"
   },
   {
    "duration": 13,
    "start_time": "2022-01-15T21:31:20.253Z"
   },
   {
    "duration": 42,
    "start_time": "2022-01-15T21:31:20.268Z"
   },
   {
    "duration": 24,
    "start_time": "2022-01-15T21:31:20.312Z"
   },
   {
    "duration": 5,
    "start_time": "2022-01-15T21:31:20.338Z"
   },
   {
    "duration": 15,
    "start_time": "2022-01-15T21:31:20.346Z"
   },
   {
    "duration": 46,
    "start_time": "2022-01-15T21:31:20.363Z"
   },
   {
    "duration": 7,
    "start_time": "2022-01-15T21:31:20.411Z"
   },
   {
    "duration": 19,
    "start_time": "2022-01-15T21:31:20.419Z"
   },
   {
    "duration": 14,
    "start_time": "2022-01-15T21:31:20.440Z"
   },
   {
    "duration": 2,
    "start_time": "2022-01-15T21:31:20.456Z"
   },
   {
    "duration": 37,
    "start_time": "2022-01-15T21:31:20.459Z"
   },
   {
    "duration": 18,
    "start_time": "2022-01-15T21:31:20.499Z"
   },
   {
    "duration": 10,
    "start_time": "2022-01-15T21:31:20.519Z"
   },
   {
    "duration": 8,
    "start_time": "2022-01-15T21:31:20.531Z"
   },
   {
    "duration": 8,
    "start_time": "2022-01-15T21:31:20.541Z"
   },
   {
    "duration": 5,
    "start_time": "2022-01-15T21:31:20.551Z"
   },
   {
    "duration": 37,
    "start_time": "2022-01-15T21:31:20.558Z"
   },
   {
    "duration": 4,
    "start_time": "2022-01-15T21:31:20.597Z"
   },
   {
    "duration": 13,
    "start_time": "2022-01-15T21:31:20.603Z"
   },
   {
    "duration": 7,
    "start_time": "2022-01-15T21:31:20.621Z"
   },
   {
    "duration": 25,
    "start_time": "2022-01-15T21:31:20.631Z"
   },
   {
    "duration": 37,
    "start_time": "2022-01-15T21:31:20.658Z"
   },
   {
    "duration": 11,
    "start_time": "2022-01-15T21:31:20.698Z"
   },
   {
    "duration": 2,
    "start_time": "2022-01-15T21:31:20.713Z"
   },
   {
    "duration": 8,
    "start_time": "2022-01-15T21:31:20.718Z"
   },
   {
    "duration": 11,
    "start_time": "2022-01-15T21:31:20.727Z"
   },
   {
    "duration": 7,
    "start_time": "2022-01-15T21:31:20.739Z"
   },
   {
    "duration": 7,
    "start_time": "2022-01-15T21:31:20.748Z"
   },
   {
    "duration": 14,
    "start_time": "2022-01-15T21:31:20.792Z"
   },
   {
    "duration": 4,
    "start_time": "2022-01-15T21:31:20.809Z"
   },
   {
    "duration": 7,
    "start_time": "2022-01-15T21:31:20.814Z"
   },
   {
    "duration": 4,
    "start_time": "2022-01-15T21:31:20.822Z"
   },
   {
    "duration": 4,
    "start_time": "2022-01-15T21:31:20.827Z"
   },
   {
    "duration": 6,
    "start_time": "2022-01-15T21:31:20.833Z"
   },
   {
    "duration": 4,
    "start_time": "2022-01-15T21:31:20.840Z"
   },
   {
    "duration": 5,
    "start_time": "2022-01-15T21:31:20.846Z"
   },
   {
    "duration": 39,
    "start_time": "2022-01-15T21:31:20.853Z"
   },
   {
    "duration": 15,
    "start_time": "2022-01-15T21:31:20.895Z"
   },
   {
    "duration": 21,
    "start_time": "2022-01-15T21:31:20.912Z"
   },
   {
    "duration": 8,
    "start_time": "2022-01-15T21:31:20.935Z"
   },
   {
    "duration": 7,
    "start_time": "2022-01-15T21:31:20.945Z"
   },
   {
    "duration": 40,
    "start_time": "2022-01-15T21:31:20.953Z"
   },
   {
    "duration": 19,
    "start_time": "2022-01-15T21:31:20.995Z"
   },
   {
    "duration": 13,
    "start_time": "2022-01-15T21:31:21.015Z"
   },
   {
    "duration": 2,
    "start_time": "2022-01-15T21:31:21.030Z"
   },
   {
    "duration": 402,
    "start_time": "2022-01-15T21:31:21.034Z"
   },
   {
    "duration": 193,
    "start_time": "2022-01-15T21:31:21.246Z"
   },
   {
    "duration": 187,
    "start_time": "2022-01-15T21:31:21.253Z"
   },
   {
    "duration": 176,
    "start_time": "2022-01-15T21:31:21.265Z"
   },
   {
    "duration": 169,
    "start_time": "2022-01-15T21:31:21.273Z"
   },
   {
    "duration": 165,
    "start_time": "2022-01-15T21:31:21.278Z"
   },
   {
    "duration": 161,
    "start_time": "2022-01-15T21:31:21.283Z"
   },
   {
    "duration": 156,
    "start_time": "2022-01-15T21:31:21.289Z"
   },
   {
    "duration": 154,
    "start_time": "2022-01-15T21:31:21.292Z"
   },
   {
    "duration": 151,
    "start_time": "2022-01-15T21:31:21.296Z"
   },
   {
    "duration": 149,
    "start_time": "2022-01-15T21:31:21.299Z"
   },
   {
    "duration": 144,
    "start_time": "2022-01-15T21:31:21.304Z"
   },
   {
    "duration": 141,
    "start_time": "2022-01-15T21:31:21.308Z"
   },
   {
    "duration": 138,
    "start_time": "2022-01-15T21:31:21.312Z"
   },
   {
    "duration": 135,
    "start_time": "2022-01-15T21:31:21.316Z"
   },
   {
    "duration": 132,
    "start_time": "2022-01-15T21:31:21.320Z"
   },
   {
    "duration": 129,
    "start_time": "2022-01-15T21:31:21.324Z"
   },
   {
    "duration": 126,
    "start_time": "2022-01-15T21:31:21.328Z"
   },
   {
    "duration": 123,
    "start_time": "2022-01-15T21:31:21.331Z"
   },
   {
    "duration": 118,
    "start_time": "2022-01-15T21:31:21.337Z"
   },
   {
    "duration": 112,
    "start_time": "2022-01-15T21:31:21.344Z"
   },
   {
    "duration": 107,
    "start_time": "2022-01-15T21:31:21.350Z"
   },
   {
    "duration": 102,
    "start_time": "2022-01-15T21:31:21.356Z"
   },
   {
    "duration": 98,
    "start_time": "2022-01-15T21:31:21.361Z"
   },
   {
    "duration": 95,
    "start_time": "2022-01-15T21:31:21.365Z"
   },
   {
    "duration": 88,
    "start_time": "2022-01-15T21:31:21.373Z"
   },
   {
    "duration": 706,
    "start_time": "2022-01-15T21:33:00.382Z"
   },
   {
    "duration": 6,
    "start_time": "2022-01-15T21:33:01.090Z"
   },
   {
    "duration": 24,
    "start_time": "2022-01-15T21:33:01.098Z"
   },
   {
    "duration": 20,
    "start_time": "2022-01-15T21:33:01.124Z"
   },
   {
    "duration": 24,
    "start_time": "2022-01-15T21:33:01.146Z"
   },
   {
    "duration": 37,
    "start_time": "2022-01-15T21:33:01.172Z"
   },
   {
    "duration": 7,
    "start_time": "2022-01-15T21:33:01.211Z"
   },
   {
    "duration": 30,
    "start_time": "2022-01-15T21:33:01.221Z"
   },
   {
    "duration": 19,
    "start_time": "2022-01-15T21:33:01.253Z"
   },
   {
    "duration": 26,
    "start_time": "2022-01-15T21:33:01.274Z"
   },
   {
    "duration": 18,
    "start_time": "2022-01-15T21:33:01.302Z"
   },
   {
    "duration": 23,
    "start_time": "2022-01-15T21:33:01.323Z"
   },
   {
    "duration": 2,
    "start_time": "2022-01-15T21:33:01.348Z"
   },
   {
    "duration": 17,
    "start_time": "2022-01-15T21:33:01.352Z"
   },
   {
    "duration": 13,
    "start_time": "2022-01-15T21:33:01.391Z"
   },
   {
    "duration": 17,
    "start_time": "2022-01-15T21:33:01.406Z"
   },
   {
    "duration": 20,
    "start_time": "2022-01-15T21:33:01.426Z"
   },
   {
    "duration": 32,
    "start_time": "2022-01-15T21:33:01.448Z"
   },
   {
    "duration": 8,
    "start_time": "2022-01-15T21:33:01.482Z"
   },
   {
    "duration": 34,
    "start_time": "2022-01-15T21:33:01.492Z"
   },
   {
    "duration": 19,
    "start_time": "2022-01-15T21:33:01.529Z"
   },
   {
    "duration": 10,
    "start_time": "2022-01-15T21:33:01.550Z"
   },
   {
    "duration": 12,
    "start_time": "2022-01-15T21:33:01.565Z"
   },
   {
    "duration": 33,
    "start_time": "2022-01-15T21:33:01.581Z"
   },
   {
    "duration": 12,
    "start_time": "2022-01-15T21:33:01.616Z"
   },
   {
    "duration": 6,
    "start_time": "2022-01-15T21:33:01.630Z"
   },
   {
    "duration": 5,
    "start_time": "2022-01-15T21:33:01.639Z"
   },
   {
    "duration": 5,
    "start_time": "2022-01-15T21:33:01.646Z"
   },
   {
    "duration": 12,
    "start_time": "2022-01-15T21:33:01.652Z"
   },
   {
    "duration": 10,
    "start_time": "2022-01-15T21:33:01.693Z"
   },
   {
    "duration": 13,
    "start_time": "2022-01-15T21:33:01.706Z"
   },
   {
    "duration": 8,
    "start_time": "2022-01-15T21:33:01.722Z"
   },
   {
    "duration": 10,
    "start_time": "2022-01-15T21:33:01.732Z"
   },
   {
    "duration": 5,
    "start_time": "2022-01-15T21:33:01.744Z"
   },
   {
    "duration": 9,
    "start_time": "2022-01-15T21:33:01.751Z"
   },
   {
    "duration": 32,
    "start_time": "2022-01-15T21:33:01.762Z"
   },
   {
    "duration": 6,
    "start_time": "2022-01-15T21:33:01.797Z"
   },
   {
    "duration": 9,
    "start_time": "2022-01-15T21:33:01.806Z"
   },
   {
    "duration": 18,
    "start_time": "2022-01-15T21:33:01.818Z"
   },
   {
    "duration": 10,
    "start_time": "2022-01-15T21:33:01.838Z"
   },
   {
    "duration": 15,
    "start_time": "2022-01-15T21:33:01.850Z"
   },
   {
    "duration": 38,
    "start_time": "2022-01-15T21:33:01.868Z"
   },
   {
    "duration": 10,
    "start_time": "2022-01-15T21:33:01.908Z"
   },
   {
    "duration": 19,
    "start_time": "2022-01-15T21:33:01.920Z"
   },
   {
    "duration": 21,
    "start_time": "2022-01-15T21:33:01.941Z"
   },
   {
    "duration": 17,
    "start_time": "2022-01-15T21:33:01.965Z"
   },
   {
    "duration": 22,
    "start_time": "2022-01-15T21:33:01.993Z"
   },
   {
    "duration": 10,
    "start_time": "2022-01-15T21:33:02.017Z"
   },
   {
    "duration": 17,
    "start_time": "2022-01-15T21:33:02.029Z"
   },
   {
    "duration": 4275,
    "start_time": "2022-01-15T21:33:02.048Z"
   },
   {
    "duration": 20,
    "start_time": "2022-01-15T21:33:06.325Z"
   },
   {
    "duration": 4,
    "start_time": "2022-01-15T21:33:06.347Z"
   },
   {
    "duration": 5,
    "start_time": "2022-01-15T21:33:06.353Z"
   },
   {
    "duration": 5,
    "start_time": "2022-01-15T21:33:06.360Z"
   },
   {
    "duration": 25,
    "start_time": "2022-01-15T21:33:06.367Z"
   },
   {
    "duration": 8,
    "start_time": "2022-01-15T21:33:06.394Z"
   },
   {
    "duration": 4,
    "start_time": "2022-01-15T21:33:06.405Z"
   },
   {
    "duration": 5,
    "start_time": "2022-01-15T21:33:06.411Z"
   },
   {
    "duration": 5,
    "start_time": "2022-01-15T21:33:06.418Z"
   },
   {
    "duration": 4,
    "start_time": "2022-01-15T21:33:06.424Z"
   },
   {
    "duration": 5,
    "start_time": "2022-01-15T21:33:06.430Z"
   },
   {
    "duration": 5,
    "start_time": "2022-01-15T21:33:06.436Z"
   },
   {
    "duration": 4,
    "start_time": "2022-01-15T21:33:06.443Z"
   },
   {
    "duration": 7,
    "start_time": "2022-01-15T21:33:06.449Z"
   },
   {
    "duration": 6,
    "start_time": "2022-01-15T21:33:06.458Z"
   },
   {
    "duration": 26,
    "start_time": "2022-01-15T21:33:06.466Z"
   },
   {
    "duration": 8,
    "start_time": "2022-01-15T21:33:06.495Z"
   },
   {
    "duration": 2,
    "start_time": "2022-01-15T21:33:06.510Z"
   },
   {
    "duration": 3,
    "start_time": "2022-01-15T21:33:06.515Z"
   },
   {
    "duration": 4,
    "start_time": "2022-01-15T21:33:06.520Z"
   },
   {
    "duration": 5,
    "start_time": "2022-01-15T21:33:06.526Z"
   },
   {
    "duration": 4,
    "start_time": "2022-01-15T21:33:06.533Z"
   },
   {
    "duration": 5,
    "start_time": "2022-01-15T21:33:06.539Z"
   },
   {
    "duration": 4,
    "start_time": "2022-01-15T21:33:06.546Z"
   },
   {
    "duration": 661,
    "start_time": "2022-01-15T21:34:43.861Z"
   },
   {
    "duration": 4,
    "start_time": "2022-01-15T21:34:44.524Z"
   },
   {
    "duration": 47,
    "start_time": "2022-01-15T21:34:44.530Z"
   },
   {
    "duration": 43,
    "start_time": "2022-01-15T21:34:44.579Z"
   },
   {
    "duration": 17,
    "start_time": "2022-01-15T21:34:44.624Z"
   },
   {
    "duration": 24,
    "start_time": "2022-01-15T21:34:44.642Z"
   },
   {
    "duration": 5,
    "start_time": "2022-01-15T21:34:44.668Z"
   },
   {
    "duration": 31,
    "start_time": "2022-01-15T21:34:44.675Z"
   },
   {
    "duration": 29,
    "start_time": "2022-01-15T21:34:44.709Z"
   },
   {
    "duration": 6,
    "start_time": "2022-01-15T21:34:44.740Z"
   },
   {
    "duration": 34,
    "start_time": "2022-01-15T21:34:44.748Z"
   },
   {
    "duration": 34,
    "start_time": "2022-01-15T21:34:44.784Z"
   },
   {
    "duration": 20,
    "start_time": "2022-01-15T21:34:44.820Z"
   },
   {
    "duration": 9,
    "start_time": "2022-01-15T21:34:44.842Z"
   },
   {
    "duration": 25,
    "start_time": "2022-01-15T21:34:44.853Z"
   },
   {
    "duration": 17,
    "start_time": "2022-01-15T21:34:44.879Z"
   },
   {
    "duration": 10,
    "start_time": "2022-01-15T21:34:44.899Z"
   },
   {
    "duration": 9,
    "start_time": "2022-01-15T21:34:44.911Z"
   },
   {
    "duration": 6,
    "start_time": "2022-01-15T21:34:44.922Z"
   },
   {
    "duration": 10,
    "start_time": "2022-01-15T21:34:44.929Z"
   },
   {
    "duration": 5,
    "start_time": "2022-01-15T21:34:44.940Z"
   },
   {
    "duration": 12,
    "start_time": "2022-01-15T21:34:44.947Z"
   },
   {
    "duration": 33,
    "start_time": "2022-01-15T21:34:44.960Z"
   },
   {
    "duration": 30,
    "start_time": "2022-01-15T21:34:44.995Z"
   },
   {
    "duration": 12,
    "start_time": "2022-01-15T21:34:45.026Z"
   },
   {
    "duration": 9,
    "start_time": "2022-01-15T21:34:45.040Z"
   },
   {
    "duration": 6,
    "start_time": "2022-01-15T21:34:45.054Z"
   },
   {
    "duration": 3,
    "start_time": "2022-01-15T21:34:45.094Z"
   },
   {
    "duration": 13,
    "start_time": "2022-01-15T21:34:45.099Z"
   },
   {
    "duration": 8,
    "start_time": "2022-01-15T21:34:45.114Z"
   },
   {
    "duration": 12,
    "start_time": "2022-01-15T21:34:45.123Z"
   },
   {
    "duration": 8,
    "start_time": "2022-01-15T21:34:45.137Z"
   },
   {
    "duration": 4,
    "start_time": "2022-01-15T21:34:45.146Z"
   },
   {
    "duration": 4,
    "start_time": "2022-01-15T21:34:45.152Z"
   },
   {
    "duration": 34,
    "start_time": "2022-01-15T21:34:45.158Z"
   },
   {
    "duration": 3,
    "start_time": "2022-01-15T21:34:45.194Z"
   },
   {
    "duration": 6,
    "start_time": "2022-01-15T21:34:45.199Z"
   },
   {
    "duration": 4,
    "start_time": "2022-01-15T21:34:45.207Z"
   },
   {
    "duration": 4,
    "start_time": "2022-01-15T21:34:45.213Z"
   },
   {
    "duration": 6,
    "start_time": "2022-01-15T21:34:45.218Z"
   },
   {
    "duration": 12,
    "start_time": "2022-01-15T21:34:45.225Z"
   },
   {
    "duration": 21,
    "start_time": "2022-01-15T21:34:45.238Z"
   },
   {
    "duration": 36,
    "start_time": "2022-01-15T21:34:45.260Z"
   },
   {
    "duration": 10,
    "start_time": "2022-01-15T21:34:45.299Z"
   },
   {
    "duration": 8,
    "start_time": "2022-01-15T21:34:45.311Z"
   },
   {
    "duration": 15,
    "start_time": "2022-01-15T21:34:45.321Z"
   },
   {
    "duration": 11,
    "start_time": "2022-01-15T21:34:45.337Z"
   },
   {
    "duration": 3,
    "start_time": "2022-01-15T21:34:45.350Z"
   },
   {
    "duration": 616,
    "start_time": "2022-01-15T21:34:45.354Z"
   },
   {
    "duration": -216,
    "start_time": "2022-01-15T21:34:46.188Z"
   },
   {
    "duration": -218,
    "start_time": "2022-01-15T21:34:46.191Z"
   },
   {
    "duration": -219,
    "start_time": "2022-01-15T21:34:46.194Z"
   },
   {
    "duration": -220,
    "start_time": "2022-01-15T21:34:46.197Z"
   },
   {
    "duration": -222,
    "start_time": "2022-01-15T21:34:46.200Z"
   },
   {
    "duration": -225,
    "start_time": "2022-01-15T21:34:46.204Z"
   },
   {
    "duration": -227,
    "start_time": "2022-01-15T21:34:46.208Z"
   },
   {
    "duration": -229,
    "start_time": "2022-01-15T21:34:46.212Z"
   },
   {
    "duration": -232,
    "start_time": "2022-01-15T21:34:46.216Z"
   },
   {
    "duration": -233,
    "start_time": "2022-01-15T21:34:46.219Z"
   },
   {
    "duration": -237,
    "start_time": "2022-01-15T21:34:46.224Z"
   },
   {
    "duration": -238,
    "start_time": "2022-01-15T21:34:46.227Z"
   },
   {
    "duration": -241,
    "start_time": "2022-01-15T21:34:46.231Z"
   },
   {
    "duration": -242,
    "start_time": "2022-01-15T21:34:46.234Z"
   },
   {
    "duration": -245,
    "start_time": "2022-01-15T21:34:46.238Z"
   },
   {
    "duration": -247,
    "start_time": "2022-01-15T21:34:46.242Z"
   },
   {
    "duration": -248,
    "start_time": "2022-01-15T21:34:46.245Z"
   },
   {
    "duration": -248,
    "start_time": "2022-01-15T21:34:46.247Z"
   },
   {
    "duration": -251,
    "start_time": "2022-01-15T21:34:46.251Z"
   },
   {
    "duration": -254,
    "start_time": "2022-01-15T21:34:46.255Z"
   },
   {
    "duration": -256,
    "start_time": "2022-01-15T21:34:46.258Z"
   },
   {
    "duration": -257,
    "start_time": "2022-01-15T21:34:46.260Z"
   },
   {
    "duration": -259,
    "start_time": "2022-01-15T21:34:46.264Z"
   },
   {
    "duration": -260,
    "start_time": "2022-01-15T21:34:46.266Z"
   },
   {
    "duration": -261,
    "start_time": "2022-01-15T21:34:46.269Z"
   },
   {
    "duration": 5,
    "start_time": "2022-01-15T21:37:48.059Z"
   },
   {
    "duration": 625,
    "start_time": "2022-01-15T21:38:23.115Z"
   },
   {
    "duration": 4,
    "start_time": "2022-01-15T21:38:23.742Z"
   },
   {
    "duration": 15,
    "start_time": "2022-01-15T21:38:23.748Z"
   },
   {
    "duration": 26,
    "start_time": "2022-01-15T21:38:23.765Z"
   },
   {
    "duration": 16,
    "start_time": "2022-01-15T21:38:23.793Z"
   },
   {
    "duration": 20,
    "start_time": "2022-01-15T21:38:23.811Z"
   },
   {
    "duration": 5,
    "start_time": "2022-01-15T21:38:23.833Z"
   },
   {
    "duration": 15,
    "start_time": "2022-01-15T21:38:23.840Z"
   },
   {
    "duration": 39,
    "start_time": "2022-01-15T21:38:23.858Z"
   },
   {
    "duration": 6,
    "start_time": "2022-01-15T21:38:23.899Z"
   },
   {
    "duration": 14,
    "start_time": "2022-01-15T21:38:23.907Z"
   },
   {
    "duration": 17,
    "start_time": "2022-01-15T21:38:23.922Z"
   },
   {
    "duration": 2,
    "start_time": "2022-01-15T21:38:23.940Z"
   },
   {
    "duration": 16,
    "start_time": "2022-01-15T21:38:23.944Z"
   },
   {
    "duration": 35,
    "start_time": "2022-01-15T21:38:23.961Z"
   },
   {
    "duration": 23,
    "start_time": "2022-01-15T21:38:23.998Z"
   },
   {
    "duration": 16,
    "start_time": "2022-01-15T21:38:24.023Z"
   },
   {
    "duration": 17,
    "start_time": "2022-01-15T21:38:24.041Z"
   },
   {
    "duration": 9,
    "start_time": "2022-01-15T21:38:24.060Z"
   },
   {
    "duration": 11,
    "start_time": "2022-01-15T21:38:24.071Z"
   },
   {
    "duration": 15,
    "start_time": "2022-01-15T21:38:24.083Z"
   },
   {
    "duration": 16,
    "start_time": "2022-01-15T21:38:24.100Z"
   },
   {
    "duration": 13,
    "start_time": "2022-01-15T21:38:24.118Z"
   },
   {
    "duration": 35,
    "start_time": "2022-01-15T21:38:24.132Z"
   },
   {
    "duration": 8,
    "start_time": "2022-01-15T21:38:24.169Z"
   },
   {
    "duration": 20,
    "start_time": "2022-01-15T21:38:24.178Z"
   },
   {
    "duration": 21,
    "start_time": "2022-01-15T21:38:24.202Z"
   },
   {
    "duration": 10,
    "start_time": "2022-01-15T21:38:24.225Z"
   },
   {
    "duration": 29,
    "start_time": "2022-01-15T21:38:24.236Z"
   },
   {
    "duration": 28,
    "start_time": "2022-01-15T21:38:24.266Z"
   },
   {
    "duration": 29,
    "start_time": "2022-01-15T21:38:24.295Z"
   },
   {
    "duration": 18,
    "start_time": "2022-01-15T21:38:24.326Z"
   },
   {
    "duration": 9,
    "start_time": "2022-01-15T21:38:24.346Z"
   },
   {
    "duration": 9,
    "start_time": "2022-01-15T21:38:24.356Z"
   },
   {
    "duration": 13,
    "start_time": "2022-01-15T21:38:24.367Z"
   },
   {
    "duration": 15,
    "start_time": "2022-01-15T21:38:24.382Z"
   },
   {
    "duration": 12,
    "start_time": "2022-01-15T21:38:24.399Z"
   },
   {
    "duration": 9,
    "start_time": "2022-01-15T21:38:24.412Z"
   },
   {
    "duration": 14,
    "start_time": "2022-01-15T21:38:24.422Z"
   },
   {
    "duration": 11,
    "start_time": "2022-01-15T21:38:24.438Z"
   },
   {
    "duration": 23,
    "start_time": "2022-01-15T21:38:24.451Z"
   },
   {
    "duration": 26,
    "start_time": "2022-01-15T21:38:24.475Z"
   },
   {
    "duration": 10,
    "start_time": "2022-01-15T21:38:24.503Z"
   },
   {
    "duration": 12,
    "start_time": "2022-01-15T21:38:24.514Z"
   },
   {
    "duration": 11,
    "start_time": "2022-01-15T21:38:24.527Z"
   },
   {
    "duration": 22,
    "start_time": "2022-01-15T21:38:24.539Z"
   },
   {
    "duration": 12,
    "start_time": "2022-01-15T21:38:24.563Z"
   },
   {
    "duration": 15,
    "start_time": "2022-01-15T21:38:24.576Z"
   },
   {
    "duration": 390,
    "start_time": "2022-01-15T21:38:24.593Z"
   },
   {
    "duration": -306,
    "start_time": "2022-01-15T21:38:25.291Z"
   },
   {
    "duration": -308,
    "start_time": "2022-01-15T21:38:25.294Z"
   },
   {
    "duration": -312,
    "start_time": "2022-01-15T21:38:25.299Z"
   },
   {
    "duration": -316,
    "start_time": "2022-01-15T21:38:25.304Z"
   },
   {
    "duration": -318,
    "start_time": "2022-01-15T21:38:25.307Z"
   },
   {
    "duration": -319,
    "start_time": "2022-01-15T21:38:25.309Z"
   },
   {
    "duration": -322,
    "start_time": "2022-01-15T21:38:25.313Z"
   },
   {
    "duration": -326,
    "start_time": "2022-01-15T21:38:25.318Z"
   },
   {
    "duration": -328,
    "start_time": "2022-01-15T21:38:25.321Z"
   },
   {
    "duration": -331,
    "start_time": "2022-01-15T21:38:25.325Z"
   },
   {
    "duration": -333,
    "start_time": "2022-01-15T21:38:25.328Z"
   },
   {
    "duration": -338,
    "start_time": "2022-01-15T21:38:25.334Z"
   },
   {
    "duration": -341,
    "start_time": "2022-01-15T21:38:25.337Z"
   },
   {
    "duration": -343,
    "start_time": "2022-01-15T21:38:25.340Z"
   },
   {
    "duration": -345,
    "start_time": "2022-01-15T21:38:25.343Z"
   },
   {
    "duration": -349,
    "start_time": "2022-01-15T21:38:25.348Z"
   },
   {
    "duration": -351,
    "start_time": "2022-01-15T21:38:25.351Z"
   },
   {
    "duration": -353,
    "start_time": "2022-01-15T21:38:25.354Z"
   },
   {
    "duration": -355,
    "start_time": "2022-01-15T21:38:25.357Z"
   },
   {
    "duration": -357,
    "start_time": "2022-01-15T21:38:25.360Z"
   },
   {
    "duration": -360,
    "start_time": "2022-01-15T21:38:25.364Z"
   },
   {
    "duration": -382,
    "start_time": "2022-01-15T21:38:25.387Z"
   },
   {
    "duration": -402,
    "start_time": "2022-01-15T21:38:25.408Z"
   },
   {
    "duration": -408,
    "start_time": "2022-01-15T21:38:25.414Z"
   },
   {
    "duration": -416,
    "start_time": "2022-01-15T21:38:25.424Z"
   },
   {
    "duration": 616,
    "start_time": "2022-01-15T21:40:39.657Z"
   },
   {
    "duration": 4,
    "start_time": "2022-01-15T21:40:40.274Z"
   },
   {
    "duration": 17,
    "start_time": "2022-01-15T21:40:40.281Z"
   },
   {
    "duration": 10,
    "start_time": "2022-01-15T21:40:40.300Z"
   },
   {
    "duration": 18,
    "start_time": "2022-01-15T21:40:40.312Z"
   },
   {
    "duration": 22,
    "start_time": "2022-01-15T21:40:40.331Z"
   },
   {
    "duration": 6,
    "start_time": "2022-01-15T21:40:40.355Z"
   },
   {
    "duration": 11,
    "start_time": "2022-01-15T21:40:40.393Z"
   },
   {
    "duration": 14,
    "start_time": "2022-01-15T21:40:40.406Z"
   },
   {
    "duration": 6,
    "start_time": "2022-01-15T21:40:40.421Z"
   },
   {
    "duration": 15,
    "start_time": "2022-01-15T21:40:40.429Z"
   },
   {
    "duration": 13,
    "start_time": "2022-01-15T21:40:40.445Z"
   },
   {
    "duration": 32,
    "start_time": "2022-01-15T21:40:40.459Z"
   },
   {
    "duration": 6,
    "start_time": "2022-01-15T21:40:40.493Z"
   },
   {
    "duration": 12,
    "start_time": "2022-01-15T21:40:40.501Z"
   },
   {
    "duration": 10,
    "start_time": "2022-01-15T21:40:40.514Z"
   },
   {
    "duration": 6,
    "start_time": "2022-01-15T21:40:40.526Z"
   },
   {
    "duration": 11,
    "start_time": "2022-01-15T21:40:40.534Z"
   },
   {
    "duration": 44,
    "start_time": "2022-01-15T21:40:40.547Z"
   },
   {
    "duration": 8,
    "start_time": "2022-01-15T21:40:40.594Z"
   },
   {
    "duration": 4,
    "start_time": "2022-01-15T21:40:40.604Z"
   },
   {
    "duration": 8,
    "start_time": "2022-01-15T21:40:40.609Z"
   },
   {
    "duration": 8,
    "start_time": "2022-01-15T21:40:40.622Z"
   },
   {
    "duration": 25,
    "start_time": "2022-01-15T21:40:40.633Z"
   },
   {
    "duration": 9,
    "start_time": "2022-01-15T21:40:40.691Z"
   },
   {
    "duration": 7,
    "start_time": "2022-01-15T21:40:40.702Z"
   },
   {
    "duration": 5,
    "start_time": "2022-01-15T21:40:40.710Z"
   },
   {
    "duration": 3,
    "start_time": "2022-01-15T21:40:40.717Z"
   },
   {
    "duration": 9,
    "start_time": "2022-01-15T21:40:40.722Z"
   },
   {
    "duration": 7,
    "start_time": "2022-01-15T21:40:40.732Z"
   },
   {
    "duration": 8,
    "start_time": "2022-01-15T21:40:40.741Z"
   },
   {
    "duration": 46,
    "start_time": "2022-01-15T21:40:40.751Z"
   },
   {
    "duration": 4,
    "start_time": "2022-01-15T21:40:40.798Z"
   },
   {
    "duration": 4,
    "start_time": "2022-01-15T21:40:40.804Z"
   },
   {
    "duration": 5,
    "start_time": "2022-01-15T21:40:40.810Z"
   },
   {
    "duration": 4,
    "start_time": "2022-01-15T21:40:40.817Z"
   },
   {
    "duration": 5,
    "start_time": "2022-01-15T21:40:40.823Z"
   },
   {
    "duration": 6,
    "start_time": "2022-01-15T21:40:40.829Z"
   },
   {
    "duration": 4,
    "start_time": "2022-01-15T21:40:40.837Z"
   },
   {
    "duration": 6,
    "start_time": "2022-01-15T21:40:40.843Z"
   },
   {
    "duration": 41,
    "start_time": "2022-01-15T21:40:40.851Z"
   },
   {
    "duration": 20,
    "start_time": "2022-01-15T21:40:40.893Z"
   },
   {
    "duration": 9,
    "start_time": "2022-01-15T21:40:40.915Z"
   },
   {
    "duration": 6,
    "start_time": "2022-01-15T21:40:40.926Z"
   },
   {
    "duration": 7,
    "start_time": "2022-01-15T21:40:40.934Z"
   },
   {
    "duration": 48,
    "start_time": "2022-01-15T21:40:40.943Z"
   },
   {
    "duration": 13,
    "start_time": "2022-01-15T21:40:40.993Z"
   },
   {
    "duration": 3,
    "start_time": "2022-01-15T21:40:41.008Z"
   },
   {
    "duration": 6,
    "start_time": "2022-01-15T21:40:41.013Z"
   },
   {
    "duration": 1709,
    "start_time": "2022-01-15T21:40:41.020Z"
   },
   {
    "duration": 10,
    "start_time": "2022-01-15T21:40:42.731Z"
   },
   {
    "duration": 3,
    "start_time": "2022-01-15T21:40:42.742Z"
   },
   {
    "duration": 5,
    "start_time": "2022-01-15T21:40:42.746Z"
   },
   {
    "duration": 4,
    "start_time": "2022-01-15T21:40:42.752Z"
   },
   {
    "duration": 34,
    "start_time": "2022-01-15T21:40:42.758Z"
   },
   {
    "duration": 3,
    "start_time": "2022-01-15T21:40:42.794Z"
   },
   {
    "duration": 4,
    "start_time": "2022-01-15T21:40:42.798Z"
   },
   {
    "duration": 7,
    "start_time": "2022-01-15T21:40:42.804Z"
   },
   {
    "duration": 4,
    "start_time": "2022-01-15T21:40:42.813Z"
   },
   {
    "duration": 5,
    "start_time": "2022-01-15T21:40:42.819Z"
   },
   {
    "duration": 5,
    "start_time": "2022-01-15T21:40:42.825Z"
   },
   {
    "duration": 5,
    "start_time": "2022-01-15T21:40:42.831Z"
   },
   {
    "duration": 7,
    "start_time": "2022-01-15T21:40:42.837Z"
   },
   {
    "duration": 5,
    "start_time": "2022-01-15T21:40:42.845Z"
   },
   {
    "duration": 5,
    "start_time": "2022-01-15T21:40:42.851Z"
   },
   {
    "duration": 5,
    "start_time": "2022-01-15T21:40:42.857Z"
   },
   {
    "duration": 4,
    "start_time": "2022-01-15T21:40:42.864Z"
   },
   {
    "duration": 2,
    "start_time": "2022-01-15T21:40:42.895Z"
   },
   {
    "duration": 6,
    "start_time": "2022-01-15T21:40:42.899Z"
   },
   {
    "duration": 4,
    "start_time": "2022-01-15T21:40:42.907Z"
   },
   {
    "duration": 5,
    "start_time": "2022-01-15T21:40:42.913Z"
   },
   {
    "duration": 5,
    "start_time": "2022-01-15T21:40:42.919Z"
   },
   {
    "duration": 4,
    "start_time": "2022-01-15T21:40:42.925Z"
   },
   {
    "duration": 5,
    "start_time": "2022-01-15T21:40:42.931Z"
   },
   {
    "duration": 18,
    "start_time": "2022-01-15T21:41:03.829Z"
   },
   {
    "duration": 642,
    "start_time": "2022-01-15T21:42:07.859Z"
   },
   {
    "duration": 5,
    "start_time": "2022-01-15T21:42:08.503Z"
   },
   {
    "duration": 17,
    "start_time": "2022-01-15T21:42:08.510Z"
   },
   {
    "duration": 11,
    "start_time": "2022-01-15T21:42:08.529Z"
   },
   {
    "duration": 18,
    "start_time": "2022-01-15T21:42:08.541Z"
   },
   {
    "duration": 51,
    "start_time": "2022-01-15T21:42:08.561Z"
   },
   {
    "duration": 6,
    "start_time": "2022-01-15T21:42:08.614Z"
   },
   {
    "duration": 12,
    "start_time": "2022-01-15T21:42:08.623Z"
   },
   {
    "duration": 14,
    "start_time": "2022-01-15T21:42:08.637Z"
   },
   {
    "duration": 40,
    "start_time": "2022-01-15T21:42:08.653Z"
   },
   {
    "duration": 15,
    "start_time": "2022-01-15T21:42:08.695Z"
   },
   {
    "duration": 14,
    "start_time": "2022-01-15T21:42:08.712Z"
   },
   {
    "duration": 4,
    "start_time": "2022-01-15T21:42:08.727Z"
   },
   {
    "duration": 10,
    "start_time": "2022-01-15T21:42:08.733Z"
   },
   {
    "duration": 52,
    "start_time": "2022-01-15T21:42:08.745Z"
   },
   {
    "duration": 11,
    "start_time": "2022-01-15T21:42:08.799Z"
   },
   {
    "duration": 7,
    "start_time": "2022-01-15T21:42:08.811Z"
   },
   {
    "duration": 8,
    "start_time": "2022-01-15T21:42:08.820Z"
   },
   {
    "duration": 7,
    "start_time": "2022-01-15T21:42:08.830Z"
   },
   {
    "duration": 7,
    "start_time": "2022-01-15T21:42:08.839Z"
   },
   {
    "duration": 4,
    "start_time": "2022-01-15T21:42:08.847Z"
   },
   {
    "duration": 5,
    "start_time": "2022-01-15T21:42:08.891Z"
   },
   {
    "duration": 6,
    "start_time": "2022-01-15T21:42:08.900Z"
   },
   {
    "duration": 24,
    "start_time": "2022-01-15T21:42:08.908Z"
   },
   {
    "duration": 9,
    "start_time": "2022-01-15T21:42:08.933Z"
   },
   {
    "duration": 47,
    "start_time": "2022-01-15T21:42:08.944Z"
   },
   {
    "duration": 4,
    "start_time": "2022-01-15T21:42:08.993Z"
   },
   {
    "duration": 5,
    "start_time": "2022-01-15T21:42:08.998Z"
   },
   {
    "duration": 10,
    "start_time": "2022-01-15T21:42:09.005Z"
   },
   {
    "duration": 7,
    "start_time": "2022-01-15T21:42:09.016Z"
   },
   {
    "duration": 9,
    "start_time": "2022-01-15T21:42:09.025Z"
   },
   {
    "duration": 9,
    "start_time": "2022-01-15T21:42:09.035Z"
   },
   {
    "duration": 8,
    "start_time": "2022-01-15T21:42:09.046Z"
   },
   {
    "duration": 6,
    "start_time": "2022-01-15T21:42:09.056Z"
   },
   {
    "duration": 29,
    "start_time": "2022-01-15T21:42:09.063Z"
   },
   {
    "duration": 5,
    "start_time": "2022-01-15T21:42:09.094Z"
   },
   {
    "duration": 8,
    "start_time": "2022-01-15T21:42:09.100Z"
   },
   {
    "duration": 9,
    "start_time": "2022-01-15T21:42:09.110Z"
   },
   {
    "duration": 6,
    "start_time": "2022-01-15T21:42:09.121Z"
   },
   {
    "duration": 19,
    "start_time": "2022-01-15T21:42:09.128Z"
   },
   {
    "duration": 11,
    "start_time": "2022-01-15T21:42:09.149Z"
   },
   {
    "duration": 29,
    "start_time": "2022-01-15T21:42:09.162Z"
   },
   {
    "duration": 7,
    "start_time": "2022-01-15T21:42:09.193Z"
   },
   {
    "duration": 7,
    "start_time": "2022-01-15T21:42:09.201Z"
   },
   {
    "duration": 7,
    "start_time": "2022-01-15T21:42:09.209Z"
   },
   {
    "duration": 14,
    "start_time": "2022-01-15T21:42:09.218Z"
   },
   {
    "duration": 12,
    "start_time": "2022-01-15T21:42:09.234Z"
   },
   {
    "duration": 3,
    "start_time": "2022-01-15T21:42:09.248Z"
   },
   {
    "duration": 44,
    "start_time": "2022-01-15T21:42:09.253Z"
   },
   {
    "duration": 4002,
    "start_time": "2022-01-15T21:42:09.298Z"
   },
   {
    "duration": 18,
    "start_time": "2022-01-15T21:42:13.301Z"
   },
   {
    "duration": 25,
    "start_time": "2022-01-15T21:42:13.321Z"
   },
   {
    "duration": 19,
    "start_time": "2022-01-15T21:42:13.347Z"
   },
   {
    "duration": 12,
    "start_time": "2022-01-15T21:42:13.368Z"
   },
   {
    "duration": 5,
    "start_time": "2022-01-15T21:42:13.382Z"
   },
   {
    "duration": 10,
    "start_time": "2022-01-15T21:42:13.389Z"
   },
   {
    "duration": 5,
    "start_time": "2022-01-15T21:42:13.401Z"
   },
   {
    "duration": 5,
    "start_time": "2022-01-15T21:42:13.408Z"
   },
   {
    "duration": 4,
    "start_time": "2022-01-15T21:42:13.415Z"
   },
   {
    "duration": 7,
    "start_time": "2022-01-15T21:42:13.421Z"
   },
   {
    "duration": 4,
    "start_time": "2022-01-15T21:42:13.430Z"
   },
   {
    "duration": 5,
    "start_time": "2022-01-15T21:42:13.436Z"
   },
   {
    "duration": 4,
    "start_time": "2022-01-15T21:42:13.443Z"
   },
   {
    "duration": 4,
    "start_time": "2022-01-15T21:42:13.449Z"
   },
   {
    "duration": 5,
    "start_time": "2022-01-15T21:42:13.455Z"
   },
   {
    "duration": 5,
    "start_time": "2022-01-15T21:42:13.462Z"
   },
   {
    "duration": 3,
    "start_time": "2022-01-15T21:42:13.492Z"
   },
   {
    "duration": 2,
    "start_time": "2022-01-15T21:42:13.501Z"
   },
   {
    "duration": 5,
    "start_time": "2022-01-15T21:42:13.505Z"
   },
   {
    "duration": 5,
    "start_time": "2022-01-15T21:42:13.512Z"
   },
   {
    "duration": 5,
    "start_time": "2022-01-15T21:42:13.518Z"
   },
   {
    "duration": 4,
    "start_time": "2022-01-15T21:42:13.525Z"
   },
   {
    "duration": 5,
    "start_time": "2022-01-15T21:42:13.531Z"
   },
   {
    "duration": 6,
    "start_time": "2022-01-15T21:42:13.537Z"
   },
   {
    "duration": 676,
    "start_time": "2022-01-15T21:43:04.294Z"
   },
   {
    "duration": 5,
    "start_time": "2022-01-15T21:43:04.972Z"
   },
   {
    "duration": 18,
    "start_time": "2022-01-15T21:43:04.979Z"
   },
   {
    "duration": 18,
    "start_time": "2022-01-15T21:43:05.000Z"
   },
   {
    "duration": 20,
    "start_time": "2022-01-15T21:43:05.020Z"
   },
   {
    "duration": 24,
    "start_time": "2022-01-15T21:43:05.041Z"
   },
   {
    "duration": 9,
    "start_time": "2022-01-15T21:43:05.091Z"
   },
   {
    "duration": 18,
    "start_time": "2022-01-15T21:43:05.104Z"
   },
   {
    "duration": 20,
    "start_time": "2022-01-15T21:43:05.125Z"
   },
   {
    "duration": 8,
    "start_time": "2022-01-15T21:43:05.147Z"
   },
   {
    "duration": 49,
    "start_time": "2022-01-15T21:43:05.157Z"
   },
   {
    "duration": 15,
    "start_time": "2022-01-15T21:43:05.207Z"
   },
   {
    "duration": 5,
    "start_time": "2022-01-15T21:43:05.223Z"
   },
   {
    "duration": 17,
    "start_time": "2022-01-15T21:43:05.230Z"
   },
   {
    "duration": 32,
    "start_time": "2022-01-15T21:43:05.249Z"
   },
   {
    "duration": 30,
    "start_time": "2022-01-15T21:43:05.283Z"
   },
   {
    "duration": 46,
    "start_time": "2022-01-15T21:43:05.314Z"
   },
   {
    "duration": 14,
    "start_time": "2022-01-15T21:43:05.362Z"
   },
   {
    "duration": 28,
    "start_time": "2022-01-15T21:43:05.378Z"
   },
   {
    "duration": 12,
    "start_time": "2022-01-15T21:43:05.408Z"
   },
   {
    "duration": 27,
    "start_time": "2022-01-15T21:43:05.421Z"
   },
   {
    "duration": 24,
    "start_time": "2022-01-15T21:43:05.450Z"
   },
   {
    "duration": 19,
    "start_time": "2022-01-15T21:43:05.478Z"
   },
   {
    "duration": 28,
    "start_time": "2022-01-15T21:43:05.500Z"
   },
   {
    "duration": 11,
    "start_time": "2022-01-15T21:43:05.530Z"
   },
   {
    "duration": 15,
    "start_time": "2022-01-15T21:43:05.543Z"
   },
   {
    "duration": 13,
    "start_time": "2022-01-15T21:43:05.560Z"
   },
   {
    "duration": 17,
    "start_time": "2022-01-15T21:43:05.575Z"
   },
   {
    "duration": 17,
    "start_time": "2022-01-15T21:43:05.594Z"
   },
   {
    "duration": 23,
    "start_time": "2022-01-15T21:43:05.613Z"
   },
   {
    "duration": 12,
    "start_time": "2022-01-15T21:43:05.637Z"
   },
   {
    "duration": 17,
    "start_time": "2022-01-15T21:43:05.651Z"
   },
   {
    "duration": 19,
    "start_time": "2022-01-15T21:43:05.670Z"
   },
   {
    "duration": 14,
    "start_time": "2022-01-15T21:43:05.691Z"
   },
   {
    "duration": 12,
    "start_time": "2022-01-15T21:43:05.707Z"
   },
   {
    "duration": 8,
    "start_time": "2022-01-15T21:43:05.721Z"
   },
   {
    "duration": 17,
    "start_time": "2022-01-15T21:43:05.730Z"
   },
   {
    "duration": 12,
    "start_time": "2022-01-15T21:43:05.748Z"
   },
   {
    "duration": 12,
    "start_time": "2022-01-15T21:43:05.762Z"
   },
   {
    "duration": 30,
    "start_time": "2022-01-15T21:43:05.776Z"
   },
   {
    "duration": 17,
    "start_time": "2022-01-15T21:43:05.808Z"
   },
   {
    "duration": 48,
    "start_time": "2022-01-15T21:43:05.827Z"
   },
   {
    "duration": 19,
    "start_time": "2022-01-15T21:43:05.877Z"
   },
   {
    "duration": 20,
    "start_time": "2022-01-15T21:43:05.898Z"
   },
   {
    "duration": 7,
    "start_time": "2022-01-15T21:43:05.920Z"
   },
   {
    "duration": 20,
    "start_time": "2022-01-15T21:43:05.928Z"
   },
   {
    "duration": 21,
    "start_time": "2022-01-15T21:43:05.949Z"
   },
   {
    "duration": 22,
    "start_time": "2022-01-15T21:43:05.971Z"
   },
   {
    "duration": 35,
    "start_time": "2022-01-15T21:43:05.995Z"
   },
   {
    "duration": 4076,
    "start_time": "2022-01-15T21:43:06.032Z"
   },
   {
    "duration": 19,
    "start_time": "2022-01-15T21:43:10.109Z"
   },
   {
    "duration": 5,
    "start_time": "2022-01-15T21:43:10.130Z"
   },
   {
    "duration": 7,
    "start_time": "2022-01-15T21:43:10.137Z"
   },
   {
    "duration": 11,
    "start_time": "2022-01-15T21:43:10.145Z"
   },
   {
    "duration": 7,
    "start_time": "2022-01-15T21:43:10.158Z"
   },
   {
    "duration": 13,
    "start_time": "2022-01-15T21:43:10.167Z"
   },
   {
    "duration": 8,
    "start_time": "2022-01-15T21:43:10.182Z"
   },
   {
    "duration": 5,
    "start_time": "2022-01-15T21:43:10.191Z"
   },
   {
    "duration": 6,
    "start_time": "2022-01-15T21:43:10.197Z"
   },
   {
    "duration": 5,
    "start_time": "2022-01-15T21:43:10.204Z"
   },
   {
    "duration": 5,
    "start_time": "2022-01-15T21:43:10.210Z"
   },
   {
    "duration": 6,
    "start_time": "2022-01-15T21:43:10.217Z"
   },
   {
    "duration": 5,
    "start_time": "2022-01-15T21:43:10.224Z"
   },
   {
    "duration": 5,
    "start_time": "2022-01-15T21:43:10.231Z"
   },
   {
    "duration": 5,
    "start_time": "2022-01-15T21:43:10.237Z"
   },
   {
    "duration": 6,
    "start_time": "2022-01-15T21:43:10.244Z"
   },
   {
    "duration": 8,
    "start_time": "2022-01-15T21:43:10.252Z"
   },
   {
    "duration": 5,
    "start_time": "2022-01-15T21:43:10.264Z"
   },
   {
    "duration": 5,
    "start_time": "2022-01-15T21:43:10.270Z"
   },
   {
    "duration": 3,
    "start_time": "2022-01-15T21:43:10.291Z"
   },
   {
    "duration": 4,
    "start_time": "2022-01-15T21:43:10.296Z"
   },
   {
    "duration": 4,
    "start_time": "2022-01-15T21:43:10.302Z"
   },
   {
    "duration": 4,
    "start_time": "2022-01-15T21:43:10.308Z"
   },
   {
    "duration": 6,
    "start_time": "2022-01-15T21:43:10.313Z"
   },
   {
    "duration": 12,
    "start_time": "2022-01-15T21:57:01.126Z"
   },
   {
    "duration": 60,
    "start_time": "2022-01-15T22:34:26.737Z"
   },
   {
    "duration": 21,
    "start_time": "2022-01-15T22:34:32.354Z"
   },
   {
    "duration": 21,
    "start_time": "2022-01-15T22:36:23.142Z"
   },
   {
    "duration": 25,
    "start_time": "2022-01-15T22:39:45.023Z"
   },
   {
    "duration": 26,
    "start_time": "2022-01-15T22:40:07.548Z"
   },
   {
    "duration": 27,
    "start_time": "2022-01-15T22:40:10.804Z"
   },
   {
    "duration": 26,
    "start_time": "2022-01-15T22:40:17.667Z"
   },
   {
    "duration": 26,
    "start_time": "2022-01-15T22:40:26.498Z"
   },
   {
    "duration": 25,
    "start_time": "2022-01-15T22:40:45.301Z"
   },
   {
    "duration": 25,
    "start_time": "2022-01-15T22:40:49.178Z"
   },
   {
    "duration": 25,
    "start_time": "2022-01-15T22:40:52.173Z"
   },
   {
    "duration": 25,
    "start_time": "2022-01-15T22:41:01.921Z"
   },
   {
    "duration": 22,
    "start_time": "2022-01-15T22:42:15.022Z"
   },
   {
    "duration": 34,
    "start_time": "2022-01-15T22:45:09.862Z"
   },
   {
    "duration": 20,
    "start_time": "2022-01-15T22:45:24.533Z"
   },
   {
    "duration": 42,
    "start_time": "2022-01-15T22:45:29.339Z"
   },
   {
    "duration": 19,
    "start_time": "2022-01-15T22:46:00.982Z"
   },
   {
    "duration": 21,
    "start_time": "2022-01-15T22:46:07.242Z"
   },
   {
    "duration": 21,
    "start_time": "2022-01-15T22:47:56.037Z"
   },
   {
    "duration": 16,
    "start_time": "2022-01-15T22:51:19.967Z"
   },
   {
    "duration": 5,
    "start_time": "2022-01-15T22:59:56.124Z"
   },
   {
    "duration": 240,
    "start_time": "2022-01-15T23:00:10.869Z"
   },
   {
    "duration": 5314,
    "start_time": "2022-01-15T23:00:21.581Z"
   },
   {
    "duration": 4,
    "start_time": "2022-01-15T23:00:46.992Z"
   },
   {
    "duration": 4672,
    "start_time": "2022-01-15T23:00:48.817Z"
   },
   {
    "duration": 4,
    "start_time": "2022-01-15T23:01:21.227Z"
   },
   {
    "duration": 7,
    "start_time": "2022-01-15T23:01:22.404Z"
   },
   {
    "duration": 14,
    "start_time": "2022-01-15T23:01:56.048Z"
   },
   {
    "duration": 11,
    "start_time": "2022-01-15T23:02:05.876Z"
   },
   {
    "duration": 96,
    "start_time": "2022-01-15T23:02:24.615Z"
   },
   {
    "duration": 4758,
    "start_time": "2022-01-15T23:02:26.787Z"
   },
   {
    "duration": 10,
    "start_time": "2022-01-15T23:02:37.276Z"
   },
   {
    "duration": 4533,
    "start_time": "2022-01-15T23:02:59.001Z"
   },
   {
    "duration": 10,
    "start_time": "2022-01-15T23:03:11.619Z"
   },
   {
    "duration": 4531,
    "start_time": "2022-01-15T23:03:58.980Z"
   },
   {
    "duration": 5285,
    "start_time": "2022-01-15T23:04:24.471Z"
   },
   {
    "duration": 10,
    "start_time": "2022-01-15T23:05:09.327Z"
   },
   {
    "duration": 7,
    "start_time": "2022-01-15T23:09:02.537Z"
   },
   {
    "duration": 10,
    "start_time": "2022-01-15T23:09:40.426Z"
   },
   {
    "duration": 4,
    "start_time": "2022-01-15T23:10:07.353Z"
   },
   {
    "duration": 4815,
    "start_time": "2022-01-15T23:10:08.521Z"
   },
   {
    "duration": 71,
    "start_time": "2022-01-15T23:10:38.097Z"
   },
   {
    "duration": 63,
    "start_time": "2022-01-15T23:10:38.106Z"
   },
   {
    "duration": 3,
    "start_time": "2022-01-15T23:10:47.160Z"
   },
   {
    "duration": 7,
    "start_time": "2022-01-15T23:10:48.497Z"
   },
   {
    "duration": 4,
    "start_time": "2022-01-15T23:12:35.850Z"
   },
   {
    "duration": 7,
    "start_time": "2022-01-15T23:12:37.336Z"
   },
   {
    "duration": 6,
    "start_time": "2022-01-15T23:17:54.072Z"
   },
   {
    "duration": 21,
    "start_time": "2022-01-15T23:18:25.558Z"
   },
   {
    "duration": 1298,
    "start_time": "2022-01-17T00:12:39.208Z"
   },
   {
    "duration": 5,
    "start_time": "2022-01-17T00:12:40.509Z"
   },
   {
    "duration": 25,
    "start_time": "2022-01-17T00:12:40.517Z"
   },
   {
    "duration": 15,
    "start_time": "2022-01-17T00:12:40.545Z"
   },
   {
    "duration": 56,
    "start_time": "2022-01-17T00:12:40.562Z"
   },
   {
    "duration": 36,
    "start_time": "2022-01-17T00:12:40.622Z"
   },
   {
    "duration": 41,
    "start_time": "2022-01-17T00:12:40.662Z"
   },
   {
    "duration": 23,
    "start_time": "2022-01-17T00:12:40.709Z"
   },
   {
    "duration": 66,
    "start_time": "2022-01-17T00:12:40.735Z"
   },
   {
    "duration": 11,
    "start_time": "2022-01-17T00:12:40.804Z"
   },
   {
    "duration": 21,
    "start_time": "2022-01-17T00:12:40.818Z"
   },
   {
    "duration": 59,
    "start_time": "2022-01-17T00:12:40.842Z"
   },
   {
    "duration": 4,
    "start_time": "2022-01-17T00:12:40.904Z"
   },
   {
    "duration": 15,
    "start_time": "2022-01-17T00:12:40.911Z"
   },
   {
    "duration": 17,
    "start_time": "2022-01-17T00:12:40.929Z"
   },
   {
    "duration": 56,
    "start_time": "2022-01-17T00:12:40.949Z"
   },
   {
    "duration": 11,
    "start_time": "2022-01-17T00:12:41.007Z"
   },
   {
    "duration": 11,
    "start_time": "2022-01-17T00:12:41.020Z"
   },
   {
    "duration": 8,
    "start_time": "2022-01-17T00:12:41.033Z"
   },
   {
    "duration": 9,
    "start_time": "2022-01-17T00:12:41.043Z"
   },
   {
    "duration": 5,
    "start_time": "2022-01-17T00:12:41.054Z"
   },
   {
    "duration": 7,
    "start_time": "2022-01-17T00:12:41.100Z"
   },
   {
    "duration": 9,
    "start_time": "2022-01-17T00:12:41.113Z"
   },
   {
    "duration": 37,
    "start_time": "2022-01-17T00:12:41.125Z"
   },
   {
    "duration": 45,
    "start_time": "2022-01-17T00:12:41.164Z"
   },
   {
    "duration": 10,
    "start_time": "2022-01-17T00:12:41.211Z"
   },
   {
    "duration": 5,
    "start_time": "2022-01-17T00:12:41.223Z"
   },
   {
    "duration": 5,
    "start_time": "2022-01-17T00:12:41.230Z"
   },
   {
    "duration": 12,
    "start_time": "2022-01-17T00:12:41.237Z"
   },
   {
    "duration": 50,
    "start_time": "2022-01-17T00:12:41.251Z"
   },
   {
    "duration": 10,
    "start_time": "2022-01-17T00:12:41.303Z"
   },
   {
    "duration": 10,
    "start_time": "2022-01-17T00:12:41.315Z"
   },
   {
    "duration": 6,
    "start_time": "2022-01-17T00:12:41.327Z"
   },
   {
    "duration": 7,
    "start_time": "2022-01-17T00:12:41.335Z"
   },
   {
    "duration": 8,
    "start_time": "2022-01-17T00:12:41.345Z"
   },
   {
    "duration": 7,
    "start_time": "2022-01-17T00:12:41.355Z"
   },
   {
    "duration": 36,
    "start_time": "2022-01-17T00:12:41.365Z"
   },
   {
    "duration": 6,
    "start_time": "2022-01-17T00:12:41.404Z"
   },
   {
    "duration": 7,
    "start_time": "2022-01-17T00:12:41.413Z"
   },
   {
    "duration": 11,
    "start_time": "2022-01-17T00:12:41.422Z"
   },
   {
    "duration": 17,
    "start_time": "2022-01-17T00:12:41.436Z"
   },
   {
    "duration": 66,
    "start_time": "2022-01-17T00:12:41.455Z"
   },
   {
    "duration": 12,
    "start_time": "2022-01-17T00:12:41.524Z"
   },
   {
    "duration": 10,
    "start_time": "2022-01-17T00:12:41.539Z"
   },
   {
    "duration": 10,
    "start_time": "2022-01-17T00:12:41.551Z"
   },
   {
    "duration": 57,
    "start_time": "2022-01-17T00:12:41.563Z"
   },
   {
    "duration": 18,
    "start_time": "2022-01-17T00:12:41.623Z"
   },
   {
    "duration": 4,
    "start_time": "2022-01-17T00:12:41.644Z"
   },
   {
    "duration": 10,
    "start_time": "2022-01-17T00:12:41.650Z"
   },
   {
    "duration": 6875,
    "start_time": "2022-01-17T00:12:41.662Z"
   },
   {
    "duration": 16,
    "start_time": "2022-01-17T00:12:48.539Z"
   },
   {
    "duration": 3,
    "start_time": "2022-01-17T00:12:48.557Z"
   },
   {
    "duration": 4,
    "start_time": "2022-01-17T00:12:48.562Z"
   },
   {
    "duration": 59,
    "start_time": "2022-01-17T00:12:48.569Z"
   },
   {
    "duration": 13,
    "start_time": "2022-01-17T00:12:48.630Z"
   },
   {
    "duration": 4,
    "start_time": "2022-01-17T00:12:48.645Z"
   },
   {
    "duration": 12,
    "start_time": "2022-01-17T00:12:48.652Z"
   },
   {
    "duration": 34,
    "start_time": "2022-01-17T00:12:48.667Z"
   },
   {
    "duration": 7,
    "start_time": "2022-01-17T00:12:48.703Z"
   },
   {
    "duration": 6505,
    "start_time": "2022-01-17T00:12:48.712Z"
   },
   {
    "duration": 4,
    "start_time": "2022-01-17T00:12:55.219Z"
   },
   {
    "duration": 7,
    "start_time": "2022-01-17T00:12:55.227Z"
   },
   {
    "duration": 5,
    "start_time": "2022-01-17T00:12:55.237Z"
   },
   {
    "duration": 6,
    "start_time": "2022-01-17T00:12:55.245Z"
   },
   {
    "duration": 7,
    "start_time": "2022-01-17T00:12:55.254Z"
   },
   {
    "duration": 41,
    "start_time": "2022-01-17T00:12:55.264Z"
   },
   {
    "duration": 7,
    "start_time": "2022-01-17T00:12:55.307Z"
   },
   {
    "duration": 2,
    "start_time": "2022-01-17T00:12:55.324Z"
   },
   {
    "duration": 12,
    "start_time": "2022-01-17T00:12:55.329Z"
   },
   {
    "duration": 8,
    "start_time": "2022-01-17T00:12:55.344Z"
   },
   {
    "duration": 8,
    "start_time": "2022-01-17T00:12:55.354Z"
   },
   {
    "duration": 34,
    "start_time": "2022-01-17T00:12:55.366Z"
   },
   {
    "duration": 10,
    "start_time": "2022-01-17T00:12:55.402Z"
   },
   {
    "duration": 8,
    "start_time": "2022-01-17T00:12:55.414Z"
   },
   {
    "duration": 16,
    "start_time": "2022-01-17T00:13:20.820Z"
   },
   {
    "duration": 324,
    "start_time": "2022-01-17T14:49:40.113Z"
   },
   {
    "duration": 843,
    "start_time": "2022-01-17T14:49:45.725Z"
   },
   {
    "duration": 5,
    "start_time": "2022-01-17T14:49:46.570Z"
   },
   {
    "duration": 27,
    "start_time": "2022-01-17T14:49:46.578Z"
   },
   {
    "duration": 31,
    "start_time": "2022-01-17T14:49:46.607Z"
   },
   {
    "duration": 29,
    "start_time": "2022-01-17T14:49:46.640Z"
   },
   {
    "duration": 44,
    "start_time": "2022-01-17T14:49:46.671Z"
   },
   {
    "duration": 7,
    "start_time": "2022-01-17T14:49:46.733Z"
   },
   {
    "duration": 17,
    "start_time": "2022-01-17T14:49:46.744Z"
   },
   {
    "duration": 26,
    "start_time": "2022-01-17T14:49:46.766Z"
   },
   {
    "duration": 43,
    "start_time": "2022-01-17T14:49:46.794Z"
   },
   {
    "duration": 27,
    "start_time": "2022-01-17T14:49:46.840Z"
   },
   {
    "duration": 21,
    "start_time": "2022-01-17T14:49:46.870Z"
   },
   {
    "duration": 4,
    "start_time": "2022-01-17T14:49:46.894Z"
   },
   {
    "duration": 12,
    "start_time": "2022-01-17T14:49:46.933Z"
   },
   {
    "duration": 17,
    "start_time": "2022-01-17T14:49:46.948Z"
   },
   {
    "duration": 15,
    "start_time": "2022-01-17T14:49:46.968Z"
   },
   {
    "duration": 48,
    "start_time": "2022-01-17T14:49:46.986Z"
   },
   {
    "duration": 14,
    "start_time": "2022-01-17T14:49:47.037Z"
   },
   {
    "duration": 22,
    "start_time": "2022-01-17T14:49:47.053Z"
   },
   {
    "duration": 13,
    "start_time": "2022-01-17T14:49:47.077Z"
   },
   {
    "duration": 12,
    "start_time": "2022-01-17T14:49:47.092Z"
   },
   {
    "duration": 12,
    "start_time": "2022-01-17T14:49:47.106Z"
   },
   {
    "duration": 8,
    "start_time": "2022-01-17T14:49:47.132Z"
   },
   {
    "duration": 32,
    "start_time": "2022-01-17T14:49:47.144Z"
   },
   {
    "duration": 15,
    "start_time": "2022-01-17T14:49:47.179Z"
   },
   {
    "duration": 11,
    "start_time": "2022-01-17T14:49:47.233Z"
   },
   {
    "duration": 10,
    "start_time": "2022-01-17T14:49:47.247Z"
   },
   {
    "duration": 19,
    "start_time": "2022-01-17T14:49:47.260Z"
   },
   {
    "duration": 17,
    "start_time": "2022-01-17T14:49:47.281Z"
   },
   {
    "duration": 14,
    "start_time": "2022-01-17T14:49:47.301Z"
   },
   {
    "duration": 23,
    "start_time": "2022-01-17T14:49:47.317Z"
   },
   {
    "duration": 17,
    "start_time": "2022-01-17T14:49:47.342Z"
   },
   {
    "duration": 11,
    "start_time": "2022-01-17T14:49:47.361Z"
   },
   {
    "duration": 15,
    "start_time": "2022-01-17T14:49:47.374Z"
   },
   {
    "duration": 14,
    "start_time": "2022-01-17T14:49:47.391Z"
   },
   {
    "duration": 12,
    "start_time": "2022-01-17T14:49:47.407Z"
   },
   {
    "duration": 15,
    "start_time": "2022-01-17T14:49:47.421Z"
   },
   {
    "duration": 9,
    "start_time": "2022-01-17T14:49:47.439Z"
   },
   {
    "duration": 8,
    "start_time": "2022-01-17T14:49:47.451Z"
   },
   {
    "duration": 14,
    "start_time": "2022-01-17T14:49:47.461Z"
   },
   {
    "duration": 15,
    "start_time": "2022-01-17T14:49:47.478Z"
   },
   {
    "duration": 43,
    "start_time": "2022-01-17T14:49:47.496Z"
   },
   {
    "duration": 13,
    "start_time": "2022-01-17T14:49:47.542Z"
   },
   {
    "duration": 10,
    "start_time": "2022-01-17T14:49:47.558Z"
   },
   {
    "duration": 12,
    "start_time": "2022-01-17T14:49:47.570Z"
   },
   {
    "duration": 51,
    "start_time": "2022-01-17T14:49:47.585Z"
   },
   {
    "duration": 18,
    "start_time": "2022-01-17T14:49:47.639Z"
   },
   {
    "duration": 4,
    "start_time": "2022-01-17T14:49:47.660Z"
   },
   {
    "duration": 19,
    "start_time": "2022-01-17T14:49:47.666Z"
   },
   {
    "duration": 6674,
    "start_time": "2022-01-17T14:49:47.687Z"
   },
   {
    "duration": 15,
    "start_time": "2022-01-17T14:49:54.363Z"
   },
   {
    "duration": 17,
    "start_time": "2022-01-17T14:49:54.380Z"
   },
   {
    "duration": 19,
    "start_time": "2022-01-17T14:49:54.399Z"
   },
   {
    "duration": 35,
    "start_time": "2022-01-17T14:49:54.420Z"
   },
   {
    "duration": 13,
    "start_time": "2022-01-17T14:49:54.457Z"
   },
   {
    "duration": 16,
    "start_time": "2022-01-17T14:49:54.472Z"
   },
   {
    "duration": 35,
    "start_time": "2022-01-17T14:49:54.490Z"
   },
   {
    "duration": 17,
    "start_time": "2022-01-17T14:49:54.527Z"
   },
   {
    "duration": 14,
    "start_time": "2022-01-17T14:49:54.547Z"
   },
   {
    "duration": 6335,
    "start_time": "2022-01-17T14:49:54.563Z"
   },
   {
    "duration": 15,
    "start_time": "2022-01-17T14:50:00.900Z"
   },
   {
    "duration": 6,
    "start_time": "2022-01-17T14:50:00.932Z"
   },
   {
    "duration": 6,
    "start_time": "2022-01-17T14:50:00.941Z"
   },
   {
    "duration": 25,
    "start_time": "2022-01-17T14:50:00.949Z"
   },
   {
    "duration": 23,
    "start_time": "2022-01-17T14:50:00.977Z"
   },
   {
    "duration": 10,
    "start_time": "2022-01-17T14:50:01.003Z"
   },
   {
    "duration": 16,
    "start_time": "2022-01-17T14:50:01.016Z"
   },
   {
    "duration": 17,
    "start_time": "2022-01-17T14:50:01.039Z"
   },
   {
    "duration": 17,
    "start_time": "2022-01-17T14:50:01.058Z"
   },
   {
    "duration": 30,
    "start_time": "2022-01-17T14:50:01.077Z"
   },
   {
    "duration": 24,
    "start_time": "2022-01-17T14:50:01.109Z"
   },
   {
    "duration": 41,
    "start_time": "2022-01-17T14:50:01.136Z"
   },
   {
    "duration": 32,
    "start_time": "2022-01-17T14:50:01.180Z"
   },
   {
    "duration": 18,
    "start_time": "2022-01-17T14:50:01.214Z"
   },
   {
    "duration": 7,
    "start_time": "2022-01-17T14:50:19.022Z"
   },
   {
    "duration": 7,
    "start_time": "2022-01-17T14:50:21.893Z"
   },
   {
    "duration": 1203,
    "start_time": "2022-01-17T14:57:12.782Z"
   },
   {
    "duration": 266,
    "start_time": "2022-01-17T14:57:31.925Z"
   },
   {
    "duration": 273,
    "start_time": "2022-01-17T14:58:45.171Z"
   },
   {
    "duration": 85,
    "start_time": "2022-01-17T14:59:02.347Z"
   },
   {
    "duration": 5,
    "start_time": "2022-01-17T15:00:49.254Z"
   },
   {
    "duration": 5,
    "start_time": "2022-01-17T15:01:00.763Z"
   },
   {
    "duration": 6,
    "start_time": "2022-01-17T15:01:38.827Z"
   },
   {
    "duration": 5,
    "start_time": "2022-01-17T15:01:49.074Z"
   },
   {
    "duration": 5,
    "start_time": "2022-01-17T15:02:12.584Z"
   },
   {
    "duration": 7,
    "start_time": "2022-01-17T15:02:16.893Z"
   },
   {
    "duration": 6,
    "start_time": "2022-01-17T15:02:20.378Z"
   },
   {
    "duration": 6,
    "start_time": "2022-01-17T15:02:36.061Z"
   },
   {
    "duration": 5,
    "start_time": "2022-01-17T15:03:02.493Z"
   },
   {
    "duration": 6,
    "start_time": "2022-01-17T15:04:12.265Z"
   },
   {
    "duration": 6,
    "start_time": "2022-01-17T15:09:15.027Z"
   },
   {
    "duration": 424,
    "start_time": "2022-01-17T15:20:20.993Z"
   },
   {
    "duration": 85,
    "start_time": "2022-01-17T15:20:31.583Z"
   },
   {
    "duration": 6,
    "start_time": "2022-01-17T15:20:36.748Z"
   },
   {
    "duration": 7,
    "start_time": "2022-01-17T15:20:42.267Z"
   },
   {
    "duration": 7,
    "start_time": "2022-01-17T15:20:47.540Z"
   },
   {
    "duration": 8,
    "start_time": "2022-01-17T15:20:58.988Z"
   },
   {
    "duration": 7,
    "start_time": "2022-01-17T15:21:01.739Z"
   },
   {
    "duration": 10,
    "start_time": "2022-01-17T15:21:06.184Z"
   },
   {
    "duration": 11,
    "start_time": "2022-01-17T15:23:19.288Z"
   },
   {
    "duration": 285,
    "start_time": "2022-01-17T15:25:06.262Z"
   },
   {
    "duration": 5,
    "start_time": "2022-01-17T15:25:11.726Z"
   },
   {
    "duration": 105,
    "start_time": "2022-01-17T15:25:12.936Z"
   },
   {
    "duration": 1395,
    "start_time": "2022-01-17T15:25:23.269Z"
   },
   {
    "duration": 10,
    "start_time": "2022-01-17T15:26:22.160Z"
   },
   {
    "duration": 1566,
    "start_time": "2022-01-17T15:26:34.774Z"
   },
   {
    "duration": 6,
    "start_time": "2022-01-17T15:26:36.343Z"
   },
   {
    "duration": 27,
    "start_time": "2022-01-17T15:26:36.352Z"
   },
   {
    "duration": 23,
    "start_time": "2022-01-17T15:26:36.381Z"
   },
   {
    "duration": 47,
    "start_time": "2022-01-17T15:26:36.406Z"
   },
   {
    "duration": 33,
    "start_time": "2022-01-17T15:26:36.456Z"
   },
   {
    "duration": 9,
    "start_time": "2022-01-17T15:26:36.491Z"
   },
   {
    "duration": 50,
    "start_time": "2022-01-17T15:26:36.503Z"
   },
   {
    "duration": 23,
    "start_time": "2022-01-17T15:26:36.556Z"
   },
   {
    "duration": 9,
    "start_time": "2022-01-17T15:26:36.581Z"
   },
   {
    "duration": 56,
    "start_time": "2022-01-17T15:26:36.592Z"
   },
   {
    "duration": 25,
    "start_time": "2022-01-17T15:26:36.650Z"
   },
   {
    "duration": 3,
    "start_time": "2022-01-17T15:26:36.677Z"
   },
   {
    "duration": 11,
    "start_time": "2022-01-17T15:26:36.682Z"
   },
   {
    "duration": 47,
    "start_time": "2022-01-17T15:26:36.696Z"
   },
   {
    "duration": 16,
    "start_time": "2022-01-17T15:26:36.746Z"
   },
   {
    "duration": 8,
    "start_time": "2022-01-17T15:26:36.764Z"
   },
   {
    "duration": 11,
    "start_time": "2022-01-17T15:26:36.775Z"
   },
   {
    "duration": 7,
    "start_time": "2022-01-17T15:26:36.789Z"
   },
   {
    "duration": 42,
    "start_time": "2022-01-17T15:26:36.798Z"
   },
   {
    "duration": 9,
    "start_time": "2022-01-17T15:26:36.842Z"
   },
   {
    "duration": 7,
    "start_time": "2022-01-17T15:26:36.853Z"
   },
   {
    "duration": 8,
    "start_time": "2022-01-17T15:26:36.868Z"
   },
   {
    "duration": 77,
    "start_time": "2022-01-17T15:26:36.880Z"
   },
   {
    "duration": 12,
    "start_time": "2022-01-17T15:26:36.960Z"
   },
   {
    "duration": 14,
    "start_time": "2022-01-17T15:26:36.975Z"
   },
   {
    "duration": 7,
    "start_time": "2022-01-17T15:26:36.992Z"
   },
   {
    "duration": 34,
    "start_time": "2022-01-17T15:26:37.001Z"
   },
   {
    "duration": 15,
    "start_time": "2022-01-17T15:26:37.037Z"
   },
   {
    "duration": 11,
    "start_time": "2022-01-17T15:26:37.054Z"
   },
   {
    "duration": 16,
    "start_time": "2022-01-17T15:26:37.067Z"
   },
   {
    "duration": 18,
    "start_time": "2022-01-17T15:26:37.086Z"
   },
   {
    "duration": 8,
    "start_time": "2022-01-17T15:26:37.106Z"
   },
   {
    "duration": 3,
    "start_time": "2022-01-17T15:26:37.133Z"
   },
   {
    "duration": 15,
    "start_time": "2022-01-17T15:26:37.138Z"
   },
   {
    "duration": 8,
    "start_time": "2022-01-17T15:26:37.156Z"
   },
   {
    "duration": 8,
    "start_time": "2022-01-17T15:26:37.166Z"
   },
   {
    "duration": 8,
    "start_time": "2022-01-17T15:26:37.176Z"
   },
   {
    "duration": 8,
    "start_time": "2022-01-17T15:26:37.186Z"
   },
   {
    "duration": 14,
    "start_time": "2022-01-17T15:26:37.196Z"
   },
   {
    "duration": 31,
    "start_time": "2022-01-17T15:26:37.212Z"
   },
   {
    "duration": 34,
    "start_time": "2022-01-17T15:26:37.245Z"
   },
   {
    "duration": 10,
    "start_time": "2022-01-17T15:26:37.282Z"
   },
   {
    "duration": 38,
    "start_time": "2022-01-17T15:26:37.295Z"
   },
   {
    "duration": 9,
    "start_time": "2022-01-17T15:26:37.335Z"
   },
   {
    "duration": 20,
    "start_time": "2022-01-17T15:26:37.346Z"
   },
   {
    "duration": 19,
    "start_time": "2022-01-17T15:26:37.369Z"
   },
   {
    "duration": 41,
    "start_time": "2022-01-17T15:26:37.391Z"
   },
   {
    "duration": 10,
    "start_time": "2022-01-17T15:26:37.435Z"
   },
   {
    "duration": 6771,
    "start_time": "2022-01-17T15:26:37.448Z"
   },
   {
    "duration": 21,
    "start_time": "2022-01-17T15:26:44.221Z"
   },
   {
    "duration": 25,
    "start_time": "2022-01-17T15:26:44.245Z"
   },
   {
    "duration": 18,
    "start_time": "2022-01-17T15:26:44.273Z"
   },
   {
    "duration": 47,
    "start_time": "2022-01-17T15:26:44.294Z"
   },
   {
    "duration": 12,
    "start_time": "2022-01-17T15:26:44.344Z"
   },
   {
    "duration": 4,
    "start_time": "2022-01-17T15:26:44.358Z"
   },
   {
    "duration": 12,
    "start_time": "2022-01-17T15:26:44.364Z"
   },
   {
    "duration": 2,
    "start_time": "2022-01-17T15:26:44.378Z"
   },
   {
    "duration": 6,
    "start_time": "2022-01-17T15:26:44.383Z"
   },
   {
    "duration": 6396,
    "start_time": "2022-01-17T15:26:44.391Z"
   },
   {
    "duration": 16,
    "start_time": "2022-01-17T15:26:50.789Z"
   },
   {
    "duration": 7,
    "start_time": "2022-01-17T15:26:50.808Z"
   },
   {
    "duration": 7,
    "start_time": "2022-01-17T15:26:50.834Z"
   },
   {
    "duration": 8,
    "start_time": "2022-01-17T15:26:50.843Z"
   },
   {
    "duration": 5,
    "start_time": "2022-01-17T15:26:50.853Z"
   },
   {
    "duration": 131,
    "start_time": "2022-01-17T15:26:50.861Z"
   },
   {
    "duration": 3,
    "start_time": "2022-01-17T15:26:50.994Z"
   },
   {
    "duration": 5,
    "start_time": "2022-01-17T15:26:51.005Z"
   },
   {
    "duration": 20,
    "start_time": "2022-01-17T15:26:51.013Z"
   },
   {
    "duration": 11,
    "start_time": "2022-01-17T15:26:51.036Z"
   },
   {
    "duration": 8,
    "start_time": "2022-01-17T15:26:51.049Z"
   },
   {
    "duration": 8,
    "start_time": "2022-01-17T15:26:51.059Z"
   },
   {
    "duration": 8,
    "start_time": "2022-01-17T15:26:51.069Z"
   },
   {
    "duration": 8,
    "start_time": "2022-01-17T15:26:51.079Z"
   },
   {
    "duration": 9,
    "start_time": "2022-01-17T15:26:51.089Z"
   },
   {
    "duration": 1433,
    "start_time": "2022-01-17T15:27:03.408Z"
   },
   {
    "duration": 1398,
    "start_time": "2022-01-17T15:27:16.288Z"
   },
   {
    "duration": 1277,
    "start_time": "2022-01-17T15:27:35.272Z"
   },
   {
    "duration": 1660,
    "start_time": "2022-01-17T15:27:57.298Z"
   },
   {
    "duration": 6,
    "start_time": "2022-01-17T15:27:58.960Z"
   },
   {
    "duration": 29,
    "start_time": "2022-01-17T15:27:58.970Z"
   },
   {
    "duration": 38,
    "start_time": "2022-01-17T15:27:59.002Z"
   },
   {
    "duration": 28,
    "start_time": "2022-01-17T15:27:59.042Z"
   },
   {
    "duration": 64,
    "start_time": "2022-01-17T15:27:59.073Z"
   },
   {
    "duration": 8,
    "start_time": "2022-01-17T15:27:59.140Z"
   },
   {
    "duration": 20,
    "start_time": "2022-01-17T15:27:59.154Z"
   },
   {
    "duration": 61,
    "start_time": "2022-01-17T15:27:59.177Z"
   },
   {
    "duration": 10,
    "start_time": "2022-01-17T15:27:59.241Z"
   },
   {
    "duration": 22,
    "start_time": "2022-01-17T15:27:59.254Z"
   },
   {
    "duration": 53,
    "start_time": "2022-01-17T15:27:59.278Z"
   },
   {
    "duration": 3,
    "start_time": "2022-01-17T15:27:59.334Z"
   },
   {
    "duration": 15,
    "start_time": "2022-01-17T15:27:59.339Z"
   },
   {
    "duration": 17,
    "start_time": "2022-01-17T15:27:59.356Z"
   },
   {
    "duration": 11,
    "start_time": "2022-01-17T15:27:59.376Z"
   },
   {
    "duration": 10,
    "start_time": "2022-01-17T15:27:59.389Z"
   },
   {
    "duration": 12,
    "start_time": "2022-01-17T15:27:59.433Z"
   },
   {
    "duration": 7,
    "start_time": "2022-01-17T15:27:59.447Z"
   },
   {
    "duration": 9,
    "start_time": "2022-01-17T15:27:59.456Z"
   },
   {
    "duration": 4,
    "start_time": "2022-01-17T15:27:59.467Z"
   },
   {
    "duration": 9,
    "start_time": "2022-01-17T15:27:59.473Z"
   },
   {
    "duration": 9,
    "start_time": "2022-01-17T15:27:59.534Z"
   },
   {
    "duration": 33,
    "start_time": "2022-01-17T15:27:59.547Z"
   },
   {
    "duration": 12,
    "start_time": "2022-01-17T15:27:59.582Z"
   },
   {
    "duration": 38,
    "start_time": "2022-01-17T15:27:59.596Z"
   },
   {
    "duration": 3,
    "start_time": "2022-01-17T15:27:59.637Z"
   },
   {
    "duration": 5,
    "start_time": "2022-01-17T15:27:59.643Z"
   },
   {
    "duration": 12,
    "start_time": "2022-01-17T15:27:59.651Z"
   },
   {
    "duration": 11,
    "start_time": "2022-01-17T15:27:59.666Z"
   },
   {
    "duration": 58,
    "start_time": "2022-01-17T15:27:59.679Z"
   },
   {
    "duration": 13,
    "start_time": "2022-01-17T15:27:59.740Z"
   },
   {
    "duration": 6,
    "start_time": "2022-01-17T15:27:59.755Z"
   },
   {
    "duration": 10,
    "start_time": "2022-01-17T15:27:59.763Z"
   },
   {
    "duration": 14,
    "start_time": "2022-01-17T15:27:59.775Z"
   },
   {
    "duration": 7,
    "start_time": "2022-01-17T15:27:59.791Z"
   },
   {
    "duration": 8,
    "start_time": "2022-01-17T15:27:59.800Z"
   },
   {
    "duration": 21,
    "start_time": "2022-01-17T15:27:59.811Z"
   },
   {
    "duration": 9,
    "start_time": "2022-01-17T15:27:59.834Z"
   },
   {
    "duration": 8,
    "start_time": "2022-01-17T15:27:59.846Z"
   },
   {
    "duration": 18,
    "start_time": "2022-01-17T15:27:59.857Z"
   },
   {
    "duration": 56,
    "start_time": "2022-01-17T15:27:59.878Z"
   },
   {
    "duration": 11,
    "start_time": "2022-01-17T15:27:59.937Z"
   },
   {
    "duration": 10,
    "start_time": "2022-01-17T15:27:59.950Z"
   },
   {
    "duration": 12,
    "start_time": "2022-01-17T15:27:59.962Z"
   },
   {
    "duration": 58,
    "start_time": "2022-01-17T15:27:59.976Z"
   },
   {
    "duration": 18,
    "start_time": "2022-01-17T15:28:00.036Z"
   },
   {
    "duration": 5,
    "start_time": "2022-01-17T15:28:00.056Z"
   },
   {
    "duration": 17,
    "start_time": "2022-01-17T15:28:00.064Z"
   },
   {
    "duration": 6741,
    "start_time": "2022-01-17T15:28:00.084Z"
   },
   {
    "duration": 15,
    "start_time": "2022-01-17T15:28:06.828Z"
   },
   {
    "duration": 7,
    "start_time": "2022-01-17T15:28:06.846Z"
   },
   {
    "duration": 6,
    "start_time": "2022-01-17T15:28:06.855Z"
   },
   {
    "duration": 30,
    "start_time": "2022-01-17T15:28:06.864Z"
   },
   {
    "duration": 41,
    "start_time": "2022-01-17T15:28:06.896Z"
   },
   {
    "duration": 5,
    "start_time": "2022-01-17T15:28:06.939Z"
   },
   {
    "duration": 12,
    "start_time": "2022-01-17T15:28:06.946Z"
   },
   {
    "duration": 7,
    "start_time": "2022-01-17T15:28:06.960Z"
   },
   {
    "duration": 6,
    "start_time": "2022-01-17T15:28:06.969Z"
   },
   {
    "duration": 6416,
    "start_time": "2022-01-17T15:28:06.977Z"
   },
   {
    "duration": 15,
    "start_time": "2022-01-17T15:28:13.396Z"
   },
   {
    "duration": 23,
    "start_time": "2022-01-17T15:28:13.413Z"
   },
   {
    "duration": 8,
    "start_time": "2022-01-17T15:28:13.438Z"
   },
   {
    "duration": 10,
    "start_time": "2022-01-17T15:28:13.450Z"
   },
   {
    "duration": 5,
    "start_time": "2022-01-17T15:28:13.463Z"
   },
   {
    "duration": 187,
    "start_time": "2022-01-17T15:28:13.470Z"
   },
   {
    "duration": 3,
    "start_time": "2022-01-17T15:28:13.660Z"
   },
   {
    "duration": 3,
    "start_time": "2022-01-17T15:28:13.670Z"
   },
   {
    "duration": 9,
    "start_time": "2022-01-17T15:28:13.676Z"
   },
   {
    "duration": 5,
    "start_time": "2022-01-17T15:28:13.688Z"
   },
   {
    "duration": 36,
    "start_time": "2022-01-17T15:28:13.696Z"
   },
   {
    "duration": 3,
    "start_time": "2022-01-17T15:28:13.736Z"
   },
   {
    "duration": 6,
    "start_time": "2022-01-17T15:28:13.742Z"
   },
   {
    "duration": 6,
    "start_time": "2022-01-17T15:28:13.751Z"
   },
   {
    "duration": 8,
    "start_time": "2022-01-17T15:28:13.759Z"
   },
   {
    "duration": 9,
    "start_time": "2022-01-17T15:28:51.554Z"
   },
   {
    "duration": 1644,
    "start_time": "2022-01-17T15:29:36.485Z"
   },
   {
    "duration": 6,
    "start_time": "2022-01-17T15:29:38.131Z"
   },
   {
    "duration": 25,
    "start_time": "2022-01-17T15:29:38.140Z"
   },
   {
    "duration": 17,
    "start_time": "2022-01-17T15:29:38.168Z"
   },
   {
    "duration": 52,
    "start_time": "2022-01-17T15:29:38.187Z"
   },
   {
    "duration": 32,
    "start_time": "2022-01-17T15:29:38.241Z"
   },
   {
    "duration": 7,
    "start_time": "2022-01-17T15:29:38.276Z"
   },
   {
    "duration": 53,
    "start_time": "2022-01-17T15:29:38.287Z"
   },
   {
    "duration": 22,
    "start_time": "2022-01-17T15:29:38.343Z"
   },
   {
    "duration": 9,
    "start_time": "2022-01-17T15:29:38.368Z"
   },
   {
    "duration": 58,
    "start_time": "2022-01-17T15:29:38.380Z"
   },
   {
    "duration": 32,
    "start_time": "2022-01-17T15:29:38.440Z"
   },
   {
    "duration": 6,
    "start_time": "2022-01-17T15:29:38.474Z"
   },
   {
    "duration": 13,
    "start_time": "2022-01-17T15:29:38.482Z"
   },
   {
    "duration": 15,
    "start_time": "2022-01-17T15:29:38.497Z"
   },
   {
    "duration": 10,
    "start_time": "2022-01-17T15:29:38.532Z"
   },
   {
    "duration": 29,
    "start_time": "2022-01-17T15:29:38.544Z"
   },
   {
    "duration": 12,
    "start_time": "2022-01-17T15:29:38.575Z"
   },
   {
    "duration": 7,
    "start_time": "2022-01-17T15:29:38.589Z"
   },
   {
    "duration": 9,
    "start_time": "2022-01-17T15:29:38.599Z"
   },
   {
    "duration": 26,
    "start_time": "2022-01-17T15:29:38.610Z"
   },
   {
    "duration": 10,
    "start_time": "2022-01-17T15:29:38.639Z"
   },
   {
    "duration": 12,
    "start_time": "2022-01-17T15:29:38.657Z"
   },
   {
    "duration": 77,
    "start_time": "2022-01-17T15:29:38.674Z"
   },
   {
    "duration": 14,
    "start_time": "2022-01-17T15:29:38.754Z"
   },
   {
    "duration": 13,
    "start_time": "2022-01-17T15:29:38.771Z"
   },
   {
    "duration": 7,
    "start_time": "2022-01-17T15:29:38.787Z"
   },
   {
    "duration": 7,
    "start_time": "2022-01-17T15:29:38.796Z"
   },
   {
    "duration": 10,
    "start_time": "2022-01-17T15:29:38.832Z"
   },
   {
    "duration": 12,
    "start_time": "2022-01-17T15:29:38.844Z"
   },
   {
    "duration": 12,
    "start_time": "2022-01-17T15:29:38.858Z"
   },
   {
    "duration": 18,
    "start_time": "2022-01-17T15:29:38.873Z"
   },
   {
    "duration": 12,
    "start_time": "2022-01-17T15:29:38.894Z"
   },
   {
    "duration": 23,
    "start_time": "2022-01-17T15:29:38.909Z"
   },
   {
    "duration": 16,
    "start_time": "2022-01-17T15:29:38.934Z"
   },
   {
    "duration": 12,
    "start_time": "2022-01-17T15:29:38.952Z"
   },
   {
    "duration": 8,
    "start_time": "2022-01-17T15:29:38.966Z"
   },
   {
    "duration": 5,
    "start_time": "2022-01-17T15:29:38.977Z"
   },
   {
    "duration": 7,
    "start_time": "2022-01-17T15:29:38.984Z"
   },
   {
    "duration": 13,
    "start_time": "2022-01-17T15:29:38.994Z"
   },
   {
    "duration": 34,
    "start_time": "2022-01-17T15:29:39.009Z"
   },
   {
    "duration": 33,
    "start_time": "2022-01-17T15:29:39.045Z"
   },
   {
    "duration": 12,
    "start_time": "2022-01-17T15:29:39.080Z"
   },
   {
    "duration": 9,
    "start_time": "2022-01-17T15:29:39.095Z"
   },
   {
    "duration": 8,
    "start_time": "2022-01-17T15:29:39.133Z"
   },
   {
    "duration": 43,
    "start_time": "2022-01-17T15:29:39.143Z"
   },
   {
    "duration": 17,
    "start_time": "2022-01-17T15:29:39.188Z"
   },
   {
    "duration": 4,
    "start_time": "2022-01-17T15:29:39.208Z"
   },
   {
    "duration": 18,
    "start_time": "2022-01-17T15:29:39.214Z"
   },
   {
    "duration": 6778,
    "start_time": "2022-01-17T15:29:39.235Z"
   },
   {
    "duration": 26,
    "start_time": "2022-01-17T15:29:46.016Z"
   },
   {
    "duration": 3,
    "start_time": "2022-01-17T15:29:46.045Z"
   },
   {
    "duration": 5,
    "start_time": "2022-01-17T15:29:46.051Z"
   },
   {
    "duration": 33,
    "start_time": "2022-01-17T15:29:46.059Z"
   },
   {
    "duration": 53,
    "start_time": "2022-01-17T15:29:46.095Z"
   },
   {
    "duration": 5,
    "start_time": "2022-01-17T15:29:46.151Z"
   },
   {
    "duration": 13,
    "start_time": "2022-01-17T15:29:46.159Z"
   },
   {
    "duration": 4,
    "start_time": "2022-01-17T15:29:46.175Z"
   },
   {
    "duration": 53,
    "start_time": "2022-01-17T15:29:46.182Z"
   },
   {
    "duration": 6531,
    "start_time": "2022-01-17T15:29:46.238Z"
   },
   {
    "duration": 17,
    "start_time": "2022-01-17T15:29:52.772Z"
   },
   {
    "duration": 9,
    "start_time": "2022-01-17T15:29:52.792Z"
   },
   {
    "duration": 34,
    "start_time": "2022-01-17T15:29:52.804Z"
   },
   {
    "duration": 10,
    "start_time": "2022-01-17T15:29:52.841Z"
   },
   {
    "duration": 7,
    "start_time": "2022-01-17T15:29:52.854Z"
   },
   {
    "duration": 27,
    "start_time": "2022-01-17T15:29:52.864Z"
   },
   {
    "duration": 11,
    "start_time": "2022-01-17T15:29:52.894Z"
   },
   {
    "duration": 3,
    "start_time": "2022-01-17T15:29:52.935Z"
   },
   {
    "duration": 14,
    "start_time": "2022-01-17T15:29:52.941Z"
   },
   {
    "duration": 10,
    "start_time": "2022-01-17T15:29:52.958Z"
   },
   {
    "duration": 9,
    "start_time": "2022-01-17T15:29:52.971Z"
   },
   {
    "duration": 21,
    "start_time": "2022-01-17T15:29:52.983Z"
   },
   {
    "duration": 18,
    "start_time": "2022-01-17T15:29:53.006Z"
   },
   {
    "duration": 8,
    "start_time": "2022-01-17T15:29:53.027Z"
   },
   {
    "duration": 12,
    "start_time": "2022-01-17T15:29:53.038Z"
   },
   {
    "duration": 1430,
    "start_time": "2022-01-17T15:30:02.553Z"
   },
   {
    "duration": 1591,
    "start_time": "2022-01-17T15:31:25.143Z"
   },
   {
    "duration": 5,
    "start_time": "2022-01-17T15:31:26.736Z"
   },
   {
    "duration": 27,
    "start_time": "2022-01-17T15:31:26.744Z"
   },
   {
    "duration": 16,
    "start_time": "2022-01-17T15:31:26.774Z"
   },
   {
    "duration": 56,
    "start_time": "2022-01-17T15:31:26.793Z"
   },
   {
    "duration": 35,
    "start_time": "2022-01-17T15:31:26.852Z"
   },
   {
    "duration": 10,
    "start_time": "2022-01-17T15:31:26.890Z"
   },
   {
    "duration": 20,
    "start_time": "2022-01-17T15:31:26.932Z"
   },
   {
    "duration": 22,
    "start_time": "2022-01-17T15:31:26.955Z"
   },
   {
    "duration": 9,
    "start_time": "2022-01-17T15:31:26.980Z"
   },
   {
    "duration": 55,
    "start_time": "2022-01-17T15:31:26.991Z"
   },
   {
    "duration": 22,
    "start_time": "2022-01-17T15:31:27.048Z"
   },
   {
    "duration": 3,
    "start_time": "2022-01-17T15:31:27.072Z"
   },
   {
    "duration": 13,
    "start_time": "2022-01-17T15:31:27.077Z"
   },
   {
    "duration": 49,
    "start_time": "2022-01-17T15:31:27.092Z"
   },
   {
    "duration": 11,
    "start_time": "2022-01-17T15:31:27.143Z"
   },
   {
    "duration": 9,
    "start_time": "2022-01-17T15:31:27.157Z"
   },
   {
    "duration": 11,
    "start_time": "2022-01-17T15:31:27.169Z"
   },
   {
    "duration": 11,
    "start_time": "2022-01-17T15:31:27.183Z"
   },
   {
    "duration": 43,
    "start_time": "2022-01-17T15:31:27.196Z"
   },
   {
    "duration": 5,
    "start_time": "2022-01-17T15:31:27.241Z"
   },
   {
    "duration": 11,
    "start_time": "2022-01-17T15:31:27.248Z"
   },
   {
    "duration": 8,
    "start_time": "2022-01-17T15:31:27.266Z"
   },
   {
    "duration": 78,
    "start_time": "2022-01-17T15:31:27.278Z"
   },
   {
    "duration": 14,
    "start_time": "2022-01-17T15:31:27.358Z"
   },
   {
    "duration": 9,
    "start_time": "2022-01-17T15:31:27.375Z"
   },
   {
    "duration": 4,
    "start_time": "2022-01-17T15:31:27.387Z"
   },
   {
    "duration": 39,
    "start_time": "2022-01-17T15:31:27.394Z"
   },
   {
    "duration": 12,
    "start_time": "2022-01-17T15:31:27.436Z"
   },
   {
    "duration": 12,
    "start_time": "2022-01-17T15:31:27.451Z"
   },
   {
    "duration": 10,
    "start_time": "2022-01-17T15:31:27.465Z"
   },
   {
    "duration": 12,
    "start_time": "2022-01-17T15:31:27.477Z"
   },
   {
    "duration": 6,
    "start_time": "2022-01-17T15:31:27.491Z"
   },
   {
    "duration": 34,
    "start_time": "2022-01-17T15:31:27.499Z"
   },
   {
    "duration": 7,
    "start_time": "2022-01-17T15:31:27.535Z"
   },
   {
    "duration": 6,
    "start_time": "2022-01-17T15:31:27.544Z"
   },
   {
    "duration": 7,
    "start_time": "2022-01-17T15:31:27.552Z"
   },
   {
    "duration": 5,
    "start_time": "2022-01-17T15:31:27.562Z"
   },
   {
    "duration": 6,
    "start_time": "2022-01-17T15:31:27.570Z"
   },
   {
    "duration": 7,
    "start_time": "2022-01-17T15:31:27.579Z"
   },
   {
    "duration": 57,
    "start_time": "2022-01-17T15:31:27.589Z"
   },
   {
    "duration": 40,
    "start_time": "2022-01-17T15:31:27.649Z"
   },
   {
    "duration": 17,
    "start_time": "2022-01-17T15:31:27.691Z"
   },
   {
    "duration": 31,
    "start_time": "2022-01-17T15:31:27.710Z"
   },
   {
    "duration": 11,
    "start_time": "2022-01-17T15:31:27.744Z"
   },
   {
    "duration": 19,
    "start_time": "2022-01-17T15:31:27.757Z"
   },
   {
    "duration": 57,
    "start_time": "2022-01-17T15:31:27.779Z"
   },
   {
    "duration": 4,
    "start_time": "2022-01-17T15:31:27.838Z"
   },
   {
    "duration": 20,
    "start_time": "2022-01-17T15:31:27.845Z"
   },
   {
    "duration": 6729,
    "start_time": "2022-01-17T15:31:27.868Z"
   },
   {
    "duration": 14,
    "start_time": "2022-01-17T15:31:34.600Z"
   },
   {
    "duration": 8,
    "start_time": "2022-01-17T15:31:34.616Z"
   },
   {
    "duration": 9,
    "start_time": "2022-01-17T15:31:34.626Z"
   },
   {
    "duration": 31,
    "start_time": "2022-01-17T15:31:34.637Z"
   },
   {
    "duration": 14,
    "start_time": "2022-01-17T15:31:34.670Z"
   },
   {
    "duration": 4,
    "start_time": "2022-01-17T15:31:34.686Z"
   },
   {
    "duration": 10,
    "start_time": "2022-01-17T15:31:34.692Z"
   },
   {
    "duration": 3,
    "start_time": "2022-01-17T15:31:34.705Z"
   },
   {
    "duration": 6,
    "start_time": "2022-01-17T15:31:34.710Z"
   },
   {
    "duration": 6623,
    "start_time": "2022-01-17T15:31:34.718Z"
   },
   {
    "duration": 13,
    "start_time": "2022-01-17T15:31:41.344Z"
   },
   {
    "duration": 9,
    "start_time": "2022-01-17T15:31:41.360Z"
   },
   {
    "duration": 9,
    "start_time": "2022-01-17T15:31:41.371Z"
   },
   {
    "duration": 6,
    "start_time": "2022-01-17T15:31:41.382Z"
   },
   {
    "duration": 6,
    "start_time": "2022-01-17T15:31:41.390Z"
   },
   {
    "duration": 1081,
    "start_time": "2022-01-17T15:31:41.433Z"
   },
   {
    "duration": 3,
    "start_time": "2022-01-17T15:31:42.516Z"
   },
   {
    "duration": 3,
    "start_time": "2022-01-17T15:31:42.536Z"
   },
   {
    "duration": 6,
    "start_time": "2022-01-17T15:31:42.541Z"
   },
   {
    "duration": 5,
    "start_time": "2022-01-17T15:31:42.549Z"
   },
   {
    "duration": 5,
    "start_time": "2022-01-17T15:31:42.557Z"
   },
   {
    "duration": 6,
    "start_time": "2022-01-17T15:31:42.565Z"
   },
   {
    "duration": 5,
    "start_time": "2022-01-17T15:31:42.574Z"
   },
   {
    "duration": 7,
    "start_time": "2022-01-17T15:31:42.581Z"
   },
   {
    "duration": 6,
    "start_time": "2022-01-17T15:31:42.590Z"
   },
   {
    "duration": 1425,
    "start_time": "2022-01-17T15:34:19.894Z"
   },
   {
    "duration": 7,
    "start_time": "2022-01-17T15:34:41.838Z"
   },
   {
    "duration": 39,
    "start_time": "2022-01-17T15:35:05.609Z"
   },
   {
    "duration": 1643,
    "start_time": "2022-01-17T15:35:45.615Z"
   },
   {
    "duration": 6610,
    "start_time": "2022-01-17T15:35:55.600Z"
   },
   {
    "duration": 56,
    "start_time": "2022-01-17T15:36:10.881Z"
   },
   {
    "duration": 56,
    "start_time": "2022-01-17T15:36:22.070Z"
   },
   {
    "duration": 1614,
    "start_time": "2022-01-17T15:36:45.207Z"
   },
   {
    "duration": 8,
    "start_time": "2022-01-17T15:36:46.824Z"
   },
   {
    "duration": 27,
    "start_time": "2022-01-17T15:36:46.836Z"
   },
   {
    "duration": 14,
    "start_time": "2022-01-17T15:36:46.866Z"
   },
   {
    "duration": 60,
    "start_time": "2022-01-17T15:36:46.883Z"
   },
   {
    "duration": 34,
    "start_time": "2022-01-17T15:36:46.946Z"
   },
   {
    "duration": 7,
    "start_time": "2022-01-17T15:36:46.983Z"
   },
   {
    "duration": 52,
    "start_time": "2022-01-17T15:36:46.993Z"
   },
   {
    "duration": 23,
    "start_time": "2022-01-17T15:36:47.048Z"
   },
   {
    "duration": 9,
    "start_time": "2022-01-17T15:36:47.074Z"
   },
   {
    "duration": 49,
    "start_time": "2022-01-17T15:36:47.085Z"
   },
   {
    "duration": 21,
    "start_time": "2022-01-17T15:36:47.137Z"
   },
   {
    "duration": 4,
    "start_time": "2022-01-17T15:36:47.161Z"
   },
   {
    "duration": 24,
    "start_time": "2022-01-17T15:36:47.166Z"
   },
   {
    "duration": 40,
    "start_time": "2022-01-17T15:36:47.192Z"
   },
   {
    "duration": 11,
    "start_time": "2022-01-17T15:36:47.234Z"
   },
   {
    "duration": 10,
    "start_time": "2022-01-17T15:36:47.247Z"
   },
   {
    "duration": 15,
    "start_time": "2022-01-17T15:36:47.259Z"
   },
   {
    "duration": 7,
    "start_time": "2022-01-17T15:36:47.277Z"
   },
   {
    "duration": 47,
    "start_time": "2022-01-17T15:36:47.286Z"
   },
   {
    "duration": 5,
    "start_time": "2022-01-17T15:36:47.336Z"
   },
   {
    "duration": 11,
    "start_time": "2022-01-17T15:36:47.344Z"
   },
   {
    "duration": 9,
    "start_time": "2022-01-17T15:36:47.363Z"
   },
   {
    "duration": 74,
    "start_time": "2022-01-17T15:36:47.377Z"
   },
   {
    "duration": 13,
    "start_time": "2022-01-17T15:36:47.454Z"
   },
   {
    "duration": 10,
    "start_time": "2022-01-17T15:36:47.469Z"
   },
   {
    "duration": 4,
    "start_time": "2022-01-17T15:36:47.482Z"
   },
   {
    "duration": 5,
    "start_time": "2022-01-17T15:36:47.489Z"
   },
   {
    "duration": 43,
    "start_time": "2022-01-17T15:36:47.496Z"
   },
   {
    "duration": 12,
    "start_time": "2022-01-17T15:36:47.541Z"
   },
   {
    "duration": 15,
    "start_time": "2022-01-17T15:36:47.555Z"
   },
   {
    "duration": 10,
    "start_time": "2022-01-17T15:36:47.572Z"
   },
   {
    "duration": 6,
    "start_time": "2022-01-17T15:36:47.584Z"
   },
   {
    "duration": 40,
    "start_time": "2022-01-17T15:36:47.592Z"
   },
   {
    "duration": 8,
    "start_time": "2022-01-17T15:36:47.635Z"
   },
   {
    "duration": 7,
    "start_time": "2022-01-17T15:36:47.645Z"
   },
   {
    "duration": 7,
    "start_time": "2022-01-17T15:36:47.654Z"
   },
   {
    "duration": 7,
    "start_time": "2022-01-17T15:36:47.663Z"
   },
   {
    "duration": 7,
    "start_time": "2022-01-17T15:36:47.672Z"
   },
   {
    "duration": 7,
    "start_time": "2022-01-17T15:36:47.681Z"
   },
   {
    "duration": 45,
    "start_time": "2022-01-17T15:36:47.690Z"
   },
   {
    "duration": 35,
    "start_time": "2022-01-17T15:36:47.737Z"
   },
   {
    "duration": 13,
    "start_time": "2022-01-17T15:36:47.774Z"
   },
   {
    "duration": 9,
    "start_time": "2022-01-17T15:36:47.790Z"
   },
   {
    "duration": 41,
    "start_time": "2022-01-17T15:36:47.801Z"
   },
   {
    "duration": 19,
    "start_time": "2022-01-17T15:36:47.845Z"
   },
   {
    "duration": 18,
    "start_time": "2022-01-17T15:36:47.866Z"
   },
   {
    "duration": 4,
    "start_time": "2022-01-17T15:36:47.886Z"
   },
   {
    "duration": 9,
    "start_time": "2022-01-17T15:36:47.932Z"
   },
   {
    "duration": 6665,
    "start_time": "2022-01-17T15:36:47.944Z"
   },
   {
    "duration": 23,
    "start_time": "2022-01-17T15:36:54.611Z"
   },
   {
    "duration": 3,
    "start_time": "2022-01-17T15:36:54.637Z"
   },
   {
    "duration": 7,
    "start_time": "2022-01-17T15:36:54.642Z"
   },
   {
    "duration": 34,
    "start_time": "2022-01-17T15:36:54.652Z"
   },
   {
    "duration": 13,
    "start_time": "2022-01-17T15:36:54.688Z"
   },
   {
    "duration": 4,
    "start_time": "2022-01-17T15:36:54.732Z"
   },
   {
    "duration": 17,
    "start_time": "2022-01-17T15:36:54.738Z"
   },
   {
    "duration": 3,
    "start_time": "2022-01-17T15:36:54.757Z"
   },
   {
    "duration": 5,
    "start_time": "2022-01-17T15:36:54.763Z"
   },
   {
    "duration": 6280,
    "start_time": "2022-01-17T15:36:54.771Z"
   },
   {
    "duration": 16,
    "start_time": "2022-01-17T15:37:01.054Z"
   },
   {
    "duration": 12,
    "start_time": "2022-01-17T15:37:01.072Z"
   },
   {
    "duration": 17,
    "start_time": "2022-01-17T15:37:01.086Z"
   },
   {
    "duration": 31,
    "start_time": "2022-01-17T15:37:01.105Z"
   },
   {
    "duration": 8,
    "start_time": "2022-01-17T15:37:01.138Z"
   },
   {
    "duration": 15,
    "start_time": "2022-01-17T15:37:01.149Z"
   },
   {
    "duration": 7,
    "start_time": "2022-01-17T15:37:01.167Z"
   },
   {
    "duration": 11,
    "start_time": "2022-01-17T15:37:01.181Z"
   },
   {
    "duration": 7,
    "start_time": "2022-01-17T15:37:01.194Z"
   },
   {
    "duration": 9,
    "start_time": "2022-01-17T15:37:01.203Z"
   },
   {
    "duration": 9,
    "start_time": "2022-01-17T15:37:01.214Z"
   },
   {
    "duration": 12,
    "start_time": "2022-01-17T15:37:01.225Z"
   },
   {
    "duration": 7,
    "start_time": "2022-01-17T15:37:01.239Z"
   },
   {
    "duration": 12,
    "start_time": "2022-01-17T15:37:01.248Z"
   },
   {
    "duration": 11,
    "start_time": "2022-01-17T15:37:01.262Z"
   },
   {
    "duration": 5,
    "start_time": "2022-01-17T15:37:24.800Z"
   },
   {
    "duration": 1090,
    "start_time": "2022-01-17T15:37:32.267Z"
   },
   {
    "duration": 1618,
    "start_time": "2022-01-17T15:41:16.409Z"
   },
   {
    "duration": 7,
    "start_time": "2022-01-17T15:41:18.031Z"
   },
   {
    "duration": 39,
    "start_time": "2022-01-17T15:41:18.042Z"
   },
   {
    "duration": 18,
    "start_time": "2022-01-17T15:41:18.084Z"
   },
   {
    "duration": 50,
    "start_time": "2022-01-17T15:41:18.105Z"
   },
   {
    "duration": 35,
    "start_time": "2022-01-17T15:41:18.157Z"
   },
   {
    "duration": 7,
    "start_time": "2022-01-17T15:41:18.194Z"
   },
   {
    "duration": 41,
    "start_time": "2022-01-17T15:41:18.205Z"
   },
   {
    "duration": 26,
    "start_time": "2022-01-17T15:41:18.249Z"
   },
   {
    "duration": 9,
    "start_time": "2022-01-17T15:41:18.277Z"
   },
   {
    "duration": 56,
    "start_time": "2022-01-17T15:41:18.288Z"
   },
   {
    "duration": 21,
    "start_time": "2022-01-17T15:41:18.346Z"
   },
   {
    "duration": 6,
    "start_time": "2022-01-17T15:41:18.369Z"
   },
   {
    "duration": 15,
    "start_time": "2022-01-17T15:41:18.377Z"
   },
   {
    "duration": 44,
    "start_time": "2022-01-17T15:41:18.395Z"
   },
   {
    "duration": 11,
    "start_time": "2022-01-17T15:41:18.442Z"
   },
   {
    "duration": 7,
    "start_time": "2022-01-17T15:41:18.456Z"
   },
   {
    "duration": 11,
    "start_time": "2022-01-17T15:41:18.466Z"
   },
   {
    "duration": 7,
    "start_time": "2022-01-17T15:41:18.480Z"
   },
   {
    "duration": 45,
    "start_time": "2022-01-17T15:41:18.490Z"
   },
   {
    "duration": 4,
    "start_time": "2022-01-17T15:41:18.538Z"
   },
   {
    "duration": 10,
    "start_time": "2022-01-17T15:41:18.544Z"
   },
   {
    "duration": 7,
    "start_time": "2022-01-17T15:41:18.560Z"
   },
   {
    "duration": 74,
    "start_time": "2022-01-17T15:41:18.571Z"
   },
   {
    "duration": 14,
    "start_time": "2022-01-17T15:41:18.647Z"
   },
   {
    "duration": 10,
    "start_time": "2022-01-17T15:41:18.664Z"
   },
   {
    "duration": 5,
    "start_time": "2022-01-17T15:41:18.676Z"
   },
   {
    "duration": 6,
    "start_time": "2022-01-17T15:41:18.683Z"
   },
   {
    "duration": 45,
    "start_time": "2022-01-17T15:41:18.691Z"
   },
   {
    "duration": 11,
    "start_time": "2022-01-17T15:41:18.738Z"
   },
   {
    "duration": 13,
    "start_time": "2022-01-17T15:41:18.751Z"
   },
   {
    "duration": 10,
    "start_time": "2022-01-17T15:41:18.766Z"
   },
   {
    "duration": 6,
    "start_time": "2022-01-17T15:41:18.778Z"
   },
   {
    "duration": 8,
    "start_time": "2022-01-17T15:41:18.787Z"
   },
   {
    "duration": 35,
    "start_time": "2022-01-17T15:41:18.797Z"
   },
   {
    "duration": 3,
    "start_time": "2022-01-17T15:41:18.835Z"
   },
   {
    "duration": 7,
    "start_time": "2022-01-17T15:41:18.840Z"
   },
   {
    "duration": 9,
    "start_time": "2022-01-17T15:41:18.850Z"
   },
   {
    "duration": 10,
    "start_time": "2022-01-17T15:41:18.861Z"
   },
   {
    "duration": 10,
    "start_time": "2022-01-17T15:41:18.873Z"
   },
   {
    "duration": 16,
    "start_time": "2022-01-17T15:41:18.885Z"
   },
   {
    "duration": 60,
    "start_time": "2022-01-17T15:41:18.903Z"
   },
   {
    "duration": 9,
    "start_time": "2022-01-17T15:41:18.965Z"
   },
   {
    "duration": 8,
    "start_time": "2022-01-17T15:41:18.977Z"
   },
   {
    "duration": 44,
    "start_time": "2022-01-17T15:41:18.988Z"
   },
   {
    "duration": 21,
    "start_time": "2022-01-17T15:41:19.034Z"
   },
   {
    "duration": 20,
    "start_time": "2022-01-17T15:41:19.057Z"
   },
   {
    "duration": 5,
    "start_time": "2022-01-17T15:41:19.080Z"
   },
   {
    "duration": 49,
    "start_time": "2022-01-17T15:41:19.088Z"
   },
   {
    "duration": 6876,
    "start_time": "2022-01-17T15:41:19.140Z"
   },
   {
    "duration": 26,
    "start_time": "2022-01-17T15:41:26.018Z"
   },
   {
    "duration": 3,
    "start_time": "2022-01-17T15:41:26.047Z"
   },
   {
    "duration": 7,
    "start_time": "2022-01-17T15:41:26.053Z"
   },
   {
    "duration": 38,
    "start_time": "2022-01-17T15:41:26.063Z"
   },
   {
    "duration": 16,
    "start_time": "2022-01-17T15:41:26.132Z"
   },
   {
    "duration": 4,
    "start_time": "2022-01-17T15:41:26.151Z"
   },
   {
    "duration": 12,
    "start_time": "2022-01-17T15:41:26.158Z"
   },
   {
    "duration": 6,
    "start_time": "2022-01-17T15:41:26.173Z"
   },
   {
    "duration": 8,
    "start_time": "2022-01-17T15:41:26.181Z"
   },
   {
    "duration": 6169,
    "start_time": "2022-01-17T15:41:26.191Z"
   },
   {
    "duration": 14,
    "start_time": "2022-01-17T15:41:32.362Z"
   },
   {
    "duration": 7,
    "start_time": "2022-01-17T15:41:32.379Z"
   },
   {
    "duration": 10,
    "start_time": "2022-01-17T15:41:32.388Z"
   },
   {
    "duration": 35,
    "start_time": "2022-01-17T15:41:32.401Z"
   },
   {
    "duration": 10,
    "start_time": "2022-01-17T15:41:32.439Z"
   },
   {
    "duration": 1098,
    "start_time": "2022-01-17T15:41:32.452Z"
   },
   {
    "duration": 3,
    "start_time": "2022-01-17T15:41:33.552Z"
   },
   {
    "duration": 3,
    "start_time": "2022-01-17T15:41:33.562Z"
   },
   {
    "duration": 13,
    "start_time": "2022-01-17T15:41:33.568Z"
   },
   {
    "duration": 11,
    "start_time": "2022-01-17T15:41:33.583Z"
   },
   {
    "duration": 16,
    "start_time": "2022-01-17T15:41:33.596Z"
   },
   {
    "duration": 22,
    "start_time": "2022-01-17T15:41:33.615Z"
   },
   {
    "duration": 11,
    "start_time": "2022-01-17T15:41:33.640Z"
   },
   {
    "duration": 14,
    "start_time": "2022-01-17T15:41:33.654Z"
   },
   {
    "duration": 13,
    "start_time": "2022-01-17T15:41:33.670Z"
   },
   {
    "duration": 36,
    "start_time": "2022-01-17T15:41:56.474Z"
   },
   {
    "duration": 41,
    "start_time": "2022-01-17T15:42:16.299Z"
   },
   {
    "duration": 6,
    "start_time": "2022-01-17T15:42:43.213Z"
   },
   {
    "duration": 5,
    "start_time": "2022-01-17T15:43:13.881Z"
   },
   {
    "duration": 1047,
    "start_time": "2022-01-17T15:43:17.772Z"
   },
   {
    "duration": 1069,
    "start_time": "2022-01-17T15:43:24.029Z"
   },
   {
    "duration": 14,
    "start_time": "2022-01-17T15:43:25.100Z"
   },
   {
    "duration": 442,
    "start_time": "2022-01-17T15:43:48.358Z"
   },
   {
    "duration": 10,
    "start_time": "2022-01-17T15:43:55.976Z"
   },
   {
    "duration": 36,
    "start_time": "2022-01-17T15:49:14.266Z"
   },
   {
    "duration": 5,
    "start_time": "2022-01-17T15:50:35.860Z"
   },
   {
    "duration": 1062,
    "start_time": "2022-01-17T15:50:38.026Z"
   },
   {
    "duration": 10,
    "start_time": "2022-01-17T15:50:40.676Z"
   },
   {
    "duration": 4,
    "start_time": "2022-01-17T15:50:48.284Z"
   },
   {
    "duration": 39,
    "start_time": "2022-01-17T15:51:17.283Z"
   },
   {
    "duration": 7,
    "start_time": "2022-01-17T16:06:51.287Z"
   },
   {
    "duration": 12,
    "start_time": "2022-01-17T16:07:03.131Z"
   },
   {
    "duration": 13,
    "start_time": "2022-01-17T16:07:48.623Z"
   },
   {
    "duration": 12,
    "start_time": "2022-01-17T16:09:58.674Z"
   },
   {
    "duration": 10,
    "start_time": "2022-01-17T16:10:03.260Z"
   },
   {
    "duration": 10,
    "start_time": "2022-01-17T16:10:10.643Z"
   },
   {
    "duration": 264,
    "start_time": "2022-01-17T16:10:28.727Z"
   },
   {
    "duration": 263,
    "start_time": "2022-01-17T16:10:36.262Z"
   },
   {
    "duration": 359,
    "start_time": "2022-01-17T16:10:46.543Z"
   },
   {
    "duration": 9,
    "start_time": "2022-01-17T16:11:49.507Z"
   },
   {
    "duration": 28,
    "start_time": "2022-01-17T16:12:31.960Z"
   },
   {
    "duration": 17,
    "start_time": "2022-01-17T16:12:38.348Z"
   },
   {
    "duration": 27,
    "start_time": "2022-01-17T16:13:03.589Z"
   },
   {
    "duration": 397,
    "start_time": "2022-01-17T16:19:09.653Z"
   },
   {
    "duration": 269,
    "start_time": "2022-01-17T16:19:22.555Z"
   },
   {
    "duration": 282,
    "start_time": "2022-01-17T16:19:40.599Z"
   },
   {
    "duration": 278,
    "start_time": "2022-01-17T16:20:42.057Z"
   },
   {
    "duration": 300,
    "start_time": "2022-01-17T16:20:59.189Z"
   },
   {
    "duration": 270,
    "start_time": "2022-01-17T16:21:21.981Z"
   },
   {
    "duration": 15,
    "start_time": "2022-01-17T16:21:30.053Z"
   },
   {
    "duration": 264,
    "start_time": "2022-01-17T16:21:43.772Z"
   },
   {
    "duration": 266,
    "start_time": "2022-01-17T16:21:49.648Z"
   },
   {
    "duration": 280,
    "start_time": "2022-01-17T16:21:53.646Z"
   },
   {
    "duration": 279,
    "start_time": "2022-01-17T16:21:57.661Z"
   },
   {
    "duration": 299,
    "start_time": "2022-01-17T16:22:05.179Z"
   },
   {
    "duration": 287,
    "start_time": "2022-01-17T16:22:08.559Z"
   },
   {
    "duration": 15,
    "start_time": "2022-01-17T16:23:44.246Z"
   },
   {
    "duration": 14,
    "start_time": "2022-01-17T16:23:52.526Z"
   },
   {
    "duration": 14,
    "start_time": "2022-01-17T16:23:56.615Z"
   },
   {
    "duration": 15,
    "start_time": "2022-01-17T16:24:06.993Z"
   },
   {
    "duration": 12,
    "start_time": "2022-01-17T16:24:35.750Z"
   },
   {
    "duration": 12,
    "start_time": "2022-01-17T16:26:15.001Z"
   },
   {
    "duration": 300,
    "start_time": "2022-01-17T16:26:41.407Z"
   },
   {
    "duration": 284,
    "start_time": "2022-01-17T16:26:56.518Z"
   },
   {
    "duration": 11,
    "start_time": "2022-01-17T16:27:09.250Z"
   },
   {
    "duration": 6,
    "start_time": "2022-01-17T16:27:13.284Z"
   },
   {
    "duration": 5,
    "start_time": "2022-01-17T16:27:23.988Z"
   },
   {
    "duration": 4,
    "start_time": "2022-01-17T16:27:35.161Z"
   },
   {
    "duration": 256,
    "start_time": "2022-01-17T16:28:17.839Z"
   },
   {
    "duration": 7,
    "start_time": "2022-01-17T16:29:35.196Z"
   },
   {
    "duration": 12,
    "start_time": "2022-01-17T16:29:43.598Z"
   },
   {
    "duration": 8,
    "start_time": "2022-01-17T16:30:25.308Z"
   },
   {
    "duration": 466,
    "start_time": "2022-01-17T16:34:19.668Z"
   },
   {
    "duration": 33,
    "start_time": "2022-01-17T16:34:36.701Z"
   },
   {
    "duration": 10,
    "start_time": "2022-01-17T16:34:57.180Z"
   },
   {
    "duration": 12,
    "start_time": "2022-01-17T16:35:22.104Z"
   },
   {
    "duration": 9,
    "start_time": "2022-01-17T16:35:35.980Z"
   },
   {
    "duration": 9,
    "start_time": "2022-01-17T16:38:25.795Z"
   },
   {
    "duration": 13,
    "start_time": "2022-01-17T16:38:41.216Z"
   },
   {
    "duration": 13,
    "start_time": "2022-01-17T16:38:47.159Z"
   },
   {
    "duration": 8,
    "start_time": "2022-01-17T16:39:05.080Z"
   },
   {
    "duration": 99,
    "start_time": "2022-01-17T16:41:35.037Z"
   },
   {
    "duration": 28,
    "start_time": "2022-01-17T16:41:45.044Z"
   },
   {
    "duration": 359,
    "start_time": "2022-01-17T16:43:35.251Z"
   },
   {
    "duration": 41,
    "start_time": "2022-01-17T16:49:08.254Z"
   },
   {
    "duration": 23,
    "start_time": "2022-01-17T16:50:04.125Z"
   },
   {
    "duration": 89,
    "start_time": "2022-01-17T17:46:22.640Z"
   },
   {
    "duration": 5,
    "start_time": "2022-01-17T17:46:28.581Z"
   },
   {
    "duration": 18,
    "start_time": "2022-01-17T17:46:30.674Z"
   },
   {
    "duration": 13,
    "start_time": "2022-01-17T17:46:32.032Z"
   },
   {
    "duration": 5,
    "start_time": "2022-01-17T17:47:33.367Z"
   },
   {
    "duration": 16,
    "start_time": "2022-01-17T17:47:35.514Z"
   },
   {
    "duration": 29,
    "start_time": "2022-01-17T17:47:35.534Z"
   },
   {
    "duration": 7,
    "start_time": "2022-01-17T17:47:53.269Z"
   },
   {
    "duration": 43,
    "start_time": "2022-01-17T17:48:02.525Z"
   },
   {
    "duration": 21,
    "start_time": "2022-01-17T17:48:42.940Z"
   },
   {
    "duration": 39,
    "start_time": "2022-01-17T17:49:33.174Z"
   },
   {
    "duration": 12,
    "start_time": "2022-01-17T17:50:00.113Z"
   },
   {
    "duration": 41,
    "start_time": "2022-01-17T17:50:16.229Z"
   },
   {
    "duration": 54,
    "start_time": "2022-01-17T18:00:42.529Z"
   },
   {
    "duration": 1594,
    "start_time": "2022-01-17T18:00:52.274Z"
   },
   {
    "duration": 102,
    "start_time": "2022-01-17T18:01:12.007Z"
   },
   {
    "duration": 6,
    "start_time": "2022-01-17T18:01:43.448Z"
   },
   {
    "duration": 19,
    "start_time": "2022-01-17T18:04:07.043Z"
   },
   {
    "duration": 28,
    "start_time": "2022-01-17T18:04:11.468Z"
   },
   {
    "duration": 34,
    "start_time": "2022-01-17T18:05:47.705Z"
   },
   {
    "duration": 9,
    "start_time": "2022-01-17T18:07:22.224Z"
   },
   {
    "duration": 21,
    "start_time": "2022-01-17T18:09:48.077Z"
   },
   {
    "duration": 27,
    "start_time": "2022-01-17T18:11:41.415Z"
   },
   {
    "duration": 10,
    "start_time": "2022-01-17T18:15:21.522Z"
   },
   {
    "duration": 19,
    "start_time": "2022-01-17T18:22:19.409Z"
   },
   {
    "duration": 23,
    "start_time": "2022-01-17T18:22:34.571Z"
   },
   {
    "duration": 7,
    "start_time": "2022-01-17T18:25:19.602Z"
   },
   {
    "duration": 10,
    "start_time": "2022-01-17T18:51:30.644Z"
   },
   {
    "duration": 18,
    "start_time": "2022-01-17T18:51:33.142Z"
   },
   {
    "duration": 11,
    "start_time": "2022-01-17T18:51:35.311Z"
   },
   {
    "duration": 12,
    "start_time": "2022-01-17T18:55:39.648Z"
   },
   {
    "duration": 8,
    "start_time": "2022-01-17T18:55:41.766Z"
   },
   {
    "duration": 33,
    "start_time": "2022-01-17T18:56:24.325Z"
   },
   {
    "duration": 5,
    "start_time": "2022-01-17T19:02:01.564Z"
   },
   {
    "duration": 10,
    "start_time": "2022-01-17T19:02:05.568Z"
   },
   {
    "duration": 9,
    "start_time": "2022-01-17T19:02:39.716Z"
   },
   {
    "duration": 31,
    "start_time": "2022-01-17T19:04:15.326Z"
   },
   {
    "duration": 13,
    "start_time": "2022-01-17T19:04:16.676Z"
   },
   {
    "duration": 10,
    "start_time": "2022-01-17T19:04:40.374Z"
   },
   {
    "duration": 10,
    "start_time": "2022-01-17T19:05:58.803Z"
   },
   {
    "duration": 8,
    "start_time": "2022-01-17T19:06:00.912Z"
   },
   {
    "duration": 11,
    "start_time": "2022-01-17T19:06:02.795Z"
   },
   {
    "duration": 10,
    "start_time": "2022-01-17T19:13:53.869Z"
   },
   {
    "duration": 5,
    "start_time": "2022-01-17T19:19:45.492Z"
   },
   {
    "duration": 5,
    "start_time": "2022-01-17T19:19:46.741Z"
   },
   {
    "duration": 16,
    "start_time": "2022-01-17T19:19:51.165Z"
   },
   {
    "duration": 37,
    "start_time": "2022-01-17T19:19:53.521Z"
   },
   {
    "duration": 11,
    "start_time": "2022-01-17T19:22:02.093Z"
   },
   {
    "duration": 10,
    "start_time": "2022-01-17T19:22:03.515Z"
   },
   {
    "duration": 12,
    "start_time": "2022-01-17T19:22:06.844Z"
   },
   {
    "duration": 21,
    "start_time": "2022-01-17T19:22:10.287Z"
   },
   {
    "duration": 20,
    "start_time": "2022-01-17T19:22:14.050Z"
   },
   {
    "duration": 5,
    "start_time": "2022-01-17T19:32:04.009Z"
   },
   {
    "duration": 11,
    "start_time": "2022-01-17T19:32:06.710Z"
   },
   {
    "duration": 6719,
    "start_time": "2022-01-17T19:32:08.138Z"
   },
   {
    "duration": 16,
    "start_time": "2022-01-17T19:32:17.263Z"
   },
   {
    "duration": 32,
    "start_time": "2022-01-17T19:36:33.817Z"
   },
   {
    "duration": 14,
    "start_time": "2022-01-17T19:37:40.429Z"
   },
   {
    "duration": 21,
    "start_time": "2022-01-17T19:45:54.686Z"
   },
   {
    "duration": 20,
    "start_time": "2022-01-17T19:46:18.017Z"
   },
   {
    "duration": 4,
    "start_time": "2022-01-17T19:52:42.216Z"
   },
   {
    "duration": 9,
    "start_time": "2022-01-17T19:52:43.582Z"
   },
   {
    "duration": 6239,
    "start_time": "2022-01-17T19:52:45.117Z"
   },
   {
    "duration": 16,
    "start_time": "2022-01-17T19:53:05.317Z"
   },
   {
    "duration": 7,
    "start_time": "2022-01-17T20:01:24.591Z"
   },
   {
    "duration": 8,
    "start_time": "2022-01-17T20:01:30.524Z"
   },
   {
    "duration": 7,
    "start_time": "2022-01-17T20:01:42.036Z"
   },
   {
    "duration": 6,
    "start_time": "2022-01-17T20:01:54.085Z"
   },
   {
    "duration": 1062,
    "start_time": "2022-01-17T20:01:58.134Z"
   },
   {
    "duration": 11,
    "start_time": "2022-01-17T20:02:00.692Z"
   },
   {
    "duration": 5,
    "start_time": "2022-01-17T20:02:30.921Z"
   },
   {
    "duration": 6,
    "start_time": "2022-01-17T20:03:57.002Z"
   },
   {
    "duration": 4,
    "start_time": "2022-01-17T20:04:31.533Z"
   },
   {
    "duration": 5,
    "start_time": "2022-01-17T20:04:49.948Z"
   },
   {
    "duration": 15,
    "start_time": "2022-01-17T20:04:57.050Z"
   },
   {
    "duration": 38,
    "start_time": "2022-01-17T20:04:58.386Z"
   },
   {
    "duration": 19,
    "start_time": "2022-01-17T20:06:12.936Z"
   },
   {
    "duration": 27,
    "start_time": "2022-01-17T20:06:17.509Z"
   },
   {
    "duration": 27,
    "start_time": "2022-01-17T20:06:34.050Z"
   },
   {
    "duration": 8,
    "start_time": "2022-01-17T20:06:47.051Z"
   },
   {
    "duration": 13,
    "start_time": "2022-01-17T20:15:13.034Z"
   },
   {
    "duration": 41,
    "start_time": "2022-01-17T20:16:16.531Z"
   },
   {
    "duration": 13,
    "start_time": "2022-01-17T20:19:46.643Z"
   },
   {
    "duration": 40,
    "start_time": "2022-01-17T20:20:38.187Z"
   },
   {
    "duration": 14,
    "start_time": "2022-01-17T20:22:32.382Z"
   },
   {
    "duration": 34,
    "start_time": "2022-01-17T20:23:18.558Z"
   },
   {
    "duration": 35,
    "start_time": "2022-01-17T20:23:30.012Z"
   },
   {
    "duration": 1662,
    "start_time": "2022-01-17T21:26:17.392Z"
   },
   {
    "duration": 5,
    "start_time": "2022-01-17T21:26:19.057Z"
   },
   {
    "duration": 26,
    "start_time": "2022-01-17T21:26:19.065Z"
   },
   {
    "duration": 40,
    "start_time": "2022-01-17T21:26:19.094Z"
   },
   {
    "duration": 30,
    "start_time": "2022-01-17T21:26:19.137Z"
   },
   {
    "duration": 68,
    "start_time": "2022-01-17T21:26:19.171Z"
   },
   {
    "duration": 10,
    "start_time": "2022-01-17T21:26:19.242Z"
   },
   {
    "duration": 20,
    "start_time": "2022-01-17T21:26:19.258Z"
   },
   {
    "duration": 66,
    "start_time": "2022-01-17T21:26:19.282Z"
   },
   {
    "duration": 10,
    "start_time": "2022-01-17T21:26:19.351Z"
   },
   {
    "duration": 20,
    "start_time": "2022-01-17T21:26:19.363Z"
   },
   {
    "duration": 59,
    "start_time": "2022-01-17T21:26:19.386Z"
   },
   {
    "duration": 13,
    "start_time": "2022-01-17T21:26:19.448Z"
   },
   {
    "duration": 21,
    "start_time": "2022-01-17T21:26:19.464Z"
   },
   {
    "duration": 45,
    "start_time": "2022-01-17T21:26:19.488Z"
   },
   {
    "duration": 8,
    "start_time": "2022-01-17T21:26:19.535Z"
   },
   {
    "duration": 25,
    "start_time": "2022-01-17T21:26:19.545Z"
   },
   {
    "duration": 7,
    "start_time": "2022-01-17T21:26:19.573Z"
   },
   {
    "duration": 10,
    "start_time": "2022-01-17T21:26:19.583Z"
   },
   {
    "duration": 4,
    "start_time": "2022-01-17T21:26:19.634Z"
   },
   {
    "duration": 11,
    "start_time": "2022-01-17T21:26:19.641Z"
   },
   {
    "duration": 9,
    "start_time": "2022-01-17T21:26:19.655Z"
   },
   {
    "duration": 77,
    "start_time": "2022-01-17T21:26:19.670Z"
   },
   {
    "duration": 13,
    "start_time": "2022-01-17T21:26:19.752Z"
   },
   {
    "duration": 16,
    "start_time": "2022-01-17T21:26:19.767Z"
   },
   {
    "duration": 13,
    "start_time": "2022-01-17T21:26:19.786Z"
   },
   {
    "duration": 40,
    "start_time": "2022-01-17T21:26:19.802Z"
   },
   {
    "duration": 33,
    "start_time": "2022-01-17T21:26:19.845Z"
   },
   {
    "duration": 10,
    "start_time": "2022-01-17T21:26:19.881Z"
   },
   {
    "duration": 5,
    "start_time": "2022-01-17T21:26:19.893Z"
   },
   {
    "duration": 9,
    "start_time": "2022-01-17T21:26:19.900Z"
   },
   {
    "duration": 16,
    "start_time": "2022-01-17T21:26:19.933Z"
   },
   {
    "duration": 38,
    "start_time": "2022-01-17T21:26:19.951Z"
   },
   {
    "duration": 47,
    "start_time": "2022-01-17T21:26:19.992Z"
   },
   {
    "duration": 10,
    "start_time": "2022-01-17T21:26:20.042Z"
   },
   {
    "duration": 15,
    "start_time": "2022-01-17T21:26:20.055Z"
   },
   {
    "duration": 30,
    "start_time": "2022-01-17T21:26:20.072Z"
   },
   {
    "duration": 20,
    "start_time": "2022-01-17T21:26:20.132Z"
   },
   {
    "duration": 7,
    "start_time": "2022-01-17T21:26:20.156Z"
   },
   {
    "duration": 19,
    "start_time": "2022-01-17T21:26:20.166Z"
   },
   {
    "duration": 1872,
    "start_time": "2022-01-17T21:26:28.282Z"
   },
   {
    "duration": 8,
    "start_time": "2022-01-17T21:26:30.157Z"
   },
   {
    "duration": 36,
    "start_time": "2022-01-17T21:26:30.170Z"
   },
   {
    "duration": 37,
    "start_time": "2022-01-17T21:26:30.209Z"
   },
   {
    "duration": 32,
    "start_time": "2022-01-17T21:26:30.249Z"
   },
   {
    "duration": 77,
    "start_time": "2022-01-17T21:26:30.285Z"
   },
   {
    "duration": 11,
    "start_time": "2022-01-17T21:26:30.365Z"
   },
   {
    "duration": 56,
    "start_time": "2022-01-17T21:26:30.382Z"
   },
   {
    "duration": 28,
    "start_time": "2022-01-17T21:26:30.441Z"
   },
   {
    "duration": 14,
    "start_time": "2022-01-17T21:26:30.472Z"
   },
   {
    "duration": 57,
    "start_time": "2022-01-17T21:26:30.488Z"
   },
   {
    "duration": 27,
    "start_time": "2022-01-17T21:26:30.547Z"
   },
   {
    "duration": 10,
    "start_time": "2022-01-17T21:26:30.577Z"
   },
   {
    "duration": 55,
    "start_time": "2022-01-17T21:26:30.589Z"
   },
   {
    "duration": 28,
    "start_time": "2022-01-17T21:26:30.648Z"
   },
   {
    "duration": 14,
    "start_time": "2022-01-17T21:26:30.679Z"
   },
   {
    "duration": 14,
    "start_time": "2022-01-17T21:26:30.695Z"
   },
   {
    "duration": 26,
    "start_time": "2022-01-17T21:26:30.711Z"
   },
   {
    "duration": 13,
    "start_time": "2022-01-17T21:26:30.740Z"
   },
   {
    "duration": 9,
    "start_time": "2022-01-17T21:26:30.756Z"
   },
   {
    "duration": 18,
    "start_time": "2022-01-17T21:26:30.767Z"
   },
   {
    "duration": 22,
    "start_time": "2022-01-17T21:26:30.788Z"
   },
   {
    "duration": 41,
    "start_time": "2022-01-17T21:26:30.833Z"
   },
   {
    "duration": 13,
    "start_time": "2022-01-17T21:26:30.879Z"
   },
   {
    "duration": 44,
    "start_time": "2022-01-17T21:26:30.895Z"
   },
   {
    "duration": 25,
    "start_time": "2022-01-17T21:26:30.941Z"
   },
   {
    "duration": 12,
    "start_time": "2022-01-17T21:26:30.970Z"
   },
   {
    "duration": 17,
    "start_time": "2022-01-17T21:26:30.985Z"
   },
   {
    "duration": 31,
    "start_time": "2022-01-17T21:26:31.005Z"
   },
   {
    "duration": 7,
    "start_time": "2022-01-17T21:26:31.038Z"
   },
   {
    "duration": 14,
    "start_time": "2022-01-17T21:26:31.047Z"
   },
   {
    "duration": 19,
    "start_time": "2022-01-17T21:26:31.064Z"
   },
   {
    "duration": 60,
    "start_time": "2022-01-17T21:26:31.085Z"
   },
   {
    "duration": 11,
    "start_time": "2022-01-17T21:26:31.148Z"
   },
   {
    "duration": 11,
    "start_time": "2022-01-17T21:26:31.161Z"
   },
   {
    "duration": 9,
    "start_time": "2022-01-17T21:26:31.175Z"
   },
   {
    "duration": 61,
    "start_time": "2022-01-17T21:26:31.186Z"
   },
   {
    "duration": 18,
    "start_time": "2022-01-17T21:26:31.250Z"
   },
   {
    "duration": 4,
    "start_time": "2022-01-17T21:26:31.271Z"
   },
   {
    "duration": 12,
    "start_time": "2022-01-17T21:26:31.278Z"
   },
   {
    "duration": 7359,
    "start_time": "2022-01-17T21:26:31.293Z"
   },
   {
    "duration": 16,
    "start_time": "2022-01-17T21:26:38.654Z"
   },
   {
    "duration": 65,
    "start_time": "2022-01-17T21:26:38.672Z"
   },
   {
    "duration": 18,
    "start_time": "2022-01-17T21:26:38.739Z"
   },
   {
    "duration": 27,
    "start_time": "2022-01-17T21:26:38.760Z"
   },
   {
    "duration": 42,
    "start_time": "2022-01-17T21:26:38.790Z"
   },
   {
    "duration": 12,
    "start_time": "2022-01-17T21:26:38.836Z"
   },
   {
    "duration": 6491,
    "start_time": "2022-01-17T21:26:38.851Z"
   },
   {
    "duration": 15,
    "start_time": "2022-01-17T21:26:45.344Z"
   },
   {
    "duration": 6,
    "start_time": "2022-01-17T21:26:45.361Z"
   },
   {
    "duration": 9,
    "start_time": "2022-01-17T21:26:45.369Z"
   },
   {
    "duration": 6,
    "start_time": "2022-01-17T21:26:45.380Z"
   },
   {
    "duration": 49,
    "start_time": "2022-01-17T21:26:45.389Z"
   },
   {
    "duration": 8,
    "start_time": "2022-01-17T21:26:45.441Z"
   },
   {
    "duration": 1081,
    "start_time": "2022-01-17T21:26:45.451Z"
   },
   {
    "duration": 10,
    "start_time": "2022-01-17T21:26:46.535Z"
   },
   {
    "duration": 8,
    "start_time": "2022-01-17T21:26:46.548Z"
   },
   {
    "duration": 9,
    "start_time": "2022-01-17T21:26:46.559Z"
   },
   {
    "duration": 18,
    "start_time": "2022-01-17T21:26:46.570Z"
   },
   {
    "duration": 74,
    "start_time": "2022-01-17T21:26:46.591Z"
   },
   {
    "duration": 21,
    "start_time": "2022-01-17T21:26:46.667Z"
   },
   {
    "duration": 51,
    "start_time": "2022-01-17T21:26:46.690Z"
   },
   {
    "duration": 8,
    "start_time": "2022-01-17T21:26:46.744Z"
   },
   {
    "duration": 13,
    "start_time": "2022-01-17T21:26:46.755Z"
   },
   {
    "duration": 72,
    "start_time": "2022-01-17T21:26:46.770Z"
   },
   {
    "duration": 13,
    "start_time": "2022-01-17T21:26:46.844Z"
   },
   {
    "duration": 38,
    "start_time": "2022-01-17T21:26:46.860Z"
   },
   {
    "duration": 38,
    "start_time": "2022-01-17T21:26:46.905Z"
   },
   {
    "duration": 34,
    "start_time": "2022-01-17T21:26:46.946Z"
   },
   {
    "duration": 1206,
    "start_time": "2022-01-18T19:44:08.738Z"
   },
   {
    "duration": 4,
    "start_time": "2022-01-18T19:44:09.946Z"
   },
   {
    "duration": 15,
    "start_time": "2022-01-18T19:44:09.953Z"
   },
   {
    "duration": 11,
    "start_time": "2022-01-18T19:44:09.970Z"
   },
   {
    "duration": 17,
    "start_time": "2022-01-18T19:44:09.982Z"
   },
   {
    "duration": 53,
    "start_time": "2022-01-18T19:44:10.001Z"
   },
   {
    "duration": 6,
    "start_time": "2022-01-18T19:44:10.056Z"
   },
   {
    "duration": 11,
    "start_time": "2022-01-18T19:44:10.065Z"
   },
   {
    "duration": 13,
    "start_time": "2022-01-18T19:44:10.078Z"
   },
   {
    "duration": 6,
    "start_time": "2022-01-18T19:44:10.092Z"
   },
   {
    "duration": 42,
    "start_time": "2022-01-18T19:44:10.099Z"
   },
   {
    "duration": 14,
    "start_time": "2022-01-18T19:44:10.142Z"
   },
   {
    "duration": 6,
    "start_time": "2022-01-18T19:44:10.157Z"
   },
   {
    "duration": 18,
    "start_time": "2022-01-18T19:44:10.165Z"
   },
   {
    "duration": 10,
    "start_time": "2022-01-18T19:44:10.185Z"
   },
   {
    "duration": 10,
    "start_time": "2022-01-18T19:44:10.196Z"
   },
   {
    "duration": 26,
    "start_time": "2022-01-18T19:44:10.207Z"
   },
   {
    "duration": 12,
    "start_time": "2022-01-18T19:44:10.234Z"
   },
   {
    "duration": 14,
    "start_time": "2022-01-18T19:44:10.247Z"
   },
   {
    "duration": 6,
    "start_time": "2022-01-18T19:44:10.263Z"
   },
   {
    "duration": 10,
    "start_time": "2022-01-18T19:44:10.270Z"
   },
   {
    "duration": 13,
    "start_time": "2022-01-18T19:44:10.281Z"
   },
   {
    "duration": 25,
    "start_time": "2022-01-18T19:44:10.297Z"
   },
   {
    "duration": 8,
    "start_time": "2022-01-18T19:44:10.324Z"
   },
   {
    "duration": 7,
    "start_time": "2022-01-18T19:44:10.334Z"
   },
   {
    "duration": 11,
    "start_time": "2022-01-18T19:44:10.343Z"
   },
   {
    "duration": 14,
    "start_time": "2022-01-18T19:44:10.356Z"
   },
   {
    "duration": 13,
    "start_time": "2022-01-18T19:44:10.371Z"
   },
   {
    "duration": 15,
    "start_time": "2022-01-18T19:44:10.386Z"
   },
   {
    "duration": 13,
    "start_time": "2022-01-18T19:44:10.403Z"
   },
   {
    "duration": 10,
    "start_time": "2022-01-18T19:44:10.418Z"
   },
   {
    "duration": 19,
    "start_time": "2022-01-18T19:44:10.430Z"
   },
   {
    "duration": 30,
    "start_time": "2022-01-18T19:44:10.451Z"
   },
   {
    "duration": 9,
    "start_time": "2022-01-18T19:44:10.483Z"
   },
   {
    "duration": 11,
    "start_time": "2022-01-18T19:44:10.493Z"
   },
   {
    "duration": 10,
    "start_time": "2022-01-18T19:44:10.505Z"
   },
   {
    "duration": 29,
    "start_time": "2022-01-18T19:44:10.517Z"
   },
   {
    "duration": 12,
    "start_time": "2022-01-18T19:44:10.547Z"
   },
   {
    "duration": 3,
    "start_time": "2022-01-18T19:44:10.561Z"
   },
   {
    "duration": 12,
    "start_time": "2022-01-18T19:44:10.566Z"
   },
   {
    "duration": 3861,
    "start_time": "2022-01-18T19:44:10.580Z"
   },
   {
    "duration": 10,
    "start_time": "2022-01-18T19:44:14.443Z"
   },
   {
    "duration": 19,
    "start_time": "2022-01-18T19:44:14.454Z"
   },
   {
    "duration": 11,
    "start_time": "2022-01-18T19:44:14.474Z"
   },
   {
    "duration": 11,
    "start_time": "2022-01-18T19:44:14.486Z"
   },
   {
    "duration": 3,
    "start_time": "2022-01-18T19:44:14.498Z"
   },
   {
    "duration": 40,
    "start_time": "2022-01-18T19:44:14.502Z"
   },
   {
    "duration": 3653,
    "start_time": "2022-01-18T19:44:14.543Z"
   },
   {
    "duration": 13,
    "start_time": "2022-01-18T19:44:18.198Z"
   },
   {
    "duration": 32,
    "start_time": "2022-01-18T19:44:18.212Z"
   },
   {
    "duration": 15,
    "start_time": "2022-01-18T19:44:18.246Z"
   },
   {
    "duration": 11,
    "start_time": "2022-01-18T19:44:18.262Z"
   },
   {
    "duration": 7,
    "start_time": "2022-01-18T19:44:18.275Z"
   },
   {
    "duration": 6,
    "start_time": "2022-01-18T19:44:18.284Z"
   },
   {
    "duration": 10,
    "start_time": "2022-01-18T19:44:18.292Z"
   },
   {
    "duration": 615,
    "start_time": "2022-01-18T19:44:18.303Z"
   },
   {
    "duration": 7,
    "start_time": "2022-01-18T19:44:18.919Z"
   },
   {
    "duration": 15,
    "start_time": "2022-01-18T19:44:18.928Z"
   },
   {
    "duration": 14,
    "start_time": "2022-01-18T19:44:18.944Z"
   },
   {
    "duration": 14,
    "start_time": "2022-01-18T19:44:18.960Z"
   },
   {
    "duration": 27,
    "start_time": "2022-01-18T19:44:18.976Z"
   },
   {
    "duration": 20,
    "start_time": "2022-01-18T19:44:19.005Z"
   },
   {
    "duration": 24,
    "start_time": "2022-01-18T19:44:19.027Z"
   },
   {
    "duration": 5,
    "start_time": "2022-01-18T19:44:19.052Z"
   },
   {
    "duration": 16,
    "start_time": "2022-01-18T19:44:19.059Z"
   },
   {
    "duration": 27,
    "start_time": "2022-01-18T19:44:19.076Z"
   },
   {
    "duration": 9,
    "start_time": "2022-01-18T19:44:19.105Z"
   },
   {
    "duration": 53,
    "start_time": "2022-01-18T19:44:19.118Z"
   },
   {
    "duration": 8,
    "start_time": "2022-01-18T19:44:19.173Z"
   },
   {
    "duration": 29,
    "start_time": "2022-01-18T19:44:19.182Z"
   },
   {
    "duration": 1190,
    "start_time": "2022-01-18T19:56:48.489Z"
   },
   {
    "duration": 3,
    "start_time": "2022-01-18T19:56:49.681Z"
   },
   {
    "duration": 17,
    "start_time": "2022-01-18T19:56:49.686Z"
   },
   {
    "duration": 13,
    "start_time": "2022-01-18T19:56:49.705Z"
   },
   {
    "duration": 35,
    "start_time": "2022-01-18T19:56:49.720Z"
   },
   {
    "duration": 21,
    "start_time": "2022-01-18T19:56:49.757Z"
   },
   {
    "duration": 5,
    "start_time": "2022-01-18T19:56:49.780Z"
   },
   {
    "duration": 13,
    "start_time": "2022-01-18T19:56:49.787Z"
   },
   {
    "duration": 42,
    "start_time": "2022-01-18T19:56:49.802Z"
   },
   {
    "duration": 6,
    "start_time": "2022-01-18T19:56:49.846Z"
   },
   {
    "duration": 17,
    "start_time": "2022-01-18T19:56:49.853Z"
   },
   {
    "duration": 14,
    "start_time": "2022-01-18T19:56:49.871Z"
   },
   {
    "duration": 7,
    "start_time": "2022-01-18T19:56:49.887Z"
   },
   {
    "duration": 13,
    "start_time": "2022-01-18T19:56:49.896Z"
   },
   {
    "duration": 35,
    "start_time": "2022-01-18T19:56:49.911Z"
   },
   {
    "duration": 7,
    "start_time": "2022-01-18T19:56:49.948Z"
   },
   {
    "duration": 15,
    "start_time": "2022-01-18T19:56:49.956Z"
   },
   {
    "duration": 7,
    "start_time": "2022-01-18T19:56:49.973Z"
   },
   {
    "duration": 10,
    "start_time": "2022-01-18T19:56:49.981Z"
   },
   {
    "duration": 7,
    "start_time": "2022-01-18T19:56:49.992Z"
   },
   {
    "duration": 14,
    "start_time": "2022-01-18T19:56:50.000Z"
   },
   {
    "duration": 11,
    "start_time": "2022-01-18T19:56:50.015Z"
   },
   {
    "duration": 38,
    "start_time": "2022-01-18T19:56:50.027Z"
   },
   {
    "duration": 11,
    "start_time": "2022-01-18T19:56:50.067Z"
   },
   {
    "duration": 15,
    "start_time": "2022-01-18T19:56:50.080Z"
   },
   {
    "duration": 11,
    "start_time": "2022-01-18T19:56:50.097Z"
   },
   {
    "duration": 31,
    "start_time": "2022-01-18T19:56:50.112Z"
   },
   {
    "duration": 9,
    "start_time": "2022-01-18T19:56:50.146Z"
   },
   {
    "duration": 16,
    "start_time": "2022-01-18T19:56:50.157Z"
   },
   {
    "duration": 8,
    "start_time": "2022-01-18T19:56:50.175Z"
   },
   {
    "duration": 11,
    "start_time": "2022-01-18T19:56:50.184Z"
   },
   {
    "duration": 15,
    "start_time": "2022-01-18T19:56:50.196Z"
   },
   {
    "duration": 27,
    "start_time": "2022-01-18T19:56:50.212Z"
   },
   {
    "duration": 10,
    "start_time": "2022-01-18T19:56:50.241Z"
   },
   {
    "duration": 8,
    "start_time": "2022-01-18T19:56:50.253Z"
   },
   {
    "duration": 10,
    "start_time": "2022-01-18T19:56:50.262Z"
   },
   {
    "duration": 15,
    "start_time": "2022-01-18T19:56:50.274Z"
   },
   {
    "duration": 11,
    "start_time": "2022-01-18T19:56:50.291Z"
   },
   {
    "duration": 3,
    "start_time": "2022-01-18T19:56:50.304Z"
   },
   {
    "duration": 34,
    "start_time": "2022-01-18T19:56:50.308Z"
   },
   {
    "duration": 3878,
    "start_time": "2022-01-18T19:56:50.344Z"
   },
   {
    "duration": 10,
    "start_time": "2022-01-18T19:56:54.224Z"
   },
   {
    "duration": 21,
    "start_time": "2022-01-18T19:56:54.241Z"
   },
   {
    "duration": 11,
    "start_time": "2022-01-18T19:56:54.263Z"
   },
   {
    "duration": 12,
    "start_time": "2022-01-18T19:56:54.276Z"
   },
   {
    "duration": 3,
    "start_time": "2022-01-18T19:56:54.289Z"
   },
   {
    "duration": 9,
    "start_time": "2022-01-18T19:56:54.294Z"
   },
   {
    "duration": 3864,
    "start_time": "2022-01-18T19:56:54.304Z"
   },
   {
    "duration": 10,
    "start_time": "2022-01-18T19:56:58.170Z"
   },
   {
    "duration": 14,
    "start_time": "2022-01-18T19:56:58.182Z"
   },
   {
    "duration": 22,
    "start_time": "2022-01-18T19:56:58.197Z"
   },
   {
    "duration": 20,
    "start_time": "2022-01-18T19:56:58.221Z"
   },
   {
    "duration": 29,
    "start_time": "2022-01-18T19:56:58.243Z"
   },
   {
    "duration": 32,
    "start_time": "2022-01-18T19:56:58.274Z"
   },
   {
    "duration": 577,
    "start_time": "2022-01-18T19:56:58.308Z"
   },
   {
    "duration": 6,
    "start_time": "2022-01-18T19:56:58.887Z"
   },
   {
    "duration": 6,
    "start_time": "2022-01-18T19:56:58.895Z"
   },
   {
    "duration": 6,
    "start_time": "2022-01-18T19:56:58.902Z"
   },
   {
    "duration": 12,
    "start_time": "2022-01-18T19:56:58.910Z"
   },
   {
    "duration": 38,
    "start_time": "2022-01-18T19:56:58.923Z"
   },
   {
    "duration": 12,
    "start_time": "2022-01-18T19:56:58.963Z"
   },
   {
    "duration": 19,
    "start_time": "2022-01-18T19:56:58.977Z"
   },
   {
    "duration": 5,
    "start_time": "2022-01-18T19:56:58.998Z"
   },
   {
    "duration": 40,
    "start_time": "2022-01-18T19:56:59.004Z"
   },
   {
    "duration": 28,
    "start_time": "2022-01-18T19:56:59.046Z"
   },
   {
    "duration": 9,
    "start_time": "2022-01-18T19:56:59.075Z"
   },
   {
    "duration": 26,
    "start_time": "2022-01-18T19:56:59.086Z"
   },
   {
    "duration": 35,
    "start_time": "2022-01-18T19:56:59.113Z"
   },
   {
    "duration": 25,
    "start_time": "2022-01-18T19:56:59.149Z"
   },
   {
    "duration": 353,
    "start_time": "2022-01-18T21:45:41.373Z"
   },
   {
    "duration": 1187,
    "start_time": "2022-01-18T21:45:44.187Z"
   },
   {
    "duration": 28,
    "start_time": "2022-01-18T21:45:47.260Z"
   },
   {
    "duration": 363,
    "start_time": "2022-01-19T20:59:55.819Z"
   },
   {
    "duration": 1852,
    "start_time": "2022-01-19T21:00:16.830Z"
   },
   {
    "duration": 40,
    "start_time": "2022-01-19T21:00:18.685Z"
   },
   {
    "duration": 7,
    "start_time": "2022-01-19T21:00:30.766Z"
   },
   {
    "duration": 5,
    "start_time": "2022-01-19T21:00:38.876Z"
   },
   {
    "duration": 8,
    "start_time": "2022-01-19T21:00:39.664Z"
   },
   {
    "duration": 7,
    "start_time": "2022-01-19T21:00:40.335Z"
   },
   {
    "duration": 11,
    "start_time": "2022-01-19T21:02:55.945Z"
   },
   {
    "duration": 13,
    "start_time": "2022-01-19T21:03:03.590Z"
   },
   {
    "duration": 12,
    "start_time": "2022-01-19T21:03:08.393Z"
   },
   {
    "duration": 12,
    "start_time": "2022-01-19T21:03:12.186Z"
   },
   {
    "duration": 11,
    "start_time": "2022-01-19T21:03:26.711Z"
   },
   {
    "duration": 10,
    "start_time": "2022-01-19T21:03:38.307Z"
   },
   {
    "duration": 12,
    "start_time": "2022-01-19T21:03:57.512Z"
   },
   {
    "duration": 11,
    "start_time": "2022-01-19T21:10:03.584Z"
   },
   {
    "duration": 6,
    "start_time": "2022-01-19T21:10:21.697Z"
   },
   {
    "duration": 1529,
    "start_time": "2022-01-19T21:25:51.998Z"
   },
   {
    "duration": 43,
    "start_time": "2022-01-19T21:25:53.530Z"
   },
   {
    "duration": 5,
    "start_time": "2022-01-19T21:25:53.576Z"
   },
   {
    "duration": 23,
    "start_time": "2022-01-19T21:25:53.584Z"
   },
   {
    "duration": 20,
    "start_time": "2022-01-19T21:25:53.609Z"
   },
   {
    "duration": 59,
    "start_time": "2022-01-19T21:25:53.632Z"
   },
   {
    "duration": 34,
    "start_time": "2022-01-19T21:25:53.694Z"
   },
   {
    "duration": 37,
    "start_time": "2022-01-19T21:25:53.732Z"
   },
   {
    "duration": 18,
    "start_time": "2022-01-19T21:25:53.772Z"
   },
   {
    "duration": 22,
    "start_time": "2022-01-19T21:25:53.792Z"
   },
   {
    "duration": 8,
    "start_time": "2022-01-19T21:25:53.816Z"
   },
   {
    "duration": 18,
    "start_time": "2022-01-19T21:25:53.865Z"
   },
   {
    "duration": 26,
    "start_time": "2022-01-19T21:25:53.885Z"
   },
   {
    "duration": 9,
    "start_time": "2022-01-19T21:25:53.914Z"
   },
   {
    "duration": 43,
    "start_time": "2022-01-19T21:25:53.925Z"
   },
   {
    "duration": 15,
    "start_time": "2022-01-19T21:25:53.970Z"
   },
   {
    "duration": 13,
    "start_time": "2022-01-19T21:25:53.987Z"
   },
   {
    "duration": 11,
    "start_time": "2022-01-19T21:25:54.003Z"
   },
   {
    "duration": 7,
    "start_time": "2022-01-19T21:25:54.016Z"
   },
   {
    "duration": 39,
    "start_time": "2022-01-19T21:25:54.026Z"
   },
   {
    "duration": 5,
    "start_time": "2022-01-19T21:25:54.067Z"
   },
   {
    "duration": 10,
    "start_time": "2022-01-19T21:25:54.074Z"
   },
   {
    "duration": 10,
    "start_time": "2022-01-19T21:25:54.091Z"
   },
   {
    "duration": 4,
    "start_time": "2022-01-19T21:25:54.105Z"
   },
   {
    "duration": 54,
    "start_time": "2022-01-19T21:25:54.112Z"
   },
   {
    "duration": 8,
    "start_time": "2022-01-19T21:25:54.168Z"
   },
   {
    "duration": 34,
    "start_time": "2022-01-19T21:25:54.180Z"
   },
   {
    "duration": 47,
    "start_time": "2022-01-19T21:25:54.216Z"
   },
   {
    "duration": 10,
    "start_time": "2022-01-19T21:25:54.266Z"
   },
   {
    "duration": 13,
    "start_time": "2022-01-19T21:25:54.279Z"
   },
   {
    "duration": 8,
    "start_time": "2022-01-19T21:25:54.294Z"
   },
   {
    "duration": 9,
    "start_time": "2022-01-19T21:25:54.305Z"
   },
   {
    "duration": 49,
    "start_time": "2022-01-19T21:25:54.317Z"
   },
   {
    "duration": 5,
    "start_time": "2022-01-19T21:25:54.369Z"
   },
   {
    "duration": 9,
    "start_time": "2022-01-19T21:25:54.376Z"
   },
   {
    "duration": 16,
    "start_time": "2022-01-19T21:25:54.387Z"
   },
   {
    "duration": 60,
    "start_time": "2022-01-19T21:25:54.406Z"
   },
   {
    "duration": 14,
    "start_time": "2022-01-19T21:25:54.469Z"
   },
   {
    "duration": 8,
    "start_time": "2022-01-19T21:25:54.486Z"
   },
   {
    "duration": 11,
    "start_time": "2022-01-19T21:25:54.497Z"
   },
   {
    "duration": 18,
    "start_time": "2022-01-19T21:25:54.511Z"
   },
   {
    "duration": 47,
    "start_time": "2022-01-19T21:25:54.532Z"
   },
   {
    "duration": 5,
    "start_time": "2022-01-19T21:25:54.581Z"
   },
   {
    "duration": 10,
    "start_time": "2022-01-19T21:25:54.588Z"
   },
   {
    "duration": 6583,
    "start_time": "2022-01-19T21:25:54.600Z"
   },
   {
    "duration": 15,
    "start_time": "2022-01-19T21:26:01.185Z"
   },
   {
    "duration": 31,
    "start_time": "2022-01-19T21:26:01.202Z"
   },
   {
    "duration": 42,
    "start_time": "2022-01-19T21:26:01.236Z"
   },
   {
    "duration": 17,
    "start_time": "2022-01-19T21:26:01.280Z"
   },
   {
    "duration": 9,
    "start_time": "2022-01-19T21:26:01.299Z"
   },
   {
    "duration": 17,
    "start_time": "2022-01-19T21:26:01.310Z"
   },
   {
    "duration": 6820,
    "start_time": "2022-01-19T21:26:01.330Z"
   },
   {
    "duration": 19,
    "start_time": "2022-01-19T21:26:08.153Z"
   },
   {
    "duration": 8,
    "start_time": "2022-01-19T21:26:08.174Z"
   },
   {
    "duration": 9,
    "start_time": "2022-01-19T21:26:08.184Z"
   },
   {
    "duration": 7,
    "start_time": "2022-01-19T21:26:08.195Z"
   },
   {
    "duration": 5,
    "start_time": "2022-01-19T21:26:08.205Z"
   },
   {
    "duration": 9,
    "start_time": "2022-01-19T21:26:08.212Z"
   },
   {
    "duration": 1064,
    "start_time": "2022-01-19T21:26:08.265Z"
   },
   {
    "duration": 10,
    "start_time": "2022-01-19T21:26:09.331Z"
   },
   {
    "duration": 22,
    "start_time": "2022-01-19T21:26:09.344Z"
   },
   {
    "duration": 9,
    "start_time": "2022-01-19T21:26:09.368Z"
   },
   {
    "duration": 16,
    "start_time": "2022-01-19T21:26:09.379Z"
   },
   {
    "duration": 66,
    "start_time": "2022-01-19T21:26:09.398Z"
   },
   {
    "duration": 20,
    "start_time": "2022-01-19T21:26:09.467Z"
   },
   {
    "duration": 29,
    "start_time": "2022-01-19T21:26:09.489Z"
   },
   {
    "duration": 7,
    "start_time": "2022-01-19T21:26:09.521Z"
   },
   {
    "duration": 14,
    "start_time": "2022-01-19T21:26:09.568Z"
   },
   {
    "duration": 37,
    "start_time": "2022-01-19T21:26:09.585Z"
   },
   {
    "duration": 40,
    "start_time": "2022-01-19T21:26:09.625Z"
   },
   {
    "duration": 40,
    "start_time": "2022-01-19T21:26:09.667Z"
   },
   {
    "duration": 12,
    "start_time": "2022-01-19T21:26:09.710Z"
   },
   {
    "duration": 63,
    "start_time": "2022-01-19T21:26:09.724Z"
   }
  ],
  "kernelspec": {
   "display_name": "Python 3 (ipykernel)",
   "language": "python",
   "name": "python3"
  },
  "language_info": {
   "codemirror_mode": {
    "name": "ipython",
    "version": 3
   },
   "file_extension": ".py",
   "mimetype": "text/x-python",
   "name": "python",
   "nbconvert_exporter": "python",
   "pygments_lexer": "ipython3",
   "version": "3.9.5"
  },
  "toc": {
   "base_numbering": 1,
   "nav_menu": {},
   "number_sections": true,
   "sideBar": true,
   "skip_h1_title": true,
   "title_cell": "Table of Contents",
   "title_sidebar": "Contents",
   "toc_cell": false,
   "toc_position": {},
   "toc_section_display": true,
   "toc_window_display": false
  }
 },
 "nbformat": 4,
 "nbformat_minor": 2
}
