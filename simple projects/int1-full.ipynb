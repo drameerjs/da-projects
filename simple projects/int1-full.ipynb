{
 "cells": [
  {
   "cell_type": "markdown",
   "metadata": {},
   "source": [
    "\n",
    "<b> Hello, Ameer! </b>\n",
    "\n",
    "My name is Alex and I'm glad to be your reviewr for this project today.\n",
    "\n",
    "At the first mistake, I'll only mark it. I'll give you the opportunity to find and fix it yourself. We're getting ready for real work, where your TeamLead/Senior colleague will do the same. If there are any difficulties, of course, I'll add details.\n",
    "\n",
    "Below you will find my comments - **please do not move, modify or delete them**.\n",
    "\n",
    "You can find my comments in green, yellow or red boxes like this:\n",
    "\n",
    "<div class=\"alert alert-block alert-success\">\n",
    "<b>Reviewer's comment</b> <a class=\"tocSkip\"></a>\n",
    "\n",
    "Success. Everything is done succesfully.\n",
    "</div>\n",
    "\n",
    "<div class=\"alert alert-block alert-warning\">\n",
    "<b>Reviewer's comment</b> <a class=\"tocSkip\"></a>\n",
    "\n",
    "Remarks. Some recommendations.\n",
    "</div>\n",
    "\n",
    "<div class=\"alert alert-block alert-danger\">\n",
    "\n",
    "<b>Reviewer's comment</b> <a class=\"tocSkip\"></a>\n",
    "\n",
    "Needs fixing. The block requires some corrections. Work can't be accepted with the red comments.\n",
    "</div>\n",
    "\n",
    "You can answer me by using this:\n",
    "\n",
    "<div class=\"alert alert-block alert-info\">\n",
    "<b>Student answer.</b> <a class=\"tocSkip\"></a>\n",
    "\n",
    "Text here.\n",
    "</div>\n",
    "\n",
    "Also I'd suggest numbering iterations of comments, for example v1 - for first review, v2 - for second and so on, to make it easier to track changes in the project.\n",
    "\n",
    "OK, now let's go!"
   ]
  },
  {
   "cell_type": "markdown",
   "metadata": {},
   "source": [
    "# What determines the success of a video-game?\n",
    "I work for the online store ***Ice***, which sells video games all over the world. User and expert reviews, genres, platforms (e.g. Xbox or PlayStation), and historical data on game sales are available from open sources. I need to identify patterns that determine whether a game succeeds or not. This will allow us to spot potential big winners and plan advertising campaigns.\n",
    "\n",
    "The dataset contains the abbreviation ESRB. The Entertainment Software Rating Board evaluates a game's content and assigns an age rating such as Teen or Mature.\n",
    "\n",
    "**The purpose of the project** is to determine the factors that may contribute to the success of a certain video-game. By doing that, we can then plan the upcoming campaigns and forcast their sales based on the data from the previous campaigns.\n",
    "\n",
    "**Plan of Work:**\n",
    "\n",
    "* We are going to start by preprocessing the data, looking for missing values, duplicates and any problematic issues that we may find.\n",
    "* After the initial inspection, we are going to treat the problematic data, whether it is missing data or it is duplicates.\n",
    "* Once we are done with problematic data, we continue forward and start sorting the data, keeping the data that we need and getting rid of the useless data, if there's any.\n",
    "* Once we're done with data preprocessing, and we have a clean dataset to work with, we can then start analyzing the data using the methods that pandas lib. offers and display the results using graphs and histograms.\n",
    "* One step before finishing, we test several hypotheses that'll help us determine the factors that we're looking for more accurately.\n",
    "* Finally, draw general conclusions and sum up.\n",
    "\n",
    "## Initialization\n",
    "We'll start by reading the data, have a look at it and study the general information:\n",
    "\n",
    "First we load the needed libraries and load our dataset into a dataframe\n",
    "\n",
    "### Loading and exploring data"
   ]
  },
  {
   "cell_type": "markdown",
   "metadata": {},
   "source": [
    "<div class=\"alert alert-block alert-success\">\n",
    "<b>Reviewer's comment v1</b> \n",
    "    \n",
    "Good start! With a detailed description, we will not miss a single step!\n",
    "</div>"
   ]
  },
  {
   "cell_type": "code",
   "execution_count": 1,
   "metadata": {},
   "outputs": [],
   "source": [
    "# Loading all the needed libraries\n",
    "import pandas as pd \n",
    "import numpy as np\n",
    "import matplotlib.pyplot as plt\n",
    "import seaborn as sns\n",
    "import warnings\n",
    "from scipy import stats as st\n",
    "\n",
    "# To avoid warnings\n",
    "warnings.filterwarnings(\"ignore\")"
   ]
  },
  {
   "cell_type": "markdown",
   "metadata": {},
   "source": [
    "<div class=\"alert alert-block alert-success\">\n",
    "<b>Reviewer's comment v1</b> \n",
    "    \n",
    "Great idea! We won't be disturbed by warnings.\n",
    "</div>"
   ]
  },
  {
   "cell_type": "code",
   "execution_count": 2,
   "metadata": {},
   "outputs": [
    {
     "name": "stdout",
     "output_type": "stream",
     "text": [
      "<class 'pandas.core.frame.DataFrame'>\n",
      "RangeIndex: 16715 entries, 0 to 16714\n",
      "Data columns (total 11 columns):\n",
      "Name               16713 non-null object\n",
      "Platform           16715 non-null object\n",
      "Year_of_Release    16446 non-null float64\n",
      "Genre              16713 non-null object\n",
      "NA_sales           16715 non-null float64\n",
      "EU_sales           16715 non-null float64\n",
      "JP_sales           16715 non-null float64\n",
      "Other_sales        16715 non-null float64\n",
      "Critic_Score       8137 non-null float64\n",
      "User_Score         10014 non-null object\n",
      "Rating             9949 non-null object\n",
      "dtypes: float64(6), object(5)\n",
      "memory usage: 1.4+ MB\n"
     ]
    },
    {
     "data": {
      "text/html": [
       "<div>\n",
       "<style scoped>\n",
       "    .dataframe tbody tr th:only-of-type {\n",
       "        vertical-align: middle;\n",
       "    }\n",
       "\n",
       "    .dataframe tbody tr th {\n",
       "        vertical-align: top;\n",
       "    }\n",
       "\n",
       "    .dataframe thead th {\n",
       "        text-align: right;\n",
       "    }\n",
       "</style>\n",
       "<table border=\"1\" class=\"dataframe\">\n",
       "  <thead>\n",
       "    <tr style=\"text-align: right;\">\n",
       "      <th></th>\n",
       "      <th>Name</th>\n",
       "      <th>Platform</th>\n",
       "      <th>Year_of_Release</th>\n",
       "      <th>Genre</th>\n",
       "      <th>NA_sales</th>\n",
       "      <th>EU_sales</th>\n",
       "      <th>JP_sales</th>\n",
       "      <th>Other_sales</th>\n",
       "      <th>Critic_Score</th>\n",
       "      <th>User_Score</th>\n",
       "      <th>Rating</th>\n",
       "    </tr>\n",
       "  </thead>\n",
       "  <tbody>\n",
       "    <tr>\n",
       "      <td>0</td>\n",
       "      <td>Wii Sports</td>\n",
       "      <td>Wii</td>\n",
       "      <td>2006.0</td>\n",
       "      <td>Sports</td>\n",
       "      <td>41.36</td>\n",
       "      <td>28.96</td>\n",
       "      <td>3.77</td>\n",
       "      <td>8.45</td>\n",
       "      <td>76.0</td>\n",
       "      <td>8</td>\n",
       "      <td>E</td>\n",
       "    </tr>\n",
       "    <tr>\n",
       "      <td>1</td>\n",
       "      <td>Super Mario Bros.</td>\n",
       "      <td>NES</td>\n",
       "      <td>1985.0</td>\n",
       "      <td>Platform</td>\n",
       "      <td>29.08</td>\n",
       "      <td>3.58</td>\n",
       "      <td>6.81</td>\n",
       "      <td>0.77</td>\n",
       "      <td>NaN</td>\n",
       "      <td>NaN</td>\n",
       "      <td>NaN</td>\n",
       "    </tr>\n",
       "    <tr>\n",
       "      <td>2</td>\n",
       "      <td>Mario Kart Wii</td>\n",
       "      <td>Wii</td>\n",
       "      <td>2008.0</td>\n",
       "      <td>Racing</td>\n",
       "      <td>15.68</td>\n",
       "      <td>12.76</td>\n",
       "      <td>3.79</td>\n",
       "      <td>3.29</td>\n",
       "      <td>82.0</td>\n",
       "      <td>8.3</td>\n",
       "      <td>E</td>\n",
       "    </tr>\n",
       "    <tr>\n",
       "      <td>3</td>\n",
       "      <td>Wii Sports Resort</td>\n",
       "      <td>Wii</td>\n",
       "      <td>2009.0</td>\n",
       "      <td>Sports</td>\n",
       "      <td>15.61</td>\n",
       "      <td>10.93</td>\n",
       "      <td>3.28</td>\n",
       "      <td>2.95</td>\n",
       "      <td>80.0</td>\n",
       "      <td>8</td>\n",
       "      <td>E</td>\n",
       "    </tr>\n",
       "    <tr>\n",
       "      <td>4</td>\n",
       "      <td>Pokemon Red/Pokemon Blue</td>\n",
       "      <td>GB</td>\n",
       "      <td>1996.0</td>\n",
       "      <td>Role-Playing</td>\n",
       "      <td>11.27</td>\n",
       "      <td>8.89</td>\n",
       "      <td>10.22</td>\n",
       "      <td>1.00</td>\n",
       "      <td>NaN</td>\n",
       "      <td>NaN</td>\n",
       "      <td>NaN</td>\n",
       "    </tr>\n",
       "    <tr>\n",
       "      <td>...</td>\n",
       "      <td>...</td>\n",
       "      <td>...</td>\n",
       "      <td>...</td>\n",
       "      <td>...</td>\n",
       "      <td>...</td>\n",
       "      <td>...</td>\n",
       "      <td>...</td>\n",
       "      <td>...</td>\n",
       "      <td>...</td>\n",
       "      <td>...</td>\n",
       "      <td>...</td>\n",
       "    </tr>\n",
       "    <tr>\n",
       "      <td>16710</td>\n",
       "      <td>Samurai Warriors: Sanada Maru</td>\n",
       "      <td>PS3</td>\n",
       "      <td>2016.0</td>\n",
       "      <td>Action</td>\n",
       "      <td>0.00</td>\n",
       "      <td>0.00</td>\n",
       "      <td>0.01</td>\n",
       "      <td>0.00</td>\n",
       "      <td>NaN</td>\n",
       "      <td>NaN</td>\n",
       "      <td>NaN</td>\n",
       "    </tr>\n",
       "    <tr>\n",
       "      <td>16711</td>\n",
       "      <td>LMA Manager 2007</td>\n",
       "      <td>X360</td>\n",
       "      <td>2006.0</td>\n",
       "      <td>Sports</td>\n",
       "      <td>0.00</td>\n",
       "      <td>0.01</td>\n",
       "      <td>0.00</td>\n",
       "      <td>0.00</td>\n",
       "      <td>NaN</td>\n",
       "      <td>NaN</td>\n",
       "      <td>NaN</td>\n",
       "    </tr>\n",
       "    <tr>\n",
       "      <td>16712</td>\n",
       "      <td>Haitaka no Psychedelica</td>\n",
       "      <td>PSV</td>\n",
       "      <td>2016.0</td>\n",
       "      <td>Adventure</td>\n",
       "      <td>0.00</td>\n",
       "      <td>0.00</td>\n",
       "      <td>0.01</td>\n",
       "      <td>0.00</td>\n",
       "      <td>NaN</td>\n",
       "      <td>NaN</td>\n",
       "      <td>NaN</td>\n",
       "    </tr>\n",
       "    <tr>\n",
       "      <td>16713</td>\n",
       "      <td>Spirits &amp; Spells</td>\n",
       "      <td>GBA</td>\n",
       "      <td>2003.0</td>\n",
       "      <td>Platform</td>\n",
       "      <td>0.01</td>\n",
       "      <td>0.00</td>\n",
       "      <td>0.00</td>\n",
       "      <td>0.00</td>\n",
       "      <td>NaN</td>\n",
       "      <td>NaN</td>\n",
       "      <td>NaN</td>\n",
       "    </tr>\n",
       "    <tr>\n",
       "      <td>16714</td>\n",
       "      <td>Winning Post 8 2016</td>\n",
       "      <td>PSV</td>\n",
       "      <td>2016.0</td>\n",
       "      <td>Simulation</td>\n",
       "      <td>0.00</td>\n",
       "      <td>0.00</td>\n",
       "      <td>0.01</td>\n",
       "      <td>0.00</td>\n",
       "      <td>NaN</td>\n",
       "      <td>NaN</td>\n",
       "      <td>NaN</td>\n",
       "    </tr>\n",
       "  </tbody>\n",
       "</table>\n",
       "<p>16715 rows × 11 columns</p>\n",
       "</div>"
      ],
      "text/plain": [
       "                                Name Platform  Year_of_Release         Genre  \\\n",
       "0                         Wii Sports      Wii           2006.0        Sports   \n",
       "1                  Super Mario Bros.      NES           1985.0      Platform   \n",
       "2                     Mario Kart Wii      Wii           2008.0        Racing   \n",
       "3                  Wii Sports Resort      Wii           2009.0        Sports   \n",
       "4           Pokemon Red/Pokemon Blue       GB           1996.0  Role-Playing   \n",
       "...                              ...      ...              ...           ...   \n",
       "16710  Samurai Warriors: Sanada Maru      PS3           2016.0        Action   \n",
       "16711               LMA Manager 2007     X360           2006.0        Sports   \n",
       "16712        Haitaka no Psychedelica      PSV           2016.0     Adventure   \n",
       "16713               Spirits & Spells      GBA           2003.0      Platform   \n",
       "16714            Winning Post 8 2016      PSV           2016.0    Simulation   \n",
       "\n",
       "       NA_sales  EU_sales  JP_sales  Other_sales  Critic_Score User_Score  \\\n",
       "0         41.36     28.96      3.77         8.45          76.0          8   \n",
       "1         29.08      3.58      6.81         0.77           NaN        NaN   \n",
       "2         15.68     12.76      3.79         3.29          82.0        8.3   \n",
       "3         15.61     10.93      3.28         2.95          80.0          8   \n",
       "4         11.27      8.89     10.22         1.00           NaN        NaN   \n",
       "...         ...       ...       ...          ...           ...        ...   \n",
       "16710      0.00      0.00      0.01         0.00           NaN        NaN   \n",
       "16711      0.00      0.01      0.00         0.00           NaN        NaN   \n",
       "16712      0.00      0.00      0.01         0.00           NaN        NaN   \n",
       "16713      0.01      0.00      0.00         0.00           NaN        NaN   \n",
       "16714      0.00      0.00      0.01         0.00           NaN        NaN   \n",
       "\n",
       "      Rating  \n",
       "0          E  \n",
       "1        NaN  \n",
       "2          E  \n",
       "3          E  \n",
       "4        NaN  \n",
       "...      ...  \n",
       "16710    NaN  \n",
       "16711    NaN  \n",
       "16712    NaN  \n",
       "16713    NaN  \n",
       "16714    NaN  \n",
       "\n",
       "[16715 rows x 11 columns]"
      ]
     },
     "execution_count": 2,
     "metadata": {},
     "output_type": "execute_result"
    }
   ],
   "source": [
    "game_data = pd.read_csv('/datasets/games.csv')\n",
    "game_data.info()\n",
    "game_data"
   ]
  },
  {
   "cell_type": "markdown",
   "metadata": {},
   "source": [
    "<div class=\"alert alert-block alert-success\">\n",
    "<b>Reviewer's comment v1</b> \n",
    "    \n",
    "Good start!\n",
    "</div>"
   ]
  },
  {
   "cell_type": "markdown",
   "metadata": {},
   "source": [
    "### Fixing data types\n",
    "By simply looking at the dataframe that we have above, we can notice a few issues:\n",
    "1. Alot of missing values\n",
    "2. Incorrect data types (for instance, user_score is a string)\n",
    "3. Column names (Not as critical, but it is easier to have them all in lower-case)\n",
    "\n",
    "Lets start by treating the least critical issue, column names:"
   ]
  },
  {
   "cell_type": "code",
   "execution_count": 3,
   "metadata": {},
   "outputs": [
    {
     "data": {
      "text/plain": [
       "Index(['name', 'platform', 'year_of_release', 'genre', 'na_sales', 'eu_sales',\n",
       "       'jp_sales', 'other_sales', 'critic_score', 'user_score', 'rating'],\n",
       "      dtype='object')"
      ]
     },
     "execution_count": 3,
     "metadata": {},
     "output_type": "execute_result"
    }
   ],
   "source": [
    "# converting column names to lower-case letters.\n",
    "game_data.columns = game_data.columns.str.lower()\n",
    "game_data.columns"
   ]
  },
  {
   "cell_type": "markdown",
   "metadata": {},
   "source": [
    "<div class=\"alert alert-block alert-success\">\n",
    "<b>Reviewer's comment v1</b> \n",
    "    \n",
    "Well done!\n",
    "</div>"
   ]
  },
  {
   "cell_type": "markdown",
   "metadata": {},
   "source": [
    "That was an easy fix, Lets move on!\n",
    "\n",
    "Now we can address incorrect data types, looking at the dataframe **info()** method results, we can see that **user_score** column is in string form when it should be a numeric value. Lets have a look at it:"
   ]
  },
  {
   "cell_type": "code",
   "execution_count": 4,
   "metadata": {},
   "outputs": [
    {
     "data": {
      "text/plain": [
       "tbd    2424\n",
       "7.8     324\n",
       "8       290\n",
       "8.2     282\n",
       "8.3     254\n",
       "       ... \n",
       "9.6       2\n",
       "1.1       2\n",
       "1.3       2\n",
       "0         1\n",
       "9.7       1\n",
       "Name: user_score, Length: 96, dtype: int64"
      ]
     },
     "execution_count": 4,
     "metadata": {},
     "output_type": "execute_result"
    }
   ],
   "source": [
    "# Checking what values does it include\n",
    "game_data['user_score'].value_counts()"
   ]
  },
  {
   "cell_type": "code",
   "execution_count": 5,
   "metadata": {},
   "outputs": [
    {
     "data": {
      "text/plain": [
       "7.8    324\n",
       "8.0    290\n",
       "8.2    282\n",
       "8.3    254\n",
       "8.5    253\n",
       "      ... \n",
       "9.6      2\n",
       "0.6      2\n",
       "1.9      2\n",
       "9.7      1\n",
       "0.0      1\n",
       "Name: user_score, Length: 95, dtype: int64"
      ]
     },
     "execution_count": 5,
     "metadata": {},
     "output_type": "execute_result"
    }
   ],
   "source": [
    "# Converting user_score from string to a numeric value (this will lead to some missing values)\n",
    "game_data['user_score'] = pd.to_numeric(game_data['user_score'],errors='coerce')\n",
    "game_data['user_score'].value_counts()"
   ]
  },
  {
   "cell_type": "markdown",
   "metadata": {},
   "source": [
    "We have treated this issue, now we can move on onto dealing with missing values.\n",
    "\n",
    "We initially had alot of missing values, and by converting the **tdb** values from string to float in the **user_score** column, that led to even more missing values that we have to deal with. Therefore, we are going to perform a deeper inspection into the rest of the columns to make sure that all the values are correct and then start treating the missing values that we have.\n",
    "\n",
    "We'll start by checking that the **year_of_release** column is proper:"
   ]
  },
  {
   "cell_type": "code",
   "execution_count": 6,
   "metadata": {},
   "outputs": [
    {
     "data": {
      "text/plain": [
       "2008.0    1427\n",
       "2009.0    1426\n",
       "2010.0    1255\n",
       "2007.0    1197\n",
       "2011.0    1136\n",
       "2006.0    1006\n",
       "2005.0     939\n",
       "2002.0     829\n",
       "2003.0     775\n",
       "2004.0     762\n",
       "2012.0     653\n",
       "2015.0     606\n",
       "2014.0     581\n",
       "2013.0     544\n",
       "2016.0     502\n",
       "2001.0     482\n",
       "1998.0     379\n",
       "2000.0     350\n",
       "1999.0     338\n",
       "1997.0     289\n",
       "1996.0     263\n",
       "1995.0     219\n",
       "1994.0     121\n",
       "1993.0      62\n",
       "1981.0      46\n",
       "1992.0      43\n",
       "1991.0      41\n",
       "1982.0      36\n",
       "1986.0      21\n",
       "1989.0      17\n",
       "1983.0      17\n",
       "1990.0      16\n",
       "1987.0      16\n",
       "1988.0      15\n",
       "1985.0      14\n",
       "1984.0      14\n",
       "1980.0       9\n",
       "Name: year_of_release, dtype: int64"
      ]
     },
     "execution_count": 6,
     "metadata": {},
     "output_type": "execute_result"
    }
   ],
   "source": [
    "# Checking the data of year_of_release column\n",
    "game_data['year_of_release'].value_counts()"
   ]
  },
  {
   "cell_type": "markdown",
   "metadata": {},
   "source": [
    "Everything looks great on the **year_of_release** column.\n",
    "**Next** we move on to the **genre** column:"
   ]
  },
  {
   "cell_type": "code",
   "execution_count": 7,
   "metadata": {},
   "outputs": [
    {
     "data": {
      "text/plain": [
       "Action          3369\n",
       "Sports          2348\n",
       "Misc            1750\n",
       "Role-Playing    1498\n",
       "Shooter         1323\n",
       "Adventure       1303\n",
       "Racing          1249\n",
       "Platform         888\n",
       "Simulation       873\n",
       "Fighting         849\n",
       "Strategy         683\n",
       "Puzzle           580\n",
       "Name: genre, dtype: int64"
      ]
     },
     "execution_count": 7,
     "metadata": {},
     "output_type": "execute_result"
    }
   ],
   "source": [
    "# Checking the genre column\n",
    "game_data['genre'].value_counts()"
   ]
  },
  {
   "cell_type": "markdown",
   "metadata": {},
   "source": [
    "The data in **genre** looks great as well!\n",
    "Lets quickly move to the **rating** column:"
   ]
  },
  {
   "cell_type": "code",
   "execution_count": 8,
   "metadata": {},
   "outputs": [
    {
     "data": {
      "text/plain": [
       "E       3990\n",
       "T       2961\n",
       "M       1563\n",
       "E10+    1420\n",
       "EC         8\n",
       "K-A        3\n",
       "RP         3\n",
       "AO         1\n",
       "Name: rating, dtype: int64"
      ]
     },
     "execution_count": 8,
     "metadata": {},
     "output_type": "execute_result"
    }
   ],
   "source": [
    "# Checking the rating column\n",
    "game_data['rating'].value_counts()"
   ]
  },
  {
   "cell_type": "markdown",
   "metadata": {},
   "source": [
    "In **rating** everything looks fine as well. Lets have one last check, to see how many platforms we are working with.\n",
    "**Next** we check the **platform** column:"
   ]
  },
  {
   "cell_type": "code",
   "execution_count": 9,
   "metadata": {},
   "outputs": [
    {
     "data": {
      "text/plain": [
       "PS2     2161\n",
       "DS      2151\n",
       "PS3     1331\n",
       "Wii     1320\n",
       "X360    1262\n",
       "PSP     1209\n",
       "PS      1197\n",
       "PC       974\n",
       "XB       824\n",
       "GBA      822\n",
       "GC       556\n",
       "3DS      520\n",
       "PSV      430\n",
       "PS4      392\n",
       "N64      319\n",
       "XOne     247\n",
       "SNES     239\n",
       "SAT      173\n",
       "WiiU     147\n",
       "2600     133\n",
       "GB        98\n",
       "NES       98\n",
       "DC        52\n",
       "GEN       29\n",
       "NG        12\n",
       "SCD        6\n",
       "WS         6\n",
       "3DO        3\n",
       "TG16       2\n",
       "GG         1\n",
       "PCFX       1\n",
       "Name: platform, dtype: int64"
      ]
     },
     "execution_count": 9,
     "metadata": {},
     "output_type": "execute_result"
    }
   ],
   "source": [
    "# Checking the platform column\n",
    "game_data['platform'].value_counts()"
   ]
  },
  {
   "cell_type": "markdown",
   "metadata": {},
   "source": [
    "We don't see any duplicate or suspectable values in the **platform** column.\n",
    "\n",
    "We've dealt with most of the values that could've been problematic. We have one thing left, to assure that we don't have any duplicates later, and it is to convert the video-game names into lower-case."
   ]
  },
  {
   "cell_type": "code",
   "execution_count": 10,
   "metadata": {},
   "outputs": [
    {
     "data": {
      "text/html": [
       "<div>\n",
       "<style scoped>\n",
       "    .dataframe tbody tr th:only-of-type {\n",
       "        vertical-align: middle;\n",
       "    }\n",
       "\n",
       "    .dataframe tbody tr th {\n",
       "        vertical-align: top;\n",
       "    }\n",
       "\n",
       "    .dataframe thead th {\n",
       "        text-align: right;\n",
       "    }\n",
       "</style>\n",
       "<table border=\"1\" class=\"dataframe\">\n",
       "  <thead>\n",
       "    <tr style=\"text-align: right;\">\n",
       "      <th></th>\n",
       "      <th>name</th>\n",
       "      <th>platform</th>\n",
       "      <th>year_of_release</th>\n",
       "      <th>genre</th>\n",
       "      <th>na_sales</th>\n",
       "      <th>eu_sales</th>\n",
       "      <th>jp_sales</th>\n",
       "      <th>other_sales</th>\n",
       "      <th>critic_score</th>\n",
       "      <th>user_score</th>\n",
       "      <th>rating</th>\n",
       "    </tr>\n",
       "  </thead>\n",
       "  <tbody>\n",
       "    <tr>\n",
       "      <td>0</td>\n",
       "      <td>wii sports</td>\n",
       "      <td>Wii</td>\n",
       "      <td>2006.0</td>\n",
       "      <td>Sports</td>\n",
       "      <td>41.36</td>\n",
       "      <td>28.96</td>\n",
       "      <td>3.77</td>\n",
       "      <td>8.45</td>\n",
       "      <td>76.0</td>\n",
       "      <td>8.0</td>\n",
       "      <td>E</td>\n",
       "    </tr>\n",
       "    <tr>\n",
       "      <td>1</td>\n",
       "      <td>super mario bros.</td>\n",
       "      <td>NES</td>\n",
       "      <td>1985.0</td>\n",
       "      <td>Platform</td>\n",
       "      <td>29.08</td>\n",
       "      <td>3.58</td>\n",
       "      <td>6.81</td>\n",
       "      <td>0.77</td>\n",
       "      <td>NaN</td>\n",
       "      <td>NaN</td>\n",
       "      <td>NaN</td>\n",
       "    </tr>\n",
       "    <tr>\n",
       "      <td>2</td>\n",
       "      <td>mario kart wii</td>\n",
       "      <td>Wii</td>\n",
       "      <td>2008.0</td>\n",
       "      <td>Racing</td>\n",
       "      <td>15.68</td>\n",
       "      <td>12.76</td>\n",
       "      <td>3.79</td>\n",
       "      <td>3.29</td>\n",
       "      <td>82.0</td>\n",
       "      <td>8.3</td>\n",
       "      <td>E</td>\n",
       "    </tr>\n",
       "    <tr>\n",
       "      <td>3</td>\n",
       "      <td>wii sports resort</td>\n",
       "      <td>Wii</td>\n",
       "      <td>2009.0</td>\n",
       "      <td>Sports</td>\n",
       "      <td>15.61</td>\n",
       "      <td>10.93</td>\n",
       "      <td>3.28</td>\n",
       "      <td>2.95</td>\n",
       "      <td>80.0</td>\n",
       "      <td>8.0</td>\n",
       "      <td>E</td>\n",
       "    </tr>\n",
       "    <tr>\n",
       "      <td>4</td>\n",
       "      <td>pokemon red/pokemon blue</td>\n",
       "      <td>GB</td>\n",
       "      <td>1996.0</td>\n",
       "      <td>Role-Playing</td>\n",
       "      <td>11.27</td>\n",
       "      <td>8.89</td>\n",
       "      <td>10.22</td>\n",
       "      <td>1.00</td>\n",
       "      <td>NaN</td>\n",
       "      <td>NaN</td>\n",
       "      <td>NaN</td>\n",
       "    </tr>\n",
       "  </tbody>\n",
       "</table>\n",
       "</div>"
      ],
      "text/plain": [
       "                       name platform  year_of_release         genre  na_sales  \\\n",
       "0                wii sports      Wii           2006.0        Sports     41.36   \n",
       "1         super mario bros.      NES           1985.0      Platform     29.08   \n",
       "2            mario kart wii      Wii           2008.0        Racing     15.68   \n",
       "3         wii sports resort      Wii           2009.0        Sports     15.61   \n",
       "4  pokemon red/pokemon blue       GB           1996.0  Role-Playing     11.27   \n",
       "\n",
       "   eu_sales  jp_sales  other_sales  critic_score  user_score rating  \n",
       "0     28.96      3.77         8.45          76.0         8.0      E  \n",
       "1      3.58      6.81         0.77           NaN         NaN    NaN  \n",
       "2     12.76      3.79         3.29          82.0         8.3      E  \n",
       "3     10.93      3.28         2.95          80.0         8.0      E  \n",
       "4      8.89     10.22         1.00           NaN         NaN    NaN  "
      ]
     },
     "execution_count": 10,
     "metadata": {},
     "output_type": "execute_result"
    }
   ],
   "source": [
    "# converting the video-games name column to lower-case\n",
    "game_data['name'] = game_data['name'].str.lower()\n",
    "game_data.head(5)"
   ]
  },
  {
   "cell_type": "markdown",
   "metadata": {},
   "source": [
    "### Treating missing values\n",
    "We're officially done with our first inspection, now we can start treating missing values and duplicates.\n",
    "\n",
    "We'll start with **missing values**:"
   ]
  },
  {
   "cell_type": "code",
   "execution_count": 11,
   "metadata": {},
   "outputs": [
    {
     "name": "stdout",
     "output_type": "stream",
     "text": [
      "name                  2\n",
      "platform              0\n",
      "year_of_release     269\n",
      "genre                 2\n",
      "na_sales              0\n",
      "eu_sales              0\n",
      "jp_sales              0\n",
      "other_sales           0\n",
      "critic_score       8578\n",
      "user_score         9125\n",
      "rating             6766\n",
      "dtype: int64\n",
      "\n",
      "Percentages:\n",
      "name is 0.011965%\n",
      "platform is 0.000000%\n",
      "year_of_release is 1.609333%\n",
      "genre is 0.011965%\n",
      "na_sales is 0.000000%\n",
      "eu_sales is 0.000000%\n",
      "jp_sales is 0.000000%\n",
      "other_sales is 0.000000%\n",
      "critic_score is 51.319174%\n",
      "user_score is 54.591684%\n",
      "rating is 40.478612%\n"
     ]
    }
   ],
   "source": [
    "# lets check how many missing values we have\n",
    "print(game_data.isna().sum())\n",
    "#print(game_data.isna().sum()/len(game_data))\n",
    "\n",
    "print('\\nPercentages:')\n",
    "for col in game_data:\n",
    "    print('{} is {:2%}'.format(col, game_data[col].isna().sum()/len(game_data)))\n"
   ]
  },
  {
   "cell_type": "markdown",
   "metadata": {},
   "source": [
    "We can see that we have a couple missing values on **name** and **genre** columns, a bit more in **year_of_release**, those are not a problem. The problem lies on the last 3 columns, with thousands of missing values.\n",
    "\n",
    "Since the percentages of missing values in **name**, **year_of_release** and **genre** are very low that we can drop the rows with missing values without really affecting the dataframe greatly.\n",
    "\n",
    "As for the other 3 columns, **critic_score**, **user_score** and **rating**, we have different plans."
   ]
  },
  {
   "cell_type": "markdown",
   "metadata": {},
   "source": [
    "<div class=\"alert alert-block alert-success\">\n",
    "<b>Reviewer's comment v3</b> \n",
    "    \n",
    "Right!\n",
    "</div>"
   ]
  },
  {
   "cell_type": "code",
   "execution_count": 12,
   "metadata": {},
   "outputs": [
    {
     "data": {
      "text/html": [
       "<div>\n",
       "<style scoped>\n",
       "    .dataframe tbody tr th:only-of-type {\n",
       "        vertical-align: middle;\n",
       "    }\n",
       "\n",
       "    .dataframe tbody tr th {\n",
       "        vertical-align: top;\n",
       "    }\n",
       "\n",
       "    .dataframe thead th {\n",
       "        text-align: right;\n",
       "    }\n",
       "</style>\n",
       "<table border=\"1\" class=\"dataframe\">\n",
       "  <thead>\n",
       "    <tr style=\"text-align: right;\">\n",
       "      <th></th>\n",
       "      <th>name</th>\n",
       "      <th>platform</th>\n",
       "      <th>year_of_release</th>\n",
       "      <th>genre</th>\n",
       "      <th>na_sales</th>\n",
       "      <th>eu_sales</th>\n",
       "      <th>jp_sales</th>\n",
       "      <th>other_sales</th>\n",
       "      <th>critic_score</th>\n",
       "      <th>user_score</th>\n",
       "      <th>rating</th>\n",
       "    </tr>\n",
       "  </thead>\n",
       "  <tbody>\n",
       "    <tr>\n",
       "      <td>659</td>\n",
       "      <td>NaN</td>\n",
       "      <td>GEN</td>\n",
       "      <td>1993.0</td>\n",
       "      <td>NaN</td>\n",
       "      <td>1.78</td>\n",
       "      <td>0.53</td>\n",
       "      <td>0.00</td>\n",
       "      <td>0.08</td>\n",
       "      <td>NaN</td>\n",
       "      <td>NaN</td>\n",
       "      <td>NaN</td>\n",
       "    </tr>\n",
       "    <tr>\n",
       "      <td>14244</td>\n",
       "      <td>NaN</td>\n",
       "      <td>GEN</td>\n",
       "      <td>1993.0</td>\n",
       "      <td>NaN</td>\n",
       "      <td>0.00</td>\n",
       "      <td>0.00</td>\n",
       "      <td>0.03</td>\n",
       "      <td>0.00</td>\n",
       "      <td>NaN</td>\n",
       "      <td>NaN</td>\n",
       "      <td>NaN</td>\n",
       "    </tr>\n",
       "  </tbody>\n",
       "</table>\n",
       "</div>"
      ],
      "text/plain": [
       "      name platform  year_of_release genre  na_sales  eu_sales  jp_sales  \\\n",
       "659    NaN      GEN           1993.0   NaN      1.78      0.53      0.00   \n",
       "14244  NaN      GEN           1993.0   NaN      0.00      0.00      0.03   \n",
       "\n",
       "       other_sales  critic_score  user_score rating  \n",
       "659           0.08           NaN         NaN    NaN  \n",
       "14244         0.00           NaN         NaN    NaN  "
      ]
     },
     "execution_count": 12,
     "metadata": {},
     "output_type": "execute_result"
    }
   ],
   "source": [
    "# checking nulls in name column\n",
    "game_data[game_data['name'].isna()]"
   ]
  },
  {
   "cell_type": "markdown",
   "metadata": {},
   "source": [
    "We don't have a way to retrieve the missing values in those two rows (notice that the same rows that has no **name** are also the rows that has no **genre**) and they belong to the **platform** *GEN*, with 29 rows of data, it is not representative enough. Therefore, we decided to delete these 2 rows, along with the whole platform data (since we'll be doing this later on):"
   ]
  },
  {
   "cell_type": "code",
   "execution_count": 13,
   "metadata": {},
   "outputs": [
    {
     "data": {
      "text/html": [
       "<div>\n",
       "<style scoped>\n",
       "    .dataframe tbody tr th:only-of-type {\n",
       "        vertical-align: middle;\n",
       "    }\n",
       "\n",
       "    .dataframe tbody tr th {\n",
       "        vertical-align: top;\n",
       "    }\n",
       "\n",
       "    .dataframe thead th {\n",
       "        text-align: right;\n",
       "    }\n",
       "</style>\n",
       "<table border=\"1\" class=\"dataframe\">\n",
       "  <thead>\n",
       "    <tr style=\"text-align: right;\">\n",
       "      <th></th>\n",
       "      <th>name</th>\n",
       "      <th>platform</th>\n",
       "      <th>year_of_release</th>\n",
       "      <th>genre</th>\n",
       "      <th>na_sales</th>\n",
       "      <th>eu_sales</th>\n",
       "      <th>jp_sales</th>\n",
       "      <th>other_sales</th>\n",
       "      <th>critic_score</th>\n",
       "      <th>user_score</th>\n",
       "      <th>rating</th>\n",
       "    </tr>\n",
       "  </thead>\n",
       "  <tbody>\n",
       "  </tbody>\n",
       "</table>\n",
       "</div>"
      ],
      "text/plain": [
       "Empty DataFrame\n",
       "Columns: [name, platform, year_of_release, genre, na_sales, eu_sales, jp_sales, other_sales, critic_score, user_score, rating]\n",
       "Index: []"
      ]
     },
     "execution_count": 13,
     "metadata": {},
     "output_type": "execute_result"
    }
   ],
   "source": [
    "# removing the GEN platform from the dataframe\n",
    "game_data = game_data[game_data['platform'] != 'GEN']\n",
    "game_data.query('platform == \"GEN\"')"
   ]
  },
  {
   "cell_type": "markdown",
   "metadata": {},
   "source": [
    "**Next** we have to address the **year_of_release** missing values, as we said above, there's a very small percentage of missing values in this column, therefore we can drop them without really affected our dataset greatly:"
   ]
  },
  {
   "cell_type": "code",
   "execution_count": 14,
   "metadata": {},
   "outputs": [
    {
     "data": {
      "text/html": [
       "<div>\n",
       "<style scoped>\n",
       "    .dataframe tbody tr th:only-of-type {\n",
       "        vertical-align: middle;\n",
       "    }\n",
       "\n",
       "    .dataframe tbody tr th {\n",
       "        vertical-align: top;\n",
       "    }\n",
       "\n",
       "    .dataframe thead th {\n",
       "        text-align: right;\n",
       "    }\n",
       "</style>\n",
       "<table border=\"1\" class=\"dataframe\">\n",
       "  <thead>\n",
       "    <tr style=\"text-align: right;\">\n",
       "      <th></th>\n",
       "      <th>name</th>\n",
       "      <th>platform</th>\n",
       "      <th>year_of_release</th>\n",
       "      <th>genre</th>\n",
       "      <th>na_sales</th>\n",
       "      <th>eu_sales</th>\n",
       "      <th>jp_sales</th>\n",
       "      <th>other_sales</th>\n",
       "      <th>critic_score</th>\n",
       "      <th>user_score</th>\n",
       "      <th>rating</th>\n",
       "    </tr>\n",
       "  </thead>\n",
       "  <tbody>\n",
       "    <tr>\n",
       "      <td>183</td>\n",
       "      <td>madden nfl 2004</td>\n",
       "      <td>PS2</td>\n",
       "      <td>NaN</td>\n",
       "      <td>Sports</td>\n",
       "      <td>4.26</td>\n",
       "      <td>0.26</td>\n",
       "      <td>0.01</td>\n",
       "      <td>0.71</td>\n",
       "      <td>94.0</td>\n",
       "      <td>8.5</td>\n",
       "      <td>E</td>\n",
       "    </tr>\n",
       "    <tr>\n",
       "      <td>377</td>\n",
       "      <td>fifa soccer 2004</td>\n",
       "      <td>PS2</td>\n",
       "      <td>NaN</td>\n",
       "      <td>Sports</td>\n",
       "      <td>0.59</td>\n",
       "      <td>2.36</td>\n",
       "      <td>0.04</td>\n",
       "      <td>0.51</td>\n",
       "      <td>84.0</td>\n",
       "      <td>6.4</td>\n",
       "      <td>E</td>\n",
       "    </tr>\n",
       "    <tr>\n",
       "      <td>456</td>\n",
       "      <td>lego batman: the videogame</td>\n",
       "      <td>Wii</td>\n",
       "      <td>NaN</td>\n",
       "      <td>Action</td>\n",
       "      <td>1.80</td>\n",
       "      <td>0.97</td>\n",
       "      <td>0.00</td>\n",
       "      <td>0.29</td>\n",
       "      <td>74.0</td>\n",
       "      <td>7.9</td>\n",
       "      <td>E10+</td>\n",
       "    </tr>\n",
       "    <tr>\n",
       "      <td>475</td>\n",
       "      <td>wwe smackdown vs. raw 2006</td>\n",
       "      <td>PS2</td>\n",
       "      <td>NaN</td>\n",
       "      <td>Fighting</td>\n",
       "      <td>1.57</td>\n",
       "      <td>1.02</td>\n",
       "      <td>0.00</td>\n",
       "      <td>0.41</td>\n",
       "      <td>NaN</td>\n",
       "      <td>NaN</td>\n",
       "      <td>NaN</td>\n",
       "    </tr>\n",
       "    <tr>\n",
       "      <td>609</td>\n",
       "      <td>space invaders</td>\n",
       "      <td>2600</td>\n",
       "      <td>NaN</td>\n",
       "      <td>Shooter</td>\n",
       "      <td>2.36</td>\n",
       "      <td>0.14</td>\n",
       "      <td>0.00</td>\n",
       "      <td>0.03</td>\n",
       "      <td>NaN</td>\n",
       "      <td>NaN</td>\n",
       "      <td>NaN</td>\n",
       "    </tr>\n",
       "    <tr>\n",
       "      <td>627</td>\n",
       "      <td>rock band</td>\n",
       "      <td>X360</td>\n",
       "      <td>NaN</td>\n",
       "      <td>Misc</td>\n",
       "      <td>1.93</td>\n",
       "      <td>0.33</td>\n",
       "      <td>0.00</td>\n",
       "      <td>0.21</td>\n",
       "      <td>92.0</td>\n",
       "      <td>8.2</td>\n",
       "      <td>T</td>\n",
       "    </tr>\n",
       "    <tr>\n",
       "      <td>657</td>\n",
       "      <td>frogger's adventures: temple of the frog</td>\n",
       "      <td>GBA</td>\n",
       "      <td>NaN</td>\n",
       "      <td>Adventure</td>\n",
       "      <td>2.15</td>\n",
       "      <td>0.18</td>\n",
       "      <td>0.00</td>\n",
       "      <td>0.07</td>\n",
       "      <td>73.0</td>\n",
       "      <td>NaN</td>\n",
       "      <td>E</td>\n",
       "    </tr>\n",
       "    <tr>\n",
       "      <td>678</td>\n",
       "      <td>lego indiana jones: the original adventures</td>\n",
       "      <td>Wii</td>\n",
       "      <td>NaN</td>\n",
       "      <td>Action</td>\n",
       "      <td>1.51</td>\n",
       "      <td>0.61</td>\n",
       "      <td>0.00</td>\n",
       "      <td>0.21</td>\n",
       "      <td>78.0</td>\n",
       "      <td>6.6</td>\n",
       "      <td>E10+</td>\n",
       "    </tr>\n",
       "    <tr>\n",
       "      <td>719</td>\n",
       "      <td>call of duty 3</td>\n",
       "      <td>Wii</td>\n",
       "      <td>NaN</td>\n",
       "      <td>Shooter</td>\n",
       "      <td>1.17</td>\n",
       "      <td>0.84</td>\n",
       "      <td>0.00</td>\n",
       "      <td>0.23</td>\n",
       "      <td>69.0</td>\n",
       "      <td>6.7</td>\n",
       "      <td>T</td>\n",
       "    </tr>\n",
       "    <tr>\n",
       "      <td>805</td>\n",
       "      <td>rock band</td>\n",
       "      <td>Wii</td>\n",
       "      <td>NaN</td>\n",
       "      <td>Misc</td>\n",
       "      <td>1.33</td>\n",
       "      <td>0.56</td>\n",
       "      <td>0.00</td>\n",
       "      <td>0.20</td>\n",
       "      <td>80.0</td>\n",
       "      <td>6.3</td>\n",
       "      <td>T</td>\n",
       "    </tr>\n",
       "    <tr>\n",
       "      <td>1131</td>\n",
       "      <td>call of duty: black ops</td>\n",
       "      <td>PC</td>\n",
       "      <td>NaN</td>\n",
       "      <td>Shooter</td>\n",
       "      <td>0.58</td>\n",
       "      <td>0.81</td>\n",
       "      <td>0.00</td>\n",
       "      <td>0.23</td>\n",
       "      <td>81.0</td>\n",
       "      <td>5.2</td>\n",
       "      <td>M</td>\n",
       "    </tr>\n",
       "    <tr>\n",
       "      <td>1142</td>\n",
       "      <td>rock band</td>\n",
       "      <td>PS3</td>\n",
       "      <td>NaN</td>\n",
       "      <td>Misc</td>\n",
       "      <td>0.99</td>\n",
       "      <td>0.41</td>\n",
       "      <td>0.00</td>\n",
       "      <td>0.22</td>\n",
       "      <td>92.0</td>\n",
       "      <td>8.4</td>\n",
       "      <td>T</td>\n",
       "    </tr>\n",
       "    <tr>\n",
       "      <td>1301</td>\n",
       "      <td>triple play 99</td>\n",
       "      <td>PS</td>\n",
       "      <td>NaN</td>\n",
       "      <td>Sports</td>\n",
       "      <td>0.81</td>\n",
       "      <td>0.55</td>\n",
       "      <td>0.00</td>\n",
       "      <td>0.10</td>\n",
       "      <td>NaN</td>\n",
       "      <td>NaN</td>\n",
       "      <td>NaN</td>\n",
       "    </tr>\n",
       "    <tr>\n",
       "      <td>1506</td>\n",
       "      <td>adventure</td>\n",
       "      <td>2600</td>\n",
       "      <td>NaN</td>\n",
       "      <td>Adventure</td>\n",
       "      <td>1.21</td>\n",
       "      <td>0.08</td>\n",
       "      <td>0.00</td>\n",
       "      <td>0.01</td>\n",
       "      <td>NaN</td>\n",
       "      <td>NaN</td>\n",
       "      <td>NaN</td>\n",
       "    </tr>\n",
       "    <tr>\n",
       "      <td>1538</td>\n",
       "      <td>lego batman: the videogame</td>\n",
       "      <td>PSP</td>\n",
       "      <td>NaN</td>\n",
       "      <td>Action</td>\n",
       "      <td>0.57</td>\n",
       "      <td>0.44</td>\n",
       "      <td>0.00</td>\n",
       "      <td>0.27</td>\n",
       "      <td>73.0</td>\n",
       "      <td>7.4</td>\n",
       "      <td>E10+</td>\n",
       "    </tr>\n",
       "  </tbody>\n",
       "</table>\n",
       "</div>"
      ],
      "text/plain": [
       "                                             name platform  year_of_release  \\\n",
       "183                               madden nfl 2004      PS2              NaN   \n",
       "377                              fifa soccer 2004      PS2              NaN   \n",
       "456                    lego batman: the videogame      Wii              NaN   \n",
       "475                    wwe smackdown vs. raw 2006      PS2              NaN   \n",
       "609                                space invaders     2600              NaN   \n",
       "627                                     rock band     X360              NaN   \n",
       "657      frogger's adventures: temple of the frog      GBA              NaN   \n",
       "678   lego indiana jones: the original adventures      Wii              NaN   \n",
       "719                                call of duty 3      Wii              NaN   \n",
       "805                                     rock band      Wii              NaN   \n",
       "1131                      call of duty: black ops       PC              NaN   \n",
       "1142                                    rock band      PS3              NaN   \n",
       "1301                               triple play 99       PS              NaN   \n",
       "1506                                    adventure     2600              NaN   \n",
       "1538                   lego batman: the videogame      PSP              NaN   \n",
       "\n",
       "          genre  na_sales  eu_sales  jp_sales  other_sales  critic_score  \\\n",
       "183      Sports      4.26      0.26      0.01         0.71          94.0   \n",
       "377      Sports      0.59      2.36      0.04         0.51          84.0   \n",
       "456      Action      1.80      0.97      0.00         0.29          74.0   \n",
       "475    Fighting      1.57      1.02      0.00         0.41           NaN   \n",
       "609     Shooter      2.36      0.14      0.00         0.03           NaN   \n",
       "627        Misc      1.93      0.33      0.00         0.21          92.0   \n",
       "657   Adventure      2.15      0.18      0.00         0.07          73.0   \n",
       "678      Action      1.51      0.61      0.00         0.21          78.0   \n",
       "719     Shooter      1.17      0.84      0.00         0.23          69.0   \n",
       "805        Misc      1.33      0.56      0.00         0.20          80.0   \n",
       "1131    Shooter      0.58      0.81      0.00         0.23          81.0   \n",
       "1142       Misc      0.99      0.41      0.00         0.22          92.0   \n",
       "1301     Sports      0.81      0.55      0.00         0.10           NaN   \n",
       "1506  Adventure      1.21      0.08      0.00         0.01           NaN   \n",
       "1538     Action      0.57      0.44      0.00         0.27          73.0   \n",
       "\n",
       "      user_score rating  \n",
       "183          8.5      E  \n",
       "377          6.4      E  \n",
       "456          7.9   E10+  \n",
       "475          NaN    NaN  \n",
       "609          NaN    NaN  \n",
       "627          8.2      T  \n",
       "657          NaN      E  \n",
       "678          6.6   E10+  \n",
       "719          6.7      T  \n",
       "805          6.3      T  \n",
       "1131         5.2      M  \n",
       "1142         8.4      T  \n",
       "1301         NaN    NaN  \n",
       "1506         NaN    NaN  \n",
       "1538         7.4   E10+  "
      ]
     },
     "execution_count": 14,
     "metadata": {},
     "output_type": "execute_result"
    }
   ],
   "source": [
    "# checking missing values in year_of_release\n",
    "game_data[game_data['year_of_release'].isna()].head(15)"
   ]
  },
  {
   "cell_type": "markdown",
   "metadata": {},
   "source": [
    "To fill the missing values here we have several options:\n",
    "1. Check for each game year of release manually on google (Most accurate)\n",
    "2. Try to determine the game's year of release by the game's name (For instance, fifa soccer 2004 is obviously released in 2004 or late 2003)\n",
    "3. Drop all of these rows.\n",
    "\n",
    "We don't really have much missing values in **year_of_release** so lets just go ahead and drop them all:"
   ]
  },
  {
   "cell_type": "code",
   "execution_count": 15,
   "metadata": {},
   "outputs": [],
   "source": [
    "# filling missing values of year_of_release\n",
    "game_data = game_data[~game_data['year_of_release'].isna()]"
   ]
  },
  {
   "cell_type": "markdown",
   "metadata": {},
   "source": [
    "<div class=\"alert alert-block alert-danger\">\n",
    "<s><b>Reviewer's comment v1</b> \n",
    "    \n",
    "Filling in missing values with averages is great practice and we will do this again in future projects!\n",
    "    \n",
    "In this case, in first solution, we could fill in the missing values with a stub. It was only necessary to filter the data with stubs during data analysis so that stubs would not introduce an error into the result.\n",
    "\n",
    "The second possible solution was to do nothing with the missing values and also filter them during the analysis. At this point, I just wanted to warn you about a possible problem in data analysis with the stub approach. All changes - filtering - we would need to make at the stage of using data when building graphs and testing hypotheses.\n",
    "    \n",
    "Could we choose one of the two approaches? stub with filtering or just filtering out missing values?\n",
    "</div>\n",
    "\n",
    "<div class=\"alert alert-block alert-info\">\n",
    "<b>Student answer.</b> <a class=\"tocSkip\"></a>\n",
    "\n",
    "Makes sense, glad to learn about this! Thanks for the tip, Alex. \n",
    "    \n",
    "    (CORRECTED)\n",
    "</div>\n",
    "    \n",
    "<div class=\"alert alert-block alert-danger\">\n",
    "<b>Reviewer's comment v2</b> \n",
    "    \n",
    "Could we convert the number of missing values to a percentage? \n",
    "    \n",
    "In such a case, we would see that for the columns year of release, genre, and name, the correct solution would be to remove the missing values. (so they don't affect accuracy) For critic and user ratings, we could use one of two approaches.\n",
    "</div>\n",
    "    \n",
    "<div class=\"alert alert-block alert-info\">\n",
    "<b>Student answer.</b> <a class=\"tocSkip\"></a>\n",
    "\n",
    "Oh I am sorry, I wasn't aware of what you were talking about at first since your comment was below the **year_of_release**'s code block.\n",
    "    \n",
    "Anyway, dropped columns with low percentages of missing values and filled missing values in the critic and user scores (and ratings) with stubs!\n",
    "    \n",
    "    (CORRECTED)\n",
    "</div>\n",
    "\n",
    "<div class=\"alert alert-block alert-success\">\n",
    "<b>Reviewer's comment v3</b> \n",
    "    \n",
    "Great job!\n",
    "</div>"
   ]
  },
  {
   "cell_type": "markdown",
   "metadata": {},
   "source": [
    "After we are finished with the **year_of_release**, we continue onto the 3 most problematic columns.\n",
    "\n",
    "How can we approach the missing values in the columns **user_score**, **critic_score** and **rating**?\n",
    "We are going to fill those values with a *stub value* which is a random value that we choose just to make the dataset look cleaner but when we reach the analysing part, we'll just filter the data according to these stub values."
   ]
  },
  {
   "cell_type": "code",
   "execution_count": 16,
   "metadata": {},
   "outputs": [
    {
     "data": {
      "text/plain": [
       "0"
      ]
     },
     "execution_count": 16,
     "metadata": {},
     "output_type": "execute_result"
    }
   ],
   "source": [
    "# filling missing values of the rating according to genre\n",
    "game_data['rating'] = game_data['rating'].fillna('N/A')\n",
    "game_data['rating'].isna().sum()"
   ]
  },
  {
   "cell_type": "code",
   "execution_count": 17,
   "metadata": {},
   "outputs": [
    {
     "data": {
      "text/html": [
       "<div>\n",
       "<style scoped>\n",
       "    .dataframe tbody tr th:only-of-type {\n",
       "        vertical-align: middle;\n",
       "    }\n",
       "\n",
       "    .dataframe tbody tr th {\n",
       "        vertical-align: top;\n",
       "    }\n",
       "\n",
       "    .dataframe thead th {\n",
       "        text-align: right;\n",
       "    }\n",
       "</style>\n",
       "<table border=\"1\" class=\"dataframe\">\n",
       "  <thead>\n",
       "    <tr style=\"text-align: right;\">\n",
       "      <th></th>\n",
       "      <th>name</th>\n",
       "      <th>platform</th>\n",
       "      <th>year_of_release</th>\n",
       "      <th>genre</th>\n",
       "      <th>na_sales</th>\n",
       "      <th>eu_sales</th>\n",
       "      <th>jp_sales</th>\n",
       "      <th>other_sales</th>\n",
       "      <th>critic_score</th>\n",
       "      <th>user_score</th>\n",
       "      <th>rating</th>\n",
       "      <th>total_sales</th>\n",
       "    </tr>\n",
       "  </thead>\n",
       "  <tbody>\n",
       "    <tr>\n",
       "      <td>0</td>\n",
       "      <td>wii sports</td>\n",
       "      <td>Wii</td>\n",
       "      <td>2006.0</td>\n",
       "      <td>Sports</td>\n",
       "      <td>41.36</td>\n",
       "      <td>28.96</td>\n",
       "      <td>3.77</td>\n",
       "      <td>8.45</td>\n",
       "      <td>76.0</td>\n",
       "      <td>8.0</td>\n",
       "      <td>E</td>\n",
       "      <td>82.54</td>\n",
       "    </tr>\n",
       "    <tr>\n",
       "      <td>1</td>\n",
       "      <td>super mario bros.</td>\n",
       "      <td>NES</td>\n",
       "      <td>1985.0</td>\n",
       "      <td>Platform</td>\n",
       "      <td>29.08</td>\n",
       "      <td>3.58</td>\n",
       "      <td>6.81</td>\n",
       "      <td>0.77</td>\n",
       "      <td>NaN</td>\n",
       "      <td>NaN</td>\n",
       "      <td>N/A</td>\n",
       "      <td>40.24</td>\n",
       "    </tr>\n",
       "    <tr>\n",
       "      <td>2</td>\n",
       "      <td>mario kart wii</td>\n",
       "      <td>Wii</td>\n",
       "      <td>2008.0</td>\n",
       "      <td>Racing</td>\n",
       "      <td>15.68</td>\n",
       "      <td>12.76</td>\n",
       "      <td>3.79</td>\n",
       "      <td>3.29</td>\n",
       "      <td>82.0</td>\n",
       "      <td>8.3</td>\n",
       "      <td>E</td>\n",
       "      <td>35.52</td>\n",
       "    </tr>\n",
       "    <tr>\n",
       "      <td>3</td>\n",
       "      <td>wii sports resort</td>\n",
       "      <td>Wii</td>\n",
       "      <td>2009.0</td>\n",
       "      <td>Sports</td>\n",
       "      <td>15.61</td>\n",
       "      <td>10.93</td>\n",
       "      <td>3.28</td>\n",
       "      <td>2.95</td>\n",
       "      <td>80.0</td>\n",
       "      <td>8.0</td>\n",
       "      <td>E</td>\n",
       "      <td>32.77</td>\n",
       "    </tr>\n",
       "    <tr>\n",
       "      <td>4</td>\n",
       "      <td>pokemon red/pokemon blue</td>\n",
       "      <td>GB</td>\n",
       "      <td>1996.0</td>\n",
       "      <td>Role-Playing</td>\n",
       "      <td>11.27</td>\n",
       "      <td>8.89</td>\n",
       "      <td>10.22</td>\n",
       "      <td>1.00</td>\n",
       "      <td>NaN</td>\n",
       "      <td>NaN</td>\n",
       "      <td>N/A</td>\n",
       "      <td>31.38</td>\n",
       "    </tr>\n",
       "  </tbody>\n",
       "</table>\n",
       "</div>"
      ],
      "text/plain": [
       "                       name platform  year_of_release         genre  na_sales  \\\n",
       "0                wii sports      Wii           2006.0        Sports     41.36   \n",
       "1         super mario bros.      NES           1985.0      Platform     29.08   \n",
       "2            mario kart wii      Wii           2008.0        Racing     15.68   \n",
       "3         wii sports resort      Wii           2009.0        Sports     15.61   \n",
       "4  pokemon red/pokemon blue       GB           1996.0  Role-Playing     11.27   \n",
       "\n",
       "   eu_sales  jp_sales  other_sales  critic_score  user_score rating  \\\n",
       "0     28.96      3.77         8.45          76.0         8.0      E   \n",
       "1      3.58      6.81         0.77           NaN         NaN    N/A   \n",
       "2     12.76      3.79         3.29          82.0         8.3      E   \n",
       "3     10.93      3.28         2.95          80.0         8.0      E   \n",
       "4      8.89     10.22         1.00           NaN         NaN    N/A   \n",
       "\n",
       "   total_sales  \n",
       "0        82.54  \n",
       "1        40.24  \n",
       "2        35.52  \n",
       "3        32.77  \n",
       "4        31.38  "
      ]
     },
     "execution_count": 17,
     "metadata": {},
     "output_type": "execute_result"
    }
   ],
   "source": [
    "# calculating the total_sales\n",
    "game_data['total_sales'] = game_data['na_sales'] + game_data['eu_sales'] + game_data['jp_sales'] + game_data['other_sales']\n",
    "game_data.head(5)"
   ]
  },
  {
   "cell_type": "markdown",
   "metadata": {},
   "source": [
    "<div class=\"alert alert-block alert-warning\">\n",
    "<b>Reviewer's comment v1</b> \n",
    "    \n",
    "We could make this simple task even better by trying \"df[['na_sales','eu_sales','jp_sales', 'other_sales']].sum(axis = 1)\"\n",
    "</div>\n",
    "\n",
    "<div class=\"alert alert-block alert-info\">\n",
    "<b>Student answer.</b> <a class=\"tocSkip\"></a>\n",
    "\n",
    "The materials that we consume weekly and on each sprint is very large honestly, It is hard to remember everything we've learned. Thanks for reminding me about this!\n",
    "</div>\n"
   ]
  },
  {
   "cell_type": "code",
   "execution_count": 18,
   "metadata": {},
   "outputs": [
    {
     "data": {
      "text/plain": [
       "name               0\n",
       "platform           0\n",
       "year_of_release    0\n",
       "genre              0\n",
       "na_sales           0\n",
       "eu_sales           0\n",
       "jp_sales           0\n",
       "other_sales        0\n",
       "critic_score       0\n",
       "user_score         0\n",
       "rating             0\n",
       "total_sales        0\n",
       "dtype: int64"
      ]
     },
     "execution_count": 18,
     "metadata": {},
     "output_type": "execute_result"
    }
   ],
   "source": [
    "# filling missing values of user_score and critic_score using the total_sales column\n",
    "game_data['critic_score'] = game_data['critic_score'].fillna(-1)\n",
    "game_data['user_score'] = game_data['user_score'].fillna(-1)\n",
    "game_data.isna().sum()"
   ]
  },
  {
   "cell_type": "markdown",
   "metadata": {},
   "source": [
    "<div class=\"alert alert-block alert-success\">\n",
    "<b>Reviewer's comment v3</b> \n",
    "    \n",
    "Well done!\n",
    "</div>"
   ]
  },
  {
   "cell_type": "code",
   "execution_count": 19,
   "metadata": {},
   "outputs": [
    {
     "name": "stdout",
     "output_type": "stream",
     "text": [
      "<class 'pandas.core.frame.DataFrame'>\n",
      "Int64Index: 16417 entries, 0 to 16714\n",
      "Data columns (total 12 columns):\n",
      "name               16417 non-null object\n",
      "platform           16417 non-null object\n",
      "year_of_release    16417 non-null float64\n",
      "genre              16417 non-null object\n",
      "na_sales           16417 non-null float64\n",
      "eu_sales           16417 non-null float64\n",
      "jp_sales           16417 non-null float64\n",
      "other_sales        16417 non-null float64\n",
      "critic_score       16417 non-null float64\n",
      "user_score         16417 non-null float64\n",
      "rating             16417 non-null object\n",
      "total_sales        16417 non-null float64\n",
      "dtypes: float64(8), object(4)\n",
      "memory usage: 1.6+ MB\n"
     ]
    },
    {
     "data": {
      "text/html": [
       "<div>\n",
       "<style scoped>\n",
       "    .dataframe tbody tr th:only-of-type {\n",
       "        vertical-align: middle;\n",
       "    }\n",
       "\n",
       "    .dataframe tbody tr th {\n",
       "        vertical-align: top;\n",
       "    }\n",
       "\n",
       "    .dataframe thead th {\n",
       "        text-align: right;\n",
       "    }\n",
       "</style>\n",
       "<table border=\"1\" class=\"dataframe\">\n",
       "  <thead>\n",
       "    <tr style=\"text-align: right;\">\n",
       "      <th></th>\n",
       "      <th>name</th>\n",
       "      <th>platform</th>\n",
       "      <th>year_of_release</th>\n",
       "      <th>genre</th>\n",
       "      <th>na_sales</th>\n",
       "      <th>eu_sales</th>\n",
       "      <th>jp_sales</th>\n",
       "      <th>other_sales</th>\n",
       "      <th>critic_score</th>\n",
       "      <th>user_score</th>\n",
       "      <th>rating</th>\n",
       "      <th>total_sales</th>\n",
       "    </tr>\n",
       "  </thead>\n",
       "  <tbody>\n",
       "    <tr>\n",
       "      <td>0</td>\n",
       "      <td>wii sports</td>\n",
       "      <td>Wii</td>\n",
       "      <td>2006.0</td>\n",
       "      <td>Sports</td>\n",
       "      <td>41.36</td>\n",
       "      <td>28.96</td>\n",
       "      <td>3.77</td>\n",
       "      <td>8.45</td>\n",
       "      <td>76.0</td>\n",
       "      <td>8.0</td>\n",
       "      <td>E</td>\n",
       "      <td>82.54</td>\n",
       "    </tr>\n",
       "    <tr>\n",
       "      <td>1</td>\n",
       "      <td>super mario bros.</td>\n",
       "      <td>NES</td>\n",
       "      <td>1985.0</td>\n",
       "      <td>Platform</td>\n",
       "      <td>29.08</td>\n",
       "      <td>3.58</td>\n",
       "      <td>6.81</td>\n",
       "      <td>0.77</td>\n",
       "      <td>-1.0</td>\n",
       "      <td>-1.0</td>\n",
       "      <td>N/A</td>\n",
       "      <td>40.24</td>\n",
       "    </tr>\n",
       "    <tr>\n",
       "      <td>2</td>\n",
       "      <td>mario kart wii</td>\n",
       "      <td>Wii</td>\n",
       "      <td>2008.0</td>\n",
       "      <td>Racing</td>\n",
       "      <td>15.68</td>\n",
       "      <td>12.76</td>\n",
       "      <td>3.79</td>\n",
       "      <td>3.29</td>\n",
       "      <td>82.0</td>\n",
       "      <td>8.3</td>\n",
       "      <td>E</td>\n",
       "      <td>35.52</td>\n",
       "    </tr>\n",
       "    <tr>\n",
       "      <td>3</td>\n",
       "      <td>wii sports resort</td>\n",
       "      <td>Wii</td>\n",
       "      <td>2009.0</td>\n",
       "      <td>Sports</td>\n",
       "      <td>15.61</td>\n",
       "      <td>10.93</td>\n",
       "      <td>3.28</td>\n",
       "      <td>2.95</td>\n",
       "      <td>80.0</td>\n",
       "      <td>8.0</td>\n",
       "      <td>E</td>\n",
       "      <td>32.77</td>\n",
       "    </tr>\n",
       "    <tr>\n",
       "      <td>4</td>\n",
       "      <td>pokemon red/pokemon blue</td>\n",
       "      <td>GB</td>\n",
       "      <td>1996.0</td>\n",
       "      <td>Role-Playing</td>\n",
       "      <td>11.27</td>\n",
       "      <td>8.89</td>\n",
       "      <td>10.22</td>\n",
       "      <td>1.00</td>\n",
       "      <td>-1.0</td>\n",
       "      <td>-1.0</td>\n",
       "      <td>N/A</td>\n",
       "      <td>31.38</td>\n",
       "    </tr>\n",
       "    <tr>\n",
       "      <td>5</td>\n",
       "      <td>tetris</td>\n",
       "      <td>GB</td>\n",
       "      <td>1989.0</td>\n",
       "      <td>Puzzle</td>\n",
       "      <td>23.20</td>\n",
       "      <td>2.26</td>\n",
       "      <td>4.22</td>\n",
       "      <td>0.58</td>\n",
       "      <td>-1.0</td>\n",
       "      <td>-1.0</td>\n",
       "      <td>N/A</td>\n",
       "      <td>30.26</td>\n",
       "    </tr>\n",
       "    <tr>\n",
       "      <td>6</td>\n",
       "      <td>new super mario bros.</td>\n",
       "      <td>DS</td>\n",
       "      <td>2006.0</td>\n",
       "      <td>Platform</td>\n",
       "      <td>11.28</td>\n",
       "      <td>9.14</td>\n",
       "      <td>6.50</td>\n",
       "      <td>2.88</td>\n",
       "      <td>89.0</td>\n",
       "      <td>8.5</td>\n",
       "      <td>E</td>\n",
       "      <td>29.80</td>\n",
       "    </tr>\n",
       "    <tr>\n",
       "      <td>7</td>\n",
       "      <td>wii play</td>\n",
       "      <td>Wii</td>\n",
       "      <td>2006.0</td>\n",
       "      <td>Misc</td>\n",
       "      <td>13.96</td>\n",
       "      <td>9.18</td>\n",
       "      <td>2.93</td>\n",
       "      <td>2.84</td>\n",
       "      <td>58.0</td>\n",
       "      <td>6.6</td>\n",
       "      <td>E</td>\n",
       "      <td>28.91</td>\n",
       "    </tr>\n",
       "    <tr>\n",
       "      <td>8</td>\n",
       "      <td>new super mario bros. wii</td>\n",
       "      <td>Wii</td>\n",
       "      <td>2009.0</td>\n",
       "      <td>Platform</td>\n",
       "      <td>14.44</td>\n",
       "      <td>6.94</td>\n",
       "      <td>4.70</td>\n",
       "      <td>2.24</td>\n",
       "      <td>87.0</td>\n",
       "      <td>8.4</td>\n",
       "      <td>E</td>\n",
       "      <td>28.32</td>\n",
       "    </tr>\n",
       "    <tr>\n",
       "      <td>9</td>\n",
       "      <td>duck hunt</td>\n",
       "      <td>NES</td>\n",
       "      <td>1984.0</td>\n",
       "      <td>Shooter</td>\n",
       "      <td>26.93</td>\n",
       "      <td>0.63</td>\n",
       "      <td>0.28</td>\n",
       "      <td>0.47</td>\n",
       "      <td>-1.0</td>\n",
       "      <td>-1.0</td>\n",
       "      <td>N/A</td>\n",
       "      <td>28.31</td>\n",
       "    </tr>\n",
       "  </tbody>\n",
       "</table>\n",
       "</div>"
      ],
      "text/plain": [
       "                        name platform  year_of_release         genre  \\\n",
       "0                 wii sports      Wii           2006.0        Sports   \n",
       "1          super mario bros.      NES           1985.0      Platform   \n",
       "2             mario kart wii      Wii           2008.0        Racing   \n",
       "3          wii sports resort      Wii           2009.0        Sports   \n",
       "4   pokemon red/pokemon blue       GB           1996.0  Role-Playing   \n",
       "5                     tetris       GB           1989.0        Puzzle   \n",
       "6      new super mario bros.       DS           2006.0      Platform   \n",
       "7                   wii play      Wii           2006.0          Misc   \n",
       "8  new super mario bros. wii      Wii           2009.0      Platform   \n",
       "9                  duck hunt      NES           1984.0       Shooter   \n",
       "\n",
       "   na_sales  eu_sales  jp_sales  other_sales  critic_score  user_score rating  \\\n",
       "0     41.36     28.96      3.77         8.45          76.0         8.0      E   \n",
       "1     29.08      3.58      6.81         0.77          -1.0        -1.0    N/A   \n",
       "2     15.68     12.76      3.79         3.29          82.0         8.3      E   \n",
       "3     15.61     10.93      3.28         2.95          80.0         8.0      E   \n",
       "4     11.27      8.89     10.22         1.00          -1.0        -1.0    N/A   \n",
       "5     23.20      2.26      4.22         0.58          -1.0        -1.0    N/A   \n",
       "6     11.28      9.14      6.50         2.88          89.0         8.5      E   \n",
       "7     13.96      9.18      2.93         2.84          58.0         6.6      E   \n",
       "8     14.44      6.94      4.70         2.24          87.0         8.4      E   \n",
       "9     26.93      0.63      0.28         0.47          -1.0        -1.0    N/A   \n",
       "\n",
       "   total_sales  \n",
       "0        82.54  \n",
       "1        40.24  \n",
       "2        35.52  \n",
       "3        32.77  \n",
       "4        31.38  \n",
       "5        30.26  \n",
       "6        29.80  \n",
       "7        28.91  \n",
       "8        28.32  \n",
       "9        28.31  "
      ]
     },
     "execution_count": 19,
     "metadata": {},
     "output_type": "execute_result"
    }
   ],
   "source": [
    "# Taking a look at our final dataframe\n",
    "game_data.info()\n",
    "game_data.head(10)"
   ]
  },
  {
   "cell_type": "markdown",
   "metadata": {},
   "source": [
    "We've filled **critic_score** and **user_score** missing values with the value -1, this value doesn't appear in the original dataset thus when we filter it later when needed, we won't be filtered more data than needed. \n",
    "Same with **rating** column, we filled the missing values with **N/A** to filter it later when needed!\n",
    "\n",
    "### Checking clean data\n",
    "Finally, we reached to a point where we have zero missing values, lets look for duplicates, treat them and move on!"
   ]
  },
  {
   "cell_type": "code",
   "execution_count": 20,
   "metadata": {},
   "outputs": [
    {
     "data": {
      "text/plain": [
       "0"
      ]
     },
     "execution_count": 20,
     "metadata": {},
     "output_type": "execute_result"
    }
   ],
   "source": [
    "# checking for dups\n",
    "game_data.duplicated().sum()"
   ]
  },
  {
   "cell_type": "markdown",
   "metadata": {},
   "source": [
    "~Even with very small amount of total sales, it is not reasonable for a video-game to have a large difference between the **user_score** and **critic_score** (Divided by 10 obviously) of it. Therefore, we decided that it is more suitable to replace the **user_score** values with **critic_score** in these rows. (It is not much, so it doesn't have a great impact at the end product):~"
   ]
  },
  {
   "cell_type": "markdown",
   "metadata": {},
   "source": [
    "<div class=\"alert alert-block alert-success\">\n",
    "<b>Reviewer's comment v1</b> \n",
    "    \n",
    "Great idea to look at conflicting data!    \n",
    "\n",
    "</div>"
   ]
  },
  {
   "cell_type": "markdown",
   "metadata": {},
   "source": [
    "<div class=\"alert alert-block alert-danger\">\n",
    "<s><b>Reviewer's comment v1</b> \n",
    "    \n",
    "However, in this case, such a discrepancy in the assessment of users and critics is typical for the gaming industry (not often, but it happens). Could we keep these values?\n",
    "\n",
    "</div>\n",
    "\n",
    "<div class=\"alert alert-block alert-info\">\n",
    "<b>Student answer.</b> <a class=\"tocSkip\"></a>\n",
    "\n",
    "I'm totally aware of that, But because I found only few results with over 5.5 points difference, I thought, why not remove them since the majority doesn't have this oddity? But you are right, this can happen in the video-game industry in some occasions and its very reasonable to keep those rows of data!\n",
    "    \n",
    "    (CORRECTED)\n",
    "</div>\n",
    "\n",
    "<div class=\"alert alert-block alert-success\">\n",
    "<b>Reviewer's comment v2</b> \n",
    "    \n",
    "Right! \n",
    "    \n",
    "We really would like to know if we have conflict data. For example, in machine learning, when our model is trained without such data, we could get excellent accuracy. However, having released the model to production, we would be surprised to see a decrease in accuracy.\n",
    "\n",
    "</div>"
   ]
  },
  {
   "cell_type": "markdown",
   "metadata": {},
   "source": [
    "After all these efforts, we can finally say that we are ready to start working with, studying and analyzing our dataframe.\n",
    "\n",
    "### Conclusion\n",
    "**To conclude**:\n",
    "\n",
    "We have checked the unique values for each of the columns, to check if there are any strange/irrelevant values that shouldn't exist, we switched the column names and video-game names to lower-case and we dealt with all the missing values, duplicates (there wasn't any) and possibily incorrect values.\n",
    "By now, we have a clean dataframe that is ready for further studying and analyzing."
   ]
  },
  {
   "cell_type": "markdown",
   "metadata": {},
   "source": [
    "<div class=\"alert alert-block alert-success\">\n",
    "<b>Reviewer's comment v1</b> \n",
    "    \n",
    "Perfect!\n",
    "It is very important to sum up and evaluate whether everything was completed.\n",
    "\n",
    "</div>"
   ]
  },
  {
   "cell_type": "markdown",
   "metadata": {},
   "source": [
    "## Studying core parameters\n",
    "\n",
    "We'll start by looking at how many games were released in different years. Is the data for every period significant?\n",
    "Lets study this visually by using a histogram:\n",
    "\n",
    "### Sale distribution by the year"
   ]
  },
  {
   "cell_type": "code",
   "execution_count": 21,
   "metadata": {},
   "outputs": [
    {
     "data": {
      "text/plain": [
       "array([[<matplotlib.axes._subplots.AxesSubplot object at 0x7f485d007490>]],\n",
       "      dtype=object)"
      ]
     },
     "execution_count": 21,
     "metadata": {},
     "output_type": "execute_result"
    },
    {
     "data": {
      "image/png": "[encoded data removed]",
      "text/plain": [
       "<Figure size 720x540 with 1 Axes>"
      ]
     },
     "metadata": {
      "needs_background": "light"
     },
     "output_type": "display_data"
    }
   ],
   "source": [
    "# answering the question above with a histogram\n",
    "game_data.hist('year_of_release',bins=37, figsize=(10,7.5), range = (1970, 2016))"
   ]
  },
  {
   "cell_type": "markdown",
   "metadata": {},
   "source": [
    "Looking at the histogram, we can see that till the beginning of 2000 there were not as much releases as there was after 2000.\n",
    "Besides that the number of releases before 2000 were not significant, It is also way too far in the past to be of any relevance to our purpose. Therefore, from now on, we are going to be working with a new dataframe, a more relevant dataframe that includes only releases from 2013. (We chose 2013 because we consider anything older than 3 years irrelevant to the research)"
   ]
  },
  {
   "cell_type": "code",
   "execution_count": 22,
   "metadata": {},
   "outputs": [
    {
     "data": {
      "text/plain": [
       "2013.0"
      ]
     },
     "execution_count": 22,
     "metadata": {},
     "output_type": "execute_result"
    }
   ],
   "source": [
    "new_game_data = game_data.query('year_of_release >= 2013')\n",
    "new_game_data['year_of_release'].min()"
   ]
  },
  {
   "cell_type": "markdown",
   "metadata": {},
   "source": [
    "<div class=\"alert alert-block alert-danger\">\n",
    "<s><b>Reviewer's comment v1</b> \n",
    "    \n",
    "I would like to draw your attention to the fact that for the purpose of forecasting game sales for the next year, even traditional businesses rarely take data for more than 2-3 years. And in such a dynamically changing industry as computer games, it is completely dangerous to take too long a time interval - otherwise old and unnecessary trends will definitely come across.\n",
    "\n",
    "Could we change the time period for research (for example, take the last year) and check if the conclusions have changed?\n",
    "    \n",
    "</div>\n",
    "\n",
    "<div class=\"alert alert-block alert-info\">\n",
    "<b>Student's comment v1</b> \n",
    "    \n",
    "Wow, really? I didn't know about that. I actually thought 10 years wasn't even enough but then thought that anything more than 10 years is really irrelevant in this case. Turns out to be that even 10 years is too much, thanks for the tip!\n",
    "    \n",
    "    (CORRECTED)\n",
    "</div>"
   ]
  },
  {
   "cell_type": "markdown",
   "metadata": {},
   "source": [
    "<div class=\"alert alert-block alert-success\">\n",
    "<b>Reviewer's comment v2</b> \n",
    "    \n",
    "Yep!\n",
    "      \n",
    "    \n",
    "For example, a few years ago, one of the most popular genres was a battle royale, and in a couple of years, it has become a very significant genre. However, it just as quickly lost ground. In this case, even months could be critical for business!\n",
    "    \n",
    "</div>\n",
    "\n",
    "<div class=\"alert alert-block alert-info\">\n",
    "<b>Student's comment v1</b> \n",
    "    \n",
    "Good example!\n",
    "</div>"
   ]
  },
  {
   "cell_type": "markdown",
   "metadata": {},
   "source": [
    "Other than **year_of_release**, we also need to check how each platform performed in general and then see the distribution of each platform per year. This way we can check which platforms are still relevant till this day (No platform can last forever, every platform will eventually halt and die, therefore we shouldn't consider data of dead or inactive platforms in our research). \n",
    "\n",
    "### Total  sales distribution by platform\n",
    "Below we'll display the total sales by each platform to see which platforms had the most sales in the past 10 years:"
   ]
  },
  {
   "cell_type": "code",
   "execution_count": 23,
   "metadata": {},
   "outputs": [
    {
     "data": {
      "text/plain": [
       "<matplotlib.axes._subplots.AxesSubplot at 0x7f485ceb3490>"
      ]
     },
     "execution_count": 23,
     "metadata": {},
     "output_type": "execute_result"
    },
    {
     "data": {
      "image/png": "[encoded data removed]",
      "text/plain": [
       "<Figure size 720x360 with 1 Axes>"
      ]
     },
     "metadata": {
      "needs_background": "light"
     },
     "output_type": "display_data"
    }
   ],
   "source": [
    "# group data by total sales and show in a plot\n",
    "new_data_grouped = new_game_data.groupby('platform')['total_sales'].sum().sort_values(ascending=False)\n",
    "new_data_grouped.plot(kind='bar', figsize=(10,5))"
   ]
  },
  {
   "cell_type": "markdown",
   "metadata": {},
   "source": [
    "We can clearly see that XOne, PS4 and PS3 had the most sales. Reaching over 150 USD while the rest lie below the 150M USD line.\n",
    "But this doesn't mean that these platforms are the most relevant nowadays. To check that, we have to check the distribution for each platform per year, to see which platform had died and which is still going strong!\n",
    "\n",
    "But first, lets choose only the most successful platforms (and their ascenders to compare between generations) to move forward with our research. They already have the most sales, lets check if they are still relevant to this day as well:"
   ]
  },
  {
   "cell_type": "code",
   "execution_count": 24,
   "metadata": {},
   "outputs": [],
   "source": [
    "# Filtering the data to only include the 7 top platforms\n",
    "new_game_data = new_game_data.query('platform == \"PS4\" or platform == \"X360\" or platform == \"PS3\" or platform == \"XOne\" or platform == \"3Ds\"')"
   ]
  },
  {
   "cell_type": "code",
   "execution_count": 25,
   "metadata": {},
   "outputs": [
    {
     "data": {
      "image/png": "[encoded data removed]",
      "text/plain": [
       "<Figure size 1008x360 with 1 Axes>"
      ]
     },
     "metadata": {
      "needs_background": "light"
     },
     "output_type": "display_data"
    }
   ],
   "source": [
    "# displaying the distribution of top platforms per year\n",
    "game_data_top_grouped = new_game_data.groupby(['platform', 'year_of_release'])['total_sales'].sum().reset_index().sort_values(by='year_of_release')\n",
    "plt.figure(figsize=(14,5))\n",
    "ax = sns.lineplot(data=game_data_top_grouped, x=\"year_of_release\", y=\"total_sales\", hue=\"platform\")"
   ]
  },
  {
   "cell_type": "markdown",
   "metadata": {},
   "source": [
    "Judging by the graph, despite that PS3 and X360 were second and forth in sales but nowadays these platforms are almost inactive/dead. While the first and third (PS4 and Xbox One) are actually still thriving and relevant!\n",
    "\n",
    "Below we look at a graph that includes the current and previous generations of the most popular platforms, the purpose of the graph below is to calculate how much time does it take for a platform generation to appear and die for the next generation to come and replace it."
   ]
  },
  {
   "cell_type": "code",
   "execution_count": 26,
   "metadata": {},
   "outputs": [
    {
     "data": {
      "image/png": "[encoded data removed]",
      "text/plain": [
       "<Figure size 1008x360 with 1 Axes>"
      ]
     },
     "metadata": {
      "needs_background": "light"
     },
     "output_type": "display_data"
    }
   ],
   "source": [
    "# displaying the distribution of each platform per year\n",
    "game_data_grouped = game_data.query('(platform == \"XOne\" or platform == \"X360\" or platform == \"PS3\" or platform == \"PS4\" or platform == \"Wii\" or platform == \"WiiU\") and year_of_release > 0').groupby(['platform', 'year_of_release'])['total_sales'].sum().reset_index().sort_values(by='year_of_release')\n",
    "plt.figure(figsize=(14,5))\n",
    "ax = sns.lineplot(data=game_data_grouped, x=\"year_of_release\", y=\"total_sales\", hue=\"platform\")"
   ]
  },
  {
   "cell_type": "markdown",
   "metadata": {},
   "source": [
    "Looking at the graph above, we can see that new generations of platforms were released only after the old generations were dropping in popularity. For instance, lets take a look at PS3-PS4 (Orange, Brown), PS4 was only introduced after the popularity of the PS3 was dropping very low. Same with Xbox One and Xbox 360 (Purple, Blue) The Purple line (XOne) only started appearing when the blue line (X360) was dropping down in sales. Sames goes for Wii and WiiU. The 3 old generations were introduced in the years 2005-2006, peaked around the years 2008-2011, right after, their popularity started dropping which lead for the new generations to be introduced, in 2013, 7 years later."
   ]
  },
  {
   "cell_type": "markdown",
   "metadata": {},
   "source": [
    "Below we also have a boxplot that describes the global sales of all games broken down by platform. Is there any significant findings that can be found to add to everything we've found so far?"
   ]
  },
  {
   "cell_type": "code",
   "execution_count": 27,
   "metadata": {},
   "outputs": [
    {
     "data": {
      "text/plain": [
       "<matplotlib.axes._subplots.AxesSubplot at 0x7f4854445bd0>"
      ]
     },
     "execution_count": 27,
     "metadata": {},
     "output_type": "execute_result"
    },
    {
     "data": {
      "image/png": "[encoded data removed]",
      "text/plain": [
       "<Figure size 1008x720 with 1 Axes>"
      ]
     },
     "metadata": {
      "needs_background": "light"
     },
     "output_type": "display_data"
    }
   ],
   "source": [
    "plt.figure(figsize=(14,10))\n",
    "sns.boxplot (x='platform' ,y='total_sales' ,data=game_data_grouped, showfliers = False)"
   ]
  },
  {
   "cell_type": "markdown",
   "metadata": {},
   "source": [
    "<div class=\"alert alert-block alert-success\">\n",
    "<b>Reviewer's comment v1</b> \n",
    "    \n",
    "\n",
    "Great charts!\n",
    "    \n",
    "    \n",
    "</div>"
   ]
  },
  {
   "cell_type": "markdown",
   "metadata": {},
   "source": [
    "Looking at the plotbox of th 4 most popular platforms, we can learn a couple things. First, we can learn how PS4 had the most sales, by a long distance, than all the other platforms. This can be explained by the relatively high median, Q1 and Q3, meaning up to 50% of the data for this platform were of high values.\n",
    "\n",
    "Next we see that both PS3 and X360 had relatively low medians but they had quite alot of outliers of high values that contributed to their high total sales.\n",
    "\n",
    "**To sum up:**\n",
    "\n",
    "Most games were released/highest sales happened after 2000, and due to the irrelevance of the far past to our research, we filtered our data to only include data from 2013 and beyond. Investigating those years, we found out that PS3 and X360 had the most sales during 2008 to 2013 until new generations, XOne and PS4 were released and took over the old generations.\n",
    "We also found out that PS4 had high global sales due to having too many titles with relatively high sales while the X360 and PS3 success was due to outliers, titles with abnormally high sales, that contributed to the high total sales of this platform."
   ]
  },
  {
   "cell_type": "markdown",
   "metadata": {},
   "source": [
    "### User and critic ratings impact on sales\n",
    "\n",
    "Does the user and critic reviews and scores have an impact on the total sales of a platform? or maybe on a specific genre?\n",
    "Did the user and critic reviews affect the sales at all? Lets check this by looking at the scatterplot of the PS3 total sales below:"
   ]
  },
  {
   "cell_type": "code",
   "execution_count": 28,
   "metadata": {},
   "outputs": [
    {
     "data": {
      "image/png": "[encoded data removed]",
      "text/plain": [
       "<Figure size 864x360 with 1 Axes>"
      ]
     },
     "metadata": {
      "needs_background": "light"
     },
     "output_type": "display_data"
    }
   ],
   "source": [
    "# checkings correlation between critic score to total sales of ps4 EXCULDING rows with -1 as a score\n",
    "ps4_data = new_game_data.query('platform == \"PS4\" and critic_score > -1 and user_score > -1')\n",
    "ps4_data.plot.scatter(x = 'critic_score' , y = 'total_sales', figsize = (12,5))\n",
    "plt.title('How critics\\' scores affect sales in PS4')\n",
    "plt.show()"
   ]
  },
  {
   "cell_type": "code",
   "execution_count": 29,
   "metadata": {},
   "outputs": [
    {
     "data": {
      "image/png": "[encoded data removed]",
      "text/plain": [
       "<Figure size 864x360 with 1 Axes>"
      ]
     },
     "metadata": {
      "needs_background": "light"
     },
     "output_type": "display_data"
    }
   ],
   "source": [
    "# checkings correlation between user score to total sales of ps4\n",
    "ps4_data.plot.scatter(x = 'user_score' , y = 'total_sales', figsize = (12,5))\n",
    "plt.title('How users\\' scores affect sales in PS4')\n",
    "plt.show()"
   ]
  },
  {
   "cell_type": "code",
   "execution_count": 30,
   "metadata": {},
   "outputs": [
    {
     "data": {
      "text/html": [
       "<div>\n",
       "<style scoped>\n",
       "    .dataframe tbody tr th:only-of-type {\n",
       "        vertical-align: middle;\n",
       "    }\n",
       "\n",
       "    .dataframe tbody tr th {\n",
       "        vertical-align: top;\n",
       "    }\n",
       "\n",
       "    .dataframe thead th {\n",
       "        text-align: right;\n",
       "    }\n",
       "</style>\n",
       "<table border=\"1\" class=\"dataframe\">\n",
       "  <thead>\n",
       "    <tr style=\"text-align: right;\">\n",
       "      <th></th>\n",
       "      <th>year_of_release</th>\n",
       "      <th>na_sales</th>\n",
       "      <th>eu_sales</th>\n",
       "      <th>jp_sales</th>\n",
       "      <th>other_sales</th>\n",
       "      <th>critic_score</th>\n",
       "      <th>user_score</th>\n",
       "      <th>total_sales</th>\n",
       "    </tr>\n",
       "  </thead>\n",
       "  <tbody>\n",
       "    <tr>\n",
       "      <td>year_of_release</td>\n",
       "      <td>1.000000</td>\n",
       "      <td>-0.261760</td>\n",
       "      <td>-0.191355</td>\n",
       "      <td>-0.122830</td>\n",
       "      <td>-0.232177</td>\n",
       "      <td>-0.019983</td>\n",
       "      <td>0.150315</td>\n",
       "      <td>-0.234400</td>\n",
       "    </tr>\n",
       "    <tr>\n",
       "      <td>na_sales</td>\n",
       "      <td>-0.261760</td>\n",
       "      <td>1.000000</td>\n",
       "      <td>0.714988</td>\n",
       "      <td>0.530480</td>\n",
       "      <td>0.915292</td>\n",
       "      <td>0.414241</td>\n",
       "      <td>-0.022577</td>\n",
       "      <td>0.893807</td>\n",
       "    </tr>\n",
       "    <tr>\n",
       "      <td>eu_sales</td>\n",
       "      <td>-0.191355</td>\n",
       "      <td>0.714988</td>\n",
       "      <td>1.000000</td>\n",
       "      <td>0.519826</td>\n",
       "      <td>0.935136</td>\n",
       "      <td>0.346044</td>\n",
       "      <td>-0.050671</td>\n",
       "      <td>0.951656</td>\n",
       "    </tr>\n",
       "    <tr>\n",
       "      <td>jp_sales</td>\n",
       "      <td>-0.122830</td>\n",
       "      <td>0.530480</td>\n",
       "      <td>0.519826</td>\n",
       "      <td>1.000000</td>\n",
       "      <td>0.566734</td>\n",
       "      <td>0.322057</td>\n",
       "      <td>0.174512</td>\n",
       "      <td>0.592214</td>\n",
       "    </tr>\n",
       "    <tr>\n",
       "      <td>other_sales</td>\n",
       "      <td>-0.232177</td>\n",
       "      <td>0.915292</td>\n",
       "      <td>0.935136</td>\n",
       "      <td>0.566734</td>\n",
       "      <td>1.000000</td>\n",
       "      <td>0.408465</td>\n",
       "      <td>-0.037332</td>\n",
       "      <td>0.997798</td>\n",
       "    </tr>\n",
       "    <tr>\n",
       "      <td>critic_score</td>\n",
       "      <td>-0.019983</td>\n",
       "      <td>0.414241</td>\n",
       "      <td>0.346044</td>\n",
       "      <td>0.322057</td>\n",
       "      <td>0.408465</td>\n",
       "      <td>1.000000</td>\n",
       "      <td>0.557654</td>\n",
       "      <td>0.405895</td>\n",
       "    </tr>\n",
       "    <tr>\n",
       "      <td>user_score</td>\n",
       "      <td>0.150315</td>\n",
       "      <td>-0.022577</td>\n",
       "      <td>-0.050671</td>\n",
       "      <td>0.174512</td>\n",
       "      <td>-0.037332</td>\n",
       "      <td>0.557654</td>\n",
       "      <td>1.000000</td>\n",
       "      <td>-0.033625</td>\n",
       "    </tr>\n",
       "    <tr>\n",
       "      <td>total_sales</td>\n",
       "      <td>-0.234400</td>\n",
       "      <td>0.893807</td>\n",
       "      <td>0.951656</td>\n",
       "      <td>0.592214</td>\n",
       "      <td>0.997798</td>\n",
       "      <td>0.405895</td>\n",
       "      <td>-0.033625</td>\n",
       "      <td>1.000000</td>\n",
       "    </tr>\n",
       "  </tbody>\n",
       "</table>\n",
       "</div>"
      ],
      "text/plain": [
       "                 year_of_release  na_sales  eu_sales  jp_sales  other_sales  \\\n",
       "year_of_release         1.000000 -0.261760 -0.191355 -0.122830    -0.232177   \n",
       "na_sales               -0.261760  1.000000  0.714988  0.530480     0.915292   \n",
       "eu_sales               -0.191355  0.714988  1.000000  0.519826     0.935136   \n",
       "jp_sales               -0.122830  0.530480  0.519826  1.000000     0.566734   \n",
       "other_sales            -0.232177  0.915292  0.935136  0.566734     1.000000   \n",
       "critic_score           -0.019983  0.414241  0.346044  0.322057     0.408465   \n",
       "user_score              0.150315 -0.022577 -0.050671  0.174512    -0.037332   \n",
       "total_sales            -0.234400  0.893807  0.951656  0.592214     0.997798   \n",
       "\n",
       "                 critic_score  user_score  total_sales  \n",
       "year_of_release     -0.019983    0.150315    -0.234400  \n",
       "na_sales             0.414241   -0.022577     0.893807  \n",
       "eu_sales             0.346044   -0.050671     0.951656  \n",
       "jp_sales             0.322057    0.174512     0.592214  \n",
       "other_sales          0.408465   -0.037332     0.997798  \n",
       "critic_score         1.000000    0.557654     0.405895  \n",
       "user_score           0.557654    1.000000    -0.033625  \n",
       "total_sales          0.405895   -0.033625     1.000000  "
      ]
     },
     "execution_count": 30,
     "metadata": {},
     "output_type": "execute_result"
    }
   ],
   "source": [
    "ps4_data.corr()"
   ]
  },
  {
   "cell_type": "markdown",
   "metadata": {},
   "source": [
    "It is very obvious from the graph that total sales don't have a relation with **critic_score** and **user_score**. We can see that titles with really low scores of both users and critics weren't really popular but once we start talking about the high scores of users and critics, we can only see dots scattered everywhere without a real relation.\n",
    "\n",
    "This conclusion can be also confirmed by the correlation matrix, if we look at the correlation between **critic_scores**, **user_scores** and **total_sales** we can see that the correlation between them is weak."
   ]
  },
  {
   "cell_type": "markdown",
   "metadata": {},
   "source": [
    "<div class=\"alert alert-block alert-danger\">\n",
    "<s><b>Reviewer's comment v1</b> \n",
    "    \n",
    "We wouldn't say that there is a strong relationship between total sales and critic scores. Rather weak. To verify this, could we build a similar graph for other platforms?\n",
    "\n",
    "We could read more about correlation and its meaning here:\n",
    "    \n",
    "https://medium.com/brdata/correlation-straight-to-the-point-e692ab601f4c\n",
    "\n",
    "</div>\n",
    "\n",
    "<div class=\"alert alert-block alert-info\">\n",
    "<b>Student's comment</b> \n",
    "    \n",
    "I really appreciate the link that you sent! I updated the code above and the conclusions respectively!\n",
    "    \n",
    "    (CORRECTED)\n",
    "\n",
    "</div>\n",
    "\n",
    "<div class=\"alert alert-block alert-success\">\n",
    "<b>Reviewer's comment v2</b> \n",
    "    \n",
    "Glad to help!\n",
    "\n",
    "</div>"
   ]
  },
  {
   "cell_type": "markdown",
   "metadata": {},
   "source": [
    "### Total sales by Genre\n",
    "\n",
    "Just like any other factor that we already investigated, genres can also have an impact on the sales of regions or the total sales in general.  We can check if there's actually an impact on total sales by genre in the table below:"
   ]
  },
  {
   "cell_type": "code",
   "execution_count": 31,
   "metadata": {},
   "outputs": [
    {
     "data": {
      "text/html": [
       "<div>\n",
       "<style scoped>\n",
       "    .dataframe tbody tr th:only-of-type {\n",
       "        vertical-align: middle;\n",
       "    }\n",
       "\n",
       "    .dataframe tbody tr th {\n",
       "        vertical-align: top;\n",
       "    }\n",
       "\n",
       "    .dataframe thead th {\n",
       "        text-align: right;\n",
       "    }\n",
       "</style>\n",
       "<table border=\"1\" class=\"dataframe\">\n",
       "  <thead>\n",
       "    <tr style=\"text-align: right;\">\n",
       "      <th></th>\n",
       "      <th>genre</th>\n",
       "      <th>total_sales</th>\n",
       "    </tr>\n",
       "  </thead>\n",
       "  <tbody>\n",
       "    <tr>\n",
       "      <td>5</td>\n",
       "      <td>Puzzle</td>\n",
       "      <td>0.06</td>\n",
       "    </tr>\n",
       "    <tr>\n",
       "      <td>11</td>\n",
       "      <td>Strategy</td>\n",
       "      <td>1.93</td>\n",
       "    </tr>\n",
       "    <tr>\n",
       "      <td>9</td>\n",
       "      <td>Simulation</td>\n",
       "      <td>3.52</td>\n",
       "    </tr>\n",
       "    <tr>\n",
       "      <td>4</td>\n",
       "      <td>Platform</td>\n",
       "      <td>14.09</td>\n",
       "    </tr>\n",
       "    <tr>\n",
       "      <td>1</td>\n",
       "      <td>Adventure</td>\n",
       "      <td>15.26</td>\n",
       "    </tr>\n",
       "    <tr>\n",
       "      <td>2</td>\n",
       "      <td>Fighting</td>\n",
       "      <td>19.70</td>\n",
       "    </tr>\n",
       "    <tr>\n",
       "      <td>6</td>\n",
       "      <td>Racing</td>\n",
       "      <td>31.46</td>\n",
       "    </tr>\n",
       "    <tr>\n",
       "      <td>3</td>\n",
       "      <td>Misc</td>\n",
       "      <td>36.47</td>\n",
       "    </tr>\n",
       "    <tr>\n",
       "      <td>7</td>\n",
       "      <td>Role-Playing</td>\n",
       "      <td>60.46</td>\n",
       "    </tr>\n",
       "    <tr>\n",
       "      <td>10</td>\n",
       "      <td>Sports</td>\n",
       "      <td>140.66</td>\n",
       "    </tr>\n",
       "    <tr>\n",
       "      <td>8</td>\n",
       "      <td>Shooter</td>\n",
       "      <td>216.16</td>\n",
       "    </tr>\n",
       "    <tr>\n",
       "      <td>0</td>\n",
       "      <td>Action</td>\n",
       "      <td>251.92</td>\n",
       "    </tr>\n",
       "  </tbody>\n",
       "</table>\n",
       "</div>"
      ],
      "text/plain": [
       "           genre  total_sales\n",
       "5         Puzzle         0.06\n",
       "11      Strategy         1.93\n",
       "9     Simulation         3.52\n",
       "4       Platform        14.09\n",
       "1      Adventure        15.26\n",
       "2       Fighting        19.70\n",
       "6         Racing        31.46\n",
       "3           Misc        36.47\n",
       "7   Role-Playing        60.46\n",
       "10        Sports       140.66\n",
       "8        Shooter       216.16\n",
       "0         Action       251.92"
      ]
     },
     "metadata": {},
     "output_type": "display_data"
    },
    {
     "data": {
      "text/plain": [
       "([<matplotlib.patches.Wedge at 0x7f4854548ad0>,\n",
       "  <matplotlib.patches.Wedge at 0x7f485cf594d0>,\n",
       "  <matplotlib.patches.Wedge at 0x7f485453a8d0>,\n",
       "  <matplotlib.patches.Wedge at 0x7f485453a890>,\n",
       "  <matplotlib.patches.Wedge at 0x7f485450b3d0>,\n",
       "  <matplotlib.patches.Wedge at 0x7f48544fac50>,\n",
       "  <matplotlib.patches.Wedge at 0x7f48544fad10>,\n",
       "  <matplotlib.patches.Wedge at 0x7f48546184d0>,\n",
       "  <matplotlib.patches.Wedge at 0x7f4854525f50>,\n",
       "  <matplotlib.patches.Wedge at 0x7f48544fa110>,\n",
       "  <matplotlib.patches.Wedge at 0x7f4854351f50>,\n",
       "  <matplotlib.patches.Wedge at 0x7f48545bc490>],\n",
       " [Text(2.199999937643086, 0.0005238037975819671, 'Puzzle'),\n",
       "  Text(2.1999272073726104, 0.017896431536746013, 'Strategy'),\n",
       "  Text(2.1990257451946844, 0.0654658076476944, 'Simulation'),\n",
       "  Text(2.1890877035088363, 0.21884932338577054, 'Platform'),\n",
       "  Text(2.1488263402677017, 0.47174713499046855, 'Adventure'),\n",
       "  Text(2.0629465908386524, 0.7643633712751955, 'Fighting'),\n",
       "  Text(1.8664682152946408, 1.164601391590633, 'Racing'),\n",
       "  Text(1.4889238188990557, 1.6196005252885828, 'Misc'),\n",
       "  Text(0.7724208998221006, 2.0599431918181668, 'Role-Playing'),\n",
       "  Text(-0.9357537893325133, 1.9910712809314093, 'Sports'),\n",
       "  Text(-2.1115763864973065, -0.6174505356601276, 'Shooter'),\n",
       "  Text(1.1892727908355292, -1.850845814480037, 'Action')],\n",
       " [Text(1.1999999659871377, 0.0002857111623174366, '0.0%'),\n",
       "  Text(1.1999602949305146, 0.009761689929134187, '0.2%'),\n",
       "  Text(1.1994685882880094, 0.03570862235328785, '0.4%'),\n",
       "  Text(1.194047838277547, 0.11937235821042028, '1.8%'),\n",
       "  Text(1.1720870946914737, 0.2573166190857101, '1.9%'),\n",
       "  Text(1.1252435950029012, 0.4169254752410157, '2.5%'),\n",
       "  Text(1.018073571978895, 0.6352371226857997, '4.0%'),\n",
       "  Text(0.8121402648540302, 0.8834184683392269, '4.6%'),\n",
       "  Text(0.4213204908120548, 1.1236053773553636, '7.6%'),\n",
       "  Text(-0.5104111578177345, 1.0860388805080412, '17.8%'),\n",
       "  Text(-1.1517689380894398, -0.33679120126916046, '27.3%'),\n",
       "  Text(0.6486942495466522, -1.0095522624436566, '31.8%')])"
      ]
     },
     "execution_count": 31,
     "metadata": {},
     "output_type": "execute_result"
    },
    {
     "data": {
      "image/png": "[encoded data removed]",
      "text/plain": [
       "<Figure size 432x288 with 1 Axes>"
      ]
     },
     "metadata": {},
     "output_type": "display_data"
    }
   ],
   "source": [
    "# grouping data by genre\n",
    "game_data_grouped_genre_sales = new_game_data.groupby('genre')['total_sales'].sum().reset_index().sort_values(by='total_sales')\n",
    "display(game_data_grouped_genre_sales)\n",
    "plt.pie(data = game_data_grouped_genre_sales, x = 'total_sales', labels = 'genre', radius = 2, autopct='%1.1f%%')"
   ]
  },
  {
   "cell_type": "markdown",
   "metadata": {},
   "source": [
    "**Shooter, Sports and Action** were the genres with most sales, meaning they are the most profitable genres. While **Puzzle and Strategy** had the lest sales among all genres. This can be very reasonable, because Sports, Action and Shooter games are all games that doesn't require much thinking, it is very immersive and can be very far from our reality, all these factors could be the contributer to them being very popular and very profitable. Users play video-games to get seperated from their reality, from their jobs and from having to think and solve problems, those genres can offer them this. While on the other hand, Puzzle and strategy games require alot of thinking and focusing, something that you wouldn't want to do after a long day at work.\n",
    "\n",
    "**To sum up:**\n",
    "\n",
    "Video-games' total sales is not very dependent on the user and critic reviews. One factor that has a high impact on the total sales of video-games is genre. Appearently, some genres are much more profitable and successful than other genres, meaning; The video-game genre can be a determiner if your game will succeed or not."
   ]
  },
  {
   "cell_type": "markdown",
   "metadata": {},
   "source": [
    "<div class=\"alert alert-block alert-success\">\n",
    "<b>Reviewer's comment v1</b> \n",
    "    \n",
    "Good research!\n",
    "\n",
    "</div>"
   ]
  },
  {
   "cell_type": "markdown",
   "metadata": {},
   "source": [
    "## Create a user profile for each region\n",
    "\n",
    "To further expand our investigation, we are going to see how **platform**, **genre** and **rating** actually affect the regional sales, not just the total sales. To see if those factors had more impact one certain regions that others.\n",
    "\n",
    "We'll start by investigating the impact of **platform** on **na_sales, eu_sales and jp_sales**. Did the same platforms take the crown of sales in all regions? Or did different regions have different popular platforms. Lets look below:"
   ]
  },
  {
   "cell_type": "code",
   "execution_count": 32,
   "metadata": {},
   "outputs": [
    {
     "data": {
      "text/html": [
       "<div>\n",
       "<style scoped>\n",
       "    .dataframe tbody tr th:only-of-type {\n",
       "        vertical-align: middle;\n",
       "    }\n",
       "\n",
       "    .dataframe tbody tr th {\n",
       "        vertical-align: top;\n",
       "    }\n",
       "\n",
       "    .dataframe thead th {\n",
       "        text-align: right;\n",
       "    }\n",
       "</style>\n",
       "<table border=\"1\" class=\"dataframe\">\n",
       "  <thead>\n",
       "    <tr style=\"text-align: right;\">\n",
       "      <th></th>\n",
       "      <th>platform</th>\n",
       "      <th>na_sales</th>\n",
       "    </tr>\n",
       "  </thead>\n",
       "  <tbody>\n",
       "    <tr>\n",
       "      <td>2</td>\n",
       "      <td>PS3</td>\n",
       "      <td>22.05</td>\n",
       "    </tr>\n",
       "    <tr>\n",
       "      <td>0</td>\n",
       "      <td>3DS</td>\n",
       "      <td>22.64</td>\n",
       "    </tr>\n",
       "    <tr>\n",
       "      <td>8</td>\n",
       "      <td>X360</td>\n",
       "      <td>28.30</td>\n",
       "    </tr>\n",
       "    <tr>\n",
       "      <td>9</td>\n",
       "      <td>XOne</td>\n",
       "      <td>81.27</td>\n",
       "    </tr>\n",
       "    <tr>\n",
       "      <td>3</td>\n",
       "      <td>PS4</td>\n",
       "      <td>98.61</td>\n",
       "    </tr>\n",
       "  </tbody>\n",
       "</table>\n",
       "</div>"
      ],
      "text/plain": [
       "  platform  na_sales\n",
       "2      PS3     22.05\n",
       "0      3DS     22.64\n",
       "8     X360     28.30\n",
       "9     XOne     81.27\n",
       "3      PS4     98.61"
      ]
     },
     "metadata": {},
     "output_type": "display_data"
    },
    {
     "data": {
      "text/plain": [
       "([<matplotlib.patches.Wedge at 0x7f4854309090>,\n",
       "  <matplotlib.patches.Wedge at 0x7f4854309890>,\n",
       "  <matplotlib.patches.Wedge at 0x7f4854310090>,\n",
       "  <matplotlib.patches.Wedge at 0x7f4854310890>,\n",
       "  <matplotlib.patches.Wedge at 0x7f485431c2d0>],\n",
       " [Text(1.0589826734528085, 0.29758309314667497, 'PS3'),\n",
       "  Text(0.7430442675681009, 0.8111012368589907, '3DS'),\n",
       "  Text(0.11941111009447548, 1.0934994223985697, 'X360'),\n",
       "  Text(-1.044746920678182, 0.3442439131392979, 'XOne'),\n",
       "  Text(0.3727312349548137, -1.0349258072388858, 'PS4')],\n",
       " [Text(0.5776269127924409, 0.16231805080727724, '8.7%'),\n",
       "  Text(0.40529687321896407, 0.44241885646854034, '9.0%'),\n",
       "  Text(0.0651333327788048, 0.5964542303992197, '11.2%'),\n",
       "  Text(-0.5698619567335538, 0.18776940716688975, '32.1%'),\n",
       "  Text(0.20330794633898927, -0.564504985766665, '39.0%')])"
      ]
     },
     "execution_count": 32,
     "metadata": {},
     "output_type": "execute_result"
    },
    {
     "data": {
      "image/png": "[encoded data removed]",
      "text/plain": [
       "<Figure size 432x288 with 1 Axes>"
      ]
     },
     "metadata": {},
     "output_type": "display_data"
    }
   ],
   "source": [
    "# grouping na sales by platform\n",
    "game_data = game_data.query('year_of_release > 2013')\n",
    "games_grouped_plat_na = game_data.groupby(['platform'])['na_sales'].sum().reset_index().sort_values(by='na_sales').tail()\n",
    "display(games_grouped_plat_na)\n",
    "plt.pie(data = games_grouped_plat_na, x = 'na_sales', labels = 'platform', autopct='%1.1f%%')"
   ]
  },
  {
   "cell_type": "code",
   "execution_count": 33,
   "metadata": {},
   "outputs": [
    {
     "data": {
      "text/html": [
       "<div>\n",
       "<style scoped>\n",
       "    .dataframe tbody tr th:only-of-type {\n",
       "        vertical-align: middle;\n",
       "    }\n",
       "\n",
       "    .dataframe tbody tr th {\n",
       "        vertical-align: top;\n",
       "    }\n",
       "\n",
       "    .dataframe thead th {\n",
       "        text-align: right;\n",
       "    }\n",
       "</style>\n",
       "<table border=\"1\" class=\"dataframe\">\n",
       "  <thead>\n",
       "    <tr style=\"text-align: right;\">\n",
       "      <th></th>\n",
       "      <th>platform</th>\n",
       "      <th>eu_sales</th>\n",
       "    </tr>\n",
       "  </thead>\n",
       "  <tbody>\n",
       "    <tr>\n",
       "      <td>0</td>\n",
       "      <td>3DS</td>\n",
       "      <td>16.12</td>\n",
       "    </tr>\n",
       "    <tr>\n",
       "      <td>1</td>\n",
       "      <td>PC</td>\n",
       "      <td>17.97</td>\n",
       "    </tr>\n",
       "    <tr>\n",
       "      <td>2</td>\n",
       "      <td>PS3</td>\n",
       "      <td>25.54</td>\n",
       "    </tr>\n",
       "    <tr>\n",
       "      <td>9</td>\n",
       "      <td>XOne</td>\n",
       "      <td>46.25</td>\n",
       "    </tr>\n",
       "    <tr>\n",
       "      <td>3</td>\n",
       "      <td>PS4</td>\n",
       "      <td>130.04</td>\n",
       "    </tr>\n",
       "  </tbody>\n",
       "</table>\n",
       "</div>"
      ],
      "text/plain": [
       "  platform  eu_sales\n",
       "0      3DS     16.12\n",
       "1       PC     17.97\n",
       "2      PS3     25.54\n",
       "9     XOne     46.25\n",
       "3      PS4    130.04"
      ]
     },
     "metadata": {},
     "output_type": "display_data"
    },
    {
     "data": {
      "text/plain": [
       "([<matplotlib.patches.Wedge at 0x7f48542ea0d0>,\n",
       "  <matplotlib.patches.Wedge at 0x7f48542ea890>,\n",
       "  <matplotlib.patches.Wedge at 0x7f4854274090>,\n",
       "  <matplotlib.patches.Wedge at 0x7f4854274890>,\n",
       "  <matplotlib.patches.Wedge at 0x7f485427f2d0>],\n",
       " [Text(1.0747538711017366, 0.234316274620078, '3DS'),\n",
       "  Text(0.8631498721434543, 0.6818887726152548, 'PC'),\n",
       "  Text(0.3489332088773114, 1.0431901148604614, 'PS3'),\n",
       "  Text(-0.6508934057469342, 0.8867568857105971, 'XOne'),\n",
       "  Text(-0.17618544519562176, -1.085798641047787, 'PS4')],\n",
       " [Text(0.5862293842373109, 0.12780887706549707, '6.8%'),\n",
       "  Text(0.47080902116915685, 0.3719393305174117, '7.6%'),\n",
       "  Text(0.19032720484216983, 0.5690127899238879, '10.8%'),\n",
       "  Text(-0.355032766771055, 0.483685574023962, '19.6%'),\n",
       "  Text(-0.09610115192488458, -0.5922538042078836, '55.1%')])"
      ]
     },
     "execution_count": 33,
     "metadata": {},
     "output_type": "execute_result"
    },
    {
     "data": {
      "image/png": "[encoded data removed]",
      "text/plain": [
       "<Figure size 432x288 with 1 Axes>"
      ]
     },
     "metadata": {},
     "output_type": "display_data"
    }
   ],
   "source": [
    "# grouping eu sales by platform\n",
    "games_grouped_plat_eu = game_data.groupby(['platform'])['eu_sales'].sum().reset_index().sort_values(by='eu_sales').tail()\n",
    "display(games_grouped_plat_eu)\n",
    "plt.pie(data = games_grouped_plat_eu, x = 'eu_sales', labels = 'platform', autopct='%1.1f%%')"
   ]
  },
  {
   "cell_type": "code",
   "execution_count": 34,
   "metadata": {},
   "outputs": [
    {
     "data": {
      "text/html": [
       "<div>\n",
       "<style scoped>\n",
       "    .dataframe tbody tr th:only-of-type {\n",
       "        vertical-align: middle;\n",
       "    }\n",
       "\n",
       "    .dataframe tbody tr th {\n",
       "        vertical-align: top;\n",
       "    }\n",
       "\n",
       "    .dataframe thead th {\n",
       "        text-align: right;\n",
       "    }\n",
       "</style>\n",
       "<table border=\"1\" class=\"dataframe\">\n",
       "  <thead>\n",
       "    <tr style=\"text-align: right;\">\n",
       "      <th></th>\n",
       "      <th>platform</th>\n",
       "      <th>jp_sales</th>\n",
       "    </tr>\n",
       "  </thead>\n",
       "  <tbody>\n",
       "    <tr>\n",
       "      <td>7</td>\n",
       "      <td>WiiU</td>\n",
       "      <td>7.31</td>\n",
       "    </tr>\n",
       "    <tr>\n",
       "      <td>2</td>\n",
       "      <td>PS3</td>\n",
       "      <td>11.22</td>\n",
       "    </tr>\n",
       "    <tr>\n",
       "      <td>5</td>\n",
       "      <td>PSV</td>\n",
       "      <td>14.54</td>\n",
       "    </tr>\n",
       "    <tr>\n",
       "      <td>3</td>\n",
       "      <td>PS4</td>\n",
       "      <td>15.02</td>\n",
       "    </tr>\n",
       "    <tr>\n",
       "      <td>0</td>\n",
       "      <td>3DS</td>\n",
       "      <td>44.24</td>\n",
       "    </tr>\n",
       "  </tbody>\n",
       "</table>\n",
       "</div>"
      ],
      "text/plain": [
       "  platform  jp_sales\n",
       "7     WiiU      7.31\n",
       "2      PS3     11.22\n",
       "5      PSV     14.54\n",
       "3      PS4     15.02\n",
       "0      3DS     44.24"
      ]
     },
     "metadata": {},
     "output_type": "display_data"
    },
    {
     "data": {
      "text/plain": [
       "([<matplotlib.patches.Wedge at 0x7f485424c410>,\n",
       "  <matplotlib.patches.Wedge at 0x7f485424cbd0>,\n",
       "  <matplotlib.patches.Wedge at 0x7f48542553d0>,\n",
       "  <matplotlib.patches.Wedge at 0x7f4854255bd0>,\n",
       "  <matplotlib.patches.Wedge at 0x7f4854260610>],\n",
       " [Text(1.066149013495395, 0.2707882586501792, 'WiiU'),\n",
       "  Text(0.7015239550132736, 0.8472686354058757, 'PS3'),\n",
       "  Text(-0.20226507256332274, 1.0812441169416618, 'PSV'),\n",
       "  Text(-1.021503700060579, 0.40808110806866227, 'PS4'),\n",
       "  Text(0.07199784108215065, -1.0976412487144922, '3DS')],\n",
       " [Text(0.5815358255429427, 0.14770268653646138, '7.9%'),\n",
       "  Text(0.3826494300072401, 0.46214652840320486, '12.2%'),\n",
       "  Text(-0.11032640321635785, 0.5897695183318155, '15.7%'),\n",
       "  Text(-0.5571838363966793, 0.2225896953101794, '16.3%'),\n",
       "  Text(0.03927154968117308, -0.5987134083897229, '47.9%')])"
      ]
     },
     "execution_count": 34,
     "metadata": {},
     "output_type": "execute_result"
    },
    {
     "data": {
      "image/png": "[encoded data removed]",
      "text/plain": [
       "<Figure size 432x288 with 1 Axes>"
      ]
     },
     "metadata": {},
     "output_type": "display_data"
    }
   ],
   "source": [
    "# grouping jp sales by platform\n",
    "games_grouped_plat_jp = game_data.groupby(['platform'])['jp_sales'].sum().reset_index().sort_values(by='jp_sales').tail()\n",
    "display(games_grouped_plat_jp)\n",
    "plt.pie(data = games_grouped_plat_jp, x = 'jp_sales', labels = 'platform', autopct='%1.1f%%')"
   ]
  },
  {
   "cell_type": "markdown",
   "metadata": {},
   "source": [
    "Considering the high popularity of the top platforms globally, we'd expect them to be the top platforms regionally as well. Although some of them appear in the top platforms for each region, but not all of them appear as the top platforms in all regions. For instance, North America's sales look very similar for the global sales but when we look at the Japan sales, we can see that the distribution is a bit different, with 3DS as the top platform, followed by PS4 and PSV. Although we didn't expect that, but this can be very reasonable. PS4, Wii, 3Ds are are japanese products, therefore it is reasonable to be among the top platforms in Japan.\n",
    "\n",
    "**Next** we move on to see if there's a relation between genres and regional sales:"
   ]
  },
  {
   "cell_type": "code",
   "execution_count": 35,
   "metadata": {},
   "outputs": [
    {
     "data": {
      "text/html": [
       "<div>\n",
       "<style scoped>\n",
       "    .dataframe tbody tr th:only-of-type {\n",
       "        vertical-align: middle;\n",
       "    }\n",
       "\n",
       "    .dataframe tbody tr th {\n",
       "        vertical-align: top;\n",
       "    }\n",
       "\n",
       "    .dataframe thead th {\n",
       "        text-align: right;\n",
       "    }\n",
       "</style>\n",
       "<table border=\"1\" class=\"dataframe\">\n",
       "  <thead>\n",
       "    <tr style=\"text-align: right;\">\n",
       "      <th></th>\n",
       "      <th>genre</th>\n",
       "      <th>na_sales</th>\n",
       "    </tr>\n",
       "  </thead>\n",
       "  <tbody>\n",
       "    <tr>\n",
       "      <td>3</td>\n",
       "      <td>Misc</td>\n",
       "      <td>15.05</td>\n",
       "    </tr>\n",
       "    <tr>\n",
       "      <td>7</td>\n",
       "      <td>Role-Playing</td>\n",
       "      <td>33.47</td>\n",
       "    </tr>\n",
       "    <tr>\n",
       "      <td>10</td>\n",
       "      <td>Sports</td>\n",
       "      <td>46.13</td>\n",
       "    </tr>\n",
       "    <tr>\n",
       "      <td>0</td>\n",
       "      <td>Action</td>\n",
       "      <td>72.53</td>\n",
       "    </tr>\n",
       "    <tr>\n",
       "      <td>8</td>\n",
       "      <td>Shooter</td>\n",
       "      <td>79.02</td>\n",
       "    </tr>\n",
       "  </tbody>\n",
       "</table>\n",
       "</div>"
      ],
      "text/plain": [
       "           genre  na_sales\n",
       "3           Misc     15.05\n",
       "7   Role-Playing     33.47\n",
       "10        Sports     46.13\n",
       "0         Action     72.53\n",
       "8        Shooter     79.02"
      ]
     },
     "metadata": {},
     "output_type": "display_data"
    },
    {
     "data": {
      "text/plain": [
       "([<matplotlib.patches.Wedge at 0x7f48541ad750>,\n",
       "  <matplotlib.patches.Wedge at 0x7f48541adf10>,\n",
       "  <matplotlib.patches.Wedge at 0x7f48541b8710>,\n",
       "  <matplotlib.patches.Wedge at 0x7f48541b8f10>,\n",
       "  <matplotlib.patches.Wedge at 0x7f48541c4950>],\n",
       " [Text(1.0797779937629626, 0.20995114713959437, 'Misc'),\n",
       "  Text(0.7575123473127244, 0.7976058197310038, 'Role-Playing'),\n",
       "  Text(-0.27864053710877923, 1.0641237949974294, 'Sports'),\n",
       "  Text(-1.0781945550035719, -0.2179369210589382, 'Action'),\n",
       "  Text(0.5866101210464515, -0.9305313352519988, 'Shooter')],\n",
       " [Text(0.5889698147797977, 0.11451880753068783, '6.1%'),\n",
       "  Text(0.41318855307966784, 0.43505771985327474, '13.6%'),\n",
       "  Text(-0.15198574751387958, 0.5804311609076888, '18.7%'),\n",
       "  Text(-0.5881061209110391, -0.11887468421396627, '29.5%'),\n",
       "  Text(0.319969156934428, -0.5075625465010902, '32.1%')])"
      ]
     },
     "execution_count": 35,
     "metadata": {},
     "output_type": "execute_result"
    },
    {
     "data": {
      "image/png": "[encoded data removed]",
      "text/plain": [
       "<Figure size 432x288 with 1 Axes>"
      ]
     },
     "metadata": {},
     "output_type": "display_data"
    }
   ],
   "source": [
    "games_grouped_gnre_na = game_data.groupby(['genre'])['na_sales'].sum().reset_index().sort_values(by='na_sales').tail()\n",
    "display(games_grouped_gnre_na)\n",
    "plt.pie(data = games_grouped_gnre_na, x = 'na_sales', labels = 'genre', autopct='%1.1f%%')"
   ]
  },
  {
   "cell_type": "code",
   "execution_count": 36,
   "metadata": {},
   "outputs": [
    {
     "data": {
      "text/html": [
       "<div>\n",
       "<style scoped>\n",
       "    .dataframe tbody tr th:only-of-type {\n",
       "        vertical-align: middle;\n",
       "    }\n",
       "\n",
       "    .dataframe tbody tr th {\n",
       "        vertical-align: top;\n",
       "    }\n",
       "\n",
       "    .dataframe thead th {\n",
       "        text-align: right;\n",
       "    }\n",
       "</style>\n",
       "<table border=\"1\" class=\"dataframe\">\n",
       "  <thead>\n",
       "    <tr style=\"text-align: right;\">\n",
       "      <th></th>\n",
       "      <th>genre</th>\n",
       "      <th>eu_sales</th>\n",
       "    </tr>\n",
       "  </thead>\n",
       "  <tbody>\n",
       "    <tr>\n",
       "      <td>6</td>\n",
       "      <td>Racing</td>\n",
       "      <td>14.13</td>\n",
       "    </tr>\n",
       "    <tr>\n",
       "      <td>7</td>\n",
       "      <td>Role-Playing</td>\n",
       "      <td>28.17</td>\n",
       "    </tr>\n",
       "    <tr>\n",
       "      <td>10</td>\n",
       "      <td>Sports</td>\n",
       "      <td>45.73</td>\n",
       "    </tr>\n",
       "    <tr>\n",
       "      <td>8</td>\n",
       "      <td>Shooter</td>\n",
       "      <td>65.52</td>\n",
       "    </tr>\n",
       "    <tr>\n",
       "      <td>0</td>\n",
       "      <td>Action</td>\n",
       "      <td>74.68</td>\n",
       "    </tr>\n",
       "  </tbody>\n",
       "</table>\n",
       "</div>"
      ],
      "text/plain": [
       "           genre  eu_sales\n",
       "6         Racing     14.13\n",
       "7   Role-Playing     28.17\n",
       "10        Sports     45.73\n",
       "8        Shooter     65.52\n",
       "0         Action     74.68"
      ]
     },
     "metadata": {},
     "output_type": "display_data"
    },
    {
     "data": {
      "text/plain": [
       "([<matplotlib.patches.Wedge at 0x7f485418e9d0>,\n",
       "  <matplotlib.patches.Wedge at 0x7f485419c1d0>,\n",
       "  <matplotlib.patches.Wedge at 0x7f485419c990>,\n",
       "  <matplotlib.patches.Wedge at 0x7f48541a51d0>,\n",
       "  <matplotlib.patches.Wedge at 0x7f48541a5bd0>],\n",
       " [Text(1.079258897490935, 0.21260346231106367, 'Racing'),\n",
       "  Text(0.7845067511961606, 0.7710701377486003, 'Role-Playing'),\n",
       "  Text(-0.24348659499256806, 1.07271351164182, 'Sports'),\n",
       "  Text(-1.0814792802644457, -0.20100389637690247, 'Shooter'),\n",
       "  Text(0.5682118876787337, -0.9418785753485267, 'Action')],\n",
       " [Text(0.5886866713586917, 0.11596552489694381, '6.2%'),\n",
       "  Text(0.42791277337972394, 0.4205837114992365, '12.3%'),\n",
       "  Text(-0.13281086999594618, 0.5851164608955381, '20.0%'),\n",
       "  Text(-0.5898977892351521, -0.10963848893285588, '28.7%'),\n",
       "  Text(0.3099337569156729, -0.5137519501901054, '32.7%')])"
      ]
     },
     "execution_count": 36,
     "metadata": {},
     "output_type": "execute_result"
    },
    {
     "data": {
      "image/png": "[encoded data removed]",
      "text/plain": [
       "<Figure size 432x288 with 1 Axes>"
      ]
     },
     "metadata": {},
     "output_type": "display_data"
    }
   ],
   "source": [
    "games_grouped_gnre_eu = game_data.groupby(['genre'])['eu_sales'].sum().reset_index().sort_values(by='eu_sales').tail()\n",
    "display(games_grouped_gnre_eu)\n",
    "plt.pie(data = games_grouped_gnre_eu, x = 'eu_sales', labels = 'genre', autopct='%1.1f%%')"
   ]
  },
  {
   "cell_type": "code",
   "execution_count": 37,
   "metadata": {},
   "outputs": [
    {
     "data": {
      "text/html": [
       "<div>\n",
       "<style scoped>\n",
       "    .dataframe tbody tr th:only-of-type {\n",
       "        vertical-align: middle;\n",
       "    }\n",
       "\n",
       "    .dataframe tbody tr th {\n",
       "        vertical-align: top;\n",
       "    }\n",
       "\n",
       "    .dataframe thead th {\n",
       "        text-align: right;\n",
       "    }\n",
       "</style>\n",
       "<table border=\"1\" class=\"dataframe\">\n",
       "  <thead>\n",
       "    <tr style=\"text-align: right;\">\n",
       "      <th></th>\n",
       "      <th>genre</th>\n",
       "      <th>jp_sales</th>\n",
       "    </tr>\n",
       "  </thead>\n",
       "  <tbody>\n",
       "    <tr>\n",
       "      <td>8</td>\n",
       "      <td>Shooter</td>\n",
       "      <td>4.87</td>\n",
       "    </tr>\n",
       "    <tr>\n",
       "      <td>3</td>\n",
       "      <td>Misc</td>\n",
       "      <td>5.61</td>\n",
       "    </tr>\n",
       "    <tr>\n",
       "      <td>2</td>\n",
       "      <td>Fighting</td>\n",
       "      <td>6.37</td>\n",
       "    </tr>\n",
       "    <tr>\n",
       "      <td>0</td>\n",
       "      <td>Action</td>\n",
       "      <td>29.58</td>\n",
       "    </tr>\n",
       "    <tr>\n",
       "      <td>7</td>\n",
       "      <td>Role-Playing</td>\n",
       "      <td>31.16</td>\n",
       "    </tr>\n",
       "  </tbody>\n",
       "</table>\n",
       "</div>"
      ],
      "text/plain": [
       "          genre  jp_sales\n",
       "8       Shooter      4.87\n",
       "3          Misc      5.61\n",
       "2      Fighting      6.37\n",
       "0        Action     29.58\n",
       "7  Role-Playing     31.16"
      ]
     },
     "metadata": {},
     "output_type": "display_data"
    },
    {
     "data": {
      "text/plain": [
       "([<matplotlib.patches.Wedge at 0x7f48540efc50>,\n",
       "  <matplotlib.patches.Wedge at 0x7f48540fc450>,\n",
       "  <matplotlib.patches.Wedge at 0x7f48540fcc10>,\n",
       "  <matplotlib.patches.Wedge at 0x7f4854105450>,\n",
       "  <matplotlib.patches.Wedge at 0x7f4854105e50>],\n",
       " [Text(1.0786842195164292, 0.21550024261293094, 'Shooter'),\n",
       "  Text(0.8942961483712487, 0.6404954324648614, 'Misc'),\n",
       "  Text(0.4924920234924133, 0.9835911786897789, 'Fighting'),\n",
       "  Text(-0.9204662657980959, 0.6022805438727948, 'Action'),\n",
       "  Text(0.33466210533115015, -1.0478555603017634, 'Role-Playing')],\n",
       " [Text(0.588373210645325, 0.11754558687978049, '6.3%'),\n",
       "  Text(0.48779789911159016, 0.3493611449808334, '7.2%'),\n",
       "  Text(0.2686320128140436, 0.5365042792853338, '8.2%'),\n",
       "  Text(-0.5020725086171431, 0.3285166602942517, '38.1%'),\n",
       "  Text(0.18254296654426372, -0.5715575783464163, '40.2%')])"
      ]
     },
     "execution_count": 37,
     "metadata": {},
     "output_type": "execute_result"
    },
    {
     "data": {
      "image/png": "[encoded data removed]",
      "text/plain": [
       "<Figure size 432x288 with 1 Axes>"
      ]
     },
     "metadata": {},
     "output_type": "display_data"
    }
   ],
   "source": [
    "games_grouped_gnre_jp = game_data.groupby(['genre'])['jp_sales'].sum().reset_index().sort_values(by='jp_sales').tail()\n",
    "display(games_grouped_gnre_jp)\n",
    "plt.pie(data = games_grouped_gnre_jp, x = 'jp_sales', labels = 'genre', autopct='%1.1f%%')"
   ]
  },
  {
   "cell_type": "markdown",
   "metadata": {},
   "source": [
    "Just like results in the **platform** part, similarly here we see that the same genres sat at the top for the different regions. We can see that **shooter, sports and action**, the top 3 genres of the global sales, appear also on the regional sales as most profitable. Other than those 3 genres, we can see **Role-playinng**, **Racing** and **Misc** among the top 5 as well. For Japan and North America we have **RP and Misc** and for EU we have **Misc and Racing** and this slight difference could be due to the cultural differences of these regions. Again, we don't see anything special, the same genres that dominated global sales, are also dominating the regional sales, implying that regions doesn't really have a big impact on the popularity of a genre.\n",
    "\n",
    "Finally, we check if there's a relation between ESRB ratings and regional sales:"
   ]
  },
  {
   "cell_type": "code",
   "execution_count": 38,
   "metadata": {},
   "outputs": [
    {
     "data": {
      "text/html": [
       "<div>\n",
       "<style scoped>\n",
       "    .dataframe tbody tr th:only-of-type {\n",
       "        vertical-align: middle;\n",
       "    }\n",
       "\n",
       "    .dataframe tbody tr th {\n",
       "        vertical-align: top;\n",
       "    }\n",
       "\n",
       "    .dataframe thead th {\n",
       "        text-align: right;\n",
       "    }\n",
       "</style>\n",
       "<table border=\"1\" class=\"dataframe\">\n",
       "  <thead>\n",
       "    <tr style=\"text-align: right;\">\n",
       "      <th></th>\n",
       "      <th>rating</th>\n",
       "      <th>jp_sales</th>\n",
       "    </tr>\n",
       "  </thead>\n",
       "  <tbody>\n",
       "    <tr>\n",
       "      <td>1</td>\n",
       "      <td>E10+</td>\n",
       "      <td>4.46</td>\n",
       "    </tr>\n",
       "    <tr>\n",
       "      <td>2</td>\n",
       "      <td>M</td>\n",
       "      <td>8.01</td>\n",
       "    </tr>\n",
       "    <tr>\n",
       "      <td>0</td>\n",
       "      <td>E</td>\n",
       "      <td>8.94</td>\n",
       "    </tr>\n",
       "    <tr>\n",
       "      <td>3</td>\n",
       "      <td>T</td>\n",
       "      <td>14.78</td>\n",
       "    </tr>\n",
       "  </tbody>\n",
       "</table>\n",
       "</div>"
      ],
      "text/plain": [
       "  rating  jp_sales\n",
       "1   E10+      4.46\n",
       "2      M      8.01\n",
       "0      E      8.94\n",
       "3      T     14.78"
      ]
     },
     "metadata": {},
     "output_type": "display_data"
    },
    {
     "data": {
      "text/plain": [
       "([<matplotlib.patches.Wedge at 0x7f48540de450>,\n",
       "  <matplotlib.patches.Wedge at 0x7f48540dec10>,\n",
       "  <matplotlib.patches.Wedge at 0x7f48540e8410>,\n",
       "  <matplotlib.patches.Wedge at 0x7f48540e8c10>],\n",
       " [Text(1.0185814677260552, 0.41532131368981734, 'E10+'),\n",
       "  Text(0.11105522588118688, 1.0943796127507488, 'M'),\n",
       "  Text(-1.07795790129192, 0.21910445692025443, 'E'),\n",
       "  Text(0.3121957320726713, -1.054767189893395, 'T')],\n",
       " [Text(0.555589891486939, 0.22653889837626398, '12.3%'),\n",
       "  Text(0.06057557775337465, 0.596934334227681, '22.1%'),\n",
       "  Text(-0.5879770370683199, 0.1195115219565024, '24.7%'),\n",
       "  Text(0.17028858113054796, -0.5753275581236699, '40.8%')])"
      ]
     },
     "execution_count": 38,
     "metadata": {},
     "output_type": "execute_result"
    },
    {
     "data": {
      "image/png": "[encoded data removed]",
      "text/plain": [
       "<Figure size 432x288 with 1 Axes>"
      ]
     },
     "metadata": {},
     "output_type": "display_data"
    }
   ],
   "source": [
    "games_grouped_rate_jp = game_data.query('rating != \"N/A\"').groupby(['rating'])['jp_sales'].sum().reset_index().sort_values(by='jp_sales').sort_values(by='jp_sales').tail()\n",
    "display(games_grouped_rate_jp)\n",
    "plt.pie(data = games_grouped_rate_jp, x = 'jp_sales', labels = 'rating', autopct='%1.1f%%')"
   ]
  },
  {
   "cell_type": "code",
   "execution_count": 39,
   "metadata": {},
   "outputs": [
    {
     "data": {
      "text/html": [
       "<div>\n",
       "<style scoped>\n",
       "    .dataframe tbody tr th:only-of-type {\n",
       "        vertical-align: middle;\n",
       "    }\n",
       "\n",
       "    .dataframe tbody tr th {\n",
       "        vertical-align: top;\n",
       "    }\n",
       "\n",
       "    .dataframe thead th {\n",
       "        text-align: right;\n",
       "    }\n",
       "</style>\n",
       "<table border=\"1\" class=\"dataframe\">\n",
       "  <thead>\n",
       "    <tr style=\"text-align: right;\">\n",
       "      <th></th>\n",
       "      <th>rating</th>\n",
       "      <th>eu_sales</th>\n",
       "    </tr>\n",
       "  </thead>\n",
       "  <tbody>\n",
       "    <tr>\n",
       "      <td>1</td>\n",
       "      <td>E10+</td>\n",
       "      <td>26.16</td>\n",
       "    </tr>\n",
       "    <tr>\n",
       "      <td>3</td>\n",
       "      <td>T</td>\n",
       "      <td>34.07</td>\n",
       "    </tr>\n",
       "    <tr>\n",
       "      <td>0</td>\n",
       "      <td>E</td>\n",
       "      <td>58.06</td>\n",
       "    </tr>\n",
       "    <tr>\n",
       "      <td>2</td>\n",
       "      <td>M</td>\n",
       "      <td>93.44</td>\n",
       "    </tr>\n",
       "  </tbody>\n",
       "</table>\n",
       "</div>"
      ],
      "text/plain": [
       "  rating  eu_sales\n",
       "1   E10+     26.16\n",
       "3      T     34.07\n",
       "0      E     58.06\n",
       "2      M     93.44"
      ]
     },
     "metadata": {},
     "output_type": "display_data"
    },
    {
     "data": {
      "text/plain": [
       "([<matplotlib.patches.Wedge at 0x7f4853e0ce90>,\n",
       "  <matplotlib.patches.Wedge at 0x7f4853e1a690>,\n",
       "  <matplotlib.patches.Wedge at 0x7f4853e1ae50>,\n",
       "  <matplotlib.patches.Wedge at 0x7f4853e24690>],\n",
       " [Text(1.018169825887484, 0.4163294436528006, 'E10+'),\n",
       "  Text(0.3134562078436083, 1.0543932879928175, 'T'),\n",
       "  Text(-0.9691330152148051, 0.5203664082362162, 'E'),\n",
       "  Text(0.20164761723381816, -1.0813594399939013, 'M')],\n",
       " [Text(0.5553653595749912, 0.22708878744698213, '12.4%'),\n",
       "  Text(0.17097611336924085, 0.5751236116324459, '16.1%'),\n",
       "  Text(-0.5286180082989845, 0.2838362226742997, '27.4%'),\n",
       "  Text(0.10998960940026443, -0.5898324218148552, '44.1%')])"
      ]
     },
     "execution_count": 39,
     "metadata": {},
     "output_type": "execute_result"
    },
    {
     "data": {
      "image/png": "[encoded data removed]",
      "text/plain": [
       "<Figure size 432x288 with 1 Axes>"
      ]
     },
     "metadata": {},
     "output_type": "display_data"
    }
   ],
   "source": [
    "games_grouped_rate_eu = game_data.query('rating != \"N/A\"').groupby(['rating'])['eu_sales'].sum().reset_index().sort_values(by='eu_sales').sort_values(by='eu_sales').tail()\n",
    "display(games_grouped_rate_eu)\n",
    "plt.pie(data = games_grouped_rate_eu, x = 'eu_sales', labels = 'rating', autopct='%1.1f%%')"
   ]
  },
  {
   "cell_type": "code",
   "execution_count": 40,
   "metadata": {},
   "outputs": [
    {
     "data": {
      "text/html": [
       "<div>\n",
       "<style scoped>\n",
       "    .dataframe tbody tr th:only-of-type {\n",
       "        vertical-align: middle;\n",
       "    }\n",
       "\n",
       "    .dataframe tbody tr th {\n",
       "        vertical-align: top;\n",
       "    }\n",
       "\n",
       "    .dataframe thead th {\n",
       "        text-align: right;\n",
       "    }\n",
       "</style>\n",
       "<table border=\"1\" class=\"dataframe\">\n",
       "  <thead>\n",
       "    <tr style=\"text-align: right;\">\n",
       "      <th></th>\n",
       "      <th>rating</th>\n",
       "      <th>na_sales</th>\n",
       "    </tr>\n",
       "  </thead>\n",
       "  <tbody>\n",
       "    <tr>\n",
       "      <td>1</td>\n",
       "      <td>E10+</td>\n",
       "      <td>33.23</td>\n",
       "    </tr>\n",
       "    <tr>\n",
       "      <td>3</td>\n",
       "      <td>T</td>\n",
       "      <td>38.95</td>\n",
       "    </tr>\n",
       "    <tr>\n",
       "      <td>0</td>\n",
       "      <td>E</td>\n",
       "      <td>50.74</td>\n",
       "    </tr>\n",
       "    <tr>\n",
       "      <td>2</td>\n",
       "      <td>M</td>\n",
       "      <td>96.42</td>\n",
       "    </tr>\n",
       "  </tbody>\n",
       "</table>\n",
       "</div>"
      ],
      "text/plain": [
       "  rating  na_sales\n",
       "1   E10+     33.23\n",
       "3      T     38.95\n",
       "0      E     50.74\n",
       "2      M     96.42"
      ]
     },
     "metadata": {},
     "output_type": "display_data"
    },
    {
     "data": {
      "text/plain": [
       "([<matplotlib.patches.Wedge at 0x7f4853def810>,\n",
       "  <matplotlib.patches.Wedge at 0x7f4853deffd0>,\n",
       "  <matplotlib.patches.Wedge at 0x7f4853dfb7d0>,\n",
       "  <matplotlib.patches.Wedge at 0x7f4853dfbfd0>],\n",
       " [Text(0.9777430534257524, 0.5040025014597511, 'E10+'),\n",
       "  Text(0.06707559743759202, 1.0979530337079042, 'T'),\n",
       "  Text(-1.0343665997311269, 0.3742802925090592, 'E'),\n",
       "  Text(0.20750605664868402, -1.0802505433713576, 'M')],\n",
       " [Text(0.5333143927776831, 0.2749104553416824, '15.1%'),\n",
       "  Text(0.03658668951141383, 0.5988834729315841, '17.8%'),\n",
       "  Text(-0.5641999634897056, 0.2041528868231232, '23.1%'),\n",
       "  Text(0.11318512180837309, -0.5892275691116495, '44.0%')])"
      ]
     },
     "execution_count": 40,
     "metadata": {},
     "output_type": "execute_result"
    },
    {
     "data": {
      "image/png": "[encoded data removed]",
      "text/plain": [
       "<Figure size 432x288 with 1 Axes>"
      ]
     },
     "metadata": {},
     "output_type": "display_data"
    }
   ],
   "source": [
    "games_grouped_rate_na = game_data.query('rating != \"N/A\"').groupby(['rating'])['na_sales'].sum().reset_index().sort_values(by='na_sales').sort_values(by='na_sales').tail()\n",
    "display(games_grouped_rate_na)\n",
    "plt.pie(data = games_grouped_rate_na, x = 'na_sales', labels = 'rating', autopct='%1.1f%%')"
   ]
  },
  {
   "cell_type": "markdown",
   "metadata": {},
   "source": [
    "<div class=\"alert alert-block alert-danger\">\n",
    "<s><b>Reviewer's comment v1</b> \n",
    "        \n",
    "Could we display this data as a percentage in a pie chart? This will make it much easier to take in information.\n",
    "\n",
    "</div>\n",
    "\n",
    "<div class=\"alert alert-block alert-info\">\n",
    "<b>Student's comment v1</b> \n",
    "\n",
    "Nice idea! Here we go! (It really helped realize the differences between each category, I didn't look at them this way before)\n",
    "    \n",
    "    (CORRECTED)\n",
    "</div>\n",
    "    \n",
    "<div class=\"alert alert-block alert-warning\">\n",
    "<b>Reviewer's comment v2</b> \n",
    "        \n",
    "We could make these graphs even a little better and more informative! Like, we could display percentages on them.\n",
    "\n",
    "</div>\n",
    "<div class=\"alert alert-block alert-info\">    \n",
    "<b>Student's comment v1</b> \n",
    "\n",
    "Yep!\n",
    "    \n",
    "    (CORRECTED)\n",
    "</div>\n",
    "<div class=\"alert alert-block alert-success\">\n",
    "<b>Reviewer's comment v3</b> \n",
    "        \n",
    "Now we know exactly the percentage of each part of the pie-chart!\n",
    "\n",
    "</div>"
   ]
  },
  {
   "cell_type": "markdown",
   "metadata": {},
   "source": [
    "Judging by the tables above, ESRT ratings doesn't have an impact on the regional sales. We can see that the same ESRB ratings are the top 3 on the 3 regions meaning that an ESRB rating popularity and sales aren't affected by the region and their popularity is just universal and not related to the region.\n",
    "\n",
    "**To sum up:**\n",
    "\n",
    "In this part of the research, we checked whether several factors have an impact on regional sales. Factors like **platform**, **genre** and **rating** could have an impact on the region. It is very reasonable to be this way because every region has its own culture, life-style and rules, so we would expect that different regions might have different popular platforms or different genres as their top 5. After we completed the research, we found out that this isn't quite true, and the platforms, genres and ESRB ratings that performed the best universally, are the same platforms, genres and ESRB ratings that performed best regionally with slight unsignificant changes here and there. Meaning, there was no relation or impact by region on those factors."
   ]
  },
  {
   "cell_type": "markdown",
   "metadata": {},
   "source": [
    "<div class=\"alert alert-block alert-success\">\n",
    "<b>Reviewer's comment v1</b> \n",
    "        \n",
    "It's great to write detailed conclusions for each section!\n",
    "\n",
    "</div>"
   ]
  },
  {
   "cell_type": "markdown",
   "metadata": {},
   "source": [
    "## Testing hypotheses\n",
    "\n",
    "First hypotheses:\n",
    "\n",
    "**null hypotheses**: Average user ratings of the **Xbox One** and **PC** platforms are the same.\n",
    "\n",
    "**alt. hypotheses**: Average user ratings of the **Xbox One** and **PC** platforms are different.\n"
   ]
  },
  {
   "cell_type": "markdown",
   "metadata": {},
   "source": [
    "<div class=\"alert alert-block alert-success\">\n",
    "<b>Reviewer's comment v1</b> \n",
    "        \n",
    "Perfect hypothesis description!\n",
    "\n",
    "</div>"
   ]
  },
  {
   "cell_type": "code",
   "execution_count": 41,
   "metadata": {},
   "outputs": [
    {
     "data": {
      "text/plain": [
       "LeveneResult(statistic=3.9583403408117968, pvalue=0.04732708903766419)"
      ]
     },
     "execution_count": 41,
     "metadata": {},
     "output_type": "execute_result"
    }
   ],
   "source": [
    "# we start our test with a levene test to check variance similarity\n",
    "xone_data = new_game_data.query('platform == \"XOne\"')\n",
    "pc_data = game_data.query('platform == \"PC\"') # Pc doesn't exist on our new DF new_game_data\n",
    "st.levene(xone_data['user_score'], pc_data['user_score'], center = 'mean')"
   ]
  },
  {
   "cell_type": "code",
   "execution_count": 42,
   "metadata": {},
   "outputs": [
    {
     "name": "stdout",
     "output_type": "stream",
     "text": [
      "p-value:  0.30851317821001123\n",
      "We can't reject the null hypothesis\n"
     ]
    }
   ],
   "source": [
    "# The pvalue of the levene test was small therefore we'll perform the test with 'equal_var' param as False\n",
    "alpha = 0.05 #  if the p-value is less than alpha, we reject the hypothesis\n",
    "\n",
    "result = st.ttest_ind(xone_data['user_score'], pc_data['user_score'], equal_var = False) \n",
    "\n",
    "print('p-value: ', result.pvalue)\n",
    "if (result.pvalue < alpha):\n",
    "    print('We reject the null hypothesis')\n",
    "else:\n",
    "    print(\"We can't reject the null hypothesis\")"
   ]
  },
  {
   "cell_type": "markdown",
   "metadata": {},
   "source": [
    "The null hypotheses cannot be rejected, therefore most probably the average user ratings of the Xbox One and PC platforms are the same, unless we get more data that can prove this hypotheses wrong.\n",
    "\n",
    "Second hypotheses:\n",
    "\n",
    "**null hypotheses**: Average user ratings for the **Action** and **Sports** genres are the same.\n",
    "\n",
    "**alt. hypotheses**: Average user ratings for the **Action** and **Sports** genres are different."
   ]
  },
  {
   "cell_type": "code",
   "execution_count": 43,
   "metadata": {},
   "outputs": [
    {
     "data": {
      "text/plain": [
       "LeveneResult(statistic=108.75819526312337, pvalue=2.0851718560350313e-23)"
      ]
     },
     "execution_count": 43,
     "metadata": {},
     "output_type": "execute_result"
    }
   ],
   "source": [
    "# we start our test with a levene test to check variance similarity\n",
    "action_data = new_game_data.query('genre == \"Action\"')\n",
    "sport_data = new_game_data.query('genre == \"Sports\"')\n",
    "st.levene(action_data['user_score'], sport_data['user_score'], center = 'mean')"
   ]
  },
  {
   "cell_type": "code",
   "execution_count": 44,
   "metadata": {},
   "outputs": [
    {
     "name": "stdout",
     "output_type": "stream",
     "text": [
      "p-value:  0.3013656999140455\n",
      "We can't reject the null hypothesis\n"
     ]
    }
   ],
   "source": [
    "# The pvalue of the levene test was very small therefore we'll perform the test with 'equal_var' param as False\n",
    "alpha = 0.05 #  if the p-value is less than alpha, we reject the hypothesis\n",
    "\n",
    "result = st.ttest_ind(action_data['user_score'], sport_data['user_score'], equal_var = False) \n",
    "\n",
    "print('p-value: ', result.pvalue)\n",
    "if (result.pvalue < alpha):\n",
    "    print('We reject the null hypothesis')\n",
    "else:\n",
    "    print(\"We can't reject the null hypothesis\")"
   ]
  },
  {
   "cell_type": "markdown",
   "metadata": {},
   "source": [
    "The null hypotheses was rejected, meaning that the alt. hypothese should be accepted and the average user ratings for the Action and Sports genres are actually different."
   ]
  },
  {
   "cell_type": "markdown",
   "metadata": {},
   "source": [
    "<div class=\"alert alert-block alert-success\">\n",
    "<b>Reviewer's comment v1</b> \n",
    "        \n",
    "Great job with hypothesis testing!\n",
    "\n",
    "</div>"
   ]
  },
  {
   "cell_type": "markdown",
   "metadata": {},
   "source": [
    "## General Conclusion\n",
    "\n",
    "(1) We started our research by preprocessing the data that we had, just like in any normal research, to make sure that our data is clean enough to be evaluated and studied. We have checked the unique values for each of the columns, to check if there are any strange/irrelevant values that shouldn't exist, we switched the column names and video-game names to lower-case and we dealt with all the missing values, duplicates (there wasn't any) and possibily incorrect values. By now, we have a clean dataframe that is ready for further studying and analyzing.\n",
    "\n",
    "(2) After we were done with the data preprocessing part, we were ready to start our investigation. We start our investigation by checking correlations between the total sales and year of release. Most games were released/highest sales happened after 2000, and due to the irrelevance of the far past to our research, we filtered our data to only include data from 2013 and beyond. Investigating those years, we found out that PS4, XOne, X360 and PS3 had the most sales during 2013 to 2016. We also found out that PS3 and X360 had high global sales due to having too many titles with relatively high sales while the Wii success was due to outliers, titles with abnormally high sales, that contributed to the high total sales of this platform.\n",
    "\n",
    "(3) We finished our first investigation of total sales and year of release and moved on to investigate the impact of user and critic reviews on the success of a title. Video-games' total sales is not dependant on the user and critic reviews, some games that had bad reviews didn't sell alot but some actually did well, even better than games with very good reviews. Also when it came to *good* reviews, there was still no dependance or relation between the critics' and users' reviews and the sales of the games.\n",
    "\n",
    "(4) Finally, we had to investigate not only global sales, but also regional sales. There's always a high possibility to miss a significant factor of great impact just because we are looking at the bigger picture, total sales. Therefore, we started investigating the impact of the several factors on regional sales. Factors like platform, genre and rating could have an impact on the region. It is very reasonable to be this way because every region has its own culture, life-style and rules, so we would expect that different regions might have different popular platforms or different genres as their top 5. After we completed the research, we found out that this isn't quite true, and the platforms, genres and ESRB ratings that performed the best universally, are the same platforms, genres and ESRB ratings that performed best regionally with slight unsignificant changes here and there. Meaning, there was no relation or impact by region on those factors.\n",
    "\n",
    "(5) Finally, after all the investigations that we have performed, we can safely say that there are some factors that impact the total sales of a title. Those factors are **platform**, **genre** and **critic and user reviews**. We found out that certain **genres** have a higher chance of success than other, due to users being more interested in such genres. We also found out that the video-game's availability on each of the most popular **platforms** can really be impactful to the title, not having it available on all of the popular platforms might reduce the sales of the title by alot. Finally, **critic** and **user** reviews turned out to be a determining factor when it comes to sales, and if you wish to have a successful game title, you have to make sure to meet the demands of the critics and the users, otherwise they will destroy you with their reviews, making your title's survival chances drop to the ground!\n",
    "\n",
    "So if you're a developer going to release a title in the upcomin year or a store owner that looks to have the most profits out of selling video-games, then you might want to pay more attention to these factors and you just might become very successful!"
   ]
  },
  {
   "cell_type": "markdown",
   "metadata": {},
   "source": [
    "<div class=\"alert alert-block alert-success\">\n",
    "<b>Reviewer's comment v1</b> \n",
    "    \n",
    "This is one of the most detailed conclusion I've seen. Amazing!\n",
    "\n",
    "</div>"
   ]
  },
  {
   "cell_type": "markdown",
   "metadata": {},
   "source": [
    "<div class=\"alert alert-block alert-warning\">\n",
    "<b>Reviewer's comment v1</b> \n",
    "    \n",
    "Please pay attention to the conclusions, they may change after the changes above.\n",
    "\n",
    "</div>\n",
    "\n",
    "<div class=\"alert alert-block alert-info\">\n",
    "<b>Student's comment v1</b> \n",
    "\n",
    "Yep, changed all conclusions that were related to changed that you suggested!\n",
    "    \n",
    "    (CORRECTED)\n",
    "</div>\n",
    "\n",
    "<div class=\"alert alert-block alert-success\">\n",
    "<b>Reviewer's comment v1</b> \n",
    "    \n",
    "Awesome job!\n",
    "\n",
    "</div>"
   ]
  },
  {
   "cell_type": "markdown",
   "metadata": {},
   "source": [
    "<b> The overall review conclusion v1 </b>\n",
    "    \n",
    "Ameer, thank you for submitting your project! I can see that you've worked really hard on it! I'm really impressed this the amount of work you have done (especially the conclusions). However, there are red comments in the work, which means **the project needs to be improved**.  \n",
    "I would like to list the main issues:  \n",
    "\n",
    "<div class=\"alert alert-block alert-danger\">\n",
    "<s>- Correlation conclusion. <br>\n",
    "- Time period. <br>\n",
    "- New Сharts. <br>\n",
    "- Yellow comments. <br>\n",
    "    \n",
    "</div>  \n",
    "\n",
    "I would also like to note the positive aspects of the project:  \n",
    "<div class=\"alert alert-block alert-success\">\n",
    "- Using different methods for working with your data. It is really great that you can apply these methods on practice, keep it up!   <br>\n",
    "- You project is well-structured and orginized, it was a pleasure for me to review it! <br>\n",
    "- Сuriosity and excellent description of actions and conclusions!\n",
    "</div>  \n",
    "\n",
    "I'm sure that you will be able to improve everything in time! If a comment seems unclear, feel free to ask any question.  \n",
    "Have a nice day!\n",
    "\n",
    "<div class=\"alert alert-block alert-info\">\n",
    "<b>Student's comment v1</b> \n",
    "    \n",
    "Thanks for all the tips! \n",
    "    Have a nice day too!\n",
    "</div>"
   ]
  },
  {
   "cell_type": "markdown",
   "metadata": {},
   "source": [
    "<b> The overall review conclusion v2 </b>\n",
    "    \n",
    "Ameer, thank you for taking the time to correct your project! I'm really glad to see that the part regarding **charts and analysis** is much improved! However, this other part with **the missing values preprocessing in users score and critic score** needs a bit more work. Could you take a second glance at it? \n",
    "    \n",
    "When you get a moment, shoot back a second round of corrections, and I'll take a look to make sure everything is perfect.\n",
    "\n",
    "Keep working, you've got this!\n",
    "Have a nice day!\n",
    "\n",
    "<div class=\"alert alert-block alert-info\">\n",
    "<b>Student's comment v1</b> \n",
    "    \n",
    "Thanks for the review, Alex!\n",
    "* I added percentages for missing values, changed the critics and users reviews to a stub and filtered them later in the analysis part when that was needed, same with the rating column!   \n",
    "* For the the missing values with small percentages, I dropped them as adviced!\n",
    "* I also added percentages for the cakes (pies :D), they look more informative now!\n",
    "    \n",
    "I hope everything is alright now and I wish you a good day, or night :D, ahead!\n",
    "</div>"
   ]
  },
  {
   "cell_type": "markdown",
   "metadata": {},
   "source": [
    "<b> The overall review conclusion v3 </b>\n",
    "    \n",
    "Ameer, your project has been accepted and you can go to the next sprint! \n",
    "    \n",
    "I'm impressed with your hard work, dedication, and speed at completing tasks. Nothing can stop you!\n",
    "    \n",
    "Congratulations!\n",
    "</div>"
   ]
  }
 ],
 "metadata": {
  "ExecuteTimeLog": [
   {
    "duration": 904,
    "start_time": "2022-02-22T12:18:45.509Z"
   },
   {
    "duration": 75,
    "start_time": "2022-02-22T12:18:46.760Z"
   },
   {
    "duration": 357,
    "start_time": "2022-02-22T12:19:54.275Z"
   },
   {
    "duration": 32,
    "start_time": "2022-02-22T12:20:00.302Z"
   },
   {
    "duration": 893,
    "start_time": "2022-02-22T13:19:12.633Z"
   },
   {
    "duration": 76,
    "start_time": "2022-02-22T13:19:13.528Z"
   },
   {
    "duration": 27,
    "start_time": "2022-02-22T13:19:13.607Z"
   },
   {
    "duration": 36,
    "start_time": "2022-02-22T13:19:13.637Z"
   },
   {
    "duration": 40,
    "start_time": "2022-02-22T13:19:13.676Z"
   },
   {
    "duration": 14,
    "start_time": "2022-02-22T13:19:13.718Z"
   },
   {
    "duration": 29,
    "start_time": "2022-02-22T13:19:13.735Z"
   },
   {
    "duration": 25,
    "start_time": "2022-02-22T13:19:13.768Z"
   },
   {
    "duration": 16,
    "start_time": "2022-02-22T13:19:13.827Z"
   },
   {
    "duration": 83,
    "start_time": "2022-02-22T13:19:13.845Z"
   },
   {
    "duration": 58,
    "start_time": "2022-02-22T13:19:13.931Z"
   },
   {
    "duration": 2289,
    "start_time": "2022-02-22T13:19:13.992Z"
   },
   {
    "duration": 67,
    "start_time": "2022-02-22T13:19:16.284Z"
   },
   {
    "duration": 5,
    "start_time": "2022-02-22T13:19:16.353Z"
   },
   {
    "duration": 78,
    "start_time": "2022-02-22T13:19:16.360Z"
   },
   {
    "duration": 20,
    "start_time": "2022-02-22T13:19:16.440Z"
   },
   {
    "duration": 24,
    "start_time": "2022-02-22T13:19:16.462Z"
   },
   {
    "duration": 52,
    "start_time": "2022-02-22T13:19:16.489Z"
   },
   {
    "duration": 32,
    "start_time": "2022-02-22T13:19:16.543Z"
   },
   {
    "duration": 597,
    "start_time": "2022-02-22T13:19:16.577Z"
   },
   {
    "duration": 49,
    "start_time": "2022-02-22T13:19:17.177Z"
   },
   {
    "duration": 1277,
    "start_time": "2022-02-22T13:21:31.554Z"
   },
   {
    "duration": 9,
    "start_time": "2022-02-22T13:29:39.421Z"
   },
   {
    "duration": 38,
    "start_time": "2022-02-22T13:29:43.666Z"
   },
   {
    "duration": 375,
    "start_time": "2022-02-22T13:30:00.497Z"
   },
   {
    "duration": 273,
    "start_time": "2022-02-22T13:30:10.714Z"
   },
   {
    "duration": 20,
    "start_time": "2022-02-22T13:30:20.466Z"
   },
   {
    "duration": 261,
    "start_time": "2022-02-22T13:31:56.497Z"
   },
   {
    "duration": 16,
    "start_time": "2022-02-22T13:32:04.123Z"
   },
   {
    "duration": 28,
    "start_time": "2022-02-22T13:34:37.175Z"
   },
   {
    "duration": 27,
    "start_time": "2022-02-22T13:34:53.302Z"
   },
   {
    "duration": 26,
    "start_time": "2022-02-22T13:34:59.943Z"
   },
   {
    "duration": 1668,
    "start_time": "2022-02-22T13:39:57.130Z"
   },
   {
    "duration": 308,
    "start_time": "2022-02-22T13:40:07.661Z"
   },
   {
    "duration": 312,
    "start_time": "2022-02-22T13:40:22.594Z"
   },
   {
    "duration": 281,
    "start_time": "2022-02-22T13:41:18.634Z"
   },
   {
    "duration": 334,
    "start_time": "2022-02-22T13:41:43.559Z"
   },
   {
    "duration": 28894,
    "start_time": "2022-02-22T13:41:58.257Z"
   },
   {
    "duration": 433,
    "start_time": "2022-02-22T13:42:29.832Z"
   },
   {
    "duration": 349,
    "start_time": "2022-02-22T13:43:24.018Z"
   },
   {
    "duration": -1203,
    "start_time": "2022-02-22T13:43:47.630Z"
   },
   {
    "duration": 35597,
    "start_time": "2022-02-22T13:43:55.224Z"
   },
   {
    "duration": 25209,
    "start_time": "2022-02-22T13:45:08.770Z"
   },
   {
    "duration": 602,
    "start_time": "2022-02-22T13:45:37.557Z"
   },
   {
    "duration": 36625,
    "start_time": "2022-02-22T13:51:17.633Z"
   },
   {
    "duration": 287,
    "start_time": "2022-02-22T13:55:33.144Z"
   },
   {
    "duration": 6319,
    "start_time": "2022-02-22T13:55:43.760Z"
   },
   {
    "duration": 88,
    "start_time": "2022-02-22T13:57:02.322Z"
   },
   {
    "duration": 295,
    "start_time": "2022-02-22T13:57:14.818Z"
   },
   {
    "duration": 291,
    "start_time": "2022-02-22T13:57:22.455Z"
   },
   {
    "duration": 310,
    "start_time": "2022-02-22T13:58:47.151Z"
   },
   {
    "duration": 1320,
    "start_time": "2022-02-22T14:00:44.230Z"
   },
   {
    "duration": 423,
    "start_time": "2022-02-22T14:14:14.163Z"
   },
   {
    "duration": 566,
    "start_time": "2022-02-22T14:14:23.129Z"
   },
   {
    "duration": 508,
    "start_time": "2022-02-22T14:14:32.700Z"
   },
   {
    "duration": 518,
    "start_time": "2022-02-22T14:14:44.984Z"
   },
   {
    "duration": 417,
    "start_time": "2022-02-22T14:18:13.154Z"
   },
   {
    "duration": 592,
    "start_time": "2022-02-22T14:21:21.999Z"
   },
   {
    "duration": 1428,
    "start_time": "2022-02-23T15:07:17.504Z"
   },
   {
    "duration": 92,
    "start_time": "2022-02-23T15:07:18.935Z"
   },
   {
    "duration": 19,
    "start_time": "2022-02-23T15:07:19.031Z"
   },
   {
    "duration": 10,
    "start_time": "2022-02-23T15:07:19.053Z"
   },
   {
    "duration": 22,
    "start_time": "2022-02-23T15:07:19.065Z"
   },
   {
    "duration": 16,
    "start_time": "2022-02-23T15:07:19.090Z"
   },
   {
    "duration": 13,
    "start_time": "2022-02-23T15:07:19.108Z"
   },
   {
    "duration": 10,
    "start_time": "2022-02-23T15:07:19.149Z"
   },
   {
    "duration": 11,
    "start_time": "2022-02-23T15:07:19.163Z"
   },
   {
    "duration": 29,
    "start_time": "2022-02-23T15:07:19.177Z"
   },
   {
    "duration": 44,
    "start_time": "2022-02-23T15:07:19.209Z"
   },
   {
    "duration": 18,
    "start_time": "2022-02-23T15:07:19.256Z"
   },
   {
    "duration": 26,
    "start_time": "2022-02-23T15:07:19.277Z"
   },
   {
    "duration": 52,
    "start_time": "2022-02-23T15:07:19.305Z"
   },
   {
    "duration": 44,
    "start_time": "2022-02-23T15:07:19.360Z"
   },
   {
    "duration": 65,
    "start_time": "2022-02-23T15:07:19.407Z"
   },
   {
    "duration": 23,
    "start_time": "2022-02-23T15:07:19.474Z"
   },
   {
    "duration": 1777,
    "start_time": "2022-02-23T15:07:19.500Z"
   },
   {
    "duration": 15,
    "start_time": "2022-02-23T15:07:21.279Z"
   },
   {
    "duration": 53,
    "start_time": "2022-02-23T15:07:21.296Z"
   },
   {
    "duration": 22,
    "start_time": "2022-02-23T15:07:21.351Z"
   },
   {
    "duration": 32,
    "start_time": "2022-02-23T15:07:21.375Z"
   },
   {
    "duration": 60,
    "start_time": "2022-02-23T15:07:21.410Z"
   },
   {
    "duration": 491,
    "start_time": "2022-02-23T15:07:21.472Z"
   },
   {
    "duration": 10,
    "start_time": "2022-02-23T15:07:21.965Z"
   },
   {
    "duration": 32425,
    "start_time": "2022-02-23T15:07:21.977Z"
   },
   {
    "duration": 1026,
    "start_time": "2022-02-23T15:07:54.409Z"
   },
   {
    "duration": 899,
    "start_time": "2022-02-23T15:07:55.438Z"
   },
   {
    "duration": 1230,
    "start_time": "2022-02-23T15:07:56.340Z"
   },
   {
    "duration": 15,
    "start_time": "2022-02-23T15:07:57.573Z"
   },
   {
    "duration": 17,
    "start_time": "2022-02-23T15:07:57.590Z"
   },
   {
    "duration": 50,
    "start_time": "2022-02-23T15:07:57.610Z"
   },
   {
    "duration": 17,
    "start_time": "2022-02-23T15:07:57.663Z"
   },
   {
    "duration": 14,
    "start_time": "2022-02-23T15:07:57.682Z"
   },
   {
    "duration": 56,
    "start_time": "2022-02-23T15:07:57.699Z"
   },
   {
    "duration": 16,
    "start_time": "2022-02-23T15:07:57.757Z"
   },
   {
    "duration": 15,
    "start_time": "2022-02-23T15:07:57.775Z"
   },
   {
    "duration": 19,
    "start_time": "2022-02-23T15:07:57.792Z"
   },
   {
    "duration": 48,
    "start_time": "2022-02-23T15:07:57.816Z"
   },
   {
    "duration": 15,
    "start_time": "2022-02-23T15:07:57.867Z"
   },
   {
    "duration": 1089,
    "start_time": "2022-02-23T15:07:57.885Z"
   },
   {
    "duration": 1651,
    "start_time": "2022-02-23T21:06:42.956Z"
   },
   {
    "duration": 109,
    "start_time": "2022-02-23T21:06:44.610Z"
   },
   {
    "duration": 26,
    "start_time": "2022-02-23T21:06:44.722Z"
   },
   {
    "duration": 26,
    "start_time": "2022-02-23T21:06:44.754Z"
   },
   {
    "duration": 31,
    "start_time": "2022-02-23T21:06:44.783Z"
   },
   {
    "duration": 27,
    "start_time": "2022-02-23T21:06:44.816Z"
   },
   {
    "duration": 74,
    "start_time": "2022-02-23T21:06:44.846Z"
   },
   {
    "duration": 24,
    "start_time": "2022-02-23T21:06:44.924Z"
   },
   {
    "duration": 45,
    "start_time": "2022-02-23T21:06:44.951Z"
   },
   {
    "duration": 76,
    "start_time": "2022-02-23T21:06:44.999Z"
   },
   {
    "duration": 31,
    "start_time": "2022-02-23T21:06:45.079Z"
   },
   {
    "duration": 31,
    "start_time": "2022-02-23T21:06:45.112Z"
   },
   {
    "duration": 66,
    "start_time": "2022-02-23T21:06:45.146Z"
   },
   {
    "duration": 28,
    "start_time": "2022-02-23T21:06:45.215Z"
   },
   {
    "duration": 105,
    "start_time": "2022-02-23T21:06:45.246Z"
   },
   {
    "duration": 37,
    "start_time": "2022-02-23T21:06:45.354Z"
   },
   {
    "duration": 38,
    "start_time": "2022-02-23T21:06:45.393Z"
   },
   {
    "duration": 1920,
    "start_time": "2022-02-23T21:06:45.433Z"
   },
   {
    "duration": 17,
    "start_time": "2022-02-23T21:06:47.356Z"
   },
   {
    "duration": 58,
    "start_time": "2022-02-23T21:06:47.377Z"
   },
   {
    "duration": 34,
    "start_time": "2022-02-23T21:06:47.450Z"
   },
   {
    "duration": 55,
    "start_time": "2022-02-23T21:06:47.487Z"
   },
   {
    "duration": 28,
    "start_time": "2022-02-23T21:06:47.547Z"
   },
   {
    "duration": 566,
    "start_time": "2022-02-23T21:06:47.579Z"
   },
   {
    "duration": 17,
    "start_time": "2022-02-23T21:06:48.149Z"
   },
   {
    "duration": 397,
    "start_time": "2022-02-23T21:06:48.169Z"
   },
   {
    "duration": 21,
    "start_time": "2022-02-23T21:06:48.569Z"
   },
   {
    "duration": 692,
    "start_time": "2022-02-23T21:06:48.593Z"
   },
   {
    "duration": 698,
    "start_time": "2022-02-23T21:06:49.288Z"
   },
   {
    "duration": 563,
    "start_time": "2022-02-23T21:06:49.989Z"
   },
   {
    "duration": 488,
    "start_time": "2022-02-23T21:06:50.555Z"
   },
   {
    "duration": 25,
    "start_time": "2022-02-23T21:06:51.049Z"
   },
   {
    "duration": 28,
    "start_time": "2022-02-23T21:06:51.077Z"
   },
   {
    "duration": 54,
    "start_time": "2022-02-23T21:06:51.108Z"
   },
   {
    "duration": 17,
    "start_time": "2022-02-23T21:06:51.165Z"
   },
   {
    "duration": 17,
    "start_time": "2022-02-23T21:06:51.184Z"
   },
   {
    "duration": 18,
    "start_time": "2022-02-23T21:06:51.203Z"
   },
   {
    "duration": 20,
    "start_time": "2022-02-23T21:06:51.249Z"
   },
   {
    "duration": 16,
    "start_time": "2022-02-23T21:06:51.272Z"
   },
   {
    "duration": 16,
    "start_time": "2022-02-23T21:06:51.291Z"
   },
   {
    "duration": 61,
    "start_time": "2022-02-23T21:06:51.310Z"
   },
   {
    "duration": 21,
    "start_time": "2022-02-23T21:06:51.374Z"
   },
   {
    "duration": 22,
    "start_time": "2022-02-23T21:06:51.397Z"
   },
   {
    "duration": 29,
    "start_time": "2022-02-23T21:06:51.422Z"
   },
   {
    "duration": 31,
    "start_time": "2022-02-23T21:06:51.455Z"
   },
   {
    "duration": 32,
    "start_time": "2022-02-23T21:06:51.488Z"
   },
   {
    "duration": 2280,
    "start_time": "2022-02-25T11:46:11.179Z"
   },
   {
    "duration": 167,
    "start_time": "2022-02-25T11:46:13.461Z"
   },
   {
    "duration": 5,
    "start_time": "2022-02-25T11:46:13.630Z"
   },
   {
    "duration": 8,
    "start_time": "2022-02-25T11:46:13.637Z"
   },
   {
    "duration": 78,
    "start_time": "2022-02-25T11:46:13.647Z"
   },
   {
    "duration": 6,
    "start_time": "2022-02-25T11:46:13.727Z"
   },
   {
    "duration": 6,
    "start_time": "2022-02-25T11:46:13.735Z"
   },
   {
    "duration": 7,
    "start_time": "2022-02-25T11:46:13.745Z"
   },
   {
    "duration": 69,
    "start_time": "2022-02-25T11:46:13.755Z"
   },
   {
    "duration": 26,
    "start_time": "2022-02-25T11:46:13.826Z"
   },
   {
    "duration": 68,
    "start_time": "2022-02-25T11:46:13.854Z"
   },
   {
    "duration": 26,
    "start_time": "2022-02-25T11:46:13.924Z"
   },
   {
    "duration": 73,
    "start_time": "2022-02-25T11:46:13.952Z"
   },
   {
    "duration": 20,
    "start_time": "2022-02-25T11:46:14.027Z"
   },
   {
    "duration": 93,
    "start_time": "2022-02-25T11:46:14.050Z"
   },
   {
    "duration": 81,
    "start_time": "2022-02-25T11:46:14.146Z"
   },
   {
    "duration": 22,
    "start_time": "2022-02-25T11:46:14.229Z"
   },
   {
    "duration": 1679,
    "start_time": "2022-02-25T11:46:14.253Z"
   },
   {
    "duration": 14,
    "start_time": "2022-02-25T11:46:15.934Z"
   },
   {
    "duration": 92,
    "start_time": "2022-02-25T11:46:15.950Z"
   },
   {
    "duration": 75,
    "start_time": "2022-02-25T11:46:16.044Z"
   },
   {
    "duration": 26,
    "start_time": "2022-02-25T11:46:16.121Z"
   },
   {
    "duration": 69,
    "start_time": "2022-02-25T11:46:16.151Z"
   },
   {
    "duration": 1120,
    "start_time": "2022-02-25T11:46:16.222Z"
   },
   {
    "duration": 9,
    "start_time": "2022-02-25T11:46:17.344Z"
   },
   {
    "duration": 784,
    "start_time": "2022-02-25T11:46:17.355Z"
   },
   {
    "duration": 11,
    "start_time": "2022-02-25T11:46:18.141Z"
   },
   {
    "duration": 790,
    "start_time": "2022-02-25T11:46:18.155Z"
   },
   {
    "duration": 782,
    "start_time": "2022-02-25T11:46:18.947Z"
   },
   {
    "duration": 719,
    "start_time": "2022-02-25T11:46:19.731Z"
   },
   {
    "duration": 689,
    "start_time": "2022-02-25T11:46:20.452Z"
   },
   {
    "duration": 14,
    "start_time": "2022-02-25T11:46:21.143Z"
   },
   {
    "duration": 21,
    "start_time": "2022-02-25T11:46:21.219Z"
   },
   {
    "duration": 13,
    "start_time": "2022-02-25T11:46:21.242Z"
   },
   {
    "duration": 70,
    "start_time": "2022-02-25T11:46:21.258Z"
   },
   {
    "duration": 11,
    "start_time": "2022-02-25T11:46:21.330Z"
   },
   {
    "duration": 9,
    "start_time": "2022-02-25T11:46:21.343Z"
   },
   {
    "duration": 72,
    "start_time": "2022-02-25T11:46:21.354Z"
   },
   {
    "duration": 12,
    "start_time": "2022-02-25T11:46:21.428Z"
   },
   {
    "duration": 10,
    "start_time": "2022-02-25T11:46:21.442Z"
   },
   {
    "duration": 75,
    "start_time": "2022-02-25T11:46:21.453Z"
   },
   {
    "duration": 13,
    "start_time": "2022-02-25T11:46:21.530Z"
   },
   {
    "duration": 10,
    "start_time": "2022-02-25T11:46:21.545Z"
   },
   {
    "duration": 5,
    "start_time": "2022-02-25T11:46:21.619Z"
   },
   {
    "duration": 10,
    "start_time": "2022-02-25T11:46:21.625Z"
   },
   {
    "duration": 5,
    "start_time": "2022-02-25T11:46:21.637Z"
   },
   {
    "duration": 1305,
    "start_time": "2022-02-25T12:58:03.396Z"
   },
   {
    "duration": 72,
    "start_time": "2022-02-25T12:58:04.703Z"
   },
   {
    "duration": 6,
    "start_time": "2022-02-25T12:58:04.777Z"
   },
   {
    "duration": 7,
    "start_time": "2022-02-25T12:58:04.785Z"
   },
   {
    "duration": 40,
    "start_time": "2022-02-25T12:58:04.794Z"
   },
   {
    "duration": 17,
    "start_time": "2022-02-25T12:58:04.836Z"
   },
   {
    "duration": 9,
    "start_time": "2022-02-25T12:58:04.855Z"
   },
   {
    "duration": 10,
    "start_time": "2022-02-25T12:58:04.868Z"
   },
   {
    "duration": 10,
    "start_time": "2022-02-25T12:58:04.880Z"
   },
   {
    "duration": 46,
    "start_time": "2022-02-25T12:58:04.892Z"
   },
   {
    "duration": 9,
    "start_time": "2022-02-25T12:58:04.940Z"
   },
   {
    "duration": 17,
    "start_time": "2022-02-25T12:58:04.951Z"
   },
   {
    "duration": 16,
    "start_time": "2022-02-25T12:58:04.970Z"
   },
   {
    "duration": 50,
    "start_time": "2022-02-25T12:58:04.989Z"
   },
   {
    "duration": 26,
    "start_time": "2022-02-25T12:58:05.041Z"
   },
   {
    "duration": 19,
    "start_time": "2022-02-25T12:58:05.069Z"
   },
   {
    "duration": 54,
    "start_time": "2022-02-25T12:58:05.090Z"
   },
   {
    "duration": 744,
    "start_time": "2022-02-25T12:58:05.146Z"
   },
   {
    "duration": 13,
    "start_time": "2022-02-25T12:58:05.892Z"
   },
   {
    "duration": 37,
    "start_time": "2022-02-25T12:58:05.907Z"
   },
   {
    "duration": 16,
    "start_time": "2022-02-25T12:58:05.946Z"
   },
   {
    "duration": 26,
    "start_time": "2022-02-25T12:58:05.964Z"
   },
   {
    "duration": 39,
    "start_time": "2022-02-25T12:58:05.993Z"
   },
   {
    "duration": 685,
    "start_time": "2022-02-25T12:58:06.035Z"
   },
   {
    "duration": 8,
    "start_time": "2022-02-25T12:58:06.722Z"
   },
   {
    "duration": 279,
    "start_time": "2022-02-25T12:58:06.732Z"
   },
   {
    "duration": 14,
    "start_time": "2022-02-25T12:58:07.013Z"
   },
   {
    "duration": 392,
    "start_time": "2022-02-25T12:58:07.029Z"
   },
   {
    "duration": 391,
    "start_time": "2022-02-25T12:58:07.423Z"
   },
   {
    "duration": 379,
    "start_time": "2022-02-25T12:58:07.815Z"
   },
   {
    "duration": 383,
    "start_time": "2022-02-25T12:58:08.196Z"
   },
   {
    "duration": 14,
    "start_time": "2022-02-25T12:58:08.581Z"
   },
   {
    "duration": 23,
    "start_time": "2022-02-25T12:58:08.597Z"
   },
   {
    "duration": 12,
    "start_time": "2022-02-25T12:58:08.622Z"
   },
   {
    "duration": 12,
    "start_time": "2022-02-25T12:58:08.635Z"
   },
   {
    "duration": 11,
    "start_time": "2022-02-25T12:58:08.649Z"
   },
   {
    "duration": 11,
    "start_time": "2022-02-25T12:58:08.661Z"
   },
   {
    "duration": 47,
    "start_time": "2022-02-25T12:58:08.673Z"
   },
   {
    "duration": 11,
    "start_time": "2022-02-25T12:58:08.723Z"
   },
   {
    "duration": 13,
    "start_time": "2022-02-25T12:58:08.736Z"
   },
   {
    "duration": 10,
    "start_time": "2022-02-25T12:58:08.750Z"
   },
   {
    "duration": 17,
    "start_time": "2022-02-25T12:58:08.762Z"
   },
   {
    "duration": 39,
    "start_time": "2022-02-25T12:58:08.781Z"
   },
   {
    "duration": 5,
    "start_time": "2022-02-25T12:58:08.822Z"
   },
   {
    "duration": 9,
    "start_time": "2022-02-25T12:58:08.829Z"
   },
   {
    "duration": 6,
    "start_time": "2022-02-25T12:58:08.840Z"
   },
   {
    "duration": 1184,
    "start_time": "2022-02-26T16:38:19.585Z"
   },
   {
    "duration": 58,
    "start_time": "2022-02-26T16:38:20.772Z"
   },
   {
    "duration": 5,
    "start_time": "2022-02-26T16:38:20.833Z"
   },
   {
    "duration": 10,
    "start_time": "2022-02-26T16:38:20.841Z"
   },
   {
    "duration": 15,
    "start_time": "2022-02-26T16:38:20.853Z"
   },
   {
    "duration": 33,
    "start_time": "2022-02-26T16:38:20.870Z"
   },
   {
    "duration": 7,
    "start_time": "2022-02-26T16:38:20.905Z"
   },
   {
    "duration": 9,
    "start_time": "2022-02-26T16:38:20.915Z"
   },
   {
    "duration": 11,
    "start_time": "2022-02-26T16:38:20.927Z"
   },
   {
    "duration": 29,
    "start_time": "2022-02-26T16:38:20.940Z"
   },
   {
    "duration": 36,
    "start_time": "2022-02-26T16:38:20.971Z"
   },
   {
    "duration": 15,
    "start_time": "2022-02-26T16:38:21.009Z"
   },
   {
    "duration": 17,
    "start_time": "2022-02-26T16:38:21.026Z"
   },
   {
    "duration": 18,
    "start_time": "2022-02-26T16:38:21.045Z"
   },
   {
    "duration": 55,
    "start_time": "2022-02-26T16:38:21.065Z"
   },
   {
    "duration": 23,
    "start_time": "2022-02-26T16:38:21.122Z"
   },
   {
    "duration": 16,
    "start_time": "2022-02-26T16:38:21.146Z"
   },
   {
    "duration": 1085,
    "start_time": "2022-02-26T16:38:21.164Z"
   },
   {
    "duration": 11,
    "start_time": "2022-02-26T16:38:22.251Z"
   },
   {
    "duration": 38,
    "start_time": "2022-02-26T16:38:22.264Z"
   },
   {
    "duration": 15,
    "start_time": "2022-02-26T16:38:22.304Z"
   },
   {
    "duration": 14,
    "start_time": "2022-02-26T16:38:22.321Z"
   },
   {
    "duration": 15,
    "start_time": "2022-02-26T16:38:22.337Z"
   },
   {
    "duration": 347,
    "start_time": "2022-02-26T16:38:22.354Z"
   },
   {
    "duration": 8,
    "start_time": "2022-02-26T16:38:22.703Z"
   },
   {
    "duration": 252,
    "start_time": "2022-02-26T16:38:22.715Z"
   },
   {
    "duration": 11,
    "start_time": "2022-02-26T16:38:22.969Z"
   },
   {
    "duration": 367,
    "start_time": "2022-02-26T16:38:22.982Z"
   },
   {
    "duration": 360,
    "start_time": "2022-02-26T16:38:23.351Z"
   },
   {
    "duration": 446,
    "start_time": "2022-02-26T16:38:23.713Z"
   },
   {
    "duration": 363,
    "start_time": "2022-02-26T16:38:24.161Z"
   },
   {
    "duration": 13,
    "start_time": "2022-02-26T16:38:24.526Z"
   },
   {
    "duration": 13,
    "start_time": "2022-02-26T16:38:24.540Z"
   },
   {
    "duration": 11,
    "start_time": "2022-02-26T16:38:24.555Z"
   },
   {
    "duration": 41,
    "start_time": "2022-02-26T16:38:24.568Z"
   },
   {
    "duration": 11,
    "start_time": "2022-02-26T16:38:24.611Z"
   },
   {
    "duration": 11,
    "start_time": "2022-02-26T16:38:24.624Z"
   },
   {
    "duration": 10,
    "start_time": "2022-02-26T16:38:24.637Z"
   },
   {
    "duration": 11,
    "start_time": "2022-02-26T16:38:24.649Z"
   },
   {
    "duration": 49,
    "start_time": "2022-02-26T16:38:24.662Z"
   },
   {
    "duration": 11,
    "start_time": "2022-02-26T16:38:24.714Z"
   },
   {
    "duration": 11,
    "start_time": "2022-02-26T16:38:24.727Z"
   },
   {
    "duration": 11,
    "start_time": "2022-02-26T16:38:24.741Z"
   },
   {
    "duration": 5,
    "start_time": "2022-02-26T16:38:24.754Z"
   },
   {
    "duration": 12,
    "start_time": "2022-02-26T16:38:24.801Z"
   },
   {
    "duration": 6,
    "start_time": "2022-02-26T16:38:24.815Z"
   },
   {
    "duration": 1223,
    "start_time": "2022-02-26T16:48:41.980Z"
   },
   {
    "duration": 65,
    "start_time": "2022-02-26T16:48:43.205Z"
   },
   {
    "duration": 5,
    "start_time": "2022-02-26T16:48:43.272Z"
   },
   {
    "duration": 24,
    "start_time": "2022-02-26T16:48:43.278Z"
   },
   {
    "duration": 13,
    "start_time": "2022-02-26T16:48:43.304Z"
   },
   {
    "duration": 8,
    "start_time": "2022-02-26T16:48:43.319Z"
   },
   {
    "duration": 6,
    "start_time": "2022-02-26T16:48:43.329Z"
   },
   {
    "duration": 8,
    "start_time": "2022-02-26T16:48:43.338Z"
   },
   {
    "duration": 8,
    "start_time": "2022-02-26T16:48:43.348Z"
   },
   {
    "duration": 68,
    "start_time": "2022-02-26T16:48:43.358Z"
   },
   {
    "duration": 21,
    "start_time": "2022-02-26T16:48:43.428Z"
   },
   {
    "duration": 16,
    "start_time": "2022-02-26T16:48:43.451Z"
   },
   {
    "duration": 33,
    "start_time": "2022-02-26T16:48:43.469Z"
   },
   {
    "duration": 17,
    "start_time": "2022-02-26T16:48:43.504Z"
   },
   {
    "duration": 31,
    "start_time": "2022-02-26T16:48:43.523Z"
   },
   {
    "duration": 25,
    "start_time": "2022-02-26T16:48:43.556Z"
   },
   {
    "duration": 17,
    "start_time": "2022-02-26T16:48:43.601Z"
   },
   {
    "duration": 1046,
    "start_time": "2022-02-26T16:48:43.620Z"
   },
   {
    "duration": 12,
    "start_time": "2022-02-26T16:48:44.668Z"
   },
   {
    "duration": 37,
    "start_time": "2022-02-26T16:48:44.682Z"
   },
   {
    "duration": 16,
    "start_time": "2022-02-26T16:48:44.721Z"
   },
   {
    "duration": 356,
    "start_time": "2022-02-26T16:48:44.739Z"
   },
   {
    "duration": 8,
    "start_time": "2022-02-26T16:48:45.098Z"
   },
   {
    "duration": 250,
    "start_time": "2022-02-26T16:48:45.108Z"
   },
   {
    "duration": 12,
    "start_time": "2022-02-26T16:48:45.360Z"
   },
   {
    "duration": 375,
    "start_time": "2022-02-26T16:48:45.374Z"
   },
   {
    "duration": 518,
    "start_time": "2022-02-26T16:48:45.751Z"
   },
   {
    "duration": 629,
    "start_time": "2022-02-26T16:48:46.272Z"
   },
   {
    "duration": 449,
    "start_time": "2022-02-26T16:48:46.903Z"
   },
   {
    "duration": 14,
    "start_time": "2022-02-26T16:48:47.354Z"
   },
   {
    "duration": 31,
    "start_time": "2022-02-26T16:48:47.370Z"
   },
   {
    "duration": 12,
    "start_time": "2022-02-26T16:48:47.403Z"
   },
   {
    "duration": 18,
    "start_time": "2022-02-26T16:48:47.417Z"
   },
   {
    "duration": 21,
    "start_time": "2022-02-26T16:48:47.437Z"
   },
   {
    "duration": 14,
    "start_time": "2022-02-26T16:48:47.460Z"
   },
   {
    "duration": 29,
    "start_time": "2022-02-26T16:48:47.476Z"
   },
   {
    "duration": 13,
    "start_time": "2022-02-26T16:48:47.507Z"
   },
   {
    "duration": 12,
    "start_time": "2022-02-26T16:48:47.523Z"
   },
   {
    "duration": 17,
    "start_time": "2022-02-26T16:48:47.537Z"
   },
   {
    "duration": 45,
    "start_time": "2022-02-26T16:48:47.556Z"
   },
   {
    "duration": 13,
    "start_time": "2022-02-26T16:48:47.603Z"
   },
   {
    "duration": 6,
    "start_time": "2022-02-26T16:48:47.618Z"
   },
   {
    "duration": 19,
    "start_time": "2022-02-26T16:48:47.626Z"
   },
   {
    "duration": 6,
    "start_time": "2022-02-26T16:48:47.647Z"
   },
   {
    "duration": 593,
    "start_time": "2022-02-26T16:49:07.714Z"
   },
   {
    "duration": 286,
    "start_time": "2022-02-26T16:49:16.962Z"
   },
   {
    "duration": 9,
    "start_time": "2022-02-26T16:51:39.698Z"
   },
   {
    "duration": 222,
    "start_time": "2022-02-26T16:51:53.399Z"
   },
   {
    "duration": 10,
    "start_time": "2022-02-26T16:54:16.716Z"
   },
   {
    "duration": 313,
    "start_time": "2022-02-26T16:54:18.454Z"
   },
   {
    "duration": 325,
    "start_time": "2022-02-26T16:55:53.800Z"
   },
   {
    "duration": 397,
    "start_time": "2022-02-26T16:57:34.185Z"
   },
   {
    "duration": 342,
    "start_time": "2022-02-26T16:57:54.978Z"
   },
   {
    "duration": 358,
    "start_time": "2022-02-26T16:58:06.963Z"
   },
   {
    "duration": 324,
    "start_time": "2022-02-26T16:58:12.036Z"
   },
   {
    "duration": 12,
    "start_time": "2022-02-26T16:58:24.237Z"
   },
   {
    "duration": 201,
    "start_time": "2022-02-26T17:08:39.216Z"
   },
   {
    "duration": 844,
    "start_time": "2022-02-26T17:08:48.401Z"
   },
   {
    "duration": 72,
    "start_time": "2022-02-26T17:09:10.011Z"
   },
   {
    "duration": 965,
    "start_time": "2022-02-26T17:09:44.405Z"
   },
   {
    "duration": 658,
    "start_time": "2022-02-26T17:10:10.647Z"
   },
   {
    "duration": 555,
    "start_time": "2022-02-26T17:10:26.822Z"
   },
   {
    "duration": 313,
    "start_time": "2022-02-26T17:11:06.083Z"
   },
   {
    "duration": 577,
    "start_time": "2022-02-26T17:12:39.789Z"
   },
   {
    "duration": 238,
    "start_time": "2022-02-26T17:17:06.203Z"
   },
   {
    "duration": 377,
    "start_time": "2022-02-26T17:17:20.517Z"
   },
   {
    "duration": 232,
    "start_time": "2022-02-26T17:17:34.771Z"
   },
   {
    "duration": 371,
    "start_time": "2022-02-26T17:17:43.841Z"
   },
   {
    "duration": 511,
    "start_time": "2022-02-26T17:17:59.136Z"
   },
   {
    "duration": 355,
    "start_time": "2022-02-26T17:44:31.027Z"
   },
   {
    "duration": 348,
    "start_time": "2022-02-26T17:44:40.822Z"
   },
   {
    "duration": 216,
    "start_time": "2022-02-26T17:55:26.944Z"
   },
   {
    "duration": 286,
    "start_time": "2022-02-26T17:55:42.163Z"
   },
   {
    "duration": 101,
    "start_time": "2022-02-26T17:56:05.230Z"
   },
   {
    "duration": 1477,
    "start_time": "2022-02-26T17:56:36.237Z"
   },
   {
    "duration": 99,
    "start_time": "2022-02-26T17:56:46.560Z"
   },
   {
    "duration": 220,
    "start_time": "2022-02-26T18:02:47.656Z"
   },
   {
    "duration": 231,
    "start_time": "2022-02-26T18:03:00.976Z"
   },
   {
    "duration": 247,
    "start_time": "2022-02-26T18:04:02.042Z"
   },
   {
    "duration": 202,
    "start_time": "2022-02-26T18:04:10.935Z"
   },
   {
    "duration": 405,
    "start_time": "2022-02-26T18:04:21.227Z"
   },
   {
    "duration": 70,
    "start_time": "2022-02-26T18:04:27.544Z"
   },
   {
    "duration": 203,
    "start_time": "2022-02-26T18:04:40.568Z"
   },
   {
    "duration": 73,
    "start_time": "2022-02-26T18:04:47.203Z"
   },
   {
    "duration": 83,
    "start_time": "2022-02-26T18:06:02.540Z"
   },
   {
    "duration": 414,
    "start_time": "2022-02-26T18:06:16.599Z"
   },
   {
    "duration": 87,
    "start_time": "2022-02-26T18:06:31.083Z"
   },
   {
    "duration": 77,
    "start_time": "2022-02-26T18:07:13.294Z"
   },
   {
    "duration": 364,
    "start_time": "2022-02-26T18:07:57.261Z"
   },
   {
    "duration": 75,
    "start_time": "2022-02-26T18:08:18.702Z"
   },
   {
    "duration": 77,
    "start_time": "2022-02-26T18:08:39.676Z"
   },
   {
    "duration": 71,
    "start_time": "2022-02-26T18:09:18.815Z"
   },
   {
    "duration": 170,
    "start_time": "2022-02-26T18:09:50.715Z"
   },
   {
    "duration": 73,
    "start_time": "2022-02-26T18:10:05.728Z"
   },
   {
    "duration": 104,
    "start_time": "2022-02-26T18:10:55.228Z"
   },
   {
    "duration": 211,
    "start_time": "2022-02-26T18:11:06.508Z"
   },
   {
    "duration": 124,
    "start_time": "2022-02-26T18:11:29.492Z"
   },
   {
    "duration": 83,
    "start_time": "2022-02-26T18:29:09.265Z"
   },
   {
    "duration": 90,
    "start_time": "2022-02-26T18:29:23.461Z"
   },
   {
    "duration": 78,
    "start_time": "2022-02-26T18:29:26.868Z"
   },
   {
    "duration": 88,
    "start_time": "2022-02-26T18:29:34.632Z"
   },
   {
    "duration": 92,
    "start_time": "2022-02-26T18:29:39.314Z"
   },
   {
    "duration": 103,
    "start_time": "2022-02-26T18:29:43.560Z"
   },
   {
    "duration": 108,
    "start_time": "2022-02-26T18:30:14.181Z"
   },
   {
    "duration": 72,
    "start_time": "2022-02-26T18:30:19.388Z"
   },
   {
    "duration": 267,
    "start_time": "2022-02-26T18:31:09.939Z"
   },
   {
    "duration": 89,
    "start_time": "2022-02-26T18:31:26.237Z"
   },
   {
    "duration": 109,
    "start_time": "2022-02-26T18:31:39.343Z"
   },
   {
    "duration": 98,
    "start_time": "2022-02-26T18:31:52.275Z"
   },
   {
    "duration": 79,
    "start_time": "2022-02-26T18:32:00.833Z"
   },
   {
    "duration": 77,
    "start_time": "2022-02-26T18:32:30.119Z"
   },
   {
    "duration": 87,
    "start_time": "2022-02-26T18:33:16.906Z"
   },
   {
    "duration": 82,
    "start_time": "2022-02-26T18:36:29.566Z"
   },
   {
    "duration": 85,
    "start_time": "2022-02-26T18:36:34.804Z"
   },
   {
    "duration": 84,
    "start_time": "2022-02-26T18:36:36.731Z"
   },
   {
    "duration": 88,
    "start_time": "2022-02-26T18:36:37.398Z"
   },
   {
    "duration": 185,
    "start_time": "2022-02-26T18:36:37.927Z"
   },
   {
    "duration": 74,
    "start_time": "2022-02-26T18:36:39.154Z"
   },
   {
    "duration": 82,
    "start_time": "2022-02-26T18:36:39.726Z"
   },
   {
    "duration": 77,
    "start_time": "2022-02-26T18:36:40.217Z"
   },
   {
    "duration": 1184,
    "start_time": "2022-02-26T19:01:01.619Z"
   },
   {
    "duration": 71,
    "start_time": "2022-02-26T19:01:02.805Z"
   },
   {
    "duration": 6,
    "start_time": "2022-02-26T19:01:02.878Z"
   },
   {
    "duration": 20,
    "start_time": "2022-02-26T19:01:02.886Z"
   },
   {
    "duration": 26,
    "start_time": "2022-02-26T19:01:02.909Z"
   },
   {
    "duration": 25,
    "start_time": "2022-02-26T19:01:02.937Z"
   },
   {
    "duration": 42,
    "start_time": "2022-02-26T19:01:02.964Z"
   },
   {
    "duration": 34,
    "start_time": "2022-02-26T19:01:03.009Z"
   },
   {
    "duration": 34,
    "start_time": "2022-02-26T19:01:03.047Z"
   },
   {
    "duration": 55,
    "start_time": "2022-02-26T19:01:03.083Z"
   },
   {
    "duration": 36,
    "start_time": "2022-02-26T19:01:03.140Z"
   },
   {
    "duration": 24,
    "start_time": "2022-02-26T19:01:03.178Z"
   },
   {
    "duration": 37,
    "start_time": "2022-02-26T19:01:03.204Z"
   },
   {
    "duration": 31,
    "start_time": "2022-02-26T19:01:03.243Z"
   },
   {
    "duration": 45,
    "start_time": "2022-02-26T19:01:03.275Z"
   },
   {
    "duration": 35,
    "start_time": "2022-02-26T19:01:03.322Z"
   },
   {
    "duration": 39,
    "start_time": "2022-02-26T19:01:03.358Z"
   },
   {
    "duration": 1052,
    "start_time": "2022-02-26T19:01:03.399Z"
   },
   {
    "duration": 13,
    "start_time": "2022-02-26T19:01:04.453Z"
   },
   {
    "duration": 39,
    "start_time": "2022-02-26T19:01:04.468Z"
   },
   {
    "duration": 15,
    "start_time": "2022-02-26T19:01:04.509Z"
   },
   {
    "duration": 304,
    "start_time": "2022-02-26T19:01:04.526Z"
   },
   {
    "duration": 8,
    "start_time": "2022-02-26T19:01:04.834Z"
   },
   {
    "duration": 228,
    "start_time": "2022-02-26T19:01:04.844Z"
   },
   {
    "duration": 9,
    "start_time": "2022-02-26T19:01:05.073Z"
   },
   {
    "duration": 328,
    "start_time": "2022-02-26T19:01:05.084Z"
   },
   {
    "duration": 388,
    "start_time": "2022-02-26T19:01:05.413Z"
   },
   {
    "duration": 461,
    "start_time": "2022-02-26T19:01:05.802Z"
   },
   {
    "duration": 402,
    "start_time": "2022-02-26T19:01:06.265Z"
   },
   {
    "duration": 393,
    "start_time": "2022-02-26T19:01:06.669Z"
   },
   {
    "duration": 12,
    "start_time": "2022-02-26T19:01:07.064Z"
   },
   {
    "duration": 148,
    "start_time": "2022-02-26T19:01:07.078Z"
   },
   {
    "duration": 92,
    "start_time": "2022-02-26T19:01:07.228Z"
   },
   {
    "duration": 94,
    "start_time": "2022-02-26T19:01:07.322Z"
   },
   {
    "duration": 97,
    "start_time": "2022-02-26T19:01:07.419Z"
   },
   {
    "duration": 103,
    "start_time": "2022-02-26T19:01:07.518Z"
   },
   {
    "duration": 107,
    "start_time": "2022-02-26T19:01:07.624Z"
   },
   {
    "duration": 102,
    "start_time": "2022-02-26T19:01:07.733Z"
   },
   {
    "duration": 96,
    "start_time": "2022-02-26T19:01:07.837Z"
   },
   {
    "duration": 84,
    "start_time": "2022-02-26T19:01:07.934Z"
   },
   {
    "duration": 90,
    "start_time": "2022-02-26T19:01:08.020Z"
   },
   {
    "duration": 11,
    "start_time": "2022-02-26T19:01:08.112Z"
   },
   {
    "duration": 27,
    "start_time": "2022-02-26T19:01:08.125Z"
   },
   {
    "duration": 18,
    "start_time": "2022-02-26T19:01:08.154Z"
   },
   {
    "duration": 27,
    "start_time": "2022-02-26T19:01:08.174Z"
   },
   {
    "duration": 5,
    "start_time": "2022-02-26T19:03:55.533Z"
   },
   {
    "duration": 56,
    "start_time": "2022-02-28T18:29:14.098Z"
   },
   {
    "duration": 216,
    "start_time": "2022-02-28T18:29:23.219Z"
   },
   {
    "duration": 1061,
    "start_time": "2022-02-28T18:29:31.876Z"
   },
   {
    "duration": 62,
    "start_time": "2022-02-28T18:29:32.939Z"
   },
   {
    "duration": 4,
    "start_time": "2022-02-28T18:29:33.003Z"
   },
   {
    "duration": 14,
    "start_time": "2022-02-28T18:29:33.009Z"
   },
   {
    "duration": 14,
    "start_time": "2022-02-28T18:29:33.024Z"
   },
   {
    "duration": 6,
    "start_time": "2022-02-28T18:29:33.039Z"
   },
   {
    "duration": 11,
    "start_time": "2022-02-28T18:29:33.046Z"
   },
   {
    "duration": 9,
    "start_time": "2022-02-28T18:29:33.059Z"
   },
   {
    "duration": 8,
    "start_time": "2022-02-28T18:29:33.069Z"
   },
   {
    "duration": 18,
    "start_time": "2022-02-28T18:29:33.078Z"
   },
   {
    "duration": 11,
    "start_time": "2022-02-28T18:29:33.098Z"
   },
   {
    "duration": 36,
    "start_time": "2022-02-28T18:29:33.110Z"
   },
   {
    "duration": 16,
    "start_time": "2022-02-28T18:29:33.147Z"
   },
   {
    "duration": 14,
    "start_time": "2022-02-28T18:29:33.165Z"
   },
   {
    "duration": 22,
    "start_time": "2022-02-28T18:29:33.181Z"
   },
   {
    "duration": 41,
    "start_time": "2022-02-28T18:29:33.205Z"
   },
   {
    "duration": 14,
    "start_time": "2022-02-28T18:29:33.248Z"
   },
   {
    "duration": 933,
    "start_time": "2022-02-28T18:29:33.264Z"
   },
   {
    "duration": 10,
    "start_time": "2022-02-28T18:29:34.198Z"
   },
   {
    "duration": 32,
    "start_time": "2022-02-28T18:29:34.209Z"
   },
   {
    "duration": 14,
    "start_time": "2022-02-28T18:29:34.243Z"
   },
   {
    "duration": 289,
    "start_time": "2022-02-28T18:29:34.258Z"
   },
   {
    "duration": 8,
    "start_time": "2022-02-28T18:29:34.550Z"
   },
   {
    "duration": 211,
    "start_time": "2022-02-28T18:29:34.560Z"
   },
   {
    "duration": 9,
    "start_time": "2022-02-28T18:29:34.773Z"
   },
   {
    "duration": 300,
    "start_time": "2022-02-28T18:29:34.783Z"
   },
   {
    "duration": 357,
    "start_time": "2022-02-28T18:29:35.085Z"
   },
   {
    "duration": 406,
    "start_time": "2022-02-28T18:29:35.444Z"
   },
   {
    "duration": 334,
    "start_time": "2022-02-28T18:29:35.852Z"
   },
   {
    "duration": 309,
    "start_time": "2022-02-28T18:29:36.187Z"
   },
   {
    "duration": 12,
    "start_time": "2022-02-28T18:29:36.498Z"
   },
   {
    "duration": 131,
    "start_time": "2022-02-28T18:29:36.512Z"
   },
   {
    "duration": 74,
    "start_time": "2022-02-28T18:29:36.645Z"
   },
   {
    "duration": 88,
    "start_time": "2022-02-28T18:29:36.720Z"
   },
   {
    "duration": 93,
    "start_time": "2022-02-28T18:29:36.809Z"
   },
   {
    "duration": 92,
    "start_time": "2022-02-28T18:29:36.903Z"
   },
   {
    "duration": 98,
    "start_time": "2022-02-28T18:29:36.996Z"
   },
   {
    "duration": 93,
    "start_time": "2022-02-28T18:29:37.096Z"
   },
   {
    "duration": 86,
    "start_time": "2022-02-28T18:29:37.192Z"
   },
   {
    "duration": 86,
    "start_time": "2022-02-28T18:29:37.279Z"
   },
   {
    "duration": 80,
    "start_time": "2022-02-28T18:29:37.366Z"
   },
   {
    "duration": 9,
    "start_time": "2022-02-28T18:29:37.447Z"
   },
   {
    "duration": 13,
    "start_time": "2022-02-28T18:29:37.457Z"
   },
   {
    "duration": 31,
    "start_time": "2022-02-28T18:29:37.472Z"
   },
   {
    "duration": 30,
    "start_time": "2022-02-28T18:29:37.504Z"
   },
   {
    "duration": 272,
    "start_time": "2022-02-28T18:30:45.459Z"
   },
   {
    "duration": 7,
    "start_time": "2022-02-28T18:31:05.677Z"
   },
   {
    "duration": 9,
    "start_time": "2022-02-28T18:31:29.371Z"
   },
   {
    "duration": 12,
    "start_time": "2022-02-28T18:31:51.367Z"
   },
   {
    "duration": 13,
    "start_time": "2022-02-28T18:32:28.681Z"
   },
   {
    "duration": 11,
    "start_time": "2022-02-28T18:32:59.072Z"
   },
   {
    "duration": 1158,
    "start_time": "2022-02-28T18:33:05.626Z"
   },
   {
    "duration": 60,
    "start_time": "2022-02-28T18:33:06.786Z"
   },
   {
    "duration": 4,
    "start_time": "2022-02-28T18:33:06.847Z"
   },
   {
    "duration": 11,
    "start_time": "2022-02-28T18:33:06.853Z"
   },
   {
    "duration": 15,
    "start_time": "2022-02-28T18:33:06.866Z"
   },
   {
    "duration": 5,
    "start_time": "2022-02-28T18:33:06.883Z"
   },
   {
    "duration": 7,
    "start_time": "2022-02-28T18:33:06.890Z"
   },
   {
    "duration": 7,
    "start_time": "2022-02-28T18:33:06.899Z"
   },
   {
    "duration": 32,
    "start_time": "2022-02-28T18:33:06.908Z"
   },
   {
    "duration": 19,
    "start_time": "2022-02-28T18:33:06.942Z"
   },
   {
    "duration": 23,
    "start_time": "2022-02-28T18:33:06.963Z"
   },
   {
    "duration": 13,
    "start_time": "2022-02-28T18:33:06.987Z"
   },
   {
    "duration": 41,
    "start_time": "2022-02-28T18:33:07.002Z"
   },
   {
    "duration": 16,
    "start_time": "2022-02-28T18:33:07.045Z"
   },
   {
    "duration": 21,
    "start_time": "2022-02-28T18:33:07.063Z"
   },
   {
    "duration": 22,
    "start_time": "2022-02-28T18:33:07.086Z"
   },
   {
    "duration": 42,
    "start_time": "2022-02-28T18:33:07.110Z"
   },
   {
    "duration": 945,
    "start_time": "2022-02-28T18:33:07.153Z"
   },
   {
    "duration": 11,
    "start_time": "2022-02-28T18:33:08.099Z"
   },
   {
    "duration": 36,
    "start_time": "2022-02-28T18:33:08.112Z"
   },
   {
    "duration": 14,
    "start_time": "2022-02-28T18:33:08.150Z"
   },
   {
    "duration": 302,
    "start_time": "2022-02-28T18:33:08.166Z"
   },
   {
    "duration": 8,
    "start_time": "2022-02-28T18:33:08.471Z"
   },
   {
    "duration": 220,
    "start_time": "2022-02-28T18:33:08.481Z"
   },
   {
    "duration": 9,
    "start_time": "2022-02-28T18:33:08.703Z"
   },
   {
    "duration": 316,
    "start_time": "2022-02-28T18:33:08.714Z"
   },
   {
    "duration": 365,
    "start_time": "2022-02-28T18:33:09.031Z"
   },
   {
    "duration": 396,
    "start_time": "2022-02-28T18:33:09.398Z"
   },
   {
    "duration": 325,
    "start_time": "2022-02-28T18:33:09.796Z"
   },
   {
    "duration": 358,
    "start_time": "2022-02-28T18:33:10.123Z"
   },
   {
    "duration": 14,
    "start_time": "2022-02-28T18:33:10.483Z"
   },
   {
    "duration": 174,
    "start_time": "2022-02-28T18:33:10.499Z"
   },
   {
    "duration": 181,
    "start_time": "2022-02-28T18:33:10.674Z"
   },
   {
    "duration": 183,
    "start_time": "2022-02-28T18:33:10.857Z"
   },
   {
    "duration": 73,
    "start_time": "2022-02-28T18:33:11.041Z"
   },
   {
    "duration": 95,
    "start_time": "2022-02-28T18:33:11.116Z"
   },
   {
    "duration": 96,
    "start_time": "2022-02-28T18:33:11.212Z"
   },
   {
    "duration": 94,
    "start_time": "2022-02-28T18:33:11.310Z"
   },
   {
    "duration": 84,
    "start_time": "2022-02-28T18:33:11.406Z"
   },
   {
    "duration": 84,
    "start_time": "2022-02-28T18:33:11.492Z"
   },
   {
    "duration": 73,
    "start_time": "2022-02-28T18:33:11.578Z"
   },
   {
    "duration": 10,
    "start_time": "2022-02-28T18:33:11.653Z"
   },
   {
    "duration": 9,
    "start_time": "2022-02-28T18:33:11.664Z"
   },
   {
    "duration": 12,
    "start_time": "2022-02-28T18:33:11.674Z"
   },
   {
    "duration": 8,
    "start_time": "2022-02-28T18:33:11.687Z"
   },
   {
    "duration": 5,
    "start_time": "2022-02-28T18:35:35.521Z"
   },
   {
    "duration": 12,
    "start_time": "2022-02-28T18:35:39.712Z"
   },
   {
    "duration": 1072,
    "start_time": "2022-02-28T18:36:14.067Z"
   },
   {
    "duration": 65,
    "start_time": "2022-02-28T18:36:15.142Z"
   },
   {
    "duration": 5,
    "start_time": "2022-02-28T18:36:15.647Z"
   },
   {
    "duration": 8,
    "start_time": "2022-02-28T18:36:16.490Z"
   },
   {
    "duration": 12,
    "start_time": "2022-02-28T18:36:16.909Z"
   },
   {
    "duration": 6,
    "start_time": "2022-02-28T18:36:17.546Z"
   },
   {
    "duration": 7,
    "start_time": "2022-02-28T18:36:19.529Z"
   },
   {
    "duration": 7,
    "start_time": "2022-02-28T18:36:19.985Z"
   },
   {
    "duration": 8,
    "start_time": "2022-02-28T18:36:21.030Z"
   },
   {
    "duration": 20,
    "start_time": "2022-02-28T18:36:26.581Z"
   },
   {
    "duration": 18,
    "start_time": "2022-02-28T18:36:28.479Z"
   },
   {
    "duration": 6,
    "start_time": "2022-02-28T18:36:32.233Z"
   },
   {
    "duration": 16,
    "start_time": "2022-02-28T18:36:35.416Z"
   },
   {
    "duration": 8,
    "start_time": "2022-02-28T18:37:44.445Z"
   },
   {
    "duration": 6,
    "start_time": "2022-02-28T18:38:04.959Z"
   },
   {
    "duration": 5,
    "start_time": "2022-02-28T18:42:42.968Z"
   },
   {
    "duration": 15,
    "start_time": "2022-02-28T18:42:46.526Z"
   },
   {
    "duration": 268,
    "start_time": "2022-02-28T18:43:58.922Z"
   },
   {
    "duration": 16,
    "start_time": "2022-02-28T18:44:06.713Z"
   },
   {
    "duration": 538,
    "start_time": "2022-02-28T18:44:09.958Z"
   },
   {
    "duration": 20,
    "start_time": "2022-02-28T18:44:34.193Z"
   },
   {
    "duration": 514,
    "start_time": "2022-02-28T18:45:19.108Z"
   },
   {
    "duration": 1057,
    "start_time": "2022-02-28T18:46:23.733Z"
   },
   {
    "duration": 57,
    "start_time": "2022-02-28T18:46:24.793Z"
   },
   {
    "duration": 4,
    "start_time": "2022-02-28T18:46:24.852Z"
   },
   {
    "duration": 10,
    "start_time": "2022-02-28T18:46:24.858Z"
   },
   {
    "duration": 12,
    "start_time": "2022-02-28T18:46:24.870Z"
   },
   {
    "duration": 5,
    "start_time": "2022-02-28T18:46:24.884Z"
   },
   {
    "duration": 8,
    "start_time": "2022-02-28T18:46:24.891Z"
   },
   {
    "duration": 7,
    "start_time": "2022-02-28T18:46:24.901Z"
   },
   {
    "duration": 30,
    "start_time": "2022-02-28T18:46:24.910Z"
   },
   {
    "duration": 18,
    "start_time": "2022-02-28T18:46:24.941Z"
   },
   {
    "duration": 22,
    "start_time": "2022-02-28T18:46:24.960Z"
   },
   {
    "duration": 11,
    "start_time": "2022-02-28T18:46:24.983Z"
   },
   {
    "duration": 16,
    "start_time": "2022-02-28T18:46:24.996Z"
   },
   {
    "duration": 15,
    "start_time": "2022-02-28T18:46:25.038Z"
   },
   {
    "duration": 7,
    "start_time": "2022-02-28T18:46:25.055Z"
   },
   {
    "duration": 21,
    "start_time": "2022-02-28T18:46:25.063Z"
   },
   {
    "duration": 14,
    "start_time": "2022-02-28T18:46:25.086Z"
   },
   {
    "duration": 38,
    "start_time": "2022-02-28T18:46:25.101Z"
   },
   {
    "duration": 21,
    "start_time": "2022-02-28T18:46:25.140Z"
   },
   {
    "duration": 14,
    "start_time": "2022-02-28T18:46:25.162Z"
   },
   {
    "duration": 311,
    "start_time": "2022-02-28T18:46:25.177Z"
   },
   {
    "duration": 7,
    "start_time": "2022-02-28T18:46:25.490Z"
   },
   {
    "duration": 216,
    "start_time": "2022-02-28T18:46:25.500Z"
   },
   {
    "duration": 23,
    "start_time": "2022-02-28T18:46:25.718Z"
   },
   {
    "duration": 305,
    "start_time": "2022-02-28T18:46:25.742Z"
   },
   {
    "duration": 361,
    "start_time": "2022-02-28T18:46:26.049Z"
   },
   {
    "duration": 366,
    "start_time": "2022-02-28T18:46:26.412Z"
   },
   {
    "duration": 309,
    "start_time": "2022-02-28T18:46:26.779Z"
   },
   {
    "duration": 385,
    "start_time": "2022-02-28T18:46:27.089Z"
   },
   {
    "duration": 12,
    "start_time": "2022-02-28T18:46:27.476Z"
   },
   {
    "duration": 126,
    "start_time": "2022-02-28T18:46:27.490Z"
   },
   {
    "duration": 85,
    "start_time": "2022-02-28T18:46:27.617Z"
   },
   {
    "duration": 87,
    "start_time": "2022-02-28T18:46:27.703Z"
   },
   {
    "duration": 87,
    "start_time": "2022-02-28T18:46:27.791Z"
   },
   {
    "duration": 94,
    "start_time": "2022-02-28T18:46:27.880Z"
   },
   {
    "duration": 87,
    "start_time": "2022-02-28T18:46:27.975Z"
   },
   {
    "duration": 86,
    "start_time": "2022-02-28T18:46:28.063Z"
   },
   {
    "duration": 67,
    "start_time": "2022-02-28T18:46:28.150Z"
   },
   {
    "duration": 87,
    "start_time": "2022-02-28T18:46:28.219Z"
   },
   {
    "duration": 86,
    "start_time": "2022-02-28T18:46:28.308Z"
   },
   {
    "duration": 8,
    "start_time": "2022-02-28T18:46:28.396Z"
   },
   {
    "duration": 7,
    "start_time": "2022-02-28T18:46:28.406Z"
   },
   {
    "duration": 28,
    "start_time": "2022-02-28T18:46:28.415Z"
   },
   {
    "duration": 4,
    "start_time": "2022-02-28T18:46:28.444Z"
   },
   {
    "duration": 374,
    "start_time": "2022-02-28T18:48:08.514Z"
   },
   {
    "duration": 323,
    "start_time": "2022-02-28T18:48:14.261Z"
   },
   {
    "duration": 12,
    "start_time": "2022-02-28T18:48:18.827Z"
   },
   {
    "duration": 315,
    "start_time": "2022-02-28T18:49:02.072Z"
   },
   {
    "duration": 351,
    "start_time": "2022-02-28T18:49:06.538Z"
   },
   {
    "duration": 429,
    "start_time": "2022-02-28T18:49:33.446Z"
   },
   {
    "duration": 350,
    "start_time": "2022-02-28T18:49:36.830Z"
   },
   {
    "duration": 14,
    "start_time": "2022-02-28T18:49:40.032Z"
   },
   {
    "duration": 336,
    "start_time": "2022-02-28T18:50:24.833Z"
   },
   {
    "duration": 338,
    "start_time": "2022-02-28T18:50:28.561Z"
   },
   {
    "duration": 12,
    "start_time": "2022-02-28T18:50:31.191Z"
   },
   {
    "duration": 1090,
    "start_time": "2022-02-28T18:51:35.011Z"
   },
   {
    "duration": 60,
    "start_time": "2022-02-28T18:51:36.103Z"
   },
   {
    "duration": 5,
    "start_time": "2022-02-28T18:51:36.165Z"
   },
   {
    "duration": 18,
    "start_time": "2022-02-28T18:51:36.171Z"
   },
   {
    "duration": 16,
    "start_time": "2022-02-28T18:51:36.190Z"
   },
   {
    "duration": 7,
    "start_time": "2022-02-28T18:51:36.207Z"
   },
   {
    "duration": 9,
    "start_time": "2022-02-28T18:51:36.216Z"
   },
   {
    "duration": 6,
    "start_time": "2022-02-28T18:51:36.239Z"
   },
   {
    "duration": 10,
    "start_time": "2022-02-28T18:51:36.247Z"
   },
   {
    "duration": 21,
    "start_time": "2022-02-28T18:51:36.258Z"
   },
   {
    "duration": 16,
    "start_time": "2022-02-28T18:51:36.281Z"
   },
   {
    "duration": 40,
    "start_time": "2022-02-28T18:51:36.298Z"
   },
   {
    "duration": 16,
    "start_time": "2022-02-28T18:51:36.340Z"
   },
   {
    "duration": 16,
    "start_time": "2022-02-28T18:51:36.358Z"
   },
   {
    "duration": 11,
    "start_time": "2022-02-28T18:51:36.376Z"
   },
   {
    "duration": 23,
    "start_time": "2022-02-28T18:51:36.389Z"
   },
   {
    "duration": 37,
    "start_time": "2022-02-28T18:51:36.414Z"
   },
   {
    "duration": 13,
    "start_time": "2022-02-28T18:51:36.453Z"
   },
   {
    "duration": 21,
    "start_time": "2022-02-28T18:51:36.468Z"
   },
   {
    "duration": 56,
    "start_time": "2022-02-28T18:51:36.491Z"
   },
   {
    "duration": 296,
    "start_time": "2022-02-28T18:51:36.549Z"
   },
   {
    "duration": 7,
    "start_time": "2022-02-28T18:51:36.847Z"
   },
   {
    "duration": 227,
    "start_time": "2022-02-28T18:51:36.857Z"
   },
   {
    "duration": 9,
    "start_time": "2022-02-28T18:51:37.086Z"
   },
   {
    "duration": 321,
    "start_time": "2022-02-28T18:51:37.097Z"
   },
   {
    "duration": 349,
    "start_time": "2022-02-28T18:51:37.420Z"
   },
   {
    "duration": 325,
    "start_time": "2022-02-28T18:51:37.770Z"
   },
   {
    "duration": 340,
    "start_time": "2022-02-28T18:51:38.097Z"
   },
   {
    "duration": 380,
    "start_time": "2022-02-28T18:51:38.439Z"
   },
   {
    "duration": 16,
    "start_time": "2022-02-28T18:51:38.822Z"
   },
   {
    "duration": 127,
    "start_time": "2022-02-28T18:51:38.840Z"
   },
   {
    "duration": 82,
    "start_time": "2022-02-28T18:51:38.969Z"
   },
   {
    "duration": 89,
    "start_time": "2022-02-28T18:51:39.053Z"
   },
   {
    "duration": 100,
    "start_time": "2022-02-28T18:51:39.143Z"
   },
   {
    "duration": 74,
    "start_time": "2022-02-28T18:51:39.244Z"
   },
   {
    "duration": 93,
    "start_time": "2022-02-28T18:51:39.320Z"
   },
   {
    "duration": 92,
    "start_time": "2022-02-28T18:51:39.415Z"
   },
   {
    "duration": 84,
    "start_time": "2022-02-28T18:51:39.508Z"
   },
   {
    "duration": 83,
    "start_time": "2022-02-28T18:51:39.594Z"
   },
   {
    "duration": 85,
    "start_time": "2022-02-28T18:51:39.678Z"
   },
   {
    "duration": 9,
    "start_time": "2022-02-28T18:51:39.765Z"
   },
   {
    "duration": 6,
    "start_time": "2022-02-28T18:51:39.776Z"
   },
   {
    "duration": 14,
    "start_time": "2022-02-28T18:51:39.783Z"
   },
   {
    "duration": 8,
    "start_time": "2022-02-28T18:51:39.798Z"
   },
   {
    "duration": 368,
    "start_time": "2022-02-28T18:52:12.430Z"
   },
   {
    "duration": 291,
    "start_time": "2022-02-28T18:52:16.786Z"
   },
   {
    "duration": 12,
    "start_time": "2022-02-28T18:52:22.355Z"
   },
   {
    "duration": 6,
    "start_time": "2022-02-28T18:56:59.164Z"
   },
   {
    "duration": 89,
    "start_time": "2022-02-28T19:05:31.680Z"
   },
   {
    "duration": 1257,
    "start_time": "2022-02-28T19:06:02.843Z"
   },
   {
    "duration": 58,
    "start_time": "2022-02-28T19:06:04.101Z"
   },
   {
    "duration": 4,
    "start_time": "2022-02-28T19:06:04.161Z"
   },
   {
    "duration": 15,
    "start_time": "2022-02-28T19:06:04.167Z"
   },
   {
    "duration": 14,
    "start_time": "2022-02-28T19:06:04.184Z"
   },
   {
    "duration": 6,
    "start_time": "2022-02-28T19:06:04.200Z"
   },
   {
    "duration": 7,
    "start_time": "2022-02-28T19:06:04.207Z"
   },
   {
    "duration": 27,
    "start_time": "2022-02-28T19:06:04.217Z"
   },
   {
    "duration": 12,
    "start_time": "2022-02-28T19:06:04.246Z"
   },
   {
    "duration": 23,
    "start_time": "2022-02-28T19:06:04.259Z"
   },
   {
    "duration": 17,
    "start_time": "2022-02-28T19:06:04.283Z"
   },
   {
    "duration": 46,
    "start_time": "2022-02-28T19:06:04.302Z"
   },
   {
    "duration": 15,
    "start_time": "2022-02-28T19:06:04.349Z"
   },
   {
    "duration": 16,
    "start_time": "2022-02-28T19:06:04.366Z"
   },
   {
    "duration": 11,
    "start_time": "2022-02-28T19:06:04.383Z"
   },
   {
    "duration": 7,
    "start_time": "2022-02-28T19:06:04.395Z"
   },
   {
    "duration": 42,
    "start_time": "2022-02-28T19:06:04.404Z"
   },
   {
    "duration": 11,
    "start_time": "2022-02-28T19:06:04.447Z"
   },
   {
    "duration": 21,
    "start_time": "2022-02-28T19:06:04.459Z"
   },
   {
    "duration": 14,
    "start_time": "2022-02-28T19:06:04.481Z"
   },
   {
    "duration": 317,
    "start_time": "2022-02-28T19:06:04.496Z"
   },
   {
    "duration": 7,
    "start_time": "2022-02-28T19:06:04.814Z"
   },
   {
    "duration": 209,
    "start_time": "2022-02-28T19:06:04.837Z"
   },
   {
    "duration": 10,
    "start_time": "2022-02-28T19:06:05.049Z"
   },
   {
    "duration": 345,
    "start_time": "2022-02-28T19:06:05.062Z"
   },
   {
    "duration": 370,
    "start_time": "2022-02-28T19:06:05.409Z"
   },
   {
    "duration": 349,
    "start_time": "2022-02-28T19:06:05.784Z"
   },
   {
    "duration": 356,
    "start_time": "2022-02-28T19:06:06.135Z"
   },
   {
    "duration": 410,
    "start_time": "2022-02-28T19:06:06.493Z"
   },
   {
    "duration": 12,
    "start_time": "2022-02-28T19:06:06.905Z"
   },
   {
    "duration": 141,
    "start_time": "2022-02-28T19:06:06.919Z"
   },
   {
    "duration": 104,
    "start_time": "2022-02-28T19:06:07.061Z"
   },
   {
    "duration": 95,
    "start_time": "2022-02-28T19:06:07.166Z"
   },
   {
    "duration": 101,
    "start_time": "2022-02-28T19:06:07.263Z"
   },
   {
    "duration": 102,
    "start_time": "2022-02-28T19:06:07.366Z"
   },
   {
    "duration": 102,
    "start_time": "2022-02-28T19:06:07.470Z"
   },
   {
    "duration": 101,
    "start_time": "2022-02-28T19:06:07.574Z"
   },
   {
    "duration": 95,
    "start_time": "2022-02-28T19:06:07.676Z"
   },
   {
    "duration": 98,
    "start_time": "2022-02-28T19:06:07.772Z"
   },
   {
    "duration": 98,
    "start_time": "2022-02-28T19:06:07.872Z"
   },
   {
    "duration": 9,
    "start_time": "2022-02-28T19:06:07.971Z"
   },
   {
    "duration": 19,
    "start_time": "2022-02-28T19:06:07.982Z"
   },
   {
    "duration": 33,
    "start_time": "2022-02-28T19:06:08.003Z"
   },
   {
    "duration": 19,
    "start_time": "2022-02-28T19:06:08.038Z"
   },
   {
    "duration": 135,
    "start_time": "2022-02-28T19:07:40.182Z"
   },
   {
    "duration": 320,
    "start_time": "2022-02-28T19:11:44.458Z"
   },
   {
    "duration": 311,
    "start_time": "2022-02-28T19:11:46.704Z"
   },
   {
    "duration": 1060,
    "start_time": "2022-02-28T19:24:22.852Z"
   },
   {
    "duration": 56,
    "start_time": "2022-02-28T19:24:23.914Z"
   },
   {
    "duration": 4,
    "start_time": "2022-02-28T19:24:23.972Z"
   },
   {
    "duration": 13,
    "start_time": "2022-02-28T19:24:23.978Z"
   },
   {
    "duration": 15,
    "start_time": "2022-02-28T19:24:23.993Z"
   },
   {
    "duration": 6,
    "start_time": "2022-02-28T19:24:24.009Z"
   },
   {
    "duration": 24,
    "start_time": "2022-02-28T19:24:24.017Z"
   },
   {
    "duration": 11,
    "start_time": "2022-02-28T19:24:24.044Z"
   },
   {
    "duration": 8,
    "start_time": "2022-02-28T19:24:24.057Z"
   },
   {
    "duration": 21,
    "start_time": "2022-02-28T19:24:24.066Z"
   },
   {
    "duration": 16,
    "start_time": "2022-02-28T19:24:24.089Z"
   },
   {
    "duration": 39,
    "start_time": "2022-02-28T19:24:24.106Z"
   },
   {
    "duration": 16,
    "start_time": "2022-02-28T19:24:24.146Z"
   },
   {
    "duration": 15,
    "start_time": "2022-02-28T19:24:24.163Z"
   },
   {
    "duration": 13,
    "start_time": "2022-02-28T19:24:24.180Z"
   },
   {
    "duration": 10,
    "start_time": "2022-02-28T19:24:24.194Z"
   },
   {
    "duration": 37,
    "start_time": "2022-02-28T19:24:24.205Z"
   },
   {
    "duration": 12,
    "start_time": "2022-02-28T19:24:24.243Z"
   },
   {
    "duration": 23,
    "start_time": "2022-02-28T19:24:24.257Z"
   },
   {
    "duration": 16,
    "start_time": "2022-02-28T19:24:24.282Z"
   },
   {
    "duration": 326,
    "start_time": "2022-02-28T19:24:24.300Z"
   },
   {
    "duration": 15,
    "start_time": "2022-02-28T19:24:24.628Z"
   },
   {
    "duration": 218,
    "start_time": "2022-02-28T19:24:24.647Z"
   },
   {
    "duration": 9,
    "start_time": "2022-02-28T19:24:24.868Z"
   },
   {
    "duration": 319,
    "start_time": "2022-02-28T19:24:24.878Z"
   },
   {
    "duration": 348,
    "start_time": "2022-02-28T19:24:25.199Z"
   },
   {
    "duration": 334,
    "start_time": "2022-02-28T19:24:25.549Z"
   },
   {
    "duration": 323,
    "start_time": "2022-02-28T19:24:25.885Z"
   },
   {
    "duration": 383,
    "start_time": "2022-02-28T19:24:26.210Z"
   },
   {
    "duration": 11,
    "start_time": "2022-02-28T19:24:26.595Z"
   },
   {
    "duration": 234,
    "start_time": "2022-02-28T19:24:26.607Z"
   },
   {
    "duration": 100,
    "start_time": "2022-02-28T19:24:26.842Z"
   },
   {
    "duration": 98,
    "start_time": "2022-02-28T19:24:26.944Z"
   },
   {
    "duration": 103,
    "start_time": "2022-02-28T19:24:27.044Z"
   },
   {
    "duration": 98,
    "start_time": "2022-02-28T19:24:27.149Z"
   },
   {
    "duration": 104,
    "start_time": "2022-02-28T19:24:27.248Z"
   },
   {
    "duration": 95,
    "start_time": "2022-02-28T19:24:27.354Z"
   },
   {
    "duration": 92,
    "start_time": "2022-02-28T19:24:27.451Z"
   },
   {
    "duration": 77,
    "start_time": "2022-02-28T19:24:27.544Z"
   },
   {
    "duration": 92,
    "start_time": "2022-02-28T19:24:27.623Z"
   },
   {
    "duration": 28,
    "start_time": "2022-02-28T19:24:27.717Z"
   },
   {
    "duration": 10,
    "start_time": "2022-02-28T19:24:27.747Z"
   },
   {
    "duration": 11,
    "start_time": "2022-02-28T19:24:27.759Z"
   },
   {
    "duration": 5,
    "start_time": "2022-02-28T19:24:27.772Z"
   }
  ],
  "kernelspec": {
   "display_name": "Python 3 (ipykernel)",
   "language": "python",
   "name": "python3"
  },
  "language_info": {
   "codemirror_mode": {
    "name": "ipython",
    "version": 3
   },
   "file_extension": ".py",
   "mimetype": "text/x-python",
   "name": "python",
   "nbconvert_exporter": "python",
   "pygments_lexer": "ipython3",
   "version": "3.9.5"
  },
  "toc": {
   "base_numbering": 1,
   "nav_menu": {},
   "number_sections": true,
   "sideBar": true,
   "skip_h1_title": true,
   "title_cell": "Table of Contents",
   "title_sidebar": "Contents",
   "toc_cell": false,
   "toc_position": {
    "height": "calc(100% - 180px)",
    "left": "10px",
    "top": "150px",
    "width": "289.6px"
   },
   "toc_section_display": true,
   "toc_window_display": false
  }
 },
 "nbformat": 4,
 "nbformat_minor": 2
}
